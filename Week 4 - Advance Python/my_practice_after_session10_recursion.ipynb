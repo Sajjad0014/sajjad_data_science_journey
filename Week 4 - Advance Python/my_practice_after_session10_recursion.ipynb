{
 "cells": [
  {
   "metadata": {},
   "cell_type": "markdown",
   "source": [
    "# Let's assume we don't have multiplication feature a*b\n",
    " 4 * 5\n",
    "\n",
    "It is repeated addition 4 * 4 * 4 * 4 * 4"
   ],
   "id": "9ba62c2a2e6682f3"
  },
  {
   "metadata": {
    "ExecuteTime": {
     "end_time": "2024-09-14T19:43:56.531472Z",
     "start_time": "2024-09-14T19:43:56.528154Z"
    }
   },
   "cell_type": "code",
   "source": [
    "def multiply(a, b):\n",
    "    result = 0\n",
    "\n",
    "    for i in range(b):\n",
    "        result = result + a\n",
    "\n",
    "    print(result)\n",
    "\n",
    "\n",
    "multiply(4, 5)"
   ],
   "id": "39cfb8535fb4a6c0",
   "outputs": [
    {
     "name": "stdout",
     "output_type": "stream",
     "text": [
      "20\n"
     ]
    }
   ],
   "execution_count": 3
  },
  {
   "metadata": {
    "ExecuteTime": {
     "end_time": "2024-09-14T19:48:01.408990Z",
     "start_time": "2024-09-14T19:48:01.405212Z"
    }
   },
   "cell_type": "code",
   "source": [
    "# Let's make the above using recursion.\n",
    "# Step 1 For this we need to find out the base condition\n",
    "# Step 2 We should know how to decompose\n",
    "\n",
    "# 3, 4\n",
    "# We can write it like\n",
    "# 3 + 3 + 3 + 3 \n",
    "# 3 + 3*3\n",
    "# 3 + 3 + 2*3\n",
    "# 3 + 3 + 3 + 3*1 \n",
    "\n",
    "# At the end when b = 1, a*b => a\n",
    "\n",
    "def mul(a, b):\n",
    "    if b == 1:\n",
    "        return a\n",
    "    else:\n",
    "        return a + mul(a, b - 1)\n",
    "\n",
    "\n",
    "print(mul(5, 6))\n"
   ],
   "id": "7c6215527842e628",
   "outputs": [
    {
     "name": "stdout",
     "output_type": "stream",
     "text": [
      "30\n"
     ]
    }
   ],
   "execution_count": 4
  },
  {
   "metadata": {},
   "cell_type": "code",
   "outputs": [],
   "execution_count": null,
   "source": "# Above function resembles stack. LIFO",
   "id": "67881aade43db139"
  },
  {
   "metadata": {},
   "cell_type": "markdown",
   "source": "# Factorial\n",
   "id": "10c19398692f0ebc"
  },
  {
   "metadata": {
    "ExecuteTime": {
     "end_time": "2024-09-14T19:53:38.119707Z",
     "start_time": "2024-09-14T19:53:38.113740Z"
    }
   },
   "cell_type": "code",
   "source": [
    "# for this we know the base case, that is 1! = 1\n",
    "\n",
    "def fact(number):\n",
    "    if number == 1:\n",
    "        return 1\n",
    "    else:\n",
    "        return number * fact(number - 1)\n",
    "\n",
    "\n",
    "fact(5)"
   ],
   "id": "f1875d0c76e40ecc",
   "outputs": [
    {
     "data": {
      "text/plain": [
       "120"
      ]
     },
     "execution_count": 5,
     "metadata": {},
     "output_type": "execute_result"
    }
   ],
   "execution_count": 5
  },
  {
   "metadata": {},
   "cell_type": "markdown",
   "source": [
    "# Palindrome\n",
    "\n",
    "Logic - Any string with one element is a palindrome\n",
    "\n",
    "len(str) == 1\n",
    "\n",
    "palindrome\n",
    "\n",
    "\n",
    "!= \n",
    "\n",
    "match 1st and last\n",
    "\n",
    "\n",
    "again \n",
    "\n",
    "match 2nd and last 2nd"
   ],
   "id": "20101efd53b1cce5"
  },
  {
   "metadata": {
    "ExecuteTime": {
     "end_time": "2024-09-14T20:00:25.575784Z",
     "start_time": "2024-09-14T20:00:25.572307Z"
    }
   },
   "cell_type": "code",
   "source": [
    "def palin(text):\n",
    "    if len(text) <= 1:\n",
    "        print('Palindrome')\n",
    "    else:\n",
    "        if text[0] == text[-1]:\n",
    "            palin(text[1:-1])\n",
    "        else:\n",
    "            print('Not a Palindrome')\n",
    "\n",
    "\n",
    "print(palin('madam'))\n",
    "print(palin('apurupa'))\n",
    "print(palin('python'))\n",
    "print(palin('abba'))"
   ],
   "id": "2f51f7a4ce77598d",
   "outputs": [
    {
     "name": "stdout",
     "output_type": "stream",
     "text": [
      "Palindrome\n",
      "None\n",
      "Palindrome\n",
      "None\n",
      "Not a Palindrome\n",
      "None\n",
      "Palindrome\n",
      "None\n"
     ]
    }
   ],
   "execution_count": 9
  },
  {
   "metadata": {},
   "cell_type": "markdown",
   "source": "# The Rabbit problem",
   "id": "44d72e532000caae"
  },
  {
   "metadata": {
    "ExecuteTime": {
     "end_time": "2024-09-14T22:12:03.704699Z",
     "start_time": "2024-09-14T22:11:52.995804Z"
    }
   },
   "cell_type": "code",
   "source": [
    "import time\n",
    "\n",
    "\n",
    "def fib(month):\n",
    "    if month == 0 or month == 1:\n",
    "        return 1\n",
    "    else:\n",
    "        return fib(month - 1) + fib(month - 2)\n",
    "\n",
    "\n",
    "start = time.time()\n",
    "for i in range(37):\n",
    "    print(f'Month - {i} => {fib(month=i)} Pairs')\n",
    "\n",
    "print(time.time() - start)\n",
    "# 2 ^ 37 times"
   ],
   "id": "cc1c463e344a5918",
   "outputs": [
    {
     "name": "stdout",
     "output_type": "stream",
     "text": [
      "Month - 0 => 1 Pairs\n",
      "Month - 1 => 1 Pairs\n",
      "Month - 2 => 2 Pairs\n",
      "Month - 3 => 3 Pairs\n",
      "Month - 4 => 5 Pairs\n",
      "Month - 5 => 8 Pairs\n",
      "Month - 6 => 13 Pairs\n",
      "Month - 7 => 21 Pairs\n",
      "Month - 8 => 34 Pairs\n",
      "Month - 9 => 55 Pairs\n",
      "Month - 10 => 89 Pairs\n",
      "Month - 11 => 144 Pairs\n",
      "Month - 12 => 233 Pairs\n",
      "Month - 13 => 377 Pairs\n",
      "Month - 14 => 610 Pairs\n",
      "Month - 15 => 987 Pairs\n",
      "Month - 16 => 1597 Pairs\n",
      "Month - 17 => 2584 Pairs\n",
      "Month - 18 => 4181 Pairs\n",
      "Month - 19 => 6765 Pairs\n",
      "Month - 20 => 10946 Pairs\n",
      "Month - 21 => 17711 Pairs\n",
      "Month - 22 => 28657 Pairs\n",
      "Month - 23 => 46368 Pairs\n",
      "Month - 24 => 75025 Pairs\n",
      "Month - 25 => 121393 Pairs\n",
      "Month - 26 => 196418 Pairs\n",
      "Month - 27 => 317811 Pairs\n",
      "Month - 28 => 514229 Pairs\n",
      "Month - 29 => 832040 Pairs\n",
      "Month - 30 => 1346269 Pairs\n",
      "Month - 31 => 2178309 Pairs\n",
      "Month - 32 => 3524578 Pairs\n",
      "Month - 33 => 5702887 Pairs\n",
      "Month - 34 => 9227465 Pairs\n",
      "Month - 35 => 14930352 Pairs\n",
      "Month - 36 => 24157817 Pairs\n",
      "Month - 37 => 39088169 Pairs\n",
      "10.704932928085327\n"
     ]
    }
   ],
   "execution_count": 22
  },
  {
   "metadata": {
    "ExecuteTime": {
     "end_time": "2024-09-14T22:20:15.258050Z",
     "start_time": "2024-09-14T22:20:15.253786Z"
    }
   },
   "cell_type": "code",
   "source": [
    "# memoization\n",
    "# from Dynamic Programming\n",
    "\n",
    "def memo(m, dic):\n",
    "    if m in dic:\n",
    "        return dic[m]\n",
    "    else:\n",
    "        d[m] = memo(m - 1, dic) + memo(m - 1, dic)\n",
    "        # print(dic)\n",
    "        return d[m]\n",
    "\n",
    "\n",
    "d = {0: 1,\n",
    "     1: 1}\n",
    "\n",
    "start = time.time()\n",
    "print(memo(50, d))\n",
    "print(time.time() - start)\n",
    "print(d)"
   ],
   "id": "f8eeea11059ed92c",
   "outputs": [
    {
     "name": "stdout",
     "output_type": "stream",
     "text": [
      "562949953421312\n",
      "0.0\n",
      "{0: 1, 1: 1, 2: 2, 3: 4, 4: 8, 5: 16, 6: 32, 7: 64, 8: 128, 9: 256, 10: 512, 11: 1024, 12: 2048, 13: 4096, 14: 8192, 15: 16384, 16: 32768, 17: 65536, 18: 131072, 19: 262144, 20: 524288, 21: 1048576, 22: 2097152, 23: 4194304, 24: 8388608, 25: 16777216, 26: 33554432, 27: 67108864, 28: 134217728, 29: 268435456, 30: 536870912, 31: 1073741824, 32: 2147483648, 33: 4294967296, 34: 8589934592, 35: 17179869184, 36: 34359738368, 37: 68719476736, 38: 137438953472, 39: 274877906944, 40: 549755813888, 41: 1099511627776, 42: 2199023255552, 43: 4398046511104, 44: 8796093022208, 45: 17592186044416, 46: 35184372088832, 47: 70368744177664, 48: 140737488355328, 49: 281474976710656, 50: 562949953421312}\n"
     ]
    }
   ],
   "execution_count": 29
  },
  {
   "metadata": {},
   "cell_type": "markdown",
   "source": [
    "# Power set\n",
    "\n",
    "of {1, 2} = {{}, {1}, {2}, {1, 2}}\n",
    "\n",
    "{1, 2, 3} = {{}, {1}, {2}, {3}, {1, 2}, {2, 3}, {3, 1}, {1,2,3}}"
   ],
   "id": "bdf3ce9a38fda5be"
  },
  {
   "metadata": {},
   "cell_type": "code",
   "outputs": [],
   "execution_count": null,
   "source": [
    "# [1, 2] = [[], [1], [2], [1, 2]]\n",
    "# We will use recursion to solve this\n",
    "\n"
   ],
   "id": "d425f3c68ddb6044"
  }
 ],
 "metadata": {
  "kernelspec": {
   "display_name": "Python 3",
   "language": "python",
   "name": "python3"
  },
  "language_info": {
   "codemirror_mode": {
    "name": "ipython",
    "version": 2
   },
   "file_extension": ".py",
   "mimetype": "text/x-python",
   "name": "python",
   "nbconvert_exporter": "python",
   "pygments_lexer": "ipython2",
   "version": "2.7.6"
  }
 },
 "nbformat": 4,
 "nbformat_minor": 5
}
