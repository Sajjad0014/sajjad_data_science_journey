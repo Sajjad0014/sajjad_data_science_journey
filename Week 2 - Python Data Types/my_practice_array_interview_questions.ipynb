{
 "cells": [
  {
   "metadata": {},
   "cell_type": "markdown",
   "source": [
    "## Points to remember\n",
    "\n",
    "- Codes asked are relatively easier in comparison to SDE roles\n",
    "- Pythonic syntax is preferred in most companies\n",
    "- Focus is on optimized code\n",
    "- Start with the simplest solution and then improve\n",
    "- A lot of questions are repeated so mugging up the approaches help\n",
    "- Build intuition using Python Tutor"
   ],
   "id": "ca5434ea0d43d6b3"
  },
  {
   "metadata": {
    "ExecuteTime": {
     "end_time": "2024-09-01T18:21:02.668218Z",
     "start_time": "2024-09-01T18:21:02.664182Z"
    }
   },
   "cell_type": "code",
   "source": [
    "# 1. Find the kth largest/smallest item from a list\n",
    "L = [12, 23, 1, 4, 56, 34, 22, 3]\n",
    "k = 3\n",
    "\n",
    "L.sort(reverse=True)\n",
    "print(L)\n",
    "print(L[k-1])\n",
    "\n",
    "# .sort() uses some variant of merge sort. Hence, its time complexity is o(nlogn)"
   ],
   "id": "5b6cc43410f1ce9e",
   "outputs": [
    {
     "name": "stdout",
     "output_type": "stream",
     "text": [
      "[56, 34, 23, 22, 12, 4, 3, 1]\n",
      "23\n"
     ]
    }
   ],
   "execution_count": 79
  },
  {
   "metadata": {
    "ExecuteTime": {
     "end_time": "2024-09-01T18:18:57.157939Z",
     "start_time": "2024-09-01T18:18:57.154742Z"
    }
   },
   "cell_type": "code",
   "source": [
    "# 2. Check if an array is sorted\n",
    "L = [1, 2, 3, 4, 5]\n",
    "\n",
    "flag = True\n",
    "\n",
    "for i in range(0, len(L) - 1):\n",
    "    if L[i] > L[i + 1]:\n",
    "        flag = False\n",
    "\n",
    "if flag:\n",
    "    print('Sorted')\n",
    "else:\n",
    "    print('Not sorted')"
   ],
   "id": "ccb66d5c8fef581f",
   "outputs": [
    {
     "name": "stdout",
     "output_type": "stream",
     "text": [
      "Sorted\n"
     ]
    }
   ],
   "execution_count": 75
  },
  {
   "metadata": {
    "ExecuteTime": {
     "end_time": "2024-09-01T18:14:41.359344Z",
     "start_time": "2024-09-01T18:14:41.355635Z"
    }
   },
   "cell_type": "code",
   "source": [
    "# 3. Find Min/Max in a given array\n",
    "\n",
    "L = [21, 1, 34, 23, 54, 11, 10]\n",
    "max = L[0]\n",
    "\n",
    "for i in L:\n",
    "    if i > max:\n",
    "        max = i\n",
    "\n",
    "print(max)\n",
    "\n",
    "min = L[0]\n",
    "\n",
    "for i in L:\n",
    "    if i < min:\n",
    "        min = i\n",
    "\n",
    "print(min)"
   ],
   "id": "b08c96c00fe971aa",
   "outputs": [
    {
     "name": "stdout",
     "output_type": "stream",
     "text": [
      "54\n",
      "1\n"
     ]
    }
   ],
   "execution_count": 65
  },
  {
   "metadata": {
    "ExecuteTime": {
     "end_time": "2024-09-01T18:11:44.619859Z",
     "start_time": "2024-09-01T18:11:44.615893Z"
    }
   },
   "cell_type": "code",
   "source": [
    "# 4. Find the first element to occur k times in an array\n",
    "L = [1, 1, 2, 3, 4, 4, 5, 5]\n",
    "k = 2\n",
    "d = {}\n",
    "\n",
    "for i in L:\n",
    "    if i in d:\n",
    "        d[i] = d[i] + 1\n",
    "    else:\n",
    "        d[i] = 1\n",
    "\n",
    "for i in d:\n",
    "    if d[i] == k:\n",
    "        print(i)\n",
    "        break"
   ],
   "id": "61f6b30cd492b7f6",
   "outputs": [
    {
     "name": "stdout",
     "output_type": "stream",
     "text": [
      "1\n"
     ]
    }
   ],
   "execution_count": 61
  },
  {
   "metadata": {
    "ExecuteTime": {
     "end_time": "2024-09-01T18:09:32.699165Z",
     "start_time": "2024-09-01T18:09:32.694870Z"
    }
   },
   "cell_type": "code",
   "source": [
    "# 5. Find duplicates in an array\n",
    "\n",
    "L = [1, 1, 2, 3, 4, 4, 5, 5]\n",
    "d = {}\n",
    "\n",
    "for i in L:\n",
    "    if i in d:\n",
    "        d[i] = d[i] + 1\n",
    "    else:\n",
    "        d[i] = 1\n",
    "\n",
    "for i in d:\n",
    "    if d[i] > 1:\n",
    "        print(i)"
   ],
   "id": "4fd42d66f8ae4b11",
   "outputs": [
    {
     "name": "stdout",
     "output_type": "stream",
     "text": [
      "1\n",
      "4\n",
      "5\n"
     ]
    }
   ],
   "execution_count": 60
  },
  {
   "metadata": {
    "ExecuteTime": {
     "end_time": "2024-09-01T18:05:27.598173Z",
     "start_time": "2024-09-01T18:05:27.593702Z"
    }
   },
   "cell_type": "code",
   "source": [
    "# 6. Rotate array to left d items\n",
    "\n",
    "L = [1, 2, 3, 4, 5]\n",
    "rotate = 2\n",
    "\n",
    "for i in range(rotate):\n",
    "    temp = L[0]\n",
    "    for j in range(0, len(L) - 1):\n",
    "        L[j] = L[j + 1]\n",
    "    L[len(L) - 1] = temp\n",
    "print(L)"
   ],
   "id": "2b9dde692b7c4bda",
   "outputs": [
    {
     "name": "stdout",
     "output_type": "stream",
     "text": [
      "[3, 4, 5, 1, 2]\n"
     ]
    }
   ],
   "execution_count": 59
  },
  {
   "metadata": {
    "ExecuteTime": {
     "end_time": "2024-09-01T17:53:48.831788Z",
     "start_time": "2024-09-01T17:53:48.828217Z"
    }
   },
   "cell_type": "code",
   "source": [
    "# 7. Find intersection of 2 sorted arrays\n",
    "\n",
    "a = [1, 2, 3, 4, 5, 8]\n",
    "b = [3, 6, 7, 8]\n",
    "\n",
    "for i in a:\n",
    "    if i in b:\n",
    "        print(i)\n",
    "\n",
    "# This is also o(n**2)"
   ],
   "id": "9ca2014429802574",
   "outputs": [
    {
     "name": "stdout",
     "output_type": "stream",
     "text": [
      "3\n",
      "8\n"
     ]
    }
   ],
   "execution_count": 57
  },
  {
   "metadata": {
    "ExecuteTime": {
     "end_time": "2024-09-01T18:00:49.833040Z",
     "start_time": "2024-09-01T18:00:49.829184Z"
    }
   },
   "cell_type": "code",
   "source": [
    "a = [1, 2, 3, 4, 5, 8]\n",
    "b = [3, 6, 7, 8]\n",
    "\n",
    "i = j = 0\n",
    "\n",
    "while i < len(a) and j < len(b):\n",
    "    if a[i] == b[j]:\n",
    "        print(a[i])\n",
    "        i += 1\n",
    "        j += 1\n",
    "    elif a[i] > b[j]:\n",
    "        j += 1\n",
    "    else:\n",
    "        i += 1\n",
    "\n",
    "# This is in o(n)"
   ],
   "id": "4d93c4d9c8967f4c",
   "outputs": [
    {
     "name": "stdout",
     "output_type": "stream",
     "text": [
      "3\n",
      "8\n"
     ]
    }
   ],
   "execution_count": 58
  },
  {
   "metadata": {
    "ExecuteTime": {
     "end_time": "2024-09-01T17:25:07.796249Z",
     "start_time": "2024-09-01T17:25:07.791431Z"
    }
   },
   "cell_type": "code",
   "source": [
    "# 8. Find continuous subarray with a given sum(given non-negative numbers)\n",
    "# return the starting and ending index of the subarray\n",
    "# return 1st subarray in case of multiple\n",
    "\n",
    "L = [1, 22, 13, 7, 9, 11, 10]\n",
    "S = 16\n",
    "\n",
    "for i in range(1, len(L)):\n",
    "    sub_array = []\n",
    "    for j in range(i, len(L)):\n",
    "        sub_array.append(L[j])\n",
    "        if sum(sub_array) == S:\n",
    "            print(sub_array)"
   ],
   "id": "a616525abffaefa8",
   "outputs": [
    {
     "name": "stdout",
     "output_type": "stream",
     "text": [
      "[7, 9]\n"
     ]
    }
   ],
   "execution_count": 48
  },
  {
   "metadata": {
    "ExecuteTime": {
     "end_time": "2024-09-01T17:48:15.826194Z",
     "start_time": "2024-09-01T17:48:15.821482Z"
    }
   },
   "cell_type": "code",
   "source": [
    "L = [1, 22, 13, 7, 9, 11, 10]\n",
    "S = 21\n",
    "\n",
    "d = {}\n",
    "curr_sum = 0\n",
    "\n",
    "for i in range(0, len(L)):\n",
    "    curr_sum += L[i]\n",
    "\n",
    "    if (curr_sum - S) in d:\n",
    "        print(d[curr_sum - S] + 1, i)\n",
    "        break\n",
    "\n",
    "    d[curr_sum] = i\n",
    "\n",
    "# This is order(n)\n",
    "# because there is one loop and we know that in set and dictionary membership operator takes only order(1) time\n",
    "# When membership operator is run on list, string and tuple. It iterates over completely. Therefore its order is o(n)\n",
    "# so o(n) * o(1) = o(n)"
   ],
   "id": "6ec551aa5e89ac92",
   "outputs": [
    {
     "name": "stdout",
     "output_type": "stream",
     "text": [
      "5 6\n"
     ]
    }
   ],
   "execution_count": 56
  },
  {
   "metadata": {
    "ExecuteTime": {
     "end_time": "2024-09-01T16:52:54.370318Z",
     "start_time": "2024-09-01T16:52:54.366572Z"
    }
   },
   "cell_type": "code",
   "source": [
    "# 9. Find element with left side smaller/right side greater in an array\n",
    "\n",
    "L = [2, 1, 3, 5, 8, 7, 9]\n",
    "\n",
    "for i in range(1, len(L) - 1):\n",
    "    flag = True\n",
    "\n",
    "    for j in range(0, i):\n",
    "        if L[j] > L[i]:\n",
    "            flag = False\n",
    "\n",
    "    for k in range(i + 1, len(L)):\n",
    "        if L[k] < L[i]:\n",
    "            flag = False\n",
    "\n",
    "    if flag:\n",
    "        print(L[i])\n",
    "\n",
    "# Time complexity of this is n**2"
   ],
   "id": "aab66ad5d2898aab",
   "outputs": [
    {
     "name": "stdout",
     "output_type": "stream",
     "text": [
      "3\n",
      "5\n"
     ]
    }
   ],
   "execution_count": 28
  },
  {
   "metadata": {
    "ExecuteTime": {
     "end_time": "2024-09-01T16:57:07.385202Z",
     "start_time": "2024-09-01T16:57:07.381565Z"
    }
   },
   "cell_type": "code",
   "source": [
    "L = [2, 1, 3, 5, 8, 7, 9]\n",
    "\n",
    "for i in range(1, len(L) - 1):\n",
    "    if max(L[:i]) < L[i] < min(L[i + 1:]):\n",
    "        print(L[i])\n",
    "\n",
    "# Time complexity of this is also n**2"
   ],
   "id": "2a78ab7b5130e0f2",
   "outputs": [
    {
     "name": "stdout",
     "output_type": "stream",
     "text": [
      "3\n",
      "5\n"
     ]
    }
   ],
   "execution_count": 29
  },
  {
   "metadata": {
    "ExecuteTime": {
     "end_time": "2024-09-01T17:15:29.519994Z",
     "start_time": "2024-09-01T17:15:29.516742Z"
    }
   },
   "cell_type": "code",
   "source": [
    "L = [2, 1, 3, 5, 8, 7, 9]\n",
    "\n",
    "max_arr = []\n",
    "min_arr = []\n",
    "\n",
    "max_val = L[0]\n",
    "min_val = L[-1]\n",
    "\n",
    "for i in L:\n",
    "    if i > max_val:\n",
    "        max_val = i\n",
    "    max_arr.append(max_val)\n",
    "\n",
    "for i in range(len(L) - 1, -1, -1):\n",
    "    if L[i] < min_val:\n",
    "        min_val = L[i]\n",
    "    min_arr.insert(0, min_val)\n",
    "\n",
    "for i in range(1, len(L) - 1):\n",
    "    if max_arr[i - 1] < L[i] < min_arr[i + 1]:\n",
    "        print(L[i])\n",
    "\n",
    "# This code is in order(n)"
   ],
   "id": "a80c9017535e4d3b",
   "outputs": [
    {
     "name": "stdout",
     "output_type": "stream",
     "text": [
      "3\n",
      "5\n"
     ]
    }
   ],
   "execution_count": 36
  },
  {
   "metadata": {},
   "cell_type": "code",
   "outputs": [
    {
     "name": "stdout",
     "output_type": "stream",
     "text": [
      "[4, 7, -1, 6, -11, 14, 3, -1, -6]\n"
     ]
    }
   ],
   "execution_count": 11,
   "source": [
    "# 10. Maximum sum subarray\n",
    "L = [-2, 4, 7, -1, 6, -11, 14, 3, -1, -6]\n",
    "\n",
    "dict1 = {}\n",
    "\n",
    "for i in range(0, len(L)):\n",
    "    sub_array = []\n",
    "    for j in range(i, len(L)):\n",
    "        sub_array.append(L[j])\n",
    "        dict1[sum(sub_array)] = sub_array\n",
    "\n",
    "max_val = max(dict1.keys())\n",
    "\n",
    "for i in dict1:\n",
    "    if i == max_val:\n",
    "        print(dict1[i])\n",
    "\n"
   ],
   "id": "7eff13bd819b73bd"
  },
  {
   "metadata": {
    "ExecuteTime": {
     "end_time": "2024-09-01T16:08:58.874722Z",
     "start_time": "2024-09-01T16:08:58.871834Z"
    }
   },
   "cell_type": "code",
   "source": [
    "import sys\n",
    "\n",
    "print(sys.maxsize)\n",
    "print(-sys.maxsize - 1)\n",
    "\n",
    "# if we want to use the minimum element"
   ],
   "id": "1a880a88726e5c18",
   "outputs": [
    {
     "name": "stdout",
     "output_type": "stream",
     "text": [
      "9223372036854775807\n",
      "-9223372036854775808\n"
     ]
    }
   ],
   "execution_count": 19
  },
  {
   "metadata": {
    "ExecuteTime": {
     "end_time": "2024-09-01T16:42:22.847273Z",
     "start_time": "2024-09-01T16:42:22.842981Z"
    }
   },
   "cell_type": "code",
   "source": [
    "# Kadane's Algorithm\n",
    "curr_sum = 0\n",
    "curr_seq = []\n",
    "\n",
    "best_sum = L[0]\n",
    "best_seq = []\n",
    "\n",
    "L = [-2, 4, 7, -1, 6, -11, 14, 3, -1, -6]\n",
    "\n",
    "for i in L:\n",
    "    if i + curr_sum > i:\n",
    "        curr_sum += i\n",
    "        curr_seq.append(i)\n",
    "    else:\n",
    "        curr_sum = i\n",
    "        curr_seq.clear()\n",
    "        curr_seq.append(i)\n",
    "\n",
    "    if curr_sum > best_sum:\n",
    "        best_sum = curr_sum\n",
    "        best_seq = curr_seq\n",
    "\n",
    "    print(curr_seq, curr_sum)\n",
    "\n",
    "print('\\n\\n', best_sum, best_seq)"
   ],
   "id": "beabc5fd475344bd",
   "outputs": [
    {
     "name": "stdout",
     "output_type": "stream",
     "text": [
      "[-2] -2\n",
      "[4] 4\n",
      "[4, 7] 11\n",
      "[4, 7, -1] 10\n",
      "[4, 7, -1, 6] 16\n",
      "[4, 7, -1, 6, -11] 5\n",
      "[4, 7, -1, 6, -11, 14] 19\n",
      "[4, 7, -1, 6, -11, 14, 3] 22\n",
      "[4, 7, -1, 6, -11, 14, 3, -1] 21\n",
      "[4, 7, -1, 6, -11, 14, 3, -1, -6] 15\n",
      "\n",
      "\n",
      " 22 [4, 7, -1, 6, -11, 14, 3, -1, -6]\n"
     ]
    }
   ],
   "execution_count": 22
  },
  {
   "metadata": {
    "ExecuteTime": {
     "end_time": "2024-09-01T03:17:07.628732Z",
     "start_time": "2024-09-01T03:17:07.625708Z"
    }
   },
   "cell_type": "code",
   "source": "# 11. Sort arrays with items 1 and 0",
   "id": "88a79abee847396b",
   "outputs": [],
   "execution_count": 1
  },
  {
   "metadata": {
    "ExecuteTime": {
     "end_time": "2024-09-01T03:17:08.020962Z",
     "start_time": "2024-09-01T03:17:08.018983Z"
    }
   },
   "cell_type": "code",
   "source": "# 12. Move all -ve numbers to the end",
   "id": "9e3fecc8fdfe928c",
   "outputs": [],
   "execution_count": 1
  },
  {
   "metadata": {
    "ExecuteTime": {
     "end_time": "2024-09-01T03:17:08.704830Z",
     "start_time": "2024-09-01T03:17:08.702776Z"
    }
   },
   "cell_type": "code",
   "source": "# 13. Maximum Product Subarray",
   "id": "7c4c8bdd0410c1d4",
   "outputs": [],
   "execution_count": 1
  },
  {
   "metadata": {
    "ExecuteTime": {
     "end_time": "2024-09-01T03:17:09.180527Z",
     "start_time": "2024-09-01T03:17:09.178503Z"
    }
   },
   "cell_type": "code",
   "source": "# 14. Find union of 2 arrays",
   "id": "e7afcbde8dfbccf7",
   "outputs": [],
   "execution_count": 1
  },
  {
   "metadata": {},
   "cell_type": "code",
   "outputs": [],
   "execution_count": null,
   "source": "# 15. Find Pythagorean triplets in an array",
   "id": "90341bdcd130ac46"
  }
 ],
 "metadata": {
  "kernelspec": {
   "display_name": "Python 3",
   "language": "python",
   "name": "python3"
  },
  "language_info": {
   "codemirror_mode": {
    "name": "ipython",
    "version": 2
   },
   "file_extension": ".py",
   "mimetype": "text/x-python",
   "name": "python",
   "nbconvert_exporter": "python",
   "pygments_lexer": "ipython2",
   "version": "2.7.6"
  }
 },
 "nbformat": 4,
 "nbformat_minor": 5
}
