{
 "nbformat": 4,
 "nbformat_minor": 0,
 "metadata": {
  "colab": {
   "provenance": []
  },
  "kernelspec": {
   "name": "python3",
   "display_name": "Python 3 (ipykernel)",
   "language": "python"
  },
  "language_info": {
   "name": "python"
  }
 },
 "cells": [
  {
   "cell_type": "code",
   "metadata": {
    "id": "HCn2UsMwMgrJ"
   },
   "source": "  # 1. What do you mean by __name__ == '__main__'",
   "outputs": [],
   "execution_count": null
  },
  {
   "cell_type": "markdown",
   "source": [
    "### What is a module?\n",
    "\n",
    "Any file with an extention of .py is called a module in python.\n",
    "\n",
    "Whenever we execute a program it's module name is `__main__` and this name is stored in `__name__` variable\n",
    "\n",
    "Python always calls the current executing file as `__main__`"
   ],
   "metadata": {
    "id": "XymVT19OMyRK"
   }
  },
  {
   "metadata": {
    "ExecuteTime": {
     "end_time": "2024-09-19T23:48:30.397402Z",
     "start_time": "2024-09-19T23:48:30.393760Z"
    }
   },
   "cell_type": "code",
   "source": [
    "def display():\n",
    "  print('Hello')\n",
    "  \n",
    "display()\n",
    "print(__name__)"
   ],
   "outputs": [
    {
     "name": "stdout",
     "output_type": "stream",
     "text": [
      "Hello\n",
      "__main__\n"
     ]
    }
   ],
   "execution_count": 1
  },
  {
   "cell_type": "markdown",
   "source": [
    "### Importing a module\n",
    "\n",
    "- But what is the need to import a module?\n",
    "- How to import a module"
   ],
   "metadata": {
    "id": "s7XQDHr2OVb1"
   }
  },
  {
   "metadata": {
    "ExecuteTime": {
     "end_time": "2024-09-20T01:26:12.537393Z",
     "start_time": "2024-09-20T01:26:12.531681Z"
    }
   },
   "cell_type": "code",
   "source": [
    "# import a module\n",
    "import my_test\n",
    "\n",
    "my_test.hello('Sajjad')"
   ],
   "outputs": [
    {
     "name": "stdout",
     "output_type": "stream",
     "text": [
      "Hello  Sajjad\n"
     ]
    }
   ],
   "execution_count": 3
  },
  {
   "metadata": {
    "ExecuteTime": {
     "end_time": "2024-09-20T01:27:11.634487Z",
     "start_time": "2024-09-20T01:27:11.627592Z"
    }
   },
   "cell_type": "code",
   "source": [
    "# import multiple module -> user defined + builtin\n",
    "import math\n",
    "import my_test\n",
    "\n",
    "my_test.hello('Sajjad')\n",
    "print(math.floor(4.5))"
   ],
   "outputs": [
    {
     "name": "stdout",
     "output_type": "stream",
     "text": [
      "Hello  Sajjad\n",
      "4\n"
     ]
    }
   ],
   "execution_count": 5
  },
  {
   "cell_type": "code",
   "source": [
    "# show builtin modules\n",
    "\n"
   ],
   "metadata": {
    "id": "jjIQisWRR32M"
   },
   "outputs": [],
   "execution_count": null
  },
  {
   "cell_type": "markdown",
   "source": [
    "### Variations of import statement"
   ],
   "metadata": {
    "id": "zZqAvC2OR-ls"
   }
  },
  {
   "cell_type": "code",
   "source": [
    "# Normal\n",
    "import math\n",
    "import random"
   ],
   "metadata": {
    "id": "w39pRArFR51i",
    "ExecuteTime": {
     "end_time": "2024-09-20T01:30:16.782817Z",
     "start_time": "2024-09-20T01:30:16.778429Z"
    }
   },
   "outputs": [],
   "execution_count": 6
  },
  {
   "cell_type": "code",
   "source": [
    "# clubbing together\n",
    "import math, random, my_test"
   ],
   "metadata": {
    "id": "B8nroR_dSE_K",
    "ExecuteTime": {
     "end_time": "2024-09-20T01:30:31.312522Z",
     "start_time": "2024-09-20T01:30:31.308299Z"
    }
   },
   "outputs": [],
   "execution_count": 7
  },
  {
   "cell_type": "code",
   "source": [
    "# importing specific names from module\n",
    "from math import factorial\n",
    "from my_test import hello\n",
    "\n",
    "print(factorial(5))\n",
    "hello('Sajjad')"
   ],
   "metadata": {
    "colab": {
     "base_uri": "https://localhost:8080/",
     "height": 223
    },
    "id": "lsTNKjyMSLAB",
    "outputId": "26a76ae5-789a-4144-9bc3-842907300080",
    "ExecuteTime": {
     "end_time": "2024-09-20T01:31:49.860563Z",
     "start_time": "2024-09-20T01:31:49.852719Z"
    }
   },
   "outputs": [
    {
     "name": "stdout",
     "output_type": "stream",
     "text": [
      "120\n",
      "Hello  Sajjad\n"
     ]
    }
   ],
   "execution_count": 9
  },
  {
   "cell_type": "code",
   "source": [
    "# renaming modules\n",
    "import matplotlib.pyplot as plt\n",
    "import pandas as pd\n",
    "import numpy as np\n",
    "\n",
    "print(np.array([1, 2]))\n",
    "print(pd.DataFrame([1, 2]))\n",
    "plt.show()"
   ],
   "metadata": {
    "colab": {
     "base_uri": "https://localhost:8080/"
    },
    "id": "6NVJQwHQSX4P",
    "outputId": "ac136cf9-4e0b-4039-fc8c-ad4563fd045b",
    "ExecuteTime": {
     "end_time": "2024-09-20T01:33:47.897447Z",
     "start_time": "2024-09-20T01:33:46.336340Z"
    }
   },
   "outputs": [
    {
     "name": "stdout",
     "output_type": "stream",
     "text": [
      "[1 2]\n",
      "   0\n",
      "0  1\n",
      "1  2\n"
     ]
    }
   ],
   "execution_count": 12
  },
  {
   "cell_type": "code",
   "source": [
    "import math as m\n",
    "m.sqrt(4)"
   ],
   "metadata": {
    "colab": {
     "base_uri": "https://localhost:8080/"
    },
    "id": "BFPwon_SSbz_",
    "outputId": "8f5f9b9a-fdaa-428e-a84a-fbc0782b2a30",
    "ExecuteTime": {
     "end_time": "2024-09-20T01:32:52.918983Z",
     "start_time": "2024-09-20T01:32:52.911210Z"
    }
   },
   "outputs": [
    {
     "data": {
      "text/plain": [
       "2.0"
      ]
     },
     "execution_count": 11,
     "metadata": {},
     "output_type": "execute_result"
    }
   ],
   "execution_count": 11
  },
  {
   "metadata": {
    "ExecuteTime": {
     "end_time": "2024-09-20T01:34:11.331742Z",
     "start_time": "2024-09-20T01:34:11.324580Z"
    }
   },
   "cell_type": "code",
   "source": [
    "from math import factorial as f\n",
    "f(6)"
   ],
   "outputs": [
    {
     "data": {
      "text/plain": [
       "720"
      ]
     },
     "execution_count": 13,
     "metadata": {},
     "output_type": "execute_result"
    }
   ],
   "execution_count": 13
  },
  {
   "cell_type": "markdown",
   "source": [
    "### Order of execution of a module"
   ],
   "metadata": {
    "id": "Wtoy82ePS8Yh"
   }
  },
  {
   "metadata": {
    "ExecuteTime": {
     "end_time": "2024-09-20T01:34:44.120319Z",
     "start_time": "2024-09-20T01:34:44.112962Z"
    }
   },
   "cell_type": "code",
   "source": [
    "import sys\n",
    "for p in sys.path:\n",
    "  print(p)"
   ],
   "outputs": [
    {
     "name": "stdout",
     "output_type": "stream",
     "text": [
      "C:\\Program Files\\JetBrains\\PyCharm 2024.1.4\\plugins\\python\\helpers-pro\\jupyter_debug\n",
      "C:\\Program Files\\JetBrains\\PyCharm 2024.1.4\\plugins\\python\\helpers\\pydev\n",
      "C:\\Sajjad\\Learnings\\Data Science Mentorship Program 2.0\n",
      "C:\\Users\\15105\\AppData\\Local\\Programs\\Python\\Python312\\python312.zip\n",
      "C:\\Users\\15105\\AppData\\Local\\Programs\\Python\\Python312\\DLLs\n",
      "C:\\Users\\15105\\AppData\\Local\\Programs\\Python\\Python312\\Lib\n",
      "C:\\Users\\15105\\AppData\\Local\\Programs\\Python\\Python312\n",
      "\n",
      "C:\\Users\\15105\\AppData\\Roaming\\Python\\Python312\\site-packages\n",
      "C:\\Users\\15105\\AppData\\Roaming\\Python\\Python312\\site-packages\\win32\n",
      "C:\\Users\\15105\\AppData\\Roaming\\Python\\Python312\\site-packages\\win32\\lib\n",
      "C:\\Users\\15105\\AppData\\Roaming\\Python\\Python312\\site-packages\\Pythonwin\n",
      "C:\\Users\\15105\\AppData\\Local\\Programs\\Python\\Python312\\Lib\\site-packages\n",
      "c:\\sajjad\\learnings\\data science\\projects\\end-to_end_project1-krish-naik\n",
      "C:\\Users\\15105\\AppData\\Local\\Programs\\Python\\Python312\\Lib\\site-packages\\setuptools\\_vendor\n"
     ]
    }
   ],
   "execution_count": 14
  },
  {
   "cell_type": "markdown",
   "source": [
    "### if `__name__` == `__main__`\n",
    "\n",
    "Why is it important in larger projects?\n",
    "\n",
    "In large projects, this technique is crucial for writing modular, reusable code. \n",
    "It allows developers to include example usages or test code directly within a module without affecting other parts of the project where the module might be imported.\n",
    "\n",
    "`In Short:`\n",
    "\n",
    "The if __name__ == \"__main__\": statement allows Python files to serve a dual purpose:\n",
    "\n",
    "As a standalone script when run directly.\n",
    "\n",
    "As a module that can be imported into other scripts without executing certain code."
   ],
   "metadata": {
    "id": "QBj3yM3ySWGE"
   }
  },
  {
   "cell_type": "code",
   "source": [],
   "metadata": {
    "id": "-68vYDYrTiyJ"
   },
   "outputs": [],
   "execution_count": null
  },
  {
   "cell_type": "markdown",
   "source": [
    "### What are packages in Python\n",
    "\n",
    "A package in python is a directory containing similar sub packages and modules.\n",
    "\n",
    "- A particular directory is treated as package if it has `__init__.py` file in it.\n",
    "- The `__init__.py` file may be empty or contain some initialization code related to the package"
   ],
   "metadata": {
    "id": "S81yyQIpVFZI"
   }
  },
  {
   "cell_type": "code",
   "source": "",
   "metadata": {
    "id": "0TPGU8kHVgV-"
   },
   "outputs": [],
   "execution_count": null
  },
  {
   "cell_type": "markdown",
   "source": [
    "### What are 3rd party packages?\n",
    "\n",
    "- The python community creates packages and make it available for other programmers\n",
    "- PyPI -> Python Package Index\n",
    "- You can upload your own package\n",
    "- You can also install packages from PyPI and install using pip\n",
    "- pip is a package manager utility\n",
    "- it is automatically installed with python\n",
    "\n"
   ],
   "metadata": {
    "id": "8zaWkj4wV2mK"
   }
  },
  {
   "cell_type": "code",
   "source": [],
   "metadata": {
    "id": "b-Cm7BNVV42v"
   },
   "outputs": [],
   "execution_count": null
  }
 ]
}
