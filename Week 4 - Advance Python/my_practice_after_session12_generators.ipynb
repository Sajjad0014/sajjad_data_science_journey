{
 "cells": [
  {
   "cell_type": "markdown",
   "id": "905a4e72",
   "metadata": {},
   "source": [
    "## What is a Generator\n",
    "\n",
    "Python generators are a simple way of creating iterators. "
   ]
  },
  {
   "metadata": {},
   "cell_type": "code",
   "outputs": [],
   "execution_count": null,
   "source": [
    "# iterable\n",
    "class mera_range:\n",
    "\n",
    "    def __init__(self, start, end):\n",
    "        self.start = start\n",
    "        self.end = end\n",
    "\n",
    "    def __iter__(self):\n",
    "        return mera_iterator(self)\n",
    "\n",
    "\n",
    "# iterator\n",
    "class mera_iterator:\n",
    "\n",
    "    def __init__(self, iterable_obj):\n",
    "        self.iterable = iterable_obj\n",
    "\n",
    "    def __iter__(self):\n",
    "        return self\n",
    "\n",
    "    def __next__(self):\n",
    "        if self.iterable.start >= self.iterable.end:\n",
    "            raise StopIteration\n",
    "\n",
    "        current = self.iterable.start\n",
    "        self.iterable.start += 1\n",
    "        return current"
   ],
   "id": "b5de52ff93aeac4c"
  },
  {
   "cell_type": "markdown",
   "id": "fd44bc77",
   "metadata": {},
   "source": [
    "## The Why"
   ]
  },
  {
   "metadata": {
    "ExecuteTime": {
     "end_time": "2024-09-17T01:17:08.973007Z",
     "start_time": "2024-09-17T01:17:08.966272Z"
    }
   },
   "cell_type": "code",
   "source": [
    "import sys\n",
    "\n",
    "x = range(100000)\n",
    "\n",
    "# for i in x:\n",
    "#     print(i**2)\n",
    "\n",
    "print(sys.getsizeof(x) / 64, ' mb')"
   ],
   "id": "5db39d1f7bd4b10a",
   "outputs": [
    {
     "name": "stdout",
     "output_type": "stream",
     "text": [
      "0.75  mb\n"
     ]
    }
   ],
   "execution_count": 3
  },
  {
   "cell_type": "markdown",
   "id": "b22fe091",
   "metadata": {},
   "source": [
    "## A Simple Example"
   ]
  },
  {
   "metadata": {
    "ExecuteTime": {
     "end_time": "2024-09-17T01:21:20.430156Z",
     "start_time": "2024-09-17T01:21:20.425695Z"
    }
   },
   "cell_type": "code",
   "source": [
    "# Generator does not have a return, it has yield\n",
    "\n",
    "def gen_demo():\n",
    "    yield 'First statement'\n",
    "    yield 'Second statement'\n",
    "    yield 'Third statement'"
   ],
   "id": "f7962ed08c7a801d",
   "outputs": [],
   "execution_count": 12
  },
  {
   "metadata": {
    "ExecuteTime": {
     "end_time": "2024-09-17T01:21:20.754120Z",
     "start_time": "2024-09-17T01:21:20.749250Z"
    }
   },
   "cell_type": "code",
   "source": [
    "gen = gen_demo()\n",
    "print(gen)\n",
    "\n",
    "# On this gen, we can run next and get all the statements"
   ],
   "id": "1b5325d764742160",
   "outputs": [
    {
     "name": "stdout",
     "output_type": "stream",
     "text": [
      "<generator object gen_demo at 0x000002B3FD911380>\n"
     ]
    }
   ],
   "execution_count": 13
  },
  {
   "metadata": {
    "ExecuteTime": {
     "end_time": "2024-09-17T01:21:21.203472Z",
     "start_time": "2024-09-17T01:21:21.196802Z"
    }
   },
   "cell_type": "code",
   "source": [
    "# print(next(gen))\n",
    "# print(next(gen))\n",
    "# print(next(gen))\n",
    "# print(next(gen))\n",
    "\n",
    "for i in gen:\n",
    "    print(i)"
   ],
   "id": "c24593d4f13a10e0",
   "outputs": [
    {
     "name": "stdout",
     "output_type": "stream",
     "text": [
      "First statement\n",
      "Second statement\n",
      "Third statement\n"
     ]
    }
   ],
   "execution_count": 14
  },
  {
   "cell_type": "markdown",
   "id": "75eb3d2b",
   "metadata": {},
   "source": [
    "## Python Tutor Demo (yield vs return)"
   ]
  },
  {
   "cell_type": "code",
   "execution_count": null,
   "id": "7995f7d7",
   "metadata": {},
   "outputs": [],
   "source": []
  },
  {
   "cell_type": "markdown",
   "id": "f86e2b35",
   "metadata": {},
   "source": [
    "## Example 2"
   ]
  },
  {
   "metadata": {
    "ExecuteTime": {
     "end_time": "2024-09-17T01:27:46.037677Z",
     "start_time": "2024-09-17T01:27:46.031733Z"
    }
   },
   "cell_type": "code",
   "source": [
    "def square(num):\n",
    "    for i in range(1, num):\n",
    "        yield i ** 2\n",
    "\n",
    "\n",
    "gen = square(10)\n",
    "\n",
    "print(next(gen))\n",
    "print(next(gen))\n",
    "print(next(gen))\n",
    "\n",
    "for i in gen:\n",
    "    print(i)"
   ],
   "id": "980e34e4b4625425",
   "outputs": [
    {
     "name": "stdout",
     "output_type": "stream",
     "text": [
      "1\n",
      "4\n",
      "9\n",
      "16\n",
      "25\n",
      "36\n",
      "49\n",
      "64\n",
      "81\n"
     ]
    }
   ],
   "execution_count": 17
  },
  {
   "cell_type": "markdown",
   "id": "875edb12",
   "metadata": {},
   "source": [
    "## Range Function using Generator"
   ]
  },
  {
   "metadata": {
    "ExecuteTime": {
     "end_time": "2024-09-17T01:30:34.044746Z",
     "start_time": "2024-09-17T01:30:34.039872Z"
    }
   },
   "cell_type": "code",
   "source": [
    "def mera_range(start, end):\n",
    "    for i in range(start, end):\n",
    "        yield i"
   ],
   "id": "aa919b1d3d29b606",
   "outputs": [],
   "execution_count": 20
  },
  {
   "metadata": {
    "ExecuteTime": {
     "end_time": "2024-09-17T01:30:34.222230Z",
     "start_time": "2024-09-17T01:30:34.217544Z"
    }
   },
   "cell_type": "code",
   "source": [
    "for i in mera_range(15, 26):\n",
    "    print(i)"
   ],
   "id": "5221a026174122d6",
   "outputs": [
    {
     "name": "stdout",
     "output_type": "stream",
     "text": [
      "15\n",
      "16\n",
      "17\n",
      "18\n",
      "19\n",
      "20\n",
      "21\n",
      "22\n",
      "23\n",
      "24\n",
      "25\n"
     ]
    }
   ],
   "execution_count": 21
  },
  {
   "cell_type": "markdown",
   "id": "406188e0",
   "metadata": {},
   "source": [
    "## Generator Expression"
   ]
  },
  {
   "metadata": {
    "ExecuteTime": {
     "end_time": "2024-09-17T01:31:50.706661Z",
     "start_time": "2024-09-17T01:31:50.699872Z"
    }
   },
   "cell_type": "code",
   "source": [
    "L = [x ** 2 for x in range(1, 11)]\n",
    "L"
   ],
   "id": "3ed411beaea8a38",
   "outputs": [
    {
     "data": {
      "text/plain": [
       "[1, 4, 9, 16, 25, 36, 49, 64, 81, 100]"
      ]
     },
     "execution_count": 23,
     "metadata": {},
     "output_type": "execute_result"
    }
   ],
   "execution_count": 23
  },
  {
   "metadata": {
    "ExecuteTime": {
     "end_time": "2024-09-17T01:32:53.788553Z",
     "start_time": "2024-09-17T01:32:53.783862Z"
    }
   },
   "cell_type": "code",
   "source": [
    "gen = (x ** 2 for x in range(1, 11))\n",
    "\n",
    "for i in (x ** 2 for x in range(1, 11)):\n",
    "    print(i)"
   ],
   "id": "5a67de135cb090eb",
   "outputs": [
    {
     "name": "stdout",
     "output_type": "stream",
     "text": [
      "1\n",
      "4\n",
      "9\n",
      "16\n",
      "25\n",
      "36\n",
      "49\n",
      "64\n",
      "81\n",
      "100\n"
     ]
    }
   ],
   "execution_count": 28
  },
  {
   "cell_type": "markdown",
   "id": "0c7d14fc",
   "metadata": {},
   "source": [
    "## Practical Example"
   ]
  },
  {
   "metadata": {
    "ExecuteTime": {
     "end_time": "2024-09-17T01:36:51.932690Z",
     "start_time": "2024-09-17T01:36:51.928217Z"
    }
   },
   "cell_type": "code",
   "source": [
    "import os\n",
    "import cv2\n",
    "\n",
    "\n",
    "def image_data_reader(folder_path):\n",
    "    for file in os.listdir(folder_path):\n",
    "        f_array = cv2.imread(os.path.join(folder_path, file))\n",
    "        yield f_array"
   ],
   "id": "442b784c76667158",
   "outputs": [],
   "execution_count": 31
  },
  {
   "metadata": {
    "ExecuteTime": {
     "end_time": "2024-09-17T01:38:17.964713Z",
     "start_time": "2024-09-17T01:38:17.031943Z"
    }
   },
   "cell_type": "code",
   "source": [
    "gen = image_data_reader('C:\\\\Users\\\\15105\\\\Pictures\\\\Printing')\n",
    "print(next(gen))\n",
    "print(type(next(gen)))\n",
    "print(next(gen).ndim)"
   ],
   "id": "a715620e796a2b48",
   "outputs": [
    {
     "name": "stdout",
     "output_type": "stream",
     "text": [
      "[[[249 251 252]\n",
      "  [249 251 252]\n",
      "  [249 251 252]\n",
      "  ...\n",
      "  [247 247 247]\n",
      "  [247 247 247]\n",
      "  [247 247 247]]\n",
      "\n",
      " [[249 251 252]\n",
      "  [249 251 252]\n",
      "  [249 251 252]\n",
      "  ...\n",
      "  [247 247 247]\n",
      "  [247 247 247]\n",
      "  [247 247 247]]\n",
      "\n",
      " [[248 250 251]\n",
      "  [248 250 251]\n",
      "  [248 250 251]\n",
      "  ...\n",
      "  [246 246 246]\n",
      "  [245 245 245]\n",
      "  [245 245 245]]\n",
      "\n",
      " ...\n",
      "\n",
      " [[245 246 250]\n",
      "  [245 246 250]\n",
      "  [245 246 250]\n",
      "  ...\n",
      "  [248 247 249]\n",
      "  [248 247 249]\n",
      "  [249 246 248]]\n",
      "\n",
      " [[245 246 250]\n",
      "  [245 246 250]\n",
      "  [245 246 250]\n",
      "  ...\n",
      "  [248 247 249]\n",
      "  [248 247 249]\n",
      "  [249 246 248]]\n",
      "\n",
      " [[245 246 250]\n",
      "  [245 246 250]\n",
      "  [245 246 250]\n",
      "  ...\n",
      "  [248 247 249]\n",
      "  [248 247 249]\n",
      "  [249 246 248]]]\n",
      "<class 'numpy.ndarray'>\n",
      "3\n"
     ]
    }
   ],
   "execution_count": 34
  },
  {
   "cell_type": "markdown",
   "id": "8cb79570",
   "metadata": {},
   "source": [
    "## Benefits of using a Generator"
   ]
  },
  {
   "cell_type": "markdown",
   "id": "3329b0d1",
   "metadata": {},
   "source": [
    "#### 1. Ease of Implementation"
   ]
  },
  {
   "metadata": {},
   "cell_type": "code",
   "outputs": [],
   "execution_count": null,
   "source": "",
   "id": "8c474ecb7c2da44c"
  },
  {
   "cell_type": "markdown",
   "id": "1cee95cb",
   "metadata": {},
   "source": [
    "#### 2. Memory Efficient"
   ]
  },
  {
   "metadata": {},
   "cell_type": "code",
   "outputs": [],
   "execution_count": null,
   "source": "",
   "id": "b590b05286cc8f20"
  },
  {
   "cell_type": "markdown",
   "id": "5d7c5229",
   "metadata": {},
   "source": [
    "#### 3. Representing Infinite Streams"
   ]
  },
  {
   "metadata": {
    "ExecuteTime": {
     "end_time": "2024-09-17T01:39:57.675159Z",
     "start_time": "2024-09-17T01:39:57.670760Z"
    }
   },
   "cell_type": "code",
   "source": [
    "def all_even():\n",
    "    n = 0\n",
    "    while True:\n",
    "        yield n\n",
    "        n += 2"
   ],
   "id": "8d09d4798708ec04",
   "outputs": [],
   "execution_count": 35
  },
  {
   "metadata": {
    "ExecuteTime": {
     "end_time": "2024-09-17T01:40:14.462948Z",
     "start_time": "2024-09-17T01:40:14.455878Z"
    }
   },
   "cell_type": "code",
   "source": [
    "even_num_gen = all_even()\n",
    "next(even_num_gen)\n",
    "next(even_num_gen)"
   ],
   "id": "21cdcebe089194e0",
   "outputs": [
    {
     "data": {
      "text/plain": [
       "2"
      ]
     },
     "execution_count": 36,
     "metadata": {},
     "output_type": "execute_result"
    }
   ],
   "execution_count": 36
  },
  {
   "cell_type": "markdown",
   "id": "e80fec2f",
   "metadata": {},
   "source": [
    "#### 4. Chaining Generators"
   ]
  },
  {
   "cell_type": "code",
   "id": "0558f0f9",
   "metadata": {
    "ExecuteTime": {
     "end_time": "2024-09-17T01:41:42.378962Z",
     "start_time": "2024-09-17T01:41:42.373062Z"
    }
   },
   "source": [
    "def fibonacci_number(nums):\n",
    "    x, y = 0, 1\n",
    "    for _ in range(nums):\n",
    "        x, y = y, x+y\n",
    "        yield x\n",
    "\n",
    "def square(nums):\n",
    "    for num in nums:\n",
    "        yield num ** 2\n",
    "\n",
    "print(sum(square(fibonacci_number(10))))"
   ],
   "outputs": [
    {
     "name": "stdout",
     "output_type": "stream",
     "text": [
      "4895\n"
     ]
    }
   ],
   "execution_count": 37
  },
  {
   "metadata": {},
   "cell_type": "code",
   "outputs": [],
   "execution_count": null,
   "source": "",
   "id": "b443447ff8dcfc8c"
  }
 ],
 "metadata": {
  "kernelspec": {
   "display_name": "Python 3",
   "language": "python",
   "name": "python3"
  },
  "language_info": {
   "codemirror_mode": {
    "name": "ipython",
    "version": 3
   },
   "file_extension": ".py",
   "mimetype": "text/x-python",
   "name": "python",
   "nbconvert_exporter": "python",
   "pygments_lexer": "ipython3",
   "version": "3.8.8"
  }
 },
 "nbformat": 4,
 "nbformat_minor": 5
}
