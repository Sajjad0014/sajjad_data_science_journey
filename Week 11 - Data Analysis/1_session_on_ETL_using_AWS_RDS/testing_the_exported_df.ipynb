{
 "cells": [
  {
   "cell_type": "code",
   "id": "initial_id",
   "metadata": {
    "collapsed": true,
    "ExecuteTime": {
     "end_time": "2024-11-11T20:58:10.501453Z",
     "start_time": "2024-11-11T20:58:09.650268Z"
    }
   },
   "source": [
    "import pandas as pd\n",
    "import os\n",
    "import pymysql\n",
    "from sqlalchemy import create_engine"
   ],
   "outputs": [],
   "execution_count": 1
  },
  {
   "metadata": {
    "ExecuteTime": {
     "end_time": "2024-11-11T20:58:31.419123Z",
     "start_time": "2024-11-11T20:58:31.415341Z"
    }
   },
   "cell_type": "code",
   "source": [
    "password = os.environ['user_password']\n",
    "username = os.environ['user_name']"
   ],
   "id": "80385ce905eea305",
   "outputs": [],
   "execution_count": 4
  },
  {
   "metadata": {
    "ExecuteTime": {
     "end_time": "2024-11-11T21:00:00.909825Z",
     "start_time": "2024-11-11T21:00:00.861428Z"
    }
   },
   "cell_type": "code",
   "source": [
    "url = 'database-olap.c9ac2e84wzrm.us-east-1.rds.amazonaws.com'\n",
    "\n",
    "try:\n",
    "    engine = create_engine(f'mysql+mysqlconnector://{username}:{password}@{url}:3306/dream11')\n",
    "except Exception as e:\n",
    "    print(e)"
   ],
   "id": "ae832c8eb614bdbe",
   "outputs": [],
   "execution_count": 5
  },
  {
   "metadata": {
    "ExecuteTime": {
     "end_time": "2024-11-11T21:00:08.126804Z",
     "start_time": "2024-11-11T21:00:01.231673Z"
    }
   },
   "cell_type": "code",
   "source": [
    "df = pd.read_sql_query(\"SELECT * FROM dream11\", con=engine)\n",
    "print(df.shape)\n",
    "df.head()"
   ],
   "id": "8795d255c535521b",
   "outputs": [
    {
     "name": "stdout",
     "output_type": "stream",
     "text": [
      "(16515, 3)\n"
     ]
    },
    {
     "data": {
      "text/plain": [
       "   match_id        batter  score\n",
       "0    501243      V Sehwag  332.0\n",
       "1    501210  SR Tendulkar  272.0\n",
       "2    598027      CH Gayle  244.0\n",
       "3    335982   BB McCullum  216.0\n",
       "4    548342      V Sehwag  202.0"
      ],
      "text/html": [
       "<div>\n",
       "<style scoped>\n",
       "    .dataframe tbody tr th:only-of-type {\n",
       "        vertical-align: middle;\n",
       "    }\n",
       "\n",
       "    .dataframe tbody tr th {\n",
       "        vertical-align: top;\n",
       "    }\n",
       "\n",
       "    .dataframe thead th {\n",
       "        text-align: right;\n",
       "    }\n",
       "</style>\n",
       "<table border=\"1\" class=\"dataframe\">\n",
       "  <thead>\n",
       "    <tr style=\"text-align: right;\">\n",
       "      <th></th>\n",
       "      <th>match_id</th>\n",
       "      <th>batter</th>\n",
       "      <th>score</th>\n",
       "    </tr>\n",
       "  </thead>\n",
       "  <tbody>\n",
       "    <tr>\n",
       "      <th>0</th>\n",
       "      <td>501243</td>\n",
       "      <td>V Sehwag</td>\n",
       "      <td>332.0</td>\n",
       "    </tr>\n",
       "    <tr>\n",
       "      <th>1</th>\n",
       "      <td>501210</td>\n",
       "      <td>SR Tendulkar</td>\n",
       "      <td>272.0</td>\n",
       "    </tr>\n",
       "    <tr>\n",
       "      <th>2</th>\n",
       "      <td>598027</td>\n",
       "      <td>CH Gayle</td>\n",
       "      <td>244.0</td>\n",
       "    </tr>\n",
       "    <tr>\n",
       "      <th>3</th>\n",
       "      <td>335982</td>\n",
       "      <td>BB McCullum</td>\n",
       "      <td>216.0</td>\n",
       "    </tr>\n",
       "    <tr>\n",
       "      <th>4</th>\n",
       "      <td>548342</td>\n",
       "      <td>V Sehwag</td>\n",
       "      <td>202.0</td>\n",
       "    </tr>\n",
       "  </tbody>\n",
       "</table>\n",
       "</div>"
      ]
     },
     "execution_count": 6,
     "metadata": {},
     "output_type": "execute_result"
    }
   ],
   "execution_count": 6
  },
  {
   "metadata": {},
   "cell_type": "code",
   "outputs": [],
   "execution_count": null,
   "source": "",
   "id": "f2b187c50d2aec"
  }
 ],
 "metadata": {
  "kernelspec": {
   "display_name": "Python 3",
   "language": "python",
   "name": "python3"
  },
  "language_info": {
   "codemirror_mode": {
    "name": "ipython",
    "version": 2
   },
   "file_extension": ".py",
   "mimetype": "text/x-python",
   "name": "python",
   "nbconvert_exporter": "python",
   "pygments_lexer": "ipython2",
   "version": "2.7.6"
  }
 },
 "nbformat": 4,
 "nbformat_minor": 5
}
