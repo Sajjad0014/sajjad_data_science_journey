{
 "nbformat": 4,
 "nbformat_minor": 0,
 "metadata": {
  "colab": {
   "provenance": []
  },
  "kernelspec": {
   "name": "python3",
   "display_name": "Python 3 (ipykernel)",
   "language": "python"
  },
  "language_info": {
   "name": "python"
  }
 },
 "cells": [
  {
   "cell_type": "code",
   "source": [
    "import pandas as pd\n",
    "import numpy as np"
   ],
   "metadata": {
    "id": "qho6Ucq7dhTt",
    "ExecuteTime": {
     "end_time": "2024-10-17T22:01:17.139342Z",
     "start_time": "2024-10-17T22:01:17.136522Z"
    }
   },
   "outputs": [],
   "execution_count": 169
  },
  {
   "metadata": {
    "ExecuteTime": {
     "end_time": "2024-10-17T22:01:17.413940Z",
     "start_time": "2024-10-17T22:01:17.410481Z"
    }
   },
   "cell_type": "code",
   "source": [
    "# till now\n",
    "# Timestamp\n",
    "time_stamp = pd.Timestamp('2024/10/16 4:40')\n",
    "time_stamp"
   ],
   "outputs": [
    {
     "data": {
      "text/plain": [
       "Timestamp('2024-10-16 04:40:00')"
      ]
     },
     "execution_count": 170,
     "metadata": {},
     "output_type": "execute_result"
    }
   ],
   "execution_count": 170
  },
  {
   "metadata": {
    "ExecuteTime": {
     "end_time": "2024-10-17T22:01:17.454148Z",
     "start_time": "2024-10-17T22:01:17.449950Z"
    }
   },
   "cell_type": "code",
   "source": "time_stamp.hour",
   "outputs": [
    {
     "data": {
      "text/plain": [
       "4"
      ]
     },
     "execution_count": 171,
     "metadata": {},
     "output_type": "execute_result"
    }
   ],
   "execution_count": 171
  },
  {
   "metadata": {
    "ExecuteTime": {
     "end_time": "2024-10-17T22:01:17.489094Z",
     "start_time": "2024-10-17T22:01:17.484153Z"
    }
   },
   "cell_type": "code",
   "source": [
    "# DatetimeIndex --> df and series index\n",
    "pd.DatetimeIndex([pd.Timestamp('2024/1/1'), pd.Timestamp('2024/1/10'), pd.Timestamp('2024/1/5')])"
   ],
   "outputs": [
    {
     "data": {
      "text/plain": [
       "DatetimeIndex(['2024-01-01', '2024-01-10', '2024-01-05'], dtype='datetime64[ns]', freq=None)"
      ]
     },
     "execution_count": 172,
     "metadata": {},
     "output_type": "execute_result"
    }
   ],
   "execution_count": 172
  },
  {
   "metadata": {
    "ExecuteTime": {
     "end_time": "2024-10-17T22:01:17.520108Z",
     "start_time": "2024-10-17T22:01:17.515100Z"
    }
   },
   "cell_type": "code",
   "source": [
    "# date_range()\n",
    "pd.date_range(start='2024/1/1', end='2024/1/31', freq='D')"
   ],
   "outputs": [
    {
     "data": {
      "text/plain": [
       "DatetimeIndex(['2024-01-01', '2024-01-02', '2024-01-03', '2024-01-04',\n",
       "               '2024-01-05', '2024-01-06', '2024-01-07', '2024-01-08',\n",
       "               '2024-01-09', '2024-01-10', '2024-01-11', '2024-01-12',\n",
       "               '2024-01-13', '2024-01-14', '2024-01-15', '2024-01-16',\n",
       "               '2024-01-17', '2024-01-18', '2024-01-19', '2024-01-20',\n",
       "               '2024-01-21', '2024-01-22', '2024-01-23', '2024-01-24',\n",
       "               '2024-01-25', '2024-01-26', '2024-01-27', '2024-01-28',\n",
       "               '2024-01-29', '2024-01-30', '2024-01-31'],\n",
       "              dtype='datetime64[ns]', freq='D')"
      ]
     },
     "execution_count": 173,
     "metadata": {},
     "output_type": "execute_result"
    }
   ],
   "execution_count": 173
  },
  {
   "metadata": {
    "ExecuteTime": {
     "end_time": "2024-10-17T22:01:17.566153Z",
     "start_time": "2024-10-17T22:01:17.561116Z"
    }
   },
   "cell_type": "code",
   "source": [
    "# to_datetime()\n",
    "s = pd.Series(['2024/10/16', '2024/10/17', '2024/10/18', '2024/10/19', '2024/10/20'])\n",
    "dt_created = pd.to_datetime(s, errors='coerce')\n",
    "dt_created"
   ],
   "outputs": [
    {
     "data": {
      "text/plain": [
       "0   2024-10-16\n",
       "1   2024-10-17\n",
       "2   2024-10-18\n",
       "3   2024-10-19\n",
       "4   2024-10-20\n",
       "dtype: datetime64[ns]"
      ]
     },
     "execution_count": 174,
     "metadata": {},
     "output_type": "execute_result"
    }
   ],
   "execution_count": 174
  },
  {
   "metadata": {
    "ExecuteTime": {
     "end_time": "2024-10-17T22:01:17.587160Z",
     "start_time": "2024-10-17T22:01:17.582159Z"
    }
   },
   "cell_type": "code",
   "source": "dt_created.dt.day_name()",
   "outputs": [
    {
     "data": {
      "text/plain": [
       "0    Wednesday\n",
       "1     Thursday\n",
       "2       Friday\n",
       "3     Saturday\n",
       "4       Sunday\n",
       "dtype: object"
      ]
     },
     "execution_count": 175,
     "metadata": {},
     "output_type": "execute_result"
    }
   ],
   "execution_count": 175
  },
  {
   "metadata": {},
   "cell_type": "markdown",
   "source": [
    "# Timedelta Object\n",
    "Represents a duration, the difference between two dates or times"
   ]
  },
  {
   "metadata": {
    "ExecuteTime": {
     "end_time": "2024-10-17T22:01:17.629400Z",
     "start_time": "2024-10-17T22:01:17.624169Z"
    }
   },
   "cell_type": "code",
   "source": [
    "# create using Timestamp objects\n",
    "t1 = pd.Timestamp('16th October 2024 4:40:15')\n",
    "t2 = pd.Timestamp('20th October 2024 10:00:00')\n",
    "\n",
    "t2 - t1"
   ],
   "outputs": [
    {
     "data": {
      "text/plain": [
       "Timedelta('4 days 05:19:45')"
      ]
     },
     "execution_count": 176,
     "metadata": {},
     "output_type": "execute_result"
    }
   ],
   "execution_count": 176
  },
  {
   "metadata": {
    "ExecuteTime": {
     "end_time": "2024-10-17T22:01:17.679795Z",
     "start_time": "2024-10-17T22:01:17.675881Z"
    }
   },
   "cell_type": "code",
   "source": [
    "# standalone creation\n",
    "pd.Timedelta(days=2, hours=10, minutes=25, seconds=1)"
   ],
   "outputs": [
    {
     "data": {
      "text/plain": [
       "Timedelta('2 days 10:25:01')"
      ]
     },
     "execution_count": 177,
     "metadata": {},
     "output_type": "execute_result"
    }
   ],
   "execution_count": 177
  },
  {
   "metadata": {
    "ExecuteTime": {
     "end_time": "2024-10-17T22:01:17.714075Z",
     "start_time": "2024-10-17T22:01:17.709802Z"
    }
   },
   "cell_type": "code",
   "source": [
    "# Arithmetic\n",
    "t1"
   ],
   "outputs": [
    {
     "data": {
      "text/plain": [
       "Timestamp('2024-10-16 04:40:15')"
      ]
     },
     "execution_count": 178,
     "metadata": {},
     "output_type": "execute_result"
    }
   ],
   "execution_count": 178
  },
  {
   "metadata": {
    "ExecuteTime": {
     "end_time": "2024-10-17T22:01:17.750166Z",
     "start_time": "2024-10-17T22:01:17.745083Z"
    }
   },
   "cell_type": "code",
   "source": "t1 + pd.Timedelta(days=2, hours=10, minutes=25, seconds=1)",
   "outputs": [
    {
     "data": {
      "text/plain": [
       "Timestamp('2024-10-18 15:05:16')"
      ]
     },
     "execution_count": 179,
     "metadata": {},
     "output_type": "execute_result"
    }
   ],
   "execution_count": 179
  },
  {
   "metadata": {
    "ExecuteTime": {
     "end_time": "2024-10-17T22:01:17.808173Z",
     "start_time": "2024-10-17T22:01:17.802176Z"
    }
   },
   "cell_type": "code",
   "source": [
    "# works on proper set of timestamps\n",
    "pd.date_range(start='2024-10-1', end='2024/10/31', freq='D')"
   ],
   "outputs": [
    {
     "data": {
      "text/plain": [
       "DatetimeIndex(['2024-10-01', '2024-10-02', '2024-10-03', '2024-10-04',\n",
       "               '2024-10-05', '2024-10-06', '2024-10-07', '2024-10-08',\n",
       "               '2024-10-09', '2024-10-10', '2024-10-11', '2024-10-12',\n",
       "               '2024-10-13', '2024-10-14', '2024-10-15', '2024-10-16',\n",
       "               '2024-10-17', '2024-10-18', '2024-10-19', '2024-10-20',\n",
       "               '2024-10-21', '2024-10-22', '2024-10-23', '2024-10-24',\n",
       "               '2024-10-25', '2024-10-26', '2024-10-27', '2024-10-28',\n",
       "               '2024-10-29', '2024-10-30', '2024-10-31'],\n",
       "              dtype='datetime64[ns]', freq='D')"
      ]
     },
     "execution_count": 180,
     "metadata": {},
     "output_type": "execute_result"
    }
   ],
   "execution_count": 180
  },
  {
   "metadata": {
    "ExecuteTime": {
     "end_time": "2024-10-17T22:01:17.863072Z",
     "start_time": "2024-10-17T22:01:17.858262Z"
    }
   },
   "cell_type": "code",
   "source": "pd.date_range(start='2024-10-1', end='2024/10/31', freq='D') - pd.Timedelta(days=2, hours=10, minutes=12, seconds=1)",
   "outputs": [
    {
     "data": {
      "text/plain": [
       "DatetimeIndex(['2024-09-28 13:47:59', '2024-09-29 13:47:59',\n",
       "               '2024-09-30 13:47:59', '2024-10-01 13:47:59',\n",
       "               '2024-10-02 13:47:59', '2024-10-03 13:47:59',\n",
       "               '2024-10-04 13:47:59', '2024-10-05 13:47:59',\n",
       "               '2024-10-06 13:47:59', '2024-10-07 13:47:59',\n",
       "               '2024-10-08 13:47:59', '2024-10-09 13:47:59',\n",
       "               '2024-10-10 13:47:59', '2024-10-11 13:47:59',\n",
       "               '2024-10-12 13:47:59', '2024-10-13 13:47:59',\n",
       "               '2024-10-14 13:47:59', '2024-10-15 13:47:59',\n",
       "               '2024-10-16 13:47:59', '2024-10-17 13:47:59',\n",
       "               '2024-10-18 13:47:59', '2024-10-19 13:47:59',\n",
       "               '2024-10-20 13:47:59', '2024-10-21 13:47:59',\n",
       "               '2024-10-22 13:47:59', '2024-10-23 13:47:59',\n",
       "               '2024-10-24 13:47:59', '2024-10-25 13:47:59',\n",
       "               '2024-10-26 13:47:59', '2024-10-27 13:47:59',\n",
       "               '2024-10-28 13:47:59'],\n",
       "              dtype='datetime64[ns]', freq='D')"
      ]
     },
     "execution_count": 181,
     "metadata": {},
     "output_type": "execute_result"
    }
   ],
   "execution_count": 181
  },
  {
   "metadata": {
    "ExecuteTime": {
     "end_time": "2024-10-17T22:01:17.937547Z",
     "start_time": "2024-10-17T22:01:17.930032Z"
    }
   },
   "cell_type": "code",
   "source": [
    "# real life example\n",
    "df = pd.read_csv('deliveries.csv')\n",
    "df.head()"
   ],
   "outputs": [
    {
     "data": {
      "text/plain": [
       "  order_date delivery_date\n",
       "0    5/24/98        2/5/99\n",
       "1    4/22/92        3/6/98\n",
       "2    2/10/91       8/26/92\n",
       "3    7/21/92      11/20/97\n",
       "4     9/2/93       6/10/98"
      ],
      "text/html": [
       "<div>\n",
       "<style scoped>\n",
       "    .dataframe tbody tr th:only-of-type {\n",
       "        vertical-align: middle;\n",
       "    }\n",
       "\n",
       "    .dataframe tbody tr th {\n",
       "        vertical-align: top;\n",
       "    }\n",
       "\n",
       "    .dataframe thead th {\n",
       "        text-align: right;\n",
       "    }\n",
       "</style>\n",
       "<table border=\"1\" class=\"dataframe\">\n",
       "  <thead>\n",
       "    <tr style=\"text-align: right;\">\n",
       "      <th></th>\n",
       "      <th>order_date</th>\n",
       "      <th>delivery_date</th>\n",
       "    </tr>\n",
       "  </thead>\n",
       "  <tbody>\n",
       "    <tr>\n",
       "      <th>0</th>\n",
       "      <td>5/24/98</td>\n",
       "      <td>2/5/99</td>\n",
       "    </tr>\n",
       "    <tr>\n",
       "      <th>1</th>\n",
       "      <td>4/22/92</td>\n",
       "      <td>3/6/98</td>\n",
       "    </tr>\n",
       "    <tr>\n",
       "      <th>2</th>\n",
       "      <td>2/10/91</td>\n",
       "      <td>8/26/92</td>\n",
       "    </tr>\n",
       "    <tr>\n",
       "      <th>3</th>\n",
       "      <td>7/21/92</td>\n",
       "      <td>11/20/97</td>\n",
       "    </tr>\n",
       "    <tr>\n",
       "      <th>4</th>\n",
       "      <td>9/2/93</td>\n",
       "      <td>6/10/98</td>\n",
       "    </tr>\n",
       "  </tbody>\n",
       "</table>\n",
       "</div>"
      ]
     },
     "execution_count": 182,
     "metadata": {},
     "output_type": "execute_result"
    }
   ],
   "execution_count": 182
  },
  {
   "metadata": {
    "ExecuteTime": {
     "end_time": "2024-10-17T22:01:17.964781Z",
     "start_time": "2024-10-17T22:01:17.960555Z"
    }
   },
   "cell_type": "code",
   "source": [
    "# average delivery time of this dataset\n",
    "# studying dataset\n",
    "df.shape"
   ],
   "outputs": [
    {
     "data": {
      "text/plain": [
       "(501, 2)"
      ]
     },
     "execution_count": 183,
     "metadata": {},
     "output_type": "execute_result"
    }
   ],
   "execution_count": 183
  },
  {
   "metadata": {
    "ExecuteTime": {
     "end_time": "2024-10-17T22:01:18.009092Z",
     "start_time": "2024-10-17T22:01:18.002406Z"
    }
   },
   "cell_type": "code",
   "source": "df.info()",
   "outputs": [
    {
     "name": "stdout",
     "output_type": "stream",
     "text": [
      "<class 'pandas.core.frame.DataFrame'>\n",
      "RangeIndex: 501 entries, 0 to 500\n",
      "Data columns (total 2 columns):\n",
      " #   Column         Non-Null Count  Dtype \n",
      "---  ------         --------------  ----- \n",
      " 0   order_date     501 non-null    object\n",
      " 1   delivery_date  501 non-null    object\n",
      "dtypes: object(2)\n",
      "memory usage: 8.0+ KB\n"
     ]
    }
   ],
   "execution_count": 184
  },
  {
   "metadata": {
    "ExecuteTime": {
     "end_time": "2024-10-17T22:01:18.115263Z",
     "start_time": "2024-10-17T22:01:18.073099Z"
    }
   },
   "cell_type": "code",
   "source": [
    "df['order_date'] = pd.to_datetime(df['order_date'])\n",
    "df['delivery_date'] = pd.to_datetime(df['delivery_date'])\n",
    "df.info()"
   ],
   "outputs": [
    {
     "name": "stdout",
     "output_type": "stream",
     "text": [
      "<class 'pandas.core.frame.DataFrame'>\n",
      "RangeIndex: 501 entries, 0 to 500\n",
      "Data columns (total 2 columns):\n",
      " #   Column         Non-Null Count  Dtype         \n",
      "---  ------         --------------  -----         \n",
      " 0   order_date     501 non-null    datetime64[ns]\n",
      " 1   delivery_date  501 non-null    datetime64[ns]\n",
      "dtypes: datetime64[ns](2)\n",
      "memory usage: 8.0 KB\n"
     ]
    },
    {
     "name": "stderr",
     "output_type": "stream",
     "text": [
      "C:\\Users\\15105\\AppData\\Local\\Temp\\ipykernel_27248\\1986493186.py:1: UserWarning: Could not infer format, so each element will be parsed individually, falling back to `dateutil`. To ensure parsing is consistent and as-expected, please specify a format.\n",
      "  df['order_date'] = pd.to_datetime(df['order_date'])\n",
      "C:\\Users\\15105\\AppData\\Local\\Temp\\ipykernel_27248\\1986493186.py:2: UserWarning: Could not infer format, so each element will be parsed individually, falling back to `dateutil`. To ensure parsing is consistent and as-expected, please specify a format.\n",
      "  df['delivery_date'] = pd.to_datetime(df['delivery_date'])\n"
     ]
    }
   ],
   "execution_count": 185
  },
  {
   "metadata": {
    "ExecuteTime": {
     "end_time": "2024-10-17T22:01:18.182894Z",
     "start_time": "2024-10-17T22:01:18.175521Z"
    }
   },
   "cell_type": "code",
   "source": [
    "df['delivery_time_period'] = df['delivery_date'] - df['order_date']\n",
    "df.head()"
   ],
   "outputs": [
    {
     "data": {
      "text/plain": [
       "  order_date delivery_date delivery_time_period\n",
       "0 1998-05-24    1999-02-05             257 days\n",
       "1 1992-04-22    1998-03-06            2144 days\n",
       "2 1991-02-10    1992-08-26             563 days\n",
       "3 1992-07-21    1997-11-20            1948 days\n",
       "4 1993-09-02    1998-06-10            1742 days"
      ],
      "text/html": [
       "<div>\n",
       "<style scoped>\n",
       "    .dataframe tbody tr th:only-of-type {\n",
       "        vertical-align: middle;\n",
       "    }\n",
       "\n",
       "    .dataframe tbody tr th {\n",
       "        vertical-align: top;\n",
       "    }\n",
       "\n",
       "    .dataframe thead th {\n",
       "        text-align: right;\n",
       "    }\n",
       "</style>\n",
       "<table border=\"1\" class=\"dataframe\">\n",
       "  <thead>\n",
       "    <tr style=\"text-align: right;\">\n",
       "      <th></th>\n",
       "      <th>order_date</th>\n",
       "      <th>delivery_date</th>\n",
       "      <th>delivery_time_period</th>\n",
       "    </tr>\n",
       "  </thead>\n",
       "  <tbody>\n",
       "    <tr>\n",
       "      <th>0</th>\n",
       "      <td>1998-05-24</td>\n",
       "      <td>1999-02-05</td>\n",
       "      <td>257 days</td>\n",
       "    </tr>\n",
       "    <tr>\n",
       "      <th>1</th>\n",
       "      <td>1992-04-22</td>\n",
       "      <td>1998-03-06</td>\n",
       "      <td>2144 days</td>\n",
       "    </tr>\n",
       "    <tr>\n",
       "      <th>2</th>\n",
       "      <td>1991-02-10</td>\n",
       "      <td>1992-08-26</td>\n",
       "      <td>563 days</td>\n",
       "    </tr>\n",
       "    <tr>\n",
       "      <th>3</th>\n",
       "      <td>1992-07-21</td>\n",
       "      <td>1997-11-20</td>\n",
       "      <td>1948 days</td>\n",
       "    </tr>\n",
       "    <tr>\n",
       "      <th>4</th>\n",
       "      <td>1993-09-02</td>\n",
       "      <td>1998-06-10</td>\n",
       "      <td>1742 days</td>\n",
       "    </tr>\n",
       "  </tbody>\n",
       "</table>\n",
       "</div>"
      ]
     },
     "execution_count": 186,
     "metadata": {},
     "output_type": "execute_result"
    }
   ],
   "execution_count": 186
  },
  {
   "metadata": {
    "ExecuteTime": {
     "end_time": "2024-10-17T22:01:18.234068Z",
     "start_time": "2024-10-17T22:01:18.229905Z"
    }
   },
   "cell_type": "code",
   "source": "df['delivery_time_period'].mean()",
   "outputs": [
    {
     "data": {
      "text/plain": [
       "Timedelta('1217 days 22:53:53.532934128')"
      ]
     },
     "execution_count": 187,
     "metadata": {},
     "output_type": "execute_result"
    }
   ],
   "execution_count": 187
  },
  {
   "metadata": {},
   "cell_type": "markdown",
   "source": [
    "# Time Series\n",
    "A time series is a data set that tracks a sample over time. In particular, a time series allows one ot see what factors influence certain variables from period to period. Time series analysis can be useful to  see how a given asses, security, or economic variable changes over time\n",
    "Examples\n",
    "- Financial Data (Company stocks)\n",
    "- Natural Data (Rainfall measurement)\n",
    "- Event Data (Covid)\n",
    "- Medical Data (Heart rate monitoring)\n",
    "\n",
    "Types of Operations done on Time Series\n",
    "- Time Series Analysis\n",
    "- Time Series Forecasting"
   ]
  },
  {
   "metadata": {
    "ExecuteTime": {
     "end_time": "2024-10-17T22:01:18.307074Z",
     "start_time": "2024-10-17T22:01:18.292074Z"
    }
   },
   "cell_type": "code",
   "source": [
    "google = pd.read_csv('google.csv')\n",
    "print(google.shape)\n",
    "google.head()"
   ],
   "outputs": [
    {
     "name": "stdout",
     "output_type": "stream",
     "text": [
      "(4471, 7)\n"
     ]
    },
    {
     "data": {
      "text/plain": [
       "         Date       Open       High        Low      Close  Adj Close    Volume\n",
       "0  2004-08-19  49.813290  51.835709  47.800831  49.982655  49.982655  44871361\n",
       "1  2004-08-20  50.316402  54.336334  50.062355  53.952770  53.952770  22942874\n",
       "2  2004-08-23  55.168217  56.528118  54.321388  54.495735  54.495735  18342897\n",
       "3  2004-08-24  55.412300  55.591629  51.591621  52.239197  52.239197  15319808\n",
       "4  2004-08-25  52.284027  53.798351  51.746044  52.802086  52.802086   9232276"
      ],
      "text/html": [
       "<div>\n",
       "<style scoped>\n",
       "    .dataframe tbody tr th:only-of-type {\n",
       "        vertical-align: middle;\n",
       "    }\n",
       "\n",
       "    .dataframe tbody tr th {\n",
       "        vertical-align: top;\n",
       "    }\n",
       "\n",
       "    .dataframe thead th {\n",
       "        text-align: right;\n",
       "    }\n",
       "</style>\n",
       "<table border=\"1\" class=\"dataframe\">\n",
       "  <thead>\n",
       "    <tr style=\"text-align: right;\">\n",
       "      <th></th>\n",
       "      <th>Date</th>\n",
       "      <th>Open</th>\n",
       "      <th>High</th>\n",
       "      <th>Low</th>\n",
       "      <th>Close</th>\n",
       "      <th>Adj Close</th>\n",
       "      <th>Volume</th>\n",
       "    </tr>\n",
       "  </thead>\n",
       "  <tbody>\n",
       "    <tr>\n",
       "      <th>0</th>\n",
       "      <td>2004-08-19</td>\n",
       "      <td>49.813290</td>\n",
       "      <td>51.835709</td>\n",
       "      <td>47.800831</td>\n",
       "      <td>49.982655</td>\n",
       "      <td>49.982655</td>\n",
       "      <td>44871361</td>\n",
       "    </tr>\n",
       "    <tr>\n",
       "      <th>1</th>\n",
       "      <td>2004-08-20</td>\n",
       "      <td>50.316402</td>\n",
       "      <td>54.336334</td>\n",
       "      <td>50.062355</td>\n",
       "      <td>53.952770</td>\n",
       "      <td>53.952770</td>\n",
       "      <td>22942874</td>\n",
       "    </tr>\n",
       "    <tr>\n",
       "      <th>2</th>\n",
       "      <td>2004-08-23</td>\n",
       "      <td>55.168217</td>\n",
       "      <td>56.528118</td>\n",
       "      <td>54.321388</td>\n",
       "      <td>54.495735</td>\n",
       "      <td>54.495735</td>\n",
       "      <td>18342897</td>\n",
       "    </tr>\n",
       "    <tr>\n",
       "      <th>3</th>\n",
       "      <td>2004-08-24</td>\n",
       "      <td>55.412300</td>\n",
       "      <td>55.591629</td>\n",
       "      <td>51.591621</td>\n",
       "      <td>52.239197</td>\n",
       "      <td>52.239197</td>\n",
       "      <td>15319808</td>\n",
       "    </tr>\n",
       "    <tr>\n",
       "      <th>4</th>\n",
       "      <td>2004-08-25</td>\n",
       "      <td>52.284027</td>\n",
       "      <td>53.798351</td>\n",
       "      <td>51.746044</td>\n",
       "      <td>52.802086</td>\n",
       "      <td>52.802086</td>\n",
       "      <td>9232276</td>\n",
       "    </tr>\n",
       "  </tbody>\n",
       "</table>\n",
       "</div>"
      ]
     },
     "execution_count": 188,
     "metadata": {},
     "output_type": "execute_result"
    }
   ],
   "execution_count": 188
  },
  {
   "metadata": {
    "ExecuteTime": {
     "end_time": "2024-10-17T22:01:18.352806Z",
     "start_time": "2024-10-17T22:01:18.346081Z"
    }
   },
   "cell_type": "code",
   "source": "google.tail()",
   "outputs": [
    {
     "data": {
      "text/plain": [
       "            Date         Open         High          Low        Close  \\\n",
       "4466  2022-05-16  2307.679932  2332.149902  2286.699951  2295.850098   \n",
       "4467  2022-05-17  2344.550049  2344.550049  2306.750000  2334.030029   \n",
       "4468  2022-05-18  2304.750000  2313.913086  2242.840088  2248.020020   \n",
       "4469  2022-05-19  2236.820068  2271.750000  2209.360107  2214.909912   \n",
       "4470  2022-05-20  2241.709961  2251.000000  2127.459961  2186.260010   \n",
       "\n",
       "        Adj Close   Volume  \n",
       "4466  2295.850098  1164100  \n",
       "4467  2334.030029  1078800  \n",
       "4468  2248.020020  1399100  \n",
       "4469  2214.909912  1459600  \n",
       "4470  2186.260010  1878100  "
      ],
      "text/html": [
       "<div>\n",
       "<style scoped>\n",
       "    .dataframe tbody tr th:only-of-type {\n",
       "        vertical-align: middle;\n",
       "    }\n",
       "\n",
       "    .dataframe tbody tr th {\n",
       "        vertical-align: top;\n",
       "    }\n",
       "\n",
       "    .dataframe thead th {\n",
       "        text-align: right;\n",
       "    }\n",
       "</style>\n",
       "<table border=\"1\" class=\"dataframe\">\n",
       "  <thead>\n",
       "    <tr style=\"text-align: right;\">\n",
       "      <th></th>\n",
       "      <th>Date</th>\n",
       "      <th>Open</th>\n",
       "      <th>High</th>\n",
       "      <th>Low</th>\n",
       "      <th>Close</th>\n",
       "      <th>Adj Close</th>\n",
       "      <th>Volume</th>\n",
       "    </tr>\n",
       "  </thead>\n",
       "  <tbody>\n",
       "    <tr>\n",
       "      <th>4466</th>\n",
       "      <td>2022-05-16</td>\n",
       "      <td>2307.679932</td>\n",
       "      <td>2332.149902</td>\n",
       "      <td>2286.699951</td>\n",
       "      <td>2295.850098</td>\n",
       "      <td>2295.850098</td>\n",
       "      <td>1164100</td>\n",
       "    </tr>\n",
       "    <tr>\n",
       "      <th>4467</th>\n",
       "      <td>2022-05-17</td>\n",
       "      <td>2344.550049</td>\n",
       "      <td>2344.550049</td>\n",
       "      <td>2306.750000</td>\n",
       "      <td>2334.030029</td>\n",
       "      <td>2334.030029</td>\n",
       "      <td>1078800</td>\n",
       "    </tr>\n",
       "    <tr>\n",
       "      <th>4468</th>\n",
       "      <td>2022-05-18</td>\n",
       "      <td>2304.750000</td>\n",
       "      <td>2313.913086</td>\n",
       "      <td>2242.840088</td>\n",
       "      <td>2248.020020</td>\n",
       "      <td>2248.020020</td>\n",
       "      <td>1399100</td>\n",
       "    </tr>\n",
       "    <tr>\n",
       "      <th>4469</th>\n",
       "      <td>2022-05-19</td>\n",
       "      <td>2236.820068</td>\n",
       "      <td>2271.750000</td>\n",
       "      <td>2209.360107</td>\n",
       "      <td>2214.909912</td>\n",
       "      <td>2214.909912</td>\n",
       "      <td>1459600</td>\n",
       "    </tr>\n",
       "    <tr>\n",
       "      <th>4470</th>\n",
       "      <td>2022-05-20</td>\n",
       "      <td>2241.709961</td>\n",
       "      <td>2251.000000</td>\n",
       "      <td>2127.459961</td>\n",
       "      <td>2186.260010</td>\n",
       "      <td>2186.260010</td>\n",
       "      <td>1878100</td>\n",
       "    </tr>\n",
       "  </tbody>\n",
       "</table>\n",
       "</div>"
      ]
     },
     "execution_count": 189,
     "metadata": {},
     "output_type": "execute_result"
    }
   ],
   "execution_count": 189
  },
  {
   "metadata": {
    "ExecuteTime": {
     "end_time": "2024-10-17T22:01:18.521020Z",
     "start_time": "2024-10-17T22:01:18.469648Z"
    }
   },
   "cell_type": "code",
   "source": [
    "youtube = pd.read_csv('Youtube_dataset_all_dataScience_channels.csv')\n",
    "print(youtube.shape)\n",
    "youtube.head()"
   ],
   "outputs": [
    {
     "name": "stdout",
     "output_type": "stream",
     "text": [
      "(23002, 6)\n"
     ]
    },
    {
     "data": {
      "text/plain": [
       "     Channel_Name                                              Title  \\\n",
       "0  Rishabh Mishra  POWER BI Full PROJECT for Data Analysis with P...   \n",
       "1  Rishabh Mishra  AI Revolution - Future of Data Analyst Jobs & ...   \n",
       "2  Rishabh Mishra  Reality of Data Analyst Courses and Data Scien...   \n",
       "3  Rishabh Mishra  Personal Portfolio Website for Beginners | How...   \n",
       "4  Rishabh Mishra  How To Create LinkedIn Profile in 2024 | Linke...   \n",
       "\n",
       "  Published_date     Views  Like_count  Comment_Count  \n",
       "0     2024-04-20  157284.0      5575.0          632.0  \n",
       "1     2024-03-23   78155.0      2712.0          245.0  \n",
       "2     2024-03-16   43627.0      1285.0          267.0  \n",
       "3     2024-01-21  129956.0      3462.0          358.0  \n",
       "4     2024-01-17  143309.0      3389.0          192.0  "
      ],
      "text/html": [
       "<div>\n",
       "<style scoped>\n",
       "    .dataframe tbody tr th:only-of-type {\n",
       "        vertical-align: middle;\n",
       "    }\n",
       "\n",
       "    .dataframe tbody tr th {\n",
       "        vertical-align: top;\n",
       "    }\n",
       "\n",
       "    .dataframe thead th {\n",
       "        text-align: right;\n",
       "    }\n",
       "</style>\n",
       "<table border=\"1\" class=\"dataframe\">\n",
       "  <thead>\n",
       "    <tr style=\"text-align: right;\">\n",
       "      <th></th>\n",
       "      <th>Channel_Name</th>\n",
       "      <th>Title</th>\n",
       "      <th>Published_date</th>\n",
       "      <th>Views</th>\n",
       "      <th>Like_count</th>\n",
       "      <th>Comment_Count</th>\n",
       "    </tr>\n",
       "  </thead>\n",
       "  <tbody>\n",
       "    <tr>\n",
       "      <th>0</th>\n",
       "      <td>Rishabh Mishra</td>\n",
       "      <td>POWER BI Full PROJECT for Data Analysis with P...</td>\n",
       "      <td>2024-04-20</td>\n",
       "      <td>157284.0</td>\n",
       "      <td>5575.0</td>\n",
       "      <td>632.0</td>\n",
       "    </tr>\n",
       "    <tr>\n",
       "      <th>1</th>\n",
       "      <td>Rishabh Mishra</td>\n",
       "      <td>AI Revolution - Future of Data Analyst Jobs &amp; ...</td>\n",
       "      <td>2024-03-23</td>\n",
       "      <td>78155.0</td>\n",
       "      <td>2712.0</td>\n",
       "      <td>245.0</td>\n",
       "    </tr>\n",
       "    <tr>\n",
       "      <th>2</th>\n",
       "      <td>Rishabh Mishra</td>\n",
       "      <td>Reality of Data Analyst Courses and Data Scien...</td>\n",
       "      <td>2024-03-16</td>\n",
       "      <td>43627.0</td>\n",
       "      <td>1285.0</td>\n",
       "      <td>267.0</td>\n",
       "    </tr>\n",
       "    <tr>\n",
       "      <th>3</th>\n",
       "      <td>Rishabh Mishra</td>\n",
       "      <td>Personal Portfolio Website for Beginners | How...</td>\n",
       "      <td>2024-01-21</td>\n",
       "      <td>129956.0</td>\n",
       "      <td>3462.0</td>\n",
       "      <td>358.0</td>\n",
       "    </tr>\n",
       "    <tr>\n",
       "      <th>4</th>\n",
       "      <td>Rishabh Mishra</td>\n",
       "      <td>How To Create LinkedIn Profile in 2024 | Linke...</td>\n",
       "      <td>2024-01-17</td>\n",
       "      <td>143309.0</td>\n",
       "      <td>3389.0</td>\n",
       "      <td>192.0</td>\n",
       "    </tr>\n",
       "  </tbody>\n",
       "</table>\n",
       "</div>"
      ]
     },
     "execution_count": 190,
     "metadata": {},
     "output_type": "execute_result"
    }
   ],
   "execution_count": 190
  },
  {
   "metadata": {
    "ExecuteTime": {
     "end_time": "2024-10-17T22:01:18.572299Z",
     "start_time": "2024-10-17T22:01:18.565513Z"
    }
   },
   "cell_type": "code",
   "source": [
    "yt = youtube[['Published_date', 'Views', 'Comment_Count']]\n",
    "yt.head()"
   ],
   "outputs": [
    {
     "data": {
      "text/plain": [
       "  Published_date     Views  Comment_Count\n",
       "0     2024-04-20  157284.0          632.0\n",
       "1     2024-03-23   78155.0          245.0\n",
       "2     2024-03-16   43627.0          267.0\n",
       "3     2024-01-21  129956.0          358.0\n",
       "4     2024-01-17  143309.0          192.0"
      ],
      "text/html": [
       "<div>\n",
       "<style scoped>\n",
       "    .dataframe tbody tr th:only-of-type {\n",
       "        vertical-align: middle;\n",
       "    }\n",
       "\n",
       "    .dataframe tbody tr th {\n",
       "        vertical-align: top;\n",
       "    }\n",
       "\n",
       "    .dataframe thead th {\n",
       "        text-align: right;\n",
       "    }\n",
       "</style>\n",
       "<table border=\"1\" class=\"dataframe\">\n",
       "  <thead>\n",
       "    <tr style=\"text-align: right;\">\n",
       "      <th></th>\n",
       "      <th>Published_date</th>\n",
       "      <th>Views</th>\n",
       "      <th>Comment_Count</th>\n",
       "    </tr>\n",
       "  </thead>\n",
       "  <tbody>\n",
       "    <tr>\n",
       "      <th>0</th>\n",
       "      <td>2024-04-20</td>\n",
       "      <td>157284.0</td>\n",
       "      <td>632.0</td>\n",
       "    </tr>\n",
       "    <tr>\n",
       "      <th>1</th>\n",
       "      <td>2024-03-23</td>\n",
       "      <td>78155.0</td>\n",
       "      <td>245.0</td>\n",
       "    </tr>\n",
       "    <tr>\n",
       "      <th>2</th>\n",
       "      <td>2024-03-16</td>\n",
       "      <td>43627.0</td>\n",
       "      <td>267.0</td>\n",
       "    </tr>\n",
       "    <tr>\n",
       "      <th>3</th>\n",
       "      <td>2024-01-21</td>\n",
       "      <td>129956.0</td>\n",
       "      <td>358.0</td>\n",
       "    </tr>\n",
       "    <tr>\n",
       "      <th>4</th>\n",
       "      <td>2024-01-17</td>\n",
       "      <td>143309.0</td>\n",
       "      <td>192.0</td>\n",
       "    </tr>\n",
       "  </tbody>\n",
       "</table>\n",
       "</div>"
      ]
     },
     "execution_count": 191,
     "metadata": {},
     "output_type": "execute_result"
    }
   ],
   "execution_count": 191
  },
  {
   "metadata": {
    "ExecuteTime": {
     "end_time": "2024-10-17T22:01:18.683330Z",
     "start_time": "2024-10-17T22:01:18.676818Z"
    }
   },
   "cell_type": "code",
   "source": "google.info()",
   "outputs": [
    {
     "name": "stdout",
     "output_type": "stream",
     "text": [
      "<class 'pandas.core.frame.DataFrame'>\n",
      "RangeIndex: 4471 entries, 0 to 4470\n",
      "Data columns (total 7 columns):\n",
      " #   Column     Non-Null Count  Dtype  \n",
      "---  ------     --------------  -----  \n",
      " 0   Date       4471 non-null   object \n",
      " 1   Open       4471 non-null   float64\n",
      " 2   High       4471 non-null   float64\n",
      " 3   Low        4471 non-null   float64\n",
      " 4   Close      4471 non-null   float64\n",
      " 5   Adj Close  4471 non-null   float64\n",
      " 6   Volume     4471 non-null   int64  \n",
      "dtypes: float64(5), int64(1), object(1)\n",
      "memory usage: 244.6+ KB\n"
     ]
    }
   ],
   "execution_count": 192
  },
  {
   "metadata": {
    "ExecuteTime": {
     "end_time": "2024-10-17T22:01:18.775862Z",
     "start_time": "2024-10-17T22:01:18.769355Z"
    }
   },
   "cell_type": "code",
   "source": "yt.info()",
   "outputs": [
    {
     "name": "stdout",
     "output_type": "stream",
     "text": [
      "<class 'pandas.core.frame.DataFrame'>\n",
      "RangeIndex: 23002 entries, 0 to 23001\n",
      "Data columns (total 3 columns):\n",
      " #   Column          Non-Null Count  Dtype  \n",
      "---  ------          --------------  -----  \n",
      " 0   Published_date  23002 non-null  object \n",
      " 1   Views           23000 non-null  float64\n",
      " 2   Comment_Count   22975 non-null  float64\n",
      "dtypes: float64(2), object(1)\n",
      "memory usage: 539.2+ KB\n"
     ]
    }
   ],
   "execution_count": 193
  },
  {
   "metadata": {
    "ExecuteTime": {
     "end_time": "2024-10-17T22:01:18.912205Z",
     "start_time": "2024-10-17T22:01:18.889997Z"
    }
   },
   "cell_type": "code",
   "source": [
    "google['Date'] = pd.to_datetime(google['Date'])\n",
    "yt['Published_date'] = pd.to_datetime(yt['Published_date'])\n",
    "google.info()"
   ],
   "outputs": [
    {
     "name": "stdout",
     "output_type": "stream",
     "text": [
      "<class 'pandas.core.frame.DataFrame'>\n",
      "RangeIndex: 4471 entries, 0 to 4470\n",
      "Data columns (total 7 columns):\n",
      " #   Column     Non-Null Count  Dtype         \n",
      "---  ------     --------------  -----         \n",
      " 0   Date       4471 non-null   datetime64[ns]\n",
      " 1   Open       4471 non-null   float64       \n",
      " 2   High       4471 non-null   float64       \n",
      " 3   Low        4471 non-null   float64       \n",
      " 4   Close      4471 non-null   float64       \n",
      " 5   Adj Close  4471 non-null   float64       \n",
      " 6   Volume     4471 non-null   int64         \n",
      "dtypes: datetime64[ns](1), float64(5), int64(1)\n",
      "memory usage: 244.6 KB\n"
     ]
    },
    {
     "name": "stderr",
     "output_type": "stream",
     "text": [
      "C:\\Users\\15105\\AppData\\Local\\Temp\\ipykernel_27248\\4142369097.py:2: SettingWithCopyWarning: \n",
      "A value is trying to be set on a copy of a slice from a DataFrame.\n",
      "Try using .loc[row_indexer,col_indexer] = value instead\n",
      "\n",
      "See the caveats in the documentation: https://pandas.pydata.org/pandas-docs/stable/user_guide/indexing.html#returning-a-view-versus-a-copy\n",
      "  yt['Published_date'] = pd.to_datetime(yt['Published_date'])\n"
     ]
    }
   ],
   "execution_count": 194
  },
  {
   "metadata": {
    "ExecuteTime": {
     "end_time": "2024-10-17T22:01:19.070485Z",
     "start_time": "2024-10-17T22:01:19.064783Z"
    }
   },
   "cell_type": "code",
   "source": "yt.info()",
   "outputs": [
    {
     "name": "stdout",
     "output_type": "stream",
     "text": [
      "<class 'pandas.core.frame.DataFrame'>\n",
      "RangeIndex: 23002 entries, 0 to 23001\n",
      "Data columns (total 3 columns):\n",
      " #   Column          Non-Null Count  Dtype         \n",
      "---  ------          --------------  -----         \n",
      " 0   Published_date  23002 non-null  datetime64[ns]\n",
      " 1   Views           23000 non-null  float64       \n",
      " 2   Comment_Count   22975 non-null  float64       \n",
      "dtypes: datetime64[ns](1), float64(2)\n",
      "memory usage: 539.2 KB\n"
     ]
    }
   ],
   "execution_count": 195
  },
  {
   "metadata": {
    "ExecuteTime": {
     "end_time": "2024-10-17T22:01:19.122133Z",
     "start_time": "2024-10-17T22:01:19.112491Z"
    }
   },
   "cell_type": "code",
   "source": [
    "yt.sort_index(ascending=False, inplace=True)\n",
    "yt.head()"
   ],
   "outputs": [
    {
     "name": "stderr",
     "output_type": "stream",
     "text": [
      "C:\\Users\\15105\\AppData\\Local\\Temp\\ipykernel_27248\\1756431959.py:1: SettingWithCopyWarning: \n",
      "A value is trying to be set on a copy of a slice from a DataFrame\n",
      "\n",
      "See the caveats in the documentation: https://pandas.pydata.org/pandas-docs/stable/user_guide/indexing.html#returning-a-view-versus-a-copy\n",
      "  yt.sort_index(ascending=False, inplace=True)\n"
     ]
    },
    {
     "data": {
      "text/plain": [
       "      Published_date    Views  Comment_Count\n",
       "23001     2020-01-17  29074.0          140.0\n",
       "23000     2020-01-21   8943.0           19.0\n",
       "22999     2020-01-23  64571.0          229.0\n",
       "22998     2020-01-25  15225.0           22.0\n",
       "22997     2020-01-30  72678.0           64.0"
      ],
      "text/html": [
       "<div>\n",
       "<style scoped>\n",
       "    .dataframe tbody tr th:only-of-type {\n",
       "        vertical-align: middle;\n",
       "    }\n",
       "\n",
       "    .dataframe tbody tr th {\n",
       "        vertical-align: top;\n",
       "    }\n",
       "\n",
       "    .dataframe thead th {\n",
       "        text-align: right;\n",
       "    }\n",
       "</style>\n",
       "<table border=\"1\" class=\"dataframe\">\n",
       "  <thead>\n",
       "    <tr style=\"text-align: right;\">\n",
       "      <th></th>\n",
       "      <th>Published_date</th>\n",
       "      <th>Views</th>\n",
       "      <th>Comment_Count</th>\n",
       "    </tr>\n",
       "  </thead>\n",
       "  <tbody>\n",
       "    <tr>\n",
       "      <th>23001</th>\n",
       "      <td>2020-01-17</td>\n",
       "      <td>29074.0</td>\n",
       "      <td>140.0</td>\n",
       "    </tr>\n",
       "    <tr>\n",
       "      <th>23000</th>\n",
       "      <td>2020-01-21</td>\n",
       "      <td>8943.0</td>\n",
       "      <td>19.0</td>\n",
       "    </tr>\n",
       "    <tr>\n",
       "      <th>22999</th>\n",
       "      <td>2020-01-23</td>\n",
       "      <td>64571.0</td>\n",
       "      <td>229.0</td>\n",
       "    </tr>\n",
       "    <tr>\n",
       "      <th>22998</th>\n",
       "      <td>2020-01-25</td>\n",
       "      <td>15225.0</td>\n",
       "      <td>22.0</td>\n",
       "    </tr>\n",
       "    <tr>\n",
       "      <th>22997</th>\n",
       "      <td>2020-01-30</td>\n",
       "      <td>72678.0</td>\n",
       "      <td>64.0</td>\n",
       "    </tr>\n",
       "  </tbody>\n",
       "</table>\n",
       "</div>"
      ]
     },
     "execution_count": 196,
     "metadata": {},
     "output_type": "execute_result"
    }
   ],
   "execution_count": 196
  },
  {
   "metadata": {
    "ExecuteTime": {
     "end_time": "2024-10-17T22:01:19.184353Z",
     "start_time": "2024-10-17T22:01:19.174530Z"
    }
   },
   "cell_type": "code",
   "source": "google.set_index('Date').head()",
   "outputs": [
    {
     "data": {
      "text/plain": [
       "                 Open       High        Low      Close  Adj Close    Volume\n",
       "Date                                                                       \n",
       "2004-08-19  49.813290  51.835709  47.800831  49.982655  49.982655  44871361\n",
       "2004-08-20  50.316402  54.336334  50.062355  53.952770  53.952770  22942874\n",
       "2004-08-23  55.168217  56.528118  54.321388  54.495735  54.495735  18342897\n",
       "2004-08-24  55.412300  55.591629  51.591621  52.239197  52.239197  15319808\n",
       "2004-08-25  52.284027  53.798351  51.746044  52.802086  52.802086   9232276"
      ],
      "text/html": [
       "<div>\n",
       "<style scoped>\n",
       "    .dataframe tbody tr th:only-of-type {\n",
       "        vertical-align: middle;\n",
       "    }\n",
       "\n",
       "    .dataframe tbody tr th {\n",
       "        vertical-align: top;\n",
       "    }\n",
       "\n",
       "    .dataframe thead th {\n",
       "        text-align: right;\n",
       "    }\n",
       "</style>\n",
       "<table border=\"1\" class=\"dataframe\">\n",
       "  <thead>\n",
       "    <tr style=\"text-align: right;\">\n",
       "      <th></th>\n",
       "      <th>Open</th>\n",
       "      <th>High</th>\n",
       "      <th>Low</th>\n",
       "      <th>Close</th>\n",
       "      <th>Adj Close</th>\n",
       "      <th>Volume</th>\n",
       "    </tr>\n",
       "    <tr>\n",
       "      <th>Date</th>\n",
       "      <th></th>\n",
       "      <th></th>\n",
       "      <th></th>\n",
       "      <th></th>\n",
       "      <th></th>\n",
       "      <th></th>\n",
       "    </tr>\n",
       "  </thead>\n",
       "  <tbody>\n",
       "    <tr>\n",
       "      <th>2004-08-19</th>\n",
       "      <td>49.813290</td>\n",
       "      <td>51.835709</td>\n",
       "      <td>47.800831</td>\n",
       "      <td>49.982655</td>\n",
       "      <td>49.982655</td>\n",
       "      <td>44871361</td>\n",
       "    </tr>\n",
       "    <tr>\n",
       "      <th>2004-08-20</th>\n",
       "      <td>50.316402</td>\n",
       "      <td>54.336334</td>\n",
       "      <td>50.062355</td>\n",
       "      <td>53.952770</td>\n",
       "      <td>53.952770</td>\n",
       "      <td>22942874</td>\n",
       "    </tr>\n",
       "    <tr>\n",
       "      <th>2004-08-23</th>\n",
       "      <td>55.168217</td>\n",
       "      <td>56.528118</td>\n",
       "      <td>54.321388</td>\n",
       "      <td>54.495735</td>\n",
       "      <td>54.495735</td>\n",
       "      <td>18342897</td>\n",
       "    </tr>\n",
       "    <tr>\n",
       "      <th>2004-08-24</th>\n",
       "      <td>55.412300</td>\n",
       "      <td>55.591629</td>\n",
       "      <td>51.591621</td>\n",
       "      <td>52.239197</td>\n",
       "      <td>52.239197</td>\n",
       "      <td>15319808</td>\n",
       "    </tr>\n",
       "    <tr>\n",
       "      <th>2004-08-25</th>\n",
       "      <td>52.284027</td>\n",
       "      <td>53.798351</td>\n",
       "      <td>51.746044</td>\n",
       "      <td>52.802086</td>\n",
       "      <td>52.802086</td>\n",
       "      <td>9232276</td>\n",
       "    </tr>\n",
       "  </tbody>\n",
       "</table>\n",
       "</div>"
      ]
     },
     "execution_count": 197,
     "metadata": {},
     "output_type": "execute_result"
    }
   ],
   "execution_count": 197
  },
  {
   "metadata": {
    "ExecuteTime": {
     "end_time": "2024-10-17T22:01:19.282598Z",
     "start_time": "2024-10-17T22:01:19.276638Z"
    }
   },
   "cell_type": "code",
   "source": [
    "google.set_index('Date', inplace=True)\n",
    "yt.set_index('Published_date', inplace=True)"
   ],
   "outputs": [],
   "execution_count": 198
  },
  {
   "metadata": {
    "ExecuteTime": {
     "end_time": "2024-10-17T22:01:19.389244Z",
     "start_time": "2024-10-17T22:01:19.382530Z"
    }
   },
   "cell_type": "code",
   "source": "yt.head()",
   "outputs": [
    {
     "data": {
      "text/plain": [
       "                  Views  Comment_Count\n",
       "Published_date                        \n",
       "2020-01-17      29074.0          140.0\n",
       "2020-01-21       8943.0           19.0\n",
       "2020-01-23      64571.0          229.0\n",
       "2020-01-25      15225.0           22.0\n",
       "2020-01-30      72678.0           64.0"
      ],
      "text/html": [
       "<div>\n",
       "<style scoped>\n",
       "    .dataframe tbody tr th:only-of-type {\n",
       "        vertical-align: middle;\n",
       "    }\n",
       "\n",
       "    .dataframe tbody tr th {\n",
       "        vertical-align: top;\n",
       "    }\n",
       "\n",
       "    .dataframe thead th {\n",
       "        text-align: right;\n",
       "    }\n",
       "</style>\n",
       "<table border=\"1\" class=\"dataframe\">\n",
       "  <thead>\n",
       "    <tr style=\"text-align: right;\">\n",
       "      <th></th>\n",
       "      <th>Views</th>\n",
       "      <th>Comment_Count</th>\n",
       "    </tr>\n",
       "    <tr>\n",
       "      <th>Published_date</th>\n",
       "      <th></th>\n",
       "      <th></th>\n",
       "    </tr>\n",
       "  </thead>\n",
       "  <tbody>\n",
       "    <tr>\n",
       "      <th>2020-01-17</th>\n",
       "      <td>29074.0</td>\n",
       "      <td>140.0</td>\n",
       "    </tr>\n",
       "    <tr>\n",
       "      <th>2020-01-21</th>\n",
       "      <td>8943.0</td>\n",
       "      <td>19.0</td>\n",
       "    </tr>\n",
       "    <tr>\n",
       "      <th>2020-01-23</th>\n",
       "      <td>64571.0</td>\n",
       "      <td>229.0</td>\n",
       "    </tr>\n",
       "    <tr>\n",
       "      <th>2020-01-25</th>\n",
       "      <td>15225.0</td>\n",
       "      <td>22.0</td>\n",
       "    </tr>\n",
       "    <tr>\n",
       "      <th>2020-01-30</th>\n",
       "      <td>72678.0</td>\n",
       "      <td>64.0</td>\n",
       "    </tr>\n",
       "  </tbody>\n",
       "</table>\n",
       "</div>"
      ]
     },
     "execution_count": 199,
     "metadata": {},
     "output_type": "execute_result"
    }
   ],
   "execution_count": 199
  },
  {
   "metadata": {
    "ExecuteTime": {
     "end_time": "2024-10-17T22:01:19.513357Z",
     "start_time": "2024-10-17T22:01:19.506615Z"
    }
   },
   "cell_type": "code",
   "source": "yt.tail()",
   "outputs": [
    {
     "data": {
      "text/plain": [
       "                   Views  Comment_Count\n",
       "Published_date                         \n",
       "2024-01-17      143309.0          192.0\n",
       "2024-01-21      129956.0          358.0\n",
       "2024-03-16       43627.0          267.0\n",
       "2024-03-23       78155.0          245.0\n",
       "2024-04-20      157284.0          632.0"
      ],
      "text/html": [
       "<div>\n",
       "<style scoped>\n",
       "    .dataframe tbody tr th:only-of-type {\n",
       "        vertical-align: middle;\n",
       "    }\n",
       "\n",
       "    .dataframe tbody tr th {\n",
       "        vertical-align: top;\n",
       "    }\n",
       "\n",
       "    .dataframe thead th {\n",
       "        text-align: right;\n",
       "    }\n",
       "</style>\n",
       "<table border=\"1\" class=\"dataframe\">\n",
       "  <thead>\n",
       "    <tr style=\"text-align: right;\">\n",
       "      <th></th>\n",
       "      <th>Views</th>\n",
       "      <th>Comment_Count</th>\n",
       "    </tr>\n",
       "    <tr>\n",
       "      <th>Published_date</th>\n",
       "      <th></th>\n",
       "      <th></th>\n",
       "    </tr>\n",
       "  </thead>\n",
       "  <tbody>\n",
       "    <tr>\n",
       "      <th>2024-01-17</th>\n",
       "      <td>143309.0</td>\n",
       "      <td>192.0</td>\n",
       "    </tr>\n",
       "    <tr>\n",
       "      <th>2024-01-21</th>\n",
       "      <td>129956.0</td>\n",
       "      <td>358.0</td>\n",
       "    </tr>\n",
       "    <tr>\n",
       "      <th>2024-03-16</th>\n",
       "      <td>43627.0</td>\n",
       "      <td>267.0</td>\n",
       "    </tr>\n",
       "    <tr>\n",
       "      <th>2024-03-23</th>\n",
       "      <td>78155.0</td>\n",
       "      <td>245.0</td>\n",
       "    </tr>\n",
       "    <tr>\n",
       "      <th>2024-04-20</th>\n",
       "      <td>157284.0</td>\n",
       "      <td>632.0</td>\n",
       "    </tr>\n",
       "  </tbody>\n",
       "</table>\n",
       "</div>"
      ]
     },
     "execution_count": 200,
     "metadata": {},
     "output_type": "execute_result"
    }
   ],
   "execution_count": 200
  },
  {
   "metadata": {
    "ExecuteTime": {
     "end_time": "2024-10-17T22:01:19.670627Z",
     "start_time": "2024-10-17T22:01:19.662244Z"
    }
   },
   "cell_type": "code",
   "source": [
    "# fetch a specific date\n",
    "yt.loc['2022-12-31']"
   ],
   "outputs": [
    {
     "data": {
      "text/plain": [
       "                    Views  Comment_Count\n",
       "Published_date                          \n",
       "2022-12-31         3208.0           11.0\n",
       "2022-12-31       490864.0          413.0\n",
       "2022-12-31      1038982.0          987.0\n",
       "2022-12-31        12418.0           20.0\n",
       "2022-12-31        25059.0          177.0\n",
       "2022-12-31       171997.0          736.0"
      ],
      "text/html": [
       "<div>\n",
       "<style scoped>\n",
       "    .dataframe tbody tr th:only-of-type {\n",
       "        vertical-align: middle;\n",
       "    }\n",
       "\n",
       "    .dataframe tbody tr th {\n",
       "        vertical-align: top;\n",
       "    }\n",
       "\n",
       "    .dataframe thead th {\n",
       "        text-align: right;\n",
       "    }\n",
       "</style>\n",
       "<table border=\"1\" class=\"dataframe\">\n",
       "  <thead>\n",
       "    <tr style=\"text-align: right;\">\n",
       "      <th></th>\n",
       "      <th>Views</th>\n",
       "      <th>Comment_Count</th>\n",
       "    </tr>\n",
       "    <tr>\n",
       "      <th>Published_date</th>\n",
       "      <th></th>\n",
       "      <th></th>\n",
       "    </tr>\n",
       "  </thead>\n",
       "  <tbody>\n",
       "    <tr>\n",
       "      <th>2022-12-31</th>\n",
       "      <td>3208.0</td>\n",
       "      <td>11.0</td>\n",
       "    </tr>\n",
       "    <tr>\n",
       "      <th>2022-12-31</th>\n",
       "      <td>490864.0</td>\n",
       "      <td>413.0</td>\n",
       "    </tr>\n",
       "    <tr>\n",
       "      <th>2022-12-31</th>\n",
       "      <td>1038982.0</td>\n",
       "      <td>987.0</td>\n",
       "    </tr>\n",
       "    <tr>\n",
       "      <th>2022-12-31</th>\n",
       "      <td>12418.0</td>\n",
       "      <td>20.0</td>\n",
       "    </tr>\n",
       "    <tr>\n",
       "      <th>2022-12-31</th>\n",
       "      <td>25059.0</td>\n",
       "      <td>177.0</td>\n",
       "    </tr>\n",
       "    <tr>\n",
       "      <th>2022-12-31</th>\n",
       "      <td>171997.0</td>\n",
       "      <td>736.0</td>\n",
       "    </tr>\n",
       "  </tbody>\n",
       "</table>\n",
       "</div>"
      ]
     },
     "execution_count": 201,
     "metadata": {},
     "output_type": "execute_result"
    }
   ],
   "execution_count": 201
  },
  {
   "metadata": {
    "ExecuteTime": {
     "end_time": "2024-10-17T22:01:19.749975Z",
     "start_time": "2024-10-17T22:01:19.743633Z"
    }
   },
   "cell_type": "code",
   "source": [
    "# this will gave an error when we give a weekend date because stock market will be closed on that day\n",
    "google.loc['2021-12-31']"
   ],
   "outputs": [
    {
     "data": {
      "text/plain": [
       "Open           2910.879883\n",
       "High           2927.300049\n",
       "Low            2893.550049\n",
       "Close          2893.590088\n",
       "Adj Close      2893.590088\n",
       "Volume       864900.000000\n",
       "Name: 2021-12-31 00:00:00, dtype: float64"
      ]
     },
     "execution_count": 202,
     "metadata": {},
     "output_type": "execute_result"
    }
   ],
   "execution_count": 202
  },
  {
   "metadata": {
    "ExecuteTime": {
     "end_time": "2024-10-17T22:01:19.875107Z",
     "start_time": "2024-10-17T22:01:19.867003Z"
    }
   },
   "cell_type": "code",
   "source": [
    "# partial indexing -> select a particular year/month\n",
    "# 2022 december -> whole month data\n",
    "yt.loc['2022-12']"
   ],
   "outputs": [
    {
     "data": {
      "text/plain": [
       "                    Views  Comment_Count\n",
       "Published_date                          \n",
       "2022-12-06        46215.0           29.0\n",
       "2022-12-13        35790.0           28.0\n",
       "2022-12-17         5058.0           16.0\n",
       "2022-12-20       156772.0          862.0\n",
       "2022-12-27         7115.0           12.0\n",
       "...                   ...            ...\n",
       "2022-12-12         1777.0           18.0\n",
       "2022-12-17       111537.0          170.0\n",
       "2022-12-22         3159.0            7.0\n",
       "2022-12-24      1849050.0         1912.0\n",
       "2022-12-31       171997.0          736.0\n",
       "\n",
       "[195 rows x 2 columns]"
      ],
      "text/html": [
       "<div>\n",
       "<style scoped>\n",
       "    .dataframe tbody tr th:only-of-type {\n",
       "        vertical-align: middle;\n",
       "    }\n",
       "\n",
       "    .dataframe tbody tr th {\n",
       "        vertical-align: top;\n",
       "    }\n",
       "\n",
       "    .dataframe thead th {\n",
       "        text-align: right;\n",
       "    }\n",
       "</style>\n",
       "<table border=\"1\" class=\"dataframe\">\n",
       "  <thead>\n",
       "    <tr style=\"text-align: right;\">\n",
       "      <th></th>\n",
       "      <th>Views</th>\n",
       "      <th>Comment_Count</th>\n",
       "    </tr>\n",
       "    <tr>\n",
       "      <th>Published_date</th>\n",
       "      <th></th>\n",
       "      <th></th>\n",
       "    </tr>\n",
       "  </thead>\n",
       "  <tbody>\n",
       "    <tr>\n",
       "      <th>2022-12-06</th>\n",
       "      <td>46215.0</td>\n",
       "      <td>29.0</td>\n",
       "    </tr>\n",
       "    <tr>\n",
       "      <th>2022-12-13</th>\n",
       "      <td>35790.0</td>\n",
       "      <td>28.0</td>\n",
       "    </tr>\n",
       "    <tr>\n",
       "      <th>2022-12-17</th>\n",
       "      <td>5058.0</td>\n",
       "      <td>16.0</td>\n",
       "    </tr>\n",
       "    <tr>\n",
       "      <th>2022-12-20</th>\n",
       "      <td>156772.0</td>\n",
       "      <td>862.0</td>\n",
       "    </tr>\n",
       "    <tr>\n",
       "      <th>2022-12-27</th>\n",
       "      <td>7115.0</td>\n",
       "      <td>12.0</td>\n",
       "    </tr>\n",
       "    <tr>\n",
       "      <th>...</th>\n",
       "      <td>...</td>\n",
       "      <td>...</td>\n",
       "    </tr>\n",
       "    <tr>\n",
       "      <th>2022-12-12</th>\n",
       "      <td>1777.0</td>\n",
       "      <td>18.0</td>\n",
       "    </tr>\n",
       "    <tr>\n",
       "      <th>2022-12-17</th>\n",
       "      <td>111537.0</td>\n",
       "      <td>170.0</td>\n",
       "    </tr>\n",
       "    <tr>\n",
       "      <th>2022-12-22</th>\n",
       "      <td>3159.0</td>\n",
       "      <td>7.0</td>\n",
       "    </tr>\n",
       "    <tr>\n",
       "      <th>2022-12-24</th>\n",
       "      <td>1849050.0</td>\n",
       "      <td>1912.0</td>\n",
       "    </tr>\n",
       "    <tr>\n",
       "      <th>2022-12-31</th>\n",
       "      <td>171997.0</td>\n",
       "      <td>736.0</td>\n",
       "    </tr>\n",
       "  </tbody>\n",
       "</table>\n",
       "<p>195 rows × 2 columns</p>\n",
       "</div>"
      ]
     },
     "execution_count": 203,
     "metadata": {},
     "output_type": "execute_result"
    }
   ],
   "execution_count": 203
  },
  {
   "metadata": {
    "ExecuteTime": {
     "end_time": "2024-10-17T22:01:19.991591Z",
     "start_time": "2024-10-17T22:01:19.983510Z"
    }
   },
   "cell_type": "code",
   "source": "yt.loc['2022']",
   "outputs": [
    {
     "data": {
      "text/plain": [
       "                    Views  Comment_Count\n",
       "Published_date                          \n",
       "2022-01-04       497378.0          641.0\n",
       "2022-01-10         3488.0            7.0\n",
       "2022-01-11       159231.0           98.0\n",
       "2022-01-18        22954.0          358.0\n",
       "2022-01-25       114453.0           60.0\n",
       "...                   ...            ...\n",
       "2022-12-12         1777.0           18.0\n",
       "2022-12-17       111537.0          170.0\n",
       "2022-12-22         3159.0            7.0\n",
       "2022-12-24      1849050.0         1912.0\n",
       "2022-12-31       171997.0          736.0\n",
       "\n",
       "[3429 rows x 2 columns]"
      ],
      "text/html": [
       "<div>\n",
       "<style scoped>\n",
       "    .dataframe tbody tr th:only-of-type {\n",
       "        vertical-align: middle;\n",
       "    }\n",
       "\n",
       "    .dataframe tbody tr th {\n",
       "        vertical-align: top;\n",
       "    }\n",
       "\n",
       "    .dataframe thead th {\n",
       "        text-align: right;\n",
       "    }\n",
       "</style>\n",
       "<table border=\"1\" class=\"dataframe\">\n",
       "  <thead>\n",
       "    <tr style=\"text-align: right;\">\n",
       "      <th></th>\n",
       "      <th>Views</th>\n",
       "      <th>Comment_Count</th>\n",
       "    </tr>\n",
       "    <tr>\n",
       "      <th>Published_date</th>\n",
       "      <th></th>\n",
       "      <th></th>\n",
       "    </tr>\n",
       "  </thead>\n",
       "  <tbody>\n",
       "    <tr>\n",
       "      <th>2022-01-04</th>\n",
       "      <td>497378.0</td>\n",
       "      <td>641.0</td>\n",
       "    </tr>\n",
       "    <tr>\n",
       "      <th>2022-01-10</th>\n",
       "      <td>3488.0</td>\n",
       "      <td>7.0</td>\n",
       "    </tr>\n",
       "    <tr>\n",
       "      <th>2022-01-11</th>\n",
       "      <td>159231.0</td>\n",
       "      <td>98.0</td>\n",
       "    </tr>\n",
       "    <tr>\n",
       "      <th>2022-01-18</th>\n",
       "      <td>22954.0</td>\n",
       "      <td>358.0</td>\n",
       "    </tr>\n",
       "    <tr>\n",
       "      <th>2022-01-25</th>\n",
       "      <td>114453.0</td>\n",
       "      <td>60.0</td>\n",
       "    </tr>\n",
       "    <tr>\n",
       "      <th>...</th>\n",
       "      <td>...</td>\n",
       "      <td>...</td>\n",
       "    </tr>\n",
       "    <tr>\n",
       "      <th>2022-12-12</th>\n",
       "      <td>1777.0</td>\n",
       "      <td>18.0</td>\n",
       "    </tr>\n",
       "    <tr>\n",
       "      <th>2022-12-17</th>\n",
       "      <td>111537.0</td>\n",
       "      <td>170.0</td>\n",
       "    </tr>\n",
       "    <tr>\n",
       "      <th>2022-12-22</th>\n",
       "      <td>3159.0</td>\n",
       "      <td>7.0</td>\n",
       "    </tr>\n",
       "    <tr>\n",
       "      <th>2022-12-24</th>\n",
       "      <td>1849050.0</td>\n",
       "      <td>1912.0</td>\n",
       "    </tr>\n",
       "    <tr>\n",
       "      <th>2022-12-31</th>\n",
       "      <td>171997.0</td>\n",
       "      <td>736.0</td>\n",
       "    </tr>\n",
       "  </tbody>\n",
       "</table>\n",
       "<p>3429 rows × 2 columns</p>\n",
       "</div>"
      ]
     },
     "execution_count": 204,
     "metadata": {},
     "output_type": "execute_result"
    }
   ],
   "execution_count": 204
  },
  {
   "metadata": {
    "ExecuteTime": {
     "end_time": "2024-10-17T22:01:20.150119Z",
     "start_time": "2024-10-17T22:01:20.133604Z"
    }
   },
   "cell_type": "code",
   "source": [
    "# create year month-name and day-name\n",
    "yt['month_name'] = yt.index.month_name()\n",
    "yt['weekday_name'] = yt.index.day_name()\n",
    "yt['quarter'] = yt.index.quarter\n",
    "yt.head()"
   ],
   "outputs": [
    {
     "name": "stderr",
     "output_type": "stream",
     "text": [
      "C:\\Users\\15105\\AppData\\Local\\Temp\\ipykernel_27248\\1668805143.py:2: SettingWithCopyWarning: \n",
      "A value is trying to be set on a copy of a slice from a DataFrame.\n",
      "Try using .loc[row_indexer,col_indexer] = value instead\n",
      "\n",
      "See the caveats in the documentation: https://pandas.pydata.org/pandas-docs/stable/user_guide/indexing.html#returning-a-view-versus-a-copy\n",
      "  yt['month_name'] = yt.index.month_name()\n",
      "C:\\Users\\15105\\AppData\\Local\\Temp\\ipykernel_27248\\1668805143.py:3: SettingWithCopyWarning: \n",
      "A value is trying to be set on a copy of a slice from a DataFrame.\n",
      "Try using .loc[row_indexer,col_indexer] = value instead\n",
      "\n",
      "See the caveats in the documentation: https://pandas.pydata.org/pandas-docs/stable/user_guide/indexing.html#returning-a-view-versus-a-copy\n",
      "  yt['weekday_name'] = yt.index.day_name()\n",
      "C:\\Users\\15105\\AppData\\Local\\Temp\\ipykernel_27248\\1668805143.py:4: SettingWithCopyWarning: \n",
      "A value is trying to be set on a copy of a slice from a DataFrame.\n",
      "Try using .loc[row_indexer,col_indexer] = value instead\n",
      "\n",
      "See the caveats in the documentation: https://pandas.pydata.org/pandas-docs/stable/user_guide/indexing.html#returning-a-view-versus-a-copy\n",
      "  yt['quarter'] = yt.index.quarter\n"
     ]
    },
    {
     "data": {
      "text/plain": [
       "                  Views  Comment_Count month_name weekday_name  quarter\n",
       "Published_date                                                         \n",
       "2020-01-17      29074.0          140.0    January       Friday        1\n",
       "2020-01-21       8943.0           19.0    January      Tuesday        1\n",
       "2020-01-23      64571.0          229.0    January     Thursday        1\n",
       "2020-01-25      15225.0           22.0    January     Saturday        1\n",
       "2020-01-30      72678.0           64.0    January     Thursday        1"
      ],
      "text/html": [
       "<div>\n",
       "<style scoped>\n",
       "    .dataframe tbody tr th:only-of-type {\n",
       "        vertical-align: middle;\n",
       "    }\n",
       "\n",
       "    .dataframe tbody tr th {\n",
       "        vertical-align: top;\n",
       "    }\n",
       "\n",
       "    .dataframe thead th {\n",
       "        text-align: right;\n",
       "    }\n",
       "</style>\n",
       "<table border=\"1\" class=\"dataframe\">\n",
       "  <thead>\n",
       "    <tr style=\"text-align: right;\">\n",
       "      <th></th>\n",
       "      <th>Views</th>\n",
       "      <th>Comment_Count</th>\n",
       "      <th>month_name</th>\n",
       "      <th>weekday_name</th>\n",
       "      <th>quarter</th>\n",
       "    </tr>\n",
       "    <tr>\n",
       "      <th>Published_date</th>\n",
       "      <th></th>\n",
       "      <th></th>\n",
       "      <th></th>\n",
       "      <th></th>\n",
       "      <th></th>\n",
       "    </tr>\n",
       "  </thead>\n",
       "  <tbody>\n",
       "    <tr>\n",
       "      <th>2020-01-17</th>\n",
       "      <td>29074.0</td>\n",
       "      <td>140.0</td>\n",
       "      <td>January</td>\n",
       "      <td>Friday</td>\n",
       "      <td>1</td>\n",
       "    </tr>\n",
       "    <tr>\n",
       "      <th>2020-01-21</th>\n",
       "      <td>8943.0</td>\n",
       "      <td>19.0</td>\n",
       "      <td>January</td>\n",
       "      <td>Tuesday</td>\n",
       "      <td>1</td>\n",
       "    </tr>\n",
       "    <tr>\n",
       "      <th>2020-01-23</th>\n",
       "      <td>64571.0</td>\n",
       "      <td>229.0</td>\n",
       "      <td>January</td>\n",
       "      <td>Thursday</td>\n",
       "      <td>1</td>\n",
       "    </tr>\n",
       "    <tr>\n",
       "      <th>2020-01-25</th>\n",
       "      <td>15225.0</td>\n",
       "      <td>22.0</td>\n",
       "      <td>January</td>\n",
       "      <td>Saturday</td>\n",
       "      <td>1</td>\n",
       "    </tr>\n",
       "    <tr>\n",
       "      <th>2020-01-30</th>\n",
       "      <td>72678.0</td>\n",
       "      <td>64.0</td>\n",
       "      <td>January</td>\n",
       "      <td>Thursday</td>\n",
       "      <td>1</td>\n",
       "    </tr>\n",
       "  </tbody>\n",
       "</table>\n",
       "</div>"
      ]
     },
     "execution_count": 205,
     "metadata": {},
     "output_type": "execute_result"
    }
   ],
   "execution_count": 205
  },
  {
   "metadata": {
    "ExecuteTime": {
     "end_time": "2024-10-17T22:01:20.195306Z",
     "start_time": "2024-10-17T22:01:20.185125Z"
    }
   },
   "cell_type": "code",
   "source": [
    "google['month_name'] = google.index.month_name()\n",
    "google['weekday_name'] = google.index.day_name()\n",
    "google['quarter'] = google.index.quarter\n",
    "google.head()"
   ],
   "outputs": [
    {
     "data": {
      "text/plain": [
       "                 Open       High        Low      Close  Adj Close    Volume  \\\n",
       "Date                                                                          \n",
       "2004-08-19  49.813290  51.835709  47.800831  49.982655  49.982655  44871361   \n",
       "2004-08-20  50.316402  54.336334  50.062355  53.952770  53.952770  22942874   \n",
       "2004-08-23  55.168217  56.528118  54.321388  54.495735  54.495735  18342897   \n",
       "2004-08-24  55.412300  55.591629  51.591621  52.239197  52.239197  15319808   \n",
       "2004-08-25  52.284027  53.798351  51.746044  52.802086  52.802086   9232276   \n",
       "\n",
       "           month_name weekday_name  quarter  \n",
       "Date                                         \n",
       "2004-08-19     August     Thursday        3  \n",
       "2004-08-20     August       Friday        3  \n",
       "2004-08-23     August       Monday        3  \n",
       "2004-08-24     August      Tuesday        3  \n",
       "2004-08-25     August    Wednesday        3  "
      ],
      "text/html": [
       "<div>\n",
       "<style scoped>\n",
       "    .dataframe tbody tr th:only-of-type {\n",
       "        vertical-align: middle;\n",
       "    }\n",
       "\n",
       "    .dataframe tbody tr th {\n",
       "        vertical-align: top;\n",
       "    }\n",
       "\n",
       "    .dataframe thead th {\n",
       "        text-align: right;\n",
       "    }\n",
       "</style>\n",
       "<table border=\"1\" class=\"dataframe\">\n",
       "  <thead>\n",
       "    <tr style=\"text-align: right;\">\n",
       "      <th></th>\n",
       "      <th>Open</th>\n",
       "      <th>High</th>\n",
       "      <th>Low</th>\n",
       "      <th>Close</th>\n",
       "      <th>Adj Close</th>\n",
       "      <th>Volume</th>\n",
       "      <th>month_name</th>\n",
       "      <th>weekday_name</th>\n",
       "      <th>quarter</th>\n",
       "    </tr>\n",
       "    <tr>\n",
       "      <th>Date</th>\n",
       "      <th></th>\n",
       "      <th></th>\n",
       "      <th></th>\n",
       "      <th></th>\n",
       "      <th></th>\n",
       "      <th></th>\n",
       "      <th></th>\n",
       "      <th></th>\n",
       "      <th></th>\n",
       "    </tr>\n",
       "  </thead>\n",
       "  <tbody>\n",
       "    <tr>\n",
       "      <th>2004-08-19</th>\n",
       "      <td>49.813290</td>\n",
       "      <td>51.835709</td>\n",
       "      <td>47.800831</td>\n",
       "      <td>49.982655</td>\n",
       "      <td>49.982655</td>\n",
       "      <td>44871361</td>\n",
       "      <td>August</td>\n",
       "      <td>Thursday</td>\n",
       "      <td>3</td>\n",
       "    </tr>\n",
       "    <tr>\n",
       "      <th>2004-08-20</th>\n",
       "      <td>50.316402</td>\n",
       "      <td>54.336334</td>\n",
       "      <td>50.062355</td>\n",
       "      <td>53.952770</td>\n",
       "      <td>53.952770</td>\n",
       "      <td>22942874</td>\n",
       "      <td>August</td>\n",
       "      <td>Friday</td>\n",
       "      <td>3</td>\n",
       "    </tr>\n",
       "    <tr>\n",
       "      <th>2004-08-23</th>\n",
       "      <td>55.168217</td>\n",
       "      <td>56.528118</td>\n",
       "      <td>54.321388</td>\n",
       "      <td>54.495735</td>\n",
       "      <td>54.495735</td>\n",
       "      <td>18342897</td>\n",
       "      <td>August</td>\n",
       "      <td>Monday</td>\n",
       "      <td>3</td>\n",
       "    </tr>\n",
       "    <tr>\n",
       "      <th>2004-08-24</th>\n",
       "      <td>55.412300</td>\n",
       "      <td>55.591629</td>\n",
       "      <td>51.591621</td>\n",
       "      <td>52.239197</td>\n",
       "      <td>52.239197</td>\n",
       "      <td>15319808</td>\n",
       "      <td>August</td>\n",
       "      <td>Tuesday</td>\n",
       "      <td>3</td>\n",
       "    </tr>\n",
       "    <tr>\n",
       "      <th>2004-08-25</th>\n",
       "      <td>52.284027</td>\n",
       "      <td>53.798351</td>\n",
       "      <td>51.746044</td>\n",
       "      <td>52.802086</td>\n",
       "      <td>52.802086</td>\n",
       "      <td>9232276</td>\n",
       "      <td>August</td>\n",
       "      <td>Wednesday</td>\n",
       "      <td>3</td>\n",
       "    </tr>\n",
       "  </tbody>\n",
       "</table>\n",
       "</div>"
      ]
     },
     "execution_count": 206,
     "metadata": {},
     "output_type": "execute_result"
    }
   ],
   "execution_count": 206
  },
  {
   "metadata": {
    "ExecuteTime": {
     "end_time": "2024-10-17T22:01:20.316097Z",
     "start_time": "2024-10-17T22:01:20.305538Z"
    }
   },
   "cell_type": "code",
   "source": [
    "# slicing\n",
    "google.loc['2020-03-23':'2020-3-26']"
   ],
   "outputs": [
    {
     "data": {
      "text/plain": [
       "                   Open         High          Low        Close    Adj Close  \\\n",
       "Date                                                                          \n",
       "2020-03-23  1061.319946  1071.319946  1013.536011  1056.619995  1056.619995   \n",
       "2020-03-24  1103.770020  1135.000000  1090.619995  1134.459961  1134.459961   \n",
       "2020-03-25  1126.469971  1148.900024  1086.010010  1102.489990  1102.489990   \n",
       "2020-03-26  1111.800049  1169.969971  1093.530029  1161.750000  1161.750000   \n",
       "\n",
       "             Volume month_name weekday_name  quarter  \n",
       "Date                                                  \n",
       "2020-03-23  4044100      March       Monday        1  \n",
       "2020-03-24  3344500      March      Tuesday        1  \n",
       "2020-03-25  4081500      March    Wednesday        1  \n",
       "2020-03-26  3571700      March     Thursday        1  "
      ],
      "text/html": [
       "<div>\n",
       "<style scoped>\n",
       "    .dataframe tbody tr th:only-of-type {\n",
       "        vertical-align: middle;\n",
       "    }\n",
       "\n",
       "    .dataframe tbody tr th {\n",
       "        vertical-align: top;\n",
       "    }\n",
       "\n",
       "    .dataframe thead th {\n",
       "        text-align: right;\n",
       "    }\n",
       "</style>\n",
       "<table border=\"1\" class=\"dataframe\">\n",
       "  <thead>\n",
       "    <tr style=\"text-align: right;\">\n",
       "      <th></th>\n",
       "      <th>Open</th>\n",
       "      <th>High</th>\n",
       "      <th>Low</th>\n",
       "      <th>Close</th>\n",
       "      <th>Adj Close</th>\n",
       "      <th>Volume</th>\n",
       "      <th>month_name</th>\n",
       "      <th>weekday_name</th>\n",
       "      <th>quarter</th>\n",
       "    </tr>\n",
       "    <tr>\n",
       "      <th>Date</th>\n",
       "      <th></th>\n",
       "      <th></th>\n",
       "      <th></th>\n",
       "      <th></th>\n",
       "      <th></th>\n",
       "      <th></th>\n",
       "      <th></th>\n",
       "      <th></th>\n",
       "      <th></th>\n",
       "    </tr>\n",
       "  </thead>\n",
       "  <tbody>\n",
       "    <tr>\n",
       "      <th>2020-03-23</th>\n",
       "      <td>1061.319946</td>\n",
       "      <td>1071.319946</td>\n",
       "      <td>1013.536011</td>\n",
       "      <td>1056.619995</td>\n",
       "      <td>1056.619995</td>\n",
       "      <td>4044100</td>\n",
       "      <td>March</td>\n",
       "      <td>Monday</td>\n",
       "      <td>1</td>\n",
       "    </tr>\n",
       "    <tr>\n",
       "      <th>2020-03-24</th>\n",
       "      <td>1103.770020</td>\n",
       "      <td>1135.000000</td>\n",
       "      <td>1090.619995</td>\n",
       "      <td>1134.459961</td>\n",
       "      <td>1134.459961</td>\n",
       "      <td>3344500</td>\n",
       "      <td>March</td>\n",
       "      <td>Tuesday</td>\n",
       "      <td>1</td>\n",
       "    </tr>\n",
       "    <tr>\n",
       "      <th>2020-03-25</th>\n",
       "      <td>1126.469971</td>\n",
       "      <td>1148.900024</td>\n",
       "      <td>1086.010010</td>\n",
       "      <td>1102.489990</td>\n",
       "      <td>1102.489990</td>\n",
       "      <td>4081500</td>\n",
       "      <td>March</td>\n",
       "      <td>Wednesday</td>\n",
       "      <td>1</td>\n",
       "    </tr>\n",
       "    <tr>\n",
       "      <th>2020-03-26</th>\n",
       "      <td>1111.800049</td>\n",
       "      <td>1169.969971</td>\n",
       "      <td>1093.530029</td>\n",
       "      <td>1161.750000</td>\n",
       "      <td>1161.750000</td>\n",
       "      <td>3571700</td>\n",
       "      <td>March</td>\n",
       "      <td>Thursday</td>\n",
       "      <td>1</td>\n",
       "    </tr>\n",
       "  </tbody>\n",
       "</table>\n",
       "</div>"
      ]
     },
     "execution_count": 207,
     "metadata": {},
     "output_type": "execute_result"
    }
   ],
   "execution_count": 207
  },
  {
   "metadata": {
    "ExecuteTime": {
     "end_time": "2024-10-17T22:01:20.433014Z",
     "start_time": "2024-10-17T22:01:20.424786Z"
    }
   },
   "cell_type": "code",
   "source": "google.tail()",
   "outputs": [
    {
     "data": {
      "text/plain": [
       "                   Open         High          Low        Close    Adj Close  \\\n",
       "Date                                                                          \n",
       "2022-05-16  2307.679932  2332.149902  2286.699951  2295.850098  2295.850098   \n",
       "2022-05-17  2344.550049  2344.550049  2306.750000  2334.030029  2334.030029   \n",
       "2022-05-18  2304.750000  2313.913086  2242.840088  2248.020020  2248.020020   \n",
       "2022-05-19  2236.820068  2271.750000  2209.360107  2214.909912  2214.909912   \n",
       "2022-05-20  2241.709961  2251.000000  2127.459961  2186.260010  2186.260010   \n",
       "\n",
       "             Volume month_name weekday_name  quarter  \n",
       "Date                                                  \n",
       "2022-05-16  1164100        May       Monday        2  \n",
       "2022-05-17  1078800        May      Tuesday        2  \n",
       "2022-05-18  1399100        May    Wednesday        2  \n",
       "2022-05-19  1459600        May     Thursday        2  \n",
       "2022-05-20  1878100        May       Friday        2  "
      ],
      "text/html": [
       "<div>\n",
       "<style scoped>\n",
       "    .dataframe tbody tr th:only-of-type {\n",
       "        vertical-align: middle;\n",
       "    }\n",
       "\n",
       "    .dataframe tbody tr th {\n",
       "        vertical-align: top;\n",
       "    }\n",
       "\n",
       "    .dataframe thead th {\n",
       "        text-align: right;\n",
       "    }\n",
       "</style>\n",
       "<table border=\"1\" class=\"dataframe\">\n",
       "  <thead>\n",
       "    <tr style=\"text-align: right;\">\n",
       "      <th></th>\n",
       "      <th>Open</th>\n",
       "      <th>High</th>\n",
       "      <th>Low</th>\n",
       "      <th>Close</th>\n",
       "      <th>Adj Close</th>\n",
       "      <th>Volume</th>\n",
       "      <th>month_name</th>\n",
       "      <th>weekday_name</th>\n",
       "      <th>quarter</th>\n",
       "    </tr>\n",
       "    <tr>\n",
       "      <th>Date</th>\n",
       "      <th></th>\n",
       "      <th></th>\n",
       "      <th></th>\n",
       "      <th></th>\n",
       "      <th></th>\n",
       "      <th></th>\n",
       "      <th></th>\n",
       "      <th></th>\n",
       "      <th></th>\n",
       "    </tr>\n",
       "  </thead>\n",
       "  <tbody>\n",
       "    <tr>\n",
       "      <th>2022-05-16</th>\n",
       "      <td>2307.679932</td>\n",
       "      <td>2332.149902</td>\n",
       "      <td>2286.699951</td>\n",
       "      <td>2295.850098</td>\n",
       "      <td>2295.850098</td>\n",
       "      <td>1164100</td>\n",
       "      <td>May</td>\n",
       "      <td>Monday</td>\n",
       "      <td>2</td>\n",
       "    </tr>\n",
       "    <tr>\n",
       "      <th>2022-05-17</th>\n",
       "      <td>2344.550049</td>\n",
       "      <td>2344.550049</td>\n",
       "      <td>2306.750000</td>\n",
       "      <td>2334.030029</td>\n",
       "      <td>2334.030029</td>\n",
       "      <td>1078800</td>\n",
       "      <td>May</td>\n",
       "      <td>Tuesday</td>\n",
       "      <td>2</td>\n",
       "    </tr>\n",
       "    <tr>\n",
       "      <th>2022-05-18</th>\n",
       "      <td>2304.750000</td>\n",
       "      <td>2313.913086</td>\n",
       "      <td>2242.840088</td>\n",
       "      <td>2248.020020</td>\n",
       "      <td>2248.020020</td>\n",
       "      <td>1399100</td>\n",
       "      <td>May</td>\n",
       "      <td>Wednesday</td>\n",
       "      <td>2</td>\n",
       "    </tr>\n",
       "    <tr>\n",
       "      <th>2022-05-19</th>\n",
       "      <td>2236.820068</td>\n",
       "      <td>2271.750000</td>\n",
       "      <td>2209.360107</td>\n",
       "      <td>2214.909912</td>\n",
       "      <td>2214.909912</td>\n",
       "      <td>1459600</td>\n",
       "      <td>May</td>\n",
       "      <td>Thursday</td>\n",
       "      <td>2</td>\n",
       "    </tr>\n",
       "    <tr>\n",
       "      <th>2022-05-20</th>\n",
       "      <td>2241.709961</td>\n",
       "      <td>2251.000000</td>\n",
       "      <td>2127.459961</td>\n",
       "      <td>2186.260010</td>\n",
       "      <td>2186.260010</td>\n",
       "      <td>1878100</td>\n",
       "      <td>May</td>\n",
       "      <td>Friday</td>\n",
       "      <td>2</td>\n",
       "    </tr>\n",
       "  </tbody>\n",
       "</table>\n",
       "</div>"
      ]
     },
     "execution_count": 208,
     "metadata": {},
     "output_type": "execute_result"
    }
   ],
   "execution_count": 208
  },
  {
   "metadata": {
    "ExecuteTime": {
     "end_time": "2024-10-17T22:01:20.544224Z",
     "start_time": "2024-10-17T22:01:20.539343Z"
    }
   },
   "cell_type": "code",
   "source": [
    "# challenge -> fetch info for a particular date every year -> limitation of timedelta\n",
    "pd.date_range(start='2005-1-6', end='2022-1-6', freq=pd.Timedelta(days=365))"
   ],
   "outputs": [
    {
     "data": {
      "text/plain": [
       "DatetimeIndex(['2005-01-06', '2006-01-06', '2007-01-06', '2008-01-06',\n",
       "               '2009-01-05', '2010-01-05', '2011-01-05', '2012-01-05',\n",
       "               '2013-01-04', '2014-01-04', '2015-01-04', '2016-01-04',\n",
       "               '2017-01-03', '2018-01-03', '2019-01-03', '2020-01-03',\n",
       "               '2021-01-02', '2022-01-02'],\n",
       "              dtype='datetime64[ns]', freq='365D')"
      ]
     },
     "execution_count": 209,
     "metadata": {},
     "output_type": "execute_result"
    }
   ],
   "execution_count": 209
  },
  {
   "metadata": {
    "ExecuteTime": {
     "end_time": "2024-10-17T22:01:20.656569Z",
     "start_time": "2024-10-17T22:01:20.651233Z"
    }
   },
   "cell_type": "code",
   "source": "pd.date_range(start='2005-1-6', end='2022-1-6', freq=pd.DateOffset(years=1))",
   "outputs": [
    {
     "data": {
      "text/plain": [
       "DatetimeIndex(['2005-01-06', '2006-01-06', '2007-01-06', '2008-01-06',\n",
       "               '2009-01-06', '2010-01-06', '2011-01-06', '2012-01-06',\n",
       "               '2013-01-06', '2014-01-06', '2015-01-06', '2016-01-06',\n",
       "               '2017-01-06', '2018-01-06', '2019-01-06', '2020-01-06',\n",
       "               '2021-01-06', '2022-01-06'],\n",
       "              dtype='datetime64[ns]', freq='<DateOffset: years=1>')"
      ]
     },
     "execution_count": 210,
     "metadata": {},
     "output_type": "execute_result"
    }
   ],
   "execution_count": 210
  },
  {
   "metadata": {
    "ExecuteTime": {
     "end_time": "2024-10-17T22:01:20.823414Z",
     "start_time": "2024-10-17T22:01:20.811623Z"
    }
   },
   "cell_type": "code",
   "source": "google[google.index.isin(pd.date_range(start='2005-1-6', end='2022-1-6', freq=pd.DateOffset(years=1)))]",
   "outputs": [
    {
     "data": {
      "text/plain": [
       "                   Open         High          Low        Close    Adj Close  \\\n",
       "Date                                                                          \n",
       "2005-01-06    97.175758    97.584229    93.509506    93.922951    93.922951   \n",
       "2006-01-06   227.581970   234.371521   225.773743   231.960556   231.960556   \n",
       "2009-01-06   165.868286   169.763687   162.585587   166.406265   166.406265   \n",
       "2010-01-06   311.761444   311.761444   302.047852   302.994293   302.994293   \n",
       "2011-01-06   304.199799   308.060303   303.885956   305.604523   305.604523   \n",
       "2012-01-06   328.344299   328.767700   323.681763   323.796326   323.796326   \n",
       "2014-01-06   554.426880   557.340942   551.154114   556.573853   556.573853   \n",
       "2015-01-06   513.589966   514.761719   499.678131   500.585632   500.585632   \n",
       "2016-01-06   730.000000   747.179993   728.919983   743.619995   743.619995   \n",
       "2017-01-06   795.260010   807.900024   792.203979   806.150024   806.150024   \n",
       "2020-01-06  1350.000000  1396.500000  1350.000000  1394.209961  1394.209961   \n",
       "2021-01-06  1702.630005  1748.000000  1699.000000  1735.290039  1735.290039   \n",
       "2022-01-06  2749.949951  2793.719971  2735.270020  2751.020020  2751.020020   \n",
       "\n",
       "              Volume month_name weekday_name  quarter  \n",
       "Date                                                   \n",
       "2005-01-06  20852067    January     Thursday        1  \n",
       "2006-01-06  35646914    January       Friday        1  \n",
       "2009-01-06  12898566    January      Tuesday        1  \n",
       "2010-01-06   7987226    January    Wednesday        1  \n",
       "2011-01-06   4131026    January     Thursday        1  \n",
       "2012-01-06   5405987    January       Friday        1  \n",
       "2014-01-06   3551864    January       Monday        1  \n",
       "2015-01-06   2899940    January      Tuesday        1  \n",
       "2016-01-06   1947000    January    Wednesday        1  \n",
       "2017-01-06   1640200    January       Friday        1  \n",
       "2020-01-06   1732300    January       Monday        1  \n",
       "2021-01-06   2602100    January    Wednesday        1  \n",
       "2022-01-06   1452500    January     Thursday        1  "
      ],
      "text/html": [
       "<div>\n",
       "<style scoped>\n",
       "    .dataframe tbody tr th:only-of-type {\n",
       "        vertical-align: middle;\n",
       "    }\n",
       "\n",
       "    .dataframe tbody tr th {\n",
       "        vertical-align: top;\n",
       "    }\n",
       "\n",
       "    .dataframe thead th {\n",
       "        text-align: right;\n",
       "    }\n",
       "</style>\n",
       "<table border=\"1\" class=\"dataframe\">\n",
       "  <thead>\n",
       "    <tr style=\"text-align: right;\">\n",
       "      <th></th>\n",
       "      <th>Open</th>\n",
       "      <th>High</th>\n",
       "      <th>Low</th>\n",
       "      <th>Close</th>\n",
       "      <th>Adj Close</th>\n",
       "      <th>Volume</th>\n",
       "      <th>month_name</th>\n",
       "      <th>weekday_name</th>\n",
       "      <th>quarter</th>\n",
       "    </tr>\n",
       "    <tr>\n",
       "      <th>Date</th>\n",
       "      <th></th>\n",
       "      <th></th>\n",
       "      <th></th>\n",
       "      <th></th>\n",
       "      <th></th>\n",
       "      <th></th>\n",
       "      <th></th>\n",
       "      <th></th>\n",
       "      <th></th>\n",
       "    </tr>\n",
       "  </thead>\n",
       "  <tbody>\n",
       "    <tr>\n",
       "      <th>2005-01-06</th>\n",
       "      <td>97.175758</td>\n",
       "      <td>97.584229</td>\n",
       "      <td>93.509506</td>\n",
       "      <td>93.922951</td>\n",
       "      <td>93.922951</td>\n",
       "      <td>20852067</td>\n",
       "      <td>January</td>\n",
       "      <td>Thursday</td>\n",
       "      <td>1</td>\n",
       "    </tr>\n",
       "    <tr>\n",
       "      <th>2006-01-06</th>\n",
       "      <td>227.581970</td>\n",
       "      <td>234.371521</td>\n",
       "      <td>225.773743</td>\n",
       "      <td>231.960556</td>\n",
       "      <td>231.960556</td>\n",
       "      <td>35646914</td>\n",
       "      <td>January</td>\n",
       "      <td>Friday</td>\n",
       "      <td>1</td>\n",
       "    </tr>\n",
       "    <tr>\n",
       "      <th>2009-01-06</th>\n",
       "      <td>165.868286</td>\n",
       "      <td>169.763687</td>\n",
       "      <td>162.585587</td>\n",
       "      <td>166.406265</td>\n",
       "      <td>166.406265</td>\n",
       "      <td>12898566</td>\n",
       "      <td>January</td>\n",
       "      <td>Tuesday</td>\n",
       "      <td>1</td>\n",
       "    </tr>\n",
       "    <tr>\n",
       "      <th>2010-01-06</th>\n",
       "      <td>311.761444</td>\n",
       "      <td>311.761444</td>\n",
       "      <td>302.047852</td>\n",
       "      <td>302.994293</td>\n",
       "      <td>302.994293</td>\n",
       "      <td>7987226</td>\n",
       "      <td>January</td>\n",
       "      <td>Wednesday</td>\n",
       "      <td>1</td>\n",
       "    </tr>\n",
       "    <tr>\n",
       "      <th>2011-01-06</th>\n",
       "      <td>304.199799</td>\n",
       "      <td>308.060303</td>\n",
       "      <td>303.885956</td>\n",
       "      <td>305.604523</td>\n",
       "      <td>305.604523</td>\n",
       "      <td>4131026</td>\n",
       "      <td>January</td>\n",
       "      <td>Thursday</td>\n",
       "      <td>1</td>\n",
       "    </tr>\n",
       "    <tr>\n",
       "      <th>2012-01-06</th>\n",
       "      <td>328.344299</td>\n",
       "      <td>328.767700</td>\n",
       "      <td>323.681763</td>\n",
       "      <td>323.796326</td>\n",
       "      <td>323.796326</td>\n",
       "      <td>5405987</td>\n",
       "      <td>January</td>\n",
       "      <td>Friday</td>\n",
       "      <td>1</td>\n",
       "    </tr>\n",
       "    <tr>\n",
       "      <th>2014-01-06</th>\n",
       "      <td>554.426880</td>\n",
       "      <td>557.340942</td>\n",
       "      <td>551.154114</td>\n",
       "      <td>556.573853</td>\n",
       "      <td>556.573853</td>\n",
       "      <td>3551864</td>\n",
       "      <td>January</td>\n",
       "      <td>Monday</td>\n",
       "      <td>1</td>\n",
       "    </tr>\n",
       "    <tr>\n",
       "      <th>2015-01-06</th>\n",
       "      <td>513.589966</td>\n",
       "      <td>514.761719</td>\n",
       "      <td>499.678131</td>\n",
       "      <td>500.585632</td>\n",
       "      <td>500.585632</td>\n",
       "      <td>2899940</td>\n",
       "      <td>January</td>\n",
       "      <td>Tuesday</td>\n",
       "      <td>1</td>\n",
       "    </tr>\n",
       "    <tr>\n",
       "      <th>2016-01-06</th>\n",
       "      <td>730.000000</td>\n",
       "      <td>747.179993</td>\n",
       "      <td>728.919983</td>\n",
       "      <td>743.619995</td>\n",
       "      <td>743.619995</td>\n",
       "      <td>1947000</td>\n",
       "      <td>January</td>\n",
       "      <td>Wednesday</td>\n",
       "      <td>1</td>\n",
       "    </tr>\n",
       "    <tr>\n",
       "      <th>2017-01-06</th>\n",
       "      <td>795.260010</td>\n",
       "      <td>807.900024</td>\n",
       "      <td>792.203979</td>\n",
       "      <td>806.150024</td>\n",
       "      <td>806.150024</td>\n",
       "      <td>1640200</td>\n",
       "      <td>January</td>\n",
       "      <td>Friday</td>\n",
       "      <td>1</td>\n",
       "    </tr>\n",
       "    <tr>\n",
       "      <th>2020-01-06</th>\n",
       "      <td>1350.000000</td>\n",
       "      <td>1396.500000</td>\n",
       "      <td>1350.000000</td>\n",
       "      <td>1394.209961</td>\n",
       "      <td>1394.209961</td>\n",
       "      <td>1732300</td>\n",
       "      <td>January</td>\n",
       "      <td>Monday</td>\n",
       "      <td>1</td>\n",
       "    </tr>\n",
       "    <tr>\n",
       "      <th>2021-01-06</th>\n",
       "      <td>1702.630005</td>\n",
       "      <td>1748.000000</td>\n",
       "      <td>1699.000000</td>\n",
       "      <td>1735.290039</td>\n",
       "      <td>1735.290039</td>\n",
       "      <td>2602100</td>\n",
       "      <td>January</td>\n",
       "      <td>Wednesday</td>\n",
       "      <td>1</td>\n",
       "    </tr>\n",
       "    <tr>\n",
       "      <th>2022-01-06</th>\n",
       "      <td>2749.949951</td>\n",
       "      <td>2793.719971</td>\n",
       "      <td>2735.270020</td>\n",
       "      <td>2751.020020</td>\n",
       "      <td>2751.020020</td>\n",
       "      <td>1452500</td>\n",
       "      <td>January</td>\n",
       "      <td>Thursday</td>\n",
       "      <td>1</td>\n",
       "    </tr>\n",
       "  </tbody>\n",
       "</table>\n",
       "</div>"
      ]
     },
     "execution_count": 211,
     "metadata": {},
     "output_type": "execute_result"
    }
   ],
   "execution_count": 211
  },
  {
   "metadata": {
    "ExecuteTime": {
     "end_time": "2024-10-17T22:01:21.043142Z",
     "start_time": "2024-10-17T22:01:20.870716Z"
    }
   },
   "cell_type": "code",
   "source": [
    "# visualising a single col\n",
    "google['Close'].plot()"
   ],
   "outputs": [
    {
     "data": {
      "text/plain": [
       "<Axes: xlabel='Date'>"
      ]
     },
     "execution_count": 212,
     "metadata": {},
     "output_type": "execute_result"
    },
    {
     "data": {
      "text/plain": [
       "<Figure size 640x480 with 1 Axes>"
      ],
      "image/png": "[encoded data removed]"
     },
     "metadata": {},
     "output_type": "display_data"
    }
   ],
   "execution_count": 212
  },
  {
   "metadata": {
    "ExecuteTime": {
     "end_time": "2024-10-17T22:01:21.247028Z",
     "start_time": "2024-10-17T22:01:21.044148Z"
    }
   },
   "cell_type": "code",
   "source": "yt['Comment_Count'].plot()",
   "outputs": [
    {
     "data": {
      "text/plain": [
       "<Axes: xlabel='Published_date'>"
      ]
     },
     "execution_count": 213,
     "metadata": {},
     "output_type": "execute_result"
    },
    {
     "data": {
      "text/plain": [
       "<Figure size 640x480 with 1 Axes>"
      ],
      "image/png": "[encoded data removed]"
     },
     "metadata": {},
     "output_type": "display_data"
    }
   ],
   "execution_count": 213
  },
  {
   "metadata": {
    "ExecuteTime": {
     "end_time": "2024-10-17T22:01:21.251505Z",
     "start_time": "2024-10-17T22:01:21.248033Z"
    }
   },
   "cell_type": "code",
   "source": "yt.columns",
   "outputs": [
    {
     "data": {
      "text/plain": [
       "Index(['Views', 'Comment_Count', 'month_name', 'weekday_name', 'quarter'], dtype='object')"
      ]
     },
     "execution_count": 214,
     "metadata": {},
     "output_type": "execute_result"
    }
   ],
   "execution_count": 214
  },
  {
   "metadata": {
    "ExecuteTime": {
     "end_time": "2024-10-17T22:01:21.668594Z",
     "start_time": "2024-10-17T22:01:21.251505Z"
    }
   },
   "cell_type": "code",
   "source": [
    "# viz all cols together\n",
    "subset_yt = yt[['Views', 'Comment_Count']]\n",
    "ax = subset_yt.plot(subplots=True,\n",
    "             layout=(2, 2),\n",
    "             sharex=False,\n",
    "             sharey=False,\n",
    "             linewidth=0.7,\n",
    "             fontsize=10,\n",
    "             legend = False,\n",
    "             figsize=(20, 15),\n",
    "             title=['Views', 'Comment_Count']\n",
    "             )\n"
   ],
   "outputs": [
    {
     "data": {
      "text/plain": [
       "<Figure size 2000x1500 with 4 Axes>"
      ],
      "image/png": "[encoded data removed]"
     },
     "metadata": {},
     "output_type": "display_data"
    }
   ],
   "execution_count": 215
  },
  {
   "metadata": {
    "ExecuteTime": {
     "end_time": "2024-10-17T22:01:21.801335Z",
     "start_time": "2024-10-17T22:01:21.669602Z"
    }
   },
   "cell_type": "code",
   "source": [
    "# plot for a particular year/month/week\n",
    "yt.loc['2008']['Comment_Count'].plot()"
   ],
   "outputs": [
    {
     "data": {
      "text/plain": [
       "<Axes: xlabel='Published_date'>"
      ]
     },
     "execution_count": 216,
     "metadata": {},
     "output_type": "execute_result"
    },
    {
     "data": {
      "text/plain": [
       "<Figure size 640x480 with 1 Axes>"
      ],
      "image/png": "[encoded data removed]"
     },
     "metadata": {},
     "output_type": "display_data"
    }
   ],
   "execution_count": 216
  },
  {
   "metadata": {
    "ExecuteTime": {
     "end_time": "2024-10-17T22:01:21.911583Z",
     "start_time": "2024-10-17T22:01:21.802343Z"
    }
   },
   "cell_type": "code",
   "source": "google.loc['2021']['Close'].plot()",
   "outputs": [
    {
     "data": {
      "text/plain": [
       "<Axes: xlabel='Date'>"
      ]
     },
     "execution_count": 217,
     "metadata": {},
     "output_type": "execute_result"
    },
    {
     "data": {
      "text/plain": [
       "<Figure size 640x480 with 1 Axes>"
      ],
      "image/png": "[encoded data removed]"
     },
     "metadata": {},
     "output_type": "display_data"
    }
   ],
   "execution_count": 217
  },
  {
   "metadata": {
    "ExecuteTime": {
     "end_time": "2024-10-17T22:01:22.032459Z",
     "start_time": "2024-10-17T22:01:21.912588Z"
    }
   },
   "cell_type": "code",
   "source": "google.loc['2021-12']['Close'].plot()",
   "outputs": [
    {
     "data": {
      "text/plain": [
       "<Axes: xlabel='Date'>"
      ]
     },
     "execution_count": 218,
     "metadata": {},
     "output_type": "execute_result"
    },
    {
     "data": {
      "text/plain": [
       "<Figure size 640x480 with 1 Axes>"
      ],
      "image/png": "[encoded data removed]"
     },
     "metadata": {},
     "output_type": "display_data"
    }
   ],
   "execution_count": 218
  },
  {
   "metadata": {
    "ExecuteTime": {
     "end_time": "2024-10-17T22:01:22.143415Z",
     "start_time": "2024-10-17T22:01:22.033466Z"
    }
   },
   "cell_type": "code",
   "source": "yt.loc['2008-12']['Views'].plot()",
   "outputs": [
    {
     "data": {
      "text/plain": [
       "<Axes: xlabel='Published_date'>"
      ]
     },
     "execution_count": 219,
     "metadata": {},
     "output_type": "execute_result"
    },
    {
     "data": {
      "text/plain": [
       "<Figure size 640x480 with 1 Axes>"
      ],
      "image/png": "[encoded data removed]"
     },
     "metadata": {},
     "output_type": "display_data"
    }
   ],
   "execution_count": 219
  },
  {
   "metadata": {
    "ExecuteTime": {
     "end_time": "2024-10-17T22:04:34.844051Z",
     "start_time": "2024-10-17T22:04:34.735858Z"
    }
   },
   "cell_type": "code",
   "source": [
    "# quarterly trend\n",
    "google['Close'].asfreq('QE').plot()"
   ],
   "outputs": [
    {
     "data": {
      "text/plain": [
       "<Axes: xlabel='Date'>"
      ]
     },
     "execution_count": 231,
     "metadata": {},
     "output_type": "execute_result"
    },
    {
     "data": {
      "text/plain": [
       "<Figure size 640x480 with 1 Axes>"
      ],
      "image/png": "[encoded data removed]"
     },
     "metadata": {},
     "output_type": "display_data"
    }
   ],
   "execution_count": 231
  },
  {
   "metadata": {
    "ExecuteTime": {
     "end_time": "2024-10-17T22:06:22.158913Z",
     "start_time": "2024-10-17T22:06:22.046805Z"
    }
   },
   "cell_type": "code",
   "source": [
    "# monthly trend\n",
    "yt.groupby('month_name')['Views'].mean().plot(kind='bar')"
   ],
   "outputs": [
    {
     "data": {
      "text/plain": [
       "<Axes: xlabel='month_name'>"
      ]
     },
     "execution_count": 236,
     "metadata": {},
     "output_type": "execute_result"
    },
    {
     "data": {
      "text/plain": [
       "<Figure size 640x480 with 1 Axes>"
      ],
      "image/png": "[encoded data removed]"
     },
     "metadata": {},
     "output_type": "display_data"
    }
   ],
   "execution_count": 236
  },
  {
   "metadata": {
    "ExecuteTime": {
     "end_time": "2024-10-17T22:07:16.303445Z",
     "start_time": "2024-10-17T22:07:16.100274Z"
    }
   },
   "cell_type": "code",
   "source": [
    "# yearly trend\n",
    "yt.groupby('weekday_name')['Views'].mean().plot(kind='bar')"
   ],
   "outputs": [
    {
     "data": {
      "text/plain": [
       "<Axes: xlabel='weekday_name'>"
      ]
     },
     "execution_count": 238,
     "metadata": {},
     "output_type": "execute_result"
    },
    {
     "data": {
      "text/plain": [
       "<Figure size 640x480 with 1 Axes>"
      ],
      "image/png": "[encoded data removed]"
     },
     "metadata": {},
     "output_type": "display_data"
    }
   ],
   "execution_count": 238
  },
  {
   "metadata": {
    "ExecuteTime": {
     "end_time": "2024-10-17T22:08:54.932713Z",
     "start_time": "2024-10-17T22:08:54.850387Z"
    }
   },
   "cell_type": "code",
   "source": "google.groupby('quarter')['Close'].mean().plot(kind='bar')",
   "outputs": [
    {
     "data": {
      "text/plain": [
       "<Axes: xlabel='quarter'>"
      ]
     },
     "execution_count": 241,
     "metadata": {},
     "output_type": "execute_result"
    },
    {
     "data": {
      "text/plain": [
       "<Figure size 640x480 with 1 Axes>"
      ],
      "image/png": "[encoded data removed]"
     },
     "metadata": {},
     "output_type": "display_data"
    }
   ],
   "execution_count": 241
  },
  {
   "metadata": {
    "ExecuteTime": {
     "end_time": "2024-10-17T22:01:22.154670Z",
     "start_time": "2024-10-17T22:01:22.147786Z"
    }
   },
   "cell_type": "code",
   "source": [
    "# frequency\n",
    "yt.index"
   ],
   "outputs": [
    {
     "data": {
      "text/plain": [
       "DatetimeIndex(['2020-01-17', '2020-01-21', '2020-01-23', '2020-01-25',\n",
       "               '2020-01-30', '2020-02-06', '2020-02-11', '2020-02-14',\n",
       "               '2020-02-19', '2020-02-24',\n",
       "               ...\n",
       "               '2023-09-17', '2023-09-20', '2023-09-23', '2023-11-04',\n",
       "               '2024-01-13', '2024-01-17', '2024-01-21', '2024-03-16',\n",
       "               '2024-03-23', '2024-04-20'],\n",
       "              dtype='datetime64[ns]', name='Published_date', length=23002, freq=None)"
      ]
     },
     "execution_count": 221,
     "metadata": {},
     "output_type": "execute_result"
    }
   ],
   "execution_count": 221
  },
  {
   "metadata": {
    "ExecuteTime": {
     "end_time": "2024-10-17T22:01:22.159606Z",
     "start_time": "2024-10-17T22:01:22.154670Z"
    }
   },
   "cell_type": "code",
   "source": "google.index",
   "outputs": [
    {
     "data": {
      "text/plain": [
       "DatetimeIndex(['2004-08-19', '2004-08-20', '2004-08-23', '2004-08-24',\n",
       "               '2004-08-25', '2004-08-26', '2004-08-27', '2004-08-30',\n",
       "               '2004-08-31', '2004-09-01',\n",
       "               ...\n",
       "               '2022-05-09', '2022-05-10', '2022-05-11', '2022-05-12',\n",
       "               '2022-05-13', '2022-05-16', '2022-05-17', '2022-05-18',\n",
       "               '2022-05-19', '2022-05-20'],\n",
       "              dtype='datetime64[ns]', name='Date', length=4471, freq=None)"
      ]
     },
     "execution_count": 222,
     "metadata": {},
     "output_type": "execute_result"
    }
   ],
   "execution_count": 222
  },
  {
   "metadata": {
    "ExecuteTime": {
     "end_time": "2024-10-17T22:01:22.217764Z",
     "start_time": "2024-10-17T22:01:22.160613Z"
    }
   },
   "cell_type": "code",
   "source": [
    "# as you can see above, the freq = None\n",
    "# inserts NaN values in Saturday and Sunday\n",
    "google = google.asfreq('B')\n",
    "google.head()"
   ],
   "outputs": [
    {
     "data": {
      "text/plain": [
       "                 Open       High        Low      Close  Adj Close      Volume  \\\n",
       "Date                                                                            \n",
       "2004-08-19  49.813290  51.835709  47.800831  49.982655  49.982655  44871361.0   \n",
       "2004-08-20  50.316402  54.336334  50.062355  53.952770  53.952770  22942874.0   \n",
       "2004-08-23  55.168217  56.528118  54.321388  54.495735  54.495735  18342897.0   \n",
       "2004-08-24  55.412300  55.591629  51.591621  52.239197  52.239197  15319808.0   \n",
       "2004-08-25  52.284027  53.798351  51.746044  52.802086  52.802086   9232276.0   \n",
       "\n",
       "           month_name weekday_name  quarter  \n",
       "Date                                         \n",
       "2004-08-19     August     Thursday      3.0  \n",
       "2004-08-20     August       Friday      3.0  \n",
       "2004-08-23     August       Monday      3.0  \n",
       "2004-08-24     August      Tuesday      3.0  \n",
       "2004-08-25     August    Wednesday      3.0  "
      ],
      "text/html": [
       "<div>\n",
       "<style scoped>\n",
       "    .dataframe tbody tr th:only-of-type {\n",
       "        vertical-align: middle;\n",
       "    }\n",
       "\n",
       "    .dataframe tbody tr th {\n",
       "        vertical-align: top;\n",
       "    }\n",
       "\n",
       "    .dataframe thead th {\n",
       "        text-align: right;\n",
       "    }\n",
       "</style>\n",
       "<table border=\"1\" class=\"dataframe\">\n",
       "  <thead>\n",
       "    <tr style=\"text-align: right;\">\n",
       "      <th></th>\n",
       "      <th>Open</th>\n",
       "      <th>High</th>\n",
       "      <th>Low</th>\n",
       "      <th>Close</th>\n",
       "      <th>Adj Close</th>\n",
       "      <th>Volume</th>\n",
       "      <th>month_name</th>\n",
       "      <th>weekday_name</th>\n",
       "      <th>quarter</th>\n",
       "    </tr>\n",
       "    <tr>\n",
       "      <th>Date</th>\n",
       "      <th></th>\n",
       "      <th></th>\n",
       "      <th></th>\n",
       "      <th></th>\n",
       "      <th></th>\n",
       "      <th></th>\n",
       "      <th></th>\n",
       "      <th></th>\n",
       "      <th></th>\n",
       "    </tr>\n",
       "  </thead>\n",
       "  <tbody>\n",
       "    <tr>\n",
       "      <th>2004-08-19</th>\n",
       "      <td>49.813290</td>\n",
       "      <td>51.835709</td>\n",
       "      <td>47.800831</td>\n",
       "      <td>49.982655</td>\n",
       "      <td>49.982655</td>\n",
       "      <td>44871361.0</td>\n",
       "      <td>August</td>\n",
       "      <td>Thursday</td>\n",
       "      <td>3.0</td>\n",
       "    </tr>\n",
       "    <tr>\n",
       "      <th>2004-08-20</th>\n",
       "      <td>50.316402</td>\n",
       "      <td>54.336334</td>\n",
       "      <td>50.062355</td>\n",
       "      <td>53.952770</td>\n",
       "      <td>53.952770</td>\n",
       "      <td>22942874.0</td>\n",
       "      <td>August</td>\n",
       "      <td>Friday</td>\n",
       "      <td>3.0</td>\n",
       "    </tr>\n",
       "    <tr>\n",
       "      <th>2004-08-23</th>\n",
       "      <td>55.168217</td>\n",
       "      <td>56.528118</td>\n",
       "      <td>54.321388</td>\n",
       "      <td>54.495735</td>\n",
       "      <td>54.495735</td>\n",
       "      <td>18342897.0</td>\n",
       "      <td>August</td>\n",
       "      <td>Monday</td>\n",
       "      <td>3.0</td>\n",
       "    </tr>\n",
       "    <tr>\n",
       "      <th>2004-08-24</th>\n",
       "      <td>55.412300</td>\n",
       "      <td>55.591629</td>\n",
       "      <td>51.591621</td>\n",
       "      <td>52.239197</td>\n",
       "      <td>52.239197</td>\n",
       "      <td>15319808.0</td>\n",
       "      <td>August</td>\n",
       "      <td>Tuesday</td>\n",
       "      <td>3.0</td>\n",
       "    </tr>\n",
       "    <tr>\n",
       "      <th>2004-08-25</th>\n",
       "      <td>52.284027</td>\n",
       "      <td>53.798351</td>\n",
       "      <td>51.746044</td>\n",
       "      <td>52.802086</td>\n",
       "      <td>52.802086</td>\n",
       "      <td>9232276.0</td>\n",
       "      <td>August</td>\n",
       "      <td>Wednesday</td>\n",
       "      <td>3.0</td>\n",
       "    </tr>\n",
       "  </tbody>\n",
       "</table>\n",
       "</div>"
      ]
     },
     "execution_count": 223,
     "metadata": {},
     "output_type": "execute_result"
    }
   ],
   "execution_count": 223
  },
  {
   "metadata": {
    "ExecuteTime": {
     "end_time": "2024-10-17T22:01:22.228935Z",
     "start_time": "2024-10-17T22:01:22.218769Z"
    }
   },
   "cell_type": "code",
   "source": "google.asfreq('6h').head()",
   "outputs": [
    {
     "data": {
      "text/plain": [
       "                          Open       High        Low      Close  Adj Close  \\\n",
       "Date                                                                         \n",
       "2004-08-19 00:00:00  49.813290  51.835709  47.800831  49.982655  49.982655   \n",
       "2004-08-19 06:00:00        NaN        NaN        NaN        NaN        NaN   \n",
       "2004-08-19 12:00:00        NaN        NaN        NaN        NaN        NaN   \n",
       "2004-08-19 18:00:00        NaN        NaN        NaN        NaN        NaN   \n",
       "2004-08-20 00:00:00  50.316402  54.336334  50.062355  53.952770  53.952770   \n",
       "\n",
       "                         Volume month_name weekday_name  quarter  \n",
       "Date                                                              \n",
       "2004-08-19 00:00:00  44871361.0     August     Thursday      3.0  \n",
       "2004-08-19 06:00:00         NaN        NaN          NaN      NaN  \n",
       "2004-08-19 12:00:00         NaN        NaN          NaN      NaN  \n",
       "2004-08-19 18:00:00         NaN        NaN          NaN      NaN  \n",
       "2004-08-20 00:00:00  22942874.0     August       Friday      3.0  "
      ],
      "text/html": [
       "<div>\n",
       "<style scoped>\n",
       "    .dataframe tbody tr th:only-of-type {\n",
       "        vertical-align: middle;\n",
       "    }\n",
       "\n",
       "    .dataframe tbody tr th {\n",
       "        vertical-align: top;\n",
       "    }\n",
       "\n",
       "    .dataframe thead th {\n",
       "        text-align: right;\n",
       "    }\n",
       "</style>\n",
       "<table border=\"1\" class=\"dataframe\">\n",
       "  <thead>\n",
       "    <tr style=\"text-align: right;\">\n",
       "      <th></th>\n",
       "      <th>Open</th>\n",
       "      <th>High</th>\n",
       "      <th>Low</th>\n",
       "      <th>Close</th>\n",
       "      <th>Adj Close</th>\n",
       "      <th>Volume</th>\n",
       "      <th>month_name</th>\n",
       "      <th>weekday_name</th>\n",
       "      <th>quarter</th>\n",
       "    </tr>\n",
       "    <tr>\n",
       "      <th>Date</th>\n",
       "      <th></th>\n",
       "      <th></th>\n",
       "      <th></th>\n",
       "      <th></th>\n",
       "      <th></th>\n",
       "      <th></th>\n",
       "      <th></th>\n",
       "      <th></th>\n",
       "      <th></th>\n",
       "    </tr>\n",
       "  </thead>\n",
       "  <tbody>\n",
       "    <tr>\n",
       "      <th>2004-08-19 00:00:00</th>\n",
       "      <td>49.813290</td>\n",
       "      <td>51.835709</td>\n",
       "      <td>47.800831</td>\n",
       "      <td>49.982655</td>\n",
       "      <td>49.982655</td>\n",
       "      <td>44871361.0</td>\n",
       "      <td>August</td>\n",
       "      <td>Thursday</td>\n",
       "      <td>3.0</td>\n",
       "    </tr>\n",
       "    <tr>\n",
       "      <th>2004-08-19 06:00:00</th>\n",
       "      <td>NaN</td>\n",
       "      <td>NaN</td>\n",
       "      <td>NaN</td>\n",
       "      <td>NaN</td>\n",
       "      <td>NaN</td>\n",
       "      <td>NaN</td>\n",
       "      <td>NaN</td>\n",
       "      <td>NaN</td>\n",
       "      <td>NaN</td>\n",
       "    </tr>\n",
       "    <tr>\n",
       "      <th>2004-08-19 12:00:00</th>\n",
       "      <td>NaN</td>\n",
       "      <td>NaN</td>\n",
       "      <td>NaN</td>\n",
       "      <td>NaN</td>\n",
       "      <td>NaN</td>\n",
       "      <td>NaN</td>\n",
       "      <td>NaN</td>\n",
       "      <td>NaN</td>\n",
       "      <td>NaN</td>\n",
       "    </tr>\n",
       "    <tr>\n",
       "      <th>2004-08-19 18:00:00</th>\n",
       "      <td>NaN</td>\n",
       "      <td>NaN</td>\n",
       "      <td>NaN</td>\n",
       "      <td>NaN</td>\n",
       "      <td>NaN</td>\n",
       "      <td>NaN</td>\n",
       "      <td>NaN</td>\n",
       "      <td>NaN</td>\n",
       "      <td>NaN</td>\n",
       "    </tr>\n",
       "    <tr>\n",
       "      <th>2004-08-20 00:00:00</th>\n",
       "      <td>50.316402</td>\n",
       "      <td>54.336334</td>\n",
       "      <td>50.062355</td>\n",
       "      <td>53.952770</td>\n",
       "      <td>53.952770</td>\n",
       "      <td>22942874.0</td>\n",
       "      <td>August</td>\n",
       "      <td>Friday</td>\n",
       "      <td>3.0</td>\n",
       "    </tr>\n",
       "  </tbody>\n",
       "</table>\n",
       "</div>"
      ]
     },
     "execution_count": 224,
     "metadata": {},
     "output_type": "execute_result"
    }
   ],
   "execution_count": 224
  },
  {
   "metadata": {
    "ExecuteTime": {
     "end_time": "2024-10-17T22:01:22.241482Z",
     "start_time": "2024-10-17T22:01:22.228935Z"
    }
   },
   "cell_type": "code",
   "source": [
    "# forward fill\n",
    "google.asfreq('6h',method='ffill')"
   ],
   "outputs": [
    {
     "data": {
      "text/plain": [
       "                            Open         High          Low        Close  \\\n",
       "Date                                                                      \n",
       "2004-08-19 00:00:00    49.813290    51.835709    47.800831    49.982655   \n",
       "2004-08-19 06:00:00    49.813290    51.835709    47.800831    49.982655   \n",
       "2004-08-19 12:00:00    49.813290    51.835709    47.800831    49.982655   \n",
       "2004-08-19 18:00:00    49.813290    51.835709    47.800831    49.982655   \n",
       "2004-08-20 00:00:00    50.316402    54.336334    50.062355    53.952770   \n",
       "...                          ...          ...          ...          ...   \n",
       "2022-05-19 00:00:00  2236.820068  2271.750000  2209.360107  2214.909912   \n",
       "2022-05-19 06:00:00  2236.820068  2271.750000  2209.360107  2214.909912   \n",
       "2022-05-19 12:00:00  2236.820068  2271.750000  2209.360107  2214.909912   \n",
       "2022-05-19 18:00:00  2236.820068  2271.750000  2209.360107  2214.909912   \n",
       "2022-05-20 00:00:00  2241.709961  2251.000000  2127.459961  2186.260010   \n",
       "\n",
       "                       Adj Close      Volume month_name weekday_name  quarter  \n",
       "Date                                                                           \n",
       "2004-08-19 00:00:00    49.982655  44871361.0     August     Thursday      3.0  \n",
       "2004-08-19 06:00:00    49.982655  44871361.0     August     Thursday      3.0  \n",
       "2004-08-19 12:00:00    49.982655  44871361.0     August     Thursday      3.0  \n",
       "2004-08-19 18:00:00    49.982655  44871361.0     August     Thursday      3.0  \n",
       "2004-08-20 00:00:00    53.952770  22942874.0     August       Friday      3.0  \n",
       "...                          ...         ...        ...          ...      ...  \n",
       "2022-05-19 00:00:00  2214.909912   1459600.0        May     Thursday      2.0  \n",
       "2022-05-19 06:00:00  2214.909912   1459600.0        May     Thursday      2.0  \n",
       "2022-05-19 12:00:00  2214.909912   1459600.0        May     Thursday      2.0  \n",
       "2022-05-19 18:00:00  2214.909912   1459600.0        May     Thursday      2.0  \n",
       "2022-05-20 00:00:00  2186.260010   1878100.0        May       Friday      2.0  \n",
       "\n",
       "[25933 rows x 9 columns]"
      ],
      "text/html": [
       "<div>\n",
       "<style scoped>\n",
       "    .dataframe tbody tr th:only-of-type {\n",
       "        vertical-align: middle;\n",
       "    }\n",
       "\n",
       "    .dataframe tbody tr th {\n",
       "        vertical-align: top;\n",
       "    }\n",
       "\n",
       "    .dataframe thead th {\n",
       "        text-align: right;\n",
       "    }\n",
       "</style>\n",
       "<table border=\"1\" class=\"dataframe\">\n",
       "  <thead>\n",
       "    <tr style=\"text-align: right;\">\n",
       "      <th></th>\n",
       "      <th>Open</th>\n",
       "      <th>High</th>\n",
       "      <th>Low</th>\n",
       "      <th>Close</th>\n",
       "      <th>Adj Close</th>\n",
       "      <th>Volume</th>\n",
       "      <th>month_name</th>\n",
       "      <th>weekday_name</th>\n",
       "      <th>quarter</th>\n",
       "    </tr>\n",
       "    <tr>\n",
       "      <th>Date</th>\n",
       "      <th></th>\n",
       "      <th></th>\n",
       "      <th></th>\n",
       "      <th></th>\n",
       "      <th></th>\n",
       "      <th></th>\n",
       "      <th></th>\n",
       "      <th></th>\n",
       "      <th></th>\n",
       "    </tr>\n",
       "  </thead>\n",
       "  <tbody>\n",
       "    <tr>\n",
       "      <th>2004-08-19 00:00:00</th>\n",
       "      <td>49.813290</td>\n",
       "      <td>51.835709</td>\n",
       "      <td>47.800831</td>\n",
       "      <td>49.982655</td>\n",
       "      <td>49.982655</td>\n",
       "      <td>44871361.0</td>\n",
       "      <td>August</td>\n",
       "      <td>Thursday</td>\n",
       "      <td>3.0</td>\n",
       "    </tr>\n",
       "    <tr>\n",
       "      <th>2004-08-19 06:00:00</th>\n",
       "      <td>49.813290</td>\n",
       "      <td>51.835709</td>\n",
       "      <td>47.800831</td>\n",
       "      <td>49.982655</td>\n",
       "      <td>49.982655</td>\n",
       "      <td>44871361.0</td>\n",
       "      <td>August</td>\n",
       "      <td>Thursday</td>\n",
       "      <td>3.0</td>\n",
       "    </tr>\n",
       "    <tr>\n",
       "      <th>2004-08-19 12:00:00</th>\n",
       "      <td>49.813290</td>\n",
       "      <td>51.835709</td>\n",
       "      <td>47.800831</td>\n",
       "      <td>49.982655</td>\n",
       "      <td>49.982655</td>\n",
       "      <td>44871361.0</td>\n",
       "      <td>August</td>\n",
       "      <td>Thursday</td>\n",
       "      <td>3.0</td>\n",
       "    </tr>\n",
       "    <tr>\n",
       "      <th>2004-08-19 18:00:00</th>\n",
       "      <td>49.813290</td>\n",
       "      <td>51.835709</td>\n",
       "      <td>47.800831</td>\n",
       "      <td>49.982655</td>\n",
       "      <td>49.982655</td>\n",
       "      <td>44871361.0</td>\n",
       "      <td>August</td>\n",
       "      <td>Thursday</td>\n",
       "      <td>3.0</td>\n",
       "    </tr>\n",
       "    <tr>\n",
       "      <th>2004-08-20 00:00:00</th>\n",
       "      <td>50.316402</td>\n",
       "      <td>54.336334</td>\n",
       "      <td>50.062355</td>\n",
       "      <td>53.952770</td>\n",
       "      <td>53.952770</td>\n",
       "      <td>22942874.0</td>\n",
       "      <td>August</td>\n",
       "      <td>Friday</td>\n",
       "      <td>3.0</td>\n",
       "    </tr>\n",
       "    <tr>\n",
       "      <th>...</th>\n",
       "      <td>...</td>\n",
       "      <td>...</td>\n",
       "      <td>...</td>\n",
       "      <td>...</td>\n",
       "      <td>...</td>\n",
       "      <td>...</td>\n",
       "      <td>...</td>\n",
       "      <td>...</td>\n",
       "      <td>...</td>\n",
       "    </tr>\n",
       "    <tr>\n",
       "      <th>2022-05-19 00:00:00</th>\n",
       "      <td>2236.820068</td>\n",
       "      <td>2271.750000</td>\n",
       "      <td>2209.360107</td>\n",
       "      <td>2214.909912</td>\n",
       "      <td>2214.909912</td>\n",
       "      <td>1459600.0</td>\n",
       "      <td>May</td>\n",
       "      <td>Thursday</td>\n",
       "      <td>2.0</td>\n",
       "    </tr>\n",
       "    <tr>\n",
       "      <th>2022-05-19 06:00:00</th>\n",
       "      <td>2236.820068</td>\n",
       "      <td>2271.750000</td>\n",
       "      <td>2209.360107</td>\n",
       "      <td>2214.909912</td>\n",
       "      <td>2214.909912</td>\n",
       "      <td>1459600.0</td>\n",
       "      <td>May</td>\n",
       "      <td>Thursday</td>\n",
       "      <td>2.0</td>\n",
       "    </tr>\n",
       "    <tr>\n",
       "      <th>2022-05-19 12:00:00</th>\n",
       "      <td>2236.820068</td>\n",
       "      <td>2271.750000</td>\n",
       "      <td>2209.360107</td>\n",
       "      <td>2214.909912</td>\n",
       "      <td>2214.909912</td>\n",
       "      <td>1459600.0</td>\n",
       "      <td>May</td>\n",
       "      <td>Thursday</td>\n",
       "      <td>2.0</td>\n",
       "    </tr>\n",
       "    <tr>\n",
       "      <th>2022-05-19 18:00:00</th>\n",
       "      <td>2236.820068</td>\n",
       "      <td>2271.750000</td>\n",
       "      <td>2209.360107</td>\n",
       "      <td>2214.909912</td>\n",
       "      <td>2214.909912</td>\n",
       "      <td>1459600.0</td>\n",
       "      <td>May</td>\n",
       "      <td>Thursday</td>\n",
       "      <td>2.0</td>\n",
       "    </tr>\n",
       "    <tr>\n",
       "      <th>2022-05-20 00:00:00</th>\n",
       "      <td>2241.709961</td>\n",
       "      <td>2251.000000</td>\n",
       "      <td>2127.459961</td>\n",
       "      <td>2186.260010</td>\n",
       "      <td>2186.260010</td>\n",
       "      <td>1878100.0</td>\n",
       "      <td>May</td>\n",
       "      <td>Friday</td>\n",
       "      <td>2.0</td>\n",
       "    </tr>\n",
       "  </tbody>\n",
       "</table>\n",
       "<p>25933 rows × 9 columns</p>\n",
       "</div>"
      ]
     },
     "execution_count": 225,
     "metadata": {},
     "output_type": "execute_result"
    }
   ],
   "execution_count": 225
  },
  {
   "metadata": {
    "ExecuteTime": {
     "end_time": "2024-10-17T22:01:22.255163Z",
     "start_time": "2024-10-17T22:01:22.242487Z"
    }
   },
   "cell_type": "code",
   "source": "google.asfreq('6h', method='bfill')",
   "outputs": [
    {
     "data": {
      "text/plain": [
       "                            Open         High          Low        Close  \\\n",
       "Date                                                                      \n",
       "2004-08-19 00:00:00    49.813290    51.835709    47.800831    49.982655   \n",
       "2004-08-19 06:00:00    50.316402    54.336334    50.062355    53.952770   \n",
       "2004-08-19 12:00:00    50.316402    54.336334    50.062355    53.952770   \n",
       "2004-08-19 18:00:00    50.316402    54.336334    50.062355    53.952770   \n",
       "2004-08-20 00:00:00    50.316402    54.336334    50.062355    53.952770   \n",
       "...                          ...          ...          ...          ...   \n",
       "2022-05-19 00:00:00  2236.820068  2271.750000  2209.360107  2214.909912   \n",
       "2022-05-19 06:00:00  2241.709961  2251.000000  2127.459961  2186.260010   \n",
       "2022-05-19 12:00:00  2241.709961  2251.000000  2127.459961  2186.260010   \n",
       "2022-05-19 18:00:00  2241.709961  2251.000000  2127.459961  2186.260010   \n",
       "2022-05-20 00:00:00  2241.709961  2251.000000  2127.459961  2186.260010   \n",
       "\n",
       "                       Adj Close      Volume month_name weekday_name  quarter  \n",
       "Date                                                                           \n",
       "2004-08-19 00:00:00    49.982655  44871361.0     August     Thursday      3.0  \n",
       "2004-08-19 06:00:00    53.952770  22942874.0     August       Friday      3.0  \n",
       "2004-08-19 12:00:00    53.952770  22942874.0     August       Friday      3.0  \n",
       "2004-08-19 18:00:00    53.952770  22942874.0     August       Friday      3.0  \n",
       "2004-08-20 00:00:00    53.952770  22942874.0     August       Friday      3.0  \n",
       "...                          ...         ...        ...          ...      ...  \n",
       "2022-05-19 00:00:00  2214.909912   1459600.0        May     Thursday      2.0  \n",
       "2022-05-19 06:00:00  2186.260010   1878100.0        May       Friday      2.0  \n",
       "2022-05-19 12:00:00  2186.260010   1878100.0        May       Friday      2.0  \n",
       "2022-05-19 18:00:00  2186.260010   1878100.0        May       Friday      2.0  \n",
       "2022-05-20 00:00:00  2186.260010   1878100.0        May       Friday      2.0  \n",
       "\n",
       "[25933 rows x 9 columns]"
      ],
      "text/html": [
       "<div>\n",
       "<style scoped>\n",
       "    .dataframe tbody tr th:only-of-type {\n",
       "        vertical-align: middle;\n",
       "    }\n",
       "\n",
       "    .dataframe tbody tr th {\n",
       "        vertical-align: top;\n",
       "    }\n",
       "\n",
       "    .dataframe thead th {\n",
       "        text-align: right;\n",
       "    }\n",
       "</style>\n",
       "<table border=\"1\" class=\"dataframe\">\n",
       "  <thead>\n",
       "    <tr style=\"text-align: right;\">\n",
       "      <th></th>\n",
       "      <th>Open</th>\n",
       "      <th>High</th>\n",
       "      <th>Low</th>\n",
       "      <th>Close</th>\n",
       "      <th>Adj Close</th>\n",
       "      <th>Volume</th>\n",
       "      <th>month_name</th>\n",
       "      <th>weekday_name</th>\n",
       "      <th>quarter</th>\n",
       "    </tr>\n",
       "    <tr>\n",
       "      <th>Date</th>\n",
       "      <th></th>\n",
       "      <th></th>\n",
       "      <th></th>\n",
       "      <th></th>\n",
       "      <th></th>\n",
       "      <th></th>\n",
       "      <th></th>\n",
       "      <th></th>\n",
       "      <th></th>\n",
       "    </tr>\n",
       "  </thead>\n",
       "  <tbody>\n",
       "    <tr>\n",
       "      <th>2004-08-19 00:00:00</th>\n",
       "      <td>49.813290</td>\n",
       "      <td>51.835709</td>\n",
       "      <td>47.800831</td>\n",
       "      <td>49.982655</td>\n",
       "      <td>49.982655</td>\n",
       "      <td>44871361.0</td>\n",
       "      <td>August</td>\n",
       "      <td>Thursday</td>\n",
       "      <td>3.0</td>\n",
       "    </tr>\n",
       "    <tr>\n",
       "      <th>2004-08-19 06:00:00</th>\n",
       "      <td>50.316402</td>\n",
       "      <td>54.336334</td>\n",
       "      <td>50.062355</td>\n",
       "      <td>53.952770</td>\n",
       "      <td>53.952770</td>\n",
       "      <td>22942874.0</td>\n",
       "      <td>August</td>\n",
       "      <td>Friday</td>\n",
       "      <td>3.0</td>\n",
       "    </tr>\n",
       "    <tr>\n",
       "      <th>2004-08-19 12:00:00</th>\n",
       "      <td>50.316402</td>\n",
       "      <td>54.336334</td>\n",
       "      <td>50.062355</td>\n",
       "      <td>53.952770</td>\n",
       "      <td>53.952770</td>\n",
       "      <td>22942874.0</td>\n",
       "      <td>August</td>\n",
       "      <td>Friday</td>\n",
       "      <td>3.0</td>\n",
       "    </tr>\n",
       "    <tr>\n",
       "      <th>2004-08-19 18:00:00</th>\n",
       "      <td>50.316402</td>\n",
       "      <td>54.336334</td>\n",
       "      <td>50.062355</td>\n",
       "      <td>53.952770</td>\n",
       "      <td>53.952770</td>\n",
       "      <td>22942874.0</td>\n",
       "      <td>August</td>\n",
       "      <td>Friday</td>\n",
       "      <td>3.0</td>\n",
       "    </tr>\n",
       "    <tr>\n",
       "      <th>2004-08-20 00:00:00</th>\n",
       "      <td>50.316402</td>\n",
       "      <td>54.336334</td>\n",
       "      <td>50.062355</td>\n",
       "      <td>53.952770</td>\n",
       "      <td>53.952770</td>\n",
       "      <td>22942874.0</td>\n",
       "      <td>August</td>\n",
       "      <td>Friday</td>\n",
       "      <td>3.0</td>\n",
       "    </tr>\n",
       "    <tr>\n",
       "      <th>...</th>\n",
       "      <td>...</td>\n",
       "      <td>...</td>\n",
       "      <td>...</td>\n",
       "      <td>...</td>\n",
       "      <td>...</td>\n",
       "      <td>...</td>\n",
       "      <td>...</td>\n",
       "      <td>...</td>\n",
       "      <td>...</td>\n",
       "    </tr>\n",
       "    <tr>\n",
       "      <th>2022-05-19 00:00:00</th>\n",
       "      <td>2236.820068</td>\n",
       "      <td>2271.750000</td>\n",
       "      <td>2209.360107</td>\n",
       "      <td>2214.909912</td>\n",
       "      <td>2214.909912</td>\n",
       "      <td>1459600.0</td>\n",
       "      <td>May</td>\n",
       "      <td>Thursday</td>\n",
       "      <td>2.0</td>\n",
       "    </tr>\n",
       "    <tr>\n",
       "      <th>2022-05-19 06:00:00</th>\n",
       "      <td>2241.709961</td>\n",
       "      <td>2251.000000</td>\n",
       "      <td>2127.459961</td>\n",
       "      <td>2186.260010</td>\n",
       "      <td>2186.260010</td>\n",
       "      <td>1878100.0</td>\n",
       "      <td>May</td>\n",
       "      <td>Friday</td>\n",
       "      <td>2.0</td>\n",
       "    </tr>\n",
       "    <tr>\n",
       "      <th>2022-05-19 12:00:00</th>\n",
       "      <td>2241.709961</td>\n",
       "      <td>2251.000000</td>\n",
       "      <td>2127.459961</td>\n",
       "      <td>2186.260010</td>\n",
       "      <td>2186.260010</td>\n",
       "      <td>1878100.0</td>\n",
       "      <td>May</td>\n",
       "      <td>Friday</td>\n",
       "      <td>2.0</td>\n",
       "    </tr>\n",
       "    <tr>\n",
       "      <th>2022-05-19 18:00:00</th>\n",
       "      <td>2241.709961</td>\n",
       "      <td>2251.000000</td>\n",
       "      <td>2127.459961</td>\n",
       "      <td>2186.260010</td>\n",
       "      <td>2186.260010</td>\n",
       "      <td>1878100.0</td>\n",
       "      <td>May</td>\n",
       "      <td>Friday</td>\n",
       "      <td>2.0</td>\n",
       "    </tr>\n",
       "    <tr>\n",
       "      <th>2022-05-20 00:00:00</th>\n",
       "      <td>2241.709961</td>\n",
       "      <td>2251.000000</td>\n",
       "      <td>2127.459961</td>\n",
       "      <td>2186.260010</td>\n",
       "      <td>2186.260010</td>\n",
       "      <td>1878100.0</td>\n",
       "      <td>May</td>\n",
       "      <td>Friday</td>\n",
       "      <td>2.0</td>\n",
       "    </tr>\n",
       "  </tbody>\n",
       "</table>\n",
       "<p>25933 rows × 9 columns</p>\n",
       "</div>"
      ]
     },
     "execution_count": 226,
     "metadata": {},
     "output_type": "execute_result"
    }
   ],
   "execution_count": 226
  },
  {
   "metadata": {
    "ExecuteTime": {
     "end_time": "2024-10-17T22:01:22.267794Z",
     "start_time": "2024-10-17T22:01:22.257690Z"
    }
   },
   "cell_type": "code",
   "source": [
    "# asfreq\n",
    "yt"
   ],
   "outputs": [
    {
     "data": {
      "text/plain": [
       "                   Views  Comment_Count month_name weekday_name  quarter\n",
       "Published_date                                                          \n",
       "2020-01-17       29074.0          140.0    January       Friday        1\n",
       "2020-01-21        8943.0           19.0    January      Tuesday        1\n",
       "2020-01-23       64571.0          229.0    January     Thursday        1\n",
       "2020-01-25       15225.0           22.0    January     Saturday        1\n",
       "2020-01-30       72678.0           64.0    January     Thursday        1\n",
       "...                  ...            ...        ...          ...      ...\n",
       "2024-01-17      143309.0          192.0    January    Wednesday        1\n",
       "2024-01-21      129956.0          358.0    January       Sunday        1\n",
       "2024-03-16       43627.0          267.0      March     Saturday        1\n",
       "2024-03-23       78155.0          245.0      March     Saturday        1\n",
       "2024-04-20      157284.0          632.0      April     Saturday        2\n",
       "\n",
       "[23002 rows x 5 columns]"
      ],
      "text/html": [
       "<div>\n",
       "<style scoped>\n",
       "    .dataframe tbody tr th:only-of-type {\n",
       "        vertical-align: middle;\n",
       "    }\n",
       "\n",
       "    .dataframe tbody tr th {\n",
       "        vertical-align: top;\n",
       "    }\n",
       "\n",
       "    .dataframe thead th {\n",
       "        text-align: right;\n",
       "    }\n",
       "</style>\n",
       "<table border=\"1\" class=\"dataframe\">\n",
       "  <thead>\n",
       "    <tr style=\"text-align: right;\">\n",
       "      <th></th>\n",
       "      <th>Views</th>\n",
       "      <th>Comment_Count</th>\n",
       "      <th>month_name</th>\n",
       "      <th>weekday_name</th>\n",
       "      <th>quarter</th>\n",
       "    </tr>\n",
       "    <tr>\n",
       "      <th>Published_date</th>\n",
       "      <th></th>\n",
       "      <th></th>\n",
       "      <th></th>\n",
       "      <th></th>\n",
       "      <th></th>\n",
       "    </tr>\n",
       "  </thead>\n",
       "  <tbody>\n",
       "    <tr>\n",
       "      <th>2020-01-17</th>\n",
       "      <td>29074.0</td>\n",
       "      <td>140.0</td>\n",
       "      <td>January</td>\n",
       "      <td>Friday</td>\n",
       "      <td>1</td>\n",
       "    </tr>\n",
       "    <tr>\n",
       "      <th>2020-01-21</th>\n",
       "      <td>8943.0</td>\n",
       "      <td>19.0</td>\n",
       "      <td>January</td>\n",
       "      <td>Tuesday</td>\n",
       "      <td>1</td>\n",
       "    </tr>\n",
       "    <tr>\n",
       "      <th>2020-01-23</th>\n",
       "      <td>64571.0</td>\n",
       "      <td>229.0</td>\n",
       "      <td>January</td>\n",
       "      <td>Thursday</td>\n",
       "      <td>1</td>\n",
       "    </tr>\n",
       "    <tr>\n",
       "      <th>2020-01-25</th>\n",
       "      <td>15225.0</td>\n",
       "      <td>22.0</td>\n",
       "      <td>January</td>\n",
       "      <td>Saturday</td>\n",
       "      <td>1</td>\n",
       "    </tr>\n",
       "    <tr>\n",
       "      <th>2020-01-30</th>\n",
       "      <td>72678.0</td>\n",
       "      <td>64.0</td>\n",
       "      <td>January</td>\n",
       "      <td>Thursday</td>\n",
       "      <td>1</td>\n",
       "    </tr>\n",
       "    <tr>\n",
       "      <th>...</th>\n",
       "      <td>...</td>\n",
       "      <td>...</td>\n",
       "      <td>...</td>\n",
       "      <td>...</td>\n",
       "      <td>...</td>\n",
       "    </tr>\n",
       "    <tr>\n",
       "      <th>2024-01-17</th>\n",
       "      <td>143309.0</td>\n",
       "      <td>192.0</td>\n",
       "      <td>January</td>\n",
       "      <td>Wednesday</td>\n",
       "      <td>1</td>\n",
       "    </tr>\n",
       "    <tr>\n",
       "      <th>2024-01-21</th>\n",
       "      <td>129956.0</td>\n",
       "      <td>358.0</td>\n",
       "      <td>January</td>\n",
       "      <td>Sunday</td>\n",
       "      <td>1</td>\n",
       "    </tr>\n",
       "    <tr>\n",
       "      <th>2024-03-16</th>\n",
       "      <td>43627.0</td>\n",
       "      <td>267.0</td>\n",
       "      <td>March</td>\n",
       "      <td>Saturday</td>\n",
       "      <td>1</td>\n",
       "    </tr>\n",
       "    <tr>\n",
       "      <th>2024-03-23</th>\n",
       "      <td>78155.0</td>\n",
       "      <td>245.0</td>\n",
       "      <td>March</td>\n",
       "      <td>Saturday</td>\n",
       "      <td>1</td>\n",
       "    </tr>\n",
       "    <tr>\n",
       "      <th>2024-04-20</th>\n",
       "      <td>157284.0</td>\n",
       "      <td>632.0</td>\n",
       "      <td>April</td>\n",
       "      <td>Saturday</td>\n",
       "      <td>2</td>\n",
       "    </tr>\n",
       "  </tbody>\n",
       "</table>\n",
       "<p>23002 rows × 5 columns</p>\n",
       "</div>"
      ]
     },
     "execution_count": 227,
     "metadata": {},
     "output_type": "execute_result"
    }
   ],
   "execution_count": 227
  },
  {
   "metadata": {},
   "cell_type": "markdown",
   "source": [
    "# Resampling\n",
    "Resampling involved changing the frequency of your time series observations\n",
    "\n",
    "Two type if resampling are:\n",
    "\n",
    "**Upsampling**: Where you increase the frequency of the samples, such as from minutes to seconds\n",
    "\n",
    "**Downsampling**: Where you decrease the frequency of the samples, such as from days to months\n"
   ]
  },
  {
   "metadata": {
    "ExecuteTime": {
     "end_time": "2024-10-17T22:15:39.609111Z",
     "start_time": "2024-10-17T22:15:39.443447Z"
    }
   },
   "cell_type": "code",
   "source": "yt['Views'].plot()",
   "outputs": [
    {
     "data": {
      "text/plain": [
       "<Axes: xlabel='Published_date'>"
      ]
     },
     "execution_count": 250,
     "metadata": {},
     "output_type": "execute_result"
    },
    {
     "data": {
      "text/plain": [
       "<Figure size 640x480 with 1 Axes>"
      ],
      "image/png": "[encoded data removed]"
     },
     "metadata": {},
     "output_type": "display_data"
    }
   ],
   "execution_count": 250
  },
  {
   "metadata": {
    "ExecuteTime": {
     "end_time": "2024-10-17T22:20:36.808317Z",
     "start_time": "2024-10-17T22:20:36.562696Z"
    }
   },
   "cell_type": "code",
   "source": [
    "# Downsampling\n",
    "yt['Views'].plot()\n",
    "yt['Views'].resample('W').mean().plot()"
   ],
   "outputs": [
    {
     "data": {
      "text/plain": [
       "<Axes: xlabel='Published_date'>"
      ]
     },
     "execution_count": 260,
     "metadata": {},
     "output_type": "execute_result"
    },
    {
     "data": {
      "text/plain": [
       "<Figure size 640x480 with 1 Axes>"
      ],
      "image/png": "[encoded data removed]"
     },
     "metadata": {},
     "output_type": "display_data"
    }
   ],
   "execution_count": 260
  },
  {
   "metadata": {
    "ExecuteTime": {
     "end_time": "2024-10-17T22:20:38.213982Z",
     "start_time": "2024-10-17T22:20:38.083748Z"
    }
   },
   "cell_type": "code",
   "source": [
    "yt.loc['2022']['Views'].plot()\n",
    "yt.loc['2022']['Views'].resample('W').mean().plot()"
   ],
   "outputs": [
    {
     "data": {
      "text/plain": [
       "<Axes: xlabel='Published_date'>"
      ]
     },
     "execution_count": 261,
     "metadata": {},
     "output_type": "execute_result"
    },
    {
     "data": {
      "text/plain": [
       "<Figure size 640x480 with 1 Axes>"
      ],
      "image/png": "[encoded data removed]"
     },
     "metadata": {},
     "output_type": "display_data"
    }
   ],
   "execution_count": 261
  },
  {
   "metadata": {
    "ExecuteTime": {
     "end_time": "2024-10-17T22:24:22.404824Z",
     "start_time": "2024-10-17T22:24:22.382086Z"
    }
   },
   "cell_type": "code",
   "source": [
    "# upsampling\n",
    "# search unsample interpolate for more method options\n",
    "\n",
    "google['Close'].resample('h').interpolate(method='linear')"
   ],
   "outputs": [
    {
     "data": {
      "text/plain": [
       "Date\n",
       "2004-08-19 00:00:00      49.982655\n",
       "2004-08-19 01:00:00      50.148076\n",
       "2004-08-19 02:00:00      50.313498\n",
       "2004-08-19 03:00:00      50.478919\n",
       "2004-08-19 04:00:00      50.644341\n",
       "                          ...     \n",
       "2022-05-19 20:00:00    2191.034994\n",
       "2022-05-19 21:00:00    2189.841248\n",
       "2022-05-19 22:00:00    2188.647502\n",
       "2022-05-19 23:00:00    2187.453756\n",
       "2022-05-20 00:00:00    2186.260010\n",
       "Freq: h, Name: Close, Length: 155593, dtype: float64"
      ]
     },
     "execution_count": 265,
     "metadata": {},
     "output_type": "execute_result"
    }
   ],
   "execution_count": 265
  },
  {
   "metadata": {
    "ExecuteTime": {
     "end_time": "2024-10-17T22:25:01.525884Z",
     "start_time": "2024-10-17T22:24:59.637349Z"
    }
   },
   "cell_type": "code",
   "source": [
    "# polynomial\n",
    "google['Close'].resample('h').interpolate(method='spline', order=2)"
   ],
   "outputs": [
    {
     "data": {
      "text/plain": [
       "Date\n",
       "2004-08-19 00:00:00      49.982655\n",
       "2004-08-19 01:00:00      50.054174\n",
       "2004-08-19 02:00:00      50.278766\n",
       "2004-08-19 03:00:00      50.499453\n",
       "2004-08-19 04:00:00      50.716235\n",
       "                          ...     \n",
       "2022-05-19 20:00:00    2116.145684\n",
       "2022-05-19 21:00:00    2130.864097\n",
       "2022-05-19 22:00:00    2147.454745\n",
       "2022-05-19 23:00:00    2165.917626\n",
       "2022-05-20 00:00:00    2186.260010\n",
       "Freq: h, Name: Close, Length: 155593, dtype: float64"
      ]
     },
     "execution_count": 266,
     "metadata": {},
     "output_type": "execute_result"
    }
   ],
   "execution_count": 266
  },
  {
   "metadata": {
    "ExecuteTime": {
     "end_time": "2024-10-17T22:25:29.865207Z",
     "start_time": "2024-10-17T22:25:26.738514Z"
    }
   },
   "cell_type": "code",
   "source": "google['Close'].resample('h').interpolate(method='spline', order=2).plot()",
   "outputs": [
    {
     "data": {
      "text/plain": [
       "<Axes: xlabel='Date'>"
      ]
     },
     "execution_count": 267,
     "metadata": {},
     "output_type": "execute_result"
    },
    {
     "data": {
      "text/plain": [
       "<Figure size 640x480 with 1 Axes>"
      ],
      "image/png": "[encoded data removed]"
     },
     "metadata": {},
     "output_type": "display_data"
    }
   ],
   "execution_count": 267
  },
  {
   "metadata": {
    "ExecuteTime": {
     "end_time": "2024-10-17T22:25:50.552189Z",
     "start_time": "2024-10-17T22:25:48.421662Z"
    }
   },
   "cell_type": "code",
   "source": "google['Close'].resample('20h').interpolate(method='spline', order=2).plot()",
   "outputs": [
    {
     "data": {
      "text/plain": [
       "<Axes: xlabel='Date'>"
      ]
     },
     "execution_count": 269,
     "metadata": {},
     "output_type": "execute_result"
    },
    {
     "data": {
      "text/plain": [
       "<Figure size 640x480 with 1 Axes>"
      ],
      "image/png": "[encoded data removed]"
     },
     "metadata": {},
     "output_type": "display_data"
    }
   ],
   "execution_count": 269
  },
  {
   "metadata": {},
   "cell_type": "markdown",
   "source": [
    "## Rolling Window (Smoothing)\n",
    "Time series is original format can be quite volatile, especially on smaller aggregation levels. The concept of rolling, or moving averages is a useful technique for smoothing time series data."
   ]
  },
  {
   "metadata": {
    "ExecuteTime": {
     "end_time": "2024-10-17T22:41:34.016333Z",
     "start_time": "2024-10-17T22:41:33.765991Z"
    }
   },
   "cell_type": "code",
   "source": [
    "# Rolling window\n",
    "google['Close'].plot(legend='original')\n",
    "google['Close'].rolling(10).mean().plot(legend='rolling')"
   ],
   "outputs": [
    {
     "data": {
      "text/plain": [
       "<Axes: xlabel='Date'>"
      ]
     },
     "execution_count": 292,
     "metadata": {},
     "output_type": "execute_result"
    },
    {
     "data": {
      "text/plain": [
       "<Figure size 640x480 with 1 Axes>"
      ],
      "image/png": "[encoded data removed]"
     },
     "metadata": {},
     "output_type": "display_data"
    }
   ],
   "execution_count": 292
  },
  {
   "metadata": {
    "ExecuteTime": {
     "end_time": "2024-10-17T22:40:43.232874Z",
     "start_time": "2024-10-17T22:40:43.038109Z"
    }
   },
   "cell_type": "code",
   "source": [
    "# exponential moving average (weighted)\n",
    "google['Close'].ewm(7).mean().plot()"
   ],
   "outputs": [
    {
     "data": {
      "text/plain": [
       "<Axes: xlabel='Date'>"
      ]
     },
     "execution_count": 290,
     "metadata": {},
     "output_type": "execute_result"
    },
    {
     "data": {
      "text/plain": [
       "<Figure size 640x480 with 1 Axes>"
      ],
      "image/png": "[encoded data removed]"
     },
     "metadata": {},
     "output_type": "display_data"
    }
   ],
   "execution_count": 290
  },
  {
   "metadata": {},
   "cell_type": "markdown",
   "source": [
    "# Shifting \n",
    "The shift() function in Pandas is used to, well, shift the entire series up or down by the desired number of periods"
   ]
  },
  {
   "metadata": {
    "ExecuteTime": {
     "end_time": "2024-10-17T22:45:15.307957Z",
     "start_time": "2024-10-17T22:45:15.303286Z"
    }
   },
   "cell_type": "code",
   "source": [
    "# shift\n",
    "yt['Comment_Count'].shift(2)"
   ],
   "outputs": [
    {
     "data": {
      "text/plain": [
       "Published_date\n",
       "2020-01-17      NaN\n",
       "2020-01-21      NaN\n",
       "2020-01-23    140.0\n",
       "2020-01-25     19.0\n",
       "2020-01-30    229.0\n",
       "              ...  \n",
       "2024-01-17    312.0\n",
       "2024-01-21    362.0\n",
       "2024-03-16    192.0\n",
       "2024-03-23    358.0\n",
       "2024-04-20    267.0\n",
       "Name: Comment_Count, Length: 23002, dtype: float64"
      ]
     },
     "execution_count": 294,
     "metadata": {},
     "output_type": "execute_result"
    }
   ],
   "execution_count": 294
  },
  {
   "metadata": {
    "ExecuteTime": {
     "end_time": "2024-10-17T22:45:52.792217Z",
     "start_time": "2024-10-17T22:45:52.787249Z"
    }
   },
   "cell_type": "code",
   "source": "yt['Comment_Count'].shift(-3).tail()",
   "outputs": [
    {
     "data": {
      "text/plain": [
       "Published_date\n",
       "2024-01-17    245.0\n",
       "2024-01-21    632.0\n",
       "2024-03-16      NaN\n",
       "2024-03-23      NaN\n",
       "2024-04-20      NaN\n",
       "Name: Comment_Count, dtype: float64"
      ]
     },
     "execution_count": 297,
     "metadata": {},
     "output_type": "execute_result"
    }
   ],
   "execution_count": 297
  },
  {
   "metadata": {
    "ExecuteTime": {
     "end_time": "2024-10-17T22:54:33.448378Z",
     "start_time": "2024-10-17T22:54:33.440297Z"
    }
   },
   "cell_type": "code",
   "source": [
    "# login dataset\n",
    "login = pd.read_csv('login.csv', header=None)\n",
    "print(login.shape)\n",
    "login.head()"
   ],
   "outputs": [
    {
     "name": "stdout",
     "output_type": "stream",
     "text": [
      "(3003, 4)\n"
     ]
    },
    {
     "data": {
      "text/plain": [
       "   0    1                    2           3\n",
       "0  1  466  2017-01-07 18:24:07  Unnamed: 3\n",
       "1  2  466  2017-01-07 18:24:55         NaN\n",
       "2  3  458  2017-01-07 18:25:18         NaN\n",
       "3  4  458  2017-01-07 18:26:21         NaN\n",
       "4  5  592  2017-01-07 19:09:59         NaN"
      ],
      "text/html": [
       "<div>\n",
       "<style scoped>\n",
       "    .dataframe tbody tr th:only-of-type {\n",
       "        vertical-align: middle;\n",
       "    }\n",
       "\n",
       "    .dataframe tbody tr th {\n",
       "        vertical-align: top;\n",
       "    }\n",
       "\n",
       "    .dataframe thead th {\n",
       "        text-align: right;\n",
       "    }\n",
       "</style>\n",
       "<table border=\"1\" class=\"dataframe\">\n",
       "  <thead>\n",
       "    <tr style=\"text-align: right;\">\n",
       "      <th></th>\n",
       "      <th>0</th>\n",
       "      <th>1</th>\n",
       "      <th>2</th>\n",
       "      <th>3</th>\n",
       "    </tr>\n",
       "  </thead>\n",
       "  <tbody>\n",
       "    <tr>\n",
       "      <th>0</th>\n",
       "      <td>1</td>\n",
       "      <td>466</td>\n",
       "      <td>2017-01-07 18:24:07</td>\n",
       "      <td>Unnamed: 3</td>\n",
       "    </tr>\n",
       "    <tr>\n",
       "      <th>1</th>\n",
       "      <td>2</td>\n",
       "      <td>466</td>\n",
       "      <td>2017-01-07 18:24:55</td>\n",
       "      <td>NaN</td>\n",
       "    </tr>\n",
       "    <tr>\n",
       "      <th>2</th>\n",
       "      <td>3</td>\n",
       "      <td>458</td>\n",
       "      <td>2017-01-07 18:25:18</td>\n",
       "      <td>NaN</td>\n",
       "    </tr>\n",
       "    <tr>\n",
       "      <th>3</th>\n",
       "      <td>4</td>\n",
       "      <td>458</td>\n",
       "      <td>2017-01-07 18:26:21</td>\n",
       "      <td>NaN</td>\n",
       "    </tr>\n",
       "    <tr>\n",
       "      <th>4</th>\n",
       "      <td>5</td>\n",
       "      <td>592</td>\n",
       "      <td>2017-01-07 19:09:59</td>\n",
       "      <td>NaN</td>\n",
       "    </tr>\n",
       "  </tbody>\n",
       "</table>\n",
       "</div>"
      ]
     },
     "execution_count": 321,
     "metadata": {},
     "output_type": "execute_result"
    }
   ],
   "execution_count": 321
  },
  {
   "metadata": {
    "ExecuteTime": {
     "end_time": "2024-10-17T22:54:33.526558Z",
     "start_time": "2024-10-17T22:54:33.520208Z"
    }
   },
   "cell_type": "code",
   "source": [
    "df = login[[1, 2]]\n",
    "df.head()"
   ],
   "outputs": [
    {
     "data": {
      "text/plain": [
       "     1                    2\n",
       "0  466  2017-01-07 18:24:07\n",
       "1  466  2017-01-07 18:24:55\n",
       "2  458  2017-01-07 18:25:18\n",
       "3  458  2017-01-07 18:26:21\n",
       "4  592  2017-01-07 19:09:59"
      ],
      "text/html": [
       "<div>\n",
       "<style scoped>\n",
       "    .dataframe tbody tr th:only-of-type {\n",
       "        vertical-align: middle;\n",
       "    }\n",
       "\n",
       "    .dataframe tbody tr th {\n",
       "        vertical-align: top;\n",
       "    }\n",
       "\n",
       "    .dataframe thead th {\n",
       "        text-align: right;\n",
       "    }\n",
       "</style>\n",
       "<table border=\"1\" class=\"dataframe\">\n",
       "  <thead>\n",
       "    <tr style=\"text-align: right;\">\n",
       "      <th></th>\n",
       "      <th>1</th>\n",
       "      <th>2</th>\n",
       "    </tr>\n",
       "  </thead>\n",
       "  <tbody>\n",
       "    <tr>\n",
       "      <th>0</th>\n",
       "      <td>466</td>\n",
       "      <td>2017-01-07 18:24:07</td>\n",
       "    </tr>\n",
       "    <tr>\n",
       "      <th>1</th>\n",
       "      <td>466</td>\n",
       "      <td>2017-01-07 18:24:55</td>\n",
       "    </tr>\n",
       "    <tr>\n",
       "      <th>2</th>\n",
       "      <td>458</td>\n",
       "      <td>2017-01-07 18:25:18</td>\n",
       "    </tr>\n",
       "    <tr>\n",
       "      <th>3</th>\n",
       "      <td>458</td>\n",
       "      <td>2017-01-07 18:26:21</td>\n",
       "    </tr>\n",
       "    <tr>\n",
       "      <th>4</th>\n",
       "      <td>592</td>\n",
       "      <td>2017-01-07 19:09:59</td>\n",
       "    </tr>\n",
       "  </tbody>\n",
       "</table>\n",
       "</div>"
      ]
     },
     "execution_count": 322,
     "metadata": {},
     "output_type": "execute_result"
    }
   ],
   "execution_count": 322
  },
  {
   "metadata": {
    "ExecuteTime": {
     "end_time": "2024-10-17T22:54:33.555753Z",
     "start_time": "2024-10-17T22:54:33.550563Z"
    }
   },
   "cell_type": "code",
   "source": [
    "df.rename(columns={1:'user_id', 2:'login_time'}, inplace=True)\n",
    "df.head()"
   ],
   "outputs": [
    {
     "name": "stderr",
     "output_type": "stream",
     "text": [
      "C:\\Users\\15105\\AppData\\Local\\Temp\\ipykernel_27248\\1468900680.py:1: SettingWithCopyWarning: \n",
      "A value is trying to be set on a copy of a slice from a DataFrame\n",
      "\n",
      "See the caveats in the documentation: https://pandas.pydata.org/pandas-docs/stable/user_guide/indexing.html#returning-a-view-versus-a-copy\n",
      "  df.rename(columns={1:'user_id', 2:'login_time'}, inplace=True)\n"
     ]
    },
    {
     "data": {
      "text/plain": [
       "   user_id           login_time\n",
       "0      466  2017-01-07 18:24:07\n",
       "1      466  2017-01-07 18:24:55\n",
       "2      458  2017-01-07 18:25:18\n",
       "3      458  2017-01-07 18:26:21\n",
       "4      592  2017-01-07 19:09:59"
      ],
      "text/html": [
       "<div>\n",
       "<style scoped>\n",
       "    .dataframe tbody tr th:only-of-type {\n",
       "        vertical-align: middle;\n",
       "    }\n",
       "\n",
       "    .dataframe tbody tr th {\n",
       "        vertical-align: top;\n",
       "    }\n",
       "\n",
       "    .dataframe thead th {\n",
       "        text-align: right;\n",
       "    }\n",
       "</style>\n",
       "<table border=\"1\" class=\"dataframe\">\n",
       "  <thead>\n",
       "    <tr style=\"text-align: right;\">\n",
       "      <th></th>\n",
       "      <th>user_id</th>\n",
       "      <th>login_time</th>\n",
       "    </tr>\n",
       "  </thead>\n",
       "  <tbody>\n",
       "    <tr>\n",
       "      <th>0</th>\n",
       "      <td>466</td>\n",
       "      <td>2017-01-07 18:24:07</td>\n",
       "    </tr>\n",
       "    <tr>\n",
       "      <th>1</th>\n",
       "      <td>466</td>\n",
       "      <td>2017-01-07 18:24:55</td>\n",
       "    </tr>\n",
       "    <tr>\n",
       "      <th>2</th>\n",
       "      <td>458</td>\n",
       "      <td>2017-01-07 18:25:18</td>\n",
       "    </tr>\n",
       "    <tr>\n",
       "      <th>3</th>\n",
       "      <td>458</td>\n",
       "      <td>2017-01-07 18:26:21</td>\n",
       "    </tr>\n",
       "    <tr>\n",
       "      <th>4</th>\n",
       "      <td>592</td>\n",
       "      <td>2017-01-07 19:09:59</td>\n",
       "    </tr>\n",
       "  </tbody>\n",
       "</table>\n",
       "</div>"
      ]
     },
     "execution_count": 323,
     "metadata": {},
     "output_type": "execute_result"
    }
   ],
   "execution_count": 323
  },
  {
   "metadata": {
    "ExecuteTime": {
     "end_time": "2024-10-17T22:55:58.695872Z",
     "start_time": "2024-10-17T22:55:58.691358Z"
    }
   },
   "cell_type": "code",
   "source": [
    "# if we want to calculate average return time of most logged in user\n",
    "df['user_id'].value_counts().head(2)"
   ],
   "outputs": [
    {
     "data": {
      "text/plain": [
       "user_id\n",
       "413    222\n",
       "458    208\n",
       "Name: count, dtype: int64"
      ]
     },
     "execution_count": 332,
     "metadata": {},
     "output_type": "execute_result"
    }
   ],
   "execution_count": 332
  },
  {
   "metadata": {
    "ExecuteTime": {
     "end_time": "2024-10-17T22:54:33.744801Z",
     "start_time": "2024-10-17T22:54:33.738749Z"
    }
   },
   "cell_type": "code",
   "source": [
    "user_df = df[df['user_id'] == 413]\n",
    "user_df.head()"
   ],
   "outputs": [
    {
     "data": {
      "text/plain": [
       "    user_id           login_time\n",
       "11      413  2017-01-09 12:29:25\n",
       "12      413  2017-01-09 12:40:39\n",
       "14      413  2017-01-09 14:08:04\n",
       "33      413  2017-01-10 14:36:23\n",
       "35      413  2017-01-10 15:22:45"
      ],
      "text/html": [
       "<div>\n",
       "<style scoped>\n",
       "    .dataframe tbody tr th:only-of-type {\n",
       "        vertical-align: middle;\n",
       "    }\n",
       "\n",
       "    .dataframe tbody tr th {\n",
       "        vertical-align: top;\n",
       "    }\n",
       "\n",
       "    .dataframe thead th {\n",
       "        text-align: right;\n",
       "    }\n",
       "</style>\n",
       "<table border=\"1\" class=\"dataframe\">\n",
       "  <thead>\n",
       "    <tr style=\"text-align: right;\">\n",
       "      <th></th>\n",
       "      <th>user_id</th>\n",
       "      <th>login_time</th>\n",
       "    </tr>\n",
       "  </thead>\n",
       "  <tbody>\n",
       "    <tr>\n",
       "      <th>11</th>\n",
       "      <td>413</td>\n",
       "      <td>2017-01-09 12:29:25</td>\n",
       "    </tr>\n",
       "    <tr>\n",
       "      <th>12</th>\n",
       "      <td>413</td>\n",
       "      <td>2017-01-09 12:40:39</td>\n",
       "    </tr>\n",
       "    <tr>\n",
       "      <th>14</th>\n",
       "      <td>413</td>\n",
       "      <td>2017-01-09 14:08:04</td>\n",
       "    </tr>\n",
       "    <tr>\n",
       "      <th>33</th>\n",
       "      <td>413</td>\n",
       "      <td>2017-01-10 14:36:23</td>\n",
       "    </tr>\n",
       "    <tr>\n",
       "      <th>35</th>\n",
       "      <td>413</td>\n",
       "      <td>2017-01-10 15:22:45</td>\n",
       "    </tr>\n",
       "  </tbody>\n",
       "</table>\n",
       "</div>"
      ]
     },
     "execution_count": 325,
     "metadata": {},
     "output_type": "execute_result"
    }
   ],
   "execution_count": 325
  },
  {
   "metadata": {
    "ExecuteTime": {
     "end_time": "2024-10-17T22:54:33.907244Z",
     "start_time": "2024-10-17T22:54:33.901573Z"
    }
   },
   "cell_type": "code",
   "source": "user_df.info()",
   "outputs": [
    {
     "name": "stdout",
     "output_type": "stream",
     "text": [
      "<class 'pandas.core.frame.DataFrame'>\n",
      "Index: 222 entries, 11 to 2997\n",
      "Data columns (total 2 columns):\n",
      " #   Column      Non-Null Count  Dtype \n",
      "---  ------      --------------  ----- \n",
      " 0   user_id     222 non-null    int64 \n",
      " 1   login_time  222 non-null    object\n",
      "dtypes: int64(1), object(1)\n",
      "memory usage: 5.2+ KB\n"
     ]
    }
   ],
   "execution_count": 326
  },
  {
   "metadata": {
    "ExecuteTime": {
     "end_time": "2024-10-17T22:54:33.997214Z",
     "start_time": "2024-10-17T22:54:33.989865Z"
    }
   },
   "cell_type": "code",
   "source": [
    "user_df['login_time'] = pd.to_datetime(user_df['login_time'])\n",
    "user_df.info()"
   ],
   "outputs": [
    {
     "name": "stdout",
     "output_type": "stream",
     "text": [
      "<class 'pandas.core.frame.DataFrame'>\n",
      "Index: 222 entries, 11 to 2997\n",
      "Data columns (total 2 columns):\n",
      " #   Column      Non-Null Count  Dtype         \n",
      "---  ------      --------------  -----         \n",
      " 0   user_id     222 non-null    int64         \n",
      " 1   login_time  222 non-null    datetime64[ns]\n",
      "dtypes: datetime64[ns](1), int64(1)\n",
      "memory usage: 5.2 KB\n"
     ]
    },
    {
     "name": "stderr",
     "output_type": "stream",
     "text": [
      "C:\\Users\\15105\\AppData\\Local\\Temp\\ipykernel_27248\\4029396625.py:1: SettingWithCopyWarning: \n",
      "A value is trying to be set on a copy of a slice from a DataFrame.\n",
      "Try using .loc[row_indexer,col_indexer] = value instead\n",
      "\n",
      "See the caveats in the documentation: https://pandas.pydata.org/pandas-docs/stable/user_guide/indexing.html#returning-a-view-versus-a-copy\n",
      "  user_df['login_time'] = pd.to_datetime(user_df['login_time'])\n"
     ]
    }
   ],
   "execution_count": 327
  },
  {
   "metadata": {
    "ExecuteTime": {
     "end_time": "2024-10-17T22:54:34.146765Z",
     "start_time": "2024-10-17T22:54:34.138670Z"
    }
   },
   "cell_type": "code",
   "source": [
    "user_df['shifted'] = user_df['login_time'].shift(1)\n",
    "user_df.head()"
   ],
   "outputs": [
    {
     "name": "stderr",
     "output_type": "stream",
     "text": [
      "C:\\Users\\15105\\AppData\\Local\\Temp\\ipykernel_27248\\1441154705.py:1: SettingWithCopyWarning: \n",
      "A value is trying to be set on a copy of a slice from a DataFrame.\n",
      "Try using .loc[row_indexer,col_indexer] = value instead\n",
      "\n",
      "See the caveats in the documentation: https://pandas.pydata.org/pandas-docs/stable/user_guide/indexing.html#returning-a-view-versus-a-copy\n",
      "  user_df['shifted'] = user_df['login_time'].shift(1)\n"
     ]
    },
    {
     "data": {
      "text/plain": [
       "    user_id          login_time             shifted\n",
       "11      413 2017-01-09 12:29:25                 NaT\n",
       "12      413 2017-01-09 12:40:39 2017-01-09 12:29:25\n",
       "14      413 2017-01-09 14:08:04 2017-01-09 12:40:39\n",
       "33      413 2017-01-10 14:36:23 2017-01-09 14:08:04\n",
       "35      413 2017-01-10 15:22:45 2017-01-10 14:36:23"
      ],
      "text/html": [
       "<div>\n",
       "<style scoped>\n",
       "    .dataframe tbody tr th:only-of-type {\n",
       "        vertical-align: middle;\n",
       "    }\n",
       "\n",
       "    .dataframe tbody tr th {\n",
       "        vertical-align: top;\n",
       "    }\n",
       "\n",
       "    .dataframe thead th {\n",
       "        text-align: right;\n",
       "    }\n",
       "</style>\n",
       "<table border=\"1\" class=\"dataframe\">\n",
       "  <thead>\n",
       "    <tr style=\"text-align: right;\">\n",
       "      <th></th>\n",
       "      <th>user_id</th>\n",
       "      <th>login_time</th>\n",
       "      <th>shifted</th>\n",
       "    </tr>\n",
       "  </thead>\n",
       "  <tbody>\n",
       "    <tr>\n",
       "      <th>11</th>\n",
       "      <td>413</td>\n",
       "      <td>2017-01-09 12:29:25</td>\n",
       "      <td>NaT</td>\n",
       "    </tr>\n",
       "    <tr>\n",
       "      <th>12</th>\n",
       "      <td>413</td>\n",
       "      <td>2017-01-09 12:40:39</td>\n",
       "      <td>2017-01-09 12:29:25</td>\n",
       "    </tr>\n",
       "    <tr>\n",
       "      <th>14</th>\n",
       "      <td>413</td>\n",
       "      <td>2017-01-09 14:08:04</td>\n",
       "      <td>2017-01-09 12:40:39</td>\n",
       "    </tr>\n",
       "    <tr>\n",
       "      <th>33</th>\n",
       "      <td>413</td>\n",
       "      <td>2017-01-10 14:36:23</td>\n",
       "      <td>2017-01-09 14:08:04</td>\n",
       "    </tr>\n",
       "    <tr>\n",
       "      <th>35</th>\n",
       "      <td>413</td>\n",
       "      <td>2017-01-10 15:22:45</td>\n",
       "      <td>2017-01-10 14:36:23</td>\n",
       "    </tr>\n",
       "  </tbody>\n",
       "</table>\n",
       "</div>"
      ]
     },
     "execution_count": 328,
     "metadata": {},
     "output_type": "execute_result"
    }
   ],
   "execution_count": 328
  },
  {
   "metadata": {
    "ExecuteTime": {
     "end_time": "2024-10-17T22:55:33.421175Z",
     "start_time": "2024-10-17T22:55:33.416474Z"
    }
   },
   "cell_type": "code",
   "source": "(user_df['login_time'] - user_df['shifted']).mean()",
   "outputs": [
    {
     "data": {
      "text/plain": [
       "Timedelta('1 days 15:05:13.384615384')"
      ]
     },
     "execution_count": 331,
     "metadata": {},
     "output_type": "execute_result"
    }
   ],
   "execution_count": 331
  },
  {
   "metadata": {},
   "cell_type": "code",
   "outputs": [],
   "execution_count": null,
   "source": ""
  }
 ]
}
