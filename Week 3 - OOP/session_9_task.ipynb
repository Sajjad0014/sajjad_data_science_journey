{
 "nbformat": 4,
 "nbformat_minor": 0,
 "metadata": {
  "colab": {
   "provenance": [],
   "collapsed_sections": [
    "BCleRtX43caS",
    "KBbGNTtQ47mJ",
    "ExIxsv4y-oEd",
    "OcQhJvXVALgp",
    "sEsGEqOHCSWG",
    "v1M5Yh9ZZO0z"
   ]
  },
  "kernelspec": {
   "name": "python3",
   "display_name": "Python 3 (ipykernel)",
   "language": "python"
  },
  "language_info": {
   "name": "python"
  }
 },
 "cells": [
  {
   "cell_type": "markdown",
   "source": [
    "### `Problem-1:` Class inheritence\n",
    "\n",
    "Create a **Bus** child class that inherits from the Vehicle class. The default fare charge of any vehicle is seating capacity * 100. If Vehicle is Bus instance, we need to add an extra 10% on full fare as a maintenance charge. So total fare for bus instance will become the final amount = total fare + 10% of the total fare.\n",
    "\n",
    "Note: The bus seating capacity is 50. so the final fare amount should be 5500. You need to override the fare() method of a Vehicle class in Bus class."
   ],
   "metadata": {
    "id": "BCleRtX43caS"
   }
  },
  {
   "cell_type": "code",
   "metadata": {
    "colab": {
     "base_uri": "https://localhost:8080/"
    },
    "id": "6jVFCXKz3YZI",
    "outputId": "a8649209-08e2-4f60-a914-74a914dd697e",
    "ExecuteTime": {
     "end_time": "2024-09-11T18:03:19.803195Z",
     "start_time": "2024-09-11T18:03:19.799881Z"
    }
   },
   "source": [
    "# Write code here\n",
    "\n",
    "class Vehicle:\n",
    "    def __init__(self, seating):\n",
    "        self.seating = seating\n",
    "        self.price = 100\n",
    "\n",
    "    def fare(self):\n",
    "        return self.seating * self.price\n",
    "\n",
    "\n",
    "class Bus(Vehicle):\n",
    "    def __init__(self, seating):\n",
    "        super().__init__(seating)\n",
    "\n",
    "    def fare(self):\n",
    "        base_fare = super().fare()\n",
    "        print(\"Total Bus fare is \", base_fare + (0.1 * base_fare))\n",
    "\n",
    "\n",
    "bus1 = Bus(50)\n",
    "bus1.fare()"
   ],
   "outputs": [
    {
     "name": "stdout",
     "output_type": "stream",
     "text": [
      "Total Bus fare is  5500.0\n"
     ]
    }
   ],
   "execution_count": 4
  },
  {
   "cell_type": "markdown",
   "source": [
    "### `Problem-2:` Class Inheritence\n",
    "\n",
    "Create a Bus class that inherits from the Vehicle class. Give the capacity argument of *Bus.seating_capacity()* a default value of 50.\n",
    "\n",
    "Use the following code for your parent Vehicle class."
   ],
   "metadata": {
    "id": "KBbGNTtQ47mJ"
   }
  },
  {
   "cell_type": "code",
   "source": [],
   "metadata": {
    "id": "MwOnYE_14M-r"
   },
   "execution_count": null,
   "outputs": []
  },
  {
   "cell_type": "code",
   "source": [],
   "metadata": {
    "id": "Py5Gr0ip5OBB"
   },
   "execution_count": null,
   "outputs": []
  },
  {
   "cell_type": "markdown",
   "source": [
    "### `Problem-3:` Write a program that has a class Point. Define another class Location which has two objects (Location & Destination) of class Point. Also define a function in Location that prints the reflection of Destination on the x axis."
   ],
   "metadata": {
    "id": "ExIxsv4y-oEd"
   }
  },
  {
   "cell_type": "code",
   "source": [
    "class Point:\n",
    "    def __init__(self, x, y):\n",
    "        self.x = x\n",
    "        self.y = y\n",
    "\n",
    "    def show_point(self):\n",
    "        return f'{self.x}, {self.y}'\n",
    "\n",
    "\n",
    "class Location:\n",
    "\n",
    "    def __init__(self, x1, y1, x2, y2):\n",
    "        self.source = Point(x1, y1)\n",
    "        self.destination = Point(x2, y2)\n",
    "\n",
    "    def show(self):\n",
    "        print('Source is ', self.source.show_point())\n",
    "        print('Destination is ', self.destination.show_point())\n",
    "\n",
    "    def reflection(self):\n",
    "        self.destination.y = -self.destination.y\n",
    "        print('Reflection is ', self.destination.show_point())\n",
    "\n",
    "\n",
    "loc1 = Location(0, 0, 1, 1)\n",
    "loc1.show()\n",
    "loc1.reflection()\n"
   ],
   "metadata": {
    "id": "yT2QtzQp5VAB",
    "ExecuteTime": {
     "end_time": "2024-09-11T18:12:30.935140Z",
     "start_time": "2024-09-11T18:12:30.930013Z"
    }
   },
   "outputs": [
    {
     "name": "stdout",
     "output_type": "stream",
     "text": [
      "Source is  0, 0\n",
      "Destination is  1, 1\n",
      "Reflection is  1, -1\n"
     ]
    }
   ],
   "execution_count": 7
  },
  {
   "cell_type": "markdown",
   "source": [
    "### `Problem-4:` Write a program that has an abstract class Polygon. Derive two classes Rectangle and Triamgle from Polygon and write methods to get the details of their dimensions and hence calculate the area."
   ],
   "metadata": {
    "id": "OcQhJvXVALgp"
   }
  },
  {
   "cell_type": "code",
   "source": [
    "from abc import ABC, abstractmethod\n",
    "\n",
    "\n",
    "class Polygon:\n",
    "\n",
    "    @abstractmethod\n",
    "    def get_date(self):\n",
    "        pass\n",
    "\n",
    "    @abstractmethod\n",
    "    def area(self):\n",
    "        pass\n",
    "\n",
    "\n",
    "class Rectangle(Polygon):\n",
    "\n",
    "    def get_date(self, l, b):\n",
    "        self.l = l\n",
    "        self.b = b\n",
    "\n",
    "    def area(self):\n",
    "        return self.l * self.b\n",
    "\n",
    "\n",
    "class Triangle(Polygon):\n",
    "\n",
    "    def get_date(self, b, h):\n",
    "        self.b = b\n",
    "        self.h = h\n",
    "\n",
    "    def area(self):\n",
    "        return 0.5 * self.b * self.h\n",
    "\n",
    "\n",
    "rect = Rectangle()\n",
    "rect.get_date(4, 5)\n",
    "print(rect.area())\n",
    "\n",
    "tri = Triangle()\n",
    "tri.get_date(4, 5)\n",
    "print(tri.area())"
   ],
   "metadata": {
    "id": "9IMrtdUH__eA",
    "ExecuteTime": {
     "end_time": "2024-09-11T18:33:00.188079Z",
     "start_time": "2024-09-11T18:33:00.182814Z"
    }
   },
   "outputs": [
    {
     "name": "stdout",
     "output_type": "stream",
     "text": [
      "20\n",
      "10.0\n"
     ]
    }
   ],
   "execution_count": 12
  },
  {
   "cell_type": "markdown",
   "source": [
    "### `Problem-5:` Write a program with class Bill. The users have the option to pay the bill either by cheque or by cash. Use the inheritance to model this situation."
   ],
   "metadata": {
    "id": "sEsGEqOHCSWG"
   }
  },
  {
   "cell_type": "code",
   "source": [
    "class Bill:\n",
    "    def __init__(self, items, price):\n",
    "        self.total = 0\n",
    "        self.items = items\n",
    "        self.price = price\n",
    "\n",
    "        for i in self.price:\n",
    "            self.total += i\n",
    "\n",
    "    def display(self):\n",
    "        print('Item \\t\\t\\t   Price')\n",
    "        for i in range(len(self.items)):\n",
    "            print(self.items[i], '\\t\\t', self.price[i])\n",
    "        print(\"*\" * 10)\n",
    "\n",
    "        print(\"Total \", self.total)\n",
    "\n",
    "\n",
    "class CashPayment(Bill):\n",
    "\n",
    "    def __init__(self, items, price, deno, value):\n",
    "        super().__init__(items, price)\n",
    "\n",
    "        self.deno = deno\n",
    "        self.value = value\n",
    "\n",
    "    def show_cash_payment(self):\n",
    "        super().display()\n",
    "        for i in range(len(self.deno)):\n",
    "            print(f\"{self.deno[i]} * {self.value[i]} = {self.value[i]}\")\n",
    "\n",
    "\n",
    "class ChequePatment(Bill):\n",
    "    def __init__(self, items, price, cheq_no, name):\n",
    "        super().__init__(items, price)\n",
    "\n",
    "        self.cheq_no = cheq_no\n",
    "        self.name = name\n",
    "\n",
    "    def show_cheque_payment(self):\n",
    "        super().display()\n",
    "        print(f\"Cheque No: {self.cheq_no}\")\n",
    "        print(f\"Bank name: {self.name}\")\n",
    "\n",
    "\n",
    "\n"
   ],
   "metadata": {
    "id": "l0WFyP2PB3nf",
    "ExecuteTime": {
     "end_time": "2024-09-11T19:53:02.494201Z",
     "start_time": "2024-09-11T19:53:02.483023Z"
    }
   },
   "outputs": [],
   "execution_count": 23
  },
  {
   "metadata": {
    "ExecuteTime": {
     "end_time": "2024-09-11T19:50:02.233279Z",
     "start_time": "2024-09-11T19:50:02.229358Z"
    }
   },
   "cell_type": "code",
   "source": [
    "items = [\"External Hard Disk\", \"Ram\", \"Printer\", \"Pen Drive\"]\n",
    "price = [5000, 2000, 6000, 800]\n",
    "\n",
    "deno = [10, 20, 50, 100, 500, 2000]\n",
    "value = [1, 1, 1, 20, 4, 5]\n",
    "\n",
    "# bill = Bill(items, price)\n",
    "# bill.display()\n",
    "\n",
    "cash = CashPayment(items, price, deno, value)\n",
    "cash.show_cash_payment()"
   ],
   "outputs": [
    {
     "name": "stdout",
     "output_type": "stream",
     "text": [
      "Item \t\t\t   Price\n",
      "External Hard Disk \t\t 5000\n",
      "Ram \t\t 2000\n",
      "Printer \t\t 6000\n",
      "Pen Drive \t\t 800\n",
      "**********\n",
      "Total  13800\n",
      "10 * 1 = 1\n",
      "20 * 1 = 1\n",
      "50 * 1 = 1\n",
      "100 * 20 = 20\n",
      "500 * 4 = 4\n",
      "2000 * 5 = 5\n"
     ]
    }
   ],
   "execution_count": 22
  },
  {
   "metadata": {
    "ExecuteTime": {
     "end_time": "2024-09-11T19:56:46.149608Z",
     "start_time": "2024-09-11T19:56:16.782850Z"
    }
   },
   "cell_type": "code",
   "source": [
    "items = [\"External Hard Disk\", \"Ram\", \"Printer\", \"Pen Drive\"]\n",
    "price = [5000, 2000, 6000, 800]\n",
    "option = int(input(\"Would you like to pay by cheque or cash (1/2): \"))\n",
    "\n",
    "if option == 1:\n",
    "    name = input(\"Enter the name of the bank: \")\n",
    "    cno = input(\"Enter the cheque number: \")\n",
    "    cheque = ChequePatment(items, price, cno, name)\n",
    "    cheque.show_cheque_payment()\n",
    "else:\n",
    "    deno = [10, 20, 50, 100, 500, 2000]\n",
    "    value = [1, 1, 1, 20, 4, 5]\n",
    "    cash = CashPayment(items, price, deno, value)\n",
    "    cash.show_cash_payment()"
   ],
   "outputs": [
    {
     "name": "stdout",
     "output_type": "stream",
     "text": [
      "Item \t\t\t   Price\n",
      "External Hard Disk \t\t 5000\n",
      "Ram \t\t 2000\n",
      "Printer \t\t 6000\n",
      "Pen Drive \t\t 800\n",
      "**********\n",
      "Total  13800\n",
      "Cheque No: sdfsdfa\n",
      "Bank name: ICICI\n"
     ]
    }
   ],
   "execution_count": 25
  },
  {
   "cell_type": "markdown",
   "source": [
    "###`Q-6:` FlexibleDict\n",
    "As of now we are accessing values from dictionary with exact keys. Now we want to amend accessing values functionality. if a dict have key `1` (int) the even if we try to access values by giving `'1'` (1 as str) as key, we should get the same result and vice versa.\n",
    "\n",
    "Write a class `FlexibleDict` upon builtin `dict` class with above required functionality.\n",
    "\n",
    "Hint- `dict[key] => dict.__getitem__(key)`"
   ],
   "metadata": {
    "id": "v1M5Yh9ZZO0z"
   }
  },
  {
   "cell_type": "markdown",
   "source": [
    "Ex.\n",
    "```\n",
    "fd = FlexibleDict()\n",
    "fd['a'] = 100\n",
    "print(fd['a']) # Like regular dict\n",
    "\n",
    "fd[5] = 500\n",
    "print(fd[5]) # Like regular dict\n",
    "\n",
    "fd[1] = 100\n",
    "print(fd['1']) # actual Key is int but still trying to access through str key.\n",
    "fd['1'] = 100\n",
    "print(fd[1])\n",
    "\n",
    "```\n",
    "`Output:`\n",
    "```\n",
    "100\n",
    "500\n",
    "100\n",
    "100\n",
    "\n",
    "```"
   ],
   "metadata": {
    "id": "uajGeWegbfda"
   }
  },
  {
   "cell_type": "code",
   "source": [],
   "metadata": {
    "id": "OHLbOtCxZ2nw"
   },
   "execution_count": null,
   "outputs": []
  },
  {
   "cell_type": "code",
   "source": [],
   "metadata": {
    "id": "7NM8r__dmeMf"
   },
   "execution_count": null,
   "outputs": []
  },
  {
   "cell_type": "code",
   "source": [],
   "metadata": {
    "id": "waHSud8Ymkz-"
   },
   "execution_count": null,
   "outputs": []
  }
 ]
}
