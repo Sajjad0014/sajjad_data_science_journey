{
 "nbformat": 4,
 "nbformat_minor": 0,
 "metadata": {
  "colab": {
   "provenance": []
  },
  "kernelspec": {
   "name": "python3",
   "display_name": "Python 3 (ipykernel)",
   "language": "python"
  },
  "language_info": {
   "name": "python"
  }
 },
 "cells": [
  {
   "cell_type": "markdown",
   "source": [
    "### `Problem 1:` Combine two lists index-wise(columns wise)\n",
    "\n",
    "Write a program to add two lists index-wise. Create a new list that contains the 0th index item from both the list, then the 1st index item, and so on till the last element. any leftover items will get added at the end of the new list.\n",
    "\n",
    "`Given List:`\n",
    "```\n",
    "list1 = [\"M\", \"na\", \"i\", \"Kh\"]\n",
    "list2 = [\"y\", \"me\", \"s\", \"an\"]\n",
    "```\n",
    "\n",
    "`Output:`\n",
    "```\n",
    "[['M','y'], ['na', me'], ['i', 's'], ['Kh', 'an']]\n",
    "```"
   ],
   "metadata": {
    "id": "kLZ_vCeE0lsM"
   }
  },
  {
   "cell_type": "code",
   "source": [
    "# Write code here\n",
    "list1 = ['M', 'na', 'i', 'kh']\n",
    "list2 = ['y', 'me', 's', 'an']\n",
    "\n",
    "[i for i in zip(list1, list2)]"
   ],
   "metadata": {
    "id": "cDO3Yv6p0nnG",
    "ExecuteTime": {
     "end_time": "2024-08-27T16:43:00.773290Z",
     "start_time": "2024-08-27T16:43:00.751446Z"
    }
   },
   "outputs": [
    {
     "data": {
      "text/plain": [
       "[('M', 'y'), ('na', 'me'), ('i', 's'), ('kh', 'an')]"
      ]
     },
     "execution_count": 3,
     "metadata": {},
     "output_type": "execute_result"
    }
   ],
   "execution_count": 3
  },
  {
   "cell_type": "markdown",
   "source": [
    "### `Problem 2:` Add new item to list after a specified item\n",
    "Write a program to add item 7000 after 6000 in the following Python List\n",
    "```\n",
    "list1 = [10, 20, [300, 400, [5000, 6000], 500], 30, 40]\n",
    "```\n",
    "`Output:`\n",
    "```\n",
    "[10, 20, [300, 400, [5000, 6000, 7000], 500], 30, 40]\n",
    "```"
   ],
   "metadata": {
    "id": "bnRwRgf_0qLu"
   }
  },
  {
   "cell_type": "code",
   "source": [
    "# Write code here\n",
    "list1 = [10, 20, [300, 400, [5000, 6000], 500], 30, 40]\n",
    "\n",
    "inner_list = list1[2][2]\n",
    "\n",
    "index_6000 = inner_list.index(6000)\n",
    "\n",
    "inner_list.insert(index_6000 + 1, 7000)\n",
    "list1"
   ],
   "metadata": {
    "id": "yW5lLPns00q9",
    "ExecuteTime": {
     "end_time": "2024-08-27T16:51:42.494299Z",
     "start_time": "2024-08-27T16:51:42.481410Z"
    }
   },
   "outputs": [
    {
     "data": {
      "text/plain": [
       "[10, 20, [300, 400, [5000, 6000, 7000], 500], 30, 40]"
      ]
     },
     "execution_count": 19,
     "metadata": {},
     "output_type": "execute_result"
    }
   ],
   "execution_count": 19
  },
  {
   "cell_type": "markdown",
   "source": [
    "### `Problem 3:` Update no of items available\n",
    "\n",
    "Suppose you are given a list of candy and another list of same size representing no of items of respective candy.\n",
    "\n",
    "i.e -  \n",
    "```\n",
    "candy_list = ['Jelly Belly','Kit Kat','Double Bubble','Milky Way','Three Musketeers']\n",
    "no_of_items = [10,20,34,74,32]\n",
    "```\n",
    "\n",
    "Write a program to show no. of items of each candy type.\n",
    "\n",
    "`Output:`\n",
    "\n",
    "```\n",
    "Jelly Belly-10\n",
    "Kit Kat-20\n",
    "Double Bubble-34\n",
    "Milky Way-74\n",
    "Three Musketeers-32\n",
    "\n",
    "```"
   ],
   "metadata": {
    "id": "w7fC8oHk02fH"
   }
  },
  {
   "cell_type": "code",
   "source": [
    "# Write code here\n",
    "candy_list = ['Jelly Belly', 'Kit Kat', 'Double Bubble', 'Milky Way', 'Three Musketeers']\n",
    "no_of_items = [10, 20, 34, 74, 32]\n",
    "\n",
    "for i in range(len(candy_list)):\n",
    "    print(candy_list[i], '-', no_of_items[i])"
   ],
   "metadata": {
    "id": "gg5JEX1a09q8",
    "ExecuteTime": {
     "end_time": "2024-08-27T16:55:44.293082Z",
     "start_time": "2024-08-27T16:55:44.289721Z"
    }
   },
   "outputs": [
    {
     "name": "stdout",
     "output_type": "stream",
     "text": [
      "Jelly Belly - 10\n",
      "Kit Kat - 20\n",
      "Double Bubble - 34\n",
      "Milky Way - 74\n",
      "Three Musketeers - 32\n"
     ]
    }
   ],
   "execution_count": 21
  },
  {
   "cell_type": "markdown",
   "source": [
    "\n",
    "### `Problem 4:` Running Sum on list\n",
    "Write a program to print a list after performing running sum on it.\n",
    "\n",
    "i.e:\n",
    "\n",
    "`Input:`\n",
    "```\n",
    "list1 = [1,2,3,4,5,6]\n",
    "```\n",
    "`Output:`\n",
    "```\n",
    "[1,3,6,10,15,21]\n",
    "```"
   ],
   "metadata": {
    "id": "mFGZAvnB1D3N"
   }
  },
  {
   "cell_type": "code",
   "source": [
    "# Write code here\n",
    "list1 = [1, 2, 3, 4, 5, 6]\n",
    "current_sum = 0\n",
    "new_list = []\n",
    "\n",
    "for i in range(len(list1)):\n",
    "    print(i, list1[i])\n",
    "    current_sum += list1[i]\n",
    "    new_list.append(current_sum)\n",
    "\n",
    "print(new_list)"
   ],
   "metadata": {
    "id": "8LPS6DaD1FTs",
    "ExecuteTime": {
     "end_time": "2024-08-27T17:02:18.744976Z",
     "start_time": "2024-08-27T17:02:18.736633Z"
    }
   },
   "outputs": [
    {
     "name": "stdout",
     "output_type": "stream",
     "text": [
      "0 1\n",
      "1 2\n",
      "2 3\n",
      "3 4\n",
      "4 5\n",
      "5 6\n",
      "[1, 3, 6, 10, 15, 21]\n"
     ]
    }
   ],
   "execution_count": 28
  },
  {
   "cell_type": "markdown",
   "source": [
    "### `Problem 5:` You are given a list of integers. You are asked to make a list by running through elements of the list by adding all elements greater and itself.\n",
    "\n",
    "i.e. Say given list is `[2,4,6,10,1]`\n",
    "resultant list will be `[22,20,10,23]`.\n",
    "\n",
    "For 1st element `2` ->> these are greater `(4+6+10)` values and `2` itself so on adding becomes `22`.\n",
    "\n",
    "For 2nd element `4` ->> greater elements are `(6, 10)` and `4` itself, so on adding `20`\n",
    "\n",
    "like wise for all other elememts.\n",
    "\n",
    "`[2,4,6,10,1]`-->`[22,20,16,10,23]`\n",
    "\n",
    "\n"
   ],
   "metadata": {
    "id": "2ztcZ-EW1HEU"
   }
  },
  {
   "cell_type": "code",
   "source": [
    "# Write code here\n",
    "list1 = [2, 4, 6, 10, 1]\n",
    "new_list = list()\n",
    "current_sum = 0\n",
    "\n",
    "for i in list1:\n",
    "    for x in list1:\n",
    "        if i < x:\n",
    "            current_sum += x\n",
    "    new_list.append(i + current_sum)\n",
    "    current_sum = 0\n",
    "\n",
    "print(new_list)"
   ],
   "metadata": {
    "id": "UJuWqzj31UD2",
    "ExecuteTime": {
     "end_time": "2024-08-27T17:09:12.149300Z",
     "start_time": "2024-08-27T17:09:12.144873Z"
    }
   },
   "outputs": [
    {
     "name": "stdout",
     "output_type": "stream",
     "text": [
      "[22, 20, 16, 10, 23]\n"
     ]
    }
   ],
   "execution_count": 33
  },
  {
   "cell_type": "markdown",
   "source": [
    "### `Problem 6:` Find list of common unique items from two list. and show in increasing order\n",
    "\n",
    "`Input`\n",
    "\n",
    "```\n",
    "num1 = [23,45,67,78,89,34]\n",
    "num2 = [34,89,55,56,39,67]\n",
    "```\n",
    "\n",
    "`Output:`\n",
    "```\n",
    "[34, 67, 89]\n",
    "```\n"
   ],
   "metadata": {
    "id": "c9H6tYTx1ZYo"
   }
  },
  {
   "cell_type": "code",
   "source": [
    "# Write code here\n",
    "num1 = [23, 45, 67, 78, 89, 34]\n",
    "num2 = [34, 89, 55, 56, 39, 67]\n",
    "\n",
    "new_list = [i for i in num1 if i in num2]\n",
    "\n",
    "new_list.sort()\n",
    "print(new_list)"
   ],
   "metadata": {
    "id": "dDxdi7eE1e1W",
    "ExecuteTime": {
     "end_time": "2024-08-27T17:12:24.337946Z",
     "start_time": "2024-08-27T17:12:24.333565Z"
    }
   },
   "outputs": [
    {
     "name": "stdout",
     "output_type": "stream",
     "text": [
      "[34, 67, 89]\n"
     ]
    }
   ],
   "execution_count": 35
  },
  {
   "cell_type": "markdown",
   "source": [
    "### `Problem 7:` Sort a list of alphanumeric strings based on product value of numeric character in it. If in any string there is no numeric character take it's product value as 1.\n",
    "\n",
    "`Input:`\n",
    "```\n",
    "['1ac21', '23fg', '456', '098d','1','kls']\n",
    "```\n",
    "\n",
    "`Output:`\n",
    "```\n",
    "['456', '23fg', '1ac21', '1', 'kls', '098d']\n",
    "\n",
    "```"
   ],
   "metadata": {
    "id": "i3Izok2i1gRD"
   }
  },
  {
   "cell_type": "code",
   "source": [
    "# Write code here\n",
    "lst = ['1ac21', '23fg', '456', '098d', '1', 'kls']\n",
    "new_list = []\n",
    "\n",
    "for i in lst:\n",
    "    if i.isalnum():\n",
    "        new_list.append(i)\n",
    "    else:\n",
    "        new_list.append('1')\n",
    "\n",
    "print(new_list)"
   ],
   "metadata": {
    "id": "eiXSanG11oq6",
    "ExecuteTime": {
     "end_time": "2024-08-27T17:14:50.881999Z",
     "start_time": "2024-08-27T17:14:50.877472Z"
    }
   },
   "outputs": [
    {
     "name": "stdout",
     "output_type": "stream",
     "text": [
      "['1ac21', '23fg', '456', '098d', '1', 'kls']\n"
     ]
    }
   ],
   "execution_count": 37
  },
  {
   "cell_type": "markdown",
   "source": [
    "`Problem 8:` Split String of list on K character.\n",
    "\n",
    "**Example :**\n",
    "\n",
    "Input:\n",
    "```bash\n",
    "['CampusX is a channel', 'for data-science', 'aspirants.']\n",
    "```\n",
    "\n",
    "Output:\n",
    "```bash\n",
    "['CampusX', 'is', 'a', 'channel', 'for', 'data-science', 'aspirants.']\n",
    "```"
   ],
   "metadata": {
    "id": "McMaNSpB1zJB"
   }
  },
  {
   "cell_type": "code",
   "source": [
    "# Write code here\n",
    "lst = ['CampusX is a channel', 'for data-science', 'aspirants']\n",
    "new_list = []\n",
    "\n",
    "for i in lst:\n",
    "    new_list.extend(i.split())\n",
    "\n",
    "print(new_list)"
   ],
   "metadata": {
    "id": "rLg6AUhf14wI",
    "ExecuteTime": {
     "end_time": "2024-08-27T17:17:56.792162Z",
     "start_time": "2024-08-27T17:17:56.786989Z"
    }
   },
   "outputs": [
    {
     "name": "stdout",
     "output_type": "stream",
     "text": [
      "['CampusX', 'is', 'a', 'channel', 'for', 'data-science', 'aspirants']\n"
     ]
    }
   ],
   "execution_count": 39
  },
  {
   "cell_type": "markdown",
   "source": [
    "### `Problem 9:` Convert Character Matrix to single String using string comprehension.\n",
    "\n",
    "**Example 1:**\n",
    "\n",
    "Input:\n",
    "```bash\n",
    "[['c', 'a', 'm', 'p', 'u', 'x'], ['i', 's'], ['b', 'e', 's', 't'], ['c', 'h', 'a', 'n', 'n', 'e', 'l']]\n",
    "```\n",
    "\n",
    "Output:\n",
    "```bash\n",
    "campux is best channel\n",
    "```"
   ],
   "metadata": {
    "id": "ebqIC0Xa16dG"
   }
  },
  {
   "cell_type": "code",
   "source": [
    "# Write code here\n",
    "lst = [['c', 'a', 'm', 'p', 'u', 'x'], ['i', 's'], ['b', 'e', 's', 't'], ['c', 'h', 'a', 'n', 'n', 'e', 'l']]\n",
    "\n",
    "result = ' '.join([''.join(sub_list) for sub_list in lst])\n",
    "\n",
    "print(result)"
   ],
   "metadata": {
    "id": "KLKxzyZf2BLr",
    "ExecuteTime": {
     "end_time": "2024-08-27T17:22:00.130676Z",
     "start_time": "2024-08-27T17:22:00.114142Z"
    }
   },
   "outputs": [
    {
     "name": "stdout",
     "output_type": "stream",
     "text": [
      "campux is best channel\n"
     ]
    }
   ],
   "execution_count": 40
  },
  {
   "cell_type": "markdown",
   "source": [
    "### `Problem 10:` Add Space between Potential Words.\n",
    "\n",
    "**Example:**\n",
    "\n",
    "Input:\n",
    "\n",
    "```bash\n",
    "['campusxIs', 'bestFor', 'dataScientist']\n",
    "```\n",
    "\n",
    "Output:\n",
    "```bash\n",
    "['campusx Is', 'best For', 'data Scientist']\n",
    "```"
   ],
   "metadata": {
    "id": "0v1Z3Snp2DAm"
   }
  },
  {
   "cell_type": "code",
   "source": [
    "# Code here\n",
    "lst = ['campusIs', 'bestFor', 'dataScientist']\n",
    "res = []\n",
    "\n",
    "for i in lst:\n",
    "    temp = [[]]\n",
    "    \n",
    "    for char in i:\n",
    "        if char.isupper():\n",
    "            temp.append([])\n",
    "        \n",
    "        temp[-1].append(char)\n",
    "    \n",
    "    temp_string = ''\n",
    "    for item in temp:\n",
    "        temp_string = temp_string + ''.join(item) + ' '\n",
    "    res.append(temp_string[0:-1])\n",
    "\n",
    "print(res)\n",
    "    "
   ],
   "metadata": {
    "id": "pltvqSXa2IxP",
    "ExecuteTime": {
     "end_time": "2024-08-27T18:09:11.480759Z",
     "start_time": "2024-08-27T18:09:11.476277Z"
    }
   },
   "outputs": [
    {
     "name": "stdout",
     "output_type": "stream",
     "text": [
      "['campus Is', 'best For', 'data Scientist']\n"
     ]
    }
   ],
   "execution_count": 62
  },
  {
   "cell_type": "markdown",
   "source": [
    "### `Problem 11:` Write a program that can perform union operation on 2 lists\n",
    "\n",
    "**Example:**\n",
    "\n",
    "Input:\n",
    "\n",
    "```bash\n",
    "[1,2,3,4,5,1]\n",
    "[2,3,5,7,8]\n",
    "```\n",
    "\n",
    "Output:\n",
    "```bash\n",
    "[1,2,3,4,5,7,8]\n",
    "```"
   ],
   "metadata": {
    "id": "tnmBk1M52KXW"
   }
  },
  {
   "cell_type": "code",
   "source": [
    "# Write code here\n",
    "list1 = [1, 2, 3, 4, 5, 1]\n",
    "list2 = [2, 3, 5, 7, 8]\n",
    "new_list = []\n",
    "\n",
    "for i in list1:\n",
    "    if i not in new_list:\n",
    "        new_list.append(i)\n",
    "\n",
    "for i in list2:\n",
    "    if i not in new_list:\n",
    "        new_list.append(i)\n",
    "\n",
    "print(new_list)"
   ],
   "metadata": {
    "id": "u0AgIToU2-Ht",
    "ExecuteTime": {
     "end_time": "2024-08-27T17:38:33.267986Z",
     "start_time": "2024-08-27T17:38:33.248424Z"
    }
   },
   "outputs": [
    {
     "name": "stdout",
     "output_type": "stream",
     "text": [
      "[1, 2, 3, 4, 5, 7, 8]\n"
     ]
    }
   ],
   "execution_count": 43
  },
  {
   "cell_type": "markdown",
   "source": [
    "### `Problem 12:` Write a program that can find the max number of each row of a matrix\n",
    "\n",
    "**Example:**\n",
    "\n",
    "Input:\n",
    "\n",
    "```bash\n",
    "[[1,2,3],[4,5,6],[7,8,9]]\n",
    "```\n",
    "\n",
    "Output:\n",
    "```bash\n",
    "[3,6,9]\n",
    "```"
   ],
   "metadata": {
    "id": "Yt8x67Ch3Ow1"
   }
  },
  {
   "cell_type": "code",
   "source": [
    "# Write code here\n",
    "lst = [[1, 2, 3], [4, 5, 6], [7, 8, 9]]\n",
    "new_list = []\n",
    "\n",
    "for i in lst:\n",
    "    new_list.append(max(i))\n",
    "\n",
    "print(new_list)"
   ],
   "metadata": {
    "id": "7QopAaAI3noh",
    "ExecuteTime": {
     "end_time": "2024-08-27T17:40:02.569551Z",
     "start_time": "2024-08-27T17:40:02.560915Z"
    }
   },
   "outputs": [
    {
     "name": "stdout",
     "output_type": "stream",
     "text": [
      "[3, 6, 9]\n"
     ]
    }
   ],
   "execution_count": 45
  },
  {
   "cell_type": "markdown",
   "source": [
    "\n",
    "### `Problem 13:` Write a list comprehension to print the following matrix\n",
    "\n",
    "[[0, 1, 2], [3, 4, 5], [6, 7, 8]]"
   ],
   "metadata": {
    "id": "DBZlUmnt3pGT"
   }
  },
  {
   "cell_type": "code",
   "source": [
    "# Write code here\n",
    "lst = []\n",
    "temp = []\n",
    "\n",
    "for i in range(1, 10):\n",
    "    if i % 3 == 0:\n",
    "        temp.append(i - 1)\n",
    "        lst.append(temp)\n",
    "        temp = []\n",
    "    else:\n",
    "        temp.append(i - 1)\n",
    "\n",
    "print(lst)"
   ],
   "metadata": {
    "id": "Ip4e8M-S356h",
    "ExecuteTime": {
     "end_time": "2024-08-27T17:46:12.518038Z",
     "start_time": "2024-08-27T17:46:12.500021Z"
    }
   },
   "outputs": [
    {
     "name": "stdout",
     "output_type": "stream",
     "text": [
      "[[0, 1, 2], [3, 4, 5], [6, 7, 8]]\n"
     ]
    }
   ],
   "execution_count": 55
  },
  {
   "cell_type": "markdown",
   "source": [
    "### `Problem 14:` Write a list comprehension that can transpose a given matrix\n",
    "\n",
    "matrix = [<br>\n",
    "  [1,2,3],<br>\n",
    "          [4,5,6],<br>\n",
    "          [7,8,9]<br>]<br>\n",
    "\n",
    "[1, 4, 7]<br>\n",
    "[2, 5, 8]<br>\n",
    "[3, 6, 9]<br>"
   ],
   "metadata": {
    "id": "j3vTuFC737kG"
   }
  },
  {
   "cell_type": "code",
   "source": [
    "# Write code here\n",
    "matrix = [[1, 2, 3], [4, 5, 6], [7, 8, 9]]\n",
    "\n",
    "[[row[i] for row in matrix] for i in range(len(matrix))]"
   ],
   "metadata": {
    "id": "CcBNu0gk4XsR",
    "ExecuteTime": {
     "end_time": "2024-08-27T17:55:53.448183Z",
     "start_time": "2024-08-27T17:55:53.442598Z"
    }
   },
   "outputs": [
    {
     "data": {
      "text/plain": [
       "[[1, 4, 7], [2, 5, 8], [3, 6, 9]]"
      ]
     },
     "execution_count": 57,
     "metadata": {},
     "output_type": "execute_result"
    }
   ],
   "execution_count": 57
  },
  {
   "cell_type": "markdown",
   "source": [
    "### `Problem 15:` Write a list comprehension that can flatten a nested list\n",
    "\n",
    "Input<br>\n",
    "matrix = [<br>\n",
    "  [1,2,3],<br>\n",
    "          [4,5,6],<br>\n",
    "          [7,8,9]<br>]<br>\n",
    "\n",
    "Output:<br>\n",
    "[1, 2, 3, 4, 5, 6, 7, 8, 9]"
   ],
   "metadata": {
    "id": "wRkSWFb74eOt"
   }
  },
  {
   "cell_type": "code",
   "source": [
    "# Write code here\n",
    "matrix = [[1, 2, 3], [4, 5, 6], [7, 8, 9]]\n",
    "\n",
    "[item for row in matrix for item in row]"
   ],
   "metadata": {
    "id": "jZGQ5el25HFr",
    "ExecuteTime": {
     "end_time": "2024-08-27T17:58:23.330018Z",
     "start_time": "2024-08-27T17:58:23.315622Z"
    }
   },
   "outputs": [
    {
     "data": {
      "text/plain": [
       "[1, 2, 3, 4, 5, 6, 7, 8, 9]"
      ]
     },
     "execution_count": 58,
     "metadata": {},
     "output_type": "execute_result"
    }
   ],
   "execution_count": 58
  },
  {
   "metadata": {},
   "cell_type": "code",
   "outputs": [],
   "execution_count": null,
   "source": ""
  }
 ]
}
