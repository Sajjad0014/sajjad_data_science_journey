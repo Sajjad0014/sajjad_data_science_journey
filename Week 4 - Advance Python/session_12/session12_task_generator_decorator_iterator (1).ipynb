{
 "nbformat": 4,
 "nbformat_minor": 0,
 "metadata": {
  "colab": {
   "provenance": []
  },
  "kernelspec": {
   "name": "python3",
   "display_name": "Python 3 (ipykernel)",
   "language": "python"
  },
  "language_info": {
   "name": "python"
  }
 },
 "cells": [
  {
   "cell_type": "markdown",
   "source": [
    "## Namespace and Scope"
   ],
   "metadata": {
    "id": "hM8V4LxHKV6x"
   }
  },
  {
   "cell_type": "markdown",
   "source": [
    "###`Q1:` Write `Person` Class as given below and then display it's namespace.\n",
    "\n"
   ],
   "metadata": {
    "id": "Kl3s2TonKYgY"
   }
  },
  {
   "cell_type": "markdown",
   "source": [
    "```\n",
    "Class Name - Person\n",
    "\n",
    "Attributes:\n",
    "name - public\n",
    "state - public\n",
    "city - private\n",
    "age - private\n",
    "\n",
    "Methods:\n",
    "address - public\n",
    "It give address of the person as \"<name>, <city>, <state>\"\n",
    "```"
   ],
   "metadata": {
    "id": "grudG97hL83C"
   }
  },
  {
   "cell_type": "code",
   "source": [
    "#Write your code here"
   ],
   "metadata": {
    "id": "BRq-I4jmKX0U"
   },
   "execution_count": null,
   "outputs": []
  },
  {
   "cell_type": "code",
   "source": [
    "class Person:\n",
    "    def __init__(self, name, state):\n",
    "        self.__age = None\n",
    "        self.__city = None\n",
    "        self.name = name\n",
    "        self.state = state\n",
    "\n",
    "    def set_city(self, city):\n",
    "        self.__city = city\n",
    "\n",
    "    def get_city(self):\n",
    "        return self.__city\n",
    "\n",
    "    def set_age(self, age):\n",
    "        self.__age = age\n",
    "\n",
    "    def get_age(self):\n",
    "        return self.__age\n",
    "\n",
    "    def address(self):\n",
    "        return f'{self.name}, {self.__city}, {self.state}'\n",
    "\n",
    "\n",
    "for i in Person.__dict__:\n",
    "    print(i)"
   ],
   "metadata": {
    "id": "8XD7YgT-L_ZU",
    "ExecuteTime": {
     "end_time": "2024-09-19T22:15:24.665032Z",
     "start_time": "2024-09-19T22:15:24.660310Z"
    }
   },
   "outputs": [
    {
     "name": "stdout",
     "output_type": "stream",
     "text": [
      "__module__\n",
      "__init__\n",
      "set_city\n",
      "get_city\n",
      "set_age\n",
      "get_age\n",
      "address\n",
      "__dict__\n",
      "__weakref__\n",
      "__doc__\n"
     ]
    }
   ],
   "execution_count": 2
  },
  {
   "cell_type": "markdown",
   "source": [
    "###`Q2:` Write a program to show namespace of object/instance of above(Person) class."
   ],
   "metadata": {
    "id": "NLtOPOXDL_zB"
   }
  },
  {
   "cell_type": "code",
   "source": [
    "# Write your code here\n"
   ],
   "metadata": {
    "id": "w3fj9tf0MJ3Z"
   },
   "execution_count": null,
   "outputs": []
  },
  {
   "cell_type": "code",
   "source": [
    "person1 = Person('Sajjad', 'Telangana')\n",
    "person1.set_age(24)\n",
    "person1.set_city('Hyderabad')\n",
    "for i in person1.__dict__:\n",
    "    print(i)"
   ],
   "metadata": {
    "id": "J2C13ZiuNGP3",
    "ExecuteTime": {
     "end_time": "2024-09-19T22:17:25.094916Z",
     "start_time": "2024-09-19T22:17:25.092036Z"
    }
   },
   "outputs": [
    {
     "name": "stdout",
     "output_type": "stream",
     "text": [
      "_Person__age\n",
      "_Person__city\n",
      "name\n",
      "state\n"
     ]
    }
   ],
   "execution_count": 5
  },
  {
   "cell_type": "markdown",
   "source": [
    "### `Q3:` Write a recursive program to to calculate `gcd` and print no. of function calls taken to find the solution.\n",
    "```\n",
    "gcd(5,10) -> result in 5 as gcd and function call 4\n",
    "```"
   ],
   "metadata": {
    "id": "rRnCZmlUY8sn"
   }
  },
  {
   "cell_type": "code",
   "source": [
    "#Write your code here\n",
    "# O(log(min(a,b))\n",
    "\n",
    "counter = 0\n",
    "\n",
    "\n",
    "def gcd(a, b):\n",
    "    global counter\n",
    "    counter += 1\n",
    "    if b == 0:\n",
    "        return a\n",
    "    else:\n",
    "        return gcd(b, a % b)\n",
    "\n",
    "\n",
    "print(gcd(10, 5), counter)\n",
    "print(gcd(16, 24), counter)\n"
   ],
   "metadata": {
    "id": "jYiVzxhUZRln",
    "ExecuteTime": {
     "end_time": "2024-09-19T22:24:41.054688Z",
     "start_time": "2024-09-19T22:24:41.050494Z"
    }
   },
   "outputs": [
    {
     "name": "stdout",
     "output_type": "stream",
     "text": [
      "5 2\n",
      "8 6\n"
     ]
    }
   ],
   "execution_count": 7
  },
  {
   "cell_type": "code",
   "source": "",
   "metadata": {
    "id": "gwnOjBakeEiE"
   },
   "execution_count": null,
   "outputs": []
  },
  {
   "cell_type": "markdown",
   "source": [
    "## Itterator And Generator"
   ],
   "metadata": {
    "id": "FbDepR9QNGnh"
   }
  },
  {
   "cell_type": "markdown",
   "source": [
    "### `Q4:` Create MyEnumerate class,\n",
    "Create your own `MyEnumerate` class such that someone can use it instead of enumerate. It will need to return a `tuple` with each iteration, with the first element in the tuple being the `index` (starting with 0) and the second element being the `current element` from the underlying data structure. Trying to use `MyEnumerate` with a noniterable argument will result in an error.\n",
    "\n",
    "```\n",
    "for index, letter in MyEnumerate('abc'):\n",
    "    print(f'{index} : {letter}')\n",
    "```\n",
    "\n",
    "Output:\n",
    "```\n",
    "0 : a\n",
    "1 : b\n",
    "2 : c\n",
    "```"
   ],
   "metadata": {
    "id": "Nj5WaR_4NJTu"
   }
  },
  {
   "cell_type": "code",
   "source": [
    "#Write your code here\n",
    "l = [1, 2, 3]\n",
    "\n",
    "iterator = iter(l)\n",
    "print(next(iterator))\n",
    "print(next(iterator))\n",
    "print(next(iterator))\n",
    "print(next(iterator))"
   ],
   "metadata": {
    "id": "6zjcm2gxNbfJ",
    "ExecuteTime": {
     "end_time": "2024-09-19T23:02:27.920461Z",
     "start_time": "2024-09-19T23:02:27.909483Z"
    }
   },
   "outputs": [
    {
     "name": "stdout",
     "output_type": "stream",
     "text": [
      "1\n",
      "2\n",
      "3\n"
     ]
    },
    {
     "ename": "StopIteration",
     "evalue": "",
     "output_type": "error",
     "traceback": [
      "\u001B[1;31m---------------------------------------------------------------------------\u001B[0m",
      "\u001B[1;31mStopIteration\u001B[0m                             Traceback (most recent call last)",
      "Cell \u001B[1;32mIn[10], line 8\u001B[0m\n\u001B[0;32m      6\u001B[0m \u001B[38;5;28mprint\u001B[39m(\u001B[38;5;28mnext\u001B[39m(iterator))\n\u001B[0;32m      7\u001B[0m \u001B[38;5;28mprint\u001B[39m(\u001B[38;5;28mnext\u001B[39m(iterator))\n\u001B[1;32m----> 8\u001B[0m \u001B[38;5;28mprint\u001B[39m(\u001B[38;5;28;43mnext\u001B[39;49m\u001B[43m(\u001B[49m\u001B[43miterator\u001B[49m\u001B[43m)\u001B[49m)\n",
      "\u001B[1;31mStopIteration\u001B[0m: "
     ]
    }
   ],
   "execution_count": 10
  },
  {
   "metadata": {
    "ExecuteTime": {
     "end_time": "2024-09-19T23:07:50.288934Z",
     "start_time": "2024-09-19T23:07:50.284451Z"
    }
   },
   "cell_type": "code",
   "source": [
    "class MyEnumerateIterator:\n",
    "    def __init__(self, data, max_items):\n",
    "        self.data = data\n",
    "        self.max_items = max_items\n",
    "        self.index = 0\n",
    "\n",
    "    def __next__(self):\n",
    "        if self.index >= self.max_items:\n",
    "            raise StopIteration\n",
    "        value = (self.index, self.data[self.index])\n",
    "        self.index += 1\n",
    "\n",
    "        return value\n",
    "\n",
    "\n",
    "class MyEnumerate:\n",
    "    def __init__(self, data):\n",
    "        self.data = data\n",
    "\n",
    "    def __iter__(self):\n",
    "        return MyEnumerateIterator(self.data, len(self.data))\n",
    "\n",
    "\n",
    "for index, letter in MyEnumerate('abc'):\n",
    "    print(f'{index} : {letter}')\n"
   ],
   "outputs": [
    {
     "name": "stdout",
     "output_type": "stream",
     "text": [
      "0 : a\n",
      "1 : b\n",
      "2 : c\n"
     ]
    }
   ],
   "execution_count": 14
  },
  {
   "metadata": {
    "ExecuteTime": {
     "end_time": "2024-09-19T23:10:24.490605Z",
     "start_time": "2024-09-19T23:10:24.485215Z"
    }
   },
   "cell_type": "code",
   "source": [
    "class MyEnumerate:\n",
    "    def __init__(self, data):\n",
    "        self.data = data\n",
    "        self.index = 0\n",
    "\n",
    "    def __iter__(self):\n",
    "        return self\n",
    "\n",
    "    def __next__(self):\n",
    "        if self.index >= len(self.data):\n",
    "            raise StopIteration\n",
    "        value = (self.index, self.data[self.index])\n",
    "        self.index += 1\n",
    "\n",
    "        return value\n",
    "\n",
    "\n",
    "for index, letter in MyEnumerate('abc'):\n",
    "    print(f'{index} : {letter}')\n"
   ],
   "outputs": [
    {
     "name": "stdout",
     "output_type": "stream",
     "text": [
      "0 : a\n",
      "1 : b\n",
      "2 : c\n"
     ]
    }
   ],
   "execution_count": 15
  },
  {
   "cell_type": "code",
   "source": [
    "# my code ignore\n",
    "\n",
    "class MyException(Exception):\n",
    "    def __init__(self):\n",
    "        return 'Iterable passed is not an iterable'\n",
    "\n",
    "\n",
    "class MyEnumerate:\n",
    "    def __init__(self, iterable):\n",
    "        try:\n",
    "            if '__iter__' in dir(iterable):\n",
    "                for i in iterable:\n",
    "                    print(f'{i} : {iterable[i]}')\n",
    "            else:\n",
    "                raise MyException\n",
    "        except MyException:\n",
    "            pass\n",
    "\n",
    "\n",
    "MyEnumerate('abc')"
   ],
   "metadata": {
    "id": "ya--mdHwNxdX",
    "ExecuteTime": {
     "end_time": "2024-09-19T22:31:32.168936Z",
     "start_time": "2024-09-19T22:31:31.996932Z"
    }
   },
   "outputs": [
    {
     "ename": "TypeError",
     "evalue": "string indices must be integers, not 'str'",
     "output_type": "error",
     "traceback": [
      "\u001B[1;31m---------------------------------------------------------------------------\u001B[0m",
      "\u001B[1;31mTypeError\u001B[0m                                 Traceback (most recent call last)",
      "Cell \u001B[1;32mIn[8], line 16\u001B[0m\n\u001B[0;32m     13\u001B[0m         \u001B[38;5;28;01mexcept\u001B[39;00m MyException:\n\u001B[0;32m     14\u001B[0m             \u001B[38;5;28;01mpass\u001B[39;00m\n\u001B[1;32m---> 16\u001B[0m \u001B[43mMyEnumerate\u001B[49m\u001B[43m(\u001B[49m\u001B[38;5;124;43m'\u001B[39;49m\u001B[38;5;124;43mabc\u001B[39;49m\u001B[38;5;124;43m'\u001B[39;49m\u001B[43m)\u001B[49m\n",
      "Cell \u001B[1;32mIn[8], line 10\u001B[0m, in \u001B[0;36mMyEnumerate.__init__\u001B[1;34m(self, iterable)\u001B[0m\n\u001B[0;32m      8\u001B[0m \u001B[38;5;28;01mif\u001B[39;00m \u001B[38;5;124m'\u001B[39m\u001B[38;5;124m__iter__\u001B[39m\u001B[38;5;124m'\u001B[39m \u001B[38;5;129;01min\u001B[39;00m \u001B[38;5;28mdir\u001B[39m(iterable):\n\u001B[0;32m      9\u001B[0m     \u001B[38;5;28;01mfor\u001B[39;00m i \u001B[38;5;129;01min\u001B[39;00m iterable:\n\u001B[1;32m---> 10\u001B[0m         \u001B[38;5;28mprint\u001B[39m(\u001B[38;5;124mf\u001B[39m\u001B[38;5;124m'\u001B[39m\u001B[38;5;132;01m{\u001B[39;00mi\u001B[38;5;132;01m}\u001B[39;00m\u001B[38;5;124m : \u001B[39m\u001B[38;5;132;01m{\u001B[39;00m\u001B[43miterable\u001B[49m\u001B[43m[\u001B[49m\u001B[43mi\u001B[49m\u001B[43m]\u001B[49m\u001B[38;5;132;01m}\u001B[39;00m\u001B[38;5;124m'\u001B[39m)\n\u001B[0;32m     11\u001B[0m \u001B[38;5;28;01melse\u001B[39;00m:\n\u001B[0;32m     12\u001B[0m     \u001B[38;5;28;01mraise\u001B[39;00m MyException\n",
      "\u001B[1;31mTypeError\u001B[0m: string indices must be integers, not 'str'"
     ]
    }
   ],
   "execution_count": 8
  },
  {
   "cell_type": "markdown",
   "source": [
    "### `Q5:` Iterate in circle\n",
    "Define a class, `Circle`, that takes two arguments when defined: a sequence and a number. The idea is that the object will then return elements the defined number of times. If the number is greater than the number of elements, then the sequence  repeats as necessary. You can define an another class used as a helper (like I call `CircleIterator`).\n",
    "\n",
    "```\n",
    "c = Circle('abc', 5)\n",
    "d = Circle('abc', 7)\n",
    "print(list(c))\n",
    "print(list(d))\n",
    "```\n",
    "\n",
    "Output\n",
    "```\n",
    "[a, b, c, a, b]\n",
    "[a, b, c, a, b, c, a]\n",
    "```"
   ],
   "metadata": {
    "id": "U2Ai7rVDOLBw"
   }
  },
  {
   "cell_type": "code",
   "source": [
    "#Write your code here\n",
    "\n",
    "class Circle:\n",
    "\n",
    "    def __init__(self, data, max_iters):\n",
    "        self.data = data\n",
    "        self.index = 0\n",
    "        self.max_iters = max_iters\n",
    "\n",
    "    def __iter__(self):\n",
    "        return self\n",
    "\n",
    "    def __next__(self):\n",
    "        if self.index >= self.max_iters:\n",
    "            raise StopIteration\n",
    "        # print(f\"self.index : {self.index}\")\n",
    "        # print(f\"len of self.data : {len(self.data)}\")\n",
    "        # print(f\"self.index % len(self.data): {self.index % len(self.data)}\")\n",
    "        value = self.data[self.index % len(self.data)]\n",
    "        self.index += 1\n",
    "\n",
    "        return value\n",
    "\n",
    "\n",
    "c = Circle('abc', 5)\n",
    "d = Circle('abc', 7)\n",
    "print(list(c))\n",
    "print(list(d))"
   ],
   "metadata": {
    "id": "iwcTy1HyO5hs",
    "ExecuteTime": {
     "end_time": "2024-09-19T23:22:57.757434Z",
     "start_time": "2024-09-19T23:22:57.751911Z"
    }
   },
   "outputs": [
    {
     "name": "stdout",
     "output_type": "stream",
     "text": [
      "['a', 'b', 'c', 'a', 'b']\n",
      "['a', 'b', 'c', 'a', 'b', 'c', 'a']\n"
     ]
    }
   ],
   "execution_count": 21
  },
  {
   "cell_type": "code",
   "source": [],
   "metadata": {
    "id": "ElXQR_4kQmwO"
   },
   "execution_count": null,
   "outputs": []
  },
  {
   "cell_type": "markdown",
   "source": [
    "### `Q6:` Generator time elapsed\n",
    "Write a generator function whose argument must be iterable. With each iteration, the generator will return a two-element tuple. The first element in the tuple will be an integer indicating how many seconds have passed since the previous iteration. The tuple’s second element will be the next item from the passed argument.\n",
    "\n",
    "Note that the timing should be relative to the previous iteration, not when the\n",
    "generator was first created or invoked. Thus the timing number in the first iteration\n",
    "will be 0\n",
    "\n",
    "```\n",
    "for t in elapsed_since('abcd'):\n",
    "    print(t)\n",
    "    time.sleep(2)\n",
    "```\n",
    "\n",
    "Output:\n",
    "```\n",
    "(0.0, 'a')\n",
    "(2.005651817999933, 'b')\n",
    "(2.0023095009998997, 'c')\n",
    "(2.001949742000079, 'd')\n",
    "```\n",
    "Note: Your output may differ because of diffrent system has different processing configuration."
   ],
   "metadata": {
    "id": "17KyhciKQnAE"
   }
  },
  {
   "cell_type": "code",
   "source": [
    "#Write yor code\n",
    "import time\n",
    "\n",
    "\n",
    "def elapsed_since(data):\n",
    "    last_time = time.perf_counter()\n",
    "\n",
    "    for item in data:\n",
    "        current_time = time.perf_counter()\n",
    "        delta = current_time - last_time\n",
    "        last_time = current_time\n",
    "\n",
    "        yield delta, item\n",
    "\n",
    "\n",
    "for t in elapsed_since('abcd'):\n",
    "    print(t)\n",
    "    time.sleep(2)\n"
   ],
   "metadata": {
    "id": "UkH1tj9zQ-gc",
    "ExecuteTime": {
     "end_time": "2024-09-19T23:28:23.393943Z",
     "start_time": "2024-09-19T23:28:15.386592Z"
    }
   },
   "outputs": [
    {
     "name": "stdout",
     "output_type": "stream",
     "text": [
      "(4.00003045797348e-07, 'a')\n",
      "(2.0008035000646487, 'b')\n",
      "(2.0002534999512136, 'c')\n",
      "(2.000460400013253, 'd')\n"
     ]
    }
   ],
   "execution_count": 22
  },
  {
   "cell_type": "markdown",
   "source": [
    "## Decorators"
   ],
   "metadata": {
    "id": "fXr3OJxJSC1j"
   }
  },
  {
   "cell_type": "markdown",
   "source": [
    "###`Q7:` Write a Python program to make a chain of function decorators (bold, italic, underline etc.) on a given function which prints \"hello world\"\n",
    "\n",
    "```\n",
    "def hello():\n",
    "    return \"hello world\"\n",
    "```\n",
    "\n",
    "```\n",
    "bold - wrap string with <b> tag. <b>Str</b>\n",
    "italic - wrap string with <i> tag. <i>Str</i>\n",
    "underline- wrap string with <u> tag. <u>Str</u>\n",
    "```"
   ],
   "metadata": {
    "id": "xSjvwAt-SFhi"
   }
  },
  {
   "cell_type": "code",
   "source": [
    "#Write your code here\n",
    "\n",
    "def bold(func):\n",
    "    def wrapper():\n",
    "        return \"<b>\" + func() + \"</b>\"\n",
    "\n",
    "    return wrapper\n",
    "\n",
    "\n",
    "def italic(func):\n",
    "    def wrapper():\n",
    "        return \"<i>\" + func() + \"</i>\"\n",
    "\n",
    "    return wrapper\n",
    "\n",
    "\n",
    "def underline(func):\n",
    "    def wrapper():\n",
    "        return '<u>' + func() + '</u>'\n",
    "\n",
    "    return wrapper\n",
    "\n",
    "\n",
    "@bold\n",
    "@italic\n",
    "@underline\n",
    "def hello():\n",
    "    return 'Hello world'\n",
    "\n",
    "\n",
    "print(hello())"
   ],
   "metadata": {
    "id": "prVeZGYlSorr",
    "ExecuteTime": {
     "end_time": "2024-09-22T22:06:49.699369Z",
     "start_time": "2024-09-22T22:06:49.694289Z"
    }
   },
   "outputs": [
    {
     "name": "stdout",
     "output_type": "stream",
     "text": [
      "<b><i><u>Hello world</u></i></b>\n"
     ]
    }
   ],
   "execution_count": 16
  },
  {
   "cell_type": "markdown",
   "source": [
    "###`Q8:` Write a decorator called `printer` which causes any decorated function to print their return values. If the return value of a given function is `None`, printer should do nothing.\n",
    "\n"
   ],
   "metadata": {
    "id": "miKBwPy4TQWa"
   }
  },
  {
   "cell_type": "code",
   "source": [
    "# Write your code here\n",
    "from functools import wraps\n",
    "\n",
    "\n",
    "def printer(func):\n",
    "    @wraps(func)\n",
    "    def inner(*args, **kwargs):\n",
    "        return_value = func(*args, **kwargs)\n",
    "        if return_value is not None:\n",
    "            print(return_value)\n",
    "        return return_value\n",
    "\n",
    "    return inner\n",
    "\n",
    "\n",
    "@printer\n",
    "def hello(string):\n",
    "    return string\n",
    "\n",
    "\n",
    "hello('Hello My name is Sajjad')"
   ],
   "metadata": {
    "id": "05s0poRoT9II",
    "ExecuteTime": {
     "end_time": "2024-09-22T22:15:20.544001Z",
     "start_time": "2024-09-22T22:15:20.536681Z"
    }
   },
   "outputs": [
    {
     "name": "stdout",
     "output_type": "stream",
     "text": [
      "Hello My name is Sajjad\n"
     ]
    },
    {
     "data": {
      "text/plain": [
       "'Hello My name is Sajjad'"
      ]
     },
     "execution_count": 23,
     "metadata": {},
     "output_type": "execute_result"
    }
   ],
   "execution_count": 23
  },
  {
   "cell_type": "code",
   "source": [
    "help(hello)\n",
    "# this is below writing the @wraps(func)\n",
    "# This is used to hide the function parameters"
   ],
   "metadata": {
    "colab": {
     "base_uri": "https://localhost:8080/"
    },
    "id": "U86ZE73WT-ux",
    "outputId": "c9ffa235-861c-4e07-fa29-c05d4346a10f",
    "ExecuteTime": {
     "end_time": "2024-09-22T22:15:16.276078Z",
     "start_time": "2024-09-22T22:15:16.271277Z"
    }
   },
   "outputs": [
    {
     "name": "stdout",
     "output_type": "stream",
     "text": [
      "Help on function inner in module __main__:\n",
      "\n",
      "inner(*args, **kwargs)\n",
      "    # @wraps(func)\n",
      "\n"
     ]
    }
   ],
   "execution_count": 22
  },
  {
   "metadata": {
    "ExecuteTime": {
     "end_time": "2024-09-22T22:15:30.075993Z",
     "start_time": "2024-09-22T22:15:30.071597Z"
    }
   },
   "cell_type": "code",
   "source": "help(hello)",
   "outputs": [
    {
     "name": "stdout",
     "output_type": "stream",
     "text": [
      "Help on function hello in module __main__:\n",
      "\n",
      "hello(string)\n",
      "\n"
     ]
    }
   ],
   "execution_count": 24
  },
  {
   "cell_type": "markdown",
   "source": [
    "### `Q9:` Make a decorator which calls a given function twice. You can assume the functions don't return anything important, but they may take arguments.\n",
    "```\n",
    "#Lets say given function\n",
    "def hello(string):\n",
    "    print(string)\n",
    "\n",
    "#on calling after specified decorator is inplaced\n",
    "hello('hello')\n",
    "```\n",
    "\n",
    "Output:\n",
    "```\n",
    "hello\n",
    "hello\n",
    "```"
   ],
   "metadata": {
    "id": "DWJLjPOnURua"
   }
  },
  {
   "cell_type": "code",
   "source": [
    "#Write your cod here\n",
    "from functools import wraps\n",
    "\n",
    "\n",
    "def double_call(func):\n",
    "    @wraps(func)\n",
    "    def wrapper(*args, **kwargs):\n",
    "        func(*args, **kwargs)\n",
    "        func(*args, **kwargs)\n",
    "\n",
    "    return wrapper\n",
    "\n",
    "\n",
    "@double_call\n",
    "def hello(string):\n",
    "    print(string)\n",
    "\n",
    "\n",
    "hello('Hello bro')"
   ],
   "metadata": {
    "id": "e38y0cz7UTdD",
    "ExecuteTime": {
     "end_time": "2024-09-22T22:22:51.106097Z",
     "start_time": "2024-09-22T22:22:51.099376Z"
    }
   },
   "outputs": [
    {
     "name": "stdout",
     "output_type": "stream",
     "text": [
      "Hello bro\n",
      "Hello bro\n"
     ]
    }
   ],
   "execution_count": 33
  },
  {
   "cell_type": "code",
   "source": "help(hello)",
   "metadata": {
    "colab": {
     "base_uri": "https://localhost:8080/"
    },
    "id": "6uLp_cHcUVXR",
    "outputId": "ec5be948-1f60-49a6-a691-3aaba8b54c99",
    "ExecuteTime": {
     "end_time": "2024-09-22T22:22:22.772602Z",
     "start_time": "2024-09-22T22:22:22.768069Z"
    }
   },
   "outputs": [
    {
     "name": "stdout",
     "output_type": "stream",
     "text": [
      "Help on function hello in module __main__:\n",
      "\n",
      "hello(string)\n",
      "\n"
     ]
    }
   ],
   "execution_count": 32
  },
  {
   "cell_type": "code",
   "source": [],
   "metadata": {
    "id": "wgkWUsJhUnQx"
   },
   "execution_count": null,
   "outputs": []
  },
  {
   "cell_type": "markdown",
   "source": [
    "### `Q10:` Write a decorator which doubles the return value of any function. And test that decoratos is working correctly or not using `asert`.\n",
    "\n",
    "```\n",
    "add(2,3) -> result in 10. Without decorator it should be 5.\n",
    "```"
   ],
   "metadata": {
    "id": "8btcQI9pWi2w"
   }
  },
  {
   "cell_type": "code",
   "source": [
    "# Write your code here\n",
    "assert 1 == 1"
   ],
   "metadata": {
    "id": "nG6S_zQ9XFb3",
    "ExecuteTime": {
     "end_time": "2024-09-22T22:26:08.959483Z",
     "start_time": "2024-09-22T22:26:08.955261Z"
    }
   },
   "outputs": [],
   "execution_count": 34
  },
  {
   "cell_type": "code",
   "source": "assert 2 == 1",
   "metadata": {
    "id": "s16-A_RpXp2K",
    "ExecuteTime": {
     "end_time": "2024-09-22T22:26:23.516402Z",
     "start_time": "2024-09-22T22:26:23.500268Z"
    }
   },
   "outputs": [
    {
     "ename": "AssertionError",
     "evalue": "",
     "output_type": "error",
     "traceback": [
      "\u001B[1;31m---------------------------------------------------------------------------\u001B[0m",
      "\u001B[1;31mAssertionError\u001B[0m                            Traceback (most recent call last)",
      "Cell \u001B[1;32mIn[35], line 1\u001B[0m\n\u001B[1;32m----> 1\u001B[0m \u001B[38;5;28;01massert\u001B[39;00m \u001B[38;5;241m2\u001B[39m \u001B[38;5;241m==\u001B[39m \u001B[38;5;241m1\u001B[39m\n",
      "\u001B[1;31mAssertionError\u001B[0m: "
     ]
    }
   ],
   "execution_count": 35
  },
  {
   "metadata": {
    "ExecuteTime": {
     "end_time": "2024-09-22T22:31:45.434209Z",
     "start_time": "2024-09-22T22:31:45.428429Z"
    }
   },
   "cell_type": "code",
   "source": [
    "def double(func):\n",
    "    @wraps(func)\n",
    "    def wrapper(*args, **kwargs):\n",
    "        return func(*args, **kwargs) * 2\n",
    "\n",
    "    return wrapper\n",
    "\n",
    "\n",
    "@double\n",
    "def add_withDeco(a, b):\n",
    "    return a + b\n",
    "\n",
    "\n",
    "def add(a, b):\n",
    "    return a + b\n",
    "\n",
    "\n",
    "a = 2\n",
    "b = 3\n",
    "assert add(a, b) * 2 == add_withDeco(a, b), \"Values are not matching\"\n",
    "print('Values are matching')"
   ],
   "outputs": [
    {
     "name": "stdout",
     "output_type": "stream",
     "text": [
      "Values are matching\n"
     ]
    }
   ],
   "execution_count": 38
  },
  {
   "metadata": {
    "ExecuteTime": {
     "end_time": "2024-09-22T22:32:30.501649Z",
     "start_time": "2024-09-22T22:32:30.485815Z"
    }
   },
   "cell_type": "code",
   "source": [
    "assert add(a, b) == add_withDeco(a, b), \"Values are not matching\"\n",
    "print('Values are matching')"
   ],
   "outputs": [
    {
     "ename": "AssertionError",
     "evalue": "Values are not matching",
     "output_type": "error",
     "traceback": [
      "\u001B[1;31m---------------------------------------------------------------------------\u001B[0m",
      "\u001B[1;31mAssertionError\u001B[0m                            Traceback (most recent call last)",
      "Cell \u001B[1;32mIn[39], line 1\u001B[0m\n\u001B[1;32m----> 1\u001B[0m \u001B[38;5;28;01massert\u001B[39;00m add(a, b) \u001B[38;5;241m==\u001B[39m add_withDeco(a, b), \u001B[38;5;124m\"\u001B[39m\u001B[38;5;124mValues are not matching\u001B[39m\u001B[38;5;124m\"\u001B[39m\n\u001B[0;32m      2\u001B[0m \u001B[38;5;28mprint\u001B[39m(\u001B[38;5;124m'\u001B[39m\u001B[38;5;124mValues are matching\u001B[39m\u001B[38;5;124m'\u001B[39m)\n",
      "\u001B[1;31mAssertionError\u001B[0m: Values are not matching"
     ]
    }
   ],
   "execution_count": 39
  },
  {
   "metadata": {},
   "cell_type": "code",
   "outputs": [],
   "execution_count": null,
   "source": ""
  }
 ]
}
