{
 "cells": [
  {
   "metadata": {},
   "cell_type": "markdown",
   "source": [
    "# Tuples\n",
    "\n",
    "A tuple in Python is similar to a list. The difference between the two is that we cannot change the elements of a tuple once it is assigned whereas we can change the elements of a list.\n",
    "\n",
    "In short, a tuple is an immutable list. A tuple can not be changed in any way once it is created.\n",
    "\n",
    "Characterstics\n",
    "\n",
    "- Ordered\n",
    "- Unchangeble\n",
    "- Allows duplicate"
   ],
   "id": "ceea6af12da847fb"
  },
  {
   "metadata": {},
   "cell_type": "markdown",
   "source": [
    "### Plan of attack\n",
    "\n",
    "- Creating a Tuple\n",
    "- Accessing items\n",
    "- Editing items\n",
    "- Adding items\n",
    "- Deleting items\n",
    "- Operations on Tuples\n",
    "- Tuple Functions"
   ],
   "id": "e92c49add673eac6"
  },
  {
   "metadata": {
    "ExecuteTime": {
     "end_time": "2024-08-30T22:51:26.226374Z",
     "start_time": "2024-08-30T22:51:26.221546Z"
    }
   },
   "cell_type": "code",
   "source": [
    "import random\n",
    "\n",
    "# Creating tuple\n",
    "t1 = ()\n",
    "print(t1)\n",
    "\n",
    "# Create a tuple with single item\n",
    "t2 = ('Hello',)\n",
    "print(t2)\n",
    "print(type(t2))\n",
    "\n",
    "# Homo \n",
    "t3 = (1, 3, 4, 5)\n",
    "print(t3)\n",
    "\n",
    "# Hetero\n",
    "t4 = (1, 4, 6, 6, True, [9, 87, 3],)\n",
    "print(t4)\n",
    "\n",
    "# 2D tuple \n",
    "t5 = (1, 2, 3, (4, 5),)\n",
    "print(t5)\n",
    "\n",
    "# Using type conversion\n",
    "t6 = tuple('Jello')\n",
    "print(t6)"
   ],
   "id": "15ed2bed1ca39877",
   "outputs": [
    {
     "name": "stdout",
     "output_type": "stream",
     "text": [
      "()\n",
      "('Hello',)\n",
      "<class 'tuple'>\n",
      "(1, 3, 4, 5)\n",
      "(1, 4, 6, 6, True, [9, 87, 3])\n",
      "(1, 2, 3, (4, 5))\n",
      "('J', 'e', 'l', 'l', 'o')\n"
     ]
    }
   ],
   "execution_count": 10
  },
  {
   "metadata": {},
   "cell_type": "code",
   "outputs": [],
   "execution_count": null,
   "source": [
    "# Accessing items\n",
    "# indexing \n",
    "# slicing\n"
   ],
   "id": "fdd4797adc3cf395"
  },
  {
   "metadata": {},
   "cell_type": "markdown",
   "source": [
    "# Sets\n",
    "\n",
    "A set is an unordered collection of items. Every set element is unique (no duplicates) and must be immutable (cannot be changed).\n",
    "\n",
    "However, a set itself is mutable. We can add or remove items from it.\n",
    "\n",
    "Sets can also be used to perform mathematical set operations like union, intersection, symmetric difference, etc.\n",
    "\n",
    "Characterstics:\n",
    "- Unordered\n",
    "- Mutable\n",
    "- No Duplicates\n",
    "- Can't contain mutable data types"
   ],
   "id": "d568c31e62484034"
  },
  {
   "metadata": {
    "ExecuteTime": {
     "end_time": "2024-08-30T22:59:23.062596Z",
     "start_time": "2024-08-30T22:59:23.058993Z"
    }
   },
   "cell_type": "code",
   "source": [
    "# Empty \n",
    "s = {}\n",
    "print(type(s))\n",
    "\n",
    "# Hence we can only create it with \n",
    "s1 = set()\n",
    "print(type(s1))"
   ],
   "id": "75af9bc04d781e7b",
   "outputs": [
    {
     "name": "stdout",
     "output_type": "stream",
     "text": [
      "<class 'dict'>\n",
      "<class 'set'>\n"
     ]
    }
   ],
   "execution_count": 12
  },
  {
   "metadata": {
    "ExecuteTime": {
     "end_time": "2024-08-30T22:59:55.149Z",
     "start_time": "2024-08-30T22:59:55.146164Z"
    }
   },
   "cell_type": "code",
   "source": [
    "# 1D and 2D\n",
    "s2 = {1, 2, 3}\n",
    "print(s2)"
   ],
   "id": "8e8750d0a6b8c3b4",
   "outputs": [
    {
     "name": "stdout",
     "output_type": "stream",
     "text": [
      "{1, 2, 3}\n"
     ]
    }
   ],
   "execution_count": 14
  },
  {
   "metadata": {
    "ExecuteTime": {
     "end_time": "2024-08-30T23:00:22.086801Z",
     "start_time": "2024-08-30T23:00:21.902933Z"
    }
   },
   "cell_type": "code",
   "source": [
    "# 2D set not possible\n",
    "s3 = {2, 3, 4, {4, 5}}"
   ],
   "id": "237f04d84fb13904",
   "outputs": [
    {
     "ename": "TypeError",
     "evalue": "unhashable type: 'set'",
     "output_type": "error",
     "traceback": [
      "\u001B[1;31m---------------------------------------------------------------------------\u001B[0m",
      "\u001B[1;31mTypeError\u001B[0m                                 Traceback (most recent call last)",
      "Cell \u001B[1;32mIn[15], line 2\u001B[0m\n\u001B[0;32m      1\u001B[0m \u001B[38;5;66;03m# 2D set not possible\u001B[39;00m\n\u001B[1;32m----> 2\u001B[0m s3 \u001B[38;5;241m=\u001B[39m {\u001B[38;5;241m2\u001B[39m, \u001B[38;5;241m3\u001B[39m, \u001B[38;5;241m4\u001B[39m, {\u001B[38;5;241m4\u001B[39m, \u001B[38;5;241m5\u001B[39m}}\n",
      "\u001B[1;31mTypeError\u001B[0m: unhashable type: 'set'"
     ]
    }
   ],
   "execution_count": 15
  },
  {
   "metadata": {
    "ExecuteTime": {
     "end_time": "2024-08-30T23:01:55.428603Z",
     "start_time": "2024-08-30T23:01:55.425723Z"
    }
   },
   "cell_type": "code",
   "source": [
    "# Heterogeneous\n",
    "s4 = {1, 'Hello', 'Uo', True, (4, 5, 6)}\n",
    "print(s4)\n",
    "# Python treats True as 1, that is why it is not showing"
   ],
   "id": "f30b229f6338eac9",
   "outputs": [
    {
     "name": "stdout",
     "output_type": "stream",
     "text": [
      "{'Uo', 1, 'Hello', (4, 5, 6)}\n"
     ]
    }
   ],
   "execution_count": 19
  },
  {
   "metadata": {
    "ExecuteTime": {
     "end_time": "2024-08-30T23:02:47.991979Z",
     "start_time": "2024-08-30T23:02:47.988456Z"
    }
   },
   "cell_type": "code",
   "source": [
    "s5 = set([5, 6])\n",
    "print(s5)"
   ],
   "id": "2deb92dab4fc6586",
   "outputs": [
    {
     "name": "stdout",
     "output_type": "stream",
     "text": [
      "{5, 6}\n"
     ]
    }
   ],
   "execution_count": 21
  },
  {
   "metadata": {
    "ExecuteTime": {
     "end_time": "2024-08-30T23:04:18.513776Z",
     "start_time": "2024-08-30T23:04:18.509886Z"
    }
   },
   "cell_type": "code",
   "source": [
    " # Adding items\n",
    "\n",
    "S = {3, 4, 5}\n",
    "S.add('s')\n",
    "print(S)"
   ],
   "id": "1932322a87256451",
   "outputs": [
    {
     "name": "stdout",
     "output_type": "stream",
     "text": [
      "{3, 4, 5, 's'}\n"
     ]
    }
   ],
   "execution_count": 23
  },
  {
   "metadata": {
    "ExecuteTime": {
     "end_time": "2024-08-30T23:05:19.065588Z",
     "start_time": "2024-08-30T23:05:19.062439Z"
    }
   },
   "cell_type": "code",
   "source": [
    "S.update((6, 7, 5, 0, 1))\n",
    "print(S)"
   ],
   "id": "f760982db4d84a95",
   "outputs": [
    {
     "name": "stdout",
     "output_type": "stream",
     "text": [
      "{0, 1, 3, 4, 5, 's', 6, 7}\n"
     ]
    }
   ],
   "execution_count": 27
  },
  {
   "metadata": {
    "ExecuteTime": {
     "end_time": "2024-08-30T23:06:13.497205Z",
     "start_time": "2024-08-30T23:06:13.494041Z"
    }
   },
   "cell_type": "code",
   "source": [
    "# Deleting\n",
    "# discard\n",
    "print(S)\n",
    "S.discard(5)\n",
    "print(S)\n",
    "# Discard does not through an error when not found\n",
    "# But remove will throw"
   ],
   "id": "559244da6e152aa3",
   "outputs": [
    {
     "name": "stdout",
     "output_type": "stream",
     "text": [
      "{0, 1, 3, 4, 5, 's', 6, 7}\n",
      "{0, 1, 3, 4, 's', 6, 7}\n"
     ]
    }
   ],
   "execution_count": 28
  },
  {
   "metadata": {
    "ExecuteTime": {
     "end_time": "2024-08-30T23:06:46.103681Z",
     "start_time": "2024-08-30T23:06:46.100299Z"
    }
   },
   "cell_type": "code",
   "source": [
    "# remove\n",
    "print(S)\n",
    "S.remove('s')\n",
    "print(S)"
   ],
   "id": "29f9eba12bbef18e",
   "outputs": [
    {
     "name": "stdout",
     "output_type": "stream",
     "text": [
      "{0, 1, 3, 4, 's', 6, 7}\n",
      "{0, 1, 3, 4, 6, 7}\n"
     ]
    }
   ],
   "execution_count": 29
  },
  {
   "metadata": {
    "ExecuteTime": {
     "end_time": "2024-08-30T23:07:41.207767Z",
     "start_time": "2024-08-30T23:07:41.204610Z"
    }
   },
   "cell_type": "code",
   "source": [
    "# pop\n",
    "print(S)\n",
    "value = S.pop()\n",
    "print(value)\n",
    "print(S)"
   ],
   "id": "be027515fd4b52bf",
   "outputs": [
    {
     "name": "stdout",
     "output_type": "stream",
     "text": [
      "{0, 1, 3, 4, 6, 7}\n",
      "0\n",
      "{1, 3, 4, 6, 7}\n"
     ]
    }
   ],
   "execution_count": 30
  },
  {
   "metadata": {
    "ExecuteTime": {
     "end_time": "2024-08-30T23:19:31.504310Z",
     "start_time": "2024-08-30T23:19:31.497749Z"
    }
   },
   "cell_type": "code",
   "source": [
    "# 2D frozen set\n",
    "fs = frozenset([1, 2, 3, frozenset([0, 5])])\n",
    "fs"
   ],
   "id": "8911374bf71a1c4",
   "outputs": [
    {
     "data": {
      "text/plain": [
       "frozenset({1, 2, 3, frozenset({0, 5})})"
      ]
     },
     "execution_count": 31,
     "metadata": {},
     "output_type": "execute_result"
    }
   ],
   "execution_count": 31
  },
  {
   "metadata": {
    "ExecuteTime": {
     "end_time": "2024-08-30T23:20:28.264050Z",
     "start_time": "2024-08-30T23:20:28.260556Z"
    }
   },
   "cell_type": "code",
   "source": [
    "# Set comprehension\n",
    "{i for i in range(1, 11) if i > 5}"
   ],
   "id": "c6756a2306583167",
   "outputs": [
    {
     "data": {
      "text/plain": [
       "{6, 7, 8, 9, 10}"
      ]
     },
     "execution_count": 33,
     "metadata": {},
     "output_type": "execute_result"
    }
   ],
   "execution_count": 33
  },
  {
   "metadata": {},
   "cell_type": "markdown",
   "source": [
    "# Dictionary\n",
    "\n",
    "Dictionary in Python is a collection of keys values, used to store data values like a map, which, unlike other data types which hold only a single value as an element.\n",
    "\n",
    "In some languages it is known as map or assosiative arrays.\n",
    "\n",
    "dict = { 'name' : 'nitish' , 'age' : 33 , 'gender' : 'male' }\n",
    "\n",
    "Characterstics:\n",
    "\n",
    "- Mutable\n",
    "- Indexing has no meaning\n",
    "- keys can't be duplicated\n",
    "- keys can't be mutable items"
   ],
   "id": "d866209260bd004b"
  },
  {
   "metadata": {
    "ExecuteTime": {
     "end_time": "2024-08-30T23:33:49.695350Z",
     "start_time": "2024-08-30T23:33:49.691923Z"
    }
   },
   "cell_type": "code",
   "source": [
    "d = {}\n",
    "print(d)"
   ],
   "id": "f69d92defad59aa0",
   "outputs": [
    {
     "name": "stdout",
     "output_type": "stream",
     "text": [
      "{}\n"
     ]
    }
   ],
   "execution_count": 34
  },
  {
   "metadata": {
    "ExecuteTime": {
     "end_time": "2024-08-30T23:48:58.315014Z",
     "start_time": "2024-08-30T23:48:58.311686Z"
    }
   },
   "cell_type": "code",
   "source": [
    "# 1D dictionary\n",
    "dict1 = {'name': 'Jack',\n",
    "         'gender': 'male',\n",
    "         'age': 26}\n",
    "print(dict1)"
   ],
   "id": "201152c774f0452e",
   "outputs": [
    {
     "name": "stdout",
     "output_type": "stream",
     "text": [
      "{'name': 'Jack', 'gender': 'male', 'age': 26}\n"
     ]
    }
   ],
   "execution_count": 38
  },
  {
   "metadata": {
    "ExecuteTime": {
     "end_time": "2024-08-30T23:48:58.606018Z",
     "start_time": "2024-08-30T23:48:58.602177Z"
    }
   },
   "cell_type": "code",
   "source": "dict1['name']",
   "id": "d8550b9b8f843a3c",
   "outputs": [
    {
     "data": {
      "text/plain": [
       "'Jack'"
      ]
     },
     "execution_count": 39,
     "metadata": {},
     "output_type": "execute_result"
    }
   ],
   "execution_count": 39
  },
  {
   "metadata": {
    "ExecuteTime": {
     "end_time": "2024-08-30T23:49:14.887804Z",
     "start_time": "2024-08-30T23:49:14.882923Z"
    }
   },
   "cell_type": "code",
   "source": "dict1.get('gender')",
   "id": "8ddf2bb4664c668a",
   "outputs": [
    {
     "data": {
      "text/plain": [
       "'male'"
      ]
     },
     "execution_count": 40,
     "metadata": {},
     "output_type": "execute_result"
    }
   ],
   "execution_count": 40
  },
  {
   "metadata": {
    "ExecuteTime": {
     "end_time": "2024-08-30T23:49:57.728017Z",
     "start_time": "2024-08-30T23:49:57.724478Z"
    }
   },
   "cell_type": "code",
   "source": [
    "dict1['class'] = 'CSE'\n",
    "dict1"
   ],
   "id": "8fb0d60939d5a46c",
   "outputs": [
    {
     "data": {
      "text/plain": [
       "{'name': 'Jack', 'gender': 'male', 'age': 26, 'class': 'CSE'}"
      ]
     },
     "execution_count": 41,
     "metadata": {},
     "output_type": "execute_result"
    }
   ],
   "execution_count": 41
  },
  {
   "metadata": {
    "ExecuteTime": {
     "end_time": "2024-08-30T23:50:54.491630Z",
     "start_time": "2024-08-30T23:50:54.488030Z"
    }
   },
   "cell_type": "code",
   "source": [
    "# pop\n",
    "print(dict1)\n",
    "dict1.pop('class')\n",
    "print(dict1)"
   ],
   "id": "cb68aa7a9d6e5bbb",
   "outputs": [
    {
     "name": "stdout",
     "output_type": "stream",
     "text": [
      "{'name': 'Jack', 'gender': 'male', 'age': 26, 'class': 'CSE'}\n",
      "{'name': 'Jack', 'gender': 'male', 'age': 26}\n"
     ]
    }
   ],
   "execution_count": 42
  },
  {
   "metadata": {
    "ExecuteTime": {
     "end_time": "2024-08-30T23:51:19.934100Z",
     "start_time": "2024-08-30T23:51:19.930883Z"
    }
   },
   "cell_type": "code",
   "source": "print(dict1.popitem())",
   "id": "ad04604e78742a55",
   "outputs": [
    {
     "name": "stdout",
     "output_type": "stream",
     "text": [
      "('age', 26)\n"
     ]
    }
   ],
   "execution_count": 43
  },
  {
   "metadata": {
    "ExecuteTime": {
     "end_time": "2024-08-30T23:51:45.856153Z",
     "start_time": "2024-08-30T23:51:45.852351Z"
    }
   },
   "cell_type": "code",
   "source": [
    "print(dict1)\n",
    "del dict1['name']\n",
    "print(dict1)"
   ],
   "id": "d3faf05215dcb300",
   "outputs": [
    {
     "name": "stdout",
     "output_type": "stream",
     "text": [
      "{'name': 'Jack', 'gender': 'male'}\n",
      "{'gender': 'male'}\n"
     ]
    }
   ],
   "execution_count": 44
  },
  {
   "metadata": {
    "ExecuteTime": {
     "end_time": "2024-08-31T00:00:33.702721Z",
     "start_time": "2024-08-31T00:00:33.699220Z"
    }
   },
   "cell_type": "code",
   "source": [
    "# Print 1st 10 numbers and their squares\n",
    "{i: i ** 2 for i in range(1, 11)}"
   ],
   "id": "8cd799fa429144e9",
   "outputs": [
    {
     "data": {
      "text/plain": [
       "{1: 1, 2: 4, 3: 9, 4: 16, 5: 25, 6: 36, 7: 49, 8: 64, 9: 81, 10: 100}"
      ]
     },
     "execution_count": 45,
     "metadata": {},
     "output_type": "execute_result"
    }
   ],
   "execution_count": 45
  },
  {
   "metadata": {
    "ExecuteTime": {
     "end_time": "2024-08-31T00:02:44.106418Z",
     "start_time": "2024-08-31T00:02:44.102210Z"
    }
   },
   "cell_type": "code",
   "source": [
    "# Using existing dict\n",
    "distances = {\n",
    "    'delhi': 1000,\n",
    "    'mumbai': 2000,\n",
    "    'bangalore': 3000\n",
    "}\n",
    "print(distances.items(), '\\n')\n",
    "{key: value * 0.85 for (key, value) in distances.items()}"
   ],
   "id": "86e4464656dae4b2",
   "outputs": [
    {
     "name": "stdout",
     "output_type": "stream",
     "text": [
      "dict_items([('delhi', 1000), ('mumbai', 2000), ('bangalore', 3000)]) \n",
      "\n"
     ]
    },
    {
     "data": {
      "text/plain": [
       "{'delhi': 850.0, 'mumbai': 1700.0, 'bangalore': 2550.0}"
      ]
     },
     "execution_count": 47,
     "metadata": {},
     "output_type": "execute_result"
    }
   ],
   "execution_count": 47
  },
  {
   "metadata": {
    "ExecuteTime": {
     "end_time": "2024-08-31T00:10:11.101527Z",
     "start_time": "2024-08-31T00:10:11.096156Z"
    }
   },
   "cell_type": "code",
   "source": [
    "# Using zip\n",
    "import random\n",
    "\n",
    "days = ['Sunday', 'Monday', 'Tuesday', 'Wednesday', 'Thursday', 'Friday', 'Saturday']\n",
    "temp_c = [round(x + random.uniform(30, 38), 2) for x in range(1, 11)]\n",
    "\n",
    "{i: j for (i, j) in zip(days, temp_c)}"
   ],
   "id": "ba53a2bd89276f0d",
   "outputs": [
    {
     "data": {
      "text/plain": [
       "{'Sunday': 31.42,\n",
       " 'Monday': 33.98,\n",
       " 'Tuesday': 34.13,\n",
       " 'Wednesday': 41.87,\n",
       " 'Thursday': 41.75,\n",
       " 'Friday': 42.86,\n",
       " 'Saturday': 38.27}"
      ]
     },
     "execution_count": 56,
     "metadata": {},
     "output_type": "execute_result"
    }
   ],
   "execution_count": 56
  },
  {
   "metadata": {
    "ExecuteTime": {
     "end_time": "2024-08-31T00:09:52.551141Z",
     "start_time": "2024-08-31T00:09:52.547117Z"
    }
   },
   "cell_type": "code",
   "source": [
    "# using if condition\n",
    "products = {'phone': 110, 'laptop': 0, 'charger': 32, 'tablet': 0}\n",
    "{key: value for (key, value) in products.items() if value > 0}"
   ],
   "id": "6989384ce26713fc",
   "outputs": [
    {
     "data": {
      "text/plain": [
       "{'phone': 110, 'charger': 32}"
      ]
     },
     "execution_count": 55,
     "metadata": {},
     "output_type": "execute_result"
    }
   ],
   "execution_count": 55
  },
  {
   "metadata": {
    "ExecuteTime": {
     "end_time": "2024-08-31T00:12:43.981240Z",
     "start_time": "2024-08-31T00:12:43.975854Z"
    }
   },
   "cell_type": "code",
   "source": [
    "# Nested Comprehension\n",
    "to_display = {\n",
    "    2: {1: 2, 2: 4, 3: 6},\n",
    "    3: {1: 3, 2: 6, 3: 9},\n",
    "    4: {1: 4, 2: 8, 3: 12}\n",
    "}\n",
    "\n",
    "# Print tables of number from 2 to 4\n",
    "{i:{j:i*j for j in range(1, 11)} for i in range(2, 5)}"
   ],
   "id": "3b537dca98fc31bc",
   "outputs": [
    {
     "data": {
      "text/plain": [
       "{2: {1: 2, 2: 4, 3: 6, 4: 8, 5: 10, 6: 12, 7: 14, 8: 16, 9: 18, 10: 20},\n",
       " 3: {1: 3, 2: 6, 3: 9, 4: 12, 5: 15, 6: 18, 7: 21, 8: 24, 9: 27, 10: 30},\n",
       " 4: {1: 4, 2: 8, 3: 12, 4: 16, 5: 20, 6: 24, 7: 28, 8: 32, 9: 36, 10: 40}}"
      ]
     },
     "execution_count": 59,
     "metadata": {},
     "output_type": "execute_result"
    }
   ],
   "execution_count": 59
  },
  {
   "metadata": {},
   "cell_type": "code",
   "outputs": [],
   "execution_count": null,
   "source": "",
   "id": "e818f5db143161f0"
  }
 ],
 "metadata": {
  "kernelspec": {
   "display_name": "Python 3",
   "language": "python",
   "name": "python3"
  },
  "language_info": {
   "codemirror_mode": {
    "name": "ipython",
    "version": 2
   },
   "file_extension": ".py",
   "mimetype": "text/x-python",
   "name": "python",
   "nbconvert_exporter": "python",
   "pygments_lexer": "ipython2",
   "version": "2.7.6"
  }
 },
 "nbformat": 4,
 "nbformat_minor": 5
}
