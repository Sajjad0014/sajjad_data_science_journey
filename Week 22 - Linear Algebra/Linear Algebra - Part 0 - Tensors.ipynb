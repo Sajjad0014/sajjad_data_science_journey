{
 "cells": [
  {
   "metadata": {},
   "cell_type": "markdown",
   "source": "# 0D Tensor - Scalar",
   "id": "5e135755efc21825"
  },
  {
   "cell_type": "code",
   "id": "initial_id",
   "metadata": {
    "collapsed": true,
    "ExecuteTime": {
     "end_time": "2024-12-24T02:03:27.625691Z",
     "start_time": "2024-12-24T02:03:27.015248Z"
    }
   },
   "source": [
    "import numpy as np\n",
    "\n",
    "a = np.array(2)\n",
    "a"
   ],
   "outputs": [
    {
     "data": {
      "text/plain": [
       "array(2)"
      ]
     },
     "execution_count": 1,
     "metadata": {},
     "output_type": "execute_result"
    }
   ],
   "execution_count": 1
  },
  {
   "metadata": {
    "ExecuteTime": {
     "end_time": "2024-12-24T02:04:08.344274Z",
     "start_time": "2024-12-24T02:04:08.339819Z"
    }
   },
   "cell_type": "code",
   "source": "a.ndim",
   "id": "96c1d88cb40cf9c7",
   "outputs": [
    {
     "data": {
      "text/plain": [
       "0"
      ]
     },
     "execution_count": 2,
     "metadata": {},
     "output_type": "execute_result"
    }
   ],
   "execution_count": 2
  },
  {
   "metadata": {
    "ExecuteTime": {
     "end_time": "2024-12-24T02:38:31.014847Z",
     "start_time": "2024-12-24T02:38:31.011314Z"
    }
   },
   "cell_type": "code",
   "source": "a.shape",
   "id": "5f76beda7f5ebac2",
   "outputs": [
    {
     "data": {
      "text/plain": [
       "()"
      ]
     },
     "execution_count": 7,
     "metadata": {},
     "output_type": "execute_result"
    }
   ],
   "execution_count": 7
  },
  {
   "metadata": {},
   "cell_type": "markdown",
   "source": [
    "# 1D Tensor - Vector\n",
    "\n",
    "### no. of axes = rank = no. of dim\n",
    "\n",
    "1 = 1 = 1\n"
   ],
   "id": "2416ae1f62188e81"
  },
  {
   "metadata": {
    "ExecuteTime": {
     "end_time": "2024-12-24T02:04:57.876743Z",
     "start_time": "2024-12-24T02:04:57.871549Z"
    }
   },
   "cell_type": "code",
   "source": [
    "arr = np.array([1, 2, 3, 4])\n",
    "arr"
   ],
   "id": "57d8368c2a5e5b",
   "outputs": [
    {
     "data": {
      "text/plain": [
       "array([1, 2, 3, 4])"
      ]
     },
     "execution_count": 3,
     "metadata": {},
     "output_type": "execute_result"
    }
   ],
   "execution_count": 3
  },
  {
   "metadata": {
    "ExecuteTime": {
     "end_time": "2024-12-24T02:05:03.979878Z",
     "start_time": "2024-12-24T02:05:03.975837Z"
    }
   },
   "cell_type": "code",
   "source": "arr.ndim",
   "id": "f301b047ae2a57f1",
   "outputs": [
    {
     "data": {
      "text/plain": [
       "1"
      ]
     },
     "execution_count": 4,
     "metadata": {},
     "output_type": "execute_result"
    }
   ],
   "execution_count": 4
  },
  {
   "metadata": {},
   "cell_type": "markdown",
   "source": [
    "[1, 2, 3, 4] is also 1D Tensor and Vector with 4 Dimension\n",
    "\n",
    "[1, 3] is also 1D Tensor and Vector with 2 Dimension\n",
    "\n"
   ],
   "id": "49e1897e35b6b4b1"
  },
  {
   "metadata": {},
   "cell_type": "markdown",
   "source": [
    "# 2D Tensor - Matrices\n",
    "\n",
    "Collection of vectors"
   ],
   "id": "2dbdba546971fb9"
  },
  {
   "metadata": {
    "ExecuteTime": {
     "end_time": "2024-12-24T02:10:46.398532Z",
     "start_time": "2024-12-24T02:10:46.393578Z"
    }
   },
   "cell_type": "code",
   "source": [
    "mat = np.array([[1, 2, 3], [4, 5, 6], [7, 8, 9]])\n",
    "mat"
   ],
   "id": "4a0cd61416ca7afa",
   "outputs": [
    {
     "data": {
      "text/plain": [
       "array([[1, 2, 3],\n",
       "       [4, 5, 6],\n",
       "       [7, 8, 9]])"
      ]
     },
     "execution_count": 5,
     "metadata": {},
     "output_type": "execute_result"
    }
   ],
   "execution_count": 5
  },
  {
   "metadata": {
    "ExecuteTime": {
     "end_time": "2024-12-24T02:10:50.303172Z",
     "start_time": "2024-12-24T02:10:50.298563Z"
    }
   },
   "cell_type": "code",
   "source": "mat.ndim",
   "id": "fe4ac3886e7b81ef",
   "outputs": [
    {
     "data": {
      "text/plain": [
       "2"
      ]
     },
     "execution_count": 6,
     "metadata": {},
     "output_type": "execute_result"
    }
   ],
   "execution_count": 6
  },
  {
   "metadata": {},
   "cell_type": "markdown",
   "source": [
    "# ND Tensors\n",
    "\n",
    "4 x 3 x 3\n",
    "\n",
    "3D Tensor"
   ],
   "id": "89c5794ee5fec1db"
  },
  {
   "metadata": {},
   "cell_type": "markdown",
   "source": "## Distance from origin -> Euclidean norm",
   "id": "27873cfc6a3954f"
  },
  {
   "metadata": {
    "ExecuteTime": {
     "end_time": "2024-12-24T05:46:53.904077Z",
     "start_time": "2024-12-24T05:46:53.887671Z"
    }
   },
   "cell_type": "code",
   "source": [
    "# Defining an n-dimensional vector A\n",
    "A = np.array([1, 3, 4, 7, 2, 0])\n",
    "\n",
    "# Calculate the Euclidean distance from the origin (L2 norm)\n",
    "distance = np.linalg.norm(A)\n",
    "\n",
    "print('Euclidean distance from the origin: ', distance)"
   ],
   "id": "5afafde307fcea9a",
   "outputs": [
    {
     "name": "stdout",
     "output_type": "stream",
     "text": [
      "Euclidean distance from the origin:  8.888194417315589\n"
     ]
    }
   ],
   "execution_count": 8
  },
  {
   "metadata": {},
   "cell_type": "markdown",
   "source": "# Euclidean Distance",
   "id": "572376aa2524053d"
  },
  {
   "metadata": {
    "ExecuteTime": {
     "end_time": "2024-12-24T05:53:37.502205Z",
     "start_time": "2024-12-24T05:53:37.495893Z"
    }
   },
   "cell_type": "code",
   "source": [
    "# Define two n-dimensional vectors A and B\n",
    "\n",
    "A = np.array([1, 2, 3, 4, 5])\n",
    "B = np.array([6, 7, 8, 9, 10])\n",
    "\n",
    "# Calculate the difference vector\n",
    "difference = A - B\n",
    "\n",
    "difference"
   ],
   "id": "b1c321a97c0f2f1",
   "outputs": [
    {
     "data": {
      "text/plain": [
       "array([-5, -5, -5, -5, -5])"
      ]
     },
     "execution_count": 10,
     "metadata": {},
     "output_type": "execute_result"
    }
   ],
   "execution_count": 10
  },
  {
   "metadata": {
    "ExecuteTime": {
     "end_time": "2024-12-24T05:54:43.754324Z",
     "start_time": "2024-12-24T05:54:43.750639Z"
    }
   },
   "cell_type": "code",
   "source": [
    "# Calculate the Euclidean distance between A and B (L2 norm of the difference)\n",
    "distance = np.linalg.norm(difference)\n",
    "\n",
    "print('Euclidean distance between A and B: ', distance)"
   ],
   "id": "9de0e5be7e5ebf94",
   "outputs": [
    {
     "name": "stdout",
     "output_type": "stream",
     "text": [
      "Euclidean distance between A and B:  11.180339887498949\n"
     ]
    }
   ],
   "execution_count": 11
  },
  {
   "metadata": {},
   "cell_type": "markdown",
   "source": "#### Example of Euclidean distance",
   "id": "4be4b733649ef72d"
  },
  {
   "metadata": {
    "ExecuteTime": {
     "end_time": "2024-12-24T05:58:35.353877Z",
     "start_time": "2024-12-24T05:58:29.159288Z"
    }
   },
   "cell_type": "code",
   "source": [
    "import numpy as np\n",
    "import matplotlib.pyplot as plt\n",
    "from mpl_toolkits.mplot3d import Axes3D\n",
    "from scipy.spatial.distance import euclidean\n",
    "\n",
    "# 1. Generate 5 random 3D vectors\n",
    "vectors = np.random.rand(5, 3)\n",
    "\n",
    "# 2. Assign a random class (0 or 1) to each vector\n",
    "classes = np.random.randint(0, 2, 5)\n",
    "\n",
    "# 3. Plot the vectors on a 3D Matplotlib graph\n",
    "fig = plt.figure()\n",
    "ax = fig.add_subplot(111, projection=\"3d\")\n",
    "\n",
    "for vec, cls in zip(vectors, classes):\n",
    "    ax.quiver(0, 0, 0, vec[0], vec[1], vec[2], color=(\"r\" if cls == 1 else \"b\"))\n",
    "\n",
    "# 4. Get user input for a query point (3D vector)\n",
    "query_vector = np.array(list(map(float, input(\"Enter the query point (3D vector) separated by space: \").split())))\n",
    "\n",
    "# 5. Calculate the distance from the query vector to the 5 vectors and find the nearest neighbor\n",
    "distances = [euclidean(query_vector, vec) for vec in vectors]\n",
    "nearest_neighbor_index = np.argmin(distances)\n",
    "\n",
    "# 6. Output the class of the nearest neighbor\n",
    "print(\"The class of the nearest neighbor is:\", classes[nearest_neighbor_index])\n",
    "\n",
    "# 7. Plot the query vector with a different color\n",
    "ax.quiver(0, 0, 0, query_vector[0], query_vector[1], query_vector[2], color=\"g\")\n",
    "ax.set_xlabel(\"X-axis\")\n",
    "ax.set_ylabel(\"Y-axis\")\n",
    "ax.set_zlabel(\"Z-axis\")\n",
    "\n",
    "plt.show()"
   ],
   "id": "b6ac0411f57820b3",
   "outputs": [
    {
     "name": "stdout",
     "output_type": "stream",
     "text": [
      "The class of the nearest neighbor is: 0\n"
     ]
    },
    {
     "data": {
      "text/plain": [
       "<Figure size 640x480 with 1 Axes>"
      ],
      "image/png": "[encoded data removed]"
     },
     "metadata": {},
     "output_type": "display_data"
    }
   ],
   "execution_count": 12
  },
  {
   "metadata": {},
   "cell_type": "markdown",
   "source": "#### Mean centering",
   "id": "9fcc9a0dd16f5541"
  },
  {
   "metadata": {
    "ExecuteTime": {
     "end_time": "2024-12-24T06:11:27.488954Z",
     "start_time": "2024-12-24T06:11:27.482925Z"
    }
   },
   "cell_type": "code",
   "source": [
    "# Generate random 2D data with 100 points\n",
    "data = np.random.rand(100, 2)\n",
    "\n",
    "data"
   ],
   "id": "3fa68efcd17e47aa",
   "outputs": [
    {
     "data": {
      "text/plain": [
       "array([[0.38400455, 0.32811451],\n",
       "       [0.7717515 , 0.89288924],\n",
       "       [0.1377774 , 0.96060429],\n",
       "       [0.72305207, 0.25235457],\n",
       "       [0.29461868, 0.81463937],\n",
       "       [0.57819985, 0.88091408],\n",
       "       [0.92536023, 0.52090261],\n",
       "       [0.0385503 , 0.52761779],\n",
       "       [0.5410384 , 0.41649545],\n",
       "       [0.59323183, 0.91472656],\n",
       "       [0.75098624, 0.1037708 ],\n",
       "       [0.280273  , 0.38481114],\n",
       "       [0.96838329, 0.04832226],\n",
       "       [0.94159431, 0.71926115],\n",
       "       [0.10989852, 0.52160048],\n",
       "       [0.10168064, 0.7564131 ],\n",
       "       [0.57416591, 0.84076032],\n",
       "       [0.55783498, 0.51977746],\n",
       "       [0.86478739, 0.54718319],\n",
       "       [0.97996524, 0.92970376],\n",
       "       [0.80575589, 0.3545248 ],\n",
       "       [0.50155795, 0.14278926],\n",
       "       [0.64612508, 0.35832039],\n",
       "       [0.74680792, 0.50779937],\n",
       "       [0.33522218, 0.406778  ],\n",
       "       [0.37018733, 0.08007744],\n",
       "       [0.01270817, 0.28310346],\n",
       "       [0.08943042, 0.07309336],\n",
       "       [0.10679934, 0.30419628],\n",
       "       [0.48309214, 0.31900618],\n",
       "       [0.36947734, 0.36904962],\n",
       "       [0.65641927, 0.61936726],\n",
       "       [0.79450962, 0.79150348],\n",
       "       [0.77914484, 0.05061739],\n",
       "       [0.91902488, 0.57629739],\n",
       "       [0.24771394, 0.96771112],\n",
       "       [0.77849853, 0.43262414],\n",
       "       [0.18055279, 0.03076418],\n",
       "       [0.29558698, 0.5385405 ],\n",
       "       [0.29144735, 0.28743583],\n",
       "       [0.54950902, 0.54217823],\n",
       "       [0.35202632, 0.66759214],\n",
       "       [0.06107216, 0.83466604],\n",
       "       [0.66022864, 0.1331939 ],\n",
       "       [0.49157509, 0.63677073],\n",
       "       [0.52022952, 0.95427993],\n",
       "       [0.56702366, 0.28818221],\n",
       "       [0.22420922, 0.29066809],\n",
       "       [0.03698199, 0.65870488],\n",
       "       [0.55621334, 0.54936688],\n",
       "       [0.58943521, 0.73099386],\n",
       "       [0.02639047, 0.76653175],\n",
       "       [0.9776975 , 0.23503364],\n",
       "       [0.74757793, 0.84670486],\n",
       "       [0.34603877, 0.49940307],\n",
       "       [0.99110484, 0.25507655],\n",
       "       [0.49311396, 0.95057527],\n",
       "       [0.93724712, 0.84453041],\n",
       "       [0.58019284, 0.78011341],\n",
       "       [0.52166422, 0.15928632],\n",
       "       [0.60654356, 0.12545879],\n",
       "       [0.02055043, 0.45991864],\n",
       "       [0.57468751, 0.66317678],\n",
       "       [0.23940796, 0.18074648],\n",
       "       [0.1455512 , 0.58158966],\n",
       "       [0.08493634, 0.01655781],\n",
       "       [0.15966441, 0.41732129],\n",
       "       [0.90215193, 0.32542464],\n",
       "       [0.8316068 , 0.87084088],\n",
       "       [0.84756313, 0.43530905],\n",
       "       [0.37821183, 0.50393516],\n",
       "       [0.20332783, 0.34359948],\n",
       "       [0.23278418, 0.81596905],\n",
       "       [0.57605936, 0.21896993],\n",
       "       [0.3118961 , 0.41836888],\n",
       "       [0.91477361, 0.80557827],\n",
       "       [0.36382331, 0.20611187],\n",
       "       [0.72478694, 0.45996202],\n",
       "       [0.02025995, 0.36163335],\n",
       "       [0.27389172, 0.95029106],\n",
       "       [0.12414281, 0.52189083],\n",
       "       [0.69985106, 0.72359416],\n",
       "       [0.14217994, 0.45260899],\n",
       "       [0.4794232 , 0.8989215 ],\n",
       "       [0.79503786, 0.01408981],\n",
       "       [0.13450243, 0.52189163],\n",
       "       [0.90312173, 0.04996702],\n",
       "       [0.95312604, 0.84773295],\n",
       "       [0.02309924, 0.92234406],\n",
       "       [0.5424273 , 0.20840822],\n",
       "       [0.68775378, 0.94585899],\n",
       "       [0.45833832, 0.06811348],\n",
       "       [0.9950339 , 0.11028325],\n",
       "       [0.48542519, 0.12608113],\n",
       "       [0.64317216, 0.50825713],\n",
       "       [0.50147822, 0.36626976],\n",
       "       [0.22858909, 0.81089941],\n",
       "       [0.02692543, 0.83597176],\n",
       "       [0.51079968, 0.42105795],\n",
       "       [0.9497132 , 0.007988  ]])"
      ]
     },
     "execution_count": 13,
     "metadata": {},
     "output_type": "execute_result"
    }
   ],
   "execution_count": 13
  },
  {
   "metadata": {
    "ExecuteTime": {
     "end_time": "2024-12-24T06:13:52.694506Z",
     "start_time": "2024-12-24T06:13:52.564440Z"
    }
   },
   "cell_type": "code",
   "source": [
    "plt.figure(figsize=(12, 6))\n",
    "\n",
    "plt.subplot(1, 2, 1)\n",
    "plt.scatter(data[:, 0], data[:, 1], label='Original Data')\n",
    "plt.xlabel('X axis')\n",
    "plt.ylabel('Y axis')\n",
    "plt.title('Before mean centering')\n",
    "plt.axhline(0, color='black', linewidth=0.5)\n",
    "plt.axvline(0, color='black', linewidth=0.5)\n",
    "plt.legend()"
   ],
   "id": "d1d019dd45605865",
   "outputs": [
    {
     "data": {
      "text/plain": [
       "<matplotlib.legend.Legend at 0x1ac9944cda0>"
      ]
     },
     "execution_count": 15,
     "metadata": {},
     "output_type": "execute_result"
    },
    {
     "data": {
      "text/plain": [
       "<Figure size 1200x600 with 1 Axes>"
      ],
      "image/png": "[encoded data removed]"
     },
     "metadata": {},
     "output_type": "display_data"
    }
   ],
   "execution_count": 15
  },
  {
   "metadata": {
    "ExecuteTime": {
     "end_time": "2024-12-24T06:15:07.846172Z",
     "start_time": "2024-12-24T06:15:07.842155Z"
    }
   },
   "cell_type": "code",
   "source": [
    "# Calculate the mean of the data along each dimension\n",
    "\n",
    "data_mean = np.mean(data, axis=0)\n",
    "print(data_mean)\n",
    "\n",
    "# Perform mean centering\n",
    "centered_data = data - data_mean\n",
    "# print(centered_data)"
   ],
   "id": "ce579f9077794ec5",
   "outputs": [
    {
     "name": "stdout",
     "output_type": "stream",
     "text": [
      "[0.49453367 0.49521307]\n"
     ]
    }
   ],
   "execution_count": 17
  },
  {
   "metadata": {
    "ExecuteTime": {
     "end_time": "2024-12-24T06:17:36.694681Z",
     "start_time": "2024-12-24T06:17:36.587925Z"
    }
   },
   "cell_type": "code",
   "source": [
    "plt.figure(figsize=(12, 6))\n",
    "\n",
    "plt.subplot(1, 2, 1)\n",
    "plt.scatter(centered_data[:, 0], centered_data[:, 1], label='Mean-Centered Data', color='orange')\n",
    "plt.xlabel('X axis')\n",
    "plt.ylabel('Y axis')\n",
    "plt.title('After mean centering')\n",
    "plt.axhline(0, color='black', linewidth=0.5)\n",
    "plt.axvline(0, color='black', linewidth=0.5)\n",
    "plt.legend()"
   ],
   "id": "bbd82b2755647df5",
   "outputs": [
    {
     "data": {
      "text/plain": [
       "<matplotlib.legend.Legend at 0x1ac970d4da0>"
      ]
     },
     "execution_count": 19,
     "metadata": {},
     "output_type": "execute_result"
    },
    {
     "data": {
      "text/plain": [
       "<Figure size 1200x600 with 1 Axes>"
      ],
      "image/png": "[encoded data removed]"
     },
     "metadata": {},
     "output_type": "display_data"
    }
   ],
   "execution_count": 19
  },
  {
   "metadata": {},
   "cell_type": "markdown",
   "source": "### Dot Product",
   "id": "260da85f04025b6a"
  },
  {
   "metadata": {
    "ExecuteTime": {
     "end_time": "2024-12-24T06:33:16.826592Z",
     "start_time": "2024-12-24T06:33:16.823087Z"
    }
   },
   "cell_type": "code",
   "source": [
    "A = np.array([1, 2, 3])\n",
    "B = np.array([4, 5, 6])\n",
    "C = np.array([7, 8, 9])\n",
    "\n",
    "print(np.dot(A, B))\n",
    "print(A@B)"
   ],
   "id": "9f2eaf04b099f59a",
   "outputs": [
    {
     "name": "stdout",
     "output_type": "stream",
     "text": [
      "32\n",
      "32\n"
     ]
    }
   ],
   "execution_count": 22
  },
  {
   "metadata": {
    "ExecuteTime": {
     "end_time": "2024-12-24T06:33:17.538731Z",
     "start_time": "2024-12-24T06:33:17.534882Z"
    }
   },
   "cell_type": "code",
   "source": [
    "# Commutative\n",
    "print(A@B)\n",
    "print(B@A)"
   ],
   "id": "e4cdcce51f3c01ea",
   "outputs": [
    {
     "name": "stdout",
     "output_type": "stream",
     "text": [
      "32\n",
      "32\n"
     ]
    }
   ],
   "execution_count": 23
  },
  {
   "metadata": {
    "ExecuteTime": {
     "end_time": "2024-12-24T06:33:52.464657Z",
     "start_time": "2024-12-24T06:33:52.459475Z"
    }
   },
   "cell_type": "code",
   "source": [
    "# Distributive\n",
    "print(np.dot(A, B + C))\n",
    "print(np.dot(A, B) + np.dot(A, C))"
   ],
   "id": "1ed987fd5faab8e0",
   "outputs": [
    {
     "name": "stdout",
     "output_type": "stream",
     "text": [
      "82\n",
      "82\n"
     ]
    }
   ],
   "execution_count": 24
  },
  {
   "metadata": {},
   "cell_type": "markdown",
   "source": "### Cosine similarity",
   "id": "2af6209bf8d30c45"
  },
  {
   "metadata": {
    "ExecuteTime": {
     "end_time": "2024-12-24T18:04:24.496147Z",
     "start_time": "2024-12-24T18:04:24.470985Z"
    }
   },
   "cell_type": "code",
   "source": [
    "A = np.array([1, 2, 3])\n",
    "B = np.array([-4, -5, -6])\n",
    "C = np.array([5, 5, 5])\n",
    "\n",
    "# Calculate the cosine similarity\n",
    "cosine_similarity = np.dot(A, B) / (np.linalg.norm(A) * np.linalg.norm(B))\n",
    "\n",
    "print('Cosine Similarity between A and B: ', cosine_similarity)\n",
    "\n",
    "# Calculate the cosine similarity\n",
    "cosine_similarity = np.dot(A, C) / (np.linalg.norm(A) * np.linalg.norm(C))\n",
    "\n",
    "print('Cosine Similarity between A and B: ', cosine_similarity)"
   ],
   "id": "51cb97a1ace64803",
   "outputs": [
    {
     "name": "stdout",
     "output_type": "stream",
     "text": [
      "Cosine Similarity between A and B:  -0.9746318461970762\n",
      "Cosine Similarity between A and B:  0.9258200997725513\n"
     ]
    }
   ],
   "execution_count": 25
  },
  {
   "metadata": {},
   "cell_type": "code",
   "outputs": [],
   "execution_count": null,
   "source": "",
   "id": "b4a00960a91f16e4"
  }
 ],
 "metadata": {
  "kernelspec": {
   "display_name": "Python 3",
   "language": "python",
   "name": "python3"
  },
  "language_info": {
   "codemirror_mode": {
    "name": "ipython",
    "version": 2
   },
   "file_extension": ".py",
   "mimetype": "text/x-python",
   "name": "python",
   "nbconvert_exporter": "python",
   "pygments_lexer": "ipython2",
   "version": "2.7.6"
  }
 },
 "nbformat": 4,
 "nbformat_minor": 5
}
