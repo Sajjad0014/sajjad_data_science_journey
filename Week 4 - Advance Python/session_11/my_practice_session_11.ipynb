{
 "cells": [
  {
   "metadata": {},
   "cell_type": "markdown",
   "source": [
    "There are 2 stages where error may happen in a program\n",
    "- During compilation -> Syntax error\n",
    "- During Execution -> Exceptions"
   ],
   "id": "a05ba8c0cce7f782"
  },
  {
   "metadata": {},
   "cell_type": "markdown",
   "source": [
    "# Syntax Error\n",
    "- Something in the program is not written according to the program grammar\n",
    "- Error is raised by the interpreter/compiler\n",
    "- You can solve it by rectifying the program"
   ],
   "id": "2bd4b06342ddec0b"
  },
  {
   "metadata": {
    "ExecuteTime": {
     "end_time": "2024-09-14T02:54:50.674399Z",
     "start_time": "2024-09-14T02:54:50.667257Z"
    }
   },
   "cell_type": "code",
   "source": [
    "# Example of Syntax error\n",
    "print\n",
    "'Hello'\n",
    "\n",
    "# Stacktrace describe the error, then line of error, then file name"
   ],
   "id": "141a1bbffbc48b31",
   "outputs": [
    {
     "ename": "SyntaxError",
     "evalue": "Missing parentheses in call to 'print'. Did you mean print(...)? (3218593113.py, line 2)",
     "output_type": "error",
     "traceback": [
      "\u001B[1;36m  Cell \u001B[1;32mIn[1], line 2\u001B[1;36m\u001B[0m\n\u001B[1;33m    print 'Hello'\u001B[0m\n\u001B[1;37m    ^\u001B[0m\n\u001B[1;31mSyntaxError\u001B[0m\u001B[1;31m:\u001B[0m Missing parentheses in call to 'print'. Did you mean print(...)?\n"
     ]
    }
   ],
   "execution_count": 1
  },
  {
   "metadata": {},
   "cell_type": "markdown",
   "source": [
    "# Other examples of syntax error\n",
    "- Leaving symbols like colon, brackets\n",
    "- Misspelling a keyboard\n",
    "- Incorrect indentation\n",
    "- empty if/else/class/functions"
   ],
   "id": "358c89f8f041dde5"
  },
  {
   "metadata": {
    "ExecuteTime": {
     "end_time": "2024-09-14T02:57:27.807683Z",
     "start_time": "2024-09-14T02:57:27.799727Z"
    }
   },
   "cell_type": "code",
   "source": [
    "if 5 == 10\n",
    "    print('Equal')"
   ],
   "id": "f470552d0cab159",
   "outputs": [
    {
     "ename": "SyntaxError",
     "evalue": "expected ':' (3963597680.py, line 1)",
     "output_type": "error",
     "traceback": [
      "\u001B[1;36m  Cell \u001B[1;32mIn[3], line 1\u001B[1;36m\u001B[0m\n\u001B[1;33m    if 5 == 10\u001B[0m\n\u001B[1;37m              ^\u001B[0m\n\u001B[1;31mSyntaxError\u001B[0m\u001B[1;31m:\u001B[0m expected ':'\n"
     ]
    }
   ],
   "execution_count": 3
  },
  {
   "metadata": {
    "ExecuteTime": {
     "end_time": "2024-09-14T02:57:02.742599Z",
     "start_time": "2024-09-14T02:57:02.734631Z"
    }
   },
   "cell_type": "code",
   "source": [
    "a = 5\n",
    "if a == 3"
   ],
   "id": "1a0aa7a0028825f1",
   "outputs": [
    {
     "ename": "IndentationError",
     "evalue": "unexpected indent (4021255951.py, line 2)",
     "output_type": "error",
     "traceback": [
      "\u001B[1;36m  Cell \u001B[1;32mIn[2], line 2\u001B[1;36m\u001B[0m\n\u001B[1;33m    if a==3\u001B[0m\n\u001B[1;37m    ^\u001B[0m\n\u001B[1;31mIndentationError\u001B[0m\u001B[1;31m:\u001B[0m unexpected indent\n"
     ]
    }
   ],
   "execution_count": 2
  },
  {
   "metadata": {
    "ExecuteTime": {
     "end_time": "2024-09-14T02:58:14.706485Z",
     "start_time": "2024-09-14T02:58:14.377027Z"
    }
   },
   "cell_type": "code",
   "source": [
    "# IndexError\n",
    "# The IndexError is thrown when trying to access an item at an invalid index\n",
    "L = [1, 22]\n",
    "L[5]"
   ],
   "id": "283109045b96d33c",
   "outputs": [
    {
     "ename": "IndexError",
     "evalue": "list index out of range",
     "output_type": "error",
     "traceback": [
      "\u001B[1;31m---------------------------------------------------------------------------\u001B[0m",
      "\u001B[1;31mIndexError\u001B[0m                                Traceback (most recent call last)",
      "Cell \u001B[1;32mIn[4], line 4\u001B[0m\n\u001B[0;32m      1\u001B[0m \u001B[38;5;66;03m# IndexError\u001B[39;00m\n\u001B[0;32m      2\u001B[0m \u001B[38;5;66;03m# The IndexError is thrown when trying to access an item at an invalid index\u001B[39;00m\n\u001B[0;32m      3\u001B[0m L \u001B[38;5;241m=\u001B[39m [\u001B[38;5;241m1\u001B[39m, \u001B[38;5;241m22\u001B[39m]\n\u001B[1;32m----> 4\u001B[0m \u001B[43mL\u001B[49m\u001B[43m[\u001B[49m\u001B[38;5;241;43m5\u001B[39;49m\u001B[43m]\u001B[49m\n",
      "\u001B[1;31mIndexError\u001B[0m: list index out of range"
     ]
    }
   ],
   "execution_count": 4
  },
  {
   "metadata": {
    "ExecuteTime": {
     "end_time": "2024-09-14T02:58:50.263971Z",
     "start_time": "2024-09-14T02:58:50.241088Z"
    }
   },
   "cell_type": "code",
   "source": [
    "# ModuleNotFoundError\n",
    "import mathi\n",
    "\n",
    "math.floor(1.4)"
   ],
   "id": "6682b6f62a20f7ae",
   "outputs": [
    {
     "ename": "ModuleNotFoundError",
     "evalue": "No module named 'mathi'",
     "output_type": "error",
     "traceback": [
      "\u001B[1;31m---------------------------------------------------------------------------\u001B[0m",
      "\u001B[1;31mModuleNotFoundError\u001B[0m                       Traceback (most recent call last)",
      "Cell \u001B[1;32mIn[5], line 2\u001B[0m\n\u001B[0;32m      1\u001B[0m \u001B[38;5;66;03m# ModuleNotFoundError\u001B[39;00m\n\u001B[1;32m----> 2\u001B[0m \u001B[38;5;28;01mimport\u001B[39;00m \u001B[38;5;21;01mmathi\u001B[39;00m\n\u001B[0;32m      3\u001B[0m math\u001B[38;5;241m.\u001B[39mfloor(\u001B[38;5;241m1.4\u001B[39m)\n",
      "\u001B[1;31mModuleNotFoundError\u001B[0m: No module named 'mathi'"
     ]
    }
   ],
   "execution_count": 5
  },
  {
   "metadata": {
    "ExecuteTime": {
     "end_time": "2024-09-14T02:59:27.903752Z",
     "start_time": "2024-09-14T02:59:27.880253Z"
    }
   },
   "cell_type": "code",
   "source": [
    "# KeyError\n",
    "# is thrown when a key is not found\n",
    "d = {\n",
    "    'name': 'sajjad'\n",
    "}\n",
    "\n",
    "d['age']"
   ],
   "id": "663c49c60f57938",
   "outputs": [
    {
     "ename": "KeyError",
     "evalue": "'age'",
     "output_type": "error",
     "traceback": [
      "\u001B[1;31m---------------------------------------------------------------------------\u001B[0m",
      "\u001B[1;31mKeyError\u001B[0m                                  Traceback (most recent call last)",
      "Cell \u001B[1;32mIn[6], line 7\u001B[0m\n\u001B[0;32m      1\u001B[0m \u001B[38;5;66;03m# KeyError\u001B[39;00m\n\u001B[0;32m      2\u001B[0m \u001B[38;5;66;03m# is thrown when a key is not found\u001B[39;00m\n\u001B[0;32m      3\u001B[0m d \u001B[38;5;241m=\u001B[39m {\n\u001B[0;32m      4\u001B[0m     \u001B[38;5;124m'\u001B[39m\u001B[38;5;124mname\u001B[39m\u001B[38;5;124m'\u001B[39m : \u001B[38;5;124m'\u001B[39m\u001B[38;5;124msajjad\u001B[39m\u001B[38;5;124m'\u001B[39m\n\u001B[0;32m      5\u001B[0m }\n\u001B[1;32m----> 7\u001B[0m \u001B[43md\u001B[49m\u001B[43m[\u001B[49m\u001B[38;5;124;43m'\u001B[39;49m\u001B[38;5;124;43mage\u001B[39;49m\u001B[38;5;124;43m'\u001B[39;49m\u001B[43m]\u001B[49m\n",
      "\u001B[1;31mKeyError\u001B[0m: 'age'"
     ]
    }
   ],
   "execution_count": 6
  },
  {
   "metadata": {
    "ExecuteTime": {
     "end_time": "2024-09-14T03:02:50.306972Z",
     "start_time": "2024-09-14T03:02:50.290862Z"
    }
   },
   "cell_type": "code",
   "source": [
    "# TypeError\n",
    "# is thrown when an operation or function is applied to an object of an inappropriate type\n",
    "1 + 'a'"
   ],
   "id": "530a641903ceb7bb",
   "outputs": [
    {
     "ename": "TypeError",
     "evalue": "unsupported operand type(s) for +: 'int' and 'str'",
     "output_type": "error",
     "traceback": [
      "\u001B[1;31m---------------------------------------------------------------------------\u001B[0m",
      "\u001B[1;31mTypeError\u001B[0m                                 Traceback (most recent call last)",
      "Cell \u001B[1;32mIn[11], line 3\u001B[0m\n\u001B[0;32m      1\u001B[0m \u001B[38;5;66;03m# TypeError\u001B[39;00m\n\u001B[0;32m      2\u001B[0m \u001B[38;5;66;03m# is thrown when an operation or function is applied to an object of an inappropriate type\u001B[39;00m\n\u001B[1;32m----> 3\u001B[0m \u001B[38;5;241;43m1\u001B[39;49m\u001B[43m \u001B[49m\u001B[38;5;241;43m+\u001B[39;49m\u001B[43m \u001B[49m\u001B[38;5;124;43m'\u001B[39;49m\u001B[38;5;124;43ma\u001B[39;49m\u001B[38;5;124;43m'\u001B[39;49m\n",
      "\u001B[1;31mTypeError\u001B[0m: unsupported operand type(s) for +: 'int' and 'str'"
     ]
    }
   ],
   "execution_count": 11
  },
  {
   "metadata": {
    "ExecuteTime": {
     "end_time": "2024-09-14T03:01:57.514756Z",
     "start_time": "2024-09-14T03:01:57.496373Z"
    }
   },
   "cell_type": "code",
   "source": [
    "# ValueError\n",
    "# is thrown when a function's argument is of an inappropriate type\n",
    "int('a')"
   ],
   "id": "8038d3cf8789c050",
   "outputs": [
    {
     "ename": "ValueError",
     "evalue": "invalid literal for int() with base 10: 'a'",
     "output_type": "error",
     "traceback": [
      "\u001B[1;31m---------------------------------------------------------------------------\u001B[0m",
      "\u001B[1;31mValueError\u001B[0m                                Traceback (most recent call last)",
      "Cell \u001B[1;32mIn[8], line 3\u001B[0m\n\u001B[0;32m      1\u001B[0m \u001B[38;5;66;03m# ValueError\u001B[39;00m\n\u001B[0;32m      2\u001B[0m \u001B[38;5;66;03m# is thrown when a function's argument is of an inappropriate type\u001B[39;00m\n\u001B[1;32m----> 3\u001B[0m \u001B[38;5;28;43mint\u001B[39;49m\u001B[43m(\u001B[49m\u001B[38;5;124;43m'\u001B[39;49m\u001B[38;5;124;43ma\u001B[39;49m\u001B[38;5;124;43m'\u001B[39;49m\u001B[43m)\u001B[49m\n",
      "\u001B[1;31mValueError\u001B[0m: invalid literal for int() with base 10: 'a'"
     ]
    }
   ],
   "execution_count": 8
  },
  {
   "metadata": {
    "ExecuteTime": {
     "end_time": "2024-09-14T03:03:46.805254Z",
     "start_time": "2024-09-14T03:03:46.770369Z"
    }
   },
   "cell_type": "code",
   "source": [
    "# NameError\n",
    "# The NameError is thrown when an object could not be found\n",
    "print(k)"
   ],
   "id": "766039c22479f3f5",
   "outputs": [
    {
     "ename": "NameError",
     "evalue": "name 'k' is not defined",
     "output_type": "error",
     "traceback": [
      "\u001B[1;31m---------------------------------------------------------------------------\u001B[0m",
      "\u001B[1;31mNameError\u001B[0m                                 Traceback (most recent call last)",
      "Cell \u001B[1;32mIn[12], line 3\u001B[0m\n\u001B[0;32m      1\u001B[0m \u001B[38;5;66;03m# NameError\u001B[39;00m\n\u001B[0;32m      2\u001B[0m \u001B[38;5;66;03m# The NameError is thrown when an object could not be found\u001B[39;00m\n\u001B[1;32m----> 3\u001B[0m \u001B[38;5;28mprint\u001B[39m(\u001B[43mk\u001B[49m)\n",
      "\u001B[1;31mNameError\u001B[0m: name 'k' is not defined"
     ]
    }
   ],
   "execution_count": 12
  },
  {
   "metadata": {
    "ExecuteTime": {
     "end_time": "2024-09-14T03:04:15.540800Z",
     "start_time": "2024-09-14T03:04:15.519388Z"
    }
   },
   "cell_type": "code",
   "source": [
    "# AttributeError\n",
    "L = [1, 4, 6]\n",
    "L.upper()"
   ],
   "id": "20969ccbb90b3a5e",
   "outputs": [
    {
     "ename": "AttributeError",
     "evalue": "'list' object has no attribute 'upper'",
     "output_type": "error",
     "traceback": [
      "\u001B[1;31m---------------------------------------------------------------------------\u001B[0m",
      "\u001B[1;31mAttributeError\u001B[0m                            Traceback (most recent call last)",
      "Cell \u001B[1;32mIn[13], line 3\u001B[0m\n\u001B[0;32m      1\u001B[0m \u001B[38;5;66;03m# AttributeError\u001B[39;00m\n\u001B[0;32m      2\u001B[0m L \u001B[38;5;241m=\u001B[39m [\u001B[38;5;241m1\u001B[39m, \u001B[38;5;241m4\u001B[39m, \u001B[38;5;241m6\u001B[39m]\n\u001B[1;32m----> 3\u001B[0m \u001B[43mL\u001B[49m\u001B[38;5;241;43m.\u001B[39;49m\u001B[43mupper\u001B[49m()\n",
      "\u001B[1;31mAttributeError\u001B[0m: 'list' object has no attribute 'upper'"
     ]
    }
   ],
   "execution_count": 13
  },
  {
   "metadata": {},
   "cell_type": "markdown",
   "source": [
    "# Exceptions\n",
    "If things go wrong during the execution of the program(runtime). It generally happens when something unforeseen has happened\n",
    "- Exceptions are raised by the python runtime\n",
    "- You have to tackle this on the fly\n",
    "\n",
    "## Examples\n",
    "- Memory overflow\n",
    "- Divide by 0 -> Logical error\n",
    "- Database error"
   ],
   "id": "86f42a6761fe1ac5"
  },
  {
   "metadata": {
    "ExecuteTime": {
     "end_time": "2024-09-14T03:12:32.438148Z",
     "start_time": "2024-09-14T03:12:32.432756Z"
    }
   },
   "cell_type": "code",
   "source": [
    "# Why is it important to handle exceptions\n",
    "# How to handle exceptions?\n",
    "# -> Try except block"
   ],
   "id": "6eaca4cc017ef118",
   "outputs": [],
   "execution_count": 14
  },
  {
   "metadata": {
    "ExecuteTime": {
     "end_time": "2024-09-14T03:17:19.028422Z",
     "start_time": "2024-09-14T03:17:19.022255Z"
    }
   },
   "cell_type": "code",
   "source": [
    "# Let's create a file\n",
    "with open('sample.txt', 'w') as f:\n",
    "    f.write('Hey, I am Salman Khan')"
   ],
   "id": "956e0219ea06c96f",
   "outputs": [],
   "execution_count": 15
  },
  {
   "metadata": {
    "ExecuteTime": {
     "end_time": "2024-09-14T03:19:59.724946Z",
     "start_time": "2024-09-14T03:19:59.720044Z"
    }
   },
   "cell_type": "code",
   "source": [
    "# Try catch demo\n",
    "try:\n",
    "    with open('sample1.txt', 'r') as f:\n",
    "        print(f.read())\n",
    "except:\n",
    "    print('Sorry file not found')"
   ],
   "id": "b048ca4221e56c0e",
   "outputs": [
    {
     "name": "stdout",
     "output_type": "stream",
     "text": [
      "Sorry file not found\n"
     ]
    }
   ],
   "execution_count": 20
  },
  {
   "metadata": {
    "ExecuteTime": {
     "end_time": "2024-09-14T03:28:55.513988Z",
     "start_time": "2024-09-14T03:28:55.504402Z"
    }
   },
   "cell_type": "code",
   "source": [
    "# Catching specific exception\n",
    "try:\n",
    "    f = open('sample.txt', 'r')\n",
    "    print(f.read())\n",
    "    # print(5/0)\n",
    "    # print(m)\n",
    "    1 + 'a'\n",
    "    f.close()\n",
    "except FileNotFoundError:\n",
    "    print('File not found')\n",
    "except NameError:\n",
    "    print('Variable Not defined')\n",
    "except ZeroDivisionError:\n",
    "    print(\"Can't Divide by 0\")\n",
    "except Exception as e:\n",
    "    print(e)\n",
    "\n",
    "# Always put the generic message at the end or else it will be triggered first"
   ],
   "id": "63c8a16df967241",
   "outputs": [
    {
     "name": "stdout",
     "output_type": "stream",
     "text": [
      "Hey, I am Salman Khan\n",
      "unsupported operand type(s) for +: 'int' and 'str'\n"
     ]
    }
   ],
   "execution_count": 38
  },
  {
   "metadata": {
    "ExecuteTime": {
     "end_time": "2024-09-14T05:13:44.182494Z",
     "start_time": "2024-09-14T05:13:44.178783Z"
    }
   },
   "cell_type": "code",
   "source": [
    "# else\n",
    "try:\n",
    "    f = open('sample1.txt', 'r')\n",
    "except FileNotFoundError:\n",
    "    print('File nahi mili')\n",
    "except Exception:\n",
    "    print('Kuch to lafda hai')\n",
    "else:\n",
    "    print(f.read())"
   ],
   "id": "2695e6a9c3a64b5d",
   "outputs": [
    {
     "name": "stdout",
     "output_type": "stream",
     "text": [
      "File nahi mili\n"
     ]
    }
   ],
   "execution_count": 40
  },
  {
   "metadata": {
    "ExecuteTime": {
     "end_time": "2024-09-14T05:15:28.991433Z",
     "start_time": "2024-09-14T05:15:28.988051Z"
    }
   },
   "cell_type": "code",
   "source": [
    "# finally\n",
    "try:\n",
    "    f = open('sample.txt', 'r')\n",
    "except FileNotFoundError:\n",
    "    print('File nahi mili')\n",
    "except Exception:\n",
    "    print('Kuch to lafda hai')\n",
    "else:\n",
    "    print(f.read())\n",
    "finally:\n",
    "    print('Ye to print hoga hi')"
   ],
   "id": "987433ac80e21ab0",
   "outputs": [
    {
     "name": "stdout",
     "output_type": "stream",
     "text": [
      "Hey, I am Salman Khan\n",
      "Ye to print hoga hi\n"
     ]
    }
   ],
   "execution_count": 43
  },
  {
   "metadata": {
    "ExecuteTime": {
     "end_time": "2024-09-14T05:19:54.006994Z",
     "start_time": "2024-09-14T05:19:54.004055Z"
    }
   },
   "cell_type": "code",
   "source": [
    "# Raise Exception\n",
    "# In Python programming, exceptions are raised when errors occur at runtime\n",
    "# We can also manually raise exceptions using the raise keywords\n",
    "\n",
    "# We can optionally pass values to the exception to clarify why that exception was raised"
   ],
   "id": "9783c1e372d47e0",
   "outputs": [],
   "execution_count": 44
  },
  {
   "metadata": {
    "ExecuteTime": {
     "end_time": "2024-09-14T05:20:56.836477Z",
     "start_time": "2024-09-14T05:20:56.819364Z"
    }
   },
   "cell_type": "code",
   "source": "raise NameError('Aise hi try kar raha hu')",
   "id": "8b670dcde08a0c93",
   "outputs": [
    {
     "ename": "NameError",
     "evalue": "Aise hi try kar raha hu",
     "output_type": "error",
     "traceback": [
      "\u001B[1;31m---------------------------------------------------------------------------\u001B[0m",
      "\u001B[1;31mNameError\u001B[0m                                 Traceback (most recent call last)",
      "Cell \u001B[1;32mIn[49], line 1\u001B[0m\n\u001B[1;32m----> 1\u001B[0m \u001B[38;5;28;01mraise\u001B[39;00m \u001B[38;5;167;01mNameError\u001B[39;00m(\u001B[38;5;124m'\u001B[39m\u001B[38;5;124mAise hi try kar raha hu\u001B[39m\u001B[38;5;124m'\u001B[39m)\n",
      "\u001B[1;31mNameError\u001B[0m: Aise hi try kar raha hu"
     ]
    }
   ],
   "execution_count": 49
  },
  {
   "metadata": {},
   "cell_type": "code",
   "outputs": [],
   "execution_count": null,
   "source": [
    "# Java\n",
    "# try -> try\n",
    "# except -> catch\n",
    "# raise -> throw"
   ],
   "id": "9b4c5be9ed6fd00c"
  },
  {
   "metadata": {},
   "cell_type": "markdown",
   "source": [
    "\n",
    "![](https://w3.cs.jmu.edu/lam2mo/cs240_2014_08/images/exception_hierarchy.png)"
   ],
   "id": "ddcf13e450791bc3"
  },
  {
   "metadata": {},
   "cell_type": "code",
   "outputs": [
    {
     "name": "stdout",
     "output_type": "stream",
     "text": [
      "Paise nahi hai tere paas\n"
     ]
    }
   ],
   "execution_count": 56,
   "source": [
    "# Create custom exception \n",
    "# exception\n",
    "\n",
    "class NewBank:\n",
    "\n",
    "    def __init__(self, balance):\n",
    "        self.balance = balance\n",
    "\n",
    "    def withdraw(self, amount):\n",
    "        if amount < 0:\n",
    "            raise Exception('Amount cannot be -ve')\n",
    "        if self.balance < amount:\n",
    "            raise Exception('Paise nahi hai tere paas')\n",
    "        self.balance -= amount\n",
    "\n",
    "\n",
    "bank1 = NewBank(10000)\n",
    "try:\n",
    "    bank1.withdraw(15000)\n",
    "except Exception as e:\n",
    "    print(e)\n",
    "else:\n",
    "    print(bank1.balance)"
   ],
   "id": "c2107576174cb7dd"
  },
  {
   "metadata": {
    "ExecuteTime": {
     "end_time": "2024-09-14T05:49:17.962923Z",
     "start_time": "2024-09-14T05:49:17.956521Z"
    }
   },
   "cell_type": "code",
   "source": [
    "class IciciBank:\n",
    "\n",
    "    def __init__(self, balance):\n",
    "        self.balance = balance\n",
    "\n",
    "    def withdraw(self, amount):\n",
    "        if amount < 0:\n",
    "            raise Exception('Amount cannot be -ve')\n",
    "        if self.balance < amount:\n",
    "            raise Exception('Paise nahi hai tere paas')\n",
    "        self.balance -= amount\n",
    "\n",
    "\n",
    "bank_branch_1 = IciciBank(2000)\n",
    "try:\n",
    "    bank_branch_1.withdraw(10000)\n",
    "except Exception as e:\n",
    "    print(e)\n",
    "else:\n",
    "    print(bank_branch_1.balance)"
   ],
   "id": "f6a0f67281cc364",
   "outputs": [
    {
     "name": "stdout",
     "output_type": "stream",
     "text": [
      "Paise nahi hai tere paas\n"
     ]
    }
   ],
   "execution_count": 60
  },
  {
   "metadata": {
    "ExecuteTime": {
     "end_time": "2024-09-14T05:52:00.662440Z",
     "start_time": "2024-09-14T05:52:00.656014Z"
    }
   },
   "cell_type": "code",
   "source": [
    "class MyException(Exception):\n",
    "    def __init__(self, message):\n",
    "        print(message)\n",
    "\n",
    "\n",
    "class IciciBank:\n",
    "\n",
    "    def __init__(self, balance):\n",
    "        self.balance = balance\n",
    "\n",
    "    def withdraw(self, amount):\n",
    "        if amount < 0:\n",
    "            raise MyException('Amount cannot be -ve')\n",
    "        if self.balance < amount:\n",
    "            raise MyException('Paise nahi hai tere paas')\n",
    "        self.balance -= amount\n",
    "\n",
    "\n",
    "bank_branch_1 = IciciBank(2000)\n",
    "try:\n",
    "    bank_branch_1.withdraw(10000)\n",
    "except MyException as e:\n",
    "    pass\n",
    "else:\n",
    "    print(bank_branch_1.balance)"
   ],
   "id": "64c0b27645c6d0bd",
   "outputs": [
    {
     "name": "stdout",
     "output_type": "stream",
     "text": [
      "Paise nahi hai tere paas\n"
     ]
    }
   ],
   "execution_count": 61
  },
  {
   "metadata": {
    "ExecuteTime": {
     "end_time": "2024-09-14T06:05:42.671065Z",
     "start_time": "2024-09-14T06:05:42.661990Z"
    }
   },
   "cell_type": "code",
   "source": [
    "class SecurityError(Exception):\n",
    "\n",
    "    def __init__(self, message):\n",
    "        print(message)\n",
    "\n",
    "    def logout(self):\n",
    "        print('Logout karo sabkuch!!!')\n",
    "\n",
    "\n",
    "class Google:\n",
    "\n",
    "    def __init__(self, name, email, password, device):\n",
    "        self.name = name\n",
    "        self.email = email\n",
    "        self.password = password\n",
    "        self.device = device\n",
    "\n",
    "    def login(self, email, password, device):\n",
    "        if device != self.device:\n",
    "            raise SecurityError('Bhai teri to lag gayi')\n",
    "        if email == self.email and password == self.password:\n",
    "            print('Welcome')\n",
    "        else:\n",
    "            print('Login Error')\n",
    "\n",
    "\n",
    "obj = Google('Sajjad', 'sajju@gmail.com', '1234', 'android')\n",
    "\n",
    "try:\n",
    "    obj.login('sajju@gmail.com', '1234', 'windows')\n",
    "except SecurityError as e:\n",
    "    e.logout()\n",
    "else:\n",
    "    print(obj.name)\n",
    "finally:\n",
    "    print('Database connection closed')"
   ],
   "id": "87623d5f08d77c0b",
   "outputs": [
    {
     "name": "stdout",
     "output_type": "stream",
     "text": [
      "Bhai teri to lag gayi\n",
      "Logout karo sabkuch!!!\n",
      "Database connection closed\n"
     ]
    }
   ],
   "execution_count": 66
  },
  {
   "metadata": {},
   "cell_type": "code",
   "outputs": [],
   "execution_count": null,
   "source": "",
   "id": "9d4da1278e1598f1"
  }
 ],
 "metadata": {
  "kernelspec": {
   "display_name": "Python 3",
   "language": "python",
   "name": "python3"
  },
  "language_info": {
   "codemirror_mode": {
    "name": "ipython",
    "version": 2
   },
   "file_extension": ".py",
   "mimetype": "text/x-python",
   "name": "python",
   "nbconvert_exporter": "python",
   "pygments_lexer": "ipython2",
   "version": "2.7.6"
  }
 },
 "nbformat": 4,
 "nbformat_minor": 5
}
