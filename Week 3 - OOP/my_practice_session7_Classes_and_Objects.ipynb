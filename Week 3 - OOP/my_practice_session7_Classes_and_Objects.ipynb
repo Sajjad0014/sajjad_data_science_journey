{
 "cells": [
  {
   "cell_type": "code",
   "id": "initial_id",
   "metadata": {
    "collapsed": true,
    "ExecuteTime": {
     "end_time": "2024-09-02T23:38:04.174359Z",
     "start_time": "2024-09-02T23:38:03.997483Z"
    }
   },
   "source": [
    "L = [1, 4, 5]\n",
    "L.upper()"
   ],
   "outputs": [
    {
     "ename": "AttributeError",
     "evalue": "'list' object has no attribute 'upper'",
     "output_type": "error",
     "traceback": [
      "\u001B[1;31m---------------------------------------------------------------------------\u001B[0m",
      "\u001B[1;31mAttributeError\u001B[0m                            Traceback (most recent call last)",
      "Cell \u001B[1;32mIn[1], line 2\u001B[0m\n\u001B[0;32m      1\u001B[0m L \u001B[38;5;241m=\u001B[39m [\u001B[38;5;241m1\u001B[39m, \u001B[38;5;241m4\u001B[39m, \u001B[38;5;241m5\u001B[39m]\n\u001B[1;32m----> 2\u001B[0m \u001B[43mL\u001B[49m\u001B[38;5;241;43m.\u001B[39;49m\u001B[43mupper\u001B[49m()\n",
      "\u001B[1;31mAttributeError\u001B[0m: 'list' object has no attribute 'upper'"
     ]
    }
   ],
   "execution_count": 1
  },
  {
   "metadata": {
    "ExecuteTime": {
     "end_time": "2024-09-02T23:38:20.054419Z",
     "start_time": "2024-09-02T23:38:20.036911Z"
    }
   },
   "cell_type": "code",
   "source": [
    "s = 'hello'\n",
    "s.append()"
   ],
   "id": "375261e3e9b4af3e",
   "outputs": [
    {
     "ename": "AttributeError",
     "evalue": "'str' object has no attribute 'append'",
     "output_type": "error",
     "traceback": [
      "\u001B[1;31m---------------------------------------------------------------------------\u001B[0m",
      "\u001B[1;31mAttributeError\u001B[0m                            Traceback (most recent call last)",
      "Cell \u001B[1;32mIn[2], line 2\u001B[0m\n\u001B[0;32m      1\u001B[0m s \u001B[38;5;241m=\u001B[39m \u001B[38;5;124m'\u001B[39m\u001B[38;5;124mhello\u001B[39m\u001B[38;5;124m'\u001B[39m\n\u001B[1;32m----> 2\u001B[0m \u001B[43ms\u001B[49m\u001B[38;5;241;43m.\u001B[39;49m\u001B[43mappend\u001B[49m()\n",
      "\u001B[1;31mAttributeError\u001B[0m: 'str' object has no attribute 'append'"
     ]
    }
   ],
   "execution_count": 2
  },
  {
   "metadata": {},
   "cell_type": "markdown",
   "source": [
    "### Everything in the Python is an **object**\n",
    "\n",
    "Generality to Specificity\n",
    "\n",
    "OOP, is a programming paradigm, helps the users to build their own data types\n",
    "\n",
    "We can build real world applications easily using this OOP\n",
    "\n",
    "## OOP principles\n",
    "- Class\n",
    "- Object\n",
    "- Abstraction\n",
    "- Inheritance\n",
    "- Encapsulation\n",
    "- Polymorphism\n",
    "\n",
    "Class has 2 things\n",
    "- Data or property\n",
    "- Functions or behavior\n",
    "\n",
    "\n",
    "There are 2 types of classes\n",
    "- Builtin classes\n",
    "- User defined classes"
   ],
   "id": "5800353485b4a687"
  },
  {
   "metadata": {
    "ExecuteTime": {
     "end_time": "2024-09-02T23:51:23.695958Z",
     "start_time": "2024-09-02T23:51:23.691659Z"
    }
   },
   "cell_type": "code",
   "source": [
    "L = [1, 2, 3]\n",
    "print(type(L))"
   ],
   "id": "489e1346d797ee2b",
   "outputs": [
    {
     "name": "stdout",
     "output_type": "stream",
     "text": [
      "<class 'list'>\n"
     ]
    }
   ],
   "execution_count": 3
  },
  {
   "metadata": {
    "ExecuteTime": {
     "end_time": "2024-09-02T23:51:29.439055Z",
     "start_time": "2024-09-02T23:51:29.426686Z"
    }
   },
   "cell_type": "code",
   "source": "L.upper()",
   "id": "ca3af9720c62d273",
   "outputs": [
    {
     "ename": "AttributeError",
     "evalue": "'list' object has no attribute 'upper'",
     "output_type": "error",
     "traceback": [
      "\u001B[1;31m---------------------------------------------------------------------------\u001B[0m",
      "\u001B[1;31mAttributeError\u001B[0m                            Traceback (most recent call last)",
      "Cell \u001B[1;32mIn[4], line 1\u001B[0m\n\u001B[1;32m----> 1\u001B[0m \u001B[43mL\u001B[49m\u001B[38;5;241;43m.\u001B[39;49m\u001B[43mupper\u001B[49m()\n",
      "\u001B[1;31mAttributeError\u001B[0m: 'list' object has no attribute 'upper'"
     ]
    }
   ],
   "execution_count": 4
  },
  {
   "metadata": {},
   "cell_type": "code",
   "outputs": [],
   "execution_count": null,
   "source": [
    "# Syntax to create an object\n",
    "# object_name = class_name()\n",
    "\n",
    "# Object literal\n",
    "L = [1, 2, 3]\n",
    "\n",
    "# Basic function calling\n",
    "L1 = list()"
   ],
   "id": "bb221f8921ee06f7"
  },
  {
   "metadata": {},
   "cell_type": "markdown",
   "source": [
    "#### Pascal Case \n",
    " When we combine two words together\n",
    "\n",
    "Ex\n",
    "\n",
    "HelloWorld\n",
    "\n",
    "\n",
    "`Rules` \n",
    "\n",
    "- When you want to make a variable. It should be inside the constructor and should have self."
   ],
   "id": "58f8d08686052ded"
  },
  {
   "metadata": {},
   "cell_type": "markdown",
   "source": "## ATM machine code",
   "id": "ed8abf8ebec557cf"
  },
  {
   "metadata": {
    "ExecuteTime": {
     "end_time": "2024-09-03T01:46:14.721849Z",
     "start_time": "2024-09-03T01:46:14.715200Z"
    }
   },
   "cell_type": "code",
   "source": [
    "class Atm:\n",
    "    # Constructor is a special function -> superpower -> \n",
    "    def __init__(self):\n",
    "        print(id(self))\n",
    "        self.pin = ''\n",
    "        self.balance = 0\n",
    "        # self.menu()\n",
    "\n",
    "    def menu(self):\n",
    "        user_input = input(\"\"\"\n",
    "        Hi! How can I help you?\n",
    "        1. Press 1 to create a pin\n",
    "        2. Press 2 to change pin\n",
    "        3. Press 3 to check balance\n",
    "        4. Press 4 to withdraw\n",
    "        5. Anything else to exit\n",
    "        \"\"\")\n",
    "\n",
    "        if user_input == '1':\n",
    "            self.create_pin()\n",
    "        elif user_input == '2':\n",
    "            self.change_pin()\n",
    "        elif user_input == '3':\n",
    "            self.check_balance()\n",
    "        elif user_input == '4':\n",
    "            self.withdraw()\n",
    "        else:\n",
    "            exit()\n",
    "\n",
    "    def create_pin(self):\n",
    "        user_pin = input('Enter your pin: ')\n",
    "        self.pin = user_pin\n",
    "\n",
    "        user_balance = int(input('Enter Balance: '))\n",
    "        self.balance = user_balance\n",
    "\n",
    "        print('Pin Created Successfully')\n",
    "        self.menu()\n",
    "\n",
    "    def change_pin(self):\n",
    "        old_pin = input('Enter old pin: ')\n",
    "        if old_pin == self.pin:\n",
    "            # Let him change the pin\n",
    "            new_pin = input('Enter New Pin: ')\n",
    "            self.pin = new_pin\n",
    "            print('Pin change successful.')\n",
    "            self.menu()\n",
    "        else:\n",
    "            print('Sorry boss, nai karsakte tumhara')\n",
    "            self.menu()\n",
    "\n",
    "    def check_balance(self):\n",
    "        user_pin = input('Enter your pin: ')\n",
    "        if user_pin == self.pin:\n",
    "            print('Your balance is ', self.balance)\n",
    "        else:\n",
    "            print('Chal nikal yahan se')\n",
    "\n",
    "    def withdraw(self):\n",
    "        user_pin = input('Enter your pin')\n",
    "        if user_pin == self.pin:\n",
    "            withdraw_amount = int(input('How much would you like to withdraw?\\n'))\n",
    "            if withdraw_amount <= self.balance:\n",
    "                self.balance -= withdraw_amount\n",
    "                print('Withdraw success.\\nYour current balance is: ', self.balance)\n",
    "            else:\n",
    "                print('Abe gareeb')\n",
    "        else:\n",
    "            print('Saale chor')\n"
   ],
   "id": "794b8f57bcbe633b",
   "outputs": [],
   "execution_count": 6
  },
  {
   "metadata": {
    "ExecuteTime": {
     "end_time": "2024-09-03T00:39:23.011800Z",
     "start_time": "2024-09-03T00:39:12.815669Z"
    }
   },
   "cell_type": "code",
   "source": "obj = Atm()",
   "id": "8ecbd399007ba61",
   "outputs": [
    {
     "name": "stdout",
     "output_type": "stream",
     "text": [
      "Pin Created Successfully\n",
      "Withdraw success.\n",
      "Your current balance is:  5000\n"
     ]
    }
   ],
   "execution_count": 4
  },
  {
   "metadata": {
    "ExecuteTime": {
     "end_time": "2024-09-03T00:15:54.364620Z",
     "start_time": "2024-09-03T00:15:54.361125Z"
    }
   },
   "cell_type": "code",
   "source": "print(type(obj))",
   "id": "94f2aa573ff8edc4",
   "outputs": [
    {
     "name": "stdout",
     "output_type": "stream",
     "text": [
      "<class '__main__.Atm'>\n"
     ]
    }
   ],
   "execution_count": 11
  },
  {
   "metadata": {},
   "cell_type": "markdown",
   "source": [
    "### Methods and Functions\n",
    "\n",
    "When we create functions inside a class they are called as methods. And the functions are made independently outside the class, they are called functions"
   ],
   "id": "1474c0406a8a7574"
  },
  {
   "metadata": {
    "ExecuteTime": {
     "end_time": "2024-09-03T00:42:03.986278Z",
     "start_time": "2024-09-03T00:42:03.983272Z"
    }
   },
   "cell_type": "code",
   "source": [
    "L = [1, 2, 5]\n",
    "print(len(L))\n",
    "L.append([3, 4])\n",
    "\n",
    "# Here len is the function and append inside the method"
   ],
   "id": "237fa4f16c913dc4",
   "outputs": [
    {
     "name": "stdout",
     "output_type": "stream",
     "text": [
      "3\n"
     ]
    }
   ],
   "execution_count": 5
  },
  {
   "metadata": {},
   "cell_type": "markdown",
   "source": [
    "## Magic Methods\n",
    "a.k.a Dunder methods\n",
    "\n",
    "These are special methods, and every methods has their own superpower\n",
    "\n",
    "They start with 2 underscores and end with 2 underscores\n",
    "\n",
    "Ex - __init__\n"
   ],
   "id": "85adf139a199062c"
  },
  {
   "metadata": {},
   "cell_type": "markdown",
   "source": [
    "### Constructor\n",
    " Constructor is a method, but it is a special method. There is no need to call it once the object is created\n",
    " \n",
    "`Constructor is used to write configuration related task and code, as the control is not in customers hand`\n",
    "\n",
    "God - the programmer\n",
    "\n",
    "Earth - class\n",
    "\n",
    "Humans - objects\n",
    "\n",
    "What is the constructor?\n",
    "\n",
    "`Ans - Death`"
   ],
   "id": "88023d5394425ab5"
  },
  {
   "metadata": {},
   "cell_type": "code",
   "outputs": [],
   "execution_count": null,
   "source": "",
   "id": "4d4f237eadc59ac0"
  },
  {
   "metadata": {},
   "cell_type": "markdown",
   "source": [
    "# SELF\n",
    "self is basically the object itself"
   ],
   "id": "f9defefc21470f62"
  },
  {
   "metadata": {
    "ExecuteTime": {
     "end_time": "2024-09-29T18:05:46.622656Z",
     "start_time": "2024-09-29T18:05:46.619621Z"
    }
   },
   "cell_type": "code",
   "source": [
    "class example_class:\n",
    "    def __init__(self):\n",
    "        print('ID of self: ', id(self))\n",
    "        self.pin = 0\n",
    "        self.var = 10\n",
    "\n",
    "    def function_number_1(self):\n",
    "        pass\n",
    "\n",
    "    def function_number_2():\n",
    "        pass"
   ],
   "id": "ec7be5cbee6c00f8",
   "outputs": [],
   "execution_count": 13
  },
  {
   "metadata": {
    "ExecuteTime": {
     "end_time": "2024-09-29T18:05:46.820022Z",
     "start_time": "2024-09-29T18:05:46.817023Z"
    }
   },
   "cell_type": "code",
   "source": "obj2 = example_class()",
   "id": "3d882bbc3d5e7f11",
   "outputs": [
    {
     "name": "stdout",
     "output_type": "stream",
     "text": [
      "ID of self:  3146362223456\n"
     ]
    }
   ],
   "execution_count": 14
  },
  {
   "metadata": {
    "ExecuteTime": {
     "end_time": "2024-09-29T18:05:47.035376Z",
     "start_time": "2024-09-29T18:05:47.031209Z"
    }
   },
   "cell_type": "code",
   "source": "id(obj2)",
   "id": "319dfc5588c9e150",
   "outputs": [
    {
     "data": {
      "text/plain": [
       "3146362223456"
      ]
     },
     "execution_count": 15,
     "metadata": {},
     "output_type": "execute_result"
    }
   ],
   "execution_count": 15
  },
  {
   "metadata": {},
   "cell_type": "markdown",
   "source": [
    "BEHOLD\n",
    "\n",
    "SELF is Obj2"
   ],
   "id": "c3e61eab2d7efd06"
  },
  {
   "metadata": {
    "ExecuteTime": {
     "end_time": "2024-09-29T18:05:47.532553Z",
     "start_time": "2024-09-29T18:05:47.522156Z"
    }
   },
   "cell_type": "code",
   "source": "obj2.function_number_2()",
   "id": "311f1803e88a4e58",
   "outputs": [
    {
     "ename": "TypeError",
     "evalue": "example_class.function_number_2() takes 0 positional arguments but 1 was given",
     "output_type": "error",
     "traceback": [
      "\u001B[1;31m---------------------------------------------------------------------------\u001B[0m",
      "\u001B[1;31mTypeError\u001B[0m                                 Traceback (most recent call last)",
      "Cell \u001B[1;32mIn[16], line 1\u001B[0m\n\u001B[1;32m----> 1\u001B[0m \u001B[43mobj2\u001B[49m\u001B[38;5;241;43m.\u001B[39;49m\u001B[43mfunction_number_2\u001B[49m\u001B[43m(\u001B[49m\u001B[43m)\u001B[49m\n",
      "\u001B[1;31mTypeError\u001B[0m: example_class.function_number_2() takes 0 positional arguments but 1 was given"
     ]
    }
   ],
   "execution_count": 16
  },
  {
   "metadata": {
    "ExecuteTime": {
     "end_time": "2024-09-03T01:53:07.986843Z",
     "start_time": "2024-09-03T01:53:07.984546Z"
    }
   },
   "cell_type": "code",
   "source": "# ^ Read the error. Although we are not sending any argument. It is saying 1 argument was sent. That was self",
   "id": "471a2473b24101e3",
   "outputs": [],
   "execution_count": 23
  },
  {
   "metadata": {},
   "cell_type": "code",
   "outputs": [],
   "execution_count": 17,
   "source": [
    "# We can call it using the class_name\n",
    "example_class.function_number_2()"
   ],
   "id": "aef291d5babd19e"
  },
  {
   "metadata": {
    "ExecuteTime": {
     "end_time": "2024-09-03T01:56:45.155239Z",
     "start_time": "2024-09-03T01:56:45.152143Z"
    }
   },
   "cell_type": "code",
   "source": [
    "# What if we create multiple objects, will it create multiple self?\n",
    "# Yes\n",
    "\n",
    "obj3 = example_class()\n",
    "obj4 = example_class()"
   ],
   "id": "22aa6b1475906c80",
   "outputs": [
    {
     "name": "stdout",
     "output_type": "stream",
     "text": [
      "ID of self:  1990691764800\n",
      "ID of self:  1990691011040\n"
     ]
    }
   ],
   "execution_count": 27
  },
  {
   "metadata": {},
   "cell_type": "markdown",
   "source": [
    "## Fraction Datatype\n",
    "\n",
    "Our own datatype"
   ],
   "id": "37a29242222cfda6"
  },
  {
   "metadata": {
    "ExecuteTime": {
     "end_time": "2024-09-03T01:55:10.402506Z",
     "start_time": "2024-09-03T01:55:10.398356Z"
    }
   },
   "cell_type": "code",
   "source": "3 / 4 * 1 / 2",
   "id": "5e92f4dc23d1c22f",
   "outputs": [
    {
     "data": {
      "text/plain": [
       "0.375"
      ]
     },
     "execution_count": 25,
     "metadata": {},
     "output_type": "execute_result"
    }
   ],
   "execution_count": 25
  },
  {
   "metadata": {
    "ExecuteTime": {
     "end_time": "2024-09-03T02:13:06.298671Z",
     "start_time": "2024-09-03T02:13:06.295669Z"
    }
   },
   "cell_type": "code",
   "source": [
    "class Fraction:\n",
    "\n",
    "    # Parameterized constructor\n",
    "    def __init__(self, x, y):\n",
    "        self.numerator = x\n",
    "        self.denominator = y"
   ],
   "id": "1cba9a9f2a722de5",
   "outputs": [],
   "execution_count": 63
  },
  {
   "metadata": {
    "ExecuteTime": {
     "end_time": "2024-09-03T02:13:06.779864Z",
     "start_time": "2024-09-03T02:13:06.777872Z"
    }
   },
   "cell_type": "code",
   "source": "fr1 = Fraction(2, 3)",
   "id": "ce912924216b906e",
   "outputs": [],
   "execution_count": 64
  },
  {
   "metadata": {
    "ExecuteTime": {
     "end_time": "2024-09-03T02:13:07.419635Z",
     "start_time": "2024-09-03T02:13:07.416874Z"
    }
   },
   "cell_type": "code",
   "source": "print(type(fr1))",
   "id": "e365dbdcc3998e20",
   "outputs": [
    {
     "name": "stdout",
     "output_type": "stream",
     "text": [
      "<class '__main__.Fraction'>\n"
     ]
    }
   ],
   "execution_count": 65
  },
  {
   "metadata": {
    "ExecuteTime": {
     "end_time": "2024-09-03T02:13:08.178467Z",
     "start_time": "2024-09-03T02:13:08.175121Z"
    }
   },
   "cell_type": "code",
   "source": [
    "print(fr1)\n",
    "# Before defining __str__"
   ],
   "id": "558b2088b5f6482b",
   "outputs": [
    {
     "name": "stdout",
     "output_type": "stream",
     "text": [
      "<__main__.Fraction object at 0x000001CF7E7E4560>\n"
     ]
    }
   ],
   "execution_count": 66
  },
  {
   "metadata": {
    "ExecuteTime": {
     "end_time": "2024-09-03T02:13:14.189865Z",
     "start_time": "2024-09-03T02:13:14.187014Z"
    }
   },
   "cell_type": "code",
   "source": [
    "class Fraction:\n",
    "\n",
    "    # Parameterized constructor\n",
    "    def __init__(self, x, y):\n",
    "        self.numerator = x\n",
    "        self.denominator = y\n",
    "\n",
    "    def __str__(self):\n",
    "        # Will be triggered when print is used\n",
    "        return '{}/{}'.format(self.numerator, self.denominator)"
   ],
   "id": "30902becfaa3f54e",
   "outputs": [],
   "execution_count": 67
  },
  {
   "metadata": {
    "ExecuteTime": {
     "end_time": "2024-09-03T02:13:14.693980Z",
     "start_time": "2024-09-03T02:13:14.691577Z"
    }
   },
   "cell_type": "code",
   "source": "fr1 = Fraction(2, 3)",
   "id": "73b7639a586bf276",
   "outputs": [],
   "execution_count": 68
  },
  {
   "metadata": {
    "ExecuteTime": {
     "end_time": "2024-09-03T02:13:15.186852Z",
     "start_time": "2024-09-03T02:13:15.183043Z"
    }
   },
   "cell_type": "code",
   "source": [
    "# After defining __str__\n",
    "print(fr1)"
   ],
   "id": "c042e2786ae5b183",
   "outputs": [
    {
     "name": "stdout",
     "output_type": "stream",
     "text": [
      "2/3\n"
     ]
    }
   ],
   "execution_count": 69
  },
  {
   "metadata": {
    "ExecuteTime": {
     "end_time": "2024-09-03T02:13:15.811468Z",
     "start_time": "2024-09-03T02:13:15.802010Z"
    }
   },
   "cell_type": "code",
   "source": [
    "fr2 = Fraction()\n",
    "print(fr1 + fr2)"
   ],
   "id": "a2493f87d7fb5cee",
   "outputs": [
    {
     "ename": "TypeError",
     "evalue": "Fraction.__init__() missing 2 required positional arguments: 'x' and 'y'",
     "output_type": "error",
     "traceback": [
      "\u001B[1;31m---------------------------------------------------------------------------\u001B[0m",
      "\u001B[1;31mTypeError\u001B[0m                                 Traceback (most recent call last)",
      "Cell \u001B[1;32mIn[70], line 1\u001B[0m\n\u001B[1;32m----> 1\u001B[0m fr2 \u001B[38;5;241m=\u001B[39m \u001B[43mFraction\u001B[49m\u001B[43m(\u001B[49m\u001B[43m)\u001B[49m\n\u001B[0;32m      2\u001B[0m \u001B[38;5;28mprint\u001B[39m(fr1 \u001B[38;5;241m+\u001B[39m fr2)\n",
      "\u001B[1;31mTypeError\u001B[0m: Fraction.__init__() missing 2 required positional arguments: 'x' and 'y'"
     ]
    }
   ],
   "execution_count": 70
  },
  {
   "metadata": {
    "ExecuteTime": {
     "end_time": "2024-09-03T02:13:16.279982Z",
     "start_time": "2024-09-03T02:13:16.270504Z"
    }
   },
   "cell_type": "code",
   "source": [
    "s1 = {2, 3, 4}\n",
    "s2 = {5, 6, 7}\n",
    "s1 + s2"
   ],
   "id": "b1c4195e88e0f425",
   "outputs": [
    {
     "ename": "TypeError",
     "evalue": "unsupported operand type(s) for +: 'set' and 'set'",
     "output_type": "error",
     "traceback": [
      "\u001B[1;31m---------------------------------------------------------------------------\u001B[0m",
      "\u001B[1;31mTypeError\u001B[0m                                 Traceback (most recent call last)",
      "Cell \u001B[1;32mIn[71], line 3\u001B[0m\n\u001B[0;32m      1\u001B[0m s1 \u001B[38;5;241m=\u001B[39m {\u001B[38;5;241m2\u001B[39m, \u001B[38;5;241m3\u001B[39m, \u001B[38;5;241m4\u001B[39m}\n\u001B[0;32m      2\u001B[0m s2 \u001B[38;5;241m=\u001B[39m {\u001B[38;5;241m5\u001B[39m, \u001B[38;5;241m6\u001B[39m, \u001B[38;5;241m7\u001B[39m}\n\u001B[1;32m----> 3\u001B[0m \u001B[43ms1\u001B[49m\u001B[43m \u001B[49m\u001B[38;5;241;43m+\u001B[39;49m\u001B[43m \u001B[49m\u001B[43ms2\u001B[49m\n",
      "\u001B[1;31mTypeError\u001B[0m: unsupported operand type(s) for +: 'set' and 'set'"
     ]
    }
   ],
   "execution_count": 71
  },
  {
   "metadata": {
    "ExecuteTime": {
     "end_time": "2024-09-03T02:14:45.630750Z",
     "start_time": "2024-09-03T02:14:45.627797Z"
    }
   },
   "cell_type": "code",
   "source": [
    "class Fraction:\n",
    "\n",
    "    # Parameterized constructor\n",
    "    def __init__(self, x, y):\n",
    "        self.numerator = x\n",
    "        self.denominator = y\n",
    "\n",
    "    def __str__(self):\n",
    "        # Will be triggered when print is used\n",
    "        return '{}/{}'.format(self.numerator, self.denominator)\n",
    "\n",
    "    def __add__(self, other):\n",
    "        # Triggered when '+' is used\n",
    "        new_num = (self.numerator * other.denominator) + (other.numerator * self.denominator)\n",
    "        new_den = self.denominator * other.denominator\n",
    "\n",
    "        return '{}/{}'.format(new_num, new_den)"
   ],
   "id": "ea089036875e0ec",
   "outputs": [],
   "execution_count": 77
  },
  {
   "metadata": {
    "ExecuteTime": {
     "end_time": "2024-09-03T02:14:45.998541Z",
     "start_time": "2024-09-03T02:14:45.995615Z"
    }
   },
   "cell_type": "code",
   "source": [
    "fr1 = Fraction(2, 3)\n",
    "fr2 = Fraction(6, 7)\n",
    "print(fr1 + fr2)"
   ],
   "id": "f15ec207f751c96d",
   "outputs": [
    {
     "name": "stdout",
     "output_type": "stream",
     "text": [
      "32/21\n"
     ]
    }
   ],
   "execution_count": 78
  },
  {
   "metadata": {
    "ExecuteTime": {
     "end_time": "2024-09-03T02:14:46.398150Z",
     "start_time": "2024-09-03T02:14:46.388354Z"
    }
   },
   "cell_type": "code",
   "source": "print(fr1 - fr2)",
   "id": "5cca5dd8606d97a3",
   "outputs": [
    {
     "ename": "TypeError",
     "evalue": "unsupported operand type(s) for -: 'Fraction' and 'Fraction'",
     "output_type": "error",
     "traceback": [
      "\u001B[1;31m---------------------------------------------------------------------------\u001B[0m",
      "\u001B[1;31mTypeError\u001B[0m                                 Traceback (most recent call last)",
      "Cell \u001B[1;32mIn[79], line 1\u001B[0m\n\u001B[1;32m----> 1\u001B[0m \u001B[38;5;28mprint\u001B[39m(\u001B[43mfr1\u001B[49m\u001B[43m \u001B[49m\u001B[38;5;241;43m-\u001B[39;49m\u001B[43m \u001B[49m\u001B[43mfr2\u001B[49m)\n",
      "\u001B[1;31mTypeError\u001B[0m: unsupported operand type(s) for -: 'Fraction' and 'Fraction'"
     ]
    }
   ],
   "execution_count": 79
  },
  {
   "metadata": {
    "ExecuteTime": {
     "end_time": "2024-09-03T02:14:47.108229Z",
     "start_time": "2024-09-03T02:14:47.104859Z"
    }
   },
   "cell_type": "code",
   "source": [
    "class Fraction:\n",
    "\n",
    "    # Parameterized constructor\n",
    "    def __init__(self, x, y):\n",
    "        self.numerator = x\n",
    "        self.denominator = y\n",
    "\n",
    "    def __str__(self):\n",
    "        # Will be triggered when print is used\n",
    "        return '{}/{}'.format(self.numerator, self.denominator)\n",
    "\n",
    "    def __add__(self, other):\n",
    "        # Triggered when '+' is used\n",
    "        new_num = (self.numerator * other.denominator) + (other.numerator * self.denominator)\n",
    "        new_den = self.denominator * other.denominator\n",
    "\n",
    "        return '{}/{}'.format(new_num, new_den)\n",
    "\n",
    "    def __sub__(self, other):\n",
    "        # triggered when '-' is used\n",
    "        new_num = (self.numerator * other.denominator) - (other.numerator * self.denominator)\n",
    "        new_den = self.denominator * other.denominator\n",
    "\n",
    "        return '{}/{}'.format(new_num, new_den)"
   ],
   "id": "169157e3df72181f",
   "outputs": [],
   "execution_count": 80
  },
  {
   "metadata": {
    "ExecuteTime": {
     "end_time": "2024-09-03T02:14:47.868516Z",
     "start_time": "2024-09-03T02:14:47.865224Z"
    }
   },
   "cell_type": "code",
   "source": [
    "fr1 = Fraction(2, 3)\n",
    "fr2 = Fraction(6, 7)\n",
    "print(fr1 - fr2)"
   ],
   "id": "18ab3bb0bcac1cc3",
   "outputs": [
    {
     "name": "stdout",
     "output_type": "stream",
     "text": [
      "-4/21\n"
     ]
    }
   ],
   "execution_count": 81
  },
  {
   "metadata": {
    "ExecuteTime": {
     "end_time": "2024-09-03T02:15:09.036059Z",
     "start_time": "2024-09-03T02:15:09.026016Z"
    }
   },
   "cell_type": "code",
   "source": "print(fr1 * fr2)",
   "id": "932657d21f0b17a",
   "outputs": [
    {
     "ename": "TypeError",
     "evalue": "unsupported operand type(s) for *: 'Fraction' and 'Fraction'",
     "output_type": "error",
     "traceback": [
      "\u001B[1;31m---------------------------------------------------------------------------\u001B[0m",
      "\u001B[1;31mTypeError\u001B[0m                                 Traceback (most recent call last)",
      "Cell \u001B[1;32mIn[82], line 1\u001B[0m\n\u001B[1;32m----> 1\u001B[0m \u001B[38;5;28mprint\u001B[39m(\u001B[43mfr1\u001B[49m\u001B[43m \u001B[49m\u001B[38;5;241;43m*\u001B[39;49m\u001B[43m \u001B[49m\u001B[43mfr2\u001B[49m)\n",
      "\u001B[1;31mTypeError\u001B[0m: unsupported operand type(s) for *: 'Fraction' and 'Fraction'"
     ]
    }
   ],
   "execution_count": 82
  },
  {
   "metadata": {
    "ExecuteTime": {
     "end_time": "2024-09-03T02:16:20.187071Z",
     "start_time": "2024-09-03T02:16:20.182523Z"
    }
   },
   "cell_type": "code",
   "source": [
    "class Fraction:\n",
    "\n",
    "    # Parameterized constructor\n",
    "    def __init__(self, x, y):\n",
    "        self.numerator = x\n",
    "        self.denominator = y\n",
    "\n",
    "    def __str__(self):\n",
    "        # Will be triggered when print is used\n",
    "        return '{}/{}'.format(self.numerator, self.denominator)\n",
    "\n",
    "    def __add__(self, other):\n",
    "        # Triggered when '+' is used\n",
    "        new_num = (self.numerator * other.denominator) + (other.numerator * self.denominator)\n",
    "        new_den = self.denominator * other.denominator\n",
    "\n",
    "        return '{}/{}'.format(new_num, new_den)\n",
    "\n",
    "    def __sub__(self, other):\n",
    "        # triggered when '-' is used\n",
    "        new_num = (self.numerator * other.denominator) - (other.numerator * self.denominator)\n",
    "        new_den = self.denominator * other.denominator\n",
    "\n",
    "        return '{}/{}'.format(new_num, new_den)\n",
    "\n",
    "    def __mul__(self, other):\n",
    "        # triggered when '*' is used\n",
    "        new_num = self.numerator * other.numerator\n",
    "        new_den = self.denominator * other.denominator\n",
    "\n",
    "        return '{}/{}'.format(new_num, new_den)"
   ],
   "id": "c2eea281227754f8",
   "outputs": [],
   "execution_count": 83
  },
  {
   "metadata": {
    "ExecuteTime": {
     "end_time": "2024-09-03T02:16:30.730895Z",
     "start_time": "2024-09-03T02:16:30.728478Z"
    }
   },
   "cell_type": "code",
   "source": [
    "fr1 = Fraction(2, 3)\n",
    "fr2 = Fraction(6, 7)\n",
    "print(fr1 * fr2)"
   ],
   "id": "82611a57d61da88a",
   "outputs": [
    {
     "name": "stdout",
     "output_type": "stream",
     "text": [
      "12/21\n"
     ]
    }
   ],
   "execution_count": 84
  },
  {
   "metadata": {
    "ExecuteTime": {
     "end_time": "2024-09-03T02:17:56.397724Z",
     "start_time": "2024-09-03T02:17:56.386775Z"
    }
   },
   "cell_type": "code",
   "source": "print(fr1 / fr2)",
   "id": "a4991ec86f651c1b",
   "outputs": [
    {
     "ename": "TypeError",
     "evalue": "unsupported operand type(s) for /: 'Fraction' and 'Fraction'",
     "output_type": "error",
     "traceback": [
      "\u001B[1;31m---------------------------------------------------------------------------\u001B[0m",
      "\u001B[1;31mTypeError\u001B[0m                                 Traceback (most recent call last)",
      "Cell \u001B[1;32mIn[85], line 1\u001B[0m\n\u001B[1;32m----> 1\u001B[0m \u001B[38;5;28mprint\u001B[39m(\u001B[43mfr1\u001B[49m\u001B[43m \u001B[49m\u001B[38;5;241;43m/\u001B[39;49m\u001B[43m \u001B[49m\u001B[43mfr2\u001B[49m)\n",
      "\u001B[1;31mTypeError\u001B[0m: unsupported operand type(s) for /: 'Fraction' and 'Fraction'"
     ]
    }
   ],
   "execution_count": 85
  },
  {
   "metadata": {
    "ExecuteTime": {
     "end_time": "2024-09-03T02:20:36.921738Z",
     "start_time": "2024-09-03T02:20:36.917622Z"
    }
   },
   "cell_type": "code",
   "source": [
    "class Fraction:\n",
    "\n",
    "    # Parameterized constructor\n",
    "    def __init__(self, x, y):\n",
    "        self.numerator = x\n",
    "        self.denominator = y\n",
    "\n",
    "    def __str__(self):\n",
    "        # Will be triggered when print is used\n",
    "        return '{}/{}'.format(self.numerator, self.denominator)\n",
    "\n",
    "    def __add__(self, other):\n",
    "        # Triggered when '+' is used\n",
    "        new_num = (self.numerator * other.denominator) + (other.numerator * self.denominator)\n",
    "        new_den = self.denominator * other.denominator\n",
    "\n",
    "        return '{}/{}'.format(new_num, new_den)\n",
    "\n",
    "    def __sub__(self, other):\n",
    "        # triggered when '-' is used\n",
    "        new_num = (self.numerator * other.denominator) - (other.numerator * self.denominator)\n",
    "        new_den = self.denominator * other.denominator\n",
    "\n",
    "        return '{}/{}'.format(new_num, new_den)\n",
    "\n",
    "    def __mul__(self, other):\n",
    "        # triggered when '*' is used\n",
    "        new_num = self.numerator * other.numerator\n",
    "        new_den = self.denominator * other.denominator\n",
    "\n",
    "        return '{}/{}'.format(new_num, new_den)\n",
    "\n",
    "    def __truediv__(self, other):\n",
    "        # triggered when '/' is used\n",
    "        new_num = self.numerator * other.denominator\n",
    "        new_den = self.denominator * other.numerator\n",
    "\n",
    "        return '{}/{}'.format(new_num, new_den)\n",
    "\n",
    "    def convert_to_decimal(self):\n",
    "        return self.numerator / self.denominator"
   ],
   "id": "59c14c63d080b3b8",
   "outputs": [],
   "execution_count": 90
  },
  {
   "metadata": {
    "ExecuteTime": {
     "end_time": "2024-09-03T02:20:37.749652Z",
     "start_time": "2024-09-03T02:20:37.746504Z"
    }
   },
   "cell_type": "code",
   "source": [
    "fr1 = Fraction(2, 3)\n",
    "fr2 = Fraction(6, 7)\n",
    "print(fr1 / fr2)"
   ],
   "id": "2f8d25bf235e34",
   "outputs": [
    {
     "name": "stdout",
     "output_type": "stream",
     "text": [
      "14/18\n"
     ]
    }
   ],
   "execution_count": 91
  },
  {
   "metadata": {
    "ExecuteTime": {
     "end_time": "2024-09-03T02:20:38.460952Z",
     "start_time": "2024-09-03T02:20:38.457509Z"
    }
   },
   "cell_type": "code",
   "source": [
    "fr1 = Fraction(2, 3)\n",
    "fr2 = Fraction(6, 7)\n",
    "print(fr1 + fr2)\n",
    "print(fr1 - fr2)\n",
    "print(fr1 * fr2)\n",
    "print(fr1 / fr2)"
   ],
   "id": "1361786f54dfbbd8",
   "outputs": [
    {
     "name": "stdout",
     "output_type": "stream",
     "text": [
      "32/21\n",
      "-4/21\n",
      "12/21\n",
      "14/18\n"
     ]
    }
   ],
   "execution_count": 92
  },
  {
   "metadata": {
    "ExecuteTime": {
     "end_time": "2024-09-03T02:21:28.949399Z",
     "start_time": "2024-09-03T02:21:28.945966Z"
    }
   },
   "cell_type": "code",
   "source": "fr1.convert_to_decimal()",
   "id": "1f7991941c53a4c1",
   "outputs": [
    {
     "data": {
      "text/plain": [
       "0.6666666666666666"
      ]
     },
     "execution_count": 93,
     "metadata": {},
     "output_type": "execute_result"
    }
   ],
   "execution_count": 93
  },
  {
   "metadata": {
    "ExecuteTime": {
     "end_time": "2024-09-03T02:21:39.109582Z",
     "start_time": "2024-09-03T02:21:39.105767Z"
    }
   },
   "cell_type": "code",
   "source": "fr2.convert_to_decimal()",
   "id": "f2905e903acb893f",
   "outputs": [
    {
     "data": {
      "text/plain": [
       "0.8571428571428571"
      ]
     },
     "execution_count": 94,
     "metadata": {},
     "output_type": "execute_result"
    }
   ],
   "execution_count": 94
  },
  {
   "metadata": {},
   "cell_type": "code",
   "outputs": [],
   "execution_count": null,
   "source": "",
   "id": "c65ec6467a558d04"
  }
 ],
 "metadata": {
  "kernelspec": {
   "display_name": "Python 3",
   "language": "python",
   "name": "python3"
  },
  "language_info": {
   "codemirror_mode": {
    "name": "ipython",
    "version": 2
   },
   "file_extension": ".py",
   "mimetype": "text/x-python",
   "name": "python",
   "nbconvert_exporter": "python",
   "pygments_lexer": "ipython2",
   "version": "2.7.6"
  }
 },
 "nbformat": 4,
 "nbformat_minor": 5
}
