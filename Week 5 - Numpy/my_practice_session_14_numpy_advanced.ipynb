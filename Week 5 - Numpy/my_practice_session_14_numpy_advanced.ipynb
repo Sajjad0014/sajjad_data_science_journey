{
 "nbformat": 4,
 "nbformat_minor": 0,
 "metadata": {
  "colab": {
   "provenance": []
  },
  "kernelspec": {
   "name": "python3",
   "display_name": "Python 3 (ipykernel)",
   "language": "python"
  },
  "language_info": {
   "name": "python"
  }
 },
 "cells": [
  {
   "cell_type": "markdown",
   "source": [
    "### Numpy array vs Python lists"
   ],
   "metadata": {
    "id": "exouV4nxLocj"
   }
  },
  {
   "metadata": {
    "ExecuteTime": {
     "end_time": "2024-09-23T04:44:07.183431Z",
     "start_time": "2024-09-23T04:44:05.075644Z"
    }
   },
   "cell_type": "code",
   "source": [
    "# speed\n",
    "# ist\n",
    "a = [i for i in range(10000000)]\n",
    "b = [i for i in range(10000000, 20000000)]\n",
    "\n",
    "c = []\n",
    "\n",
    "import time\n",
    "\n",
    "start = time.time()\n",
    "for i in range(len(a)):\n",
    "    c.append(a[i] + b[i])\n",
    "\n",
    "time_taken_list = time.time() - start\n",
    "print(\"Time taken: \", time_taken_list, ' sec')"
   ],
   "outputs": [
    {
     "name": "stdout",
     "output_type": "stream",
     "text": [
      "Time taken:  1.1933341026306152  sec\n"
     ]
    }
   ],
   "execution_count": 4
  },
  {
   "metadata": {
    "ExecuteTime": {
     "end_time": "2024-09-23T04:44:07.467388Z",
     "start_time": "2024-09-23T04:44:07.184438Z"
    }
   },
   "cell_type": "code",
   "source": [
    "# Now the same in numpy\n",
    "import numpy as np\n",
    "\n",
    "a = np.arange(10000000)\n",
    "b = np.arange(10000000, 20000000)\n",
    "\n",
    "start = time.time()\n",
    "c = a + b\n",
    "\n",
    "time_taken_numpy = time.time() - start\n",
    "print(\"Time taken: \", time_taken_numpy, ' sec')"
   ],
   "outputs": [
    {
     "name": "stdout",
     "output_type": "stream",
     "text": [
      "Time taken:  0.0970461368560791  sec\n"
     ]
    }
   ],
   "execution_count": 5
  },
  {
   "metadata": {
    "ExecuteTime": {
     "end_time": "2024-09-23T04:44:18.763421Z",
     "start_time": "2024-09-23T04:44:18.759399Z"
    }
   },
   "cell_type": "code",
   "source": "print(time_taken_list / time_taken_numpy)",
   "outputs": [
    {
     "name": "stdout",
     "output_type": "stream",
     "text": [
      "12.296564719524568\n"
     ]
    }
   ],
   "execution_count": 6
  },
  {
   "metadata": {},
   "cell_type": "markdown",
   "source": [
    "#### This is because numpy uses c type array, i.e. static array, and it is not a referential array\n",
    "#### While list is a dynamic array. And it is a referential array"
   ]
  },
  {
   "metadata": {
    "ExecuteTime": {
     "end_time": "2024-09-23T04:53:39.670987Z",
     "start_time": "2024-09-23T04:53:39.292178Z"
    }
   },
   "cell_type": "code",
   "source": [
    "# memory\n",
    "a = [i for i in range(10000000)]\n",
    "\n",
    "import sys\n",
    "\n",
    "list_size = sys.getsizeof(a)\n",
    "print(list_size, ' bytes')"
   ],
   "outputs": [
    {
     "name": "stdout",
     "output_type": "stream",
     "text": [
      "89095160  bytes\n"
     ]
    }
   ],
   "execution_count": 16
  },
  {
   "metadata": {
    "ExecuteTime": {
     "end_time": "2024-09-23T04:54:29.953877Z",
     "start_time": "2024-09-23T04:54:29.941860Z"
    }
   },
   "cell_type": "code",
   "source": [
    "a = np.arange(10000000)\n",
    "\n",
    "numpy_size = sys.getsizeof(a)\n",
    "print(numpy_size, ' bytes')\n",
    "\n",
    "print('\\nDividing sizes list/numpy: ', list_size / numpy_size)"
   ],
   "outputs": [
    {
     "name": "stdout",
     "output_type": "stream",
     "text": [
      "40000112  bytes\n",
      "\n",
      "Dividing sizes list/numpy:  2.2273727633562626\n"
     ]
    }
   ],
   "execution_count": 19
  },
  {
   "metadata": {
    "ExecuteTime": {
     "end_time": "2024-09-23T04:54:30.380839Z",
     "start_time": "2024-09-23T04:54:30.369995Z"
    }
   },
   "cell_type": "code",
   "source": [
    "a = np.arange(10000000, dtype=np.int8)\n",
    "\n",
    "numpy_size_int8 = sys.getsizeof(a)\n",
    "print(numpy_size_int8, ' bytes')\n",
    "\n",
    "print('\\nDividing sizes list/numpy: ', list_size / numpy_size_int8)"
   ],
   "outputs": [
    {
     "name": "stdout",
     "output_type": "stream",
     "text": [
      "10000112  bytes\n",
      "\n",
      "Dividing sizes list/numpy:  8.909416214538398\n"
     ]
    }
   ],
   "execution_count": 20
  },
  {
   "metadata": {
    "ExecuteTime": {
     "end_time": "2024-09-23T04:55:44.862229Z",
     "start_time": "2024-09-23T04:55:44.858986Z"
    }
   },
   "cell_type": "code",
   "source": [
    "# If someone asks why numpy is better than list\n",
    "# less memory\n",
    "# less time to execute\n",
    "# convenient"
   ],
   "outputs": [],
   "execution_count": 21
  },
  {
   "cell_type": "markdown",
   "source": [
    "### Advanced Indexing"
   ],
   "metadata": {
    "id": "G7gJ1-8fLLEI"
   }
  },
  {
   "metadata": {
    "ExecuteTime": {
     "end_time": "2024-09-23T04:56:36.849041Z",
     "start_time": "2024-09-23T04:56:36.843981Z"
    }
   },
   "cell_type": "code",
   "source": [
    "# Normal indexing and slicing \n",
    "a = np.arange(12).reshape(4, 3)\n",
    "print(a)"
   ],
   "outputs": [
    {
     "name": "stdout",
     "output_type": "stream",
     "text": [
      "[[ 0  1  2]\n",
      " [ 3  4  5]\n",
      " [ 6  7  8]\n",
      " [ 9 10 11]]\n"
     ]
    }
   ],
   "execution_count": 22
  },
  {
   "metadata": {
    "ExecuteTime": {
     "end_time": "2024-09-23T04:57:18.575967Z",
     "start_time": "2024-09-23T04:57:18.572104Z"
    }
   },
   "cell_type": "code",
   "source": "print(a[1:3, ::2])",
   "outputs": [
    {
     "name": "stdout",
     "output_type": "stream",
     "text": [
      "[[3 5]\n",
      " [6 8]]\n"
     ]
    }
   ],
   "execution_count": 24
  },
  {
   "metadata": {
    "ExecuteTime": {
     "end_time": "2024-09-23T05:23:08.793933Z",
     "start_time": "2024-09-23T05:23:08.790551Z"
    }
   },
   "cell_type": "code",
   "source": [
    "# Fancy indexing\n",
    "print(a)"
   ],
   "outputs": [
    {
     "name": "stdout",
     "output_type": "stream",
     "text": [
      "[[ 0  1  2]\n",
      " [ 3  4  5]\n",
      " [ 6  7  8]\n",
      " [ 9 10 11]]\n"
     ]
    }
   ],
   "execution_count": 25
  },
  {
   "metadata": {
    "ExecuteTime": {
     "end_time": "2024-09-23T05:24:04.540373Z",
     "start_time": "2024-09-23T05:24:04.537633Z"
    }
   },
   "cell_type": "code",
   "source": "print(a[::2])",
   "outputs": [
    {
     "name": "stdout",
     "output_type": "stream",
     "text": [
      "[[0 1 2]\n",
      " [6 7 8]]\n"
     ]
    }
   ],
   "execution_count": 27
  },
  {
   "metadata": {
    "ExecuteTime": {
     "end_time": "2024-09-23T05:24:48.297035Z",
     "start_time": "2024-09-23T05:24:48.292857Z"
    }
   },
   "cell_type": "code",
   "source": [
    "# what if we want 1, 3, 4th rows\n",
    "print(a[[0, 2, 3]])"
   ],
   "outputs": [
    {
     "name": "stdout",
     "output_type": "stream",
     "text": [
      "[[ 0  1  2]\n",
      " [ 6  7  8]\n",
      " [ 9 10 11]]\n"
     ]
    }
   ],
   "execution_count": 29
  },
  {
   "metadata": {
    "ExecuteTime": {
     "end_time": "2024-09-23T05:25:28.247628Z",
     "start_time": "2024-09-23T05:25:28.243922Z"
    }
   },
   "cell_type": "code",
   "source": [
    "a = np.arange(24).reshape(6, 4)\n",
    "print(a)"
   ],
   "outputs": [
    {
     "name": "stdout",
     "output_type": "stream",
     "text": [
      "[[ 0  1  2  3]\n",
      " [ 4  5  6  7]\n",
      " [ 8  9 10 11]\n",
      " [12 13 14 15]\n",
      " [16 17 18 19]\n",
      " [20 21 22 23]]\n"
     ]
    }
   ],
   "execution_count": 30
  },
  {
   "metadata": {
    "ExecuteTime": {
     "end_time": "2024-09-23T05:26:08.217412Z",
     "start_time": "2024-09-23T05:26:08.214765Z"
    }
   },
   "cell_type": "code",
   "source": [
    "# 1, 3, 4, 6 rows\n",
    "print(a[[0, 2, 3, 5]])"
   ],
   "outputs": [
    {
     "name": "stdout",
     "output_type": "stream",
     "text": [
      "[[ 0  1  2  3]\n",
      " [ 8  9 10 11]\n",
      " [12 13 14 15]\n",
      " [20 21 22 23]]\n"
     ]
    }
   ],
   "execution_count": 32
  },
  {
   "metadata": {},
   "cell_type": "code",
   "outputs": [
    {
     "name": "stdout",
     "output_type": "stream",
     "text": [
      "[[ 0  2  3]\n",
      " [ 4  6  7]\n",
      " [ 8 10 11]\n",
      " [12 14 15]\n",
      " [16 18 19]\n",
      " [20 22 23]]\n"
     ]
    }
   ],
   "execution_count": 33,
   "source": [
    "# 1, 3, 4 columns\n",
    "print(a[:, [0, 2, 3]])"
   ]
  },
  {
   "metadata": {
    "ExecuteTime": {
     "end_time": "2024-09-23T05:33:26.835467Z",
     "start_time": "2024-09-23T05:33:26.831671Z"
    }
   },
   "cell_type": "code",
   "source": [
    "# boolean indexing\n",
    "a = np.random.randint(1, 100, 24).reshape(6, 4)\n",
    "print(a)"
   ],
   "outputs": [
    {
     "name": "stdout",
     "output_type": "stream",
     "text": [
      "[[85 94 42 69]\n",
      " [35 87 59 49]\n",
      " [56 57 58 27]\n",
      " [93 93  9 66]\n",
      " [73 32 79 38]\n",
      " [75 59 51 49]]\n"
     ]
    }
   ],
   "execution_count": 69
  },
  {
   "metadata": {
    "ExecuteTime": {
     "end_time": "2024-09-23T05:33:27.140053Z",
     "start_time": "2024-09-23T05:33:27.137249Z"
    }
   },
   "cell_type": "code",
   "source": [
    "# find all numbers greater than 50\n",
    "print(a > 50)"
   ],
   "outputs": [
    {
     "name": "stdout",
     "output_type": "stream",
     "text": [
      "[[ True  True False  True]\n",
      " [False  True  True False]\n",
      " [ True  True  True False]\n",
      " [ True  True False  True]\n",
      " [ True False  True False]\n",
      " [ True  True  True False]]\n"
     ]
    }
   ],
   "execution_count": 70
  },
  {
   "metadata": {
    "ExecuteTime": {
     "end_time": "2024-09-23T05:33:27.477057Z",
     "start_time": "2024-09-23T05:33:27.473562Z"
    }
   },
   "cell_type": "code",
   "source": "print(a[a > 50])",
   "outputs": [
    {
     "name": "stdout",
     "output_type": "stream",
     "text": [
      "[85 94 69 87 59 56 57 58 93 93 66 73 79 75 59 51]\n"
     ]
    }
   ],
   "execution_count": 71
  },
  {
   "metadata": {
    "ExecuteTime": {
     "end_time": "2024-09-23T05:34:17.288711Z",
     "start_time": "2024-09-23T05:34:17.286028Z"
    }
   },
   "cell_type": "code",
   "source": [
    "# find out even numbers\n",
    "print(a & 2 == 0)"
   ],
   "outputs": [
    {
     "name": "stdout",
     "output_type": "stream",
     "text": [
      "[[ True False False  True]\n",
      " [False False False  True]\n",
      " [ True  True False False]\n",
      " [ True  True  True False]\n",
      " [ True  True False False]\n",
      " [False False False  True]]\n"
     ]
    }
   ],
   "execution_count": 73
  },
  {
   "metadata": {
    "ExecuteTime": {
     "end_time": "2024-09-23T05:34:30.051008Z",
     "start_time": "2024-09-23T05:34:30.045747Z"
    }
   },
   "cell_type": "code",
   "source": "print(a[a % 2 == 0])",
   "outputs": [
    {
     "name": "stdout",
     "output_type": "stream",
     "text": [
      "[94 42 56 58 66 32 38]\n"
     ]
    }
   ],
   "execution_count": 74
  },
  {
   "metadata": {
    "ExecuteTime": {
     "end_time": "2024-09-23T05:37:18.635661Z",
     "start_time": "2024-09-23T05:37:18.632442Z"
    }
   },
   "cell_type": "code",
   "source": [
    "# find all numbers greater than 50 and are even\n",
    "# we use &, which is bitwise operator, because we are dealing with boolean values True and False \n",
    "# Rather than 'and', which is a logical AND \n",
    "\n",
    "print((a > 50) & (a % 2 == 0))"
   ],
   "outputs": [
    {
     "name": "stdout",
     "output_type": "stream",
     "text": [
      "[[False  True False False]\n",
      " [False False False False]\n",
      " [ True False  True False]\n",
      " [False False False  True]\n",
      " [False False False False]\n",
      " [False False False False]]\n"
     ]
    }
   ],
   "execution_count": 76
  },
  {
   "metadata": {
    "ExecuteTime": {
     "end_time": "2024-09-23T05:37:43.114688Z",
     "start_time": "2024-09-23T05:37:43.110652Z"
    }
   },
   "cell_type": "code",
   "source": "print(a[(a > 50) & (a % 2 == 0)])",
   "outputs": [
    {
     "name": "stdout",
     "output_type": "stream",
     "text": [
      "[94 56 58 66]\n"
     ]
    }
   ],
   "execution_count": 77
  },
  {
   "metadata": {
    "ExecuteTime": {
     "end_time": "2024-09-23T05:41:20.763355Z",
     "start_time": "2024-09-23T05:41:20.704717Z"
    }
   },
   "cell_type": "code",
   "source": [
    "print(a[(a > 50) and (a % 2 == 0)])\n",
    "# NOT WORKING"
   ],
   "outputs": [
    {
     "ename": "ValueError",
     "evalue": "The truth value of an array with more than one element is ambiguous. Use a.any() or a.all()",
     "output_type": "error",
     "traceback": [
      "\u001B[1;31m---------------------------------------------------------------------------\u001B[0m",
      "\u001B[1;31mValueError\u001B[0m                                Traceback (most recent call last)",
      "Cell \u001B[1;32mIn[81], line 1\u001B[0m\n\u001B[1;32m----> 1\u001B[0m \u001B[38;5;28mprint\u001B[39m(a[\u001B[43m(\u001B[49m\u001B[43ma\u001B[49m\u001B[43m \u001B[49m\u001B[38;5;241;43m>\u001B[39;49m\u001B[43m \u001B[49m\u001B[38;5;241;43m50\u001B[39;49m\u001B[43m)\u001B[49m\u001B[43m \u001B[49m\u001B[38;5;129;43;01mand\u001B[39;49;00m\u001B[43m \u001B[49m\u001B[43m(\u001B[49m\u001B[43ma\u001B[49m\u001B[43m \u001B[49m\u001B[38;5;241;43m%\u001B[39;49m\u001B[43m \u001B[49m\u001B[38;5;241;43m2\u001B[39;49m\u001B[43m \u001B[49m\u001B[38;5;241;43m==\u001B[39;49m\u001B[43m \u001B[49m\u001B[38;5;241;43m0\u001B[39;49m\u001B[43m)\u001B[49m])\n",
      "\u001B[1;31mValueError\u001B[0m: The truth value of an array with more than one element is ambiguous. Use a.any() or a.all()"
     ]
    }
   ],
   "execution_count": 81
  },
  {
   "metadata": {
    "ExecuteTime": {
     "end_time": "2024-09-23T05:40:20.026759Z",
     "start_time": "2024-09-23T05:40:20.022730Z"
    }
   },
   "cell_type": "code",
   "source": [
    "# find all numbers not divisible by 7\n",
    "print(a[~(a % 7 == 0)])\n",
    "print(a[a % 7 != 0])\n",
    "# Both are same"
   ],
   "outputs": [
    {
     "name": "stdout",
     "output_type": "stream",
     "text": [
      "[85 94 69 87 59 57 58 27 93 93  9 66 73 32 79 38 75 59 51]\n",
      "[85 94 69 87 59 57 58 27 93 93  9 66 73 32 79 38 75 59 51]\n"
     ]
    }
   ],
   "execution_count": 80
  },
  {
   "cell_type": "markdown",
   "source": [
    "### Broadcasting\n",
    "\n",
    "The term broadcasting describes how NumPy treats arrays with different shapes during arithmetic operations.\n",
    "\n",
    "The smaller array is “broadcast” across the larger array so that they have compatible shapes."
   ],
   "metadata": {
    "id": "n2UP2iZTLPR5"
   }
  },
  {
   "metadata": {
    "ExecuteTime": {
     "end_time": "2024-09-23T05:46:54.846192Z",
     "start_time": "2024-09-23T05:46:54.841515Z"
    }
   },
   "cell_type": "code",
   "source": [
    "# same shape\n",
    "a = np.arange(6).reshape(2, 3)\n",
    "b = np.arange(6, 12).reshape(2, 3)\n",
    "print(a)\n",
    "print()\n",
    "print(b)\n",
    "print()\n",
    "print(a + b)\n",
    "# Item wise addition"
   ],
   "outputs": [
    {
     "name": "stdout",
     "output_type": "stream",
     "text": [
      "[[0 1 2]\n",
      " [3 4 5]]\n",
      "\n",
      "[[ 6  7  8]\n",
      " [ 9 10 11]]\n",
      "\n",
      "[[ 6  8 10]\n",
      " [12 14 16]]\n"
     ]
    }
   ],
   "execution_count": 85
  },
  {
   "metadata": {
    "ExecuteTime": {
     "end_time": "2024-09-23T05:48:02.124761Z",
     "start_time": "2024-09-23T05:48:02.121043Z"
    }
   },
   "cell_type": "code",
   "source": [
    "a = np.arange(6).reshape(2, 3)\n",
    "b = np.arange(3).reshape(1, 3)\n",
    "\n",
    "print(a)\n",
    "print()\n",
    "print(b)\n",
    "print()\n",
    "print(a + b)\n",
    "# This issue of improper shape is solved by broadcasting"
   ],
   "outputs": [
    {
     "name": "stdout",
     "output_type": "stream",
     "text": [
      "[[0 1 2]\n",
      " [3 4 5]]\n",
      "\n",
      "[[0 1 2]]\n",
      "\n",
      "[[0 2 4]\n",
      " [3 5 7]]\n"
     ]
    }
   ],
   "execution_count": 86
  },
  {
   "metadata": {},
   "cell_type": "markdown",
   "source": [
    "#### Broadcasting Rules\n",
    "\n",
    "**1. Make the two arrays have the same number of dimensions.**<br>\n",
    "- If the numbers of dimensions of the two arrays are different, add new dimensions with size 1 to the head of the array with the smaller dimension.<br>"
   ]
  },
  {
   "metadata": {},
   "cell_type": "markdown",
   "source": [
    "**2. Make each dimension of the two arrays the same size.**<br>\n",
    "- If the sizes of each dimension of the two arrays do not match, dimensions with size 1 are stretched to the size of the other array.\n",
    "- If there is a dimension whose size is not 1 in either of the two arrays, it cannot be broadcasted, and an error is raised."
   ]
  },
  {
   "metadata": {},
   "cell_type": "markdown",
   "source": "![Broadcasting Example](https://jakevdp.github.io/PythonDataScienceHandbook/figures/02.05-broadcasting.png)"
  },
  {
   "metadata": {
    "ExecuteTime": {
     "end_time": "2024-09-23T15:08:09.661038Z",
     "start_time": "2024-09-23T15:08:09.656968Z"
    }
   },
   "cell_type": "code",
   "source": [
    "# More examples\n",
    "a = np.arange(12).reshape(4, 3)\n",
    "b = np.arange(3)\n",
    "\n",
    "print(a)\n",
    "print()\n",
    "print(b)\n",
    "print()\n",
    "print(a + b)"
   ],
   "outputs": [
    {
     "name": "stdout",
     "output_type": "stream",
     "text": [
      "[[ 0  1  2]\n",
      " [ 3  4  5]\n",
      " [ 6  7  8]\n",
      " [ 9 10 11]]\n",
      "\n",
      "[0 1 2]\n",
      "\n",
      "[[ 0  2  4]\n",
      " [ 3  5  7]\n",
      " [ 6  8 10]\n",
      " [ 9 11 13]]\n"
     ]
    }
   ],
   "execution_count": 89
  },
  {
   "metadata": {
    "ExecuteTime": {
     "end_time": "2024-09-23T15:09:23.630988Z",
     "start_time": "2024-09-23T15:09:23.613003Z"
    }
   },
   "cell_type": "code",
   "source": [
    "a = np.arange(12).reshape(3, 4)\n",
    "b = np.arange(3)\n",
    "\n",
    "print(a)\n",
    "print()\n",
    "print(b)\n",
    "print()\n",
    "print(a + b)"
   ],
   "outputs": [
    {
     "name": "stdout",
     "output_type": "stream",
     "text": [
      "[[ 0  1  2  3]\n",
      " [ 4  5  6  7]\n",
      " [ 8  9 10 11]]\n",
      "\n",
      "[0 1 2]\n",
      "\n"
     ]
    },
    {
     "ename": "ValueError",
     "evalue": "operands could not be broadcast together with shapes (3,4) (3,) ",
     "output_type": "error",
     "traceback": [
      "\u001B[1;31m---------------------------------------------------------------------------\u001B[0m",
      "\u001B[1;31mValueError\u001B[0m                                Traceback (most recent call last)",
      "Cell \u001B[1;32mIn[90], line 8\u001B[0m\n\u001B[0;32m      6\u001B[0m \u001B[38;5;28mprint\u001B[39m(b)\n\u001B[0;32m      7\u001B[0m \u001B[38;5;28mprint\u001B[39m()\n\u001B[1;32m----> 8\u001B[0m \u001B[38;5;28mprint\u001B[39m(\u001B[43ma\u001B[49m\u001B[43m \u001B[49m\u001B[38;5;241;43m+\u001B[39;49m\u001B[43m \u001B[49m\u001B[43mb\u001B[49m)\n",
      "\u001B[1;31mValueError\u001B[0m: operands could not be broadcast together with shapes (3,4) (3,) "
     ]
    }
   ],
   "execution_count": 90
  },
  {
   "metadata": {
    "ExecuteTime": {
     "end_time": "2024-09-23T15:10:19.027248Z",
     "start_time": "2024-09-23T15:10:19.022842Z"
    }
   },
   "cell_type": "code",
   "source": [
    "a = np.arange(3).reshape(1, 3)\n",
    "b = np.arange(3).reshape(3, 1)\n",
    "\n",
    "print(a)\n",
    "print()\n",
    "print(b)\n",
    "print()\n",
    "print(a + b)"
   ],
   "outputs": [
    {
     "name": "stdout",
     "output_type": "stream",
     "text": [
      "[[0 1 2]]\n",
      "\n",
      "[[0]\n",
      " [1]\n",
      " [2]]\n",
      "\n",
      "[[0 1 2]\n",
      " [1 2 3]\n",
      " [2 3 4]]\n"
     ]
    }
   ],
   "execution_count": 91
  },
  {
   "metadata": {
    "ExecuteTime": {
     "end_time": "2024-09-23T15:12:13.148328Z",
     "start_time": "2024-09-23T15:12:13.143274Z"
    }
   },
   "cell_type": "code",
   "source": [
    "a = np.arange(3).reshape(1, 3)\n",
    "b = np.arange(4).reshape(4, 1)\n",
    "\n",
    "print(a)\n",
    "print()\n",
    "print(b)\n",
    "print()\n",
    "print(a + b)"
   ],
   "outputs": [
    {
     "name": "stdout",
     "output_type": "stream",
     "text": [
      "[[0 1 2]]\n",
      "\n",
      "[[0]\n",
      " [1]\n",
      " [2]\n",
      " [3]]\n",
      "\n",
      "[[0 1 2]\n",
      " [1 2 3]\n",
      " [2 3 4]\n",
      " [3 4 5]]\n"
     ]
    }
   ],
   "execution_count": 93
  },
  {
   "metadata": {
    "ExecuteTime": {
     "end_time": "2024-09-23T15:15:01.670327Z",
     "start_time": "2024-09-23T15:15:01.665681Z"
    }
   },
   "cell_type": "code",
   "source": [
    "a = np.array([1])\n",
    "# shape --> (1, 1)\n",
    "b = np.arange(4).reshape(2, 2)\n",
    "# shape --> (2, 2)\n",
    "\n",
    "print(a)\n",
    "print()\n",
    "print(b)\n",
    "print()\n",
    "print(a + b)"
   ],
   "outputs": [
    {
     "name": "stdout",
     "output_type": "stream",
     "text": [
      "[1]\n",
      "\n",
      "[[0 1]\n",
      " [2 3]]\n",
      "\n",
      "[[1 2]\n",
      " [3 4]]\n"
     ]
    }
   ],
   "execution_count": 95
  },
  {
   "metadata": {
    "ExecuteTime": {
     "end_time": "2024-09-23T15:15:36.848020Z",
     "start_time": "2024-09-23T15:15:36.830009Z"
    }
   },
   "cell_type": "code",
   "source": [
    "a = np.arange(12).reshape(3, 4)\n",
    "b = np.arange(12).reshape(4, 3)\n",
    "\n",
    "print(a)\n",
    "print()\n",
    "print(b)\n",
    "print()\n",
    "print(a + b)"
   ],
   "outputs": [
    {
     "name": "stdout",
     "output_type": "stream",
     "text": [
      "[[ 0  1  2  3]\n",
      " [ 4  5  6  7]\n",
      " [ 8  9 10 11]]\n",
      "\n",
      "[[ 0  1  2]\n",
      " [ 3  4  5]\n",
      " [ 6  7  8]\n",
      " [ 9 10 11]]\n",
      "\n"
     ]
    },
    {
     "ename": "ValueError",
     "evalue": "operands could not be broadcast together with shapes (3,4) (4,3) ",
     "output_type": "error",
     "traceback": [
      "\u001B[1;31m---------------------------------------------------------------------------\u001B[0m",
      "\u001B[1;31mValueError\u001B[0m                                Traceback (most recent call last)",
      "Cell \u001B[1;32mIn[96], line 8\u001B[0m\n\u001B[0;32m      6\u001B[0m \u001B[38;5;28mprint\u001B[39m(b)\n\u001B[0;32m      7\u001B[0m \u001B[38;5;28mprint\u001B[39m()\n\u001B[1;32m----> 8\u001B[0m \u001B[38;5;28mprint\u001B[39m(\u001B[43ma\u001B[49m\u001B[43m \u001B[49m\u001B[38;5;241;43m+\u001B[39;49m\u001B[43m \u001B[49m\u001B[43mb\u001B[49m)\n",
      "\u001B[1;31mValueError\u001B[0m: operands could not be broadcast together with shapes (3,4) (4,3) "
     ]
    }
   ],
   "execution_count": 96
  },
  {
   "metadata": {
    "ExecuteTime": {
     "end_time": "2024-09-23T15:17:39.892180Z",
     "start_time": "2024-09-23T15:17:39.877464Z"
    }
   },
   "cell_type": "code",
   "source": [
    "a = np.arange(16).reshape(4, 4)\n",
    "b = np.arange(4).reshape(2, 2)\n",
    "\n",
    "print(a)\n",
    "print()\n",
    "print(b)\n",
    "print()\n",
    "print(a + b)"
   ],
   "outputs": [
    {
     "name": "stdout",
     "output_type": "stream",
     "text": [
      "[[ 0  1  2  3]\n",
      " [ 4  5  6  7]\n",
      " [ 8  9 10 11]\n",
      " [12 13 14 15]]\n",
      "\n",
      "[[0 1]\n",
      " [2 3]]\n",
      "\n"
     ]
    },
    {
     "ename": "ValueError",
     "evalue": "operands could not be broadcast together with shapes (4,4) (2,2) ",
     "output_type": "error",
     "traceback": [
      "\u001B[1;31m---------------------------------------------------------------------------\u001B[0m",
      "\u001B[1;31mValueError\u001B[0m                                Traceback (most recent call last)",
      "Cell \u001B[1;32mIn[97], line 8\u001B[0m\n\u001B[0;32m      6\u001B[0m \u001B[38;5;28mprint\u001B[39m(b)\n\u001B[0;32m      7\u001B[0m \u001B[38;5;28mprint\u001B[39m()\n\u001B[1;32m----> 8\u001B[0m \u001B[38;5;28mprint\u001B[39m(\u001B[43ma\u001B[49m\u001B[43m \u001B[49m\u001B[38;5;241;43m+\u001B[39;49m\u001B[43m \u001B[49m\u001B[43mb\u001B[49m)\n",
      "\u001B[1;31mValueError\u001B[0m: operands could not be broadcast together with shapes (4,4) (2,2) "
     ]
    }
   ],
   "execution_count": 97
  },
  {
   "metadata": {},
   "cell_type": "markdown",
   "source": "### Working with mathematical formulas"
  },
  {
   "metadata": {
    "ExecuteTime": {
     "end_time": "2024-09-23T15:24:25.453209Z",
     "start_time": "2024-09-23T15:24:25.448367Z"
    }
   },
   "cell_type": "code",
   "source": [
    "a = np.arange(10)\n",
    "print(a, '\\n')\n",
    "np.sum(a)"
   ],
   "outputs": [
    {
     "name": "stdout",
     "output_type": "stream",
     "text": [
      "[0 1 2 3 4 5 6 7 8 9] \n",
      "\n"
     ]
    },
    {
     "data": {
      "text/plain": [
       "45"
      ]
     },
     "execution_count": 100,
     "metadata": {},
     "output_type": "execute_result"
    }
   ],
   "execution_count": 100
  },
  {
   "metadata": {
    "ExecuteTime": {
     "end_time": "2024-09-23T15:24:44.710418Z",
     "start_time": "2024-09-23T15:24:44.705469Z"
    }
   },
   "cell_type": "code",
   "source": [
    "print(np.sin(a))\n",
    "# These are the most common ones, that is why they are available as built in"
   ],
   "outputs": [
    {
     "name": "stdout",
     "output_type": "stream",
     "text": [
      "[ 0.          0.84147098  0.90929743  0.14112001 -0.7568025  -0.95892427\n",
      " -0.2794155   0.6569866   0.98935825  0.41211849]\n"
     ]
    }
   ],
   "execution_count": 101
  },
  {
   "metadata": {
    "ExecuteTime": {
     "end_time": "2024-09-23T15:29:53.676879Z",
     "start_time": "2024-09-23T15:29:53.672281Z"
    }
   },
   "cell_type": "code",
   "source": [
    "# sigmoid from logistic regression\n",
    "def sigmoid(array):\n",
    "    return 1 / (1 + np.exp(-array))\n",
    "\n",
    "\n",
    "a = np.arange(10)\n",
    "sigmoid(a)"
   ],
   "outputs": [
    {
     "data": {
      "text/plain": [
       "array([0.5       , 0.73105858, 0.88079708, 0.95257413, 0.98201379,\n",
       "       0.99330715, 0.99752738, 0.99908895, 0.99966465, 0.99987661])"
      ]
     },
     "execution_count": 104,
     "metadata": {},
     "output_type": "execute_result"
    }
   ],
   "execution_count": 104
  },
  {
   "metadata": {
    "ExecuteTime": {
     "end_time": "2024-09-23T15:37:46.189598Z",
     "start_time": "2024-09-23T15:37:46.185714Z"
    }
   },
   "cell_type": "code",
   "source": [
    "# mean squared error\n",
    "actual = np.random.randint(1, 50, 25)\n",
    "predicted = np.random.randint(1, 50, 25)\n",
    "\n",
    "print(actual)\n",
    "print(predicted)"
   ],
   "outputs": [
    {
     "name": "stdout",
     "output_type": "stream",
     "text": [
      "[30 43 43 24 35  7 37 29  7 41 21 48 28 11 28 49  8 46  6 30 15 24  4 43\n",
      " 44]\n",
      "[46 43 27 38 26 14 29 44  3 27  3 37  6 16 42 39 24 36 32 42  7 28 12 17\n",
      " 31]\n"
     ]
    }
   ],
   "execution_count": 116
  },
  {
   "metadata": {
    "ExecuteTime": {
     "end_time": "2024-09-23T15:38:06.102400Z",
     "start_time": "2024-09-23T15:38:06.097280Z"
    }
   },
   "cell_type": "code",
   "source": "actual - predicted",
   "outputs": [
    {
     "data": {
      "text/plain": [
       "array([-16,   0,  16, -14,   9,  -7,   8, -15,   4,  14,  18,  11,  22,\n",
       "        -5, -14,  10, -16,  10, -26, -12,   8,  -4,  -8,  26,  13])"
      ]
     },
     "execution_count": 118,
     "metadata": {},
     "output_type": "execute_result"
    }
   ],
   "execution_count": 118
  },
  {
   "metadata": {
    "ExecuteTime": {
     "end_time": "2024-09-23T15:37:46.491056Z",
     "start_time": "2024-09-23T15:37:46.486358Z"
    }
   },
   "cell_type": "code",
   "source": [
    "def mse(actual, predicted):\n",
    "    return np.mean((actual - predicted) ** 2)\n",
    "\n",
    "\n",
    "mse(actual, predicted)"
   ],
   "outputs": [
    {
     "data": {
      "text/plain": [
       "190.16"
      ]
     },
     "execution_count": 117,
     "metadata": {},
     "output_type": "execute_result"
    }
   ],
   "execution_count": 117
  },
  {
   "metadata": {},
   "cell_type": "markdown",
   "source": "##### binary cross entropy - logistic regression\n"
  },
  {
   "metadata": {},
   "cell_type": "markdown",
   "source": "![Binary cross entropy](https://cdn.analyticsvidhya.com/wp-content/uploads/2021/03/Screenshot-from-2021-03-03-11-33-29.png)"
  },
  {
   "metadata": {
    "ExecuteTime": {
     "end_time": "2024-09-23T16:06:34.489370Z",
     "start_time": "2024-09-23T16:06:34.471689Z"
    }
   },
   "cell_type": "code",
   "source": [
    "\n",
    "def bin_cross_entro(actual, predicted):\n",
    "    predicted = np.clip(predicted, 1e-15, 1 - 1e-15)\n",
    "\n",
    "    return np.mean(-(actual * np.log(predicted) + (1 - actual) * np.log(1 - predicted)))\n",
    "\n",
    "\n",
    "bin_cross_entro(actual, predicted)"
   ],
   "outputs": [
    {
     "data": {
      "text/plain": [
       "-933.9501348328973"
      ]
     },
     "execution_count": 120,
     "metadata": {},
     "output_type": "execute_result"
    }
   ],
   "execution_count": 120
  },
  {
   "cell_type": "markdown",
   "source": [
    "### Working with missing values"
   ],
   "metadata": {
    "id": "d9olU9IoLX8P"
   }
  },
  {
   "metadata": {
    "ExecuteTime": {
     "end_time": "2024-09-23T16:08:54.234831Z",
     "start_time": "2024-09-23T16:08:54.230527Z"
    }
   },
   "cell_type": "code",
   "source": [
    "# working with missing values --> np.nan\n",
    "a = np.array([1, 2, 3, 4, np.nan, 6])\n",
    "print(a)"
   ],
   "outputs": [
    {
     "name": "stdout",
     "output_type": "stream",
     "text": [
      "[ 1.  2.  3.  4. nan  6.]\n"
     ]
    }
   ],
   "execution_count": 121
  },
  {
   "metadata": {
    "ExecuteTime": {
     "end_time": "2024-09-23T16:11:09.967347Z",
     "start_time": "2024-09-23T16:11:09.963616Z"
    }
   },
   "cell_type": "code",
   "source": [
    "## boolean indexing\n",
    "np.isnan(a)"
   ],
   "outputs": [
    {
     "data": {
      "text/plain": [
       "array([False, False, False, False,  True, False])"
      ]
     },
     "execution_count": 123,
     "metadata": {},
     "output_type": "execute_result"
    }
   ],
   "execution_count": 123
  },
  {
   "metadata": {
    "ExecuteTime": {
     "end_time": "2024-09-23T16:11:54.073420Z",
     "start_time": "2024-09-23T16:11:54.068065Z"
    }
   },
   "cell_type": "code",
   "source": "a[~(np.isnan(a))]",
   "outputs": [
    {
     "data": {
      "text/plain": [
       "array([1., 2., 3., 4., 6.])"
      ]
     },
     "execution_count": 125,
     "metadata": {},
     "output_type": "execute_result"
    }
   ],
   "execution_count": 125
  },
  {
   "metadata": {},
   "cell_type": "markdown",
   "source": "### Plotting Graphs"
  },
  {
   "metadata": {
    "ExecuteTime": {
     "end_time": "2024-09-23T16:16:50.645837Z",
     "start_time": "2024-09-23T16:16:50.640965Z"
    }
   },
   "cell_type": "code",
   "source": [
    "# plotting a 2D plot\n",
    "# x = y\n",
    "# visit desmos.com\n",
    "\n",
    "x = np.linspace(-10, 10, 100)\n",
    "print(x)\n",
    "y = x"
   ],
   "outputs": [
    {
     "name": "stdout",
     "output_type": "stream",
     "text": [
      "[-10.          -9.7979798   -9.5959596   -9.39393939  -9.19191919\n",
      "  -8.98989899  -8.78787879  -8.58585859  -8.38383838  -8.18181818\n",
      "  -7.97979798  -7.77777778  -7.57575758  -7.37373737  -7.17171717\n",
      "  -6.96969697  -6.76767677  -6.56565657  -6.36363636  -6.16161616\n",
      "  -5.95959596  -5.75757576  -5.55555556  -5.35353535  -5.15151515\n",
      "  -4.94949495  -4.74747475  -4.54545455  -4.34343434  -4.14141414\n",
      "  -3.93939394  -3.73737374  -3.53535354  -3.33333333  -3.13131313\n",
      "  -2.92929293  -2.72727273  -2.52525253  -2.32323232  -2.12121212\n",
      "  -1.91919192  -1.71717172  -1.51515152  -1.31313131  -1.11111111\n",
      "  -0.90909091  -0.70707071  -0.50505051  -0.3030303   -0.1010101\n",
      "   0.1010101    0.3030303    0.50505051   0.70707071   0.90909091\n",
      "   1.11111111   1.31313131   1.51515152   1.71717172   1.91919192\n",
      "   2.12121212   2.32323232   2.52525253   2.72727273   2.92929293\n",
      "   3.13131313   3.33333333   3.53535354   3.73737374   3.93939394\n",
      "   4.14141414   4.34343434   4.54545455   4.74747475   4.94949495\n",
      "   5.15151515   5.35353535   5.55555556   5.75757576   5.95959596\n",
      "   6.16161616   6.36363636   6.56565657   6.76767677   6.96969697\n",
      "   7.17171717   7.37373737   7.57575758   7.77777778   7.97979798\n",
      "   8.18181818   8.38383838   8.58585859   8.78787879   8.98989899\n",
      "   9.19191919   9.39393939   9.5959596    9.7979798   10.        ]\n"
     ]
    }
   ],
   "execution_count": 132
  },
  {
   "metadata": {
    "ExecuteTime": {
     "end_time": "2024-09-23T16:18:36.479784Z",
     "start_time": "2024-09-23T16:18:36.476862Z"
    }
   },
   "cell_type": "code",
   "source": "print('x shape: ', x.shape, '\\ny shape: ', y.shape)",
   "outputs": [
    {
     "name": "stdout",
     "output_type": "stream",
     "text": [
      "x shape:  (100,) \n",
      "y shape:  (100,)\n"
     ]
    }
   ],
   "execution_count": 135
  },
  {
   "metadata": {
    "ExecuteTime": {
     "end_time": "2024-09-23T16:16:53.783794Z",
     "start_time": "2024-09-23T16:16:53.629754Z"
    }
   },
   "cell_type": "code",
   "source": [
    "import matplotlib.pyplot as plt\n",
    "\n",
    "plt.plot(x, y)"
   ],
   "outputs": [
    {
     "data": {
      "text/plain": [
       "[<matplotlib.lines.Line2D at 0x1c400de2c30>]"
      ]
     },
     "execution_count": 133,
     "metadata": {},
     "output_type": "execute_result"
    },
    {
     "data": {
      "text/plain": [
       "<Figure size 640x480 with 1 Axes>"
      ],
      "image/png": "[encoded data removed]"
     },
     "metadata": {},
     "output_type": "display_data"
    }
   ],
   "execution_count": 133
  },
  {
   "metadata": {
    "ExecuteTime": {
     "end_time": "2024-09-23T16:18:47.145915Z",
     "start_time": "2024-09-23T16:18:47.031440Z"
    }
   },
   "cell_type": "code",
   "source": [
    "# y = x^2 - parabola\n",
    "x = np.linspace(-10, 10, 100)\n",
    "y = x ** 2\n",
    "\n",
    "plt.plot(x, y)"
   ],
   "outputs": [
    {
     "data": {
      "text/plain": [
       "[<matplotlib.lines.Line2D at 0x1c400e57290>]"
      ]
     },
     "execution_count": 136,
     "metadata": {},
     "output_type": "execute_result"
    },
    {
     "data": {
      "text/plain": [
       "<Figure size 640x480 with 1 Axes>"
      ],
      "image/png": "[encoded data removed]"
     },
     "metadata": {},
     "output_type": "display_data"
    }
   ],
   "execution_count": 136
  },
  {
   "metadata": {
    "ExecuteTime": {
     "end_time": "2024-09-23T16:20:43.515697Z",
     "start_time": "2024-09-23T16:20:43.412377Z"
    }
   },
   "cell_type": "code",
   "source": [
    "# y = sin(x)\n",
    "\n",
    "x = np.linspace(-10, 10, 200)\n",
    "y = np.sin(x)\n",
    "\n",
    "plt.plot(x, y)\n"
   ],
   "outputs": [
    {
     "data": {
      "text/plain": [
       "[<matplotlib.lines.Line2D at 0x1c400e99460>]"
      ]
     },
     "execution_count": 143,
     "metadata": {},
     "output_type": "execute_result"
    },
    {
     "data": {
      "text/plain": [
       "<Figure size 640x480 with 1 Axes>"
      ],
      "image/png": "[encoded data removed]"
     },
     "metadata": {},
     "output_type": "display_data"
    }
   ],
   "execution_count": 143
  },
  {
   "metadata": {
    "ExecuteTime": {
     "end_time": "2024-09-23T16:22:40.568103Z",
     "start_time": "2024-09-23T16:22:40.485902Z"
    }
   },
   "cell_type": "code",
   "source": [
    "# y = xlog(x)\n",
    "x = np.linspace(-10, 10, 100)\n",
    "y = x * np.log(x)\n",
    "\n",
    "plt.plot(x, y)"
   ],
   "outputs": [
    {
     "name": "stderr",
     "output_type": "stream",
     "text": [
      "C:\\Users\\15105\\AppData\\Local\\Temp\\ipykernel_27232\\139879189.py:3: RuntimeWarning: invalid value encountered in log\n",
      "  y = x * np.log(x)\n"
     ]
    },
    {
     "data": {
      "text/plain": [
       "[<matplotlib.lines.Line2D at 0x1c400f307d0>]"
      ]
     },
     "execution_count": 144,
     "metadata": {},
     "output_type": "execute_result"
    },
    {
     "data": {
      "text/plain": [
       "<Figure size 640x480 with 1 Axes>"
      ],
      "image/png": "[encoded data removed]"
     },
     "metadata": {},
     "output_type": "display_data"
    }
   ],
   "execution_count": 144
  },
  {
   "metadata": {
    "ExecuteTime": {
     "end_time": "2024-09-23T16:23:46.843810Z",
     "start_time": "2024-09-23T16:23:46.749550Z"
    }
   },
   "cell_type": "code",
   "source": [
    "x = np.linspace(-10, 10, 100)\n",
    "y = sigmoid(x)\n",
    "# or\n",
    "# y = 1/(1 + np.exp(-x))\n",
    "\n",
    "plt.plot(x, y)"
   ],
   "outputs": [
    {
     "data": {
      "text/plain": [
       "[<matplotlib.lines.Line2D at 0x1c400f6b590>]"
      ]
     },
     "execution_count": 145,
     "metadata": {},
     "output_type": "execute_result"
    },
    {
     "data": {
      "text/plain": [
       "<Figure size 640x480 with 1 Axes>"
      ],
      "image/png": "[encoded data removed]"
     },
     "metadata": {},
     "output_type": "display_data"
    }
   ],
   "execution_count": 145
  },
  {
   "metadata": {
    "ExecuteTime": {
     "end_time": "2024-09-23T16:13:42.726206Z",
     "start_time": "2024-09-23T16:13:42.723333Z"
    }
   },
   "cell_type": "code",
   "source": "# plotting a scatter plot",
   "outputs": [],
   "execution_count": 128
  },
  {
   "metadata": {
    "ExecuteTime": {
     "end_time": "2024-09-23T16:13:51.754129Z",
     "start_time": "2024-09-23T16:13:51.751179Z"
    }
   },
   "cell_type": "code",
   "source": "",
   "outputs": [],
   "execution_count": 129
  },
  {
   "metadata": {},
   "cell_type": "code",
   "outputs": [],
   "execution_count": null,
   "source": ""
  },
  {
   "metadata": {},
   "cell_type": "code",
   "outputs": [],
   "execution_count": null,
   "source": ""
  },
  {
   "cell_type": "markdown",
   "source": [
    "### Meshgrids"
   ],
   "metadata": {
    "id": "1sw0TeY7LiGK"
   }
  },
  {
   "cell_type": "code",
   "source": [
    "# Meshgrids"
   ],
   "metadata": {
    "id": "xQP6c_ISE75r"
   },
   "execution_count": null,
   "outputs": []
  },
  {
   "cell_type": "code",
   "source": [],
   "metadata": {
    "id": "QPEQuuof8xmJ"
   },
   "execution_count": null,
   "outputs": []
  }
 ]
}
