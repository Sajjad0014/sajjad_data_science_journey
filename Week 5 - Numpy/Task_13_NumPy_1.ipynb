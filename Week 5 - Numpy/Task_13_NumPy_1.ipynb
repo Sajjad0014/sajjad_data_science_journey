{
 "nbformat": 4,
 "nbformat_minor": 0,
 "metadata": {
  "colab": {
   "provenance": []
  },
  "kernelspec": {
   "name": "python3",
   "display_name": "Python 3 (ipykernel)",
   "language": "python"
  },
  "language_info": {
   "name": "python"
  }
 },
 "cells": [
  {
   "cell_type": "markdown",
   "source": [
    "**Note: In Data Science googling is a very important skill. If you find some difficulties to solve the problem, google it and try to find some clues to solve.**"
   ],
   "metadata": {
    "id": "6WdKdPGx-tnY"
   }
  },
  {
   "cell_type": "code",
   "source": [
    "import numpy as np"
   ],
   "metadata": {
    "id": "-J4F1ysN4mLk",
    "ExecuteTime": {
     "end_time": "2024-09-25T01:22:59.913101Z",
     "start_time": "2024-09-25T01:22:58.703440Z"
    }
   },
   "outputs": [],
   "execution_count": 1
  },
  {
   "cell_type": "markdown",
   "source": [
    "### `Q-1` Create a null vector of size 10 but the fifth value which is 1.\n",
    "\n"
   ],
   "metadata": {
    "id": "a_K8IH-C6HDK"
   }
  },
  {
   "cell_type": "code",
   "source": [
    "#Code here\n",
    "a = np.nan * np.empty(10)\n",
    "print(a)\n",
    "a[4] = 1\n",
    "print(a)"
   ],
   "metadata": {
    "id": "sTF03KsZ6QUI",
    "ExecuteTime": {
     "end_time": "2024-09-25T01:27:37.643890Z",
     "start_time": "2024-09-25T01:27:37.635953Z"
    }
   },
   "outputs": [
    {
     "name": "stdout",
     "output_type": "stream",
     "text": [
      "[nan nan nan nan nan nan nan nan nan nan]\n",
      "[nan nan nan nan  1. nan nan nan nan nan]\n"
     ]
    }
   ],
   "execution_count": 7
  },
  {
   "cell_type": "markdown",
   "source": "### `Q-2` Ask user to input two numbers a, b. Write a program to generate a random array of shape (a, b) and print the array and avg of the array.",
   "metadata": {
    "id": "TEiG25rS6S1i"
   }
  },
  {
   "cell_type": "code",
   "source": [
    "#Code here\n",
    "input_a = int(input('Enter the a value: '))\n",
    "input_b = int(input('Enter the b value: '))\n",
    "\n",
    "\n",
    "def gen_random_array(a, b):\n",
    "    rand_arr = np.random.random((a, b))\n",
    "    print(rand_arr)\n",
    "    print(np.average(rand_arr))\n",
    "    print(np.mean(rand_arr))\n",
    "\n",
    "\n",
    "gen_random_array(input_a, input_b)"
   ],
   "metadata": {
    "id": "ihwn4oOH6Vh7",
    "ExecuteTime": {
     "end_time": "2024-09-25T01:31:40.246114Z",
     "start_time": "2024-09-25T01:31:37.915557Z"
    }
   },
   "outputs": [
    {
     "name": "stdout",
     "output_type": "stream",
     "text": [
      "[[0.60845262 0.11674283 0.83235733 0.57901849]\n",
      " [0.91407123 0.01372824 0.01479254 0.89666696]\n",
      " [0.73895293 0.44122009 0.53888417 0.07355345]]\n",
      "0.4807034047891449\n",
      "0.4807034047891449\n"
     ]
    }
   ],
   "execution_count": 10
  },
  {
   "cell_type": "markdown",
   "source": [
    "### `Q-3`Write a function to create a 2d array with 1 on the border and 0 inside. Take 2-D array shape as (a,b) as parameter to function.\n",
    "\n",
    "Eg.-\n",
    "```\n",
    "[[1,1,1,1],\n",
    "[1,0,0,1],\n",
    "[1,0,0,1],\n",
    "[1,1,1,1]]\n",
    "```"
   ],
   "metadata": {
    "id": "2iEeybS06ZSq"
   }
  },
  {
   "cell_type": "code",
   "source": [
    "#Code here\n",
    "\n",
    "def border_arr(a, b):\n",
    "    arr = np.ones((a, b))\n",
    "    print(a, b)\n",
    "    arr[1:-1, 1:-1] = 0\n",
    "    return arr\n",
    "\n",
    "\n",
    "print(border_arr(6, 10))"
   ],
   "metadata": {
    "id": "gEKndkDU6ZSs",
    "ExecuteTime": {
     "end_time": "2024-09-25T01:38:19.939399Z",
     "start_time": "2024-09-25T01:38:19.931533Z"
    }
   },
   "outputs": [
    {
     "name": "stdout",
     "output_type": "stream",
     "text": [
      "6 10\n",
      "[[1. 1. 1. 1. 1. 1. 1. 1. 1. 1.]\n",
      " [1. 0. 0. 0. 0. 0. 0. 0. 0. 1.]\n",
      " [1. 0. 0. 0. 0. 0. 0. 0. 0. 1.]\n",
      " [1. 0. 0. 0. 0. 0. 0. 0. 0. 1.]\n",
      " [1. 0. 0. 0. 0. 0. 0. 0. 0. 1.]\n",
      " [1. 1. 1. 1. 1. 1. 1. 1. 1. 1.]]\n"
     ]
    }
   ],
   "execution_count": 17
  },
  {
   "cell_type": "markdown",
   "source": "### `Q-4` Create a vector of size 10 with values ranging from 0 to 1, both excluded.\n",
   "metadata": {
    "id": "QRJicQ8j6ZlE"
   }
  },
  {
   "cell_type": "code",
   "source": [
    "#Code here\n",
    "np.linspace(0, 1, 12)[1:-1]"
   ],
   "metadata": {
    "id": "eC4XLhDq6ZlF",
    "ExecuteTime": {
     "end_time": "2024-09-25T01:40:09.273422Z",
     "start_time": "2024-09-25T01:40:09.267999Z"
    }
   },
   "outputs": [
    {
     "data": {
      "text/plain": [
       "array([0.09090909, 0.18181818, 0.27272727, 0.36363636, 0.45454545,\n",
       "       0.54545455, 0.63636364, 0.72727273, 0.81818182, 0.90909091])"
      ]
     },
     "execution_count": 20,
     "metadata": {},
     "output_type": "execute_result"
    }
   ],
   "execution_count": 20
  },
  {
   "cell_type": "markdown",
   "source": "### `Q-5` Can you create an identity mattrix of shape (3,4). If yes write code for it.",
   "metadata": {
    "id": "vb4jK4yQ6Zs2"
   }
  },
  {
   "cell_type": "code",
   "source": [
    "#Code here\n",
    "print(np.eye(3))\n",
    "print()\n",
    "print(np.identity(4))"
   ],
   "metadata": {
    "id": "DTV_AbMS6Zs4",
    "ExecuteTime": {
     "end_time": "2024-09-25T01:42:34.308713Z",
     "start_time": "2024-09-25T01:42:34.300979Z"
    }
   },
   "outputs": [
    {
     "name": "stdout",
     "output_type": "stream",
     "text": [
      "[[1. 0. 0.]\n",
      " [0. 1. 0.]\n",
      " [0. 0. 1.]]\n",
      "\n",
      "[[1. 0. 0. 0.]\n",
      " [0. 1. 0. 0.]\n",
      " [0. 0. 1. 0.]\n",
      " [0. 0. 0. 1.]]\n"
     ]
    }
   ],
   "execution_count": 23
  },
  {
   "cell_type": "markdown",
   "source": "### `Q-6:` Create a 5x5 matrix with row values ranging from 0 to 4.",
   "metadata": {
    "id": "QtjAFm5PEntK"
   }
  },
  {
   "cell_type": "code",
   "source": [
    "#Code here\n",
    "z = np.zeros((5, 5))\n",
    "z += np.arange(5)\n",
    "print(z)"
   ],
   "metadata": {
    "id": "z2WGxRjvEuRS",
    "ExecuteTime": {
     "end_time": "2024-09-25T01:47:24.087953Z",
     "start_time": "2024-09-25T01:47:24.079594Z"
    }
   },
   "outputs": [
    {
     "name": "stdout",
     "output_type": "stream",
     "text": [
      "[[0. 1. 2. 3. 4.]\n",
      " [0. 1. 2. 3. 4.]\n",
      " [0. 1. 2. 3. 4.]\n",
      " [0. 1. 2. 3. 4.]\n",
      " [0. 1. 2. 3. 4.]]\n"
     ]
    }
   ],
   "execution_count": 26
  },
  {
   "cell_type": "markdown",
   "source": [
    "### `Q-7:`  Consider a random integer (in range 1 to 100) vector with shape `(10,2)` representing coordinates, and coordinates of a point as array is given. Create an array of distance of each point in the random vectros from the given point. Distance array should be interger type.\n",
    "\n",
    "```\n",
    "point = np.array([2,3])\n",
    "```\n"
   ],
   "metadata": {
    "id": "KPpvxKjVHnyx"
   }
  },
  {
   "cell_type": "code",
   "source": [
    "#code here\n",
    "a = np.random.randint(1, 100, (10, 2))\n",
    "p = np.array([2, 3])\n",
    "print(a, '\\n\\n', p, '\\n')\n",
    "# ((2 - 26) ** 2 + (3- 15) ** 2) ** 2\n",
    "print(np.sqrt(np.sum((a - p) ** 2, axis=1)).astype(int))"
   ],
   "metadata": {
    "id": "X7KGnWLNIM6f",
    "ExecuteTime": {
     "end_time": "2024-09-25T03:02:07.879497Z",
     "start_time": "2024-09-25T03:02:07.872184Z"
    }
   },
   "outputs": [
    {
     "name": "stdout",
     "output_type": "stream",
     "text": [
      "[[43 56]\n",
      " [85  2]\n",
      " [17 19]\n",
      " [71  4]\n",
      " [ 8 20]\n",
      " [30  3]\n",
      " [32 76]\n",
      " [65 55]\n",
      " [ 7 69]\n",
      " [58 33]] \n",
      "\n",
      " [2 3] \n",
      "\n",
      "[67 83 21 69 18 28 78 81 66 63]\n"
     ]
    }
   ],
   "execution_count": 39
  },
  {
   "cell_type": "markdown",
   "source": "### `Q-8:` Consider a (6,7,8) shape array, what is the index (x,y,z) of the 100th element?",
   "metadata": {
    "id": "tajOFJlCDwTr"
   }
  },
  {
   "cell_type": "code",
   "source": [
    "#Code here\n",
    "a = np.random.random((6, 7, 8))\n",
    "print(a)\n",
    "b = np.unravel_index(100, (6, 7, 8))\n",
    "print(b)\n",
    "print(a[b])"
   ],
   "metadata": {
    "id": "qH4oxvs0D3Ra",
    "ExecuteTime": {
     "end_time": "2024-09-25T03:07:05.891034Z",
     "start_time": "2024-09-25T03:07:05.881636Z"
    }
   },
   "outputs": [
    {
     "name": "stdout",
     "output_type": "stream",
     "text": [
      "[[[0.01385695 0.48870559 0.56057097 0.36662375 0.08254706 0.87180241\n",
      "   0.80833777 0.9719533 ]\n",
      "  [0.60635784 0.64779552 0.8381079  0.39554259 0.48673239 0.80076299\n",
      "   0.90510035 0.1749873 ]\n",
      "  [0.52121448 0.23317749 0.91005438 0.60100192 0.14690951 0.26053396\n",
      "   0.90532663 0.88427807]\n",
      "  [0.04685811 0.02431741 0.92666524 0.62641554 0.40958183 0.86008727\n",
      "   0.35105245 0.1529148 ]\n",
      "  [0.71859107 0.25267211 0.11049804 0.33754895 0.19452167 0.14767497\n",
      "   0.4479199  0.12021781]\n",
      "  [0.16460722 0.67942693 0.76602728 0.53232026 0.35933    0.57017127\n",
      "   0.21233045 0.14332928]\n",
      "  [0.87091951 0.27777056 0.86270021 0.9604547  0.95949454 0.30986804\n",
      "   0.90090767 0.8126649 ]]\n",
      "\n",
      " [[0.39469605 0.04298594 0.1082991  0.251332   0.55071282 0.77605688\n",
      "   0.98908159 0.37881283]\n",
      "  [0.76581342 0.55206315 0.3716151  0.7236337  0.94059923 0.10387596\n",
      "   0.4766877  0.32878472]\n",
      "  [0.77331774 0.55714242 0.7275178  0.82275028 0.87187563 0.84444298\n",
      "   0.2713832  0.97216278]\n",
      "  [0.73687065 0.19897729 0.76634563 0.34349361 0.39259843 0.56768499\n",
      "   0.04762414 0.14069164]\n",
      "  [0.56457407 0.40009444 0.23551709 0.50869368 0.84258453 0.67163672\n",
      "   0.04999471 0.25913975]\n",
      "  [0.57976372 0.75195459 0.56914705 0.93496035 0.81706118 0.4781979\n",
      "   0.00124246 0.3576572 ]\n",
      "  [0.48292272 0.1880881  0.8104695  0.09251135 0.61606284 0.53265961\n",
      "   0.95627609 0.22167582]]\n",
      "\n",
      " [[0.33627062 0.82006082 0.75687094 0.56218384 0.35635297 0.11357461\n",
      "   0.23807484 0.71995097]\n",
      "  [0.14804131 0.09772349 0.31101517 0.11261869 0.4262399  0.59162427\n",
      "   0.29558389 0.38293423]\n",
      "  [0.9512499  0.23998277 0.88355485 0.89573975 0.40870587 0.35624687\n",
      "   0.84768387 0.4230921 ]\n",
      "  [0.88694614 0.54869322 0.72259529 0.2022481  0.41085597 0.07787038\n",
      "   0.57047001 0.14303303]\n",
      "  [0.43494437 0.13439283 0.32136542 0.58464981 0.71778626 0.62466223\n",
      "   0.60921663 0.75802709]\n",
      "  [0.80908411 0.76650582 0.78500461 0.12648996 0.47574056 0.48951559\n",
      "   0.46436433 0.46880533]\n",
      "  [0.10923377 0.35022331 0.35141115 0.72684037 0.95729575 0.01242948\n",
      "   0.47186793 0.94982607]]\n",
      "\n",
      " [[0.55775385 0.36344771 0.94075226 0.88673768 0.820902   0.4947296\n",
      "   0.99499265 0.35842743]\n",
      "  [0.47828967 0.21561023 0.73018972 0.80997711 0.81977116 0.71683609\n",
      "   0.77274301 0.71562691]\n",
      "  [0.4715754  0.79960834 0.13437028 0.43302995 0.93527287 0.33168153\n",
      "   0.93622114 0.72302071]\n",
      "  [0.7693462  0.97255949 0.39192065 0.56547112 0.32235151 0.37058967\n",
      "   0.80683134 0.11146247]\n",
      "  [0.81853242 0.63806342 0.67674952 0.09741255 0.54780477 0.83804937\n",
      "   0.61698983 0.35841368]\n",
      "  [0.15206382 0.03083275 0.14983789 0.39634585 0.23770489 0.47287785\n",
      "   0.9888519  0.06823442]\n",
      "  [0.73611654 0.53250166 0.94727847 0.88104369 0.21968012 0.00696012\n",
      "   0.07453368 0.69714639]]\n",
      "\n",
      " [[0.04866316 0.89942044 0.39166115 0.14999914 0.92891069 0.68469206\n",
      "   0.50311758 0.58358845]\n",
      "  [0.28467733 0.5751357  0.41183311 0.58614501 0.94681742 0.5738409\n",
      "   0.80558983 0.7844535 ]\n",
      "  [0.57645685 0.77310039 0.19192209 0.00957831 0.50796178 0.94412264\n",
      "   0.92202184 0.95432805]\n",
      "  [0.20665851 0.58717001 0.38165338 0.02712976 0.59890062 0.60717789\n",
      "   0.60105104 0.35100749]\n",
      "  [0.19798669 0.86287019 0.47394338 0.49001377 0.98139686 0.96730751\n",
      "   0.80750714 0.37177728]\n",
      "  [0.63948038 0.11747416 0.77833091 0.2376254  0.92827528 0.44058593\n",
      "   0.05502091 0.71235654]\n",
      "  [0.548941   0.02689429 0.57225952 0.76457265 0.27677027 0.11106431\n",
      "   0.7060967  0.91543637]]\n",
      "\n",
      " [[0.20309133 0.40185055 0.20401521 0.75431948 0.81361334 0.8151155\n",
      "   0.7182262  0.48278357]\n",
      "  [0.90144476 0.88707244 0.00550789 0.60228632 0.9890109  0.99992665\n",
      "   0.73125711 0.92489907]\n",
      "  [0.44236574 0.74695541 0.40047319 0.39126092 0.19574802 0.87366915\n",
      "   0.39649582 0.42801311]\n",
      "  [0.90828454 0.78220166 0.59737907 0.77873689 0.95180197 0.38443472\n",
      "   0.77014201 0.87706465]\n",
      "  [0.65883415 0.30537902 0.82785786 0.2934188  0.78742294 0.0944768\n",
      "   0.81391977 0.95033299]\n",
      "  [0.27368121 0.05867453 0.08044659 0.63457533 0.14672361 0.65230884\n",
      "   0.78835707 0.21293024]\n",
      "  [0.35182388 0.40296613 0.82205592 0.85821323 0.10594849 0.80119647\n",
      "   0.59223204 0.72501068]]]\n",
      "(1, 5, 4)\n",
      "0.8170611803857918\n"
     ]
    }
   ],
   "execution_count": 48
  },
  {
   "cell_type": "markdown",
   "source": [
    "### `Q-9:` Arrays\n",
    "\n",
    "You are given a space separated list of numbers. Your task is to print a reversed NumPy array with the element type float.\n",
    "\n"
   ],
   "metadata": {
    "id": "9LxBAbT2Pw33"
   }
  },
  {
   "cell_type": "markdown",
   "source": [
    "**Input Format:**\n",
    "\n",
    "A single line of input containing space separated numbers.\n",
    "\n",
    "**Output Format:**\n",
    "\n",
    "Print the reverse NumPy array with type float.\n",
    "\n",
    "**Example 1:**\n",
    "\n",
    "Input:\n",
    "\n",
    "```bash\n",
    "1 2 3 4 -8 -10\n",
    "```\n",
    "\n",
    "Output:\n",
    "\n",
    "```bash\n",
    "[-10.  -8.   4.   3.   2.   1.]\n",
    "```"
   ],
   "metadata": {
    "id": "JJpqVms2Nq7L"
   }
  },
  {
   "cell_type": "code",
   "source": [
    "#Code here\n",
    "a = input().strip().split()\n",
    "np.array(a[::-1], dtype=np.float32)"
   ],
   "metadata": {
    "id": "7iQyg6ChNl3j",
    "ExecuteTime": {
     "end_time": "2024-09-25T03:10:45.192219Z",
     "start_time": "2024-09-25T03:10:38.436603Z"
    }
   },
   "outputs": [
    {
     "data": {
      "text/plain": [
       "array([9., 5., 3.], dtype=float32)"
      ]
     },
     "execution_count": 49,
     "metadata": {},
     "output_type": "execute_result"
    }
   ],
   "execution_count": 49
  },
  {
   "cell_type": "markdown",
   "source": [
    "### `Q-10:` Elements count\n",
    "\n",
    "Count the number of elements of a numpy array.\n",
    "\n"
   ],
   "metadata": {
    "id": "TPxD7jM8Sjz9"
   }
  },
  {
   "cell_type": "markdown",
   "source": [
    "**Example 1:**\n",
    "\n",
    "Input:\n",
    "```bash\n",
    "np.array([])\n",
    "```\n",
    "\n",
    "Output:\n",
    "```bash\n",
    "elements_count :  0\n",
    "```\n",
    "\n",
    "**Example 2:**\n",
    "\n",
    "Input:\n",
    "```bash\n",
    "np.array([1, 2])\n",
    "```\n",
    "\n",
    "Output:\n",
    "```bash\n",
    "elements_count :  2\n",
    "```"
   ],
   "metadata": {
    "id": "oHTiTz_jNkAU"
   }
  },
  {
   "cell_type": "code",
   "source": [
    "#Code here\n",
    "arr = np.array([])\n",
    "arr2 = np.array([1, 2])\n",
    "arr3 = np.array([[1, 2, 8], [5, 6, 8]])\n",
    "print(arr.size, arr2.size, arr3.size)"
   ],
   "metadata": {
    "id": "RG0H2I-TNeGN",
    "ExecuteTime": {
     "end_time": "2024-09-25T03:12:59.194700Z",
     "start_time": "2024-09-25T03:12:59.188524Z"
    }
   },
   "outputs": [
    {
     "name": "stdout",
     "output_type": "stream",
     "text": [
      "0 2 6\n"
     ]
    }
   ],
   "execution_count": 50
  },
  {
   "cell_type": "markdown",
   "source": [
    "### `Q-11:` Softmax function\n",
    "\n",
    "Create a Python function to calculate the Softmax of the given numpy 1D array. The function only accepts the numpy 1D array, otherwise raise error.\n",
    "\n",
    "$$\\Large \\sigma(\\vec z)_i = \\frac{e^{z_i}}{\\sum_{j=i}^{K}{e^{z_j}}}$$\n",
    "\n",
    "https://en.wikipedia.org/wiki/Softmax_function\n",
    "\n"
   ],
   "metadata": {
    "id": "pwgPz-3l5ic5"
   }
  },
  {
   "cell_type": "markdown",
   "source": [
    "**Example 1:**\n",
    "\n",
    "Input:\n",
    "```bash\n",
    "[86.03331084 37.7285648  48.64908087 87.16563062 38.40852563 37.20006318]\n",
    "```\n",
    "\n",
    "Output:\n",
    "```bash\n",
    "[2.43733249e-01, 2.56112115e-22, 1.41628284e-17, 7.56266751e-01,\n",
    "       5.05514197e-22, 1.50974911e-22]\n",
    "```\n",
    "\n",
    "**Example 2:**\n",
    "\n",
    "Input:\n",
    "```bash\n",
    "[33.17344305 45.61961654 82.05405781 80.9647098  68.82830233 91.52064278]\n",
    "```\n",
    "\n",
    "Output:\n",
    "```bash\n",
    "[4.57181035e-26, 1.16249923e-20, 7.73872596e-05, 2.60358426e-05,\n",
    "       1.39571531e-10, 9.99896577e-01]\n",
    "```"
   ],
   "metadata": {
    "id": "eZ3WJt6UM1ul"
   }
  },
  {
   "cell_type": "code",
   "source": [
    "#Code here\n",
    "input_1 = [86.03331084, 37.7285648, 48.64908087, 87.16563062, 38.40852563, 37.20006318]\n",
    "input_2 = [33.17344305, 45.61961654, 82.05405781, 80.9647098, 68.82830233, 91.52064278]\n",
    "\n",
    "\n",
    "def softmax(arr):\n",
    "    if type(arr) != np.ndarray:\n",
    "        raise TypeError('Requires Numpy Array')\n",
    "    elif arr.ndim > 1:\n",
    "        raise TypeError('Requires 1D Array')\n",
    "    return np.exp(arr) / np.sum(np.exp(arr))\n",
    "\n",
    "\n",
    "print(softmax(np.array(input_1)))\n",
    "print(softmax(np.array(input_2)))"
   ],
   "metadata": {
    "id": "VNzj05lkNaNi",
    "ExecuteTime": {
     "end_time": "2024-09-25T05:31:14.806871Z",
     "start_time": "2024-09-25T05:31:14.798037Z"
    }
   },
   "outputs": [
    {
     "name": "stdout",
     "output_type": "stream",
     "text": [
      "[2.43733248e-01 2.56112114e-22 1.41628283e-17 7.56266752e-01\n",
      " 5.05514197e-22 1.50974911e-22]\n",
      "[4.57181033e-26 1.16249922e-20 7.73872594e-05 2.60358426e-05\n",
      " 1.39571531e-10 9.99896577e-01]\n"
     ]
    }
   ],
   "execution_count": 55
  },
  {
   "cell_type": "markdown",
   "source": [
    "### `Q-12:` Vertical stack\n",
    "\n",
    "Write a python function that accepts infinite number of numpy arrays and do the vertical stack to them. Then return that new array as result. The function only accepts the numpy array, otherwise raise error.\n",
    "\n"
   ],
   "metadata": {
    "id": "k4JWSwWu_HXg"
   }
  },
  {
   "cell_type": "markdown",
   "source": [
    "**Example 1:**\n",
    "\n",
    "Input:\n",
    "```bash\n",
    "a= [[0 1 2 3 4]\n",
    " [5 6 7 8 9]]\n",
    "\n",
    "b= [[1 1 1 1 1]\n",
    " [1 1 1 1 1]]\n",
    "```\n",
    "\n",
    "Output:\n",
    "\n",
    "```bash\n",
    "[[0 1 2 3 4]\n",
    " [5 6 7 8 9]\n",
    " [1 1 1 1 1]\n",
    " [1 1 1 1 1]]\n",
    "```\n",
    "\n",
    "**Example 2:**\n",
    "\n",
    "Input:\n",
    "```bash\n",
    "a= [[0 1 2 3 4]\n",
    " [5 6 7 8 9]]\n",
    "\n",
    "b= [[1 1 1 1 1]\n",
    " [1 1 1 1 1]]\n",
    "\n",
    "c= [[0.10117373 0.1677244  0.73764059 0.83166097 0.48985695]\n",
    " [0.44581567 0.13502419 0.55692335 0.16479622 0.61193593]]\n",
    "```\n",
    "\n",
    "Output:\n",
    "```bash\n",
    "[[0.         1.         2.         3.         4.        ]\n",
    " [5.         6.         7.         8.         9.        ]\n",
    " [1.         1.         1.         1.         1.        ]\n",
    " [1.         1.         1.         1.         1.        ]\n",
    " [0.10117373 0.1677244  0.73764059 0.83166097 0.48985695]\n",
    " [0.44581567 0.13502419 0.55692335 0.16479622 0.61193593]]\n",
    "```"
   ],
   "metadata": {
    "id": "XhhV3mraNAWr"
   }
  },
  {
   "cell_type": "code",
   "source": [
    "#Coder here\n",
    "\n",
    "def vert_stacking(*args):\n",
    "    for i in args:\n",
    "        if type(i) != np.ndarray:\n",
    "            raise TypeError('Requires numpy array')\n",
    "    return np.vstack(args)\n",
    "    # if type(arr1) != np.ndarray and type(arr2) != np.ndarray:\n",
    "    #     raise TypeError('Requires numpy array')\n",
    "\n",
    "\n",
    "a = np.arange(10).reshape(2, -1)\n",
    "print(f\"a: {a}\\n\")\n",
    "b = np.repeat(1, 10).reshape(2, -1)\n",
    "print(f\"b: {b}\\n\")\n",
    "print(vert_stacking(a, b))"
   ],
   "metadata": {
    "id": "dhtnbSj6NP8z",
    "ExecuteTime": {
     "end_time": "2024-09-25T21:02:03.937393Z",
     "start_time": "2024-09-25T21:02:03.931869Z"
    }
   },
   "outputs": [
    {
     "name": "stdout",
     "output_type": "stream",
     "text": [
      "a: [[0 1 2 3 4]\n",
      " [5 6 7 8 9]]\n",
      "\n",
      "b: [[1 1 1 1 1]\n",
      " [1 1 1 1 1]]\n",
      "\n",
      "[[0 1 2 3 4]\n",
      " [5 6 7 8 9]\n",
      " [1 1 1 1 1]\n",
      " [1 1 1 1 1]]\n"
     ]
    }
   ],
   "execution_count": 60
  },
  {
   "metadata": {
    "ExecuteTime": {
     "end_time": "2024-09-25T21:02:40.486966Z",
     "start_time": "2024-09-25T21:02:40.477971Z"
    }
   },
   "cell_type": "code",
   "source": [
    "c = np.random.random((2, 5))\n",
    "print(f\" c: {c} \\n\")\n",
    "print(vert_stacking(c, c))"
   ],
   "outputs": [
    {
     "name": "stdout",
     "output_type": "stream",
     "text": [
      " c: [[0.75721703 0.75905301 0.08343573 0.60660945 0.30254892]\n",
      " [0.10170945 0.51010999 0.29681063 0.35158732 0.76238075]] \n",
      "\n",
      "[[0.75721703 0.75905301 0.08343573 0.60660945 0.30254892]\n",
      " [0.10170945 0.51010999 0.29681063 0.35158732 0.76238075]\n",
      " [0.75721703 0.75905301 0.08343573 0.60660945 0.30254892]\n",
      " [0.10170945 0.51010999 0.29681063 0.35158732 0.76238075]]\n"
     ]
    }
   ],
   "execution_count": 61
  },
  {
   "cell_type": "markdown",
   "source": [
    "### `Q-13:` Dates\n",
    "\n",
    "Create a python function named **date_array** that accepts two dates as string format and returns a numpy array of dates between those 2 dates. The function only accept 2 strings, otherwise raise error. The date format should be like this only: `2022-12-6`. The end date should be included and for simplicity, choose dates from a same year.\n",
    "\n"
   ],
   "metadata": {
    "id": "3mk8T6CuC2DP"
   }
  },
  {
   "cell_type": "markdown",
   "source": [
    "**Example 1:**\n",
    "\n",
    "Input:\n",
    "```bash\n",
    "date_array(start = '2020-09-15', end = '2020-09-25')\n",
    "```\n",
    "\n",
    "Output:\n",
    "```bash\n",
    "['2020-09-15', '2020-09-16', '2020-09-17', '2020-09-18',\n",
    " '2020-09-19', '2020-09-20', '2020-09-21', '2020-09-22',\n",
    " '2020-09-23', '2020-09-24', '2020-09-25']\n",
    "```\n",
    "\n",
    "**Example 2:**\n",
    "\n",
    "Input:\n",
    "```bash\n",
    "date_array(start = '2022-12-01', end = '2022-12-06')\n",
    "```\n",
    "\n",
    "Output:\n",
    "```bash\n",
    "['2022-12-01', '2022-12-02', '2022-12-03', '2022-12-04', '2022-12-05', '2022-12-06']\n",
    "```\n",
    "\n",
    "**Example 3:**\n",
    "\n",
    "Input:\n",
    "```bash\n",
    "date_array(start = '2020-11-25', end = '2020-11-30')\n",
    "```\n",
    "\n",
    "Output:\n",
    "```bash\n",
    "['2020-11-25', '2020-11-26', '2020-11-27', '2020-11-28',\n",
    " '2020-11-29', '2020-11-30']\n",
    "```"
   ],
   "metadata": {
    "id": "E3IgjnTTNFEk"
   }
  },
  {
   "cell_type": "code",
   "source": [
    "#Code here\n",
    "\n",
    "def date_array(start: str, end: str):\n",
    "    if type(start) != str or type(end) != str:\n",
    "        raise TypeError\n",
    "\n",
    "    total_days_of_month = {\"01\": 31, \"02\": 28, \"03\": 31, \"04\": 30, \"05\": 31, \"06\": 30, \"07\": 31, \"08\": 31, \"09\": 30,\n",
    "                           \"10\": 31, \"11\": 30, \"12\": 31}\n",
    "\n",
    "    # print(np.arange(start, end, dtype=\"datetime64[D]\"))\n",
    "    # Since we wanted to include the last end date as well, we need to make an increment at the end\n",
    "\n",
    "    end = end.split(\"-\")\n",
    "    end_last = int(end[-1]) + 1\n",
    "\n",
    "    # print(end)\n",
    "    # print(end_last)\n",
    "\n",
    "    if total_days_of_month[end[-2]] < end_last:\n",
    "        days_diff = end_last - total_days_of_month[end[-2]]\n",
    "        # print(days_diff)\n",
    "        end[-1] = f\"0{days_diff}\" if days_diff < 10 else f\"{days_diff}\"\n",
    "        # print(end[-1])\n",
    "        next_month = int(end[-2]) + 1\n",
    "        # print(next_month)\n",
    "        end[-2] = f\"0{next_month}\" if next_month < 10 else f\"{next_month}\"\n",
    "        # print(end[-2])\n",
    "    else:\n",
    "        end[-1] = f\"0{end_last}\" if end_last < 10 else f\"{end_last}\"\n",
    "    end = \"-\".join(end)\n",
    "\n",
    "    return np.arange(start, end, dtype=\"datetime64[D]\")\n",
    "\n",
    "\n",
    "print(date_array(start='2020-09-15', end='2020-09-25'), '\\n')\n",
    "print(date_array(start='2020-11-01', end='2020-11-31'))"
   ],
   "metadata": {
    "id": "Yj5PBfQQNTnL",
    "ExecuteTime": {
     "end_time": "2024-09-25T21:27:47.672958Z",
     "start_time": "2024-09-25T21:27:47.662687Z"
    }
   },
   "outputs": [
    {
     "name": "stdout",
     "output_type": "stream",
     "text": [
      "['2020-09-15' '2020-09-16' '2020-09-17' '2020-09-18' '2020-09-19'\n",
      " '2020-09-20' '2020-09-21' '2020-09-22' '2020-09-23' '2020-09-24'\n",
      " '2020-09-25'] \n",
      "\n",
      "['2020-11-01' '2020-11-02' '2020-11-03' '2020-11-04' '2020-11-05'\n",
      " '2020-11-06' '2020-11-07' '2020-11-08' '2020-11-09' '2020-11-10'\n",
      " '2020-11-11' '2020-11-12' '2020-11-13' '2020-11-14' '2020-11-15'\n",
      " '2020-11-16' '2020-11-17' '2020-11-18' '2020-11-19' '2020-11-20'\n",
      " '2020-11-21' '2020-11-22' '2020-11-23' '2020-11-24' '2020-11-25'\n",
      " '2020-11-26' '2020-11-27' '2020-11-28' '2020-11-29' '2020-11-30'\n",
      " '2020-12-01']\n"
     ]
    }
   ],
   "execution_count": 78
  },
  {
   "cell_type": "markdown",
   "source": [
    "###`Q-14:` Subtract the mean of each row from a matrix."
   ],
   "metadata": {
    "id": "bcEp0wTWQijK"
   }
  },
  {
   "cell_type": "code",
   "source": [
    "#code here\n",
    "\n",
    "ex = np.random.random((5, 4))\n",
    "print(ex)\n",
    "print()\n",
    "print(ex.mean(axis=1, keepdims=True))\n",
    "print()\n",
    "print(ex - ex.mean(axis=1, keepdims=True))"
   ],
   "metadata": {
    "id": "rpILVGcgQzMo",
    "ExecuteTime": {
     "end_time": "2024-09-25T21:34:56.108677Z",
     "start_time": "2024-09-25T21:34:56.103648Z"
    }
   },
   "outputs": [
    {
     "name": "stdout",
     "output_type": "stream",
     "text": [
      "[[0.35027474 0.40541883 0.9373559  0.12547021]\n",
      " [0.72826147 0.88410974 0.92787094 0.30469776]\n",
      " [0.52630917 0.58460092 0.26745172 0.68838883]\n",
      " [0.17132322 0.20100556 0.62655876 0.09877063]\n",
      " [0.44585413 0.12646938 0.59079127 0.67236703]]\n",
      "\n",
      "[[0.45462992]\n",
      " [0.71123498]\n",
      " [0.51668766]\n",
      " [0.27441454]\n",
      " [0.45887045]]\n",
      "\n",
      "[[-0.10435518 -0.04921109  0.48272598 -0.32915971]\n",
      " [ 0.01702649  0.17287476  0.21663597 -0.40653722]\n",
      " [ 0.00962151  0.06791326 -0.24923594  0.17170117]\n",
      " [-0.10309133 -0.07340898  0.35214422 -0.17564391]\n",
      " [-0.01301632 -0.33240107  0.13192082  0.21349657]]\n"
     ]
    }
   ],
   "execution_count": 101
  },
  {
   "cell_type": "markdown",
   "source": [
    "###`Q-15:` Swap column-1 of array with column-2 in the array."
   ],
   "metadata": {
    "id": "A-dMVlPPSBTT"
   }
  },
  {
   "cell_type": "code",
   "source": [
    "#Code here\n",
    "ex = np.arange(9).reshape(3, 3)\n",
    "print(ex)\n",
    "print()\n",
    "print(ex[:, [0, 2, 1]])"
   ],
   "metadata": {
    "id": "3RtngM9-Q6S7",
    "ExecuteTime": {
     "end_time": "2024-09-25T21:36:55.112430Z",
     "start_time": "2024-09-25T21:36:55.108401Z"
    }
   },
   "outputs": [
    {
     "name": "stdout",
     "output_type": "stream",
     "text": [
      "[[0 1 2]\n",
      " [3 4 5]\n",
      " [6 7 8]]\n",
      "\n",
      "[[0 2 1]\n",
      " [3 5 4]\n",
      " [6 8 7]]\n"
     ]
    }
   ],
   "execution_count": 106
  },
  {
   "cell_type": "code",
   "source": [
    "ex = np.arange(12).reshape(3, 4)\n",
    "print(ex)\n",
    "print()\n",
    "print(ex[:, [0, 2, 1, 3]])"
   ],
   "metadata": {
    "id": "ueoMV_LlSnGU",
    "ExecuteTime": {
     "end_time": "2024-09-25T21:37:57.362445Z",
     "start_time": "2024-09-25T21:37:57.358016Z"
    }
   },
   "outputs": [
    {
     "name": "stdout",
     "output_type": "stream",
     "text": [
      "[[ 0  1  2  3]\n",
      " [ 4  5  6  7]\n",
      " [ 8  9 10 11]]\n",
      "\n",
      "[[ 0  2  1  3]\n",
      " [ 4  6  5  7]\n",
      " [ 8 10  9 11]]\n"
     ]
    }
   ],
   "execution_count": 107
  },
  {
   "cell_type": "markdown",
   "source": [
    "###`Q-16:` Replace odd elements in arrays with -1."
   ],
   "metadata": {
    "id": "cB4VMexvS6Zi"
   }
  },
  {
   "cell_type": "code",
   "source": [
    "#Code here\n",
    "\n",
    "a = np.arange(12)\n",
    "print(a)\n",
    "print(a % 2 == 1)\n",
    "a[a % 2 == 1] = -1\n",
    "print()\n",
    "print(a)"
   ],
   "metadata": {
    "id": "Bt83nXEVS5O4",
    "ExecuteTime": {
     "end_time": "2024-09-25T21:40:38.664077Z",
     "start_time": "2024-09-25T21:40:38.660363Z"
    }
   },
   "outputs": [
    {
     "name": "stdout",
     "output_type": "stream",
     "text": [
      "[ 0  1  2  3  4  5  6  7  8  9 10 11]\n",
      "[False  True False  True False  True False  True False  True False  True]\n",
      "\n",
      "[ 0 -1  2 -1  4 -1  6 -1  8 -1 10 -1]\n"
     ]
    }
   ],
   "execution_count": 113
  },
  {
   "cell_type": "markdown",
   "source": [
    "###`Q-17:` Given two arrays of same shape make an array of max out of two arrays. (Numpy way)\n",
    "```\n",
    "a=np.array([6,3,1,5,8])\n",
    "b=np.array([3,2,1,7,2])\n",
    "\n",
    "Result-> [6 3 1 7 8]\n",
    "```"
   ],
   "metadata": {
    "id": "kf_qvmBxWIT_"
   }
  },
  {
   "cell_type": "code",
   "source": [
    "#Code here\n",
    "a = np.array([6, 3, 1, 5, 8])\n",
    "b = np.array([3, 2, 1, 7, 2])\n",
    "\n",
    "a[b>a] = b[a<b] \n",
    "print(a)"
   ],
   "metadata": {
    "id": "TB9ZvF-EZSfu",
    "ExecuteTime": {
     "end_time": "2024-09-25T21:43:33.386194Z",
     "start_time": "2024-09-25T21:43:33.382277Z"
    }
   },
   "outputs": [
    {
     "name": "stdout",
     "output_type": "stream",
     "text": [
      "[6 3 1 7 8]\n"
     ]
    }
   ],
   "execution_count": 118
  },
  {
   "cell_type": "code",
   "source": [],
   "metadata": {
    "id": "D7ad-A6jZzCL"
   },
   "execution_count": null,
   "outputs": []
  },
  {
   "cell_type": "markdown",
   "source": [
    "###`Q-18` Answer below asked questions on given array:\n",
    "1. Fetch Every alternate column of the array\n",
    "2. Normalise the given array\n",
    "\n",
    "https://en.wikipedia.org/wiki/Normalization_(statistics)\n",
    "\n",
    "There are different form of normalisation for this question use below formula.\n",
    "\n",
    "$$\\large X_{normalized} = \\frac{X - X_{min}}{X_{max} - X_{min}}$$\n",
    "\n",
    "```python\n",
    "arr1=np.random.randint(low=1, high=10000, size=40).reshape(8,5)\n",
    "```\n"
   ],
   "metadata": {
    "id": "iOQLUIeGc3zA"
   }
  },
  {
   "cell_type": "code",
   "source": [
    "# Given\n",
    "arr1 = np.random.randint(low=1, high=10000, size=40).reshape(8, 5)\n",
    "print(arr1)\n",
    "print()\n",
    "print(arr1[:,::2])"
   ],
   "metadata": {
    "colab": {
     "base_uri": "https://localhost:8080/"
    },
    "id": "vjSm18k3d_1p",
    "outputId": "83d23b61-d2ae-41bc-e91e-0e0722667521",
    "ExecuteTime": {
     "end_time": "2024-09-25T21:48:38.579850Z",
     "start_time": "2024-09-25T21:48:38.575505Z"
    }
   },
   "outputs": [
    {
     "name": "stdout",
     "output_type": "stream",
     "text": [
      "[[3004 1439 4194 9741  776]\n",
      " [1927 3333 4407 8058  477]\n",
      " [7273 1799 6221 4524 3960]\n",
      " [1760 9520  328 8570 9569]\n",
      " [1689 3819 7680 9950 8415]\n",
      " [3496 8941 3977 1420 5317]\n",
      " [4758  489 4972 8062 1688]\n",
      " [8374 9928 2734 7440 9819]]\n",
      "\n",
      "[[3004 4194  776]\n",
      " [1927 4407  477]\n",
      " [7273 6221 3960]\n",
      " [1760  328 9569]\n",
      " [1689 7680 8415]\n",
      " [3496 3977 5317]\n",
      " [4758 4972 1688]\n",
      " [8374 2734 9819]]\n"
     ]
    }
   ],
   "execution_count": 125
  },
  {
   "cell_type": "code",
   "source": [
    "#Code here\n",
    "\n",
    "def normalize(arr):\n",
    "    return (arr - np.min(arr))/(np.max(arr) - np.min(arr))\n",
    "\n",
    "print(normalize(arr1))"
   ],
   "metadata": {
    "id": "d7u8DB47eBfQ",
    "ExecuteTime": {
     "end_time": "2024-09-25T21:49:48.838466Z",
     "start_time": "2024-09-25T21:49:48.834469Z"
    }
   },
   "outputs": [
    {
     "name": "stdout",
     "output_type": "stream",
     "text": [
      "[[0.27811266 0.11546456 0.40178757 0.97827894 0.04655997]\n",
      " [0.16618167 0.31230513 0.42392434 0.80336728 0.01548535]\n",
      " [0.72178341 0.15287882 0.61245063 0.43608397 0.3774683 ]\n",
      " [0.14882561 0.95531075 0.         0.85657867 0.96040324]\n",
      " [0.14144668 0.36281438 0.76408231 1.         0.84046976]\n",
      " [0.32924548 0.89513615 0.37923509 0.11348992 0.51849927]\n",
      " [0.46040324 0.01673249 0.48264394 0.803783   0.14134276]\n",
      " [0.83620869 0.99771357 0.25005196 0.73913947 0.98638537]]\n"
     ]
    }
   ],
   "execution_count": 128
  },
  {
   "metadata": {},
   "cell_type": "code",
   "outputs": [],
   "execution_count": null,
   "source": ""
  },
  {
   "cell_type": "markdown",
   "source": [
    "###`Q-19:` Write a function which will accept 2 arguments.\n",
    "First: A 1D numpy array arr\n",
    "\n",
    "Second: An integer n {Please make sure n<=len(arr)}\n",
    "\n",
    "Output: The output should be the nth largest item out of the array\n",
    "```\n",
    "# Example1 : arr=(12,34,40,7,1,0) and n=3, the output should be 12\n",
    "# Example2 : arr=(12,34,40,7,1,0) and n=1, the output should be 40\n",
    "```"
   ],
   "metadata": {
    "id": "jCzsVEKLgGNo"
   }
  },
  {
   "cell_type": "code",
   "source": [
    "#Code here\n",
    "def nth_largest(arr, n):\n",
    "    if n > len(arr):\n",
    "        raise IndexError('N is way out of limit')\n",
    "    arr.sort()\n",
    "    print(arr)\n",
    "    print()\n",
    "    return arr[-n]\n",
    "\n",
    "a = np.random.randint(3, 100, 10)\n",
    "print(a)\n",
    "print()\n",
    "nth_largest(a, 3)"
   ],
   "metadata": {
    "id": "J4AzkDk7gXSG",
    "ExecuteTime": {
     "end_time": "2024-09-25T21:56:24.870190Z",
     "start_time": "2024-09-25T21:56:24.863584Z"
    }
   },
   "outputs": [
    {
     "name": "stdout",
     "output_type": "stream",
     "text": [
      "[44 95 52 33 86 47 68 61 48 59]\n",
      "\n",
      "[33 44 47 48 52 59 61 68 86 95]\n",
      "\n"
     ]
    },
    {
     "data": {
      "text/plain": [
       "68"
      ]
     },
     "execution_count": 140,
     "metadata": {},
     "output_type": "execute_result"
    }
   ],
   "execution_count": 140
  },
  {
   "metadata": {
    "ExecuteTime": {
     "end_time": "2024-09-25T21:54:30.581557Z",
     "start_time": "2024-09-25T21:54:30.577854Z"
    }
   },
   "cell_type": "code",
   "source": "np.random.randint(3, 100, 10)",
   "outputs": [
    {
     "data": {
      "text/plain": [
       "array([69,  9, 55, 21, 48, 98, 10,  3, 54, 94])"
      ]
     },
     "execution_count": 132,
     "metadata": {},
     "output_type": "execute_result"
    }
   ],
   "execution_count": 132
  },
  {
   "cell_type": "markdown",
   "source": [
    "###`Q-20:` Create the following pattern without hardcoding. Use only numpy functions and the below input array a.\n",
    "```\n",
    "# Input: a = np.array([1,2,3])\n",
    "# Output: array([1, 1, 1, 2, 2, 2, 3, 3, 3, 1, 2, 3, 1, 2, 3, 1, 2, 3])\n",
    "```"
   ],
   "metadata": {
    "id": "ja0xPCgjhBsg"
   }
  },
  {
   "cell_type": "code",
   "source": [
    "#code her\n",
    "a = np.array([1, 2, 3])\n",
    "np.hstack([np.repeat(a, 3), np.tile(a, 3)])"
   ],
   "metadata": {
    "id": "CndS8TTNhG0F",
    "ExecuteTime": {
     "end_time": "2024-09-25T21:59:21.956272Z",
     "start_time": "2024-09-25T21:59:21.951052Z"
    }
   },
   "outputs": [
    {
     "data": {
      "text/plain": [
       "array([1, 1, 1, 2, 2, 2, 3, 3, 3, 1, 2, 3, 1, 2, 3, 1, 2, 3])"
      ]
     },
     "execution_count": 144,
     "metadata": {},
     "output_type": "execute_result"
    }
   ],
   "execution_count": 144
  }
 ]
}
