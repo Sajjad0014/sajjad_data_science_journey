{
 "cells": [
  {
   "cell_type": "code",
   "id": "initial_id",
   "metadata": {
    "collapsed": true,
    "ExecuteTime": {
     "end_time": "2025-02-10T20:08:09.576680Z",
     "start_time": "2025-02-10T20:08:09.573351Z"
    }
   },
   "source": [
    "import random\n",
    "import numpy as np"
   ],
   "outputs": [],
   "execution_count": 2
  },
  {
   "metadata": {
    "ExecuteTime": {
     "end_time": "2025-02-10T20:08:09.790643Z",
     "start_time": "2025-02-10T20:08:09.729102Z"
    }
   },
   "cell_type": "code",
   "source": [
    "outcome = []\n",
    "\n",
    "for i in range(100000):\n",
    "    outcome.append(random.randint(1, 6))\n",
    "\n",
    "np.array(outcome).mean()"
   ],
   "id": "d8547e4234131bca",
   "outputs": [
    {
     "data": {
      "text/plain": [
       "3.50139"
      ]
     },
     "execution_count": 3,
     "metadata": {},
     "output_type": "execute_result"
    }
   ],
   "execution_count": 3
  },
  {
   "metadata": {
    "ExecuteTime": {
     "end_time": "2025-02-10T20:08:09.994885Z",
     "start_time": "2025-02-10T20:08:09.981155Z"
    }
   },
   "cell_type": "code",
   "source": [
    "from mlxtend.evaluate import bias_variance_decomp\n",
    "from sklearn.tree import DecisionTreeRegressor\n",
    "from sklearn.linear_model import LinearRegression\n",
    "from mlxtend.data import boston_housing_data\n",
    "from sklearn.model_selection import train_test_split\n",
    "\n",
    "X, y = boston_housing_data()\n",
    "\n",
    "X_train, X_test, y_train, y_test = train_test_split(X, y, test_size=0.3, random_state=123, shuffle=True)\n",
    "\n",
    "print(X_train.shape)\n",
    "print(X_test.shape)"
   ],
   "id": "bdc7ce186af37662",
   "outputs": [
    {
     "name": "stdout",
     "output_type": "stream",
     "text": [
      "(354, 13)\n",
      "(152, 13)\n"
     ]
    }
   ],
   "execution_count": 4
  },
  {
   "metadata": {
    "ExecuteTime": {
     "end_time": "2025-02-10T20:13:36.479425Z",
     "start_time": "2025-02-10T20:13:36.368672Z"
    }
   },
   "cell_type": "code",
   "source": [
    "lr = LinearRegression()\n",
    "\n",
    "avg_expected_loss, avg_bias, avg_var = bias_variance_decomp(lr, X_train, y_train, X_test, y_test, loss='mse',\n",
    "                                                            random_seed=123)\n",
    "\n",
    "print('Average expected loss: %.3f' % avg_expected_loss)\n",
    "print('Bias square: Average bias: %.3f' % avg_bias)\n",
    "print('Average variance: %.3f' % avg_var)"
   ],
   "id": "6a442d78ce6f2329",
   "outputs": [
    {
     "name": "stdout",
     "output_type": "stream",
     "text": [
      "Average expected loss: 29.891\n",
      "Bias square: Average bias: 28.609\n",
      "Average variance: 1.282\n"
     ]
    }
   ],
   "execution_count": 7
  },
  {
   "metadata": {},
   "cell_type": "markdown",
   "source": [
    "For above results,\n",
    "\n",
    "The bias is high because the lin. reg. model is far away from the target but is very precise"
   ],
   "id": "4f777cd6311ed2b6"
  },
  {
   "metadata": {
    "ExecuteTime": {
     "end_time": "2025-02-10T20:13:37.638756Z",
     "start_time": "2025-02-10T20:13:37.062533Z"
    }
   },
   "cell_type": "code",
   "source": [
    "dt = DecisionTreeRegressor(random_state=123)\n",
    "\n",
    "avg_expected_loss, avg_bias, avg_var = bias_variance_decomp(dt, X_train, y_train, X_test, y_test, loss='mse',\n",
    "                                                            random_seed=123)\n",
    "\n",
    "print('Average expected loss: %.3f' % avg_expected_loss)\n",
    "print('Bias square: Average bias: %.3f' % avg_bias)\n",
    "print('Average variance: %.3f' % avg_var)"
   ],
   "id": "a283a86a8124b8fb",
   "outputs": [
    {
     "name": "stdout",
     "output_type": "stream",
     "text": [
      "Average expected loss: 31.536\n",
      "Bias square: Average bias: 14.096\n",
      "Average variance: 17.440\n"
     ]
    }
   ],
   "execution_count": 8
  },
  {
   "metadata": {},
   "cell_type": "markdown",
   "source": [
    "Coming to Decision Tree,\n",
    "\n",
    "The bias here is less but the variance is a bit more"
   ],
   "id": "3c7d731e6534cbe1"
  },
  {
   "metadata": {},
   "cell_type": "code",
   "outputs": [],
   "execution_count": null,
   "source": "",
   "id": "661d525ba779285c"
  }
 ],
 "metadata": {
  "kernelspec": {
   "display_name": "Python 3",
   "language": "python",
   "name": "python3"
  },
  "language_info": {
   "codemirror_mode": {
    "name": "ipython",
    "version": 2
   },
   "file_extension": ".py",
   "mimetype": "text/x-python",
   "name": "python",
   "nbconvert_exporter": "python",
   "pygments_lexer": "ipython2",
   "version": "2.7.6"
  }
 },
 "nbformat": 4,
 "nbformat_minor": 5
}
