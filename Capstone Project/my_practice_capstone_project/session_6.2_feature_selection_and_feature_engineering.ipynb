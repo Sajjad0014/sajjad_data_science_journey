{
 "cells": [
  {
   "cell_type": "code",
   "id": "initial_id",
   "metadata": {
    "collapsed": true,
    "ExecuteTime": {
     "end_time": "2025-07-25T02:51:53.539237Z",
     "start_time": "2025-07-25T02:51:53.535826Z"
    }
   },
   "source": [
    "import numpy as np\n",
    "import pandas as pd\n",
    "import matplotlib.pyplot as plt\n",
    "import seaborn as sns"
   ],
   "outputs": [],
   "execution_count": 1
  },
  {
   "metadata": {
    "ExecuteTime": {
     "end_time": "2025-07-25T02:52:03.052811Z",
     "start_time": "2025-07-25T02:52:03.048812Z"
    }
   },
   "cell_type": "code",
   "source": "pd.set_option('display.max_columns', None)",
   "id": "fab4756d2173e76b",
   "outputs": [],
   "execution_count": 2
  },
  {
   "metadata": {
    "ExecuteTime": {
     "end_time": "2025-07-25T02:52:20.605908Z",
     "start_time": "2025-07-25T02:52:20.576261Z"
    }
   },
   "cell_type": "code",
   "source": [
    "df = pd.read_csv('gurgaon_properties_missing_value_imputation.csv')\n",
    "df.shape"
   ],
   "id": "1b4f29cb6a87c481",
   "outputs": [
    {
     "data": {
      "text/plain": [
       "(3554, 18)"
      ]
     },
     "execution_count": 3,
     "metadata": {},
     "output_type": "execute_result"
    }
   ],
   "execution_count": 3
  },
  {
   "metadata": {
    "ExecuteTime": {
     "end_time": "2025-07-25T02:52:36.473579Z",
     "start_time": "2025-07-25T02:52:36.461580Z"
    }
   },
   "cell_type": "code",
   "source": "df.sample(5)",
   "id": "fb89eb24364aac1a",
   "outputs": [
    {
     "data": {
      "text/plain": [
       "     property_type                                       society     sector  \\\n",
       "2706          flat                                  elan mercado  sector 80   \n",
       "1723          flat                                   ss the leaf  sector 85   \n",
       "2966         house                                   independent  sector 24   \n",
       "271           flat                      pareena coban residences  sector 99   \n",
       "611           flat  central park flower valley aqua front towers  sector 33   \n",
       "\n",
       "      price  price_per_sqft  bedRoom  bathroom balcony  floorNum  \\\n",
       "2706   0.85         12409.0        1         1       1      15.0   \n",
       "1723   1.93          8075.0        3         4       3       7.0   \n",
       "2966   1.45          2984.0        3         3       1       2.0   \n",
       "271    1.30          6510.0        3         3       0      16.0   \n",
       "611    2.10         11738.0        3         3       2       6.0   \n",
       "\n",
       "           agePossession  built_up_area  study room  servant room  store room  \\\n",
       "2706      Relatively New          761.0           0             0           0   \n",
       "1723      Relatively New         2400.0           0             1           0   \n",
       "2966        Old Property          540.0           0             0           0   \n",
       "271         New Property         1997.0           0             0           0   \n",
       "611   Under Construction         1619.0           0             0           0   \n",
       "\n",
       "      pooja room  others  furnishing_type  luxury_score  \n",
       "2706           0       0                0            60  \n",
       "1723           0       0                0           174  \n",
       "2966           0       0                0             9  \n",
       "271            0       0                0             0  \n",
       "611            0       0                0            24  "
      ],
      "text/html": [
       "<div>\n",
       "<style scoped>\n",
       "    .dataframe tbody tr th:only-of-type {\n",
       "        vertical-align: middle;\n",
       "    }\n",
       "\n",
       "    .dataframe tbody tr th {\n",
       "        vertical-align: top;\n",
       "    }\n",
       "\n",
       "    .dataframe thead th {\n",
       "        text-align: right;\n",
       "    }\n",
       "</style>\n",
       "<table border=\"1\" class=\"dataframe\">\n",
       "  <thead>\n",
       "    <tr style=\"text-align: right;\">\n",
       "      <th></th>\n",
       "      <th>property_type</th>\n",
       "      <th>society</th>\n",
       "      <th>sector</th>\n",
       "      <th>price</th>\n",
       "      <th>price_per_sqft</th>\n",
       "      <th>bedRoom</th>\n",
       "      <th>bathroom</th>\n",
       "      <th>balcony</th>\n",
       "      <th>floorNum</th>\n",
       "      <th>agePossession</th>\n",
       "      <th>built_up_area</th>\n",
       "      <th>study room</th>\n",
       "      <th>servant room</th>\n",
       "      <th>store room</th>\n",
       "      <th>pooja room</th>\n",
       "      <th>others</th>\n",
       "      <th>furnishing_type</th>\n",
       "      <th>luxury_score</th>\n",
       "    </tr>\n",
       "  </thead>\n",
       "  <tbody>\n",
       "    <tr>\n",
       "      <th>2706</th>\n",
       "      <td>flat</td>\n",
       "      <td>elan mercado</td>\n",
       "      <td>sector 80</td>\n",
       "      <td>0.85</td>\n",
       "      <td>12409.0</td>\n",
       "      <td>1</td>\n",
       "      <td>1</td>\n",
       "      <td>1</td>\n",
       "      <td>15.0</td>\n",
       "      <td>Relatively New</td>\n",
       "      <td>761.0</td>\n",
       "      <td>0</td>\n",
       "      <td>0</td>\n",
       "      <td>0</td>\n",
       "      <td>0</td>\n",
       "      <td>0</td>\n",
       "      <td>0</td>\n",
       "      <td>60</td>\n",
       "    </tr>\n",
       "    <tr>\n",
       "      <th>1723</th>\n",
       "      <td>flat</td>\n",
       "      <td>ss the leaf</td>\n",
       "      <td>sector 85</td>\n",
       "      <td>1.93</td>\n",
       "      <td>8075.0</td>\n",
       "      <td>3</td>\n",
       "      <td>4</td>\n",
       "      <td>3</td>\n",
       "      <td>7.0</td>\n",
       "      <td>Relatively New</td>\n",
       "      <td>2400.0</td>\n",
       "      <td>0</td>\n",
       "      <td>1</td>\n",
       "      <td>0</td>\n",
       "      <td>0</td>\n",
       "      <td>0</td>\n",
       "      <td>0</td>\n",
       "      <td>174</td>\n",
       "    </tr>\n",
       "    <tr>\n",
       "      <th>2966</th>\n",
       "      <td>house</td>\n",
       "      <td>independent</td>\n",
       "      <td>sector 24</td>\n",
       "      <td>1.45</td>\n",
       "      <td>2984.0</td>\n",
       "      <td>3</td>\n",
       "      <td>3</td>\n",
       "      <td>1</td>\n",
       "      <td>2.0</td>\n",
       "      <td>Old Property</td>\n",
       "      <td>540.0</td>\n",
       "      <td>0</td>\n",
       "      <td>0</td>\n",
       "      <td>0</td>\n",
       "      <td>0</td>\n",
       "      <td>0</td>\n",
       "      <td>0</td>\n",
       "      <td>9</td>\n",
       "    </tr>\n",
       "    <tr>\n",
       "      <th>271</th>\n",
       "      <td>flat</td>\n",
       "      <td>pareena coban residences</td>\n",
       "      <td>sector 99</td>\n",
       "      <td>1.30</td>\n",
       "      <td>6510.0</td>\n",
       "      <td>3</td>\n",
       "      <td>3</td>\n",
       "      <td>0</td>\n",
       "      <td>16.0</td>\n",
       "      <td>New Property</td>\n",
       "      <td>1997.0</td>\n",
       "      <td>0</td>\n",
       "      <td>0</td>\n",
       "      <td>0</td>\n",
       "      <td>0</td>\n",
       "      <td>0</td>\n",
       "      <td>0</td>\n",
       "      <td>0</td>\n",
       "    </tr>\n",
       "    <tr>\n",
       "      <th>611</th>\n",
       "      <td>flat</td>\n",
       "      <td>central park flower valley aqua front towers</td>\n",
       "      <td>sector 33</td>\n",
       "      <td>2.10</td>\n",
       "      <td>11738.0</td>\n",
       "      <td>3</td>\n",
       "      <td>3</td>\n",
       "      <td>2</td>\n",
       "      <td>6.0</td>\n",
       "      <td>Under Construction</td>\n",
       "      <td>1619.0</td>\n",
       "      <td>0</td>\n",
       "      <td>0</td>\n",
       "      <td>0</td>\n",
       "      <td>0</td>\n",
       "      <td>0</td>\n",
       "      <td>0</td>\n",
       "      <td>24</td>\n",
       "    </tr>\n",
       "  </tbody>\n",
       "</table>\n",
       "</div>"
      ]
     },
     "execution_count": 5,
     "metadata": {},
     "output_type": "execute_result"
    }
   ],
   "execution_count": 5
  },
  {
   "metadata": {},
   "cell_type": "markdown",
   "source": "We are not going to ask society as an input for predictive modeling. Same for price_per_sqft",
   "id": "98ca6d1e7ff40605"
  },
  {
   "metadata": {
    "ExecuteTime": {
     "end_time": "2025-07-25T02:53:59.712211Z",
     "start_time": "2025-07-25T02:53:59.700050Z"
    }
   },
   "cell_type": "code",
   "source": [
    "train_df = df.drop(columns=['society', 'price_per_sqft'])\n",
    "train_df.head()"
   ],
   "id": "8952948d76fd7ac8",
   "outputs": [
    {
     "data": {
      "text/plain": [
       "  property_type      sector  price  bedRoom  bathroom balcony  floorNum  \\\n",
       "0          flat   sector 36   0.82        3         2       2       2.0   \n",
       "1          flat   sector 89   0.95        2         2       2       4.0   \n",
       "2          flat  sohna road   0.32        2         2       1      17.0   \n",
       "3          flat   sector 92   1.60        3         4      3+      10.0   \n",
       "4          flat  sector 102   0.48        2         2       1       5.0   \n",
       "\n",
       "    agePossession  built_up_area  study room  servant room  store room  \\\n",
       "0    New Property          850.0           0             0           0   \n",
       "1    New Property         1226.0           1             1           0   \n",
       "2    New Property         1000.0           0             0           0   \n",
       "3  Relatively New         1615.0           0             1           0   \n",
       "4  Relatively New          582.0           0             0           1   \n",
       "\n",
       "   pooja room  others  furnishing_type  luxury_score  \n",
       "0           0       0                0             8  \n",
       "1           0       0                0            38  \n",
       "2           0       0                0            49  \n",
       "3           0       1                1           174  \n",
       "4           0       0                0           159  "
      ],
      "text/html": [
       "<div>\n",
       "<style scoped>\n",
       "    .dataframe tbody tr th:only-of-type {\n",
       "        vertical-align: middle;\n",
       "    }\n",
       "\n",
       "    .dataframe tbody tr th {\n",
       "        vertical-align: top;\n",
       "    }\n",
       "\n",
       "    .dataframe thead th {\n",
       "        text-align: right;\n",
       "    }\n",
       "</style>\n",
       "<table border=\"1\" class=\"dataframe\">\n",
       "  <thead>\n",
       "    <tr style=\"text-align: right;\">\n",
       "      <th></th>\n",
       "      <th>property_type</th>\n",
       "      <th>sector</th>\n",
       "      <th>price</th>\n",
       "      <th>bedRoom</th>\n",
       "      <th>bathroom</th>\n",
       "      <th>balcony</th>\n",
       "      <th>floorNum</th>\n",
       "      <th>agePossession</th>\n",
       "      <th>built_up_area</th>\n",
       "      <th>study room</th>\n",
       "      <th>servant room</th>\n",
       "      <th>store room</th>\n",
       "      <th>pooja room</th>\n",
       "      <th>others</th>\n",
       "      <th>furnishing_type</th>\n",
       "      <th>luxury_score</th>\n",
       "    </tr>\n",
       "  </thead>\n",
       "  <tbody>\n",
       "    <tr>\n",
       "      <th>0</th>\n",
       "      <td>flat</td>\n",
       "      <td>sector 36</td>\n",
       "      <td>0.82</td>\n",
       "      <td>3</td>\n",
       "      <td>2</td>\n",
       "      <td>2</td>\n",
       "      <td>2.0</td>\n",
       "      <td>New Property</td>\n",
       "      <td>850.0</td>\n",
       "      <td>0</td>\n",
       "      <td>0</td>\n",
       "      <td>0</td>\n",
       "      <td>0</td>\n",
       "      <td>0</td>\n",
       "      <td>0</td>\n",
       "      <td>8</td>\n",
       "    </tr>\n",
       "    <tr>\n",
       "      <th>1</th>\n",
       "      <td>flat</td>\n",
       "      <td>sector 89</td>\n",
       "      <td>0.95</td>\n",
       "      <td>2</td>\n",
       "      <td>2</td>\n",
       "      <td>2</td>\n",
       "      <td>4.0</td>\n",
       "      <td>New Property</td>\n",
       "      <td>1226.0</td>\n",
       "      <td>1</td>\n",
       "      <td>1</td>\n",
       "      <td>0</td>\n",
       "      <td>0</td>\n",
       "      <td>0</td>\n",
       "      <td>0</td>\n",
       "      <td>38</td>\n",
       "    </tr>\n",
       "    <tr>\n",
       "      <th>2</th>\n",
       "      <td>flat</td>\n",
       "      <td>sohna road</td>\n",
       "      <td>0.32</td>\n",
       "      <td>2</td>\n",
       "      <td>2</td>\n",
       "      <td>1</td>\n",
       "      <td>17.0</td>\n",
       "      <td>New Property</td>\n",
       "      <td>1000.0</td>\n",
       "      <td>0</td>\n",
       "      <td>0</td>\n",
       "      <td>0</td>\n",
       "      <td>0</td>\n",
       "      <td>0</td>\n",
       "      <td>0</td>\n",
       "      <td>49</td>\n",
       "    </tr>\n",
       "    <tr>\n",
       "      <th>3</th>\n",
       "      <td>flat</td>\n",
       "      <td>sector 92</td>\n",
       "      <td>1.60</td>\n",
       "      <td>3</td>\n",
       "      <td>4</td>\n",
       "      <td>3+</td>\n",
       "      <td>10.0</td>\n",
       "      <td>Relatively New</td>\n",
       "      <td>1615.0</td>\n",
       "      <td>0</td>\n",
       "      <td>1</td>\n",
       "      <td>0</td>\n",
       "      <td>0</td>\n",
       "      <td>1</td>\n",
       "      <td>1</td>\n",
       "      <td>174</td>\n",
       "    </tr>\n",
       "    <tr>\n",
       "      <th>4</th>\n",
       "      <td>flat</td>\n",
       "      <td>sector 102</td>\n",
       "      <td>0.48</td>\n",
       "      <td>2</td>\n",
       "      <td>2</td>\n",
       "      <td>1</td>\n",
       "      <td>5.0</td>\n",
       "      <td>Relatively New</td>\n",
       "      <td>582.0</td>\n",
       "      <td>0</td>\n",
       "      <td>0</td>\n",
       "      <td>1</td>\n",
       "      <td>0</td>\n",
       "      <td>0</td>\n",
       "      <td>0</td>\n",
       "      <td>159</td>\n",
       "    </tr>\n",
       "  </tbody>\n",
       "</table>\n",
       "</div>"
      ]
     },
     "execution_count": 6,
     "metadata": {},
     "output_type": "execute_result"
    }
   ],
   "execution_count": 6
  },
  {
   "metadata": {
    "ExecuteTime": {
     "end_time": "2025-07-25T02:54:19.529455Z",
     "start_time": "2025-07-25T02:54:19.247431Z"
    }
   },
   "cell_type": "code",
   "source": "sns.heatmap(train_df.corr(numeric_only=True))",
   "id": "83664cd55c6e20fd",
   "outputs": [
    {
     "data": {
      "text/plain": [
       "<Axes: >"
      ]
     },
     "execution_count": 8,
     "metadata": {},
     "output_type": "execute_result"
    },
    {
     "data": {
      "text/plain": [
       "<Figure size 640x480 with 2 Axes>"
      ],
      "image/png": "[encoded data removed]"
     },
     "metadata": {},
     "output_type": "display_data"
    }
   ],
   "execution_count": 8
  },
  {
   "metadata": {
    "ExecuteTime": {
     "end_time": "2025-07-26T02:32:48.938858Z",
     "start_time": "2025-07-26T02:32:48.910568Z"
    }
   },
   "cell_type": "code",
   "source": "print(train_df.corr(numeric_only=True)['price'].sort_values(ascending=False))",
   "id": "f03ea9f7dc350037",
   "outputs": [
    {
     "name": "stdout",
     "output_type": "stream",
     "text": [
      "price              1.000000\n",
      "built_up_area      0.748574\n",
      "bathroom           0.609777\n",
      "bedRoom            0.591289\n",
      "servant room       0.391930\n",
      "pooja room         0.319852\n",
      "store room         0.305677\n",
      "study room         0.242955\n",
      "furnishing_type    0.225625\n",
      "luxury_score       0.091473\n",
      "others            -0.013064\n",
      "floorNum          -0.087442\n",
      "Name: price, dtype: float64\n"
     ]
    }
   ],
   "execution_count": 12
  },
  {
   "metadata": {
    "ExecuteTime": {
     "end_time": "2025-07-26T02:34:24.531064Z",
     "start_time": "2025-07-26T02:34:24.527066Z"
    }
   },
   "cell_type": "code",
   "source": [
    "# Cols in question\n",
    "\n",
    "# numerical -> luxury_score, others, floorNum\n",
    "# categorical -> property_type, sector, agePossession"
   ],
   "id": "3e42ab5ba3872108",
   "outputs": [],
   "execution_count": 13
  },
  {
   "metadata": {},
   "cell_type": "code",
   "outputs": [],
   "execution_count": null,
   "source": "",
   "id": "cd478b9a1aa20700"
  }
 ],
 "metadata": {
  "kernelspec": {
   "display_name": "Python 3",
   "language": "python",
   "name": "python3"
  },
  "language_info": {
   "codemirror_mode": {
    "name": "ipython",
    "version": 2
   },
   "file_extension": ".py",
   "mimetype": "text/x-python",
   "name": "python",
   "nbconvert_exporter": "python",
   "pygments_lexer": "ipython2",
   "version": "2.7.6"
  }
 },
 "nbformat": 4,
 "nbformat_minor": 5
}
