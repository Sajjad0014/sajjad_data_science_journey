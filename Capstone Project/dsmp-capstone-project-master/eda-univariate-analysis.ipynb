{
 "cells": [
  {
   "cell_type": "code",
   "id": "54076bbd",
   "metadata": {},
   "source": [
    "import pandas as pd\n",
    "import numpy as np\n",
    "import matplotlib.pyplot as plt\n",
    "import seaborn as sns"
   ],
   "outputs": [],
   "execution_count": null
  },
  {
   "cell_type": "code",
   "id": "cf5aa6a2",
   "metadata": {},
   "source": [
    "df = pd.read_csv('gurgaon_properties_cleaned_v2.csv')"
   ],
   "outputs": [],
   "execution_count": null
  },
  {
   "cell_type": "code",
   "id": "ca3369b7",
   "metadata": {},
   "source": [
    "df.head()"
   ],
   "outputs": [],
   "execution_count": null
  },
  {
   "cell_type": "code",
   "id": "611a3665",
   "metadata": {},
   "source": [
    "df.shape"
   ],
   "outputs": [],
   "execution_count": null
  },
  {
   "cell_type": "code",
   "id": "82b8c41d",
   "metadata": {},
   "source": [
    "df.info()"
   ],
   "outputs": [],
   "execution_count": null
  },
  {
   "cell_type": "code",
   "id": "7205eb3d",
   "metadata": {},
   "source": [
    "df.duplicated().sum()"
   ],
   "outputs": [],
   "execution_count": null
  },
  {
   "cell_type": "code",
   "id": "5ff1b123",
   "metadata": {},
   "source": [
    "df.drop_duplicates(inplace=True)"
   ],
   "outputs": [],
   "execution_count": null
  },
  {
   "cell_type": "code",
   "id": "2e7b8af3",
   "metadata": {},
   "source": [
    "df.head()"
   ],
   "outputs": [],
   "execution_count": null
  },
  {
   "cell_type": "markdown",
   "id": "056eaf91",
   "metadata": {},
   "source": [
    "### property_type"
   ]
  },
  {
   "cell_type": "code",
   "id": "88c9fe72",
   "metadata": {},
   "source": [
    "df['property_type'].value_counts().plot(kind='bar',)"
   ],
   "outputs": [],
   "execution_count": null
  },
  {
   "cell_type": "markdown",
   "id": "e7bf41ed",
   "metadata": {},
   "source": [
    "#### Observations\n",
    "\n",
    "- Flats are in majority(75 percent) and there are less number of houses(~25 percent)\n",
    "- No missing values"
   ]
  },
  {
   "cell_type": "markdown",
   "id": "8cb9e092",
   "metadata": {},
   "source": [
    "### society"
   ]
  },
  {
   "cell_type": "code",
   "id": "8a51c475",
   "metadata": {},
   "source": [
    "df['society'].value_counts().shape"
   ],
   "outputs": [],
   "execution_count": null
  },
  {
   "cell_type": "code",
   "id": "d496d31f",
   "metadata": {},
   "source": [
    "df['society'].value_counts()"
   ],
   "outputs": [],
   "execution_count": null
  },
  {
   "cell_type": "code",
   "id": "4e52cd44",
   "metadata": {},
   "source": [
    "df[df['society'] != 'independent']['society'].value_counts(normalize=True).cumsum().head(75)"
   ],
   "outputs": [],
   "execution_count": null
  },
  {
   "cell_type": "code",
   "id": "d68a149f",
   "metadata": {},
   "source": [
    "society_counts = df['society'].value_counts()\n",
    "\n",
    "# Frequency distribution for societies\n",
    "frequency_bins = {\n",
    "    \"Very High (>100)\": (society_counts > 100).sum(),\n",
    "    \"High (50-100)\": ((society_counts >= 50) & (society_counts <= 100)).sum(),\n",
    "    \"Average (10-49)\": ((society_counts >= 10) & (society_counts < 50)).sum(),\n",
    "    \"Low (2-9)\": ((society_counts > 1) & (society_counts < 10)).sum(),\n",
    "    \"Very Low (1)\": (society_counts == 1).sum()\n",
    "}\n",
    "frequency_bins"
   ],
   "outputs": [],
   "execution_count": null
  },
  {
   "cell_type": "code",
   "id": "0fbabda6",
   "metadata": {},
   "source": [
    "# top 10 socities\n",
    "df[df['society'] != 'independent']['society'].value_counts().head(10).plot(kind='bar')"
   ],
   "outputs": [],
   "execution_count": null
  },
  {
   "cell_type": "code",
   "id": "c4d00037",
   "metadata": {},
   "source": [
    "df['society'].isnull().sum()"
   ],
   "outputs": [],
   "execution_count": null
  },
  {
   "cell_type": "code",
   "id": "6509b715",
   "metadata": {},
   "source": [
    "df[df['society'].isnull()]"
   ],
   "outputs": [],
   "execution_count": null
  },
  {
   "cell_type": "markdown",
   "id": "b240feb1",
   "metadata": {},
   "source": [
    "#### Observations\n",
    "\n",
    "- Around 13% properties comes under independent tag.\n",
    "- There are 675 societies. \n",
    "- The top 75 societies have 50 percent of the preperties and the rest 50 percent of the properties come under the remaining 600 societies\n",
    "    - Very High (>100): Only 1 society has more than 100 listings.\n",
    "    - High (50-100): 2 societies have between 50 to 100 listings.\n",
    "    - Average (10-49): 92 societies fall in this range with 10 to 49 listings each.\n",
    "    - Low (2-9): 273 societies have between 2 to 9 listings.\n",
    "    - Very Low (1): A significant number, 308 societies, have only 1 listing.\n",
    "- 1 missing value"
   ]
  },
  {
   "cell_type": "markdown",
   "id": "2cf823d5",
   "metadata": {},
   "source": [
    "### sector"
   ]
  },
  {
   "cell_type": "code",
   "id": "9490f061",
   "metadata": {},
   "source": [
    "# unique sectors\n",
    "df['sector'].value_counts().shape"
   ],
   "outputs": [],
   "execution_count": null
  },
  {
   "cell_type": "code",
   "id": "f0c46677",
   "metadata": {},
   "source": [
    "# top 10 sectors\n",
    "df['sector'].value_counts().head(10).plot(kind='bar')"
   ],
   "outputs": [],
   "execution_count": null
  },
  {
   "cell_type": "code",
   "id": "227b69cc",
   "metadata": {},
   "source": [
    "# Frequency distribution for sectors\n",
    "sector_counts = df['sector'].value_counts()\n",
    "\n",
    "sector_frequency_bins = {\n",
    "    \"Very High (>100)\": (sector_counts > 100).sum(),\n",
    "    \"High (50-100)\": ((sector_counts >= 50) & (sector_counts <= 100)).sum(),\n",
    "    \"Average (10-49)\": ((sector_counts >= 10) & (sector_counts < 50)).sum(),\n",
    "    \"Low (2-9)\": ((sector_counts > 1) & (sector_counts < 10)).sum(),\n",
    "    \"Very Low (1)\": (sector_counts == 1).sum()\n",
    "}\n",
    "\n",
    "sector_frequency_bins"
   ],
   "outputs": [],
   "execution_count": null
  },
  {
   "cell_type": "markdown",
   "id": "9fc2b96e",
   "metadata": {},
   "source": [
    "#### Observations\n",
    "\n",
    "- There are a total of 104 unique sectors in the dataset.\n",
    "- Frequency distribution of sectors:\n",
    "    - Very High (>100): 3 sectors have more than 100 listings.\n",
    "    - High (50-100): 25 sectors have between 50 to 100 listings.\n",
    "    - Average (10-49): A majority, 60 sectors, fall in this range with 10 to 49 listings each.\n",
    "    - Low (2-9): 16 sectors have between 2 to 9 listings.\n",
    "    - Very Low (1): Interestingly, there are no sectors with only 1 listing."
   ]
  },
  {
   "cell_type": "markdown",
   "id": "ebc6c66a",
   "metadata": {},
   "source": [
    "### Price"
   ]
  },
  {
   "cell_type": "code",
   "id": "ed008885",
   "metadata": {},
   "source": [
    "df['price'].isnull().sum()"
   ],
   "outputs": [],
   "execution_count": null
  },
  {
   "cell_type": "code",
   "id": "21041d71",
   "metadata": {},
   "source": [
    "df['price'].describe()"
   ],
   "outputs": [],
   "execution_count": null
  },
  {
   "cell_type": "code",
   "id": "dcd16341",
   "metadata": {},
   "source": [
    "sns.histplot(df['price'], kde=True, bins=50)"
   ],
   "outputs": [],
   "execution_count": null
  },
  {
   "cell_type": "code",
   "id": "bc7ea5c8",
   "metadata": {},
   "source": [
    "sns.boxplot(x=df['price'], color='lightgreen')\n",
    "plt.grid()"
   ],
   "outputs": [],
   "execution_count": null
  },
  {
   "cell_type": "markdown",
   "id": "5f910d8f",
   "metadata": {},
   "source": [
    "- Descriptive Statistics:\n",
    "\n",
    "    - Count: There are 3,660 non-missing price entries.\n",
    "    - Mean Price: The average price is approximately 2.53 crores.\n",
    "    - Median Price: The median (or 50th percentile) price is 1.52 crores.\n",
    "    - Standard Deviation: The prices have a standard deviation of 2.98, indicating variability in the prices.\n",
    "    - Range: Prices range from a minimum of 0.07 crores to a maximum of 31.5 crores.\n",
    "    - IQR: The interquartile range (difference between 75th and 25th percentile) is from 0.95 crores to 2.75 crores.\n",
    "\n",
    "\n",
    "- Visualizations:\n",
    "\n",
    "    - Distribution: The histogram indicates that most properties are priced in the lower range (below 5 crores), with a few properties going beyond 10 crores.\n",
    "    - Box Plot: The box plot showcases the spread of the data and potential outliers. Properties priced above approximately 10 crores might be considered outliers as they lie beyond the upper whisker of the box plot.\n",
    " \n",
    "\n",
    "- Missing Values: There are 17 missing values in the price column."
   ]
  },
  {
   "cell_type": "code",
   "id": "a769c5f8",
   "metadata": {},
   "source": [
    "# Skewness and Kurtosis\n",
    "skewness = df['price'].skew()\n",
    "kurtosis = df['price'].kurt()\n",
    "\n",
    "print(skewness,kurtosis)"
   ],
   "outputs": [],
   "execution_count": null
  },
  {
   "cell_type": "markdown",
   "id": "77c35665",
   "metadata": {},
   "source": [
    "**Skewness**: The price distribution has a skewness of approximately 3.28, indicating a positive skew. This means that the distribution tail is skewed to the right, which aligns with our observation from the histogram where most properties have prices on the lower end with a few high-priced properties.\n",
    "\n",
    "**Kurtosis**: The kurtosis value is approximately 14.93. A kurtosis value greater than 3 indicates a distribution with heavier tails and more outliers compared to a normal distribution."
   ]
  },
  {
   "cell_type": "code",
   "id": "dd7cca36",
   "metadata": {},
   "source": [
    "# Quantile Analysis\n",
    "quantiles = df['price'].quantile([0.01, 0.05, 0.95, 0.99])\n",
    "\n",
    "quantiles"
   ],
   "outputs": [],
   "execution_count": null
  },
  {
   "cell_type": "markdown",
   "id": "a5ec3767",
   "metadata": {},
   "source": [
    "Quantile Analysis:\n",
    "\n",
    "- 1% Quantile: Only 1% of properties are priced below 0.25 crores.\n",
    "- 5% Quantile: 5% of properties are priced below 0.37 crores.\n",
    "- 95% Quantile: 95% of properties are priced below 8.5 crores.\n",
    "- 99% Quantile: 99% of properties are priced below 15.26 crores, indicating that very few properties are priced above this value."
   ]
  },
  {
   "cell_type": "code",
   "id": "c9b659c2",
   "metadata": {},
   "source": [
    "# Identify potential outliers using IQR method\n",
    "Q1 = df['price'].describe()['25%']\n",
    "Q3 = df['price'].describe()['75%']\n",
    "IQR = Q3 - Q1\n",
    "\n",
    "IQR"
   ],
   "outputs": [],
   "execution_count": null
  },
  {
   "cell_type": "code",
   "id": "0e06931b",
   "metadata": {},
   "source": [
    "lower_bound = Q1 - 1.5 * IQR\n",
    "upper_bound = Q3 + 1.5 * IQR\n",
    "\n",
    "print(lower_bound, upper_bound)"
   ],
   "outputs": [],
   "execution_count": null
  },
  {
   "cell_type": "code",
   "id": "1b6b09fa",
   "metadata": {},
   "source": [
    "outliers = df[(df['price'] < lower_bound) | (df['price'] > upper_bound)]\n",
    "outliers.shape"
   ],
   "outputs": [],
   "execution_count": null
  },
  {
   "cell_type": "code",
   "id": "81eb93a2",
   "metadata": {},
   "source": [
    "outliers['price'].describe()"
   ],
   "outputs": [],
   "execution_count": null
  },
  {
   "cell_type": "markdown",
   "id": "33ae240e",
   "metadata": {},
   "source": [
    "Outliers Analysis (using IQR method):\n",
    "\n",
    "- Based on the IQR method, there are 425 properties considered as outliers.\n",
    "- These outliers have an average price of approximately 9.24 crores.\n",
    "- The range for these outliers is from 5.46 crores to 31.5 crores."
   ]
  },
  {
   "cell_type": "code",
   "id": "da192879",
   "metadata": {},
   "source": [
    "# price binning\n",
    "bins = [0, 1, 2, 3, 5, 10, 20, 50]\n",
    "bin_labels = [\"0-1\", \"1-2\", \"2-3\", \"3-5\", \"5-10\", \"10-20\", \"20-50\"]\n",
    "pd.cut(df['price'], bins=bins, labels=bin_labels, right=False).value_counts().sort_index().plot(kind='bar')"
   ],
   "outputs": [],
   "execution_count": null
  },
  {
   "cell_type": "markdown",
   "id": "b6cbcac3",
   "metadata": {},
   "source": [
    "- The majority of properties are priced in the \"1-2 crores\" and \"2-3 crores\" ranges.\n",
    "- There's a significant drop in the number of properties priced above \"5 crores.\""
   ]
  },
  {
   "cell_type": "code",
   "id": "3273f0a4",
   "metadata": {},
   "source": [
    "# ecdf plot\n",
    "ecdf = df['price'].value_counts().sort_index().cumsum() / len(df['price'])\n",
    "plt.plot(ecdf.index, ecdf, marker='.', linestyle='none')\n",
    "plt.grid()"
   ],
   "outputs": [],
   "execution_count": null
  },
  {
   "cell_type": "code",
   "id": "48b52bfb",
   "metadata": {},
   "source": [
    "plt.figure(figsize=(15, 6))\n",
    "\n",
    "# Distribution plot without log transformation\n",
    "plt.subplot(1, 2, 1)\n",
    "sns.histplot(df['price'], kde=True, bins=50, color='skyblue')\n",
    "plt.title('Distribution of Prices (Original)')\n",
    "plt.xlabel('Price (in Crores)')\n",
    "plt.ylabel('Frequency')\n",
    "\n",
    "# Distribution plot with log transformation\n",
    "plt.subplot(1, 2, 2)\n",
    "sns.histplot(np.log1p(df['price']), kde=True, bins=50, color='lightgreen')\n",
    "plt.title('Distribution of Prices (Log Transformed)')\n",
    "plt.xlabel('Log(Price)')\n",
    "plt.ylabel('Frequency')\n",
    "\n",
    "plt.tight_layout()\n",
    "plt.show()"
   ],
   "outputs": [],
   "execution_count": null
  },
  {
   "cell_type": "markdown",
   "id": "1c7e7e35",
   "metadata": {},
   "source": [
    "np.log1p(x): This function computes the natural logarithm of 1+x. \n",
    "It's designed to provide more accurate results for values of x that are very close to zero.\n",
    "\n",
    "Using np.log1p helps in transforming the price column while ensuring that any value (including zero, if present) is handled appropriately. When we need to reverse the transformation, we can use np.expm1 which computes e^x-1"
   ]
  },
  {
   "cell_type": "code",
   "id": "7ef29268",
   "metadata": {},
   "source": [
    "skewness = np.log1p(df['price']).skew()\n",
    "kurtosis = np.log1p(df['price']).kurt()\n",
    "\n",
    "print(skewness,kurtosis)"
   ],
   "outputs": [],
   "execution_count": null
  },
  {
   "cell_type": "code",
   "id": "a48210af",
   "metadata": {},
   "source": [
    "plt.figure(figsize=(15, 6))\n",
    "\n",
    "# Distribution plot without log transformation\n",
    "plt.subplot(1, 2, 1)\n",
    "sns.boxplot(df['price'], color='skyblue')\n",
    "plt.title('Distribution of Prices (Original)')\n",
    "plt.xlabel('Price (in Crores)')\n",
    "plt.ylabel('Frequency')\n",
    "\n",
    "# Distribution plot with log transformation\n",
    "plt.subplot(1, 2, 2)\n",
    "sns.boxplot(np.log1p(df['price']), color='lightgreen')\n",
    "plt.title('Distribution of Prices (Log Transformed)')\n",
    "plt.xlabel('Log(Price)')\n",
    "plt.ylabel('Frequency')\n",
    "\n",
    "plt.tight_layout()\n",
    "plt.show()"
   ],
   "outputs": [],
   "execution_count": null
  },
  {
   "cell_type": "markdown",
   "id": "79b6e90d",
   "metadata": {},
   "source": [
    "### price_per_sqft"
   ]
  },
  {
   "cell_type": "code",
   "id": "61815722",
   "metadata": {},
   "source": [
    "df['price_per_sqft'].isnull().sum()"
   ],
   "outputs": [],
   "execution_count": null
  },
  {
   "cell_type": "code",
   "id": "4a673f44",
   "metadata": {},
   "source": [
    "df['price_per_sqft'].describe()"
   ],
   "outputs": [],
   "execution_count": null
  },
  {
   "cell_type": "code",
   "id": "11494fb9",
   "metadata": {},
   "source": [
    "sns.histplot(df['price_per_sqft'], bins=50, color='skyblue', kde=True)"
   ],
   "outputs": [],
   "execution_count": null
  },
  {
   "cell_type": "markdown",
   "id": "097b73bf",
   "metadata": {},
   "source": [
    "Most properties have a price_per_sqft ranging between approximately ₹0 and ₹40,000. There is a significant concentration in the lower range, with a few properties having exceptionally high price_per_sqft."
   ]
  },
  {
   "cell_type": "code",
   "id": "3bcc4766",
   "metadata": {},
   "source": [
    "sns.boxplot(df['price_per_sqft'], color='lightgreen')"
   ],
   "outputs": [],
   "execution_count": null
  },
  {
   "cell_type": "markdown",
   "id": "3b9027fd",
   "metadata": {},
   "source": [
    "The box plot clearly shows several outliers, especially on the higher side. The interquartile range (IQR) is relatively compact, but there are many data points beyond the \"whiskers\" of the box plot, indicating potential outliers"
   ]
  },
  {
   "cell_type": "markdown",
   "id": "d1fa1ba5",
   "metadata": {},
   "source": [
    "#### Observations\n",
    "\n",
    "- Potential Outliers\n",
    "- Right Skewed\n",
    "- 17 missing values"
   ]
  },
  {
   "cell_type": "markdown",
   "id": "d8455a2d",
   "metadata": {},
   "source": [
    "### bedRoom"
   ]
  },
  {
   "cell_type": "code",
   "id": "d8ad1fec",
   "metadata": {},
   "source": [
    "df['bedRoom'].isnull().sum()"
   ],
   "outputs": [],
   "execution_count": null
  },
  {
   "cell_type": "code",
   "id": "9350d57b",
   "metadata": {},
   "source": [
    "df['bedRoom'].value_counts().sort_index().plot(kind='bar')"
   ],
   "outputs": [],
   "execution_count": null
  },
  {
   "cell_type": "code",
   "id": "79d4ab41",
   "metadata": {},
   "source": [
    "df['bedRoom'].value_counts(normalize=True).head().plot(kind='pie',autopct='%0.2f%%')"
   ],
   "outputs": [],
   "execution_count": null
  },
  {
   "cell_type": "markdown",
   "id": "37feac0c",
   "metadata": {},
   "source": [
    "### bathroom"
   ]
  },
  {
   "cell_type": "code",
   "id": "fb928658",
   "metadata": {},
   "source": [
    "df['bathroom'].isnull().sum()"
   ],
   "outputs": [],
   "execution_count": null
  },
  {
   "cell_type": "code",
   "id": "8bef3d48",
   "metadata": {},
   "source": [
    "df['bathroom'].value_counts().sort_index().plot(kind='bar')"
   ],
   "outputs": [],
   "execution_count": null
  },
  {
   "cell_type": "code",
   "id": "b8a28001",
   "metadata": {},
   "source": [
    "df['bathroom'].value_counts(normalize=True).head().plot(kind='pie',autopct='%0.2f%%')"
   ],
   "outputs": [],
   "execution_count": null
  },
  {
   "cell_type": "code",
   "id": "cb0a1a1e",
   "metadata": {},
   "source": [
    "df.head()"
   ],
   "outputs": [],
   "execution_count": null
  },
  {
   "cell_type": "markdown",
   "id": "67be5832",
   "metadata": {},
   "source": [
    "### balcony"
   ]
  },
  {
   "cell_type": "code",
   "id": "99081980",
   "metadata": {},
   "source": [
    "df['balcony'].isnull().sum()"
   ],
   "outputs": [],
   "execution_count": null
  },
  {
   "cell_type": "code",
   "id": "a694fbee",
   "metadata": {},
   "source": [
    "df['balcony'].value_counts().plot(kind='bar')"
   ],
   "outputs": [],
   "execution_count": null
  },
  {
   "cell_type": "code",
   "id": "91ee6d81",
   "metadata": {},
   "source": [
    "df['balcony'].value_counts(normalize=True).head().plot(kind='pie',autopct='%0.2f%%')"
   ],
   "outputs": [],
   "execution_count": null
  },
  {
   "cell_type": "code",
   "id": "6230d50a",
   "metadata": {},
   "source": [
    "### floorNum"
   ],
   "outputs": [],
   "execution_count": null
  },
  {
   "cell_type": "code",
   "id": "0750294d",
   "metadata": {},
   "source": [
    "df.iloc[:,10:].head()"
   ],
   "outputs": [],
   "execution_count": null
  },
  {
   "cell_type": "code",
   "id": "4935ccd5",
   "metadata": {},
   "source": [
    "df['floorNum'].isnull().sum()"
   ],
   "outputs": [],
   "execution_count": null
  },
  {
   "cell_type": "code",
   "id": "754be8fc",
   "metadata": {},
   "source": [
    "df['floorNum'].describe()"
   ],
   "outputs": [],
   "execution_count": null
  },
  {
   "cell_type": "code",
   "id": "53ee2641",
   "metadata": {},
   "source": [
    "df['floorNum'].value_counts().sort_index().plot(kind='bar')"
   ],
   "outputs": [],
   "execution_count": null
  },
  {
   "cell_type": "code",
   "id": "d7b71b07",
   "metadata": {},
   "source": [
    "sns.boxplot(df['floorNum'], color='lightgreen')"
   ],
   "outputs": [],
   "execution_count": null
  },
  {
   "cell_type": "markdown",
   "id": "4267239b",
   "metadata": {},
   "source": [
    "- The majority of the properties lie between the ground floor (0) and the 25th floor.\n",
    "- Floors 1 to 4 are particularly common, with the 3rd floor being the most frequent.\n",
    "- There are a few properties located at higher floors, but their frequency is much lower.\n",
    "- The box plot reveals that the majority of the properties are concentrated around the lower floors. The interquartile range (IQR) lies between approximately the 2nd and 10th floors.\n",
    "- Data points beyond the \"whiskers\" of the box plot, especially on the higher side, indicate potential outliers."
   ]
  },
  {
   "cell_type": "markdown",
   "id": "1e823d7e",
   "metadata": {},
   "source": [
    "### facing"
   ]
  },
  {
   "cell_type": "code",
   "id": "c51cb12e",
   "metadata": {},
   "source": [
    "df['facing'].isnull().sum()"
   ],
   "outputs": [],
   "execution_count": null
  },
  {
   "cell_type": "code",
   "id": "a5bbac41",
   "metadata": {},
   "source": [
    "df['facing'].fillna('NA',inplace=True)"
   ],
   "outputs": [],
   "execution_count": null
  },
  {
   "cell_type": "code",
   "id": "98aed58b",
   "metadata": {},
   "source": [
    "df['facing'].value_counts()"
   ],
   "outputs": [],
   "execution_count": null
  },
  {
   "cell_type": "markdown",
   "id": "3e2ba0a4",
   "metadata": {},
   "source": [
    "### agePossession"
   ]
  },
  {
   "cell_type": "code",
   "id": "cbe070c9",
   "metadata": {},
   "source": [
    "df['agePossession'].isnull().sum()"
   ],
   "outputs": [],
   "execution_count": null
  },
  {
   "cell_type": "code",
   "id": "fb180d39",
   "metadata": {},
   "source": [
    "df['agePossession'].value_counts()"
   ],
   "outputs": [],
   "execution_count": null
  },
  {
   "cell_type": "markdown",
   "id": "ff6c5368",
   "metadata": {},
   "source": [
    "### areas"
   ]
  },
  {
   "cell_type": "code",
   "id": "4147d7f5",
   "metadata": {},
   "source": [
    "# super built up area\n",
    "df['super_built_up_area'].isnull().sum()"
   ],
   "outputs": [],
   "execution_count": null
  },
  {
   "cell_type": "code",
   "id": "2d82347a",
   "metadata": {},
   "source": [
    "df['super_built_up_area'].describe()"
   ],
   "outputs": [],
   "execution_count": null
  },
  {
   "cell_type": "code",
   "id": "8a98a800",
   "metadata": {},
   "source": [
    "sns.histplot(df['super_built_up_area'].dropna(), bins=50, color='skyblue', kde=True)"
   ],
   "outputs": [],
   "execution_count": null
  },
  {
   "cell_type": "code",
   "id": "c3ec9322",
   "metadata": {},
   "source": [
    "sns.boxplot(df['super_built_up_area'].dropna(), color='lightgreen')"
   ],
   "outputs": [],
   "execution_count": null
  },
  {
   "cell_type": "markdown",
   "id": "e8fa985d",
   "metadata": {},
   "source": [
    "- Most properties have a super built-up area ranging between approximately 1,000 sq.ft and 2,500 sq.ft.\n",
    "- There are a few properties with a significantly larger area, leading to a right-skewed distribution.\n",
    "- The interquartile range (IQR) lies between roughly 1,480 sq.ft and 2,215 sq.ft, indicating that the middle 50% of the properties fall within this range.\n",
    "- There are several data points beyond the upper \"whisker\" of the box plot, indicating potential outliers. These are properties with an unusually large super built-up area."
   ]
  },
  {
   "cell_type": "code",
   "id": "d1259daf",
   "metadata": {},
   "source": [
    "# built up area\n",
    "df['built_up_area'].isnull().sum()"
   ],
   "outputs": [],
   "execution_count": null
  },
  {
   "cell_type": "code",
   "id": "80e3c3f3",
   "metadata": {},
   "source": [
    "df['built_up_area'].describe()"
   ],
   "outputs": [],
   "execution_count": null
  },
  {
   "cell_type": "code",
   "id": "625c2d17",
   "metadata": {},
   "source": [
    "sns.histplot(df['built_up_area'].dropna(), bins=50, color='skyblue', kde=False)"
   ],
   "outputs": [],
   "execution_count": null
  },
  {
   "cell_type": "code",
   "id": "d97261e0",
   "metadata": {},
   "source": [
    "sns.boxplot(df['built_up_area'].dropna(), color='lightgreen')"
   ],
   "outputs": [],
   "execution_count": null
  },
  {
   "cell_type": "markdown",
   "id": "02ef3001",
   "metadata": {},
   "source": [
    "- Most properties have a built-up area ranging roughly between 500 sq.ft and 3,500 sq.ft.\n",
    "- There are very few properties with a much larger built-up area, leading to a highly right-skewed distribution.\n",
    "- The box plot confirms the presence of significant outliers on the higher side. The data's interquartile range (IQR) is relatively compact, but the \"whiskers\" of the box plot are stretched due to the outliers.\n",
    "\n",
    "\n",
    "The presence of extreme values, especially on the higher side, suggests that there may be outliers or data errors. This could also be due to some properties being exceptionally large, like a commercial complex or an entire building being listed."
   ]
  },
  {
   "cell_type": "code",
   "id": "b3e8bdc5",
   "metadata": {},
   "source": [
    "# carpet area\n",
    "df['carpet_area'].isnull().sum()"
   ],
   "outputs": [],
   "execution_count": null
  },
  {
   "cell_type": "code",
   "id": "fa9e67bf",
   "metadata": {},
   "source": [
    "df['carpet_area'].describe()"
   ],
   "outputs": [],
   "execution_count": null
  },
  {
   "cell_type": "code",
   "id": "ba3f54f4",
   "metadata": {},
   "source": [
    "sns.histplot(df['carpet_area'].dropna(), bins=50, color='skyblue', kde=False)"
   ],
   "outputs": [],
   "execution_count": null
  },
  {
   "cell_type": "code",
   "id": "52a48184",
   "metadata": {},
   "source": [
    "sns.boxplot(df['carpet_area'].dropna(), color='lightgreen')"
   ],
   "outputs": [],
   "execution_count": null
  },
  {
   "cell_type": "code",
   "id": "62b73abe",
   "metadata": {},
   "source": [
    "df.iloc[:,16:]"
   ],
   "outputs": [],
   "execution_count": null
  },
  {
   "cell_type": "markdown",
   "id": "e9c5a831",
   "metadata": {},
   "source": [
    "### additional rooms"
   ]
  },
  {
   "cell_type": "code",
   "id": "a4b9a9de",
   "metadata": {},
   "source": [
    "plt.figure(figsize=(20, 12))\n",
    "\n",
    "# Create a subplot of pie charts for each room type\n",
    "for idx, room in enumerate(['study room','servant room','store room','pooja room','others'], 1):\n",
    "    ax = plt.subplot(2, 3, idx)\n",
    "    df[room].value_counts().plot.pie(autopct='%1.1f%%', startangle=90, ax=ax)\n",
    "    plt.title(f'Distribution of {room.title()}')\n",
    "    plt.ylabel('')\n",
    "\n",
    "plt.tight_layout()\n",
    "plt.show()"
   ],
   "outputs": [],
   "execution_count": null
  },
  {
   "cell_type": "markdown",
   "id": "5f52f98c",
   "metadata": {},
   "source": [
    "### furnishing_type"
   ]
  },
  {
   "cell_type": "code",
   "id": "264ba490",
   "metadata": {},
   "source": [
    "df['furnishing_type'].value_counts()"
   ],
   "outputs": [],
   "execution_count": null
  },
  {
   "cell_type": "code",
   "id": "0fb27980",
   "metadata": {},
   "source": [
    "df['furnishing_type'].value_counts().plot(kind='pie',autopct='%0.2f%%')"
   ],
   "outputs": [],
   "execution_count": null
  },
  {
   "cell_type": "markdown",
   "id": "e387801c",
   "metadata": {},
   "source": [
    "### luxury score"
   ]
  },
  {
   "cell_type": "code",
   "id": "e6fef53d",
   "metadata": {},
   "source": [
    "df['luxury_score'].isnull().sum()"
   ],
   "outputs": [],
   "execution_count": null
  },
  {
   "cell_type": "code",
   "id": "2e73221b",
   "metadata": {},
   "source": [
    "df['luxury_score'].describe()"
   ],
   "outputs": [],
   "execution_count": null
  },
  {
   "cell_type": "code",
   "id": "95e272d0",
   "metadata": {},
   "source": [
    "sns.histplot(df['luxury_score'], bins=50, color='skyblue', kde=True)"
   ],
   "outputs": [],
   "execution_count": null
  },
  {
   "cell_type": "code",
   "id": "95061cb0",
   "metadata": {},
   "source": [
    "sns.boxplot(df['luxury_score'], color='lightgreen')"
   ],
   "outputs": [],
   "execution_count": null
  },
  {
   "cell_type": "markdown",
   "id": "f03fdea8",
   "metadata": {},
   "source": [
    "The luxury score distribution has multiple peaks, suggesting a multi-modal distribution. There's a significant number of properties with lower luxury scores (around 0-50), and another peak is observed around the 110-130 range.\n",
    "\n",
    "The box plot reveals that the majority of the properties have luxury scores between approximately 30 and 110. The interquartile range (IQR) lies between these values."
   ]
  },
  {
   "cell_type": "code",
   "id": "67a66f1e",
   "metadata": {},
   "source": [
    "df.head()"
   ],
   "outputs": [],
   "execution_count": null
  },
  {
   "cell_type": "code",
   "id": "33276940",
   "metadata": {},
   "source": [],
   "outputs": [],
   "execution_count": null
  }
 ],
 "metadata": {
  "kernelspec": {
   "display_name": "Python 3 (ipykernel)",
   "language": "python",
   "name": "python3"
  },
  "language_info": {
   "codemirror_mode": {
    "name": "ipython",
    "version": 3
   },
   "file_extension": ".py",
   "mimetype": "text/x-python",
   "name": "python",
   "nbconvert_exporter": "python",
   "pygments_lexer": "ipython3",
   "version": "3.9.7"
  }
 },
 "nbformat": 4,
 "nbformat_minor": 5
}
