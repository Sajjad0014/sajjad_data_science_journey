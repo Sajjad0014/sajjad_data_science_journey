{
 "cells": [
  {
   "cell_type": "code",
   "id": "34d6c8ad",
   "metadata": {},
   "source": [
    "import numpy as np\n",
    "import pandas as pd"
   ],
   "outputs": [],
   "execution_count": null
  },
  {
   "cell_type": "code",
   "id": "518edf29",
   "metadata": {},
   "source": [
    "pd.set_option('display.max_rows', None)\n",
    "pd.set_option('display.max_columns', None)"
   ],
   "outputs": [],
   "execution_count": null
  },
  {
   "cell_type": "code",
   "id": "42d848f1",
   "metadata": {},
   "source": [
    "df = pd.read_csv('houses.csv')\n",
    "df.sample(5)"
   ],
   "outputs": [],
   "execution_count": null
  },
  {
   "cell_type": "code",
   "id": "490b121d",
   "metadata": {},
   "source": [
    "# shape\n",
    "df.shape"
   ],
   "outputs": [],
   "execution_count": null
  },
  {
   "cell_type": "code",
   "id": "6255ed4e",
   "metadata": {},
   "source": [
    "# info\n",
    "df.info()"
   ],
   "outputs": [],
   "execution_count": null
  },
  {
   "cell_type": "code",
   "id": "a1bf81ac",
   "metadata": {},
   "source": [
    "# check for duplicates\n",
    "df.duplicated().sum()"
   ],
   "outputs": [],
   "execution_count": null
  },
  {
   "cell_type": "code",
   "id": "434a207a",
   "metadata": {},
   "source": [
    "df = df.drop_duplicates()"
   ],
   "outputs": [],
   "execution_count": null
  },
  {
   "cell_type": "code",
   "id": "c305893e",
   "metadata": {},
   "source": [
    "df.shape"
   ],
   "outputs": [],
   "execution_count": null
  },
  {
   "cell_type": "code",
   "id": "2a6264a0",
   "metadata": {},
   "source": [
    "# check for missing values\n",
    "df.isnull().sum()"
   ],
   "outputs": [],
   "execution_count": null
  },
  {
   "cell_type": "code",
   "id": "84503f4b",
   "metadata": {},
   "source": [
    "# Columns to drop -> property_name, link, property_id\n",
    "df.drop(columns=['link','property_id'], inplace=True)"
   ],
   "outputs": [],
   "execution_count": null
  },
  {
   "cell_type": "code",
   "id": "9e29fad3",
   "metadata": {},
   "source": [
    "df.head()"
   ],
   "outputs": [],
   "execution_count": null
  },
  {
   "cell_type": "code",
   "id": "ebba15d1",
   "metadata": {},
   "source": [
    "# rename columns\n",
    "df.rename(columns={'rate':'price_per_sqft'},inplace=True)\n",
    "df.head()"
   ],
   "outputs": [],
   "execution_count": null
  },
  {
   "cell_type": "code",
   "id": "4ae1312a",
   "metadata": {},
   "source": [
    "# society\n",
    "df['society'].value_counts()"
   ],
   "outputs": [],
   "execution_count": null
  },
  {
   "cell_type": "code",
   "id": "2b450a6c",
   "metadata": {},
   "source": [
    "df['society'].value_counts().shape"
   ],
   "outputs": [],
   "execution_count": null
  },
  {
   "cell_type": "code",
   "id": "4c75cad4",
   "metadata": {},
   "source": [
    "import re\n",
    "df['society'] = df['society'].apply(lambda name: re.sub(r'\\d+(\\.\\d+)?\\s?★', '', str(name)).strip()).str.lower()"
   ],
   "outputs": [],
   "execution_count": null
  },
  {
   "cell_type": "code",
   "id": "1ee81c7e",
   "metadata": {},
   "source": [
    "df['society'].value_counts().shape"
   ],
   "outputs": [],
   "execution_count": null
  },
  {
   "cell_type": "code",
   "id": "842b0992",
   "metadata": {},
   "source": [
    "df['society'] = df['society'].str.replace('nan','independent')"
   ],
   "outputs": [],
   "execution_count": null
  },
  {
   "cell_type": "code",
   "id": "88364065",
   "metadata": {},
   "source": [
    "df.head()"
   ],
   "outputs": [],
   "execution_count": null
  },
  {
   "cell_type": "code",
   "id": "43fb7863",
   "metadata": {},
   "source": [
    "# price\n",
    "df['price'].value_counts()"
   ],
   "outputs": [],
   "execution_count": null
  },
  {
   "cell_type": "code",
   "id": "60972df5",
   "metadata": {},
   "source": [
    "df = df[df['price'] != 'Price on Request']"
   ],
   "outputs": [],
   "execution_count": null
  },
  {
   "cell_type": "code",
   "id": "186b01aa",
   "metadata": {},
   "source": [
    "df.head()"
   ],
   "outputs": [],
   "execution_count": null
  },
  {
   "cell_type": "code",
   "id": "6ba78829",
   "metadata": {},
   "source": [
    "def treat_price(x):\n",
    "    if type(x) == float:\n",
    "        return x\n",
    "    else:\n",
    "        if x[1] == 'Lac':\n",
    "            return round(float(x[0])/100,2)\n",
    "        else:\n",
    "            return round(float(x[0]),2)"
   ],
   "outputs": [],
   "execution_count": null
  },
  {
   "cell_type": "code",
   "id": "1039efc9",
   "metadata": {},
   "source": [
    "df['price'] = df['price'].str.split(' ').apply(treat_price)"
   ],
   "outputs": [],
   "execution_count": null
  },
  {
   "cell_type": "code",
   "id": "5eed8759",
   "metadata": {},
   "source": [
    "df.head()"
   ],
   "outputs": [],
   "execution_count": null
  },
  {
   "cell_type": "code",
   "id": "2e481b95",
   "metadata": {},
   "source": [
    "# price_per_sqft\n",
    "df['price_per_sqft'].value_counts()"
   ],
   "outputs": [],
   "execution_count": null
  },
  {
   "cell_type": "code",
   "id": "d9e969fe",
   "metadata": {},
   "source": [
    "df['price_per_sqft'] = df['price_per_sqft'].str.split('/').str.get(0).str.replace('₹','').str.replace(',','').str.strip().astype('float')"
   ],
   "outputs": [],
   "execution_count": null
  },
  {
   "cell_type": "code",
   "id": "f7747561",
   "metadata": {},
   "source": [
    "df.head()"
   ],
   "outputs": [],
   "execution_count": null
  },
  {
   "cell_type": "code",
   "id": "edb4fa47",
   "metadata": {},
   "source": [
    "# bedrooms\n",
    "df['bedRoom'].value_counts()"
   ],
   "outputs": [],
   "execution_count": null
  },
  {
   "cell_type": "code",
   "id": "9e497e65",
   "metadata": {},
   "source": [
    "df[df['bedRoom'].isnull()]"
   ],
   "outputs": [],
   "execution_count": null
  },
  {
   "cell_type": "code",
   "id": "8cedb1fb",
   "metadata": {},
   "source": [
    "df = df[~df['bedRoom'].isnull()]"
   ],
   "outputs": [],
   "execution_count": null
  },
  {
   "cell_type": "code",
   "id": "c0522944",
   "metadata": {},
   "source": [
    "df.shape"
   ],
   "outputs": [],
   "execution_count": null
  },
  {
   "cell_type": "code",
   "id": "85292b47",
   "metadata": {},
   "source": [
    "df['bedRoom'] = df['bedRoom'].str.split(' ').str.get(0).astype('int')"
   ],
   "outputs": [],
   "execution_count": null
  },
  {
   "cell_type": "code",
   "id": "dceab73b",
   "metadata": {},
   "source": [
    "df.head()"
   ],
   "outputs": [],
   "execution_count": null
  },
  {
   "cell_type": "code",
   "id": "080eb0a5",
   "metadata": {},
   "source": [
    "# bathroom\n",
    "df['bathroom'].value_counts()"
   ],
   "outputs": [],
   "execution_count": null
  },
  {
   "cell_type": "code",
   "id": "2083beb3",
   "metadata": {},
   "source": [
    "df['bathroom'].isnull().sum()"
   ],
   "outputs": [],
   "execution_count": null
  },
  {
   "cell_type": "code",
   "id": "8f7a6297",
   "metadata": {},
   "source": [
    "df['bathroom'] = df['bathroom'].str.split(' ').str.get(0).astype('int')"
   ],
   "outputs": [],
   "execution_count": null
  },
  {
   "cell_type": "code",
   "id": "7252bc4e",
   "metadata": {},
   "source": [
    "df.head()"
   ],
   "outputs": [],
   "execution_count": null
  },
  {
   "cell_type": "code",
   "id": "1efcd8a4",
   "metadata": {},
   "source": [
    "# balcony\n",
    "df['balcony'].value_counts()"
   ],
   "outputs": [],
   "execution_count": null
  },
  {
   "cell_type": "code",
   "id": "37a2256a",
   "metadata": {},
   "source": [
    "df['balcony'].isnull().sum()"
   ],
   "outputs": [],
   "execution_count": null
  },
  {
   "cell_type": "code",
   "id": "393477eb",
   "metadata": {},
   "source": [
    "df['balcony'] = df['balcony'].str.split(' ').str.get(0).str.replace('No','0')"
   ],
   "outputs": [],
   "execution_count": null
  },
  {
   "cell_type": "code",
   "id": "60ddd3b1",
   "metadata": {},
   "source": [
    "df.head()"
   ],
   "outputs": [],
   "execution_count": null
  },
  {
   "cell_type": "code",
   "id": "4a0650a4",
   "metadata": {},
   "source": [
    "# additionalRoom\n",
    "df['additionalRoom'].value_counts()"
   ],
   "outputs": [],
   "execution_count": null
  },
  {
   "cell_type": "code",
   "id": "5b178b17",
   "metadata": {},
   "source": [
    "df['additionalRoom'].fillna('not available',inplace=True)"
   ],
   "outputs": [],
   "execution_count": null
  },
  {
   "cell_type": "code",
   "id": "c3170729",
   "metadata": {},
   "source": [
    "df['additionalRoom'] = df['additionalRoom'].str.lower()"
   ],
   "outputs": [],
   "execution_count": null
  },
  {
   "cell_type": "code",
   "id": "68708732",
   "metadata": {},
   "source": [
    "df.head()"
   ],
   "outputs": [],
   "execution_count": null
  },
  {
   "cell_type": "code",
   "id": "2ec6e365",
   "metadata": {},
   "source": [
    "# floors\n",
    "df['noOfFloor'].value_counts()"
   ],
   "outputs": [],
   "execution_count": null
  },
  {
   "cell_type": "code",
   "id": "c6cea689",
   "metadata": {},
   "source": [
    "df['noOfFloor'].isnull().sum()"
   ],
   "outputs": [],
   "execution_count": null
  },
  {
   "cell_type": "code",
   "id": "9fc1e962",
   "metadata": {},
   "source": [
    "df['noOfFloor'] = df['noOfFloor'].str.split(' ').str.get(0)"
   ],
   "outputs": [],
   "execution_count": null
  },
  {
   "cell_type": "code",
   "id": "4a155b1c",
   "metadata": {},
   "source": [
    "df.head()"
   ],
   "outputs": [],
   "execution_count": null
  },
  {
   "cell_type": "code",
   "id": "4f4af43e",
   "metadata": {},
   "source": [
    "df.rename(columns={'noOfFloor':'floorNum'},inplace=True)"
   ],
   "outputs": [],
   "execution_count": null
  },
  {
   "cell_type": "code",
   "id": "b0e545aa",
   "metadata": {},
   "source": [
    "df.head()"
   ],
   "outputs": [],
   "execution_count": null
  },
  {
   "cell_type": "code",
   "id": "e33bcbc9",
   "metadata": {},
   "source": [
    "df['facing'].fillna('NA',inplace=True)"
   ],
   "outputs": [],
   "execution_count": null
  },
  {
   "cell_type": "code",
   "id": "2bcfbd25",
   "metadata": {},
   "source": [
    "df['area'] = round((df['price']*10000000)/df['price_per_sqft'])"
   ],
   "outputs": [],
   "execution_count": null
  },
  {
   "cell_type": "code",
   "id": "7bd8654c",
   "metadata": {},
   "source": [
    "df.insert(loc=1,column='property_type',value='house')"
   ],
   "outputs": [],
   "execution_count": null
  },
  {
   "cell_type": "code",
   "id": "05471e7f",
   "metadata": {},
   "source": [
    "df.head()"
   ],
   "outputs": [],
   "execution_count": null
  },
  {
   "cell_type": "code",
   "id": "648772c5",
   "metadata": {},
   "source": [
    "df.shape"
   ],
   "outputs": [],
   "execution_count": null
  },
  {
   "cell_type": "code",
   "id": "17fbbdd5",
   "metadata": {},
   "source": [
    "df.info()"
   ],
   "outputs": [],
   "execution_count": null
  },
  {
   "cell_type": "code",
   "id": "844349a7",
   "metadata": {},
   "source": [
    "df.to_csv('house_cleaned.csv',index=False)"
   ],
   "outputs": [],
   "execution_count": null
  },
  {
   "cell_type": "code",
   "id": "e09d4822",
   "metadata": {},
   "source": [],
   "outputs": [],
   "execution_count": null
  }
 ],
 "metadata": {
  "kernelspec": {
   "display_name": "Python 3 (ipykernel)",
   "language": "python",
   "name": "python3"
  },
  "language_info": {
   "codemirror_mode": {
    "name": "ipython",
    "version": 3
   },
   "file_extension": ".py",
   "mimetype": "text/x-python",
   "name": "python",
   "nbconvert_exporter": "python",
   "pygments_lexer": "ipython3",
   "version": "3.9.7"
  }
 },
 "nbformat": 4,
 "nbformat_minor": 5
}
