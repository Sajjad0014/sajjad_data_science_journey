{
 "cells": [
  {
   "metadata": {
    "ExecuteTime": {
     "end_time": "2024-11-22T05:28:22.869848Z",
     "start_time": "2024-11-22T05:28:22.865569Z"
    }
   },
   "cell_type": "code",
   "source": [
    "import pandas as pd\n",
    "import numpy as np"
   ],
   "id": "73778bbae810576e",
   "outputs": [],
   "execution_count": 40
  },
  {
   "metadata": {
    "ExecuteTime": {
     "end_time": "2024-11-22T05:28:23.039135Z",
     "start_time": "2024-11-22T05:28:23.021340Z"
    }
   },
   "cell_type": "code",
   "source": "df1 = pd.read_csv('smartphones_part_1_done.csv')",
   "id": "744e4279e5160390",
   "outputs": [],
   "execution_count": 41
  },
  {
   "metadata": {
    "ExecuteTime": {
     "end_time": "2024-11-22T05:28:23.102898Z",
     "start_time": "2024-11-22T05:28:23.095355Z"
    }
   },
   "cell_type": "code",
   "source": "df1.drop('Unnamed: 0', axis=1, inplace=True)",
   "id": "a7d2dd4433d1922d",
   "outputs": [],
   "execution_count": 42
  },
  {
   "metadata": {},
   "cell_type": "markdown",
   "source": [
    "## Tidiness issues\n",
    "creating brand_name col from model col"
   ],
   "id": "5015846bc8b57971"
  },
  {
   "metadata": {
    "ExecuteTime": {
     "end_time": "2024-11-22T05:28:23.231550Z",
     "start_time": "2024-11-22T05:28:23.222481Z"
    }
   },
   "cell_type": "code",
   "source": [
    "brand_names = df1['model'].str.split(' ').str.get(0).str.lower()\n",
    "brand_names"
   ],
   "id": "b8c0e34b058d67a2",
   "outputs": [
    {
     "data": {
      "text/plain": [
       "0       oneplus\n",
       "1       oneplus\n",
       "2       samsung\n",
       "3      motorola\n",
       "4        realme\n",
       "         ...   \n",
       "977    motorola\n",
       "978       honor\n",
       "979        poco\n",
       "980    motorola\n",
       "981     samsung\n",
       "Name: model, Length: 982, dtype: object"
      ]
     },
     "execution_count": 43,
     "metadata": {},
     "output_type": "execute_result"
    }
   ],
   "execution_count": 43
  },
  {
   "metadata": {
    "ExecuteTime": {
     "end_time": "2024-11-22T05:28:23.317031Z",
     "start_time": "2024-11-22T05:28:23.312079Z"
    }
   },
   "cell_type": "code",
   "source": "df1.insert(1,'brand_names', brand_names)",
   "id": "9a122ea9bdf3bd5f",
   "outputs": [],
   "execution_count": 44
  },
  {
   "metadata": {
    "ExecuteTime": {
     "end_time": "2024-11-22T05:28:23.356450Z",
     "start_time": "2024-11-22T05:28:23.340435Z"
    }
   },
   "cell_type": "code",
   "source": "df1.head()",
   "id": "c1103bd3d959e9ca",
   "outputs": [
    {
     "data": {
      "text/plain": [
       "   index brand_names                      model  price  rating  \\\n",
       "0      2     oneplus              OnePlus 11 5G  54999    89.0   \n",
       "1      3     oneplus  OnePlus Nord CE 2 Lite 5G  19989    81.0   \n",
       "2      4     samsung      Samsung Galaxy A14 5G  16499    75.0   \n",
       "3      5    motorola       Motorola Moto G62 5G  14999    81.0   \n",
       "4      6      realme         Realme 10 Pro Plus  24999    82.0   \n",
       "\n",
       "                                       sim  \\\n",
       "0  Dual Sim, 3G, 4G, 5G, VoLTE, Wi-Fi, NFC   \n",
       "1       Dual Sim, 3G, 4G, 5G, VoLTE, Wi-Fi   \n",
       "2       Dual Sim, 3G, 4G, 5G, VoLTE, Wi-Fi   \n",
       "3       Dual Sim, 3G, 4G, 5G, VoLTE, Wi-Fi   \n",
       "4       Dual Sim, 3G, 4G, 5G, VoLTE, Wi-Fi   \n",
       "\n",
       "                                         processor                        ram  \\\n",
       "0  Snapdragon 8 Gen2, Octa Core, 3.2 GHz Processor  12 GB RAM, 256 GB inbuilt   \n",
       "1     Snapdragon 695, Octa Core, 2.2 GHz Processor   6 GB RAM, 128 GB inbuilt   \n",
       "2        Exynos 1330, Octa Core, 2.4 GHz Processor    4 GB RAM, 64 GB inbuilt   \n",
       "3    Snapdragon  695, Octa Core, 2.2 GHz Processor   6 GB RAM, 128 GB inbuilt   \n",
       "4     Dimensity 1080, Octa Core, 2.6 GHz Processor   6 GB RAM, 128 GB inbuilt   \n",
       "\n",
       "                                    battery  \\\n",
       "0  5000 mAh Battery with 100W Fast Charging   \n",
       "1   5000 mAh Battery with 33W Fast Charging   \n",
       "2   5000 mAh Battery with 15W Fast Charging   \n",
       "3       5000 mAh Battery with Fast Charging   \n",
       "4   5000 mAh Battery with 67W Fast Charging   \n",
       "\n",
       "                                             display  \\\n",
       "0  6.7 inches, 1440 x 3216 px, 120 Hz Display wit...   \n",
       "1  6.59 inches, 1080 x 2412 px, 120 Hz Display wi...   \n",
       "2  6.6 inches, 1080 x 2408 px, 90 Hz Display with...   \n",
       "3  6.55 inches, 1080 x 2400 px, 120 Hz Display wi...   \n",
       "4  6.7 inches, 1080 x 2412 px, 120 Hz Display wit...   \n",
       "\n",
       "                                              camera  \\\n",
       "0  50 MP + 48 MP + 32 MP Triple Rear & 16 MP Fron...   \n",
       "1  64 MP + 2 MP + 2 MP Triple Rear & 16 MP Front ...   \n",
       "2  50 MP + 2 MP + 2 MP Triple Rear & 13 MP Front ...   \n",
       "3  50 MP + 8 MP + 2 MP Triple Rear & 16 MP Front ...   \n",
       "4  108 MP + 8 MP + 2 MP Triple Rear & 16 MP Front...   \n",
       "\n",
       "                               card           os  \n",
       "0         Memory Card Not Supported  Android v13  \n",
       "1   Memory Card (Hybrid), upto 1 TB  Android v12  \n",
       "2  Memory Card Supported, upto 1 TB  Android v13  \n",
       "3   Memory Card (Hybrid), upto 1 TB  Android v12  \n",
       "4         Memory Card Not Supported  Android v13  "
      ],
      "text/html": [
       "<div>\n",
       "<style scoped>\n",
       "    .dataframe tbody tr th:only-of-type {\n",
       "        vertical-align: middle;\n",
       "    }\n",
       "\n",
       "    .dataframe tbody tr th {\n",
       "        vertical-align: top;\n",
       "    }\n",
       "\n",
       "    .dataframe thead th {\n",
       "        text-align: right;\n",
       "    }\n",
       "</style>\n",
       "<table border=\"1\" class=\"dataframe\">\n",
       "  <thead>\n",
       "    <tr style=\"text-align: right;\">\n",
       "      <th></th>\n",
       "      <th>index</th>\n",
       "      <th>brand_names</th>\n",
       "      <th>model</th>\n",
       "      <th>price</th>\n",
       "      <th>rating</th>\n",
       "      <th>sim</th>\n",
       "      <th>processor</th>\n",
       "      <th>ram</th>\n",
       "      <th>battery</th>\n",
       "      <th>display</th>\n",
       "      <th>camera</th>\n",
       "      <th>card</th>\n",
       "      <th>os</th>\n",
       "    </tr>\n",
       "  </thead>\n",
       "  <tbody>\n",
       "    <tr>\n",
       "      <th>0</th>\n",
       "      <td>2</td>\n",
       "      <td>oneplus</td>\n",
       "      <td>OnePlus 11 5G</td>\n",
       "      <td>54999</td>\n",
       "      <td>89.0</td>\n",
       "      <td>Dual Sim, 3G, 4G, 5G, VoLTE, Wi-Fi, NFC</td>\n",
       "      <td>Snapdragon 8 Gen2, Octa Core, 3.2 GHz Processor</td>\n",
       "      <td>12 GB RAM, 256 GB inbuilt</td>\n",
       "      <td>5000 mAh Battery with 100W Fast Charging</td>\n",
       "      <td>6.7 inches, 1440 x 3216 px, 120 Hz Display wit...</td>\n",
       "      <td>50 MP + 48 MP + 32 MP Triple Rear &amp; 16 MP Fron...</td>\n",
       "      <td>Memory Card Not Supported</td>\n",
       "      <td>Android v13</td>\n",
       "    </tr>\n",
       "    <tr>\n",
       "      <th>1</th>\n",
       "      <td>3</td>\n",
       "      <td>oneplus</td>\n",
       "      <td>OnePlus Nord CE 2 Lite 5G</td>\n",
       "      <td>19989</td>\n",
       "      <td>81.0</td>\n",
       "      <td>Dual Sim, 3G, 4G, 5G, VoLTE, Wi-Fi</td>\n",
       "      <td>Snapdragon 695, Octa Core, 2.2 GHz Processor</td>\n",
       "      <td>6 GB RAM, 128 GB inbuilt</td>\n",
       "      <td>5000 mAh Battery with 33W Fast Charging</td>\n",
       "      <td>6.59 inches, 1080 x 2412 px, 120 Hz Display wi...</td>\n",
       "      <td>64 MP + 2 MP + 2 MP Triple Rear &amp; 16 MP Front ...</td>\n",
       "      <td>Memory Card (Hybrid), upto 1 TB</td>\n",
       "      <td>Android v12</td>\n",
       "    </tr>\n",
       "    <tr>\n",
       "      <th>2</th>\n",
       "      <td>4</td>\n",
       "      <td>samsung</td>\n",
       "      <td>Samsung Galaxy A14 5G</td>\n",
       "      <td>16499</td>\n",
       "      <td>75.0</td>\n",
       "      <td>Dual Sim, 3G, 4G, 5G, VoLTE, Wi-Fi</td>\n",
       "      <td>Exynos 1330, Octa Core, 2.4 GHz Processor</td>\n",
       "      <td>4 GB RAM, 64 GB inbuilt</td>\n",
       "      <td>5000 mAh Battery with 15W Fast Charging</td>\n",
       "      <td>6.6 inches, 1080 x 2408 px, 90 Hz Display with...</td>\n",
       "      <td>50 MP + 2 MP + 2 MP Triple Rear &amp; 13 MP Front ...</td>\n",
       "      <td>Memory Card Supported, upto 1 TB</td>\n",
       "      <td>Android v13</td>\n",
       "    </tr>\n",
       "    <tr>\n",
       "      <th>3</th>\n",
       "      <td>5</td>\n",
       "      <td>motorola</td>\n",
       "      <td>Motorola Moto G62 5G</td>\n",
       "      <td>14999</td>\n",
       "      <td>81.0</td>\n",
       "      <td>Dual Sim, 3G, 4G, 5G, VoLTE, Wi-Fi</td>\n",
       "      <td>Snapdragon  695, Octa Core, 2.2 GHz Processor</td>\n",
       "      <td>6 GB RAM, 128 GB inbuilt</td>\n",
       "      <td>5000 mAh Battery with Fast Charging</td>\n",
       "      <td>6.55 inches, 1080 x 2400 px, 120 Hz Display wi...</td>\n",
       "      <td>50 MP + 8 MP + 2 MP Triple Rear &amp; 16 MP Front ...</td>\n",
       "      <td>Memory Card (Hybrid), upto 1 TB</td>\n",
       "      <td>Android v12</td>\n",
       "    </tr>\n",
       "    <tr>\n",
       "      <th>4</th>\n",
       "      <td>6</td>\n",
       "      <td>realme</td>\n",
       "      <td>Realme 10 Pro Plus</td>\n",
       "      <td>24999</td>\n",
       "      <td>82.0</td>\n",
       "      <td>Dual Sim, 3G, 4G, 5G, VoLTE, Wi-Fi</td>\n",
       "      <td>Dimensity 1080, Octa Core, 2.6 GHz Processor</td>\n",
       "      <td>6 GB RAM, 128 GB inbuilt</td>\n",
       "      <td>5000 mAh Battery with 67W Fast Charging</td>\n",
       "      <td>6.7 inches, 1080 x 2412 px, 120 Hz Display wit...</td>\n",
       "      <td>108 MP + 8 MP + 2 MP Triple Rear &amp; 16 MP Front...</td>\n",
       "      <td>Memory Card Not Supported</td>\n",
       "      <td>Android v13</td>\n",
       "    </tr>\n",
       "  </tbody>\n",
       "</table>\n",
       "</div>"
      ]
     },
     "execution_count": 45,
     "metadata": {},
     "output_type": "execute_result"
    }
   ],
   "execution_count": 45
  },
  {
   "metadata": {},
   "cell_type": "markdown",
   "source": "#### sim col",
   "id": "4ce28e9412a7a7ba"
  },
  {
   "metadata": {
    "ExecuteTime": {
     "end_time": "2024-11-22T05:28:23.406044Z",
     "start_time": "2024-11-22T05:28:23.397970Z"
    }
   },
   "cell_type": "code",
   "source": "print(df1['sim'].value_counts())",
   "id": "88731c0746f68331",
   "outputs": [
    {
     "name": "stdout",
     "output_type": "stream",
     "text": [
      "sim\n",
      "Dual Sim, 3G, 4G, VoLTE, Wi-Fi                               317\n",
      "Dual Sim, 3G, 4G, 5G, VoLTE, Wi-Fi, NFC                      268\n",
      "Dual Sim, 3G, 4G, 5G, VoLTE, Wi-Fi                           155\n",
      "Dual Sim, 3G, 4G, 5G, VoLTE, Wi-Fi, IR Blaster                54\n",
      "Dual Sim, 3G, 4G, 5G, VoLTE, Wi-Fi, NFC, IR Blaster           52\n",
      "Dual Sim, 3G, 4G, VoLTE, Wi-Fi, NFC                           46\n",
      "Dual Sim, 3G, 4G, VoLTE, Wi-Fi, IR Blaster                    46\n",
      "Dual Sim, 3G, 4G, Wi-Fi                                        7\n",
      "Dual Sim, 3G, 4G, 5G, VoLTE, Vo5G, Wi-Fi, NFC                  7\n",
      "Single Sim, 3G, 4G, 5G, VoLTE, Wi-Fi, NFC                      7\n",
      "Dual Sim, 3G, 4G, VoLTE, Wi-Fi, NFC, IR Blaster                5\n",
      "Single Sim, 3G, 4G, VoLTE, Wi-Fi, NFC                          4\n",
      "Single Sim, 3G, 4G, VoLTE, Wi-Fi                               3\n",
      "Dual Sim, 3G, 4G, 5G, VoLTE, Vo5G, Wi-Fi                       3\n",
      "Dual Sim, 3G, 4G, Wi-Fi, NFC                                   2\n",
      "Single Sim, 3G, 4G, Wi-Fi, NFC                                 1\n",
      "Single Sim, 3G, 4G, 5G, VoLTE, Wi-Fi                           1\n",
      "Dual Sim, 3G, 4G, VoLTE                                        1\n",
      "Dual Sim, 3G, Wi-Fi                                            1\n",
      "Dual Sim, 3G, 4G, 5G, VoLTE, Vo5G, Wi-Fi, IR Blaster           1\n",
      "Dual Sim, 3G, 4G, 5G, VoLTE, Vo5G, Wi-Fi, NFC, IR Blaster      1\n",
      "Name: count, dtype: int64\n"
     ]
    }
   ],
   "execution_count": 46
  },
  {
   "metadata": {
    "ExecuteTime": {
     "end_time": "2024-11-22T05:28:23.474414Z",
     "start_time": "2024-11-22T05:28:23.461713Z"
    }
   },
   "cell_type": "code",
   "source": [
    "has_5g = df1['sim'].str.contains('5G')\n",
    "has_nfc = df1['sim'].str.contains('NFC')\n",
    "has_ir_blaster = df1['sim'].str.contains('IR Blaster')"
   ],
   "id": "d7feb98b22cc9428",
   "outputs": [],
   "execution_count": 47
  },
  {
   "metadata": {
    "ExecuteTime": {
     "end_time": "2024-11-22T05:28:23.648769Z",
     "start_time": "2024-11-22T05:28:23.642895Z"
    }
   },
   "cell_type": "code",
   "source": [
    "# permanent operation\n",
    "df1.insert(6,'has_5g', has_5g)\n",
    "df1.insert(7,'has_nfc', has_nfc)\n",
    "df1.insert(8,'has_ir_blaster', has_ir_blaster)"
   ],
   "id": "2951cf1aebe2a272",
   "outputs": [],
   "execution_count": 48
  },
  {
   "metadata": {
    "ExecuteTime": {
     "end_time": "2024-11-22T05:28:23.755319Z",
     "start_time": "2024-11-22T05:28:23.735785Z"
    }
   },
   "cell_type": "code",
   "source": "df1.head()",
   "id": "9ed09bf0022cb26d",
   "outputs": [
    {
     "data": {
      "text/plain": [
       "   index brand_names                      model  price  rating  \\\n",
       "0      2     oneplus              OnePlus 11 5G  54999    89.0   \n",
       "1      3     oneplus  OnePlus Nord CE 2 Lite 5G  19989    81.0   \n",
       "2      4     samsung      Samsung Galaxy A14 5G  16499    75.0   \n",
       "3      5    motorola       Motorola Moto G62 5G  14999    81.0   \n",
       "4      6      realme         Realme 10 Pro Plus  24999    82.0   \n",
       "\n",
       "                                       sim  has_5g  has_nfc  has_ir_blaster  \\\n",
       "0  Dual Sim, 3G, 4G, 5G, VoLTE, Wi-Fi, NFC    True     True           False   \n",
       "1       Dual Sim, 3G, 4G, 5G, VoLTE, Wi-Fi    True    False           False   \n",
       "2       Dual Sim, 3G, 4G, 5G, VoLTE, Wi-Fi    True    False           False   \n",
       "3       Dual Sim, 3G, 4G, 5G, VoLTE, Wi-Fi    True    False           False   \n",
       "4       Dual Sim, 3G, 4G, 5G, VoLTE, Wi-Fi    True    False           False   \n",
       "\n",
       "                                         processor                        ram  \\\n",
       "0  Snapdragon 8 Gen2, Octa Core, 3.2 GHz Processor  12 GB RAM, 256 GB inbuilt   \n",
       "1     Snapdragon 695, Octa Core, 2.2 GHz Processor   6 GB RAM, 128 GB inbuilt   \n",
       "2        Exynos 1330, Octa Core, 2.4 GHz Processor    4 GB RAM, 64 GB inbuilt   \n",
       "3    Snapdragon  695, Octa Core, 2.2 GHz Processor   6 GB RAM, 128 GB inbuilt   \n",
       "4     Dimensity 1080, Octa Core, 2.6 GHz Processor   6 GB RAM, 128 GB inbuilt   \n",
       "\n",
       "                                    battery  \\\n",
       "0  5000 mAh Battery with 100W Fast Charging   \n",
       "1   5000 mAh Battery with 33W Fast Charging   \n",
       "2   5000 mAh Battery with 15W Fast Charging   \n",
       "3       5000 mAh Battery with Fast Charging   \n",
       "4   5000 mAh Battery with 67W Fast Charging   \n",
       "\n",
       "                                             display  \\\n",
       "0  6.7 inches, 1440 x 3216 px, 120 Hz Display wit...   \n",
       "1  6.59 inches, 1080 x 2412 px, 120 Hz Display wi...   \n",
       "2  6.6 inches, 1080 x 2408 px, 90 Hz Display with...   \n",
       "3  6.55 inches, 1080 x 2400 px, 120 Hz Display wi...   \n",
       "4  6.7 inches, 1080 x 2412 px, 120 Hz Display wit...   \n",
       "\n",
       "                                              camera  \\\n",
       "0  50 MP + 48 MP + 32 MP Triple Rear & 16 MP Fron...   \n",
       "1  64 MP + 2 MP + 2 MP Triple Rear & 16 MP Front ...   \n",
       "2  50 MP + 2 MP + 2 MP Triple Rear & 13 MP Front ...   \n",
       "3  50 MP + 8 MP + 2 MP Triple Rear & 16 MP Front ...   \n",
       "4  108 MP + 8 MP + 2 MP Triple Rear & 16 MP Front...   \n",
       "\n",
       "                               card           os  \n",
       "0         Memory Card Not Supported  Android v13  \n",
       "1   Memory Card (Hybrid), upto 1 TB  Android v12  \n",
       "2  Memory Card Supported, upto 1 TB  Android v13  \n",
       "3   Memory Card (Hybrid), upto 1 TB  Android v12  \n",
       "4         Memory Card Not Supported  Android v13  "
      ],
      "text/html": [
       "<div>\n",
       "<style scoped>\n",
       "    .dataframe tbody tr th:only-of-type {\n",
       "        vertical-align: middle;\n",
       "    }\n",
       "\n",
       "    .dataframe tbody tr th {\n",
       "        vertical-align: top;\n",
       "    }\n",
       "\n",
       "    .dataframe thead th {\n",
       "        text-align: right;\n",
       "    }\n",
       "</style>\n",
       "<table border=\"1\" class=\"dataframe\">\n",
       "  <thead>\n",
       "    <tr style=\"text-align: right;\">\n",
       "      <th></th>\n",
       "      <th>index</th>\n",
       "      <th>brand_names</th>\n",
       "      <th>model</th>\n",
       "      <th>price</th>\n",
       "      <th>rating</th>\n",
       "      <th>sim</th>\n",
       "      <th>has_5g</th>\n",
       "      <th>has_nfc</th>\n",
       "      <th>has_ir_blaster</th>\n",
       "      <th>processor</th>\n",
       "      <th>ram</th>\n",
       "      <th>battery</th>\n",
       "      <th>display</th>\n",
       "      <th>camera</th>\n",
       "      <th>card</th>\n",
       "      <th>os</th>\n",
       "    </tr>\n",
       "  </thead>\n",
       "  <tbody>\n",
       "    <tr>\n",
       "      <th>0</th>\n",
       "      <td>2</td>\n",
       "      <td>oneplus</td>\n",
       "      <td>OnePlus 11 5G</td>\n",
       "      <td>54999</td>\n",
       "      <td>89.0</td>\n",
       "      <td>Dual Sim, 3G, 4G, 5G, VoLTE, Wi-Fi, NFC</td>\n",
       "      <td>True</td>\n",
       "      <td>True</td>\n",
       "      <td>False</td>\n",
       "      <td>Snapdragon 8 Gen2, Octa Core, 3.2 GHz Processor</td>\n",
       "      <td>12 GB RAM, 256 GB inbuilt</td>\n",
       "      <td>5000 mAh Battery with 100W Fast Charging</td>\n",
       "      <td>6.7 inches, 1440 x 3216 px, 120 Hz Display wit...</td>\n",
       "      <td>50 MP + 48 MP + 32 MP Triple Rear &amp; 16 MP Fron...</td>\n",
       "      <td>Memory Card Not Supported</td>\n",
       "      <td>Android v13</td>\n",
       "    </tr>\n",
       "    <tr>\n",
       "      <th>1</th>\n",
       "      <td>3</td>\n",
       "      <td>oneplus</td>\n",
       "      <td>OnePlus Nord CE 2 Lite 5G</td>\n",
       "      <td>19989</td>\n",
       "      <td>81.0</td>\n",
       "      <td>Dual Sim, 3G, 4G, 5G, VoLTE, Wi-Fi</td>\n",
       "      <td>True</td>\n",
       "      <td>False</td>\n",
       "      <td>False</td>\n",
       "      <td>Snapdragon 695, Octa Core, 2.2 GHz Processor</td>\n",
       "      <td>6 GB RAM, 128 GB inbuilt</td>\n",
       "      <td>5000 mAh Battery with 33W Fast Charging</td>\n",
       "      <td>6.59 inches, 1080 x 2412 px, 120 Hz Display wi...</td>\n",
       "      <td>64 MP + 2 MP + 2 MP Triple Rear &amp; 16 MP Front ...</td>\n",
       "      <td>Memory Card (Hybrid), upto 1 TB</td>\n",
       "      <td>Android v12</td>\n",
       "    </tr>\n",
       "    <tr>\n",
       "      <th>2</th>\n",
       "      <td>4</td>\n",
       "      <td>samsung</td>\n",
       "      <td>Samsung Galaxy A14 5G</td>\n",
       "      <td>16499</td>\n",
       "      <td>75.0</td>\n",
       "      <td>Dual Sim, 3G, 4G, 5G, VoLTE, Wi-Fi</td>\n",
       "      <td>True</td>\n",
       "      <td>False</td>\n",
       "      <td>False</td>\n",
       "      <td>Exynos 1330, Octa Core, 2.4 GHz Processor</td>\n",
       "      <td>4 GB RAM, 64 GB inbuilt</td>\n",
       "      <td>5000 mAh Battery with 15W Fast Charging</td>\n",
       "      <td>6.6 inches, 1080 x 2408 px, 90 Hz Display with...</td>\n",
       "      <td>50 MP + 2 MP + 2 MP Triple Rear &amp; 13 MP Front ...</td>\n",
       "      <td>Memory Card Supported, upto 1 TB</td>\n",
       "      <td>Android v13</td>\n",
       "    </tr>\n",
       "    <tr>\n",
       "      <th>3</th>\n",
       "      <td>5</td>\n",
       "      <td>motorola</td>\n",
       "      <td>Motorola Moto G62 5G</td>\n",
       "      <td>14999</td>\n",
       "      <td>81.0</td>\n",
       "      <td>Dual Sim, 3G, 4G, 5G, VoLTE, Wi-Fi</td>\n",
       "      <td>True</td>\n",
       "      <td>False</td>\n",
       "      <td>False</td>\n",
       "      <td>Snapdragon  695, Octa Core, 2.2 GHz Processor</td>\n",
       "      <td>6 GB RAM, 128 GB inbuilt</td>\n",
       "      <td>5000 mAh Battery with Fast Charging</td>\n",
       "      <td>6.55 inches, 1080 x 2400 px, 120 Hz Display wi...</td>\n",
       "      <td>50 MP + 8 MP + 2 MP Triple Rear &amp; 16 MP Front ...</td>\n",
       "      <td>Memory Card (Hybrid), upto 1 TB</td>\n",
       "      <td>Android v12</td>\n",
       "    </tr>\n",
       "    <tr>\n",
       "      <th>4</th>\n",
       "      <td>6</td>\n",
       "      <td>realme</td>\n",
       "      <td>Realme 10 Pro Plus</td>\n",
       "      <td>24999</td>\n",
       "      <td>82.0</td>\n",
       "      <td>Dual Sim, 3G, 4G, 5G, VoLTE, Wi-Fi</td>\n",
       "      <td>True</td>\n",
       "      <td>False</td>\n",
       "      <td>False</td>\n",
       "      <td>Dimensity 1080, Octa Core, 2.6 GHz Processor</td>\n",
       "      <td>6 GB RAM, 128 GB inbuilt</td>\n",
       "      <td>5000 mAh Battery with 67W Fast Charging</td>\n",
       "      <td>6.7 inches, 1080 x 2412 px, 120 Hz Display wit...</td>\n",
       "      <td>108 MP + 8 MP + 2 MP Triple Rear &amp; 16 MP Front...</td>\n",
       "      <td>Memory Card Not Supported</td>\n",
       "      <td>Android v13</td>\n",
       "    </tr>\n",
       "  </tbody>\n",
       "</table>\n",
       "</div>"
      ]
     },
     "execution_count": 49,
     "metadata": {},
     "output_type": "execute_result"
    }
   ],
   "execution_count": 49
  },
  {
   "metadata": {},
   "cell_type": "markdown",
   "source": [
    "#### Processor\n",
    "\n",
    "- we can generate 4 col\n",
    "- processor_name\n",
    "- processor_brand\n",
    "- no_of_cores\n",
    "- speed_of_processor"
   ],
   "id": "cdb81bc5ec940ad4"
  },
  {
   "metadata": {
    "ExecuteTime": {
     "end_time": "2024-11-22T05:28:23.935777Z",
     "start_time": "2024-11-22T05:28:23.926261Z"
    }
   },
   "cell_type": "code",
   "source": "df1['processor']",
   "id": "4c8d86e4bd30d0fb",
   "outputs": [
    {
     "data": {
      "text/plain": [
       "0      Snapdragon 8 Gen2, Octa Core, 3.2 GHz Processor\n",
       "1         Snapdragon 695, Octa Core, 2.2 GHz Processor\n",
       "2            Exynos 1330, Octa Core, 2.4 GHz Processor\n",
       "3        Snapdragon  695, Octa Core, 2.2 GHz Processor\n",
       "4         Dimensity 1080, Octa Core, 2.6 GHz Processor\n",
       "                            ...                       \n",
       "977      Snapdragon 8 Gen1, Octa Core, 3 GHz Processor\n",
       "978     Snapdragon  480+, Octa Core, 2.2 GHz Processor\n",
       "979      Dimensity 8100, Octa Core, 2.85 GHz Processor\n",
       "980       Snapdragon 695, Octa Core, 2.2 GHz Processor\n",
       "981                                Octa Core Processor\n",
       "Name: processor, Length: 982, dtype: object"
      ]
     },
     "execution_count": 50,
     "metadata": {},
     "output_type": "execute_result"
    }
   ],
   "execution_count": 50
  },
  {
   "metadata": {
    "ExecuteTime": {
     "end_time": "2024-11-22T05:28:24.076499Z",
     "start_time": "2024-11-22T05:28:24.064244Z"
    }
   },
   "cell_type": "code",
   "source": [
    "processor_name = df1['processor'].str.split(',').str.get(0)\n",
    "num_cores = df1['processor'].str.split(',').str.get(1)\n",
    "processor_speed = df1['processor'].str.split(',').str.get(2)"
   ],
   "id": "e9510ae13e46194c",
   "outputs": [],
   "execution_count": 51
  },
  {
   "metadata": {
    "ExecuteTime": {
     "end_time": "2024-11-22T05:26:23.020161Z",
     "start_time": "2024-11-22T05:26:23.009114Z"
    }
   },
   "cell_type": "code",
   "source": "processor_name.head()",
   "id": "8ede7c04847a1ede",
   "outputs": [
    {
     "data": {
      "text/plain": [
       "0    Snapdragon 8 Gen2\n",
       "1       Snapdragon 695\n",
       "2          Exynos 1330\n",
       "3      Snapdragon  695\n",
       "4       Dimensity 1080\n",
       "Name: processor, dtype: object"
      ]
     },
     "execution_count": 38,
     "metadata": {},
     "output_type": "execute_result"
    }
   ],
   "execution_count": 38
  },
  {
   "metadata": {
    "ExecuteTime": {
     "end_time": "2024-11-22T05:28:32.301218Z",
     "start_time": "2024-11-22T05:28:32.292658Z"
    }
   },
   "cell_type": "code",
   "source": "num_cores.head()",
   "id": "9e0cd4eda7e186a8",
   "outputs": [
    {
     "data": {
      "text/plain": [
       "0     Octa Core\n",
       "1     Octa Core\n",
       "2     Octa Core\n",
       "3     Octa Core\n",
       "4     Octa Core\n",
       "Name: processor, dtype: object"
      ]
     },
     "execution_count": 52,
     "metadata": {},
     "output_type": "execute_result"
    }
   ],
   "execution_count": 52
  },
  {
   "metadata": {
    "ExecuteTime": {
     "end_time": "2024-11-22T05:28:40.230009Z",
     "start_time": "2024-11-22T05:28:40.219556Z"
    }
   },
   "cell_type": "code",
   "source": "processor_speed.head()",
   "id": "c0b15e14f5fed670",
   "outputs": [
    {
     "data": {
      "text/plain": [
       "0     3.2 GHz Processor\n",
       "1     2.2 GHz Processor\n",
       "2     2.4 GHz Processor\n",
       "3     2.2 GHz Processor\n",
       "4     2.6 GHz Processor\n",
       "Name: processor, dtype: object"
      ]
     },
     "execution_count": 53,
     "metadata": {},
     "output_type": "execute_result"
    }
   ],
   "execution_count": 53
  },
  {
   "metadata": {
    "ExecuteTime": {
     "end_time": "2024-11-22T05:29:59.577849Z",
     "start_time": "2024-11-22T05:29:59.568565Z"
    }
   },
   "cell_type": "code",
   "source": [
    "df1.insert(10, 'processor_name', processor_name)\n",
    "df1.insert(11, 'num_cores', num_cores)\n",
    "df1.insert(12, 'processor_speed', processor_speed)"
   ],
   "id": "295dc73a254742a7",
   "outputs": [],
   "execution_count": 54
  },
  {
   "metadata": {
    "ExecuteTime": {
     "end_time": "2024-11-22T05:30:31.498355Z",
     "start_time": "2024-11-22T05:30:31.488183Z"
    }
   },
   "cell_type": "code",
   "source": "df1['processor_name'].value_counts()",
   "id": "cae6fc42c56b3b8c",
   "outputs": [
    {
     "data": {
      "text/plain": [
       "processor_name\n",
       "Dimensity 700 5G      29\n",
       "Helio P35             28\n",
       "Snapdragon 8+ Gen1    26\n",
       "Snapdragon 8 Gen2     23\n",
       "Snapdragon 695        23\n",
       "                      ..\n",
       "Tiger T606             1\n",
       "Snapdragon 615         1\n",
       "Helio MT6580           1\n",
       "Helio  G95             1\n",
       "Google  Tensor 3       1\n",
       "Name: count, Length: 246, dtype: int64"
      ]
     },
     "execution_count": 56,
     "metadata": {},
     "output_type": "execute_result"
    }
   ],
   "execution_count": 56
  },
  {
   "metadata": {
    "ExecuteTime": {
     "end_time": "2024-11-22T05:32:20.844154Z",
     "start_time": "2024-11-22T05:32:20.840102Z"
    }
   },
   "cell_type": "code",
   "source": "df1['processor_name'] = df1['processor_name'].str.df1['num_cores']()",
   "id": "d73f17bfa3fda9a9",
   "outputs": [],
   "execution_count": 57
  },
  {
   "metadata": {
    "ExecuteTime": {
     "end_time": "2024-11-22T05:35:30.988845Z",
     "start_time": "2024-11-22T05:35:30.968237Z"
    }
   },
   "cell_type": "code",
   "source": [
    "temp_df = df1[df1['processor_name'].str.contains('Core')][['processor_name', 'num_cores', 'processor_speed']].shift(1, axis=1)\n",
    "temp_df.head()"
   ],
   "id": "4f6cf01fd485d465",
   "outputs": [
    {
     "data": {
      "text/plain": [
       "    processor_name            num_cores     processor_speed\n",
       "118           None  Octa Core Processor                 NaN\n",
       "143           None            Quad Core   1.4 GHz Processor\n",
       "187           None            Quad Core   1.6 GHz Processor\n",
       "200           None            Octa Core     2 GHz Processor\n",
       "307           None            Octa Core     2 GHz Processor"
      ],
      "text/html": [
       "<div>\n",
       "<style scoped>\n",
       "    .dataframe tbody tr th:only-of-type {\n",
       "        vertical-align: middle;\n",
       "    }\n",
       "\n",
       "    .dataframe tbody tr th {\n",
       "        vertical-align: top;\n",
       "    }\n",
       "\n",
       "    .dataframe thead th {\n",
       "        text-align: right;\n",
       "    }\n",
       "</style>\n",
       "<table border=\"1\" class=\"dataframe\">\n",
       "  <thead>\n",
       "    <tr style=\"text-align: right;\">\n",
       "      <th></th>\n",
       "      <th>processor_name</th>\n",
       "      <th>num_cores</th>\n",
       "      <th>processor_speed</th>\n",
       "    </tr>\n",
       "  </thead>\n",
       "  <tbody>\n",
       "    <tr>\n",
       "      <th>118</th>\n",
       "      <td>None</td>\n",
       "      <td>Octa Core Processor</td>\n",
       "      <td>NaN</td>\n",
       "    </tr>\n",
       "    <tr>\n",
       "      <th>143</th>\n",
       "      <td>None</td>\n",
       "      <td>Quad Core</td>\n",
       "      <td>1.4 GHz Processor</td>\n",
       "    </tr>\n",
       "    <tr>\n",
       "      <th>187</th>\n",
       "      <td>None</td>\n",
       "      <td>Quad Core</td>\n",
       "      <td>1.6 GHz Processor</td>\n",
       "    </tr>\n",
       "    <tr>\n",
       "      <th>200</th>\n",
       "      <td>None</td>\n",
       "      <td>Octa Core</td>\n",
       "      <td>2 GHz Processor</td>\n",
       "    </tr>\n",
       "    <tr>\n",
       "      <th>307</th>\n",
       "      <td>None</td>\n",
       "      <td>Octa Core</td>\n",
       "      <td>2 GHz Processor</td>\n",
       "    </tr>\n",
       "  </tbody>\n",
       "</table>\n",
       "</div>"
      ]
     },
     "execution_count": 66,
     "metadata": {},
     "output_type": "execute_result"
    }
   ],
   "execution_count": 66
  },
  {
   "metadata": {
    "ExecuteTime": {
     "end_time": "2024-11-22T05:36:34.081023Z",
     "start_time": "2024-11-22T05:36:34.074048Z"
    }
   },
   "cell_type": "code",
   "source": [
    "# now saving in original\n",
    "df1.loc[temp_df.index, ['processor_name', 'num_cores', 'processor_speed']] = temp_df.values"
   ],
   "id": "2195e1981490618e",
   "outputs": [],
   "execution_count": 68
  },
  {
   "metadata": {
    "ExecuteTime": {
     "end_time": "2024-11-22T05:37:01.014841Z",
     "start_time": "2024-11-22T05:37:01.000749Z"
    }
   },
   "cell_type": "code",
   "source": "df1['processor_name'].str.contains('Core').sum()",
   "id": "708df2e55c5fbfd1",
   "outputs": [
    {
     "data": {
      "text/plain": [
       "0"
      ]
     },
     "execution_count": 70,
     "metadata": {},
     "output_type": "execute_result"
    }
   ],
   "execution_count": 70
  },
  {
   "metadata": {
    "ExecuteTime": {
     "end_time": "2024-11-22T05:37:38.854753Z",
     "start_time": "2024-11-22T05:37:38.840059Z"
    }
   },
   "cell_type": "code",
   "source": "df1[df1['processor_name'] == '(28 nm)']",
   "id": "ec01cfd859d046b4",
   "outputs": [
    {
     "data": {
      "text/plain": [
       "     index brand_names                    model  price  rating  \\\n",
       "829    858     samsung  Samsung Galaxy A01 Core   4999     NaN   \n",
       "\n",
       "                                sim  has_5g  has_nfc  has_ir_blaster  \\\n",
       "829  Dual Sim, 3G, 4G, VoLTE, Wi-Fi   False    False           False   \n",
       "\n",
       "                                 processor processor_name   num_cores  \\\n",
       "829  (28 nm), Quad Core, 1.5 GHz Processor        (28 nm)   Quad Core   \n",
       "\n",
       "        processor_speed                      ram           battery  \\\n",
       "829   1.5 GHz Processor  1 GB RAM, 16 GB inbuilt  3000 mAh Battery   \n",
       "\n",
       "                               display                         camera  \\\n",
       "829  5.3 inches, 720 x 1480 px Display  8 MP Rear & 5 MP Front Camera   \n",
       "\n",
       "                      card           os  \n",
       "829  Memory Card Supported  Android v10  "
      ],
      "text/html": [
       "<div>\n",
       "<style scoped>\n",
       "    .dataframe tbody tr th:only-of-type {\n",
       "        vertical-align: middle;\n",
       "    }\n",
       "\n",
       "    .dataframe tbody tr th {\n",
       "        vertical-align: top;\n",
       "    }\n",
       "\n",
       "    .dataframe thead th {\n",
       "        text-align: right;\n",
       "    }\n",
       "</style>\n",
       "<table border=\"1\" class=\"dataframe\">\n",
       "  <thead>\n",
       "    <tr style=\"text-align: right;\">\n",
       "      <th></th>\n",
       "      <th>index</th>\n",
       "      <th>brand_names</th>\n",
       "      <th>model</th>\n",
       "      <th>price</th>\n",
       "      <th>rating</th>\n",
       "      <th>sim</th>\n",
       "      <th>has_5g</th>\n",
       "      <th>has_nfc</th>\n",
       "      <th>has_ir_blaster</th>\n",
       "      <th>processor</th>\n",
       "      <th>processor_name</th>\n",
       "      <th>num_cores</th>\n",
       "      <th>processor_speed</th>\n",
       "      <th>ram</th>\n",
       "      <th>battery</th>\n",
       "      <th>display</th>\n",
       "      <th>camera</th>\n",
       "      <th>card</th>\n",
       "      <th>os</th>\n",
       "    </tr>\n",
       "  </thead>\n",
       "  <tbody>\n",
       "    <tr>\n",
       "      <th>829</th>\n",
       "      <td>858</td>\n",
       "      <td>samsung</td>\n",
       "      <td>Samsung Galaxy A01 Core</td>\n",
       "      <td>4999</td>\n",
       "      <td>NaN</td>\n",
       "      <td>Dual Sim, 3G, 4G, VoLTE, Wi-Fi</td>\n",
       "      <td>False</td>\n",
       "      <td>False</td>\n",
       "      <td>False</td>\n",
       "      <td>(28 nm), Quad Core, 1.5 GHz Processor</td>\n",
       "      <td>(28 nm)</td>\n",
       "      <td>Quad Core</td>\n",
       "      <td>1.5 GHz Processor</td>\n",
       "      <td>1 GB RAM, 16 GB inbuilt</td>\n",
       "      <td>3000 mAh Battery</td>\n",
       "      <td>5.3 inches, 720 x 1480 px Display</td>\n",
       "      <td>8 MP Rear &amp; 5 MP Front Camera</td>\n",
       "      <td>Memory Card Supported</td>\n",
       "      <td>Android v10</td>\n",
       "    </tr>\n",
       "  </tbody>\n",
       "</table>\n",
       "</div>"
      ]
     },
     "execution_count": 72,
     "metadata": {},
     "output_type": "execute_result"
    }
   ],
   "execution_count": 72
  },
  {
   "metadata": {
    "ExecuteTime": {
     "end_time": "2024-11-22T05:40:14.301477Z",
     "start_time": "2024-11-22T05:40:14.295136Z"
    }
   },
   "cell_type": "code",
   "source": "df1.loc[829, 'processor_name'] = 'Mediatek MT6739'",
   "id": "6372b22308ccb578",
   "outputs": [],
   "execution_count": 73
  },
  {
   "metadata": {
    "ExecuteTime": {
     "end_time": "2024-11-22T05:40:39.129653Z",
     "start_time": "2024-11-22T05:40:39.119199Z"
    }
   },
   "cell_type": "code",
   "source": "print(df1.loc[829])",
   "id": "43ee9f3bb0897701",
   "outputs": [
    {
     "name": "stdout",
     "output_type": "stream",
     "text": [
      "index                                                858\n",
      "brand_names                                      samsung\n",
      "model                            Samsung Galaxy A01 Core\n",
      "price                                               4999\n",
      "rating                                               NaN\n",
      "sim                       Dual Sim, 3G, 4G, VoLTE, Wi-Fi\n",
      "has_5g                                             False\n",
      "has_nfc                                            False\n",
      "has_ir_blaster                                     False\n",
      "processor          (28 nm), Quad Core, 1.5 GHz Processor\n",
      "processor_name                           Mediatek MT6739\n",
      "num_cores                                      Quad Core\n",
      "processor_speed                        1.5 GHz Processor\n",
      "ram                              1 GB RAM, 16 GB inbuilt\n",
      "battery                                 3000 mAh Battery\n",
      "display                5.3 inches, 720 x 1480 px Display\n",
      "camera                     8 MP Rear & 5 MP Front Camera\n",
      "card                               Memory Card Supported\n",
      "os                                           Android v10\n",
      "Name: 829, dtype: object\n"
     ]
    }
   ],
   "execution_count": 75
  },
  {
   "metadata": {
    "ExecuteTime": {
     "end_time": "2024-11-22T05:40:56.496208Z",
     "start_time": "2024-11-22T05:40:56.485144Z"
    }
   },
   "cell_type": "code",
   "source": [
    "# checking for any other mistakes\n",
    "df1['processor_name'].value_counts()"
   ],
   "id": "294d625db7623c10",
   "outputs": [
    {
     "data": {
      "text/plain": [
       "processor_name\n",
       "Helio P35             30\n",
       "Snapdragon 695        29\n",
       "Dimensity 700 5G      29\n",
       "Snapdragon 8+ Gen1    26\n",
       "Snapdragon  695       24\n",
       "                      ..\n",
       "Helio MT6580           1\n",
       "Helio  G95             1\n",
       "Unisoc T606            1\n",
       "Helio  P35             1\n",
       "Google  Tensor 3       1\n",
       "Name: count, Length: 215, dtype: int64"
      ]
     },
     "execution_count": 76,
     "metadata": {},
     "output_type": "execute_result"
    }
   ],
   "execution_count": 76
  },
  {
   "metadata": {
    "ExecuteTime": {
     "end_time": "2024-11-22T05:42:37.049437Z",
     "start_time": "2024-11-22T05:42:37.041222Z"
    }
   },
   "cell_type": "code",
   "source": [
    "processor_brand = df1['processor_name'].str.split(' ').str.get(0).str.lower()\n",
    "df1.insert(11, 'processor_brand', processor_brand)"
   ],
   "id": "4086643203eb113e",
   "outputs": [],
   "execution_count": 78
  },
  {
   "metadata": {
    "ExecuteTime": {
     "end_time": "2024-11-22T05:42:41.617331Z",
     "start_time": "2024-11-22T05:42:41.601589Z"
    }
   },
   "cell_type": "code",
   "source": "df1.head()",
   "id": "aa01e1de9c1d3d29",
   "outputs": [
    {
     "data": {
      "text/plain": [
       "   index brand_names                      model  price  rating  \\\n",
       "0      2     oneplus              OnePlus 11 5G  54999    89.0   \n",
       "1      3     oneplus  OnePlus Nord CE 2 Lite 5G  19989    81.0   \n",
       "2      4     samsung      Samsung Galaxy A14 5G  16499    75.0   \n",
       "3      5    motorola       Motorola Moto G62 5G  14999    81.0   \n",
       "4      6      realme         Realme 10 Pro Plus  24999    82.0   \n",
       "\n",
       "                                       sim  has_5g  has_nfc  has_ir_blaster  \\\n",
       "0  Dual Sim, 3G, 4G, 5G, VoLTE, Wi-Fi, NFC    True     True           False   \n",
       "1       Dual Sim, 3G, 4G, 5G, VoLTE, Wi-Fi    True    False           False   \n",
       "2       Dual Sim, 3G, 4G, 5G, VoLTE, Wi-Fi    True    False           False   \n",
       "3       Dual Sim, 3G, 4G, 5G, VoLTE, Wi-Fi    True    False           False   \n",
       "4       Dual Sim, 3G, 4G, 5G, VoLTE, Wi-Fi    True    False           False   \n",
       "\n",
       "                                         processor     processor_name  \\\n",
       "0  Snapdragon 8 Gen2, Octa Core, 3.2 GHz Processor  Snapdragon 8 Gen2   \n",
       "1     Snapdragon 695, Octa Core, 2.2 GHz Processor     Snapdragon 695   \n",
       "2        Exynos 1330, Octa Core, 2.4 GHz Processor        Exynos 1330   \n",
       "3    Snapdragon  695, Octa Core, 2.2 GHz Processor    Snapdragon  695   \n",
       "4     Dimensity 1080, Octa Core, 2.6 GHz Processor     Dimensity 1080   \n",
       "\n",
       "  processor_brand   num_cores     processor_speed                        ram  \\\n",
       "0      snapdragon   Octa Core   3.2 GHz Processor  12 GB RAM, 256 GB inbuilt   \n",
       "1      snapdragon   Octa Core   2.2 GHz Processor   6 GB RAM, 128 GB inbuilt   \n",
       "2          exynos   Octa Core   2.4 GHz Processor    4 GB RAM, 64 GB inbuilt   \n",
       "3      snapdragon   Octa Core   2.2 GHz Processor   6 GB RAM, 128 GB inbuilt   \n",
       "4       dimensity   Octa Core   2.6 GHz Processor   6 GB RAM, 128 GB inbuilt   \n",
       "\n",
       "                                    battery  \\\n",
       "0  5000 mAh Battery with 100W Fast Charging   \n",
       "1   5000 mAh Battery with 33W Fast Charging   \n",
       "2   5000 mAh Battery with 15W Fast Charging   \n",
       "3       5000 mAh Battery with Fast Charging   \n",
       "4   5000 mAh Battery with 67W Fast Charging   \n",
       "\n",
       "                                             display  \\\n",
       "0  6.7 inches, 1440 x 3216 px, 120 Hz Display wit...   \n",
       "1  6.59 inches, 1080 x 2412 px, 120 Hz Display wi...   \n",
       "2  6.6 inches, 1080 x 2408 px, 90 Hz Display with...   \n",
       "3  6.55 inches, 1080 x 2400 px, 120 Hz Display wi...   \n",
       "4  6.7 inches, 1080 x 2412 px, 120 Hz Display wit...   \n",
       "\n",
       "                                              camera  \\\n",
       "0  50 MP + 48 MP + 32 MP Triple Rear & 16 MP Fron...   \n",
       "1  64 MP + 2 MP + 2 MP Triple Rear & 16 MP Front ...   \n",
       "2  50 MP + 2 MP + 2 MP Triple Rear & 13 MP Front ...   \n",
       "3  50 MP + 8 MP + 2 MP Triple Rear & 16 MP Front ...   \n",
       "4  108 MP + 8 MP + 2 MP Triple Rear & 16 MP Front...   \n",
       "\n",
       "                               card           os  \n",
       "0         Memory Card Not Supported  Android v13  \n",
       "1   Memory Card (Hybrid), upto 1 TB  Android v12  \n",
       "2  Memory Card Supported, upto 1 TB  Android v13  \n",
       "3   Memory Card (Hybrid), upto 1 TB  Android v12  \n",
       "4         Memory Card Not Supported  Android v13  "
      ],
      "text/html": [
       "<div>\n",
       "<style scoped>\n",
       "    .dataframe tbody tr th:only-of-type {\n",
       "        vertical-align: middle;\n",
       "    }\n",
       "\n",
       "    .dataframe tbody tr th {\n",
       "        vertical-align: top;\n",
       "    }\n",
       "\n",
       "    .dataframe thead th {\n",
       "        text-align: right;\n",
       "    }\n",
       "</style>\n",
       "<table border=\"1\" class=\"dataframe\">\n",
       "  <thead>\n",
       "    <tr style=\"text-align: right;\">\n",
       "      <th></th>\n",
       "      <th>index</th>\n",
       "      <th>brand_names</th>\n",
       "      <th>model</th>\n",
       "      <th>price</th>\n",
       "      <th>rating</th>\n",
       "      <th>sim</th>\n",
       "      <th>has_5g</th>\n",
       "      <th>has_nfc</th>\n",
       "      <th>has_ir_blaster</th>\n",
       "      <th>processor</th>\n",
       "      <th>processor_name</th>\n",
       "      <th>processor_brand</th>\n",
       "      <th>num_cores</th>\n",
       "      <th>processor_speed</th>\n",
       "      <th>ram</th>\n",
       "      <th>battery</th>\n",
       "      <th>display</th>\n",
       "      <th>camera</th>\n",
       "      <th>card</th>\n",
       "      <th>os</th>\n",
       "    </tr>\n",
       "  </thead>\n",
       "  <tbody>\n",
       "    <tr>\n",
       "      <th>0</th>\n",
       "      <td>2</td>\n",
       "      <td>oneplus</td>\n",
       "      <td>OnePlus 11 5G</td>\n",
       "      <td>54999</td>\n",
       "      <td>89.0</td>\n",
       "      <td>Dual Sim, 3G, 4G, 5G, VoLTE, Wi-Fi, NFC</td>\n",
       "      <td>True</td>\n",
       "      <td>True</td>\n",
       "      <td>False</td>\n",
       "      <td>Snapdragon 8 Gen2, Octa Core, 3.2 GHz Processor</td>\n",
       "      <td>Snapdragon 8 Gen2</td>\n",
       "      <td>snapdragon</td>\n",
       "      <td>Octa Core</td>\n",
       "      <td>3.2 GHz Processor</td>\n",
       "      <td>12 GB RAM, 256 GB inbuilt</td>\n",
       "      <td>5000 mAh Battery with 100W Fast Charging</td>\n",
       "      <td>6.7 inches, 1440 x 3216 px, 120 Hz Display wit...</td>\n",
       "      <td>50 MP + 48 MP + 32 MP Triple Rear &amp; 16 MP Fron...</td>\n",
       "      <td>Memory Card Not Supported</td>\n",
       "      <td>Android v13</td>\n",
       "    </tr>\n",
       "    <tr>\n",
       "      <th>1</th>\n",
       "      <td>3</td>\n",
       "      <td>oneplus</td>\n",
       "      <td>OnePlus Nord CE 2 Lite 5G</td>\n",
       "      <td>19989</td>\n",
       "      <td>81.0</td>\n",
       "      <td>Dual Sim, 3G, 4G, 5G, VoLTE, Wi-Fi</td>\n",
       "      <td>True</td>\n",
       "      <td>False</td>\n",
       "      <td>False</td>\n",
       "      <td>Snapdragon 695, Octa Core, 2.2 GHz Processor</td>\n",
       "      <td>Snapdragon 695</td>\n",
       "      <td>snapdragon</td>\n",
       "      <td>Octa Core</td>\n",
       "      <td>2.2 GHz Processor</td>\n",
       "      <td>6 GB RAM, 128 GB inbuilt</td>\n",
       "      <td>5000 mAh Battery with 33W Fast Charging</td>\n",
       "      <td>6.59 inches, 1080 x 2412 px, 120 Hz Display wi...</td>\n",
       "      <td>64 MP + 2 MP + 2 MP Triple Rear &amp; 16 MP Front ...</td>\n",
       "      <td>Memory Card (Hybrid), upto 1 TB</td>\n",
       "      <td>Android v12</td>\n",
       "    </tr>\n",
       "    <tr>\n",
       "      <th>2</th>\n",
       "      <td>4</td>\n",
       "      <td>samsung</td>\n",
       "      <td>Samsung Galaxy A14 5G</td>\n",
       "      <td>16499</td>\n",
       "      <td>75.0</td>\n",
       "      <td>Dual Sim, 3G, 4G, 5G, VoLTE, Wi-Fi</td>\n",
       "      <td>True</td>\n",
       "      <td>False</td>\n",
       "      <td>False</td>\n",
       "      <td>Exynos 1330, Octa Core, 2.4 GHz Processor</td>\n",
       "      <td>Exynos 1330</td>\n",
       "      <td>exynos</td>\n",
       "      <td>Octa Core</td>\n",
       "      <td>2.4 GHz Processor</td>\n",
       "      <td>4 GB RAM, 64 GB inbuilt</td>\n",
       "      <td>5000 mAh Battery with 15W Fast Charging</td>\n",
       "      <td>6.6 inches, 1080 x 2408 px, 90 Hz Display with...</td>\n",
       "      <td>50 MP + 2 MP + 2 MP Triple Rear &amp; 13 MP Front ...</td>\n",
       "      <td>Memory Card Supported, upto 1 TB</td>\n",
       "      <td>Android v13</td>\n",
       "    </tr>\n",
       "    <tr>\n",
       "      <th>3</th>\n",
       "      <td>5</td>\n",
       "      <td>motorola</td>\n",
       "      <td>Motorola Moto G62 5G</td>\n",
       "      <td>14999</td>\n",
       "      <td>81.0</td>\n",
       "      <td>Dual Sim, 3G, 4G, 5G, VoLTE, Wi-Fi</td>\n",
       "      <td>True</td>\n",
       "      <td>False</td>\n",
       "      <td>False</td>\n",
       "      <td>Snapdragon  695, Octa Core, 2.2 GHz Processor</td>\n",
       "      <td>Snapdragon  695</td>\n",
       "      <td>snapdragon</td>\n",
       "      <td>Octa Core</td>\n",
       "      <td>2.2 GHz Processor</td>\n",
       "      <td>6 GB RAM, 128 GB inbuilt</td>\n",
       "      <td>5000 mAh Battery with Fast Charging</td>\n",
       "      <td>6.55 inches, 1080 x 2400 px, 120 Hz Display wi...</td>\n",
       "      <td>50 MP + 8 MP + 2 MP Triple Rear &amp; 16 MP Front ...</td>\n",
       "      <td>Memory Card (Hybrid), upto 1 TB</td>\n",
       "      <td>Android v12</td>\n",
       "    </tr>\n",
       "    <tr>\n",
       "      <th>4</th>\n",
       "      <td>6</td>\n",
       "      <td>realme</td>\n",
       "      <td>Realme 10 Pro Plus</td>\n",
       "      <td>24999</td>\n",
       "      <td>82.0</td>\n",
       "      <td>Dual Sim, 3G, 4G, 5G, VoLTE, Wi-Fi</td>\n",
       "      <td>True</td>\n",
       "      <td>False</td>\n",
       "      <td>False</td>\n",
       "      <td>Dimensity 1080, Octa Core, 2.6 GHz Processor</td>\n",
       "      <td>Dimensity 1080</td>\n",
       "      <td>dimensity</td>\n",
       "      <td>Octa Core</td>\n",
       "      <td>2.6 GHz Processor</td>\n",
       "      <td>6 GB RAM, 128 GB inbuilt</td>\n",
       "      <td>5000 mAh Battery with 67W Fast Charging</td>\n",
       "      <td>6.7 inches, 1080 x 2412 px, 120 Hz Display wit...</td>\n",
       "      <td>108 MP + 8 MP + 2 MP Triple Rear &amp; 16 MP Front...</td>\n",
       "      <td>Memory Card Not Supported</td>\n",
       "      <td>Android v13</td>\n",
       "    </tr>\n",
       "  </tbody>\n",
       "</table>\n",
       "</div>"
      ]
     },
     "execution_count": 79,
     "metadata": {},
     "output_type": "execute_result"
    }
   ],
   "execution_count": 79
  },
  {
   "metadata": {
    "ExecuteTime": {
     "end_time": "2024-11-22T05:44:33.665982Z",
     "start_time": "2024-11-22T05:44:33.657739Z"
    }
   },
   "cell_type": "code",
   "source": [
    "# searching mistakes in num_cores\n",
    "df1['num_cores'] = df1['num_cores'].str.strip()\n",
    "print(df1['num_cores'].value_counts())"
   ],
   "id": "b40e4e44e4a179d2",
   "outputs": [
    {
     "name": "stdout",
     "output_type": "stream",
     "text": [
      "num_cores\n",
      "Octa Core              871\n",
      "Quad Core               37\n",
      "Hexa Core               31\n",
      "Octa Core Processor     28\n",
      "Hexa Core Processor      8\n",
      "Name: count, dtype: int64\n"
     ]
    }
   ],
   "execution_count": 83
  },
  {
   "metadata": {
    "ExecuteTime": {
     "end_time": "2024-11-22T05:45:57.827578Z",
     "start_time": "2024-11-22T05:45:57.818881Z"
    }
   },
   "cell_type": "code",
   "source": "df1['num_cores'] = df1['num_cores'].str.replace('Octa Core Processor', 'Octa Core').str.replace('Hexa Core Processor', 'Hexa Core')",
   "id": "f1da490f5a0dbd27",
   "outputs": [],
   "execution_count": 86
  },
  {
   "metadata": {},
   "cell_type": "code",
   "outputs": [],
   "execution_count": null,
   "source": "",
   "id": "431911907efceddc"
  },
  {
   "metadata": {},
   "cell_type": "code",
   "outputs": [],
   "execution_count": null,
   "source": "",
   "id": "36521b9ddbcb94cb"
  },
  {
   "metadata": {},
   "cell_type": "code",
   "outputs": [],
   "execution_count": null,
   "source": "",
   "id": "50fffad6b031dcc6"
  },
  {
   "metadata": {},
   "cell_type": "code",
   "outputs": [],
   "execution_count": null,
   "source": "",
   "id": "8f37f07badf29752"
  },
  {
   "metadata": {},
   "cell_type": "code",
   "outputs": [],
   "execution_count": null,
   "source": "",
   "id": "3d78f4e0ef3fe193"
  },
  {
   "metadata": {},
   "cell_type": "code",
   "outputs": [],
   "execution_count": null,
   "source": "",
   "id": "192b1379feec13d"
  },
  {
   "metadata": {},
   "cell_type": "code",
   "outputs": [],
   "execution_count": null,
   "source": "",
   "id": "97e826d2bebf22a"
  },
  {
   "metadata": {},
   "cell_type": "code",
   "outputs": [],
   "execution_count": null,
   "source": "",
   "id": "cebaecddbba603c"
  },
  {
   "metadata": {},
   "cell_type": "code",
   "outputs": [],
   "execution_count": null,
   "source": "",
   "id": "b5d3e3e810e2a4f"
  },
  {
   "metadata": {},
   "cell_type": "code",
   "outputs": [],
   "execution_count": null,
   "source": "",
   "id": "537c9e91d9e10ea0"
  },
  {
   "metadata": {},
   "cell_type": "code",
   "outputs": [],
   "execution_count": null,
   "source": "",
   "id": "b65bcf7dd48dc836"
  },
  {
   "cell_type": "code",
   "execution_count": null,
   "id": "initial_id",
   "metadata": {
    "collapsed": true
   },
   "outputs": [],
   "source": [
    ""
   ]
  }
 ],
 "metadata": {
  "kernelspec": {
   "display_name": "Python 3",
   "language": "python",
   "name": "python3"
  },
  "language_info": {
   "codemirror_mode": {
    "name": "ipython",
    "version": 2
   },
   "file_extension": ".py",
   "mimetype": "text/x-python",
   "name": "python",
   "nbconvert_exporter": "python",
   "pygments_lexer": "ipython2",
   "version": "2.7.6"
  }
 },
 "nbformat": 4,
 "nbformat_minor": 5
}
