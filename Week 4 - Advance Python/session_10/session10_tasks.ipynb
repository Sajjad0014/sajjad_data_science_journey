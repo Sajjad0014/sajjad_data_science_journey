{
 "nbformat": 4,
 "nbformat_minor": 0,
 "metadata": {
  "colab": {
   "provenance": []
  },
  "kernelspec": {
   "name": "python3",
   "display_name": "Python 3 (ipykernel)",
   "language": "python"
  },
  "language_info": {
   "name": "python"
  }
 },
 "cells": [
  {
   "cell_type": "markdown",
   "source": [
    "### `Q-1:` Write a function `get_final_line(filename)`, which takes filename as input and return final line of the file.\n",
    "\n",
    "Note: You can choose any file of your choice."
   ],
   "metadata": {
    "id": "MbeMdx5d5qRj"
   }
  },
  {
   "cell_type": "code",
   "source": [
    "# Write code here\n",
    "\n",
    "def get_final_line(filename):\n",
    "    final_line = ''\n",
    "    for current_line in open(filename, 'r'):\n",
    "        final_line = current_line\n",
    "\n",
    "    print(final_line)"
   ],
   "metadata": {
    "id": "rjx9XRTq5uzD",
    "ExecuteTime": {
     "end_time": "2024-09-19T02:46:30.890741Z",
     "start_time": "2024-09-19T02:46:30.885684Z"
    }
   },
   "outputs": [],
   "execution_count": 5
  },
  {
   "metadata": {
    "ExecuteTime": {
     "end_time": "2024-09-19T02:46:31.202273Z",
     "start_time": "2024-09-19T02:46:31.197616Z"
    }
   },
   "cell_type": "code",
   "source": "get_final_line('sample.txt')",
   "outputs": [
    {
     "name": "stdout",
     "output_type": "stream",
     "text": [
      "Just u heen..\n"
     ]
    }
   ],
   "execution_count": 6
  },
  {
   "cell_type": "markdown",
   "source": [
    "###`Q-2:` Read through a text file, line by line. Use a dict to keep track of how many times each vowel (a, e, i, o, and u) appears in the file. Print the resulting tabulation -- dictionary."
   ],
   "metadata": {
    "id": "B87Z6-yQ5wVO"
   }
  },
  {
   "cell_type": "code",
   "source": [
    "# Write code here\n",
    "\n",
    "def count_vowels(filename):\n",
    "    vowels = {x: 0 for x in 'aeiou'}\n",
    "    print(vowels)\n",
    "    for current_line in open(filename, 'r'):\n",
    "        current_line = current_line.lower()\n",
    "        for vowel in vowels:\n",
    "            vowels[vowel] += current_line.count(vowel)\n",
    "\n",
    "    return vowels"
   ],
   "metadata": {
    "id": "XeXnOL7X50Sa",
    "ExecuteTime": {
     "end_time": "2024-09-19T16:12:30.841612Z",
     "start_time": "2024-09-19T16:12:30.837606Z"
    }
   },
   "outputs": [],
   "execution_count": 111
  },
  {
   "metadata": {
    "ExecuteTime": {
     "end_time": "2024-09-19T16:12:31.351495Z",
     "start_time": "2024-09-19T16:12:31.347133Z"
    }
   },
   "cell_type": "code",
   "source": "count_vowels('sample.txt')",
   "outputs": [
    {
     "name": "stdout",
     "output_type": "stream",
     "text": [
      "{'a': 0, 'e': 0, 'i': 0, 'o': 0, 'u': 0}\n"
     ]
    },
    {
     "data": {
      "text/plain": [
       "{'a': 3, 'e': 4, 'i': 3, 'o': 4, 'u': 4}"
      ]
     },
     "execution_count": 112,
     "metadata": {},
     "output_type": "execute_result"
    }
   ],
   "execution_count": 112
  },
  {
   "cell_type": "markdown",
   "source": [
    "###`Q-3:` Create a text file (using an editor, not necessarily Python) containing two tab separated columns, with each column containing a number. Then use Python to read through the file you’ve created. For each line, multiply each first number by the second and include it in the file in third column. In last add a line Total, by summing the value of third column\n",
    "\n"
   ],
   "metadata": {
    "id": "lRqQ2Y295-Gg"
   }
  },
  {
   "cell_type": "markdown",
   "source": [
    "Input File example: That you need to create\n",
    "```\n",
    "1   2\n",
    "3   4\n",
    "5   6\n",
    "7   8\n",
    "9   10\n",
    "\n",
    "```\n",
    "\n",
    "Output File Example:\n",
    "```\n",
    "1   2   2\n",
    "3   4   12\n",
    "5   6   30\n",
    "7   8   56\n",
    "9   10  90\n",
    "Total   190\n",
    "```\n"
   ],
   "metadata": {
    "id": "GtFfahZc6Bvg"
   }
  },
  {
   "cell_type": "code",
   "source": [
    "# write code here\n",
    "\n",
    "file_name = 'input.txt'\n",
    "f = open(file_name, 'w')\n",
    "for i in range(1, 11, 2):\n",
    "    line = f'{i}\\t{i + 1}\\n'\n",
    "    f.writelines(line)\n",
    "f.close()\n",
    "\n",
    "with open('input.txt', 'r') as rf:\n",
    "    lines = rf.read().splitlines()\n",
    "\n",
    "total = 0\n",
    "with open('input.txt', 'w') as wf:\n",
    "    for line in lines:\n",
    "        a, b = line.split(sep='\\t')\n",
    "        res = int(a) * int(b)\n",
    "        total += res\n",
    "        wf.write(f'{a}\\t{b}\\t{res}\\n')\n",
    "    wf.write(f\"Total\\t {str(total)}\")"
   ],
   "metadata": {
    "id": "GiKvqHnr5-j2",
    "ExecuteTime": {
     "end_time": "2024-09-19T03:22:41.560675Z",
     "start_time": "2024-09-19T03:22:41.548661Z"
    }
   },
   "outputs": [],
   "execution_count": 55
  },
  {
   "cell_type": "markdown",
   "source": [
    "### `Q-4:` Create line wise reverse of a file\n",
    "Write a function which takes two arguments: the names of the input file (to be read from) and the output file (which will be created)."
   ],
   "metadata": {
    "id": "DunQepHC6J9r"
   }
  },
  {
   "cell_type": "markdown",
   "source": [
    "For example, if a file looks like\n",
    " ```\n",
    "abc def\n",
    "ghi jkl\n",
    "```\n",
    "then the output file will be\n",
    "```\n",
    "fed cba\n",
    "lkj ihg\n",
    "```\n",
    "**Notice**: The newline remains at the end of the string, while the rest of the characters are all reversed."
   ],
   "metadata": {
    "id": "QxWEtFle6Nmu"
   }
  },
  {
   "cell_type": "code",
   "source": [
    "# write code here\n",
    "input_file = 'input_file.txt'\n",
    "output_file = 'output_file.txt'\n",
    "\n",
    "\n",
    "def reverse_lines(input_filename, output_filename):\n",
    "    with open(input_filename, 'r') as rf, open(output_filename, 'w') as wf:\n",
    "        for one_line in rf:\n",
    "            wf.write(one_line.rstrip()[::-1] + \"\\n\")"
   ],
   "metadata": {
    "id": "aIJTJNAq6LD7",
    "ExecuteTime": {
     "end_time": "2024-09-19T15:53:34.811187Z",
     "start_time": "2024-09-19T15:53:34.808101Z"
    }
   },
   "outputs": [],
   "execution_count": 83
  },
  {
   "metadata": {
    "ExecuteTime": {
     "end_time": "2024-09-19T15:53:35.060406Z",
     "start_time": "2024-09-19T15:53:35.056468Z"
    }
   },
   "cell_type": "code",
   "source": "reverse_lines(input_file, output_file)",
   "outputs": [],
   "execution_count": 84
  },
  {
   "cell_type": "markdown",
   "source": [
    "### `Q-5:` Create a Serialized dict of frequency of words in the file. And from given list of words, using serialized dict show word count.\n",
    "\n",
    "* List of word will be given\n",
    "\n"
   ],
   "metadata": {
    "id": "wqvx3sMY6bou"
   }
  },
  {
   "cell_type": "markdown",
   "source": [
    "Given String\n",
    "\n",
    "```\n",
    "strings = \"\"\"Alice was beginning to get very tired of sitting by her sister\n",
    "            on the bank, and of having nothing to do:  once or twice she had\n",
    "            peeped into the book her sister was reading, but it had no\n",
    "            pictures or conversations in it, `and what is the use of a book,'\n",
    "            thought Alice `without pictures or conversation?'\n",
    "\n",
    "            So she was considering in her own mind (as well as she could,\n",
    "            for the hot day made her feel very sleepy and stupid), whether\n",
    "            the pleasure of making a daisy-chain would be worth the trouble\n",
    "            of getting up and picking the daisies, when suddenly a White\n",
    "            Rabbit with pink eyes ran close by her.\n",
    "\n",
    "            There was nothing so VERY remarkable in that; nor did Alice\n",
    "            think it so VERY much out of the way to hear the Rabbit say to\n",
    "            itself, `Oh dear!  Oh dear!  I shall be late!'  (when she thought\n",
    "            it over afterwards, it occurred to her that she ought to have\n",
    "            wondered at this, but at the time it all seemed quite natural);\n",
    "            but when the Rabbit actually TOOK A WATCH OUT OF ITS WAISTCOAT-\n",
    "            POCKET, and looked at it, and then hurried on, Alice started to\n",
    "            her feet, for it flashed across her mind that she had never\n",
    "            before seen a rabbit with either a waistcoat-pocket, or a watch to\n",
    "            take out of it, and burning with curiosity, she ran across the\n",
    "            field after it, and fortunately was just in time to see it pop\n",
    "            down a large rabbit-hole under the hedge.\"\"\"\n",
    "\n",
    "word_list = ['alice', 'wonder', 'natural']\n",
    "```"
   ],
   "metadata": {
    "id": "uc5MSUWg6cZG"
   }
  },
  {
   "metadata": {
    "ExecuteTime": {
     "end_time": "2024-09-19T16:03:08.649897Z",
     "start_time": "2024-09-19T16:03:08.646743Z"
    }
   },
   "cell_type": "code",
   "source": [
    "strings = \"\"\"Alice was beginning to get very tired of sitting by her sister\n",
    "            on the bank, and of having nothing to do:  once or twice she had\n",
    "            peeped into the book her sister was reading, but it had no\n",
    "            pictures or conversations in it, `and what is the use of a book,'\n",
    "            thought Alice `without pictures or conversation?'\n",
    "\n",
    "            So she was considering in her own mind (as well as she could,\n",
    "            for the hot day made her feel very sleepy and stupid), whether\n",
    "            the pleasure of making a daisy-chain would be worth the trouble\n",
    "            of getting up and picking the daisies, when suddenly a White\n",
    "            Rabbit with pink eyes ran close by her.\n",
    "\n",
    "            There was nothing so VERY remarkable in that; nor did Alice\n",
    "            think it so VERY much out of the way to hear the Rabbit say to\n",
    "            itself, `Oh dear!  Oh dear!  I shall be late!'  (when she thought\n",
    "            it over afterwards, it occurred to her that she ought to have\n",
    "            wondered at this, but at the time it all seemed quite natural);\n",
    "            but when the Rabbit actually TOOK A WATCH OUT OF ITS WAISTCOAT-\n",
    "            POCKET, and looked at it, and then hurried on, Alice started to\n",
    "            her feet, for it flashed across her mind that she had never\n",
    "            before seen a rabbit with either a waistcoat-pocket, or a watch to\n",
    "            take out of it, and burning with curiosity, she ran across the\n",
    "            field after it, and fortunately was just in time to see it pop\n",
    "            down a large rabbit-hole under the hedge.\"\"\""
   ],
   "outputs": [],
   "execution_count": 94
  },
  {
   "metadata": {
    "ExecuteTime": {
     "end_time": "2024-09-19T16:12:39.518675Z",
     "start_time": "2024-09-19T16:12:39.512792Z"
    }
   },
   "cell_type": "code",
   "source": [
    "word_count_dict = {}\n",
    "word_list = ['alice', 'wondered', 'wonder', 'rabbit']\n",
    "\n",
    "for word in strings.lower().split():\n",
    "    try:\n",
    "        word_count_dict[word] += 1\n",
    "    except:\n",
    "        word_count_dict[word] = 1\n",
    "\n",
    "import pickle as pkl\n",
    "\n",
    "pkl.dump(word_count_dict, open('word_count_dict.pkl', 'wb'))\n",
    "\n",
    "word_count = pkl.load(open('word_count_dict.pkl', 'rb'))\n",
    "\n",
    "for s in word_list:\n",
    "    try:\n",
    "        print(s, word_count[s])\n",
    "    except:\n",
    "        print(s, 0)"
   ],
   "outputs": [
    {
     "name": "stdout",
     "output_type": "stream",
     "text": [
      "alice 4\n",
      "wondered 1\n",
      "wonder 0\n",
      "rabbit 4\n"
     ]
    }
   ],
   "execution_count": 113
  },
  {
   "cell_type": "markdown",
   "source": [
    "### **`Q-6:`** Given a string calculate length of the string using recursion.\n",
    "\n",
    "**Example 1:**\n",
    "\n",
    "Input:\n",
    "```bash\n",
    "\"abcd\"\n",
    "```\n",
    "\n",
    "Output:\n",
    "\n",
    "```bash\n",
    "4\n",
    "```\n",
    "\n",
    "**Example 2:**\n",
    "\n",
    "Input:\n",
    "```bash\n",
    "DataScience\n",
    "```\n",
    "\n",
    "Output:\n",
    "\n",
    "```bash\n",
    "11\n",
    "```\n"
   ],
   "metadata": {
    "id": "Und2HuFW6kAw"
   }
  },
  {
   "cell_type": "code",
   "source": [
    "# Write code here\n",
    "str1 = 'abcd'\n",
    "\n",
    "\n",
    "def string_len(input_str):\n",
    "    if input_str == '':\n",
    "        return 0\n",
    "    else:\n",
    "        return 1 + string_len(input_str[1:])\n",
    "\n",
    "\n",
    "string_len(str1)"
   ],
   "metadata": {
    "id": "9HE7lB5W61gT",
    "ExecuteTime": {
     "end_time": "2024-09-19T16:19:23.390076Z",
     "start_time": "2024-09-19T16:19:23.385273Z"
    }
   },
   "outputs": [
    {
     "data": {
      "text/plain": [
       "4"
      ]
     },
     "execution_count": 126,
     "metadata": {},
     "output_type": "execute_result"
    }
   ],
   "execution_count": 126
  },
  {
   "cell_type": "markdown",
   "source": [
    "### **`Q-7:`** Write a function that accepts two numbers and returns their greatest common divisior. Without using any loop\n",
    "\n",
    "def gcd(int, int) => int\n",
    "\n",
    "```\n",
    "gcd(16,24) will give 8\n",
    "```"
   ],
   "metadata": {
    "id": "iUDvc-jl6759"
   }
  },
  {
   "cell_type": "code",
   "source": [
    "# Write code here\n",
    "def gcd(a, b):\n",
    "    if a == b:\n",
    "        return a\n",
    "    elif a > b:\n",
    "        return gcd(a - b, b)\n",
    "    else:\n",
    "        return gcd(a, b - a)\n",
    "\n",
    "\n",
    "gcd(16, 24)\n"
   ],
   "metadata": {
    "id": "uMQnojHR7O2S",
    "ExecuteTime": {
     "end_time": "2024-09-19T16:28:32.677778Z",
     "start_time": "2024-09-19T16:28:32.673989Z"
    }
   },
   "outputs": [
    {
     "data": {
      "text/plain": [
       "8"
      ]
     },
     "execution_count": 128,
     "metadata": {},
     "output_type": "execute_result"
    }
   ],
   "execution_count": 128
  },
  {
   "cell_type": "markdown",
   "source": [
    " ### `Q-8:` String Edit Distance\n",
    "\n",
    " Use your recursive function to write a program that reads two strings from the\n",
    "user and displays the edit distance between them.\n",
    "\n",
    "*The edit distance between two strings is a measure of their similarity—the smaller the edit distance, the more similar the strings are with regard to the minimum number of insert, delete and substitute operations needed to transform one string into the other.*\n",
    "\n",
    "Consider the strings `kitten` and `sitting`. The first string can be transformed\n",
    "into the second string with the following operations:\n",
    "* Substitute the `k` with an `s`,\n",
    "* substitute the `e` with an `i`,\n",
    "* and insert a `g` at the end of the string.\n",
    "\n",
    "This is the smallest number of operations that can be performed to transform kitten into sitting. As a result, the edit distance is `3`.\n",
    "\n",
    "\n",
    "Write a recursive function that computes the edit distance between two strings.\n",
    "\n",
    "Use the following algorithm:\n",
    "\n",
    "```\n",
    "Let s and t be the strings\n",
    "    If the length of s is 0 then\n",
    "        Return the length of t\n",
    "    Else if the length of t is 0 then\n",
    "        Return the length of s\n",
    "    Else\n",
    "        Set cost to 0\n",
    "        If the last character in s does not equal the last character in t then\n",
    "            Set cost to 1\n",
    "        Set d1 equal to the edit distance between all characters except the last one in s, and all characters in t, plus 1\n",
    "        Set d2 equal to the edit distance between all characters in s, and all characters except the last one in t, plus 1\n",
    "\n",
    "        Set d3 equal to the edit distance between all characters except the last one in s, and all characters except the last one in t, plus cost\n",
    "        Return the minimum of d1, d2 and d3\n",
    "```\n",
    "\n",
    "\n",
    "\n"
   ],
   "metadata": {
    "id": "wFD35fva7Q_B"
   }
  },
  {
   "cell_type": "code",
   "source": [
    "# write code here\n",
    "\n",
    "def string_edit_distance(s, t):\n",
    "    if len(s) == 0:\n",
    "        return len(t)\n",
    "    elif len(t) == 0:\n",
    "        return len(s)\n",
    "    else:\n",
    "        cost = 0\n",
    "        if s[-1] != t[-1]:\n",
    "            cost = 1\n",
    "\n",
    "        d1 = string_edit_distance(s[:-1], t) + 1\n",
    "        d2 = string_edit_distance(s, t[:-1]) + 1\n",
    "        d3 = string_edit_distance(s[:-1], t[:-1]) + cost\n",
    "        return min(d1, d2, d3)\n",
    "\n",
    "\n",
    "string_edit_distance('kitten', 'sitting')\n",
    "\n"
   ],
   "metadata": {
    "id": "zlNy_Q987QOX",
    "ExecuteTime": {
     "end_time": "2024-09-19T16:38:51.051746Z",
     "start_time": "2024-09-19T16:38:51.042928Z"
    }
   },
   "outputs": [
    {
     "data": {
      "text/plain": [
       "3"
      ]
     },
     "execution_count": 130,
     "metadata": {},
     "output_type": "execute_result"
    }
   ],
   "execution_count": 130
  },
  {
   "cell_type": "markdown",
   "source": [
    "### `Q-9:` Run-Length Encoding\n",
    "\n",
    "Run-length encoding is a simple data compression technique that can be effective when repeated values occur at adjacent positions within a list. Compression is achieved by replacing groups of repeated values with one copy of the value, followed by the number of times that the value should be repeated. For example, the list\n",
    "```\n",
    "[\"A\", \"A\", \"A\", \"A\", \"A\", \"A\", \"A\", \"A\", \"A\", \"A\", \"A\", \"A\", \"B\", \"B\", \"B\", \"B\", \"A\", \"A\", \"A\", \"A\", \"A\", \"A\", \"B\"]\n",
    "```\n",
    "would be compressed as `[\"A\", 12, \"B\", 4, \"A\", 6, \"B\", 1]`.\n",
    "\n",
    "Write a recursive function that implements the run-length compression technique\n",
    "described above. Your function will take a list or a string as its only parameter. It should return the run-length compressed list as its only result. Include a main program that reads a string from the user, compresses it, and displays the run-length encoded result."
   ],
   "metadata": {
    "id": "Hc9e-qES7iAK"
   }
  },
  {
   "cell_type": "code",
   "source": [
    "# Write code here\n",
    "input_list = [\"A\", \"A\", \"A\", \"A\", \"A\", \"A\", \"A\", \"A\", \"A\", \"A\", \"A\", \"A\", \"B\", \"B\", \"B\", \"B\", \"A\", \"A\", \"A\", \"A\", \"A\",\n",
    "              \"A\", \"B\"]\n",
    "example_str = 'aabbbcdabcddffgah'\n",
    "\n",
    "\n",
    "def runEncode(s):\n",
    "    if len(s) == 0:\n",
    "        return []\n",
    "    else:\n",
    "        index = 1\n",
    "        while index < len(s) and s[index] == s[index - 1]:\n",
    "            index += 1\n",
    "        compressed = [s[0], index]\n",
    "\n",
    "        return compressed + runEncode(s[index:])\n",
    "\n",
    "\n",
    "print(runEncode(example_str))\n"
   ],
   "metadata": {
    "id": "W2Wb_WzP7qM1",
    "ExecuteTime": {
     "end_time": "2024-09-19T16:47:20.517805Z",
     "start_time": "2024-09-19T16:47:20.512731Z"
    }
   },
   "outputs": [
    {
     "name": "stdout",
     "output_type": "stream",
     "text": [
      "['a', 2, 'b', 3, 'c', 1, 'd', 1, 'a', 1, 'b', 1, 'c', 1, 'd', 2, 'f', 2, 'g', 1, 'a', 1, 'h', 1]\n"
     ]
    }
   ],
   "execution_count": 132
  },
  {
   "cell_type": "markdown",
   "source": [
    "###`Q-10:` Write a recursive function to convert a decimal to binary"
   ],
   "metadata": {
    "id": "x6A-4vGC8SLs"
   }
  },
  {
   "cell_type": "code",
   "source": [
    "# Write code here\n",
    "\n",
    "decimal = 202\n",
    "\n",
    "\n",
    "#  0010101101\n",
    "# &0000000001\n",
    "#  0000000001\n",
    "\n",
    "def decToBin(decimal):\n",
    "    if decimal == 0:\n",
    "        return '0'\n",
    "    else:\n",
    "        return decToBin(decimal >> 1) + str(decimal & 1)\n",
    "\n",
    "print(decToBin(decimal))\n",
    "decToBin(5)        "
   ],
   "metadata": {
    "id": "izOr6D9V8aME",
    "ExecuteTime": {
     "end_time": "2024-09-19T16:52:22.774781Z",
     "start_time": "2024-09-19T16:52:22.770727Z"
    }
   },
   "outputs": [
    {
     "name": "stdout",
     "output_type": "stream",
     "text": [
      "011001010\n"
     ]
    },
    {
     "data": {
      "text/plain": [
       "'0101'"
      ]
     },
     "execution_count": 137,
     "metadata": {},
     "output_type": "execute_result"
    }
   ],
   "execution_count": 137
  },
  {
   "metadata": {},
   "cell_type": "code",
   "outputs": [],
   "execution_count": null,
   "source": ""
  }
 ]
}
