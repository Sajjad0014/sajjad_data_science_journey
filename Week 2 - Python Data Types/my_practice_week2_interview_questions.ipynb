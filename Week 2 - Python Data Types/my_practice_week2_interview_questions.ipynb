{
 "cells": [
  {
   "metadata": {},
   "cell_type": "markdown",
   "source": [
    "| Question No. | Question |\n",
    "| :--: | :-- |\n",
    "| 1 | What is aliasing?  |\n",
    "| 2 | What is garbage collection?  |\n",
    "| 3 | What is mutability and why is it dangerous in certain scenarios? |\n",
    "| 4 | What is cloning? |\n",
    "| 5 | Differentiate between deep and shallow copies |\n",
    "| 6 | How nested lists are stored in memory? |\n",
    "| 7 | How strings are stored in memory |\n",
    "| 8 | Why tuples take less memory than lists? |\n",
    "| 9 | How set index position is decided? |\n",
    "| 10 | Why mutable types are not allowed in sets/dicts |"
   ],
   "id": "ea65f5f4f20a8f03"
  },
  {
   "metadata": {},
   "cell_type": "markdown",
   "source": "# Q1 What is aliasing",
   "id": "718256e1e9ad1953"
  },
  {
   "metadata": {
    "ExecuteTime": {
     "end_time": "2024-09-01T19:59:43.162382Z",
     "start_time": "2024-09-01T19:59:42.985793Z"
    }
   },
   "cell_type": "code",
   "source": "a",
   "id": "3e125aedc7d44c42",
   "outputs": [
    {
     "ename": "NameError",
     "evalue": "name 'a' is not defined",
     "output_type": "error",
     "traceback": [
      "\u001B[1;31m---------------------------------------------------------------------------\u001B[0m",
      "\u001B[1;31mNameError\u001B[0m                                 Traceback (most recent call last)",
      "Cell \u001B[1;32mIn[1], line 2\u001B[0m\n\u001B[0;32m      1\u001B[0m \u001B[38;5;66;03m# Q1 What is aliasing\u001B[39;00m\n\u001B[1;32m----> 2\u001B[0m \u001B[43ma\u001B[49m\n",
      "\u001B[1;31mNameError\u001B[0m: name 'a' is not defined"
     ]
    }
   ],
   "execution_count": 1
  },
  {
   "metadata": {
    "ExecuteTime": {
     "end_time": "2024-09-01T20:00:49.065130Z",
     "start_time": "2024-09-01T20:00:49.059573Z"
    }
   },
   "cell_type": "code",
   "source": [
    "# python variables are called name. You can see above\n",
    "a = 4\n",
    "id(a)"
   ],
   "id": "402c67415896ab01",
   "outputs": [
    {
     "data": {
      "text/plain": [
       "140734223096344"
      ]
     },
     "execution_count": 2,
     "metadata": {},
     "output_type": "execute_result"
    }
   ],
   "execution_count": 2
  },
  {
   "metadata": {
    "ExecuteTime": {
     "end_time": "2024-09-01T20:01:32.660708Z",
     "start_time": "2024-09-01T20:01:32.657485Z"
    }
   },
   "cell_type": "code",
   "source": "id(4)",
   "id": "b93452728414a09c",
   "outputs": [
    {
     "data": {
      "text/plain": [
       "140734223096344"
      ]
     },
     "execution_count": 3,
     "metadata": {},
     "output_type": "execute_result"
    }
   ],
   "execution_count": 3
  },
  {
   "metadata": {
    "ExecuteTime": {
     "end_time": "2024-09-01T20:01:46.051731Z",
     "start_time": "2024-09-01T20:01:46.048589Z"
    }
   },
   "cell_type": "code",
   "source": "hex(140734223096344)",
   "id": "dfb5e6f522ff156",
   "outputs": [
    {
     "data": {
      "text/plain": [
       "'0x7fff3d601a18'"
      ]
     },
     "execution_count": 4,
     "metadata": {},
     "output_type": "execute_result"
    }
   ],
   "execution_count": 4
  },
  {
   "metadata": {
    "ExecuteTime": {
     "end_time": "2024-09-01T20:03:02.856772Z",
     "start_time": "2024-09-01T20:03:02.852391Z"
    }
   },
   "cell_type": "code",
   "source": [
    "# Answer. This is called as aliasing, this is used to save memory\n",
    "a = 4\n",
    "b = a\n",
    "print(id(a))\n",
    "print(id(b))\n",
    "a is b"
   ],
   "id": "ac7ab3e3db52356e",
   "outputs": [
    {
     "name": "stdout",
     "output_type": "stream",
     "text": [
      "140734223096344\n",
      "140734223096344\n"
     ]
    },
    {
     "data": {
      "text/plain": [
       "True"
      ]
     },
     "execution_count": 6,
     "metadata": {},
     "output_type": "execute_result"
    }
   ],
   "execution_count": 6
  },
  {
   "metadata": {
    "ExecuteTime": {
     "end_time": "2024-09-01T20:05:07.133182Z",
     "start_time": "2024-09-01T20:05:07.129741Z"
    }
   },
   "cell_type": "code",
   "source": [
    "c = b\n",
    "print(id(c))"
   ],
   "id": "1bfabc7aeea43c8d",
   "outputs": [
    {
     "name": "stdout",
     "output_type": "stream",
     "text": [
      "140734223096344\n"
     ]
    }
   ],
   "execution_count": 8
  },
  {
   "metadata": {
    "ExecuteTime": {
     "end_time": "2024-09-01T20:06:44.209686Z",
     "start_time": "2024-09-01T20:06:44.191086Z"
    }
   },
   "cell_type": "code",
   "source": [
    "del a\n",
    "print(a)"
   ],
   "id": "725b133f19b5a87b",
   "outputs": [
    {
     "ename": "NameError",
     "evalue": "name 'a' is not defined",
     "output_type": "error",
     "traceback": [
      "\u001B[1;31m---------------------------------------------------------------------------\u001B[0m",
      "\u001B[1;31mNameError\u001B[0m                                 Traceback (most recent call last)",
      "Cell \u001B[1;32mIn[9], line 2\u001B[0m\n\u001B[0;32m      1\u001B[0m \u001B[38;5;28;01mdel\u001B[39;00m a\n\u001B[1;32m----> 2\u001B[0m \u001B[38;5;28mprint\u001B[39m(\u001B[43ma\u001B[49m)\n",
      "\u001B[1;31mNameError\u001B[0m: name 'a' is not defined"
     ]
    }
   ],
   "execution_count": 9
  },
  {
   "metadata": {},
   "cell_type": "code",
   "outputs": [],
   "execution_count": null,
   "source": [
    "print(b)\n",
    "# this will work because we have deleted 'a' which is the reference."
   ],
   "id": "2c170f3141531c9f"
  },
  {
   "metadata": {},
   "cell_type": "markdown",
   "source": [
    "# Q2 What is garbage collection?\n",
    "\n",
    "### `Answer - There is garbage collector program, who is responsible for deleting all the unused memory`"
   ],
   "id": "8d90db626e722394"
  },
  {
   "metadata": {
    "ExecuteTime": {
     "end_time": "2024-09-01T21:10:51.374745Z",
     "start_time": "2024-09-01T21:10:51.371960Z"
    }
   },
   "cell_type": "code",
   "source": [
    "a = 'Sajjad is a good boy'\n",
    "b = a\n",
    "c = b"
   ],
   "id": "15b5f397eb77dde7",
   "outputs": [],
   "execution_count": 16
  },
  {
   "metadata": {
    "ExecuteTime": {
     "end_time": "2024-09-01T21:10:51.619481Z",
     "start_time": "2024-09-01T21:10:51.616301Z"
    }
   },
   "cell_type": "code",
   "source": [
    "import sys\n",
    "\n",
    "sys.getrefcount('Sajjad is a good boy')"
   ],
   "id": "2d10ba50accda96b",
   "outputs": [
    {
     "data": {
      "text/plain": [
       "3"
      ]
     },
     "execution_count": 17,
     "metadata": {},
     "output_type": "execute_result"
    }
   ],
   "execution_count": 17
  },
  {
   "metadata": {},
   "cell_type": "markdown",
   "source": [
    "# Q3 What is mutability and why is it dangerous in certain scenarios?\n",
    "\n",
    "Ans. If we are able to change a data type, while it is being present in its memory location, then we call it as mutable\n",
    "\n",
    "Mutable\t\n",
    "- List\n",
    "- Set\n",
    "- Dictionary\t\n",
    "\n",
    "Immutable\n",
    "- Int\n",
    "- float\n",
    "- string\n",
    "- Boolean\n",
    "- Complex\n",
    "- tuple"
   ],
   "id": "8296caf1ec99d9c3"
  },
  {
   "metadata": {
    "ExecuteTime": {
     "end_time": "2024-09-01T21:21:28.402Z",
     "start_time": "2024-09-01T21:21:28.398202Z"
    }
   },
   "cell_type": "code",
   "source": [
    "L = [1, 2, 3]\n",
    "print(id(L))\n",
    "\n",
    "L.append(7)\n",
    "print(L)\n",
    "print(id(L))"
   ],
   "id": "10d6956cdf599a52",
   "outputs": [
    {
     "name": "stdout",
     "output_type": "stream",
     "text": [
      "1969491531584\n",
      "[1, 2, 3, 7]\n",
      "1969491531584\n"
     ]
    }
   ],
   "execution_count": 18
  },
  {
   "metadata": {
    "ExecuteTime": {
     "end_time": "2024-09-01T21:23:34.944885Z",
     "start_time": "2024-09-01T21:23:34.940955Z"
    }
   },
   "cell_type": "code",
   "source": [
    "Tup = (1, 2, 4)\n",
    "print(id(Tup))\n",
    "\n",
    "Tup += (5,)\n",
    "\n",
    "print(Tup)\n",
    "print(id(Tup))"
   ],
   "id": "e1783d290246da9",
   "outputs": [
    {
     "name": "stdout",
     "output_type": "stream",
     "text": [
      "1969491537152\n",
      "(1, 2, 4, 5)\n",
      "1969489969296\n"
     ]
    }
   ],
   "execution_count": 19
  },
  {
   "metadata": {},
   "cell_type": "markdown",
   "source": "### Why it is dangerous?",
   "id": "6fb4bf49b1b4fbc"
  },
  {
   "metadata": {
    "ExecuteTime": {
     "end_time": "2024-09-01T21:26:21.308386Z",
     "start_time": "2024-09-01T21:26:21.305178Z"
    }
   },
   "cell_type": "code",
   "source": [
    "a = [1, 2, 3]\n",
    "b = a\n",
    "b.append(6)\n",
    "print(b)"
   ],
   "id": "2dc01b712bf7d3f3",
   "outputs": [
    {
     "name": "stdout",
     "output_type": "stream",
     "text": [
      "[1, 2, 3, 6]\n"
     ]
    }
   ],
   "execution_count": 20
  },
  {
   "metadata": {
    "ExecuteTime": {
     "end_time": "2024-09-01T21:26:33.326760Z",
     "start_time": "2024-09-01T21:26:33.323580Z"
    }
   },
   "cell_type": "code",
   "source": [
    "print(a)\n",
    "\n",
    "# Case hogaya because list are mutable"
   ],
   "id": "4c626c0d9b5909ac",
   "outputs": [
    {
     "name": "stdout",
     "output_type": "stream",
     "text": [
      "[1, 2, 3, 6]\n"
     ]
    }
   ],
   "execution_count": 21
  },
  {
   "metadata": {
    "ExecuteTime": {
     "end_time": "2024-09-01T21:32:32.060076Z",
     "start_time": "2024-09-01T21:32:32.056113Z"
    }
   },
   "cell_type": "code",
   "source": [
    "def func(data):\n",
    "    data += (4,)\n",
    "    \n",
    "a = (4,65,32)\n",
    "func(a)\n",
    "print(a)"
   ],
   "id": "36dfa4ae91a4733",
   "outputs": [
    {
     "name": "stdout",
     "output_type": "stream",
     "text": [
      "(4, 65, 32)\n"
     ]
    }
   ],
   "execution_count": 25
  },
  {
   "metadata": {},
   "cell_type": "markdown",
   "source": "# Q4 What is cloning?",
   "id": "ed3db5eac54c8600"
  },
  {
   "metadata": {
    "ExecuteTime": {
     "end_time": "2024-09-01T21:37:07.978408Z",
     "start_time": "2024-09-01T21:37:07.975586Z"
    }
   },
   "cell_type": "code",
   "source": [
    "a = [1, 3, 4]\n",
    "b = a[:]\n",
    "\n",
    "print(id(a))\n",
    "print(id(b))"
   ],
   "id": "abb02cc2141ab025",
   "outputs": [
    {
     "name": "stdout",
     "output_type": "stream",
     "text": [
      "1969492264128\n",
      "1969492309120\n"
     ]
    }
   ],
   "execution_count": 26
  },
  {
   "metadata": {
    "ExecuteTime": {
     "end_time": "2024-09-01T21:37:34.281995Z",
     "start_time": "2024-09-01T21:37:34.279258Z"
    }
   },
   "cell_type": "code",
   "source": [
    "b.append(7)\n",
    "print(a)\n",
    "print(b)"
   ],
   "id": "66cfdd33fa63a0f7",
   "outputs": [
    {
     "name": "stdout",
     "output_type": "stream",
     "text": [
      "[1, 3, 4]\n",
      "[1, 3, 4, 7]\n"
     ]
    }
   ],
   "execution_count": 27
  },
  {
   "metadata": {
    "ExecuteTime": {
     "end_time": "2024-09-01T21:38:33.065355Z",
     "start_time": "2024-09-01T21:38:33.061237Z"
    }
   },
   "cell_type": "code",
   "source": [
    "def func(data):\n",
    "    data.append(9)\n",
    "\n",
    "a = [1, 5, 6, 7, 8]\n",
    "print(a)\n",
    "func(a[:])\n",
    "print(a)"
   ],
   "id": "7a8549895917a07e",
   "outputs": [
    {
     "name": "stdout",
     "output_type": "stream",
     "text": [
      "[1, 5, 6, 7, 8]\n",
      "[1, 5, 6, 7, 8]\n"
     ]
    }
   ],
   "execution_count": 28
  },
  {
   "metadata": {},
   "cell_type": "markdown",
   "source": "# Q5 Differentiate between deep and shallow copies",
   "id": "20c9000c2bd8480a"
  },
  {
   "metadata": {
    "ExecuteTime": {
     "end_time": "2024-09-01T21:41:39.980635Z",
     "start_time": "2024-09-01T21:41:39.977572Z"
    }
   },
   "cell_type": "code",
   "source": [
    "a = [1, 2, 3]\n",
    "b = a \n",
    "\n",
    "b.append(5)\n",
    "print(a)\n",
    "print(b)"
   ],
   "id": "b471332b50a0e158",
   "outputs": [
    {
     "name": "stdout",
     "output_type": "stream",
     "text": [
      "[1, 2, 3, 5]\n",
      "[1, 2, 3, 5]\n"
     ]
    }
   ],
   "execution_count": 29
  },
  {
   "metadata": {},
   "cell_type": "markdown",
   "source": [
    "### Shallow copy\n",
    "\n",
    "cloning [:] also uses shallow copy \n",
    "\n",
    ".copy() is shallow copy"
   ],
   "id": "5bd36005c91cd1f0"
  },
  {
   "metadata": {
    "ExecuteTime": {
     "end_time": "2024-09-01T21:41:48.412788Z",
     "start_time": "2024-09-01T21:41:48.409719Z"
    }
   },
   "cell_type": "code",
   "source": [
    "a = [1, 2, 3]\n",
    "b = a.copy()\n",
    "\n",
    "b.append(5)\n",
    "print(a)\n",
    "print(b)"
   ],
   "id": "8b781b4fd43db870",
   "outputs": [
    {
     "name": "stdout",
     "output_type": "stream",
     "text": [
      "[1, 2, 3]\n",
      "[1, 2, 3, 5]\n"
     ]
    }
   ],
   "execution_count": 30
  },
  {
   "metadata": {
    "ExecuteTime": {
     "end_time": "2024-09-02T15:41:46.306970Z",
     "start_time": "2024-09-02T15:41:46.300979Z"
    }
   },
   "cell_type": "code",
   "source": [
    "# There is a problem with shallow copy. While it works perfect with 1D, it does not work properly for 2D\n",
    "\n",
    "a = [1,2 ,3, [4, 5]]\n",
    "print(a)"
   ],
   "id": "7753f4360d8bd686",
   "outputs": [
    {
     "name": "stdout",
     "output_type": "stream",
     "text": [
      "[1, 2, 3, [4, 5]]\n"
     ]
    }
   ],
   "execution_count": 31
  },
  {
   "metadata": {
    "ExecuteTime": {
     "end_time": "2024-09-02T15:44:06.955263Z",
     "start_time": "2024-09-02T15:44:06.950943Z"
    }
   },
   "cell_type": "code",
   "source": [
    "print(id(a[-1]))\n",
    "print(id(b[-1]))\n",
    "\n",
    "# The references of the items inside the elements are still the same. This issue is solved by deep copy"
   ],
   "id": "18dd90654c3fe837",
   "outputs": [
    {
     "name": "stdout",
     "output_type": "stream",
     "text": [
      "1969492089024\n",
      "1969492089024\n"
     ]
    }
   ],
   "execution_count": 36
  },
  {
   "metadata": {
    "ExecuteTime": {
     "end_time": "2024-09-02T15:42:01.553573Z",
     "start_time": "2024-09-02T15:42:01.548302Z"
    }
   },
   "cell_type": "code",
   "source": [
    "b = a.copy()\n",
    "print(b)"
   ],
   "id": "b6795aaf66ae7f8",
   "outputs": [
    {
     "name": "stdout",
     "output_type": "stream",
     "text": [
      "[1, 2, 3, [4, 5]]\n"
     ]
    }
   ],
   "execution_count": 32
  },
  {
   "metadata": {
    "ExecuteTime": {
     "end_time": "2024-09-02T15:43:23.323364Z",
     "start_time": "2024-09-02T15:43:23.319771Z"
    }
   },
   "cell_type": "code",
   "source": [
    "print(id(a))\n",
    "print(id(b))"
   ],
   "id": "98a686b2b0f5d4b3",
   "outputs": [
    {
     "name": "stdout",
     "output_type": "stream",
     "text": [
      "1969491884608\n",
      "1969489635648\n"
     ]
    }
   ],
   "execution_count": 35
  },
  {
   "metadata": {
    "ExecuteTime": {
     "end_time": "2024-09-02T15:42:19.265825Z",
     "start_time": "2024-09-02T15:42:19.259105Z"
    }
   },
   "cell_type": "code",
   "source": [
    "b[-1][0] = 400\n",
    "print(b)"
   ],
   "id": "f20492146821a23",
   "outputs": [
    {
     "name": "stdout",
     "output_type": "stream",
     "text": [
      "[1, 2, 3, [400, 5]]\n"
     ]
    }
   ],
   "execution_count": 33
  },
  {
   "metadata": {
    "ExecuteTime": {
     "end_time": "2024-09-02T15:42:23.471712Z",
     "start_time": "2024-09-02T15:42:23.466827Z"
    }
   },
   "cell_type": "code",
   "source": "print(a)",
   "id": "58c9ecba3fafa0b1",
   "outputs": [
    {
     "name": "stdout",
     "output_type": "stream",
     "text": [
      "[1, 2, 3, [400, 5]]\n"
     ]
    }
   ],
   "execution_count": 34
  },
  {
   "metadata": {},
   "cell_type": "markdown",
   "source": "### Deep Copy",
   "id": "76467cabe61f2d3"
  },
  {
   "metadata": {
    "ExecuteTime": {
     "end_time": "2024-09-02T17:06:30.912091Z",
     "start_time": "2024-09-02T17:06:30.908841Z"
    }
   },
   "cell_type": "code",
   "source": [
    "import copy\n",
    "\n",
    "a = [1, 2, 3,[4, 5]]\n",
    "print(a)\n",
    "print(id(a))\n",
    "\n",
    "b = copy.deepcopy(a)\n",
    "print(b)\n",
    "print(id(b))"
   ],
   "id": "4882f549d4c4b141",
   "outputs": [
    {
     "name": "stdout",
     "output_type": "stream",
     "text": [
      "[1, 2, 3, [4, 5]]\n",
      "1969492331008\n",
      "[1, 2, 3, [4, 5]]\n",
      "1969492264128\n"
     ]
    }
   ],
   "execution_count": 43
  },
  {
   "metadata": {
    "ExecuteTime": {
     "end_time": "2024-09-02T17:06:34.003097Z",
     "start_time": "2024-09-02T17:06:34.000097Z"
    }
   },
   "cell_type": "code",
   "source": [
    "b[-1][0] = 500\n",
    "print(b)\n",
    "print(a)"
   ],
   "id": "63e374394a81c64b",
   "outputs": [
    {
     "name": "stdout",
     "output_type": "stream",
     "text": [
      "[1, 2, 3, [500, 5]]\n",
      "[1, 2, 3, [4, 5]]\n"
     ]
    }
   ],
   "execution_count": 44
  },
  {
   "metadata": {
    "ExecuteTime": {
     "end_time": "2024-09-02T17:06:34.324300Z",
     "start_time": "2024-09-02T17:06:34.320864Z"
    }
   },
   "cell_type": "code",
   "source": [
    "print(id(a[-1]))\n",
    "print(id(b[-1]))"
   ],
   "id": "402456dbe5b55955",
   "outputs": [
    {
     "name": "stdout",
     "output_type": "stream",
     "text": [
      "1969492268352\n",
      "1969492237440\n"
     ]
    }
   ],
   "execution_count": 45
  },
  {
   "metadata": {},
   "cell_type": "markdown",
   "source": [
    "# Q6 How nested lists are stored in memory?\n",
    "\n",
    "Python list uses referential array for storing items in the list.\n",
    "unlike C and Java. \n",
    "\n",
    "Referential is used to accommodate different types of data"
   ],
   "id": "dbce628560d84811"
  },
  {
   "metadata": {},
   "cell_type": "markdown",
   "source": [
    "# Q7 How strings are stored in memory\n",
    "# Q8 Why tuples take less memory than lists?\n",
    "\n",
    "Along with referential array, Python uses dynamic array.\n",
    "\n",
    "Dynamic array doubles the array when the array is filled\n",
    "\n",
    "`Although`. For Strings and tuples are immutable, they do not need to be dynamic\n",
    "\n",
    "Hence,\n",
    "\n",
    "List - Dynamic Array\n",
    "\n",
    "Tuple - Static Array\n",
    "\n",
    "Therefore, it uses less memory"
   ],
   "id": "d7394cd40b2bf3b9"
  },
  {
   "metadata": {
    "ExecuteTime": {
     "end_time": "2024-09-02T17:19:28.110439Z",
     "start_time": "2024-09-02T17:19:28.106139Z"
    }
   },
   "cell_type": "code",
   "source": [
    "str1 = 'hello'\n",
    "print(id(str1))\n",
    "print(id(str1[0]))\n",
    "print(id('h'))"
   ],
   "id": "8b470695cfd43b6b",
   "outputs": [
    {
     "name": "stdout",
     "output_type": "stream",
     "text": [
      "1969463586912\n",
      "140734223159848\n",
      "140734223159848\n"
     ]
    }
   ],
   "execution_count": 46
  },
  {
   "metadata": {},
   "cell_type": "code",
   "outputs": [],
   "execution_count": null,
   "source": "",
   "id": "8bd5a5898a913dc1"
  },
  {
   "metadata": {},
   "cell_type": "code",
   "outputs": [],
   "execution_count": null,
   "source": "",
   "id": "67cbd8cc2004e8eb"
  },
  {
   "metadata": {},
   "cell_type": "code",
   "outputs": [],
   "execution_count": null,
   "source": "",
   "id": "da45bc53ef968840"
  },
  {
   "metadata": {},
   "cell_type": "code",
   "outputs": [],
   "execution_count": null,
   "source": "",
   "id": "79f321d6c7506285"
  },
  {
   "metadata": {},
   "cell_type": "code",
   "outputs": [],
   "execution_count": null,
   "source": "",
   "id": "6de6dbd83d63c9f2"
  },
  {
   "metadata": {},
   "cell_type": "code",
   "outputs": [],
   "execution_count": null,
   "source": "",
   "id": "1d45ef38de453134"
  },
  {
   "metadata": {},
   "cell_type": "code",
   "outputs": [],
   "execution_count": null,
   "source": "",
   "id": "1c7acd3f4e2ce76a"
  },
  {
   "metadata": {},
   "cell_type": "code",
   "outputs": [],
   "execution_count": null,
   "source": "",
   "id": "f5b6dc0dbc02975b"
  },
  {
   "metadata": {},
   "cell_type": "markdown",
   "source": [
    "| 3 |  |\n",
    "| 4 |  |\n",
    "| 5 |  |\n",
    "| 6 |  |\n",
    "| 7 |  |\n",
    "| 8 |  |\n",
    "| 9 | How set index position is decided? |\n",
    "| 10 | Why mutable types are not allowed in sets/dicts |"
   ],
   "id": "9520a926ebaf5fa8"
  }
 ],
 "metadata": {
  "kernelspec": {
   "display_name": "Python 3",
   "language": "python",
   "name": "python3"
  },
  "language_info": {
   "codemirror_mode": {
    "name": "ipython",
    "version": 2
   },
   "file_extension": ".py",
   "mimetype": "text/x-python",
   "name": "python",
   "nbconvert_exporter": "python",
   "pygments_lexer": "ipython2",
   "version": "2.7.6"
  }
 },
 "nbformat": 4,
 "nbformat_minor": 5
}
