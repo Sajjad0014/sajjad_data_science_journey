{
 "nbformat": 4,
 "nbformat_minor": 0,
 "metadata": {
  "colab": {
   "provenance": []
  },
  "kernelspec": {
   "name": "python3",
   "display_name": "Python 3 (ipykernel)",
   "language": "python"
  },
  "language_info": {
   "name": "python"
  }
 },
 "cells": [
  {
   "cell_type": "markdown",
   "source": [
    "# Tuple\n"
   ],
   "metadata": {
    "id": "limD5IAfl-tz"
   }
  },
  {
   "cell_type": "markdown",
   "source": [
    "### `Q1:` Join Tuples if similar initial element\n",
    "While working with Python tuples, we can have a problem in which we need to perform concatenation of records from the similarity of initial element. This problem can have applications in data domains such as Data Science.\n",
    "\n",
    "For eg.\n",
    "```\n",
    "Input  : test_list = [(5, 6), (5, 7), (5, 8), (6, 10), (7, 13)]\n",
    "Output : [(5, 6, 7, 8), (6, 10), (7, 13)]\n",
    "```"
   ],
   "metadata": {
    "id": "nSTn3CjbmB7q"
   }
  },
  {
   "cell_type": "code",
   "source": [
    "# write your code here\n",
    "test_list = [(5, 6), (5, 7), (5, 8), (6, 10), (7, 13)]\n",
    "new_list = []\n",
    "\n",
    "for i in test_list:\n",
    "    print(i[0])\n",
    "\n",
    "##############################################################################################"
   ],
   "metadata": {
    "id": "hwVeEvH9rJzU",
    "ExecuteTime": {
     "end_time": "2024-08-28T16:18:10.027697Z",
     "start_time": "2024-08-28T16:18:10.012611Z"
    }
   },
   "outputs": [
    {
     "name": "stdout",
     "output_type": "stream",
     "text": [
      "5\n",
      "5\n",
      "5\n",
      "6\n",
      "7\n"
     ]
    }
   ],
   "execution_count": 2
  },
  {
   "cell_type": "markdown",
   "source": [
    "### `Q2:` Multiply Adjacent elements (both side) and take sum of right and lest side multiplication result.\n",
    "\n",
    "\n",
    "For eg.\n",
    "```\n",
    "The original tuple : (1, 5, 7, 8, 10)\n",
    "Resultant tuple after multiplication :\n",
    "\n",
    "(1*5, 1*5+5*7, 7*5 + 7*8, 8*7 + 8*10, 10*8) -> (5, 40, 91, 136, 80)\n",
    "\n",
    "output-(5, 40, 91, 136, 80)\n",
    "```"
   ],
   "metadata": {
    "id": "ujQpZOFFmeha"
   }
  },
  {
   "cell_type": "code",
   "source": [
    "# write your code here\n",
    "##############################################"
   ],
   "metadata": {
    "id": "N9lveEsArNVc"
   },
   "execution_count": null,
   "outputs": []
  },
  {
   "cell_type": "markdown",
   "source": [
    "### `Q3`: Check if tuples are same or not?\n",
    "Two tuples would be same if both tuples have same element at same index\n",
    "```\n",
    "t1 = (1,2,3,0)\n",
    "t2 = (0,1,2,3)\n",
    "\n",
    "t1 and t2 are not same\n",
    "```"
   ],
   "metadata": {
    "id": "x0psnUiu2ZVp"
   }
  },
  {
   "cell_type": "code",
   "source": [
    "# write your code here\n",
    "t1 = (1, 2, 3, 0)\n",
    "t2 = (0, 1, 2, 3)\n",
    "flag = True\n",
    "\n",
    "for i in range(len(t1)):\n",
    "    if t1[i] != t2[i]:\n",
    "        flag = False\n",
    "\n",
    "if flag:\n",
    "    print('t1 and t2 are same')\n",
    "else:\n",
    "    print('t1 and t2 are not same')"
   ],
   "metadata": {
    "id": "JMVw9EhSrPEc",
    "ExecuteTime": {
     "end_time": "2024-08-28T17:27:39.260675Z",
     "start_time": "2024-08-28T17:27:39.245190Z"
    }
   },
   "outputs": [
    {
     "name": "stdout",
     "output_type": "stream",
     "text": [
      "t1 and t2 are not same\n"
     ]
    }
   ],
   "execution_count": 7
  },
  {
   "cell_type": "markdown",
   "source": [
    "### `Q4`: Count no of tuples, list and set from a list\n",
    "```\n",
    "list1 = [{'hi', 'bye'},{'Geeks', 'forGeeks'},('a', 'b'),['hi', 'bye'],['a', 'b']]\n",
    "\n",
    "```\n",
    "`Output:`\n",
    "\n",
    "```\n",
    "List-2\n",
    "Set-2\n",
    "Tuples-1\n",
    "```"
   ],
   "metadata": {
    "id": "aZ4rObHK4fCN"
   }
  },
  {
   "cell_type": "code",
   "source": [
    "# write your code here\n",
    "list1 = [{'hi', 'bye'}, {'Geeks', 'forGeeks'}, ('a', 'b'), ['hi', 'bye'], ['a', 'b']]\n",
    "list_counter, set_counter, tuple_counter = 0, 0, 0\n",
    "\n",
    "for i in list1:\n",
    "    if type(i) == type(list()):\n",
    "        list_counter += 1\n",
    "    elif type(i) == type(set()):\n",
    "        set_counter += 1\n",
    "    elif type(i) == type(tuple()):\n",
    "        tuple_counter += 1\n",
    "\n",
    "print('Lists - ', list_counter, '\\nSet - ', set_counter, '\\nTuples - ', tuple_counter)\n",
    "\n"
   ],
   "metadata": {
    "id": "g_Bnuczk69tG",
    "ExecuteTime": {
     "end_time": "2024-08-28T17:48:15.049728Z",
     "start_time": "2024-08-28T17:48:15.045585Z"
    }
   },
   "outputs": [
    {
     "name": "stdout",
     "output_type": "stream",
     "text": [
      "Lists -  2 \n",
      "Set -  2 \n",
      "Tuples -  1\n"
     ]
    }
   ],
   "execution_count": 13
  },
  {
   "cell_type": "markdown",
   "source": [
    "### `Q5`: Shortlist Students for a Job role\n",
    "Ask user to input students record and store in tuples for each record. Then Ask user to input three things he wants in the candidate- Primary Skill, Higher Education, Year of Graduation.\n",
    "\n",
    "Show every students record in form of tuples if matches all required criteria.\n",
    "\n",
    "It is assumed that there will be only one primry skill.\n",
    "\n",
    "If no such candidate found, print `No such candidate`\n",
    "\n",
    "`Input:`\n",
    "```\n",
    "Enter No of records- 2\n",
    "Enter Details of student-1\n",
    "Enter Student name- Manohar\n",
    "Enter Higher Education- B.Tech\n",
    "Enter Primary Skill- Python\n",
    "Enter Year of Graduation- 2022\n",
    "Enter Details of student-2\n",
    "Enter Student name- Ponian\n",
    "Enter Higher Education- B.Sc.\n",
    "Enter Primary Skill- C++\n",
    "Enter Year of Graduation- 2020\n",
    "\n",
    "Enter Job Role Requirement\n",
    "Enter Skill- Python\n",
    "Enter Higher Education- B.Tech\n",
    "Enter Year of Graduation- 2022\n",
    "```\n",
    "\n",
    "`Output`\n",
    "```\n",
    "('Manohar', 'B.tech', 'Python', '2022')\n",
    "```\n"
   ],
   "metadata": {
    "id": "jInFNuit8hf1"
   }
  },
  {
   "cell_type": "code",
   "source": [
    "# write your code here\n",
    "no_of_records = int(input('Enter No of records - '))\n",
    "total_records = list()\n",
    "\n",
    "for i in range(1, no_of_records + 1):\n",
    "    record = list()\n",
    "    print('Enter Details of ', i)\n",
    "    record.append(input('Enter Student name: '))\n",
    "    record.append(input('Enter Higher Education: '))\n",
    "    record.append(input('Enter Primary Skill: '))\n",
    "    record.append(int(input('Enter Year of Graduation: ')))\n",
    "    total_records.append(record)\n",
    "\n",
    "print(total_records)"
   ],
   "metadata": {
    "id": "erh9QZaerSHk",
    "ExecuteTime": {
     "end_time": "2024-08-28T18:02:38.099569Z",
     "start_time": "2024-08-28T18:02:18.610971Z"
    }
   },
   "outputs": [
    {
     "name": "stdout",
     "output_type": "stream",
     "text": [
      "Enter Details of  1\n",
      "Enter Details of  2\n",
      "[['sajjad', 'masters', 'ml', 2024], ['saad', 'masters', 'telecomm', 2022]]\n"
     ]
    }
   ],
   "execution_count": 24
  },
  {
   "metadata": {
    "ExecuteTime": {
     "end_time": "2024-08-28T18:03:23.287946Z",
     "start_time": "2024-08-28T18:03:16.411853Z"
    }
   },
   "cell_type": "code",
   "source": [
    "print('Enter Job Role Requirement')\n",
    "requirement = list()\n",
    "requirement.append(input('Enter skill: '))\n",
    "requirement.append(input('Enter Higher Education: '))\n",
    "requirement.append(input('Enter Year of Graduation: '))\n",
    "requirement"
   ],
   "outputs": [
    {
     "name": "stdout",
     "output_type": "stream",
     "text": [
      "Enter Job Role Requirement\n"
     ]
    },
    {
     "data": {
      "text/plain": [
       "['ml', 'masters', '2024']"
      ]
     },
     "execution_count": 27,
     "metadata": {},
     "output_type": "execute_result"
    }
   ],
   "execution_count": 27
  },
  {
   "metadata": {
    "ExecuteTime": {
     "end_time": "2024-08-28T18:03:25.083624Z",
     "start_time": "2024-08-28T18:03:25.080543Z"
    }
   },
   "cell_type": "code",
   "source": [
    "if requirement in total_records:\n",
    "    print(total_records[requirement])\n",
    "\n",
    "#############################################################"
   ],
   "outputs": [],
   "execution_count": 28
  },
  {
   "cell_type": "markdown",
   "source": [
    "# Set"
   ],
   "metadata": {
    "id": "l4hLvwD2BeIN"
   }
  },
  {
   "cell_type": "markdown",
   "source": [
    "### `Q1:` Write a program to find set of common elements in three lists using sets.\n",
    "```\n",
    "Input : ar1 = [1, 5, 10, 20, 40, 80]\n",
    "        ar2 = [6, 7, 20, 80, 100]\n",
    "        ar3 = [3, 4, 15, 20, 30, 70, 80, 120]\n",
    "\n",
    "Output : [80, 20]\n",
    "```"
   ],
   "metadata": {
    "id": "zCX0Sk2IBfu8"
   }
  },
  {
   "cell_type": "code",
   "source": [
    "# write your code here\n",
    "ar1 = [1, 5, 10, 20, 40, 80]\n",
    "ar2 = [6, 7, 20, 80, 100]\n",
    "ar3 = [3, 4, 15, 20, 30, 70, 80, 120]\n",
    "\n",
    "set1 = set(ar1)\n",
    "set2 = set(ar2)\n",
    "set3 = set(ar3)\n",
    "\n",
    "result = set1.intersection(set2)\n",
    "result.intersection_update(set3)\n",
    "print(result)"
   ],
   "metadata": {
    "id": "rqATYpBUrUQU",
    "ExecuteTime": {
     "end_time": "2024-08-28T18:06:36.431419Z",
     "start_time": "2024-08-28T18:06:36.426681Z"
    }
   },
   "outputs": [
    {
     "name": "stdout",
     "output_type": "stream",
     "text": [
      "{80, 20}\n"
     ]
    }
   ],
   "execution_count": 29
  },
  {
   "cell_type": "markdown",
   "source": [
    "### `Q2:` Write a program to count unique number of vowels using sets in a given string. Lowercase and upercase vowels will be taken as different.\n",
    "\n",
    "`Input:`\n",
    "```\n",
    "Str1 = \"hands-on data science mentorship progrAm with live classes at affordable fee only on CampusX\"\n",
    "```\n",
    "`Output:`\n",
    "```\n",
    "No of unique vowels-6\n",
    "```"
   ],
   "metadata": {
    "id": "0gOVS-0yCYrK"
   }
  },
  {
   "cell_type": "code",
   "source": [
    "# write your code here\n",
    "Str1 = \"hands-on data science mentorship progrAm with live classes at affordable fee only on CampusX\"\n",
    "vowels = set('aeiouAEIOU')\n",
    "\n",
    "set_str1 = set(Str1)\n",
    "\n",
    "print('No of unique vowels - ', len(vowels & set_str1))"
   ],
   "metadata": {
    "id": "0vAlEAOzDihm",
    "ExecuteTime": {
     "end_time": "2024-08-28T19:05:29.965926Z",
     "start_time": "2024-08-28T19:05:29.960815Z"
    }
   },
   "outputs": [
    {
     "name": "stdout",
     "output_type": "stream",
     "text": [
      "No of unique vowels -  6\n"
     ]
    }
   ],
   "execution_count": 34
  },
  {
   "cell_type": "markdown",
   "source": [
    "### `Q3:` Write a program to Check if a given string is binary string of or not.\n",
    "\n",
    "A string is said to be binary if it's consists of only two unique characters.\n",
    "\n",
    "Take string input from user.\n",
    "\n",
    "```\n",
    "Input: str = \"01010101010\"\n",
    "Output: Yes\n",
    "\n",
    "Input: str = \"1222211\"\n",
    "Output: Yes\n",
    "\n",
    "Input: str = \"Campusx\"\n",
    "Output: No\n",
    "```"
   ],
   "metadata": {
    "id": "fqLZxiarEne5"
   }
  },
  {
   "cell_type": "code",
   "source": [
    "# write your code here\n",
    "str1 = \"01010101010\"\n",
    "unique = set(str1)\n",
    "print(str1)\n",
    "if len(unique) > 2:\n",
    "    print('No')\n",
    "else:\n",
    "    print('Yes')\n",
    "    \n",
    "str2 = \"1222211\"\n",
    "print(str2)\n",
    "unique = set(str2)\n",
    "if len(unique) > 2:\n",
    "    print('No')\n",
    "else:\n",
    "    print('Yes')\n",
    "    \n",
    "str3 = \"Campusx\"\n",
    "print(str3)\n",
    "unique = set(str3)\n",
    "if len(unique) > 2:\n",
    "    print('No')\n",
    "else:\n",
    "    print('Yes')"
   ],
   "metadata": {
    "id": "5M5v8LoYrXkE",
    "ExecuteTime": {
     "end_time": "2024-08-28T19:14:11.782638Z",
     "start_time": "2024-08-28T19:14:11.777576Z"
    }
   },
   "outputs": [
    {
     "name": "stdout",
     "output_type": "stream",
     "text": [
      "01010101010\n",
      "Yes\n",
      "1222211\n",
      "Yes\n",
      "Campusx\n",
      "No\n"
     ]
    }
   ],
   "execution_count": 40
  },
  {
   "cell_type": "markdown",
   "source": [
    "### `Q4`: find union of n arrays.\n",
    "\n",
    "**Example 1:**\n",
    "\n",
    "Input:\n",
    "```bash\n",
    "[[1, 2, 2, 4, 3, 6],\n",
    " [5, 1, 3, 4],\n",
    " [9, 5, 7, 1],\n",
    " [2, 4, 1, 3]]\n",
    "```\n",
    "\n",
    "Output:\n",
    "\n",
    "```bash\n",
    "[1, 2, 3, 4, 5, 6, 7, 9]\n",
    "```"
   ],
   "metadata": {
    "id": "xXS8wYH1mDqx"
   }
  },
  {
   "cell_type": "code",
   "source": [
    "# write your code here\n",
    "arr = [[1, 2, 2, 4, 3, 6],\n",
    " [5, 1, 3, 4],\n",
    " [9, 5, 7, 1],\n",
    " [2, 4, 1, 3]]\n",
    "result = set()\n",
    "\n",
    "for i in arr:\n",
    "    result.update(i)\n",
    "\n",
    "print(result)"
   ],
   "metadata": {
    "id": "FVNyK6MbncU8",
    "ExecuteTime": {
     "end_time": "2024-08-28T19:16:57.403717Z",
     "start_time": "2024-08-28T19:16:57.399787Z"
    }
   },
   "outputs": [
    {
     "name": "stdout",
     "output_type": "stream",
     "text": [
      "{1, 2, 3, 4, 5, 6, 7, 9}\n"
     ]
    }
   ],
   "execution_count": 42
  },
  {
   "cell_type": "markdown",
   "source": [
    "### `Q5`: Intersection of two lists. Intersection of two list means we need to take all those elements which are common to both of the initial lists and store them into another list. Only use using **list-comprehension**.\n",
    "\n",
    "**Example 1:**\n",
    "\n",
    "Input:\n",
    "```bash\n",
    "lst1 = {15, 9, 10, 56, 23, 78, 5, 4, 9}\n",
    "lst2 = {9, 4, 5, 36, 47, 26, 10, 45, 87}\n",
    "```\n",
    "\n",
    "Output:\n",
    "```bash\n",
    "[9, 10, 4, 5]\n",
    "```\n",
    "\n",
    "**Example 2:**\n",
    "\n",
    "Input:\n",
    "```bash\n",
    "lst1 = {4, 9, 1, 17, 11, 26, 28, 54, 69}\n",
    "lst2 = {9, 9, 74, 21, 45, 11, 63, 28, 26}\n",
    "```\n",
    "\n",
    "Output:\n",
    "```bash\n",
    "[9, 11, 26, 28]\n",
    "```"
   ],
   "metadata": {
    "id": "T_Re21BdndOz"
   }
  },
  {
   "cell_type": "code",
   "source": [
    "# write your code here\n",
    "lst1 = {15, 9, 10, 56, 23, 78, 5, 4, 9}\n",
    "lst2 = {9, 4, 5, 36, 47, 26, 10, 45, 87}\n",
    "\n",
    "[x for x in lst1 if x in lst2]"
   ],
   "metadata": {
    "id": "nWnL25ftoLVT",
    "ExecuteTime": {
     "end_time": "2024-08-28T19:21:31.509240Z",
     "start_time": "2024-08-28T19:21:31.502977Z"
    }
   },
   "outputs": [
    {
     "data": {
      "text/plain": [
       "[4, 5, 9, 10]"
      ]
     },
     "execution_count": 43,
     "metadata": {},
     "output_type": "execute_result"
    }
   ],
   "execution_count": 43
  },
  {
   "metadata": {
    "ExecuteTime": {
     "end_time": "2024-08-28T19:21:41.155407Z",
     "start_time": "2024-08-28T19:21:41.149377Z"
    }
   },
   "cell_type": "code",
   "source": [
    "lst1 = {4, 9, 1, 17, 11, 26, 28, 54, 69}\n",
    "lst2 = {9, 9, 74, 21, 45, 11, 63, 28, 26}\n",
    "\n",
    "[x for x in lst1 if x in lst2]"
   ],
   "outputs": [
    {
     "data": {
      "text/plain": [
       "[9, 11, 26, 28]"
      ]
     },
     "execution_count": 44,
     "metadata": {},
     "output_type": "execute_result"
    }
   ],
   "execution_count": 44
  },
  {
   "cell_type": "markdown",
   "source": [
    "# Dictionary"
   ],
   "metadata": {
    "id": "tD2RSYn1a8oA"
   }
  },
  {
   "cell_type": "markdown",
   "source": [
    "### `Q1`: Key with maximum unique values\n",
    "\n",
    "Given a dictionary with values list, extract key whose value has most unique values.\n",
    "\n",
    "**Example 1:**\n",
    "\n",
    "Input:\n",
    "\n",
    "```bash\n",
    "test_dict = {\"CampusX\" : [5, 7, 9, 4, 0], \"is\" : [6, 7, 4, 3, 3], \"Best\" : [9, 9, 6, 5, 5]}\n",
    "```\n",
    "\n",
    "Output:\n",
    "```bash\n",
    "CampusX\n",
    "```\n",
    "\n",
    "**Example 2:**\n",
    "\n",
    "Input:\n",
    "```bash\n",
    "test_dict = {\"CampusX\" : [5, 7, 7, 7, 7], \"is\" : [6, 7, 7, 7], \"Best\" : [9, 9, 6, 5, 5]}\n",
    "```\n",
    "\n",
    "Output:\n",
    "```bash\n",
    "Best\n",
    "```"
   ],
   "metadata": {
    "id": "7tUjHhcPbQzQ"
   }
  },
  {
   "cell_type": "code",
   "source": [
    "# write your code here\n",
    "test_dict = {\"CampusX\" : [5, 7, 9, 4, 0], \"is\" : [6, 7, 4, 3, 3], \"Best\" : [9, 9, 6, 5, 5]}\n",
    "least_key = 0\n",
    "index = None\n",
    "\n",
    "for key, value in test_dict.items():\n",
    "    least_count =100000000000000000000000 \n",
    "    for j in value: \n",
    "        if value.count(j) < least_count:\n",
    "            least_count = value.count(j)\n",
    "            index = key\n",
    "    \n",
    "print(index)"
   ],
   "metadata": {
    "id": "N8KHX863lNxL",
    "ExecuteTime": {
     "end_time": "2024-08-28T19:33:15.256750Z",
     "start_time": "2024-08-28T19:33:15.252652Z"
    }
   },
   "outputs": [
    {
     "name": "stdout",
     "output_type": "stream",
     "text": [
      "Best\n"
     ]
    }
   ],
   "execution_count": 58
  },
  {
   "cell_type": "markdown",
   "source": [
    "### `Q2`: Replace words from Dictionary. Given String, replace it’s words from lookup dictionary.\n",
    "\n",
    "**Example 1:**\n",
    "\n",
    "Input:\n",
    "\n",
    "```bash\n",
    "test_str = 'CampusX best for DS students.'\n",
    "repl_dict = {\"best\" : \"is the best channel\", \"DS\" : \"Data-Science\"}\n",
    "```\n",
    "\n",
    "Output:\n",
    "\n",
    "```bash\n",
    "CampusX is the best channel for Data-Science students.\n",
    "```\n",
    "\n",
    "**Example 2:**\n",
    "\n",
    "Input:\n",
    "```bash\n",
    "test_str = 'CampusX best for DS students.'\n",
    "repl_dict = {\"good\" : \"is the best channel\", \"ds\" : \"Data-Science\"}\n",
    "```\n",
    "\n",
    "Output:\n",
    "```bash\n",
    "CampusX best for DS students.\n",
    "```"
   ],
   "metadata": {
    "id": "_S5X6C84dWdJ"
   }
  },
  {
   "cell_type": "code",
   "source": [
    "# write your code here\n",
    "test_str = 'CampusX best for DS students.'\n",
    "repl_dict = {\"best\" : \"is the best channel\", \"DS\" : \"Data-Science\"}\n",
    "\n",
    "res = []\n",
    "for i in test_str.split():\n",
    "  if i in repl_dict:\n",
    "    res.append(repl_dict[i])\n",
    "  else:\n",
    "    res.append(i)\n",
    "      \n",
    "\n",
    "print(\" \".join(res))"
   ],
   "metadata": {
    "id": "BTAQ8qnrlOxr",
    "ExecuteTime": {
     "end_time": "2024-08-28T19:52:16.580633Z",
     "start_time": "2024-08-28T19:52:16.576390Z"
    }
   },
   "outputs": [
    {
     "name": "stdout",
     "output_type": "stream",
     "text": [
      "CampusX is the best channel for Data-Science students.\n"
     ]
    }
   ],
   "execution_count": 84
  },
  {
   "cell_type": "markdown",
   "source": [
    "### `Q3`: Convert List to List of dictionaries. Given list values and keys list, convert these values to key value pairs in form of list of dictionaries.\n",
    "\n",
    "**Example 1:**\n",
    "\n",
    "Input:\n",
    "```bash\n",
    "test_list = [\"DataScience\", 3, \"is\", 8]\n",
    "key_list = [\"name\", \"id\"]\n",
    "```\n",
    "\n",
    "Output:\n",
    "\n",
    "```bash\n",
    "[{'name': 'DataScience', 'id': 3}, {'name': 'is', 'id': 8}]\n",
    "```\n",
    "\n",
    "**Example 2:**\n",
    "\n",
    "Input:\n",
    "```bash\n",
    "test_list = [\"CampusX\", 10]\n",
    "key_list = [\"name\", \"id\"]\n",
    "```\n",
    "\n",
    "Output:\n",
    "\n",
    "```bash\n",
    "[{'name': 'CampusX', 'id': 10}]\n",
    "```"
   ],
   "metadata": {
    "id": "55xgap3zfbcR"
   }
  },
  {
   "cell_type": "code",
   "source": [
    "# write your code here\n",
    "test_list = [\"DataScience\", 3, \"is\", 8]\n",
    "key_list = [\"name\", \"id\"]\n",
    "result_list = []\n",
    "\n",
    "n = len(test_list)\n",
    "\n",
    "for i in range(0, n, 2):\n",
    "    result_list.append({key_list[0]: test_list[i], key_list[1]: test_list[i+1]})\n",
    "        \n",
    "print(result_list)"
   ],
   "metadata": {
    "id": "jbCajI87lQFr",
    "ExecuteTime": {
     "end_time": "2024-08-30T19:05:53.777480Z",
     "start_time": "2024-08-30T19:05:53.770802Z"
    }
   },
   "outputs": [
    {
     "name": "stdout",
     "output_type": "stream",
     "text": [
      "[{'name': 'DataScience', 'id': 3}, {'name': 'is', 'id': 8}]\n"
     ]
    }
   ],
   "execution_count": 7
  },
  {
   "cell_type": "markdown",
   "source": [
    "### `Q4`: Convert a list of Tuples into Dictionary.\n",
    "\n",
    "**Example 1:**\n",
    "\n",
    "Input:\n",
    "```bash\n",
    "[(\"akash\", 10), (\"gaurav\", 12), (\"anand\", 14), (\"suraj\", 20), (\"akhil\", 25), (\"ashish\", 30)]\n",
    "```\n",
    "\n",
    "Output:\n",
    "```bash\n",
    "{'akash': [10], 'gaurav': [12], 'anand': [14], 'suraj': [20], 'akhil': [25], 'ashish': [30]}\n",
    "```\n",
    "\n",
    "**Example 2:**\n",
    "\n",
    "Input:\n",
    "```bash\n",
    "[('A', 1), ('B', 2), ('C', 3)]\n",
    "```\n",
    "\n",
    "Output:\n",
    "```bash\n",
    "{'A': [1], 'B': [2], 'C': [3]}\n",
    "```"
   ],
   "metadata": {
    "id": "5RxBlLQahLkB"
   }
  },
  {
   "cell_type": "code",
   "source": [
    "# write your code here\n",
    "input_list = [(\"akash\", 10), (\"gaurav\", 12), (\"anand\", 14), (\"suraj\", 20), (\"akhil\", 25), (\"ashish\", 30)]\n",
    "result_dict = {}\n",
    "input_dict = dict(input_list)\n",
    "print(input_dict)\n",
    "\n",
    "{key: [value] for (key, value) in input_dict.items()}"
   ],
   "metadata": {
    "id": "f1yz7inMlQ5N",
    "ExecuteTime": {
     "end_time": "2024-08-31T00:29:03.577884Z",
     "start_time": "2024-08-31T00:29:03.565629Z"
    }
   },
   "outputs": [
    {
     "name": "stdout",
     "output_type": "stream",
     "text": [
      "{'akash': 10, 'gaurav': 12, 'anand': 14, 'suraj': 20, 'akhil': 25, 'ashish': 30}\n"
     ]
    },
    {
     "data": {
      "text/plain": [
       "{'akash': [10],\n",
       " 'gaurav': [12],\n",
       " 'anand': [14],\n",
       " 'suraj': [20],\n",
       " 'akhil': [25],\n",
       " 'ashish': [30]}"
      ]
     },
     "execution_count": 12,
     "metadata": {},
     "output_type": "execute_result"
    }
   ],
   "execution_count": 12
  },
  {
   "cell_type": "markdown",
   "source": [
    "### `Q5`: Sort Dictionary key and values List.\n",
    "\n",
    "**Example 1:**\n",
    "\n",
    "Input:\n",
    "\n",
    "```bash\n",
    "{'c': [3], 'b': [12, 10], 'a': [19, 4]}\n",
    "```\n",
    "\n",
    "Output:\n",
    "\n",
    "```bash\n",
    "{'a': [4, 19], 'b': [10, 12], 'c': [3]}\n",
    "```\n",
    "\n",
    "**Example 2:**\n",
    "\n",
    "Input:\n",
    "\n",
    "```bash\n",
    "{'c': [10, 34, 3]}\n",
    "```\n",
    "\n",
    "Output:\n",
    "\n",
    "```bash\n",
    "{'c': [3, 10, 34]}\n",
    "```"
   ],
   "metadata": {
    "id": "Fz8EzJD-kBkS"
   }
  },
  {
   "cell_type": "code",
   "source": [
    "# write your code here\n",
    "dict1 = {'c': [3], 'b': [12, 10], 'a': [19, 4]}\n",
    "dict1 = sorted(dict1)\n",
    "\n",
    "for keys in dict1:\n",
    "    print(keys, dict1[keys])"
   ],
   "metadata": {
    "id": "x9UmJ4EQk7Pp",
    "ExecuteTime": {
     "end_time": "2024-08-31T00:31:11.592866Z",
     "start_time": "2024-08-31T00:31:11.579417Z"
    }
   },
   "outputs": [
    {
     "ename": "TypeError",
     "evalue": "list indices must be integers or slices, not str",
     "output_type": "error",
     "traceback": [
      "\u001B[1;31m---------------------------------------------------------------------------\u001B[0m",
      "\u001B[1;31mTypeError\u001B[0m                                 Traceback (most recent call last)",
      "Cell \u001B[1;32mIn[15], line 6\u001B[0m\n\u001B[0;32m      3\u001B[0m dict1 \u001B[38;5;241m=\u001B[39m \u001B[38;5;28msorted\u001B[39m(dict1)\n\u001B[0;32m      5\u001B[0m \u001B[38;5;28;01mfor\u001B[39;00m keys \u001B[38;5;129;01min\u001B[39;00m dict1:\n\u001B[1;32m----> 6\u001B[0m     \u001B[38;5;28mprint\u001B[39m(keys, \u001B[43mdict1\u001B[49m\u001B[43m[\u001B[49m\u001B[43mkeys\u001B[49m\u001B[43m]\u001B[49m)\n",
      "\u001B[1;31mTypeError\u001B[0m: list indices must be integers or slices, not str"
     ]
    }
   ],
   "execution_count": 15
  },
  {
   "metadata": {},
   "cell_type": "code",
   "outputs": [],
   "execution_count": null,
   "source": ""
  }
 ]
}
