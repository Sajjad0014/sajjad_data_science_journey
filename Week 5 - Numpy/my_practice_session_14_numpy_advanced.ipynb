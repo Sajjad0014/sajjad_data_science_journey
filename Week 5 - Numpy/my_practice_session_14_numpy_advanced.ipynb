{
 "nbformat": 4,
 "nbformat_minor": 0,
 "metadata": {
  "colab": {
   "provenance": []
  },
  "kernelspec": {
   "name": "python3",
   "display_name": "Python 3 (ipykernel)",
   "language": "python"
  },
  "language_info": {
   "name": "python"
  }
 },
 "cells": [
  {
   "cell_type": "markdown",
   "source": [
    "### Numpy array vs Python lists"
   ],
   "metadata": {
    "id": "exouV4nxLocj"
   }
  },
  {
   "metadata": {
    "ExecuteTime": {
     "end_time": "2025-01-17T18:46:12.908348Z",
     "start_time": "2025-01-17T18:46:10.237095Z"
    }
   },
   "cell_type": "code",
   "source": [
    "# speed\n",
    "# List\n",
    "a = [i for i in range(10000000)]\n",
    "b = [i for i in range(10000000, 20000000)]\n",
    "\n",
    "c = []\n",
    "\n",
    "import time\n",
    "\n",
    "start = time.time()\n",
    "for i in range(len(a)):\n",
    "    c.append(a[i] + b[i])\n",
    "\n",
    "time_taken_list = time.time() - start\n",
    "print(\"Time taken: \", time_taken_list, ' sec')"
   ],
   "outputs": [
    {
     "name": "stdout",
     "output_type": "stream",
     "text": [
      "Time taken:  1.421417474746704  sec\n"
     ]
    }
   ],
   "execution_count": 1
  },
  {
   "metadata": {
    "ExecuteTime": {
     "end_time": "2025-01-17T18:46:13.640616Z",
     "start_time": "2025-01-17T18:46:12.909354Z"
    }
   },
   "cell_type": "code",
   "source": [
    "# Now the same in numpy\n",
    "import numpy as np\n",
    "\n",
    "a = np.arange(10000000)\n",
    "b = np.arange(10000000, 20000000)\n",
    "\n",
    "start = time.time()\n",
    "c = a + b\n",
    "\n",
    "time_taken_numpy = time.time() - start\n",
    "print(\"Time taken: \", time_taken_numpy, ' sec')"
   ],
   "outputs": [
    {
     "name": "stdout",
     "output_type": "stream",
     "text": [
      "Time taken:  0.11529088020324707  sec\n"
     ]
    }
   ],
   "execution_count": 2
  },
  {
   "metadata": {
    "ExecuteTime": {
     "end_time": "2025-01-17T18:46:13.645065Z",
     "start_time": "2025-01-17T18:46:13.641623Z"
    }
   },
   "cell_type": "code",
   "source": "print(time_taken_list / time_taken_numpy)",
   "outputs": [
    {
     "name": "stdout",
     "output_type": "stream",
     "text": [
      "12.328967150227994\n"
     ]
    }
   ],
   "execution_count": 3
  },
  {
   "metadata": {},
   "cell_type": "markdown",
   "source": [
    "#### This is because numpy uses c type array, i.e. static array, and it is not a referential array\n",
    "#### While list is a dynamic array. And it is a referential array"
   ]
  },
  {
   "metadata": {
    "ExecuteTime": {
     "end_time": "2025-01-17T18:46:14.108662Z",
     "start_time": "2025-01-17T18:46:13.647074Z"
    }
   },
   "cell_type": "code",
   "source": [
    "# memory\n",
    "a = [i for i in range(10000000)]\n",
    "\n",
    "import sys\n",
    "\n",
    "list_size = sys.getsizeof(a)\n",
    "print(list_size, ' bytes')"
   ],
   "outputs": [
    {
     "name": "stdout",
     "output_type": "stream",
     "text": [
      "89095160  bytes\n"
     ]
    }
   ],
   "execution_count": 4
  },
  {
   "metadata": {
    "ExecuteTime": {
     "end_time": "2025-01-17T18:46:14.220795Z",
     "start_time": "2025-01-17T18:46:14.109668Z"
    }
   },
   "cell_type": "code",
   "source": [
    "a = np.arange(10000000)\n",
    "\n",
    "numpy_size = sys.getsizeof(a)\n",
    "print(numpy_size, ' bytes')\n",
    "\n",
    "print('\\nDividing sizes list/numpy: ', list_size / numpy_size)"
   ],
   "outputs": [
    {
     "name": "stdout",
     "output_type": "stream",
     "text": [
      "40000112  bytes\n",
      "\n",
      "Dividing sizes list/numpy:  2.2273727633562626\n"
     ]
    }
   ],
   "execution_count": 5
  },
  {
   "metadata": {
    "ExecuteTime": {
     "end_time": "2025-01-17T18:46:14.236839Z",
     "start_time": "2025-01-17T18:46:14.221800Z"
    }
   },
   "cell_type": "code",
   "source": [
    "a = np.arange(10000000, dtype=np.int8)\n",
    "\n",
    "numpy_size_int8 = sys.getsizeof(a)\n",
    "print(numpy_size_int8, ' bytes')\n",
    "\n",
    "print('\\nDividing sizes list/numpy: ', list_size / numpy_size_int8)"
   ],
   "outputs": [
    {
     "name": "stdout",
     "output_type": "stream",
     "text": [
      "10000112  bytes\n",
      "\n",
      "Dividing sizes list/numpy:  8.909416214538398\n"
     ]
    }
   ],
   "execution_count": 6
  },
  {
   "metadata": {
    "ExecuteTime": {
     "end_time": "2025-01-17T18:46:14.241749Z",
     "start_time": "2025-01-17T18:46:14.238845Z"
    }
   },
   "cell_type": "code",
   "source": [
    "# If someone asks why numpy is better than list\n",
    "# less memory\n",
    "# less time to execute\n",
    "# convenient"
   ],
   "outputs": [],
   "execution_count": 7
  },
  {
   "cell_type": "markdown",
   "source": [
    "### Advanced Indexing"
   ],
   "metadata": {
    "id": "G7gJ1-8fLLEI"
   }
  },
  {
   "metadata": {
    "ExecuteTime": {
     "end_time": "2025-01-17T18:46:14.255956Z",
     "start_time": "2025-01-17T18:46:14.242756Z"
    }
   },
   "cell_type": "code",
   "source": [
    "# Normal indexing and slicing \n",
    "a = np.arange(12).reshape(4, 3)\n",
    "print(a)"
   ],
   "outputs": [
    {
     "name": "stdout",
     "output_type": "stream",
     "text": [
      "[[ 0  1  2]\n",
      " [ 3  4  5]\n",
      " [ 6  7  8]\n",
      " [ 9 10 11]]\n"
     ]
    }
   ],
   "execution_count": 8
  },
  {
   "metadata": {
    "ExecuteTime": {
     "end_time": "2025-01-17T18:46:14.265503Z",
     "start_time": "2025-01-17T18:46:14.256962Z"
    }
   },
   "cell_type": "code",
   "source": "print(a[1:3, ::2])",
   "outputs": [
    {
     "name": "stdout",
     "output_type": "stream",
     "text": [
      "[[3 5]\n",
      " [6 8]]\n"
     ]
    }
   ],
   "execution_count": 9
  },
  {
   "metadata": {
    "ExecuteTime": {
     "end_time": "2025-01-17T18:46:14.275529Z",
     "start_time": "2025-01-17T18:46:14.267509Z"
    }
   },
   "cell_type": "code",
   "source": [
    "# Fancy indexing\n",
    "print(a)"
   ],
   "outputs": [
    {
     "name": "stdout",
     "output_type": "stream",
     "text": [
      "[[ 0  1  2]\n",
      " [ 3  4  5]\n",
      " [ 6  7  8]\n",
      " [ 9 10 11]]\n"
     ]
    }
   ],
   "execution_count": 10
  },
  {
   "metadata": {
    "ExecuteTime": {
     "end_time": "2025-01-17T18:46:14.286152Z",
     "start_time": "2025-01-17T18:46:14.277722Z"
    }
   },
   "cell_type": "code",
   "source": "print(a[::2])",
   "outputs": [
    {
     "name": "stdout",
     "output_type": "stream",
     "text": [
      "[[0 1 2]\n",
      " [6 7 8]]\n"
     ]
    }
   ],
   "execution_count": 11
  },
  {
   "metadata": {
    "ExecuteTime": {
     "end_time": "2025-01-17T18:46:14.296563Z",
     "start_time": "2025-01-17T18:46:14.287543Z"
    }
   },
   "cell_type": "code",
   "source": [
    "# what if we want 1, 3, 4th rows\n",
    "print(a[[0, 2, 3]])"
   ],
   "outputs": [
    {
     "name": "stdout",
     "output_type": "stream",
     "text": [
      "[[ 0  1  2]\n",
      " [ 6  7  8]\n",
      " [ 9 10 11]]\n"
     ]
    }
   ],
   "execution_count": 12
  },
  {
   "metadata": {
    "ExecuteTime": {
     "end_time": "2025-01-17T18:46:14.307166Z",
     "start_time": "2025-01-17T18:46:14.297572Z"
    }
   },
   "cell_type": "code",
   "source": [
    "a = np.arange(24).reshape(6, 4)\n",
    "print(a)"
   ],
   "outputs": [
    {
     "name": "stdout",
     "output_type": "stream",
     "text": [
      "[[ 0  1  2  3]\n",
      " [ 4  5  6  7]\n",
      " [ 8  9 10 11]\n",
      " [12 13 14 15]\n",
      " [16 17 18 19]\n",
      " [20 21 22 23]]\n"
     ]
    }
   ],
   "execution_count": 13
  },
  {
   "metadata": {
    "ExecuteTime": {
     "end_time": "2025-01-17T18:46:14.318182Z",
     "start_time": "2025-01-17T18:46:14.308173Z"
    }
   },
   "cell_type": "code",
   "source": [
    "# 1, 3, 4, 6 rows\n",
    "print(a[[0, 2, 3, 5]])"
   ],
   "outputs": [
    {
     "name": "stdout",
     "output_type": "stream",
     "text": [
      "[[ 0  1  2  3]\n",
      " [ 8  9 10 11]\n",
      " [12 13 14 15]\n",
      " [20 21 22 23]]\n"
     ]
    }
   ],
   "execution_count": 14
  },
  {
   "metadata": {
    "ExecuteTime": {
     "end_time": "2025-01-17T18:46:14.329017Z",
     "start_time": "2025-01-17T18:46:14.318694Z"
    }
   },
   "cell_type": "code",
   "source": [
    "# 1, 3, 4 columns\n",
    "print(a[:, [0, 2, 3]])"
   ],
   "outputs": [
    {
     "name": "stdout",
     "output_type": "stream",
     "text": [
      "[[ 0  2  3]\n",
      " [ 4  6  7]\n",
      " [ 8 10 11]\n",
      " [12 14 15]\n",
      " [16 18 19]\n",
      " [20 22 23]]\n"
     ]
    }
   ],
   "execution_count": 15
  },
  {
   "metadata": {
    "ExecuteTime": {
     "end_time": "2025-01-17T18:46:14.339494Z",
     "start_time": "2025-01-17T18:46:14.330437Z"
    }
   },
   "cell_type": "code",
   "source": [
    "# boolean indexing\n",
    "a = np.random.randint(1, 100, 24).reshape(6, 4)\n",
    "print(a)"
   ],
   "outputs": [
    {
     "name": "stdout",
     "output_type": "stream",
     "text": [
      "[[50 47 51 74]\n",
      " [ 1 21 60 37]\n",
      " [35 61 26 25]\n",
      " [87 32 70 76]\n",
      " [25 33 58 25]\n",
      " [99 75 62 43]]\n"
     ]
    }
   ],
   "execution_count": 16
  },
  {
   "metadata": {
    "ExecuteTime": {
     "end_time": "2025-01-17T18:46:14.349051Z",
     "start_time": "2025-01-17T18:46:14.341004Z"
    }
   },
   "cell_type": "code",
   "source": [
    "# find all numbers greater than 50\n",
    "print(a > 50)"
   ],
   "outputs": [
    {
     "name": "stdout",
     "output_type": "stream",
     "text": [
      "[[False False  True  True]\n",
      " [False False  True False]\n",
      " [False  True False False]\n",
      " [ True False  True  True]\n",
      " [False False  True False]\n",
      " [ True  True  True False]]\n"
     ]
    }
   ],
   "execution_count": 17
  },
  {
   "metadata": {
    "ExecuteTime": {
     "end_time": "2025-01-17T18:46:14.358303Z",
     "start_time": "2025-01-17T18:46:14.350056Z"
    }
   },
   "cell_type": "code",
   "source": "print(a[a > 50])",
   "outputs": [
    {
     "name": "stdout",
     "output_type": "stream",
     "text": [
      "[51 74 60 61 87 70 76 58 99 75 62]\n"
     ]
    }
   ],
   "execution_count": 18
  },
  {
   "metadata": {
    "ExecuteTime": {
     "end_time": "2025-01-17T18:46:14.369822Z",
     "start_time": "2025-01-17T18:46:14.359310Z"
    }
   },
   "cell_type": "code",
   "source": [
    "# find out even numbers\n",
    "print(a & 2 == 0)"
   ],
   "outputs": [
    {
     "name": "stdout",
     "output_type": "stream",
     "text": [
      "[[False False False False]\n",
      " [ True  True  True  True]\n",
      " [False  True False  True]\n",
      " [False  True False  True]\n",
      " [ True  True False  True]\n",
      " [False False False False]]\n"
     ]
    }
   ],
   "execution_count": 19
  },
  {
   "metadata": {
    "ExecuteTime": {
     "end_time": "2025-01-17T18:46:14.379945Z",
     "start_time": "2025-01-17T18:46:14.371441Z"
    }
   },
   "cell_type": "code",
   "source": "print(a[a % 2 == 0])",
   "outputs": [
    {
     "name": "stdout",
     "output_type": "stream",
     "text": [
      "[50 74 60 26 32 70 76 58 62]\n"
     ]
    }
   ],
   "execution_count": 20
  },
  {
   "metadata": {
    "ExecuteTime": {
     "end_time": "2025-01-17T18:46:14.394104Z",
     "start_time": "2025-01-17T18:46:14.380953Z"
    }
   },
   "cell_type": "code",
   "source": "type(a[a % 2 == 0])",
   "outputs": [
    {
     "data": {
      "text/plain": [
       "numpy.ndarray"
      ]
     },
     "execution_count": 21,
     "metadata": {},
     "output_type": "execute_result"
    }
   ],
   "execution_count": 21
  },
  {
   "metadata": {
    "ExecuteTime": {
     "end_time": "2025-01-17T18:46:14.403207Z",
     "start_time": "2025-01-17T18:46:14.395331Z"
    }
   },
   "cell_type": "code",
   "source": [
    "# find all numbers greater than 50 and are even\n",
    "# we use &, which is bitwise operator, because we are dealing with boolean values True and False \n",
    "# Rather than 'and', which is a logical AND \n",
    "\n",
    "print((a > 50) & (a % 2 == 0))"
   ],
   "outputs": [
    {
     "name": "stdout",
     "output_type": "stream",
     "text": [
      "[[False False False  True]\n",
      " [False False  True False]\n",
      " [False False False False]\n",
      " [False False  True  True]\n",
      " [False False  True False]\n",
      " [False False  True False]]\n"
     ]
    }
   ],
   "execution_count": 22
  },
  {
   "metadata": {
    "ExecuteTime": {
     "end_time": "2025-01-17T18:46:14.413372Z",
     "start_time": "2025-01-17T18:46:14.404213Z"
    }
   },
   "cell_type": "code",
   "source": "print(a[(a > 50) & (a % 2 == 0)])",
   "outputs": [
    {
     "name": "stdout",
     "output_type": "stream",
     "text": [
      "[74 60 70 76 58 62]\n"
     ]
    }
   ],
   "execution_count": 23
  },
  {
   "metadata": {
    "ExecuteTime": {
     "end_time": "2025-01-17T18:46:14.730843Z",
     "start_time": "2025-01-17T18:46:14.414378Z"
    }
   },
   "cell_type": "code",
   "source": [
    "print(a[(a > 50) and (a % 2 == 0)])\n",
    "# NOT WORKING"
   ],
   "outputs": [
    {
     "ename": "ValueError",
     "evalue": "The truth value of an array with more than one element is ambiguous. Use a.any() or a.all()",
     "output_type": "error",
     "traceback": [
      "\u001B[1;31m---------------------------------------------------------------------------\u001B[0m",
      "\u001B[1;31mValueError\u001B[0m                                Traceback (most recent call last)",
      "Cell \u001B[1;32mIn[24], line 1\u001B[0m\n\u001B[1;32m----> 1\u001B[0m \u001B[38;5;28mprint\u001B[39m(a[\u001B[43m(\u001B[49m\u001B[43ma\u001B[49m\u001B[43m \u001B[49m\u001B[38;5;241;43m>\u001B[39;49m\u001B[43m \u001B[49m\u001B[38;5;241;43m50\u001B[39;49m\u001B[43m)\u001B[49m\u001B[43m \u001B[49m\u001B[38;5;129;43;01mand\u001B[39;49;00m\u001B[43m \u001B[49m\u001B[43m(\u001B[49m\u001B[43ma\u001B[49m\u001B[43m \u001B[49m\u001B[38;5;241;43m%\u001B[39;49m\u001B[43m \u001B[49m\u001B[38;5;241;43m2\u001B[39;49m\u001B[43m \u001B[49m\u001B[38;5;241;43m==\u001B[39;49m\u001B[43m \u001B[49m\u001B[38;5;241;43m0\u001B[39;49m\u001B[43m)\u001B[49m])\n\u001B[0;32m      2\u001B[0m \u001B[38;5;66;03m# NOT WORKING\u001B[39;00m\n",
      "\u001B[1;31mValueError\u001B[0m: The truth value of an array with more than one element is ambiguous. Use a.any() or a.all()"
     ]
    }
   ],
   "execution_count": 24
  },
  {
   "metadata": {},
   "cell_type": "code",
   "source": [
    "# find all numbers not divisible by 7\n",
    "print(a[~(a % 7 == 0)])\n",
    "print(a[a % 7 != 0])\n",
    "# Both are same"
   ],
   "outputs": [],
   "execution_count": null
  },
  {
   "cell_type": "markdown",
   "source": [
    "### Broadcasting\n",
    "\n",
    "The term broadcasting describes how NumPy treats arrays with different shapes during arithmetic operations.\n",
    "\n",
    "The smaller array is “broadcast” across the larger array so that they have compatible shapes."
   ],
   "metadata": {
    "id": "n2UP2iZTLPR5"
   }
  },
  {
   "metadata": {},
   "cell_type": "code",
   "source": [
    "# same shape\n",
    "a = np.arange(6).reshape(2, 3)\n",
    "b = np.arange(6, 12).reshape(2, 3)\n",
    "print(a)\n",
    "print()\n",
    "print(b)\n",
    "print()\n",
    "print(a + b)\n",
    "# Item wise addition"
   ],
   "outputs": [],
   "execution_count": null
  },
  {
   "metadata": {},
   "cell_type": "code",
   "source": [
    "a = np.arange(6).reshape(2, 3)\n",
    "b = np.arange(3).reshape(1, 3)\n",
    "\n",
    "print(a)\n",
    "print()\n",
    "print(b)\n",
    "print()\n",
    "print(a + b)\n",
    "# This issue of improper shape is solved by broadcasting"
   ],
   "outputs": [],
   "execution_count": null
  },
  {
   "metadata": {},
   "cell_type": "markdown",
   "source": [
    "#### Broadcasting Rules\n",
    "\n",
    "**1. Make the two arrays have the same number of dimensions.**<br>\n",
    "- If the numbers of dimensions of the two arrays are different, add new dimensions with size 1 to the head of the array with the smaller dimension.<br>"
   ]
  },
  {
   "metadata": {},
   "cell_type": "markdown",
   "source": [
    "**2. Make each dimension of the two arrays the same size.**<br>\n",
    "- If the sizes of each dimension of the two arrays do not match, dimensions with size 1 are stretched to the size of the other array.\n",
    "- If there is a dimension whose size is not 1 in either of the two arrays, it cannot be broadcasted, and an error is raised."
   ]
  },
  {
   "metadata": {},
   "cell_type": "markdown",
   "source": "![Broadcasting Example](https://jakevdp.github.io/PythonDataScienceHandbook/figures/02.05-broadcasting.png)"
  },
  {
   "metadata": {},
   "cell_type": "code",
   "source": [
    "# More examples\n",
    "a = np.arange(12).reshape(4, 3)\n",
    "b = np.arange(3)\n",
    "\n",
    "print(a)\n",
    "print()\n",
    "print(b)\n",
    "print()\n",
    "print(a + b)"
   ],
   "outputs": [],
   "execution_count": null
  },
  {
   "metadata": {},
   "cell_type": "code",
   "source": [
    "a = np.arange(12).reshape(3, 4)\n",
    "b = np.arange(3)\n",
    "\n",
    "print(a)\n",
    "print()\n",
    "print(b)\n",
    "print()\n",
    "print(a + b)"
   ],
   "outputs": [],
   "execution_count": null
  },
  {
   "metadata": {},
   "cell_type": "code",
   "source": [
    "a = np.arange(3).reshape(1, 3)\n",
    "b = np.arange(3).reshape(3, 1)\n",
    "\n",
    "print(a)\n",
    "print()\n",
    "print(b)\n",
    "print()\n",
    "print(a + b)"
   ],
   "outputs": [],
   "execution_count": null
  },
  {
   "metadata": {},
   "cell_type": "code",
   "source": [
    "a = np.arange(3).reshape(1, 3)\n",
    "b = np.arange(4).reshape(4, 1)\n",
    "\n",
    "print(a)\n",
    "print()\n",
    "print(b)\n",
    "print()\n",
    "print(a + b)"
   ],
   "outputs": [],
   "execution_count": null
  },
  {
   "metadata": {},
   "cell_type": "code",
   "source": [
    "a = np.array([1])\n",
    "# shape --> (1, 1)\n",
    "b = np.arange(4).reshape(2, 2)\n",
    "# shape --> (2, 2)\n",
    "\n",
    "print(a)\n",
    "print()\n",
    "print(b)\n",
    "print()\n",
    "print(a + b)"
   ],
   "outputs": [],
   "execution_count": null
  },
  {
   "metadata": {},
   "cell_type": "code",
   "source": [
    "a = np.arange(12).reshape(3, 4)\n",
    "b = np.arange(12).reshape(4, 3)\n",
    "\n",
    "print(a)\n",
    "print()\n",
    "print(b)\n",
    "print()\n",
    "print(a + b)"
   ],
   "outputs": [],
   "execution_count": null
  },
  {
   "metadata": {},
   "cell_type": "code",
   "source": [
    "a = np.arange(16).reshape(4, 4)\n",
    "b = np.arange(4).reshape(2, 2)\n",
    "\n",
    "print(a)\n",
    "print()\n",
    "print(b)\n",
    "print()\n",
    "print(a + b)"
   ],
   "outputs": [],
   "execution_count": null
  },
  {
   "metadata": {},
   "cell_type": "markdown",
   "source": "### Working with mathematical formulas"
  },
  {
   "metadata": {},
   "cell_type": "code",
   "source": [
    "a = np.arange(10)\n",
    "print(a, '\\n')\n",
    "np.sum(a)"
   ],
   "outputs": [],
   "execution_count": null
  },
  {
   "metadata": {},
   "cell_type": "code",
   "source": [
    "print(np.sin(a))\n",
    "# These are the most common ones, that is why they are available as built in"
   ],
   "outputs": [],
   "execution_count": null
  },
  {
   "metadata": {},
   "cell_type": "code",
   "source": [
    "# sigmoid from logistic regression\n",
    "def sigmoid(array):\n",
    "    return 1 / (1 + np.exp(-array))\n",
    "\n",
    "\n",
    "a = np.arange(10)\n",
    "sigmoid(a)"
   ],
   "outputs": [],
   "execution_count": null
  },
  {
   "metadata": {},
   "cell_type": "code",
   "source": [
    "# mean squared error\n",
    "actual = np.random.randint(1, 50, 25)\n",
    "predicted = np.random.randint(1, 50, 25)\n",
    "\n",
    "print(actual)\n",
    "print(predicted)"
   ],
   "outputs": [],
   "execution_count": null
  },
  {
   "metadata": {},
   "cell_type": "code",
   "source": "actual - predicted",
   "outputs": [],
   "execution_count": null
  },
  {
   "metadata": {},
   "cell_type": "code",
   "source": [
    "def mse(actual, predicted):\n",
    "    return np.mean((actual - predicted) ** 2)\n",
    "\n",
    "\n",
    "mse(actual, predicted)"
   ],
   "outputs": [],
   "execution_count": null
  },
  {
   "metadata": {},
   "cell_type": "markdown",
   "source": "##### binary cross entropy - logistic regression\n"
  },
  {
   "metadata": {},
   "cell_type": "markdown",
   "source": "![Binary cross entropy](https://cdn.analyticsvidhya.com/wp-content/uploads/2021/03/Screenshot-from-2021-03-03-11-33-29.png)"
  },
  {
   "metadata": {},
   "cell_type": "code",
   "source": [
    "\n",
    "def bin_cross_entro(actual, predicted):\n",
    "    predicted = np.clip(predicted, 1e-15, 1 - 1e-15)\n",
    "\n",
    "    return np.mean(-(actual * np.log(predicted) + (1 - actual) * np.log(1 - predicted)))\n",
    "\n",
    "\n",
    "bin_cross_entro(actual, predicted)"
   ],
   "outputs": [],
   "execution_count": null
  },
  {
   "cell_type": "markdown",
   "source": [
    "### Working with missing values"
   ],
   "metadata": {
    "id": "d9olU9IoLX8P"
   }
  },
  {
   "metadata": {},
   "cell_type": "code",
   "source": [
    "# working with missing values --> np.nan\n",
    "a = np.array([1, 2, 3, 4, np.nan, 6])\n",
    "print(a)"
   ],
   "outputs": [],
   "execution_count": null
  },
  {
   "metadata": {},
   "cell_type": "code",
   "source": [
    "## boolean indexing\n",
    "np.isnan(a)"
   ],
   "outputs": [],
   "execution_count": null
  },
  {
   "metadata": {},
   "cell_type": "code",
   "source": "a[~(np.isnan(a))]",
   "outputs": [],
   "execution_count": null
  },
  {
   "metadata": {},
   "cell_type": "markdown",
   "source": "### Plotting Graphs"
  },
  {
   "metadata": {},
   "cell_type": "code",
   "source": [
    "# plotting a 2D plot\n",
    "# x = y\n",
    "# visit desmos.com\n",
    "\n",
    "x = np.linspace(-10, 10, 100)\n",
    "print(x)\n",
    "y = x"
   ],
   "outputs": [],
   "execution_count": null
  },
  {
   "metadata": {},
   "cell_type": "code",
   "source": "print('x shape: ', x.shape, '\\ny shape: ', y.shape)",
   "outputs": [],
   "execution_count": null
  },
  {
   "metadata": {},
   "cell_type": "code",
   "source": [
    "import matplotlib.pyplot as plt\n",
    "\n",
    "plt.plot(x, y)"
   ],
   "outputs": [],
   "execution_count": null
  },
  {
   "metadata": {},
   "cell_type": "code",
   "source": [
    "# y = x^2 - parabola\n",
    "x = np.linspace(-10, 10, 100)\n",
    "y = x ** 2\n",
    "\n",
    "plt.plot(x, y)"
   ],
   "outputs": [],
   "execution_count": null
  },
  {
   "metadata": {},
   "cell_type": "code",
   "source": [
    "# y = sin(x)\n",
    "\n",
    "x = np.linspace(-10, 10, 200)\n",
    "y = np.sin(x)\n",
    "\n",
    "plt.plot(x, y)\n"
   ],
   "outputs": [],
   "execution_count": null
  },
  {
   "metadata": {},
   "cell_type": "code",
   "source": [
    "# y = xlog(x)\n",
    "x = np.linspace(-10, 10, 100)\n",
    "y = x * np.log(x)\n",
    "\n",
    "plt.plot(x, y)"
   ],
   "outputs": [],
   "execution_count": null
  },
  {
   "metadata": {},
   "cell_type": "code",
   "source": [
    "x = np.linspace(-10, 10, 100)\n",
    "y = sigmoid(x)\n",
    "# or\n",
    "# y = 1/(1 + np.exp(-x))\n",
    "\n",
    "plt.plot(x, y)"
   ],
   "outputs": [],
   "execution_count": null
  },
  {
   "metadata": {},
   "cell_type": "code",
   "source": "# plotting a scatter plot",
   "outputs": [],
   "execution_count": null
  },
  {
   "metadata": {},
   "cell_type": "code",
   "source": "",
   "outputs": [],
   "execution_count": null
  },
  {
   "metadata": {},
   "cell_type": "code",
   "source": "",
   "outputs": [],
   "execution_count": null
  },
  {
   "metadata": {},
   "cell_type": "code",
   "source": "",
   "outputs": [],
   "execution_count": null
  },
  {
   "cell_type": "markdown",
   "source": [
    "### Meshgrids"
   ],
   "metadata": {
    "id": "1sw0TeY7LiGK"
   }
  },
  {
   "cell_type": "code",
   "source": [
    "# Meshgrids"
   ],
   "metadata": {
    "id": "xQP6c_ISE75r"
   },
   "outputs": [],
   "execution_count": null
  },
  {
   "cell_type": "code",
   "source": [],
   "metadata": {
    "id": "QPEQuuof8xmJ"
   },
   "outputs": [],
   "execution_count": null
  }
 ]
}
