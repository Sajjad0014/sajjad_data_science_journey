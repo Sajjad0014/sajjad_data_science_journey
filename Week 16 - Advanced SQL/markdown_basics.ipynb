{
 "nbformat": 4,
 "nbformat_minor": 0,
 "metadata": {
  "colab": {
   "provenance": []
  },
  "kernelspec": {
   "name": "python3",
   "display_name": "Python 3 (ipykernel)",
   "language": "python"
  },
  "language_info": {
   "name": "python"
  }
 },
 "cells": [
  {
   "cell_type": "markdown",
   "source": [
    "## What is **Markdown**?\n",
    "\n",
    "Markdown is a lightweight markup language that is used for creating simple formatted text documents. It was originally created by John Gruber in 2004 as a way to write content for the web that could be easily converted to HTML. Markdown is a simple way to add formatting, such as bold or italic text, headings, lists, links, and images, to plain text documents.\n",
    "\n",
    "Markdown uses a syntax that is designed to be easy to read and write, and it can be used in any text editor. The syntax is based on using special characters and symbols to indicate formatting, such as using asterisks (*) to indicate bold text or underscores (_) to indicate italicized text.\n",
    "\n",
    "Markdown has become a popular format for creating content for the web, particularly for technical documentation, blogs, and online forums. It is supported by many websites and content management systems, including GitHub, Reddit, and WordPress."
   ],
   "metadata": {
    "id": "RJP_Y2TxxKFO"
   }
  },
  {
   "cell_type": "markdown",
   "source": [
    "Markdown is used in a variety of settings, but it is most commonly used in the following contexts:\n",
    "\n",
    "1. `Software development`: Markdown is popular among software developers for writing documentation, README files, and commenting in code repositories. Many code hosting platforms, such as GitHub, GitLab, and Bitbucket, support Markdown for formatting these types of documents.\n",
    "\n",
    "2. `Blogging`: Markdown is often used by bloggers who prefer to write content in plain text and then convert it to HTML for publishing on their blog. Platforms such as WordPress, Ghost, and Jekyll allow bloggers to write in Markdown and then convert it to HTML automatically.\n",
    "\n",
    "3. `Academic writing`: Markdown is also popular among academics who prefer to write their papers in plain text rather than using a word processor like Microsoft Word. Markdown can be converted to PDF using tools like Pandoc or LaTeX, making it a convenient option for writing research papers, theses, and dissertations.\n",
    "\n",
    "4. `Note-taking`: Markdown is also used by many people as a way to take notes and organize information. Applications like Notion, Obsidian, and Evernote support Markdown for formatting notes and documents."
   ],
   "metadata": {
    "id": "Nj857CGkxWzl"
   }
  },
  {
   "metadata": {
    "ExecuteTime": {
     "end_time": "2024-09-13T03:01:33.940933Z",
     "start_time": "2024-09-13T03:01:33.935922Z"
    }
   },
   "cell_type": "code",
   "source": "# Headings",
   "outputs": [],
   "execution_count": 1
  },
  {
   "metadata": {},
   "cell_type": "markdown",
   "source": [
    "# Heading 1\n",
    "## Heading 2\n",
    "### Heading 3\n",
    "#### Heading 4\n",
    "##### Heading 5\n",
    "###### Heading 6"
   ]
  },
  {
   "metadata": {
    "ExecuteTime": {
     "end_time": "2024-09-13T03:02:23.606155Z",
     "start_time": "2024-09-13T03:02:23.601295Z"
    }
   },
   "cell_type": "code",
   "source": "# Paragraphs",
   "outputs": [],
   "execution_count": 3
  },
  {
   "metadata": {},
   "cell_type": "markdown",
   "source": [
    "This is a paragraph <br>\n",
    "This is the second line"
   ]
  },
  {
   "metadata": {
    "ExecuteTime": {
     "end_time": "2024-09-13T03:03:10.513900Z",
     "start_time": "2024-09-13T03:03:10.509035Z"
    }
   },
   "cell_type": "code",
   "source": "# Text formatting",
   "outputs": [],
   "execution_count": 4
  },
  {
   "metadata": {},
   "cell_type": "markdown",
   "source": [
    "This is in **BOLD**\n",
    "\n",
    "This is in *italics*\n",
    "\n",
    "This is ~~deleted~~"
   ]
  },
  {
   "metadata": {
    "ExecuteTime": {
     "end_time": "2024-09-13T03:04:57.193088Z",
     "start_time": "2024-09-13T03:04:57.187670Z"
    }
   },
   "cell_type": "code",
   "source": [
    "# Horizontal Rule\n",
    "# Line change"
   ],
   "outputs": [],
   "execution_count": 5
  },
  {
   "metadata": {},
   "cell_type": "markdown",
   "source": [
    "This is section 1\n",
    "---\n",
    "This is section 2"
   ]
  },
  {
   "metadata": {},
   "cell_type": "code",
   "outputs": [],
   "execution_count": null,
   "source": ""
  }
 ]
}
