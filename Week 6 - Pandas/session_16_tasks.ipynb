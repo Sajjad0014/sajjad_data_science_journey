{
 "nbformat": 4,
 "nbformat_minor": 0,
 "metadata": {
  "colab": {
   "provenance": []
  },
  "kernelspec": {
   "name": "python3",
   "display_name": "Python 3 (ipykernel)",
   "language": "python"
  },
  "language_info": {
   "name": "python"
  }
 },
 "cells": [
  {
   "cell_type": "code",
   "metadata": {
    "id": "zxrbXftDYalU",
    "ExecuteTime": {
     "end_time": "2025-01-31T20:15:51.188753Z",
     "start_time": "2025-01-31T20:15:51.186797Z"
    }
   },
   "source": [],
   "outputs": [],
   "execution_count": 37
  },
  {
   "cell_type": "markdown",
   "source": "### `Q-1:` Write a program to create an empty series.",
   "metadata": {
    "id": "MetYTZJpYfdz"
   }
  },
  {
   "cell_type": "code",
   "source": [
    "# code here\n",
    "import pandas as pd\n",
    "import numpy as np\n",
    "\n",
    "pd.Series()"
   ],
   "metadata": {
    "id": "KUcgT935YgC5",
    "ExecuteTime": {
     "end_time": "2025-01-31T20:15:51.339046Z",
     "start_time": "2025-01-31T20:15:51.335138Z"
    }
   },
   "outputs": [
    {
     "data": {
      "text/plain": [
       "Series([], dtype: object)"
      ]
     },
     "execution_count": 38,
     "metadata": {},
     "output_type": "execute_result"
    }
   ],
   "execution_count": 38
  },
  {
   "cell_type": "markdown",
   "source": "### `Q-2:` Write a Pandas program to add, subtract, multiple and divide two Pandas Series.",
   "metadata": {
    "id": "jw5ybzU6YhOo"
   }
  },
  {
   "cell_type": "code",
   "source": [
    "# code here\n",
    "a = pd.Series([1, 2, 4])\n",
    "b = pd.Series([5, 4, 2])\n",
    "\n",
    "print(a + b)"
   ],
   "metadata": {
    "id": "EF3GgVFjYjwG",
    "ExecuteTime": {
     "end_time": "2025-01-31T20:15:51.368196Z",
     "start_time": "2025-01-31T20:15:51.363080Z"
    }
   },
   "outputs": [
    {
     "name": "stdout",
     "output_type": "stream",
     "text": [
      "0    6\n",
      "1    6\n",
      "2    6\n",
      "dtype: int64\n"
     ]
    }
   ],
   "execution_count": 39
  },
  {
   "metadata": {
    "ExecuteTime": {
     "end_time": "2025-01-31T20:15:51.385202Z",
     "start_time": "2025-01-31T20:15:51.380286Z"
    }
   },
   "cell_type": "code",
   "source": "print(a - b)",
   "outputs": [
    {
     "name": "stdout",
     "output_type": "stream",
     "text": [
      "0   -4\n",
      "1   -2\n",
      "2    2\n",
      "dtype: int64\n"
     ]
    }
   ],
   "execution_count": 40
  },
  {
   "metadata": {
    "ExecuteTime": {
     "end_time": "2025-01-31T20:15:51.410714Z",
     "start_time": "2025-01-31T20:15:51.406714Z"
    }
   },
   "cell_type": "code",
   "source": "print(a * b)",
   "outputs": [
    {
     "name": "stdout",
     "output_type": "stream",
     "text": [
      "0    5\n",
      "1    8\n",
      "2    8\n",
      "dtype: int64\n"
     ]
    }
   ],
   "execution_count": 41
  },
  {
   "metadata": {
    "ExecuteTime": {
     "end_time": "2025-01-31T20:15:51.449752Z",
     "start_time": "2025-01-31T20:15:51.445064Z"
    }
   },
   "cell_type": "code",
   "source": "print(a - b)",
   "outputs": [
    {
     "name": "stdout",
     "output_type": "stream",
     "text": [
      "0   -4\n",
      "1   -2\n",
      "2    2\n",
      "dtype: int64\n"
     ]
    }
   ],
   "execution_count": 42
  },
  {
   "cell_type": "markdown",
   "source": [
    "### `Q-3` Write a Pandas program to compare the elements of the two Pandas Series.\n",
    "Sample Series: [2, 4, 6, 8, 10], [1, 3, 5, 7, 10]\n",
    "\n"
   ],
   "metadata": {
    "id": "TZDp25jeYlB6"
   }
  },
  {
   "cell_type": "code",
   "source": [
    "# code here\n",
    "a = pd.Series([1, 2, 3, 4])\n",
    "b = pd.Series([7, 8, 3, 4])\n",
    "\n",
    "print(a > b)"
   ],
   "metadata": {
    "id": "gFNil8ruYp1y",
    "ExecuteTime": {
     "end_time": "2025-01-31T20:15:51.477331Z",
     "start_time": "2025-01-31T20:15:51.472215Z"
    }
   },
   "outputs": [
    {
     "name": "stdout",
     "output_type": "stream",
     "text": [
      "0    False\n",
      "1    False\n",
      "2    False\n",
      "3    False\n",
      "dtype: bool\n"
     ]
    }
   ],
   "execution_count": 43
  },
  {
   "metadata": {
    "ExecuteTime": {
     "end_time": "2025-01-31T20:15:51.539429Z",
     "start_time": "2025-01-31T20:15:51.535181Z"
    }
   },
   "cell_type": "code",
   "source": "print(a == b)",
   "outputs": [
    {
     "name": "stdout",
     "output_type": "stream",
     "text": [
      "0    False\n",
      "1    False\n",
      "2     True\n",
      "3     True\n",
      "dtype: bool\n"
     ]
    }
   ],
   "execution_count": 44
  },
  {
   "metadata": {
    "ExecuteTime": {
     "end_time": "2025-01-31T20:15:51.560470Z",
     "start_time": "2025-01-31T20:15:51.556508Z"
    }
   },
   "cell_type": "code",
   "source": "print(a < b)",
   "outputs": [
    {
     "name": "stdout",
     "output_type": "stream",
     "text": [
      "0     True\n",
      "1     True\n",
      "2    False\n",
      "3    False\n",
      "dtype: bool\n"
     ]
    }
   ],
   "execution_count": 45
  },
  {
   "cell_type": "markdown",
   "source": [
    "### `Q-5.`Write a function to change the data type of given a column or a Series. Function takes series and data type as input, returns the converted series.\n",
    "```\n",
    "series = pd.Series([1,2,'Python', 2.0, True, 100])\n",
    "change to float type data\n",
    "```\n",
    "Note: Read about pd.to_numeric()"
   ],
   "metadata": {
    "id": "HlOBn_N6YrZz"
   }
  },
  {
   "cell_type": "code",
   "source": [
    "# code here\n",
    "series = pd.Series([1, 2, 'Python', 2.0, True, 100])\n",
    "pd.to_numeric(series, errors='coerce')"
   ],
   "metadata": {
    "id": "_SWQJCUJYwXm",
    "ExecuteTime": {
     "end_time": "2025-01-31T20:15:51.581961Z",
     "start_time": "2025-01-31T20:15:51.577474Z"
    }
   },
   "outputs": [
    {
     "data": {
      "text/plain": [
       "0      1.0\n",
       "1      2.0\n",
       "2      NaN\n",
       "3      2.0\n",
       "4      1.0\n",
       "5    100.0\n",
       "dtype: float64"
      ]
     },
     "execution_count": 46,
     "metadata": {},
     "output_type": "execute_result"
    }
   ],
   "execution_count": 46
  },
  {
   "cell_type": "markdown",
   "source": [
    "Download data - https://drive.google.com/file/d/1LRhXwbEodeWXtzPhJCX0X9Lf_BECzvqb/view?usp=share_link\n",
    "All Batsman runs series in IPL 2008 to 2022.\n",
    "\n",
    "Below questions are based on this data."
   ],
   "metadata": {
    "id": "PGp3OqRIY0Va"
   }
  },
  {
   "cell_type": "markdown",
   "source": "### `Q-6` Find top 10 most run getter from the series.",
   "metadata": {
    "id": "TxFkp-L4Y23d"
   }
  },
  {
   "cell_type": "code",
   "source": [
    "# code here\n",
    "batsman = pd.read_csv('session_17_and_18/batsman_runs_ipl.csv')\n",
    "batsman"
   ],
   "metadata": {
    "id": "muBgocA6Y2Bg",
    "ExecuteTime": {
     "end_time": "2025-01-31T20:15:51.603315Z",
     "start_time": "2025-01-31T20:15:51.594965Z"
    }
   },
   "outputs": [
    {
     "data": {
      "text/plain": [
       "             batter  batsman_run\n",
       "0    A Ashish Reddy          280\n",
       "1          A Badoni          161\n",
       "2        A Chandila            4\n",
       "3          A Chopra           53\n",
       "4       A Choudhary           25\n",
       "..              ...          ...\n",
       "600      Yash Dayal            0\n",
       "601   Yashpal Singh           47\n",
       "602     Younis Khan            3\n",
       "603    Yuvraj Singh         2754\n",
       "604          Z Khan          117\n",
       "\n",
       "[605 rows x 2 columns]"
      ],
      "text/html": [
       "<div>\n",
       "<style scoped>\n",
       "    .dataframe tbody tr th:only-of-type {\n",
       "        vertical-align: middle;\n",
       "    }\n",
       "\n",
       "    .dataframe tbody tr th {\n",
       "        vertical-align: top;\n",
       "    }\n",
       "\n",
       "    .dataframe thead th {\n",
       "        text-align: right;\n",
       "    }\n",
       "</style>\n",
       "<table border=\"1\" class=\"dataframe\">\n",
       "  <thead>\n",
       "    <tr style=\"text-align: right;\">\n",
       "      <th></th>\n",
       "      <th>batter</th>\n",
       "      <th>batsman_run</th>\n",
       "    </tr>\n",
       "  </thead>\n",
       "  <tbody>\n",
       "    <tr>\n",
       "      <th>0</th>\n",
       "      <td>A Ashish Reddy</td>\n",
       "      <td>280</td>\n",
       "    </tr>\n",
       "    <tr>\n",
       "      <th>1</th>\n",
       "      <td>A Badoni</td>\n",
       "      <td>161</td>\n",
       "    </tr>\n",
       "    <tr>\n",
       "      <th>2</th>\n",
       "      <td>A Chandila</td>\n",
       "      <td>4</td>\n",
       "    </tr>\n",
       "    <tr>\n",
       "      <th>3</th>\n",
       "      <td>A Chopra</td>\n",
       "      <td>53</td>\n",
       "    </tr>\n",
       "    <tr>\n",
       "      <th>4</th>\n",
       "      <td>A Choudhary</td>\n",
       "      <td>25</td>\n",
       "    </tr>\n",
       "    <tr>\n",
       "      <th>...</th>\n",
       "      <td>...</td>\n",
       "      <td>...</td>\n",
       "    </tr>\n",
       "    <tr>\n",
       "      <th>600</th>\n",
       "      <td>Yash Dayal</td>\n",
       "      <td>0</td>\n",
       "    </tr>\n",
       "    <tr>\n",
       "      <th>601</th>\n",
       "      <td>Yashpal Singh</td>\n",
       "      <td>47</td>\n",
       "    </tr>\n",
       "    <tr>\n",
       "      <th>602</th>\n",
       "      <td>Younis Khan</td>\n",
       "      <td>3</td>\n",
       "    </tr>\n",
       "    <tr>\n",
       "      <th>603</th>\n",
       "      <td>Yuvraj Singh</td>\n",
       "      <td>2754</td>\n",
       "    </tr>\n",
       "    <tr>\n",
       "      <th>604</th>\n",
       "      <td>Z Khan</td>\n",
       "      <td>117</td>\n",
       "    </tr>\n",
       "  </tbody>\n",
       "</table>\n",
       "<p>605 rows × 2 columns</p>\n",
       "</div>"
      ]
     },
     "execution_count": 47,
     "metadata": {},
     "output_type": "execute_result"
    }
   ],
   "execution_count": 47
  },
  {
   "metadata": {
    "ExecuteTime": {
     "end_time": "2025-01-31T20:15:51.624321Z",
     "start_time": "2025-01-31T20:15:51.618321Z"
    }
   },
   "cell_type": "code",
   "source": "batsman.sort_values('batsman_run', ascending=False).head(10)",
   "outputs": [
    {
     "data": {
      "text/plain": [
       "             batter  batsman_run\n",
       "569         V Kohli         6634\n",
       "462        S Dhawan         6244\n",
       "130       DA Warner         5883\n",
       "430       RG Sharma         5881\n",
       "493        SK Raina         5536\n",
       "27   AB de Villiers         5181\n",
       "108        CH Gayle         4997\n",
       "339        MS Dhoni         4978\n",
       "452      RV Uthappa         4954\n",
       "256      KD Karthik         4377"
      ],
      "text/html": [
       "<div>\n",
       "<style scoped>\n",
       "    .dataframe tbody tr th:only-of-type {\n",
       "        vertical-align: middle;\n",
       "    }\n",
       "\n",
       "    .dataframe tbody tr th {\n",
       "        vertical-align: top;\n",
       "    }\n",
       "\n",
       "    .dataframe thead th {\n",
       "        text-align: right;\n",
       "    }\n",
       "</style>\n",
       "<table border=\"1\" class=\"dataframe\">\n",
       "  <thead>\n",
       "    <tr style=\"text-align: right;\">\n",
       "      <th></th>\n",
       "      <th>batter</th>\n",
       "      <th>batsman_run</th>\n",
       "    </tr>\n",
       "  </thead>\n",
       "  <tbody>\n",
       "    <tr>\n",
       "      <th>569</th>\n",
       "      <td>V Kohli</td>\n",
       "      <td>6634</td>\n",
       "    </tr>\n",
       "    <tr>\n",
       "      <th>462</th>\n",
       "      <td>S Dhawan</td>\n",
       "      <td>6244</td>\n",
       "    </tr>\n",
       "    <tr>\n",
       "      <th>130</th>\n",
       "      <td>DA Warner</td>\n",
       "      <td>5883</td>\n",
       "    </tr>\n",
       "    <tr>\n",
       "      <th>430</th>\n",
       "      <td>RG Sharma</td>\n",
       "      <td>5881</td>\n",
       "    </tr>\n",
       "    <tr>\n",
       "      <th>493</th>\n",
       "      <td>SK Raina</td>\n",
       "      <td>5536</td>\n",
       "    </tr>\n",
       "    <tr>\n",
       "      <th>27</th>\n",
       "      <td>AB de Villiers</td>\n",
       "      <td>5181</td>\n",
       "    </tr>\n",
       "    <tr>\n",
       "      <th>108</th>\n",
       "      <td>CH Gayle</td>\n",
       "      <td>4997</td>\n",
       "    </tr>\n",
       "    <tr>\n",
       "      <th>339</th>\n",
       "      <td>MS Dhoni</td>\n",
       "      <td>4978</td>\n",
       "    </tr>\n",
       "    <tr>\n",
       "      <th>452</th>\n",
       "      <td>RV Uthappa</td>\n",
       "      <td>4954</td>\n",
       "    </tr>\n",
       "    <tr>\n",
       "      <th>256</th>\n",
       "      <td>KD Karthik</td>\n",
       "      <td>4377</td>\n",
       "    </tr>\n",
       "  </tbody>\n",
       "</table>\n",
       "</div>"
      ]
     },
     "execution_count": 48,
     "metadata": {},
     "output_type": "execute_result"
    }
   ],
   "execution_count": 48
  },
  {
   "cell_type": "markdown",
   "source": "### `Q-7` No of players having runs above 3000",
   "metadata": {
    "id": "GzlCFBM_Y83g"
   }
  },
  {
   "cell_type": "code",
   "source": [
    "# code here\n",
    "batsman[batsman['batsman_run'] > 3000].shape[0]"
   ],
   "metadata": {
    "id": "JdNchHRWY1B-",
    "ExecuteTime": {
     "end_time": "2025-01-31T20:15:51.702876Z",
     "start_time": "2025-01-31T20:15:51.696896Z"
    }
   },
   "outputs": [
    {
     "data": {
      "text/plain": [
       "20"
      ]
     },
     "execution_count": 49,
     "metadata": {},
     "output_type": "execute_result"
    }
   ],
   "execution_count": 49
  },
  {
   "cell_type": "markdown",
   "source": "### `Q-8` No of players having runs above mean value?",
   "metadata": {
    "id": "pMBEoCL1Y-vh"
   }
  },
  {
   "cell_type": "code",
   "source": [
    "# code here\n",
    "batsman[batsman['batsman_run'] > np.mean(batsman['batsman_run'])].shape[0]"
   ],
   "metadata": {
    "id": "LgtViVFZZBIu",
    "ExecuteTime": {
     "end_time": "2025-01-31T20:15:51.728903Z",
     "start_time": "2025-01-31T20:15:51.723886Z"
    }
   },
   "outputs": [
    {
     "data": {
      "text/plain": [
       "128"
      ]
     },
     "execution_count": 50,
     "metadata": {},
     "output_type": "execute_result"
    }
   ],
   "execution_count": 50
  },
  {
   "cell_type": "markdown",
   "source": [
    "Download data - https://drive.google.com/file/d/1QZuZ5bypUInfVvarHACLAi8tXXHvb8xd/view?usp=share_link\n",
    "\n",
    "file name - items.csv\n",
    "\n"
   ],
   "metadata": {
    "id": "OAB1CgdgZEqE"
   }
  },
  {
   "cell_type": "markdown",
   "source": "### `Q-9`\n",
   "metadata": {
    "id": "1UTQQImxZGLu"
   }
  },
  {
   "metadata": {
    "ExecuteTime": {
     "end_time": "2025-01-31T20:15:51.821015Z",
     "start_time": "2025-01-31T20:15:51.818793Z"
    }
   },
   "cell_type": "code",
   "source": [
    "#     1 Read `items.csv` making `item_name` as index.\n",
    "#     \n",
    "#     2 Show no of nan values\n",
    "#     \n",
    "#     3 Item price is given in $, so convert it to rupees without currency symbol.\n",
    "# \n",
    "#     4 Make data type of newly made series as float.\n",
    "# \n",
    "#     5 Fill nan with mean of the series\n",
    "# \n",
    "# \n",
    "# \n",
    "# How csv file looks\n",
    "# \n",
    "# ```\n",
    "# item_name\titem_price\n",
    "# Chips and Fresh Tomato Salsa\t$2.39\n",
    "# Izze\t$3.39\n",
    "# Nantucket Nectar\t$3.39\n",
    "# Chips and Tomatillo-Green Chili Salsa\t$2.39\n",
    "# Chicken Bowl\t$16.98\n",
    "# \n",
    "# ```"
   ],
   "outputs": [],
   "execution_count": 51
  },
  {
   "cell_type": "code",
   "source": [
    "# code here\n",
    "# i.\n",
    "items = pd.read_csv('items.csv', index_col=['item_name']).squeeze(\"columns\")\n",
    "print(items)\n",
    "print(items.shape)"
   ],
   "metadata": {
    "id": "1xaWkoMJZFNK",
    "ExecuteTime": {
     "end_time": "2025-01-31T20:15:51.870480Z",
     "start_time": "2025-01-31T20:15:51.862020Z"
    }
   },
   "outputs": [
    {
     "name": "stdout",
     "output_type": "stream",
     "text": [
      "item_name\n",
      "Chips and Fresh Tomato Salsa              $2.39 \n",
      "Izze                                      $3.39 \n",
      "Nantucket Nectar                          $3.39 \n",
      "Chips and Tomatillo-Green Chili Salsa     $2.39 \n",
      "Chicken Bowl                             $16.98 \n",
      "                                          ...   \n",
      "Steak Burrito                            $11.75 \n",
      "Steak Burrito                            $11.75 \n",
      "Chicken Salad Bowl                       $11.25 \n",
      "Chicken Salad Bowl                        $8.75 \n",
      "Chicken Salad Bowl                        $8.75 \n",
      "Name: item_price, Length: 4622, dtype: object\n",
      "(4622,)\n"
     ]
    }
   ],
   "execution_count": 52
  },
  {
   "metadata": {
    "ExecuteTime": {
     "end_time": "2025-01-31T20:15:51.968310Z",
     "start_time": "2025-01-31T20:15:51.962125Z"
    }
   },
   "cell_type": "code",
   "source": [
    "# ii.\n",
    "items.isnull().sum()\n",
    "# both correct\n",
    "items.isna().sum()"
   ],
   "outputs": [
    {
     "data": {
      "text/plain": [
       "50"
      ]
     },
     "execution_count": 53,
     "metadata": {},
     "output_type": "execute_result"
    }
   ],
   "execution_count": 53
  },
  {
   "metadata": {
    "ExecuteTime": {
     "end_time": "2025-01-31T20:15:51.979788Z",
     "start_time": "2025-01-31T20:15:51.972725Z"
    }
   },
   "cell_type": "code",
   "source": [
    "# iii.\n",
    "def rupees(x):\n",
    "    try:\n",
    "        y = x[1:]\n",
    "    except:\n",
    "        y = x\n",
    "    return float(y) * 83.50\n",
    "\n",
    "\n",
    "items.apply(rupees)"
   ],
   "outputs": [
    {
     "data": {
      "text/plain": [
       "item_name\n",
       "Chips and Fresh Tomato Salsa              199.565\n",
       "Izze                                      283.065\n",
       "Nantucket Nectar                          283.065\n",
       "Chips and Tomatillo-Green Chili Salsa     199.565\n",
       "Chicken Bowl                             1417.830\n",
       "                                           ...   \n",
       "Steak Burrito                             981.125\n",
       "Steak Burrito                             981.125\n",
       "Chicken Salad Bowl                        939.375\n",
       "Chicken Salad Bowl                        730.625\n",
       "Chicken Salad Bowl                        730.625\n",
       "Name: item_price, Length: 4622, dtype: float64"
      ]
     },
     "execution_count": 54,
     "metadata": {},
     "output_type": "execute_result"
    }
   ],
   "execution_count": 54
  },
  {
   "metadata": {
    "ExecuteTime": {
     "end_time": "2025-01-31T20:15:52.011867Z",
     "start_time": "2025-01-31T20:15:52.001795Z"
    }
   },
   "cell_type": "code",
   "source": [
    "# iii.\n",
    "items.str.split('$').str.get(1).str.strip().apply(lambda x: float(x) * 83.50 if type(x) is str else None)"
   ],
   "outputs": [
    {
     "data": {
      "text/plain": [
       "item_name\n",
       "Chips and Fresh Tomato Salsa              199.565\n",
       "Izze                                      283.065\n",
       "Nantucket Nectar                          283.065\n",
       "Chips and Tomatillo-Green Chili Salsa     199.565\n",
       "Chicken Bowl                             1417.830\n",
       "                                           ...   \n",
       "Steak Burrito                             981.125\n",
       "Steak Burrito                             981.125\n",
       "Chicken Salad Bowl                        939.375\n",
       "Chicken Salad Bowl                        730.625\n",
       "Chicken Salad Bowl                        730.625\n",
       "Name: item_price, Length: 4622, dtype: float64"
      ]
     },
     "execution_count": 55,
     "metadata": {},
     "output_type": "execute_result"
    }
   ],
   "execution_count": 55
  },
  {
   "metadata": {
    "ExecuteTime": {
     "end_time": "2025-01-31T20:15:52.065291Z",
     "start_time": "2025-01-31T20:15:52.055351Z"
    }
   },
   "cell_type": "code",
   "source": "items.apply(lambda x: float(x[1:]) * 83.50 if type(x) == str else None)",
   "outputs": [
    {
     "data": {
      "text/plain": [
       "item_name\n",
       "Chips and Fresh Tomato Salsa              199.565\n",
       "Izze                                      283.065\n",
       "Nantucket Nectar                          283.065\n",
       "Chips and Tomatillo-Green Chili Salsa     199.565\n",
       "Chicken Bowl                             1417.830\n",
       "                                           ...   \n",
       "Steak Burrito                             981.125\n",
       "Steak Burrito                             981.125\n",
       "Chicken Salad Bowl                        939.375\n",
       "Chicken Salad Bowl                        730.625\n",
       "Chicken Salad Bowl                        730.625\n",
       "Name: item_price, Length: 4622, dtype: float64"
      ]
     },
     "execution_count": 56,
     "metadata": {},
     "output_type": "execute_result"
    }
   ],
   "execution_count": 56
  },
  {
   "metadata": {
    "ExecuteTime": {
     "end_time": "2025-01-31T20:15:52.104337Z",
     "start_time": "2025-01-31T20:15:52.089491Z"
    }
   },
   "cell_type": "code",
   "source": [
    "# iv.\n",
    "items = items.apply(rupees)\n",
    "items"
   ],
   "outputs": [
    {
     "data": {
      "text/plain": [
       "item_name\n",
       "Chips and Fresh Tomato Salsa              199.565\n",
       "Izze                                      283.065\n",
       "Nantucket Nectar                          283.065\n",
       "Chips and Tomatillo-Green Chili Salsa     199.565\n",
       "Chicken Bowl                             1417.830\n",
       "                                           ...   \n",
       "Steak Burrito                             981.125\n",
       "Steak Burrito                             981.125\n",
       "Chicken Salad Bowl                        939.375\n",
       "Chicken Salad Bowl                        730.625\n",
       "Chicken Salad Bowl                        730.625\n",
       "Name: item_price, Length: 4622, dtype: float64"
      ]
     },
     "execution_count": 57,
     "metadata": {},
     "output_type": "execute_result"
    }
   ],
   "execution_count": 57
  },
  {
   "metadata": {
    "ExecuteTime": {
     "end_time": "2025-01-31T20:15:52.128014Z",
     "start_time": "2025-01-31T20:15:52.116887Z"
    }
   },
   "cell_type": "code",
   "source": [
    "# V.\n",
    "items.fillna(items.mean())"
   ],
   "outputs": [
    {
     "data": {
      "text/plain": [
       "item_name\n",
       "Chips and Fresh Tomato Salsa              199.565\n",
       "Izze                                      283.065\n",
       "Nantucket Nectar                          283.065\n",
       "Chips and Tomatillo-Green Chili Salsa     199.565\n",
       "Chicken Bowl                             1417.830\n",
       "                                           ...   \n",
       "Steak Burrito                             981.125\n",
       "Steak Burrito                             981.125\n",
       "Chicken Salad Bowl                        939.375\n",
       "Chicken Salad Bowl                        730.625\n",
       "Chicken Salad Bowl                        730.625\n",
       "Name: item_price, Length: 4622, dtype: float64"
      ]
     },
     "execution_count": 58,
     "metadata": {},
     "output_type": "execute_result"
    }
   ],
   "execution_count": 58
  },
  {
   "cell_type": "markdown",
   "source": [
    "### `Q-10`:\n",
    "    i. Find mean price\n",
    "    ii. Find 30th and 6th percentile value\n",
    "    iii. Plot Histogram on price with bin size 50\n",
    "    iv. No of items price lies between [1000 to 2000]\n",
    "\n"
   ],
   "metadata": {
    "id": "UHc_4e9cZK8r"
   }
  },
  {
   "cell_type": "code",
   "source": [
    "# code here\n",
    "# i. \n",
    "items.mean()"
   ],
   "metadata": {
    "id": "Eh3xX9FpZNmE",
    "ExecuteTime": {
     "end_time": "2025-01-31T20:15:52.159157Z",
     "start_time": "2025-01-31T20:15:52.153773Z"
    }
   },
   "outputs": [
    {
     "data": {
      "text/plain": [
       "623.1631299212597"
      ]
     },
     "execution_count": 59,
     "metadata": {},
     "output_type": "execute_result"
    }
   ],
   "execution_count": 59
  },
  {
   "metadata": {
    "ExecuteTime": {
     "end_time": "2025-01-31T20:15:52.187051Z",
     "start_time": "2025-01-31T20:15:52.182196Z"
    }
   },
   "cell_type": "code",
   "source": [
    "# ii.\n",
    "items.quantile(0.3)"
   ],
   "outputs": [
    {
     "data": {
      "text/plain": [
       "371.575"
      ]
     },
     "execution_count": 60,
     "metadata": {},
     "output_type": "execute_result"
    }
   ],
   "execution_count": 60
  },
  {
   "metadata": {
    "ExecuteTime": {
     "end_time": "2025-01-31T20:15:52.238931Z",
     "start_time": "2025-01-31T20:15:52.234057Z"
    }
   },
   "cell_type": "code",
   "source": "items.quantile(0.06)",
   "outputs": [
    {
     "data": {
      "text/plain": [
       "104.375"
      ]
     },
     "execution_count": 61,
     "metadata": {},
     "output_type": "execute_result"
    }
   ],
   "execution_count": 61
  },
  {
   "metadata": {
    "ExecuteTime": {
     "end_time": "2025-01-31T20:15:55.118018Z",
     "start_time": "2025-01-31T20:15:54.975109Z"
    }
   },
   "cell_type": "code",
   "source": [
    "# iii.\n",
    "items.plot.hist(bins=50)"
   ],
   "outputs": [
    {
     "data": {
      "text/plain": [
       "<Axes: ylabel='Frequency'>"
      ]
     },
     "execution_count": 62,
     "metadata": {},
     "output_type": "execute_result"
    },
    {
     "data": {
      "text/plain": [
       "<Figure size 640x480 with 1 Axes>"
      ],
      "image/png": "[encoded data removed]"
     },
     "metadata": {},
     "output_type": "display_data"
    }
   ],
   "execution_count": 62
  },
  {
   "metadata": {
    "ExecuteTime": {
     "end_time": "2025-01-31T20:15:56.996983Z",
     "start_time": "2025-01-31T20:15:56.891117Z"
    }
   },
   "cell_type": "code",
   "source": "items.plot(kind='hist', bins = 50)",
   "outputs": [
    {
     "data": {
      "text/plain": [
       "<Axes: ylabel='Frequency'>"
      ]
     },
     "execution_count": 64,
     "metadata": {},
     "output_type": "execute_result"
    },
    {
     "data": {
      "text/plain": [
       "<Figure size 640x480 with 1 Axes>"
      ],
      "image/png": "[encoded data removed]"
     },
     "metadata": {},
     "output_type": "display_data"
    }
   ],
   "execution_count": 64
  },
  {
   "metadata": {
    "ExecuteTime": {
     "end_time": "2025-01-31T20:16:06.772780Z",
     "start_time": "2025-01-31T20:16:06.767414Z"
    }
   },
   "cell_type": "code",
   "source": [
    "# iv.\n",
    "items[(items > 1000) & (items < 2000)]"
   ],
   "outputs": [
    {
     "data": {
      "text/plain": [
       "item_name\n",
       "Chicken Bowl           1417.83\n",
       "Chicken Salad Bowl     1878.75\n",
       "Steak Burrito          1501.33\n",
       "Chicken Burrito        1461.25\n",
       "Chicken Bowl           1461.25\n",
       "                        ...   \n",
       "Chicken Bowl           1878.75\n",
       "Steak Bowl             1962.25\n",
       "Chicken Bowl           1461.25\n",
       "Chips and Guacamole    1486.30\n",
       "Chicken Salad Bowl     1461.25\n",
       "Name: item_price, Length: 116, dtype: float64"
      ]
     },
     "execution_count": 65,
     "metadata": {},
     "output_type": "execute_result"
    }
   ],
   "execution_count": 65
  },
  {
   "metadata": {},
   "cell_type": "code",
   "source": "",
   "outputs": [],
   "execution_count": null
  }
 ]
}
