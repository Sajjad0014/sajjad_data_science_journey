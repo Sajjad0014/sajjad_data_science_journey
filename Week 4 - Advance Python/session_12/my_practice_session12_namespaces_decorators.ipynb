{
 "nbformat": 4,
 "nbformat_minor": 0,
 "metadata": {
  "colab": {
   "provenance": []
  },
  "kernelspec": {
   "name": "python3",
   "display_name": "Python 3 (ipykernel)",
   "language": "python"
  },
  "language_info": {
   "name": "python"
  }
 },
 "cells": [
  {
   "cell_type": "markdown",
   "source": [
    "### Namespaces\n",
    "\n",
    "A namespace is a space that holds names(identifiers).Programmatically speaking, namespaces are dictionary of identifiers(keys) and their objects(values)\n",
    "\n",
    "There are 4 types of namespaces:\n",
    "\n",
    "1. Local Namespace\n",
    "2. Enclosing Namespace\n",
    "3. Global Namespace\n",
    "4. Builtin Namespace\n",
    "\n",
    "If we run print(a). Then it starts searching from Local then Enclosing then Global and lastly Builtin\n"
   ],
   "metadata": {
    "id": "Xk9kpQFIwb4q"
   }
  },
  {
   "cell_type": "markdown",
   "source": [
    "### Scope and LEGB Rule\n",
    "\n",
    "A scope is a textual region of a Python program where a namespace is directly accessible.\n",
    "\n",
    "The interpreter searches for a name from the inside out, looking in the local, enclosing, global, and finally the built-in scope. If the interpreter doesn’t find the name in any of these locations, then Python raises a NameError exception."
   ],
   "metadata": {
    "id": "gwHLayLAz07u"
   }
  },
  {
   "metadata": {
    "ExecuteTime": {
     "end_time": "2024-09-15T04:23:01.557574Z",
     "start_time": "2024-09-15T04:23:01.552190Z"
    }
   },
   "cell_type": "code",
   "source": [
    "# Local and global\n",
    "\n",
    "# a is global scope\n",
    "a = 2\n",
    "\n",
    "\n",
    "def temp():\n",
    "    # b is local scope\n",
    "    b = 3\n",
    "    print(b)\n",
    "\n",
    "\n",
    "temp()\n",
    "print(a)"
   ],
   "outputs": [
    {
     "name": "stdout",
     "output_type": "stream",
     "text": [
      "3\n",
      "2\n"
     ]
    }
   ],
   "execution_count": 1
  },
  {
   "metadata": {
    "ExecuteTime": {
     "end_time": "2024-09-15T04:26:17.323085Z",
     "start_time": "2024-09-15T04:26:17.319543Z"
    }
   },
   "cell_type": "code",
   "source": [
    "# local and global --> same name\n",
    "\n",
    "a = 2\n",
    "\n",
    "\n",
    "def temp():\n",
    "    a = 3\n",
    "    print(a)\n",
    "\n",
    "\n",
    "temp()\n",
    "print(a)\n",
    "\n",
    "# Both a's belong to separate namespaces"
   ],
   "outputs": [
    {
     "name": "stdout",
     "output_type": "stream",
     "text": [
      "3\n",
      "2\n"
     ]
    }
   ],
   "execution_count": 3
  },
  {
   "metadata": {
    "ExecuteTime": {
     "end_time": "2024-09-15T04:28:15.514850Z",
     "start_time": "2024-09-15T04:28:15.511584Z"
    }
   },
   "cell_type": "code",
   "source": [
    "# Local and global --> Local does not have but global has\n",
    "\n",
    "# a is global scope\n",
    "a = 2\n",
    "\n",
    "\n",
    "def temp():\n",
    "    print(a)\n",
    "\n",
    "\n",
    "temp()\n",
    "print(a)"
   ],
   "outputs": [
    {
     "name": "stdout",
     "output_type": "stream",
     "text": [
      "2\n",
      "2\n"
     ]
    }
   ],
   "execution_count": 5
  },
  {
   "metadata": {
    "ExecuteTime": {
     "end_time": "2024-09-15T04:28:41.262870Z",
     "start_time": "2024-09-15T04:28:41.091285Z"
    }
   },
   "cell_type": "code",
   "source": [
    "# Local and global --> editing global\n",
    "\n",
    "# a is global scope\n",
    "a = 2\n",
    "\n",
    "\n",
    "def temp():\n",
    "    a += 1\n",
    "    print(a)\n",
    "\n",
    "\n",
    "temp()\n",
    "print(a)\n",
    "\n",
    "# We can only read but not edit"
   ],
   "outputs": [
    {
     "ename": "UnboundLocalError",
     "evalue": "cannot access local variable 'a' where it is not associated with a value",
     "output_type": "error",
     "traceback": [
      "\u001B[1;31m---------------------------------------------------------------------------\u001B[0m",
      "\u001B[1;31mUnboundLocalError\u001B[0m                         Traceback (most recent call last)",
      "Cell \u001B[1;32mIn[6], line 13\u001B[0m\n\u001B[0;32m      9\u001B[0m     a \u001B[38;5;241m+\u001B[39m\u001B[38;5;241m=\u001B[39m \u001B[38;5;241m1\u001B[39m\n\u001B[0;32m     10\u001B[0m     \u001B[38;5;28mprint\u001B[39m(a)\n\u001B[1;32m---> 13\u001B[0m \u001B[43mtemp\u001B[49m\u001B[43m(\u001B[49m\u001B[43m)\u001B[49m\n\u001B[0;32m     14\u001B[0m \u001B[38;5;28mprint\u001B[39m(a)\n",
      "Cell \u001B[1;32mIn[6], line 9\u001B[0m, in \u001B[0;36mtemp\u001B[1;34m()\u001B[0m\n\u001B[0;32m      7\u001B[0m \u001B[38;5;28;01mdef\u001B[39;00m \u001B[38;5;21mtemp\u001B[39m():\n\u001B[0;32m      8\u001B[0m     \u001B[38;5;66;03m# b is local scope\u001B[39;00m\n\u001B[1;32m----> 9\u001B[0m     \u001B[43ma\u001B[49m \u001B[38;5;241m+\u001B[39m\u001B[38;5;241m=\u001B[39m \u001B[38;5;241m1\u001B[39m\n\u001B[0;32m     10\u001B[0m     \u001B[38;5;28mprint\u001B[39m(a)\n",
      "\u001B[1;31mUnboundLocalError\u001B[0m: cannot access local variable 'a' where it is not associated with a value"
     ]
    }
   ],
   "execution_count": 6
  },
  {
   "metadata": {
    "ExecuteTime": {
     "end_time": "2024-09-15T04:33:54.209102Z",
     "start_time": "2024-09-15T04:33:54.206238Z"
    }
   },
   "cell_type": "code",
   "source": [
    "# We can change by using global key word\n",
    "# a is global scope\n",
    "a = 2\n",
    "\n",
    "\n",
    "def temp():\n",
    "    global a\n",
    "    a += 3\n",
    "    print(a)\n",
    "\n",
    "\n",
    "temp()\n",
    "print(a)\n",
    "\n",
    "# This is not a good practice"
   ],
   "outputs": [
    {
     "name": "stdout",
     "output_type": "stream",
     "text": [
      "5\n",
      "5\n"
     ]
    }
   ],
   "execution_count": 8
  },
  {
   "metadata": {
    "ExecuteTime": {
     "end_time": "2024-09-15T05:20:23.205781Z",
     "start_time": "2024-09-15T05:20:23.199900Z"
    }
   },
   "cell_type": "code",
   "source": [
    "# local and global --> global created inside local\n",
    "\n",
    "def temp():\n",
    "    # Local var\n",
    "    global x\n",
    "    x = 1\n",
    "    print(x)\n",
    "\n",
    "\n",
    "temp()\n",
    "print(x)\n",
    "\n",
    "# Again not a good programming practice"
   ],
   "outputs": [
    {
     "name": "stdout",
     "output_type": "stream",
     "text": [
      "1\n",
      "1\n"
     ]
    }
   ],
   "execution_count": 11
  },
  {
   "metadata": {
    "ExecuteTime": {
     "end_time": "2024-09-15T05:22:00.866489Z",
     "start_time": "2024-09-15T05:22:00.848579Z"
    }
   },
   "cell_type": "code",
   "source": [
    "# local and global --> function parameter is local\n",
    "\n",
    "def temp(z):\n",
    "    print(z)\n",
    "\n",
    "\n",
    "a = 5\n",
    "temp(5)\n",
    "print(a)\n",
    "print(z)\n",
    "# What happens in the function, stays in the function"
   ],
   "outputs": [
    {
     "name": "stdout",
     "output_type": "stream",
     "text": [
      "5\n",
      "5\n"
     ]
    },
    {
     "ename": "NameError",
     "evalue": "name 'z' is not defined",
     "output_type": "error",
     "traceback": [
      "\u001B[1;31m---------------------------------------------------------------------------\u001B[0m",
      "\u001B[1;31mNameError\u001B[0m                                 Traceback (most recent call last)",
      "Cell \u001B[1;32mIn[14], line 9\u001B[0m\n\u001B[0;32m      7\u001B[0m temp(\u001B[38;5;241m5\u001B[39m)\n\u001B[0;32m      8\u001B[0m \u001B[38;5;28mprint\u001B[39m(a)\n\u001B[1;32m----> 9\u001B[0m \u001B[38;5;28mprint\u001B[39m(\u001B[43mz\u001B[49m)\n",
      "\u001B[1;31mNameError\u001B[0m: name 'z' is not defined"
     ]
    }
   ],
   "execution_count": 14
  },
  {
   "metadata": {
    "ExecuteTime": {
     "end_time": "2024-09-15T05:23:46.262189Z",
     "start_time": "2024-09-15T05:23:46.257575Z"
    }
   },
   "cell_type": "code",
   "source": [
    "# Built-in scope\n",
    "\n",
    "print('Hello')"
   ],
   "outputs": [
    {
     "name": "stdout",
     "output_type": "stream",
     "text": [
      "Hello\n"
     ]
    }
   ],
   "execution_count": 18
  },
  {
   "metadata": {
    "ExecuteTime": {
     "end_time": "2024-09-15T17:27:43.852510Z",
     "start_time": "2024-09-15T17:27:43.843138Z"
    }
   },
   "cell_type": "code",
   "source": [
    "# how to see all the built-ins\n",
    "import builtins\n",
    "\n",
    "print(dir(builtins))"
   ],
   "outputs": [
    {
     "name": "stdout",
     "output_type": "stream",
     "text": [
      "['ArithmeticError', 'AssertionError', 'AttributeError', 'BaseException', 'BaseExceptionGroup', 'BlockingIOError', 'BrokenPipeError', 'BufferError', 'BytesWarning', 'ChildProcessError', 'ConnectionAbortedError', 'ConnectionError', 'ConnectionRefusedError', 'ConnectionResetError', 'DeprecationWarning', 'EOFError', 'Ellipsis', 'EncodingWarning', 'EnvironmentError', 'Exception', 'ExceptionGroup', 'False', 'FileExistsError', 'FileNotFoundError', 'FloatingPointError', 'FutureWarning', 'GeneratorExit', 'IOError', 'ImportError', 'ImportWarning', 'IndentationError', 'IndexError', 'InterruptedError', 'IsADirectoryError', 'KeyError', 'KeyboardInterrupt', 'LookupError', 'MemoryError', 'ModuleNotFoundError', 'NameError', 'None', 'NotADirectoryError', 'NotImplemented', 'NotImplementedError', 'OSError', 'OverflowError', 'PendingDeprecationWarning', 'PermissionError', 'ProcessLookupError', 'RecursionError', 'ReferenceError', 'ResourceWarning', 'RuntimeError', 'RuntimeWarning', 'StopAsyncIteration', 'StopIteration', 'SyntaxError', 'SyntaxWarning', 'SystemError', 'SystemExit', 'TabError', 'TimeoutError', 'True', 'TypeError', 'UnboundLocalError', 'UnicodeDecodeError', 'UnicodeEncodeError', 'UnicodeError', 'UnicodeTranslateError', 'UnicodeWarning', 'UserWarning', 'ValueError', 'Warning', 'WindowsError', 'ZeroDivisionError', '__IPYTHON__', '__build_class__', '__debug__', '__doc__', '__import__', '__loader__', '__name__', '__package__', '__spec__', 'abs', 'aiter', 'all', 'anext', 'any', 'ascii', 'bin', 'bool', 'breakpoint', 'bytearray', 'bytes', 'callable', 'chr', 'classmethod', 'compile', 'complex', 'copyright', 'credits', 'delattr', 'dict', 'dir', 'display', 'divmod', 'enumerate', 'eval', 'exec', 'execfile', 'filter', 'float', 'format', 'frozenset', 'get_ipython', 'getattr', 'globals', 'hasattr', 'hash', 'help', 'hex', 'id', 'input', 'int', 'isinstance', 'issubclass', 'iter', 'len', 'license', 'list', 'locals', 'map', 'max', 'memoryview', 'min', 'next', 'object', 'oct', 'open', 'ord', 'pow', 'print', 'property', 'range', 'repr', 'reversed', 'round', 'runfile', 'set', 'setattr', 'slice', 'sorted', 'staticmethod', 'str', 'sum', 'super', 'tuple', 'type', 'vars', 'zip']\n"
     ]
    }
   ],
   "execution_count": 19
  },
  {
   "metadata": {
    "ExecuteTime": {
     "end_time": "2024-09-15T17:33:48.816404Z",
     "start_time": "2024-09-15T17:33:48.803122Z"
    }
   },
   "cell_type": "code",
   "source": [
    "# renaming built-ins\n",
    "L = [1, 2, 3, 7]\n",
    "# this max() is a built-in function\n",
    "print(max(L))\n",
    "\n",
    "\n",
    "# But we created a builtin a global function\n",
    "def max():\n",
    "    print('Hello')\n",
    "\n",
    "\n",
    "print(max(L))"
   ],
   "outputs": [
    {
     "ename": "TypeError",
     "evalue": "max() takes 0 positional arguments but 1 was given",
     "output_type": "error",
     "traceback": [
      "\u001B[1;31m---------------------------------------------------------------------------\u001B[0m",
      "\u001B[1;31mTypeError\u001B[0m                                 Traceback (most recent call last)",
      "Cell \u001B[1;32mIn[24], line 4\u001B[0m\n\u001B[0;32m      2\u001B[0m L \u001B[38;5;241m=\u001B[39m [\u001B[38;5;241m1\u001B[39m, \u001B[38;5;241m2\u001B[39m, \u001B[38;5;241m3\u001B[39m, \u001B[38;5;241m7\u001B[39m]\n\u001B[0;32m      3\u001B[0m \u001B[38;5;66;03m# this max() is a built-in function\u001B[39;00m\n\u001B[1;32m----> 4\u001B[0m \u001B[38;5;28mprint\u001B[39m(\u001B[38;5;28;43mmax\u001B[39;49m\u001B[43m(\u001B[49m\u001B[43mL\u001B[49m\u001B[43m)\u001B[49m)\n\u001B[0;32m      6\u001B[0m \u001B[38;5;66;03m# But we created a builtin a global function\u001B[39;00m\n\u001B[0;32m      7\u001B[0m \u001B[38;5;28;01mdef\u001B[39;00m \u001B[38;5;21mmax\u001B[39m():\n",
      "\u001B[1;31mTypeError\u001B[0m: max() takes 0 positional arguments but 1 was given"
     ]
    }
   ],
   "execution_count": 24
  },
  {
   "metadata": {
    "ExecuteTime": {
     "end_time": "2024-09-15T17:39:01.052940Z",
     "start_time": "2024-09-15T17:39:01.049392Z"
    }
   },
   "cell_type": "code",
   "source": [
    "# Enclosing scope\n",
    "\n",
    "def outer():\n",
    "    a = 3\n",
    "\n",
    "    def inner():\n",
    "        # a = 4\n",
    "        print('Inner function', a)\n",
    "\n",
    "    inner()\n",
    "    print('Outer function')\n",
    "\n",
    "\n",
    "a = 1\n",
    "outer()\n",
    "print('Main Program')\n",
    "\n",
    "# Why was a = 3 printed? because a = 3 was in enclosing"
   ],
   "outputs": [
    {
     "name": "stdout",
     "output_type": "stream",
     "text": [
      "Inner function 3\n",
      "Outer function\n",
      "Main Program\n"
     ]
    }
   ],
   "execution_count": 28
  },
  {
   "metadata": {
    "ExecuteTime": {
     "end_time": "2024-09-15T17:43:10.527116Z",
     "start_time": "2024-09-15T17:43:10.503390Z"
    }
   },
   "cell_type": "code",
   "source": [
    "def outer():\n",
    "    a = 3\n",
    "\n",
    "    def inner():\n",
    "        a += 4\n",
    "        print('Inner function', a)\n",
    "\n",
    "    inner()\n",
    "    print('Outer function')\n",
    "\n",
    "\n",
    "outer()\n",
    "print('Main Program')"
   ],
   "outputs": [
    {
     "ename": "UnboundLocalError",
     "evalue": "cannot access local variable 'a' where it is not associated with a value",
     "output_type": "error",
     "traceback": [
      "\u001B[1;31m---------------------------------------------------------------------------\u001B[0m",
      "\u001B[1;31mUnboundLocalError\u001B[0m                         Traceback (most recent call last)",
      "Cell \u001B[1;32mIn[29], line 12\u001B[0m\n\u001B[0;32m      8\u001B[0m     inner()\n\u001B[0;32m      9\u001B[0m     \u001B[38;5;28mprint\u001B[39m(\u001B[38;5;124m'\u001B[39m\u001B[38;5;124mOuter function\u001B[39m\u001B[38;5;124m'\u001B[39m)\n\u001B[1;32m---> 12\u001B[0m \u001B[43mouter\u001B[49m\u001B[43m(\u001B[49m\u001B[43m)\u001B[49m\n\u001B[0;32m     13\u001B[0m \u001B[38;5;28mprint\u001B[39m(\u001B[38;5;124m'\u001B[39m\u001B[38;5;124mMain Program\u001B[39m\u001B[38;5;124m'\u001B[39m)\n",
      "Cell \u001B[1;32mIn[29], line 8\u001B[0m, in \u001B[0;36mouter\u001B[1;34m()\u001B[0m\n\u001B[0;32m      5\u001B[0m     a \u001B[38;5;241m+\u001B[39m\u001B[38;5;241m=\u001B[39m \u001B[38;5;241m4\u001B[39m\n\u001B[0;32m      6\u001B[0m     \u001B[38;5;28mprint\u001B[39m(\u001B[38;5;124m'\u001B[39m\u001B[38;5;124mInner function\u001B[39m\u001B[38;5;124m'\u001B[39m, a)\n\u001B[1;32m----> 8\u001B[0m \u001B[43minner\u001B[49m\u001B[43m(\u001B[49m\u001B[43m)\u001B[49m\n\u001B[0;32m      9\u001B[0m \u001B[38;5;28mprint\u001B[39m(\u001B[38;5;124m'\u001B[39m\u001B[38;5;124mOuter function\u001B[39m\u001B[38;5;124m'\u001B[39m)\n",
      "Cell \u001B[1;32mIn[29], line 5\u001B[0m, in \u001B[0;36mouter.<locals>.inner\u001B[1;34m()\u001B[0m\n\u001B[0;32m      4\u001B[0m \u001B[38;5;28;01mdef\u001B[39;00m \u001B[38;5;21minner\u001B[39m():\n\u001B[1;32m----> 5\u001B[0m     \u001B[43ma\u001B[49m \u001B[38;5;241m+\u001B[39m\u001B[38;5;241m=\u001B[39m \u001B[38;5;241m4\u001B[39m\n\u001B[0;32m      6\u001B[0m     \u001B[38;5;28mprint\u001B[39m(\u001B[38;5;124m'\u001B[39m\u001B[38;5;124mInner function\u001B[39m\u001B[38;5;124m'\u001B[39m, a)\n",
      "\u001B[1;31mUnboundLocalError\u001B[0m: cannot access local variable 'a' where it is not associated with a value"
     ]
    }
   ],
   "execution_count": 29
  },
  {
   "metadata": {
    "ExecuteTime": {
     "end_time": "2024-09-15T17:45:12.879543Z",
     "start_time": "2024-09-15T17:45:12.875767Z"
    }
   },
   "cell_type": "code",
   "source": [
    "def outer():\n",
    "    a = 3\n",
    "\n",
    "    def inner():\n",
    "        nonlocal a\n",
    "        a += 4\n",
    "        print(a, ' from inner')\n",
    "\n",
    "    inner()\n",
    "    print(a, ' from outer')\n",
    "    print('Outer function')\n",
    "\n",
    "\n",
    "outer()\n",
    "print('Main Program')\n",
    "\n",
    "# Not a good programming practice"
   ],
   "outputs": [
    {
     "name": "stdout",
     "output_type": "stream",
     "text": [
      "7  from inner\n",
      "7  from outer\n",
      "Outer function\n",
      "Main Program\n"
     ]
    }
   ],
   "execution_count": 33
  },
  {
   "cell_type": "markdown",
   "source": [
    "### Decorators\n",
    "\n",
    "A decorator in python is a function that receives another function as input and adds some functionality(decoration) to and it and returns it.\n",
    "\n",
    "This can happen only because python functions are 1st class citizens.\n",
    "\n",
    "There are 2 types of decorators available in python\n",
    "- `Built in decorators` like `@staticmethod`, `@classmethod`, `@abstractmethod` and `@property` etc\n",
    "- `User defined decorators` that we programmers can create according to our needs"
   ],
   "metadata": {
    "id": "v2I4_MetLUYb"
   }
  },
  {
   "metadata": {},
   "cell_type": "markdown",
   "source": [
    "### Python are 1st class function\n",
    "functions can be treated like any other object. \n",
    "\n",
    "They can be passed as arguments, returned from other functions, and assigned to variables"
   ]
  },
  {
   "metadata": {
    "ExecuteTime": {
     "end_time": "2024-09-15T17:59:21.144094Z",
     "start_time": "2024-09-15T17:59:21.141313Z"
    }
   },
   "cell_type": "code",
   "source": [
    "def func():\n",
    "    print('Hello')\n",
    "\n",
    "\n",
    "a = func\n",
    "a()\n",
    "del func\n",
    "a()"
   ],
   "outputs": [
    {
     "name": "stdout",
     "output_type": "stream",
     "text": [
      "Hello\n",
      "Hello\n"
     ]
    }
   ],
   "execution_count": 41
  },
  {
   "metadata": {
    "ExecuteTime": {
     "end_time": "2024-09-15T18:02:41.654236Z",
     "start_time": "2024-09-15T18:02:41.650180Z"
    }
   },
   "cell_type": "code",
   "source": [
    "# This is a decorator\n",
    "def modify2(func, num):\n",
    "    return func(num)\n",
    "\n",
    "\n",
    "# This is an input\n",
    "def square(num):\n",
    "    return num ** 2\n",
    "\n",
    "\n",
    "modify2(square, 2)"
   ],
   "outputs": [
    {
     "data": {
      "text/plain": [
       "4"
      ]
     },
     "execution_count": 43,
     "metadata": {},
     "output_type": "execute_result"
    }
   ],
   "execution_count": 43
  },
  {
   "metadata": {
    "ExecuteTime": {
     "end_time": "2024-09-15T18:07:09.161121Z",
     "start_time": "2024-09-15T18:07:09.155651Z"
    }
   },
   "cell_type": "code",
   "source": [
    "# Simple example\n",
    "\n",
    "def my_decorator(func):\n",
    "    def wrapper():\n",
    "        print('*' * 20)\n",
    "        func()\n",
    "        print('*' * 20)\n",
    "\n",
    "    return wrapper\n",
    "\n",
    "\n",
    "def hello():\n",
    "    print('Hello')\n",
    "\n",
    "\n",
    "def display():\n",
    "    print('Hello Krishh')\n",
    "\n",
    "\n",
    "a = my_decorator(hello)\n",
    "a()\n",
    "print()\n",
    "b = my_decorator(display)\n",
    "b()"
   ],
   "outputs": [
    {
     "name": "stdout",
     "output_type": "stream",
     "text": [
      "********************\n",
      "Hello\n",
      "********************\n",
      "\n",
      "********************\n",
      "Hello Krishh\n",
      "********************\n"
     ]
    }
   ],
   "execution_count": 46
  },
  {
   "metadata": {
    "ExecuteTime": {
     "end_time": "2024-09-15T18:11:45.061569Z",
     "start_time": "2024-09-15T18:11:45.058061Z"
    }
   },
   "cell_type": "code",
   "source": [
    "def outer():\n",
    "    a = 4\n",
    "\n",
    "    def inner():\n",
    "        print(a)\n",
    "\n",
    "    return inner\n",
    "\n",
    "\n",
    "x = outer()\n",
    "x()\n",
    "\n",
    "# This is called closure property, where the outer function is destroyed but since it has returned the inner. The inner is still callable by b"
   ],
   "outputs": [
    {
     "name": "stdout",
     "output_type": "stream",
     "text": [
      "4\n"
     ]
    }
   ],
   "execution_count": 47
  },
  {
   "metadata": {
    "ExecuteTime": {
     "end_time": "2024-09-15T18:21:58.819053Z",
     "start_time": "2024-09-15T18:21:58.815182Z"
    }
   },
   "cell_type": "code",
   "source": [
    "# Shortcut method to write the decorator\n",
    "\n",
    "def my_decorator(func):\n",
    "    def wrapper():\n",
    "        print('*' * 20)\n",
    "        func()\n",
    "        print('*' * 20)\n",
    "\n",
    "    return wrapper\n",
    "\n",
    "\n",
    "@my_decorator\n",
    "def hello():\n",
    "    print('Hello')\n",
    "\n",
    "\n",
    "# b = my_decorator(hello)\n",
    "# b()\n",
    "\n",
    "# These 2 lines are not required now, we can just call hello()\n",
    "hello()\n"
   ],
   "outputs": [
    {
     "name": "stdout",
     "output_type": "stream",
     "text": [
      "********************\n",
      "Hello\n",
      "********************\n"
     ]
    }
   ],
   "execution_count": 48
  },
  {
   "metadata": {
    "ExecuteTime": {
     "end_time": "2024-09-15T18:34:33.981903Z",
     "start_time": "2024-09-15T18:34:29.473997Z"
    }
   },
   "cell_type": "code",
   "source": [
    "# Meaningful decorator\n",
    "# we will make a function decorator, which returns the time taken to run that function\n",
    "import time\n",
    "\n",
    "\n",
    "def timer(func):\n",
    "    def wrapper(*args):\n",
    "        start = time.time()\n",
    "\n",
    "        func(*args)\n",
    "        end = time.time()\n",
    "        print('Time taken by ', func.__name__, end - start, ' secs')\n",
    "\n",
    "    return wrapper\n",
    "\n",
    "\n",
    "@timer\n",
    "def hello():\n",
    "    print('Hello world')\n",
    "    time.sleep(2)\n",
    "\n",
    "\n",
    "@timer\n",
    "def square(num):\n",
    "    time.sleep(1)\n",
    "    print(num ** 2)\n",
    "\n",
    "\n",
    "@timer\n",
    "def power(a, b):\n",
    "    time.sleep(1.5)\n",
    "    print(a ** b)\n",
    "\n",
    "\n",
    "hello()\n",
    "square(2)\n",
    "power(2, 4)"
   ],
   "outputs": [
    {
     "name": "stdout",
     "output_type": "stream",
     "text": [
      "Hello world\n",
      "Time taken by  hello 2.001497268676758  secs\n",
      "4\n",
      "Time taken by  square 1.000291109085083  secs\n",
      "16\n",
      "Time taken by  power 1.5008344650268555  secs\n"
     ]
    }
   ],
   "execution_count": 59
  },
  {
   "metadata": {
    "ExecuteTime": {
     "end_time": "2024-09-15T18:37:38.354640Z",
     "start_time": "2024-09-15T18:37:38.337031Z"
    }
   },
   "cell_type": "code",
   "source": [
    "# A Big Problem\n",
    "# If we want to make a decorator to check the datatype of the input function\n",
    "\n",
    "def square(num):\n",
    "    print(num ** 2)\n",
    "\n",
    "\n",
    "square('Hehe')"
   ],
   "outputs": [
    {
     "ename": "TypeError",
     "evalue": "unsupported operand type(s) for ** or pow(): 'str' and 'int'",
     "output_type": "error",
     "traceback": [
      "\u001B[1;31m---------------------------------------------------------------------------\u001B[0m",
      "\u001B[1;31mTypeError\u001B[0m                                 Traceback (most recent call last)",
      "Cell \u001B[1;32mIn[61], line 7\u001B[0m\n\u001B[0;32m      4\u001B[0m \u001B[38;5;28;01mdef\u001B[39;00m \u001B[38;5;21msquare\u001B[39m(num):\n\u001B[0;32m      5\u001B[0m     \u001B[38;5;28mprint\u001B[39m(num \u001B[38;5;241m*\u001B[39m\u001B[38;5;241m*\u001B[39m \u001B[38;5;241m2\u001B[39m)\n\u001B[1;32m----> 7\u001B[0m \u001B[43msquare\u001B[49m\u001B[43m(\u001B[49m\u001B[38;5;124;43m'\u001B[39;49m\u001B[38;5;124;43mHehe\u001B[39;49m\u001B[38;5;124;43m'\u001B[39;49m\u001B[43m)\u001B[49m\n",
      "Cell \u001B[1;32mIn[61], line 5\u001B[0m, in \u001B[0;36msquare\u001B[1;34m(num)\u001B[0m\n\u001B[0;32m      4\u001B[0m \u001B[38;5;28;01mdef\u001B[39;00m \u001B[38;5;21msquare\u001B[39m(num):\n\u001B[1;32m----> 5\u001B[0m     \u001B[38;5;28mprint\u001B[39m(\u001B[43mnum\u001B[49m\u001B[43m \u001B[49m\u001B[38;5;241;43m*\u001B[39;49m\u001B[38;5;241;43m*\u001B[39;49m\u001B[43m \u001B[49m\u001B[38;5;241;43m2\u001B[39;49m)\n",
      "\u001B[1;31mTypeError\u001B[0m: unsupported operand type(s) for ** or pow(): 'str' and 'int'"
     ]
    }
   ],
   "execution_count": 61
  },
  {
   "metadata": {
    "ExecuteTime": {
     "end_time": "2024-09-15T18:44:31.533623Z",
     "start_time": "2024-09-15T18:44:31.515208Z"
    }
   },
   "cell_type": "code",
   "source": [
    "def sanity_check(data_type):\n",
    "    def outer_wrapper(func):\n",
    "        def inner_wrapper(*args):\n",
    "            if type(args[0]) == data_type:\n",
    "                func(*args)\n",
    "            else:\n",
    "                raise TypeError('Ye datatype nai chalega')\n",
    "\n",
    "        return inner_wrapper\n",
    "\n",
    "    return outer_wrapper\n",
    "\n",
    "\n",
    "@sanity_check(int)\n",
    "def square(num):\n",
    "    print(num ** 2)\n",
    "\n",
    "\n",
    "square(2)\n",
    "square('Hello')"
   ],
   "outputs": [
    {
     "name": "stdout",
     "output_type": "stream",
     "text": [
      "4\n"
     ]
    },
    {
     "ename": "TypeError",
     "evalue": "Ye datatype nai chalega",
     "output_type": "error",
     "traceback": [
      "\u001B[1;31m---------------------------------------------------------------------------\u001B[0m",
      "\u001B[1;31mTypeError\u001B[0m                                 Traceback (most recent call last)",
      "Cell \u001B[1;32mIn[64], line 19\u001B[0m\n\u001B[0;32m     16\u001B[0m     \u001B[38;5;28mprint\u001B[39m(num \u001B[38;5;241m*\u001B[39m\u001B[38;5;241m*\u001B[39m \u001B[38;5;241m2\u001B[39m)\n\u001B[0;32m     18\u001B[0m square(\u001B[38;5;241m2\u001B[39m)\n\u001B[1;32m---> 19\u001B[0m \u001B[43msquare\u001B[49m\u001B[43m(\u001B[49m\u001B[38;5;124;43m'\u001B[39;49m\u001B[38;5;124;43mHello\u001B[39;49m\u001B[38;5;124;43m'\u001B[39;49m\u001B[43m)\u001B[49m\n",
      "Cell \u001B[1;32mIn[64], line 7\u001B[0m, in \u001B[0;36msanity_check.<locals>.outer_wrapper.<locals>.inner_wrapper\u001B[1;34m(*args)\u001B[0m\n\u001B[0;32m      5\u001B[0m     func(\u001B[38;5;241m*\u001B[39margs)\n\u001B[0;32m      6\u001B[0m \u001B[38;5;28;01melse\u001B[39;00m:\n\u001B[1;32m----> 7\u001B[0m     \u001B[38;5;28;01mraise\u001B[39;00m \u001B[38;5;167;01mTypeError\u001B[39;00m(\u001B[38;5;124m'\u001B[39m\u001B[38;5;124mYe datatype nai chalega\u001B[39m\u001B[38;5;124m'\u001B[39m)\n",
      "\u001B[1;31mTypeError\u001B[0m: Ye datatype nai chalega"
     ]
    }
   ],
   "execution_count": 64
  },
  {
   "metadata": {
    "ExecuteTime": {
     "end_time": "2024-09-15T18:44:53.984962Z",
     "start_time": "2024-09-15T18:44:53.967616Z"
    }
   },
   "cell_type": "code",
   "source": "square(4.5)",
   "outputs": [
    {
     "ename": "TypeError",
     "evalue": "Ye datatype nai chalega",
     "output_type": "error",
     "traceback": [
      "\u001B[1;31m---------------------------------------------------------------------------\u001B[0m",
      "\u001B[1;31mTypeError\u001B[0m                                 Traceback (most recent call last)",
      "Cell \u001B[1;32mIn[66], line 1\u001B[0m\n\u001B[1;32m----> 1\u001B[0m \u001B[43msquare\u001B[49m\u001B[43m(\u001B[49m\u001B[38;5;241;43m4.5\u001B[39;49m\u001B[43m)\u001B[49m\n",
      "Cell \u001B[1;32mIn[64], line 7\u001B[0m, in \u001B[0;36msanity_check.<locals>.outer_wrapper.<locals>.inner_wrapper\u001B[1;34m(*args)\u001B[0m\n\u001B[0;32m      5\u001B[0m     func(\u001B[38;5;241m*\u001B[39margs)\n\u001B[0;32m      6\u001B[0m \u001B[38;5;28;01melse\u001B[39;00m:\n\u001B[1;32m----> 7\u001B[0m     \u001B[38;5;28;01mraise\u001B[39;00m \u001B[38;5;167;01mTypeError\u001B[39;00m(\u001B[38;5;124m'\u001B[39m\u001B[38;5;124mYe datatype nai chalega\u001B[39m\u001B[38;5;124m'\u001B[39m)\n",
      "\u001B[1;31mTypeError\u001B[0m: Ye datatype nai chalega"
     ]
    }
   ],
   "execution_count": 66
  },
  {
   "metadata": {
    "ExecuteTime": {
     "end_time": "2024-09-15T18:45:25.466140Z",
     "start_time": "2024-09-15T18:45:25.463005Z"
    }
   },
   "cell_type": "code",
   "source": [
    "@sanity_check(str)\n",
    "def greet(name):\n",
    "    print('Hello ', name)\n",
    "\n",
    "\n",
    "greet('Sajjad')"
   ],
   "outputs": [
    {
     "name": "stdout",
     "output_type": "stream",
     "text": [
      "Hello  Sajjad\n"
     ]
    }
   ],
   "execution_count": 67
  },
  {
   "metadata": {
    "ExecuteTime": {
     "end_time": "2024-09-15T18:45:34.692812Z",
     "start_time": "2024-09-15T18:45:34.678756Z"
    }
   },
   "cell_type": "code",
   "source": "greet(4)",
   "outputs": [
    {
     "ename": "TypeError",
     "evalue": "Ye datatype nai chalega",
     "output_type": "error",
     "traceback": [
      "\u001B[1;31m---------------------------------------------------------------------------\u001B[0m",
      "\u001B[1;31mTypeError\u001B[0m                                 Traceback (most recent call last)",
      "Cell \u001B[1;32mIn[68], line 1\u001B[0m\n\u001B[1;32m----> 1\u001B[0m \u001B[43mgreet\u001B[49m\u001B[43m(\u001B[49m\u001B[38;5;241;43m4\u001B[39;49m\u001B[43m)\u001B[49m\n",
      "Cell \u001B[1;32mIn[64], line 7\u001B[0m, in \u001B[0;36msanity_check.<locals>.outer_wrapper.<locals>.inner_wrapper\u001B[1;34m(*args)\u001B[0m\n\u001B[0;32m      5\u001B[0m     func(\u001B[38;5;241m*\u001B[39margs)\n\u001B[0;32m      6\u001B[0m \u001B[38;5;28;01melse\u001B[39;00m:\n\u001B[1;32m----> 7\u001B[0m     \u001B[38;5;28;01mraise\u001B[39;00m \u001B[38;5;167;01mTypeError\u001B[39;00m(\u001B[38;5;124m'\u001B[39m\u001B[38;5;124mYe datatype nai chalega\u001B[39m\u001B[38;5;124m'\u001B[39m)\n",
      "\u001B[1;31mTypeError\u001B[0m: Ye datatype nai chalega"
     ]
    }
   ],
   "execution_count": 68
  },
  {
   "metadata": {},
   "cell_type": "code",
   "outputs": [],
   "execution_count": null,
   "source": ""
  }
 ]
}
