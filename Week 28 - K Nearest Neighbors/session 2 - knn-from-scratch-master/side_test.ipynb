{
 "cells": [
  {
   "cell_type": "code",
   "id": "initial_id",
   "metadata": {
    "collapsed": true,
    "ExecuteTime": {
     "end_time": "2025-03-08T01:17:39.677869Z",
     "start_time": "2025-03-08T01:17:39.670474Z"
    }
   },
   "source": [
    "import numpy as np\n",
    "\n",
    "a = np.array([1, 2])\n",
    "b = np.array([3, 4])\n",
    "\n",
    "np.linalg.norm(a - b)"
   ],
   "outputs": [
    {
     "data": {
      "text/plain": [
       "2.8284271247461903"
      ]
     },
     "execution_count": 3,
     "metadata": {},
     "output_type": "execute_result"
    }
   ],
   "execution_count": 3
  },
  {
   "metadata": {
    "ExecuteTime": {
     "end_time": "2025-03-08T01:18:59.366493Z",
     "start_time": "2025-03-08T01:18:59.362795Z"
    }
   },
   "cell_type": "code",
   "source": [
    "\n",
    "a = np.array([1, 2, 3])\n",
    "b = np.array([3, 4, 7])\n",
    "\n",
    "np.linalg.norm(a - b)"
   ],
   "id": "55183b08bcf4e907",
   "outputs": [
    {
     "data": {
      "text/plain": [
       "4.898979485566356"
      ]
     },
     "execution_count": 4,
     "metadata": {},
     "output_type": "execute_result"
    }
   ],
   "execution_count": 4
  },
  {
   "metadata": {
    "ExecuteTime": {
     "end_time": "2025-03-08T01:21:13.727136Z",
     "start_time": "2025-03-08T01:21:13.723672Z"
    }
   },
   "cell_type": "code",
   "source": "np.sqrt(24)",
   "id": "be67db4497060600",
   "outputs": [
    {
     "data": {
      "text/plain": [
       "4.898979485566356"
      ]
     },
     "execution_count": 5,
     "metadata": {},
     "output_type": "execute_result"
    }
   ],
   "execution_count": 5
  },
  {
   "metadata": {
    "ExecuteTime": {
     "end_time": "2025-03-08T01:36:10.063878Z",
     "start_time": "2025-03-08T01:36:10.058849Z"
    }
   },
   "cell_type": "code",
   "source": [
    "from collections import Counter\n",
    "\n",
    "votes = Counter([1, 1, 1, 2, 3, 4])\n",
    "votes.most_common()"
   ],
   "id": "9017e13176a8c841",
   "outputs": [
    {
     "data": {
      "text/plain": [
       "[(1, 3), (2, 1), (3, 1), (4, 1)]"
      ]
     },
     "execution_count": 9,
     "metadata": {},
     "output_type": "execute_result"
    }
   ],
   "execution_count": 9
  },
  {
   "metadata": {
    "ExecuteTime": {
     "end_time": "2025-03-08T01:36:21.920354Z",
     "start_time": "2025-03-08T01:36:21.915827Z"
    }
   },
   "cell_type": "code",
   "source": "votes.most_common()[0][0]",
   "id": "dceca3f4c863940a",
   "outputs": [
    {
     "data": {
      "text/plain": [
       "1"
      ]
     },
     "execution_count": 10,
     "metadata": {},
     "output_type": "execute_result"
    }
   ],
   "execution_count": 10
  }
 ],
 "metadata": {
  "kernelspec": {
   "display_name": "Python 3",
   "language": "python",
   "name": "python3"
  },
  "language_info": {
   "codemirror_mode": {
    "name": "ipython",
    "version": 2
   },
   "file_extension": ".py",
   "mimetype": "text/x-python",
   "name": "python",
   "nbconvert_exporter": "python",
   "pygments_lexer": "ipython2",
   "version": "2.7.6"
  }
 },
 "nbformat": 4,
 "nbformat_minor": 5
}
