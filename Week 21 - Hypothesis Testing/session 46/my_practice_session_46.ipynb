{
 "cells": [
  {
   "cell_type": "code",
   "id": "initial_id",
   "metadata": {
    "collapsed": true,
    "ExecuteTime": {
     "end_time": "2024-12-13T00:30:04.521465Z",
     "start_time": "2024-12-13T00:30:01.674537Z"
    }
   },
   "source": [
    "import pandas as pd\n",
    "from scipy.stats import t\n",
    "\n",
    "t_value = -1.25\n",
    "df = 24\n",
    "\n",
    "cdf_value = t.cdf(t_value, df)\n",
    "cdf_value"
   ],
   "outputs": [
    {
     "data": {
      "text/plain": [
       "0.1116757390828102"
      ]
     },
     "execution_count": 1,
     "metadata": {},
     "output_type": "execute_result"
    }
   ],
   "execution_count": 1
  },
  {
   "metadata": {},
   "cell_type": "markdown",
   "source": [
    "## Single sample t test on Titanic dataset\n",
    "we have 1300 age col.\n",
    "\n",
    "H0 -> The pop mean age is 35\n",
    "\n",
    "H1 -> The pop mean age is less than 35"
   ],
   "id": "49fed76284ab82aa"
  },
  {
   "metadata": {
    "ExecuteTime": {
     "end_time": "2024-12-13T01:59:17.220475Z",
     "start_time": "2024-12-13T01:59:17.201124Z"
    }
   },
   "cell_type": "code",
   "source": [
    "import pandas as pd\n",
    "\n",
    "# We know\n",
    "mu = 35\n",
    "train = pd.read_csv('train.csv').drop(columns=['Survived'])\n",
    "test = pd.read_csv('test.csv')\n",
    "\n",
    "titanic = pd.concat([train, test], ignore_index=True, sort=False).sample(1309)\n",
    "titanic"
   ],
   "id": "6c915f7238e6cee3",
   "outputs": [
    {
     "data": {
      "text/plain": [
       "      PassengerId  Pclass                                    Name     Sex  \\\n",
       "459           460       3                   O'Connor, Mr. Maurice    male   \n",
       "642           643       3           Skoog, Miss. Margit Elizabeth  female   \n",
       "814           815       3              Tomlin, Mr. Ernest Portage    male   \n",
       "471           472       3                         Cacic, Mr. Luka    male   \n",
       "704           705       3                 Hansen, Mr. Henrik Juul    male   \n",
       "...           ...     ...                                     ...     ...   \n",
       "21             22       2                   Beesley, Mr. Lawrence    male   \n",
       "1155         1156       2  Portaluppi, Mr. Emilio Ilario Giuseppe    male   \n",
       "628           629       3               Bostandyeff, Mr. Guentcho    male   \n",
       "902           903       1              Jones, Mr. Charles Cresson    male   \n",
       "119           120       3       Andersson, Miss. Ellis Anna Maria  female   \n",
       "\n",
       "       Age  SibSp  Parch      Ticket     Fare Cabin Embarked  \n",
       "459    NaN      0      0      371060   7.7500   NaN        Q  \n",
       "642    2.0      3      2      347088  27.9000   NaN        S  \n",
       "814   30.5      0      0      364499   8.0500   NaN        S  \n",
       "471   38.0      0      0      315089   8.6625   NaN        S  \n",
       "704   26.0      1      0      350025   7.8542   NaN        S  \n",
       "...    ...    ...    ...         ...      ...   ...      ...  \n",
       "21    34.0      0      0      248698  13.0000   D56        S  \n",
       "1155  30.0      0      0  C.A. 34644  12.7375   NaN        C  \n",
       "628   26.0      0      0      349224   7.8958   NaN        S  \n",
       "902   46.0      0      0         694  26.0000   NaN        S  \n",
       "119    2.0      4      2      347082  31.2750   NaN        S  \n",
       "\n",
       "[1309 rows x 11 columns]"
      ],
      "text/html": [
       "<div>\n",
       "<style scoped>\n",
       "    .dataframe tbody tr th:only-of-type {\n",
       "        vertical-align: middle;\n",
       "    }\n",
       "\n",
       "    .dataframe tbody tr th {\n",
       "        vertical-align: top;\n",
       "    }\n",
       "\n",
       "    .dataframe thead th {\n",
       "        text-align: right;\n",
       "    }\n",
       "</style>\n",
       "<table border=\"1\" class=\"dataframe\">\n",
       "  <thead>\n",
       "    <tr style=\"text-align: right;\">\n",
       "      <th></th>\n",
       "      <th>PassengerId</th>\n",
       "      <th>Pclass</th>\n",
       "      <th>Name</th>\n",
       "      <th>Sex</th>\n",
       "      <th>Age</th>\n",
       "      <th>SibSp</th>\n",
       "      <th>Parch</th>\n",
       "      <th>Ticket</th>\n",
       "      <th>Fare</th>\n",
       "      <th>Cabin</th>\n",
       "      <th>Embarked</th>\n",
       "    </tr>\n",
       "  </thead>\n",
       "  <tbody>\n",
       "    <tr>\n",
       "      <th>459</th>\n",
       "      <td>460</td>\n",
       "      <td>3</td>\n",
       "      <td>O'Connor, Mr. Maurice</td>\n",
       "      <td>male</td>\n",
       "      <td>NaN</td>\n",
       "      <td>0</td>\n",
       "      <td>0</td>\n",
       "      <td>371060</td>\n",
       "      <td>7.7500</td>\n",
       "      <td>NaN</td>\n",
       "      <td>Q</td>\n",
       "    </tr>\n",
       "    <tr>\n",
       "      <th>642</th>\n",
       "      <td>643</td>\n",
       "      <td>3</td>\n",
       "      <td>Skoog, Miss. Margit Elizabeth</td>\n",
       "      <td>female</td>\n",
       "      <td>2.0</td>\n",
       "      <td>3</td>\n",
       "      <td>2</td>\n",
       "      <td>347088</td>\n",
       "      <td>27.9000</td>\n",
       "      <td>NaN</td>\n",
       "      <td>S</td>\n",
       "    </tr>\n",
       "    <tr>\n",
       "      <th>814</th>\n",
       "      <td>815</td>\n",
       "      <td>3</td>\n",
       "      <td>Tomlin, Mr. Ernest Portage</td>\n",
       "      <td>male</td>\n",
       "      <td>30.5</td>\n",
       "      <td>0</td>\n",
       "      <td>0</td>\n",
       "      <td>364499</td>\n",
       "      <td>8.0500</td>\n",
       "      <td>NaN</td>\n",
       "      <td>S</td>\n",
       "    </tr>\n",
       "    <tr>\n",
       "      <th>471</th>\n",
       "      <td>472</td>\n",
       "      <td>3</td>\n",
       "      <td>Cacic, Mr. Luka</td>\n",
       "      <td>male</td>\n",
       "      <td>38.0</td>\n",
       "      <td>0</td>\n",
       "      <td>0</td>\n",
       "      <td>315089</td>\n",
       "      <td>8.6625</td>\n",
       "      <td>NaN</td>\n",
       "      <td>S</td>\n",
       "    </tr>\n",
       "    <tr>\n",
       "      <th>704</th>\n",
       "      <td>705</td>\n",
       "      <td>3</td>\n",
       "      <td>Hansen, Mr. Henrik Juul</td>\n",
       "      <td>male</td>\n",
       "      <td>26.0</td>\n",
       "      <td>1</td>\n",
       "      <td>0</td>\n",
       "      <td>350025</td>\n",
       "      <td>7.8542</td>\n",
       "      <td>NaN</td>\n",
       "      <td>S</td>\n",
       "    </tr>\n",
       "    <tr>\n",
       "      <th>...</th>\n",
       "      <td>...</td>\n",
       "      <td>...</td>\n",
       "      <td>...</td>\n",
       "      <td>...</td>\n",
       "      <td>...</td>\n",
       "      <td>...</td>\n",
       "      <td>...</td>\n",
       "      <td>...</td>\n",
       "      <td>...</td>\n",
       "      <td>...</td>\n",
       "      <td>...</td>\n",
       "    </tr>\n",
       "    <tr>\n",
       "      <th>21</th>\n",
       "      <td>22</td>\n",
       "      <td>2</td>\n",
       "      <td>Beesley, Mr. Lawrence</td>\n",
       "      <td>male</td>\n",
       "      <td>34.0</td>\n",
       "      <td>0</td>\n",
       "      <td>0</td>\n",
       "      <td>248698</td>\n",
       "      <td>13.0000</td>\n",
       "      <td>D56</td>\n",
       "      <td>S</td>\n",
       "    </tr>\n",
       "    <tr>\n",
       "      <th>1155</th>\n",
       "      <td>1156</td>\n",
       "      <td>2</td>\n",
       "      <td>Portaluppi, Mr. Emilio Ilario Giuseppe</td>\n",
       "      <td>male</td>\n",
       "      <td>30.0</td>\n",
       "      <td>0</td>\n",
       "      <td>0</td>\n",
       "      <td>C.A. 34644</td>\n",
       "      <td>12.7375</td>\n",
       "      <td>NaN</td>\n",
       "      <td>C</td>\n",
       "    </tr>\n",
       "    <tr>\n",
       "      <th>628</th>\n",
       "      <td>629</td>\n",
       "      <td>3</td>\n",
       "      <td>Bostandyeff, Mr. Guentcho</td>\n",
       "      <td>male</td>\n",
       "      <td>26.0</td>\n",
       "      <td>0</td>\n",
       "      <td>0</td>\n",
       "      <td>349224</td>\n",
       "      <td>7.8958</td>\n",
       "      <td>NaN</td>\n",
       "      <td>S</td>\n",
       "    </tr>\n",
       "    <tr>\n",
       "      <th>902</th>\n",
       "      <td>903</td>\n",
       "      <td>1</td>\n",
       "      <td>Jones, Mr. Charles Cresson</td>\n",
       "      <td>male</td>\n",
       "      <td>46.0</td>\n",
       "      <td>0</td>\n",
       "      <td>0</td>\n",
       "      <td>694</td>\n",
       "      <td>26.0000</td>\n",
       "      <td>NaN</td>\n",
       "      <td>S</td>\n",
       "    </tr>\n",
       "    <tr>\n",
       "      <th>119</th>\n",
       "      <td>120</td>\n",
       "      <td>3</td>\n",
       "      <td>Andersson, Miss. Ellis Anna Maria</td>\n",
       "      <td>female</td>\n",
       "      <td>2.0</td>\n",
       "      <td>4</td>\n",
       "      <td>2</td>\n",
       "      <td>347082</td>\n",
       "      <td>31.2750</td>\n",
       "      <td>NaN</td>\n",
       "      <td>S</td>\n",
       "    </tr>\n",
       "  </tbody>\n",
       "</table>\n",
       "<p>1309 rows × 11 columns</p>\n",
       "</div>"
      ]
     },
     "execution_count": 12,
     "metadata": {},
     "output_type": "execute_result"
    }
   ],
   "execution_count": 12
  },
  {
   "metadata": {
    "ExecuteTime": {
     "end_time": "2024-12-13T01:59:18.678096Z",
     "start_time": "2024-12-13T01:59:18.673252Z"
    }
   },
   "cell_type": "code",
   "source": [
    "pop = titanic['Age'].dropna()\n",
    "pop.shape"
   ],
   "id": "e73ca01a15842c3d",
   "outputs": [
    {
     "data": {
      "text/plain": [
       "(1046,)"
      ]
     },
     "execution_count": 13,
     "metadata": {},
     "output_type": "execute_result"
    }
   ],
   "execution_count": 13
  },
  {
   "metadata": {
    "ExecuteTime": {
     "end_time": "2024-12-13T01:59:24.112236Z",
     "start_time": "2024-12-13T01:59:24.107539Z"
    }
   },
   "cell_type": "code",
   "source": [
    "sample_age = pop.sample(25).values\n",
    "sample_age"
   ],
   "id": "ffb8f31e7036fc1b",
   "outputs": [
    {
     "data": {
      "text/plain": [
       "array([48.  , 33.  , 25.  , 34.  , 32.  , 17.  ,  8.  , 34.  , 24.  ,\n",
       "       24.  , 50.  , 17.  , 21.  ,  3.  , 22.  , 25.  , 19.  , 33.  ,\n",
       "       22.5 , 17.  , 15.  , 45.  , 24.  ,  0.83, 17.  ])"
      ]
     },
     "execution_count": 14,
     "metadata": {},
     "output_type": "execute_result"
    }
   ],
   "execution_count": 14
  },
  {
   "metadata": {
    "ExecuteTime": {
     "end_time": "2024-12-13T01:59:24.467658Z",
     "start_time": "2024-12-13T01:59:24.464212Z"
    }
   },
   "cell_type": "code",
   "source": [
    "x_bar = sample_age.mean()\n",
    "s = sample_age.std()"
   ],
   "id": "6a31edee2a3d1908",
   "outputs": [],
   "execution_count": 15
  },
  {
   "metadata": {},
   "cell_type": "markdown",
   "source": [
    "#### Applying Shapiro-wilk test to prove the normality of sample taken\n",
    "\n",
    "If the p value generated (shapiro_age) is < 0.05 => NOT Normal\n",
    "\n",
    "If the p value generated (shapiro_age) is > 0.05 => Normal"
   ],
   "id": "fd50f2ce85ec141c"
  },
  {
   "metadata": {
    "ExecuteTime": {
     "end_time": "2024-12-13T01:59:25.121361Z",
     "start_time": "2024-12-13T01:59:25.117714Z"
    }
   },
   "cell_type": "code",
   "source": [
    "from scipy.stats import shapiro\n",
    "\n",
    "shapiro_age = shapiro(sample_age)\n",
    "shapiro_age"
   ],
   "id": "1c8bd15da99c00c2",
   "outputs": [
    {
     "data": {
      "text/plain": [
       "ShapiroResult(statistic=0.9575223098516673, pvalue=0.3673401242738994)"
      ]
     },
     "execution_count": 16,
     "metadata": {},
     "output_type": "execute_result"
    }
   ],
   "execution_count": 16
  },
  {
   "metadata": {},
   "cell_type": "markdown",
   "source": [
    "#### Hence Normally Distributed\n",
    "All the assumptions done.\n",
    "\n",
    "Now calculate the \n",
    "\n",
    "#### Instead of above procedure of manually doing, we have an inbuilt technique to find the t_test_1_sample"
   ],
   "id": "e43dca0f8c37b196"
  },
  {
   "metadata": {
    "ExecuteTime": {
     "end_time": "2024-12-13T01:59:25.884654Z",
     "start_time": "2024-12-13T01:59:25.880838Z"
    }
   },
   "cell_type": "code",
   "source": "pop_mean = 35",
   "id": "7e81ad62fbb016f6",
   "outputs": [],
   "execution_count": 17
  },
  {
   "metadata": {
    "ExecuteTime": {
     "end_time": "2024-12-13T01:59:26.254338Z",
     "start_time": "2024-12-13T01:59:26.249886Z"
    }
   },
   "cell_type": "code",
   "source": [
    "import scipy.stats as stats\n",
    "\n",
    "t_statistic, p_value = stats.ttest_1samp(sample_age, pop_mean)\n",
    "\n",
    "print('t_statistic: ', t_statistic)\n",
    "print('p_value:     ', p_value / 2)"
   ],
   "id": "3baf2cd125ed225c",
   "outputs": [
    {
     "name": "stdout",
     "output_type": "stream",
     "text": [
      "t_statistic:  -4.281891934870761\n",
      "p_value:      0.0001289485635038353\n"
     ]
    }
   ],
   "execution_count": 18
  },
  {
   "metadata": {
    "ExecuteTime": {
     "end_time": "2024-12-13T01:59:26.641737Z",
     "start_time": "2024-12-13T01:59:26.637239Z"
    }
   },
   "cell_type": "code",
   "source": [
    "alpha = 0.05\n",
    "\n",
    "if p_value < alpha:\n",
    "    print('Reject the null hypothesis')\n",
    "else:\n",
    "    print('Fail to reject the null hypothesis')"
   ],
   "id": "3256f8e324230b24",
   "outputs": [
    {
     "name": "stdout",
     "output_type": "stream",
     "text": [
      "Reject the null hypothesis\n"
     ]
    }
   ],
   "execution_count": 19
  },
  {
   "metadata": {
    "ExecuteTime": {
     "end_time": "2024-12-13T01:59:34.146041Z",
     "start_time": "2024-12-13T01:59:34.141187Z"
    }
   },
   "cell_type": "code",
   "source": "pop.mean()",
   "id": "20b44527838c7a09",
   "outputs": [
    {
     "data": {
      "text/plain": [
       "29.881137667304014"
      ]
     },
     "execution_count": 20,
     "metadata": {},
     "output_type": "execute_result"
    }
   ],
   "execution_count": 20
  },
  {
   "metadata": {},
   "cell_type": "markdown",
   "source": [
    "## Desktop and mobile example\n",
    "## Independent 2 sample t test"
   ],
   "id": "62ce69465808a9f7"
  },
  {
   "metadata": {
    "ExecuteTime": {
     "end_time": "2024-12-13T02:18:24.450981Z",
     "start_time": "2024-12-13T02:18:24.445364Z"
    }
   },
   "cell_type": "code",
   "source": [
    "# The Shapiro-Wilk test returns two values: the test statistic (W) and the p-value.\n",
    "# If the p-value is greater than your chosen significance level (α = 0.05),\n",
    "# you can assume the data comes from a normally distributed population.\n",
    "# If the p-value is less than or equal to the significance level, the normality assumption is not met,\n",
    "# and you should consider applying a data transformation or using a non-parametric test like the Mann-Whitney U test.\n",
    "\n",
    "from scipy.stats import shapiro\n",
    "\n",
    "# Input the data as lists\n",
    "desktop_users = [12, 15, 18, 16, 20, 17, 14, 22, 19, 21, 23, 18, 25, 17, 16, 24, 20, 19, 22, 18, 15, 14, 23, 16, 12, 21,\n",
    "                 19, 17, 20, 14]\n",
    "mobile_users = [10, 12, 14, 13, 16, 15, 11, 17, 14, 16, 18, 14, 20, 15, 14, 19, 16, 15, 17, 14, 12, 11, 18, 15, 10, 16,\n",
    "                15, 13, 16, 11]\n",
    "\n",
    "# Perform the Shapiro Wilk test for both desktop and mobile users\n",
    "shapiro_desktop = shapiro(desktop_users)\n",
    "shapiro_mobile = shapiro(mobile_users)\n",
    "\n",
    "# If the p value generated (shapiro_age) is < 0.05 => NOT Normal\n",
    "# If the p value generated (shapiro_age) is > 0.05 => Normal\n",
    "print('Shapiro-wilk test for desktop users: ', shapiro_desktop)\n",
    "print('Shapiro-wilk test for mobile users: ', shapiro_mobile)\n",
    "print(\"\\n\\nThey both follow NORMAL Distribution\")"
   ],
   "id": "a0918ee555cf3f6c",
   "outputs": [
    {
     "name": "stdout",
     "output_type": "stream",
     "text": [
      "Shapiro-wilk test for desktop users:  ShapiroResult(statistic=0.9783115512411942, pvalue=0.7791003299808725)\n",
      "Shapiro-wilk test for mobile users:  ShapiroResult(statistic=0.9714355768676655, pvalue=0.5791606602037616)\n",
      "\n",
      "\n",
      "They both follow NORMAL Distribution\n"
     ]
    }
   ],
   "execution_count": 22
  },
  {
   "metadata": {
    "ExecuteTime": {
     "end_time": "2024-12-13T02:22:19.493572Z",
     "start_time": "2024-12-13T02:22:19.489063Z"
    }
   },
   "cell_type": "code",
   "source": [
    "# If the p-value from Levene's test is greater than your chosen significance level (α = 0.05), you can assume equal variances\n",
    "#  If the p-value is less than or equal to the significance level, the assumption of equal variances is not met,\n",
    "# and you should consider using Welch's t-test instead of the regular independent two-sample t-test.\n",
    "\n",
    "from scipy.stats import levene\n",
    "\n",
    "# Perform Levene's test\n",
    "levene_test = levene(desktop_users, mobile_users)\n",
    "print(levene_test)\n",
    "\n",
    "if levene_test[1] < 0.05:\n",
    "    print('\\n\\nVariance of Group A is NOT EQUAL to Variance of Group B')\n",
    "else:\n",
    "    print('\\n\\nVariance of Group A is EQUAL to Variance of Group B')"
   ],
   "id": "5a5c37c2962208c8",
   "outputs": [
    {
     "name": "stdout",
     "output_type": "stream",
     "text": [
      "LeveneResult(statistic=2.94395488191752, pvalue=0.09153720526741756)\n",
      "\n",
      "\n",
      "Variance of Group A is EQUAL to Variance of Group B\n"
     ]
    }
   ],
   "execution_count": 30
  },
  {
   "metadata": {
    "ExecuteTime": {
     "end_time": "2024-12-13T02:27:56.503809Z",
     "start_time": "2024-12-13T02:27:56.500484Z"
    }
   },
   "cell_type": "code",
   "source": [
    "from scipy.stats import t\n",
    "\n",
    "t_value = -5.25\n",
    "df = 30 + 30 - 2\n",
    "\n",
    "cdf_value = t.cdf(t_value, df)\n",
    "print(cdf_value * 2)"
   ],
   "id": "e9f733ade4b0003d",
   "outputs": [
    {
     "name": "stdout",
     "output_type": "stream",
     "text": [
      "2.2563697469332243e-06\n"
     ]
    }
   ],
   "execution_count": 34
  },
  {
   "metadata": {
    "ExecuteTime": {
     "end_time": "2024-12-13T02:28:48.283772Z",
     "start_time": "2024-12-13T02:28:48.280813Z"
    }
   },
   "cell_type": "code",
   "source": "print('Reject the NULL Hypothesis')",
   "id": "7603cdc42aaeec43",
   "outputs": [
    {
     "name": "stdout",
     "output_type": "stream",
     "text": [
      "Reject the NULL Hypothesis\n"
     ]
    }
   ],
   "execution_count": 35
  },
  {
   "metadata": {},
   "cell_type": "markdown",
   "source": [
    "## Titanic Dataset Independent 2 Sample t test\n",
    "\n",
    "H1 = > Avg age of males is significantly greater than avg age of females"
   ],
   "id": "a92ff76002a037ad"
  },
  {
   "metadata": {
    "ExecuteTime": {
     "end_time": "2024-12-13T02:35:40.317851Z",
     "start_time": "2024-12-13T02:35:40.305969Z"
    }
   },
   "cell_type": "code",
   "source": [
    "pop_male = titanic.query('Sex == \"male\"')['Age'].dropna()\n",
    "pop_female = titanic.query(\"Sex == 'female'\")['Age'].dropna()\n",
    "\n",
    "print(pop_male.shape)\n",
    "print(pop_female.shape)"
   ],
   "id": "c058f977eae1aaa4",
   "outputs": [
    {
     "name": "stdout",
     "output_type": "stream",
     "text": [
      "(658,)\n",
      "(388,)\n"
     ]
    }
   ],
   "execution_count": 37
  },
  {
   "metadata": {
    "ExecuteTime": {
     "end_time": "2024-12-13T02:36:13.201636Z",
     "start_time": "2024-12-13T02:36:13.198609Z"
    }
   },
   "cell_type": "code",
   "source": [
    "sample_male = pop_male.sample(25)\n",
    "sample_female = pop_female.sample(25)\n",
    "\n",
    "alpha = 0.05"
   ],
   "id": "e1861dcdde7f4157",
   "outputs": [],
   "execution_count": 38
  },
  {
   "metadata": {},
   "cell_type": "markdown",
   "source": [
    "H0 => Avg Age of Male is similar to Avg Age of Female\n",
    "\n",
    "H1 => Avg Age of Male > Avg Age of Female\n",
    "\n",
    "alpha = 0.05\n",
    "\n",
    "normality test\n",
    "\n",
    "Equal variance test"
   ],
   "id": "8301ef5a13e788ba"
  },
  {
   "metadata": {
    "ExecuteTime": {
     "end_time": "2024-12-13T02:41:59.777799Z",
     "start_time": "2024-12-13T02:41:59.771655Z"
    }
   },
   "cell_type": "code",
   "source": [
    "# Normality\n",
    "from scipy.stats import shapiro\n",
    "\n",
    "# Perform the Shapiro-wilk test for both desktop and mobile users\n",
    "shapiro_male = shapiro(sample_male)\n",
    "shapiro_female = shapiro(sample_female)\n",
    "\n",
    "print('Shapiro-wilk test for Male: ', shapiro_male)\n",
    "print('\\nShapiro-wilk test for Female: ', shapiro_female)\n",
    "\n",
    "# If the p value generated (shapiro_age) is < 0.05 => NOT Normal\n",
    "# If the p value generated (shapiro_age) is > 0.05 => Normal\n",
    "\n",
    "if shapiro_male[1] < 0.05:\n",
    "    print('\\n\\nshapiro_male is NOT NORMAL')\n",
    "else:\n",
    "    print('\\n\\nshapiro_male is Normal')\n",
    "\n",
    "if shapiro_female[1] < 0.05:\n",
    "    print('\\n\\nshapiro_female is NOT NORMAL')\n",
    "else:\n",
    "    print('\\n\\nshapiro_female is Normal')"
   ],
   "id": "7a8f911e7db5dbf5",
   "outputs": [
    {
     "name": "stdout",
     "output_type": "stream",
     "text": [
      "Shapiro-wilk test for Male:  ShapiroResult(statistic=0.9366370880880145, pvalue=0.12375911180268556)\n",
      "\n",
      "Shapiro-wilk test for Female:  ShapiroResult(statistic=0.9303784858287785, pvalue=0.08867559504135185)\n",
      "\n",
      "\n",
      "shapiro_male is Normal\n",
      "\n",
      "\n",
      "shapiro_female is Normal\n"
     ]
    }
   ],
   "execution_count": 43
  },
  {
   "metadata": {
    "ExecuteTime": {
     "end_time": "2024-12-13T02:40:43.497905Z",
     "start_time": "2024-12-13T02:40:43.492904Z"
    }
   },
   "cell_type": "code",
   "source": [
    "# Equal Variance \n",
    "from scipy.stats import levene\n",
    "\n",
    "# Perform Levene's test\n",
    "levene_test = levene(sample_male, sample_female)\n",
    "print(levene_test)\n",
    "\n",
    "if levene_test[1] < 0.05:\n",
    "    print('\\n\\nVariance of Group A is NOT EQUAL to Variance of Group B')\n",
    "else:\n",
    "    print('\\n\\nVariance of Group A is EQUAL to Variance of Group B')"
   ],
   "id": "9119e9c3f87b1872",
   "outputs": [
    {
     "name": "stdout",
     "output_type": "stream",
     "text": [
      "LeveneResult(statistic=0.1143741350786739, pvalue=0.7366929570804656)\n",
      "\n",
      "\n",
      "Variance of Group A is EQUAL to Variance of Group B\n"
     ]
    }
   ],
   "execution_count": 42
  },
  {
   "metadata": {
    "ExecuteTime": {
     "end_time": "2024-12-13T02:43:28.783109Z",
     "start_time": "2024-12-13T02:43:28.777907Z"
    }
   },
   "cell_type": "code",
   "source": [
    "# Now we can apply the test\n",
    "\n",
    "import scipy.stats as stats\n",
    "\n",
    "t_statistic, p_value = stats.ttest_ind(sample_male, sample_female)\n",
    "\n",
    "print('t_statistic:', t_statistic)\n",
    "print('p_value:    ', p_value / 2)"
   ],
   "id": "e95b7fbac759f77",
   "outputs": [
    {
     "name": "stdout",
     "output_type": "stream",
     "text": [
      "t_statistic: 0.12549652497775077\n",
      "p_value:     0.4503273176706972\n"
     ]
    }
   ],
   "execution_count": 45
  },
  {
   "metadata": {},
   "cell_type": "markdown",
   "source": [
    "#### If p_value is 0.40 then we can't reject the Null Hypothesis\n",
    "\n",
    "Hence, mean age of male and female are similar to each other"
   ],
   "id": "569ff2c599618cc7"
  },
  {
   "metadata": {
    "ExecuteTime": {
     "end_time": "2024-12-13T02:45:27.782279Z",
     "start_time": "2024-12-13T02:45:27.777241Z"
    }
   },
   "cell_type": "code",
   "source": [
    "## In reality \n",
    "pop_male.mean()"
   ],
   "id": "198db18515ed69d9",
   "outputs": [
    {
     "data": {
      "text/plain": [
       "30.58522796352584"
      ]
     },
     "execution_count": 46,
     "metadata": {},
     "output_type": "execute_result"
    }
   ],
   "execution_count": 46
  },
  {
   "metadata": {
    "ExecuteTime": {
     "end_time": "2024-12-13T02:45:35.470130Z",
     "start_time": "2024-12-13T02:45:35.464036Z"
    }
   },
   "cell_type": "code",
   "source": "pop_female.mean()",
   "id": "c1f8decfe4d276b6",
   "outputs": [
    {
     "data": {
      "text/plain": [
       "28.68708762886598"
      ]
     },
     "execution_count": 47,
     "metadata": {},
     "output_type": "execute_result"
    }
   ],
   "execution_count": 47
  },
  {
   "metadata": {},
   "cell_type": "markdown",
   "source": "## Paired 2 Sample t test",
   "id": "86e95918a5e550d8"
  },
  {
   "metadata": {
    "ExecuteTime": {
     "end_time": "2024-12-13T06:06:54.805875Z",
     "start_time": "2024-12-13T06:06:51.863738Z"
    }
   },
   "cell_type": "code",
   "source": [
    "import numpy as np\n",
    "import pandas as pd\n",
    "import matplotlib.pyplot as plt\n",
    "\n",
    "before = np.array([80, 92, 75, 68, 85, 78, 73, 90, 70, 88, 76, 84, 82, 77, 91])\n",
    "after = np.array([78, 93, 81, 67, 88, 76, 74, 91, 69, 88, 77, 81, 80, 79, 88])"
   ],
   "id": "62e6e19e0df4eb94",
   "outputs": [],
   "execution_count": 48
  },
  {
   "metadata": {
    "ExecuteTime": {
     "end_time": "2024-12-14T02:41:25.149298Z",
     "start_time": "2024-12-14T02:41:25.126143Z"
    }
   },
   "cell_type": "code",
   "source": [
    "diff = after - before\n",
    "diff"
   ],
   "id": "18b0e2e0c184a220",
   "outputs": [
    {
     "data": {
      "text/plain": [
       "array([-2,  1,  6, -1,  3, -2,  1,  1, -1,  0,  1, -3, -2,  2, -3])"
      ]
     },
     "execution_count": 51,
     "metadata": {},
     "output_type": "execute_result"
    }
   ],
   "execution_count": 51
  },
  {
   "metadata": {
    "ExecuteTime": {
     "end_time": "2024-12-13T06:08:30.626609Z",
     "start_time": "2024-12-13T06:08:29.971439Z"
    }
   },
   "cell_type": "code",
   "source": [
    "plt.hist(diff)\n",
    "plt.title('Histogram of Weight difference')\n",
    "plt.xlabel('Weight Difference (Kg)')\n",
    "plt.ylabel('Frequency')\n",
    "plt.show()\n",
    "\n",
    "shapiro_test = stats.shapiro(diff)\n",
    "print('Shapiro-Wilk test: ', shapiro_test)"
   ],
   "id": "f7fc79c3f20899f1",
   "outputs": [
    {
     "data": {
      "text/plain": [
       "<Figure size 640x480 with 1 Axes>"
      ],
      "image/png": "[encoded data removed]"
     },
     "metadata": {},
     "output_type": "display_data"
    },
    {
     "name": "stdout",
     "output_type": "stream",
     "text": [
      "Shapiro-Wilk test:  ShapiroResult(statistic=0.9220571486009436, pvalue=0.20704778986900568)\n"
     ]
    }
   ],
   "execution_count": 50
  },
  {
   "metadata": {
    "ExecuteTime": {
     "end_time": "2024-12-14T02:44:09.494185Z",
     "start_time": "2024-12-14T02:44:09.490276Z"
    }
   },
   "cell_type": "code",
   "source": [
    "# The p value above 0.0207 is greater than 0.05 so it follows normal distrib \n",
    "mean_diff = np.mean(diff)\n",
    "std_diff = np.std(diff, ddof=1)"
   ],
   "id": "6b9a2776c623ebfd",
   "outputs": [],
   "execution_count": 52
  },
  {
   "metadata": {
    "ExecuteTime": {
     "end_time": "2024-12-14T02:44:51.187871Z",
     "start_time": "2024-12-14T02:44:51.184744Z"
    }
   },
   "cell_type": "code",
   "source": [
    "n = len(diff)\n",
    "t_statistic = mean_diff / (std_diff / np.sqrt(n))\n",
    "df = n - 1"
   ],
   "id": "f527fedf255f33eb",
   "outputs": [],
   "execution_count": 55
  },
  {
   "metadata": {
    "ExecuteTime": {
     "end_time": "2024-12-14T02:44:58.155726Z",
     "start_time": "2024-12-14T02:44:58.151879Z"
    }
   },
   "cell_type": "code",
   "source": "t_statistic",
   "id": "f024054e63426cfc",
   "outputs": [
    {
     "data": {
      "text/plain": [
       "0.10482848367219182"
      ]
     },
     "execution_count": 57,
     "metadata": {},
     "output_type": "execute_result"
    }
   ],
   "execution_count": 57
  },
  {
   "metadata": {
    "ExecuteTime": {
     "end_time": "2024-12-14T02:46:35.233716Z",
     "start_time": "2024-12-14T02:46:35.228724Z"
    }
   },
   "cell_type": "code",
   "source": [
    "alpha = 0.05\n",
    "p_value = stats.t.cdf(t_statistic, df)"
   ],
   "id": "f4c3a79ba98ac59b",
   "outputs": [],
   "execution_count": 58
  },
  {
   "metadata": {
    "ExecuteTime": {
     "end_time": "2024-12-14T02:46:36.815043Z",
     "start_time": "2024-12-14T02:46:36.810724Z"
    }
   },
   "cell_type": "code",
   "source": "p_value",
   "id": "c95564e53d0d5dd5",
   "outputs": [
    {
     "data": {
      "text/plain": [
       "0.5410005146857456"
      ]
     },
     "execution_count": 59,
     "metadata": {},
     "output_type": "execute_result"
    }
   ],
   "execution_count": 59
  },
  {
   "metadata": {},
   "cell_type": "code",
   "outputs": [],
   "execution_count": null,
   "source": [
    "# Since 0.54 > 0.05 \n",
    "# Hence we cannot reject the H0\n",
    "# Therefore there was no significant change in weights"
   ],
   "id": "d95fd4dfbd1b5f79"
  },
  {
   "metadata": {},
   "cell_type": "code",
   "outputs": [],
   "execution_count": null,
   "source": "",
   "id": "6aa488f419bebbd1"
  }
 ],
 "metadata": {
  "kernelspec": {
   "display_name": "Python 3",
   "language": "python",
   "name": "python3"
  },
  "language_info": {
   "codemirror_mode": {
    "name": "ipython",
    "version": 2
   },
   "file_extension": ".py",
   "mimetype": "text/x-python",
   "name": "python",
   "nbconvert_exporter": "python",
   "pygments_lexer": "ipython2",
   "version": "2.7.6"
  }
 },
 "nbformat": 4,
 "nbformat_minor": 5
}
