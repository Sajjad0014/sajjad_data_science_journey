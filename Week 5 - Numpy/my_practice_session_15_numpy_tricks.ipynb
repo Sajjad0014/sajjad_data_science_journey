{
 "nbformat": 4,
 "nbformat_minor": 0,
 "metadata": {
  "colab": {
   "provenance": []
  },
  "kernelspec": {
   "name": "python3",
   "display_name": "Python 3 (ipykernel)",
   "language": "python"
  },
  "language_info": {
   "name": "python"
  }
 },
 "cells": [
  {
   "cell_type": "markdown",
   "source": [
    "### np.sort\n",
    "\n",
    "Return a sorted copy of an array.\n",
    "\n",
    "https://numpy.org/doc/stable/reference/generated/numpy.sort.html"
   ],
   "metadata": {
    "id": "39-UcmoPggtI"
   }
  },
  {
   "metadata": {
    "ExecuteTime": {
     "end_time": "2024-09-26T22:59:02.052929Z",
     "start_time": "2024-09-26T22:59:01.891693Z"
    }
   },
   "cell_type": "code",
   "source": [
    "import numpy as np\n",
    "\n",
    "a = np.random.randint(1, 100, 15)\n",
    "print(a)\n",
    "print()\n",
    "np.sort(a)\n",
    "\n",
    "# Reason for using .sort() and sorted function is, sorted() func returns a list"
   ],
   "outputs": [
    {
     "name": "stdout",
     "output_type": "stream",
     "text": [
      "[48 67  6 26 60 24 75 54 76 67 32 64 86 25 95]\n",
      "\n"
     ]
    },
    {
     "data": {
      "text/plain": [
       "array([ 6, 24, 25, 26, 32, 48, 54, 60, 64, 67, 67, 75, 76, 86, 95])"
      ]
     },
     "execution_count": 1,
     "metadata": {},
     "output_type": "execute_result"
    }
   ],
   "execution_count": 1
  },
  {
   "metadata": {
    "ExecuteTime": {
     "end_time": "2024-09-26T22:59:02.057333Z",
     "start_time": "2024-09-26T22:59:02.053935Z"
    }
   },
   "cell_type": "code",
   "source": [
    "np.sort(a)[::-1]\n",
    "# DESC"
   ],
   "outputs": [
    {
     "data": {
      "text/plain": [
       "array([95, 86, 76, 75, 67, 67, 64, 60, 54, 48, 32, 26, 25, 24,  6])"
      ]
     },
     "execution_count": 2,
     "metadata": {},
     "output_type": "execute_result"
    }
   ],
   "execution_count": 2
  },
  {
   "metadata": {
    "ExecuteTime": {
     "end_time": "2024-09-26T22:59:02.068175Z",
     "start_time": "2024-09-26T22:59:02.057333Z"
    }
   },
   "cell_type": "code",
   "source": [
    "b = np.random.randint(1, 100, 24).reshape(6, 4)\n",
    "print(b)"
   ],
   "outputs": [
    {
     "name": "stdout",
     "output_type": "stream",
     "text": [
      "[[19 96 44 22]\n",
      " [14 98 36  8]\n",
      " [36 75 31  4]\n",
      " [21 33 89 41]\n",
      " [ 4 89 13  7]\n",
      " [90 48 61 47]]\n"
     ]
    }
   ],
   "execution_count": 3
  },
  {
   "metadata": {
    "ExecuteTime": {
     "end_time": "2024-09-26T22:59:02.076552Z",
     "start_time": "2024-09-26T22:59:02.068175Z"
    }
   },
   "cell_type": "code",
   "source": [
    "print(np.sort(b, axis=1))\n",
    "# 1 is for rows"
   ],
   "outputs": [
    {
     "name": "stdout",
     "output_type": "stream",
     "text": [
      "[[19 22 44 96]\n",
      " [ 8 14 36 98]\n",
      " [ 4 31 36 75]\n",
      " [21 33 41 89]\n",
      " [ 4  7 13 89]\n",
      " [47 48 61 90]]\n"
     ]
    }
   ],
   "execution_count": 4
  },
  {
   "metadata": {
    "ExecuteTime": {
     "end_time": "2024-09-26T22:59:02.085039Z",
     "start_time": "2024-09-26T22:59:02.077578Z"
    }
   },
   "cell_type": "code",
   "source": [
    "print(np.sort(b, axis=0))\n",
    "# 0 is for column wise"
   ],
   "outputs": [
    {
     "name": "stdout",
     "output_type": "stream",
     "text": [
      "[[ 4 33 13  4]\n",
      " [14 48 31  7]\n",
      " [19 75 36  8]\n",
      " [21 89 44 22]\n",
      " [36 96 61 41]\n",
      " [90 98 89 47]]\n"
     ]
    }
   ],
   "execution_count": 5
  },
  {
   "cell_type": "markdown",
   "source": [
    "### np.append\n",
    "\n",
    "The numpy.append() appends values along the mentioned axis at the end of the array\n",
    "\n",
    "https://numpy.org/doc/stable/reference/generated/numpy.append.html"
   ],
   "metadata": {
    "id": "W8tttorjgrVf"
   }
  },
  {
   "metadata": {
    "ExecuteTime": {
     "end_time": "2024-09-26T22:59:02.093424Z",
     "start_time": "2024-09-26T22:59:02.085039Z"
    }
   },
   "cell_type": "code",
   "source": [
    "print(a)\n",
    "print()\n",
    "print(np.append(a, 200))\n",
    "print()\n",
    "print(np.append(a, [100, 400]))"
   ],
   "outputs": [
    {
     "name": "stdout",
     "output_type": "stream",
     "text": [
      "[48 67  6 26 60 24 75 54 76 67 32 64 86 25 95]\n",
      "\n",
      "[ 48  67   6  26  60  24  75  54  76  67  32  64  86  25  95 200]\n",
      "\n",
      "[ 48  67   6  26  60  24  75  54  76  67  32  64  86  25  95 100 400]\n"
     ]
    }
   ],
   "execution_count": 6
  },
  {
   "metadata": {
    "ExecuteTime": {
     "end_time": "2024-09-26T22:59:02.103924Z",
     "start_time": "2024-09-26T22:59:02.093424Z"
    }
   },
   "cell_type": "code",
   "source": [
    "print(b)\n",
    "print()\n",
    "print(np.append(b, np.ones((b.shape[0], 1)), axis=1))\n",
    "print()\n",
    "print(np.append(b, np.random.random((b.shape[0], 1)), axis=1))"
   ],
   "outputs": [
    {
     "name": "stdout",
     "output_type": "stream",
     "text": [
      "[[19 96 44 22]\n",
      " [14 98 36  8]\n",
      " [36 75 31  4]\n",
      " [21 33 89 41]\n",
      " [ 4 89 13  7]\n",
      " [90 48 61 47]]\n",
      "\n",
      "[[19. 96. 44. 22.  1.]\n",
      " [14. 98. 36.  8.  1.]\n",
      " [36. 75. 31.  4.  1.]\n",
      " [21. 33. 89. 41.  1.]\n",
      " [ 4. 89. 13.  7.  1.]\n",
      " [90. 48. 61. 47.  1.]]\n",
      "\n",
      "[[1.90000000e+01 9.60000000e+01 4.40000000e+01 2.20000000e+01\n",
      "  1.23918518e-01]\n",
      " [1.40000000e+01 9.80000000e+01 3.60000000e+01 8.00000000e+00\n",
      "  9.65827294e-01]\n",
      " [3.60000000e+01 7.50000000e+01 3.10000000e+01 4.00000000e+00\n",
      "  8.17649213e-03]\n",
      " [2.10000000e+01 3.30000000e+01 8.90000000e+01 4.10000000e+01\n",
      "  7.63708637e-01]\n",
      " [4.00000000e+00 8.90000000e+01 1.30000000e+01 7.00000000e+00\n",
      "  8.59795575e-01]\n",
      " [9.00000000e+01 4.80000000e+01 6.10000000e+01 4.70000000e+01\n",
      "  4.45155079e-01]]\n"
     ]
    }
   ],
   "execution_count": 7
  },
  {
   "cell_type": "markdown",
   "source": [
    "### np.concatenate\n",
    "\n",
    "numpy.concatenate() function concatenate a sequence of arrays along an existing axis.\n",
    "\n",
    "https://numpy.org/doc/stable/reference/generated/numpy.concatenate.html"
   ],
   "metadata": {
    "id": "meIMn8T9g5-m"
   }
  },
  {
   "metadata": {
    "ExecuteTime": {
     "end_time": "2024-09-26T22:59:02.112211Z",
     "start_time": "2024-09-26T22:59:02.103924Z"
    }
   },
   "cell_type": "code",
   "source": [
    "c = np.arange(6).reshape(2, 3)\n",
    "d = np.arange(6, 12).reshape(2, 3)\n",
    "\n",
    "print(c)\n",
    "print()\n",
    "print(d)"
   ],
   "outputs": [
    {
     "name": "stdout",
     "output_type": "stream",
     "text": [
      "[[0 1 2]\n",
      " [3 4 5]]\n",
      "\n",
      "[[ 6  7  8]\n",
      " [ 9 10 11]]\n"
     ]
    }
   ],
   "execution_count": 8
  },
  {
   "metadata": {
    "ExecuteTime": {
     "end_time": "2024-09-26T22:59:02.120758Z",
     "start_time": "2024-09-26T22:59:02.113216Z"
    }
   },
   "cell_type": "code",
   "source": [
    "# we provide a tuple in it\n",
    "print(np.concatenate((c, d), axis=0))\n",
    "print()\n",
    "print(np.concatenate((c, d), axis=1))"
   ],
   "outputs": [
    {
     "name": "stdout",
     "output_type": "stream",
     "text": [
      "[[ 0  1  2]\n",
      " [ 3  4  5]\n",
      " [ 6  7  8]\n",
      " [ 9 10 11]]\n",
      "\n",
      "[[ 0  1  2  6  7  8]\n",
      " [ 3  4  5  9 10 11]]\n"
     ]
    }
   ],
   "execution_count": 9
  },
  {
   "cell_type": "markdown",
   "source": [
    "### np.unique\n",
    "\n",
    "With the help of np.unique() method, we can get the unique values from an array given as parameter in np.unique() method.\n",
    "\n",
    "https://numpy.org/doc/stable/reference/generated/numpy.unique.html/"
   ],
   "metadata": {
    "id": "oHGFqHcohFtB"
   }
  },
  {
   "metadata": {
    "ExecuteTime": {
     "end_time": "2024-09-26T22:59:02.128864Z",
     "start_time": "2024-09-26T22:59:02.120758Z"
    }
   },
   "cell_type": "code",
   "source": [
    "e = np.array([1, 1, 2, 2, 2, 3, 3, 3, 3, 4, 4, 4, 5, 5, 6, 7, 8, 8])\n",
    "print(np.unique(e))"
   ],
   "outputs": [
    {
     "name": "stdout",
     "output_type": "stream",
     "text": [
      "[1 2 3 4 5 6 7 8]\n"
     ]
    }
   ],
   "execution_count": 10
  },
  {
   "cell_type": "markdown",
   "source": [
    "### np.expand_dims\n",
    "\n",
    "With the help of Numpy.expand_dims() method, we can get the expanded dimensions of an array\n",
    "\n",
    "https://numpy.org/doc/stable/reference/generated/numpy.expand_dims.html"
   ],
   "metadata": {
    "id": "Wki2yOXaEZV3"
   }
  },
  {
   "metadata": {
    "ExecuteTime": {
     "end_time": "2024-09-26T22:59:02.136875Z",
     "start_time": "2024-09-26T22:59:02.128864Z"
    }
   },
   "cell_type": "code",
   "source": [
    "print(a)\n",
    "print(a.shape)"
   ],
   "outputs": [
    {
     "name": "stdout",
     "output_type": "stream",
     "text": [
      "[48 67  6 26 60 24 75 54 76 67 32 64 86 25 95]\n",
      "(15,)\n"
     ]
    }
   ],
   "execution_count": 11
  },
  {
   "metadata": {
    "ExecuteTime": {
     "end_time": "2024-09-26T22:59:02.145523Z",
     "start_time": "2024-09-26T22:59:02.136875Z"
    }
   },
   "cell_type": "code",
   "source": [
    "print(np.expand_dims(a, axis=0))\n",
    "print(np.expand_dims(a, axis=0).shape)"
   ],
   "outputs": [
    {
     "name": "stdout",
     "output_type": "stream",
     "text": [
      "[[48 67  6 26 60 24 75 54 76 67 32 64 86 25 95]]\n",
      "(1, 15)\n"
     ]
    }
   ],
   "execution_count": 12
  },
  {
   "metadata": {
    "ExecuteTime": {
     "end_time": "2024-09-26T22:59:02.154823Z",
     "start_time": "2024-09-26T22:59:02.146529Z"
    }
   },
   "cell_type": "code",
   "source": "print(np.expand_dims(a, axis=1))",
   "outputs": [
    {
     "name": "stdout",
     "output_type": "stream",
     "text": [
      "[[48]\n",
      " [67]\n",
      " [ 6]\n",
      " [26]\n",
      " [60]\n",
      " [24]\n",
      " [75]\n",
      " [54]\n",
      " [76]\n",
      " [67]\n",
      " [32]\n",
      " [64]\n",
      " [86]\n",
      " [25]\n",
      " [95]]\n"
     ]
    }
   ],
   "execution_count": 13
  },
  {
   "cell_type": "markdown",
   "source": [
    "### np.where\n",
    "\n",
    "The numpy.where() function returns the indices of elements in an input array where the given condition is satisfied.\n",
    "\n",
    "https://numpy.org/doc/stable/reference/generated/numpy.where.html"
   ],
   "metadata": {
    "id": "_HmpYNTFERjS"
   }
  },
  {
   "metadata": {
    "ExecuteTime": {
     "end_time": "2024-09-26T22:59:02.164511Z",
     "start_time": "2024-09-26T22:59:02.155828Z"
    }
   },
   "cell_type": "code",
   "source": "print(a)",
   "outputs": [
    {
     "name": "stdout",
     "output_type": "stream",
     "text": [
      "[48 67  6 26 60 24 75 54 76 67 32 64 86 25 95]\n"
     ]
    }
   ],
   "execution_count": 14
  },
  {
   "metadata": {
    "ExecuteTime": {
     "end_time": "2024-09-26T22:59:02.173904Z",
     "start_time": "2024-09-26T22:59:02.164511Z"
    }
   },
   "cell_type": "code",
   "source": [
    "# find all indices with value greater than 50\n",
    "np.where(a > 50)"
   ],
   "outputs": [
    {
     "data": {
      "text/plain": [
       "(array([ 1,  4,  6,  7,  8,  9, 11, 12, 14], dtype=int64),)"
      ]
     },
     "execution_count": 15,
     "metadata": {},
     "output_type": "execute_result"
    }
   ],
   "execution_count": 15
  },
  {
   "metadata": {
    "ExecuteTime": {
     "end_time": "2024-09-26T22:59:02.183085Z",
     "start_time": "2024-09-26T22:59:02.173904Z"
    }
   },
   "cell_type": "code",
   "source": [
    "# replace all values > 50 with 0\n",
    "# np.where(condition, if true what VALUE, if false what VALUE)\n",
    "np.where(a > 50, 0, a)"
   ],
   "outputs": [
    {
     "data": {
      "text/plain": [
       "array([48,  0,  6, 26,  0, 24,  0,  0,  0,  0, 32,  0,  0, 25,  0])"
      ]
     },
     "execution_count": 16,
     "metadata": {},
     "output_type": "execute_result"
    }
   ],
   "execution_count": 16
  },
  {
   "metadata": {
    "ExecuteTime": {
     "end_time": "2024-09-26T22:59:02.192044Z",
     "start_time": "2024-09-26T22:59:02.183085Z"
    }
   },
   "cell_type": "code",
   "source": [
    "# Convert all even numbers with 1\n",
    "np.where(a % 2 == 0, 1, a)"
   ],
   "outputs": [
    {
     "data": {
      "text/plain": [
       "array([ 1, 67,  1,  1,  1,  1, 75,  1,  1, 67,  1,  1,  1, 25, 95])"
      ]
     },
     "execution_count": 17,
     "metadata": {},
     "output_type": "execute_result"
    }
   ],
   "execution_count": 17
  },
  {
   "cell_type": "markdown",
   "source": [
    "### np.argmax\n",
    "\n",
    "The numpy.argmax() function returns indices of the max element of the array in a particular axis.\n",
    "\n",
    "https://numpy.org/doc/stable/reference/generated/numpy.argmax.html"
   ],
   "metadata": {
    "id": "jsGIGNtCIS5-"
   }
  },
  {
   "metadata": {
    "ExecuteTime": {
     "end_time": "2024-09-26T22:59:02.201453Z",
     "start_time": "2024-09-26T22:59:02.192044Z"
    }
   },
   "cell_type": "code",
   "source": [
    "print(a)\n",
    "np.argmax(a)"
   ],
   "outputs": [
    {
     "name": "stdout",
     "output_type": "stream",
     "text": [
      "[48 67  6 26 60 24 75 54 76 67 32 64 86 25 95]\n"
     ]
    },
    {
     "data": {
      "text/plain": [
       "14"
      ]
     },
     "execution_count": 18,
     "metadata": {},
     "output_type": "execute_result"
    }
   ],
   "execution_count": 18
  },
  {
   "metadata": {
    "ExecuteTime": {
     "end_time": "2024-09-26T22:59:02.209954Z",
     "start_time": "2024-09-26T22:59:02.201453Z"
    }
   },
   "cell_type": "code",
   "source": [
    "print(b)\n",
    "np.argmax(b, axis=1)\n",
    "# row wise"
   ],
   "outputs": [
    {
     "name": "stdout",
     "output_type": "stream",
     "text": [
      "[[19 96 44 22]\n",
      " [14 98 36  8]\n",
      " [36 75 31  4]\n",
      " [21 33 89 41]\n",
      " [ 4 89 13  7]\n",
      " [90 48 61 47]]\n"
     ]
    },
    {
     "data": {
      "text/plain": [
       "array([1, 1, 1, 2, 1, 0], dtype=int64)"
      ]
     },
     "execution_count": 19,
     "metadata": {},
     "output_type": "execute_result"
    }
   ],
   "execution_count": 19
  },
  {
   "metadata": {
    "ExecuteTime": {
     "end_time": "2024-09-26T22:59:02.218593Z",
     "start_time": "2024-09-26T22:59:02.209954Z"
    }
   },
   "cell_type": "code",
   "source": "np.argmax(b, axis=0)",
   "outputs": [
    {
     "data": {
      "text/plain": [
       "array([5, 1, 3, 5], dtype=int64)"
      ]
     },
     "execution_count": 20,
     "metadata": {},
     "output_type": "execute_result"
    }
   ],
   "execution_count": 20
  },
  {
   "metadata": {
    "ExecuteTime": {
     "end_time": "2024-09-26T22:59:02.227952Z",
     "start_time": "2024-09-26T22:59:02.218593Z"
    }
   },
   "cell_type": "code",
   "source": [
    "# np.argmin()\n",
    "print(a)\n",
    "np.argmin(a)"
   ],
   "outputs": [
    {
     "name": "stdout",
     "output_type": "stream",
     "text": [
      "[48 67  6 26 60 24 75 54 76 67 32 64 86 25 95]\n"
     ]
    },
    {
     "data": {
      "text/plain": [
       "2"
      ]
     },
     "execution_count": 21,
     "metadata": {},
     "output_type": "execute_result"
    }
   ],
   "execution_count": 21
  },
  {
   "cell_type": "markdown",
   "source": [
    "### np.cumsum\n",
    "\n",
    "numpy.cumsum() function is used when we want to compute the cumulative sum of array elements over a given axis.\n",
    "\n",
    "https://numpy.org/doc/stable/reference/generated/numpy.cumsum.html"
   ],
   "metadata": {
    "id": "1OdKi27pa091"
   }
  },
  {
   "metadata": {
    "ExecuteTime": {
     "end_time": "2024-09-26T22:59:02.253822Z",
     "start_time": "2024-09-26T22:59:02.249378Z"
    }
   },
   "cell_type": "code",
   "source": [
    "print(a)\n",
    "print(np.cumsum(a))"
   ],
   "outputs": [
    {
     "name": "stdout",
     "output_type": "stream",
     "text": [
      "[48 67  6 26 60 24 75 54 76 67 32 64 86 25 95]\n",
      "[ 48 115 121 147 207 231 306 360 436 503 535 599 685 710 805]\n"
     ]
    }
   ],
   "execution_count": 22
  },
  {
   "metadata": {
    "ExecuteTime": {
     "end_time": "2024-09-26T22:59:02.333047Z",
     "start_time": "2024-09-26T22:59:02.328503Z"
    }
   },
   "cell_type": "code",
   "source": [
    "print(b)\n",
    "print(np.cumsum(b))"
   ],
   "outputs": [
    {
     "name": "stdout",
     "output_type": "stream",
     "text": [
      "[[19 96 44 22]\n",
      " [14 98 36  8]\n",
      " [36 75 31  4]\n",
      " [21 33 89 41]\n",
      " [ 4 89 13  7]\n",
      " [90 48 61 47]]\n",
      "[  19  115  159  181  195  293  329  337  373  448  479  483  504  537\n",
      "  626  667  671  760  773  780  870  918  979 1026]\n"
     ]
    }
   ],
   "execution_count": 23
  },
  {
   "metadata": {
    "ExecuteTime": {
     "end_time": "2024-09-26T22:59:02.456531Z",
     "start_time": "2024-09-26T22:59:02.453690Z"
    }
   },
   "cell_type": "code",
   "source": "print(np.cumsum(b, axis=0))",
   "outputs": [
    {
     "name": "stdout",
     "output_type": "stream",
     "text": [
      "[[ 19  96  44  22]\n",
      " [ 33 194  80  30]\n",
      " [ 69 269 111  34]\n",
      " [ 90 302 200  75]\n",
      " [ 94 391 213  82]\n",
      " [184 439 274 129]]\n"
     ]
    }
   ],
   "execution_count": 24
  },
  {
   "metadata": {
    "ExecuteTime": {
     "end_time": "2024-09-26T22:59:02.486385Z",
     "start_time": "2024-09-26T22:59:02.482948Z"
    }
   },
   "cell_type": "code",
   "source": "print(np.cumsum(b, axis=1))",
   "outputs": [
    {
     "name": "stdout",
     "output_type": "stream",
     "text": [
      "[[ 19 115 159 181]\n",
      " [ 14 112 148 156]\n",
      " [ 36 111 142 146]\n",
      " [ 21  54 143 184]\n",
      " [  4  93 106 113]\n",
      " [ 90 138 199 246]]\n"
     ]
    }
   ],
   "execution_count": 25
  },
  {
   "metadata": {
    "ExecuteTime": {
     "end_time": "2024-09-26T22:59:02.503849Z",
     "start_time": "2024-09-26T22:59:02.499391Z"
    }
   },
   "cell_type": "code",
   "source": [
    "# np.cumprod\n",
    "print(a)\n",
    "np.cumprod(a)"
   ],
   "outputs": [
    {
     "name": "stdout",
     "output_type": "stream",
     "text": [
      "[48 67  6 26 60 24 75 54 76 67 32 64 86 25 95]\n"
     ]
    },
    {
     "data": {
      "text/plain": [
       "array([         48,        3216,       19296,      501696,    30101760,\n",
       "         722442240, -1651406848,  1018343424,    84688896,  1379188736,\n",
       "        1184366592, -1509949440, -1006632960,   603979776,  1543503872])"
      ]
     },
     "execution_count": 26,
     "metadata": {},
     "output_type": "execute_result"
    }
   ],
   "execution_count": 26
  },
  {
   "cell_type": "markdown",
   "source": [
    "### np.percentile\n",
    "\n",
    "numpy.percentile()function used to compute the nth percentile of the given data (array elements) along the specified axis.\n",
    "\n",
    "https://numpy.org/doc/stable/reference/generated/numpy.percentile.html"
   ],
   "metadata": {
    "id": "SIuRwLMjcnOl"
   }
  },
  {
   "metadata": {
    "ExecuteTime": {
     "end_time": "2024-09-26T22:59:02.536441Z",
     "start_time": "2024-09-26T22:59:02.525284Z"
    }
   },
   "cell_type": "code",
   "source": [
    "print(a)\n",
    "print(np.percentile(a, 0))\n",
    "print(np.percentile(a, 50))\n",
    "print(np.percentile(a, 100))"
   ],
   "outputs": [
    {
     "name": "stdout",
     "output_type": "stream",
     "text": [
      "[48 67  6 26 60 24 75 54 76 67 32 64 86 25 95]\n",
      "6.0\n",
      "60.0\n",
      "95.0\n"
     ]
    }
   ],
   "execution_count": 27
  },
  {
   "metadata": {
    "ExecuteTime": {
     "end_time": "2024-09-26T22:59:02.561295Z",
     "start_time": "2024-09-26T22:59:02.557463Z"
    }
   },
   "cell_type": "code",
   "source": "np.median(a)",
   "outputs": [
    {
     "data": {
      "text/plain": [
       "60.0"
      ]
     },
     "execution_count": 28,
     "metadata": {},
     "output_type": "execute_result"
    }
   ],
   "execution_count": 28
  },
  {
   "cell_type": "markdown",
   "source": [
    "### np.histogram\n",
    "\n",
    "Numpy has a built-in numpy.histogram() function which represents the frequency of data distribution in the graphical form.\n",
    "\n",
    "https://numpy.org/doc/stable/reference/generated/numpy.histogram.html"
   ],
   "metadata": {
    "id": "2C6nGaJHev5N"
   }
  },
  {
   "metadata": {
    "ExecuteTime": {
     "end_time": "2024-09-26T22:59:02.591371Z",
     "start_time": "2024-09-26T22:59:02.587162Z"
    }
   },
   "cell_type": "code",
   "source": [
    "print(a)\n",
    "print()\n",
    "print(np.histogram(a, bins=[0, 10, 20, 30, 40, 50, 60, 70, 80, 90, 100]))\n",
    "print()\n",
    "print(np.histogram(a, bins=[0, 50, 100]))"
   ],
   "outputs": [
    {
     "name": "stdout",
     "output_type": "stream",
     "text": [
      "[48 67  6 26 60 24 75 54 76 67 32 64 86 25 95]\n",
      "\n",
      "(array([1, 0, 3, 1, 1, 1, 4, 2, 1, 1], dtype=int64), array([  0,  10,  20,  30,  40,  50,  60,  70,  80,  90, 100]))\n",
      "\n",
      "(array([6, 9], dtype=int64), array([  0,  50, 100]))\n"
     ]
    }
   ],
   "execution_count": 29
  },
  {
   "cell_type": "markdown",
   "source": [
    "### np.corrcoef\n",
    "\n",
    "Return Pearson product-moment correlation coefficients.\n",
    "\n",
    "https://numpy.org/doc/stable/reference/generated/numpy.corrcoef.html"
   ],
   "metadata": {
    "id": "JxgMS0Zef8oQ"
   }
  },
  {
   "metadata": {
    "ExecuteTime": {
     "end_time": "2024-09-26T22:59:02.652795Z",
     "start_time": "2024-09-26T22:59:02.644958Z"
    }
   },
   "cell_type": "code",
   "source": [
    "salary = np.array([20000, 40000, 50000, 30000, 25000])\n",
    "experience = np.array([1, 2, 4, 3, 2])\n",
    "\n",
    "print(np.corrcoef(salary, experience))"
   ],
   "outputs": [
    {
     "name": "stdout",
     "output_type": "stream",
     "text": [
      "[[1.         0.80119274]\n",
      " [0.80119274 1.        ]]\n"
     ]
    }
   ],
   "execution_count": 30
  },
  {
   "cell_type": "markdown",
   "source": [
    "### np.isin\n",
    "\n",
    "With the help of numpy.isin() method, we can see that one array having values are checked in a different numpy array having different elements with different sizes.\n",
    "\n",
    "https://numpy.org/doc/stable/reference/generated/numpy.isin.html"
   ],
   "metadata": {
    "id": "Ot4h1PdGh-vI"
   }
  },
  {
   "metadata": {
    "ExecuteTime": {
     "end_time": "2024-09-26T22:59:07.681280Z",
     "start_time": "2024-09-26T22:59:07.678Z"
    }
   },
   "cell_type": "code",
   "source": "print(a)",
   "outputs": [
    {
     "name": "stdout",
     "output_type": "stream",
     "text": [
      "[48 67  6 26 60 24 75 54 76 67 32 64 86 25 95]\n"
     ]
    }
   ],
   "execution_count": 34
  },
  {
   "metadata": {
    "ExecuteTime": {
     "end_time": "2024-09-26T23:01:00.075296Z",
     "start_time": "2024-09-26T23:01:00.071684Z"
    }
   },
   "cell_type": "code",
   "source": [
    "items = [10, 20, 30, 40, 50, 60, 70, 80, 90, 100]\n",
    "\n",
    "print(np.isin(a, items))\n",
    "print()\n",
    "print(a[np.isin(a, items)])"
   ],
   "outputs": [
    {
     "name": "stdout",
     "output_type": "stream",
     "text": [
      "[False False False False  True False False False False False False False\n",
      " False False False]\n",
      "\n",
      "[60]\n"
     ]
    }
   ],
   "execution_count": 40
  },
  {
   "cell_type": "markdown",
   "source": [
    "### np.flip\n",
    "\n",
    "The numpy.flip() function reverses the order of array elements along the specified axis, preserving the shape of the array.\n",
    "\n",
    "https://numpy.org/doc/stable/reference/generated/numpy.flip.html"
   ],
   "metadata": {
    "id": "8VKXXRjmicT-"
   }
  },
  {
   "metadata": {
    "ExecuteTime": {
     "end_time": "2024-09-26T23:21:19.688707Z",
     "start_time": "2024-09-26T23:21:19.683337Z"
    }
   },
   "cell_type": "code",
   "source": [
    "print(a)\n",
    "np.flip(a)"
   ],
   "outputs": [
    {
     "name": "stdout",
     "output_type": "stream",
     "text": [
      "[48 67  6 26 60 24 75 54 76 67 32 64 86 25 95]\n"
     ]
    },
    {
     "data": {
      "text/plain": [
       "array([95, 25, 86, 64, 32, 67, 76, 54, 75, 24, 60, 26,  6, 67, 48])"
      ]
     },
     "execution_count": 42,
     "metadata": {},
     "output_type": "execute_result"
    }
   ],
   "execution_count": 42
  },
  {
   "metadata": {
    "ExecuteTime": {
     "end_time": "2024-09-26T23:21:47.350129Z",
     "start_time": "2024-09-26T23:21:47.347211Z"
    }
   },
   "cell_type": "code",
   "source": [
    "print(b)\n",
    "print()\n",
    "print(np.flip(b))\n",
    "# This performed flipping on column and on row"
   ],
   "outputs": [
    {
     "name": "stdout",
     "output_type": "stream",
     "text": [
      "[[19 96 44 22]\n",
      " [14 98 36  8]\n",
      " [36 75 31  4]\n",
      " [21 33 89 41]\n",
      " [ 4 89 13  7]\n",
      " [90 48 61 47]]\n",
      "\n",
      "[[47 61 48 90]\n",
      " [ 7 13 89  4]\n",
      " [41 89 33 21]\n",
      " [ 4 31 75 36]\n",
      " [ 8 36 98 14]\n",
      " [22 44 96 19]]\n"
     ]
    }
   ],
   "execution_count": 45
  },
  {
   "metadata": {
    "ExecuteTime": {
     "end_time": "2024-09-26T23:23:13.276998Z",
     "start_time": "2024-09-26T23:23:13.273778Z"
    }
   },
   "cell_type": "code",
   "source": [
    "print(b)\n",
    "print()\n",
    "print(np.flip(b, axis=0))"
   ],
   "outputs": [
    {
     "name": "stdout",
     "output_type": "stream",
     "text": [
      "[[19 96 44 22]\n",
      " [14 98 36  8]\n",
      " [36 75 31  4]\n",
      " [21 33 89 41]\n",
      " [ 4 89 13  7]\n",
      " [90 48 61 47]]\n",
      "\n",
      "[[90 48 61 47]\n",
      " [ 4 89 13  7]\n",
      " [21 33 89 41]\n",
      " [36 75 31  4]\n",
      " [14 98 36  8]\n",
      " [19 96 44 22]]\n"
     ]
    }
   ],
   "execution_count": 47
  },
  {
   "metadata": {
    "ExecuteTime": {
     "end_time": "2024-09-26T23:23:30.081941Z",
     "start_time": "2024-09-26T23:23:30.078332Z"
    }
   },
   "cell_type": "code",
   "source": [
    "print(b)\n",
    "print()\n",
    "print(np.flip(b, axis=1))"
   ],
   "outputs": [
    {
     "name": "stdout",
     "output_type": "stream",
     "text": [
      "[[19 96 44 22]\n",
      " [14 98 36  8]\n",
      " [36 75 31  4]\n",
      " [21 33 89 41]\n",
      " [ 4 89 13  7]\n",
      " [90 48 61 47]]\n",
      "\n",
      "[[22 44 96 19]\n",
      " [ 8 36 98 14]\n",
      " [ 4 31 75 36]\n",
      " [41 89 33 21]\n",
      " [ 7 13 89  4]\n",
      " [47 61 48 90]]\n"
     ]
    }
   ],
   "execution_count": 48
  },
  {
   "cell_type": "markdown",
   "source": [
    "### np.put\n",
    "\n",
    "The numpy.put() function replaces specific elements of an array with given values of p_array. Array indexed works on flattened array.\n",
    "\n",
    "https://numpy.org/doc/stable/reference/generated/numpy.put.html"
   ],
   "metadata": {
    "id": "n7jTKF2QjIz4"
   }
  },
  {
   "metadata": {
    "ExecuteTime": {
     "end_time": "2024-09-26T23:25:19.446299Z",
     "start_time": "2024-09-26T23:25:19.442188Z"
    }
   },
   "cell_type": "code",
   "source": [
    "print(a)\n",
    "print()\n",
    "# np.put(array, positions, values)\n",
    "\n",
    "print(np.put(a, [0, 1], [110, 530]))\n",
    "# NOTE - this makes a permanent change"
   ],
   "outputs": [
    {
     "name": "stdout",
     "output_type": "stream",
     "text": [
      "[48 67  6 26 60 24 75 54 76 67 32 64 86 25 95]\n",
      "\n",
      "None\n"
     ]
    }
   ],
   "execution_count": 50
  },
  {
   "metadata": {
    "ExecuteTime": {
     "end_time": "2024-09-26T23:25:31.777667Z",
     "start_time": "2024-09-26T23:25:31.775067Z"
    }
   },
   "cell_type": "code",
   "source": "print(a)",
   "outputs": [
    {
     "name": "stdout",
     "output_type": "stream",
     "text": [
      "[110 530   6  26  60  24  75  54  76  67  32  64  86  25  95]\n"
     ]
    }
   ],
   "execution_count": 51
  },
  {
   "cell_type": "markdown",
   "source": [
    "### np.delete\n",
    "\n",
    "The numpy.delete() function returns a new array with the deletion of sub-arrays along with the mentioned axis.\n",
    "\n",
    "https://numpy.org/doc/stable/reference/generated/numpy.delete.html"
   ],
   "metadata": {
    "id": "lYkpJg3kpSWB"
   }
  },
  {
   "metadata": {
    "ExecuteTime": {
     "end_time": "2024-09-26T23:26:40.452793Z",
     "start_time": "2024-09-26T23:26:40.448416Z"
    }
   },
   "cell_type": "code",
   "source": [
    "print(a)\n",
    "np.delete(a, 1)\n",
    "# we give position like 1st index element"
   ],
   "outputs": [
    {
     "name": "stdout",
     "output_type": "stream",
     "text": [
      "[110 530   6  26  60  24  75  54  76  67  32  64  86  25  95]\n"
     ]
    },
    {
     "data": {
      "text/plain": [
       "array([110,   6,  26,  60,  24,  75,  54,  76,  67,  32,  64,  86,  25,\n",
       "        95])"
      ]
     },
     "execution_count": 54,
     "metadata": {},
     "output_type": "execute_result"
    }
   ],
   "execution_count": 54
  },
  {
   "metadata": {
    "ExecuteTime": {
     "end_time": "2024-09-26T23:27:04.188855Z",
     "start_time": "2024-09-26T23:27:04.185732Z"
    }
   },
   "cell_type": "code",
   "source": [
    "print(a)\n",
    "print(np.delete(a, [0, 2, 4]))"
   ],
   "outputs": [
    {
     "name": "stdout",
     "output_type": "stream",
     "text": [
      "[110 530   6  26  60  24  75  54  76  67  32  64  86  25  95]\n",
      "[530  26  24  75  54  76  67  32  64  86  25  95]\n"
     ]
    }
   ],
   "execution_count": 56
  },
  {
   "cell_type": "markdown",
   "source": [
    "### Set functions\n",
    "\n",
    "- np.union1d\n",
    "- np.intersect1d\n",
    "- np.setdiff1d\n",
    "- np.setxor1d\n",
    "- np.in1d"
   ],
   "metadata": {
    "id": "Ei94MbFbrjvx"
   }
  },
  {
   "metadata": {
    "ExecuteTime": {
     "end_time": "2024-09-26T23:34:53.444356Z",
     "start_time": "2024-09-26T23:34:53.438710Z"
    }
   },
   "cell_type": "code",
   "source": [
    "# The best part is you get results in numpy array it self\n",
    "m = np.array([1, 2, 3, 4, 5])\n",
    "n = np.array([3, 4, 5, 6, 7])\n",
    "print(\"m: \", m)\n",
    "print(\"n: \", n)\n",
    "\n",
    "print(\"Union: \", np.union1d(m, n))\n",
    "print(\"Intersect: \", np.intersect1d(m, n))\n",
    "print(\"difference m - n: \", np.setdiff1d(m, n))\n",
    "print(\"difference n - m: \", np.setdiff1d(n, m))\n",
    "print(\"XOR: \", np.setxor1d(m, n))"
   ],
   "outputs": [
    {
     "name": "stdout",
     "output_type": "stream",
     "text": [
      "m:  [1 2 3 4 5]\n",
      "n:  [3 4 5 6 7]\n",
      "Union:  [1 2 3 4 5 6 7]\n",
      "Intersect:  [3 4 5]\n",
      "difference m - n:  [1 2]\n",
      "difference n - m:  [6 7]\n",
      "XOR:  [1 2 6 7]\n"
     ]
    }
   ],
   "execution_count": 67
  },
  {
   "metadata": {
    "ExecuteTime": {
     "end_time": "2024-09-26T23:33:52.738709Z",
     "start_time": "2024-09-26T23:33:52.733208Z"
    }
   },
   "cell_type": "code",
   "source": [
    "m = np.array([1, 2, 3, 4, 5])\n",
    "n = np.array([3, 4, 5, 6, 7])\n",
    "print(\"m: \", m)\n",
    "print(\"n: \", n)\n",
    "\n",
    "# membership operator\n",
    "print(\"\", np.in1d(m, n))\n",
    "m[np.in1d(m, n)]"
   ],
   "outputs": [
    {
     "name": "stdout",
     "output_type": "stream",
     "text": [
      "m:  [1 2 3 4 5]\n",
      "n:  [3 4 5 6 7]\n",
      " [False False  True  True  True]\n"
     ]
    },
    {
     "data": {
      "text/plain": [
       "array([3, 4, 5])"
      ]
     },
     "execution_count": 66,
     "metadata": {},
     "output_type": "execute_result"
    }
   ],
   "execution_count": 66
  },
  {
   "cell_type": "markdown",
   "source": [
    "### np.clip\n",
    "\n",
    "numpy.clip() function is used to Clip (limit) the values in an array.\n",
    "\n",
    "https://numpy.org/doc/stable/reference/generated/numpy.clip.html"
   ],
   "metadata": {
    "id": "uLxS7H2pr-rh"
   }
  },
  {
   "metadata": {
    "ExecuteTime": {
     "end_time": "2024-09-26T23:36:22.590427Z",
     "start_time": "2024-09-26T23:36:22.585885Z"
    }
   },
   "cell_type": "code",
   "source": [
    "# It restricts the numpy in a given range\n",
    "# If they are below or above a certain range, it changes them to min and max mentioned respectively\n",
    "print(a)\n",
    "print()\n",
    "np.clip(a, a_min=25, a_max=75)"
   ],
   "outputs": [
    {
     "name": "stdout",
     "output_type": "stream",
     "text": [
      "[110 530   6  26  60  24  75  54  76  67  32  64  86  25  95]\n",
      "\n"
     ]
    },
    {
     "data": {
      "text/plain": [
       "array([75, 75, 25, 26, 60, 25, 75, 54, 75, 67, 32, 64, 75, 25, 75])"
      ]
     },
     "execution_count": 70,
     "metadata": {},
     "output_type": "execute_result"
    }
   ],
   "execution_count": 70
  },
  {
   "cell_type": "code",
   "source": [
    "# 21. np.tile\n",
    "# https://www.kaggle.com/code/abhayparashar31/best-numpy-functions-for-data-science-50?scriptVersionId=98816580"
   ],
   "metadata": {
    "id": "Qy0-pdlOK9tC",
    "ExecuteTime": {
     "end_time": "2024-09-26T22:59:02.804924Z",
     "start_time": "2024-09-26T22:59:02.801883Z"
    }
   },
   "outputs": [],
   "execution_count": 31
  },
  {
   "metadata": {
    "ExecuteTime": {
     "end_time": "2024-09-26T22:59:02.827079Z",
     "start_time": "2024-09-26T22:59:02.824696Z"
    }
   },
   "cell_type": "code",
   "source": "",
   "outputs": [],
   "execution_count": 31
  },
  {
   "cell_type": "code",
   "source": [
    "# 22. np.repeat\n",
    "# https://towardsdatascience.com/10-numpy-functions-you-should-know-1dc4863764c5"
   ],
   "metadata": {
    "id": "5DAEz6cbIdga",
    "ExecuteTime": {
     "end_time": "2024-09-26T22:59:02.841882Z",
     "start_time": "2024-09-26T22:59:02.839614Z"
    }
   },
   "outputs": [],
   "execution_count": 32
  },
  {
   "cell_type": "code",
   "source": [
    "\n",
    "# 25. np.allclose and equals"
   ],
   "metadata": {
    "id": "DdLxDfsMNfz8",
    "ExecuteTime": {
     "end_time": "2024-09-26T22:59:02.854775Z",
     "start_time": "2024-09-26T22:59:02.851889Z"
    }
   },
   "outputs": [],
   "execution_count": 33
  },
  {
   "cell_type": "code",
   "source": [],
   "metadata": {
    "id": "IYClnmitOqTl",
    "ExecuteTime": {
     "end_time": "2024-09-26T22:59:02.868303Z",
     "start_time": "2024-09-26T22:59:02.865783Z"
    }
   },
   "outputs": [],
   "execution_count": 33
  },
  {
   "cell_type": "code",
   "source": [],
   "metadata": {
    "id": "nWJdTlHCoQip",
    "ExecuteTime": {
     "end_time": "2024-09-26T22:59:02.881367Z",
     "start_time": "2024-09-26T22:59:02.879308Z"
    }
   },
   "outputs": [],
   "execution_count": 33
  },
  {
   "cell_type": "code",
   "source": [],
   "metadata": {
    "id": "KEkjJ5_owXc_",
    "ExecuteTime": {
     "end_time": "2024-09-26T22:59:02.893708Z",
     "start_time": "2024-09-26T22:59:02.891374Z"
    }
   },
   "outputs": [],
   "execution_count": 33
  },
  {
   "cell_type": "code",
   "source": [],
   "metadata": {
    "id": "veZNJm8xB4D_",
    "ExecuteTime": {
     "end_time": "2024-09-26T22:59:02.901205Z",
     "start_time": "2024-09-26T22:59:02.898714Z"
    }
   },
   "outputs": [],
   "execution_count": 33
  },
  {
   "cell_type": "code",
   "source": [],
   "metadata": {
    "id": "iNBbQiDeNnZm",
    "ExecuteTime": {
     "end_time": "2024-09-26T22:59:02.914140Z",
     "start_time": "2024-09-26T22:59:02.912221Z"
    }
   },
   "outputs": [],
   "execution_count": 33
  },
  {
   "cell_type": "code",
   "source": [],
   "metadata": {
    "id": "B9F5ogZENohK",
    "ExecuteTime": {
     "end_time": "2024-09-26T22:59:02.934311Z",
     "start_time": "2024-09-26T22:59:02.932182Z"
    }
   },
   "outputs": [],
   "execution_count": 33
  }
 ]
}
