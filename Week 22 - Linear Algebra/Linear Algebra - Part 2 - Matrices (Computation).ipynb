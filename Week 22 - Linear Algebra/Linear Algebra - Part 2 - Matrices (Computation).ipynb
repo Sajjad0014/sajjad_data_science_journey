{
 "cells": [
  {
   "cell_type": "code",
   "id": "initial_id",
   "metadata": {
    "collapsed": true,
    "ExecuteTime": {
     "end_time": "2024-12-25T19:58:41.211795Z",
     "start_time": "2024-12-25T19:58:40.714212Z"
    }
   },
   "source": "import numpy as np",
   "outputs": [],
   "execution_count": 1
  },
  {
   "metadata": {
    "ExecuteTime": {
     "end_time": "2024-12-25T19:59:42.639196Z",
     "start_time": "2024-12-25T19:59:42.634993Z"
    }
   },
   "cell_type": "code",
   "source": [
    "A = np.array([[1, 3, 4], [6, 4, 1], [2, 2, 2]])\n",
    "B = np.array([5, 16, 4])\n",
    "\n",
    "print(A)\n",
    "print(B)"
   ],
   "id": "2aaf5922f45710a1",
   "outputs": [
    {
     "name": "stdout",
     "output_type": "stream",
     "text": [
      "[[1 3 4]\n",
      " [6 4 1]\n",
      " [2 2 2]]\n",
      "[ 5 16  4]\n"
     ]
    }
   ],
   "execution_count": 2
  },
  {
   "metadata": {
    "ExecuteTime": {
     "end_time": "2024-12-25T20:00:11.559704Z",
     "start_time": "2024-12-25T20:00:11.553668Z"
    }
   },
   "cell_type": "code",
   "source": [
    "A_inverse = np.linalg.inv(A)\n",
    "A_inverse"
   ],
   "id": "acbeee266f04e8c9",
   "outputs": [
    {
     "data": {
      "text/plain": [
       "array([[-0.75 , -0.25 ,  1.625],\n",
       "       [ 1.25 ,  0.75 , -2.875],\n",
       "       [-0.5  , -0.5  ,  1.75 ]])"
      ]
     },
     "execution_count": 3,
     "metadata": {},
     "output_type": "execute_result"
    }
   ],
   "execution_count": 3
  },
  {
   "metadata": {
    "ExecuteTime": {
     "end_time": "2024-12-25T20:00:24.052666Z",
     "start_time": "2024-12-25T20:00:24.048783Z"
    }
   },
   "cell_type": "code",
   "source": "np.dot(A_inverse, B)",
   "id": "a81485ab3acdf13",
   "outputs": [
    {
     "data": {
      "text/plain": [
       "array([-1.25,  6.75, -3.5 ])"
      ]
     },
     "execution_count": 4,
     "metadata": {},
     "output_type": "execute_result"
    }
   ],
   "execution_count": 4
  },
  {
   "metadata": {},
   "cell_type": "code",
   "outputs": [],
   "execution_count": null,
   "source": "",
   "id": "edf613eee054fb93"
  }
 ],
 "metadata": {
  "kernelspec": {
   "display_name": "Python 3",
   "language": "python",
   "name": "python3"
  },
  "language_info": {
   "codemirror_mode": {
    "name": "ipython",
    "version": 2
   },
   "file_extension": ".py",
   "mimetype": "text/x-python",
   "name": "python",
   "nbconvert_exporter": "python",
   "pygments_lexer": "ipython2",
   "version": "2.7.6"
  }
 },
 "nbformat": 4,
 "nbformat_minor": 5
}
