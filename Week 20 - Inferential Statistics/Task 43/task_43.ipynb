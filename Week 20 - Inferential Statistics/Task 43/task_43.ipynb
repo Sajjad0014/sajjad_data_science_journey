{
 "nbformat": 4,
 "nbformat_minor": 0,
 "metadata": {
  "colab": {
   "provenance": []
  },
  "kernelspec": {
   "name": "python3",
   "display_name": "Python 3 (ipykernel)",
   "language": "python"
  },
  "language_info": {
   "name": "python"
  }
 },
 "cells": [
  {
   "cell_type": "code",
   "execution_count": null,
   "metadata": {
    "id": "DPv5xek6h83n"
   },
   "outputs": [],
   "source": []
  },
  {
   "cell_type": "markdown",
   "source": [
    "\n",
    "1. A company claims that their email marketing campaign has a 15% click-through rate. If you randomly select 100 people to receive the email, what is the probability that exactly 20 will click through to the website?\n",
    "2. A researcher is investigating whether a new medication improves patient outcomes. The medication has a success rate of 75%. If the researcher enrolls 50 patients in the study, what is the probability that fewer than 35 will have a positive outcome?\n",
    "\n",
    "3. A website offers a premium subscription service with a 20% sign-up rate. If you randomly select 500 visitors to the website, what is the probability that between 90 and 110 will sign up for the premium service?\n",
    "\n",
    "4. A school district is investigating the effectiveness of a new reading program. The program has a success rate of 70%. If the district enrolls 200 students in the program, what is the probability that more than 140 will show significant improvement in reading skills?\n",
    "\n",
    "\n",
    "5. A factory produces electronic components with a defect rate of 5%. If a shipment of 200 components is sent out, what is the probability that fewer than 10 will be defective?\n",
    "\n",
    "6. A survey shows that 70% of people prefer chocolate ice cream over vanilla ice cream. If you randomly survey one person, what is the probability that they prefer vanilla ice cream?\n",
    "\n",
    "\n",
    "7. A software company releases a new product with a bug rate of 2%. If 10,000 copies of the product are sold, what is the probability that at least 250 will have a bug?\n",
    "\n",
    "8. According to data from the National Center for Health Statistics (NCHS), the average height for adult men aged 20 years and over in the United States is approximately 69.2 inches with a standard deviation of approximately 2.9 inches. If you randomly select a sample of 50 adult men aged 20 years and over, what is the probability that the sample mean height is greater than 70 inches?\n",
    "\n",
    "\n",
    "Central Limit Theorem:\n",
    "9. A company claims that the average salary of its employees is 75,000 with a standard deviation of 10,000. If you randomly select 100 employees, what is the probability that the sample mean salary is less than 72,500?\n",
    "\n",
    "10. A restaurant claims that the average wait time for a table is 15 minutes with a standard deviation of 3 minutes. If you randomly survey 50 customers, what is the probability that the sample mean wait time is greater than 16 minutes?\n",
    "Bernoulli Distribution:\n"
   ],
   "metadata": {
    "id": "iGYPlZi3iATZ"
   }
  },
  {
   "metadata": {},
   "cell_type": "markdown",
   "source": "### Solution 1"
  },
  {
   "metadata": {},
   "cell_type": "markdown",
   "source": "1. 0.04"
  },
  {
   "metadata": {
    "ExecuteTime": {
     "end_time": "2024-12-10T18:27:26.366777Z",
     "start_time": "2024-12-10T18:27:26.362403Z"
    }
   },
   "cell_type": "code",
   "source": [
    "import numpy as np\n",
    "from scipy.stats import binom\n",
    "from scipy.special import comb"
   ],
   "outputs": [],
   "execution_count": 1
  },
  {
   "metadata": {
    "ExecuteTime": {
     "end_time": "2024-12-10T18:28:00.358914Z",
     "start_time": "2024-12-10T18:28:00.354574Z"
    }
   },
   "cell_type": "code",
   "source": [
    "n = 100\n",
    "p = 0.15\n",
    "k = 20\n",
    "\n",
    "prob = binom.pmf(k, n, p)\n",
    "print(prob)"
   ],
   "outputs": [
    {
     "name": "stdout",
     "output_type": "stream",
     "text": [
      "0.04022449066141772\n"
     ]
    }
   ],
   "execution_count": 2
  },
  {
   "metadata": {
    "ExecuteTime": {
     "end_time": "2024-12-10T18:28:45.268627Z",
     "start_time": "2024-12-10T18:28:45.265554Z"
    }
   },
   "cell_type": "code",
   "source": [
    "result = comb(n, k, exact=True) * ((p) ** k) * (1 - p) ** (n - k)\n",
    "print(result)"
   ],
   "outputs": [
    {
     "name": "stdout",
     "output_type": "stream",
     "text": [
      "0.04022449066141756\n"
     ]
    }
   ],
   "execution_count": 3
  },
  {
   "metadata": {},
   "cell_type": "markdown",
   "source": "## Solution 2 "
  },
  {
   "metadata": {
    "ExecuteTime": {
     "end_time": "2024-12-10T18:32:11.360692Z",
     "start_time": "2024-12-10T18:32:11.358554Z"
    }
   },
   "cell_type": "code",
   "source": [
    "from scipy.stats import binom\n",
    "from scipy.special import comb"
   ],
   "outputs": [],
   "execution_count": 7
  },
  {
   "metadata": {
    "ExecuteTime": {
     "end_time": "2024-12-10T18:33:43.611924Z",
     "start_time": "2024-12-10T18:33:43.607124Z"
    }
   },
   "cell_type": "code",
   "source": [
    "n = 50\n",
    "k = 34\n",
    "p = 0.75\n",
    "\n",
    "prob = binom.cdf(k, n, p)\n",
    "print(prob)"
   ],
   "outputs": [
    {
     "name": "stdout",
     "output_type": "stream",
     "text": [
      "0.16308327146260387\n"
     ]
    }
   ],
   "execution_count": 12
  },
  {
   "metadata": {
    "ExecuteTime": {
     "end_time": "2024-12-10T18:33:21.950245Z",
     "start_time": "2024-12-10T18:33:21.946826Z"
    }
   },
   "cell_type": "code",
   "source": [
    "# P(X ≤ k) = ∑[i=0 to k] (n choose i) * p^i * (1-p)^(n-i)\n",
    "result = 0\n",
    "for i in range(k + 1):\n",
    "    result += comb(n, i, exact=True) * ((p) ** i) * (1 - p) ** (n - i)\n",
    "print(result)"
   ],
   "outputs": [
    {
     "name": "stdout",
     "output_type": "stream",
     "text": [
      "0.16308327146260382\n"
     ]
    }
   ],
   "execution_count": 9
  },
  {
   "metadata": {},
   "cell_type": "markdown",
   "source": "## Solution 3"
  },
  {
   "metadata": {
    "ExecuteTime": {
     "end_time": "2024-12-10T18:34:35.107665Z",
     "start_time": "2024-12-10T18:34:35.105077Z"
    }
   },
   "cell_type": "code",
   "source": [
    "from scipy.stats import binom\n",
    "from scipy.special import comb"
   ],
   "outputs": [],
   "execution_count": 13
  },
  {
   "metadata": {
    "ExecuteTime": {
     "end_time": "2024-12-10T18:42:47.108228Z",
     "start_time": "2024-12-10T18:42:47.104573Z"
    }
   },
   "cell_type": "code",
   "source": [
    "n = 500\n",
    "p = 0.2\n",
    "k1 = 90\n",
    "k2 = 110\n",
    "\n",
    "prob1 = binom.cdf(k1, n, p)\n",
    "print(prob1)\n",
    "\n",
    "prob2 = binom.cdf(k2, n, p)\n",
    "print(prob2)\n",
    "\n",
    "print(f'{prob2 - prob1: .4f}')"
   ],
   "outputs": [
    {
     "name": "stdout",
     "output_type": "stream",
     "text": [
      "0.14370275136273963\n",
      "0.879024863762046\n",
      " 0.7353\n"
     ]
    }
   ],
   "execution_count": 23
  },
  {
   "metadata": {
    "ExecuteTime": {
     "end_time": "2024-12-10T18:42:25.691217Z",
     "start_time": "2024-12-10T18:42:25.684717Z"
    }
   },
   "cell_type": "code",
   "source": [
    "def pxeqlessthank(k, n, p):\n",
    "    result = 0\n",
    "    for i in range(k + 1):\n",
    "        result += comb(n, i, exact=True) * (p ** i) * (1 - p) ** (n - i)\n",
    "    return result\n",
    "\n",
    "\n",
    "print(pxeqlessthank(k2, n, p) - pxeqlessthank(k1 - 1, n, p))"
   ],
   "outputs": [
    {
     "name": "stdout",
     "output_type": "stream",
     "text": [
      "0.7597481607851779\n"
     ]
    }
   ],
   "execution_count": 22
  },
  {
   "metadata": {},
   "cell_type": "markdown",
   "source": "## Solution 4"
  },
  {
   "metadata": {
    "ExecuteTime": {
     "end_time": "2024-12-10T18:49:30.974736Z",
     "start_time": "2024-12-10T18:49:30.971069Z"
    }
   },
   "cell_type": "code",
   "source": [
    "from scipy.stats import binom\n",
    "from scipy.special import comb\n",
    "\n",
    "n = 200\n",
    "p = 0.7\n",
    "k = 141\n",
    "\n",
    "prob = 1 - binom.cdf(k, n, p)\n",
    "print(prob)"
   ],
   "outputs": [
    {
     "name": "stdout",
     "output_type": "stream",
     "text": [
      "0.41232164127183135\n"
     ]
    }
   ],
   "execution_count": 27
  },
  {
   "metadata": {
    "ExecuteTime": {
     "end_time": "2024-12-10T18:50:14.066459Z",
     "start_time": "2024-12-10T18:50:14.061811Z"
    }
   },
   "cell_type": "code",
   "source": [
    "result = 0\n",
    "for i in range(k + 1):\n",
    "    result += comb(n, i, exact=True) * (p ** i) * (1 - p) ** (n - i)\n",
    "\n",
    "print(1 - result)"
   ],
   "outputs": [
    {
     "name": "stdout",
     "output_type": "stream",
     "text": [
      "0.4123216412718319\n"
     ]
    }
   ],
   "execution_count": 31
  },
  {
   "metadata": {},
   "cell_type": "markdown",
   "source": "## Solution 5"
  },
  {
   "metadata": {
    "ExecuteTime": {
     "end_time": "2024-12-10T18:58:01.078919Z",
     "start_time": "2024-12-10T18:58:01.074940Z"
    }
   },
   "cell_type": "code",
   "source": [
    "p = 0.05\n",
    "n = 200\n",
    "k = 9\n",
    "\n",
    "prob = binom.cdf(k, n, p)\n",
    "print(prob)"
   ],
   "outputs": [
    {
     "name": "stdout",
     "output_type": "stream",
     "text": [
      "0.4547098086808191\n"
     ]
    }
   ],
   "execution_count": 32
  },
  {
   "metadata": {},
   "cell_type": "markdown",
   "source": "## Solution 7"
  },
  {
   "metadata": {
    "ExecuteTime": {
     "end_time": "2024-12-10T19:05:33.430968Z",
     "start_time": "2024-12-10T19:05:33.426902Z"
    }
   },
   "cell_type": "code",
   "source": [
    "n = 10000\n",
    "p = 0.02\n",
    "k = 250\n",
    "\n",
    "print(1 - binom.cdf(k - 1, n, p))"
   ],
   "outputs": [
    {
     "name": "stdout",
     "output_type": "stream",
     "text": [
      "0.00031671833727753285\n"
     ]
    }
   ],
   "execution_count": 37
  },
  {
   "metadata": {},
   "cell_type": "markdown",
   "source": "## Solution 8"
  },
  {
   "metadata": {
    "ExecuteTime": {
     "end_time": "2024-12-10T19:21:54.619945Z",
     "start_time": "2024-12-10T19:21:54.615209Z"
    }
   },
   "cell_type": "code",
   "source": [
    "from scipy.stats import norm\n",
    "\n",
    "mu = 69.2\n",
    "sigma = 2.9\n",
    "n = 50\n",
    "x = 70\n",
    "\n",
    "z = (x - mu) / (sigma / (n ** 0.5))\n",
    "print(z)"
   ],
   "outputs": [
    {
     "name": "stdout",
     "output_type": "stream",
     "text": [
      "1.950639396376676\n"
     ]
    }
   ],
   "execution_count": 38
  },
  {
   "metadata": {
    "ExecuteTime": {
     "end_time": "2024-12-10T19:22:15.101748Z",
     "start_time": "2024-12-10T19:22:15.097149Z"
    }
   },
   "cell_type": "code",
   "source": [
    "prob = 1 - norm.cdf(z)\n",
    "prob"
   ],
   "outputs": [
    {
     "data": {
      "text/plain": [
       "0.025549978630102443"
      ]
     },
     "execution_count": 39,
     "metadata": {},
     "output_type": "execute_result"
    }
   ],
   "execution_count": 39
  },
  {
   "metadata": {},
   "cell_type": "markdown",
   "source": "## Solution 9"
  },
  {
   "metadata": {
    "ExecuteTime": {
     "end_time": "2024-12-10T19:28:02.415526Z",
     "start_time": "2024-12-10T19:28:02.410964Z"
    }
   },
   "cell_type": "code",
   "source": [
    "# pop_mean\n",
    "mu = 75000\n",
    "sigma = 10000\n",
    "\n",
    "n = 100\n",
    "x = 72500\n",
    "# P(X < 72500)\n",
    "\n",
    "z = (x - mu) / (sigma / n ** 0.5)\n",
    "z"
   ],
   "outputs": [
    {
     "data": {
      "text/plain": [
       "-2.5"
      ]
     },
     "execution_count": 41,
     "metadata": {},
     "output_type": "execute_result"
    }
   ],
   "execution_count": 41
  },
  {
   "metadata": {
    "ExecuteTime": {
     "end_time": "2024-12-10T19:28:40.233716Z",
     "start_time": "2024-12-10T19:28:40.229618Z"
    }
   },
   "cell_type": "code",
   "source": [
    "prob = norm.cdf(z)\n",
    "prob"
   ],
   "outputs": [
    {
     "data": {
      "text/plain": [
       "0.006209665325776132"
      ]
     },
     "execution_count": 42,
     "metadata": {},
     "output_type": "execute_result"
    }
   ],
   "execution_count": 42
  },
  {
   "metadata": {},
   "cell_type": "markdown",
   "source": "## Solution 10"
  },
  {
   "metadata": {
    "ExecuteTime": {
     "end_time": "2024-12-10T19:33:05.706590Z",
     "start_time": "2024-12-10T19:33:05.701241Z"
    }
   },
   "cell_type": "code",
   "source": [
    "mu = 15\n",
    "sigma = 3\n",
    "\n",
    "x = 16\n",
    "n = 50\n",
    "\n",
    "z = (x - mu) / (sigma / (n ** 0.5))\n",
    "z"
   ],
   "outputs": [
    {
     "data": {
      "text/plain": [
       "2.3570226039551585"
      ]
     },
     "execution_count": 44,
     "metadata": {},
     "output_type": "execute_result"
    }
   ],
   "execution_count": 44
  },
  {
   "metadata": {
    "ExecuteTime": {
     "end_time": "2024-12-10T19:33:35.776767Z",
     "start_time": "2024-12-10T19:33:35.772119Z"
    }
   },
   "cell_type": "code",
   "source": [
    "from scipy.stats import norm\n",
    "\n",
    "1 - norm.cdf(z)"
   ],
   "outputs": [
    {
     "data": {
      "text/plain": [
       "0.009211062727049524"
      ]
     },
     "execution_count": 46,
     "metadata": {},
     "output_type": "execute_result"
    }
   ],
   "execution_count": 46
  },
  {
   "metadata": {},
   "cell_type": "markdown",
   "source": "## Solution 11"
  },
  {
   "metadata": {
    "ExecuteTime": {
     "end_time": "2024-12-10T19:37:49.752602Z",
     "start_time": "2024-12-10T19:37:49.742914Z"
    }
   },
   "cell_type": "code",
   "source": [
    "import pandas as pd\n",
    "\n",
    "df = pd.read_csv('ds_salaries.csv')\n",
    "print(df.shape)\n",
    "df.head()"
   ],
   "outputs": [
    {
     "name": "stdout",
     "output_type": "stream",
     "text": [
      "(607, 12)\n"
     ]
    },
    {
     "data": {
      "text/plain": [
       "   Unnamed: 0  work_year experience_level employment_type  \\\n",
       "0           0       2020               MI              FT   \n",
       "1           1       2020               SE              FT   \n",
       "2           2       2020               SE              FT   \n",
       "3           3       2020               MI              FT   \n",
       "4           4       2020               SE              FT   \n",
       "\n",
       "                    job_title  salary salary_currency  salary_in_usd  \\\n",
       "0              Data Scientist   70000             EUR          79833   \n",
       "1  Machine Learning Scientist  260000             USD         260000   \n",
       "2           Big Data Engineer   85000             GBP         109024   \n",
       "3        Product Data Analyst   20000             USD          20000   \n",
       "4   Machine Learning Engineer  150000             USD         150000   \n",
       "\n",
       "  employee_residence  remote_ratio company_location company_size  \n",
       "0                 DE             0               DE            L  \n",
       "1                 JP             0               JP            S  \n",
       "2                 GB            50               GB            M  \n",
       "3                 HN             0               HN            S  \n",
       "4                 US            50               US            L  "
      ],
      "text/html": [
       "<div>\n",
       "<style scoped>\n",
       "    .dataframe tbody tr th:only-of-type {\n",
       "        vertical-align: middle;\n",
       "    }\n",
       "\n",
       "    .dataframe tbody tr th {\n",
       "        vertical-align: top;\n",
       "    }\n",
       "\n",
       "    .dataframe thead th {\n",
       "        text-align: right;\n",
       "    }\n",
       "</style>\n",
       "<table border=\"1\" class=\"dataframe\">\n",
       "  <thead>\n",
       "    <tr style=\"text-align: right;\">\n",
       "      <th></th>\n",
       "      <th>Unnamed: 0</th>\n",
       "      <th>work_year</th>\n",
       "      <th>experience_level</th>\n",
       "      <th>employment_type</th>\n",
       "      <th>job_title</th>\n",
       "      <th>salary</th>\n",
       "      <th>salary_currency</th>\n",
       "      <th>salary_in_usd</th>\n",
       "      <th>employee_residence</th>\n",
       "      <th>remote_ratio</th>\n",
       "      <th>company_location</th>\n",
       "      <th>company_size</th>\n",
       "    </tr>\n",
       "  </thead>\n",
       "  <tbody>\n",
       "    <tr>\n",
       "      <th>0</th>\n",
       "      <td>0</td>\n",
       "      <td>2020</td>\n",
       "      <td>MI</td>\n",
       "      <td>FT</td>\n",
       "      <td>Data Scientist</td>\n",
       "      <td>70000</td>\n",
       "      <td>EUR</td>\n",
       "      <td>79833</td>\n",
       "      <td>DE</td>\n",
       "      <td>0</td>\n",
       "      <td>DE</td>\n",
       "      <td>L</td>\n",
       "    </tr>\n",
       "    <tr>\n",
       "      <th>1</th>\n",
       "      <td>1</td>\n",
       "      <td>2020</td>\n",
       "      <td>SE</td>\n",
       "      <td>FT</td>\n",
       "      <td>Machine Learning Scientist</td>\n",
       "      <td>260000</td>\n",
       "      <td>USD</td>\n",
       "      <td>260000</td>\n",
       "      <td>JP</td>\n",
       "      <td>0</td>\n",
       "      <td>JP</td>\n",
       "      <td>S</td>\n",
       "    </tr>\n",
       "    <tr>\n",
       "      <th>2</th>\n",
       "      <td>2</td>\n",
       "      <td>2020</td>\n",
       "      <td>SE</td>\n",
       "      <td>FT</td>\n",
       "      <td>Big Data Engineer</td>\n",
       "      <td>85000</td>\n",
       "      <td>GBP</td>\n",
       "      <td>109024</td>\n",
       "      <td>GB</td>\n",
       "      <td>50</td>\n",
       "      <td>GB</td>\n",
       "      <td>M</td>\n",
       "    </tr>\n",
       "    <tr>\n",
       "      <th>3</th>\n",
       "      <td>3</td>\n",
       "      <td>2020</td>\n",
       "      <td>MI</td>\n",
       "      <td>FT</td>\n",
       "      <td>Product Data Analyst</td>\n",
       "      <td>20000</td>\n",
       "      <td>USD</td>\n",
       "      <td>20000</td>\n",
       "      <td>HN</td>\n",
       "      <td>0</td>\n",
       "      <td>HN</td>\n",
       "      <td>S</td>\n",
       "    </tr>\n",
       "    <tr>\n",
       "      <th>4</th>\n",
       "      <td>4</td>\n",
       "      <td>2020</td>\n",
       "      <td>SE</td>\n",
       "      <td>FT</td>\n",
       "      <td>Machine Learning Engineer</td>\n",
       "      <td>150000</td>\n",
       "      <td>USD</td>\n",
       "      <td>150000</td>\n",
       "      <td>US</td>\n",
       "      <td>50</td>\n",
       "      <td>US</td>\n",
       "      <td>L</td>\n",
       "    </tr>\n",
       "  </tbody>\n",
       "</table>\n",
       "</div>"
      ]
     },
     "execution_count": 49,
     "metadata": {},
     "output_type": "execute_result"
    }
   ],
   "execution_count": 49
  },
  {
   "metadata": {
    "ExecuteTime": {
     "end_time": "2024-12-10T19:41:24.234880Z",
     "start_time": "2024-12-10T19:41:24.230152Z"
    }
   },
   "cell_type": "code",
   "source": [
    "print(f'The average salary: {df[\"salary_in_usd\"].mean()}')\n",
    "print(f'The std dev salary: {df[\"salary_in_usd\"].std()}')"
   ],
   "outputs": [
    {
     "name": "stdout",
     "output_type": "stream",
     "text": [
      "The average salary: 112297.86985172982\n",
      "The std dev salary: 70957.25941139569\n"
     ]
    }
   ],
   "execution_count": 55
  },
  {
   "metadata": {
    "ExecuteTime": {
     "end_time": "2024-12-10T19:41:29.913297Z",
     "start_time": "2024-12-10T19:41:29.653567Z"
    }
   },
   "cell_type": "code",
   "source": "df['salary_in_usd'].plot(kind='hist')",
   "outputs": [
    {
     "data": {
      "text/plain": [
       "<Axes: ylabel='Frequency'>"
      ]
     },
     "execution_count": 56,
     "metadata": {},
     "output_type": "execute_result"
    },
    {
     "data": {
      "text/plain": [
       "<Figure size 640x480 with 1 Axes>"
      ],
      "image/png": "[encoded data removed]"
     },
     "metadata": {},
     "output_type": "display_data"
    }
   ],
   "execution_count": 56
  },
  {
   "metadata": {
    "ExecuteTime": {
     "end_time": "2024-12-10T19:41:39.442215Z",
     "start_time": "2024-12-10T19:41:39.162591Z"
    }
   },
   "cell_type": "code",
   "source": [
    "import seaborn as sns\n",
    "sns.displot(df, kind='hist', kde=True, x='salary_in_usd')"
   ],
   "outputs": [
    {
     "data": {
      "text/plain": [
       "<seaborn.axisgrid.FacetGrid at 0x23fc406f710>"
      ]
     },
     "execution_count": 57,
     "metadata": {},
     "output_type": "execute_result"
    },
    {
     "data": {
      "text/plain": [
       "<Figure size 500x500 with 1 Axes>"
      ],
      "image/png": "[encoded data removed]"
     },
     "metadata": {},
     "output_type": "display_data"
    }
   ],
   "execution_count": 57
  },
  {
   "metadata": {
    "ExecuteTime": {
     "end_time": "2024-12-10T19:41:44.870373Z",
     "start_time": "2024-12-10T19:41:44.686158Z"
    }
   },
   "cell_type": "code",
   "source": "sns.displot(df, kind='kde', x='salary_in_usd')",
   "outputs": [
    {
     "data": {
      "text/plain": [
       "<seaborn.axisgrid.FacetGrid at 0x23fc9d793a0>"
      ]
     },
     "execution_count": 58,
     "metadata": {},
     "output_type": "execute_result"
    },
    {
     "data": {
      "text/plain": [
       "<Figure size 500x500 with 1 Axes>"
      ],
      "image/png": "[encoded data removed]"
     },
     "metadata": {},
     "output_type": "display_data"
    }
   ],
   "execution_count": 58
  },
  {
   "metadata": {
    "ExecuteTime": {
     "end_time": "2024-12-10T19:52:31.906213Z",
     "start_time": "2024-12-10T19:52:31.470624Z"
    }
   },
   "cell_type": "code",
   "source": [
    "import matplotlib.pyplot as plt\n",
    "\n",
    "sample_sizes = [30, 50]\n",
    "bin_count = 25\n",
    "total_samples = [200, 100]\n",
    "\n",
    "for sample_size, total_sample in zip(sample_sizes, total_samples):\n",
    "    # An empty list to store means of collected samples\n",
    "    list_of_sample_means = []\n",
    "    \n",
    "    for i in range(total_sample):\n",
    "        sample = df['salary_in_usd'].sample(n = sample_size, replace=True)\n",
    "        sample_mean = sample.mean()\n",
    "        list_of_sample_means.append(sample_mean)\n",
    "    \n",
    "    plt.hist(list_of_sample_means, bins=bin_count)\n",
    "    plt.title(f\"Distribution of Mean Salaries ({total_sample} Samples of {sample_size}).\")\n",
    "    plt.xlabel('Salary')\n",
    "    plt.ylabel(\"Frequency\")\n",
    "    \n",
    "    plt.axvline(x=np.mean(list_of_sample_means), label='Sample Mean', color='green')\n",
    "    plt.axvline(x=df['salary_in_usd'].mean(), label='Population Mean', color='red')\n",
    "    plt.legend(loc='upper right')\n",
    "    plt.show()"
   ],
   "outputs": [
    {
     "data": {
      "text/plain": [
       "<Figure size 640x480 with 1 Axes>"
      ],
      "image/png": "[encoded data removed]"
     },
     "metadata": {},
     "output_type": "display_data"
    },
    {
     "data": {
      "text/plain": [
       "<Figure size 640x480 with 1 Axes>"
      ],
      "image/png": "[encoded data removed]"
     },
     "metadata": {},
     "output_type": "display_data"
    }
   ],
   "execution_count": 62
  },
  {
   "metadata": {},
   "cell_type": "code",
   "outputs": [],
   "execution_count": null,
   "source": ""
  }
 ]
}
