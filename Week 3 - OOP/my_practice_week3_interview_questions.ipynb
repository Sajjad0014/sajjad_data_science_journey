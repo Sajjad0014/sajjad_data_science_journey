{
 "nbformat": 4,
 "nbformat_minor": 0,
 "metadata": {
  "colab": {
   "provenance": []
  },
  "kernelspec": {
   "name": "python3",
   "display_name": "Python 3 (ipykernel)",
   "language": "python"
  },
  "language_info": {
   "name": "python"
  }
 },
 "cells": [
  {
   "cell_type": "markdown",
   "source": [
    "- How indexing works in sets\n",
    "- Why dict key cant be mutable data types\n",
    "- Enumerate\n",
    "- destructor\n",
    "- dir/isinstance/issubclass\n",
    "- classmethod vs staticmethod\n",
    "- The diamond problem\n",
    "- What’s the meaning of single and double underscores in Python variable and method names\n",
    "- Magic Methods (repr vs str)\n",
    "- How can objects be stored in sets even though they are mutable"
   ],
   "metadata": {
    "id": "8g7s0N6vQFNW"
   }
  },
  {
   "metadata": {},
   "cell_type": "markdown",
   "source": [
    "- How indexing works in sets\n",
    "\n",
    "It uses hashing because it always takes constant time when accessing the elements\n",
    "\n",
    "Similarly, for dictionary."
   ]
  },
  {
   "cell_type": "code",
   "source": [
    "s = {21, 34, 11, 56, 39}\n",
    "s"
   ],
   "metadata": {
    "colab": {
     "base_uri": "https://localhost:8080/"
    },
    "id": "4YADog27XRE_",
    "outputId": "e763b5c7-4eb1-4d6c-f847-97223c9b5f34",
    "ExecuteTime": {
     "end_time": "2024-09-09T18:58:48.871718Z",
     "start_time": "2024-09-09T18:58:48.868353Z"
    }
   },
   "outputs": [
    {
     "data": {
      "text/plain": [
       "{11, 21, 34, 39, 56}"
      ]
     },
     "execution_count": 3,
     "metadata": {},
     "output_type": "execute_result"
    }
   ],
   "execution_count": 3
  },
  {
   "metadata": {},
   "cell_type": "markdown",
   "source": "- Why dict key cant be mutable data types"
  },
  {
   "cell_type": "code",
   "source": [
    "d = {(1, 2, 3): 'nitish'}\n",
    "d"
   ],
   "metadata": {
    "colab": {
     "base_uri": "https://localhost:8080/"
    },
    "id": "v1SP9lAYcDns",
    "outputId": "1d72074e-0786-4606-f69f-b0e0bdfbf59f",
    "ExecuteTime": {
     "end_time": "2024-09-09T18:58:49.408238Z",
     "start_time": "2024-09-09T18:58:49.403405Z"
    }
   },
   "outputs": [
    {
     "data": {
      "text/plain": [
       "{(1, 2, 3): 'nitish'}"
      ]
     },
     "execution_count": 4,
     "metadata": {},
     "output_type": "execute_result"
    }
   ],
   "execution_count": 4
  },
  {
   "cell_type": "code",
   "source": [
    "d = {[1, 2, 3]: 'nitish'}\n",
    "d\n",
    "\n",
    "# The reason for this error is list is unhashable.\n",
    "# Because we can change the list, mutable. If we can change it then keys need to be changed again and again. \n",
    "# Python said baigan ku bolo, ye nakhre nai chalte "
   ],
   "metadata": {
    "colab": {
     "base_uri": "https://localhost:8080/",
     "height": 187
    },
    "id": "ZL2OZTZDcHv3",
    "outputId": "9cbc1da3-6f53-45d3-8153-b2409e2a08aa",
    "ExecuteTime": {
     "end_time": "2024-09-09T18:58:49.941164Z",
     "start_time": "2024-09-09T18:58:49.773963Z"
    }
   },
   "outputs": [
    {
     "ename": "TypeError",
     "evalue": "unhashable type: 'list'",
     "output_type": "error",
     "traceback": [
      "\u001B[1;31m---------------------------------------------------------------------------\u001B[0m",
      "\u001B[1;31mTypeError\u001B[0m                                 Traceback (most recent call last)",
      "Cell \u001B[1;32mIn[5], line 1\u001B[0m\n\u001B[1;32m----> 1\u001B[0m d \u001B[38;5;241m=\u001B[39m {[\u001B[38;5;241m1\u001B[39m, \u001B[38;5;241m2\u001B[39m, \u001B[38;5;241m3\u001B[39m]: \u001B[38;5;124m'\u001B[39m\u001B[38;5;124mnitish\u001B[39m\u001B[38;5;124m'\u001B[39m}\n\u001B[0;32m      2\u001B[0m d\n\u001B[0;32m      4\u001B[0m \u001B[38;5;66;03m# The reason for this error is list is unhashable.\u001B[39;00m\n\u001B[0;32m      5\u001B[0m \u001B[38;5;66;03m# Because we can change the list, mutable. If we can change it then keys need to be changed again and again. \u001B[39;00m\n\u001B[0;32m      6\u001B[0m \u001B[38;5;66;03m# Python said baigan ku bolo, ye nakhre nai chalte \u001B[39;00m\n",
      "\u001B[1;31mTypeError\u001B[0m: unhashable type: 'list'"
     ]
    }
   ],
   "execution_count": 5
  },
  {
   "metadata": {},
   "cell_type": "markdown",
   "source": "- Enumerate"
  },
  {
   "cell_type": "code",
   "source": [
    "# enumerate\n",
    "# The enumerate() method adds a counter to an iterable and returns it (the enumerate object).\n",
    "L = [('nitish', 45), ('Ankit', 31), ('saad', 36)]"
   ],
   "metadata": {
    "colab": {
     "base_uri": "https://localhost:8080/"
    },
    "id": "SNuZUS02QHgn",
    "outputId": "f4185458-09c5-43e4-da87-bbe52470bb38",
    "ExecuteTime": {
     "end_time": "2024-09-09T19:01:58.902400Z",
     "start_time": "2024-09-09T19:01:58.899545Z"
    }
   },
   "outputs": [],
   "execution_count": 10
  },
  {
   "metadata": {
    "ExecuteTime": {
     "end_time": "2024-09-09T19:00:40.322232Z",
     "start_time": "2024-09-09T19:00:40.318870Z"
    }
   },
   "cell_type": "code",
   "source": [
    "L = [15, 21, 13, 13, 45]\n",
    "print(list(enumerate(L)))\n",
    "print(list(enumerate(L, start=10)))"
   ],
   "outputs": [
    {
     "name": "stdout",
     "output_type": "stream",
     "text": [
      "[(0, 15), (1, 21), (2, 13), (3, 13), (4, 45)]\n",
      "[(10, 15), (11, 21), (12, 13), (13, 13), (14, 45)]\n"
     ]
    }
   ],
   "execution_count": 9
  },
  {
   "metadata": {
    "ExecuteTime": {
     "end_time": "2024-09-09T19:03:27.285607Z",
     "start_time": "2024-09-09T19:03:27.281962Z"
    }
   },
   "cell_type": "code",
   "source": [
    "# Arrange them on the basis of second item\n",
    "L = [('nitish', 45), ('Ankit', 31), ('saad', 36)]\n",
    "\n",
    "print(sorted(L, key=lambda x: x[1]))\n",
    "print(sorted(L, key=lambda x: x[1], reverse=True))"
   ],
   "outputs": [
    {
     "name": "stdout",
     "output_type": "stream",
     "text": [
      "[('Ankit', 31), ('saad', 36), ('nitish', 45)]\n",
      "[('nitish', 45), ('saad', 36), ('Ankit', 31)]\n"
     ]
    }
   ],
   "execution_count": 13
  },
  {
   "metadata": {
    "ExecuteTime": {
     "end_time": "2024-09-09T19:05:22.502747Z",
     "start_time": "2024-09-09T19:05:22.498709Z"
    }
   },
   "cell_type": "code",
   "source": [
    "L = [('nitish', 45, 4), ('Ankit', 31, 7), ('saad', 36, 3)]\n",
    "\n",
    "print(sorted(L, key=lambda x: x[1]))\n",
    "print(sorted(L, key=lambda x: x[1], reverse=True))\n",
    "print()\n",
    "print(sorted(L, key=lambda x: x[2]))\n",
    "print(sorted(L, key=lambda x: x[2], reverse=True))"
   ],
   "outputs": [
    {
     "name": "stdout",
     "output_type": "stream",
     "text": [
      "[('Ankit', 31, 7), ('saad', 36, 3), ('nitish', 45, 4)]\n",
      "[('nitish', 45, 4), ('saad', 36, 3), ('Ankit', 31, 7)]\n",
      "\n",
      "[('saad', 36, 3), ('nitish', 45, 4), ('Ankit', 31, 7)]\n",
      "[('Ankit', 31, 7), ('nitish', 45, 4), ('saad', 36, 3)]\n"
     ]
    }
   ],
   "execution_count": 16
  },
  {
   "metadata": {},
   "cell_type": "markdown",
   "source": "- destructor"
  },
  {
   "metadata": {
    "ExecuteTime": {
     "end_time": "2024-09-09T19:09:06.721535Z",
     "start_time": "2024-09-09T19:09:06.718503Z"
    }
   },
   "cell_type": "code",
   "source": [
    "# Destructor\n",
    "\n",
    "class Example:\n",
    "\n",
    "    def __init__(self):\n",
    "        print('Constructor called')\n",
    "\n",
    "    # Destructor\n",
    "    def __del__(self):\n",
    "        print('Destructor called')\n",
    "\n",
    "\n",
    "obj = Example()"
   ],
   "outputs": [
    {
     "name": "stdout",
     "output_type": "stream",
     "text": [
      "Constructor called\n"
     ]
    }
   ],
   "execution_count": 20
  },
  {
   "metadata": {
    "ExecuteTime": {
     "end_time": "2024-09-09T19:10:07.105856Z",
     "start_time": "2024-09-09T19:10:07.103365Z"
    }
   },
   "cell_type": "code",
   "source": [
    "del obj\n",
    "\n",
    "# Although we don't use this because the python has a garbage collector\n",
    "# BUT we can use it to disable the database connection if we have connected it\n",
    "# Close a file if we have opened it\n",
    "# If we are connected to internet or bluetooth, we can close it"
   ],
   "outputs": [
    {
     "name": "stdout",
     "output_type": "stream",
     "text": [
      "Destructor called\n"
     ]
    }
   ],
   "execution_count": 21
  },
  {
   "metadata": {
    "ExecuteTime": {
     "end_time": "2024-09-09T19:14:15.266022Z",
     "start_time": "2024-09-09T19:14:15.262391Z"
    }
   },
   "cell_type": "code",
   "source": [
    "obj = Example()\n",
    "a = obj\n",
    "b = a\n",
    "\n",
    "del obj\n",
    "del a\n",
    "print('Still the destructor is not being called')\n",
    "# NOTE - Every object reference which was created should be DELETED, then only the destructor is called"
   ],
   "outputs": [
    {
     "name": "stdout",
     "output_type": "stream",
     "text": [
      "Constructor called\n",
      "Still the destructor is not being called\n"
     ]
    }
   ],
   "execution_count": 23
  },
  {
   "metadata": {
    "ExecuteTime": {
     "end_time": "2024-09-09T19:14:19.645252Z",
     "start_time": "2024-09-09T19:14:19.641976Z"
    }
   },
   "cell_type": "code",
   "source": [
    "del b\n",
    "# NOW the destructor is called"
   ],
   "outputs": [
    {
     "name": "stdout",
     "output_type": "stream",
     "text": [
      "Destructor called\n"
     ]
    }
   ],
   "execution_count": 24
  },
  {
   "metadata": {},
   "cell_type": "markdown",
   "source": "- dir/isinstance/issubclass"
  },
  {
   "metadata": {
    "ExecuteTime": {
     "end_time": "2024-09-09T19:17:50.767382Z",
     "start_time": "2024-09-09T19:17:50.763119Z"
    }
   },
   "cell_type": "code",
   "source": [
    "# dir\n",
    "\n",
    "class Test:\n",
    "    def __init__(self):\n",
    "        self.foo = 11\n",
    "        self.__bar = 16\n",
    "        self.__baz = 12\n",
    "\n",
    "    def greet(self):\n",
    "        print('Hey')\n",
    "\n",
    "    def __buy(self):\n",
    "        print('Buy')\n",
    "\n",
    "\n",
    "t = Test()\n",
    "print(dir(t))\n",
    "# This will produce all the methods and variables present in that class\n",
    "\n",
    "# name mangling is when we create a private variable of private method, internally in the memory it is stored like _className__varName or _className__methodName"
   ],
   "outputs": [
    {
     "name": "stdout",
     "output_type": "stream",
     "text": [
      "['_Test__bar', '_Test__baz', '_Test__buy', '__class__', '__delattr__', '__dict__', '__dir__', '__doc__', '__eq__', '__format__', '__ge__', '__getattribute__', '__getstate__', '__gt__', '__hash__', '__init__', '__init_subclass__', '__le__', '__lt__', '__module__', '__ne__', '__new__', '__reduce__', '__reduce_ex__', '__repr__', '__setattr__', '__sizeof__', '__str__', '__subclasshook__', '__weakref__', 'foo', 'greet']\n"
     ]
    }
   ],
   "execution_count": 26
  },
  {
   "metadata": {
    "ExecuteTime": {
     "end_time": "2024-09-09T19:21:17.884399Z",
     "start_time": "2024-09-09T19:21:17.880312Z"
    }
   },
   "cell_type": "code",
   "source": [
    "# isinstance\n",
    "\n",
    "class Example:\n",
    "\n",
    "    def __init__(self):\n",
    "        print('Hey')\n",
    "\n",
    "\n",
    "obj = Example()\n",
    "\n",
    "isinstance(obj, Example)"
   ],
   "outputs": [
    {
     "name": "stdout",
     "output_type": "stream",
     "text": [
      "Hey\n"
     ]
    },
    {
     "data": {
      "text/plain": [
       "True"
      ]
     },
     "execution_count": 27,
     "metadata": {},
     "output_type": "execute_result"
    }
   ],
   "execution_count": 27
  },
  {
   "metadata": {
    "ExecuteTime": {
     "end_time": "2024-09-09T19:23:24.609998Z",
     "start_time": "2024-09-09T19:23:24.606614Z"
    }
   },
   "cell_type": "code",
   "source": [
    "# issubclass\n",
    "\n",
    "class A:\n",
    "    def __init__(self):\n",
    "        print('A called')\n",
    "\n",
    "\n",
    "class B(A):\n",
    "    def __init__(self):\n",
    "        super().__init__()\n",
    "        print('B called')\n",
    "\n",
    "\n",
    "print(issubclass(A, B))\n",
    "print(issubclass(B, A))"
   ],
   "outputs": [
    {
     "name": "stdout",
     "output_type": "stream",
     "text": [
      "False\n",
      "True\n"
     ]
    }
   ],
   "execution_count": 30
  },
  {
   "cell_type": "markdown",
   "source": [
    "### classmethod\n",
    "- A class method is a method that is bound to the class and not the object of the class.\n",
    "- They have the access to the state of the class as it takes a class parameter that points to the class and not the object instance.\n",
    "- It can modify a class state that would apply across all the instances of the class. For example, it can modify a class variable that will be applicable to all the instances."
   ],
   "metadata": {
    "id": "K1bywWmVC0-5"
   }
  },
  {
   "metadata": {},
   "cell_type": "code",
   "outputs": [],
   "execution_count": null,
   "source": ""
  },
  {
   "cell_type": "markdown",
   "source": [
    "### staticmethod\n",
    "A static method does not receive an implicit first argument. A static method is also a method that is bound to the class and not the object of the class. This method can’t access or modify the class state. It is present in a class because it makes sense for the method to be present in class."
   ],
   "metadata": {
    "id": "t-FxUfxODJcy"
   }
  },
  {
   "cell_type": "markdown",
   "source": [
    "### Class method vs Static Method<br>\n",
    "The difference between the Class method and the static method is:\n",
    "\n",
    "- A class method takes cls as the first parameter while a static method needs no specific parameters.\n",
    "- A class method can access or modify the class state while a static method can’t access or modify it.\n",
    "- In general, static methods know nothing about the class state. They are utility-type methods that take some parameters and work upon those parameters. On the other hand class methods must have class as a parameter.\n",
    "- We use @classmethod decorator in python to create a class method and we use @staticmethod decorator to create a static method in python."
   ],
   "metadata": {
    "id": "aPbAGeiuDjTn"
   }
  },
  {
   "cell_type": "markdown",
   "source": [
    "### When to use the class or static method?\n",
    "- We generally use the class method to create factory methods. Factory methods return class objects ( similar to a constructor ) for different use cases.\n",
    "- We generally use static methods to create utility functions."
   ],
   "metadata": {
    "id": "IxbCxvXPD5CS"
   }
  },
  {
   "cell_type": "code",
   "source": [
    "# The diamond problem\n",
    "\n",
    "# MRO"
   ],
   "metadata": {
    "id": "UpVqHn5HDrMM",
    "colab": {
     "base_uri": "https://localhost:8080/"
    },
    "outputId": "30b61a92-8e37-4971-eabb-dd16377105b4"
   },
   "outputs": [],
   "execution_count": null
  },
  {
   "cell_type": "code",
   "source": [
    "# Double and single score"
   ],
   "metadata": {
    "id": "ZvCjJSt6EMF7"
   },
   "outputs": [],
   "execution_count": null
  },
  {
   "cell_type": "code",
   "source": [],
   "metadata": {
    "id": "0rqE0HyIrqJq"
   },
   "outputs": [],
   "execution_count": null
  },
  {
   "metadata": {},
   "cell_type": "markdown",
   "source": [
    "\n",
    "- What’s the meaning of single and double underscores in Python variable and method names"
   ]
  },
  {
   "metadata": {
    "ExecuteTime": {
     "end_time": "2024-09-09T19:49:01.576501Z",
     "start_time": "2024-09-09T19:49:01.572208Z"
    }
   },
   "cell_type": "code",
   "source": [
    "class A:\n",
    "    def __init__(self):\n",
    "        self._var = 10\n",
    "\n",
    "\n",
    "a = A()\n",
    "a._var"
   ],
   "outputs": [
    {
     "data": {
      "text/plain": [
       "10"
      ]
     },
     "execution_count": 31,
     "metadata": {},
     "output_type": "execute_result"
    }
   ],
   "execution_count": 31
  },
  {
   "metadata": {},
   "cell_type": "markdown",
   "source": "- Magic Methods (repr vs str)"
  },
  {
   "metadata": {
    "ExecuteTime": {
     "end_time": "2024-09-09T19:53:29.615558Z",
     "start_time": "2024-09-09T19:53:29.612152Z"
    }
   },
   "cell_type": "code",
   "source": [
    "# repr and other magic/dunder methods\n",
    "\n",
    "a = 'Hello'\n",
    "\n",
    "print(str(a))\n",
    "print(repr(a))\n",
    "# Representation of a"
   ],
   "outputs": [
    {
     "name": "stdout",
     "output_type": "stream",
     "text": [
      "Hello\n",
      "'Hello'\n"
     ]
    }
   ],
   "execution_count": 32
  },
  {
   "metadata": {
    "ExecuteTime": {
     "end_time": "2024-09-09T19:54:45.914944Z",
     "start_time": "2024-09-09T19:54:45.911174Z"
    }
   },
   "cell_type": "code",
   "source": [
    "import datetime\n",
    "\n",
    "a = datetime.datetime.now()\n",
    "b = str(a)\n",
    "\n",
    "print(str(a))\n",
    "print(str(b))\n",
    "print()\n",
    "print(repr(a))\n",
    "print(repr(b))"
   ],
   "outputs": [
    {
     "name": "stdout",
     "output_type": "stream",
     "text": [
      "2024-09-09 12:54:45.913147\n",
      "2024-09-09 12:54:45.913147\n",
      "\n",
      "datetime.datetime(2024, 9, 9, 12, 54, 45, 913147)\n",
      "'2024-09-09 12:54:45.913147'\n"
     ]
    }
   ],
   "execution_count": 35
  },
  {
   "metadata": {},
   "cell_type": "markdown",
   "source": [
    "### In summary\n",
    "\n",
    "- str is for users -> meant to be more readable\n",
    "- repr is for developers for debugging - > for being unambigous"
   ]
  },
  {
   "metadata": {},
   "cell_type": "markdown",
   "source": "- how objects are stored even though they are mutable"
  },
  {
   "metadata": {
    "ExecuteTime": {
     "end_time": "2024-09-09T20:00:49.873335Z",
     "start_time": "2024-09-09T20:00:49.869801Z"
    }
   },
   "cell_type": "code",
   "source": [
    "\n",
    "# https://stackoverflow.com/questions/31340756/python-why-can-i-put-mutable-object-in-a-dict-or-set\n",
    "\n",
    "class A:\n",
    "    def __int__(self):\n",
    "        print('Constructor')\n",
    "\n",
    "    def hello(self):\n",
    "        print('Hello')\n",
    "\n",
    "\n",
    "a = A()\n",
    "a.hello()\n",
    "s = {a}\n",
    "print(s)\n",
    "\n",
    "# When sets are said to store only immutable datatypes. How is it storing the object, which is mutable?\n",
    "\n",
    "print(dir(a))\n",
    "# '__hash__'"
   ],
   "outputs": [
    {
     "name": "stdout",
     "output_type": "stream",
     "text": [
      "Hello\n",
      "{<__main__.A object at 0x000001E0A6651A00>}\n",
      "['__class__', '__delattr__', '__dict__', '__dir__', '__doc__', '__eq__', '__format__', '__ge__', '__getattribute__', '__getstate__', '__gt__', '__hash__', '__init__', '__init_subclass__', '__int__', '__le__', '__lt__', '__module__', '__ne__', '__new__', '__reduce__', '__reduce_ex__', '__repr__', '__setattr__', '__sizeof__', '__str__', '__subclasshook__', '__weakref__', 'hello']\n"
     ]
    }
   ],
   "execution_count": 39
  },
  {
   "metadata": {},
   "cell_type": "markdown",
   "source": [
    "Python doesn't test for mutable objects, it tests for hashable objects.\n",
    "\n",
    "Custom class instances are by default hashable. That's fine because the default __eq__ implementation for such classes only tests for instance identity and the hash is based of the same information.\n",
    "\n",
    "In other words, it doesn't matter that you alter the state of your instance attributes, because the identity of an instance is immutable anyway.\n",
    "\n",
    "As soon as you implement a __hash__ and __eq__ method that take instance state into account you might be in trouble and should stop mutating that state. Only then would a custom class instance no longer be suitable for storing in a dictionary or set."
   ]
  },
  {
   "metadata": {
    "ExecuteTime": {
     "end_time": "2024-09-09T20:00:08.812053Z",
     "start_time": "2024-09-09T20:00:08.799160Z"
    }
   },
   "cell_type": "code",
   "source": "s = {[1, 2]}",
   "outputs": [
    {
     "ename": "TypeError",
     "evalue": "unhashable type: 'list'",
     "output_type": "error",
     "traceback": [
      "\u001B[1;31m---------------------------------------------------------------------------\u001B[0m",
      "\u001B[1;31mTypeError\u001B[0m                                 Traceback (most recent call last)",
      "Cell \u001B[1;32mIn[38], line 1\u001B[0m\n\u001B[1;32m----> 1\u001B[0m s \u001B[38;5;241m=\u001B[39m {[\u001B[38;5;241m1\u001B[39m, \u001B[38;5;241m2\u001B[39m]}\n",
      "\u001B[1;31mTypeError\u001B[0m: unhashable type: 'list'"
     ]
    }
   ],
   "execution_count": 38
  },
  {
   "metadata": {
    "ExecuteTime": {
     "end_time": "2024-09-09T20:01:36.571566Z",
     "start_time": "2024-09-09T20:01:36.568216Z"
    }
   },
   "cell_type": "code",
   "source": [
    "L = [1, 2, 3]\n",
    "print(dir(L))\n",
    "# Although this guy has '__hash__' but it does not return an integer\n",
    "# While in the object, it returns an integer"
   ],
   "outputs": [
    {
     "name": "stdout",
     "output_type": "stream",
     "text": [
      "['__add__', '__class__', '__class_getitem__', '__contains__', '__delattr__', '__delitem__', '__dir__', '__doc__', '__eq__', '__format__', '__ge__', '__getattribute__', '__getitem__', '__getstate__', '__gt__', '__hash__', '__iadd__', '__imul__', '__init__', '__init_subclass__', '__iter__', '__le__', '__len__', '__lt__', '__mul__', '__ne__', '__new__', '__reduce__', '__reduce_ex__', '__repr__', '__reversed__', '__rmul__', '__setattr__', '__setitem__', '__sizeof__', '__str__', '__subclasshook__', 'append', 'clear', 'copy', 'count', 'extend', 'index', 'insert', 'pop', 'remove', 'reverse', 'sort']\n"
     ]
    }
   ],
   "execution_count": 41
  },
  {
   "metadata": {
    "ExecuteTime": {
     "end_time": "2024-09-09T20:03:15.782931Z",
     "start_time": "2024-09-09T20:03:15.768582Z"
    }
   },
   "cell_type": "code",
   "source": [
    "class A:\n",
    "    def __int__(self):\n",
    "        print('Constructor')\n",
    "\n",
    "    def hello(self):\n",
    "        print('Hello')\n",
    "    \n",
    "    def __hash__(self):\n",
    "        pass\n",
    "\n",
    "a = A()\n",
    "a.hello()\n",
    "s = {a}\n",
    "print(s)"
   ],
   "outputs": [
    {
     "name": "stdout",
     "output_type": "stream",
     "text": [
      "Hello\n"
     ]
    },
    {
     "ename": "TypeError",
     "evalue": "__hash__ method should return an integer",
     "output_type": "error",
     "traceback": [
      "\u001B[1;31m---------------------------------------------------------------------------\u001B[0m",
      "\u001B[1;31mTypeError\u001B[0m                                 Traceback (most recent call last)",
      "Cell \u001B[1;32mIn[42], line 13\u001B[0m\n\u001B[0;32m     11\u001B[0m a \u001B[38;5;241m=\u001B[39m A()\n\u001B[0;32m     12\u001B[0m a\u001B[38;5;241m.\u001B[39mhello()\n\u001B[1;32m---> 13\u001B[0m s \u001B[38;5;241m=\u001B[39m {a}\n\u001B[0;32m     14\u001B[0m \u001B[38;5;28mprint\u001B[39m(s)\n",
      "\u001B[1;31mTypeError\u001B[0m: __hash__ method should return an integer"
     ]
    }
   ],
   "execution_count": 42
  },
  {
   "metadata": {},
   "cell_type": "code",
   "outputs": [],
   "execution_count": null,
   "source": ""
  }
 ]
}
