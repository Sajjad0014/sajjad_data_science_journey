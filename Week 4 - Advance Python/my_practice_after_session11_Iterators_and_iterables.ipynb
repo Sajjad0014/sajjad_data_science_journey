{
 "cells": [
  {
   "cell_type": "markdown",
   "id": "2d9e8884",
   "metadata": {},
   "source": [
    "## What is an Iteration\n",
    "\n",
    "Iteration is a general term for taking each item of something, one after another. Any time you use a loop, explicit or implicit, to go over a group of items, that is iteration."
   ]
  },
  {
   "metadata": {
    "ExecuteTime": {
     "end_time": "2024-09-16T23:27:27.167337Z",
     "start_time": "2024-09-16T23:27:27.162511Z"
    }
   },
   "cell_type": "code",
   "source": [
    "num = [1, 2, 3]\n",
    "\n",
    "for i in num:\n",
    "    print(i)"
   ],
   "id": "f03a4a1ffa15f048",
   "outputs": [
    {
     "name": "stdout",
     "output_type": "stream",
     "text": [
      "1\n",
      "2\n",
      "3\n"
     ]
    }
   ],
   "execution_count": 1
  },
  {
   "cell_type": "markdown",
   "id": "c7ea3a1a",
   "metadata": {},
   "source": [
    "## What is Iterator\n",
    "\n",
    "An Iterator is an object that allows the programmer to traverse through a sequence of data `without having to store the entire data` in the memory"
   ]
  },
  {
   "metadata": {
    "ExecuteTime": {
     "end_time": "2024-09-16T23:33:11.874193Z",
     "start_time": "2024-09-16T23:33:11.870087Z"
    }
   },
   "cell_type": "code",
   "source": [
    "L = [x for x in range(1, 10000)]\n",
    "\n",
    "# for i in L:\n",
    "#     print(i*2)\n",
    "\n",
    "import sys\n",
    "\n",
    "print(sys.getsizeof(L) / 64, ' mb of data')\n",
    "\n",
    "x = range(1, 10000000)\n",
    "\n",
    "# for i in x:\n",
    "#     print(i*2)\n",
    "\n",
    "print(sys.getsizeof(x) / 64, ' mb of data')"
   ],
   "id": "acdd94c72afac28e",
   "outputs": [
    {
     "name": "stdout",
     "output_type": "stream",
     "text": [
      "1330.875  mb of data\n",
      "0.75  mb of data\n"
     ]
    }
   ],
   "execution_count": 8
  },
  {
   "cell_type": "markdown",
   "id": "99fff65f",
   "metadata": {},
   "source": [
    "## What is Iterable\n",
    "Iterable is an object, which one can iterate over\n",
    "\n",
    " It generates an Iterator when passed to iter() method."
   ]
  },
  {
   "metadata": {
    "ExecuteTime": {
     "end_time": "2024-09-16T23:38:24.122869Z",
     "start_time": "2024-09-16T23:38:24.116811Z"
    }
   },
   "cell_type": "code",
   "source": [
    "# In above examples L and range(..) are the iterables\n",
    "\n",
    "L = [1, 2, 3]\n",
    "print(type(L))\n",
    "# L is an iterable\n",
    "\n",
    "# iter(L) --> iterator\n",
    "type(iter(L))"
   ],
   "id": "5b6dd47590f0222a",
   "outputs": [
    {
     "name": "stdout",
     "output_type": "stream",
     "text": [
      "<class 'list'>\n"
     ]
    },
    {
     "data": {
      "text/plain": [
       "list_iterator"
      ]
     },
     "execution_count": 12,
     "metadata": {},
     "output_type": "execute_result"
    }
   ],
   "execution_count": 12
  },
  {
   "metadata": {},
   "cell_type": "markdown",
   "source": [
    "### Summary\n",
    "- process of iterating over an object = Iteration\n",
    "- An object on which you can perform iteration = Iterable\n",
    "- Iterator is that object, which helps in iteration"
   ],
   "id": "9b528fa588b8ddf2"
  },
  {
   "cell_type": "markdown",
   "id": "f9482d80",
   "metadata": {},
   "source": [
    "## Point to remember\n",
    "\n",
    "- Every **Iterator** is also and **Iterable**\n",
    "- Not all **Iterables** are **Iterators**"
   ]
  },
  {
   "cell_type": "markdown",
   "id": "9c4c52a7",
   "metadata": {},
   "source": [
    "## Trick\n",
    "- Every Iterable has an **iter function**\n",
    "- Every Iterator has both **iter function** as well as a **next function**"
   ]
  },
  {
   "metadata": {
    "ExecuteTime": {
     "end_time": "2024-09-16T23:43:17.993293Z",
     "start_time": "2024-09-16T23:43:17.813801Z"
    }
   },
   "cell_type": "code",
   "source": [
    "a = 2\n",
    "a\n",
    "# Question is - Is this iterable?\n",
    "# Answer - If we can run a loop on it, then yes\n",
    "\n",
    "# How to find out if it is iterable or not, by running loop \n",
    "for i in a:\n",
    "    print(i)"
   ],
   "id": "9822bd017eb3c1f4",
   "outputs": [
    {
     "ename": "TypeError",
     "evalue": "'int' object is not iterable",
     "output_type": "error",
     "traceback": [
      "\u001B[1;31m---------------------------------------------------------------------------\u001B[0m",
      "\u001B[1;31mTypeError\u001B[0m                                 Traceback (most recent call last)",
      "Cell \u001B[1;32mIn[14], line 6\u001B[0m\n\u001B[0;32m      2\u001B[0m a\n\u001B[0;32m      3\u001B[0m \u001B[38;5;66;03m# Question is - Is this iterable?\u001B[39;00m\n\u001B[0;32m      4\u001B[0m \u001B[38;5;66;03m# Answer - If we can run a loop on it, then yes\u001B[39;00m\n\u001B[1;32m----> 6\u001B[0m \u001B[38;5;28;43;01mfor\u001B[39;49;00m\u001B[43m \u001B[49m\u001B[43mi\u001B[49m\u001B[43m \u001B[49m\u001B[38;5;129;43;01min\u001B[39;49;00m\u001B[43m \u001B[49m\u001B[43ma\u001B[49m\u001B[43m:\u001B[49m\n\u001B[0;32m      7\u001B[0m \u001B[43m    \u001B[49m\u001B[38;5;28;43mprint\u001B[39;49m\u001B[43m(\u001B[49m\u001B[43mi\u001B[49m\u001B[43m)\u001B[49m\n",
      "\u001B[1;31mTypeError\u001B[0m: 'int' object is not iterable"
     ]
    }
   ],
   "execution_count": 14
  },
  {
   "metadata": {
    "ExecuteTime": {
     "end_time": "2024-09-16T23:44:23.416932Z",
     "start_time": "2024-09-16T23:44:23.412832Z"
    }
   },
   "cell_type": "code",
   "source": [
    "# OR even better technique is to run dir() and find iter()\n",
    "dir(a)"
   ],
   "id": "88862f9be13b4049",
   "outputs": [
    {
     "data": {
      "text/plain": [
       "['__abs__',\n",
       " '__add__',\n",
       " '__and__',\n",
       " '__bool__',\n",
       " '__ceil__',\n",
       " '__class__',\n",
       " '__delattr__',\n",
       " '__dir__',\n",
       " '__divmod__',\n",
       " '__doc__',\n",
       " '__eq__',\n",
       " '__float__',\n",
       " '__floor__',\n",
       " '__floordiv__',\n",
       " '__format__',\n",
       " '__ge__',\n",
       " '__getattribute__',\n",
       " '__getnewargs__',\n",
       " '__getstate__',\n",
       " '__gt__',\n",
       " '__hash__',\n",
       " '__index__',\n",
       " '__init__',\n",
       " '__init_subclass__',\n",
       " '__int__',\n",
       " '__invert__',\n",
       " '__le__',\n",
       " '__lshift__',\n",
       " '__lt__',\n",
       " '__mod__',\n",
       " '__mul__',\n",
       " '__ne__',\n",
       " '__neg__',\n",
       " '__new__',\n",
       " '__or__',\n",
       " '__pos__',\n",
       " '__pow__',\n",
       " '__radd__',\n",
       " '__rand__',\n",
       " '__rdivmod__',\n",
       " '__reduce__',\n",
       " '__reduce_ex__',\n",
       " '__repr__',\n",
       " '__rfloordiv__',\n",
       " '__rlshift__',\n",
       " '__rmod__',\n",
       " '__rmul__',\n",
       " '__ror__',\n",
       " '__round__',\n",
       " '__rpow__',\n",
       " '__rrshift__',\n",
       " '__rshift__',\n",
       " '__rsub__',\n",
       " '__rtruediv__',\n",
       " '__rxor__',\n",
       " '__setattr__',\n",
       " '__sizeof__',\n",
       " '__str__',\n",
       " '__sub__',\n",
       " '__subclasshook__',\n",
       " '__truediv__',\n",
       " '__trunc__',\n",
       " '__xor__',\n",
       " 'as_integer_ratio',\n",
       " 'bit_count',\n",
       " 'bit_length',\n",
       " 'conjugate',\n",
       " 'denominator',\n",
       " 'from_bytes',\n",
       " 'imag',\n",
       " 'is_integer',\n",
       " 'numerator',\n",
       " 'real',\n",
       " 'to_bytes']"
      ]
     },
     "execution_count": 15,
     "metadata": {},
     "output_type": "execute_result"
    }
   ],
   "execution_count": 15
  },
  {
   "metadata": {
    "ExecuteTime": {
     "end_time": "2024-09-16T23:45:02.157442Z",
     "start_time": "2024-09-16T23:45:02.154193Z"
    }
   },
   "cell_type": "code",
   "source": [
    "T = (1, 2, 3)\n",
    "dir(T)\n",
    "# '__iter__'"
   ],
   "id": "5101aa7ea45f45ca",
   "outputs": [
    {
     "data": {
      "text/plain": [
       "['__add__',\n",
       " '__class__',\n",
       " '__class_getitem__',\n",
       " '__contains__',\n",
       " '__delattr__',\n",
       " '__dir__',\n",
       " '__doc__',\n",
       " '__eq__',\n",
       " '__format__',\n",
       " '__ge__',\n",
       " '__getattribute__',\n",
       " '__getitem__',\n",
       " '__getnewargs__',\n",
       " '__getstate__',\n",
       " '__gt__',\n",
       " '__hash__',\n",
       " '__init__',\n",
       " '__init_subclass__',\n",
       " '__iter__',\n",
       " '__le__',\n",
       " '__len__',\n",
       " '__lt__',\n",
       " '__mul__',\n",
       " '__ne__',\n",
       " '__new__',\n",
       " '__reduce__',\n",
       " '__reduce_ex__',\n",
       " '__repr__',\n",
       " '__rmul__',\n",
       " '__setattr__',\n",
       " '__sizeof__',\n",
       " '__str__',\n",
       " '__subclasshook__',\n",
       " 'count',\n",
       " 'index']"
      ]
     },
     "execution_count": 16,
     "metadata": {},
     "output_type": "execute_result"
    }
   ],
   "execution_count": 16
  },
  {
   "metadata": {
    "ExecuteTime": {
     "end_time": "2024-09-16T23:48:48.507520Z",
     "start_time": "2024-09-16T23:48:48.504457Z"
    }
   },
   "cell_type": "code",
   "source": [
    "dict1 = {1: 2, 4: 5}\n",
    "if '__iter__' in dir(dict1):\n",
    "    print(True)"
   ],
   "id": "aa36f564da663b3f",
   "outputs": [
    {
     "name": "stdout",
     "output_type": "stream",
     "text": [
      "True\n"
     ]
    }
   ],
   "execution_count": 20
  },
  {
   "metadata": {
    "ExecuteTime": {
     "end_time": "2024-09-16T23:50:32.202038Z",
     "start_time": "2024-09-16T23:50:32.198670Z"
    }
   },
   "cell_type": "code",
   "source": [
    "# How to find out if it is iterator or not?\n",
    "# Running dir() on it, if you find '__iter__' then again run dir() on it.\n",
    "if '__next__' in dir(iter(dict1)):\n",
    "    print(True)"
   ],
   "id": "710a0ea8e03ad759",
   "outputs": [
    {
     "name": "stdout",
     "output_type": "stream",
     "text": [
      "True\n"
     ]
    }
   ],
   "execution_count": 21
  },
  {
   "cell_type": "markdown",
   "id": "5f02c4b7",
   "metadata": {},
   "source": [
    "## Understanding how for loop works"
   ]
  },
  {
   "metadata": {
    "ExecuteTime": {
     "end_time": "2024-09-16T23:51:27.546925Z",
     "start_time": "2024-09-16T23:51:27.543566Z"
    }
   },
   "cell_type": "code",
   "source": [
    "num = [1, 2, 3]\n",
    "\n",
    "for i in num:\n",
    "    print(i)"
   ],
   "id": "8a5c7eb6b5edba94",
   "outputs": [
    {
     "name": "stdout",
     "output_type": "stream",
     "text": [
      "1\n",
      "2\n",
      "3\n"
     ]
    }
   ],
   "execution_count": 22
  },
  {
   "metadata": {
    "ExecuteTime": {
     "end_time": "2024-09-16T23:59:04.395935Z",
     "start_time": "2024-09-16T23:59:04.391484Z"
    }
   },
   "cell_type": "code",
   "source": [
    "# First we need to have an iterable\n",
    "num = ['a', 'b', 'c']\n",
    "\n",
    "# The moment we create it, Python fetches the __iter__ using iter()  --> Step 1\n",
    "iter_num = iter(num)\n",
    "\n",
    "# Step 2 --> Uses the iter() and calls next\n",
    "next(iter_num)\n",
    "next(iter_num)\n",
    "next(iter_num)\n",
    "# next(iter_num)"
   ],
   "id": "ff04204a8c64fce3",
   "outputs": [
    {
     "data": {
      "text/plain": [
       "'c'"
      ]
     },
     "execution_count": 27,
     "metadata": {},
     "output_type": "execute_result"
    }
   ],
   "execution_count": 27
  },
  {
   "cell_type": "markdown",
   "id": "e35d6e87",
   "metadata": {},
   "source": [
    "## Making our own for loop"
   ]
  },
  {
   "metadata": {
    "ExecuteTime": {
     "end_time": "2024-09-17T00:00:39.732067Z",
     "start_time": "2024-09-17T00:00:39.727993Z"
    }
   },
   "cell_type": "code",
   "source": [
    "def mera_khudka_for_loop(iterable):\n",
    "    iterator = iter(iterable)\n",
    "\n",
    "    while True:\n",
    "\n",
    "        try:\n",
    "            print(next(iterator))\n",
    "        except StopIteration:\n",
    "            break"
   ],
   "id": "1ea4a7fb464b4099",
   "outputs": [],
   "execution_count": 28
  },
  {
   "metadata": {
    "ExecuteTime": {
     "end_time": "2024-09-17T00:01:53.341198Z",
     "start_time": "2024-09-17T00:01:53.337476Z"
    }
   },
   "cell_type": "code",
   "source": [
    "a = [1, 2, 3]\n",
    "b = range(1, 11)\n",
    "c = (1, 2, 3)\n",
    "d = {1, 2, 3}\n",
    "e = {0: 'sajjad', 1: 'Saad'}\n",
    "\n",
    "mera_khudka_for_loop(a)"
   ],
   "id": "90a33226e6b91a00",
   "outputs": [
    {
     "name": "stdout",
     "output_type": "stream",
     "text": [
      "1\n",
      "2\n",
      "3\n"
     ]
    }
   ],
   "execution_count": 30
  },
  {
   "metadata": {
    "ExecuteTime": {
     "end_time": "2024-09-17T00:02:15.575709Z",
     "start_time": "2024-09-17T00:02:15.573225Z"
    }
   },
   "cell_type": "code",
   "source": "mera_khudka_for_loop(b)",
   "id": "8369035257c05878",
   "outputs": [
    {
     "name": "stdout",
     "output_type": "stream",
     "text": [
      "1\n",
      "2\n",
      "3\n",
      "4\n",
      "5\n",
      "6\n",
      "7\n",
      "8\n",
      "9\n",
      "10\n"
     ]
    }
   ],
   "execution_count": 31
  },
  {
   "cell_type": "markdown",
   "id": "81a3e616",
   "metadata": {},
   "source": [
    "## A confusing point"
   ]
  },
  {
   "metadata": {
    "ExecuteTime": {
     "end_time": "2024-09-17T00:06:07.802296Z",
     "start_time": "2024-09-17T00:06:07.798455Z"
    }
   },
   "cell_type": "code",
   "source": [
    "num = [1, 2, 3]\n",
    "iter_obj = iter(num)\n",
    "print(iter_obj)\n",
    "print('Address of iterator 1: ', id(iter_obj))\n",
    "\n",
    "# Since it has __iter__ method we can run the iter() method on it.\n",
    "# If we check dir(iter()) then we can notice we have __iter__ and __next__ in them as well\n",
    "# Can we apply the iter() on it as well?\n",
    "iter_obj2 = iter(iter(iter_obj))\n",
    "print()\n",
    "print(iter_obj2)\n",
    "print('Address of iterator 1: ', id(iter_obj2))\n",
    "\n",
    "\n",
    "# Yes we can, but it is still same"
   ],
   "id": "59d55318471cf0c6",
   "outputs": [
    {
     "name": "stdout",
     "output_type": "stream",
     "text": [
      "<list_iterator object at 0x0000019224FA5540>\n",
      "Address of iterator 1:  1727197238592\n",
      "\n",
      "<list_iterator object at 0x0000019224FA5540>\n",
      "Address of iterator 1:  1727197238592\n"
     ]
    }
   ],
   "execution_count": 36
  },
  {
   "cell_type": "markdown",
   "id": "051af6bc",
   "metadata": {},
   "source": [
    "## Let's create our own range() function"
   ]
  },
  {
   "metadata": {
    "ExecuteTime": {
     "end_time": "2024-09-17T00:15:50.295604Z",
     "start_time": "2024-09-17T00:15:50.292350Z"
    }
   },
   "cell_type": "code",
   "source": [
    "class mera_range:\n",
    "    \n",
    "    def __init__(self,start,end):\n",
    "        self.start = start\n",
    "        self.end = end\n",
    "        \n",
    "    def __iter__(self):\n",
    "        return mera_range_iterator(self)"
   ],
   "id": "eecdb83cf629b3e6",
   "outputs": [],
   "execution_count": 41
  },
  {
   "metadata": {
    "ExecuteTime": {
     "end_time": "2024-09-17T00:15:50.553658Z",
     "start_time": "2024-09-17T00:15:50.549588Z"
    }
   },
   "cell_type": "code",
   "source": [
    "class mera_range_iterator:\n",
    "    \n",
    "    def __init__(self,iterable_obj):\n",
    "        self.iterable = iterable_obj\n",
    "    \n",
    "    def __iter__(self):\n",
    "        return self\n",
    "    \n",
    "    def __next__(self):\n",
    "        \n",
    "        if self.iterable.start >= self.iterable.end:\n",
    "            raise StopIteration\n",
    "            \n",
    "        current = self.iterable.start\n",
    "        self.iterable.start+=1\n",
    "        return current"
   ],
   "id": "36642eb974e3fd1c",
   "outputs": [],
   "execution_count": 42
  },
  {
   "metadata": {
    "ExecuteTime": {
     "end_time": "2024-09-17T00:15:51.999863Z",
     "start_time": "2024-09-17T00:15:51.996547Z"
    }
   },
   "cell_type": "code",
   "source": [
    "for i in mera_range(1, 11):\n",
    "    print(i)"
   ],
   "id": "3d6f81d588ef2c79",
   "outputs": [
    {
     "name": "stdout",
     "output_type": "stream",
     "text": [
      "1\n",
      "2\n",
      "3\n",
      "4\n",
      "5\n",
      "6\n",
      "7\n",
      "8\n",
      "9\n",
      "10\n"
     ]
    }
   ],
   "execution_count": 43
  },
  {
   "metadata": {
    "ExecuteTime": {
     "end_time": "2024-09-17T00:16:26.862390Z",
     "start_time": "2024-09-17T00:16:26.858629Z"
    }
   },
   "cell_type": "code",
   "source": [
    "x = mera_range(1, 11)\n",
    "type(x)"
   ],
   "id": "b36f02a2c18ab69e",
   "outputs": [
    {
     "data": {
      "text/plain": [
       "__main__.mera_range"
      ]
     },
     "execution_count": 44,
     "metadata": {},
     "output_type": "execute_result"
    }
   ],
   "execution_count": 44
  },
  {
   "metadata": {
    "ExecuteTime": {
     "end_time": "2024-09-17T00:16:32.229245Z",
     "start_time": "2024-09-17T00:16:32.225423Z"
    }
   },
   "cell_type": "code",
   "source": "iter(x)",
   "id": "4ffdd948b6de259",
   "outputs": [
    {
     "data": {
      "text/plain": [
       "<__main__.mera_range_iterator at 0x19224fa6270>"
      ]
     },
     "execution_count": 45,
     "metadata": {},
     "output_type": "execute_result"
    }
   ],
   "execution_count": 45
  },
  {
   "metadata": {},
   "cell_type": "code",
   "outputs": [],
   "execution_count": null,
   "source": "",
   "id": "68f5665bbe74777"
  }
 ],
 "metadata": {
  "kernelspec": {
   "display_name": "Python 3",
   "language": "python",
   "name": "python3"
  },
  "language_info": {
   "codemirror_mode": {
    "name": "ipython",
    "version": 3
   },
   "file_extension": ".py",
   "mimetype": "text/x-python",
   "name": "python",
   "nbconvert_exporter": "python",
   "pygments_lexer": "ipython3",
   "version": "3.8.8"
  }
 },
 "nbformat": 4,
 "nbformat_minor": 5
}
