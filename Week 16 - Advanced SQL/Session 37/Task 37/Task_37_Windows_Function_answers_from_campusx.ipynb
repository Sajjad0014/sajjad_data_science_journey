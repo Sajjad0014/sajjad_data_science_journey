{
 "nbformat": 4,
 "nbformat_minor": 0,
 "metadata": {
  "colab": {
   "provenance": []
  },
  "kernelspec": {
   "name": "python3",
   "display_name": "Python 3"
  },
  "language_info": {
   "name": "python"
  }
 },
 "cells": [
  {
   "cell_type": "code",
   "execution_count": null,
   "metadata": {
    "id": "l9ildR2YWm-j"
   },
   "outputs": [],
   "source": [
    "# Topics List\n",
    "# Ranking\n",
    "# Cumulative Sum -> sales data\n",
    "# Cumulative Average\n",
    "# Running Average\n",
    "# Percent of total\n",
    "\n",
    "# Percent Change -> stocks data\n",
    "# Percentage change for a specific window -> stocks data\n",
    "# Quantiles/Percentiles - percentile_disc ->\n",
    "# PERCENTILE_CONT\n",
    "# Segmentation\n",
    "# Cumulative Distribution\n",
    "# Partition By Multiple Columns"
   ]
  },
  {
   "cell_type": "markdown",
   "source": [
    "## DataSet: Northwind"
   ],
   "metadata": {
    "id": "WjVvz5SKXbyh"
   }
  },
  {
   "cell_type": "markdown",
   "source": [
    "## Problem 1-4 : NorthWinddatset https://relational.fit.cvut.cz/dataset/Northwind\n",
    "\n",
    "How to download the dataset\n",
    "\n",
    "To download the dataset you need to create connection in your mysql workbench\n",
    "\n",
    "The datasets are publicly available directly from MariaDB database.\n",
    "\n",
    "* Open your favourite MariaDB client (MySQL Workbench)\n",
    "Use following credentials:\n",
    "```\n",
    "    hostname: relational.fit.cvut.cz\n",
    "    port: 3306\n",
    "    username: guest\n",
    "    password: relational\n",
    "```\n",
    "Drive link: https://drive.google.com/drive/folders/1FMi6g1KDHbn17ikJSi7bE9-THywlxhdu?usp=sharing"
   ],
   "metadata": {
    "id": "RL8821thwmAx"
   }
  },
  {
   "cell_type": "markdown",
   "source": [
    "###`Q-1`: Rank Employee in terms of revenue generation. Show employee id, first name, revenue, and rank"
   ],
   "metadata": {
    "id": "knR4TsMDYF2X"
   }
  },
  {
   "cell_type": "markdown",
   "source": [
    "```sql\n",
    "select e.EmployeeID, e.FirstName , sum(od.UnitPrice * od.Quantity) as revenue,\n",
    "rank() over( order by sum(od.UnitPrice * od.Quantity) desc) as EmpRank\n",
    "from Orders o join `Order Details` od on od.OrderID = o.OrderID\n",
    "join Employees e on e.EmployeeID = o.EmployeeID\n",
    "group by e.EmployeeID, e.FirstName\n",
    "order by EmpRank;\n",
    "```"
   ],
   "metadata": {
    "id": "9Btehg-tYKqX"
   }
  },
  {
   "cell_type": "markdown",
   "source": [
    "###`Q-2`: Show All products cumulative sum of units sold each month.\n"
   ],
   "metadata": {
    "id": "5ngMBw0jYQ5X"
   }
  },
  {
   "cell_type": "markdown",
   "source": [
    "```sql\n",
    "select p.ProductID, month(o.OrderDate) 'Month', sum(od.Quantity)  as 'QuantitySum',\n",
    "sum(sum(od.Quantity)) over(partition by p.ProductID order by month(o.OrderDate) rows between unbounded preceding and current row) as QuantityCumSum\n",
    "from Orders o join `Order Details` od on od.OrderID = o.OrderID\n",
    "join Products p on p.ProductID = od.ProductID\n",
    "group by p.ProductID, month(o.OrderDate);\n",
    "```"
   ],
   "metadata": {
    "id": "ui0ZiWa6YY-z"
   }
  },
  {
   "cell_type": "markdown",
   "source": [
    "###`Q-3`: Show Percentage of total revenue by each suppliers\n"
   ],
   "metadata": {
    "id": "KRdKaX71Ypjz"
   }
  },
  {
   "cell_type": "markdown",
   "source": [
    "```sql\n",
    "select s.SupplierId, sum(od.UnitPrice*od.Quantity) as Revenue, sum(od.UnitPrice*od.Quantity) /\n",
    "sum(sum(od.UnitPrice*od.Quantity)) over() * 100 as PercentTotalRevenue\n",
    "from Suppliers s join Products p on p.SupplierId=s.SupplierID\n",
    "join `Order Details` od on p.ProductID=od.ProductID\n",
    "group by s.SupplierId\n",
    "order by Revenue desc;\n",
    "```"
   ],
   "metadata": {
    "id": "SilpqyzMYvcj"
   }
  },
  {
   "cell_type": "markdown",
   "source": [
    "###`Q-4:` Show Percentage of total orders by each suppliers"
   ],
   "metadata": {
    "id": "LJ9vyrwHYcNs"
   }
  },
  {
   "cell_type": "markdown",
   "source": [
    "```sql\n",
    "select s.SupplierId, count(distinct od.OrderID) as NumberOfOrder, count(distinct od.OrderID) /\n",
    "sum(count(distinct od.OrderID)) over() * 100 as PercentTotalOrder\n",
    "from Suppliers s join Products p on p.SupplierId=s.SupplierID\n",
    "join `Order Details` od on p.ProductID=od.ProductID\n",
    "group by s.SupplierId\n",
    "order by NumberOfOrder desc;\n",
    "```"
   ],
   "metadata": {
    "id": "hfWXixDkYeml"
   }
  },
  {
   "cell_type": "markdown",
   "source": [
    "### `Q-5`:Show All Products Year Wise report of totalQuantity sold, percentage change from last year."
   ],
   "metadata": {
    "id": "WTK96y_WYwU6"
   }
  },
  {
   "cell_type": "markdown",
   "source": [
    "```sql\n",
    "select *, 100 *(Quantity - lag(Quantity) over(partition  by ProductId order by ProductId, Year))/lag(Quantity) over(partition  by ProductId order by ProductId, Year) PercentageChange\n",
    "from (select p.ProductID, year(o.OrderDate) Year, sum( od.Quantity)  as 'Quantity'\n",
    "from Orders o join `Order Details` od on od.OrderID = o.OrderID\n",
    "join Products p on p.ProductID = od.ProductID\n",
    "group by p.ProductID,year(o.OrderDate)\n",
    "order by p.ProductID,year(o.OrderDate)) t\n",
    "```"
   ],
   "metadata": {
    "id": "5a8vXllDY2dT"
   }
  },
  {
   "cell_type": "markdown",
   "source": [
    "## Problem 6 - 15\n",
    "\n",
    "For the next problems, you can get the dataset as well as the details [here](https://www.kaggle.com/datasets/thedevastator/drug-performance-evaluation?select=Drug_clean.csv) (Use the *cleaned* csv file)."
   ],
   "metadata": {
    "id": "g7v3IN-N_RWZ"
   }
  },
  {
   "cell_type": "markdown",
   "source": [
    "### **`Problem-6:`** For each condition, what is the average satisfaction level of drugs that are \"On Label\" vs \"Off Label\"?"
   ],
   "metadata": {
    "id": "h79yp4M1_2Gp"
   }
  },
  {
   "cell_type": "markdown",
   "source": [
    "```sql\n",
    "-- Solution\n",
    "\n",
    "WITH temp_df AS (\n",
    "        SELECT\n",
    "            drugs.Condition,\n",
    "            drugs.Indication,\n",
    "            drugs.Satisfaction,\n",
    "            ROUND(\n",
    "                AVG(drugs.Satisfaction) OVER(\n",
    "                    PARTITION BY drugs.Condition,\n",
    "                    drugs.Indication\n",
    "                    ORDER BY drugs.Satisfaction\n",
    "                    ROWS BETWEEN UNBOUNDED PRECEDING\n",
    "                        AND UNBOUNDED FOLLOWING\n",
    "                ),\n",
    "                2\n",
    "            ) AS avg_satisfaction,\n",
    "            DENSE_RANK() OVER(\n",
    "                PARTITION BY drugs.Condition,\n",
    "                drugs.Indication\n",
    "                ORDER BY\n",
    "                    drugs.Satisfaction\n",
    "            ) AS rank_num\n",
    "        FROM drugs\n",
    "    )\n",
    "SELECT\n",
    "    temp_df.Condition,\n",
    "    temp_df.Indication,\n",
    "    temp_df.avg_satisfaction\n",
    "FROM temp_df\n",
    "where rank_num = 1;\n",
    "```"
   ],
   "metadata": {
    "id": "nJYe9TA5AAsy"
   }
  },
  {
   "cell_type": "markdown",
   "source": [
    "### **`Problem-7:`** For each drug type (RX, OTC, RX/OTC), what is the average ease of use and satisfaction level of drugs with a price above the median for their type?"
   ],
   "metadata": {
    "id": "WlFaAZblALkv"
   }
  },
  {
   "cell_type": "markdown",
   "source": [
    "```sql\n",
    "-- Solution\n",
    "\n",
    "WITH temp_df as (\n",
    "    SELECT Type,\n",
    "        AVG(EaseOfUse) OVER(PARTITION BY Type) AS avg_ease_of_use,\n",
    "        AVG(Satisfaction) OVER(PARTITION BY Type) AS avg_satisfaction\n",
    "    FROM (\n",
    "        SELECT\n",
    "            Type, Price,\n",
    "            PERCENTILE_CONT(0.5) WITHIN GROUP (\n",
    "                ORDER BY Price\n",
    "            ) OVER (PARTITION BY Type) AS median_price,\n",
    "            EaseOfUse,\n",
    "            Satisfaction\n",
    "        FROM drugs WHERE Type IN ('RX', 'OTC', 'RX/OTC')\n",
    "    ) AS subquery\n",
    "    WHERE Price >= median_price\n",
    ")\n",
    "\n",
    "SELECT Type, avg_ease_of_use, avg_satisfaction FROM temp_df GROUP BY Type;\n",
    "```"
   ],
   "metadata": {
    "id": "2JE5xQsWAP7f"
   }
  },
  {
   "cell_type": "markdown",
   "source": [
    "### **`Problem 8:`** What is the cumulative distribution of EaseOfUse ratings for each drug type (RX, OTC, RX/OTC)? Show the results in descending order by drug type and cumulative distribution. (Use the built-in method and the manual method by calculating on your own.)"
   ],
   "metadata": {
    "id": "PwqX8M3QAUX_"
   }
  },
  {
   "cell_type": "markdown",
   "source": [
    "```sql\n",
    "-- Solution\n",
    "\n",
    "SELECT Type, EaseOfUse,\n",
    "       COUNT(*) OVER (\n",
    "            PARTITION BY Type\n",
    "            ORDER BY EaseOfUse\n",
    "        ) * 1.0 / COUNT(*) OVER (PARTITION BY Type) AS cumulative_dist_manual,\n",
    "        cume_dist() over(\n",
    "            partition by Type\n",
    "            order by EaseOfUse\n",
    "        ) as 'cumulative_dist_builtin'\n",
    "FROM drugs\n",
    "WHERE Type IN ('RX', 'OTC', 'RX/OTC')\n",
    "ORDER BY Type, cumulative_dist DESC;\n",
    "```\n",
    "\n",
    "\n",
    "Few rows of result:\n",
    "\n",
    "![image.png](data:image/png;base64,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)"
   ],
   "metadata": {
    "id": "7c0dL3K7Aaz2"
   }
  },
  {
   "cell_type": "markdown",
   "source": [
    "### **`Problem 9:`** What is the median satisfaction level for each medical condition? Show the results in descending order by median satisfaction level. (Don't repeat the same rows of your result.)"
   ],
   "metadata": {
    "id": "PkNZWjIdAgXP"
   }
  },
  {
   "cell_type": "markdown",
   "source": [
    "```sql\n",
    "-- Solution\n",
    "\n",
    "WITH temp_df AS (\n",
    "    SELECT drugs.Condition,\n",
    "       PERCENTILE_CONT(0.5) WITHIN GROUP (ORDER BY drugs.Satisfaction) OVER (PARTITION BY drugs.Condition) AS median_satisfaction\n",
    "    FROM drugs\n",
    ")\n",
    "\n",
    "SELECT temp_df.Condition, temp_df.median_satisfaction\n",
    "FROM temp_df\n",
    "GROUP BY temp_df.Condition\n",
    "ORDER BY temp_df.median_satisfaction DESC;\n",
    "```"
   ],
   "metadata": {
    "id": "IBngNzxEAobV"
   }
  },
  {
   "cell_type": "markdown",
   "source": [
    "### **`Problem 10:`** What is the running average of the price of drugs for each medical condition? Show the results in ascending order by medical condition and drug name."
   ],
   "metadata": {
    "id": "0lnxj8WbArTa"
   }
  },
  {
   "cell_type": "markdown",
   "source": [
    "```sql\n",
    "-- Solution\n",
    "\n",
    "SELECT drugs.Condition, drugs.Drug, ROUND(drugs.Price, 2),\n",
    "    ROUND(AVG(drugs.Price) OVER (\n",
    "        PARTITION BY drugs.Condition\n",
    "        ORDER BY drugs.Drug\n",
    "        ROWS BETWEEN UNBOUNDED PRECEDING AND CURRENT ROW\n",
    "    ), 2) AS running_avg_price\n",
    "FROM drugs\n",
    "ORDER BY drugs.Condition ASC, drugs.Drug ASC;\n",
    "```"
   ],
   "metadata": {
    "id": "GoA2weJqAwQa"
   }
  },
  {
   "cell_type": "markdown",
   "source": [
    "### **`Problem 11:`** What is the percentage change in the number of reviews for each drug between the previous row and the current row? Show the results in descending order by percentage change."
   ],
   "metadata": {
    "id": "6muQ4h08A1aU"
   }
  },
  {
   "cell_type": "markdown",
   "source": [
    "```sql\n",
    "-- Solution\n",
    "\n",
    "SELECT drugs.Condition, drugs.Drug, drugs.Reviews,\n",
    "    (drugs.Reviews - LAG(drugs.Reviews) OVER (\n",
    "        PARTITION BY drugs.Condition, drugs.Drug\n",
    "        ORDER BY drugs.Reviews DESC)\n",
    "    ) * 100.0 / LAG(drugs.Reviews) OVER (\n",
    "        PARTITION BY drugs.Condition, drugs.Drug\n",
    "        ORDER BY drugs.Reviews DESC\n",
    "    ) AS pct_change\n",
    "FROM drugs\n",
    "ORDER BY pct_change DESC;\n",
    "```"
   ],
   "metadata": {
    "id": "HHJ4Wv_dA8Ul"
   }
  },
  {
   "cell_type": "markdown",
   "source": [
    "### **`Problem 12:`** What is the percentage of total satisfaction level for each drug type (RX, OTC, RX/OTC)? Show the results in descending order by drug type and percentage of total satisfaction."
   ],
   "metadata": {
    "id": "Pz5D6mbYBA9C"
   }
  },
  {
   "cell_type": "markdown",
   "source": [
    "```sql\n",
    "-- Solution\n",
    "\n",
    "WITH temp_df AS (\n",
    "    SELECT Type, Satisfaction,\n",
    "        ROUND(SUM(Satisfaction) OVER (PARTITION BY Type) * 100.0 / SUM(Satisfaction) OVER (),2) AS pct_total_satisfaction\n",
    "    FROM drugs\n",
    "    WHERE Type IN ('RX', 'OTC', 'RX/OTC')\n",
    "    ORDER BY Type ASC, pct_total_satisfaction DESC\n",
    ")\n",
    "\n",
    "SELECT Type, pct_total_satisfaction FROM temp_df\n",
    "GROUP BY Type;\n",
    "```"
   ],
   "metadata": {
    "id": "nqpkGbKXBHfJ"
   }
  },
  {
   "cell_type": "markdown",
   "source": [
    "### **`Problem 13:`** What is the cumulative sum of effective ratings for each medical condition and drug form combination? Show the results in ascending order by medical condition, drug form and the name of the drug."
   ],
   "metadata": {
    "id": "-nbwy13IBMES"
   }
  },
  {
   "cell_type": "markdown",
   "source": [
    "```sql\n",
    "-- Solution\n",
    "\n",
    "SELECT drugs.Condition, drugs.Form, drugs.Drug,\n",
    "    drugs.Effective,\n",
    "    SUM(drugs.Effective) OVER (\n",
    "        PARTITION BY drugs.Condition, drugs.Form\n",
    "        ORDER BY drugs.Drug\n",
    "        ROWS BETWEEN UNBOUNDED PRECEDING AND CURRENT ROW\n",
    "    ) AS cumulative_sum_effective\n",
    "FROM drugs\n",
    "ORDER BY\n",
    "    drugs.Condition ASC,\n",
    "    drugs.Form ASC,\n",
    "    drugs.Drug ASC;\n",
    "```"
   ],
   "metadata": {
    "id": "IFXcY0gzBQq6"
   }
  },
  {
   "cell_type": "markdown",
   "source": [
    "### **`Problem-14:`** What is the rank of the average ease of use for each drug type (RX, OTC, RX/OTC)? Show the results in descending order by rank and drug type."
   ],
   "metadata": {
    "id": "5BqsXHFfBVKp"
   }
  },
  {
   "cell_type": "markdown",
   "source": [
    "```sql\n",
    "-- Solution\n",
    "\n",
    "SELECT\n",
    "  Type,\n",
    "  AVG(EaseOfUse) AS average_ease_of_use,\n",
    "  RANK() OVER (ORDER BY AVG(EaseOfUse) DESC) AS 'rank'\n",
    "FROM drugs\n",
    "WHERE Type IN ('RX', 'OTC', 'RX/OTC')\n",
    "GROUP BY Type;\n",
    "```"
   ],
   "metadata": {
    "id": "mj_CUTjVBZ0C"
   }
  },
  {
   "cell_type": "markdown",
   "source": [
    "### **`Problem-15:`** For each condition, what is the average effectiveness of the top 3 most reviewed drugs?"
   ],
   "metadata": {
    "id": "HfR745l8BeCg"
   }
  },
  {
   "cell_type": "markdown",
   "source": [
    "```sql\n",
    "-- Solution\n",
    "\n",
    "SELECT * FROM (\n",
    "    SELECT\n",
    "        drugs.Condition,\n",
    "        drugs.Drug,\n",
    "        ROUND(drugs.Reviews, 2) AS 'Reviews',\n",
    "        ROUND(AVG(drugs.Effective) OVER (\n",
    "            PARTITION BY drugs.Condition, drugs.Drug\n",
    "            ORDER BY drugs.Reviews DESC\n",
    "            ROWS BETWEEN UNBOUNDED PRECEDING AND UNBOUNDED FOLLOWING\n",
    "        ), 2) AS avg_effectiveness,\n",
    "    RANK() OVER (\n",
    "        PARTITION BY drugs.Condition\n",
    "        ORDER BY drugs.Reviews DESC\n",
    "    ) AS rank_num\n",
    "    FROM drugs\n",
    ") t\n",
    "WHERE rank_num <= 3;\n",
    "```\n",
    "\n",
    "```sql\n",
    "\n",
    "-- Alternate Solution\n",
    "\n",
    "SELECT\n",
    "  ranked_drugs.Condition,\n",
    "  drug,\n",
    "  avg_effectiveness,\n",
    "  `rank`\n",
    "FROM (\n",
    "  SELECT\n",
    "    drugs.Condition,\n",
    "    Drug,\n",
    "    AVG(Effective) avg_effectiveness,\n",
    "    ROW_NUMBER() OVER (PARTITION BY drugs.Condition ORDER BY SUM(Reviews) DESC) AS 'rank'\n",
    "  FROM drugs\n",
    "  GROUP BY drugs.Condition, Drug\n",
    ") ranked_drugs\n",
    "WHERE `rank` <= 3\n",
    "order by ranked_drugs.Condition, `rank`;\n",
    "\n",
    "```"
   ],
   "metadata": {
    "id": "xLZuc6QnBkKA"
   }
  },
  {
   "cell_type": "code",
   "source": [],
   "metadata": {
    "id": "E58jXjpSleCP"
   },
   "execution_count": null,
   "outputs": []
  }
 ]
}
