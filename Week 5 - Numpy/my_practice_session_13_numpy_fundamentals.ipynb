{
 "nbformat": 4,
 "nbformat_minor": 0,
 "metadata": {
  "colab": {
   "provenance": []
  },
  "kernelspec": {
   "name": "python3",
   "display_name": "Python 3 (ipykernel)",
   "language": "python"
  },
  "language_info": {
   "name": "python"
  }
 },
 "cells": [
  {
   "cell_type": "markdown",
   "source": [
    "### What is numpy?\n",
    "\n",
    "NumPy is the fundamental package for scientific computing in Python. It is a Python library that provides a multidimensional array object, various derived objects (such as masked arrays and matrices), and an assortment of routines for fast operations on arrays, including mathematical, logical, shape manipulation, sorting, selecting, I/O, discrete Fourier transforms, basic linear algebra, basic statistical operations, random simulation and much more.\n",
    "\n",
    "\n",
    "At the core of the NumPy package, is the ndarray object. This encapsulates n-dimensional arrays of homogeneous data types"
   ],
   "metadata": {
    "id": "lFF783PD7ypT"
   }
  },
  {
   "cell_type": "markdown",
   "source": [
    "### Numpy Arrays Vs Python Sequences\n",
    "\n",
    "- NumPy arrays have a fixed size at creation, unlike Python lists (which can grow dynamically). Changing the size of an ndarray will create a new array and delete the original.\n",
    "\n",
    "- The elements in a NumPy array are all required to be of the same data type, and thus will be the same size in memory.\n",
    "\n",
    "- NumPy arrays facilitate advanced mathematical and other types of operations on large numbers of data. Typically, such operations are executed more efficiently and with less code than is possible using Python’s built-in sequences.\n",
    "\n",
    "- A growing plethora of scientific and mathematical Python-based packages are using NumPy arrays; though these typically support Python-sequence input, they convert such input to NumPy arrays prior to processing, and they often output NumPy arrays."
   ],
   "metadata": {
    "id": "HPRzhmwiZkOP"
   }
  },
  {
   "cell_type": "markdown",
   "source": [
    "### Creating Numpy Arrays"
   ],
   "metadata": {
    "id": "0PyrZ724szaG"
   }
  },
  {
   "metadata": {
    "ExecuteTime": {
     "end_time": "2024-09-21T22:58:58.277923Z",
     "start_time": "2024-09-21T22:58:58.273288Z"
    }
   },
   "cell_type": "code",
   "source": [
    "# np.array\n",
    "import numpy as np\n",
    "\n",
    "#1D - Vector \n",
    "a = np.array([1, 2, 3])\n",
    "print(a)\n",
    "print(type(a))\n",
    "\n",
    "# 2D and 3D - Matrix\n",
    "b = np.array([[1, 2, 3], [5, 6, 7]])\n",
    "print(b)\n",
    "print(type(b))"
   ],
   "outputs": [
    {
     "name": "stdout",
     "output_type": "stream",
     "text": [
      "[1 2 3]\n",
      "<class 'numpy.ndarray'>\n",
      "[[1 2 3]\n",
      " [5 6 7]]\n",
      "<class 'numpy.ndarray'>\n"
     ]
    }
   ],
   "execution_count": 5
  },
  {
   "metadata": {
    "ExecuteTime": {
     "end_time": "2024-09-21T22:59:50.591801Z",
     "start_time": "2024-09-21T22:59:50.587427Z"
    }
   },
   "cell_type": "code",
   "source": [
    "# 3D - Tensor\n",
    "\n",
    "c = np.array([[[1, 2], [3, 4], [7, 8]]])\n",
    "print(c)\n",
    "print(type(c))"
   ],
   "outputs": [
    {
     "name": "stdout",
     "output_type": "stream",
     "text": [
      "[[[1 2]\n",
      "  [3 4]\n",
      "  [7 8]]]\n",
      "<class 'numpy.ndarray'>\n"
     ]
    }
   ],
   "execution_count": 6
  },
  {
   "metadata": {
    "ExecuteTime": {
     "end_time": "2024-09-21T23:00:50.887608Z",
     "start_time": "2024-09-21T23:00:50.879525Z"
    }
   },
   "cell_type": "code",
   "source": [
    "# dtype\n",
    "np.array([1, 2, 3], dtype=float)"
   ],
   "outputs": [
    {
     "data": {
      "text/plain": [
       "array([1., 2., 3.])"
      ]
     },
     "execution_count": 7,
     "metadata": {},
     "output_type": "execute_result"
    }
   ],
   "execution_count": 7
  },
  {
   "metadata": {
    "ExecuteTime": {
     "end_time": "2024-09-21T23:03:51.690012Z",
     "start_time": "2024-09-21T23:03:51.685613Z"
    }
   },
   "cell_type": "code",
   "source": [
    "# np.arange\n",
    "np.arange(1, 11)"
   ],
   "outputs": [
    {
     "data": {
      "text/plain": [
       "array([ 1,  2,  3,  4,  5,  6,  7,  8,  9, 10])"
      ]
     },
     "execution_count": 9,
     "metadata": {},
     "output_type": "execute_result"
    }
   ],
   "execution_count": 9
  },
  {
   "metadata": {
    "ExecuteTime": {
     "end_time": "2024-09-21T23:05:04.973286Z",
     "start_time": "2024-09-21T23:05:04.968361Z"
    }
   },
   "cell_type": "code",
   "source": [
    "# with reshape\n",
    "np.arange(1, 11).reshape(5, 2)"
   ],
   "outputs": [
    {
     "data": {
      "text/plain": [
       "array([[ 1,  2],\n",
       "       [ 3,  4],\n",
       "       [ 5,  6],\n",
       "       [ 7,  8],\n",
       "       [ 9, 10]])"
      ]
     },
     "execution_count": 11,
     "metadata": {},
     "output_type": "execute_result"
    }
   ],
   "execution_count": 11
  },
  {
   "metadata": {
    "ExecuteTime": {
     "end_time": "2024-09-21T23:05:27.086270Z",
     "start_time": "2024-09-21T23:05:27.081099Z"
    }
   },
   "cell_type": "code",
   "source": "np.arange(1, 13).reshape(4, 3)",
   "outputs": [
    {
     "data": {
      "text/plain": [
       "array([[ 1,  2,  3],\n",
       "       [ 4,  5,  6],\n",
       "       [ 7,  8,  9],\n",
       "       [10, 11, 12]])"
      ]
     },
     "execution_count": 12,
     "metadata": {},
     "output_type": "execute_result"
    }
   ],
   "execution_count": 12
  },
  {
   "metadata": {
    "ExecuteTime": {
     "end_time": "2024-09-21T23:06:47.745383Z",
     "start_time": "2024-09-21T23:06:47.739352Z"
    }
   },
   "cell_type": "code",
   "source": [
    "# np.ones and np.zeros\n",
    "np.ones((3, 4))"
   ],
   "outputs": [
    {
     "data": {
      "text/plain": [
       "array([[1., 1., 1., 1.],\n",
       "       [1., 1., 1., 1.],\n",
       "       [1., 1., 1., 1.]])"
      ]
     },
     "execution_count": 13,
     "metadata": {},
     "output_type": "execute_result"
    }
   ],
   "execution_count": 13
  },
  {
   "metadata": {
    "ExecuteTime": {
     "end_time": "2024-09-21T23:08:24.711819Z",
     "start_time": "2024-09-21T23:08:24.707778Z"
    }
   },
   "cell_type": "code",
   "source": "np.zeros((4, 5))",
   "outputs": [
    {
     "data": {
      "text/plain": [
       "array([[0., 0., 0., 0., 0.],\n",
       "       [0., 0., 0., 0., 0.],\n",
       "       [0., 0., 0., 0., 0.],\n",
       "       [0., 0., 0., 0., 0.]])"
      ]
     },
     "execution_count": 14,
     "metadata": {},
     "output_type": "execute_result"
    }
   ],
   "execution_count": 14
  },
  {
   "metadata": {
    "ExecuteTime": {
     "end_time": "2024-09-21T23:09:07.804645Z",
     "start_time": "2024-09-21T23:09:07.799250Z"
    }
   },
   "cell_type": "code",
   "source": [
    "# np.random\n",
    "# between 0 and 1\n",
    "np.random.random((3, 4))"
   ],
   "outputs": [
    {
     "data": {
      "text/plain": [
       "array([[0.79645294, 0.35923936, 0.43381542, 0.38452243],\n",
       "       [0.65186258, 0.63751985, 0.41545416, 0.19767279],\n",
       "       [0.96989199, 0.78467615, 0.11213052, 0.29243265]])"
      ]
     },
     "execution_count": 20,
     "metadata": {},
     "output_type": "execute_result"
    }
   ],
   "execution_count": 20
  },
  {
   "metadata": {
    "ExecuteTime": {
     "end_time": "2024-09-21T23:11:13.255809Z",
     "start_time": "2024-09-21T23:11:13.251713Z"
    }
   },
   "cell_type": "code",
   "source": [
    "# np.linspace\n",
    "np.linspace(-10, 10, 10)"
   ],
   "outputs": [
    {
     "data": {
      "text/plain": [
       "array([-10.        ,  -7.77777778,  -5.55555556,  -3.33333333,\n",
       "        -1.11111111,   1.11111111,   3.33333333,   5.55555556,\n",
       "         7.77777778,  10.        ])"
      ]
     },
     "execution_count": 23,
     "metadata": {},
     "output_type": "execute_result"
    }
   ],
   "execution_count": 23
  },
  {
   "metadata": {
    "ExecuteTime": {
     "end_time": "2024-09-21T23:11:16.784712Z",
     "start_time": "2024-09-21T23:11:16.779386Z"
    }
   },
   "cell_type": "code",
   "source": "np.linspace(-10, 10, 10, dtype=int)",
   "outputs": [
    {
     "data": {
      "text/plain": [
       "array([-10,  -8,  -6,  -4,  -2,   1,   3,   5,   7,  10])"
      ]
     },
     "execution_count": 24,
     "metadata": {},
     "output_type": "execute_result"
    }
   ],
   "execution_count": 24
  },
  {
   "metadata": {
    "ExecuteTime": {
     "end_time": "2024-09-21T23:11:50.101301Z",
     "start_time": "2024-09-21T23:11:50.097082Z"
    }
   },
   "cell_type": "code",
   "source": [
    "# np.identity\n",
    "np.identity(3)"
   ],
   "outputs": [
    {
     "data": {
      "text/plain": [
       "array([[1., 0., 0.],\n",
       "       [0., 1., 0.],\n",
       "       [0., 0., 1.]])"
      ]
     },
     "execution_count": 26,
     "metadata": {},
     "output_type": "execute_result"
    }
   ],
   "execution_count": 26
  },
  {
   "cell_type": "markdown",
   "source": [
    "### Array Attributes"
   ],
   "metadata": {
    "id": "LphXpjZJtNyI"
   }
  },
  {
   "metadata": {
    "ExecuteTime": {
     "end_time": "2024-09-21T23:16:01.257201Z",
     "start_time": "2024-09-21T23:16:01.253181Z"
    }
   },
   "cell_type": "code",
   "source": [
    "a1 = np.arange(10)\n",
    "a2 = np.arange(12, dtype=float).reshape(3, 4)\n",
    "a3 = np.arange(8).reshape(2, 2, 2)\n",
    "print(a1)\n",
    "print()\n",
    "print(a2)\n",
    "print()\n",
    "print(a3)"
   ],
   "outputs": [
    {
     "name": "stdout",
     "output_type": "stream",
     "text": [
      "[0 1 2 3 4 5 6 7 8 9]\n",
      "\n",
      "[[ 0.  1.  2.  3.]\n",
      " [ 4.  5.  6.  7.]\n",
      " [ 8.  9. 10. 11.]]\n",
      "\n",
      "[[[0 1]\n",
      "  [2 3]]\n",
      "\n",
      " [[4 5]\n",
      "  [6 7]]]\n"
     ]
    }
   ],
   "execution_count": 28
  },
  {
   "metadata": {
    "ExecuteTime": {
     "end_time": "2024-09-21T23:16:57.043174Z",
     "start_time": "2024-09-21T23:16:57.036827Z"
    }
   },
   "cell_type": "code",
   "source": [
    "# ndim\n",
    "print(a1.ndim)\n",
    "print(a2.ndim)\n",
    "print(a3.ndim)"
   ],
   "outputs": [
    {
     "name": "stdout",
     "output_type": "stream",
     "text": [
      "1\n",
      "2\n",
      "3\n"
     ]
    }
   ],
   "execution_count": 30
  },
  {
   "metadata": {
    "ExecuteTime": {
     "end_time": "2024-09-21T23:17:39.842744Z",
     "start_time": "2024-09-21T23:17:39.839328Z"
    }
   },
   "cell_type": "code",
   "source": [
    "# shape\n",
    "print(a1.shape)\n",
    "print(a2.shape)\n",
    "print(a3.shape)"
   ],
   "outputs": [
    {
     "name": "stdout",
     "output_type": "stream",
     "text": [
      "(10,)\n",
      "(3, 4)\n",
      "(2, 2, 2)\n"
     ]
    }
   ],
   "execution_count": 31
  },
  {
   "metadata": {
    "ExecuteTime": {
     "end_time": "2024-09-21T23:19:32.135558Z",
     "start_time": "2024-09-21T23:19:32.131125Z"
    }
   },
   "cell_type": "code",
   "source": [
    "# size   - total no. of items\n",
    "print(a1.size)\n",
    "print(a2.size)\n",
    "print(a3.size)"
   ],
   "outputs": [
    {
     "name": "stdout",
     "output_type": "stream",
     "text": [
      "10\n",
      "12\n",
      "8\n"
     ]
    }
   ],
   "execution_count": 32
  },
  {
   "metadata": {
    "ExecuteTime": {
     "end_time": "2024-09-21T23:20:27.549430Z",
     "start_time": "2024-09-21T23:20:27.545656Z"
    }
   },
   "cell_type": "code",
   "source": [
    "# itemsize  - how much storage is each byte taking\n",
    "print(a1.itemsize)\n",
    "print(a2.itemsize)\n",
    "print(a3.itemsize)"
   ],
   "outputs": [
    {
     "name": "stdout",
     "output_type": "stream",
     "text": [
      "4\n",
      "8\n",
      "4\n"
     ]
    }
   ],
   "execution_count": 33
  },
  {
   "metadata": {},
   "cell_type": "code",
   "outputs": [],
   "execution_count": null,
   "source": [
    "# in above example we got different because the a1 and a3 have int32 it takes 4 bytes and float uses 8 bytes\n",
    "# See below code"
   ]
  },
  {
   "metadata": {
    "ExecuteTime": {
     "end_time": "2024-09-21T23:23:02.629213Z",
     "start_time": "2024-09-21T23:23:02.624123Z"
    }
   },
   "cell_type": "code",
   "source": [
    "# dtype\n",
    "print(a1.dtype)\n",
    "print(a2.dtype)\n",
    "print(a3.dtype)"
   ],
   "outputs": [
    {
     "name": "stdout",
     "output_type": "stream",
     "text": [
      "int32\n",
      "float64\n",
      "int32\n"
     ]
    }
   ],
   "execution_count": 34
  },
  {
   "cell_type": "markdown",
   "source": [
    "### Changing Datatype"
   ],
   "metadata": {
    "id": "7Ase0eFWtcFl"
   }
  },
  {
   "metadata": {
    "ExecuteTime": {
     "end_time": "2024-09-21T23:27:04.278553Z",
     "start_time": "2024-09-21T23:27:04.273295Z"
    }
   },
   "cell_type": "code",
   "source": [
    "# astype\n",
    "a3 = np.arange(8, dtype=np.int64).reshape(2, 2, 2)\n",
    "print(a3)\n",
    "print(a3.dtype)"
   ],
   "outputs": [
    {
     "name": "stdout",
     "output_type": "stream",
     "text": [
      "[[[0 1]\n",
      "  [2 3]]\n",
      "\n",
      " [[4 5]\n",
      "  [6 7]]]\n",
      "int64\n"
     ]
    }
   ],
   "execution_count": 39
  },
  {
   "metadata": {
    "ExecuteTime": {
     "end_time": "2024-09-21T23:27:25.979324Z",
     "start_time": "2024-09-21T23:27:25.973592Z"
    }
   },
   "cell_type": "code",
   "source": "a3.astype(np.int32)",
   "outputs": [
    {
     "data": {
      "text/plain": [
       "array([[[0, 1],\n",
       "        [2, 3]],\n",
       "\n",
       "       [[4, 5],\n",
       "        [6, 7]]])"
      ]
     },
     "execution_count": 40,
     "metadata": {},
     "output_type": "execute_result"
    }
   ],
   "execution_count": 40
  },
  {
   "cell_type": "markdown",
   "source": [
    "### Array Operations"
   ],
   "metadata": {
    "id": "k-y-aaV9u52l"
   }
  },
  {
   "metadata": {
    "ExecuteTime": {
     "end_time": "2024-09-21T23:31:13.176260Z",
     "start_time": "2024-09-21T23:31:13.171620Z"
    }
   },
   "cell_type": "code",
   "source": [
    "a1 = np.arange(12).reshape(3, 4)\n",
    "a2 = np.arange(12, 24).reshape(3, 4)\n",
    "print(a1)\n",
    "print()\n",
    "print(a2)"
   ],
   "outputs": [
    {
     "name": "stdout",
     "output_type": "stream",
     "text": [
      "[[ 0  1  2  3]\n",
      " [ 4  5  6  7]\n",
      " [ 8  9 10 11]]\n",
      "\n",
      "[[12 13 14 15]\n",
      " [16 17 18 19]\n",
      " [20 21 22 23]]\n"
     ]
    }
   ],
   "execution_count": 42
  },
  {
   "metadata": {
    "ExecuteTime": {
     "end_time": "2024-09-21T23:32:03.144774Z",
     "start_time": "2024-09-21T23:32:03.141468Z"
    }
   },
   "cell_type": "code",
   "source": [
    "# scalar operations\n",
    "\n",
    "# arithmetic\n",
    "a1 * 2"
   ],
   "outputs": [
    {
     "data": {
      "text/plain": [
       "array([[ 0,  2,  4,  6],\n",
       "       [ 8, 10, 12, 14],\n",
       "       [16, 18, 20, 22]])"
      ]
     },
     "execution_count": 44,
     "metadata": {},
     "output_type": "execute_result"
    }
   ],
   "execution_count": 44
  },
  {
   "metadata": {
    "ExecuteTime": {
     "end_time": "2024-09-21T23:33:11.342028Z",
     "start_time": "2024-09-21T23:33:11.339004Z"
    }
   },
   "cell_type": "code",
   "source": [
    "# relational \n",
    "# -> return True or False \n",
    "print(a1)\n",
    "print()\n",
    "print(a1 > 5)"
   ],
   "outputs": [
    {
     "name": "stdout",
     "output_type": "stream",
     "text": [
      "[[ 0  1  2  3]\n",
      " [ 4  5  6  7]\n",
      " [ 8  9 10 11]]\n",
      "\n",
      "[[False False False False]\n",
      " [False False  True  True]\n",
      " [ True  True  True  True]]\n"
     ]
    }
   ],
   "execution_count": 47
  },
  {
   "metadata": {
    "ExecuteTime": {
     "end_time": "2024-09-21T23:35:48.354199Z",
     "start_time": "2024-09-21T23:35:48.349392Z"
    }
   },
   "cell_type": "code",
   "source": [
    "# vector operations\n",
    "# arithmetic\n",
    "# since they both have same shape, it will get added\n",
    "print(a1)\n",
    "print(a2)\n",
    "print()\n",
    "\n",
    "print(a1 + a2)"
   ],
   "outputs": [
    {
     "name": "stdout",
     "output_type": "stream",
     "text": [
      "[[ 0  1  2  3]\n",
      " [ 4  5  6  7]\n",
      " [ 8  9 10 11]]\n",
      "[[12 13 14 15]\n",
      " [16 17 18 19]\n",
      " [20 21 22 23]]\n",
      "\n",
      "[[12 14 16 18]\n",
      " [20 22 24 26]\n",
      " [28 30 32 34]]\n"
     ]
    }
   ],
   "execution_count": 51
  },
  {
   "cell_type": "markdown",
   "source": [
    "### Array Functions"
   ],
   "metadata": {
    "id": "AQZgntYTu8ot"
   }
  },
  {
   "metadata": {
    "ExecuteTime": {
     "end_time": "2024-09-21T23:40:43.390250Z",
     "start_time": "2024-09-21T23:40:43.386614Z"
    }
   },
   "cell_type": "code",
   "source": [
    "# numbers between 1 to 100\n",
    "\n",
    "a1 = np.random.random((3, 3))\n",
    "a1 = np.round(a1 * 100)\n",
    "print(a1)"
   ],
   "outputs": [
    {
     "name": "stdout",
     "output_type": "stream",
     "text": [
      "[[43.  7. 55.]\n",
      " [ 0. 20. 22.]\n",
      " [11.  8. 88.]]\n"
     ]
    }
   ],
   "execution_count": 58
  },
  {
   "metadata": {
    "ExecuteTime": {
     "end_time": "2024-09-21T23:41:29.794284Z",
     "start_time": "2024-09-21T23:41:29.790319Z"
    }
   },
   "cell_type": "code",
   "source": [
    "# min/max/sum/prod\n",
    "print(np.max(a1))\n",
    "print(np.min(a1))\n",
    "print(np.sum(a1))\n",
    "print(np.prod(a1))"
   ],
   "outputs": [
    {
     "name": "stdout",
     "output_type": "stream",
     "text": [
      "88.0\n",
      "0.0\n",
      "254.0\n",
      "0.0\n"
     ]
    }
   ],
   "execution_count": 64
  },
  {
   "metadata": {
    "ExecuteTime": {
     "end_time": "2024-09-21T23:43:19.182046Z",
     "start_time": "2024-09-21T23:43:19.177008Z"
    }
   },
   "cell_type": "code",
   "source": [
    "print(np.max(a1, axis=1))\n",
    "print(np.min(a1, axis=1))\n",
    "print(np.sum(a1, axis=1))\n",
    "print(np.prod(a1, axis=1))"
   ],
   "outputs": [
    {
     "name": "stdout",
     "output_type": "stream",
     "text": [
      "[55. 22. 88.]\n",
      "[7. 0. 8.]\n",
      "[105.  42. 107.]\n",
      "[16555.     0.  7744.]\n"
     ]
    }
   ],
   "execution_count": 66
  },
  {
   "metadata": {
    "ExecuteTime": {
     "end_time": "2024-09-21T23:44:43.202912Z",
     "start_time": "2024-09-21T23:44:43.194010Z"
    }
   },
   "cell_type": "code",
   "source": [
    "# mean/median/std/var\n",
    "print(np.mean(a1))\n",
    "print(np.mean(a1, axis=1))\n",
    "print(np.median(a1))\n",
    "print(np.std(a1))\n",
    "print(np.var(a1))"
   ],
   "outputs": [
    {
     "name": "stdout",
     "output_type": "stream",
     "text": [
      "28.22222222222222\n",
      "[35.         14.         35.66666667]\n",
      "20.0\n",
      "27.013485429720625\n",
      "729.7283950617284\n"
     ]
    }
   ],
   "execution_count": 68
  },
  {
   "metadata": {
    "ExecuteTime": {
     "end_time": "2024-09-21T23:45:01.428427Z",
     "start_time": "2024-09-21T23:45:01.423140Z"
    }
   },
   "cell_type": "code",
   "source": [
    "# trignometry   - sin/cos/tan\n",
    "np.sin(a1)"
   ],
   "outputs": [
    {
     "data": {
      "text/plain": [
       "array([[-0.83177474,  0.6569866 , -0.99975517],\n",
       "       [ 0.        ,  0.91294525, -0.00885131],\n",
       "       [-0.99999021,  0.98935825,  0.0353983 ]])"
      ]
     },
     "execution_count": 69,
     "metadata": {},
     "output_type": "execute_result"
    }
   ],
   "execution_count": 69
  },
  {
   "metadata": {
    "ExecuteTime": {
     "end_time": "2024-09-21T23:48:50.486196Z",
     "start_time": "2024-09-21T23:48:50.481436Z"
    }
   },
   "cell_type": "code",
   "source": [
    "# dot product\n",
    "a2 = np.ones(4).reshape(2, 2)\n",
    "a3 = np.arange(4).reshape(2, 2)\n",
    "print(a2)\n",
    "print(a3)\n",
    "print()\n",
    "print(np.dot(a2, a3))"
   ],
   "outputs": [
    {
     "name": "stdout",
     "output_type": "stream",
     "text": [
      "[[1. 1.]\n",
      " [1. 1.]]\n",
      "[[0 1]\n",
      " [2 3]]\n",
      "\n",
      "[[2. 4.]\n",
      " [2. 4.]]\n"
     ]
    }
   ],
   "execution_count": 80
  },
  {
   "metadata": {
    "ExecuteTime": {
     "end_time": "2024-09-21T23:54:41.290478Z",
     "start_time": "2024-09-21T23:54:41.284905Z"
    }
   },
   "cell_type": "code",
   "source": "np.multiply(a2, a3)",
   "outputs": [
    {
     "data": {
      "text/plain": [
       "array([[0., 1.],\n",
       "       [2., 3.]])"
      ]
     },
     "execution_count": 92,
     "metadata": {},
     "output_type": "execute_result"
    }
   ],
   "execution_count": 92
  },
  {
   "metadata": {
    "ExecuteTime": {
     "end_time": "2024-09-21T23:50:48.893168Z",
     "start_time": "2024-09-21T23:50:48.887965Z"
    }
   },
   "cell_type": "code",
   "source": [
    "# log and exponents\n",
    "a1 = np.arange(1, 10).reshape(3, 3)\n",
    "print(a1)\n",
    "print()\n",
    "np.log(a1)"
   ],
   "outputs": [
    {
     "name": "stdout",
     "output_type": "stream",
     "text": [
      "[[1 2 3]\n",
      " [4 5 6]\n",
      " [7 8 9]]\n",
      "\n"
     ]
    },
    {
     "data": {
      "text/plain": [
       "array([[0.        , 0.69314718, 1.09861229],\n",
       "       [1.38629436, 1.60943791, 1.79175947],\n",
       "       [1.94591015, 2.07944154, 2.19722458]])"
      ]
     },
     "execution_count": 85,
     "metadata": {},
     "output_type": "execute_result"
    }
   ],
   "execution_count": 85
  },
  {
   "metadata": {
    "ExecuteTime": {
     "end_time": "2024-09-21T23:50:39.900016Z",
     "start_time": "2024-09-21T23:50:39.895297Z"
    }
   },
   "cell_type": "code",
   "source": "np.exp(a1)",
   "outputs": [
    {
     "data": {
      "text/plain": [
       "array([[2.71828183e+00, 7.38905610e+00, 2.00855369e+01],\n",
       "       [5.45981500e+01, 1.48413159e+02, 4.03428793e+02],\n",
       "       [1.09663316e+03, 2.98095799e+03, 8.10308393e+03]])"
      ]
     },
     "execution_count": 84,
     "metadata": {},
     "output_type": "execute_result"
    }
   ],
   "execution_count": 84
  },
  {
   "metadata": {
    "ExecuteTime": {
     "end_time": "2024-09-21T23:53:51.774861Z",
     "start_time": "2024-09-21T23:53:51.770941Z"
    }
   },
   "cell_type": "code",
   "source": [
    "# round/floor/ceil\n",
    "a_random = np.random.random((2, 3))\n",
    "print(a_random)\n",
    "print()\n",
    "\n",
    "print(np.round(a_random * 100))\n",
    "print()\n",
    "print(np.floor(a_random * 100))\n",
    "print()\n",
    "print(np.ceil(a_random * 100))"
   ],
   "outputs": [
    {
     "name": "stdout",
     "output_type": "stream",
     "text": [
      "[[0.92630802 0.98087173 0.94882222]\n",
      " [0.24390337 0.20826878 0.06515192]]\n",
      "\n",
      "[[93. 98. 95.]\n",
      " [24. 21.  7.]]\n",
      "\n",
      "[[92. 98. 94.]\n",
      " [24. 20.  6.]]\n",
      "\n",
      "[[93. 99. 95.]\n",
      " [25. 21.  7.]]\n"
     ]
    }
   ],
   "execution_count": 90
  },
  {
   "cell_type": "markdown",
   "source": [
    "### Indexing and Slicing"
   ],
   "metadata": {
    "id": "2pYZJMrAuvuv"
   }
  },
  {
   "cell_type": "code",
   "source": [
    "a1 = np.arange(10)\n",
    "a2 = np.arange(12).reshape(3, 4)\n",
    "a3 = np.arange(8).reshape((2, 2, 2))\n",
    "\n",
    "print(a1)\n",
    "print()\n",
    "print(a2)\n",
    "print()\n",
    "print(a3)"
   ],
   "metadata": {
    "id": "av7DbeP5K7Xf",
    "ExecuteTime": {
     "end_time": "2024-09-22T00:31:10.383911Z",
     "start_time": "2024-09-22T00:31:10.380287Z"
    }
   },
   "outputs": [
    {
     "name": "stdout",
     "output_type": "stream",
     "text": [
      "[0 1 2 3 4 5 6 7 8 9]\n",
      "\n",
      "[[ 0  1  2  3]\n",
      " [ 4  5  6  7]\n",
      " [ 8  9 10 11]]\n",
      "\n",
      "[[[0 1]\n",
      "  [2 3]]\n",
      "\n",
      " [[4 5]\n",
      "  [6 7]]]\n"
     ]
    }
   ],
   "execution_count": 94
  },
  {
   "cell_type": "code",
   "source": "a1[-1]",
   "metadata": {
    "id": "MTLPaOobK7dc",
    "ExecuteTime": {
     "end_time": "2024-09-22T00:31:16.687086Z",
     "start_time": "2024-09-22T00:31:16.682935Z"
    }
   },
   "outputs": [
    {
     "data": {
      "text/plain": [
       "9"
      ]
     },
     "execution_count": 95,
     "metadata": {},
     "output_type": "execute_result"
    }
   ],
   "execution_count": 95
  },
  {
   "cell_type": "code",
   "source": "a1[0]",
   "metadata": {
    "id": "0StTG7ycK7kQ",
    "ExecuteTime": {
     "end_time": "2024-09-22T00:31:21.441141Z",
     "start_time": "2024-09-22T00:31:21.437891Z"
    }
   },
   "outputs": [
    {
     "data": {
      "text/plain": [
       "0"
      ]
     },
     "execution_count": 96,
     "metadata": {},
     "output_type": "execute_result"
    }
   ],
   "execution_count": 96
  },
  {
   "cell_type": "code",
   "source": [
    "print(a2)\n",
    "a2[1, 2]"
   ],
   "metadata": {
    "id": "mkUuhK9UK7pA",
    "ExecuteTime": {
     "end_time": "2024-09-22T00:33:03.812340Z",
     "start_time": "2024-09-22T00:33:03.807271Z"
    }
   },
   "outputs": [
    {
     "name": "stdout",
     "output_type": "stream",
     "text": [
      "[[ 0  1  2  3]\n",
      " [ 4  5  6  7]\n",
      " [ 8  9 10 11]]\n"
     ]
    },
    {
     "data": {
      "text/plain": [
       "6"
      ]
     },
     "execution_count": 101,
     "metadata": {},
     "output_type": "execute_result"
    }
   ],
   "execution_count": 101
  },
  {
   "metadata": {
    "ExecuteTime": {
     "end_time": "2024-09-22T00:33:25.807724Z",
     "start_time": "2024-09-22T00:33:25.804206Z"
    }
   },
   "cell_type": "code",
   "source": "a2[1, 0]",
   "outputs": [
    {
     "data": {
      "text/plain": [
       "4"
      ]
     },
     "execution_count": 102,
     "metadata": {},
     "output_type": "execute_result"
    }
   ],
   "execution_count": 102
  },
  {
   "metadata": {
    "ExecuteTime": {
     "end_time": "2024-09-22T00:33:56.016525Z",
     "start_time": "2024-09-22T00:33:56.011797Z"
    }
   },
   "cell_type": "code",
   "source": "a3",
   "outputs": [
    {
     "data": {
      "text/plain": [
       "array([[[0, 1],\n",
       "        [2, 3]],\n",
       "\n",
       "       [[4, 5],\n",
       "        [6, 7]]])"
      ]
     },
     "execution_count": 103,
     "metadata": {},
     "output_type": "execute_result"
    }
   ],
   "execution_count": 103
  },
  {
   "metadata": {
    "ExecuteTime": {
     "end_time": "2024-09-22T01:18:29.296170Z",
     "start_time": "2024-09-22T01:18:29.287380Z"
    }
   },
   "cell_type": "code",
   "source": "print(a3[1])",
   "outputs": [
    {
     "name": "stdout",
     "output_type": "stream",
     "text": [
      "[[4 5]\n",
      " [6 7]]\n"
     ]
    }
   ],
   "execution_count": 112
  },
  {
   "metadata": {
    "ExecuteTime": {
     "end_time": "2024-09-22T01:18:43.082511Z",
     "start_time": "2024-09-22T01:18:43.072356Z"
    }
   },
   "cell_type": "code",
   "source": "a3[1, 0]",
   "outputs": [
    {
     "data": {
      "text/plain": [
       "array([4, 5])"
      ]
     },
     "execution_count": 113,
     "metadata": {},
     "output_type": "execute_result"
    }
   ],
   "execution_count": 113
  },
  {
   "metadata": {
    "ExecuteTime": {
     "end_time": "2024-09-22T01:19:07.826179Z",
     "start_time": "2024-09-22T01:19:07.818628Z"
    }
   },
   "cell_type": "code",
   "source": "a3[1, 1]",
   "outputs": [
    {
     "data": {
      "text/plain": [
       "array([6, 7])"
      ]
     },
     "execution_count": 115,
     "metadata": {},
     "output_type": "execute_result"
    }
   ],
   "execution_count": 115
  },
  {
   "metadata": {
    "ExecuteTime": {
     "end_time": "2024-09-22T01:15:00.011554Z",
     "start_time": "2024-09-22T01:15:00.004789Z"
    }
   },
   "cell_type": "code",
   "source": "a3[1, 0, 1]",
   "outputs": [
    {
     "data": {
      "text/plain": [
       "5"
      ]
     },
     "execution_count": 104,
     "metadata": {},
     "output_type": "execute_result"
    }
   ],
   "execution_count": 104
  },
  {
   "metadata": {
    "ExecuteTime": {
     "end_time": "2024-09-22T01:15:37.454997Z",
     "start_time": "2024-09-22T01:15:37.445710Z"
    }
   },
   "cell_type": "code",
   "source": "a3[0, 1, 0]",
   "outputs": [
    {
     "data": {
      "text/plain": [
       "2"
      ]
     },
     "execution_count": 106,
     "metadata": {},
     "output_type": "execute_result"
    }
   ],
   "execution_count": 106
  },
  {
   "metadata": {
    "ExecuteTime": {
     "end_time": "2024-09-22T01:15:45.366403Z",
     "start_time": "2024-09-22T01:15:45.359369Z"
    }
   },
   "cell_type": "code",
   "source": "a3[0, 0, 0]",
   "outputs": [
    {
     "data": {
      "text/plain": [
       "0"
      ]
     },
     "execution_count": 107,
     "metadata": {},
     "output_type": "execute_result"
    }
   ],
   "execution_count": 107
  },
  {
   "metadata": {
    "ExecuteTime": {
     "end_time": "2024-09-22T01:16:42.597614Z",
     "start_time": "2024-09-22T01:16:42.591552Z"
    }
   },
   "cell_type": "code",
   "source": "a3[1, 1, 0]",
   "outputs": [
    {
     "data": {
      "text/plain": [
       "6"
      ]
     },
     "execution_count": 108,
     "metadata": {},
     "output_type": "execute_result"
    }
   ],
   "execution_count": 108
  },
  {
   "metadata": {
    "ExecuteTime": {
     "end_time": "2024-09-22T01:17:35.055347Z",
     "start_time": "2024-09-22T01:17:35.041822Z"
    }
   },
   "cell_type": "code",
   "source": "a1",
   "outputs": [
    {
     "data": {
      "text/plain": [
       "array([0, 1, 2, 3, 4, 5, 6, 7, 8, 9])"
      ]
     },
     "execution_count": 109,
     "metadata": {},
     "output_type": "execute_result"
    }
   ],
   "execution_count": 109
  },
  {
   "metadata": {
    "ExecuteTime": {
     "end_time": "2024-09-22T01:17:57.564842Z",
     "start_time": "2024-09-22T01:17:57.555751Z"
    }
   },
   "cell_type": "code",
   "source": "a1[2:5]",
   "outputs": [
    {
     "data": {
      "text/plain": [
       "array([2, 3, 4])"
      ]
     },
     "execution_count": 110,
     "metadata": {},
     "output_type": "execute_result"
    }
   ],
   "execution_count": 110
  },
  {
   "metadata": {
    "ExecuteTime": {
     "end_time": "2024-09-22T01:19:53.314351Z",
     "start_time": "2024-09-22T01:19:53.303249Z"
    }
   },
   "cell_type": "code",
   "source": "a1[-1:-5:-1]",
   "outputs": [
    {
     "data": {
      "text/plain": [
       "array([9, 8, 7, 6])"
      ]
     },
     "execution_count": 118,
     "metadata": {},
     "output_type": "execute_result"
    }
   ],
   "execution_count": 118
  },
  {
   "metadata": {
    "ExecuteTime": {
     "end_time": "2024-09-22T01:20:21.284068Z",
     "start_time": "2024-09-22T01:20:21.276963Z"
    }
   },
   "cell_type": "code",
   "source": [
    "print(a2)\n",
    "a2[0]"
   ],
   "outputs": [
    {
     "name": "stdout",
     "output_type": "stream",
     "text": [
      "[[ 0  1  2  3]\n",
      " [ 4  5  6  7]\n",
      " [ 8  9 10 11]]\n"
     ]
    },
    {
     "data": {
      "text/plain": [
       "array([0, 1, 2, 3])"
      ]
     },
     "execution_count": 121,
     "metadata": {},
     "output_type": "execute_result"
    }
   ],
   "execution_count": 121
  },
  {
   "cell_type": "code",
   "source": "a2[0, 2]",
   "metadata": {
    "id": "JyonJsQVK7tm",
    "ExecuteTime": {
     "end_time": "2024-09-22T01:20:53.110527Z",
     "start_time": "2024-09-22T01:20:53.106133Z"
    }
   },
   "outputs": [
    {
     "data": {
      "text/plain": [
       "2"
      ]
     },
     "execution_count": 122,
     "metadata": {},
     "output_type": "execute_result"
    }
   ],
   "execution_count": 122
  },
  {
   "metadata": {
    "ExecuteTime": {
     "end_time": "2024-09-22T01:51:45.482922Z",
     "start_time": "2024-09-22T01:51:45.465196Z"
    }
   },
   "cell_type": "code",
   "source": "a2[:, 2]",
   "outputs": [
    {
     "data": {
      "text/plain": [
       "array([ 2,  6, 10])"
      ]
     },
     "execution_count": 123,
     "metadata": {},
     "output_type": "execute_result"
    }
   ],
   "execution_count": 123
  },
  {
   "metadata": {
    "ExecuteTime": {
     "end_time": "2024-09-22T01:52:50.382193Z",
     "start_time": "2024-09-22T01:52:50.376906Z"
    }
   },
   "cell_type": "code",
   "source": "print(a2[1:3, 1:3])",
   "outputs": [
    {
     "name": "stdout",
     "output_type": "stream",
     "text": [
      "[[ 5  6]\n",
      " [ 9 10]]\n"
     ]
    }
   ],
   "execution_count": 125
  },
  {
   "metadata": {
    "ExecuteTime": {
     "end_time": "2024-09-22T01:55:00.464960Z",
     "start_time": "2024-09-22T01:55:00.459035Z"
    }
   },
   "cell_type": "code",
   "source": "print(a2[::2, ::3])",
   "outputs": [
    {
     "name": "stdout",
     "output_type": "stream",
     "text": [
      "[[ 0  3]\n",
      " [ 8 11]]\n"
     ]
    }
   ],
   "execution_count": 127
  },
  {
   "metadata": {
    "ExecuteTime": {
     "end_time": "2024-09-22T01:56:38.596840Z",
     "start_time": "2024-09-22T01:56:38.588812Z"
    }
   },
   "cell_type": "code",
   "source": "print(a2[::2, 1::2])",
   "outputs": [
    {
     "name": "stdout",
     "output_type": "stream",
     "text": [
      "[[ 1  3]\n",
      " [ 9 11]]\n"
     ]
    }
   ],
   "execution_count": 130
  },
  {
   "metadata": {
    "ExecuteTime": {
     "end_time": "2024-09-22T19:39:48.023546Z",
     "start_time": "2024-09-22T19:39:48.007206Z"
    }
   },
   "cell_type": "code",
   "source": "a2[1, 0::3]",
   "outputs": [
    {
     "data": {
      "text/plain": [
       "array([4, 7])"
      ]
     },
     "execution_count": 131,
     "metadata": {},
     "output_type": "execute_result"
    }
   ],
   "execution_count": 131
  },
  {
   "metadata": {
    "ExecuteTime": {
     "end_time": "2024-09-22T19:40:38.695646Z",
     "start_time": "2024-09-22T19:40:38.690636Z"
    }
   },
   "cell_type": "code",
   "source": "print(a2[0:2, 1:])",
   "outputs": [
    {
     "name": "stdout",
     "output_type": "stream",
     "text": [
      "[[1 2 3]\n",
      " [5 6 7]]\n"
     ]
    }
   ],
   "execution_count": 133
  },
  {
   "metadata": {
    "ExecuteTime": {
     "end_time": "2024-09-22T19:43:16.096864Z",
     "start_time": "2024-09-22T19:43:16.092197Z"
    }
   },
   "cell_type": "code",
   "source": [
    "a3 = np.arange(27).reshape(3, 3, 3)\n",
    "print(a3)"
   ],
   "outputs": [
    {
     "name": "stdout",
     "output_type": "stream",
     "text": [
      "[[[ 0  1  2]\n",
      "  [ 3  4  5]\n",
      "  [ 6  7  8]]\n",
      "\n",
      " [[ 9 10 11]\n",
      "  [12 13 14]\n",
      "  [15 16 17]]\n",
      "\n",
      " [[18 19 20]\n",
      "  [21 22 23]\n",
      "  [24 25 26]]]\n"
     ]
    }
   ],
   "execution_count": 136
  },
  {
   "metadata": {
    "ExecuteTime": {
     "end_time": "2024-09-22T19:43:37.027262Z",
     "start_time": "2024-09-22T19:43:37.023874Z"
    }
   },
   "cell_type": "code",
   "source": "print(a3[1])",
   "outputs": [
    {
     "name": "stdout",
     "output_type": "stream",
     "text": [
      "[[ 9 10 11]\n",
      " [12 13 14]\n",
      " [15 16 17]]\n"
     ]
    }
   ],
   "execution_count": 138
  },
  {
   "metadata": {
    "ExecuteTime": {
     "end_time": "2024-09-22T19:44:10.500465Z",
     "start_time": "2024-09-22T19:44:10.496159Z"
    }
   },
   "cell_type": "code",
   "source": "print(a3[::2])",
   "outputs": [
    {
     "name": "stdout",
     "output_type": "stream",
     "text": [
      "[[[ 0  1  2]\n",
      "  [ 3  4  5]\n",
      "  [ 6  7  8]]\n",
      "\n",
      " [[18 19 20]\n",
      "  [21 22 23]\n",
      "  [24 25 26]]]\n"
     ]
    }
   ],
   "execution_count": 139
  },
  {
   "metadata": {
    "ExecuteTime": {
     "end_time": "2024-09-22T19:44:50.052437Z",
     "start_time": "2024-09-22T19:44:50.047460Z"
    }
   },
   "cell_type": "code",
   "source": "print(a3[0,1])",
   "outputs": [
    {
     "name": "stdout",
     "output_type": "stream",
     "text": [
      "[3 4 5]\n"
     ]
    }
   ],
   "execution_count": 140
  },
  {
   "metadata": {
    "ExecuteTime": {
     "end_time": "2024-09-22T19:45:39.178460Z",
     "start_time": "2024-09-22T19:45:39.175262Z"
    }
   },
   "cell_type": "code",
   "source": "print(a3[1,:,1])",
   "outputs": [
    {
     "name": "stdout",
     "output_type": "stream",
     "text": [
      "[10 13 16]\n"
     ]
    }
   ],
   "execution_count": 141
  },
  {
   "metadata": {
    "ExecuteTime": {
     "end_time": "2024-09-22T19:46:23.388088Z",
     "start_time": "2024-09-22T19:46:23.384682Z"
    }
   },
   "cell_type": "code",
   "source": "print(a3[2,1:,1:])",
   "outputs": [
    {
     "name": "stdout",
     "output_type": "stream",
     "text": [
      "[[22 23]\n",
      " [25 26]]\n"
     ]
    }
   ],
   "execution_count": 142
  },
  {
   "metadata": {
    "ExecuteTime": {
     "end_time": "2024-09-22T19:47:03.527513Z",
     "start_time": "2024-09-22T19:47:03.523888Z"
    }
   },
   "cell_type": "code",
   "source": "print(a3[::2,0,::2])",
   "outputs": [
    {
     "name": "stdout",
     "output_type": "stream",
     "text": [
      "[[ 0  2]\n",
      " [18 20]]\n"
     ]
    }
   ],
   "execution_count": 143
  },
  {
   "cell_type": "markdown",
   "source": [
    "### Iterating"
   ],
   "metadata": {
    "id": "dUv9qM1yuIKJ"
   }
  },
  {
   "metadata": {
    "ExecuteTime": {
     "end_time": "2024-09-22T19:49:46.483314Z",
     "start_time": "2024-09-22T19:49:46.480382Z"
    }
   },
   "cell_type": "code",
   "source": [
    "print(a1)\n",
    "\n",
    "for i in a1:\n",
    "    print(i)"
   ],
   "outputs": [
    {
     "name": "stdout",
     "output_type": "stream",
     "text": [
      "[0 1 2 3 4 5 6 7 8 9]\n",
      "0\n",
      "1\n",
      "2\n",
      "3\n",
      "4\n",
      "5\n",
      "6\n",
      "7\n",
      "8\n",
      "9\n"
     ]
    }
   ],
   "execution_count": 147
  },
  {
   "metadata": {
    "ExecuteTime": {
     "end_time": "2024-09-22T19:50:25.573450Z",
     "start_time": "2024-09-22T19:50:25.570179Z"
    }
   },
   "cell_type": "code",
   "source": "print(a2)",
   "outputs": [
    {
     "name": "stdout",
     "output_type": "stream",
     "text": [
      "[[ 0  1  2  3]\n",
      " [ 4  5  6  7]\n",
      " [ 8  9 10 11]]\n"
     ]
    }
   ],
   "execution_count": 150
  },
  {
   "metadata": {
    "ExecuteTime": {
     "end_time": "2024-09-22T19:50:21.906823Z",
     "start_time": "2024-09-22T19:50:21.901951Z"
    }
   },
   "cell_type": "code",
   "source": [
    "for i in a2:\n",
    "    print(i)"
   ],
   "outputs": [
    {
     "name": "stdout",
     "output_type": "stream",
     "text": [
      "[0 1 2 3]\n",
      "[4 5 6 7]\n",
      "[ 8  9 10 11]\n"
     ]
    }
   ],
   "execution_count": 149
  },
  {
   "metadata": {
    "ExecuteTime": {
     "end_time": "2024-09-22T19:50:28.935205Z",
     "start_time": "2024-09-22T19:50:28.932453Z"
    }
   },
   "cell_type": "code",
   "source": "print(a3)",
   "outputs": [
    {
     "name": "stdout",
     "output_type": "stream",
     "text": [
      "[[[ 0  1  2]\n",
      "  [ 3  4  5]\n",
      "  [ 6  7  8]]\n",
      "\n",
      " [[ 9 10 11]\n",
      "  [12 13 14]\n",
      "  [15 16 17]]\n",
      "\n",
      " [[18 19 20]\n",
      "  [21 22 23]\n",
      "  [24 25 26]]]\n"
     ]
    }
   ],
   "execution_count": 151
  },
  {
   "metadata": {
    "ExecuteTime": {
     "end_time": "2024-09-22T19:50:35.718410Z",
     "start_time": "2024-09-22T19:50:35.714771Z"
    }
   },
   "cell_type": "code",
   "source": [
    "for i in a3:\n",
    "    print(i)"
   ],
   "outputs": [
    {
     "name": "stdout",
     "output_type": "stream",
     "text": [
      "[[0 1 2]\n",
      " [3 4 5]\n",
      " [6 7 8]]\n",
      "[[ 9 10 11]\n",
      " [12 13 14]\n",
      " [15 16 17]]\n",
      "[[18 19 20]\n",
      " [21 22 23]\n",
      " [24 25 26]]\n"
     ]
    }
   ],
   "execution_count": 152
  },
  {
   "metadata": {
    "ExecuteTime": {
     "end_time": "2024-09-22T19:51:39.238279Z",
     "start_time": "2024-09-22T19:51:39.233747Z"
    }
   },
   "cell_type": "code",
   "source": [
    "# what if we want to loop over individual items\n",
    "for i in np.nditer(a3):\n",
    "    print(i)"
   ],
   "outputs": [
    {
     "name": "stdout",
     "output_type": "stream",
     "text": [
      "0\n",
      "1\n",
      "2\n",
      "3\n",
      "4\n",
      "5\n",
      "6\n",
      "7\n",
      "8\n",
      "9\n",
      "10\n",
      "11\n",
      "12\n",
      "13\n",
      "14\n",
      "15\n",
      "16\n",
      "17\n",
      "18\n",
      "19\n",
      "20\n",
      "21\n",
      "22\n",
      "23\n",
      "24\n",
      "25\n",
      "26\n"
     ]
    }
   ],
   "execution_count": 153
  },
  {
   "cell_type": "markdown",
   "source": [
    "### Reshaping"
   ],
   "metadata": {
    "id": "ZSS6AF_luNc-"
   }
  },
  {
   "metadata": {},
   "cell_type": "code",
   "outputs": [],
   "execution_count": null,
   "source": "# reshape"
  },
  {
   "metadata": {
    "ExecuteTime": {
     "end_time": "2024-09-22T19:54:59.276140Z",
     "start_time": "2024-09-22T19:54:59.270097Z"
    }
   },
   "cell_type": "code",
   "source": [
    "# transpose\n",
    "print(a2)\n",
    "print()\n",
    "\n",
    "print(a2.T)\n",
    "# or\n",
    "# np.transpose(a3)"
   ],
   "outputs": [
    {
     "name": "stdout",
     "output_type": "stream",
     "text": [
      "[[ 0  1  2  3]\n",
      " [ 4  5  6  7]\n",
      " [ 8  9 10 11]]\n",
      "\n",
      "[[ 0  4  8]\n",
      " [ 1  5  9]\n",
      " [ 2  6 10]\n",
      " [ 3  7 11]]\n"
     ]
    }
   ],
   "execution_count": 155
  },
  {
   "metadata": {
    "ExecuteTime": {
     "end_time": "2024-09-22T19:56:11.245540Z",
     "start_time": "2024-09-22T19:56:11.235051Z"
    }
   },
   "cell_type": "code",
   "source": [
    "# ravel - converts ny dimensional data to 1D array\n",
    "print(a3)\n",
    "print()\n",
    "a3.ravel()"
   ],
   "outputs": [
    {
     "name": "stdout",
     "output_type": "stream",
     "text": [
      "[[[ 0  1  2]\n",
      "  [ 3  4  5]\n",
      "  [ 6  7  8]]\n",
      "\n",
      " [[ 9 10 11]\n",
      "  [12 13 14]\n",
      "  [15 16 17]]\n",
      "\n",
      " [[18 19 20]\n",
      "  [21 22 23]\n",
      "  [24 25 26]]]\n",
      "\n"
     ]
    },
    {
     "data": {
      "text/plain": [
       "array([ 0,  1,  2,  3,  4,  5,  6,  7,  8,  9, 10, 11, 12, 13, 14, 15, 16,\n",
       "       17, 18, 19, 20, 21, 22, 23, 24, 25, 26])"
      ]
     },
     "execution_count": 157,
     "metadata": {},
     "output_type": "execute_result"
    }
   ],
   "execution_count": 157
  },
  {
   "cell_type": "markdown",
   "source": [
    " ### Stacking\n",
    " `It is used when we get the data in splits`\n"
   ],
   "metadata": {
    "id": "ouKcJQ5EuUQC"
   }
  },
  {
   "metadata": {
    "ExecuteTime": {
     "end_time": "2024-09-22T19:58:41.247634Z",
     "start_time": "2024-09-22T19:58:41.240354Z"
    }
   },
   "cell_type": "code",
   "source": [
    "# horizontal stacking\n",
    "a4 = np.arange(12).reshape(3, 4)\n",
    "a5 = np.arange(12, 24).reshape(3, 4)\n",
    "print(a4)\n",
    "print()\n",
    "print(a5)"
   ],
   "outputs": [
    {
     "name": "stdout",
     "output_type": "stream",
     "text": [
      "[[ 0  1  2  3]\n",
      " [ 4  5  6  7]\n",
      " [ 8  9 10 11]]\n",
      "\n",
      "[[12 13 14 15]\n",
      " [16 17 18 19]\n",
      " [20 21 22 23]]\n"
     ]
    }
   ],
   "execution_count": 161
  },
  {
   "metadata": {
    "ExecuteTime": {
     "end_time": "2024-09-22T19:59:22.691643Z",
     "start_time": "2024-09-22T19:59:22.686329Z"
    }
   },
   "cell_type": "code",
   "source": "print(np.hstack((a4, a5)))",
   "outputs": [
    {
     "name": "stdout",
     "output_type": "stream",
     "text": [
      "[[ 0  1  2  3 12 13 14 15]\n",
      " [ 4  5  6  7 16 17 18 19]\n",
      " [ 8  9 10 11 20 21 22 23]]\n"
     ]
    }
   ],
   "execution_count": 163
  },
  {
   "metadata": {
    "ExecuteTime": {
     "end_time": "2024-09-22T19:59:37.746969Z",
     "start_time": "2024-09-22T19:59:37.742480Z"
    }
   },
   "cell_type": "code",
   "source": "print(np.hstack((a4, a4 ,a4, a5)))",
   "outputs": [
    {
     "name": "stdout",
     "output_type": "stream",
     "text": [
      "[[ 0  1  2  3  0  1  2  3  0  1  2  3 12 13 14 15]\n",
      " [ 4  5  6  7  4  5  6  7  4  5  6  7 16 17 18 19]\n",
      " [ 8  9 10 11  8  9 10 11  8  9 10 11 20 21 22 23]]\n"
     ]
    }
   ],
   "execution_count": 164
  },
  {
   "metadata": {
    "ExecuteTime": {
     "end_time": "2024-09-22T20:00:06.674301Z",
     "start_time": "2024-09-22T20:00:06.669808Z"
    }
   },
   "cell_type": "code",
   "source": [
    "# vertical stacking\n",
    "print(np.vstack((a4, a5)))"
   ],
   "outputs": [
    {
     "name": "stdout",
     "output_type": "stream",
     "text": [
      "[[ 0  1  2  3]\n",
      " [ 4  5  6  7]\n",
      " [ 8  9 10 11]\n",
      " [12 13 14 15]\n",
      " [16 17 18 19]\n",
      " [20 21 22 23]]\n"
     ]
    }
   ],
   "execution_count": 166
  },
  {
   "metadata": {
    "ExecuteTime": {
     "end_time": "2024-09-22T20:00:26.271091Z",
     "start_time": "2024-09-22T20:00:26.266243Z"
    }
   },
   "cell_type": "code",
   "source": "print(np.vstack((a4, a4, a5)))",
   "outputs": [
    {
     "name": "stdout",
     "output_type": "stream",
     "text": [
      "[[ 0  1  2  3]\n",
      " [ 4  5  6  7]\n",
      " [ 8  9 10 11]\n",
      " [ 0  1  2  3]\n",
      " [ 4  5  6  7]\n",
      " [ 8  9 10 11]\n",
      " [12 13 14 15]\n",
      " [16 17 18 19]\n",
      " [20 21 22 23]]\n"
     ]
    }
   ],
   "execution_count": 169
  },
  {
   "cell_type": "markdown",
   "source": [
    "### Splitting\n",
    "Opposite of stacking"
   ],
   "metadata": {
    "id": "kaY006uXucF5"
   }
  },
  {
   "metadata": {
    "ExecuteTime": {
     "end_time": "2024-09-22T20:03:26.538456Z",
     "start_time": "2024-09-22T20:03:26.532743Z"
    }
   },
   "cell_type": "code",
   "source": [
    "a6 = np.hstack((a4, a5))\n",
    "print(a6)\n",
    "print()\n",
    "\n",
    "a7 = np.hsplit(a6, 2)\n",
    "print(a7)\n",
    "print(type(a7))"
   ],
   "outputs": [
    {
     "name": "stdout",
     "output_type": "stream",
     "text": [
      "[[ 0  1  2  3 12 13 14 15]\n",
      " [ 4  5  6  7 16 17 18 19]\n",
      " [ 8  9 10 11 20 21 22 23]]\n",
      "\n",
      "[array([[ 0,  1,  2,  3],\n",
      "       [ 4,  5,  6,  7],\n",
      "       [ 8,  9, 10, 11]]), array([[12, 13, 14, 15],\n",
      "       [16, 17, 18, 19],\n",
      "       [20, 21, 22, 23]])]\n",
      "<class 'list'>\n"
     ]
    }
   ],
   "execution_count": 172
  },
  {
   "metadata": {
    "ExecuteTime": {
     "end_time": "2024-09-22T20:03:48.340818Z",
     "start_time": "2024-09-22T20:03:48.335226Z"
    }
   },
   "cell_type": "code",
   "source": [
    "a8 = np.hsplit(a6, 4)\n",
    "print(a8)"
   ],
   "outputs": [
    {
     "name": "stdout",
     "output_type": "stream",
     "text": [
      "[array([[0, 1],\n",
      "       [4, 5],\n",
      "       [8, 9]]), array([[ 2,  3],\n",
      "       [ 6,  7],\n",
      "       [10, 11]]), array([[12, 13],\n",
      "       [16, 17],\n",
      "       [20, 21]]), array([[14, 15],\n",
      "       [18, 19],\n",
      "       [22, 23]])]\n"
     ]
    }
   ],
   "execution_count": 173
  },
  {
   "metadata": {
    "ExecuteTime": {
     "end_time": "2024-09-22T20:04:02.290146Z",
     "start_time": "2024-09-22T20:04:02.181296Z"
    }
   },
   "cell_type": "code",
   "source": "np.hsplit(a6, 3)",
   "outputs": [
    {
     "ename": "ValueError",
     "evalue": "array split does not result in an equal division",
     "output_type": "error",
     "traceback": [
      "\u001B[1;31m---------------------------------------------------------------------------\u001B[0m",
      "\u001B[1;31mValueError\u001B[0m                                Traceback (most recent call last)",
      "Cell \u001B[1;32mIn[174], line 1\u001B[0m\n\u001B[1;32m----> 1\u001B[0m \u001B[43mnp\u001B[49m\u001B[38;5;241;43m.\u001B[39;49m\u001B[43mhsplit\u001B[49m\u001B[43m(\u001B[49m\u001B[43ma6\u001B[49m\u001B[43m,\u001B[49m\u001B[43m \u001B[49m\u001B[38;5;241;43m3\u001B[39;49m\u001B[43m)\u001B[49m\n",
      "File \u001B[1;32m~\\AppData\\Local\\Programs\\Python\\Python312\\Lib\\site-packages\\numpy\\lib\\shape_base.py:938\u001B[0m, in \u001B[0;36mhsplit\u001B[1;34m(ary, indices_or_sections)\u001B[0m\n\u001B[0;32m    936\u001B[0m     \u001B[38;5;28;01mraise\u001B[39;00m \u001B[38;5;167;01mValueError\u001B[39;00m(\u001B[38;5;124m'\u001B[39m\u001B[38;5;124mhsplit only works on arrays of 1 or more dimensions\u001B[39m\u001B[38;5;124m'\u001B[39m)\n\u001B[0;32m    937\u001B[0m \u001B[38;5;28;01mif\u001B[39;00m ary\u001B[38;5;241m.\u001B[39mndim \u001B[38;5;241m>\u001B[39m \u001B[38;5;241m1\u001B[39m:\n\u001B[1;32m--> 938\u001B[0m     \u001B[38;5;28;01mreturn\u001B[39;00m \u001B[43msplit\u001B[49m\u001B[43m(\u001B[49m\u001B[43mary\u001B[49m\u001B[43m,\u001B[49m\u001B[43m \u001B[49m\u001B[43mindices_or_sections\u001B[49m\u001B[43m,\u001B[49m\u001B[43m \u001B[49m\u001B[38;5;241;43m1\u001B[39;49m\u001B[43m)\u001B[49m\n\u001B[0;32m    939\u001B[0m \u001B[38;5;28;01melse\u001B[39;00m:\n\u001B[0;32m    940\u001B[0m     \u001B[38;5;28;01mreturn\u001B[39;00m split(ary, indices_or_sections, \u001B[38;5;241m0\u001B[39m)\n",
      "File \u001B[1;32m~\\AppData\\Local\\Programs\\Python\\Python312\\Lib\\site-packages\\numpy\\lib\\shape_base.py:864\u001B[0m, in \u001B[0;36msplit\u001B[1;34m(ary, indices_or_sections, axis)\u001B[0m\n\u001B[0;32m    862\u001B[0m     N \u001B[38;5;241m=\u001B[39m ary\u001B[38;5;241m.\u001B[39mshape[axis]\n\u001B[0;32m    863\u001B[0m     \u001B[38;5;28;01mif\u001B[39;00m N \u001B[38;5;241m%\u001B[39m sections:\n\u001B[1;32m--> 864\u001B[0m         \u001B[38;5;28;01mraise\u001B[39;00m \u001B[38;5;167;01mValueError\u001B[39;00m(\n\u001B[0;32m    865\u001B[0m             \u001B[38;5;124m'\u001B[39m\u001B[38;5;124marray split does not result in an equal division\u001B[39m\u001B[38;5;124m'\u001B[39m) \u001B[38;5;28;01mfrom\u001B[39;00m \u001B[38;5;28;01mNone\u001B[39;00m\n\u001B[0;32m    866\u001B[0m \u001B[38;5;28;01mreturn\u001B[39;00m array_split(ary, indices_or_sections, axis)\n",
      "\u001B[1;31mValueError\u001B[0m: array split does not result in an equal division"
     ]
    }
   ],
   "execution_count": 174
  },
  {
   "metadata": {
    "ExecuteTime": {
     "end_time": "2024-09-22T20:04:22.390634Z",
     "start_time": "2024-09-22T20:04:22.386353Z"
    }
   },
   "cell_type": "code",
   "source": "print(a5)",
   "outputs": [
    {
     "name": "stdout",
     "output_type": "stream",
     "text": [
      "[[12 13 14 15]\n",
      " [16 17 18 19]\n",
      " [20 21 22 23]]\n"
     ]
    }
   ],
   "execution_count": 176
  },
  {
   "metadata": {
    "ExecuteTime": {
     "end_time": "2024-09-22T20:04:40.265464Z",
     "start_time": "2024-09-22T20:04:40.256496Z"
    }
   },
   "cell_type": "code",
   "source": [
    "# We cannot divide this in 2 splits. It has to be 3\n",
    "np.vsplit(a5, 3)"
   ],
   "outputs": [
    {
     "data": {
      "text/plain": [
       "[array([[12, 13, 14, 15]]),\n",
       " array([[16, 17, 18, 19]]),\n",
       " array([[20, 21, 22, 23]])]"
      ]
     },
     "execution_count": 177,
     "metadata": {},
     "output_type": "execute_result"
    }
   ],
   "execution_count": 177
  },
  {
   "metadata": {
    "ExecuteTime": {
     "end_time": "2024-09-22T20:05:35.819989Z",
     "start_time": "2024-09-22T20:05:35.813795Z"
    }
   },
   "cell_type": "code",
   "source": "np.vsplit(a6, 3)",
   "outputs": [
    {
     "data": {
      "text/plain": [
       "[array([[ 0,  1,  2,  3, 12, 13, 14, 15]]),\n",
       " array([[ 4,  5,  6,  7, 16, 17, 18, 19]]),\n",
       " array([[ 8,  9, 10, 11, 20, 21, 22, 23]])]"
      ]
     },
     "execution_count": 179,
     "metadata": {},
     "output_type": "execute_result"
    }
   ],
   "execution_count": 179
  },
  {
   "metadata": {},
   "cell_type": "code",
   "outputs": [],
   "execution_count": null,
   "source": ""
  }
 ]
}
