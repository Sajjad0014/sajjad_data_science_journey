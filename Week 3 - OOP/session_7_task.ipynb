{
 "nbformat": 4,
 "nbformat_minor": 0,
 "metadata": {
  "colab": {
   "provenance": []
  },
  "kernelspec": {
   "name": "python3",
   "display_name": "Python 3 (ipykernel)",
   "language": "python"
  },
  "language_info": {
   "name": "python"
  }
 },
 "cells": [
  {
   "cell_type": "markdown",
   "source": [
    "## `Q-1:` Rectangle Class\n",
    "1. Write a Rectangle class in Python language, allowing you to build a rectangle with length and width attributes.\n",
    "\n",
    "2. Create a Perimeter() method to calculate the perimeter of the rectangle and a Area() method to calculate the area of ​​the rectangle.\n",
    "\n",
    "3. Create a method display() that display the length, width, perimeter and area of an object created using an instantiation on rectangle class."
   ],
   "metadata": {
    "id": "FyUJ3PRAsPr4"
   }
  },
  {
   "cell_type": "markdown",
   "source": [
    "Eg.\n",
    "After making above classes and methods, on executing below code:-\n",
    "```\n",
    "my_rectangle = Rectangle(3 , 4)\n",
    "my_rectangle.display()\n",
    "```\n",
    "\n",
    "`Output:`\n",
    "```\n",
    "The length of rectangle is:  3\n",
    "The width of rectangle is:  4\n",
    "The perimeter of rectangle is:  14\n",
    "The area of rectangle is:  12\n",
    "```\n"
   ],
   "metadata": {
    "id": "GxUtOqJfssFK"
   }
  },
  {
   "cell_type": "code",
   "source": [
    "# write your code here\n",
    "class Rectangle:\n",
    "    def __init__(self, length, width):\n",
    "        self.length = length\n",
    "        self.width = width\n",
    "\n",
    "    def perimeter(self):\n",
    "        return str(2 * (self.length + self.width))\n",
    "\n",
    "    def area(self):\n",
    "        return str(self.length * self.width)\n",
    "\n",
    "    def display(self):\n",
    "        print('The length of rectangle is: ', self.length)\n",
    "        print('The width of rectangle is: ', self.width)\n",
    "        print('The perimeter of rectangle is: ', self.perimeter())\n",
    "        print('The area of rectangle is: ', self.area())"
   ],
   "metadata": {
    "id": "92_QT-Uj6NBg",
    "ExecuteTime": {
     "end_time": "2024-09-03T05:31:23.430588Z",
     "start_time": "2024-09-03T05:31:23.423064Z"
    }
   },
   "outputs": [],
   "execution_count": 15
  },
  {
   "metadata": {
    "ExecuteTime": {
     "end_time": "2024-09-03T05:31:23.746569Z",
     "start_time": "2024-09-03T05:31:23.742048Z"
    }
   },
   "cell_type": "code",
   "source": [
    "my_rectangle = Rectangle(3, 4)\n",
    "my_rectangle.display()"
   ],
   "outputs": [
    {
     "name": "stdout",
     "output_type": "stream",
     "text": [
      "The length of rectangle is:  3\n",
      "The width of rectangle is:  4\n",
      "The perimeter of rectangle is:  14\n",
      "The area of rectangle is:  12\n"
     ]
    }
   ],
   "execution_count": 16
  },
  {
   "cell_type": "markdown",
   "source": [
    "## `Q-2: Bank Class`\n",
    "\n",
    "1. Create a Python class called `BankAccount` which represents a bank account, having as attributes: `accountNumber` (numeric type), `name` (name of the account owner as string type), `balance`.\n",
    "2. Create a constructor with parameters: `accountNumber, name, balance`.\n",
    "3. Create a `Deposit()` method which manages the deposit actions.\n",
    "4. Create a `Withdrawal()` method  which manages withdrawals actions.\n",
    "5. Create an `bankFees()` method to apply the bank fees with a percentage of 5% of the balance account.\n",
    "6. Create a `display()` method to display account details.\n",
    "Give the complete code for the  BankAccount class."
   ],
   "metadata": {
    "id": "r_GxrS0Vrdom"
   }
  },
  {
   "cell_type": "markdown",
   "source": [
    "Eg.\n",
    "After making above classes and methods, on executing below code:-\n",
    "```\n",
    "newAccount = BankAccount(2178514584, \"Mandy\" , 2800)\n",
    "\n",
    "newAccount.Withdrawal(700)\n",
    "\n",
    "newAccount.Deposit(1000)\n",
    "\n",
    "newAccount.display()\n",
    "```\n",
    "\n",
    "`Output:`\n",
    "```\n",
    "Account Number :  2178514584\n",
    "Account Name :  Mandy\n",
    "Account Balance :  3100 ₹\n",
    "```"
   ],
   "metadata": {
    "id": "qvVkOUJgvTV_"
   }
  },
  {
   "cell_type": "code",
   "source": [
    "# write your code here\n",
    "class BankAccount:\n",
    "    def __init__(self, acc_num, acc_name, acc_balance):\n",
    "        self.accountNumber = acc_num\n",
    "        self.name = acc_name\n",
    "        self.balance = acc_balance\n",
    "\n",
    "    def Deposit(self, deposit_amount):\n",
    "        self.balance += deposit_amount\n",
    "        print('Your new balance is: ', self.balance)\n",
    "\n",
    "    def Withdrawal(self, withdraw_amount):\n",
    "        if self.balance >= withdraw_amount:\n",
    "            self.balance -= withdraw_amount\n",
    "            print('Amount withdrawn successfully')\n",
    "        else:\n",
    "            print('The amount you want to withdraw is less than your balance')\n",
    "\n",
    "    def bankFees(self):\n",
    "        self.balance -= (0.05 * self.balance)\n",
    "        print('Bank fees deducted')\n",
    "\n",
    "    def display(self):\n",
    "        print('Account Number: ', self.accountNumber)\n",
    "        print('Account Name: ', self.name)\n",
    "        print('Account Balance: ', self.balance, '₹')"
   ],
   "metadata": {
    "id": "fUQOmQyA6YDR",
    "ExecuteTime": {
     "end_time": "2024-09-03T15:26:09.195178Z",
     "start_time": "2024-09-03T15:26:09.190858Z"
    }
   },
   "outputs": [],
   "execution_count": 20
  },
  {
   "metadata": {
    "ExecuteTime": {
     "end_time": "2024-09-03T15:26:09.433705Z",
     "start_time": "2024-09-03T15:26:09.430337Z"
    }
   },
   "cell_type": "code",
   "source": [
    "newAccount = BankAccount(2178514584, \"Mandy\", 2800)\n",
    "\n",
    "newAccount.Withdrawal(700)\n",
    "\n",
    "newAccount.Deposit(1000)\n",
    "\n",
    "newAccount.display()"
   ],
   "outputs": [
    {
     "name": "stdout",
     "output_type": "stream",
     "text": [
      "Amount withdrawn successfully\n",
      "Your new balance is:  3100\n",
      "Account Number:  2178514584\n",
      "Account Name:  Mandy\n",
      "Account Balance:  3100 ₹\n"
     ]
    }
   ],
   "execution_count": 21
  },
  {
   "metadata": {},
   "cell_type": "markdown",
   "source": "# Q3"
  },
  {
   "metadata": {},
   "cell_type": "markdown",
   "source": [
    "## `Q-3:Computation class`\n",
    "\n",
    "1. Create a `Computation` class with a default constructor (without parameters) allowing to perform various calculations on integers numbers.\n",
    "2. Create a method called `Factorial()` which allows to calculate the factorial of an integer n. Integer n as parameter for this method\n",
    "\n",
    "3. Create a method called `naturalSum()` allowing to calculate the sum of the first n integers 1 + 2 + 3 + .. + n. Integer n as parameter for this method.\n",
    "\n",
    "4. Create a method called `testPrime()` in  the Calculation class to test the primality of a given integer n, n is Prime or Not? Integer n as parameter for this method.\n",
    "\n",
    "5. Create  a method called `testPrims()` allowing to test if two numbers are prime between them. Two integers are prime to one another if they have only `1` as their common divisor. Eg. 4 and 9 are prime to each other.\n",
    "\n",
    "5. Create a `tableMult()` method which creates and displays the multiplication table of a given integer. Then create an `allTablesMult()` method to display all the integer multiplication tables 1, 2, 3, ..., 9.\n",
    "\n",
    "6. Create a static `listDiv()` method that gets all the divisors of a given integer on new list called  Ldiv. Create another `listDivPrim()` method that gets all the prime divisors of a given integer."
   ]
  },
  {
   "metadata": {
    "ExecuteTime": {
     "end_time": "2024-09-03T16:36:23.028968Z",
     "start_time": "2024-09-03T16:36:23.022937Z"
    }
   },
   "cell_type": "code",
   "source": [
    "# write your code here\n",
    "import math\n",
    "\n",
    "\n",
    "class Computation:\n",
    "    def __init__(self):\n",
    "        pass\n",
    "\n",
    "    def Factorial(self, n):\n",
    "        print('Factorial of ', n, ' is ', math.factorial(n))\n",
    "\n",
    "    def naturalSum(self, n):\n",
    "        total_sum = 0\n",
    "        for i in range(1, n + 1):\n",
    "            total_sum += i\n",
    "        print('The natural sum of ', n, ' numbers is: ', total_sum)\n",
    "\n",
    "    def testPrime(self, n):\n",
    "        counter = 0\n",
    "        for i in range(1, n + 1):\n",
    "            if n % i == 0:\n",
    "                counter += 1\n",
    "\n",
    "        if counter > 2:\n",
    "            print(n, ' is not a prime number')\n",
    "        else:\n",
    "            print(n, ' is a prime number')\n",
    "\n",
    "    def testPrims(self, n, m):\n",
    "        for i in range(2, max(n, m) + 1):\n",
    "            if n % i == 0 and m % i == 0:\n",
    "                print(n, ' and ', m, ' are not prime to each other')\n",
    "\n",
    "    def tableMult(self, n):\n",
    "        print('Multiplication table for ', n)\n",
    "        for i in range(1, 11):\n",
    "            print(n, ' * ', i, ' = ', n * i)\n",
    "\n",
    "    def allTableMult(self):\n",
    "        for n in range(1, 11):\n",
    "            print('\\n\\nMultiplication table for ', n)\n",
    "            for i in range(1, 11):\n",
    "                print(n, ' * ', i, ' = ', n * i)\n",
    "\n",
    "    def listDiv(self, n):\n",
    "        Ldiv = []\n",
    "        for i in range(1, n + 1):\n",
    "            if n % i == 0:\n",
    "                Ldiv.append(i)\n",
    "\n",
    "        print(Ldiv)"
   ],
   "outputs": [],
   "execution_count": 26
  },
  {
   "metadata": {
    "ExecuteTime": {
     "end_time": "2024-09-03T16:36:23.505772Z",
     "start_time": "2024-09-03T16:36:23.499936Z"
    }
   },
   "cell_type": "code",
   "source": [
    "computation_obj = Computation()\n",
    "\n",
    "computation_obj.Factorial(5)\n",
    "computation_obj.naturalSum(6)\n",
    "computation_obj.testPrime(13)\n",
    "computation_obj.testPrims(4, 9)\n",
    "computation_obj.tableMult(4)\n",
    "computation_obj.allTableMult()\n",
    "computation_obj.listDiv(45)"
   ],
   "outputs": [
    {
     "name": "stdout",
     "output_type": "stream",
     "text": [
      "Factorial of  5  is  120\n",
      "The natural sum of  6  numbers is:  21\n",
      "13  is a prime number\n",
      "Multiplication table for  4\n",
      "4  *  1  =  4\n",
      "4  *  2  =  8\n",
      "4  *  3  =  12\n",
      "4  *  4  =  16\n",
      "4  *  5  =  20\n",
      "4  *  6  =  24\n",
      "4  *  7  =  28\n",
      "4  *  8  =  32\n",
      "4  *  9  =  36\n",
      "4  *  10  =  40\n",
      "\n",
      "\n",
      "Multiplication table for  1\n",
      "1  *  1  =  1\n",
      "1  *  2  =  2\n",
      "1  *  3  =  3\n",
      "1  *  4  =  4\n",
      "1  *  5  =  5\n",
      "1  *  6  =  6\n",
      "1  *  7  =  7\n",
      "1  *  8  =  8\n",
      "1  *  9  =  9\n",
      "1  *  10  =  10\n",
      "\n",
      "\n",
      "Multiplication table for  2\n",
      "2  *  1  =  2\n",
      "2  *  2  =  4\n",
      "2  *  3  =  6\n",
      "2  *  4  =  8\n",
      "2  *  5  =  10\n",
      "2  *  6  =  12\n",
      "2  *  7  =  14\n",
      "2  *  8  =  16\n",
      "2  *  9  =  18\n",
      "2  *  10  =  20\n",
      "\n",
      "\n",
      "Multiplication table for  3\n",
      "3  *  1  =  3\n",
      "3  *  2  =  6\n",
      "3  *  3  =  9\n",
      "3  *  4  =  12\n",
      "3  *  5  =  15\n",
      "3  *  6  =  18\n",
      "3  *  7  =  21\n",
      "3  *  8  =  24\n",
      "3  *  9  =  27\n",
      "3  *  10  =  30\n",
      "\n",
      "\n",
      "Multiplication table for  4\n",
      "4  *  1  =  4\n",
      "4  *  2  =  8\n",
      "4  *  3  =  12\n",
      "4  *  4  =  16\n",
      "4  *  5  =  20\n",
      "4  *  6  =  24\n",
      "4  *  7  =  28\n",
      "4  *  8  =  32\n",
      "4  *  9  =  36\n",
      "4  *  10  =  40\n",
      "\n",
      "\n",
      "Multiplication table for  5\n",
      "5  *  1  =  5\n",
      "5  *  2  =  10\n",
      "5  *  3  =  15\n",
      "5  *  4  =  20\n",
      "5  *  5  =  25\n",
      "5  *  6  =  30\n",
      "5  *  7  =  35\n",
      "5  *  8  =  40\n",
      "5  *  9  =  45\n",
      "5  *  10  =  50\n",
      "\n",
      "\n",
      "Multiplication table for  6\n",
      "6  *  1  =  6\n",
      "6  *  2  =  12\n",
      "6  *  3  =  18\n",
      "6  *  4  =  24\n",
      "6  *  5  =  30\n",
      "6  *  6  =  36\n",
      "6  *  7  =  42\n",
      "6  *  8  =  48\n",
      "6  *  9  =  54\n",
      "6  *  10  =  60\n",
      "\n",
      "\n",
      "Multiplication table for  7\n",
      "7  *  1  =  7\n",
      "7  *  2  =  14\n",
      "7  *  3  =  21\n",
      "7  *  4  =  28\n",
      "7  *  5  =  35\n",
      "7  *  6  =  42\n",
      "7  *  7  =  49\n",
      "7  *  8  =  56\n",
      "7  *  9  =  63\n",
      "7  *  10  =  70\n",
      "\n",
      "\n",
      "Multiplication table for  8\n",
      "8  *  1  =  8\n",
      "8  *  2  =  16\n",
      "8  *  3  =  24\n",
      "8  *  4  =  32\n",
      "8  *  5  =  40\n",
      "8  *  6  =  48\n",
      "8  *  7  =  56\n",
      "8  *  8  =  64\n",
      "8  *  9  =  72\n",
      "8  *  10  =  80\n",
      "\n",
      "\n",
      "Multiplication table for  9\n",
      "9  *  1  =  9\n",
      "9  *  2  =  18\n",
      "9  *  3  =  27\n",
      "9  *  4  =  36\n",
      "9  *  5  =  45\n",
      "9  *  6  =  54\n",
      "9  *  7  =  63\n",
      "9  *  8  =  72\n",
      "9  *  9  =  81\n",
      "9  *  10  =  90\n",
      "\n",
      "\n",
      "Multiplication table for  10\n",
      "10  *  1  =  10\n",
      "10  *  2  =  20\n",
      "10  *  3  =  30\n",
      "10  *  4  =  40\n",
      "10  *  5  =  50\n",
      "10  *  6  =  60\n",
      "10  *  7  =  70\n",
      "10  *  8  =  80\n",
      "10  *  9  =  90\n",
      "10  *  10  =  100\n",
      "[1, 3, 5, 9, 15, 45]\n"
     ]
    }
   ],
   "execution_count": 27
  },
  {
   "metadata": {},
   "cell_type": "markdown",
   "source": [
    "## `Q-4`: Build flashcard using class in Python.\n",
    "\n",
    "Build a flashcard using class in python. A flashcard is a card having information on both sides, which can be used as an aid in memoization. Flashcards usually have a question on one side and an answer on the other.\n",
    "\n",
    "**Example 1:**\n",
    "\n",
    "Approach:\n",
    "\n",
    "- Create a class named FlashCard.\n",
    "- Initialize dictionary fruits using __init__() method. Here you have to define fruit name as key and it's color as value. E.g., {\"Banana\": \"yellow\", \"Strawberries\": \"pink\"}\n",
    "- Now randomly choose a pair from fruits by using _random_ module and store the key in variable _fruit_ and _value_ in variable color.\n",
    "- Now prompt the user to answer the color of the randomly chosen fruit.\n",
    "- If correct print correct else print wrong.\n",
    "\n",
    "Output:\n",
    "```bash\n",
    "welcome to fruit quiz\n",
    "What is the color of Strawberries\n",
    "pink\n",
    "Correct answer\n",
    "Enter 0, if you want to play again: 0\n",
    "What is the color of watermelon\n",
    "green\n",
    "Correct answer\n",
    "Enter 0, if you want to play again: 1\n",
    "```"
   ]
  },
  {
   "metadata": {},
   "cell_type": "code",
   "outputs": [
    {
     "name": "stdout",
     "output_type": "stream",
     "text": [
      "Welcome to the fruit quiz\n",
      "guava green\n",
      "What is the color of guava\n",
      "Galat jawab\n",
      "guava green\n",
      "What is the color of guava\n",
      "Sahi jawab\n"
     ]
    },
    {
     "ename": "ValueError",
     "evalue": "invalid literal for int() with base 10: 'green'",
     "output_type": "error",
     "traceback": [
      "\u001B[1;31m---------------------------------------------------------------------------\u001B[0m",
      "\u001B[1;31mValueError\u001B[0m                                Traceback (most recent call last)",
      "Cell \u001B[1;32mIn[31], line 36\u001B[0m\n\u001B[0;32m     34\u001B[0m \u001B[38;5;28mprint\u001B[39m(\u001B[38;5;124m'\u001B[39m\u001B[38;5;124mWelcome to the fruit quiz\u001B[39m\u001B[38;5;124m'\u001B[39m)\n\u001B[0;32m     35\u001B[0m fc \u001B[38;5;241m=\u001B[39m FlashCard()\n\u001B[1;32m---> 36\u001B[0m \u001B[43mfc\u001B[49m\u001B[38;5;241;43m.\u001B[39;49m\u001B[43mquiz\u001B[49m\u001B[43m(\u001B[49m\u001B[43m)\u001B[49m\n",
      "Cell \u001B[1;32mIn[31], line 29\u001B[0m, in \u001B[0;36mFlashCard.quiz\u001B[1;34m(self)\u001B[0m\n\u001B[0;32m     26\u001B[0m \u001B[38;5;28;01melse\u001B[39;00m:\n\u001B[0;32m     27\u001B[0m     \u001B[38;5;28mprint\u001B[39m(\u001B[38;5;124m'\u001B[39m\u001B[38;5;124mGalat jawab\u001B[39m\u001B[38;5;124m'\u001B[39m)\n\u001B[1;32m---> 29\u001B[0m option \u001B[38;5;241m=\u001B[39m \u001B[38;5;28;43mint\u001B[39;49m\u001B[43m(\u001B[49m\u001B[38;5;28;43minput\u001B[39;49m\u001B[43m(\u001B[49m\u001B[38;5;124;43m'\u001B[39;49m\u001B[38;5;124;43menter 0 to play again 1 to exit\u001B[39;49m\u001B[38;5;124;43m'\u001B[39;49m\u001B[43m)\u001B[49m\u001B[43m)\u001B[49m\n\u001B[0;32m     31\u001B[0m \u001B[38;5;28;01mif\u001B[39;00m option:\n\u001B[0;32m     32\u001B[0m     \u001B[38;5;28;01mbreak\u001B[39;00m\n",
      "\u001B[1;31mValueError\u001B[0m: invalid literal for int() with base 10: 'green'"
     ]
    }
   ],
   "execution_count": 31,
   "source": [
    "# write your code here\n",
    "import random\n",
    "\n",
    "\n",
    "class FlashCard:\n",
    "\n",
    "    def __init__(self):\n",
    "        self.__fruits = {\n",
    "            'apple': 'red',\n",
    "            'banana': 'yellow',\n",
    "            'watermelon': 'green',\n",
    "            'strawberry': 'pink',\n",
    "            'guava': 'green'\n",
    "        }\n",
    "\n",
    "    def quiz(self):\n",
    "\n",
    "        while True:\n",
    "\n",
    "            fruit, color = random.choices(list(self.__fruits.items()))[0]\n",
    "            print(fruit, color)\n",
    "            print('What is the color of {}'.format(fruit))\n",
    "            user_answer = input()\n",
    "\n",
    "            if user_answer.lower() == color:\n",
    "                print('Sahi jawab')\n",
    "            else:\n",
    "                print('Galat jawab')\n",
    "\n",
    "            option = int(input('enter 0 to play again 1 to exit'))\n",
    "\n",
    "            if option:\n",
    "                break\n",
    "\n",
    "\n",
    "print('Welcome to the fruit quiz')\n",
    "fc = FlashCard()\n",
    "fc.quiz()\n",
    "\n"
   ]
  },
  {
   "cell_type": "markdown",
   "source": [
    "## `Q-5:` Problem 5 based on OOP Python.\n",
    "\n",
    "TechWorld, a technology training center, wants to allocate courses for instructors. An instructor is identified by name, technology skills, experience and average feedback. An instructor is allocated a course, if he/she satisfies the below two conditions:\n",
    "- eligibility criteria:\n",
    "    - if experience is more than 3 years, average feedback should be 4.5 or more\n",
    "    - if experience is 3 years or less, average feedback should be 4 or more\n",
    "- he/she should posses the technology skill for the course\n",
    "\n",
    "Identify the class name and attributes to represent instructors. Write a Python program to implement the class chosen with its attributes and methods.\n",
    "\n",
    "**Note:**\n",
    "- Consider all instance variables to be private and methods to be public.\n",
    "- An instructor may have multiple technology skills, so consider instance variable, technology_skill to be a list.\n",
    "- *check_eligibility()*: Return true if eligibility criteria is satisfied by the instructor. Else, return false\n",
    "- *allocate_course(technology)*: Return true if the course which requires the given technology can be allocated to the instructor. Else, return false.\n",
    "\n",
    "Represent a few objects of the class, initialize instance variables using setter methods, invoke\n",
    "appropriate methods and test your program."
   ],
   "metadata": {
    "id": "GN2r0jbRewYr"
   }
  },
  {
   "cell_type": "code",
   "source": [
    "# write your code here\n",
    "class TechWorld:\n",
    "    def __init__(self, name, tech_skills, experience, avg_feedback):\n",
    "        self.name = name\n",
    "        self.technology_skills = tech_skills\n",
    "        self.experience = experience\n",
    "        self.avg_feedback = avg_feedback       \n",
    "        \n",
    "\n",
    "    def check_eligibility(self):\n",
    "\n",
    "        if self.experience <= 3 and self.avg_feedback >= 4:\n",
    "            return True\n",
    "        elif 3 < self.experience and self.avg_feedback >= 4.5:\n",
    "            return True\n",
    "        else:\n",
    "            return False\n",
    "            \n",
    "    def allocate_course(self, tech):\n",
    "        is_eligible = self.check_eligibility()\n",
    "        \n",
    "        if is_eligible:\n",
    "            if tech in self.technology_skills:\n",
    "                return 'Padh sakta hai'\n",
    "            else:\n",
    "                return 'Ye to usko aata hi nai hai'\n",
    "        else:\n",
    "            return 'Acha nai padta hai'\n",
    "    \n",
    "ins = TechWorld('Sajjad', ['Python', 'Web Development'], 5, 4.8)\n",
    "ins.allocate_course('Android Dev')"
   ],
   "metadata": {
    "id": "pdMFuVFnlvKL",
    "ExecuteTime": {
     "end_time": "2024-09-03T17:21:23.965574Z",
     "start_time": "2024-09-03T17:21:23.955147Z"
    }
   },
   "outputs": [
    {
     "data": {
      "text/plain": [
       "'Ye to usko aata hi nai hai'"
      ]
     },
     "execution_count": 32,
     "metadata": {},
     "output_type": "execute_result"
    }
   ],
   "execution_count": 32
  },
  {
   "metadata": {},
   "cell_type": "code",
   "outputs": [],
   "execution_count": null,
   "source": ""
  }
 ]
}
