{
 "cells": [
  {
   "metadata": {},
   "cell_type": "markdown",
   "source": [
    "# Class Relationship\n",
    "1. Aggregation\n",
    "2. Inheritance"
   ],
   "id": "542d55bd820dae8f"
  },
  {
   "metadata": {},
   "cell_type": "markdown",
   "source": [
    "## Aggregation (Has-A relationship)\n",
    "\n",
    "Ex \n",
    "\n",
    "Restaurant Has a Menu\n",
    "\n",
    "Customer has an address"
   ],
   "id": "4fd4e750236c3811"
  },
  {
   "metadata": {
    "ExecuteTime": {
     "end_time": "2024-09-04T17:13:01.520133Z",
     "start_time": "2024-09-04T17:13:01.515447Z"
    }
   },
   "cell_type": "code",
   "source": [
    "# Example \n",
    "class Customer:\n",
    "    def __init__(self, name, gender, address):\n",
    "        self.__name = name\n",
    "        self.__gender = gender\n",
    "        self.__address = address\n",
    "\n",
    "    def print_address(self):\n",
    "        print(self.__address.get_city(), self.__address.pin, self.__address.state)\n",
    "\n",
    "    def edit_profile(self, new_name, new_city, new_pin, new_state):\n",
    "        self.__name = new_name\n",
    "        self.__address.edit_address(new_city, new_pin, new_state)\n",
    "\n",
    "\n",
    "class Address:\n",
    "\n",
    "    def __init__(self, city, pin, state):\n",
    "        self.__city = city  # (This would throw error if we try to access like address.__city because private variables cannot access, hence use get_city)\n",
    "        self.pin = pin\n",
    "        self.state = state\n",
    "\n",
    "    def get_city(self):\n",
    "        return self.__city\n",
    "\n",
    "    def edit_address(self, new_city, new_pin, new_state):\n",
    "        self.__city = new_city\n",
    "        self.pin = new_pin\n",
    "        self.state = new_state\n",
    "\n",
    "\n",
    "addr1 = Address('Gurgaun', 122011, 'Haryana')\n",
    "cust1 = Customer('Sajjad', 'Male', addr1)\n",
    "\n",
    "cust1.print_address()\n",
    "\n",
    "cust1.edit_profile('Saad', 'Mumbai', 11111, 'Maharashtra')\n",
    "cust1.print_address()"
   ],
   "id": "3cf836efa785cc3a",
   "outputs": [
    {
     "name": "stdout",
     "output_type": "stream",
     "text": [
      "Gurgaun 122011 Haryana\n",
      "Mumbai 11111 Maharashtra\n"
     ]
    }
   ],
   "execution_count": 7
  },
  {
   "metadata": {},
   "cell_type": "markdown",
   "source": "#### Aggregation class diagram",
   "id": "661838ef6d200828"
  },
  {
   "metadata": {},
   "cell_type": "markdown",
   "source": "# Refer the screenshot",
   "id": "5f2978901ba958b9"
  },
  {
   "metadata": {},
   "cell_type": "markdown",
   "source": [
    "# Inheritance\n",
    "- What is inheritance\n",
    "- Example\n",
    "- What gets inherited?\n",
    "\n",
    "DRY - Don't Repeat Yourself\n"
   ],
   "id": "4ab6b4f1294d5a08"
  },
  {
   "metadata": {
    "ExecuteTime": {
     "end_time": "2024-09-04T17:39:11.947246Z",
     "start_time": "2024-09-04T17:39:11.943559Z"
    }
   },
   "cell_type": "code",
   "source": [
    "# Example \n",
    "\n",
    "# Parent class\n",
    "class User:\n",
    "\n",
    "    def __init__(self):\n",
    "        self.name = 'Sajjad'\n",
    "\n",
    "    def login(self):\n",
    "        print('Login')\n",
    "\n",
    "\n",
    "# Child\n",
    "class Student(User):\n",
    "\n",
    "    def __init__(self):\n",
    "        super().__init__()\n",
    "        self.rollno = 100\n",
    "\n",
    "    def enroll(self):\n",
    "        print('Enroll into the course')\n",
    "\n",
    "\n",
    "u = User()\n",
    "s = Student()\n",
    "\n",
    "print(s.name)\n",
    "print(s.rollno)\n",
    "s.login()\n",
    "s.enroll()"
   ],
   "id": "9032add6c91e0280",
   "outputs": [
    {
     "name": "stdout",
     "output_type": "stream",
     "text": [
      "Sajjad\n",
      "100\n",
      "Login\n",
      "Enroll into the course\n"
     ]
    }
   ],
   "execution_count": 11
  },
  {
   "metadata": {},
   "cell_type": "markdown",
   "source": "#### Class diagram",
   "id": "49b4d56d49c977cb"
  },
  {
   "metadata": {
    "ExecuteTime": {
     "end_time": "2024-09-04T19:50:07.948940Z",
     "start_time": "2024-09-04T19:50:07.946342Z"
    }
   },
   "cell_type": "code",
   "source": "# Refer screenshot",
   "id": "16425a95743f457",
   "outputs": [],
   "execution_count": 72
  },
  {
   "metadata": {},
   "cell_type": "markdown",
   "source": [
    "#### What gets inherited?\n",
    "- Constructor\n",
    "- Non Private Attributes\n",
    "- Non Private Methods"
   ],
   "id": "f7d81764128a5126"
  },
  {
   "metadata": {
    "ExecuteTime": {
     "end_time": "2024-09-04T17:48:27.603992Z",
     "start_time": "2024-09-04T17:48:27.597013Z"
    }
   },
   "cell_type": "code",
   "source": [
    "# Constructor example\n",
    "\n",
    "class Phone:\n",
    "    def __init__(self, price, brand, camera):\n",
    "        print('Inside phone constructor')\n",
    "        self.__price = price\n",
    "        self.__brand = brand\n",
    "        self.__camera = camera\n",
    "\n",
    "    def buy(self):\n",
    "        print('Buying a phone')\n",
    "\n",
    "\n",
    "class SmartPhone(Phone):\n",
    "    pass\n",
    "\n",
    "\n",
    "s = SmartPhone(20000, 'Apple', 16)\n",
    "s.buy()"
   ],
   "id": "bddf77b9b08485b3",
   "outputs": [
    {
     "name": "stdout",
     "output_type": "stream",
     "text": [
      "Inside phone constructor\n",
      "Buying a phone\n"
     ]
    }
   ],
   "execution_count": 14
  },
  {
   "metadata": {
    "ExecuteTime": {
     "end_time": "2024-09-04T17:50:27.867108Z",
     "start_time": "2024-09-04T17:50:27.863429Z"
    }
   },
   "cell_type": "code",
   "source": [
    "# Constructor example\n",
    "\n",
    "class Phone:\n",
    "    def __init__(self, price, brand, camera):\n",
    "        print('Inside phone constructor')\n",
    "        self.__price = price\n",
    "        self.__brand = brand\n",
    "        self.__camera = camera\n",
    "\n",
    "    def buy(self):\n",
    "        print('Buying a phone')\n",
    "\n",
    "\n",
    "class SmartPhone(Phone):\n",
    "    def __init__(self, os, ram):\n",
    "        self.__os = os\n",
    "        self.__ram = ram\n",
    "        print('Inside SmartPhone constructor')\n",
    "\n",
    "\n",
    "s = SmartPhone('Apple', 16)"
   ],
   "id": "8458145144f67fc1",
   "outputs": [
    {
     "name": "stdout",
     "output_type": "stream",
     "text": [
      "Inside SmartPhone constructor\n"
     ]
    }
   ],
   "execution_count": 16
  },
  {
   "metadata": {
    "ExecuteTime": {
     "end_time": "2024-09-04T17:57:16.043714Z",
     "start_time": "2024-09-04T17:57:16.025778Z"
    }
   },
   "cell_type": "code",
   "source": [
    "# Child can't access private members of the class\n",
    "\n",
    "class Phone:\n",
    "    def __init__(self, price, brand, camera):\n",
    "        print('Inside phone constructor')\n",
    "        self.__price = price\n",
    "        self.brand = brand\n",
    "        self.camera = camera\n",
    "\n",
    "    def show(self):\n",
    "        print(self.__price)\n",
    "\n",
    "\n",
    "class SmartPhone(Phone):\n",
    "    def check(self):\n",
    "        print(self.__price)\n",
    "\n",
    "\n",
    "s = SmartPhone(20000, 'Apple', 13)\n",
    "print(s.brand)\n",
    "print(s.check())"
   ],
   "id": "9cd1d10e2ebc40b2",
   "outputs": [
    {
     "name": "stdout",
     "output_type": "stream",
     "text": [
      "Inside phone constructor\n",
      "Apple\n"
     ]
    },
    {
     "ename": "AttributeError",
     "evalue": "'SmartPhone' object has no attribute '_SmartPhone__price'",
     "output_type": "error",
     "traceback": [
      "\u001B[1;31m---------------------------------------------------------------------------\u001B[0m",
      "\u001B[1;31mAttributeError\u001B[0m                            Traceback (most recent call last)",
      "Cell \u001B[1;32mIn[18], line 19\u001B[0m\n\u001B[0;32m     17\u001B[0m s \u001B[38;5;241m=\u001B[39m SmartPhone(\u001B[38;5;241m20000\u001B[39m, \u001B[38;5;124m'\u001B[39m\u001B[38;5;124mApple\u001B[39m\u001B[38;5;124m'\u001B[39m, \u001B[38;5;241m13\u001B[39m)\n\u001B[0;32m     18\u001B[0m \u001B[38;5;28mprint\u001B[39m(s\u001B[38;5;241m.\u001B[39mbrand)\n\u001B[1;32m---> 19\u001B[0m \u001B[38;5;28mprint\u001B[39m(\u001B[43ms\u001B[49m\u001B[38;5;241;43m.\u001B[39;49m\u001B[43mcheck\u001B[49m\u001B[43m(\u001B[49m\u001B[43m)\u001B[49m)\n",
      "Cell \u001B[1;32mIn[18], line 15\u001B[0m, in \u001B[0;36mSmartPhone.check\u001B[1;34m(self)\u001B[0m\n\u001B[0;32m     14\u001B[0m \u001B[38;5;28;01mdef\u001B[39;00m \u001B[38;5;21mcheck\u001B[39m(\u001B[38;5;28mself\u001B[39m):\n\u001B[1;32m---> 15\u001B[0m     \u001B[38;5;28mprint\u001B[39m(\u001B[38;5;28;43mself\u001B[39;49m\u001B[38;5;241;43m.\u001B[39;49m\u001B[43m__price\u001B[49m)\n",
      "\u001B[1;31mAttributeError\u001B[0m: 'SmartPhone' object has no attribute '_SmartPhone__price'"
     ]
    }
   ],
   "execution_count": 18
  },
  {
   "metadata": {
    "ExecuteTime": {
     "end_time": "2024-09-04T17:58:02.379967Z",
     "start_time": "2024-09-04T17:58:02.377119Z"
    }
   },
   "cell_type": "code",
   "source": "s.show()",
   "id": "38d485aa5a9f8684",
   "outputs": [
    {
     "name": "stdout",
     "output_type": "stream",
     "text": [
      "20000\n"
     ]
    }
   ],
   "execution_count": 19
  },
  {
   "metadata": {
    "ExecuteTime": {
     "end_time": "2024-09-04T18:14:33.599257Z",
     "start_time": "2024-09-04T18:14:33.589296Z"
    }
   },
   "cell_type": "code",
   "source": [
    "# Method Overriding\n",
    "\n",
    "class Parent:\n",
    "\n",
    "    def __init__(self, price, brand, camera):\n",
    "        print('Inside phone constructor')\n",
    "        self.price = price\n",
    "        self.brand = brand\n",
    "        self.camera = camera\n",
    "\n",
    "    def buy(self):\n",
    "        print('Buying a regular phone')\n",
    "\n",
    "\n",
    "class SmartPhone(Parent):\n",
    "    def buy(self):\n",
    "        print('Buying a Smartphone')\n",
    "\n",
    "\n",
    "s = SmartPhone(2000, 'Apple', 13)\n",
    "s.buy()\n",
    "s.brand"
   ],
   "id": "d95ff058a6babb10",
   "outputs": [
    {
     "name": "stdout",
     "output_type": "stream",
     "text": [
      "Inside phone constructor\n",
      "Buying a Smartphone\n"
     ]
    },
    {
     "data": {
      "text/plain": [
       "'Apple'"
      ]
     },
     "execution_count": 28,
     "metadata": {},
     "output_type": "execute_result"
    }
   ],
   "execution_count": 28
  },
  {
   "metadata": {},
   "cell_type": "markdown",
   "source": "### Super keyword",
   "id": "23207e5732b4abd3"
  },
  {
   "metadata": {
    "ExecuteTime": {
     "end_time": "2024-09-04T18:16:56.252185Z",
     "start_time": "2024-09-04T18:16:56.247723Z"
    }
   },
   "cell_type": "code",
   "source": [
    "class Parent:\n",
    "\n",
    "    def __init__(self, price, brand, camera):\n",
    "        print('Inside phone constructor')\n",
    "        self.__price = price\n",
    "        self.brand = brand\n",
    "        self.camera = camera\n",
    "\n",
    "    def buy(self):\n",
    "        print('Buying a regular phone')\n",
    "\n",
    "\n",
    "class SmartPhone(Parent):\n",
    "    def buy(self):\n",
    "        print('Buying a Smartphone')\n",
    "        # Syntax to call parent's buy method\n",
    "        super().buy()\n",
    "\n",
    "\n",
    "s = SmartPhone(2000, 'Apple', 13)\n",
    "s.buy()"
   ],
   "id": "c7c3a85dfe398510",
   "outputs": [
    {
     "name": "stdout",
     "output_type": "stream",
     "text": [
      "Inside phone constructor\n",
      "Buying a Smartphone\n",
      "Buying a regular phone\n"
     ]
    }
   ],
   "execution_count": 29
  },
  {
   "metadata": {
    "ExecuteTime": {
     "end_time": "2024-09-04T18:27:46.469272Z",
     "start_time": "2024-09-04T18:27:46.464818Z"
    }
   },
   "cell_type": "code",
   "source": [
    "# Super --> Constructor\n",
    "\n",
    "class Phone:\n",
    "    def __init__(self, price, brand, camera):\n",
    "        print('Inside phone constructor')\n",
    "        self.__price = price\n",
    "        self.brand = brand\n",
    "        self.camera = camera\n",
    "\n",
    "    def buy(self):\n",
    "        print('Buy a phone')\n",
    "\n",
    "\n",
    "class SmartPhone(Phone):\n",
    "    def __init__(self, price, brand, camera, os, ram):\n",
    "        print('Inside Smartphone constructor')\n",
    "        super().__init__(price, brand, camera)\n",
    "        self.os = os\n",
    "        self.ram = ram\n",
    "        print('Inside smartphone constructor')\n",
    "\n",
    "    def buy(self):\n",
    "        print('Buy a smartphone')\n",
    "\n",
    "\n",
    "s = SmartPhone(2000, \"Samsung\", 12, \"Android\", 12)"
   ],
   "id": "9a92ea882bb163ce",
   "outputs": [
    {
     "name": "stdout",
     "output_type": "stream",
     "text": [
      "Inside Smartphone constructor\n",
      "Inside phone constructor\n",
      "Inside smartphone constructor\n"
     ]
    }
   ],
   "execution_count": 39
  },
  {
   "metadata": {
    "ExecuteTime": {
     "end_time": "2024-09-04T18:28:04.950312Z",
     "start_time": "2024-09-04T18:28:04.934170Z"
    }
   },
   "cell_type": "code",
   "source": [
    "s.super().buy()\n",
    "\n",
    "# NO WE CANNOT USE super() outside the class\n"
   ],
   "id": "6476199a874511b2",
   "outputs": [
    {
     "ename": "AttributeError",
     "evalue": "'SmartPhone' object has no attribute 'super'",
     "output_type": "error",
     "traceback": [
      "\u001B[1;31m---------------------------------------------------------------------------\u001B[0m",
      "\u001B[1;31mAttributeError\u001B[0m                            Traceback (most recent call last)",
      "Cell \u001B[1;32mIn[41], line 1\u001B[0m\n\u001B[1;32m----> 1\u001B[0m \u001B[43ms\u001B[49m\u001B[38;5;241;43m.\u001B[39;49m\u001B[43msuper\u001B[49m()\u001B[38;5;241m.\u001B[39mbuy()\n\u001B[0;32m      2\u001B[0m \u001B[38;5;66;03m# NO WE CANNOT USE super() outside the class\u001B[39;00m\n",
      "\u001B[1;31mAttributeError\u001B[0m: 'SmartPhone' object has no attribute 'super'"
     ]
    }
   ],
   "execution_count": 41
  },
  {
   "metadata": {
    "ExecuteTime": {
     "end_time": "2024-09-29T19:03:32.869831Z",
     "start_time": "2024-09-29T19:03:32.843531Z"
    }
   },
   "cell_type": "code",
   "source": [
    "# super() is used to refer to methods in the parent class, not for directly accessing instance variables.\n",
    "\n",
    "class Phone:\n",
    "    def __init__(self, price, brand, camera):\n",
    "        print('Inside phone constructor')\n",
    "        self.__price = price\n",
    "        self.brand = brand\n",
    "        self.camera = camera\n",
    "\n",
    "    def buy(self):\n",
    "        print('Buy a phone')\n",
    "\n",
    "\n",
    "class SmartPhone(Phone):\n",
    "    def __init__(self, price, brand, camera, os, ram):\n",
    "        print('Inside Smartphone constructor')\n",
    "        super().__init__(price, brand, camera)\n",
    "        self.os = os\n",
    "        self.ram = ram\n",
    "        print('Inside smartphone constructor')\n",
    "\n",
    "    def buy(self):\n",
    "        print('Buy a smartphone')\n",
    "        print(\"Through self.brand: \", self.brand)\n",
    "        print(\"Through super().brand: \", super().brand)\n",
    "\n",
    "\n",
    "s = SmartPhone(2000, \"Samsung\", 12, \"Android\", 12)\n",
    "s.buy()\n",
    "\n",
    "# self.brand  \n",
    "# Use self to access the instance variable"
   ],
   "id": "eb88e0fbbc6e8793",
   "outputs": [
    {
     "name": "stdout",
     "output_type": "stream",
     "text": [
      "Inside Smartphone constructor\n",
      "Inside phone constructor\n",
      "Inside smartphone constructor\n",
      "Buy a smartphone\n",
      "Through self.brand:  Samsung\n"
     ]
    },
    {
     "ename": "AttributeError",
     "evalue": "'super' object has no attribute 'brand'",
     "output_type": "error",
     "traceback": [
      "\u001B[1;31m---------------------------------------------------------------------------\u001B[0m",
      "\u001B[1;31mAttributeError\u001B[0m                            Traceback (most recent call last)",
      "Cell \u001B[1;32mIn[2], line 29\u001B[0m\n\u001B[0;32m     25\u001B[0m         \u001B[38;5;28mprint\u001B[39m(\u001B[38;5;124m\"\u001B[39m\u001B[38;5;124mThrough super().brand: \u001B[39m\u001B[38;5;124m\"\u001B[39m,\u001B[38;5;28msuper\u001B[39m()\u001B[38;5;241m.\u001B[39mbrand)\n\u001B[0;32m     28\u001B[0m s \u001B[38;5;241m=\u001B[39m SmartPhone(\u001B[38;5;241m2000\u001B[39m, \u001B[38;5;124m\"\u001B[39m\u001B[38;5;124mSamsung\u001B[39m\u001B[38;5;124m\"\u001B[39m, \u001B[38;5;241m12\u001B[39m, \u001B[38;5;124m\"\u001B[39m\u001B[38;5;124mAndroid\u001B[39m\u001B[38;5;124m\"\u001B[39m, \u001B[38;5;241m12\u001B[39m)\n\u001B[1;32m---> 29\u001B[0m \u001B[43ms\u001B[49m\u001B[38;5;241;43m.\u001B[39;49m\u001B[43mbuy\u001B[49m\u001B[43m(\u001B[49m\u001B[43m)\u001B[49m\n\u001B[0;32m     31\u001B[0m \u001B[38;5;66;03m# self.brand  \u001B[39;00m\n\u001B[0;32m     32\u001B[0m \u001B[38;5;66;03m# Use self to access the instance variable\u001B[39;00m\n",
      "Cell \u001B[1;32mIn[2], line 25\u001B[0m, in \u001B[0;36mSmartPhone.buy\u001B[1;34m(self)\u001B[0m\n\u001B[0;32m     23\u001B[0m \u001B[38;5;28mprint\u001B[39m(\u001B[38;5;124m'\u001B[39m\u001B[38;5;124mBuy a smartphone\u001B[39m\u001B[38;5;124m'\u001B[39m)\n\u001B[0;32m     24\u001B[0m \u001B[38;5;28mprint\u001B[39m(\u001B[38;5;124m\"\u001B[39m\u001B[38;5;124mThrough self.brand: \u001B[39m\u001B[38;5;124m\"\u001B[39m, \u001B[38;5;28mself\u001B[39m\u001B[38;5;241m.\u001B[39mbrand)\n\u001B[1;32m---> 25\u001B[0m \u001B[38;5;28mprint\u001B[39m(\u001B[38;5;124m\"\u001B[39m\u001B[38;5;124mThrough super().brand: \u001B[39m\u001B[38;5;124m\"\u001B[39m,\u001B[38;5;28;43msuper\u001B[39;49m\u001B[43m(\u001B[49m\u001B[43m)\u001B[49m\u001B[38;5;241;43m.\u001B[39;49m\u001B[43mbrand\u001B[49m)\n",
      "\u001B[1;31mAttributeError\u001B[0m: 'super' object has no attribute 'brand'"
     ]
    }
   ],
   "execution_count": 2
  },
  {
   "metadata": {},
   "cell_type": "markdown",
   "source": [
    "#### Summary of Super()\n",
    "- Super cannot access variables\n",
    "- Super cannot be used outside the class\n",
    "- Super is used inside the child class"
   ],
   "id": "cd67c6ab6c46db35"
  },
  {
   "metadata": {},
   "cell_type": "markdown",
   "source": [
    "##### Inheritance in summary\n",
    "\n",
    "- A class can inherit from another class.\n",
    "\n",
    "- Inheritance improves code reuse\n",
    "\n",
    "- Constructor, attributes, methods get inherited to the child class  (ONLY PUBLIC, NOT PRIVATE)\n",
    "\n",
    "- The parent has no access to the child class\n",
    "\n",
    "- Private properties of parent are not accessible directly in child class\n",
    "\n",
    "- Child class can override the attributes or methods. This is called method overriding\n",
    "\n",
    "- super() is an inbuilt function which is used to invoke the parent class methods and constructor"
   ],
   "id": "e9cf27ec4d804e86"
  },
  {
   "metadata": {
    "ExecuteTime": {
     "end_time": "2024-09-04T18:35:22.731353Z",
     "start_time": "2024-09-04T18:35:22.726126Z"
    }
   },
   "cell_type": "code",
   "source": [
    "class Parent:\n",
    "\n",
    "    def __init__(self, num):\n",
    "        self.__num = num\n",
    "\n",
    "    def get_num(self):\n",
    "        return self.__num\n",
    "\n",
    "\n",
    "class Child(Parent):\n",
    "\n",
    "    def __init__(self, num, val):\n",
    "        super().__init__(num)\n",
    "        self.__val = val\n",
    "\n",
    "    def get_val(self):\n",
    "        return self.__val\n",
    "\n",
    "\n",
    "son = Child(100, 200)\n",
    "print(son.get_num())\n",
    "print(son.get_val())"
   ],
   "id": "b74d06cffcbf5ceb",
   "outputs": [
    {
     "name": "stdout",
     "output_type": "stream",
     "text": [
      "100\n",
      "200\n"
     ]
    }
   ],
   "execution_count": 44
  },
  {
   "metadata": {},
   "cell_type": "markdown",
   "source": [
    "## Types of Inheritance\n",
    "- Single Inheritance\n",
    "- Multilevel Inheritance\n",
    "- Hierarchical Inheritance\n",
    "- Multiple Inheritance(Diamond Problem)\n",
    "- Hybrid Inheritance"
   ],
   "id": "c13ccd7730400d29"
  },
  {
   "metadata": {
    "ExecuteTime": {
     "end_time": "2024-09-04T18:47:34.106401Z",
     "start_time": "2024-09-04T18:47:34.101961Z"
    }
   },
   "cell_type": "code",
   "source": "# Refer screenshot",
   "id": "b0dec696ce80a9fc",
   "outputs": [],
   "execution_count": 45
  },
  {
   "metadata": {
    "ExecuteTime": {
     "end_time": "2024-09-04T18:49:35.448378Z",
     "start_time": "2024-09-04T18:49:35.444702Z"
    }
   },
   "cell_type": "code",
   "source": [
    "# single inheritance\n",
    "class Phone:\n",
    "    def __init__(self, price, brand, camera):\n",
    "        print(\"Inside phone constructor\")\n",
    "        self.__price = price\n",
    "        self.brand = brand\n",
    "        self.camera = camera\n",
    "\n",
    "    def buy(self):\n",
    "        print(\"Buying a phone\")\n",
    "\n",
    "\n",
    "class SmartPhone(Phone):\n",
    "    pass\n",
    "\n",
    "\n",
    "SmartPhone(1000, \"Apple\", \"13px\").buy()"
   ],
   "id": "5ca910d1f484b38f",
   "outputs": [
    {
     "name": "stdout",
     "output_type": "stream",
     "text": [
      "Inside phone constructor\n",
      "Buying a phone\n"
     ]
    }
   ],
   "execution_count": 46
  },
  {
   "metadata": {
    "ExecuteTime": {
     "end_time": "2024-09-04T18:51:05.675883Z",
     "start_time": "2024-09-04T18:51:05.670782Z"
    }
   },
   "cell_type": "code",
   "source": [
    "# Multi level\n",
    "class Product:\n",
    "    def review(self):\n",
    "        print('Product customer review')\n",
    "\n",
    "\n",
    "class Phone(Product):\n",
    "    def __init__(self, price, brand, camera):\n",
    "        print(\"Inside phone constructor\")\n",
    "        self.__price = price\n",
    "        self.brand = brand\n",
    "        self.camera = camera\n",
    "\n",
    "    def buy(self):\n",
    "        print(\"Buying a phone\")\n",
    "\n",
    "\n",
    "class SmartPhone(Phone):\n",
    "    pass\n",
    "\n",
    "\n",
    "s = SmartPhone(2000, 'Apple', 12)\n",
    "\n",
    "s.buy()\n",
    "s.review()"
   ],
   "id": "67c9b65e0234579a",
   "outputs": [
    {
     "name": "stdout",
     "output_type": "stream",
     "text": [
      "Inside phone constructor\n",
      "Buying a phone\n",
      "Product customer review\n"
     ]
    }
   ],
   "execution_count": 47
  },
  {
   "metadata": {
    "ExecuteTime": {
     "end_time": "2024-09-04T18:52:54.161791Z",
     "start_time": "2024-09-04T18:52:54.156231Z"
    }
   },
   "cell_type": "code",
   "source": [
    "# hierarchical\n",
    "class Phone(Product):\n",
    "    def __init__(self, price, brand, camera):\n",
    "        print(\"Inside phone constructor\")\n",
    "        self.__price = price\n",
    "        self.brand = brand\n",
    "        self.camera = camera\n",
    "\n",
    "    def buy(self):\n",
    "        print('Buying a phone')\n",
    "\n",
    "\n",
    "class SmartPhone(Phone):\n",
    "    pass\n",
    "\n",
    "\n",
    "class FeaturePhone(Phone):\n",
    "    pass\n",
    "\n",
    "\n",
    "s1 = SmartPhone(100, 'Apple', '12x').buy()\n",
    "s2 = FeaturePhone(100, 'Apple', '12x').buy()"
   ],
   "id": "426628a451908163",
   "outputs": [
    {
     "name": "stdout",
     "output_type": "stream",
     "text": [
      "Inside phone constructor\n",
      "Buying a phone\n",
      "Inside phone constructor\n",
      "Buying a phone\n"
     ]
    }
   ],
   "execution_count": 48
  },
  {
   "metadata": {
    "ExecuteTime": {
     "end_time": "2024-09-04T18:54:25.347622Z",
     "start_time": "2024-09-04T18:54:25.343258Z"
    }
   },
   "cell_type": "code",
   "source": [
    "class Product:\n",
    "    def review(self):\n",
    "        print(\"Product customer review\")\n",
    "\n",
    "\n",
    "class Phone:\n",
    "    def __init__(self, price, brand, camera):\n",
    "        print(\"Inside phone constructor\")\n",
    "        self.__price = price\n",
    "        self.brand = brand\n",
    "        self.camera = camera\n",
    "\n",
    "    def buy(self):\n",
    "        print(\"Buying a phone\")\n",
    "\n",
    "\n",
    "class SmartPhone(Product, Phone):\n",
    "    pass\n",
    "\n",
    "\n",
    "s = SmartPhone(2000, 'Apple', 12)\n",
    "\n",
    "s.buy()\n",
    "s.review()"
   ],
   "id": "678cde3a1d95b3d5",
   "outputs": [
    {
     "name": "stdout",
     "output_type": "stream",
     "text": [
      "Inside phone constructor\n",
      "Buying a phone\n",
      "Product customer review\n"
     ]
    }
   ],
   "execution_count": 50
  },
  {
   "metadata": {
    "ExecuteTime": {
     "end_time": "2024-09-04T18:55:04.216247Z",
     "start_time": "2024-09-04T18:55:04.212648Z"
    }
   },
   "cell_type": "code",
   "source": [
    "# the diamond problem\n",
    "# https://stackoverflow.com/questions/56361048/what-is-the-diamond-problem-in-python-and-why-its-not-appear-in-python2\n",
    "class Phone:\n",
    "    def __init__(self, price, brand, camera):\n",
    "        print(\"Inside phone constructor\")\n",
    "        self.__price = price\n",
    "        self.brand = brand\n",
    "        self.camera = camera\n",
    "\n",
    "    def buy(self):\n",
    "        print(\"Buying a phone\")\n",
    "\n",
    "\n",
    "class Product:\n",
    "    def buy(self):\n",
    "        print(\"Product buy method\")\n",
    "\n",
    "\n",
    "# Method Resolution Order (MRO)\n",
    "class SmartPhone(Phone, Product):\n",
    "    pass\n",
    "\n",
    "\n",
    "s = SmartPhone(20000, \"Apple\", 12)\n",
    "\n",
    "s.buy()"
   ],
   "id": "f24a094a9f453b12",
   "outputs": [
    {
     "name": "stdout",
     "output_type": "stream",
     "text": [
      "Inside phone constructor\n",
      "Buying a phone\n"
     ]
    }
   ],
   "execution_count": 51
  },
  {
   "metadata": {},
   "cell_type": "markdown",
   "source": [
    "# Polymorphism\n",
    "#### Having Multiple faces\n",
    "- Method Overriding\n",
    "- Method Overloading\n",
    "- Operator Overloading"
   ],
   "id": "4518b5c50e6bea9c"
  },
  {
   "metadata": {
    "ExecuteTime": {
     "end_time": "2024-09-04T19:06:48.284422Z",
     "start_time": "2024-09-04T19:06:48.265513Z"
    }
   },
   "cell_type": "code",
   "source": [
    "# Method Overloading is not supported by Python\n",
    "# It is used for readability. Instead of using area_of_circle and area_of_rectangle\n",
    "\n",
    "class Shape:\n",
    "\n",
    "    def area(self, radius):\n",
    "        return 3.14 * radius * radius\n",
    "\n",
    "    def area(self, l, b):\n",
    "        return l * b\n",
    "\n",
    "\n",
    "s = Shape()\n",
    "s.area(2)\n",
    "s.area(2, 3)"
   ],
   "id": "d7b9f48cb147c302",
   "outputs": [
    {
     "ename": "TypeError",
     "evalue": "Shape.area() missing 1 required positional argument: 'b'",
     "output_type": "error",
     "traceback": [
      "\u001B[1;31m---------------------------------------------------------------------------\u001B[0m",
      "\u001B[1;31mTypeError\u001B[0m                                 Traceback (most recent call last)",
      "Cell \u001B[1;32mIn[52], line 13\u001B[0m\n\u001B[0;32m     10\u001B[0m         \u001B[38;5;28;01mreturn\u001B[39;00m l \u001B[38;5;241m*\u001B[39m b\n\u001B[0;32m     12\u001B[0m s \u001B[38;5;241m=\u001B[39m Shape()\n\u001B[1;32m---> 13\u001B[0m \u001B[43ms\u001B[49m\u001B[38;5;241;43m.\u001B[39;49m\u001B[43marea\u001B[49m\u001B[43m(\u001B[49m\u001B[38;5;241;43m2\u001B[39;49m\u001B[43m)\u001B[49m\n\u001B[0;32m     14\u001B[0m s\u001B[38;5;241m.\u001B[39marea(\u001B[38;5;241m2\u001B[39m, \u001B[38;5;241m3\u001B[39m)\n",
      "\u001B[1;31mTypeError\u001B[0m: Shape.area() missing 1 required positional argument: 'b'"
     ]
    }
   ],
   "execution_count": 52
  },
  {
   "metadata": {
    "ExecuteTime": {
     "end_time": "2024-09-04T19:11:38.456737Z",
     "start_time": "2024-09-04T19:11:38.452990Z"
    }
   },
   "cell_type": "code",
   "source": [
    "# BUT Python has provided a way to implement this\n",
    "\n",
    "class Shape:\n",
    "\n",
    "    def area(self, a, b=0):\n",
    "        if b == 0:\n",
    "            return 3.14 * a * a\n",
    "        else:\n",
    "            return a * b\n",
    "\n",
    "\n",
    "s = Shape()\n",
    "\n",
    "print(s.area(2))\n",
    "print(s.area(2, 3))"
   ],
   "id": "1e4aa6eb433561b",
   "outputs": [
    {
     "name": "stdout",
     "output_type": "stream",
     "text": [
      "12.56\n",
      "6\n"
     ]
    }
   ],
   "execution_count": 55
  },
  {
   "metadata": {},
   "cell_type": "markdown",
   "source": [
    "### Operator Overloading\n",
    "##### Same operator's behaviour is different for various type of input "
   ],
   "id": "c41aa72b5d9c7f0a"
  },
  {
   "metadata": {
    "ExecuteTime": {
     "end_time": "2024-09-04T19:14:39.539748Z",
     "start_time": "2024-09-04T19:14:39.536136Z"
    }
   },
   "cell_type": "code",
   "source": "'hello' + 'world'",
   "id": "d502d93b89a7866b",
   "outputs": [
    {
     "data": {
      "text/plain": [
       "'helloworld'"
      ]
     },
     "execution_count": 56,
     "metadata": {},
     "output_type": "execute_result"
    }
   ],
   "execution_count": 56
  },
  {
   "metadata": {
    "ExecuteTime": {
     "end_time": "2024-09-04T19:14:42.596102Z",
     "start_time": "2024-09-04T19:14:42.592604Z"
    }
   },
   "cell_type": "code",
   "source": "4 + 5",
   "id": "58aa8a621037db70",
   "outputs": [
    {
     "data": {
      "text/plain": [
       "9"
      ]
     },
     "execution_count": 57,
     "metadata": {},
     "output_type": "execute_result"
    }
   ],
   "execution_count": 57
  },
  {
   "metadata": {
    "ExecuteTime": {
     "end_time": "2024-09-04T19:14:52.845990Z",
     "start_time": "2024-09-04T19:14:52.842509Z"
    }
   },
   "cell_type": "code",
   "source": "[1, 2] + [5, 6]",
   "id": "479e346b46187be4",
   "outputs": [
    {
     "data": {
      "text/plain": [
       "[1, 2, 5, 6]"
      ]
     },
     "execution_count": 58,
     "metadata": {},
     "output_type": "execute_result"
    }
   ],
   "execution_count": 58
  },
  {
   "metadata": {},
   "cell_type": "markdown",
   "source": [
    "# Abstraction\n",
    "We hide the details.\n",
    "\n",
    "It applies constraints on child classes\n",
    "\n",
    "The class becomes an abstract class when \n",
    "- It inherits ABC class \n",
    "- it should have at least one abstract method. \n",
    "\n",
    "There are 2 types of methods \n",
    "1. Abstract Method\n",
    "2. Concrete Method (Till now we have used these)\n",
    "\n",
    "Lastly we cannot make objects of the abstract class"
   ],
   "id": "9d41d5d05105ce86"
  },
  {
   "metadata": {
    "ExecuteTime": {
     "end_time": "2024-09-04T19:34:35.940776Z",
     "start_time": "2024-09-04T19:34:35.937458Z"
    }
   },
   "cell_type": "code",
   "source": [
    "from abc import ABC, abstractmethod\n",
    "\n",
    "\n",
    "class BankApp(ABC):\n",
    "    def databases(self):\n",
    "        print('Connected to database')\n",
    "\n",
    "    @abstractmethod\n",
    "    def security(self):\n",
    "        pass"
   ],
   "id": "e207179108d80b7e",
   "outputs": [],
   "execution_count": 64
  },
  {
   "metadata": {
    "ExecuteTime": {
     "end_time": "2024-09-04T19:34:36.237036Z",
     "start_time": "2024-09-04T19:34:36.234836Z"
    }
   },
   "cell_type": "code",
   "source": [
    "class MobileApp(BankApp):\n",
    "\n",
    "    def mobile_login(self):\n",
    "        print('Login into mobile')"
   ],
   "id": "9b6d079af13820e9",
   "outputs": [],
   "execution_count": 65
  },
  {
   "metadata": {
    "ExecuteTime": {
     "end_time": "2024-09-04T19:34:36.808193Z",
     "start_time": "2024-09-04T19:34:36.799362Z"
    }
   },
   "cell_type": "code",
   "source": "mobile1 = MobileApp()",
   "id": "bb198d03c9e10cc5",
   "outputs": [
    {
     "ename": "TypeError",
     "evalue": "Can't instantiate abstract class MobileApp without an implementation for abstract method 'security'",
     "output_type": "error",
     "traceback": [
      "\u001B[1;31m---------------------------------------------------------------------------\u001B[0m",
      "\u001B[1;31mTypeError\u001B[0m                                 Traceback (most recent call last)",
      "Cell \u001B[1;32mIn[66], line 1\u001B[0m\n\u001B[1;32m----> 1\u001B[0m mobile1 \u001B[38;5;241m=\u001B[39m \u001B[43mMobileApp\u001B[49m\u001B[43m(\u001B[49m\u001B[43m)\u001B[49m\n",
      "\u001B[1;31mTypeError\u001B[0m: Can't instantiate abstract class MobileApp without an implementation for abstract method 'security'"
     ]
    }
   ],
   "execution_count": 66
  },
  {
   "metadata": {
    "ExecuteTime": {
     "end_time": "2024-09-04T19:35:30.451315Z",
     "start_time": "2024-09-04T19:35:30.447663Z"
    }
   },
   "cell_type": "code",
   "source": [
    "class MobileApp(BankApp):\n",
    "\n",
    "    def mobile_login(self):\n",
    "        print('Login into mobile')\n",
    "\n",
    "    def security(self):\n",
    "        print('Mobile security')"
   ],
   "id": "1a6767157be5b241",
   "outputs": [],
   "execution_count": 67
  },
  {
   "metadata": {
    "ExecuteTime": {
     "end_time": "2024-09-04T19:36:12.337647Z",
     "start_time": "2024-09-04T19:36:12.334367Z"
    }
   },
   "cell_type": "code",
   "source": [
    "mobile1 = MobileApp()\n",
    "mobile1.mobile_login()\n",
    "mobile1.security()\n",
    "mobile1.databases()"
   ],
   "id": "f2f8c30faad7242b",
   "outputs": [
    {
     "name": "stdout",
     "output_type": "stream",
     "text": [
      "Login into mobile\n",
      "Mobile security\n",
      "Connected to database\n"
     ]
    }
   ],
   "execution_count": 70
  },
  {
   "metadata": {
    "ExecuteTime": {
     "end_time": "2024-09-04T19:39:58.302800Z",
     "start_time": "2024-09-04T19:39:58.291639Z"
    }
   },
   "cell_type": "code",
   "source": "abstract_obj = BankApp()",
   "id": "d39e79225f8e3df1",
   "outputs": [
    {
     "ename": "TypeError",
     "evalue": "Can't instantiate abstract class BankApp without an implementation for abstract method 'security'",
     "output_type": "error",
     "traceback": [
      "\u001B[1;31m---------------------------------------------------------------------------\u001B[0m",
      "\u001B[1;31mTypeError\u001B[0m                                 Traceback (most recent call last)",
      "Cell \u001B[1;32mIn[71], line 1\u001B[0m\n\u001B[1;32m----> 1\u001B[0m abstract_obj \u001B[38;5;241m=\u001B[39m \u001B[43mBankApp\u001B[49m\u001B[43m(\u001B[49m\u001B[43m)\u001B[49m\n",
      "\u001B[1;31mTypeError\u001B[0m: Can't instantiate abstract class BankApp without an implementation for abstract method 'security'"
     ]
    }
   ],
   "execution_count": 71
  },
  {
   "metadata": {},
   "cell_type": "code",
   "outputs": [],
   "execution_count": null,
   "source": "",
   "id": "10eee4f6548ecc31"
  }
 ],
 "metadata": {
  "kernelspec": {
   "display_name": "Python 3",
   "language": "python",
   "name": "python3"
  },
  "language_info": {
   "codemirror_mode": {
    "name": "ipython",
    "version": 2
   },
   "file_extension": ".py",
   "mimetype": "text/x-python",
   "name": "python",
   "nbconvert_exporter": "python",
   "pygments_lexer": "ipython2",
   "version": "2.7.6"
  }
 },
 "nbformat": 4,
 "nbformat_minor": 5
}
