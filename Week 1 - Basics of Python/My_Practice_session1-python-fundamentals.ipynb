{
 "cells": [
  {
   "metadata": {},
   "cell_type": "markdown",
   "source": "# 3. Variables",
   "id": "7c639cad953444c"
  },
  {
   "metadata": {
    "jupyter": {
     "is_executing": true
    }
   },
   "cell_type": "code",
   "source": [
    "# Static Vs Dynamic Typing\n",
    "# Static Vs Dynamic Binding\n",
    "# stylish declaration techniques"
   ],
   "id": "79ba04e6d02ecc54",
   "outputs": [],
   "execution_count": null
  },
  {
   "metadata": {
    "ExecuteTime": {
     "end_time": "2024-08-19T22:50:32.575842Z",
     "start_time": "2024-08-19T22:50:29.577358Z"
    }
   },
   "cell_type": "code",
   "source": [
    "user_input = input('Please enter your name: ')\n",
    "user_input"
   ],
   "id": "d5d7fce92040608f",
   "outputs": [
    {
     "data": {
      "text/plain": [
       "'Sajjad'"
      ]
     },
     "execution_count": 1,
     "metadata": {},
     "output_type": "execute_result"
    }
   ],
   "execution_count": 1
  },
  {
   "metadata": {},
   "cell_type": "code",
   "outputs": [],
   "execution_count": null,
   "source": "    ",
   "id": "143cabd9034df8bf"
  }
 ],
 "metadata": {
  "kernelspec": {
   "display_name": "Python 3",
   "language": "python",
   "name": "python3"
  },
  "language_info": {
   "codemirror_mode": {
    "name": "ipython",
    "version": 2
   },
   "file_extension": ".py",
   "mimetype": "text/x-python",
   "name": "python",
   "nbconvert_exporter": "python",
   "pygments_lexer": "ipython2",
   "version": "2.7.6"
  }
 },
 "nbformat": 4,
 "nbformat_minor": 5
}
