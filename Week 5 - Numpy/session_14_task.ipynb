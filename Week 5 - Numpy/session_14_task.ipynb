{
 "nbformat": 4,
 "nbformat_minor": 0,
 "metadata": {
  "colab": {
   "provenance": []
  },
  "kernelspec": {
   "name": "python3",
   "display_name": "Python 3 (ipykernel)",
   "language": "python"
  },
  "language_info": {
   "name": "python"
  }
 },
 "cells": [
  {
   "cell_type": "markdown",
   "source": [
    "### `Q-1:` Find the nearest element in the array to a given integer.\n",
    "```\n",
    "Ex:-\n",
    "a=23 and array - [10 17 24 31 38 45 52 59].\n",
    "Nearest element is 24\n",
    "```\n",
    "Hint: Read about this function `argmin()`"
   ],
   "metadata": {
    "id": "1uamk9vAix0o"
   }
  },
  {
   "cell_type": "code",
   "source": [
    "import numpy as np\n",
    "\n",
    "# code here\n",
    "a = np.array([10, 17, 24, 31, 38, 45, 52, 59])\n",
    "item = 23\n",
    "print(abs(a - item))\n",
    "a[np.argmin(abs(a - item))]"
   ],
   "metadata": {
    "id": "ddkpbpR6iySZ",
    "ExecuteTime": {
     "end_time": "2024-09-27T21:44:59.458624Z",
     "start_time": "2024-09-27T21:44:59.328306Z"
    }
   },
   "outputs": [
    {
     "name": "stdout",
     "output_type": "stream",
     "text": [
      "[13  6  1  8 15 22 29 36]\n"
     ]
    },
    {
     "data": {
      "text/plain": [
       "24"
      ]
     },
     "execution_count": 1,
     "metadata": {},
     "output_type": "execute_result"
    }
   ],
   "execution_count": 1
  },
  {
   "cell_type": "markdown",
   "source": [
    "### `Q-2:` Replace multiples of 3 or 5 as 0 in the given array.\n",
    "```\n",
    "arr=[1 2 3 4 5 6 7 9]\n",
    "\n",
    "result-> [1 2 0 4 0 0 7 0]\n",
    "```"
   ],
   "metadata": {
    "id": "Y1QkHyPpizyp"
   }
  },
  {
   "cell_type": "code",
   "source": [
    "# code here\n",
    "a = np.array([1, 2, 3, 4, 5, 6, 7, 9])\n",
    "print((a % 3 == 0))\n",
    "print((a % 5 == 0))\n",
    "print((a % 3 == 0) | (a % 5 == 0))\n",
    "print(a)\n",
    "print(a[(a % 3 == 0) | (a % 5 == 0)])\n",
    "\n",
    "a[(a % 3 == 0) | (a % 5 == 0)] = 0\n",
    "print(a)"
   ],
   "metadata": {
    "id": "JjtxMlhWi25l",
    "ExecuteTime": {
     "end_time": "2024-09-27T21:44:59.464930Z",
     "start_time": "2024-09-27T21:44:59.458624Z"
    }
   },
   "outputs": [
    {
     "name": "stdout",
     "output_type": "stream",
     "text": [
      "[False False  True False False  True False  True]\n",
      "[False False False False  True False False False]\n",
      "[False False  True False  True  True False  True]\n",
      "[1 2 3 4 5 6 7 9]\n",
      "[3 5 6 9]\n",
      "[1 2 0 4 0 0 7 0]\n"
     ]
    }
   ],
   "execution_count": 2
  },
  {
   "cell_type": "markdown",
   "source": [
    "### `Q-3:` Use Fancy Indexing.\n",
    "1. Double the array elements at  given indexes\n",
    "```\n",
    "arr = np.arrange(10)\n",
    "indexes = [0,3,4,9]\n",
    "```\n",
    "Result -> `[ 0  1  2  6  8  5  6  7  8 18]`\n",
    "\n",
    "2. Using a given array make a different array as in below example\n",
    "```\n",
    "array = [1,2,3]\n",
    "result array -> [1 1 1 2 2 2 3 3 3]\n",
    "```\n",
    "* Internal-repetion should be as length of the array.\n",
    "\n",
    "Hint:\n",
    "```\n",
    "if a is an array\n",
    "a = [2,4]\n",
    "a[[1,1,0,1]] will result in-> [4 4 2 4]\n",
    "```"
   ],
   "metadata": {
    "id": "Pi_dZSwTi4OI"
   }
  },
  {
   "cell_type": "code",
   "source": [
    "# code here\n",
    "arr = np.arange(10)\n",
    "indexes = [0, 3, 4, 9]\n",
    "\n",
    "arr[indexes] *= 2\n",
    "print(arr)"
   ],
   "metadata": {
    "id": "SHYuyuovi66N",
    "ExecuteTime": {
     "end_time": "2024-09-27T21:44:59.476753Z",
     "start_time": "2024-09-27T21:44:59.464930Z"
    }
   },
   "outputs": [
    {
     "name": "stdout",
     "output_type": "stream",
     "text": [
      "[ 0  1  2  6  8  5  6  7  8 18]\n"
     ]
    }
   ],
   "execution_count": 3
  },
  {
   "metadata": {
    "ExecuteTime": {
     "end_time": "2024-09-27T21:44:59.490221Z",
     "start_time": "2024-09-27T21:44:59.476753Z"
    }
   },
   "cell_type": "code",
   "source": [
    "arr = np.array([1, 2, 3])\n",
    "arr[[0, 0, 0, 1, 1, 1, 2, 2, 2]]"
   ],
   "outputs": [
    {
     "data": {
      "text/plain": [
       "array([1, 1, 1, 2, 2, 2, 3, 3, 3])"
      ]
     },
     "execution_count": 4,
     "metadata": {},
     "output_type": "execute_result"
    }
   ],
   "execution_count": 4
  },
  {
   "metadata": {
    "ExecuteTime": {
     "end_time": "2024-09-27T21:44:59.502298Z",
     "start_time": "2024-09-27T21:44:59.490221Z"
    }
   },
   "cell_type": "code",
   "source": [
    "import numpy as np\n",
    "\n",
    "arr = np.array([1, 2, 3, 4])\n",
    "indexes = []\n",
    "\n",
    "for index in range(len(arr)):\n",
    "    indexes.extend([index] * len(arr))\n",
    "\n",
    "print(indexes)\n",
    "arr[indexes]"
   ],
   "outputs": [
    {
     "name": "stdout",
     "output_type": "stream",
     "text": [
      "[0, 0, 0, 0, 1, 1, 1, 1, 2, 2, 2, 2, 3, 3, 3, 3]\n"
     ]
    },
    {
     "data": {
      "text/plain": [
       "array([1, 1, 1, 1, 2, 2, 2, 2, 3, 3, 3, 3, 4, 4, 4, 4])"
      ]
     },
     "execution_count": 5,
     "metadata": {},
     "output_type": "execute_result"
    }
   ],
   "execution_count": 5
  },
  {
   "cell_type": "markdown",
   "source": [
    "### `Q-4:` Your are given an array which is havig some nan value. You job is to fill those nan values with most common element in the array.\n",
    "```\n",
    "arr=np.array([[1,2,np.nan],[4,2,6],[np.nan,np.nan,5]])\n",
    "\n",
    "```"
   ],
   "metadata": {
    "id": "UDehG0tFi89i"
   }
  },
  {
   "cell_type": "code",
   "source": [
    "# code here\n",
    "arr = np.array([[1, 2, np.nan], [4, 2, 6], [np.nan, np.nan, 5]])\n",
    "print(arr)\n",
    "d = {}\n",
    "\n",
    "for i in arr.flatten():\n",
    "    if i in d:\n",
    "        d[i] += 1\n",
    "    else:\n",
    "        d[i] = 1\n",
    "\n",
    "print(d.items())\n",
    "print(sorted(d.items(), key=lambda x: x[1]))\n",
    "print(sorted(d.items(), key=lambda x: x[1])[-1])\n",
    "print(sorted(d.items(), key=lambda x: x[1])[-1][0])\n",
    "\n",
    "arr[np.isnan(arr)] = sorted(d.items(), key=lambda x: x[1])[-1][0]\n",
    "print(arr)\n",
    "# unique, counts = np.unique(arr[~(np.isnan(arr))], return_counts=True)"
   ],
   "metadata": {
    "id": "YH13A6w9jEyu",
    "ExecuteTime": {
     "end_time": "2024-09-27T21:44:59.514261Z",
     "start_time": "2024-09-27T21:44:59.502298Z"
    }
   },
   "outputs": [
    {
     "name": "stdout",
     "output_type": "stream",
     "text": [
      "[[ 1.  2. nan]\n",
      " [ 4.  2.  6.]\n",
      " [nan nan  5.]]\n",
      "dict_items([(1.0, 1), (2.0, 2), (nan, 1), (4.0, 1), (6.0, 1), (nan, 1), (nan, 1), (5.0, 1)])\n",
      "[(1.0, 1), (nan, 1), (4.0, 1), (6.0, 1), (nan, 1), (nan, 1), (5.0, 1), (2.0, 2)]\n",
      "(2.0, 2)\n",
      "2.0\n",
      "[[1. 2. 2.]\n",
      " [4. 2. 6.]\n",
      " [2. 2. 5.]]\n"
     ]
    }
   ],
   "execution_count": 6
  },
  {
   "cell_type": "markdown",
   "source": [
    "### `Q-5:` Write a NumPy program\n",
    "\n",
    "- to find the missing data in a given array. Return a boolean matrix.\n",
    "- also try to fill those missing values with 0. For that, you can use `np.nan_to_num(a)`\n",
    "\n",
    "```python\n",
    "import numpy as np\n",
    "\n",
    "np.array([[3, 2, np.nan, 1],\n",
    "          [10, 12, 10, 9],\n",
    "          [5, np.nan, 1, np.nan]])\n",
    "```"
   ],
   "metadata": {
    "id": "Tk2JnioUjJ_t"
   }
  },
  {
   "cell_type": "code",
   "source": [
    "# code here\n",
    "arr = np.array([[3, 2, np.nan, 1],\n",
    "                [10, 12, 10, 9],\n",
    "                [5, np.nan, 1, np.nan]])\n",
    "\n",
    "print(np.isnan(arr))"
   ],
   "metadata": {
    "id": "nPEBTQJ_jJZe",
    "ExecuteTime": {
     "end_time": "2024-09-27T21:44:59.523456Z",
     "start_time": "2024-09-27T21:44:59.514261Z"
    }
   },
   "outputs": [
    {
     "name": "stdout",
     "output_type": "stream",
     "text": [
      "[[False False  True False]\n",
      " [False False False False]\n",
      " [False  True False  True]]\n"
     ]
    }
   ],
   "execution_count": 7
  },
  {
   "metadata": {
    "ExecuteTime": {
     "end_time": "2024-09-27T21:44:59.533920Z",
     "start_time": "2024-09-27T21:44:59.523456Z"
    }
   },
   "cell_type": "code",
   "source": "print(np.nan_to_num(arr))",
   "outputs": [
    {
     "name": "stdout",
     "output_type": "stream",
     "text": [
      "[[ 3.  2.  0.  1.]\n",
      " [10. 12. 10.  9.]\n",
      " [ 5.  0.  1.  0.]]\n"
     ]
    }
   ],
   "execution_count": 8
  },
  {
   "cell_type": "markdown",
   "source": [
    "### `Q-6:` Given two arrays, X and Y, construct the Cauchy matrix C.\n",
    "`Cij =1/(xi - yj)`\n",
    "\n",
    "http://en.wikipedia.org/wiki/Cauchy_matrix\n",
    "```\n",
    "x = numpy.array([1,2,3,4]).reshape((-1, 1)\n",
    "y = numpy.array([5,6,7])\n",
    "```"
   ],
   "metadata": {
    "id": "FFUnZtG7jNBH"
   }
  },
  {
   "cell_type": "code",
   "source": [
    "# code here\n",
    "x = np.array([1, 2, 3, 4]).reshape((-1, 1))\n",
    "y = np.array([5, 6, 7])\n",
    "print(x)\n",
    "print(x.shape)\n",
    "print()\n",
    "print(y)\n",
    "print(y.shape)\n",
    "print()\n",
    "\n",
    "print(1 / (x - y))"
   ],
   "metadata": {
    "id": "pQXHa38TjVEh",
    "ExecuteTime": {
     "end_time": "2024-09-27T21:44:59.544650Z",
     "start_time": "2024-09-27T21:44:59.533920Z"
    }
   },
   "outputs": [
    {
     "name": "stdout",
     "output_type": "stream",
     "text": [
      "[[1]\n",
      " [2]\n",
      " [3]\n",
      " [4]]\n",
      "(4, 1)\n",
      "\n",
      "[5 6 7]\n",
      "(3,)\n",
      "\n",
      "[[-0.25       -0.2        -0.16666667]\n",
      " [-0.33333333 -0.25       -0.2       ]\n",
      " [-0.5        -0.33333333 -0.25      ]\n",
      " [-1.         -0.5        -0.33333333]]\n"
     ]
    }
   ],
   "execution_count": 9
  },
  {
   "metadata": {
    "ExecuteTime": {
     "end_time": "2024-09-27T21:44:59.556829Z",
     "start_time": "2024-09-27T21:44:59.544650Z"
    }
   },
   "cell_type": "code",
   "source": [
    "print(np.broadcast_to(x, (4, 3)))\n",
    "print(np.broadcast_to(y, (4, 3)))"
   ],
   "outputs": [
    {
     "name": "stdout",
     "output_type": "stream",
     "text": [
      "[[1 1 1]\n",
      " [2 2 2]\n",
      " [3 3 3]\n",
      " [4 4 4]]\n",
      "[[5 6 7]\n",
      " [5 6 7]\n",
      " [5 6 7]\n",
      " [5 6 7]]\n"
     ]
    }
   ],
   "execution_count": 10
  },
  {
   "cell_type": "markdown",
   "source": [
    "###`Q-7:` Plot this below equation.\n",
    "\n",
    "$$\\large y = \\frac{e^x - e^{-x}}{e^x + e^{-x}}$$\n",
    "\n",
    "**Note: This equation is called tanh activation function. In deep learning, many times this function is used. If you find some difference between the sigmoid function and this tanh function, note that to your notebook.**"
   ],
   "metadata": {
    "id": "EbkHZCF1jWNc"
   }
  },
  {
   "cell_type": "code",
   "source": [
    "# code \n",
    "\n",
    "import matplotlib.pyplot as plt\n",
    "\n",
    "x = np.linspace(-30, 30, 1000)\n",
    "y = (np.exp(x) - np.exp(-x)) / np.exp(x) + np.exp(-x)\n",
    "\n",
    "plt.plot(x, y)"
   ],
   "metadata": {
    "id": "n6OcN--FjbLC",
    "ExecuteTime": {
     "end_time": "2024-09-27T21:45:29.038738Z",
     "start_time": "2024-09-27T21:45:28.953526Z"
    }
   },
   "outputs": [
    {
     "data": {
      "text/plain": [
       "[<matplotlib.lines.Line2D at 0x144d66d5df0>]"
      ]
     },
     "execution_count": 16,
     "metadata": {},
     "output_type": "execute_result"
    },
    {
     "data": {
      "text/plain": [
       "<Figure size 640x480 with 1 Axes>"
      ],
      "image/png": "[encoded data removed]"
     },
     "metadata": {},
     "output_type": "display_data"
    }
   ],
   "execution_count": 16
  },
  {
   "cell_type": "markdown",
   "source": [
    "### `Q-8:` Plot the below equation.\n",
    "\n",
    "$$\\large y = \\sqrt{36 - (x - 4)^2} + 2$$\n",
    "\n",
    "The range of x should be between -2 to 10. $x ∈ [-2, 10]$\n",
    "\n"
   ],
   "metadata": {
    "id": "xujS-pu4jciH"
   }
  },
  {
   "cell_type": "code",
   "source": [
    "# code here\n",
    "x = np.linspace(-2, 10, 50)\n",
    "print(type(x))\n",
    "print(x.shape)\n",
    "print(x)\n",
    "print()\n",
    "y = np.sqrt(36 - (x - 4) ** 2) + 2\n",
    "print(y)"
   ],
   "metadata": {
    "id": "7CagwKP_jhIQ",
    "ExecuteTime": {
     "end_time": "2024-09-27T21:48:43.395264Z",
     "start_time": "2024-09-27T21:48:43.390841Z"
    }
   },
   "outputs": [
    {
     "name": "stdout",
     "output_type": "stream",
     "text": [
      "<class 'numpy.ndarray'>\n",
      "(50,)\n",
      "[-2.         -1.75510204 -1.51020408 -1.26530612 -1.02040816 -0.7755102\n",
      " -0.53061224 -0.28571429 -0.04081633  0.20408163  0.44897959  0.69387755\n",
      "  0.93877551  1.18367347  1.42857143  1.67346939  1.91836735  2.16326531\n",
      "  2.40816327  2.65306122  2.89795918  3.14285714  3.3877551   3.63265306\n",
      "  3.87755102  4.12244898  4.36734694  4.6122449   4.85714286  5.10204082\n",
      "  5.34693878  5.59183673  5.83673469  6.08163265  6.32653061  6.57142857\n",
      "  6.81632653  7.06122449  7.30612245  7.55102041  7.79591837  8.04081633\n",
      "  8.28571429  8.53061224  8.7755102   9.02040816  9.26530612  9.51020408\n",
      "  9.75510204 10.        ]\n",
      "\n",
      "[2.         3.69670283 4.37437381 4.87689962 5.28565091 5.63242375\n",
      " 5.93364369 6.19912527 6.43529068 6.64661207 6.83634718 7.0069506\n",
      " 7.16032021 7.29795289 7.42104742 7.53057459 7.62732667 7.71195288\n",
      " 7.78498538 7.84685864 7.89792388 7.93845991 7.96868128 7.98874413\n",
      " 7.99875039 7.99875039 7.98874413 7.96868128 7.93845991 7.89792388\n",
      " 7.84685864 7.78498538 7.71195288 7.62732667 7.53057459 7.42104742\n",
      " 7.29795289 7.16032021 7.0069506  6.83634718 6.64661207 6.43529068\n",
      " 6.19912527 5.93364369 5.63242375 5.28565091 4.87689962 4.37437381\n",
      " 3.69670283 2.        ]\n"
     ]
    }
   ],
   "execution_count": 34
  },
  {
   "metadata": {
    "ExecuteTime": {
     "end_time": "2024-09-27T21:48:15.397316Z",
     "start_time": "2024-09-27T21:48:15.302856Z"
    }
   },
   "cell_type": "code",
   "source": [
    "plt.plot(x, y)\n",
    "plt.show()"
   ],
   "outputs": [
    {
     "data": {
      "text/plain": [
       "<Figure size 640x480 with 1 Axes>"
      ],
      "image/png": "[encoded data removed]"
     },
     "metadata": {},
     "output_type": "display_data"
    }
   ],
   "execution_count": 32
  },
  {
   "cell_type": "markdown",
   "source": [
    "### `Q-9:` Write a program implement Broadcasting Rule to check if two array can be added or not.\n",
    "Given tuples of shapes.\n",
    "```\n",
    "shape of a- (3,2,2)\n",
    "shape of b- (2,2)\n",
    "\n",
    "check_broadcast(a, b) -> return Boolean (True if can broadcasted, False other wise.)\n",
    "```"
   ],
   "metadata": {
    "id": "Jf14pxCfjiX1"
   }
  },
  {
   "cell_type": "code",
   "source": [
    "# ALGO\n",
    "# align both shapes\n",
    "# loop for both shapes from the end\n",
    "# If 2 numbers are not equal and none of the numbers are 1, return False \n",
    "# else return True\n",
    "\n",
    "def check_broadcast(a, b):\n",
    "    print(\"a:\\n\", a, '\\n')\n",
    "    print(\"b: \\n\", b, '\\n----')\n",
    "    a = a[::-1]\n",
    "    b = b[::-1]\n",
    "    for ai, bi in zip(a, b):\n",
    "        print(ai, bi)\n",
    "        if ai != bi and ai != 1 and bi != 1:\n",
    "            return False\n",
    "    return True\n",
    "\n",
    "check_broadcast((4, 3, 1, 5), (2, 5))"
   ],
   "metadata": {
    "id": "qSKGG0Yajlc8",
    "ExecuteTime": {
     "end_time": "2024-09-27T22:03:54.436421Z",
     "start_time": "2024-09-27T22:03:54.431078Z"
    }
   },
   "outputs": [
    {
     "name": "stdout",
     "output_type": "stream",
     "text": [
      "a:\n",
      " (4, 3, 1, 5) \n",
      "\n",
      "b: \n",
      " (2, 5) \n",
      "----\n",
      "5 5\n",
      "1 2\n"
     ]
    },
    {
     "data": {
      "text/plain": [
       "True"
      ]
     },
     "execution_count": 52,
     "metadata": {},
     "output_type": "execute_result"
    }
   ],
   "execution_count": 52
  },
  {
   "metadata": {},
   "cell_type": "code",
   "outputs": [],
   "execution_count": null,
   "source": ""
  }
 ]
}
