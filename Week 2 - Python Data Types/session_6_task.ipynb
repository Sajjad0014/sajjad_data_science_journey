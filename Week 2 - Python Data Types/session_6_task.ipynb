{
 "nbformat": 4,
 "nbformat_minor": 0,
 "metadata": {
  "colab": {
   "provenance": []
  },
  "kernelspec": {
   "name": "python3",
   "display_name": "Python 3 (ipykernel)",
   "language": "python"
  },
  "language_info": {
   "name": "python"
  }
 },
 "cells": [
  {
   "cell_type": "markdown",
   "source": [
    "### **`Problem-1:`** Write a Python function that takes a list and returns a new list with unique elements of the first list.\n",
    "\n",
    "**Exercise 1:**\n",
    "\n",
    "Input:\n",
    "\n",
    "```bash\n",
    "[1,2,3,3,3,3,4,5]\n",
    "```\n",
    "\n",
    "Output:\n",
    "\n",
    "```bash\n",
    "[1, 2, 3, 4, 5]\n",
    "```"
   ],
   "metadata": {
    "id": "h6dDSW5XGZFi"
   }
  },
  {
   "cell_type": "code",
   "source": [
    "lst = [1, 2, 3, 3, 3, 3, 4, 5]\n",
    "\n",
    "\n",
    "def unique_items(input_list):\n",
    "    result_list = []\n",
    "    for value in input_list:\n",
    "        if value not in result_list:\n",
    "            result_list.append(value)\n",
    "\n",
    "    return result_list\n",
    "\n",
    "\n",
    "unique_items(lst)"
   ],
   "metadata": {
    "id": "R5pq1C9LGe1y",
    "ExecuteTime": {
     "end_time": "2024-08-31T00:48:50.428900Z",
     "start_time": "2024-08-31T00:48:50.423058Z"
    }
   },
   "outputs": [
    {
     "data": {
      "text/plain": [
       "[1, 2, 3, 4, 5]"
      ]
     },
     "execution_count": 1,
     "metadata": {},
     "output_type": "execute_result"
    }
   ],
   "execution_count": 1
  },
  {
   "cell_type": "markdown",
   "source": [
    "### **`Problem-2:`** Write a Python function that accepts a hyphen-separated sequence of words as parameter and returns the words in a hyphen-separated sequence after sorting them alphabetically.\n",
    "\n",
    "**Example 1:**\n",
    "\n",
    "Input:\n",
    "```bash\n",
    "green-red-yellow-black-white\n",
    "```\n",
    "\n",
    "Output:\n",
    "```bash\n",
    "black-green-red-white-yellow\n",
    "```"
   ],
   "metadata": {
    "id": "UxQ_VoyJGwHj"
   }
  },
  {
   "cell_type": "code",
   "source": [
    "# Write code here\n",
    "string1 = 'green-red-yellow-black-white'\n",
    "\n",
    "\n",
    "def convert_string(input_str):\n",
    "    result_str = []\n",
    "    for value in input_str.split('-'):\n",
    "        result_str.append(value)\n",
    "    result_str.sort()\n",
    "    return \"-\".join(result_str)\n",
    "\n",
    "\n",
    "convert_string(string1)"
   ],
   "metadata": {
    "id": "AAts2m5zGwiQ",
    "ExecuteTime": {
     "end_time": "2024-08-31T00:53:29.460860Z",
     "start_time": "2024-08-31T00:53:29.456689Z"
    }
   },
   "outputs": [
    {
     "data": {
      "text/plain": [
       "'black-green-red-white-yellow'"
      ]
     },
     "execution_count": 7,
     "metadata": {},
     "output_type": "execute_result"
    }
   ],
   "execution_count": 7
  },
  {
   "cell_type": "markdown",
   "source": [
    "### **`Problem 3:`** Write a Python function that accepts a string and calculate the number of upper case letters and lower case letters.\n",
    "\n",
    "```\n",
    "Sample String : 'CampusX is an Online Mentorship Program fOr EnginEering studentS.'\n",
    "Expected Output :\n",
    "No. of Upper case characters :  9\n",
    "No. of Lower case Characters :  47\n",
    "```"
   ],
   "metadata": {
    "id": "IRGH62S7Gx_n"
   }
  },
  {
   "cell_type": "code",
   "source": [
    "# Write code here\n",
    "str1 = 'CampusX is an Online Mentorship Program fOr EnginEering studentS.'\n",
    "\n",
    "\n",
    "def lower_upper_calculator(input_str):\n",
    "    lower_count = 0\n",
    "    upper_count = 0\n",
    "    for value in input_str.split():\n",
    "        for i in value:\n",
    "            if i.isalpha():\n",
    "                if i.isupper():\n",
    "                    upper_count += 1\n",
    "                else:\n",
    "                    lower_count += 1\n",
    "\n",
    "    print('No. of Upper case charaters: ', upper_count)\n",
    "    print('No. of Lower case charaters: ', lower_count)\n",
    "\n",
    "\n",
    "lower_upper_calculator(str1)"
   ],
   "metadata": {
    "id": "OaUrD8vVG5o8",
    "ExecuteTime": {
     "end_time": "2024-08-31T00:58:47.332603Z",
     "start_time": "2024-08-31T00:58:47.328374Z"
    }
   },
   "outputs": [
    {
     "name": "stdout",
     "output_type": "stream",
     "text": [
      "No. of Upper case charaters:  9\n",
      "No. of Lower case charaters:  47\n"
     ]
    }
   ],
   "execution_count": 9
  },
  {
   "cell_type": "markdown",
   "source": [
    "### **`Problem 4:`** Write a Python program to print the even numbers from a given list.\n",
    "```\n",
    "Sample List : [1, 2, 3, 4, 5, 6, 7, 8, 9]\n",
    "Expected Result : [2, 4, 6, 8]\n",
    "```"
   ],
   "metadata": {
    "id": "V1BFFdYQG7Sn"
   }
  },
  {
   "cell_type": "code",
   "source": "# Write code here\n",
   "metadata": {
    "id": "VvAReLoDG_Z3"
   },
   "execution_count": null,
   "outputs": []
  },
  {
   "cell_type": "markdown",
   "source": [
    "### **`Problem 5:`** Write a Python function to check whether a number is perfect or not.\n",
    "\n",
    "A Perfect number is a number that is half the sum of all of its positive divisors (including itself).\n",
    "\n",
    "Example :\n",
    "\n",
    "```\n",
    "The first perfect number is 6, because 1, 2, and 3 are its proper positive divisors, and 1 + 2 + 3 = 6.\n",
    "Equivalently, the number 6 is equal to half the sum of all its positive divisors: ( 1 + 2 + 3 + 6 ) / 2 = 6.\n",
    "\n",
    "The next perfect number is 28 = 1 + 2 + 4 + 7 + 14. This is followed by the perfect numbers 496 and 8128.\n",
    "```\n"
   ],
   "metadata": {
    "id": "qrK39Gn-HHb4"
   }
  },
  {
   "cell_type": "code",
   "source": [
    "# Write code here\n",
    "def check_if_perfect(num):\n",
    "    count = 0\n",
    "    condition1 = False\n",
    "    condition2 = False\n",
    "    positive_divisors = []\n",
    "    for i in range(1, num):\n",
    "        if num % i == 0:\n",
    "            positive_divisors.append(i)\n",
    "            count += 1\n",
    "\n",
    "    if sum(positive_divisors) == num:\n",
    "        condition1 = True\n",
    "\n",
    "    total_sum = 0\n",
    "    for i in positive_divisors:\n",
    "        total_sum += i\n",
    "\n",
    "    if int((total_sum + num) / 2) == num:\n",
    "        condition2 = True\n",
    "\n",
    "    if condition1 and condition2:\n",
    "        print(num)\n",
    "        return 'True'\n",
    "    else:\n",
    "        return 'False'\n",
    "\n",
    "\n",
    "for i in range(1, 10000):\n",
    "    if check_if_perfect(num=i) == 'True':\n",
    "        pass"
   ],
   "metadata": {
    "id": "P-OI7H78HICs",
    "ExecuteTime": {
     "end_time": "2024-08-31T01:52:51.185772Z",
     "start_time": "2024-08-31T01:52:49.014218Z"
    }
   },
   "outputs": [
    {
     "name": "stdout",
     "output_type": "stream",
     "text": [
      "6\n",
      "28\n",
      "496\n",
      "8128\n"
     ]
    }
   ],
   "execution_count": 37
  },
  {
   "cell_type": "markdown",
   "source": [
    "### **`Problem-6:`** Write a Python function to concatenate any no of dictionaries to create a new one.\n",
    "\n",
    "```\n",
    "Sample Dictionary :\n",
    "dic1={1:10, 2:20}\n",
    "dic2={3:30, 4:40}\n",
    "dic3={5:50,6:60}\n",
    "Expected Result : {1: 10, 2: 20, 3: 30, 4: 40, 5: 50, 6: 60}\n",
    "```"
   ],
   "metadata": {
    "id": "oZdpcG77HO-6"
   }
  },
  {
   "cell_type": "code",
   "source": [
    "# Write code here\n",
    "def concat_dict(*input_dict):\n",
    "    result_dict = {}\n",
    "    for i in input_dict:\n",
    "        result_dict.update(i)\n",
    "\n",
    "    return result_dict\n",
    "\n",
    "\n",
    "dic1 = {1: 10, 2: 20}\n",
    "dic2 = {3: 30, 4: 40}\n",
    "dic3 = {5: 50, 6: 60}\n",
    "\n",
    "concat_dict(dic1, dic2, dic3)"
   ],
   "metadata": {
    "id": "LQgfAY4ZHPhj",
    "ExecuteTime": {
     "end_time": "2024-08-31T01:56:45.064517Z",
     "start_time": "2024-08-31T01:56:45.060344Z"
    }
   },
   "outputs": [
    {
     "data": {
      "text/plain": [
       "{1: 10, 2: 20, 3: 30, 4: 40, 5: 50, 6: 60}"
      ]
     },
     "execution_count": 38,
     "metadata": {},
     "output_type": "execute_result"
    }
   ],
   "execution_count": 38
  },
  {
   "cell_type": "markdown",
   "source": [
    "`Problem-7` Write a python function that accepts a string as input and returns the word with most occurence.\n",
    "\n",
    "```\n",
    "Input:\n",
    "hello how are you i am fine thank you\n",
    "```\n",
    "\n",
    "```\n",
    "Output\n",
    "you -> 2\n",
    "```"
   ],
   "metadata": {
    "id": "jQ6SzbCkHRd0"
   }
  },
  {
   "cell_type": "code",
   "source": [
    "# Write code here\n",
    "str1 = 'hello how are you i am fine thank you'\n",
    "\n",
    "\n",
    "def count_occurance(input_str):\n",
    "    lst = [x for x in input_str.split()]\n",
    "    max = 0\n",
    "    most_occ = ''\n",
    "\n",
    "    for word in lst:\n",
    "        if lst.count(word) > max:\n",
    "            max = lst.count(word)\n",
    "            most_occ = word\n",
    "\n",
    "    print(word, '->', max)\n",
    "\n",
    "\n",
    "count_occurance(str1)"
   ],
   "metadata": {
    "id": "Lh04JHLzIW7Z",
    "ExecuteTime": {
     "end_time": "2024-08-31T18:06:07.579502Z",
     "start_time": "2024-08-31T18:06:07.573256Z"
    }
   },
   "outputs": [
    {
     "name": "stdout",
     "output_type": "stream",
     "text": [
      "you -> 2\n"
     ]
    }
   ],
   "execution_count": 1
  },
  {
   "cell_type": "markdown",
   "source": [
    "`Problem-8` Write a python function that receives a list of integers and prints out a histogram of bin size 10\n",
    "\n",
    "```\n",
    "Input:\n",
    "[13,42,15,37,22,39,41,50]\n",
    "```\n",
    "\n",
    "```\n",
    "Output:\n",
    "{11-20:2,21-30:1,31-40:2,41-50:3}\n",
    "```"
   ],
   "metadata": {
    "id": "1r8SpVntI-IW"
   }
  },
  {
   "cell_type": "code",
   "source": [
    "# Write code here\n",
    "import math\n",
    "\n",
    "list_of_int = [13, 42, 15, 37, 22, 39, 41, 50]\n",
    "\n",
    "\n",
    "def print_hist(input_list):\n",
    "    dict1 = {}\n",
    "\n",
    "    min_value = math.floor(min(input_list) / 10) * 10\n",
    "    max_value = math.ceil(max(input_list) / 10) * 10\n",
    "\n",
    "    for i in range(min_value, max_value, 10):\n",
    "        count = 0\n",
    "        for value in input_list:\n",
    "            if i + 1 <= value <= i + 10:\n",
    "                count += 1\n",
    "\n",
    "        dict1[str(i + 1) + ' - ' + str(i + 10)] = count\n",
    "\n",
    "    print(dict1)\n",
    "\n",
    "\n",
    "print_hist(list_of_int)\n"
   ],
   "metadata": {
    "id": "7W0J8rUjJovg",
    "ExecuteTime": {
     "end_time": "2024-08-31T18:26:49.970833Z",
     "start_time": "2024-08-31T18:26:49.966296Z"
    }
   },
   "outputs": [
    {
     "name": "stdout",
     "output_type": "stream",
     "text": [
      "{'11 - 20': 2, '21 - 30': 1, '31 - 40': 2, '41 - 50': 3}\n"
     ]
    }
   ],
   "execution_count": 6
  },
  {
   "cell_type": "markdown",
   "source": [
    "`Problem-9` Write a python function that accepts a list of 2D co-ordinates and a query point, and then finds the the co-ordinate which is closest in terms of distance from the query point.\n",
    "\n",
    "```\n",
    "List of Coordinates\n",
    "[(1,1),(2,2),(3,3),(4,4)]\n",
    "Query Point\n",
    "(0,0)\n",
    "```\n",
    "\n",
    "```\n",
    "Output\n",
    "Nearest to (0,0) is (1,1)\n",
    "```"
   ],
   "metadata": {
    "id": "1P2-rbgXKE53"
   }
  },
  {
   "cell_type": "code",
   "source": [
    "# Write code here\n",
    "\n",
    "def shortest_dist(points, query):\n",
    "    temp = []\n",
    "    for i in points:\n",
    "        distance = ((i[0] - query[0]) ** 2 + (i[1] - query[1]) ** 2) ** 0.5\n",
    "        temp.append(distance)\n",
    "\n",
    "    return points[sorted(list(enumerate(temp)), key=lambda x: x[1])[0][0]]\n",
    "\n",
    "\n",
    "points = [(1, 4), (2, -2), (13, 3), (14, 4)]\n",
    "query = (0, 0)\n",
    "\n",
    "shortest_dist(points, query)"
   ],
   "metadata": {
    "id": "zjn7vSTIJ81G",
    "ExecuteTime": {
     "end_time": "2024-08-31T18:40:50.440526Z",
     "start_time": "2024-08-31T18:40:50.435868Z"
    }
   },
   "outputs": [
    {
     "data": {
      "text/plain": [
       "(2, -2)"
      ]
     },
     "execution_count": 17,
     "metadata": {},
     "output_type": "execute_result"
    }
   ],
   "execution_count": 17
  },
  {
   "cell_type": "markdown",
   "source": [
    "`Problem-10`:Write a python program that receives a list of strings and performs bag of word operation on those strings\n",
    "\n",
    "https://en.wikipedia.org/wiki/Bag-of-words_model\n",
    "\n",
    "Output -\n",
    "\n",
    "BoW1 = {\"John\":1,\"likes\":2,\"to\":1,\"watch\":1,\"movies\":2,\"Mary\":1,\"too\":1};\n",
    "\n",
    "BoW2 = {\"Mary\":1,\"also\":1,\"likes\":1,\"to\":1,\"watch\":1,\"football\":1,\"games\":1};"
   ],
   "metadata": {
    "id": "i-B6igmyK9hB"
   }
  },
  {
   "cell_type": "code",
   "source": [
    "# Write code here\n",
    "\n",
    "list1 = [\"John\", \"likes\", \"to\", \"watch\", \"movies\", \"Mary\", \"likes\", \"movies\", \"too\"]\n",
    "list2 = [\"Mary\", \"also\", \"likes\", \"to\", \"watch\", \"football\", \"games\", \"games\", \"games\", \"games\", \"to\", \"also\", \"to\",\n",
    "         \"to\", \"also\", \"to\", \"to\", \"to\"]\n",
    "\n",
    "\n",
    "def bag_of_words(input_list):\n",
    "    list_of_word_count = {}\n",
    "\n",
    "    for string in input_list:\n",
    "        count = input_list.count(string)\n",
    "        list_of_word_count[string] = count\n",
    "\n",
    "    return list_of_word_count\n",
    "\n",
    "\n",
    "print(bag_of_words(list1))\n",
    "print(bag_of_words(list2))"
   ],
   "metadata": {
    "id": "N2l1_AWULT-z",
    "ExecuteTime": {
     "end_time": "2024-08-31T18:48:42.849067Z",
     "start_time": "2024-08-31T18:48:42.844616Z"
    }
   },
   "outputs": [
    {
     "name": "stdout",
     "output_type": "stream",
     "text": [
      "{'John': 1, 'likes': 2, 'to': 1, 'watch': 1, 'movies': 2, 'Mary': 1, 'too': 1}\n",
      "{'Mary': 1, 'also': 3, 'likes': 1, 'to': 7, 'watch': 1, 'football': 1, 'games': 4}\n"
     ]
    }
   ],
   "execution_count": 26
  },
  {
   "cell_type": "markdown",
   "source": [
    "###`Problem 11:` Write a Python program to add three given lists using Python map and lambda."
   ],
   "metadata": {
    "id": "dHTRKb-DqMLw"
   }
  },
  {
   "cell_type": "code",
   "source": [
    "# Write code here\n",
    "L1 = [1, 2, 3]\n",
    "L2 = [4, 5, 6]\n",
    "L3 = [7, 8, 9]\n",
    "\n",
    "list(map(lambda x, y, z: x + y + z, L1, L2, L3))"
   ],
   "metadata": {
    "id": "NfJdzyNZqNW-",
    "ExecuteTime": {
     "end_time": "2024-08-31T18:58:34.217941Z",
     "start_time": "2024-08-31T18:58:34.213305Z"
    }
   },
   "outputs": [
    {
     "data": {
      "text/plain": [
       "[12, 15, 18]"
      ]
     },
     "execution_count": 27,
     "metadata": {},
     "output_type": "execute_result"
    }
   ],
   "execution_count": 27
  },
  {
   "cell_type": "markdown",
   "source": [
    "###`Problem-12:`Write a Python program to create a list containing the power of said number in bases raised to the corresponding number in the index using Python map.\n",
    "`Input:`\n",
    "```\n",
    "list1 = [1,2,3,4,5,6]\n",
    "```\n",
    "`Output:`\n",
    "```\n",
    "[1,2,9,64,625,-]\n",
    "```\n"
   ],
   "metadata": {
    "id": "MgHP7mbUqO8l"
   }
  },
  {
   "cell_type": "code",
   "source": [
    "# Write code here\n",
    "list1 = [1, 2, 3, 4, 5, 6]\n",
    "list(map(lambda x, y: x ** y, list1, range(len(list1))))"
   ],
   "metadata": {
    "id": "gG3Dc6N3qbvN",
    "ExecuteTime": {
     "end_time": "2024-08-31T19:01:36.263564Z",
     "start_time": "2024-08-31T19:01:36.259141Z"
    }
   },
   "outputs": [
    {
     "data": {
      "text/plain": [
       "[1, 2, 9, 64, 625, 7776]"
      ]
     },
     "execution_count": 29,
     "metadata": {},
     "output_type": "execute_result"
    }
   ],
   "execution_count": 29
  },
  {
   "cell_type": "markdown",
   "source": [
    "###`Problem-13` Using filter() and list() functions and .lower() method filter all the vowels in a given string.\n",
    "\n"
   ],
   "metadata": {
    "id": "G26SYq6vqdLN"
   }
  },
  {
   "cell_type": "code",
   "source": [
    "# Write code here\n",
    "given_string = 'skajfnWLERIJFNADFKLJNVEirgnadajfnaskljfdnirgndkjafn'\n",
    "\n",
    "list(filter(lambda x: True if x.lower() in 'aeiou' else False, given_string))"
   ],
   "metadata": {
    "id": "zurga3DIqmEx",
    "ExecuteTime": {
     "end_time": "2024-08-31T19:03:32.843677Z",
     "start_time": "2024-08-31T19:03:32.836263Z"
    }
   },
   "outputs": [
    {
     "data": {
      "text/plain": [
       "['a', 'E', 'I', 'A', 'E', 'i', 'a', 'a', 'a', 'i', 'a']"
      ]
     },
     "execution_count": 33,
     "metadata": {},
     "output_type": "execute_result"
    }
   ],
   "execution_count": 33
  },
  {
   "cell_type": "markdown",
   "source": [
    "`Problem-14`: Use reduce to convert a 2D list to 1D"
   ],
   "metadata": {
    "id": "uQrsunZSqoYu"
   }
  },
  {
   "cell_type": "code",
   "source": [
    "# Write code here\n",
    "import functools\n",
    "\n",
    "list1 = [[34, 5, 2],\n",
    "         [3, 54, 34],\n",
    "         [34, 23, 4],\n",
    "         [53, 0, 1]]\n",
    "\n",
    "functools.reduce(lambda x, y: x + y, list1)"
   ],
   "metadata": {
    "id": "E1YUwnfgqnka",
    "ExecuteTime": {
     "end_time": "2024-08-31T19:07:45.439321Z",
     "start_time": "2024-08-31T19:07:45.434583Z"
    }
   },
   "outputs": [
    {
     "data": {
      "text/plain": [
       "[34, 5, 2, 3, 54, 34, 34, 23, 4, 53, 0, 1]"
      ]
     },
     "execution_count": 35,
     "metadata": {},
     "output_type": "execute_result"
    }
   ],
   "execution_count": 35
  },
  {
   "cell_type": "markdown",
   "source": [
    "`Problem 15`- A dictionary contains following information about 5 employees:\n",
    "- First name\n",
    "- Last name\n",
    "- Age\n",
    "- Grade(Skilled,Semi-skilled,Highly skilled)<br>\n",
    "Write a program using map/filter/reduce to a list of employees(first name + last name) who are highly skilled"
   ],
   "metadata": {
    "id": "8-DLQEawt-_t"
   }
  },
  {
   "metadata": {
    "ExecuteTime": {
     "end_time": "2024-08-31T19:14:25.924390Z",
     "start_time": "2024-08-31T19:14:25.921371Z"
    }
   },
   "cell_type": "code",
   "source": [
    "# Write code here\n",
    "employees = [\n",
    "    {\n",
    "        'fname': 'Nitish',\n",
    "        'lname': 'Singh',\n",
    "        'age': 33,\n",
    "        'grade': 'skilled'\n",
    "    },\n",
    "    {\n",
    "        'fname': 'Ankit',\n",
    "        'lname': 'Verma',\n",
    "        'age': 34,\n",
    "        'grade': 'semi-skilled'\n",
    "    },\n",
    "    {\n",
    "        'fname': 'Neha',\n",
    "        'lname': 'Singh',\n",
    "        'age': 35,\n",
    "        'grade': 'highly-skilled'\n",
    "    },\n",
    "    {\n",
    "        'fname': 'Anurag',\n",
    "        'lname': 'Kumar',\n",
    "        'age': 30,\n",
    "        'grade': 'skilled'\n",
    "    },\n",
    "    {\n",
    "        'fname': 'Abhinav',\n",
    "        'lname': 'Sharma',\n",
    "        'age': 37,\n",
    "        'grade': 'highly-skilled'\n",
    "    }\n",
    "\n",
    "]"
   ],
   "outputs": [],
   "execution_count": 38
  },
  {
   "cell_type": "code",
   "source": [
    "list(map(lambda x: x['fname'] + ' ' + x['lname'],\n",
    "         list(filter(lambda x: True if x['grade'] == 'highly-skilled' else False, employees))))"
   ],
   "metadata": {
    "id": "ldMjGfkgAMr9",
    "ExecuteTime": {
     "end_time": "2024-08-31T19:15:13.710392Z",
     "start_time": "2024-08-31T19:15:13.706614Z"
    }
   },
   "outputs": [
    {
     "data": {
      "text/plain": [
       "['Neha Singh', 'Abhinav Sharma']"
      ]
     },
     "execution_count": 40,
     "metadata": {},
     "output_type": "execute_result"
    }
   ],
   "execution_count": 40
  },
  {
   "metadata": {},
   "cell_type": "code",
   "outputs": [],
   "execution_count": null,
   "source": ""
  }
 ]
}
