{
 "nbformat": 4,
 "nbformat_minor": 0,
 "metadata": {
  "colab": {
   "provenance": []
  },
  "kernelspec": {
   "name": "python3",
   "display_name": "Python 3 (ipykernel)",
   "language": "python"
  },
  "language_info": {
   "name": "python"
  }
 },
 "cells": [
  {
   "cell_type": "code",
   "execution_count": null,
   "metadata": {
    "id": "LA_C6nh0pk8k"
   },
   "outputs": [],
   "source": [
    "# use python to solve all the questions"
   ]
  },
  {
   "cell_type": "markdown",
   "source": "### Q1. Given the vectors A = [1, 2, 3] and B = [4, 5, 6], calculate the element-wise product of the two vectors.",
   "metadata": {
    "id": "czZ5akI8MJCn"
   }
  },
  {
   "metadata": {
    "ExecuteTime": {
     "end_time": "2024-12-25T04:14:48.133308Z",
     "start_time": "2024-12-25T04:14:47.643143Z"
    }
   },
   "cell_type": "code",
   "source": [
    "import numpy as np\n",
    "\n",
    "A = np.array([1, 2, 3])\n",
    "B = np.array([4, 5, 6])\n",
    "\n",
    "A * B"
   ],
   "outputs": [
    {
     "data": {
      "text/plain": [
       "array([ 4, 10, 18])"
      ]
     },
     "execution_count": 1,
     "metadata": {},
     "output_type": "execute_result"
    }
   ],
   "execution_count": 1
  },
  {
   "cell_type": "markdown",
   "source": "### Q2. Find the magnitude of the vector C = [2, -3, 1].",
   "metadata": {
    "id": "I6PjVp2EMJAJ"
   }
  },
  {
   "metadata": {
    "ExecuteTime": {
     "end_time": "2024-12-25T04:15:49.889160Z",
     "start_time": "2024-12-25T04:15:49.884683Z"
    }
   },
   "cell_type": "code",
   "source": [
    "C = np.array([2, -3, 1])\n",
    "\n",
    "np.linalg.norm(C)"
   ],
   "outputs": [
    {
     "data": {
      "text/plain": [
       "3.7416573867739413"
      ]
     },
     "execution_count": 2,
     "metadata": {},
     "output_type": "execute_result"
    }
   ],
   "execution_count": 2
  },
  {
   "cell_type": "markdown",
   "source": "### Q3. Given the vectors D = [1, 2, 3] and E = [4, 5, 6], calculate the cosine of the angle between them.",
   "metadata": {
    "id": "3ikqv55gMI9y"
   }
  },
  {
   "metadata": {
    "ExecuteTime": {
     "end_time": "2024-12-25T04:18:15.854087Z",
     "start_time": "2024-12-25T04:18:15.849947Z"
    }
   },
   "cell_type": "code",
   "source": [
    "D = np.array([1, 2, 3])\n",
    "E = np.array([4, 5, 6])\n",
    "\n",
    "np.dot(D, E) / (np.linalg.norm(D) * np.linalg.norm(E))"
   ],
   "outputs": [
    {
     "data": {
      "text/plain": [
       "0.9746318461970762"
      ]
     },
     "execution_count": 3,
     "metadata": {},
     "output_type": "execute_result"
    }
   ],
   "execution_count": 3
  },
  {
   "cell_type": "markdown",
   "source": [
    "\n",
    "### Q4. Given the vectors F = [1, 2, 3] and G = [4, 5, 6], calculate the cross product of the two vectors."
   ],
   "metadata": {
    "id": "8QEHcFNMMI7d"
   }
  },
  {
   "metadata": {
    "ExecuteTime": {
     "end_time": "2024-12-25T04:18:54.818730Z",
     "start_time": "2024-12-25T04:18:54.814547Z"
    }
   },
   "cell_type": "code",
   "source": [
    "F = np.array([1, 2, 3])\n",
    "G = np.array([4, 5, 6])\n",
    "\n",
    "np.dot(F, G)"
   ],
   "outputs": [
    {
     "data": {
      "text/plain": [
       "32"
      ]
     },
     "execution_count": 4,
     "metadata": {},
     "output_type": "execute_result"
    }
   ],
   "execution_count": 4
  },
  {
   "cell_type": "markdown",
   "source": "### Q5. Given the vector H = [2, 4, 6], shift the vector +1 unit in each dimension",
   "metadata": {
    "id": "rC0c7l9aMI5W"
   }
  },
  {
   "metadata": {
    "ExecuteTime": {
     "end_time": "2024-12-25T04:19:18.422871Z",
     "start_time": "2024-12-25T04:19:18.418853Z"
    }
   },
   "cell_type": "code",
   "source": [
    "H = np.array([2, 4, 6])\n",
    "\n",
    "H + 1"
   ],
   "outputs": [
    {
     "data": {
      "text/plain": [
       "array([3, 5, 7])"
      ]
     },
     "execution_count": 5,
     "metadata": {},
     "output_type": "execute_result"
    }
   ],
   "execution_count": 5
  },
  {
   "cell_type": "markdown",
   "source": "### Q6. Given the vectors I = [1, 2, 3] and J = [4, 5, 6], calculate the projection of vector I onto vector J.",
   "metadata": {
    "id": "GSuaAIZUMI2i"
   }
  },
  {
   "metadata": {
    "ExecuteTime": {
     "end_time": "2024-12-25T04:25:43.668206Z",
     "start_time": "2024-12-25T04:25:43.663209Z"
    }
   },
   "cell_type": "code",
   "source": [
    "I = np.array([1, 2, 3])\n",
    "J = np.array([4, 5, 6])\n",
    "\n",
    "(np.dot(I, J) / np.dot(J, J)) * J"
   ],
   "outputs": [
    {
     "data": {
      "text/plain": [
       "array([1.66233766, 2.07792208, 2.49350649])"
      ]
     },
     "execution_count": 6,
     "metadata": {},
     "output_type": "execute_result"
    }
   ],
   "execution_count": 6
  },
  {
   "cell_type": "markdown",
   "source": [
    "### Q7. Consider the 2D - position vector a = (1, 3). If b is the point (5, 4), find the vector `ab` and the vector sum `a + ab`. Provide a sketch plot.\n",
    "\n",
    "Note: Search for quiver, to plot an arrow.\n"
   ],
   "metadata": {
    "id": "SKc4susaMIz2"
   }
  },
  {
   "metadata": {
    "ExecuteTime": {
     "end_time": "2024-12-25T04:32:29.008378Z",
     "start_time": "2024-12-25T04:32:27.820987Z"
    }
   },
   "cell_type": "code",
   "source": [
    "import matplotlib.pyplot as plt\n",
    "\n",
    "a = np.array([1, 3])\n",
    "b = np.array([5, 4])\n",
    "\n",
    "# Calculate vector ab\n",
    "ab = b - a\n",
    "print('Vector ab: ', ab)\n",
    "\n",
    "# Calculate vector sub a + ab\n",
    "a_plus_ab = a + ab\n",
    "print('Vector sub a + ab: ', a_plus_ab)\n",
    "\n",
    "# Plot the vectors a, b, and ab\n",
    "origin = np.array([0, 0])\n",
    "\n",
    "plt.quiver(*origin, a[0], a[1], angles='xy', scale_units='xy', scale=1, color='r', label='a')\n",
    "plt.scatter(b[0], b[1], color='b', label='b')\n",
    "plt.quiver(*a, ab[0], ab[1], angles='xy', scale_units='xy', scale=1, color='g', label='ab')\n",
    "plt.quiver(*origin, a_plus_ab[0], a_plus_ab[1], angles='xy', scale_units='xy', scale=1, color='m', label='a+ab')\n",
    "\n",
    "plt.xlim(-1, 7)\n",
    "plt.ylim(-1, 7)\n",
    "plt.xlabel('x')\n",
    "plt.ylabel('y')\n",
    "plt.legend()\n",
    "plt.grid()\n",
    "plt.show()"
   ],
   "outputs": [
    {
     "name": "stdout",
     "output_type": "stream",
     "text": [
      "Vector ab:  [4 1]\n",
      "Vector sub a + ab:  [5 4]\n"
     ]
    },
    {
     "data": {
      "text/plain": [
       "<Figure size 640x480 with 1 Axes>"
      ],
      "image/png": "[encoded data removed]"
     },
     "metadata": {},
     "output_type": "display_data"
    }
   ],
   "execution_count": 7
  },
  {
   "cell_type": "markdown",
   "source": [
    "\n",
    "Note: Search for quiver, to plot an arrow.\n",
    "\n",
    "### Q8. Given two 2D vectors `u` and `v` where `u = [-1, 4]` and `v = [3, -2]`, find the dot product `u . v`, the angle between `u` and `v`, and the projection of `u` onto `v`."
   ],
   "metadata": {
    "id": "JiymgWakMIu7"
   }
  },
  {
   "metadata": {
    "ExecuteTime": {
     "end_time": "2024-12-25T04:37:42.764356Z",
     "start_time": "2024-12-25T04:37:42.758876Z"
    }
   },
   "cell_type": "code",
   "source": [
    "u = np.array([-1, 4])\n",
    "v = np.array([3, -2])\n",
    "\n",
    "dot_product = np.dot(u, v)\n",
    "dot_product"
   ],
   "outputs": [
    {
     "data": {
      "text/plain": [
       "-11"
      ]
     },
     "execution_count": 9,
     "metadata": {},
     "output_type": "execute_result"
    }
   ],
   "execution_count": 9
  },
  {
   "metadata": {
    "ExecuteTime": {
     "end_time": "2024-12-25T04:39:52.448384Z",
     "start_time": "2024-12-25T04:39:52.444896Z"
    }
   },
   "cell_type": "code",
   "source": [
    "angle_between_u_v = dot_product / (np.linalg.norm(u) * np.linalg.norm(v))\n",
    "angle_between_u_v"
   ],
   "outputs": [
    {
     "data": {
      "text/plain": [
       "-0.7399400733959438"
      ]
     },
     "execution_count": 10,
     "metadata": {},
     "output_type": "execute_result"
    }
   ],
   "execution_count": 10
  },
  {
   "metadata": {
    "ExecuteTime": {
     "end_time": "2024-12-25T04:46:15.514617Z",
     "start_time": "2024-12-25T04:46:15.510308Z"
    }
   },
   "cell_type": "code",
   "source": [
    "theta = np.arccos(angle_between_u_v)\n",
    "theta"
   ],
   "outputs": [
    {
     "data": {
      "text/plain": [
       "2.4037775934693286"
      ]
     },
     "execution_count": 16,
     "metadata": {},
     "output_type": "execute_result"
    }
   ],
   "execution_count": 16
  },
  {
   "metadata": {
    "ExecuteTime": {
     "end_time": "2024-12-25T04:47:23.599197Z",
     "start_time": "2024-12-25T04:47:23.595188Z"
    }
   },
   "cell_type": "code",
   "source": "(np.dot(u, v) / np.dot(v, v)) * v",
   "outputs": [
    {
     "data": {
      "text/plain": [
       "array([-2.53846154,  1.69230769])"
      ]
     },
     "execution_count": 17,
     "metadata": {},
     "output_type": "execute_result"
    }
   ],
   "execution_count": 17
  },
  {
   "cell_type": "markdown",
   "source": "### Q9. Given a hyperplane defined by the equation 3x - 2y + z = 1, find two different points that lie on this hyperplane.",
   "metadata": {
    "id": "Bv8JCaXfMIlM"
   }
  },
  {
   "metadata": {
    "ExecuteTime": {
     "end_time": "2024-12-25T04:55:59.482649Z",
     "start_time": "2024-12-25T04:55:59.478577Z"
    }
   },
   "cell_type": "code",
   "source": [
    "# Solution\n",
    "import numpy as np\n",
    "\n",
    "# Hyperplane equation: 3x - 2y + z = 1\n",
    "\n",
    "# Let x = 0, y = 0\n",
    "z = 1\n",
    "p1 = np.array([0, 0, z])\n",
    "print(p1)"
   ],
   "outputs": [
    {
     "name": "stdout",
     "output_type": "stream",
     "text": [
      "[0 0 1]\n"
     ]
    }
   ],
   "execution_count": 18
  },
  {
   "metadata": {
    "ExecuteTime": {
     "end_time": "2024-12-25T04:56:42.038158Z",
     "start_time": "2024-12-25T04:56:42.033877Z"
    }
   },
   "cell_type": "code",
   "source": [
    "# Let x = 2, y = 5\n",
    "x = 2\n",
    "y = 5\n",
    "z = 3 * x - 2 * y + 1\n",
    "p2 = np.array([x, y, z])\n",
    "p2"
   ],
   "outputs": [
    {
     "data": {
      "text/plain": [
       "array([ 2,  5, -3])"
      ]
     },
     "execution_count": 19,
     "metadata": {},
     "output_type": "execute_result"
    }
   ],
   "execution_count": 19
  },
  {
   "cell_type": "markdown",
   "source": [
    "### Q10. Find a nearest point from a given array of points to a point P1.\n",
    "P1 - (3,9,3)\n",
    "\n",
    "Array of points :\n",
    "```\n",
    "[[1, 8, 5],\n",
    "[8, 8, 2],\n",
    "[7, 9, 1],\n",
    "[5, 6, 3],\n",
    "[9, 1, 2],\n",
    "[6, 5, 9],\n",
    "[5, 8, 6],\n",
    "[3, 4, 8],\n",
    "[6, 8, 4],\n",
    "[7, 2, 7]]\n",
    "```"
   ],
   "metadata": {
    "id": "0lF_KwWXpnQU"
   }
  },
  {
   "cell_type": "code",
   "source": [
    "# Generate array of 10 random 3-D points\n",
    "points = np.array([[1, 8, 5],\n",
    "                   [8, 8, 2],\n",
    "                   [7, 9, 1],\n",
    "                   [5, 6, 3],\n",
    "                   [9, 1, 2],\n",
    "                   [6, 5, 9],\n",
    "                   [5, 8, 6],\n",
    "                   [3, 4, 8],\n",
    "                   [6, 8, 4],\n",
    "                   [7, 2, 7]])\n",
    "\n",
    "# Define target point\n",
    "target = np.array([3, 9, 3])\n",
    "\n",
    "# Calculate distances between target point and each point in the array\n",
    "distances = np.linalg.norm(points - target, axis=1)\n",
    "\n",
    "print(distances)"
   ],
   "metadata": {
    "id": "3RtkFjyXp93H",
    "ExecuteTime": {
     "end_time": "2024-12-25T05:06:57.415425Z",
     "start_time": "2024-12-25T05:06:57.410584Z"
    }
   },
   "outputs": [
    {
     "name": "stdout",
     "output_type": "stream",
     "text": [
      "[ 3.          5.19615242  4.47213595  3.60555128 10.04987562  7.81024968\n",
      "  3.74165739  7.07106781  3.31662479  9.        ]\n"
     ]
    }
   ],
   "execution_count": 20
  },
  {
   "metadata": {
    "ExecuteTime": {
     "end_time": "2024-12-25T05:07:58.346845Z",
     "start_time": "2024-12-25T05:07:58.342436Z"
    }
   },
   "cell_type": "code",
   "source": [
    "# Find index of point with shortest distance\n",
    "index_min_distance = np.argmin(distances)\n",
    "index_min_distance"
   ],
   "outputs": [
    {
     "data": {
      "text/plain": [
       "0"
      ]
     },
     "execution_count": 21,
     "metadata": {},
     "output_type": "execute_result"
    }
   ],
   "execution_count": 21
  },
  {
   "metadata": {
    "ExecuteTime": {
     "end_time": "2024-12-25T05:08:53.670647Z",
     "start_time": "2024-12-25T05:08:53.666647Z"
    }
   },
   "cell_type": "code",
   "source": [
    "# Retrieve point with shortest distance\n",
    "point_min_distance = points[index_min_distance]\n",
    "\n",
    "print('Nearest point: ', point_min_distance)"
   ],
   "outputs": [
    {
     "name": "stdout",
     "output_type": "stream",
     "text": [
      "Nearest point:  [1 8 5]\n"
     ]
    }
   ],
   "execution_count": 22
  },
  {
   "metadata": {
    "ExecuteTime": {
     "end_time": "2024-12-25T05:09:06.867427Z",
     "start_time": "2024-12-25T05:09:06.764719Z"
    }
   },
   "cell_type": "code",
   "source": [
    "# Create figure and axis for 3-D scatter plot\n",
    "fig = plt.figure()\n",
    "ax = fig.add_subplot(111, projection='3d')\n",
    "\n",
    "# Plot all points as blue\n",
    "ax.scatter(points[:, 0], points[:, 1], points[:, 2], color='blue')\n",
    "\n",
    "# Plot target point as red\n",
    "ax.scatter(target[0], target[1], target[2], color='red')\n",
    "\n",
    "# Plot nearest point as green\n",
    "ax.scatter(point_min_distance[0], point_min_distance[1], point_min_distance[2], color='yellow')\n",
    "\n",
    "# Set labels and title\n",
    "ax.set_xlabel('X')\n",
    "ax.set_ylabel('Y')\n",
    "ax.set_zlabel('Z')\n",
    "ax.set_title('3-D Scatter Plot')\n",
    "\n",
    "# Show plot\n",
    "plt.show()"
   ],
   "outputs": [
    {
     "data": {
      "text/plain": [
       "<Figure size 640x480 with 1 Axes>"
      ],
      "image/png": "[encoded data removed]"
     },
     "metadata": {},
     "output_type": "display_data"
    }
   ],
   "execution_count": 23
  },
  {
   "metadata": {},
   "cell_type": "code",
   "outputs": [],
   "execution_count": null,
   "source": ""
  }
 ]
}
