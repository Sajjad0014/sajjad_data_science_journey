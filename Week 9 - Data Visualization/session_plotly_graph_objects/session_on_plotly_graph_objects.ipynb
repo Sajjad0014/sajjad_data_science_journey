{
 "cells": [
  {
   "metadata": {},
   "cell_type": "markdown",
   "source": [
    "# Plotly Graph Objects\n",
    "### Session Objectives\n",
    "- Introduction to Plotly\n",
    "- Scatter Plots\n",
    "- Line Charts\n",
    "- Bar Charts\n",
    "- Bubble plot\n",
    "- Box Plot\n",
    "- Histograms\n",
    "- Distplots\n",
    "- Heatmaps"
   ],
   "id": "fbb0d8cf1a07488d"
  },
  {
   "metadata": {
    "ExecuteTime": {
     "end_time": "2024-10-26T17:42:16.330537Z",
     "start_time": "2024-10-26T17:42:16.326611Z"
    }
   },
   "cell_type": "code",
   "source": [
    "import numpy as np\n",
    "import pandas as pd\n",
    "import plotly.offline as pyo\n",
    "import plotly.graph_objs as go"
   ],
   "id": "72cf11d0cd7316ac",
   "outputs": [],
   "execution_count": 146
  },
  {
   "metadata": {
    "ExecuteTime": {
     "end_time": "2024-10-26T17:42:17.397612Z",
     "start_time": "2024-10-26T17:42:16.695913Z"
    }
   },
   "cell_type": "code",
   "source": [
    "match = pd.read_csv('matches.csv')\n",
    "delivery = pd.read_csv('deliveries.csv')\n",
    "\n",
    "ipl = delivery.merge(match, left_on='match_id', right_on='id')\n",
    "print(ipl.shape)\n",
    "ipl.head()"
   ],
   "id": "1c783d302e2aca8a",
   "outputs": [
    {
     "name": "stdout",
     "output_type": "stream",
     "text": [
      "(260920, 37)\n"
     ]
    },
    {
     "data": {
      "text/plain": [
       "   match_id  inning           batting_team                 bowling_team  over  \\\n",
       "0    335982       1  Kolkata Knight Riders  Royal Challengers Bangalore     0   \n",
       "1    335982       1  Kolkata Knight Riders  Royal Challengers Bangalore     0   \n",
       "2    335982       1  Kolkata Knight Riders  Royal Challengers Bangalore     0   \n",
       "3    335982       1  Kolkata Knight Riders  Royal Challengers Bangalore     0   \n",
       "4    335982       1  Kolkata Knight Riders  Royal Challengers Bangalore     0   \n",
       "\n",
       "   ball       batter   bowler  non_striker  batsman_runs  ...  toss_decision  \\\n",
       "0     1   SC Ganguly  P Kumar  BB McCullum             0  ...          field   \n",
       "1     2  BB McCullum  P Kumar   SC Ganguly             0  ...          field   \n",
       "2     3  BB McCullum  P Kumar   SC Ganguly             0  ...          field   \n",
       "3     4  BB McCullum  P Kumar   SC Ganguly             0  ...          field   \n",
       "4     5  BB McCullum  P Kumar   SC Ganguly             0  ...          field   \n",
       "\n",
       "                  winner result  result_margin target_runs target_overs  \\\n",
       "0  Kolkata Knight Riders   runs          140.0       223.0         20.0   \n",
       "1  Kolkata Knight Riders   runs          140.0       223.0         20.0   \n",
       "2  Kolkata Knight Riders   runs          140.0       223.0         20.0   \n",
       "3  Kolkata Knight Riders   runs          140.0       223.0         20.0   \n",
       "4  Kolkata Knight Riders   runs          140.0       223.0         20.0   \n",
       "\n",
       "  super_over  method    umpire1      umpire2  \n",
       "0          N     NaN  Asad Rauf  RE Koertzen  \n",
       "1          N     NaN  Asad Rauf  RE Koertzen  \n",
       "2          N     NaN  Asad Rauf  RE Koertzen  \n",
       "3          N     NaN  Asad Rauf  RE Koertzen  \n",
       "4          N     NaN  Asad Rauf  RE Koertzen  \n",
       "\n",
       "[5 rows x 37 columns]"
      ],
      "text/html": [
       "<div>\n",
       "<style scoped>\n",
       "    .dataframe tbody tr th:only-of-type {\n",
       "        vertical-align: middle;\n",
       "    }\n",
       "\n",
       "    .dataframe tbody tr th {\n",
       "        vertical-align: top;\n",
       "    }\n",
       "\n",
       "    .dataframe thead th {\n",
       "        text-align: right;\n",
       "    }\n",
       "</style>\n",
       "<table border=\"1\" class=\"dataframe\">\n",
       "  <thead>\n",
       "    <tr style=\"text-align: right;\">\n",
       "      <th></th>\n",
       "      <th>match_id</th>\n",
       "      <th>inning</th>\n",
       "      <th>batting_team</th>\n",
       "      <th>bowling_team</th>\n",
       "      <th>over</th>\n",
       "      <th>ball</th>\n",
       "      <th>batter</th>\n",
       "      <th>bowler</th>\n",
       "      <th>non_striker</th>\n",
       "      <th>batsman_runs</th>\n",
       "      <th>...</th>\n",
       "      <th>toss_decision</th>\n",
       "      <th>winner</th>\n",
       "      <th>result</th>\n",
       "      <th>result_margin</th>\n",
       "      <th>target_runs</th>\n",
       "      <th>target_overs</th>\n",
       "      <th>super_over</th>\n",
       "      <th>method</th>\n",
       "      <th>umpire1</th>\n",
       "      <th>umpire2</th>\n",
       "    </tr>\n",
       "  </thead>\n",
       "  <tbody>\n",
       "    <tr>\n",
       "      <th>0</th>\n",
       "      <td>335982</td>\n",
       "      <td>1</td>\n",
       "      <td>Kolkata Knight Riders</td>\n",
       "      <td>Royal Challengers Bangalore</td>\n",
       "      <td>0</td>\n",
       "      <td>1</td>\n",
       "      <td>SC Ganguly</td>\n",
       "      <td>P Kumar</td>\n",
       "      <td>BB McCullum</td>\n",
       "      <td>0</td>\n",
       "      <td>...</td>\n",
       "      <td>field</td>\n",
       "      <td>Kolkata Knight Riders</td>\n",
       "      <td>runs</td>\n",
       "      <td>140.0</td>\n",
       "      <td>223.0</td>\n",
       "      <td>20.0</td>\n",
       "      <td>N</td>\n",
       "      <td>NaN</td>\n",
       "      <td>Asad Rauf</td>\n",
       "      <td>RE Koertzen</td>\n",
       "    </tr>\n",
       "    <tr>\n",
       "      <th>1</th>\n",
       "      <td>335982</td>\n",
       "      <td>1</td>\n",
       "      <td>Kolkata Knight Riders</td>\n",
       "      <td>Royal Challengers Bangalore</td>\n",
       "      <td>0</td>\n",
       "      <td>2</td>\n",
       "      <td>BB McCullum</td>\n",
       "      <td>P Kumar</td>\n",
       "      <td>SC Ganguly</td>\n",
       "      <td>0</td>\n",
       "      <td>...</td>\n",
       "      <td>field</td>\n",
       "      <td>Kolkata Knight Riders</td>\n",
       "      <td>runs</td>\n",
       "      <td>140.0</td>\n",
       "      <td>223.0</td>\n",
       "      <td>20.0</td>\n",
       "      <td>N</td>\n",
       "      <td>NaN</td>\n",
       "      <td>Asad Rauf</td>\n",
       "      <td>RE Koertzen</td>\n",
       "    </tr>\n",
       "    <tr>\n",
       "      <th>2</th>\n",
       "      <td>335982</td>\n",
       "      <td>1</td>\n",
       "      <td>Kolkata Knight Riders</td>\n",
       "      <td>Royal Challengers Bangalore</td>\n",
       "      <td>0</td>\n",
       "      <td>3</td>\n",
       "      <td>BB McCullum</td>\n",
       "      <td>P Kumar</td>\n",
       "      <td>SC Ganguly</td>\n",
       "      <td>0</td>\n",
       "      <td>...</td>\n",
       "      <td>field</td>\n",
       "      <td>Kolkata Knight Riders</td>\n",
       "      <td>runs</td>\n",
       "      <td>140.0</td>\n",
       "      <td>223.0</td>\n",
       "      <td>20.0</td>\n",
       "      <td>N</td>\n",
       "      <td>NaN</td>\n",
       "      <td>Asad Rauf</td>\n",
       "      <td>RE Koertzen</td>\n",
       "    </tr>\n",
       "    <tr>\n",
       "      <th>3</th>\n",
       "      <td>335982</td>\n",
       "      <td>1</td>\n",
       "      <td>Kolkata Knight Riders</td>\n",
       "      <td>Royal Challengers Bangalore</td>\n",
       "      <td>0</td>\n",
       "      <td>4</td>\n",
       "      <td>BB McCullum</td>\n",
       "      <td>P Kumar</td>\n",
       "      <td>SC Ganguly</td>\n",
       "      <td>0</td>\n",
       "      <td>...</td>\n",
       "      <td>field</td>\n",
       "      <td>Kolkata Knight Riders</td>\n",
       "      <td>runs</td>\n",
       "      <td>140.0</td>\n",
       "      <td>223.0</td>\n",
       "      <td>20.0</td>\n",
       "      <td>N</td>\n",
       "      <td>NaN</td>\n",
       "      <td>Asad Rauf</td>\n",
       "      <td>RE Koertzen</td>\n",
       "    </tr>\n",
       "    <tr>\n",
       "      <th>4</th>\n",
       "      <td>335982</td>\n",
       "      <td>1</td>\n",
       "      <td>Kolkata Knight Riders</td>\n",
       "      <td>Royal Challengers Bangalore</td>\n",
       "      <td>0</td>\n",
       "      <td>5</td>\n",
       "      <td>BB McCullum</td>\n",
       "      <td>P Kumar</td>\n",
       "      <td>SC Ganguly</td>\n",
       "      <td>0</td>\n",
       "      <td>...</td>\n",
       "      <td>field</td>\n",
       "      <td>Kolkata Knight Riders</td>\n",
       "      <td>runs</td>\n",
       "      <td>140.0</td>\n",
       "      <td>223.0</td>\n",
       "      <td>20.0</td>\n",
       "      <td>N</td>\n",
       "      <td>NaN</td>\n",
       "      <td>Asad Rauf</td>\n",
       "      <td>RE Koertzen</td>\n",
       "    </tr>\n",
       "  </tbody>\n",
       "</table>\n",
       "<p>5 rows × 37 columns</p>\n",
       "</div>"
      ]
     },
     "execution_count": 147,
     "metadata": {},
     "output_type": "execute_result"
    }
   ],
   "execution_count": 147
  },
  {
   "metadata": {},
   "cell_type": "markdown",
   "source": [
    "## 1. Scatter Plots\n",
    "![Ice Cream Scatter Plot](scatter_plot.png)"
   ],
   "id": "9764e20a6b6ef85e"
  },
  {
   "metadata": {
    "ExecuteTime": {
     "end_time": "2024-10-26T17:42:17.401702Z",
     "start_time": "2024-10-26T17:42:17.398631Z"
    }
   },
   "cell_type": "code",
   "source": [
    "# Scatter plots are drawn between to continuous variables \n",
    "# Problem - We are going to draw a scatter plot between Batsman Avg(X axis) and\n",
    "# Batsman Strike Rate (Y axis) of the top 50 batsman in IPL (All time)"
   ],
   "id": "bc778507338b08e6",
   "outputs": [],
   "execution_count": 148
  },
  {
   "metadata": {
    "ExecuteTime": {
     "end_time": "2024-10-26T17:42:17.444422Z",
     "start_time": "2024-10-26T17:42:17.405215Z"
    }
   },
   "cell_type": "code",
   "source": [
    "# Avg Vs SR graph of Top 50 batsman (in terms of total runs)\n",
    "top50 = ipl.groupby('batter')['batsman_runs'].sum().sort_values(ascending=False).head(50).index.tolist()\n",
    "top50"
   ],
   "id": "7318cfa2f8dfee3a",
   "outputs": [
    {
     "data": {
      "text/plain": [
       "['V Kohli',\n",
       " 'S Dhawan',\n",
       " 'RG Sharma',\n",
       " 'DA Warner',\n",
       " 'SK Raina',\n",
       " 'MS Dhoni',\n",
       " 'AB de Villiers',\n",
       " 'CH Gayle',\n",
       " 'RV Uthappa',\n",
       " 'KD Karthik',\n",
       " 'KL Rahul',\n",
       " 'AM Rahane',\n",
       " 'F du Plessis',\n",
       " 'SV Samson',\n",
       " 'AT Rayudu',\n",
       " 'G Gambhir',\n",
       " 'SR Watson',\n",
       " 'MK Pandey',\n",
       " 'SA Yadav',\n",
       " 'JC Buttler',\n",
       " 'KA Pollard',\n",
       " 'RR Pant',\n",
       " 'YK Pathan',\n",
       " 'Shubman Gill',\n",
       " 'Q de Kock',\n",
       " 'SS Iyer',\n",
       " 'RA Jadeja',\n",
       " 'WP Saha',\n",
       " 'DA Miller',\n",
       " 'BB McCullum',\n",
       " 'PA Patel',\n",
       " 'GJ Maxwell',\n",
       " 'Yuvraj Singh',\n",
       " 'V Sehwag',\n",
       " 'MA Agarwal',\n",
       " 'Ishan Kishan',\n",
       " 'N Rana',\n",
       " 'M Vijay',\n",
       " 'HH Pandya',\n",
       " 'SPD Smith',\n",
       " 'SE Marsh',\n",
       " 'AD Russell',\n",
       " 'JH Kallis',\n",
       " 'DR Smith',\n",
       " 'RD Gaikwad',\n",
       " 'SR Tendulkar',\n",
       " 'RA Tripathi',\n",
       " 'R Dravid',\n",
       " 'KS Williamson',\n",
       " 'AJ Finch']"
      ]
     },
     "execution_count": 149,
     "metadata": {},
     "output_type": "execute_result"
    }
   ],
   "execution_count": 149
  },
  {
   "metadata": {
    "ExecuteTime": {
     "end_time": "2024-10-26T17:42:17.625668Z",
     "start_time": "2024-10-26T17:42:17.446429Z"
    }
   },
   "cell_type": "code",
   "source": [
    "# Fetching a new dataframe with top 50 batsman\n",
    "new_ipl = ipl.query(\"batter in @top50\")\n",
    "new_ipl"
   ],
   "id": "4d53d5ddd8f1b99f",
   "outputs": [
    {
     "data": {
      "text/plain": [
       "        match_id  inning           batting_team                 bowling_team  \\\n",
       "1         335982       1  Kolkata Knight Riders  Royal Challengers Bangalore   \n",
       "2         335982       1  Kolkata Knight Riders  Royal Challengers Bangalore   \n",
       "3         335982       1  Kolkata Knight Riders  Royal Challengers Bangalore   \n",
       "4         335982       1  Kolkata Knight Riders  Royal Challengers Bangalore   \n",
       "5         335982       1  Kolkata Knight Riders  Royal Challengers Bangalore   \n",
       "...          ...     ...                    ...                          ...   \n",
       "260763   1426312       1    Sunrisers Hyderabad        Kolkata Knight Riders   \n",
       "260764   1426312       1    Sunrisers Hyderabad        Kolkata Knight Riders   \n",
       "260910   1426312       2  Kolkata Knight Riders          Sunrisers Hyderabad   \n",
       "260915   1426312       2  Kolkata Knight Riders          Sunrisers Hyderabad   \n",
       "260918   1426312       2  Kolkata Knight Riders          Sunrisers Hyderabad   \n",
       "\n",
       "        over  ball       batter         bowler non_striker  batsman_runs  ...  \\\n",
       "1          0     2  BB McCullum        P Kumar  SC Ganguly             0  ...   \n",
       "2          0     3  BB McCullum        P Kumar  SC Ganguly             0  ...   \n",
       "3          0     4  BB McCullum        P Kumar  SC Ganguly             0  ...   \n",
       "4          0     5  BB McCullum        P Kumar  SC Ganguly             0  ...   \n",
       "5          0     6  BB McCullum        P Kumar  SC Ganguly             0  ...   \n",
       "...      ...   ...          ...            ...         ...           ...  ...   \n",
       "260763     4     1  RA Tripathi       MA Starc  AK Markram             0  ...   \n",
       "260764     4     2  RA Tripathi       MA Starc  AK Markram             0  ...   \n",
       "260910     8     6      SS Iyer  Shahbaz Ahmed     VR Iyer             4  ...   \n",
       "260915     9     5      SS Iyer     AK Markram     VR Iyer             1  ...   \n",
       "260918    10     2      SS Iyer  Shahbaz Ahmed     VR Iyer             1  ...   \n",
       "\n",
       "        toss_decision                 winner   result  result_margin  \\\n",
       "1               field  Kolkata Knight Riders     runs          140.0   \n",
       "2               field  Kolkata Knight Riders     runs          140.0   \n",
       "3               field  Kolkata Knight Riders     runs          140.0   \n",
       "4               field  Kolkata Knight Riders     runs          140.0   \n",
       "5               field  Kolkata Knight Riders     runs          140.0   \n",
       "...               ...                    ...      ...            ...   \n",
       "260763            bat  Kolkata Knight Riders  wickets            8.0   \n",
       "260764            bat  Kolkata Knight Riders  wickets            8.0   \n",
       "260910            bat  Kolkata Knight Riders  wickets            8.0   \n",
       "260915            bat  Kolkata Knight Riders  wickets            8.0   \n",
       "260918            bat  Kolkata Knight Riders  wickets            8.0   \n",
       "\n",
       "       target_runs target_overs super_over  method        umpire1      umpire2  \n",
       "1            223.0         20.0          N     NaN      Asad Rauf  RE Koertzen  \n",
       "2            223.0         20.0          N     NaN      Asad Rauf  RE Koertzen  \n",
       "3            223.0         20.0          N     NaN      Asad Rauf  RE Koertzen  \n",
       "4            223.0         20.0          N     NaN      Asad Rauf  RE Koertzen  \n",
       "5            223.0         20.0          N     NaN      Asad Rauf  RE Koertzen  \n",
       "...            ...          ...        ...     ...            ...          ...  \n",
       "260763       114.0         20.0          N     NaN  J Madanagopal  Nitin Menon  \n",
       "260764       114.0         20.0          N     NaN  J Madanagopal  Nitin Menon  \n",
       "260910       114.0         20.0          N     NaN  J Madanagopal  Nitin Menon  \n",
       "260915       114.0         20.0          N     NaN  J Madanagopal  Nitin Menon  \n",
       "260918       114.0         20.0          N     NaN  J Madanagopal  Nitin Menon  \n",
       "\n",
       "[139298 rows x 37 columns]"
      ],
      "text/html": [
       "<div>\n",
       "<style scoped>\n",
       "    .dataframe tbody tr th:only-of-type {\n",
       "        vertical-align: middle;\n",
       "    }\n",
       "\n",
       "    .dataframe tbody tr th {\n",
       "        vertical-align: top;\n",
       "    }\n",
       "\n",
       "    .dataframe thead th {\n",
       "        text-align: right;\n",
       "    }\n",
       "</style>\n",
       "<table border=\"1\" class=\"dataframe\">\n",
       "  <thead>\n",
       "    <tr style=\"text-align: right;\">\n",
       "      <th></th>\n",
       "      <th>match_id</th>\n",
       "      <th>inning</th>\n",
       "      <th>batting_team</th>\n",
       "      <th>bowling_team</th>\n",
       "      <th>over</th>\n",
       "      <th>ball</th>\n",
       "      <th>batter</th>\n",
       "      <th>bowler</th>\n",
       "      <th>non_striker</th>\n",
       "      <th>batsman_runs</th>\n",
       "      <th>...</th>\n",
       "      <th>toss_decision</th>\n",
       "      <th>winner</th>\n",
       "      <th>result</th>\n",
       "      <th>result_margin</th>\n",
       "      <th>target_runs</th>\n",
       "      <th>target_overs</th>\n",
       "      <th>super_over</th>\n",
       "      <th>method</th>\n",
       "      <th>umpire1</th>\n",
       "      <th>umpire2</th>\n",
       "    </tr>\n",
       "  </thead>\n",
       "  <tbody>\n",
       "    <tr>\n",
       "      <th>1</th>\n",
       "      <td>335982</td>\n",
       "      <td>1</td>\n",
       "      <td>Kolkata Knight Riders</td>\n",
       "      <td>Royal Challengers Bangalore</td>\n",
       "      <td>0</td>\n",
       "      <td>2</td>\n",
       "      <td>BB McCullum</td>\n",
       "      <td>P Kumar</td>\n",
       "      <td>SC Ganguly</td>\n",
       "      <td>0</td>\n",
       "      <td>...</td>\n",
       "      <td>field</td>\n",
       "      <td>Kolkata Knight Riders</td>\n",
       "      <td>runs</td>\n",
       "      <td>140.0</td>\n",
       "      <td>223.0</td>\n",
       "      <td>20.0</td>\n",
       "      <td>N</td>\n",
       "      <td>NaN</td>\n",
       "      <td>Asad Rauf</td>\n",
       "      <td>RE Koertzen</td>\n",
       "    </tr>\n",
       "    <tr>\n",
       "      <th>2</th>\n",
       "      <td>335982</td>\n",
       "      <td>1</td>\n",
       "      <td>Kolkata Knight Riders</td>\n",
       "      <td>Royal Challengers Bangalore</td>\n",
       "      <td>0</td>\n",
       "      <td>3</td>\n",
       "      <td>BB McCullum</td>\n",
       "      <td>P Kumar</td>\n",
       "      <td>SC Ganguly</td>\n",
       "      <td>0</td>\n",
       "      <td>...</td>\n",
       "      <td>field</td>\n",
       "      <td>Kolkata Knight Riders</td>\n",
       "      <td>runs</td>\n",
       "      <td>140.0</td>\n",
       "      <td>223.0</td>\n",
       "      <td>20.0</td>\n",
       "      <td>N</td>\n",
       "      <td>NaN</td>\n",
       "      <td>Asad Rauf</td>\n",
       "      <td>RE Koertzen</td>\n",
       "    </tr>\n",
       "    <tr>\n",
       "      <th>3</th>\n",
       "      <td>335982</td>\n",
       "      <td>1</td>\n",
       "      <td>Kolkata Knight Riders</td>\n",
       "      <td>Royal Challengers Bangalore</td>\n",
       "      <td>0</td>\n",
       "      <td>4</td>\n",
       "      <td>BB McCullum</td>\n",
       "      <td>P Kumar</td>\n",
       "      <td>SC Ganguly</td>\n",
       "      <td>0</td>\n",
       "      <td>...</td>\n",
       "      <td>field</td>\n",
       "      <td>Kolkata Knight Riders</td>\n",
       "      <td>runs</td>\n",
       "      <td>140.0</td>\n",
       "      <td>223.0</td>\n",
       "      <td>20.0</td>\n",
       "      <td>N</td>\n",
       "      <td>NaN</td>\n",
       "      <td>Asad Rauf</td>\n",
       "      <td>RE Koertzen</td>\n",
       "    </tr>\n",
       "    <tr>\n",
       "      <th>4</th>\n",
       "      <td>335982</td>\n",
       "      <td>1</td>\n",
       "      <td>Kolkata Knight Riders</td>\n",
       "      <td>Royal Challengers Bangalore</td>\n",
       "      <td>0</td>\n",
       "      <td>5</td>\n",
       "      <td>BB McCullum</td>\n",
       "      <td>P Kumar</td>\n",
       "      <td>SC Ganguly</td>\n",
       "      <td>0</td>\n",
       "      <td>...</td>\n",
       "      <td>field</td>\n",
       "      <td>Kolkata Knight Riders</td>\n",
       "      <td>runs</td>\n",
       "      <td>140.0</td>\n",
       "      <td>223.0</td>\n",
       "      <td>20.0</td>\n",
       "      <td>N</td>\n",
       "      <td>NaN</td>\n",
       "      <td>Asad Rauf</td>\n",
       "      <td>RE Koertzen</td>\n",
       "    </tr>\n",
       "    <tr>\n",
       "      <th>5</th>\n",
       "      <td>335982</td>\n",
       "      <td>1</td>\n",
       "      <td>Kolkata Knight Riders</td>\n",
       "      <td>Royal Challengers Bangalore</td>\n",
       "      <td>0</td>\n",
       "      <td>6</td>\n",
       "      <td>BB McCullum</td>\n",
       "      <td>P Kumar</td>\n",
       "      <td>SC Ganguly</td>\n",
       "      <td>0</td>\n",
       "      <td>...</td>\n",
       "      <td>field</td>\n",
       "      <td>Kolkata Knight Riders</td>\n",
       "      <td>runs</td>\n",
       "      <td>140.0</td>\n",
       "      <td>223.0</td>\n",
       "      <td>20.0</td>\n",
       "      <td>N</td>\n",
       "      <td>NaN</td>\n",
       "      <td>Asad Rauf</td>\n",
       "      <td>RE Koertzen</td>\n",
       "    </tr>\n",
       "    <tr>\n",
       "      <th>...</th>\n",
       "      <td>...</td>\n",
       "      <td>...</td>\n",
       "      <td>...</td>\n",
       "      <td>...</td>\n",
       "      <td>...</td>\n",
       "      <td>...</td>\n",
       "      <td>...</td>\n",
       "      <td>...</td>\n",
       "      <td>...</td>\n",
       "      <td>...</td>\n",
       "      <td>...</td>\n",
       "      <td>...</td>\n",
       "      <td>...</td>\n",
       "      <td>...</td>\n",
       "      <td>...</td>\n",
       "      <td>...</td>\n",
       "      <td>...</td>\n",
       "      <td>...</td>\n",
       "      <td>...</td>\n",
       "      <td>...</td>\n",
       "      <td>...</td>\n",
       "    </tr>\n",
       "    <tr>\n",
       "      <th>260763</th>\n",
       "      <td>1426312</td>\n",
       "      <td>1</td>\n",
       "      <td>Sunrisers Hyderabad</td>\n",
       "      <td>Kolkata Knight Riders</td>\n",
       "      <td>4</td>\n",
       "      <td>1</td>\n",
       "      <td>RA Tripathi</td>\n",
       "      <td>MA Starc</td>\n",
       "      <td>AK Markram</td>\n",
       "      <td>0</td>\n",
       "      <td>...</td>\n",
       "      <td>bat</td>\n",
       "      <td>Kolkata Knight Riders</td>\n",
       "      <td>wickets</td>\n",
       "      <td>8.0</td>\n",
       "      <td>114.0</td>\n",
       "      <td>20.0</td>\n",
       "      <td>N</td>\n",
       "      <td>NaN</td>\n",
       "      <td>J Madanagopal</td>\n",
       "      <td>Nitin Menon</td>\n",
       "    </tr>\n",
       "    <tr>\n",
       "      <th>260764</th>\n",
       "      <td>1426312</td>\n",
       "      <td>1</td>\n",
       "      <td>Sunrisers Hyderabad</td>\n",
       "      <td>Kolkata Knight Riders</td>\n",
       "      <td>4</td>\n",
       "      <td>2</td>\n",
       "      <td>RA Tripathi</td>\n",
       "      <td>MA Starc</td>\n",
       "      <td>AK Markram</td>\n",
       "      <td>0</td>\n",
       "      <td>...</td>\n",
       "      <td>bat</td>\n",
       "      <td>Kolkata Knight Riders</td>\n",
       "      <td>wickets</td>\n",
       "      <td>8.0</td>\n",
       "      <td>114.0</td>\n",
       "      <td>20.0</td>\n",
       "      <td>N</td>\n",
       "      <td>NaN</td>\n",
       "      <td>J Madanagopal</td>\n",
       "      <td>Nitin Menon</td>\n",
       "    </tr>\n",
       "    <tr>\n",
       "      <th>260910</th>\n",
       "      <td>1426312</td>\n",
       "      <td>2</td>\n",
       "      <td>Kolkata Knight Riders</td>\n",
       "      <td>Sunrisers Hyderabad</td>\n",
       "      <td>8</td>\n",
       "      <td>6</td>\n",
       "      <td>SS Iyer</td>\n",
       "      <td>Shahbaz Ahmed</td>\n",
       "      <td>VR Iyer</td>\n",
       "      <td>4</td>\n",
       "      <td>...</td>\n",
       "      <td>bat</td>\n",
       "      <td>Kolkata Knight Riders</td>\n",
       "      <td>wickets</td>\n",
       "      <td>8.0</td>\n",
       "      <td>114.0</td>\n",
       "      <td>20.0</td>\n",
       "      <td>N</td>\n",
       "      <td>NaN</td>\n",
       "      <td>J Madanagopal</td>\n",
       "      <td>Nitin Menon</td>\n",
       "    </tr>\n",
       "    <tr>\n",
       "      <th>260915</th>\n",
       "      <td>1426312</td>\n",
       "      <td>2</td>\n",
       "      <td>Kolkata Knight Riders</td>\n",
       "      <td>Sunrisers Hyderabad</td>\n",
       "      <td>9</td>\n",
       "      <td>5</td>\n",
       "      <td>SS Iyer</td>\n",
       "      <td>AK Markram</td>\n",
       "      <td>VR Iyer</td>\n",
       "      <td>1</td>\n",
       "      <td>...</td>\n",
       "      <td>bat</td>\n",
       "      <td>Kolkata Knight Riders</td>\n",
       "      <td>wickets</td>\n",
       "      <td>8.0</td>\n",
       "      <td>114.0</td>\n",
       "      <td>20.0</td>\n",
       "      <td>N</td>\n",
       "      <td>NaN</td>\n",
       "      <td>J Madanagopal</td>\n",
       "      <td>Nitin Menon</td>\n",
       "    </tr>\n",
       "    <tr>\n",
       "      <th>260918</th>\n",
       "      <td>1426312</td>\n",
       "      <td>2</td>\n",
       "      <td>Kolkata Knight Riders</td>\n",
       "      <td>Sunrisers Hyderabad</td>\n",
       "      <td>10</td>\n",
       "      <td>2</td>\n",
       "      <td>SS Iyer</td>\n",
       "      <td>Shahbaz Ahmed</td>\n",
       "      <td>VR Iyer</td>\n",
       "      <td>1</td>\n",
       "      <td>...</td>\n",
       "      <td>bat</td>\n",
       "      <td>Kolkata Knight Riders</td>\n",
       "      <td>wickets</td>\n",
       "      <td>8.0</td>\n",
       "      <td>114.0</td>\n",
       "      <td>20.0</td>\n",
       "      <td>N</td>\n",
       "      <td>NaN</td>\n",
       "      <td>J Madanagopal</td>\n",
       "      <td>Nitin Menon</td>\n",
       "    </tr>\n",
       "  </tbody>\n",
       "</table>\n",
       "<p>139298 rows × 37 columns</p>\n",
       "</div>"
      ]
     },
     "execution_count": 150,
     "metadata": {},
     "output_type": "execute_result"
    }
   ],
   "execution_count": 150
  },
  {
   "metadata": {
    "ExecuteTime": {
     "end_time": "2024-10-26T17:42:17.661637Z",
     "start_time": "2024-10-26T17:42:17.626674Z"
    }
   },
   "cell_type": "code",
   "source": [
    "# Calculating SR\n",
    "# SR = [(number of runs scored) / (number of balls played)] * 100\n",
    "runs = new_ipl.groupby('batter')['batsman_runs'].sum()\n",
    "balls = new_ipl.groupby('batter')['batsman_runs'].count()\n",
    "\n",
    "sr = (runs / balls) * 100\n",
    "\n",
    "sr = sr.reset_index()\n",
    "sr"
   ],
   "id": "9469b79a516a58d6",
   "outputs": [
    {
     "data": {
      "text/plain": [
       "            batter  batsman_runs\n",
       "0   AB de Villiers    148.580442\n",
       "1       AD Russell    164.224422\n",
       "2         AJ Finch    123.349057\n",
       "3        AM Rahane    120.321410\n",
       "4        AT Rayudu    124.584527\n",
       "5      BB McCullum    126.848592\n",
       "6         CH Gayle    142.121729\n",
       "7        DA Miller    134.684477\n",
       "8        DA Warner    135.429986\n",
       "9         DR Smith    132.279534\n",
       "10    F du Plessis    133.071325\n",
       "11       G Gambhir    119.665153\n",
       "12      GJ Maxwell    150.488599\n",
       "13       HH Pandya    139.691290\n",
       "14    Ishan Kishan    132.797589\n",
       "15      JC Buttler    142.238984\n",
       "16       JH Kallis    105.936272\n",
       "17      KA Pollard    140.457703\n",
       "18      KD Karthik    131.353404\n",
       "19        KL Rahul    131.050866\n",
       "20   KS Williamson    122.952710\n",
       "21         M Vijay    118.614130\n",
       "22      MA Agarwal    128.255646\n",
       "23       MK Pandey    117.366180\n",
       "24        MS Dhoni    132.835065\n",
       "25          N Rana    130.818859\n",
       "26        PA Patel    116.625717\n",
       "27       Q de Kock    131.120332\n",
       "28        R Dravid    113.347237\n",
       "29       RA Jadeja    124.432296\n",
       "30     RA Tripathi    135.515152\n",
       "31      RD Gaikwad    133.632791\n",
       "32       RG Sharma    127.918194\n",
       "33         RR Pant    143.597561\n",
       "34      RV Uthappa    126.152279\n",
       "35        S Dhawan    123.454313\n",
       "36        SA Yadav    142.505948\n",
       "37        SE Marsh    130.109775\n",
       "38        SK Raina    132.535312\n",
       "39       SPD Smith    124.812406\n",
       "40    SR Tendulkar    114.187867\n",
       "41       SR Watson    134.163209\n",
       "42         SS Iyer    123.025540\n",
       "43       SV Samson    135.137615\n",
       "44    Shubman Gill    132.236842\n",
       "45         V Kohli    128.511867\n",
       "46        V Sehwag    148.827059\n",
       "47         WP Saha    123.902027\n",
       "48       YK Pathan    138.046272\n",
       "49    Yuvraj Singh    124.784776"
      ],
      "text/html": [
       "<div>\n",
       "<style scoped>\n",
       "    .dataframe tbody tr th:only-of-type {\n",
       "        vertical-align: middle;\n",
       "    }\n",
       "\n",
       "    .dataframe tbody tr th {\n",
       "        vertical-align: top;\n",
       "    }\n",
       "\n",
       "    .dataframe thead th {\n",
       "        text-align: right;\n",
       "    }\n",
       "</style>\n",
       "<table border=\"1\" class=\"dataframe\">\n",
       "  <thead>\n",
       "    <tr style=\"text-align: right;\">\n",
       "      <th></th>\n",
       "      <th>batter</th>\n",
       "      <th>batsman_runs</th>\n",
       "    </tr>\n",
       "  </thead>\n",
       "  <tbody>\n",
       "    <tr>\n",
       "      <th>0</th>\n",
       "      <td>AB de Villiers</td>\n",
       "      <td>148.580442</td>\n",
       "    </tr>\n",
       "    <tr>\n",
       "      <th>1</th>\n",
       "      <td>AD Russell</td>\n",
       "      <td>164.224422</td>\n",
       "    </tr>\n",
       "    <tr>\n",
       "      <th>2</th>\n",
       "      <td>AJ Finch</td>\n",
       "      <td>123.349057</td>\n",
       "    </tr>\n",
       "    <tr>\n",
       "      <th>3</th>\n",
       "      <td>AM Rahane</td>\n",
       "      <td>120.321410</td>\n",
       "    </tr>\n",
       "    <tr>\n",
       "      <th>4</th>\n",
       "      <td>AT Rayudu</td>\n",
       "      <td>124.584527</td>\n",
       "    </tr>\n",
       "    <tr>\n",
       "      <th>5</th>\n",
       "      <td>BB McCullum</td>\n",
       "      <td>126.848592</td>\n",
       "    </tr>\n",
       "    <tr>\n",
       "      <th>6</th>\n",
       "      <td>CH Gayle</td>\n",
       "      <td>142.121729</td>\n",
       "    </tr>\n",
       "    <tr>\n",
       "      <th>7</th>\n",
       "      <td>DA Miller</td>\n",
       "      <td>134.684477</td>\n",
       "    </tr>\n",
       "    <tr>\n",
       "      <th>8</th>\n",
       "      <td>DA Warner</td>\n",
       "      <td>135.429986</td>\n",
       "    </tr>\n",
       "    <tr>\n",
       "      <th>9</th>\n",
       "      <td>DR Smith</td>\n",
       "      <td>132.279534</td>\n",
       "    </tr>\n",
       "    <tr>\n",
       "      <th>10</th>\n",
       "      <td>F du Plessis</td>\n",
       "      <td>133.071325</td>\n",
       "    </tr>\n",
       "    <tr>\n",
       "      <th>11</th>\n",
       "      <td>G Gambhir</td>\n",
       "      <td>119.665153</td>\n",
       "    </tr>\n",
       "    <tr>\n",
       "      <th>12</th>\n",
       "      <td>GJ Maxwell</td>\n",
       "      <td>150.488599</td>\n",
       "    </tr>\n",
       "    <tr>\n",
       "      <th>13</th>\n",
       "      <td>HH Pandya</td>\n",
       "      <td>139.691290</td>\n",
       "    </tr>\n",
       "    <tr>\n",
       "      <th>14</th>\n",
       "      <td>Ishan Kishan</td>\n",
       "      <td>132.797589</td>\n",
       "    </tr>\n",
       "    <tr>\n",
       "      <th>15</th>\n",
       "      <td>JC Buttler</td>\n",
       "      <td>142.238984</td>\n",
       "    </tr>\n",
       "    <tr>\n",
       "      <th>16</th>\n",
       "      <td>JH Kallis</td>\n",
       "      <td>105.936272</td>\n",
       "    </tr>\n",
       "    <tr>\n",
       "      <th>17</th>\n",
       "      <td>KA Pollard</td>\n",
       "      <td>140.457703</td>\n",
       "    </tr>\n",
       "    <tr>\n",
       "      <th>18</th>\n",
       "      <td>KD Karthik</td>\n",
       "      <td>131.353404</td>\n",
       "    </tr>\n",
       "    <tr>\n",
       "      <th>19</th>\n",
       "      <td>KL Rahul</td>\n",
       "      <td>131.050866</td>\n",
       "    </tr>\n",
       "    <tr>\n",
       "      <th>20</th>\n",
       "      <td>KS Williamson</td>\n",
       "      <td>122.952710</td>\n",
       "    </tr>\n",
       "    <tr>\n",
       "      <th>21</th>\n",
       "      <td>M Vijay</td>\n",
       "      <td>118.614130</td>\n",
       "    </tr>\n",
       "    <tr>\n",
       "      <th>22</th>\n",
       "      <td>MA Agarwal</td>\n",
       "      <td>128.255646</td>\n",
       "    </tr>\n",
       "    <tr>\n",
       "      <th>23</th>\n",
       "      <td>MK Pandey</td>\n",
       "      <td>117.366180</td>\n",
       "    </tr>\n",
       "    <tr>\n",
       "      <th>24</th>\n",
       "      <td>MS Dhoni</td>\n",
       "      <td>132.835065</td>\n",
       "    </tr>\n",
       "    <tr>\n",
       "      <th>25</th>\n",
       "      <td>N Rana</td>\n",
       "      <td>130.818859</td>\n",
       "    </tr>\n",
       "    <tr>\n",
       "      <th>26</th>\n",
       "      <td>PA Patel</td>\n",
       "      <td>116.625717</td>\n",
       "    </tr>\n",
       "    <tr>\n",
       "      <th>27</th>\n",
       "      <td>Q de Kock</td>\n",
       "      <td>131.120332</td>\n",
       "    </tr>\n",
       "    <tr>\n",
       "      <th>28</th>\n",
       "      <td>R Dravid</td>\n",
       "      <td>113.347237</td>\n",
       "    </tr>\n",
       "    <tr>\n",
       "      <th>29</th>\n",
       "      <td>RA Jadeja</td>\n",
       "      <td>124.432296</td>\n",
       "    </tr>\n",
       "    <tr>\n",
       "      <th>30</th>\n",
       "      <td>RA Tripathi</td>\n",
       "      <td>135.515152</td>\n",
       "    </tr>\n",
       "    <tr>\n",
       "      <th>31</th>\n",
       "      <td>RD Gaikwad</td>\n",
       "      <td>133.632791</td>\n",
       "    </tr>\n",
       "    <tr>\n",
       "      <th>32</th>\n",
       "      <td>RG Sharma</td>\n",
       "      <td>127.918194</td>\n",
       "    </tr>\n",
       "    <tr>\n",
       "      <th>33</th>\n",
       "      <td>RR Pant</td>\n",
       "      <td>143.597561</td>\n",
       "    </tr>\n",
       "    <tr>\n",
       "      <th>34</th>\n",
       "      <td>RV Uthappa</td>\n",
       "      <td>126.152279</td>\n",
       "    </tr>\n",
       "    <tr>\n",
       "      <th>35</th>\n",
       "      <td>S Dhawan</td>\n",
       "      <td>123.454313</td>\n",
       "    </tr>\n",
       "    <tr>\n",
       "      <th>36</th>\n",
       "      <td>SA Yadav</td>\n",
       "      <td>142.505948</td>\n",
       "    </tr>\n",
       "    <tr>\n",
       "      <th>37</th>\n",
       "      <td>SE Marsh</td>\n",
       "      <td>130.109775</td>\n",
       "    </tr>\n",
       "    <tr>\n",
       "      <th>38</th>\n",
       "      <td>SK Raina</td>\n",
       "      <td>132.535312</td>\n",
       "    </tr>\n",
       "    <tr>\n",
       "      <th>39</th>\n",
       "      <td>SPD Smith</td>\n",
       "      <td>124.812406</td>\n",
       "    </tr>\n",
       "    <tr>\n",
       "      <th>40</th>\n",
       "      <td>SR Tendulkar</td>\n",
       "      <td>114.187867</td>\n",
       "    </tr>\n",
       "    <tr>\n",
       "      <th>41</th>\n",
       "      <td>SR Watson</td>\n",
       "      <td>134.163209</td>\n",
       "    </tr>\n",
       "    <tr>\n",
       "      <th>42</th>\n",
       "      <td>SS Iyer</td>\n",
       "      <td>123.025540</td>\n",
       "    </tr>\n",
       "    <tr>\n",
       "      <th>43</th>\n",
       "      <td>SV Samson</td>\n",
       "      <td>135.137615</td>\n",
       "    </tr>\n",
       "    <tr>\n",
       "      <th>44</th>\n",
       "      <td>Shubman Gill</td>\n",
       "      <td>132.236842</td>\n",
       "    </tr>\n",
       "    <tr>\n",
       "      <th>45</th>\n",
       "      <td>V Kohli</td>\n",
       "      <td>128.511867</td>\n",
       "    </tr>\n",
       "    <tr>\n",
       "      <th>46</th>\n",
       "      <td>V Sehwag</td>\n",
       "      <td>148.827059</td>\n",
       "    </tr>\n",
       "    <tr>\n",
       "      <th>47</th>\n",
       "      <td>WP Saha</td>\n",
       "      <td>123.902027</td>\n",
       "    </tr>\n",
       "    <tr>\n",
       "      <th>48</th>\n",
       "      <td>YK Pathan</td>\n",
       "      <td>138.046272</td>\n",
       "    </tr>\n",
       "    <tr>\n",
       "      <th>49</th>\n",
       "      <td>Yuvraj Singh</td>\n",
       "      <td>124.784776</td>\n",
       "    </tr>\n",
       "  </tbody>\n",
       "</table>\n",
       "</div>"
      ]
     },
     "execution_count": 151,
     "metadata": {},
     "output_type": "execute_result"
    }
   ],
   "execution_count": 151
  },
  {
   "metadata": {
    "ExecuteTime": {
     "end_time": "2024-10-26T17:42:17.696385Z",
     "start_time": "2024-10-26T17:42:17.662645Z"
    }
   },
   "cell_type": "code",
   "source": [
    "# Calculating Avg\n",
    "# Avg = (Total number of Runs)/(Number of outs)\n",
    "\n",
    "# Calculating number of outs for top 50 batsman\n",
    "out = ipl.query('player_dismissed in @top50')\n",
    "print(out.shape)\n",
    "out.head()"
   ],
   "id": "2fd558d60353e10e",
   "outputs": [
    {
     "name": "stdout",
     "output_type": "stream",
     "text": [
      "(5785, 37)\n"
     ]
    },
    {
     "data": {
      "text/plain": [
       "     match_id  inning                 batting_team           bowling_team  \\\n",
       "131    335982       2  Royal Challengers Bangalore  Kolkata Knight Riders   \n",
       "138    335982       2  Royal Challengers Bangalore  Kolkata Knight Riders   \n",
       "154    335982       2  Royal Challengers Bangalore  Kolkata Knight Riders   \n",
       "242    335983       1          Chennai Super Kings        Kings XI Punjab   \n",
       "269    335983       1          Chennai Super Kings        Kings XI Punjab   \n",
       "\n",
       "     over  ball     batter      bowler non_striker  batsman_runs  ...  \\\n",
       "131     1     1   R Dravid    I Sharma    W Jaffer             0  ...   \n",
       "138     2     2    V Kohli    AB Dinda    W Jaffer             0  ...   \n",
       "154     4     5  JH Kallis  AB Agarkar    W Jaffer             0  ...   \n",
       "242     2     5   PA Patel       B Lee   ML Hayden             0  ...   \n",
       "269     7     1   MS Dhoni    JR Hopes  MEK Hussey             0  ...   \n",
       "\n",
       "     toss_decision                 winner result  result_margin target_runs  \\\n",
       "131          field  Kolkata Knight Riders   runs          140.0       223.0   \n",
       "138          field  Kolkata Knight Riders   runs          140.0       223.0   \n",
       "154          field  Kolkata Knight Riders   runs          140.0       223.0   \n",
       "242            bat    Chennai Super Kings   runs           33.0       241.0   \n",
       "269            bat    Chennai Super Kings   runs           33.0       241.0   \n",
       "\n",
       "    target_overs super_over  method    umpire1      umpire2  \n",
       "131         20.0          N     NaN  Asad Rauf  RE Koertzen  \n",
       "138         20.0          N     NaN  Asad Rauf  RE Koertzen  \n",
       "154         20.0          N     NaN  Asad Rauf  RE Koertzen  \n",
       "242         20.0          N     NaN  MR Benson   SL Shastri  \n",
       "269         20.0          N     NaN  MR Benson   SL Shastri  \n",
       "\n",
       "[5 rows x 37 columns]"
      ],
      "text/html": [
       "<div>\n",
       "<style scoped>\n",
       "    .dataframe tbody tr th:only-of-type {\n",
       "        vertical-align: middle;\n",
       "    }\n",
       "\n",
       "    .dataframe tbody tr th {\n",
       "        vertical-align: top;\n",
       "    }\n",
       "\n",
       "    .dataframe thead th {\n",
       "        text-align: right;\n",
       "    }\n",
       "</style>\n",
       "<table border=\"1\" class=\"dataframe\">\n",
       "  <thead>\n",
       "    <tr style=\"text-align: right;\">\n",
       "      <th></th>\n",
       "      <th>match_id</th>\n",
       "      <th>inning</th>\n",
       "      <th>batting_team</th>\n",
       "      <th>bowling_team</th>\n",
       "      <th>over</th>\n",
       "      <th>ball</th>\n",
       "      <th>batter</th>\n",
       "      <th>bowler</th>\n",
       "      <th>non_striker</th>\n",
       "      <th>batsman_runs</th>\n",
       "      <th>...</th>\n",
       "      <th>toss_decision</th>\n",
       "      <th>winner</th>\n",
       "      <th>result</th>\n",
       "      <th>result_margin</th>\n",
       "      <th>target_runs</th>\n",
       "      <th>target_overs</th>\n",
       "      <th>super_over</th>\n",
       "      <th>method</th>\n",
       "      <th>umpire1</th>\n",
       "      <th>umpire2</th>\n",
       "    </tr>\n",
       "  </thead>\n",
       "  <tbody>\n",
       "    <tr>\n",
       "      <th>131</th>\n",
       "      <td>335982</td>\n",
       "      <td>2</td>\n",
       "      <td>Royal Challengers Bangalore</td>\n",
       "      <td>Kolkata Knight Riders</td>\n",
       "      <td>1</td>\n",
       "      <td>1</td>\n",
       "      <td>R Dravid</td>\n",
       "      <td>I Sharma</td>\n",
       "      <td>W Jaffer</td>\n",
       "      <td>0</td>\n",
       "      <td>...</td>\n",
       "      <td>field</td>\n",
       "      <td>Kolkata Knight Riders</td>\n",
       "      <td>runs</td>\n",
       "      <td>140.0</td>\n",
       "      <td>223.0</td>\n",
       "      <td>20.0</td>\n",
       "      <td>N</td>\n",
       "      <td>NaN</td>\n",
       "      <td>Asad Rauf</td>\n",
       "      <td>RE Koertzen</td>\n",
       "    </tr>\n",
       "    <tr>\n",
       "      <th>138</th>\n",
       "      <td>335982</td>\n",
       "      <td>2</td>\n",
       "      <td>Royal Challengers Bangalore</td>\n",
       "      <td>Kolkata Knight Riders</td>\n",
       "      <td>2</td>\n",
       "      <td>2</td>\n",
       "      <td>V Kohli</td>\n",
       "      <td>AB Dinda</td>\n",
       "      <td>W Jaffer</td>\n",
       "      <td>0</td>\n",
       "      <td>...</td>\n",
       "      <td>field</td>\n",
       "      <td>Kolkata Knight Riders</td>\n",
       "      <td>runs</td>\n",
       "      <td>140.0</td>\n",
       "      <td>223.0</td>\n",
       "      <td>20.0</td>\n",
       "      <td>N</td>\n",
       "      <td>NaN</td>\n",
       "      <td>Asad Rauf</td>\n",
       "      <td>RE Koertzen</td>\n",
       "    </tr>\n",
       "    <tr>\n",
       "      <th>154</th>\n",
       "      <td>335982</td>\n",
       "      <td>2</td>\n",
       "      <td>Royal Challengers Bangalore</td>\n",
       "      <td>Kolkata Knight Riders</td>\n",
       "      <td>4</td>\n",
       "      <td>5</td>\n",
       "      <td>JH Kallis</td>\n",
       "      <td>AB Agarkar</td>\n",
       "      <td>W Jaffer</td>\n",
       "      <td>0</td>\n",
       "      <td>...</td>\n",
       "      <td>field</td>\n",
       "      <td>Kolkata Knight Riders</td>\n",
       "      <td>runs</td>\n",
       "      <td>140.0</td>\n",
       "      <td>223.0</td>\n",
       "      <td>20.0</td>\n",
       "      <td>N</td>\n",
       "      <td>NaN</td>\n",
       "      <td>Asad Rauf</td>\n",
       "      <td>RE Koertzen</td>\n",
       "    </tr>\n",
       "    <tr>\n",
       "      <th>242</th>\n",
       "      <td>335983</td>\n",
       "      <td>1</td>\n",
       "      <td>Chennai Super Kings</td>\n",
       "      <td>Kings XI Punjab</td>\n",
       "      <td>2</td>\n",
       "      <td>5</td>\n",
       "      <td>PA Patel</td>\n",
       "      <td>B Lee</td>\n",
       "      <td>ML Hayden</td>\n",
       "      <td>0</td>\n",
       "      <td>...</td>\n",
       "      <td>bat</td>\n",
       "      <td>Chennai Super Kings</td>\n",
       "      <td>runs</td>\n",
       "      <td>33.0</td>\n",
       "      <td>241.0</td>\n",
       "      <td>20.0</td>\n",
       "      <td>N</td>\n",
       "      <td>NaN</td>\n",
       "      <td>MR Benson</td>\n",
       "      <td>SL Shastri</td>\n",
       "    </tr>\n",
       "    <tr>\n",
       "      <th>269</th>\n",
       "      <td>335983</td>\n",
       "      <td>1</td>\n",
       "      <td>Chennai Super Kings</td>\n",
       "      <td>Kings XI Punjab</td>\n",
       "      <td>7</td>\n",
       "      <td>1</td>\n",
       "      <td>MS Dhoni</td>\n",
       "      <td>JR Hopes</td>\n",
       "      <td>MEK Hussey</td>\n",
       "      <td>0</td>\n",
       "      <td>...</td>\n",
       "      <td>bat</td>\n",
       "      <td>Chennai Super Kings</td>\n",
       "      <td>runs</td>\n",
       "      <td>33.0</td>\n",
       "      <td>241.0</td>\n",
       "      <td>20.0</td>\n",
       "      <td>N</td>\n",
       "      <td>NaN</td>\n",
       "      <td>MR Benson</td>\n",
       "      <td>SL Shastri</td>\n",
       "    </tr>\n",
       "  </tbody>\n",
       "</table>\n",
       "<p>5 rows × 37 columns</p>\n",
       "</div>"
      ]
     },
     "execution_count": 152,
     "metadata": {},
     "output_type": "execute_result"
    }
   ],
   "execution_count": 152
  },
  {
   "metadata": {
    "ExecuteTime": {
     "end_time": "2024-10-26T17:42:17.705422Z",
     "start_time": "2024-10-26T17:42:17.697391Z"
    }
   },
   "cell_type": "code",
   "source": [
    "nouts = out.player_dismissed.value_counts()\n",
    "nouts"
   ],
   "id": "b386851995492d95",
   "outputs": [
    {
     "data": {
      "text/plain": [
       "player_dismissed\n",
       "RG Sharma         223\n",
       "V Kohli           207\n",
       "S Dhawan          193\n",
       "KD Karthik        184\n",
       "RV Uthappa        180\n",
       "SK Raina          171\n",
       "DA Warner         164\n",
       "AT Rayudu         155\n",
       "AM Rahane         154\n",
       "SV Samson         144\n",
       "G Gambhir         136\n",
       "MS Dhoni          134\n",
       "MK Pandey         133\n",
       "AB de Villiers    130\n",
       "F du Plessis      127\n",
       "PA Patel          126\n",
       "SR Watson         126\n",
       "CH Gayle          126\n",
       "WP Saha           121\n",
       "KA Pollard        121\n",
       "MA Agarwal        117\n",
       "SA Yadav          113\n",
       "GJ Maxwell        112\n",
       "Yuvraj Singh      111\n",
       "YK Pathan         110\n",
       "RA Jadeja         108\n",
       "KL Rahul          105\n",
       "BB McCullum       104\n",
       "Q de Kock         102\n",
       "M Vijay           101\n",
       "V Sehwag           99\n",
       "SS Iyer            98\n",
       "JC Buttler         95\n",
       "N Rana             93\n",
       "Ishan Kishan       93\n",
       "RR Pant            93\n",
       "HH Pandya          89\n",
       "AD Russell         86\n",
       "Shubman Gill       85\n",
       "JH Kallis          85\n",
       "AJ Finch           84\n",
       "DR Smith           84\n",
       "RA Tripathi        83\n",
       "DA Miller          82\n",
       "R Dravid           77\n",
       "SPD Smith          72\n",
       "SR Tendulkar       69\n",
       "SE Marsh           63\n",
       "KS Williamson      60\n",
       "RD Gaikwad         57\n",
       "Name: count, dtype: int64"
      ]
     },
     "execution_count": 153,
     "metadata": {},
     "output_type": "execute_result"
    }
   ],
   "execution_count": 153
  },
  {
   "metadata": {
    "ExecuteTime": {
     "end_time": "2024-10-26T17:42:17.725032Z",
     "start_time": "2024-10-26T17:42:17.706428Z"
    }
   },
   "cell_type": "code",
   "source": [
    "avg = runs / nouts\n",
    "\n",
    "avg = avg.reset_index()\n",
    "avg.rename(columns={'index': 'batter', 0: 'avg'}, inplace=True)\n",
    "\n",
    "avg = avg.merge(sr, on='batter')\n",
    "avg.rename(columns={'batsman_runs': 'strike_rate'}, inplace=True)\n",
    "avg"
   ],
   "id": "d1208e1d18917a03",
   "outputs": [
    {
     "data": {
      "text/plain": [
       "            batter        avg  strike_rate\n",
       "0   AB de Villiers  39.853846   148.580442\n",
       "1       AD Russell  28.930233   164.224422\n",
       "2         AJ Finch  24.904762   123.349057\n",
       "3        AM Rahane  30.142857   120.321410\n",
       "4        AT Rayudu  28.051613   124.584527\n",
       "5      BB McCullum  27.711538   126.848592\n",
       "6         CH Gayle  39.658730   142.121729\n",
       "7        DA Miller  35.658537   134.684477\n",
       "8        DA Warner  40.042683   135.429986\n",
       "9         DR Smith  28.392857   132.279534\n",
       "10    F du Plessis  35.992126   133.071325\n",
       "11       G Gambhir  31.007353   119.665153\n",
       "12      GJ Maxwell  24.750000   150.488599\n",
       "13       HH Pandya  28.471910   139.691290\n",
       "14    Ishan Kishan  28.430108   132.797589\n",
       "15      JC Buttler  37.715789   142.238984\n",
       "16       JH Kallis  28.552941   105.936272\n",
       "17      KA Pollard  28.404959   140.457703\n",
       "18      KD Karthik  26.320652   131.353404\n",
       "19        KL Rahul  44.657143   131.050866\n",
       "20   KS Williamson  35.533333   122.952710\n",
       "21         M Vijay  25.930693   118.614130\n",
       "22      MA Agarwal  22.811966   128.255646\n",
       "23       MK Pandey  29.015038   117.366180\n",
       "24        MS Dhoni  39.126866   132.835065\n",
       "25          N Rana  28.344086   130.818859\n",
       "26        PA Patel  22.603175   116.625717\n",
       "27       Q de Kock  30.980392   131.120332\n",
       "28        R Dravid  28.233766   113.347237\n",
       "29       RA Jadeja  27.398148   124.432296\n",
       "30     RA Tripathi  26.939759   135.515152\n",
       "31      RD Gaikwad  41.754386   133.632791\n",
       "32       RG Sharma  29.730942   127.918194\n",
       "33         RR Pant  35.451613   143.597561\n",
       "34      RV Uthappa  27.522222   126.152279\n",
       "35        S Dhawan  35.072539   123.454313\n",
       "36        SA Yadav  31.805310   142.505948\n",
       "37        SE Marsh  39.507937   130.109775\n",
       "38        SK Raina  32.374269   132.535312\n",
       "39       SPD Smith  34.652778   124.812406\n",
       "40    SR Tendulkar  33.826087   114.187867\n",
       "41       SR Watson  30.793651   134.163209\n",
       "42         SS Iyer  31.948980   123.025540\n",
       "43       SV Samson  30.687500   135.137615\n",
       "44    Shubman Gill  37.835294   132.236842\n",
       "45         V Kohli  38.714976   128.511867\n",
       "46        V Sehwag  27.555556   148.827059\n",
       "47         WP Saha  24.247934   123.902027\n",
       "48       YK Pathan  29.290909   138.046272\n",
       "49    Yuvraj Singh  24.810811   124.784776"
      ],
      "text/html": [
       "<div>\n",
       "<style scoped>\n",
       "    .dataframe tbody tr th:only-of-type {\n",
       "        vertical-align: middle;\n",
       "    }\n",
       "\n",
       "    .dataframe tbody tr th {\n",
       "        vertical-align: top;\n",
       "    }\n",
       "\n",
       "    .dataframe thead th {\n",
       "        text-align: right;\n",
       "    }\n",
       "</style>\n",
       "<table border=\"1\" class=\"dataframe\">\n",
       "  <thead>\n",
       "    <tr style=\"text-align: right;\">\n",
       "      <th></th>\n",
       "      <th>batter</th>\n",
       "      <th>avg</th>\n",
       "      <th>strike_rate</th>\n",
       "    </tr>\n",
       "  </thead>\n",
       "  <tbody>\n",
       "    <tr>\n",
       "      <th>0</th>\n",
       "      <td>AB de Villiers</td>\n",
       "      <td>39.853846</td>\n",
       "      <td>148.580442</td>\n",
       "    </tr>\n",
       "    <tr>\n",
       "      <th>1</th>\n",
       "      <td>AD Russell</td>\n",
       "      <td>28.930233</td>\n",
       "      <td>164.224422</td>\n",
       "    </tr>\n",
       "    <tr>\n",
       "      <th>2</th>\n",
       "      <td>AJ Finch</td>\n",
       "      <td>24.904762</td>\n",
       "      <td>123.349057</td>\n",
       "    </tr>\n",
       "    <tr>\n",
       "      <th>3</th>\n",
       "      <td>AM Rahane</td>\n",
       "      <td>30.142857</td>\n",
       "      <td>120.321410</td>\n",
       "    </tr>\n",
       "    <tr>\n",
       "      <th>4</th>\n",
       "      <td>AT Rayudu</td>\n",
       "      <td>28.051613</td>\n",
       "      <td>124.584527</td>\n",
       "    </tr>\n",
       "    <tr>\n",
       "      <th>5</th>\n",
       "      <td>BB McCullum</td>\n",
       "      <td>27.711538</td>\n",
       "      <td>126.848592</td>\n",
       "    </tr>\n",
       "    <tr>\n",
       "      <th>6</th>\n",
       "      <td>CH Gayle</td>\n",
       "      <td>39.658730</td>\n",
       "      <td>142.121729</td>\n",
       "    </tr>\n",
       "    <tr>\n",
       "      <th>7</th>\n",
       "      <td>DA Miller</td>\n",
       "      <td>35.658537</td>\n",
       "      <td>134.684477</td>\n",
       "    </tr>\n",
       "    <tr>\n",
       "      <th>8</th>\n",
       "      <td>DA Warner</td>\n",
       "      <td>40.042683</td>\n",
       "      <td>135.429986</td>\n",
       "    </tr>\n",
       "    <tr>\n",
       "      <th>9</th>\n",
       "      <td>DR Smith</td>\n",
       "      <td>28.392857</td>\n",
       "      <td>132.279534</td>\n",
       "    </tr>\n",
       "    <tr>\n",
       "      <th>10</th>\n",
       "      <td>F du Plessis</td>\n",
       "      <td>35.992126</td>\n",
       "      <td>133.071325</td>\n",
       "    </tr>\n",
       "    <tr>\n",
       "      <th>11</th>\n",
       "      <td>G Gambhir</td>\n",
       "      <td>31.007353</td>\n",
       "      <td>119.665153</td>\n",
       "    </tr>\n",
       "    <tr>\n",
       "      <th>12</th>\n",
       "      <td>GJ Maxwell</td>\n",
       "      <td>24.750000</td>\n",
       "      <td>150.488599</td>\n",
       "    </tr>\n",
       "    <tr>\n",
       "      <th>13</th>\n",
       "      <td>HH Pandya</td>\n",
       "      <td>28.471910</td>\n",
       "      <td>139.691290</td>\n",
       "    </tr>\n",
       "    <tr>\n",
       "      <th>14</th>\n",
       "      <td>Ishan Kishan</td>\n",
       "      <td>28.430108</td>\n",
       "      <td>132.797589</td>\n",
       "    </tr>\n",
       "    <tr>\n",
       "      <th>15</th>\n",
       "      <td>JC Buttler</td>\n",
       "      <td>37.715789</td>\n",
       "      <td>142.238984</td>\n",
       "    </tr>\n",
       "    <tr>\n",
       "      <th>16</th>\n",
       "      <td>JH Kallis</td>\n",
       "      <td>28.552941</td>\n",
       "      <td>105.936272</td>\n",
       "    </tr>\n",
       "    <tr>\n",
       "      <th>17</th>\n",
       "      <td>KA Pollard</td>\n",
       "      <td>28.404959</td>\n",
       "      <td>140.457703</td>\n",
       "    </tr>\n",
       "    <tr>\n",
       "      <th>18</th>\n",
       "      <td>KD Karthik</td>\n",
       "      <td>26.320652</td>\n",
       "      <td>131.353404</td>\n",
       "    </tr>\n",
       "    <tr>\n",
       "      <th>19</th>\n",
       "      <td>KL Rahul</td>\n",
       "      <td>44.657143</td>\n",
       "      <td>131.050866</td>\n",
       "    </tr>\n",
       "    <tr>\n",
       "      <th>20</th>\n",
       "      <td>KS Williamson</td>\n",
       "      <td>35.533333</td>\n",
       "      <td>122.952710</td>\n",
       "    </tr>\n",
       "    <tr>\n",
       "      <th>21</th>\n",
       "      <td>M Vijay</td>\n",
       "      <td>25.930693</td>\n",
       "      <td>118.614130</td>\n",
       "    </tr>\n",
       "    <tr>\n",
       "      <th>22</th>\n",
       "      <td>MA Agarwal</td>\n",
       "      <td>22.811966</td>\n",
       "      <td>128.255646</td>\n",
       "    </tr>\n",
       "    <tr>\n",
       "      <th>23</th>\n",
       "      <td>MK Pandey</td>\n",
       "      <td>29.015038</td>\n",
       "      <td>117.366180</td>\n",
       "    </tr>\n",
       "    <tr>\n",
       "      <th>24</th>\n",
       "      <td>MS Dhoni</td>\n",
       "      <td>39.126866</td>\n",
       "      <td>132.835065</td>\n",
       "    </tr>\n",
       "    <tr>\n",
       "      <th>25</th>\n",
       "      <td>N Rana</td>\n",
       "      <td>28.344086</td>\n",
       "      <td>130.818859</td>\n",
       "    </tr>\n",
       "    <tr>\n",
       "      <th>26</th>\n",
       "      <td>PA Patel</td>\n",
       "      <td>22.603175</td>\n",
       "      <td>116.625717</td>\n",
       "    </tr>\n",
       "    <tr>\n",
       "      <th>27</th>\n",
       "      <td>Q de Kock</td>\n",
       "      <td>30.980392</td>\n",
       "      <td>131.120332</td>\n",
       "    </tr>\n",
       "    <tr>\n",
       "      <th>28</th>\n",
       "      <td>R Dravid</td>\n",
       "      <td>28.233766</td>\n",
       "      <td>113.347237</td>\n",
       "    </tr>\n",
       "    <tr>\n",
       "      <th>29</th>\n",
       "      <td>RA Jadeja</td>\n",
       "      <td>27.398148</td>\n",
       "      <td>124.432296</td>\n",
       "    </tr>\n",
       "    <tr>\n",
       "      <th>30</th>\n",
       "      <td>RA Tripathi</td>\n",
       "      <td>26.939759</td>\n",
       "      <td>135.515152</td>\n",
       "    </tr>\n",
       "    <tr>\n",
       "      <th>31</th>\n",
       "      <td>RD Gaikwad</td>\n",
       "      <td>41.754386</td>\n",
       "      <td>133.632791</td>\n",
       "    </tr>\n",
       "    <tr>\n",
       "      <th>32</th>\n",
       "      <td>RG Sharma</td>\n",
       "      <td>29.730942</td>\n",
       "      <td>127.918194</td>\n",
       "    </tr>\n",
       "    <tr>\n",
       "      <th>33</th>\n",
       "      <td>RR Pant</td>\n",
       "      <td>35.451613</td>\n",
       "      <td>143.597561</td>\n",
       "    </tr>\n",
       "    <tr>\n",
       "      <th>34</th>\n",
       "      <td>RV Uthappa</td>\n",
       "      <td>27.522222</td>\n",
       "      <td>126.152279</td>\n",
       "    </tr>\n",
       "    <tr>\n",
       "      <th>35</th>\n",
       "      <td>S Dhawan</td>\n",
       "      <td>35.072539</td>\n",
       "      <td>123.454313</td>\n",
       "    </tr>\n",
       "    <tr>\n",
       "      <th>36</th>\n",
       "      <td>SA Yadav</td>\n",
       "      <td>31.805310</td>\n",
       "      <td>142.505948</td>\n",
       "    </tr>\n",
       "    <tr>\n",
       "      <th>37</th>\n",
       "      <td>SE Marsh</td>\n",
       "      <td>39.507937</td>\n",
       "      <td>130.109775</td>\n",
       "    </tr>\n",
       "    <tr>\n",
       "      <th>38</th>\n",
       "      <td>SK Raina</td>\n",
       "      <td>32.374269</td>\n",
       "      <td>132.535312</td>\n",
       "    </tr>\n",
       "    <tr>\n",
       "      <th>39</th>\n",
       "      <td>SPD Smith</td>\n",
       "      <td>34.652778</td>\n",
       "      <td>124.812406</td>\n",
       "    </tr>\n",
       "    <tr>\n",
       "      <th>40</th>\n",
       "      <td>SR Tendulkar</td>\n",
       "      <td>33.826087</td>\n",
       "      <td>114.187867</td>\n",
       "    </tr>\n",
       "    <tr>\n",
       "      <th>41</th>\n",
       "      <td>SR Watson</td>\n",
       "      <td>30.793651</td>\n",
       "      <td>134.163209</td>\n",
       "    </tr>\n",
       "    <tr>\n",
       "      <th>42</th>\n",
       "      <td>SS Iyer</td>\n",
       "      <td>31.948980</td>\n",
       "      <td>123.025540</td>\n",
       "    </tr>\n",
       "    <tr>\n",
       "      <th>43</th>\n",
       "      <td>SV Samson</td>\n",
       "      <td>30.687500</td>\n",
       "      <td>135.137615</td>\n",
       "    </tr>\n",
       "    <tr>\n",
       "      <th>44</th>\n",
       "      <td>Shubman Gill</td>\n",
       "      <td>37.835294</td>\n",
       "      <td>132.236842</td>\n",
       "    </tr>\n",
       "    <tr>\n",
       "      <th>45</th>\n",
       "      <td>V Kohli</td>\n",
       "      <td>38.714976</td>\n",
       "      <td>128.511867</td>\n",
       "    </tr>\n",
       "    <tr>\n",
       "      <th>46</th>\n",
       "      <td>V Sehwag</td>\n",
       "      <td>27.555556</td>\n",
       "      <td>148.827059</td>\n",
       "    </tr>\n",
       "    <tr>\n",
       "      <th>47</th>\n",
       "      <td>WP Saha</td>\n",
       "      <td>24.247934</td>\n",
       "      <td>123.902027</td>\n",
       "    </tr>\n",
       "    <tr>\n",
       "      <th>48</th>\n",
       "      <td>YK Pathan</td>\n",
       "      <td>29.290909</td>\n",
       "      <td>138.046272</td>\n",
       "    </tr>\n",
       "    <tr>\n",
       "      <th>49</th>\n",
       "      <td>Yuvraj Singh</td>\n",
       "      <td>24.810811</td>\n",
       "      <td>124.784776</td>\n",
       "    </tr>\n",
       "  </tbody>\n",
       "</table>\n",
       "</div>"
      ]
     },
     "execution_count": 154,
     "metadata": {},
     "output_type": "execute_result"
    }
   ],
   "execution_count": 154
  },
  {
   "metadata": {
    "ExecuteTime": {
     "end_time": "2024-10-26T17:42:17.743724Z",
     "start_time": "2024-10-26T17:42:17.726039Z"
    }
   },
   "cell_type": "code",
   "source": [
    "# Plot scatter Plot here\n",
    "import plotly\n",
    "\n",
    "trace1 = go.Scatter(x=avg.avg, y=avg.strike_rate, mode='markers', text=avg.batter,\n",
    "                    marker={'color': '#b51c76', 'size': 8})\n",
    "\n",
    "data = [trace1]\n",
    "layout = go.Layout(title='Batsman Avg Vs SR',\n",
    "                   xaxis={'title': 'Batsman Average'},\n",
    "                   yaxis={'title': 'Batsman Strike Rate'})\n",
    "\n",
    "fig = go.Figure(data=data, layout=layout)\n",
    "\n",
    "plotly.io.show(fig)\n",
    "# pyo.plot(fig, filename='myfile.html')"
   ],
   "id": "dadf5eaaa1977da1",
   "outputs": [
    {
     "data": {
      "application/vnd.plotly.v1+json": {
       "data": [
        {
         "marker": {
          "color": "#b51c76",
          "size": 8
         },
         "mode": "markers",
         "text": [
          "AB de Villiers",
          "AD Russell",
          "AJ Finch",
          "AM Rahane",
          "AT Rayudu",
          "BB McCullum",
          "CH Gayle",
          "DA Miller",
          "DA Warner",
          "DR Smith",
          "F du Plessis",
          "G Gambhir",
          "GJ Maxwell",
          "HH Pandya",
          "Ishan Kishan",
          "JC Buttler",
          "JH Kallis",
          "KA Pollard",
          "KD Karthik",
          "KL Rahul",
          "KS Williamson",
          "M Vijay",
          "MA Agarwal",
          "MK Pandey",
          "MS Dhoni",
          "N Rana",
          "PA Patel",
          "Q de Kock",
          "R Dravid",
          "RA Jadeja",
          "RA Tripathi",
          "RD Gaikwad",
          "RG Sharma",
          "RR Pant",
          "RV Uthappa",
          "S Dhawan",
          "SA Yadav",
          "SE Marsh",
          "SK Raina",
          "SPD Smith",
          "SR Tendulkar",
          "SR Watson",
          "SS Iyer",
          "SV Samson",
          "Shubman Gill",
          "V Kohli",
          "V Sehwag",
          "WP Saha",
          "YK Pathan",
          "Yuvraj Singh"
         ],
         "x": [
          39.853846153846156,
          28.930232558139537,
          24.904761904761905,
          30.142857142857142,
          28.051612903225806,
          27.71153846153846,
          39.65873015873016,
          35.65853658536585,
          40.042682926829265,
          28.392857142857142,
          35.99212598425197,
          31.00735294117647,
          24.75,
          28.471910112359552,
          28.43010752688172,
          37.71578947368421,
          28.55294117647059,
          28.40495867768595,
          26.320652173913043,
          44.65714285714286,
          35.53333333333333,
          25.93069306930693,
          22.811965811965813,
          29.015037593984964,
          39.12686567164179,
          28.344086021505376,
          22.603174603174605,
          30.980392156862745,
          28.233766233766232,
          27.39814814814815,
          26.93975903614458,
          41.75438596491228,
          29.730941704035875,
          35.45161290322581,
          27.522222222222222,
          35.07253886010363,
          31.805309734513273,
          39.507936507936506,
          32.37426900584796,
          34.65277777777778,
          33.82608695652174,
          30.793650793650794,
          31.948979591836736,
          30.6875,
          37.83529411764706,
          38.71497584541063,
          27.555555555555557,
          24.24793388429752,
          29.29090909090909,
          24.81081081081081
         ],
         "y": [
          148.58044164037855,
          164.22442244224422,
          123.34905660377358,
          120.32141005702437,
          124.58452722063038,
          126.84859154929578,
          142.1217292377702,
          134.68447719944726,
          135.4299855640338,
          132.27953410981698,
          133.07132459970887,
          119.66515323496027,
          150.4885993485342,
          139.69128996692393,
          132.79758915118032,
          142.23898372369987,
          105.93627237014405,
          140.45770331017573,
          131.35340385136968,
          131.05086640581328,
          122.95271049596307,
          118.61413043478262,
          128.25564632388276,
          117.36618004866179,
          132.8350646060299,
          130.81885856079404,
          116.62571662571663,
          131.12033195020746,
          113.34723670490095,
          124.4322960470984,
          135.51515151515153,
          133.63279056709715,
          127.91819409608335,
          143.59756097560975,
          126.15227909345556,
          123.45431333211745,
          142.50594766058683,
          130.10977522216413,
          132.53531242518554,
          124.81240620310155,
          114.18786692759295,
          134.1632088520055,
          123.02554027504911,
          135.1376146788991,
          132.23684210526315,
          128.51186658114176,
          148.82705946535734,
          123.90202702702702,
          138.04627249357327,
          124.78477571363842
         ],
         "type": "scatter"
        }
       ],
       "layout": {
        "title": {
         "text": "Batsman Avg Vs SR"
        },
        "xaxis": {
         "title": {
          "text": "Batsman Average"
         }
        },
        "yaxis": {
         "title": {
          "text": "Batsman Strike Rate"
         }
        },
        "template": {
         "data": {
          "histogram2dcontour": [
           {
            "type": "histogram2dcontour",
            "colorbar": {
             "outlinewidth": 0,
             "ticks": ""
            },
            "colorscale": [
             [
              0.0,
              "#0d0887"
             ],
             [
              0.1111111111111111,
              "#46039f"
             ],
             [
              0.2222222222222222,
              "#7201a8"
             ],
             [
              0.3333333333333333,
              "#9c179e"
             ],
             [
              0.4444444444444444,
              "#bd3786"
             ],
             [
              0.5555555555555556,
              "#d8576b"
             ],
             [
              0.6666666666666666,
              "#ed7953"
             ],
             [
              0.7777777777777778,
              "#fb9f3a"
             ],
             [
              0.8888888888888888,
              "#fdca26"
             ],
             [
              1.0,
              "#f0f921"
             ]
            ]
           }
          ],
          "choropleth": [
           {
            "type": "choropleth",
            "colorbar": {
             "outlinewidth": 0,
             "ticks": ""
            }
           }
          ],
          "histogram2d": [
           {
            "type": "histogram2d",
            "colorbar": {
             "outlinewidth": 0,
             "ticks": ""
            },
            "colorscale": [
             [
              0.0,
              "#0d0887"
             ],
             [
              0.1111111111111111,
              "#46039f"
             ],
             [
              0.2222222222222222,
              "#7201a8"
             ],
             [
              0.3333333333333333,
              "#9c179e"
             ],
             [
              0.4444444444444444,
              "#bd3786"
             ],
             [
              0.5555555555555556,
              "#d8576b"
             ],
             [
              0.6666666666666666,
              "#ed7953"
             ],
             [
              0.7777777777777778,
              "#fb9f3a"
             ],
             [
              0.8888888888888888,
              "#fdca26"
             ],
             [
              1.0,
              "#f0f921"
             ]
            ]
           }
          ],
          "heatmap": [
           {
            "type": "heatmap",
            "colorbar": {
             "outlinewidth": 0,
             "ticks": ""
            },
            "colorscale": [
             [
              0.0,
              "#0d0887"
             ],
             [
              0.1111111111111111,
              "#46039f"
             ],
             [
              0.2222222222222222,
              "#7201a8"
             ],
             [
              0.3333333333333333,
              "#9c179e"
             ],
             [
              0.4444444444444444,
              "#bd3786"
             ],
             [
              0.5555555555555556,
              "#d8576b"
             ],
             [
              0.6666666666666666,
              "#ed7953"
             ],
             [
              0.7777777777777778,
              "#fb9f3a"
             ],
             [
              0.8888888888888888,
              "#fdca26"
             ],
             [
              1.0,
              "#f0f921"
             ]
            ]
           }
          ],
          "heatmapgl": [
           {
            "type": "heatmapgl",
            "colorbar": {
             "outlinewidth": 0,
             "ticks": ""
            },
            "colorscale": [
             [
              0.0,
              "#0d0887"
             ],
             [
              0.1111111111111111,
              "#46039f"
             ],
             [
              0.2222222222222222,
              "#7201a8"
             ],
             [
              0.3333333333333333,
              "#9c179e"
             ],
             [
              0.4444444444444444,
              "#bd3786"
             ],
             [
              0.5555555555555556,
              "#d8576b"
             ],
             [
              0.6666666666666666,
              "#ed7953"
             ],
             [
              0.7777777777777778,
              "#fb9f3a"
             ],
             [
              0.8888888888888888,
              "#fdca26"
             ],
             [
              1.0,
              "#f0f921"
             ]
            ]
           }
          ],
          "contourcarpet": [
           {
            "type": "contourcarpet",
            "colorbar": {
             "outlinewidth": 0,
             "ticks": ""
            }
           }
          ],
          "contour": [
           {
            "type": "contour",
            "colorbar": {
             "outlinewidth": 0,
             "ticks": ""
            },
            "colorscale": [
             [
              0.0,
              "#0d0887"
             ],
             [
              0.1111111111111111,
              "#46039f"
             ],
             [
              0.2222222222222222,
              "#7201a8"
             ],
             [
              0.3333333333333333,
              "#9c179e"
             ],
             [
              0.4444444444444444,
              "#bd3786"
             ],
             [
              0.5555555555555556,
              "#d8576b"
             ],
             [
              0.6666666666666666,
              "#ed7953"
             ],
             [
              0.7777777777777778,
              "#fb9f3a"
             ],
             [
              0.8888888888888888,
              "#fdca26"
             ],
             [
              1.0,
              "#f0f921"
             ]
            ]
           }
          ],
          "surface": [
           {
            "type": "surface",
            "colorbar": {
             "outlinewidth": 0,
             "ticks": ""
            },
            "colorscale": [
             [
              0.0,
              "#0d0887"
             ],
             [
              0.1111111111111111,
              "#46039f"
             ],
             [
              0.2222222222222222,
              "#7201a8"
             ],
             [
              0.3333333333333333,
              "#9c179e"
             ],
             [
              0.4444444444444444,
              "#bd3786"
             ],
             [
              0.5555555555555556,
              "#d8576b"
             ],
             [
              0.6666666666666666,
              "#ed7953"
             ],
             [
              0.7777777777777778,
              "#fb9f3a"
             ],
             [
              0.8888888888888888,
              "#fdca26"
             ],
             [
              1.0,
              "#f0f921"
             ]
            ]
           }
          ],
          "mesh3d": [
           {
            "type": "mesh3d",
            "colorbar": {
             "outlinewidth": 0,
             "ticks": ""
            }
           }
          ],
          "scatter": [
           {
            "fillpattern": {
             "fillmode": "overlay",
             "size": 10,
             "solidity": 0.2
            },
            "type": "scatter"
           }
          ],
          "parcoords": [
           {
            "type": "parcoords",
            "line": {
             "colorbar": {
              "outlinewidth": 0,
              "ticks": ""
             }
            }
           }
          ],
          "scatterpolargl": [
           {
            "type": "scatterpolargl",
            "marker": {
             "colorbar": {
              "outlinewidth": 0,
              "ticks": ""
             }
            }
           }
          ],
          "bar": [
           {
            "error_x": {
             "color": "#2a3f5f"
            },
            "error_y": {
             "color": "#2a3f5f"
            },
            "marker": {
             "line": {
              "color": "#E5ECF6",
              "width": 0.5
             },
             "pattern": {
              "fillmode": "overlay",
              "size": 10,
              "solidity": 0.2
             }
            },
            "type": "bar"
           }
          ],
          "scattergeo": [
           {
            "type": "scattergeo",
            "marker": {
             "colorbar": {
              "outlinewidth": 0,
              "ticks": ""
             }
            }
           }
          ],
          "scatterpolar": [
           {
            "type": "scatterpolar",
            "marker": {
             "colorbar": {
              "outlinewidth": 0,
              "ticks": ""
             }
            }
           }
          ],
          "histogram": [
           {
            "marker": {
             "pattern": {
              "fillmode": "overlay",
              "size": 10,
              "solidity": 0.2
             }
            },
            "type": "histogram"
           }
          ],
          "scattergl": [
           {
            "type": "scattergl",
            "marker": {
             "colorbar": {
              "outlinewidth": 0,
              "ticks": ""
             }
            }
           }
          ],
          "scatter3d": [
           {
            "type": "scatter3d",
            "line": {
             "colorbar": {
              "outlinewidth": 0,
              "ticks": ""
             }
            },
            "marker": {
             "colorbar": {
              "outlinewidth": 0,
              "ticks": ""
             }
            }
           }
          ],
          "scattermapbox": [
           {
            "type": "scattermapbox",
            "marker": {
             "colorbar": {
              "outlinewidth": 0,
              "ticks": ""
             }
            }
           }
          ],
          "scatterternary": [
           {
            "type": "scatterternary",
            "marker": {
             "colorbar": {
              "outlinewidth": 0,
              "ticks": ""
             }
            }
           }
          ],
          "scattercarpet": [
           {
            "type": "scattercarpet",
            "marker": {
             "colorbar": {
              "outlinewidth": 0,
              "ticks": ""
             }
            }
           }
          ],
          "carpet": [
           {
            "aaxis": {
             "endlinecolor": "#2a3f5f",
             "gridcolor": "white",
             "linecolor": "white",
             "minorgridcolor": "white",
             "startlinecolor": "#2a3f5f"
            },
            "baxis": {
             "endlinecolor": "#2a3f5f",
             "gridcolor": "white",
             "linecolor": "white",
             "minorgridcolor": "white",
             "startlinecolor": "#2a3f5f"
            },
            "type": "carpet"
           }
          ],
          "table": [
           {
            "cells": {
             "fill": {
              "color": "#EBF0F8"
             },
             "line": {
              "color": "white"
             }
            },
            "header": {
             "fill": {
              "color": "#C8D4E3"
             },
             "line": {
              "color": "white"
             }
            },
            "type": "table"
           }
          ],
          "barpolar": [
           {
            "marker": {
             "line": {
              "color": "#E5ECF6",
              "width": 0.5
             },
             "pattern": {
              "fillmode": "overlay",
              "size": 10,
              "solidity": 0.2
             }
            },
            "type": "barpolar"
           }
          ],
          "pie": [
           {
            "automargin": true,
            "type": "pie"
           }
          ]
         },
         "layout": {
          "autotypenumbers": "strict",
          "colorway": [
           "#636efa",
           "#EF553B",
           "#00cc96",
           "#ab63fa",
           "#FFA15A",
           "#19d3f3",
           "#FF6692",
           "#B6E880",
           "#FF97FF",
           "#FECB52"
          ],
          "font": {
           "color": "#2a3f5f"
          },
          "hovermode": "closest",
          "hoverlabel": {
           "align": "left"
          },
          "paper_bgcolor": "white",
          "plot_bgcolor": "#E5ECF6",
          "polar": {
           "bgcolor": "#E5ECF6",
           "angularaxis": {
            "gridcolor": "white",
            "linecolor": "white",
            "ticks": ""
           },
           "radialaxis": {
            "gridcolor": "white",
            "linecolor": "white",
            "ticks": ""
           }
          },
          "ternary": {
           "bgcolor": "#E5ECF6",
           "aaxis": {
            "gridcolor": "white",
            "linecolor": "white",
            "ticks": ""
           },
           "baxis": {
            "gridcolor": "white",
            "linecolor": "white",
            "ticks": ""
           },
           "caxis": {
            "gridcolor": "white",
            "linecolor": "white",
            "ticks": ""
           }
          },
          "coloraxis": {
           "colorbar": {
            "outlinewidth": 0,
            "ticks": ""
           }
          },
          "colorscale": {
           "sequential": [
            [
             0.0,
             "#0d0887"
            ],
            [
             0.1111111111111111,
             "#46039f"
            ],
            [
             0.2222222222222222,
             "#7201a8"
            ],
            [
             0.3333333333333333,
             "#9c179e"
            ],
            [
             0.4444444444444444,
             "#bd3786"
            ],
            [
             0.5555555555555556,
             "#d8576b"
            ],
            [
             0.6666666666666666,
             "#ed7953"
            ],
            [
             0.7777777777777778,
             "#fb9f3a"
            ],
            [
             0.8888888888888888,
             "#fdca26"
            ],
            [
             1.0,
             "#f0f921"
            ]
           ],
           "sequentialminus": [
            [
             0.0,
             "#0d0887"
            ],
            [
             0.1111111111111111,
             "#46039f"
            ],
            [
             0.2222222222222222,
             "#7201a8"
            ],
            [
             0.3333333333333333,
             "#9c179e"
            ],
            [
             0.4444444444444444,
             "#bd3786"
            ],
            [
             0.5555555555555556,
             "#d8576b"
            ],
            [
             0.6666666666666666,
             "#ed7953"
            ],
            [
             0.7777777777777778,
             "#fb9f3a"
            ],
            [
             0.8888888888888888,
             "#fdca26"
            ],
            [
             1.0,
             "#f0f921"
            ]
           ],
           "diverging": [
            [
             0,
             "#8e0152"
            ],
            [
             0.1,
             "#c51b7d"
            ],
            [
             0.2,
             "#de77ae"
            ],
            [
             0.3,
             "#f1b6da"
            ],
            [
             0.4,
             "#fde0ef"
            ],
            [
             0.5,
             "#f7f7f7"
            ],
            [
             0.6,
             "#e6f5d0"
            ],
            [
             0.7,
             "#b8e186"
            ],
            [
             0.8,
             "#7fbc41"
            ],
            [
             0.9,
             "#4d9221"
            ],
            [
             1,
             "#276419"
            ]
           ]
          },
          "xaxis": {
           "gridcolor": "white",
           "linecolor": "white",
           "ticks": "",
           "title": {
            "standoff": 15
           },
           "zerolinecolor": "white",
           "automargin": true,
           "zerolinewidth": 2
          },
          "yaxis": {
           "gridcolor": "white",
           "linecolor": "white",
           "ticks": "",
           "title": {
            "standoff": 15
           },
           "zerolinecolor": "white",
           "automargin": true,
           "zerolinewidth": 2
          },
          "scene": {
           "xaxis": {
            "backgroundcolor": "#E5ECF6",
            "gridcolor": "white",
            "linecolor": "white",
            "showbackground": true,
            "ticks": "",
            "zerolinecolor": "white",
            "gridwidth": 2
           },
           "yaxis": {
            "backgroundcolor": "#E5ECF6",
            "gridcolor": "white",
            "linecolor": "white",
            "showbackground": true,
            "ticks": "",
            "zerolinecolor": "white",
            "gridwidth": 2
           },
           "zaxis": {
            "backgroundcolor": "#E5ECF6",
            "gridcolor": "white",
            "linecolor": "white",
            "showbackground": true,
            "ticks": "",
            "zerolinecolor": "white",
            "gridwidth": 2
           }
          },
          "shapedefaults": {
           "line": {
            "color": "#2a3f5f"
           }
          },
          "annotationdefaults": {
           "arrowcolor": "#2a3f5f",
           "arrowhead": 0,
           "arrowwidth": 1
          },
          "geo": {
           "bgcolor": "white",
           "landcolor": "#E5ECF6",
           "subunitcolor": "white",
           "showland": true,
           "showlakes": true,
           "lakecolor": "white"
          },
          "title": {
           "x": 0.05
          },
          "mapbox": {
           "style": "light"
          }
         }
        }
       },
       "config": {
        "plotlyServerURL": "https://plot.ly"
       }
      },
      "text/html": [
       "<div>                            <div id=\"9a7edcd2-be22-46d3-add5-6efb60687d77\" class=\"plotly-graph-div\" style=\"height:525px; width:100%;\"></div>            <script type=\"text/javascript\">                require([\"plotly\"], function(Plotly) {                    window.PLOTLYENV=window.PLOTLYENV || {};                                    if (document.getElementById(\"9a7edcd2-be22-46d3-add5-6efb60687d77\")) {                    Plotly.newPlot(                        \"9a7edcd2-be22-46d3-add5-6efb60687d77\",                        [{\"marker\":{\"color\":\"#b51c76\",\"size\":8},\"mode\":\"markers\",\"text\":[\"AB de Villiers\",\"AD Russell\",\"AJ Finch\",\"AM Rahane\",\"AT Rayudu\",\"BB McCullum\",\"CH Gayle\",\"DA Miller\",\"DA Warner\",\"DR Smith\",\"F du Plessis\",\"G Gambhir\",\"GJ Maxwell\",\"HH Pandya\",\"Ishan Kishan\",\"JC Buttler\",\"JH Kallis\",\"KA Pollard\",\"KD Karthik\",\"KL Rahul\",\"KS Williamson\",\"M Vijay\",\"MA Agarwal\",\"MK Pandey\",\"MS Dhoni\",\"N Rana\",\"PA Patel\",\"Q de Kock\",\"R Dravid\",\"RA Jadeja\",\"RA Tripathi\",\"RD Gaikwad\",\"RG Sharma\",\"RR Pant\",\"RV Uthappa\",\"S Dhawan\",\"SA Yadav\",\"SE Marsh\",\"SK Raina\",\"SPD Smith\",\"SR Tendulkar\",\"SR Watson\",\"SS Iyer\",\"SV Samson\",\"Shubman Gill\",\"V Kohli\",\"V Sehwag\",\"WP Saha\",\"YK Pathan\",\"Yuvraj Singh\"],\"x\":[39.853846153846156,28.930232558139537,24.904761904761905,30.142857142857142,28.051612903225806,27.71153846153846,39.65873015873016,35.65853658536585,40.042682926829265,28.392857142857142,35.99212598425197,31.00735294117647,24.75,28.471910112359552,28.43010752688172,37.71578947368421,28.55294117647059,28.40495867768595,26.320652173913043,44.65714285714286,35.53333333333333,25.93069306930693,22.811965811965813,29.015037593984964,39.12686567164179,28.344086021505376,22.603174603174605,30.980392156862745,28.233766233766232,27.39814814814815,26.93975903614458,41.75438596491228,29.730941704035875,35.45161290322581,27.522222222222222,35.07253886010363,31.805309734513273,39.507936507936506,32.37426900584796,34.65277777777778,33.82608695652174,30.793650793650794,31.948979591836736,30.6875,37.83529411764706,38.71497584541063,27.555555555555557,24.24793388429752,29.29090909090909,24.81081081081081],\"y\":[148.58044164037855,164.22442244224422,123.34905660377358,120.32141005702437,124.58452722063038,126.84859154929578,142.1217292377702,134.68447719944726,135.4299855640338,132.27953410981698,133.07132459970887,119.66515323496027,150.4885993485342,139.69128996692393,132.79758915118032,142.23898372369987,105.93627237014405,140.45770331017573,131.35340385136968,131.05086640581328,122.95271049596307,118.61413043478262,128.25564632388276,117.36618004866179,132.8350646060299,130.81885856079404,116.62571662571663,131.12033195020746,113.34723670490095,124.4322960470984,135.51515151515153,133.63279056709715,127.91819409608335,143.59756097560975,126.15227909345556,123.45431333211745,142.50594766058683,130.10977522216413,132.53531242518554,124.81240620310155,114.18786692759295,134.1632088520055,123.02554027504911,135.1376146788991,132.23684210526315,128.51186658114176,148.82705946535734,123.90202702702702,138.04627249357327,124.78477571363842],\"type\":\"scatter\"}],                        {\"title\":{\"text\":\"Batsman Avg Vs SR\"},\"xaxis\":{\"title\":{\"text\":\"Batsman Average\"}},\"yaxis\":{\"title\":{\"text\":\"Batsman Strike Rate\"}},\"template\":{\"data\":{\"histogram2dcontour\":[{\"type\":\"histogram2dcontour\",\"colorbar\":{\"outlinewidth\":0,\"ticks\":\"\"},\"colorscale\":[[0.0,\"#0d0887\"],[0.1111111111111111,\"#46039f\"],[0.2222222222222222,\"#7201a8\"],[0.3333333333333333,\"#9c179e\"],[0.4444444444444444,\"#bd3786\"],[0.5555555555555556,\"#d8576b\"],[0.6666666666666666,\"#ed7953\"],[0.7777777777777778,\"#fb9f3a\"],[0.8888888888888888,\"#fdca26\"],[1.0,\"#f0f921\"]]}],\"choropleth\":[{\"type\":\"choropleth\",\"colorbar\":{\"outlinewidth\":0,\"ticks\":\"\"}}],\"histogram2d\":[{\"type\":\"histogram2d\",\"colorbar\":{\"outlinewidth\":0,\"ticks\":\"\"},\"colorscale\":[[0.0,\"#0d0887\"],[0.1111111111111111,\"#46039f\"],[0.2222222222222222,\"#7201a8\"],[0.3333333333333333,\"#9c179e\"],[0.4444444444444444,\"#bd3786\"],[0.5555555555555556,\"#d8576b\"],[0.6666666666666666,\"#ed7953\"],[0.7777777777777778,\"#fb9f3a\"],[0.8888888888888888,\"#fdca26\"],[1.0,\"#f0f921\"]]}],\"heatmap\":[{\"type\":\"heatmap\",\"colorbar\":{\"outlinewidth\":0,\"ticks\":\"\"},\"colorscale\":[[0.0,\"#0d0887\"],[0.1111111111111111,\"#46039f\"],[0.2222222222222222,\"#7201a8\"],[0.3333333333333333,\"#9c179e\"],[0.4444444444444444,\"#bd3786\"],[0.5555555555555556,\"#d8576b\"],[0.6666666666666666,\"#ed7953\"],[0.7777777777777778,\"#fb9f3a\"],[0.8888888888888888,\"#fdca26\"],[1.0,\"#f0f921\"]]}],\"heatmapgl\":[{\"type\":\"heatmapgl\",\"colorbar\":{\"outlinewidth\":0,\"ticks\":\"\"},\"colorscale\":[[0.0,\"#0d0887\"],[0.1111111111111111,\"#46039f\"],[0.2222222222222222,\"#7201a8\"],[0.3333333333333333,\"#9c179e\"],[0.4444444444444444,\"#bd3786\"],[0.5555555555555556,\"#d8576b\"],[0.6666666666666666,\"#ed7953\"],[0.7777777777777778,\"#fb9f3a\"],[0.8888888888888888,\"#fdca26\"],[1.0,\"#f0f921\"]]}],\"contourcarpet\":[{\"type\":\"contourcarpet\",\"colorbar\":{\"outlinewidth\":0,\"ticks\":\"\"}}],\"contour\":[{\"type\":\"contour\",\"colorbar\":{\"outlinewidth\":0,\"ticks\":\"\"},\"colorscale\":[[0.0,\"#0d0887\"],[0.1111111111111111,\"#46039f\"],[0.2222222222222222,\"#7201a8\"],[0.3333333333333333,\"#9c179e\"],[0.4444444444444444,\"#bd3786\"],[0.5555555555555556,\"#d8576b\"],[0.6666666666666666,\"#ed7953\"],[0.7777777777777778,\"#fb9f3a\"],[0.8888888888888888,\"#fdca26\"],[1.0,\"#f0f921\"]]}],\"surface\":[{\"type\":\"surface\",\"colorbar\":{\"outlinewidth\":0,\"ticks\":\"\"},\"colorscale\":[[0.0,\"#0d0887\"],[0.1111111111111111,\"#46039f\"],[0.2222222222222222,\"#7201a8\"],[0.3333333333333333,\"#9c179e\"],[0.4444444444444444,\"#bd3786\"],[0.5555555555555556,\"#d8576b\"],[0.6666666666666666,\"#ed7953\"],[0.7777777777777778,\"#fb9f3a\"],[0.8888888888888888,\"#fdca26\"],[1.0,\"#f0f921\"]]}],\"mesh3d\":[{\"type\":\"mesh3d\",\"colorbar\":{\"outlinewidth\":0,\"ticks\":\"\"}}],\"scatter\":[{\"fillpattern\":{\"fillmode\":\"overlay\",\"size\":10,\"solidity\":0.2},\"type\":\"scatter\"}],\"parcoords\":[{\"type\":\"parcoords\",\"line\":{\"colorbar\":{\"outlinewidth\":0,\"ticks\":\"\"}}}],\"scatterpolargl\":[{\"type\":\"scatterpolargl\",\"marker\":{\"colorbar\":{\"outlinewidth\":0,\"ticks\":\"\"}}}],\"bar\":[{\"error_x\":{\"color\":\"#2a3f5f\"},\"error_y\":{\"color\":\"#2a3f5f\"},\"marker\":{\"line\":{\"color\":\"#E5ECF6\",\"width\":0.5},\"pattern\":{\"fillmode\":\"overlay\",\"size\":10,\"solidity\":0.2}},\"type\":\"bar\"}],\"scattergeo\":[{\"type\":\"scattergeo\",\"marker\":{\"colorbar\":{\"outlinewidth\":0,\"ticks\":\"\"}}}],\"scatterpolar\":[{\"type\":\"scatterpolar\",\"marker\":{\"colorbar\":{\"outlinewidth\":0,\"ticks\":\"\"}}}],\"histogram\":[{\"marker\":{\"pattern\":{\"fillmode\":\"overlay\",\"size\":10,\"solidity\":0.2}},\"type\":\"histogram\"}],\"scattergl\":[{\"type\":\"scattergl\",\"marker\":{\"colorbar\":{\"outlinewidth\":0,\"ticks\":\"\"}}}],\"scatter3d\":[{\"type\":\"scatter3d\",\"line\":{\"colorbar\":{\"outlinewidth\":0,\"ticks\":\"\"}},\"marker\":{\"colorbar\":{\"outlinewidth\":0,\"ticks\":\"\"}}}],\"scattermapbox\":[{\"type\":\"scattermapbox\",\"marker\":{\"colorbar\":{\"outlinewidth\":0,\"ticks\":\"\"}}}],\"scatterternary\":[{\"type\":\"scatterternary\",\"marker\":{\"colorbar\":{\"outlinewidth\":0,\"ticks\":\"\"}}}],\"scattercarpet\":[{\"type\":\"scattercarpet\",\"marker\":{\"colorbar\":{\"outlinewidth\":0,\"ticks\":\"\"}}}],\"carpet\":[{\"aaxis\":{\"endlinecolor\":\"#2a3f5f\",\"gridcolor\":\"white\",\"linecolor\":\"white\",\"minorgridcolor\":\"white\",\"startlinecolor\":\"#2a3f5f\"},\"baxis\":{\"endlinecolor\":\"#2a3f5f\",\"gridcolor\":\"white\",\"linecolor\":\"white\",\"minorgridcolor\":\"white\",\"startlinecolor\":\"#2a3f5f\"},\"type\":\"carpet\"}],\"table\":[{\"cells\":{\"fill\":{\"color\":\"#EBF0F8\"},\"line\":{\"color\":\"white\"}},\"header\":{\"fill\":{\"color\":\"#C8D4E3\"},\"line\":{\"color\":\"white\"}},\"type\":\"table\"}],\"barpolar\":[{\"marker\":{\"line\":{\"color\":\"#E5ECF6\",\"width\":0.5},\"pattern\":{\"fillmode\":\"overlay\",\"size\":10,\"solidity\":0.2}},\"type\":\"barpolar\"}],\"pie\":[{\"automargin\":true,\"type\":\"pie\"}]},\"layout\":{\"autotypenumbers\":\"strict\",\"colorway\":[\"#636efa\",\"#EF553B\",\"#00cc96\",\"#ab63fa\",\"#FFA15A\",\"#19d3f3\",\"#FF6692\",\"#B6E880\",\"#FF97FF\",\"#FECB52\"],\"font\":{\"color\":\"#2a3f5f\"},\"hovermode\":\"closest\",\"hoverlabel\":{\"align\":\"left\"},\"paper_bgcolor\":\"white\",\"plot_bgcolor\":\"#E5ECF6\",\"polar\":{\"bgcolor\":\"#E5ECF6\",\"angularaxis\":{\"gridcolor\":\"white\",\"linecolor\":\"white\",\"ticks\":\"\"},\"radialaxis\":{\"gridcolor\":\"white\",\"linecolor\":\"white\",\"ticks\":\"\"}},\"ternary\":{\"bgcolor\":\"#E5ECF6\",\"aaxis\":{\"gridcolor\":\"white\",\"linecolor\":\"white\",\"ticks\":\"\"},\"baxis\":{\"gridcolor\":\"white\",\"linecolor\":\"white\",\"ticks\":\"\"},\"caxis\":{\"gridcolor\":\"white\",\"linecolor\":\"white\",\"ticks\":\"\"}},\"coloraxis\":{\"colorbar\":{\"outlinewidth\":0,\"ticks\":\"\"}},\"colorscale\":{\"sequential\":[[0.0,\"#0d0887\"],[0.1111111111111111,\"#46039f\"],[0.2222222222222222,\"#7201a8\"],[0.3333333333333333,\"#9c179e\"],[0.4444444444444444,\"#bd3786\"],[0.5555555555555556,\"#d8576b\"],[0.6666666666666666,\"#ed7953\"],[0.7777777777777778,\"#fb9f3a\"],[0.8888888888888888,\"#fdca26\"],[1.0,\"#f0f921\"]],\"sequentialminus\":[[0.0,\"#0d0887\"],[0.1111111111111111,\"#46039f\"],[0.2222222222222222,\"#7201a8\"],[0.3333333333333333,\"#9c179e\"],[0.4444444444444444,\"#bd3786\"],[0.5555555555555556,\"#d8576b\"],[0.6666666666666666,\"#ed7953\"],[0.7777777777777778,\"#fb9f3a\"],[0.8888888888888888,\"#fdca26\"],[1.0,\"#f0f921\"]],\"diverging\":[[0,\"#8e0152\"],[0.1,\"#c51b7d\"],[0.2,\"#de77ae\"],[0.3,\"#f1b6da\"],[0.4,\"#fde0ef\"],[0.5,\"#f7f7f7\"],[0.6,\"#e6f5d0\"],[0.7,\"#b8e186\"],[0.8,\"#7fbc41\"],[0.9,\"#4d9221\"],[1,\"#276419\"]]},\"xaxis\":{\"gridcolor\":\"white\",\"linecolor\":\"white\",\"ticks\":\"\",\"title\":{\"standoff\":15},\"zerolinecolor\":\"white\",\"automargin\":true,\"zerolinewidth\":2},\"yaxis\":{\"gridcolor\":\"white\",\"linecolor\":\"white\",\"ticks\":\"\",\"title\":{\"standoff\":15},\"zerolinecolor\":\"white\",\"automargin\":true,\"zerolinewidth\":2},\"scene\":{\"xaxis\":{\"backgroundcolor\":\"#E5ECF6\",\"gridcolor\":\"white\",\"linecolor\":\"white\",\"showbackground\":true,\"ticks\":\"\",\"zerolinecolor\":\"white\",\"gridwidth\":2},\"yaxis\":{\"backgroundcolor\":\"#E5ECF6\",\"gridcolor\":\"white\",\"linecolor\":\"white\",\"showbackground\":true,\"ticks\":\"\",\"zerolinecolor\":\"white\",\"gridwidth\":2},\"zaxis\":{\"backgroundcolor\":\"#E5ECF6\",\"gridcolor\":\"white\",\"linecolor\":\"white\",\"showbackground\":true,\"ticks\":\"\",\"zerolinecolor\":\"white\",\"gridwidth\":2}},\"shapedefaults\":{\"line\":{\"color\":\"#2a3f5f\"}},\"annotationdefaults\":{\"arrowcolor\":\"#2a3f5f\",\"arrowhead\":0,\"arrowwidth\":1},\"geo\":{\"bgcolor\":\"white\",\"landcolor\":\"#E5ECF6\",\"subunitcolor\":\"white\",\"showland\":true,\"showlakes\":true,\"lakecolor\":\"white\"},\"title\":{\"x\":0.05},\"mapbox\":{\"style\":\"light\"}}}},                        {\"responsive\": true}                    ).then(function(){\n",
       "                            \n",
       "var gd = document.getElementById('9a7edcd2-be22-46d3-add5-6efb60687d77');\n",
       "var x = new MutationObserver(function (mutations, observer) {{\n",
       "        var display = window.getComputedStyle(gd).display;\n",
       "        if (!display || display === 'none') {{\n",
       "            console.log([gd, 'removed!']);\n",
       "            Plotly.purge(gd);\n",
       "            observer.disconnect();\n",
       "        }}\n",
       "}});\n",
       "\n",
       "// Listen for the removal of the full notebook cells\n",
       "var notebookContainer = gd.closest('#notebook-container');\n",
       "if (notebookContainer) {{\n",
       "    x.observe(notebookContainer, {childList: true});\n",
       "}}\n",
       "\n",
       "// Listen for the clearing of the current output cell\n",
       "var outputEl = gd.closest('.output');\n",
       "if (outputEl) {{\n",
       "    x.observe(outputEl, {childList: true});\n",
       "}}\n",
       "\n",
       "                        })                };                });            </script>        </div>"
      ]
     },
     "metadata": {},
     "output_type": "display_data"
    }
   ],
   "execution_count": 155
  },
  {
   "metadata": {},
   "cell_type": "markdown",
   "source": [
    "## Line Chart\n",
    "\n",
    "<p>It's an extension of Scatter plot. Usually used to show a time series data</p>\n",
    "![Line Chart]()"
   ],
   "id": "2e2b38042748698f"
  },
  {
   "metadata": {
    "ExecuteTime": {
     "end_time": "2024-10-26T17:42:17.829182Z",
     "start_time": "2024-10-26T17:42:17.746731Z"
    }
   },
   "cell_type": "code",
   "source": [
    "# Year by Year batsman performance\n",
    "\n",
    "single = ipl.query('batter == \"V Kohli\"')\n",
    "performance = single.groupby('season')['batsman_runs'].sum().reset_index()\n",
    "performance.rename(columns={'batsman_runs': 'total_runs'}, inplace=True)\n",
    "print(performance)\n",
    "\n",
    "single1 = ipl.query('batter == \"MS Dhoni\"')\n",
    "performance1 = single1.groupby('season')['batsman_runs'].sum().reset_index()\n",
    "performance1.rename(columns={'batsman_runs': 'total_runs'}, inplace=True)\n",
    "# print(performance1)"
   ],
   "id": "28a4250f2b4d11f8",
   "outputs": [
    {
     "name": "stdout",
     "output_type": "stream",
     "text": [
      "     season  total_runs\n",
      "0   2007/08         165\n",
      "1      2009         246\n",
      "2   2009/10         307\n",
      "3      2011         557\n",
      "4      2012         364\n",
      "5      2013         639\n",
      "6      2014         359\n",
      "7      2015         505\n",
      "8      2016         973\n",
      "9      2017         308\n",
      "10     2018         530\n",
      "11     2019         464\n",
      "12  2020/21         471\n",
      "13     2021         405\n",
      "14     2022         341\n",
      "15     2023         639\n",
      "16     2024         741\n"
     ]
    }
   ],
   "execution_count": 156
  },
  {
   "metadata": {
    "ExecuteTime": {
     "end_time": "2024-10-26T17:42:17.845257Z",
     "start_time": "2024-10-26T17:42:17.830188Z"
    }
   },
   "cell_type": "code",
   "source": [
    "# Plot Line chart here\n",
    "\n",
    "trace1 = go.Scatter(x=performance.season, y=performance.total_runs, mode='lines+markers',\n",
    "                    marker={'color': '#b51c76', 'size': 12}, name='Virat Kohli')\n",
    "trace2 = go.Scatter(x=performance1.season, y=performance1.total_runs, mode='lines',\n",
    "                    marker={'color': '#bb8fce', 'size': 13}, name='MS Dhoni')\n",
    "\n",
    "data = [trace1, trace2]\n",
    "layout = go.Layout(title='Year by Year Performance',\n",
    "                   xaxis={'title': 'Season'},\n",
    "                   yaxis={'title': 'Total Runs'})\n",
    "\n",
    "fig = go.Figure(data=data, layout=layout)\n",
    "\n",
    "plotly.io.show(fig)"
   ],
   "id": "86190afb328ed817",
   "outputs": [
    {
     "data": {
      "application/vnd.plotly.v1+json": {
       "data": [
        {
         "marker": {
          "color": "#b51c76",
          "size": 12
         },
         "mode": "lines+markers",
         "name": "Virat Kohli",
         "x": [
          "2007/08",
          "2009",
          "2009/10",
          "2011",
          "2012",
          "2013",
          "2014",
          "2015",
          "2016",
          "2017",
          "2018",
          "2019",
          "2020/21",
          "2021",
          "2022",
          "2023",
          "2024"
         ],
         "y": [
          165,
          246,
          307,
          557,
          364,
          639,
          359,
          505,
          973,
          308,
          530,
          464,
          471,
          405,
          341,
          639,
          741
         ],
         "type": "scatter"
        },
        {
         "marker": {
          "color": "#bb8fce",
          "size": 13
         },
         "mode": "lines",
         "name": "MS Dhoni",
         "x": [
          "2007/08",
          "2009",
          "2009/10",
          "2011",
          "2012",
          "2013",
          "2014",
          "2015",
          "2016",
          "2017",
          "2018",
          "2019",
          "2020/21",
          "2021",
          "2022",
          "2023",
          "2024"
         ],
         "y": [
          414,
          332,
          287,
          392,
          358,
          461,
          371,
          372,
          284,
          290,
          455,
          416,
          200,
          114,
          232,
          104,
          161
         ],
         "type": "scatter"
        }
       ],
       "layout": {
        "title": {
         "text": "Year by Year Performance"
        },
        "xaxis": {
         "title": {
          "text": "Season"
         }
        },
        "yaxis": {
         "title": {
          "text": "Total Runs"
         }
        },
        "template": {
         "data": {
          "histogram2dcontour": [
           {
            "type": "histogram2dcontour",
            "colorbar": {
             "outlinewidth": 0,
             "ticks": ""
            },
            "colorscale": [
             [
              0.0,
              "#0d0887"
             ],
             [
              0.1111111111111111,
              "#46039f"
             ],
             [
              0.2222222222222222,
              "#7201a8"
             ],
             [
              0.3333333333333333,
              "#9c179e"
             ],
             [
              0.4444444444444444,
              "#bd3786"
             ],
             [
              0.5555555555555556,
              "#d8576b"
             ],
             [
              0.6666666666666666,
              "#ed7953"
             ],
             [
              0.7777777777777778,
              "#fb9f3a"
             ],
             [
              0.8888888888888888,
              "#fdca26"
             ],
             [
              1.0,
              "#f0f921"
             ]
            ]
           }
          ],
          "choropleth": [
           {
            "type": "choropleth",
            "colorbar": {
             "outlinewidth": 0,
             "ticks": ""
            }
           }
          ],
          "histogram2d": [
           {
            "type": "histogram2d",
            "colorbar": {
             "outlinewidth": 0,
             "ticks": ""
            },
            "colorscale": [
             [
              0.0,
              "#0d0887"
             ],
             [
              0.1111111111111111,
              "#46039f"
             ],
             [
              0.2222222222222222,
              "#7201a8"
             ],
             [
              0.3333333333333333,
              "#9c179e"
             ],
             [
              0.4444444444444444,
              "#bd3786"
             ],
             [
              0.5555555555555556,
              "#d8576b"
             ],
             [
              0.6666666666666666,
              "#ed7953"
             ],
             [
              0.7777777777777778,
              "#fb9f3a"
             ],
             [
              0.8888888888888888,
              "#fdca26"
             ],
             [
              1.0,
              "#f0f921"
             ]
            ]
           }
          ],
          "heatmap": [
           {
            "type": "heatmap",
            "colorbar": {
             "outlinewidth": 0,
             "ticks": ""
            },
            "colorscale": [
             [
              0.0,
              "#0d0887"
             ],
             [
              0.1111111111111111,
              "#46039f"
             ],
             [
              0.2222222222222222,
              "#7201a8"
             ],
             [
              0.3333333333333333,
              "#9c179e"
             ],
             [
              0.4444444444444444,
              "#bd3786"
             ],
             [
              0.5555555555555556,
              "#d8576b"
             ],
             [
              0.6666666666666666,
              "#ed7953"
             ],
             [
              0.7777777777777778,
              "#fb9f3a"
             ],
             [
              0.8888888888888888,
              "#fdca26"
             ],
             [
              1.0,
              "#f0f921"
             ]
            ]
           }
          ],
          "heatmapgl": [
           {
            "type": "heatmapgl",
            "colorbar": {
             "outlinewidth": 0,
             "ticks": ""
            },
            "colorscale": [
             [
              0.0,
              "#0d0887"
             ],
             [
              0.1111111111111111,
              "#46039f"
             ],
             [
              0.2222222222222222,
              "#7201a8"
             ],
             [
              0.3333333333333333,
              "#9c179e"
             ],
             [
              0.4444444444444444,
              "#bd3786"
             ],
             [
              0.5555555555555556,
              "#d8576b"
             ],
             [
              0.6666666666666666,
              "#ed7953"
             ],
             [
              0.7777777777777778,
              "#fb9f3a"
             ],
             [
              0.8888888888888888,
              "#fdca26"
             ],
             [
              1.0,
              "#f0f921"
             ]
            ]
           }
          ],
          "contourcarpet": [
           {
            "type": "contourcarpet",
            "colorbar": {
             "outlinewidth": 0,
             "ticks": ""
            }
           }
          ],
          "contour": [
           {
            "type": "contour",
            "colorbar": {
             "outlinewidth": 0,
             "ticks": ""
            },
            "colorscale": [
             [
              0.0,
              "#0d0887"
             ],
             [
              0.1111111111111111,
              "#46039f"
             ],
             [
              0.2222222222222222,
              "#7201a8"
             ],
             [
              0.3333333333333333,
              "#9c179e"
             ],
             [
              0.4444444444444444,
              "#bd3786"
             ],
             [
              0.5555555555555556,
              "#d8576b"
             ],
             [
              0.6666666666666666,
              "#ed7953"
             ],
             [
              0.7777777777777778,
              "#fb9f3a"
             ],
             [
              0.8888888888888888,
              "#fdca26"
             ],
             [
              1.0,
              "#f0f921"
             ]
            ]
           }
          ],
          "surface": [
           {
            "type": "surface",
            "colorbar": {
             "outlinewidth": 0,
             "ticks": ""
            },
            "colorscale": [
             [
              0.0,
              "#0d0887"
             ],
             [
              0.1111111111111111,
              "#46039f"
             ],
             [
              0.2222222222222222,
              "#7201a8"
             ],
             [
              0.3333333333333333,
              "#9c179e"
             ],
             [
              0.4444444444444444,
              "#bd3786"
             ],
             [
              0.5555555555555556,
              "#d8576b"
             ],
             [
              0.6666666666666666,
              "#ed7953"
             ],
             [
              0.7777777777777778,
              "#fb9f3a"
             ],
             [
              0.8888888888888888,
              "#fdca26"
             ],
             [
              1.0,
              "#f0f921"
             ]
            ]
           }
          ],
          "mesh3d": [
           {
            "type": "mesh3d",
            "colorbar": {
             "outlinewidth": 0,
             "ticks": ""
            }
           }
          ],
          "scatter": [
           {
            "fillpattern": {
             "fillmode": "overlay",
             "size": 10,
             "solidity": 0.2
            },
            "type": "scatter"
           }
          ],
          "parcoords": [
           {
            "type": "parcoords",
            "line": {
             "colorbar": {
              "outlinewidth": 0,
              "ticks": ""
             }
            }
           }
          ],
          "scatterpolargl": [
           {
            "type": "scatterpolargl",
            "marker": {
             "colorbar": {
              "outlinewidth": 0,
              "ticks": ""
             }
            }
           }
          ],
          "bar": [
           {
            "error_x": {
             "color": "#2a3f5f"
            },
            "error_y": {
             "color": "#2a3f5f"
            },
            "marker": {
             "line": {
              "color": "#E5ECF6",
              "width": 0.5
             },
             "pattern": {
              "fillmode": "overlay",
              "size": 10,
              "solidity": 0.2
             }
            },
            "type": "bar"
           }
          ],
          "scattergeo": [
           {
            "type": "scattergeo",
            "marker": {
             "colorbar": {
              "outlinewidth": 0,
              "ticks": ""
             }
            }
           }
          ],
          "scatterpolar": [
           {
            "type": "scatterpolar",
            "marker": {
             "colorbar": {
              "outlinewidth": 0,
              "ticks": ""
             }
            }
           }
          ],
          "histogram": [
           {
            "marker": {
             "pattern": {
              "fillmode": "overlay",
              "size": 10,
              "solidity": 0.2
             }
            },
            "type": "histogram"
           }
          ],
          "scattergl": [
           {
            "type": "scattergl",
            "marker": {
             "colorbar": {
              "outlinewidth": 0,
              "ticks": ""
             }
            }
           }
          ],
          "scatter3d": [
           {
            "type": "scatter3d",
            "line": {
             "colorbar": {
              "outlinewidth": 0,
              "ticks": ""
             }
            },
            "marker": {
             "colorbar": {
              "outlinewidth": 0,
              "ticks": ""
             }
            }
           }
          ],
          "scattermapbox": [
           {
            "type": "scattermapbox",
            "marker": {
             "colorbar": {
              "outlinewidth": 0,
              "ticks": ""
             }
            }
           }
          ],
          "scatterternary": [
           {
            "type": "scatterternary",
            "marker": {
             "colorbar": {
              "outlinewidth": 0,
              "ticks": ""
             }
            }
           }
          ],
          "scattercarpet": [
           {
            "type": "scattercarpet",
            "marker": {
             "colorbar": {
              "outlinewidth": 0,
              "ticks": ""
             }
            }
           }
          ],
          "carpet": [
           {
            "aaxis": {
             "endlinecolor": "#2a3f5f",
             "gridcolor": "white",
             "linecolor": "white",
             "minorgridcolor": "white",
             "startlinecolor": "#2a3f5f"
            },
            "baxis": {
             "endlinecolor": "#2a3f5f",
             "gridcolor": "white",
             "linecolor": "white",
             "minorgridcolor": "white",
             "startlinecolor": "#2a3f5f"
            },
            "type": "carpet"
           }
          ],
          "table": [
           {
            "cells": {
             "fill": {
              "color": "#EBF0F8"
             },
             "line": {
              "color": "white"
             }
            },
            "header": {
             "fill": {
              "color": "#C8D4E3"
             },
             "line": {
              "color": "white"
             }
            },
            "type": "table"
           }
          ],
          "barpolar": [
           {
            "marker": {
             "line": {
              "color": "#E5ECF6",
              "width": 0.5
             },
             "pattern": {
              "fillmode": "overlay",
              "size": 10,
              "solidity": 0.2
             }
            },
            "type": "barpolar"
           }
          ],
          "pie": [
           {
            "automargin": true,
            "type": "pie"
           }
          ]
         },
         "layout": {
          "autotypenumbers": "strict",
          "colorway": [
           "#636efa",
           "#EF553B",
           "#00cc96",
           "#ab63fa",
           "#FFA15A",
           "#19d3f3",
           "#FF6692",
           "#B6E880",
           "#FF97FF",
           "#FECB52"
          ],
          "font": {
           "color": "#2a3f5f"
          },
          "hovermode": "closest",
          "hoverlabel": {
           "align": "left"
          },
          "paper_bgcolor": "white",
          "plot_bgcolor": "#E5ECF6",
          "polar": {
           "bgcolor": "#E5ECF6",
           "angularaxis": {
            "gridcolor": "white",
            "linecolor": "white",
            "ticks": ""
           },
           "radialaxis": {
            "gridcolor": "white",
            "linecolor": "white",
            "ticks": ""
           }
          },
          "ternary": {
           "bgcolor": "#E5ECF6",
           "aaxis": {
            "gridcolor": "white",
            "linecolor": "white",
            "ticks": ""
           },
           "baxis": {
            "gridcolor": "white",
            "linecolor": "white",
            "ticks": ""
           },
           "caxis": {
            "gridcolor": "white",
            "linecolor": "white",
            "ticks": ""
           }
          },
          "coloraxis": {
           "colorbar": {
            "outlinewidth": 0,
            "ticks": ""
           }
          },
          "colorscale": {
           "sequential": [
            [
             0.0,
             "#0d0887"
            ],
            [
             0.1111111111111111,
             "#46039f"
            ],
            [
             0.2222222222222222,
             "#7201a8"
            ],
            [
             0.3333333333333333,
             "#9c179e"
            ],
            [
             0.4444444444444444,
             "#bd3786"
            ],
            [
             0.5555555555555556,
             "#d8576b"
            ],
            [
             0.6666666666666666,
             "#ed7953"
            ],
            [
             0.7777777777777778,
             "#fb9f3a"
            ],
            [
             0.8888888888888888,
             "#fdca26"
            ],
            [
             1.0,
             "#f0f921"
            ]
           ],
           "sequentialminus": [
            [
             0.0,
             "#0d0887"
            ],
            [
             0.1111111111111111,
             "#46039f"
            ],
            [
             0.2222222222222222,
             "#7201a8"
            ],
            [
             0.3333333333333333,
             "#9c179e"
            ],
            [
             0.4444444444444444,
             "#bd3786"
            ],
            [
             0.5555555555555556,
             "#d8576b"
            ],
            [
             0.6666666666666666,
             "#ed7953"
            ],
            [
             0.7777777777777778,
             "#fb9f3a"
            ],
            [
             0.8888888888888888,
             "#fdca26"
            ],
            [
             1.0,
             "#f0f921"
            ]
           ],
           "diverging": [
            [
             0,
             "#8e0152"
            ],
            [
             0.1,
             "#c51b7d"
            ],
            [
             0.2,
             "#de77ae"
            ],
            [
             0.3,
             "#f1b6da"
            ],
            [
             0.4,
             "#fde0ef"
            ],
            [
             0.5,
             "#f7f7f7"
            ],
            [
             0.6,
             "#e6f5d0"
            ],
            [
             0.7,
             "#b8e186"
            ],
            [
             0.8,
             "#7fbc41"
            ],
            [
             0.9,
             "#4d9221"
            ],
            [
             1,
             "#276419"
            ]
           ]
          },
          "xaxis": {
           "gridcolor": "white",
           "linecolor": "white",
           "ticks": "",
           "title": {
            "standoff": 15
           },
           "zerolinecolor": "white",
           "automargin": true,
           "zerolinewidth": 2
          },
          "yaxis": {
           "gridcolor": "white",
           "linecolor": "white",
           "ticks": "",
           "title": {
            "standoff": 15
           },
           "zerolinecolor": "white",
           "automargin": true,
           "zerolinewidth": 2
          },
          "scene": {
           "xaxis": {
            "backgroundcolor": "#E5ECF6",
            "gridcolor": "white",
            "linecolor": "white",
            "showbackground": true,
            "ticks": "",
            "zerolinecolor": "white",
            "gridwidth": 2
           },
           "yaxis": {
            "backgroundcolor": "#E5ECF6",
            "gridcolor": "white",
            "linecolor": "white",
            "showbackground": true,
            "ticks": "",
            "zerolinecolor": "white",
            "gridwidth": 2
           },
           "zaxis": {
            "backgroundcolor": "#E5ECF6",
            "gridcolor": "white",
            "linecolor": "white",
            "showbackground": true,
            "ticks": "",
            "zerolinecolor": "white",
            "gridwidth": 2
           }
          },
          "shapedefaults": {
           "line": {
            "color": "#2a3f5f"
           }
          },
          "annotationdefaults": {
           "arrowcolor": "#2a3f5f",
           "arrowhead": 0,
           "arrowwidth": 1
          },
          "geo": {
           "bgcolor": "white",
           "landcolor": "#E5ECF6",
           "subunitcolor": "white",
           "showland": true,
           "showlakes": true,
           "lakecolor": "white"
          },
          "title": {
           "x": 0.05
          },
          "mapbox": {
           "style": "light"
          }
         }
        }
       },
       "config": {
        "plotlyServerURL": "https://plot.ly"
       }
      },
      "text/html": [
       "<div>                            <div id=\"d8519e4f-ac0b-403e-a0e4-d4bebf294161\" class=\"plotly-graph-div\" style=\"height:525px; width:100%;\"></div>            <script type=\"text/javascript\">                require([\"plotly\"], function(Plotly) {                    window.PLOTLYENV=window.PLOTLYENV || {};                                    if (document.getElementById(\"d8519e4f-ac0b-403e-a0e4-d4bebf294161\")) {                    Plotly.newPlot(                        \"d8519e4f-ac0b-403e-a0e4-d4bebf294161\",                        [{\"marker\":{\"color\":\"#b51c76\",\"size\":12},\"mode\":\"lines+markers\",\"name\":\"Virat Kohli\",\"x\":[\"2007\\u002f08\",\"2009\",\"2009\\u002f10\",\"2011\",\"2012\",\"2013\",\"2014\",\"2015\",\"2016\",\"2017\",\"2018\",\"2019\",\"2020\\u002f21\",\"2021\",\"2022\",\"2023\",\"2024\"],\"y\":[165,246,307,557,364,639,359,505,973,308,530,464,471,405,341,639,741],\"type\":\"scatter\"},{\"marker\":{\"color\":\"#bb8fce\",\"size\":13},\"mode\":\"lines\",\"name\":\"MS Dhoni\",\"x\":[\"2007\\u002f08\",\"2009\",\"2009\\u002f10\",\"2011\",\"2012\",\"2013\",\"2014\",\"2015\",\"2016\",\"2017\",\"2018\",\"2019\",\"2020\\u002f21\",\"2021\",\"2022\",\"2023\",\"2024\"],\"y\":[414,332,287,392,358,461,371,372,284,290,455,416,200,114,232,104,161],\"type\":\"scatter\"}],                        {\"title\":{\"text\":\"Year by Year Performance\"},\"xaxis\":{\"title\":{\"text\":\"Season\"}},\"yaxis\":{\"title\":{\"text\":\"Total Runs\"}},\"template\":{\"data\":{\"histogram2dcontour\":[{\"type\":\"histogram2dcontour\",\"colorbar\":{\"outlinewidth\":0,\"ticks\":\"\"},\"colorscale\":[[0.0,\"#0d0887\"],[0.1111111111111111,\"#46039f\"],[0.2222222222222222,\"#7201a8\"],[0.3333333333333333,\"#9c179e\"],[0.4444444444444444,\"#bd3786\"],[0.5555555555555556,\"#d8576b\"],[0.6666666666666666,\"#ed7953\"],[0.7777777777777778,\"#fb9f3a\"],[0.8888888888888888,\"#fdca26\"],[1.0,\"#f0f921\"]]}],\"choropleth\":[{\"type\":\"choropleth\",\"colorbar\":{\"outlinewidth\":0,\"ticks\":\"\"}}],\"histogram2d\":[{\"type\":\"histogram2d\",\"colorbar\":{\"outlinewidth\":0,\"ticks\":\"\"},\"colorscale\":[[0.0,\"#0d0887\"],[0.1111111111111111,\"#46039f\"],[0.2222222222222222,\"#7201a8\"],[0.3333333333333333,\"#9c179e\"],[0.4444444444444444,\"#bd3786\"],[0.5555555555555556,\"#d8576b\"],[0.6666666666666666,\"#ed7953\"],[0.7777777777777778,\"#fb9f3a\"],[0.8888888888888888,\"#fdca26\"],[1.0,\"#f0f921\"]]}],\"heatmap\":[{\"type\":\"heatmap\",\"colorbar\":{\"outlinewidth\":0,\"ticks\":\"\"},\"colorscale\":[[0.0,\"#0d0887\"],[0.1111111111111111,\"#46039f\"],[0.2222222222222222,\"#7201a8\"],[0.3333333333333333,\"#9c179e\"],[0.4444444444444444,\"#bd3786\"],[0.5555555555555556,\"#d8576b\"],[0.6666666666666666,\"#ed7953\"],[0.7777777777777778,\"#fb9f3a\"],[0.8888888888888888,\"#fdca26\"],[1.0,\"#f0f921\"]]}],\"heatmapgl\":[{\"type\":\"heatmapgl\",\"colorbar\":{\"outlinewidth\":0,\"ticks\":\"\"},\"colorscale\":[[0.0,\"#0d0887\"],[0.1111111111111111,\"#46039f\"],[0.2222222222222222,\"#7201a8\"],[0.3333333333333333,\"#9c179e\"],[0.4444444444444444,\"#bd3786\"],[0.5555555555555556,\"#d8576b\"],[0.6666666666666666,\"#ed7953\"],[0.7777777777777778,\"#fb9f3a\"],[0.8888888888888888,\"#fdca26\"],[1.0,\"#f0f921\"]]}],\"contourcarpet\":[{\"type\":\"contourcarpet\",\"colorbar\":{\"outlinewidth\":0,\"ticks\":\"\"}}],\"contour\":[{\"type\":\"contour\",\"colorbar\":{\"outlinewidth\":0,\"ticks\":\"\"},\"colorscale\":[[0.0,\"#0d0887\"],[0.1111111111111111,\"#46039f\"],[0.2222222222222222,\"#7201a8\"],[0.3333333333333333,\"#9c179e\"],[0.4444444444444444,\"#bd3786\"],[0.5555555555555556,\"#d8576b\"],[0.6666666666666666,\"#ed7953\"],[0.7777777777777778,\"#fb9f3a\"],[0.8888888888888888,\"#fdca26\"],[1.0,\"#f0f921\"]]}],\"surface\":[{\"type\":\"surface\",\"colorbar\":{\"outlinewidth\":0,\"ticks\":\"\"},\"colorscale\":[[0.0,\"#0d0887\"],[0.1111111111111111,\"#46039f\"],[0.2222222222222222,\"#7201a8\"],[0.3333333333333333,\"#9c179e\"],[0.4444444444444444,\"#bd3786\"],[0.5555555555555556,\"#d8576b\"],[0.6666666666666666,\"#ed7953\"],[0.7777777777777778,\"#fb9f3a\"],[0.8888888888888888,\"#fdca26\"],[1.0,\"#f0f921\"]]}],\"mesh3d\":[{\"type\":\"mesh3d\",\"colorbar\":{\"outlinewidth\":0,\"ticks\":\"\"}}],\"scatter\":[{\"fillpattern\":{\"fillmode\":\"overlay\",\"size\":10,\"solidity\":0.2},\"type\":\"scatter\"}],\"parcoords\":[{\"type\":\"parcoords\",\"line\":{\"colorbar\":{\"outlinewidth\":0,\"ticks\":\"\"}}}],\"scatterpolargl\":[{\"type\":\"scatterpolargl\",\"marker\":{\"colorbar\":{\"outlinewidth\":0,\"ticks\":\"\"}}}],\"bar\":[{\"error_x\":{\"color\":\"#2a3f5f\"},\"error_y\":{\"color\":\"#2a3f5f\"},\"marker\":{\"line\":{\"color\":\"#E5ECF6\",\"width\":0.5},\"pattern\":{\"fillmode\":\"overlay\",\"size\":10,\"solidity\":0.2}},\"type\":\"bar\"}],\"scattergeo\":[{\"type\":\"scattergeo\",\"marker\":{\"colorbar\":{\"outlinewidth\":0,\"ticks\":\"\"}}}],\"scatterpolar\":[{\"type\":\"scatterpolar\",\"marker\":{\"colorbar\":{\"outlinewidth\":0,\"ticks\":\"\"}}}],\"histogram\":[{\"marker\":{\"pattern\":{\"fillmode\":\"overlay\",\"size\":10,\"solidity\":0.2}},\"type\":\"histogram\"}],\"scattergl\":[{\"type\":\"scattergl\",\"marker\":{\"colorbar\":{\"outlinewidth\":0,\"ticks\":\"\"}}}],\"scatter3d\":[{\"type\":\"scatter3d\",\"line\":{\"colorbar\":{\"outlinewidth\":0,\"ticks\":\"\"}},\"marker\":{\"colorbar\":{\"outlinewidth\":0,\"ticks\":\"\"}}}],\"scattermapbox\":[{\"type\":\"scattermapbox\",\"marker\":{\"colorbar\":{\"outlinewidth\":0,\"ticks\":\"\"}}}],\"scatterternary\":[{\"type\":\"scatterternary\",\"marker\":{\"colorbar\":{\"outlinewidth\":0,\"ticks\":\"\"}}}],\"scattercarpet\":[{\"type\":\"scattercarpet\",\"marker\":{\"colorbar\":{\"outlinewidth\":0,\"ticks\":\"\"}}}],\"carpet\":[{\"aaxis\":{\"endlinecolor\":\"#2a3f5f\",\"gridcolor\":\"white\",\"linecolor\":\"white\",\"minorgridcolor\":\"white\",\"startlinecolor\":\"#2a3f5f\"},\"baxis\":{\"endlinecolor\":\"#2a3f5f\",\"gridcolor\":\"white\",\"linecolor\":\"white\",\"minorgridcolor\":\"white\",\"startlinecolor\":\"#2a3f5f\"},\"type\":\"carpet\"}],\"table\":[{\"cells\":{\"fill\":{\"color\":\"#EBF0F8\"},\"line\":{\"color\":\"white\"}},\"header\":{\"fill\":{\"color\":\"#C8D4E3\"},\"line\":{\"color\":\"white\"}},\"type\":\"table\"}],\"barpolar\":[{\"marker\":{\"line\":{\"color\":\"#E5ECF6\",\"width\":0.5},\"pattern\":{\"fillmode\":\"overlay\",\"size\":10,\"solidity\":0.2}},\"type\":\"barpolar\"}],\"pie\":[{\"automargin\":true,\"type\":\"pie\"}]},\"layout\":{\"autotypenumbers\":\"strict\",\"colorway\":[\"#636efa\",\"#EF553B\",\"#00cc96\",\"#ab63fa\",\"#FFA15A\",\"#19d3f3\",\"#FF6692\",\"#B6E880\",\"#FF97FF\",\"#FECB52\"],\"font\":{\"color\":\"#2a3f5f\"},\"hovermode\":\"closest\",\"hoverlabel\":{\"align\":\"left\"},\"paper_bgcolor\":\"white\",\"plot_bgcolor\":\"#E5ECF6\",\"polar\":{\"bgcolor\":\"#E5ECF6\",\"angularaxis\":{\"gridcolor\":\"white\",\"linecolor\":\"white\",\"ticks\":\"\"},\"radialaxis\":{\"gridcolor\":\"white\",\"linecolor\":\"white\",\"ticks\":\"\"}},\"ternary\":{\"bgcolor\":\"#E5ECF6\",\"aaxis\":{\"gridcolor\":\"white\",\"linecolor\":\"white\",\"ticks\":\"\"},\"baxis\":{\"gridcolor\":\"white\",\"linecolor\":\"white\",\"ticks\":\"\"},\"caxis\":{\"gridcolor\":\"white\",\"linecolor\":\"white\",\"ticks\":\"\"}},\"coloraxis\":{\"colorbar\":{\"outlinewidth\":0,\"ticks\":\"\"}},\"colorscale\":{\"sequential\":[[0.0,\"#0d0887\"],[0.1111111111111111,\"#46039f\"],[0.2222222222222222,\"#7201a8\"],[0.3333333333333333,\"#9c179e\"],[0.4444444444444444,\"#bd3786\"],[0.5555555555555556,\"#d8576b\"],[0.6666666666666666,\"#ed7953\"],[0.7777777777777778,\"#fb9f3a\"],[0.8888888888888888,\"#fdca26\"],[1.0,\"#f0f921\"]],\"sequentialminus\":[[0.0,\"#0d0887\"],[0.1111111111111111,\"#46039f\"],[0.2222222222222222,\"#7201a8\"],[0.3333333333333333,\"#9c179e\"],[0.4444444444444444,\"#bd3786\"],[0.5555555555555556,\"#d8576b\"],[0.6666666666666666,\"#ed7953\"],[0.7777777777777778,\"#fb9f3a\"],[0.8888888888888888,\"#fdca26\"],[1.0,\"#f0f921\"]],\"diverging\":[[0,\"#8e0152\"],[0.1,\"#c51b7d\"],[0.2,\"#de77ae\"],[0.3,\"#f1b6da\"],[0.4,\"#fde0ef\"],[0.5,\"#f7f7f7\"],[0.6,\"#e6f5d0\"],[0.7,\"#b8e186\"],[0.8,\"#7fbc41\"],[0.9,\"#4d9221\"],[1,\"#276419\"]]},\"xaxis\":{\"gridcolor\":\"white\",\"linecolor\":\"white\",\"ticks\":\"\",\"title\":{\"standoff\":15},\"zerolinecolor\":\"white\",\"automargin\":true,\"zerolinewidth\":2},\"yaxis\":{\"gridcolor\":\"white\",\"linecolor\":\"white\",\"ticks\":\"\",\"title\":{\"standoff\":15},\"zerolinecolor\":\"white\",\"automargin\":true,\"zerolinewidth\":2},\"scene\":{\"xaxis\":{\"backgroundcolor\":\"#E5ECF6\",\"gridcolor\":\"white\",\"linecolor\":\"white\",\"showbackground\":true,\"ticks\":\"\",\"zerolinecolor\":\"white\",\"gridwidth\":2},\"yaxis\":{\"backgroundcolor\":\"#E5ECF6\",\"gridcolor\":\"white\",\"linecolor\":\"white\",\"showbackground\":true,\"ticks\":\"\",\"zerolinecolor\":\"white\",\"gridwidth\":2},\"zaxis\":{\"backgroundcolor\":\"#E5ECF6\",\"gridcolor\":\"white\",\"linecolor\":\"white\",\"showbackground\":true,\"ticks\":\"\",\"zerolinecolor\":\"white\",\"gridwidth\":2}},\"shapedefaults\":{\"line\":{\"color\":\"#2a3f5f\"}},\"annotationdefaults\":{\"arrowcolor\":\"#2a3f5f\",\"arrowhead\":0,\"arrowwidth\":1},\"geo\":{\"bgcolor\":\"white\",\"landcolor\":\"#E5ECF6\",\"subunitcolor\":\"white\",\"showland\":true,\"showlakes\":true,\"lakecolor\":\"white\"},\"title\":{\"x\":0.05},\"mapbox\":{\"style\":\"light\"}}}},                        {\"responsive\": true}                    ).then(function(){\n",
       "                            \n",
       "var gd = document.getElementById('d8519e4f-ac0b-403e-a0e4-d4bebf294161');\n",
       "var x = new MutationObserver(function (mutations, observer) {{\n",
       "        var display = window.getComputedStyle(gd).display;\n",
       "        if (!display || display === 'none') {{\n",
       "            console.log([gd, 'removed!']);\n",
       "            Plotly.purge(gd);\n",
       "            observer.disconnect();\n",
       "        }}\n",
       "}});\n",
       "\n",
       "// Listen for the removal of the full notebook cells\n",
       "var notebookContainer = gd.closest('#notebook-container');\n",
       "if (notebookContainer) {{\n",
       "    x.observe(notebookContainer, {childList: true});\n",
       "}}\n",
       "\n",
       "// Listen for the clearing of the current output cell\n",
       "var outputEl = gd.closest('.output');\n",
       "if (outputEl) {{\n",
       "    x.observe(outputEl, {childList: true});\n",
       "}}\n",
       "\n",
       "                        })                };                });            </script>        </div>"
      ]
     },
     "metadata": {},
     "output_type": "display_data"
    }
   ],
   "execution_count": 157
  },
  {
   "metadata": {
    "ExecuteTime": {
     "end_time": "2024-10-26T17:42:17.853272Z",
     "start_time": "2024-10-26T17:42:17.846264Z"
    }
   },
   "cell_type": "code",
   "source": [
    "# Multiple Line Charts\n",
    "\n",
    "def batsman_comp(*name):\n",
    "    data = []\n",
    "    for i in name:\n",
    "        single = ipl.query(f'batter == \"{i}\"')\n",
    "        performance = single.groupby('season')['batsman_runs'].sum().reset_index()\n",
    "\n",
    "        trace = go.Scatter(x=performance.season, y=performance.batsman_runs, mode='lines + markers', name=i)\n",
    "\n",
    "        data.append(trace)\n",
    "    layout = go.Layout(title='Batsman Record Comparator',\n",
    "                       xaxis={'title': 'Season'},\n",
    "                       yaxis={'title': 'Runs'})\n",
    "\n",
    "    fig = go.Figure(data=data, layout=layout)\n",
    "\n",
    "    plotly.io.show(fig)\n",
    "\n",
    "# def batsman_comp(*name):\n",
    "#     data=[]\n",
    "#     for i in name:\n",
    "#         single=ipl[ipl['batsman']==i]\n",
    "#         performance=single.groupby('season')['batsman_runs'].sum().reset_index()\n",
    "# \n",
    "#         trace=go.Scatter(x=performance['season'],y=performance['batsman_runs']\n",
    "#                          ,mode='lines + markers',name=i)\n",
    "#         \n",
    "#         data.append(trace)\n",
    "#     \n",
    "#     layout=go.Layout(title='Batsman Record Comparator',\n",
    "#                 xaxis={'title':'Season'},\n",
    "#                 yaxis={'title':'Runs'})\n",
    "# \n",
    "#     fig=go.Figure(data=data,layout=layout)\n",
    "# \n",
    "#     pyo.plot(fig,filename='year_by_year')"
   ],
   "id": "3de50bb8b0731007",
   "outputs": [],
   "execution_count": 158
  },
  {
   "metadata": {
    "ExecuteTime": {
     "end_time": "2024-10-26T17:42:17.930984Z",
     "start_time": "2024-10-26T17:42:17.854278Z"
    }
   },
   "cell_type": "code",
   "source": "batsman_comp('V Kohli', 'RG Sharma', 'DA Warner', 'MS Dhoni')",
   "id": "7d9d20230160152b",
   "outputs": [
    {
     "data": {
      "application/vnd.plotly.v1+json": {
       "data": [
        {
         "mode": "lines+markers",
         "name": "V Kohli",
         "x": [
          "2007/08",
          "2009",
          "2009/10",
          "2011",
          "2012",
          "2013",
          "2014",
          "2015",
          "2016",
          "2017",
          "2018",
          "2019",
          "2020/21",
          "2021",
          "2022",
          "2023",
          "2024"
         ],
         "y": [
          165,
          246,
          307,
          557,
          364,
          639,
          359,
          505,
          973,
          308,
          530,
          464,
          471,
          405,
          341,
          639,
          741
         ],
         "type": "scatter"
        },
        {
         "mode": "lines+markers",
         "name": "RG Sharma",
         "x": [
          "2007/08",
          "2009",
          "2009/10",
          "2011",
          "2012",
          "2013",
          "2014",
          "2015",
          "2016",
          "2017",
          "2018",
          "2019",
          "2020/21",
          "2021",
          "2022",
          "2023",
          "2024"
         ],
         "y": [
          404,
          362,
          404,
          372,
          433,
          538,
          390,
          482,
          489,
          333,
          286,
          405,
          334,
          381,
          268,
          332,
          417
         ],
         "type": "scatter"
        },
        {
         "mode": "lines+markers",
         "name": "DA Warner",
         "x": [
          "2009",
          "2009/10",
          "2011",
          "2012",
          "2013",
          "2014",
          "2015",
          "2016",
          "2017",
          "2019",
          "2020/21",
          "2021",
          "2022",
          "2023",
          "2024"
         ],
         "y": [
          163,
          282,
          324,
          256,
          410,
          528,
          562,
          848,
          641,
          692,
          548,
          197,
          432,
          516,
          168
         ],
         "type": "scatter"
        },
        {
         "mode": "lines+markers",
         "name": "MS Dhoni",
         "x": [
          "2007/08",
          "2009",
          "2009/10",
          "2011",
          "2012",
          "2013",
          "2014",
          "2015",
          "2016",
          "2017",
          "2018",
          "2019",
          "2020/21",
          "2021",
          "2022",
          "2023",
          "2024"
         ],
         "y": [
          414,
          332,
          287,
          392,
          358,
          461,
          371,
          372,
          284,
          290,
          455,
          416,
          200,
          114,
          232,
          104,
          161
         ],
         "type": "scatter"
        }
       ],
       "layout": {
        "title": {
         "text": "Batsman Record Comparator"
        },
        "xaxis": {
         "title": {
          "text": "Season"
         }
        },
        "yaxis": {
         "title": {
          "text": "Runs"
         }
        },
        "template": {
         "data": {
          "histogram2dcontour": [
           {
            "type": "histogram2dcontour",
            "colorbar": {
             "outlinewidth": 0,
             "ticks": ""
            },
            "colorscale": [
             [
              0.0,
              "#0d0887"
             ],
             [
              0.1111111111111111,
              "#46039f"
             ],
             [
              0.2222222222222222,
              "#7201a8"
             ],
             [
              0.3333333333333333,
              "#9c179e"
             ],
             [
              0.4444444444444444,
              "#bd3786"
             ],
             [
              0.5555555555555556,
              "#d8576b"
             ],
             [
              0.6666666666666666,
              "#ed7953"
             ],
             [
              0.7777777777777778,
              "#fb9f3a"
             ],
             [
              0.8888888888888888,
              "#fdca26"
             ],
             [
              1.0,
              "#f0f921"
             ]
            ]
           }
          ],
          "choropleth": [
           {
            "type": "choropleth",
            "colorbar": {
             "outlinewidth": 0,
             "ticks": ""
            }
           }
          ],
          "histogram2d": [
           {
            "type": "histogram2d",
            "colorbar": {
             "outlinewidth": 0,
             "ticks": ""
            },
            "colorscale": [
             [
              0.0,
              "#0d0887"
             ],
             [
              0.1111111111111111,
              "#46039f"
             ],
             [
              0.2222222222222222,
              "#7201a8"
             ],
             [
              0.3333333333333333,
              "#9c179e"
             ],
             [
              0.4444444444444444,
              "#bd3786"
             ],
             [
              0.5555555555555556,
              "#d8576b"
             ],
             [
              0.6666666666666666,
              "#ed7953"
             ],
             [
              0.7777777777777778,
              "#fb9f3a"
             ],
             [
              0.8888888888888888,
              "#fdca26"
             ],
             [
              1.0,
              "#f0f921"
             ]
            ]
           }
          ],
          "heatmap": [
           {
            "type": "heatmap",
            "colorbar": {
             "outlinewidth": 0,
             "ticks": ""
            },
            "colorscale": [
             [
              0.0,
              "#0d0887"
             ],
             [
              0.1111111111111111,
              "#46039f"
             ],
             [
              0.2222222222222222,
              "#7201a8"
             ],
             [
              0.3333333333333333,
              "#9c179e"
             ],
             [
              0.4444444444444444,
              "#bd3786"
             ],
             [
              0.5555555555555556,
              "#d8576b"
             ],
             [
              0.6666666666666666,
              "#ed7953"
             ],
             [
              0.7777777777777778,
              "#fb9f3a"
             ],
             [
              0.8888888888888888,
              "#fdca26"
             ],
             [
              1.0,
              "#f0f921"
             ]
            ]
           }
          ],
          "heatmapgl": [
           {
            "type": "heatmapgl",
            "colorbar": {
             "outlinewidth": 0,
             "ticks": ""
            },
            "colorscale": [
             [
              0.0,
              "#0d0887"
             ],
             [
              0.1111111111111111,
              "#46039f"
             ],
             [
              0.2222222222222222,
              "#7201a8"
             ],
             [
              0.3333333333333333,
              "#9c179e"
             ],
             [
              0.4444444444444444,
              "#bd3786"
             ],
             [
              0.5555555555555556,
              "#d8576b"
             ],
             [
              0.6666666666666666,
              "#ed7953"
             ],
             [
              0.7777777777777778,
              "#fb9f3a"
             ],
             [
              0.8888888888888888,
              "#fdca26"
             ],
             [
              1.0,
              "#f0f921"
             ]
            ]
           }
          ],
          "contourcarpet": [
           {
            "type": "contourcarpet",
            "colorbar": {
             "outlinewidth": 0,
             "ticks": ""
            }
           }
          ],
          "contour": [
           {
            "type": "contour",
            "colorbar": {
             "outlinewidth": 0,
             "ticks": ""
            },
            "colorscale": [
             [
              0.0,
              "#0d0887"
             ],
             [
              0.1111111111111111,
              "#46039f"
             ],
             [
              0.2222222222222222,
              "#7201a8"
             ],
             [
              0.3333333333333333,
              "#9c179e"
             ],
             [
              0.4444444444444444,
              "#bd3786"
             ],
             [
              0.5555555555555556,
              "#d8576b"
             ],
             [
              0.6666666666666666,
              "#ed7953"
             ],
             [
              0.7777777777777778,
              "#fb9f3a"
             ],
             [
              0.8888888888888888,
              "#fdca26"
             ],
             [
              1.0,
              "#f0f921"
             ]
            ]
           }
          ],
          "surface": [
           {
            "type": "surface",
            "colorbar": {
             "outlinewidth": 0,
             "ticks": ""
            },
            "colorscale": [
             [
              0.0,
              "#0d0887"
             ],
             [
              0.1111111111111111,
              "#46039f"
             ],
             [
              0.2222222222222222,
              "#7201a8"
             ],
             [
              0.3333333333333333,
              "#9c179e"
             ],
             [
              0.4444444444444444,
              "#bd3786"
             ],
             [
              0.5555555555555556,
              "#d8576b"
             ],
             [
              0.6666666666666666,
              "#ed7953"
             ],
             [
              0.7777777777777778,
              "#fb9f3a"
             ],
             [
              0.8888888888888888,
              "#fdca26"
             ],
             [
              1.0,
              "#f0f921"
             ]
            ]
           }
          ],
          "mesh3d": [
           {
            "type": "mesh3d",
            "colorbar": {
             "outlinewidth": 0,
             "ticks": ""
            }
           }
          ],
          "scatter": [
           {
            "fillpattern": {
             "fillmode": "overlay",
             "size": 10,
             "solidity": 0.2
            },
            "type": "scatter"
           }
          ],
          "parcoords": [
           {
            "type": "parcoords",
            "line": {
             "colorbar": {
              "outlinewidth": 0,
              "ticks": ""
             }
            }
           }
          ],
          "scatterpolargl": [
           {
            "type": "scatterpolargl",
            "marker": {
             "colorbar": {
              "outlinewidth": 0,
              "ticks": ""
             }
            }
           }
          ],
          "bar": [
           {
            "error_x": {
             "color": "#2a3f5f"
            },
            "error_y": {
             "color": "#2a3f5f"
            },
            "marker": {
             "line": {
              "color": "#E5ECF6",
              "width": 0.5
             },
             "pattern": {
              "fillmode": "overlay",
              "size": 10,
              "solidity": 0.2
             }
            },
            "type": "bar"
           }
          ],
          "scattergeo": [
           {
            "type": "scattergeo",
            "marker": {
             "colorbar": {
              "outlinewidth": 0,
              "ticks": ""
             }
            }
           }
          ],
          "scatterpolar": [
           {
            "type": "scatterpolar",
            "marker": {
             "colorbar": {
              "outlinewidth": 0,
              "ticks": ""
             }
            }
           }
          ],
          "histogram": [
           {
            "marker": {
             "pattern": {
              "fillmode": "overlay",
              "size": 10,
              "solidity": 0.2
             }
            },
            "type": "histogram"
           }
          ],
          "scattergl": [
           {
            "type": "scattergl",
            "marker": {
             "colorbar": {
              "outlinewidth": 0,
              "ticks": ""
             }
            }
           }
          ],
          "scatter3d": [
           {
            "type": "scatter3d",
            "line": {
             "colorbar": {
              "outlinewidth": 0,
              "ticks": ""
             }
            },
            "marker": {
             "colorbar": {
              "outlinewidth": 0,
              "ticks": ""
             }
            }
           }
          ],
          "scattermapbox": [
           {
            "type": "scattermapbox",
            "marker": {
             "colorbar": {
              "outlinewidth": 0,
              "ticks": ""
             }
            }
           }
          ],
          "scatterternary": [
           {
            "type": "scatterternary",
            "marker": {
             "colorbar": {
              "outlinewidth": 0,
              "ticks": ""
             }
            }
           }
          ],
          "scattercarpet": [
           {
            "type": "scattercarpet",
            "marker": {
             "colorbar": {
              "outlinewidth": 0,
              "ticks": ""
             }
            }
           }
          ],
          "carpet": [
           {
            "aaxis": {
             "endlinecolor": "#2a3f5f",
             "gridcolor": "white",
             "linecolor": "white",
             "minorgridcolor": "white",
             "startlinecolor": "#2a3f5f"
            },
            "baxis": {
             "endlinecolor": "#2a3f5f",
             "gridcolor": "white",
             "linecolor": "white",
             "minorgridcolor": "white",
             "startlinecolor": "#2a3f5f"
            },
            "type": "carpet"
           }
          ],
          "table": [
           {
            "cells": {
             "fill": {
              "color": "#EBF0F8"
             },
             "line": {
              "color": "white"
             }
            },
            "header": {
             "fill": {
              "color": "#C8D4E3"
             },
             "line": {
              "color": "white"
             }
            },
            "type": "table"
           }
          ],
          "barpolar": [
           {
            "marker": {
             "line": {
              "color": "#E5ECF6",
              "width": 0.5
             },
             "pattern": {
              "fillmode": "overlay",
              "size": 10,
              "solidity": 0.2
             }
            },
            "type": "barpolar"
           }
          ],
          "pie": [
           {
            "automargin": true,
            "type": "pie"
           }
          ]
         },
         "layout": {
          "autotypenumbers": "strict",
          "colorway": [
           "#636efa",
           "#EF553B",
           "#00cc96",
           "#ab63fa",
           "#FFA15A",
           "#19d3f3",
           "#FF6692",
           "#B6E880",
           "#FF97FF",
           "#FECB52"
          ],
          "font": {
           "color": "#2a3f5f"
          },
          "hovermode": "closest",
          "hoverlabel": {
           "align": "left"
          },
          "paper_bgcolor": "white",
          "plot_bgcolor": "#E5ECF6",
          "polar": {
           "bgcolor": "#E5ECF6",
           "angularaxis": {
            "gridcolor": "white",
            "linecolor": "white",
            "ticks": ""
           },
           "radialaxis": {
            "gridcolor": "white",
            "linecolor": "white",
            "ticks": ""
           }
          },
          "ternary": {
           "bgcolor": "#E5ECF6",
           "aaxis": {
            "gridcolor": "white",
            "linecolor": "white",
            "ticks": ""
           },
           "baxis": {
            "gridcolor": "white",
            "linecolor": "white",
            "ticks": ""
           },
           "caxis": {
            "gridcolor": "white",
            "linecolor": "white",
            "ticks": ""
           }
          },
          "coloraxis": {
           "colorbar": {
            "outlinewidth": 0,
            "ticks": ""
           }
          },
          "colorscale": {
           "sequential": [
            [
             0.0,
             "#0d0887"
            ],
            [
             0.1111111111111111,
             "#46039f"
            ],
            [
             0.2222222222222222,
             "#7201a8"
            ],
            [
             0.3333333333333333,
             "#9c179e"
            ],
            [
             0.4444444444444444,
             "#bd3786"
            ],
            [
             0.5555555555555556,
             "#d8576b"
            ],
            [
             0.6666666666666666,
             "#ed7953"
            ],
            [
             0.7777777777777778,
             "#fb9f3a"
            ],
            [
             0.8888888888888888,
             "#fdca26"
            ],
            [
             1.0,
             "#f0f921"
            ]
           ],
           "sequentialminus": [
            [
             0.0,
             "#0d0887"
            ],
            [
             0.1111111111111111,
             "#46039f"
            ],
            [
             0.2222222222222222,
             "#7201a8"
            ],
            [
             0.3333333333333333,
             "#9c179e"
            ],
            [
             0.4444444444444444,
             "#bd3786"
            ],
            [
             0.5555555555555556,
             "#d8576b"
            ],
            [
             0.6666666666666666,
             "#ed7953"
            ],
            [
             0.7777777777777778,
             "#fb9f3a"
            ],
            [
             0.8888888888888888,
             "#fdca26"
            ],
            [
             1.0,
             "#f0f921"
            ]
           ],
           "diverging": [
            [
             0,
             "#8e0152"
            ],
            [
             0.1,
             "#c51b7d"
            ],
            [
             0.2,
             "#de77ae"
            ],
            [
             0.3,
             "#f1b6da"
            ],
            [
             0.4,
             "#fde0ef"
            ],
            [
             0.5,
             "#f7f7f7"
            ],
            [
             0.6,
             "#e6f5d0"
            ],
            [
             0.7,
             "#b8e186"
            ],
            [
             0.8,
             "#7fbc41"
            ],
            [
             0.9,
             "#4d9221"
            ],
            [
             1,
             "#276419"
            ]
           ]
          },
          "xaxis": {
           "gridcolor": "white",
           "linecolor": "white",
           "ticks": "",
           "title": {
            "standoff": 15
           },
           "zerolinecolor": "white",
           "automargin": true,
           "zerolinewidth": 2
          },
          "yaxis": {
           "gridcolor": "white",
           "linecolor": "white",
           "ticks": "",
           "title": {
            "standoff": 15
           },
           "zerolinecolor": "white",
           "automargin": true,
           "zerolinewidth": 2
          },
          "scene": {
           "xaxis": {
            "backgroundcolor": "#E5ECF6",
            "gridcolor": "white",
            "linecolor": "white",
            "showbackground": true,
            "ticks": "",
            "zerolinecolor": "white",
            "gridwidth": 2
           },
           "yaxis": {
            "backgroundcolor": "#E5ECF6",
            "gridcolor": "white",
            "linecolor": "white",
            "showbackground": true,
            "ticks": "",
            "zerolinecolor": "white",
            "gridwidth": 2
           },
           "zaxis": {
            "backgroundcolor": "#E5ECF6",
            "gridcolor": "white",
            "linecolor": "white",
            "showbackground": true,
            "ticks": "",
            "zerolinecolor": "white",
            "gridwidth": 2
           }
          },
          "shapedefaults": {
           "line": {
            "color": "#2a3f5f"
           }
          },
          "annotationdefaults": {
           "arrowcolor": "#2a3f5f",
           "arrowhead": 0,
           "arrowwidth": 1
          },
          "geo": {
           "bgcolor": "white",
           "landcolor": "#E5ECF6",
           "subunitcolor": "white",
           "showland": true,
           "showlakes": true,
           "lakecolor": "white"
          },
          "title": {
           "x": 0.05
          },
          "mapbox": {
           "style": "light"
          }
         }
        }
       },
       "config": {
        "plotlyServerURL": "https://plot.ly"
       }
      },
      "text/html": [
       "<div>                            <div id=\"44867e93-8189-4d0a-998d-0fbc80f835a6\" class=\"plotly-graph-div\" style=\"height:525px; width:100%;\"></div>            <script type=\"text/javascript\">                require([\"plotly\"], function(Plotly) {                    window.PLOTLYENV=window.PLOTLYENV || {};                                    if (document.getElementById(\"44867e93-8189-4d0a-998d-0fbc80f835a6\")) {                    Plotly.newPlot(                        \"44867e93-8189-4d0a-998d-0fbc80f835a6\",                        [{\"mode\":\"lines+markers\",\"name\":\"V Kohli\",\"x\":[\"2007\\u002f08\",\"2009\",\"2009\\u002f10\",\"2011\",\"2012\",\"2013\",\"2014\",\"2015\",\"2016\",\"2017\",\"2018\",\"2019\",\"2020\\u002f21\",\"2021\",\"2022\",\"2023\",\"2024\"],\"y\":[165,246,307,557,364,639,359,505,973,308,530,464,471,405,341,639,741],\"type\":\"scatter\"},{\"mode\":\"lines+markers\",\"name\":\"RG Sharma\",\"x\":[\"2007\\u002f08\",\"2009\",\"2009\\u002f10\",\"2011\",\"2012\",\"2013\",\"2014\",\"2015\",\"2016\",\"2017\",\"2018\",\"2019\",\"2020\\u002f21\",\"2021\",\"2022\",\"2023\",\"2024\"],\"y\":[404,362,404,372,433,538,390,482,489,333,286,405,334,381,268,332,417],\"type\":\"scatter\"},{\"mode\":\"lines+markers\",\"name\":\"DA Warner\",\"x\":[\"2009\",\"2009\\u002f10\",\"2011\",\"2012\",\"2013\",\"2014\",\"2015\",\"2016\",\"2017\",\"2019\",\"2020\\u002f21\",\"2021\",\"2022\",\"2023\",\"2024\"],\"y\":[163,282,324,256,410,528,562,848,641,692,548,197,432,516,168],\"type\":\"scatter\"},{\"mode\":\"lines+markers\",\"name\":\"MS Dhoni\",\"x\":[\"2007\\u002f08\",\"2009\",\"2009\\u002f10\",\"2011\",\"2012\",\"2013\",\"2014\",\"2015\",\"2016\",\"2017\",\"2018\",\"2019\",\"2020\\u002f21\",\"2021\",\"2022\",\"2023\",\"2024\"],\"y\":[414,332,287,392,358,461,371,372,284,290,455,416,200,114,232,104,161],\"type\":\"scatter\"}],                        {\"title\":{\"text\":\"Batsman Record Comparator\"},\"xaxis\":{\"title\":{\"text\":\"Season\"}},\"yaxis\":{\"title\":{\"text\":\"Runs\"}},\"template\":{\"data\":{\"histogram2dcontour\":[{\"type\":\"histogram2dcontour\",\"colorbar\":{\"outlinewidth\":0,\"ticks\":\"\"},\"colorscale\":[[0.0,\"#0d0887\"],[0.1111111111111111,\"#46039f\"],[0.2222222222222222,\"#7201a8\"],[0.3333333333333333,\"#9c179e\"],[0.4444444444444444,\"#bd3786\"],[0.5555555555555556,\"#d8576b\"],[0.6666666666666666,\"#ed7953\"],[0.7777777777777778,\"#fb9f3a\"],[0.8888888888888888,\"#fdca26\"],[1.0,\"#f0f921\"]]}],\"choropleth\":[{\"type\":\"choropleth\",\"colorbar\":{\"outlinewidth\":0,\"ticks\":\"\"}}],\"histogram2d\":[{\"type\":\"histogram2d\",\"colorbar\":{\"outlinewidth\":0,\"ticks\":\"\"},\"colorscale\":[[0.0,\"#0d0887\"],[0.1111111111111111,\"#46039f\"],[0.2222222222222222,\"#7201a8\"],[0.3333333333333333,\"#9c179e\"],[0.4444444444444444,\"#bd3786\"],[0.5555555555555556,\"#d8576b\"],[0.6666666666666666,\"#ed7953\"],[0.7777777777777778,\"#fb9f3a\"],[0.8888888888888888,\"#fdca26\"],[1.0,\"#f0f921\"]]}],\"heatmap\":[{\"type\":\"heatmap\",\"colorbar\":{\"outlinewidth\":0,\"ticks\":\"\"},\"colorscale\":[[0.0,\"#0d0887\"],[0.1111111111111111,\"#46039f\"],[0.2222222222222222,\"#7201a8\"],[0.3333333333333333,\"#9c179e\"],[0.4444444444444444,\"#bd3786\"],[0.5555555555555556,\"#d8576b\"],[0.6666666666666666,\"#ed7953\"],[0.7777777777777778,\"#fb9f3a\"],[0.8888888888888888,\"#fdca26\"],[1.0,\"#f0f921\"]]}],\"heatmapgl\":[{\"type\":\"heatmapgl\",\"colorbar\":{\"outlinewidth\":0,\"ticks\":\"\"},\"colorscale\":[[0.0,\"#0d0887\"],[0.1111111111111111,\"#46039f\"],[0.2222222222222222,\"#7201a8\"],[0.3333333333333333,\"#9c179e\"],[0.4444444444444444,\"#bd3786\"],[0.5555555555555556,\"#d8576b\"],[0.6666666666666666,\"#ed7953\"],[0.7777777777777778,\"#fb9f3a\"],[0.8888888888888888,\"#fdca26\"],[1.0,\"#f0f921\"]]}],\"contourcarpet\":[{\"type\":\"contourcarpet\",\"colorbar\":{\"outlinewidth\":0,\"ticks\":\"\"}}],\"contour\":[{\"type\":\"contour\",\"colorbar\":{\"outlinewidth\":0,\"ticks\":\"\"},\"colorscale\":[[0.0,\"#0d0887\"],[0.1111111111111111,\"#46039f\"],[0.2222222222222222,\"#7201a8\"],[0.3333333333333333,\"#9c179e\"],[0.4444444444444444,\"#bd3786\"],[0.5555555555555556,\"#d8576b\"],[0.6666666666666666,\"#ed7953\"],[0.7777777777777778,\"#fb9f3a\"],[0.8888888888888888,\"#fdca26\"],[1.0,\"#f0f921\"]]}],\"surface\":[{\"type\":\"surface\",\"colorbar\":{\"outlinewidth\":0,\"ticks\":\"\"},\"colorscale\":[[0.0,\"#0d0887\"],[0.1111111111111111,\"#46039f\"],[0.2222222222222222,\"#7201a8\"],[0.3333333333333333,\"#9c179e\"],[0.4444444444444444,\"#bd3786\"],[0.5555555555555556,\"#d8576b\"],[0.6666666666666666,\"#ed7953\"],[0.7777777777777778,\"#fb9f3a\"],[0.8888888888888888,\"#fdca26\"],[1.0,\"#f0f921\"]]}],\"mesh3d\":[{\"type\":\"mesh3d\",\"colorbar\":{\"outlinewidth\":0,\"ticks\":\"\"}}],\"scatter\":[{\"fillpattern\":{\"fillmode\":\"overlay\",\"size\":10,\"solidity\":0.2},\"type\":\"scatter\"}],\"parcoords\":[{\"type\":\"parcoords\",\"line\":{\"colorbar\":{\"outlinewidth\":0,\"ticks\":\"\"}}}],\"scatterpolargl\":[{\"type\":\"scatterpolargl\",\"marker\":{\"colorbar\":{\"outlinewidth\":0,\"ticks\":\"\"}}}],\"bar\":[{\"error_x\":{\"color\":\"#2a3f5f\"},\"error_y\":{\"color\":\"#2a3f5f\"},\"marker\":{\"line\":{\"color\":\"#E5ECF6\",\"width\":0.5},\"pattern\":{\"fillmode\":\"overlay\",\"size\":10,\"solidity\":0.2}},\"type\":\"bar\"}],\"scattergeo\":[{\"type\":\"scattergeo\",\"marker\":{\"colorbar\":{\"outlinewidth\":0,\"ticks\":\"\"}}}],\"scatterpolar\":[{\"type\":\"scatterpolar\",\"marker\":{\"colorbar\":{\"outlinewidth\":0,\"ticks\":\"\"}}}],\"histogram\":[{\"marker\":{\"pattern\":{\"fillmode\":\"overlay\",\"size\":10,\"solidity\":0.2}},\"type\":\"histogram\"}],\"scattergl\":[{\"type\":\"scattergl\",\"marker\":{\"colorbar\":{\"outlinewidth\":0,\"ticks\":\"\"}}}],\"scatter3d\":[{\"type\":\"scatter3d\",\"line\":{\"colorbar\":{\"outlinewidth\":0,\"ticks\":\"\"}},\"marker\":{\"colorbar\":{\"outlinewidth\":0,\"ticks\":\"\"}}}],\"scattermapbox\":[{\"type\":\"scattermapbox\",\"marker\":{\"colorbar\":{\"outlinewidth\":0,\"ticks\":\"\"}}}],\"scatterternary\":[{\"type\":\"scatterternary\",\"marker\":{\"colorbar\":{\"outlinewidth\":0,\"ticks\":\"\"}}}],\"scattercarpet\":[{\"type\":\"scattercarpet\",\"marker\":{\"colorbar\":{\"outlinewidth\":0,\"ticks\":\"\"}}}],\"carpet\":[{\"aaxis\":{\"endlinecolor\":\"#2a3f5f\",\"gridcolor\":\"white\",\"linecolor\":\"white\",\"minorgridcolor\":\"white\",\"startlinecolor\":\"#2a3f5f\"},\"baxis\":{\"endlinecolor\":\"#2a3f5f\",\"gridcolor\":\"white\",\"linecolor\":\"white\",\"minorgridcolor\":\"white\",\"startlinecolor\":\"#2a3f5f\"},\"type\":\"carpet\"}],\"table\":[{\"cells\":{\"fill\":{\"color\":\"#EBF0F8\"},\"line\":{\"color\":\"white\"}},\"header\":{\"fill\":{\"color\":\"#C8D4E3\"},\"line\":{\"color\":\"white\"}},\"type\":\"table\"}],\"barpolar\":[{\"marker\":{\"line\":{\"color\":\"#E5ECF6\",\"width\":0.5},\"pattern\":{\"fillmode\":\"overlay\",\"size\":10,\"solidity\":0.2}},\"type\":\"barpolar\"}],\"pie\":[{\"automargin\":true,\"type\":\"pie\"}]},\"layout\":{\"autotypenumbers\":\"strict\",\"colorway\":[\"#636efa\",\"#EF553B\",\"#00cc96\",\"#ab63fa\",\"#FFA15A\",\"#19d3f3\",\"#FF6692\",\"#B6E880\",\"#FF97FF\",\"#FECB52\"],\"font\":{\"color\":\"#2a3f5f\"},\"hovermode\":\"closest\",\"hoverlabel\":{\"align\":\"left\"},\"paper_bgcolor\":\"white\",\"plot_bgcolor\":\"#E5ECF6\",\"polar\":{\"bgcolor\":\"#E5ECF6\",\"angularaxis\":{\"gridcolor\":\"white\",\"linecolor\":\"white\",\"ticks\":\"\"},\"radialaxis\":{\"gridcolor\":\"white\",\"linecolor\":\"white\",\"ticks\":\"\"}},\"ternary\":{\"bgcolor\":\"#E5ECF6\",\"aaxis\":{\"gridcolor\":\"white\",\"linecolor\":\"white\",\"ticks\":\"\"},\"baxis\":{\"gridcolor\":\"white\",\"linecolor\":\"white\",\"ticks\":\"\"},\"caxis\":{\"gridcolor\":\"white\",\"linecolor\":\"white\",\"ticks\":\"\"}},\"coloraxis\":{\"colorbar\":{\"outlinewidth\":0,\"ticks\":\"\"}},\"colorscale\":{\"sequential\":[[0.0,\"#0d0887\"],[0.1111111111111111,\"#46039f\"],[0.2222222222222222,\"#7201a8\"],[0.3333333333333333,\"#9c179e\"],[0.4444444444444444,\"#bd3786\"],[0.5555555555555556,\"#d8576b\"],[0.6666666666666666,\"#ed7953\"],[0.7777777777777778,\"#fb9f3a\"],[0.8888888888888888,\"#fdca26\"],[1.0,\"#f0f921\"]],\"sequentialminus\":[[0.0,\"#0d0887\"],[0.1111111111111111,\"#46039f\"],[0.2222222222222222,\"#7201a8\"],[0.3333333333333333,\"#9c179e\"],[0.4444444444444444,\"#bd3786\"],[0.5555555555555556,\"#d8576b\"],[0.6666666666666666,\"#ed7953\"],[0.7777777777777778,\"#fb9f3a\"],[0.8888888888888888,\"#fdca26\"],[1.0,\"#f0f921\"]],\"diverging\":[[0,\"#8e0152\"],[0.1,\"#c51b7d\"],[0.2,\"#de77ae\"],[0.3,\"#f1b6da\"],[0.4,\"#fde0ef\"],[0.5,\"#f7f7f7\"],[0.6,\"#e6f5d0\"],[0.7,\"#b8e186\"],[0.8,\"#7fbc41\"],[0.9,\"#4d9221\"],[1,\"#276419\"]]},\"xaxis\":{\"gridcolor\":\"white\",\"linecolor\":\"white\",\"ticks\":\"\",\"title\":{\"standoff\":15},\"zerolinecolor\":\"white\",\"automargin\":true,\"zerolinewidth\":2},\"yaxis\":{\"gridcolor\":\"white\",\"linecolor\":\"white\",\"ticks\":\"\",\"title\":{\"standoff\":15},\"zerolinecolor\":\"white\",\"automargin\":true,\"zerolinewidth\":2},\"scene\":{\"xaxis\":{\"backgroundcolor\":\"#E5ECF6\",\"gridcolor\":\"white\",\"linecolor\":\"white\",\"showbackground\":true,\"ticks\":\"\",\"zerolinecolor\":\"white\",\"gridwidth\":2},\"yaxis\":{\"backgroundcolor\":\"#E5ECF6\",\"gridcolor\":\"white\",\"linecolor\":\"white\",\"showbackground\":true,\"ticks\":\"\",\"zerolinecolor\":\"white\",\"gridwidth\":2},\"zaxis\":{\"backgroundcolor\":\"#E5ECF6\",\"gridcolor\":\"white\",\"linecolor\":\"white\",\"showbackground\":true,\"ticks\":\"\",\"zerolinecolor\":\"white\",\"gridwidth\":2}},\"shapedefaults\":{\"line\":{\"color\":\"#2a3f5f\"}},\"annotationdefaults\":{\"arrowcolor\":\"#2a3f5f\",\"arrowhead\":0,\"arrowwidth\":1},\"geo\":{\"bgcolor\":\"white\",\"landcolor\":\"#E5ECF6\",\"subunitcolor\":\"white\",\"showland\":true,\"showlakes\":true,\"lakecolor\":\"white\"},\"title\":{\"x\":0.05},\"mapbox\":{\"style\":\"light\"}}}},                        {\"responsive\": true}                    ).then(function(){\n",
       "                            \n",
       "var gd = document.getElementById('44867e93-8189-4d0a-998d-0fbc80f835a6');\n",
       "var x = new MutationObserver(function (mutations, observer) {{\n",
       "        var display = window.getComputedStyle(gd).display;\n",
       "        if (!display || display === 'none') {{\n",
       "            console.log([gd, 'removed!']);\n",
       "            Plotly.purge(gd);\n",
       "            observer.disconnect();\n",
       "        }}\n",
       "}});\n",
       "\n",
       "// Listen for the removal of the full notebook cells\n",
       "var notebookContainer = gd.closest('#notebook-container');\n",
       "if (notebookContainer) {{\n",
       "    x.observe(notebookContainer, {childList: true});\n",
       "}}\n",
       "\n",
       "// Listen for the clearing of the current output cell\n",
       "var outputEl = gd.closest('.output');\n",
       "if (outputEl) {{\n",
       "    x.observe(outputEl, {childList: true});\n",
       "}}\n",
       "\n",
       "                        })                };                });            </script>        </div>"
      ]
     },
     "metadata": {},
     "output_type": "display_data"
    }
   ],
   "execution_count": 159
  },
  {
   "metadata": {},
   "cell_type": "markdown",
   "source": [
    "## Bar plot\n",
    "\n",
    "<p>Used to show relation between one categorical and 1 numerical data</p>\n",
    "<img src=\"https://images.ctfassets.net/fevtq3bap7tj/5FSJrJeDIIGAmGCsGcQ8S4/e2fc867a487614b47f72104a36fbcf7f/simple-column.png\"/>"
   ],
   "id": "c8e9c270fd85056d"
  },
  {
   "metadata": {
    "ExecuteTime": {
     "end_time": "2024-10-26T17:42:17.957792Z",
     "start_time": "2024-10-26T17:42:17.931990Z"
    }
   },
   "cell_type": "code",
   "source": [
    "top10 = ipl.groupby('batter')['batsman_runs'].sum().sort_values(ascending=False).head(10).index.tolist()\n",
    "top10"
   ],
   "id": "86639643033b9d1a",
   "outputs": [
    {
     "data": {
      "text/plain": [
       "['V Kohli',\n",
       " 'S Dhawan',\n",
       " 'RG Sharma',\n",
       " 'DA Warner',\n",
       " 'SK Raina',\n",
       " 'MS Dhoni',\n",
       " 'AB de Villiers',\n",
       " 'CH Gayle',\n",
       " 'RV Uthappa',\n",
       " 'KD Karthik']"
      ]
     },
     "execution_count": 160,
     "metadata": {},
     "output_type": "execute_result"
    }
   ],
   "execution_count": 160
  },
  {
   "metadata": {
    "ExecuteTime": {
     "end_time": "2024-10-26T17:42:18.010136Z",
     "start_time": "2024-10-26T17:42:17.958799Z"
    }
   },
   "cell_type": "code",
   "source": [
    "top10_df = ipl.query('batter in @top10')\n",
    "print(top10_df.shape)\n",
    "top10_df.head()"
   ],
   "id": "a315f698de0d4f72",
   "outputs": [
    {
     "name": "stdout",
     "output_type": "stream",
     "text": [
      "(44492, 37)\n"
     ]
    },
    {
     "data": {
      "text/plain": [
       "     match_id  inning                 batting_team           bowling_team  \\\n",
       "132    335982       2  Royal Challengers Bangalore  Kolkata Knight Riders   \n",
       "133    335982       2  Royal Challengers Bangalore  Kolkata Knight Riders   \n",
       "134    335982       2  Royal Challengers Bangalore  Kolkata Knight Riders   \n",
       "137    335982       2  Royal Challengers Bangalore  Kolkata Knight Riders   \n",
       "138    335982       2  Royal Challengers Bangalore  Kolkata Knight Riders   \n",
       "\n",
       "     over  ball   batter    bowler non_striker  batsman_runs  ...  \\\n",
       "132     1     2  V Kohli  I Sharma    W Jaffer             0  ...   \n",
       "133     1     3  V Kohli  I Sharma    W Jaffer             0  ...   \n",
       "134     1     4  V Kohli  I Sharma    W Jaffer             1  ...   \n",
       "137     2     1  V Kohli  AB Dinda    W Jaffer             0  ...   \n",
       "138     2     2  V Kohli  AB Dinda    W Jaffer             0  ...   \n",
       "\n",
       "     toss_decision                 winner result  result_margin target_runs  \\\n",
       "132          field  Kolkata Knight Riders   runs          140.0       223.0   \n",
       "133          field  Kolkata Knight Riders   runs          140.0       223.0   \n",
       "134          field  Kolkata Knight Riders   runs          140.0       223.0   \n",
       "137          field  Kolkata Knight Riders   runs          140.0       223.0   \n",
       "138          field  Kolkata Knight Riders   runs          140.0       223.0   \n",
       "\n",
       "    target_overs super_over  method    umpire1      umpire2  \n",
       "132         20.0          N     NaN  Asad Rauf  RE Koertzen  \n",
       "133         20.0          N     NaN  Asad Rauf  RE Koertzen  \n",
       "134         20.0          N     NaN  Asad Rauf  RE Koertzen  \n",
       "137         20.0          N     NaN  Asad Rauf  RE Koertzen  \n",
       "138         20.0          N     NaN  Asad Rauf  RE Koertzen  \n",
       "\n",
       "[5 rows x 37 columns]"
      ],
      "text/html": [
       "<div>\n",
       "<style scoped>\n",
       "    .dataframe tbody tr th:only-of-type {\n",
       "        vertical-align: middle;\n",
       "    }\n",
       "\n",
       "    .dataframe tbody tr th {\n",
       "        vertical-align: top;\n",
       "    }\n",
       "\n",
       "    .dataframe thead th {\n",
       "        text-align: right;\n",
       "    }\n",
       "</style>\n",
       "<table border=\"1\" class=\"dataframe\">\n",
       "  <thead>\n",
       "    <tr style=\"text-align: right;\">\n",
       "      <th></th>\n",
       "      <th>match_id</th>\n",
       "      <th>inning</th>\n",
       "      <th>batting_team</th>\n",
       "      <th>bowling_team</th>\n",
       "      <th>over</th>\n",
       "      <th>ball</th>\n",
       "      <th>batter</th>\n",
       "      <th>bowler</th>\n",
       "      <th>non_striker</th>\n",
       "      <th>batsman_runs</th>\n",
       "      <th>...</th>\n",
       "      <th>toss_decision</th>\n",
       "      <th>winner</th>\n",
       "      <th>result</th>\n",
       "      <th>result_margin</th>\n",
       "      <th>target_runs</th>\n",
       "      <th>target_overs</th>\n",
       "      <th>super_over</th>\n",
       "      <th>method</th>\n",
       "      <th>umpire1</th>\n",
       "      <th>umpire2</th>\n",
       "    </tr>\n",
       "  </thead>\n",
       "  <tbody>\n",
       "    <tr>\n",
       "      <th>132</th>\n",
       "      <td>335982</td>\n",
       "      <td>2</td>\n",
       "      <td>Royal Challengers Bangalore</td>\n",
       "      <td>Kolkata Knight Riders</td>\n",
       "      <td>1</td>\n",
       "      <td>2</td>\n",
       "      <td>V Kohli</td>\n",
       "      <td>I Sharma</td>\n",
       "      <td>W Jaffer</td>\n",
       "      <td>0</td>\n",
       "      <td>...</td>\n",
       "      <td>field</td>\n",
       "      <td>Kolkata Knight Riders</td>\n",
       "      <td>runs</td>\n",
       "      <td>140.0</td>\n",
       "      <td>223.0</td>\n",
       "      <td>20.0</td>\n",
       "      <td>N</td>\n",
       "      <td>NaN</td>\n",
       "      <td>Asad Rauf</td>\n",
       "      <td>RE Koertzen</td>\n",
       "    </tr>\n",
       "    <tr>\n",
       "      <th>133</th>\n",
       "      <td>335982</td>\n",
       "      <td>2</td>\n",
       "      <td>Royal Challengers Bangalore</td>\n",
       "      <td>Kolkata Knight Riders</td>\n",
       "      <td>1</td>\n",
       "      <td>3</td>\n",
       "      <td>V Kohli</td>\n",
       "      <td>I Sharma</td>\n",
       "      <td>W Jaffer</td>\n",
       "      <td>0</td>\n",
       "      <td>...</td>\n",
       "      <td>field</td>\n",
       "      <td>Kolkata Knight Riders</td>\n",
       "      <td>runs</td>\n",
       "      <td>140.0</td>\n",
       "      <td>223.0</td>\n",
       "      <td>20.0</td>\n",
       "      <td>N</td>\n",
       "      <td>NaN</td>\n",
       "      <td>Asad Rauf</td>\n",
       "      <td>RE Koertzen</td>\n",
       "    </tr>\n",
       "    <tr>\n",
       "      <th>134</th>\n",
       "      <td>335982</td>\n",
       "      <td>2</td>\n",
       "      <td>Royal Challengers Bangalore</td>\n",
       "      <td>Kolkata Knight Riders</td>\n",
       "      <td>1</td>\n",
       "      <td>4</td>\n",
       "      <td>V Kohli</td>\n",
       "      <td>I Sharma</td>\n",
       "      <td>W Jaffer</td>\n",
       "      <td>1</td>\n",
       "      <td>...</td>\n",
       "      <td>field</td>\n",
       "      <td>Kolkata Knight Riders</td>\n",
       "      <td>runs</td>\n",
       "      <td>140.0</td>\n",
       "      <td>223.0</td>\n",
       "      <td>20.0</td>\n",
       "      <td>N</td>\n",
       "      <td>NaN</td>\n",
       "      <td>Asad Rauf</td>\n",
       "      <td>RE Koertzen</td>\n",
       "    </tr>\n",
       "    <tr>\n",
       "      <th>137</th>\n",
       "      <td>335982</td>\n",
       "      <td>2</td>\n",
       "      <td>Royal Challengers Bangalore</td>\n",
       "      <td>Kolkata Knight Riders</td>\n",
       "      <td>2</td>\n",
       "      <td>1</td>\n",
       "      <td>V Kohli</td>\n",
       "      <td>AB Dinda</td>\n",
       "      <td>W Jaffer</td>\n",
       "      <td>0</td>\n",
       "      <td>...</td>\n",
       "      <td>field</td>\n",
       "      <td>Kolkata Knight Riders</td>\n",
       "      <td>runs</td>\n",
       "      <td>140.0</td>\n",
       "      <td>223.0</td>\n",
       "      <td>20.0</td>\n",
       "      <td>N</td>\n",
       "      <td>NaN</td>\n",
       "      <td>Asad Rauf</td>\n",
       "      <td>RE Koertzen</td>\n",
       "    </tr>\n",
       "    <tr>\n",
       "      <th>138</th>\n",
       "      <td>335982</td>\n",
       "      <td>2</td>\n",
       "      <td>Royal Challengers Bangalore</td>\n",
       "      <td>Kolkata Knight Riders</td>\n",
       "      <td>2</td>\n",
       "      <td>2</td>\n",
       "      <td>V Kohli</td>\n",
       "      <td>AB Dinda</td>\n",
       "      <td>W Jaffer</td>\n",
       "      <td>0</td>\n",
       "      <td>...</td>\n",
       "      <td>field</td>\n",
       "      <td>Kolkata Knight Riders</td>\n",
       "      <td>runs</td>\n",
       "      <td>140.0</td>\n",
       "      <td>223.0</td>\n",
       "      <td>20.0</td>\n",
       "      <td>N</td>\n",
       "      <td>NaN</td>\n",
       "      <td>Asad Rauf</td>\n",
       "      <td>RE Koertzen</td>\n",
       "    </tr>\n",
       "  </tbody>\n",
       "</table>\n",
       "<p>5 rows × 37 columns</p>\n",
       "</div>"
      ]
     },
     "execution_count": 161,
     "metadata": {},
     "output_type": "execute_result"
    }
   ],
   "execution_count": 161
  },
  {
   "metadata": {
    "ExecuteTime": {
     "end_time": "2024-10-26T17:42:18.025540Z",
     "start_time": "2024-10-26T17:42:18.011142Z"
    }
   },
   "cell_type": "code",
   "source": [
    "top10_score = top10_df.groupby('batter')['batsman_runs'].sum().reset_index()\n",
    "top10_score"
   ],
   "id": "b81b722567a26ea9",
   "outputs": [
    {
     "data": {
      "text/plain": [
       "           batter  batsman_runs\n",
       "0  AB de Villiers          5181\n",
       "1        CH Gayle          4997\n",
       "2       DA Warner          6567\n",
       "3      KD Karthik          4843\n",
       "4        MS Dhoni          5243\n",
       "5       RG Sharma          6630\n",
       "6      RV Uthappa          4954\n",
       "7        S Dhawan          6769\n",
       "8        SK Raina          5536\n",
       "9         V Kohli          8014"
      ],
      "text/html": [
       "<div>\n",
       "<style scoped>\n",
       "    .dataframe tbody tr th:only-of-type {\n",
       "        vertical-align: middle;\n",
       "    }\n",
       "\n",
       "    .dataframe tbody tr th {\n",
       "        vertical-align: top;\n",
       "    }\n",
       "\n",
       "    .dataframe thead th {\n",
       "        text-align: right;\n",
       "    }\n",
       "</style>\n",
       "<table border=\"1\" class=\"dataframe\">\n",
       "  <thead>\n",
       "    <tr style=\"text-align: right;\">\n",
       "      <th></th>\n",
       "      <th>batter</th>\n",
       "      <th>batsman_runs</th>\n",
       "    </tr>\n",
       "  </thead>\n",
       "  <tbody>\n",
       "    <tr>\n",
       "      <th>0</th>\n",
       "      <td>AB de Villiers</td>\n",
       "      <td>5181</td>\n",
       "    </tr>\n",
       "    <tr>\n",
       "      <th>1</th>\n",
       "      <td>CH Gayle</td>\n",
       "      <td>4997</td>\n",
       "    </tr>\n",
       "    <tr>\n",
       "      <th>2</th>\n",
       "      <td>DA Warner</td>\n",
       "      <td>6567</td>\n",
       "    </tr>\n",
       "    <tr>\n",
       "      <th>3</th>\n",
       "      <td>KD Karthik</td>\n",
       "      <td>4843</td>\n",
       "    </tr>\n",
       "    <tr>\n",
       "      <th>4</th>\n",
       "      <td>MS Dhoni</td>\n",
       "      <td>5243</td>\n",
       "    </tr>\n",
       "    <tr>\n",
       "      <th>5</th>\n",
       "      <td>RG Sharma</td>\n",
       "      <td>6630</td>\n",
       "    </tr>\n",
       "    <tr>\n",
       "      <th>6</th>\n",
       "      <td>RV Uthappa</td>\n",
       "      <td>4954</td>\n",
       "    </tr>\n",
       "    <tr>\n",
       "      <th>7</th>\n",
       "      <td>S Dhawan</td>\n",
       "      <td>6769</td>\n",
       "    </tr>\n",
       "    <tr>\n",
       "      <th>8</th>\n",
       "      <td>SK Raina</td>\n",
       "      <td>5536</td>\n",
       "    </tr>\n",
       "    <tr>\n",
       "      <th>9</th>\n",
       "      <td>V Kohli</td>\n",
       "      <td>8014</td>\n",
       "    </tr>\n",
       "  </tbody>\n",
       "</table>\n",
       "</div>"
      ]
     },
     "execution_count": 162,
     "metadata": {},
     "output_type": "execute_result"
    }
   ],
   "execution_count": 162
  },
  {
   "metadata": {
    "ExecuteTime": {
     "end_time": "2024-10-26T17:42:18.044317Z",
     "start_time": "2024-10-26T17:42:18.026547Z"
    }
   },
   "cell_type": "code",
   "source": [
    "# Plot Bar Graph\n",
    "\n",
    "trace = go.Bar(x=top10_score.batter, y=top10_score.batsman_runs, marker={'color': '#3dd4dc'})\n",
    "\n",
    "data = [trace]\n",
    "layout = go.Layout(title='Top 10 IPL Batsman',\n",
    "                   xaxis={'title': 'Batsman'},\n",
    "                   yaxis={'title': 'Total Runs'})\n",
    "\n",
    "fig = go.Figure(data=data, layout=layout)\n",
    "\n",
    "plotly.io.show(fig)"
   ],
   "id": "bb417b16ec9d870e",
   "outputs": [
    {
     "data": {
      "application/vnd.plotly.v1+json": {
       "data": [
        {
         "marker": {
          "color": "#3dd4dc"
         },
         "x": [
          "AB de Villiers",
          "CH Gayle",
          "DA Warner",
          "KD Karthik",
          "MS Dhoni",
          "RG Sharma",
          "RV Uthappa",
          "S Dhawan",
          "SK Raina",
          "V Kohli"
         ],
         "y": [
          5181,
          4997,
          6567,
          4843,
          5243,
          6630,
          4954,
          6769,
          5536,
          8014
         ],
         "type": "bar"
        }
       ],
       "layout": {
        "title": {
         "text": "Top 10 IPL Batsman"
        },
        "xaxis": {
         "title": {
          "text": "Batsman"
         }
        },
        "yaxis": {
         "title": {
          "text": "Total Runs"
         }
        },
        "template": {
         "data": {
          "histogram2dcontour": [
           {
            "type": "histogram2dcontour",
            "colorbar": {
             "outlinewidth": 0,
             "ticks": ""
            },
            "colorscale": [
             [
              0.0,
              "#0d0887"
             ],
             [
              0.1111111111111111,
              "#46039f"
             ],
             [
              0.2222222222222222,
              "#7201a8"
             ],
             [
              0.3333333333333333,
              "#9c179e"
             ],
             [
              0.4444444444444444,
              "#bd3786"
             ],
             [
              0.5555555555555556,
              "#d8576b"
             ],
             [
              0.6666666666666666,
              "#ed7953"
             ],
             [
              0.7777777777777778,
              "#fb9f3a"
             ],
             [
              0.8888888888888888,
              "#fdca26"
             ],
             [
              1.0,
              "#f0f921"
             ]
            ]
           }
          ],
          "choropleth": [
           {
            "type": "choropleth",
            "colorbar": {
             "outlinewidth": 0,
             "ticks": ""
            }
           }
          ],
          "histogram2d": [
           {
            "type": "histogram2d",
            "colorbar": {
             "outlinewidth": 0,
             "ticks": ""
            },
            "colorscale": [
             [
              0.0,
              "#0d0887"
             ],
             [
              0.1111111111111111,
              "#46039f"
             ],
             [
              0.2222222222222222,
              "#7201a8"
             ],
             [
              0.3333333333333333,
              "#9c179e"
             ],
             [
              0.4444444444444444,
              "#bd3786"
             ],
             [
              0.5555555555555556,
              "#d8576b"
             ],
             [
              0.6666666666666666,
              "#ed7953"
             ],
             [
              0.7777777777777778,
              "#fb9f3a"
             ],
             [
              0.8888888888888888,
              "#fdca26"
             ],
             [
              1.0,
              "#f0f921"
             ]
            ]
           }
          ],
          "heatmap": [
           {
            "type": "heatmap",
            "colorbar": {
             "outlinewidth": 0,
             "ticks": ""
            },
            "colorscale": [
             [
              0.0,
              "#0d0887"
             ],
             [
              0.1111111111111111,
              "#46039f"
             ],
             [
              0.2222222222222222,
              "#7201a8"
             ],
             [
              0.3333333333333333,
              "#9c179e"
             ],
             [
              0.4444444444444444,
              "#bd3786"
             ],
             [
              0.5555555555555556,
              "#d8576b"
             ],
             [
              0.6666666666666666,
              "#ed7953"
             ],
             [
              0.7777777777777778,
              "#fb9f3a"
             ],
             [
              0.8888888888888888,
              "#fdca26"
             ],
             [
              1.0,
              "#f0f921"
             ]
            ]
           }
          ],
          "heatmapgl": [
           {
            "type": "heatmapgl",
            "colorbar": {
             "outlinewidth": 0,
             "ticks": ""
            },
            "colorscale": [
             [
              0.0,
              "#0d0887"
             ],
             [
              0.1111111111111111,
              "#46039f"
             ],
             [
              0.2222222222222222,
              "#7201a8"
             ],
             [
              0.3333333333333333,
              "#9c179e"
             ],
             [
              0.4444444444444444,
              "#bd3786"
             ],
             [
              0.5555555555555556,
              "#d8576b"
             ],
             [
              0.6666666666666666,
              "#ed7953"
             ],
             [
              0.7777777777777778,
              "#fb9f3a"
             ],
             [
              0.8888888888888888,
              "#fdca26"
             ],
             [
              1.0,
              "#f0f921"
             ]
            ]
           }
          ],
          "contourcarpet": [
           {
            "type": "contourcarpet",
            "colorbar": {
             "outlinewidth": 0,
             "ticks": ""
            }
           }
          ],
          "contour": [
           {
            "type": "contour",
            "colorbar": {
             "outlinewidth": 0,
             "ticks": ""
            },
            "colorscale": [
             [
              0.0,
              "#0d0887"
             ],
             [
              0.1111111111111111,
              "#46039f"
             ],
             [
              0.2222222222222222,
              "#7201a8"
             ],
             [
              0.3333333333333333,
              "#9c179e"
             ],
             [
              0.4444444444444444,
              "#bd3786"
             ],
             [
              0.5555555555555556,
              "#d8576b"
             ],
             [
              0.6666666666666666,
              "#ed7953"
             ],
             [
              0.7777777777777778,
              "#fb9f3a"
             ],
             [
              0.8888888888888888,
              "#fdca26"
             ],
             [
              1.0,
              "#f0f921"
             ]
            ]
           }
          ],
          "surface": [
           {
            "type": "surface",
            "colorbar": {
             "outlinewidth": 0,
             "ticks": ""
            },
            "colorscale": [
             [
              0.0,
              "#0d0887"
             ],
             [
              0.1111111111111111,
              "#46039f"
             ],
             [
              0.2222222222222222,
              "#7201a8"
             ],
             [
              0.3333333333333333,
              "#9c179e"
             ],
             [
              0.4444444444444444,
              "#bd3786"
             ],
             [
              0.5555555555555556,
              "#d8576b"
             ],
             [
              0.6666666666666666,
              "#ed7953"
             ],
             [
              0.7777777777777778,
              "#fb9f3a"
             ],
             [
              0.8888888888888888,
              "#fdca26"
             ],
             [
              1.0,
              "#f0f921"
             ]
            ]
           }
          ],
          "mesh3d": [
           {
            "type": "mesh3d",
            "colorbar": {
             "outlinewidth": 0,
             "ticks": ""
            }
           }
          ],
          "scatter": [
           {
            "fillpattern": {
             "fillmode": "overlay",
             "size": 10,
             "solidity": 0.2
            },
            "type": "scatter"
           }
          ],
          "parcoords": [
           {
            "type": "parcoords",
            "line": {
             "colorbar": {
              "outlinewidth": 0,
              "ticks": ""
             }
            }
           }
          ],
          "scatterpolargl": [
           {
            "type": "scatterpolargl",
            "marker": {
             "colorbar": {
              "outlinewidth": 0,
              "ticks": ""
             }
            }
           }
          ],
          "bar": [
           {
            "error_x": {
             "color": "#2a3f5f"
            },
            "error_y": {
             "color": "#2a3f5f"
            },
            "marker": {
             "line": {
              "color": "#E5ECF6",
              "width": 0.5
             },
             "pattern": {
              "fillmode": "overlay",
              "size": 10,
              "solidity": 0.2
             }
            },
            "type": "bar"
           }
          ],
          "scattergeo": [
           {
            "type": "scattergeo",
            "marker": {
             "colorbar": {
              "outlinewidth": 0,
              "ticks": ""
             }
            }
           }
          ],
          "scatterpolar": [
           {
            "type": "scatterpolar",
            "marker": {
             "colorbar": {
              "outlinewidth": 0,
              "ticks": ""
             }
            }
           }
          ],
          "histogram": [
           {
            "marker": {
             "pattern": {
              "fillmode": "overlay",
              "size": 10,
              "solidity": 0.2
             }
            },
            "type": "histogram"
           }
          ],
          "scattergl": [
           {
            "type": "scattergl",
            "marker": {
             "colorbar": {
              "outlinewidth": 0,
              "ticks": ""
             }
            }
           }
          ],
          "scatter3d": [
           {
            "type": "scatter3d",
            "line": {
             "colorbar": {
              "outlinewidth": 0,
              "ticks": ""
             }
            },
            "marker": {
             "colorbar": {
              "outlinewidth": 0,
              "ticks": ""
             }
            }
           }
          ],
          "scattermapbox": [
           {
            "type": "scattermapbox",
            "marker": {
             "colorbar": {
              "outlinewidth": 0,
              "ticks": ""
             }
            }
           }
          ],
          "scatterternary": [
           {
            "type": "scatterternary",
            "marker": {
             "colorbar": {
              "outlinewidth": 0,
              "ticks": ""
             }
            }
           }
          ],
          "scattercarpet": [
           {
            "type": "scattercarpet",
            "marker": {
             "colorbar": {
              "outlinewidth": 0,
              "ticks": ""
             }
            }
           }
          ],
          "carpet": [
           {
            "aaxis": {
             "endlinecolor": "#2a3f5f",
             "gridcolor": "white",
             "linecolor": "white",
             "minorgridcolor": "white",
             "startlinecolor": "#2a3f5f"
            },
            "baxis": {
             "endlinecolor": "#2a3f5f",
             "gridcolor": "white",
             "linecolor": "white",
             "minorgridcolor": "white",
             "startlinecolor": "#2a3f5f"
            },
            "type": "carpet"
           }
          ],
          "table": [
           {
            "cells": {
             "fill": {
              "color": "#EBF0F8"
             },
             "line": {
              "color": "white"
             }
            },
            "header": {
             "fill": {
              "color": "#C8D4E3"
             },
             "line": {
              "color": "white"
             }
            },
            "type": "table"
           }
          ],
          "barpolar": [
           {
            "marker": {
             "line": {
              "color": "#E5ECF6",
              "width": 0.5
             },
             "pattern": {
              "fillmode": "overlay",
              "size": 10,
              "solidity": 0.2
             }
            },
            "type": "barpolar"
           }
          ],
          "pie": [
           {
            "automargin": true,
            "type": "pie"
           }
          ]
         },
         "layout": {
          "autotypenumbers": "strict",
          "colorway": [
           "#636efa",
           "#EF553B",
           "#00cc96",
           "#ab63fa",
           "#FFA15A",
           "#19d3f3",
           "#FF6692",
           "#B6E880",
           "#FF97FF",
           "#FECB52"
          ],
          "font": {
           "color": "#2a3f5f"
          },
          "hovermode": "closest",
          "hoverlabel": {
           "align": "left"
          },
          "paper_bgcolor": "white",
          "plot_bgcolor": "#E5ECF6",
          "polar": {
           "bgcolor": "#E5ECF6",
           "angularaxis": {
            "gridcolor": "white",
            "linecolor": "white",
            "ticks": ""
           },
           "radialaxis": {
            "gridcolor": "white",
            "linecolor": "white",
            "ticks": ""
           }
          },
          "ternary": {
           "bgcolor": "#E5ECF6",
           "aaxis": {
            "gridcolor": "white",
            "linecolor": "white",
            "ticks": ""
           },
           "baxis": {
            "gridcolor": "white",
            "linecolor": "white",
            "ticks": ""
           },
           "caxis": {
            "gridcolor": "white",
            "linecolor": "white",
            "ticks": ""
           }
          },
          "coloraxis": {
           "colorbar": {
            "outlinewidth": 0,
            "ticks": ""
           }
          },
          "colorscale": {
           "sequential": [
            [
             0.0,
             "#0d0887"
            ],
            [
             0.1111111111111111,
             "#46039f"
            ],
            [
             0.2222222222222222,
             "#7201a8"
            ],
            [
             0.3333333333333333,
             "#9c179e"
            ],
            [
             0.4444444444444444,
             "#bd3786"
            ],
            [
             0.5555555555555556,
             "#d8576b"
            ],
            [
             0.6666666666666666,
             "#ed7953"
            ],
            [
             0.7777777777777778,
             "#fb9f3a"
            ],
            [
             0.8888888888888888,
             "#fdca26"
            ],
            [
             1.0,
             "#f0f921"
            ]
           ],
           "sequentialminus": [
            [
             0.0,
             "#0d0887"
            ],
            [
             0.1111111111111111,
             "#46039f"
            ],
            [
             0.2222222222222222,
             "#7201a8"
            ],
            [
             0.3333333333333333,
             "#9c179e"
            ],
            [
             0.4444444444444444,
             "#bd3786"
            ],
            [
             0.5555555555555556,
             "#d8576b"
            ],
            [
             0.6666666666666666,
             "#ed7953"
            ],
            [
             0.7777777777777778,
             "#fb9f3a"
            ],
            [
             0.8888888888888888,
             "#fdca26"
            ],
            [
             1.0,
             "#f0f921"
            ]
           ],
           "diverging": [
            [
             0,
             "#8e0152"
            ],
            [
             0.1,
             "#c51b7d"
            ],
            [
             0.2,
             "#de77ae"
            ],
            [
             0.3,
             "#f1b6da"
            ],
            [
             0.4,
             "#fde0ef"
            ],
            [
             0.5,
             "#f7f7f7"
            ],
            [
             0.6,
             "#e6f5d0"
            ],
            [
             0.7,
             "#b8e186"
            ],
            [
             0.8,
             "#7fbc41"
            ],
            [
             0.9,
             "#4d9221"
            ],
            [
             1,
             "#276419"
            ]
           ]
          },
          "xaxis": {
           "gridcolor": "white",
           "linecolor": "white",
           "ticks": "",
           "title": {
            "standoff": 15
           },
           "zerolinecolor": "white",
           "automargin": true,
           "zerolinewidth": 2
          },
          "yaxis": {
           "gridcolor": "white",
           "linecolor": "white",
           "ticks": "",
           "title": {
            "standoff": 15
           },
           "zerolinecolor": "white",
           "automargin": true,
           "zerolinewidth": 2
          },
          "scene": {
           "xaxis": {
            "backgroundcolor": "#E5ECF6",
            "gridcolor": "white",
            "linecolor": "white",
            "showbackground": true,
            "ticks": "",
            "zerolinecolor": "white",
            "gridwidth": 2
           },
           "yaxis": {
            "backgroundcolor": "#E5ECF6",
            "gridcolor": "white",
            "linecolor": "white",
            "showbackground": true,
            "ticks": "",
            "zerolinecolor": "white",
            "gridwidth": 2
           },
           "zaxis": {
            "backgroundcolor": "#E5ECF6",
            "gridcolor": "white",
            "linecolor": "white",
            "showbackground": true,
            "ticks": "",
            "zerolinecolor": "white",
            "gridwidth": 2
           }
          },
          "shapedefaults": {
           "line": {
            "color": "#2a3f5f"
           }
          },
          "annotationdefaults": {
           "arrowcolor": "#2a3f5f",
           "arrowhead": 0,
           "arrowwidth": 1
          },
          "geo": {
           "bgcolor": "white",
           "landcolor": "#E5ECF6",
           "subunitcolor": "white",
           "showland": true,
           "showlakes": true,
           "lakecolor": "white"
          },
          "title": {
           "x": 0.05
          },
          "mapbox": {
           "style": "light"
          }
         }
        }
       },
       "config": {
        "plotlyServerURL": "https://plot.ly"
       }
      },
      "text/html": [
       "<div>                            <div id=\"8b92db89-8898-4fa6-bccd-f13e95d2a599\" class=\"plotly-graph-div\" style=\"height:525px; width:100%;\"></div>            <script type=\"text/javascript\">                require([\"plotly\"], function(Plotly) {                    window.PLOTLYENV=window.PLOTLYENV || {};                                    if (document.getElementById(\"8b92db89-8898-4fa6-bccd-f13e95d2a599\")) {                    Plotly.newPlot(                        \"8b92db89-8898-4fa6-bccd-f13e95d2a599\",                        [{\"marker\":{\"color\":\"#3dd4dc\"},\"x\":[\"AB de Villiers\",\"CH Gayle\",\"DA Warner\",\"KD Karthik\",\"MS Dhoni\",\"RG Sharma\",\"RV Uthappa\",\"S Dhawan\",\"SK Raina\",\"V Kohli\"],\"y\":[5181,4997,6567,4843,5243,6630,4954,6769,5536,8014],\"type\":\"bar\"}],                        {\"title\":{\"text\":\"Top 10 IPL Batsman\"},\"xaxis\":{\"title\":{\"text\":\"Batsman\"}},\"yaxis\":{\"title\":{\"text\":\"Total Runs\"}},\"template\":{\"data\":{\"histogram2dcontour\":[{\"type\":\"histogram2dcontour\",\"colorbar\":{\"outlinewidth\":0,\"ticks\":\"\"},\"colorscale\":[[0.0,\"#0d0887\"],[0.1111111111111111,\"#46039f\"],[0.2222222222222222,\"#7201a8\"],[0.3333333333333333,\"#9c179e\"],[0.4444444444444444,\"#bd3786\"],[0.5555555555555556,\"#d8576b\"],[0.6666666666666666,\"#ed7953\"],[0.7777777777777778,\"#fb9f3a\"],[0.8888888888888888,\"#fdca26\"],[1.0,\"#f0f921\"]]}],\"choropleth\":[{\"type\":\"choropleth\",\"colorbar\":{\"outlinewidth\":0,\"ticks\":\"\"}}],\"histogram2d\":[{\"type\":\"histogram2d\",\"colorbar\":{\"outlinewidth\":0,\"ticks\":\"\"},\"colorscale\":[[0.0,\"#0d0887\"],[0.1111111111111111,\"#46039f\"],[0.2222222222222222,\"#7201a8\"],[0.3333333333333333,\"#9c179e\"],[0.4444444444444444,\"#bd3786\"],[0.5555555555555556,\"#d8576b\"],[0.6666666666666666,\"#ed7953\"],[0.7777777777777778,\"#fb9f3a\"],[0.8888888888888888,\"#fdca26\"],[1.0,\"#f0f921\"]]}],\"heatmap\":[{\"type\":\"heatmap\",\"colorbar\":{\"outlinewidth\":0,\"ticks\":\"\"},\"colorscale\":[[0.0,\"#0d0887\"],[0.1111111111111111,\"#46039f\"],[0.2222222222222222,\"#7201a8\"],[0.3333333333333333,\"#9c179e\"],[0.4444444444444444,\"#bd3786\"],[0.5555555555555556,\"#d8576b\"],[0.6666666666666666,\"#ed7953\"],[0.7777777777777778,\"#fb9f3a\"],[0.8888888888888888,\"#fdca26\"],[1.0,\"#f0f921\"]]}],\"heatmapgl\":[{\"type\":\"heatmapgl\",\"colorbar\":{\"outlinewidth\":0,\"ticks\":\"\"},\"colorscale\":[[0.0,\"#0d0887\"],[0.1111111111111111,\"#46039f\"],[0.2222222222222222,\"#7201a8\"],[0.3333333333333333,\"#9c179e\"],[0.4444444444444444,\"#bd3786\"],[0.5555555555555556,\"#d8576b\"],[0.6666666666666666,\"#ed7953\"],[0.7777777777777778,\"#fb9f3a\"],[0.8888888888888888,\"#fdca26\"],[1.0,\"#f0f921\"]]}],\"contourcarpet\":[{\"type\":\"contourcarpet\",\"colorbar\":{\"outlinewidth\":0,\"ticks\":\"\"}}],\"contour\":[{\"type\":\"contour\",\"colorbar\":{\"outlinewidth\":0,\"ticks\":\"\"},\"colorscale\":[[0.0,\"#0d0887\"],[0.1111111111111111,\"#46039f\"],[0.2222222222222222,\"#7201a8\"],[0.3333333333333333,\"#9c179e\"],[0.4444444444444444,\"#bd3786\"],[0.5555555555555556,\"#d8576b\"],[0.6666666666666666,\"#ed7953\"],[0.7777777777777778,\"#fb9f3a\"],[0.8888888888888888,\"#fdca26\"],[1.0,\"#f0f921\"]]}],\"surface\":[{\"type\":\"surface\",\"colorbar\":{\"outlinewidth\":0,\"ticks\":\"\"},\"colorscale\":[[0.0,\"#0d0887\"],[0.1111111111111111,\"#46039f\"],[0.2222222222222222,\"#7201a8\"],[0.3333333333333333,\"#9c179e\"],[0.4444444444444444,\"#bd3786\"],[0.5555555555555556,\"#d8576b\"],[0.6666666666666666,\"#ed7953\"],[0.7777777777777778,\"#fb9f3a\"],[0.8888888888888888,\"#fdca26\"],[1.0,\"#f0f921\"]]}],\"mesh3d\":[{\"type\":\"mesh3d\",\"colorbar\":{\"outlinewidth\":0,\"ticks\":\"\"}}],\"scatter\":[{\"fillpattern\":{\"fillmode\":\"overlay\",\"size\":10,\"solidity\":0.2},\"type\":\"scatter\"}],\"parcoords\":[{\"type\":\"parcoords\",\"line\":{\"colorbar\":{\"outlinewidth\":0,\"ticks\":\"\"}}}],\"scatterpolargl\":[{\"type\":\"scatterpolargl\",\"marker\":{\"colorbar\":{\"outlinewidth\":0,\"ticks\":\"\"}}}],\"bar\":[{\"error_x\":{\"color\":\"#2a3f5f\"},\"error_y\":{\"color\":\"#2a3f5f\"},\"marker\":{\"line\":{\"color\":\"#E5ECF6\",\"width\":0.5},\"pattern\":{\"fillmode\":\"overlay\",\"size\":10,\"solidity\":0.2}},\"type\":\"bar\"}],\"scattergeo\":[{\"type\":\"scattergeo\",\"marker\":{\"colorbar\":{\"outlinewidth\":0,\"ticks\":\"\"}}}],\"scatterpolar\":[{\"type\":\"scatterpolar\",\"marker\":{\"colorbar\":{\"outlinewidth\":0,\"ticks\":\"\"}}}],\"histogram\":[{\"marker\":{\"pattern\":{\"fillmode\":\"overlay\",\"size\":10,\"solidity\":0.2}},\"type\":\"histogram\"}],\"scattergl\":[{\"type\":\"scattergl\",\"marker\":{\"colorbar\":{\"outlinewidth\":0,\"ticks\":\"\"}}}],\"scatter3d\":[{\"type\":\"scatter3d\",\"line\":{\"colorbar\":{\"outlinewidth\":0,\"ticks\":\"\"}},\"marker\":{\"colorbar\":{\"outlinewidth\":0,\"ticks\":\"\"}}}],\"scattermapbox\":[{\"type\":\"scattermapbox\",\"marker\":{\"colorbar\":{\"outlinewidth\":0,\"ticks\":\"\"}}}],\"scatterternary\":[{\"type\":\"scatterternary\",\"marker\":{\"colorbar\":{\"outlinewidth\":0,\"ticks\":\"\"}}}],\"scattercarpet\":[{\"type\":\"scattercarpet\",\"marker\":{\"colorbar\":{\"outlinewidth\":0,\"ticks\":\"\"}}}],\"carpet\":[{\"aaxis\":{\"endlinecolor\":\"#2a3f5f\",\"gridcolor\":\"white\",\"linecolor\":\"white\",\"minorgridcolor\":\"white\",\"startlinecolor\":\"#2a3f5f\"},\"baxis\":{\"endlinecolor\":\"#2a3f5f\",\"gridcolor\":\"white\",\"linecolor\":\"white\",\"minorgridcolor\":\"white\",\"startlinecolor\":\"#2a3f5f\"},\"type\":\"carpet\"}],\"table\":[{\"cells\":{\"fill\":{\"color\":\"#EBF0F8\"},\"line\":{\"color\":\"white\"}},\"header\":{\"fill\":{\"color\":\"#C8D4E3\"},\"line\":{\"color\":\"white\"}},\"type\":\"table\"}],\"barpolar\":[{\"marker\":{\"line\":{\"color\":\"#E5ECF6\",\"width\":0.5},\"pattern\":{\"fillmode\":\"overlay\",\"size\":10,\"solidity\":0.2}},\"type\":\"barpolar\"}],\"pie\":[{\"automargin\":true,\"type\":\"pie\"}]},\"layout\":{\"autotypenumbers\":\"strict\",\"colorway\":[\"#636efa\",\"#EF553B\",\"#00cc96\",\"#ab63fa\",\"#FFA15A\",\"#19d3f3\",\"#FF6692\",\"#B6E880\",\"#FF97FF\",\"#FECB52\"],\"font\":{\"color\":\"#2a3f5f\"},\"hovermode\":\"closest\",\"hoverlabel\":{\"align\":\"left\"},\"paper_bgcolor\":\"white\",\"plot_bgcolor\":\"#E5ECF6\",\"polar\":{\"bgcolor\":\"#E5ECF6\",\"angularaxis\":{\"gridcolor\":\"white\",\"linecolor\":\"white\",\"ticks\":\"\"},\"radialaxis\":{\"gridcolor\":\"white\",\"linecolor\":\"white\",\"ticks\":\"\"}},\"ternary\":{\"bgcolor\":\"#E5ECF6\",\"aaxis\":{\"gridcolor\":\"white\",\"linecolor\":\"white\",\"ticks\":\"\"},\"baxis\":{\"gridcolor\":\"white\",\"linecolor\":\"white\",\"ticks\":\"\"},\"caxis\":{\"gridcolor\":\"white\",\"linecolor\":\"white\",\"ticks\":\"\"}},\"coloraxis\":{\"colorbar\":{\"outlinewidth\":0,\"ticks\":\"\"}},\"colorscale\":{\"sequential\":[[0.0,\"#0d0887\"],[0.1111111111111111,\"#46039f\"],[0.2222222222222222,\"#7201a8\"],[0.3333333333333333,\"#9c179e\"],[0.4444444444444444,\"#bd3786\"],[0.5555555555555556,\"#d8576b\"],[0.6666666666666666,\"#ed7953\"],[0.7777777777777778,\"#fb9f3a\"],[0.8888888888888888,\"#fdca26\"],[1.0,\"#f0f921\"]],\"sequentialminus\":[[0.0,\"#0d0887\"],[0.1111111111111111,\"#46039f\"],[0.2222222222222222,\"#7201a8\"],[0.3333333333333333,\"#9c179e\"],[0.4444444444444444,\"#bd3786\"],[0.5555555555555556,\"#d8576b\"],[0.6666666666666666,\"#ed7953\"],[0.7777777777777778,\"#fb9f3a\"],[0.8888888888888888,\"#fdca26\"],[1.0,\"#f0f921\"]],\"diverging\":[[0,\"#8e0152\"],[0.1,\"#c51b7d\"],[0.2,\"#de77ae\"],[0.3,\"#f1b6da\"],[0.4,\"#fde0ef\"],[0.5,\"#f7f7f7\"],[0.6,\"#e6f5d0\"],[0.7,\"#b8e186\"],[0.8,\"#7fbc41\"],[0.9,\"#4d9221\"],[1,\"#276419\"]]},\"xaxis\":{\"gridcolor\":\"white\",\"linecolor\":\"white\",\"ticks\":\"\",\"title\":{\"standoff\":15},\"zerolinecolor\":\"white\",\"automargin\":true,\"zerolinewidth\":2},\"yaxis\":{\"gridcolor\":\"white\",\"linecolor\":\"white\",\"ticks\":\"\",\"title\":{\"standoff\":15},\"zerolinecolor\":\"white\",\"automargin\":true,\"zerolinewidth\":2},\"scene\":{\"xaxis\":{\"backgroundcolor\":\"#E5ECF6\",\"gridcolor\":\"white\",\"linecolor\":\"white\",\"showbackground\":true,\"ticks\":\"\",\"zerolinecolor\":\"white\",\"gridwidth\":2},\"yaxis\":{\"backgroundcolor\":\"#E5ECF6\",\"gridcolor\":\"white\",\"linecolor\":\"white\",\"showbackground\":true,\"ticks\":\"\",\"zerolinecolor\":\"white\",\"gridwidth\":2},\"zaxis\":{\"backgroundcolor\":\"#E5ECF6\",\"gridcolor\":\"white\",\"linecolor\":\"white\",\"showbackground\":true,\"ticks\":\"\",\"zerolinecolor\":\"white\",\"gridwidth\":2}},\"shapedefaults\":{\"line\":{\"color\":\"#2a3f5f\"}},\"annotationdefaults\":{\"arrowcolor\":\"#2a3f5f\",\"arrowhead\":0,\"arrowwidth\":1},\"geo\":{\"bgcolor\":\"white\",\"landcolor\":\"#E5ECF6\",\"subunitcolor\":\"white\",\"showland\":true,\"showlakes\":true,\"lakecolor\":\"white\"},\"title\":{\"x\":0.05},\"mapbox\":{\"style\":\"light\"}}}},                        {\"responsive\": true}                    ).then(function(){\n",
       "                            \n",
       "var gd = document.getElementById('8b92db89-8898-4fa6-bccd-f13e95d2a599');\n",
       "var x = new MutationObserver(function (mutations, observer) {{\n",
       "        var display = window.getComputedStyle(gd).display;\n",
       "        if (!display || display === 'none') {{\n",
       "            console.log([gd, 'removed!']);\n",
       "            Plotly.purge(gd);\n",
       "            observer.disconnect();\n",
       "        }}\n",
       "}});\n",
       "\n",
       "// Listen for the removal of the full notebook cells\n",
       "var notebookContainer = gd.closest('#notebook-container');\n",
       "if (notebookContainer) {{\n",
       "    x.observe(notebookContainer, {childList: true});\n",
       "}}\n",
       "\n",
       "// Listen for the clearing of the current output cell\n",
       "var outputEl = gd.closest('.output');\n",
       "if (outputEl) {{\n",
       "    x.observe(outputEl, {childList: true});\n",
       "}}\n",
       "\n",
       "                        })                };                });            </script>        </div>"
      ]
     },
     "metadata": {},
     "output_type": "display_data"
    }
   ],
   "execution_count": 163
  },
  {
   "metadata": {},
   "cell_type": "markdown",
   "source": [
    "## There are 3 types of Bar graphs\n",
    "1. Nested Bar Graph\n",
    "2. Stacked Bar Graph\n",
    "3. Overlayed Bar Graph"
   ],
   "id": "787e892f350aa45c"
  },
  {
   "metadata": {
    "ExecuteTime": {
     "end_time": "2024-10-26T17:42:18.253738Z",
     "start_time": "2024-10-26T17:42:18.046324Z"
    }
   },
   "cell_type": "code",
   "source": [
    "iw = top10_df.groupby(['batter', 'inning'])['batsman_runs'].sum().reset_index()\n",
    "\n",
    "one = iw.season_wise_2008('inning==1')\n",
    "two = iw.season_wise_2008('inning==2')\n",
    "\n",
    "one.rename(columns={'batsman_runs': '1st Innings'}, inplace=True)\n",
    "two.rename(columns={'batsman_runs': '2nd Innings'}, inplace=True)\n",
    "\n",
    "final = one.merge(two, on='batter')[['batter', '1st Innings', '2nd Innings']]\n",
    "final"
   ],
   "id": "e34be5a73b27cbec",
   "outputs": [
    {
     "ename": "AttributeError",
     "evalue": "'DataFrame' object has no attribute 'season_wise_2008'",
     "output_type": "error",
     "traceback": [
      "\u001B[1;31m---------------------------------------------------------------------------\u001B[0m",
      "\u001B[1;31mAttributeError\u001B[0m                            Traceback (most recent call last)",
      "\u001B[1;32m~\\AppData\\Local\\Temp\\ipykernel_17564\\2869455771.py\u001B[0m in \u001B[0;36m?\u001B[1;34m()\u001B[0m\n\u001B[0;32m      1\u001B[0m \u001B[0miw\u001B[0m \u001B[1;33m=\u001B[0m \u001B[0mtop10_df\u001B[0m\u001B[1;33m.\u001B[0m\u001B[0mgroupby\u001B[0m\u001B[1;33m(\u001B[0m\u001B[1;33m[\u001B[0m\u001B[1;34m'batter'\u001B[0m\u001B[1;33m,\u001B[0m \u001B[1;34m'inning'\u001B[0m\u001B[1;33m]\u001B[0m\u001B[1;33m)\u001B[0m\u001B[1;33m[\u001B[0m\u001B[1;34m'batsman_runs'\u001B[0m\u001B[1;33m]\u001B[0m\u001B[1;33m.\u001B[0m\u001B[0msum\u001B[0m\u001B[1;33m(\u001B[0m\u001B[1;33m)\u001B[0m\u001B[1;33m.\u001B[0m\u001B[0mreset_index\u001B[0m\u001B[1;33m(\u001B[0m\u001B[1;33m)\u001B[0m\u001B[1;33m\u001B[0m\u001B[1;33m\u001B[0m\u001B[0m\n\u001B[0;32m      2\u001B[0m \u001B[1;33m\u001B[0m\u001B[0m\n\u001B[1;32m----> 3\u001B[1;33m \u001B[0mone\u001B[0m \u001B[1;33m=\u001B[0m \u001B[0miw\u001B[0m\u001B[1;33m.\u001B[0m\u001B[0mseason_wise_2008\u001B[0m\u001B[1;33m(\u001B[0m\u001B[1;34m'inning==1'\u001B[0m\u001B[1;33m)\u001B[0m\u001B[1;33m\u001B[0m\u001B[1;33m\u001B[0m\u001B[0m\n\u001B[0m\u001B[0;32m      4\u001B[0m \u001B[0mtwo\u001B[0m \u001B[1;33m=\u001B[0m \u001B[0miw\u001B[0m\u001B[1;33m.\u001B[0m\u001B[0mseason_wise_2008\u001B[0m\u001B[1;33m(\u001B[0m\u001B[1;34m'inning==2'\u001B[0m\u001B[1;33m)\u001B[0m\u001B[1;33m\u001B[0m\u001B[1;33m\u001B[0m\u001B[0m\n\u001B[0;32m      5\u001B[0m \u001B[1;33m\u001B[0m\u001B[0m\n\u001B[0;32m      6\u001B[0m \u001B[0mone\u001B[0m\u001B[1;33m.\u001B[0m\u001B[0mrename\u001B[0m\u001B[1;33m(\u001B[0m\u001B[0mcolumns\u001B[0m\u001B[1;33m=\u001B[0m\u001B[1;33m{\u001B[0m\u001B[1;34m'batsman_runs'\u001B[0m\u001B[1;33m:\u001B[0m \u001B[1;34m'1st Innings'\u001B[0m\u001B[1;33m}\u001B[0m\u001B[1;33m,\u001B[0m \u001B[0minplace\u001B[0m\u001B[1;33m=\u001B[0m\u001B[1;32mTrue\u001B[0m\u001B[1;33m)\u001B[0m\u001B[1;33m\u001B[0m\u001B[1;33m\u001B[0m\u001B[0m\n",
      "\u001B[1;32m~\\AppData\\Local\\Programs\\Python\\Python312\\Lib\\site-packages\\pandas\\core\\generic.py\u001B[0m in \u001B[0;36m?\u001B[1;34m(self, name)\u001B[0m\n\u001B[0;32m   6295\u001B[0m             \u001B[1;32mand\u001B[0m \u001B[0mname\u001B[0m \u001B[1;32mnot\u001B[0m \u001B[1;32min\u001B[0m \u001B[0mself\u001B[0m\u001B[1;33m.\u001B[0m\u001B[0m_accessors\u001B[0m\u001B[1;33m\u001B[0m\u001B[1;33m\u001B[0m\u001B[0m\n\u001B[0;32m   6296\u001B[0m             \u001B[1;32mand\u001B[0m \u001B[0mself\u001B[0m\u001B[1;33m.\u001B[0m\u001B[0m_info_axis\u001B[0m\u001B[1;33m.\u001B[0m\u001B[0m_can_hold_identifiers_and_holds_name\u001B[0m\u001B[1;33m(\u001B[0m\u001B[0mname\u001B[0m\u001B[1;33m)\u001B[0m\u001B[1;33m\u001B[0m\u001B[1;33m\u001B[0m\u001B[0m\n\u001B[0;32m   6297\u001B[0m         \u001B[1;33m)\u001B[0m\u001B[1;33m:\u001B[0m\u001B[1;33m\u001B[0m\u001B[1;33m\u001B[0m\u001B[0m\n\u001B[0;32m   6298\u001B[0m             \u001B[1;32mreturn\u001B[0m \u001B[0mself\u001B[0m\u001B[1;33m[\u001B[0m\u001B[0mname\u001B[0m\u001B[1;33m]\u001B[0m\u001B[1;33m\u001B[0m\u001B[1;33m\u001B[0m\u001B[0m\n\u001B[1;32m-> 6299\u001B[1;33m         \u001B[1;32mreturn\u001B[0m \u001B[0mobject\u001B[0m\u001B[1;33m.\u001B[0m\u001B[0m__getattribute__\u001B[0m\u001B[1;33m(\u001B[0m\u001B[0mself\u001B[0m\u001B[1;33m,\u001B[0m \u001B[0mname\u001B[0m\u001B[1;33m)\u001B[0m\u001B[1;33m\u001B[0m\u001B[1;33m\u001B[0m\u001B[0m\n\u001B[0m",
      "\u001B[1;31mAttributeError\u001B[0m: 'DataFrame' object has no attribute 'season_wise_2008'"
     ]
    }
   ],
   "execution_count": 164
  },
  {
   "metadata": {
    "ExecuteTime": {
     "end_time": "2024-10-26T17:42:18.256745Z",
     "start_time": "2024-10-26T17:42:18.256745Z"
    }
   },
   "cell_type": "code",
   "source": [
    "trace1 = go.Bar(x=final.batter, y=final['1st Innings'], name='1st Innings', marker={'color': '#bb8fce'})\n",
    "trace2 = go.Bar(x=final.batter, y=final['2nd Innings'], name='2nd Innings', marker={'color': '#dca43d'})\n",
    "\n",
    "data = [trace1, trace2]\n",
    "layout = go.Layout(title='Inning Wise Scores',\n",
    "                   xaxis={'title': 'Batsman'},\n",
    "                   yaxis={'title': 'Runs'})\n",
    "\n",
    "fig = go.Figure(data=data, layout=layout)\n",
    "\n",
    "plotly.io.show(fig)"
   ],
   "id": "ed1e747700467345",
   "outputs": [],
   "execution_count": null
  },
  {
   "metadata": {
    "ExecuteTime": {
     "end_time": "2024-10-26T17:42:18.259750Z",
     "start_time": "2024-10-26T17:42:18.258744Z"
    }
   },
   "cell_type": "code",
   "source": [
    "trace1 = go.Bar(x=final.batter, y=final['1st Innings'], name='1st Innings', marker={'color': '#bb8fce'})\n",
    "trace2 = go.Bar(x=final.batter, y=final['2nd Innings'], name='2nd Innings', marker={'color': '#dca43d'})\n",
    "\n",
    "data = [trace1, trace2]\n",
    "layout = go.Layout(title='Inning Wise Scores',\n",
    "                   xaxis={'title': 'Batsman'},\n",
    "                   yaxis={'title': 'Runs'},\n",
    "                   barmode='stack')\n",
    "\n",
    "fig = go.Figure(data=data, layout=layout)\n",
    "\n",
    "plotly.io.show(fig)"
   ],
   "id": "32d2144ff24a6e8a",
   "outputs": [],
   "execution_count": null
  },
  {
   "metadata": {
    "ExecuteTime": {
     "end_time": "2024-10-26T17:42:18.260746Z",
     "start_time": "2024-10-26T17:42:18.260746Z"
    }
   },
   "cell_type": "code",
   "source": [
    "trace1 = go.Bar(x=final.batter, y=final['1st Innings'], name='1st Innings', marker={'color': '#bb8fce'})\n",
    "trace2 = go.Bar(x=final.batter, y=final['2nd Innings'], name='2nd Innings', marker={'color': '#dca43d'})\n",
    "\n",
    "data = [trace1, trace2]\n",
    "layout = go.Layout(title='Inning Wise Scores',\n",
    "                   xaxis={'title': 'Batsman'},\n",
    "                   yaxis={'title': 'Runs'},\n",
    "                   barmode='overlay')\n",
    "\n",
    "fig = go.Figure(data=data, layout=layout)\n",
    "\n",
    "plotly.io.show(fig)"
   ],
   "id": "b93ab1cf65081e85",
   "outputs": [],
   "execution_count": null
  },
  {
   "metadata": {},
   "cell_type": "markdown",
   "source": [
    "## Bubble Plot\n",
    "<p>Again an extension of Scatter plot. with some additional informations</p>\n",
    "<img src=\"https://www.data-to-viz.com/graph/bubble_files/figure-html/unnamed-chunk-1-1.png\"/>\n"
   ],
   "id": "2fd6384aecc9cc79"
  },
  {
   "metadata": {},
   "cell_type": "code",
   "source": [
    "print(new_ipl.shape)\n",
    "new_ipl.head()"
   ],
   "id": "c0249b401ee0359f",
   "outputs": [],
   "execution_count": null
  },
  {
   "metadata": {},
   "cell_type": "code",
   "source": [
    "new_ipl = new_ipl.query('batsman_runs == 6')\n",
    "new_ipl.head()"
   ],
   "id": "b40ab4150f874add",
   "outputs": [],
   "execution_count": null
  },
  {
   "metadata": {},
   "cell_type": "code",
   "source": [
    "six = new_ipl.groupby('batter')['batsman_runs'].count().reset_index()\n",
    "six.rename(columns={'batsman_runs': 'total_career_sixes'}, inplace=True)\n",
    "six"
   ],
   "id": "ba5f553787bbbff7",
   "outputs": [],
   "execution_count": null
  },
  {
   "metadata": {},
   "cell_type": "code",
   "source": "avg.head()",
   "id": "f06a884fbebe2697",
   "outputs": [],
   "execution_count": null
  },
  {
   "metadata": {},
   "cell_type": "code",
   "source": [
    "x = avg.merge(six, on='batter')\n",
    "x"
   ],
   "id": "7017f5d3929df830",
   "outputs": [],
   "execution_count": null
  },
  {
   "metadata": {
    "ExecuteTime": {
     "end_time": "2024-10-26T17:42:18.375699Z",
     "start_time": "2024-10-26T17:42:18.365748Z"
    }
   },
   "cell_type": "code",
   "source": [
    "# Bubble plot\n",
    "trace = go.Scatter(x=x.avg, y=x.strike_rate, mode='markers',\n",
    "                   marker={'size': x.total_career_sixes})\n",
    "\n",
    "data = [trace]\n",
    "layout = go.Layout(title='Bubble Chart',\n",
    "                   xaxis={'title': 'Average'},\n",
    "                   yaxis={'title': 'Strike_Rate'})\n",
    "\n",
    "fig = go.Figure(data=data, layout=layout)\n",
    "\n",
    "plotly.io.show(fig)"
   ],
   "id": "fbd8141158b21330",
   "outputs": [
    {
     "data": {
      "application/vnd.plotly.v1+json": {
       "data": [
        {
         "marker": {
          "size": [
           253,
           209,
           78,
           103,
           173,
           130,
           359,
           134,
           236,
           117,
           166,
           59,
           160,
           137,
           119,
           161,
           44,
           224,
           161,
           187,
           64,
           91,
           98,
           111,
           252,
           132,
           49,
           123,
           28,
           107,
           84,
           91,
           281,
           154,
           182,
           153,
           130,
           78,
           204,
           60,
           29,
           190,
           113,
           206,
           95,
           273,
           106,
           87,
           161,
           149
          ]
         },
         "mode": "markers",
         "x": [
          39.853846153846156,
          28.930232558139537,
          24.904761904761905,
          30.142857142857142,
          28.051612903225806,
          27.71153846153846,
          39.65873015873016,
          35.65853658536585,
          40.042682926829265,
          28.392857142857142,
          35.99212598425197,
          31.00735294117647,
          24.75,
          28.471910112359552,
          28.43010752688172,
          37.71578947368421,
          28.55294117647059,
          28.40495867768595,
          26.320652173913043,
          44.65714285714286,
          35.53333333333333,
          25.93069306930693,
          22.811965811965813,
          29.015037593984964,
          39.12686567164179,
          28.344086021505376,
          22.603174603174605,
          30.980392156862745,
          28.233766233766232,
          27.39814814814815,
          26.93975903614458,
          41.75438596491228,
          29.730941704035875,
          35.45161290322581,
          27.522222222222222,
          35.07253886010363,
          31.805309734513273,
          39.507936507936506,
          32.37426900584796,
          34.65277777777778,
          33.82608695652174,
          30.793650793650794,
          31.948979591836736,
          30.6875,
          37.83529411764706,
          38.71497584541063,
          27.555555555555557,
          24.24793388429752,
          29.29090909090909,
          24.81081081081081
         ],
         "y": [
          148.58044164037855,
          164.22442244224422,
          123.34905660377358,
          120.32141005702437,
          124.58452722063038,
          126.84859154929578,
          142.1217292377702,
          134.68447719944726,
          135.4299855640338,
          132.27953410981698,
          133.07132459970887,
          119.66515323496027,
          150.4885993485342,
          139.69128996692393,
          132.79758915118032,
          142.23898372369987,
          105.93627237014405,
          140.45770331017573,
          131.35340385136968,
          131.05086640581328,
          122.95271049596307,
          118.61413043478262,
          128.25564632388276,
          117.36618004866179,
          132.8350646060299,
          130.81885856079404,
          116.62571662571663,
          131.12033195020746,
          113.34723670490095,
          124.4322960470984,
          135.51515151515153,
          133.63279056709715,
          127.91819409608335,
          143.59756097560975,
          126.15227909345556,
          123.45431333211745,
          142.50594766058683,
          130.10977522216413,
          132.53531242518554,
          124.81240620310155,
          114.18786692759295,
          134.1632088520055,
          123.02554027504911,
          135.1376146788991,
          132.23684210526315,
          128.51186658114176,
          148.82705946535734,
          123.90202702702702,
          138.04627249357327,
          124.78477571363842
         ],
         "type": "scatter"
        }
       ],
       "layout": {
        "title": {
         "text": "Bubble Chart"
        },
        "xaxis": {
         "title": {
          "text": "Average"
         }
        },
        "yaxis": {
         "title": {
          "text": "Strike_Rate"
         }
        },
        "template": {
         "data": {
          "histogram2dcontour": [
           {
            "type": "histogram2dcontour",
            "colorbar": {
             "outlinewidth": 0,
             "ticks": ""
            },
            "colorscale": [
             [
              0.0,
              "#0d0887"
             ],
             [
              0.1111111111111111,
              "#46039f"
             ],
             [
              0.2222222222222222,
              "#7201a8"
             ],
             [
              0.3333333333333333,
              "#9c179e"
             ],
             [
              0.4444444444444444,
              "#bd3786"
             ],
             [
              0.5555555555555556,
              "#d8576b"
             ],
             [
              0.6666666666666666,
              "#ed7953"
             ],
             [
              0.7777777777777778,
              "#fb9f3a"
             ],
             [
              0.8888888888888888,
              "#fdca26"
             ],
             [
              1.0,
              "#f0f921"
             ]
            ]
           }
          ],
          "choropleth": [
           {
            "type": "choropleth",
            "colorbar": {
             "outlinewidth": 0,
             "ticks": ""
            }
           }
          ],
          "histogram2d": [
           {
            "type": "histogram2d",
            "colorbar": {
             "outlinewidth": 0,
             "ticks": ""
            },
            "colorscale": [
             [
              0.0,
              "#0d0887"
             ],
             [
              0.1111111111111111,
              "#46039f"
             ],
             [
              0.2222222222222222,
              "#7201a8"
             ],
             [
              0.3333333333333333,
              "#9c179e"
             ],
             [
              0.4444444444444444,
              "#bd3786"
             ],
             [
              0.5555555555555556,
              "#d8576b"
             ],
             [
              0.6666666666666666,
              "#ed7953"
             ],
             [
              0.7777777777777778,
              "#fb9f3a"
             ],
             [
              0.8888888888888888,
              "#fdca26"
             ],
             [
              1.0,
              "#f0f921"
             ]
            ]
           }
          ],
          "heatmap": [
           {
            "type": "heatmap",
            "colorbar": {
             "outlinewidth": 0,
             "ticks": ""
            },
            "colorscale": [
             [
              0.0,
              "#0d0887"
             ],
             [
              0.1111111111111111,
              "#46039f"
             ],
             [
              0.2222222222222222,
              "#7201a8"
             ],
             [
              0.3333333333333333,
              "#9c179e"
             ],
             [
              0.4444444444444444,
              "#bd3786"
             ],
             [
              0.5555555555555556,
              "#d8576b"
             ],
             [
              0.6666666666666666,
              "#ed7953"
             ],
             [
              0.7777777777777778,
              "#fb9f3a"
             ],
             [
              0.8888888888888888,
              "#fdca26"
             ],
             [
              1.0,
              "#f0f921"
             ]
            ]
           }
          ],
          "heatmapgl": [
           {
            "type": "heatmapgl",
            "colorbar": {
             "outlinewidth": 0,
             "ticks": ""
            },
            "colorscale": [
             [
              0.0,
              "#0d0887"
             ],
             [
              0.1111111111111111,
              "#46039f"
             ],
             [
              0.2222222222222222,
              "#7201a8"
             ],
             [
              0.3333333333333333,
              "#9c179e"
             ],
             [
              0.4444444444444444,
              "#bd3786"
             ],
             [
              0.5555555555555556,
              "#d8576b"
             ],
             [
              0.6666666666666666,
              "#ed7953"
             ],
             [
              0.7777777777777778,
              "#fb9f3a"
             ],
             [
              0.8888888888888888,
              "#fdca26"
             ],
             [
              1.0,
              "#f0f921"
             ]
            ]
           }
          ],
          "contourcarpet": [
           {
            "type": "contourcarpet",
            "colorbar": {
             "outlinewidth": 0,
             "ticks": ""
            }
           }
          ],
          "contour": [
           {
            "type": "contour",
            "colorbar": {
             "outlinewidth": 0,
             "ticks": ""
            },
            "colorscale": [
             [
              0.0,
              "#0d0887"
             ],
             [
              0.1111111111111111,
              "#46039f"
             ],
             [
              0.2222222222222222,
              "#7201a8"
             ],
             [
              0.3333333333333333,
              "#9c179e"
             ],
             [
              0.4444444444444444,
              "#bd3786"
             ],
             [
              0.5555555555555556,
              "#d8576b"
             ],
             [
              0.6666666666666666,
              "#ed7953"
             ],
             [
              0.7777777777777778,
              "#fb9f3a"
             ],
             [
              0.8888888888888888,
              "#fdca26"
             ],
             [
              1.0,
              "#f0f921"
             ]
            ]
           }
          ],
          "surface": [
           {
            "type": "surface",
            "colorbar": {
             "outlinewidth": 0,
             "ticks": ""
            },
            "colorscale": [
             [
              0.0,
              "#0d0887"
             ],
             [
              0.1111111111111111,
              "#46039f"
             ],
             [
              0.2222222222222222,
              "#7201a8"
             ],
             [
              0.3333333333333333,
              "#9c179e"
             ],
             [
              0.4444444444444444,
              "#bd3786"
             ],
             [
              0.5555555555555556,
              "#d8576b"
             ],
             [
              0.6666666666666666,
              "#ed7953"
             ],
             [
              0.7777777777777778,
              "#fb9f3a"
             ],
             [
              0.8888888888888888,
              "#fdca26"
             ],
             [
              1.0,
              "#f0f921"
             ]
            ]
           }
          ],
          "mesh3d": [
           {
            "type": "mesh3d",
            "colorbar": {
             "outlinewidth": 0,
             "ticks": ""
            }
           }
          ],
          "scatter": [
           {
            "fillpattern": {
             "fillmode": "overlay",
             "size": 10,
             "solidity": 0.2
            },
            "type": "scatter"
           }
          ],
          "parcoords": [
           {
            "type": "parcoords",
            "line": {
             "colorbar": {
              "outlinewidth": 0,
              "ticks": ""
             }
            }
           }
          ],
          "scatterpolargl": [
           {
            "type": "scatterpolargl",
            "marker": {
             "colorbar": {
              "outlinewidth": 0,
              "ticks": ""
             }
            }
           }
          ],
          "bar": [
           {
            "error_x": {
             "color": "#2a3f5f"
            },
            "error_y": {
             "color": "#2a3f5f"
            },
            "marker": {
             "line": {
              "color": "#E5ECF6",
              "width": 0.5
             },
             "pattern": {
              "fillmode": "overlay",
              "size": 10,
              "solidity": 0.2
             }
            },
            "type": "bar"
           }
          ],
          "scattergeo": [
           {
            "type": "scattergeo",
            "marker": {
             "colorbar": {
              "outlinewidth": 0,
              "ticks": ""
             }
            }
           }
          ],
          "scatterpolar": [
           {
            "type": "scatterpolar",
            "marker": {
             "colorbar": {
              "outlinewidth": 0,
              "ticks": ""
             }
            }
           }
          ],
          "histogram": [
           {
            "marker": {
             "pattern": {
              "fillmode": "overlay",
              "size": 10,
              "solidity": 0.2
             }
            },
            "type": "histogram"
           }
          ],
          "scattergl": [
           {
            "type": "scattergl",
            "marker": {
             "colorbar": {
              "outlinewidth": 0,
              "ticks": ""
             }
            }
           }
          ],
          "scatter3d": [
           {
            "type": "scatter3d",
            "line": {
             "colorbar": {
              "outlinewidth": 0,
              "ticks": ""
             }
            },
            "marker": {
             "colorbar": {
              "outlinewidth": 0,
              "ticks": ""
             }
            }
           }
          ],
          "scattermapbox": [
           {
            "type": "scattermapbox",
            "marker": {
             "colorbar": {
              "outlinewidth": 0,
              "ticks": ""
             }
            }
           }
          ],
          "scatterternary": [
           {
            "type": "scatterternary",
            "marker": {
             "colorbar": {
              "outlinewidth": 0,
              "ticks": ""
             }
            }
           }
          ],
          "scattercarpet": [
           {
            "type": "scattercarpet",
            "marker": {
             "colorbar": {
              "outlinewidth": 0,
              "ticks": ""
             }
            }
           }
          ],
          "carpet": [
           {
            "aaxis": {
             "endlinecolor": "#2a3f5f",
             "gridcolor": "white",
             "linecolor": "white",
             "minorgridcolor": "white",
             "startlinecolor": "#2a3f5f"
            },
            "baxis": {
             "endlinecolor": "#2a3f5f",
             "gridcolor": "white",
             "linecolor": "white",
             "minorgridcolor": "white",
             "startlinecolor": "#2a3f5f"
            },
            "type": "carpet"
           }
          ],
          "table": [
           {
            "cells": {
             "fill": {
              "color": "#EBF0F8"
             },
             "line": {
              "color": "white"
             }
            },
            "header": {
             "fill": {
              "color": "#C8D4E3"
             },
             "line": {
              "color": "white"
             }
            },
            "type": "table"
           }
          ],
          "barpolar": [
           {
            "marker": {
             "line": {
              "color": "#E5ECF6",
              "width": 0.5
             },
             "pattern": {
              "fillmode": "overlay",
              "size": 10,
              "solidity": 0.2
             }
            },
            "type": "barpolar"
           }
          ],
          "pie": [
           {
            "automargin": true,
            "type": "pie"
           }
          ]
         },
         "layout": {
          "autotypenumbers": "strict",
          "colorway": [
           "#636efa",
           "#EF553B",
           "#00cc96",
           "#ab63fa",
           "#FFA15A",
           "#19d3f3",
           "#FF6692",
           "#B6E880",
           "#FF97FF",
           "#FECB52"
          ],
          "font": {
           "color": "#2a3f5f"
          },
          "hovermode": "closest",
          "hoverlabel": {
           "align": "left"
          },
          "paper_bgcolor": "white",
          "plot_bgcolor": "#E5ECF6",
          "polar": {
           "bgcolor": "#E5ECF6",
           "angularaxis": {
            "gridcolor": "white",
            "linecolor": "white",
            "ticks": ""
           },
           "radialaxis": {
            "gridcolor": "white",
            "linecolor": "white",
            "ticks": ""
           }
          },
          "ternary": {
           "bgcolor": "#E5ECF6",
           "aaxis": {
            "gridcolor": "white",
            "linecolor": "white",
            "ticks": ""
           },
           "baxis": {
            "gridcolor": "white",
            "linecolor": "white",
            "ticks": ""
           },
           "caxis": {
            "gridcolor": "white",
            "linecolor": "white",
            "ticks": ""
           }
          },
          "coloraxis": {
           "colorbar": {
            "outlinewidth": 0,
            "ticks": ""
           }
          },
          "colorscale": {
           "sequential": [
            [
             0.0,
             "#0d0887"
            ],
            [
             0.1111111111111111,
             "#46039f"
            ],
            [
             0.2222222222222222,
             "#7201a8"
            ],
            [
             0.3333333333333333,
             "#9c179e"
            ],
            [
             0.4444444444444444,
             "#bd3786"
            ],
            [
             0.5555555555555556,
             "#d8576b"
            ],
            [
             0.6666666666666666,
             "#ed7953"
            ],
            [
             0.7777777777777778,
             "#fb9f3a"
            ],
            [
             0.8888888888888888,
             "#fdca26"
            ],
            [
             1.0,
             "#f0f921"
            ]
           ],
           "sequentialminus": [
            [
             0.0,
             "#0d0887"
            ],
            [
             0.1111111111111111,
             "#46039f"
            ],
            [
             0.2222222222222222,
             "#7201a8"
            ],
            [
             0.3333333333333333,
             "#9c179e"
            ],
            [
             0.4444444444444444,
             "#bd3786"
            ],
            [
             0.5555555555555556,
             "#d8576b"
            ],
            [
             0.6666666666666666,
             "#ed7953"
            ],
            [
             0.7777777777777778,
             "#fb9f3a"
            ],
            [
             0.8888888888888888,
             "#fdca26"
            ],
            [
             1.0,
             "#f0f921"
            ]
           ],
           "diverging": [
            [
             0,
             "#8e0152"
            ],
            [
             0.1,
             "#c51b7d"
            ],
            [
             0.2,
             "#de77ae"
            ],
            [
             0.3,
             "#f1b6da"
            ],
            [
             0.4,
             "#fde0ef"
            ],
            [
             0.5,
             "#f7f7f7"
            ],
            [
             0.6,
             "#e6f5d0"
            ],
            [
             0.7,
             "#b8e186"
            ],
            [
             0.8,
             "#7fbc41"
            ],
            [
             0.9,
             "#4d9221"
            ],
            [
             1,
             "#276419"
            ]
           ]
          },
          "xaxis": {
           "gridcolor": "white",
           "linecolor": "white",
           "ticks": "",
           "title": {
            "standoff": 15
           },
           "zerolinecolor": "white",
           "automargin": true,
           "zerolinewidth": 2
          },
          "yaxis": {
           "gridcolor": "white",
           "linecolor": "white",
           "ticks": "",
           "title": {
            "standoff": 15
           },
           "zerolinecolor": "white",
           "automargin": true,
           "zerolinewidth": 2
          },
          "scene": {
           "xaxis": {
            "backgroundcolor": "#E5ECF6",
            "gridcolor": "white",
            "linecolor": "white",
            "showbackground": true,
            "ticks": "",
            "zerolinecolor": "white",
            "gridwidth": 2
           },
           "yaxis": {
            "backgroundcolor": "#E5ECF6",
            "gridcolor": "white",
            "linecolor": "white",
            "showbackground": true,
            "ticks": "",
            "zerolinecolor": "white",
            "gridwidth": 2
           },
           "zaxis": {
            "backgroundcolor": "#E5ECF6",
            "gridcolor": "white",
            "linecolor": "white",
            "showbackground": true,
            "ticks": "",
            "zerolinecolor": "white",
            "gridwidth": 2
           }
          },
          "shapedefaults": {
           "line": {
            "color": "#2a3f5f"
           }
          },
          "annotationdefaults": {
           "arrowcolor": "#2a3f5f",
           "arrowhead": 0,
           "arrowwidth": 1
          },
          "geo": {
           "bgcolor": "white",
           "landcolor": "#E5ECF6",
           "subunitcolor": "white",
           "showland": true,
           "showlakes": true,
           "lakecolor": "white"
          },
          "title": {
           "x": 0.05
          },
          "mapbox": {
           "style": "light"
          }
         }
        }
       },
       "config": {
        "plotlyServerURL": "https://plot.ly"
       }
      },
      "text/html": [
       "<div>                            <div id=\"b2723b77-b802-4179-8e8d-8f8f0e4b195e\" class=\"plotly-graph-div\" style=\"height:525px; width:100%;\"></div>            <script type=\"text/javascript\">                require([\"plotly\"], function(Plotly) {                    window.PLOTLYENV=window.PLOTLYENV || {};                                    if (document.getElementById(\"b2723b77-b802-4179-8e8d-8f8f0e4b195e\")) {                    Plotly.newPlot(                        \"b2723b77-b802-4179-8e8d-8f8f0e4b195e\",                        [{\"marker\":{\"size\":[253,209,78,103,173,130,359,134,236,117,166,59,160,137,119,161,44,224,161,187,64,91,98,111,252,132,49,123,28,107,84,91,281,154,182,153,130,78,204,60,29,190,113,206,95,273,106,87,161,149]},\"mode\":\"markers\",\"x\":[39.853846153846156,28.930232558139537,24.904761904761905,30.142857142857142,28.051612903225806,27.71153846153846,39.65873015873016,35.65853658536585,40.042682926829265,28.392857142857142,35.99212598425197,31.00735294117647,24.75,28.471910112359552,28.43010752688172,37.71578947368421,28.55294117647059,28.40495867768595,26.320652173913043,44.65714285714286,35.53333333333333,25.93069306930693,22.811965811965813,29.015037593984964,39.12686567164179,28.344086021505376,22.603174603174605,30.980392156862745,28.233766233766232,27.39814814814815,26.93975903614458,41.75438596491228,29.730941704035875,35.45161290322581,27.522222222222222,35.07253886010363,31.805309734513273,39.507936507936506,32.37426900584796,34.65277777777778,33.82608695652174,30.793650793650794,31.948979591836736,30.6875,37.83529411764706,38.71497584541063,27.555555555555557,24.24793388429752,29.29090909090909,24.81081081081081],\"y\":[148.58044164037855,164.22442244224422,123.34905660377358,120.32141005702437,124.58452722063038,126.84859154929578,142.1217292377702,134.68447719944726,135.4299855640338,132.27953410981698,133.07132459970887,119.66515323496027,150.4885993485342,139.69128996692393,132.79758915118032,142.23898372369987,105.93627237014405,140.45770331017573,131.35340385136968,131.05086640581328,122.95271049596307,118.61413043478262,128.25564632388276,117.36618004866179,132.8350646060299,130.81885856079404,116.62571662571663,131.12033195020746,113.34723670490095,124.4322960470984,135.51515151515153,133.63279056709715,127.91819409608335,143.59756097560975,126.15227909345556,123.45431333211745,142.50594766058683,130.10977522216413,132.53531242518554,124.81240620310155,114.18786692759295,134.1632088520055,123.02554027504911,135.1376146788991,132.23684210526315,128.51186658114176,148.82705946535734,123.90202702702702,138.04627249357327,124.78477571363842],\"type\":\"scatter\"}],                        {\"title\":{\"text\":\"Bubble Chart\"},\"xaxis\":{\"title\":{\"text\":\"Average\"}},\"yaxis\":{\"title\":{\"text\":\"Strike_Rate\"}},\"template\":{\"data\":{\"histogram2dcontour\":[{\"type\":\"histogram2dcontour\",\"colorbar\":{\"outlinewidth\":0,\"ticks\":\"\"},\"colorscale\":[[0.0,\"#0d0887\"],[0.1111111111111111,\"#46039f\"],[0.2222222222222222,\"#7201a8\"],[0.3333333333333333,\"#9c179e\"],[0.4444444444444444,\"#bd3786\"],[0.5555555555555556,\"#d8576b\"],[0.6666666666666666,\"#ed7953\"],[0.7777777777777778,\"#fb9f3a\"],[0.8888888888888888,\"#fdca26\"],[1.0,\"#f0f921\"]]}],\"choropleth\":[{\"type\":\"choropleth\",\"colorbar\":{\"outlinewidth\":0,\"ticks\":\"\"}}],\"histogram2d\":[{\"type\":\"histogram2d\",\"colorbar\":{\"outlinewidth\":0,\"ticks\":\"\"},\"colorscale\":[[0.0,\"#0d0887\"],[0.1111111111111111,\"#46039f\"],[0.2222222222222222,\"#7201a8\"],[0.3333333333333333,\"#9c179e\"],[0.4444444444444444,\"#bd3786\"],[0.5555555555555556,\"#d8576b\"],[0.6666666666666666,\"#ed7953\"],[0.7777777777777778,\"#fb9f3a\"],[0.8888888888888888,\"#fdca26\"],[1.0,\"#f0f921\"]]}],\"heatmap\":[{\"type\":\"heatmap\",\"colorbar\":{\"outlinewidth\":0,\"ticks\":\"\"},\"colorscale\":[[0.0,\"#0d0887\"],[0.1111111111111111,\"#46039f\"],[0.2222222222222222,\"#7201a8\"],[0.3333333333333333,\"#9c179e\"],[0.4444444444444444,\"#bd3786\"],[0.5555555555555556,\"#d8576b\"],[0.6666666666666666,\"#ed7953\"],[0.7777777777777778,\"#fb9f3a\"],[0.8888888888888888,\"#fdca26\"],[1.0,\"#f0f921\"]]}],\"heatmapgl\":[{\"type\":\"heatmapgl\",\"colorbar\":{\"outlinewidth\":0,\"ticks\":\"\"},\"colorscale\":[[0.0,\"#0d0887\"],[0.1111111111111111,\"#46039f\"],[0.2222222222222222,\"#7201a8\"],[0.3333333333333333,\"#9c179e\"],[0.4444444444444444,\"#bd3786\"],[0.5555555555555556,\"#d8576b\"],[0.6666666666666666,\"#ed7953\"],[0.7777777777777778,\"#fb9f3a\"],[0.8888888888888888,\"#fdca26\"],[1.0,\"#f0f921\"]]}],\"contourcarpet\":[{\"type\":\"contourcarpet\",\"colorbar\":{\"outlinewidth\":0,\"ticks\":\"\"}}],\"contour\":[{\"type\":\"contour\",\"colorbar\":{\"outlinewidth\":0,\"ticks\":\"\"},\"colorscale\":[[0.0,\"#0d0887\"],[0.1111111111111111,\"#46039f\"],[0.2222222222222222,\"#7201a8\"],[0.3333333333333333,\"#9c179e\"],[0.4444444444444444,\"#bd3786\"],[0.5555555555555556,\"#d8576b\"],[0.6666666666666666,\"#ed7953\"],[0.7777777777777778,\"#fb9f3a\"],[0.8888888888888888,\"#fdca26\"],[1.0,\"#f0f921\"]]}],\"surface\":[{\"type\":\"surface\",\"colorbar\":{\"outlinewidth\":0,\"ticks\":\"\"},\"colorscale\":[[0.0,\"#0d0887\"],[0.1111111111111111,\"#46039f\"],[0.2222222222222222,\"#7201a8\"],[0.3333333333333333,\"#9c179e\"],[0.4444444444444444,\"#bd3786\"],[0.5555555555555556,\"#d8576b\"],[0.6666666666666666,\"#ed7953\"],[0.7777777777777778,\"#fb9f3a\"],[0.8888888888888888,\"#fdca26\"],[1.0,\"#f0f921\"]]}],\"mesh3d\":[{\"type\":\"mesh3d\",\"colorbar\":{\"outlinewidth\":0,\"ticks\":\"\"}}],\"scatter\":[{\"fillpattern\":{\"fillmode\":\"overlay\",\"size\":10,\"solidity\":0.2},\"type\":\"scatter\"}],\"parcoords\":[{\"type\":\"parcoords\",\"line\":{\"colorbar\":{\"outlinewidth\":0,\"ticks\":\"\"}}}],\"scatterpolargl\":[{\"type\":\"scatterpolargl\",\"marker\":{\"colorbar\":{\"outlinewidth\":0,\"ticks\":\"\"}}}],\"bar\":[{\"error_x\":{\"color\":\"#2a3f5f\"},\"error_y\":{\"color\":\"#2a3f5f\"},\"marker\":{\"line\":{\"color\":\"#E5ECF6\",\"width\":0.5},\"pattern\":{\"fillmode\":\"overlay\",\"size\":10,\"solidity\":0.2}},\"type\":\"bar\"}],\"scattergeo\":[{\"type\":\"scattergeo\",\"marker\":{\"colorbar\":{\"outlinewidth\":0,\"ticks\":\"\"}}}],\"scatterpolar\":[{\"type\":\"scatterpolar\",\"marker\":{\"colorbar\":{\"outlinewidth\":0,\"ticks\":\"\"}}}],\"histogram\":[{\"marker\":{\"pattern\":{\"fillmode\":\"overlay\",\"size\":10,\"solidity\":0.2}},\"type\":\"histogram\"}],\"scattergl\":[{\"type\":\"scattergl\",\"marker\":{\"colorbar\":{\"outlinewidth\":0,\"ticks\":\"\"}}}],\"scatter3d\":[{\"type\":\"scatter3d\",\"line\":{\"colorbar\":{\"outlinewidth\":0,\"ticks\":\"\"}},\"marker\":{\"colorbar\":{\"outlinewidth\":0,\"ticks\":\"\"}}}],\"scattermapbox\":[{\"type\":\"scattermapbox\",\"marker\":{\"colorbar\":{\"outlinewidth\":0,\"ticks\":\"\"}}}],\"scatterternary\":[{\"type\":\"scatterternary\",\"marker\":{\"colorbar\":{\"outlinewidth\":0,\"ticks\":\"\"}}}],\"scattercarpet\":[{\"type\":\"scattercarpet\",\"marker\":{\"colorbar\":{\"outlinewidth\":0,\"ticks\":\"\"}}}],\"carpet\":[{\"aaxis\":{\"endlinecolor\":\"#2a3f5f\",\"gridcolor\":\"white\",\"linecolor\":\"white\",\"minorgridcolor\":\"white\",\"startlinecolor\":\"#2a3f5f\"},\"baxis\":{\"endlinecolor\":\"#2a3f5f\",\"gridcolor\":\"white\",\"linecolor\":\"white\",\"minorgridcolor\":\"white\",\"startlinecolor\":\"#2a3f5f\"},\"type\":\"carpet\"}],\"table\":[{\"cells\":{\"fill\":{\"color\":\"#EBF0F8\"},\"line\":{\"color\":\"white\"}},\"header\":{\"fill\":{\"color\":\"#C8D4E3\"},\"line\":{\"color\":\"white\"}},\"type\":\"table\"}],\"barpolar\":[{\"marker\":{\"line\":{\"color\":\"#E5ECF6\",\"width\":0.5},\"pattern\":{\"fillmode\":\"overlay\",\"size\":10,\"solidity\":0.2}},\"type\":\"barpolar\"}],\"pie\":[{\"automargin\":true,\"type\":\"pie\"}]},\"layout\":{\"autotypenumbers\":\"strict\",\"colorway\":[\"#636efa\",\"#EF553B\",\"#00cc96\",\"#ab63fa\",\"#FFA15A\",\"#19d3f3\",\"#FF6692\",\"#B6E880\",\"#FF97FF\",\"#FECB52\"],\"font\":{\"color\":\"#2a3f5f\"},\"hovermode\":\"closest\",\"hoverlabel\":{\"align\":\"left\"},\"paper_bgcolor\":\"white\",\"plot_bgcolor\":\"#E5ECF6\",\"polar\":{\"bgcolor\":\"#E5ECF6\",\"angularaxis\":{\"gridcolor\":\"white\",\"linecolor\":\"white\",\"ticks\":\"\"},\"radialaxis\":{\"gridcolor\":\"white\",\"linecolor\":\"white\",\"ticks\":\"\"}},\"ternary\":{\"bgcolor\":\"#E5ECF6\",\"aaxis\":{\"gridcolor\":\"white\",\"linecolor\":\"white\",\"ticks\":\"\"},\"baxis\":{\"gridcolor\":\"white\",\"linecolor\":\"white\",\"ticks\":\"\"},\"caxis\":{\"gridcolor\":\"white\",\"linecolor\":\"white\",\"ticks\":\"\"}},\"coloraxis\":{\"colorbar\":{\"outlinewidth\":0,\"ticks\":\"\"}},\"colorscale\":{\"sequential\":[[0.0,\"#0d0887\"],[0.1111111111111111,\"#46039f\"],[0.2222222222222222,\"#7201a8\"],[0.3333333333333333,\"#9c179e\"],[0.4444444444444444,\"#bd3786\"],[0.5555555555555556,\"#d8576b\"],[0.6666666666666666,\"#ed7953\"],[0.7777777777777778,\"#fb9f3a\"],[0.8888888888888888,\"#fdca26\"],[1.0,\"#f0f921\"]],\"sequentialminus\":[[0.0,\"#0d0887\"],[0.1111111111111111,\"#46039f\"],[0.2222222222222222,\"#7201a8\"],[0.3333333333333333,\"#9c179e\"],[0.4444444444444444,\"#bd3786\"],[0.5555555555555556,\"#d8576b\"],[0.6666666666666666,\"#ed7953\"],[0.7777777777777778,\"#fb9f3a\"],[0.8888888888888888,\"#fdca26\"],[1.0,\"#f0f921\"]],\"diverging\":[[0,\"#8e0152\"],[0.1,\"#c51b7d\"],[0.2,\"#de77ae\"],[0.3,\"#f1b6da\"],[0.4,\"#fde0ef\"],[0.5,\"#f7f7f7\"],[0.6,\"#e6f5d0\"],[0.7,\"#b8e186\"],[0.8,\"#7fbc41\"],[0.9,\"#4d9221\"],[1,\"#276419\"]]},\"xaxis\":{\"gridcolor\":\"white\",\"linecolor\":\"white\",\"ticks\":\"\",\"title\":{\"standoff\":15},\"zerolinecolor\":\"white\",\"automargin\":true,\"zerolinewidth\":2},\"yaxis\":{\"gridcolor\":\"white\",\"linecolor\":\"white\",\"ticks\":\"\",\"title\":{\"standoff\":15},\"zerolinecolor\":\"white\",\"automargin\":true,\"zerolinewidth\":2},\"scene\":{\"xaxis\":{\"backgroundcolor\":\"#E5ECF6\",\"gridcolor\":\"white\",\"linecolor\":\"white\",\"showbackground\":true,\"ticks\":\"\",\"zerolinecolor\":\"white\",\"gridwidth\":2},\"yaxis\":{\"backgroundcolor\":\"#E5ECF6\",\"gridcolor\":\"white\",\"linecolor\":\"white\",\"showbackground\":true,\"ticks\":\"\",\"zerolinecolor\":\"white\",\"gridwidth\":2},\"zaxis\":{\"backgroundcolor\":\"#E5ECF6\",\"gridcolor\":\"white\",\"linecolor\":\"white\",\"showbackground\":true,\"ticks\":\"\",\"zerolinecolor\":\"white\",\"gridwidth\":2}},\"shapedefaults\":{\"line\":{\"color\":\"#2a3f5f\"}},\"annotationdefaults\":{\"arrowcolor\":\"#2a3f5f\",\"arrowhead\":0,\"arrowwidth\":1},\"geo\":{\"bgcolor\":\"white\",\"landcolor\":\"#E5ECF6\",\"subunitcolor\":\"white\",\"showland\":true,\"showlakes\":true,\"lakecolor\":\"white\"},\"title\":{\"x\":0.05},\"mapbox\":{\"style\":\"light\"}}}},                        {\"responsive\": true}                    ).then(function(){\n",
       "                            \n",
       "var gd = document.getElementById('b2723b77-b802-4179-8e8d-8f8f0e4b195e');\n",
       "var x = new MutationObserver(function (mutations, observer) {{\n",
       "        var display = window.getComputedStyle(gd).display;\n",
       "        if (!display || display === 'none') {{\n",
       "            console.log([gd, 'removed!']);\n",
       "            Plotly.purge(gd);\n",
       "            observer.disconnect();\n",
       "        }}\n",
       "}});\n",
       "\n",
       "// Listen for the removal of the full notebook cells\n",
       "var notebookContainer = gd.closest('#notebook-container');\n",
       "if (notebookContainer) {{\n",
       "    x.observe(notebookContainer, {childList: true});\n",
       "}}\n",
       "\n",
       "// Listen for the clearing of the current output cell\n",
       "var outputEl = gd.closest('.output');\n",
       "if (outputEl) {{\n",
       "    x.observe(outputEl, {childList: true});\n",
       "}}\n",
       "\n",
       "                        })                };                });            </script>        </div>"
      ]
     },
     "metadata": {},
     "output_type": "display_data"
    }
   ],
   "execution_count": 165
  },
  {
   "metadata": {},
   "cell_type": "markdown",
   "source": [
    "## Box Plot \n",
    "\n",
    "<p>A box and whisker plot—also called a box plot—displays the five-number summary of a set of data.</p>\n",
    "<img src=\"https://www.simplypsychology.org/wp-content/uploads/boxplot-outliers.png\"/>"
   ],
   "id": "84065957c985d07c"
  },
  {
   "metadata": {
    "ExecuteTime": {
     "end_time": "2024-10-26T17:42:18.616708Z",
     "start_time": "2024-10-26T17:42:18.590711Z"
    }
   },
   "cell_type": "code",
   "source": [
    "match_agg = delivery.groupby('match_id')['total_runs'].sum().reset_index()\n",
    "match_agg"
   ],
   "id": "23adf5fd6dbbedfc",
   "outputs": [
    {
     "data": {
      "text/plain": [
       "      match_id  total_runs\n",
       "0       335982         304\n",
       "1       335983         447\n",
       "2       335984         261\n",
       "3       335985         331\n",
       "4       335986         222\n",
       "...        ...         ...\n",
       "1090   1426307         429\n",
       "1091   1426309         323\n",
       "1092   1426310         346\n",
       "1093   1426311         314\n",
       "1094   1426312         227\n",
       "\n",
       "[1095 rows x 2 columns]"
      ],
      "text/html": [
       "<div>\n",
       "<style scoped>\n",
       "    .dataframe tbody tr th:only-of-type {\n",
       "        vertical-align: middle;\n",
       "    }\n",
       "\n",
       "    .dataframe tbody tr th {\n",
       "        vertical-align: top;\n",
       "    }\n",
       "\n",
       "    .dataframe thead th {\n",
       "        text-align: right;\n",
       "    }\n",
       "</style>\n",
       "<table border=\"1\" class=\"dataframe\">\n",
       "  <thead>\n",
       "    <tr style=\"text-align: right;\">\n",
       "      <th></th>\n",
       "      <th>match_id</th>\n",
       "      <th>total_runs</th>\n",
       "    </tr>\n",
       "  </thead>\n",
       "  <tbody>\n",
       "    <tr>\n",
       "      <th>0</th>\n",
       "      <td>335982</td>\n",
       "      <td>304</td>\n",
       "    </tr>\n",
       "    <tr>\n",
       "      <th>1</th>\n",
       "      <td>335983</td>\n",
       "      <td>447</td>\n",
       "    </tr>\n",
       "    <tr>\n",
       "      <th>2</th>\n",
       "      <td>335984</td>\n",
       "      <td>261</td>\n",
       "    </tr>\n",
       "    <tr>\n",
       "      <th>3</th>\n",
       "      <td>335985</td>\n",
       "      <td>331</td>\n",
       "    </tr>\n",
       "    <tr>\n",
       "      <th>4</th>\n",
       "      <td>335986</td>\n",
       "      <td>222</td>\n",
       "    </tr>\n",
       "    <tr>\n",
       "      <th>...</th>\n",
       "      <td>...</td>\n",
       "      <td>...</td>\n",
       "    </tr>\n",
       "    <tr>\n",
       "      <th>1090</th>\n",
       "      <td>1426307</td>\n",
       "      <td>429</td>\n",
       "    </tr>\n",
       "    <tr>\n",
       "      <th>1091</th>\n",
       "      <td>1426309</td>\n",
       "      <td>323</td>\n",
       "    </tr>\n",
       "    <tr>\n",
       "      <th>1092</th>\n",
       "      <td>1426310</td>\n",
       "      <td>346</td>\n",
       "    </tr>\n",
       "    <tr>\n",
       "      <th>1093</th>\n",
       "      <td>1426311</td>\n",
       "      <td>314</td>\n",
       "    </tr>\n",
       "    <tr>\n",
       "      <th>1094</th>\n",
       "      <td>1426312</td>\n",
       "      <td>227</td>\n",
       "    </tr>\n",
       "  </tbody>\n",
       "</table>\n",
       "<p>1095 rows × 2 columns</p>\n",
       "</div>"
      ]
     },
     "execution_count": 166,
     "metadata": {},
     "output_type": "execute_result"
    }
   ],
   "execution_count": 166
  },
  {
   "metadata": {
    "ExecuteTime": {
     "end_time": "2024-10-26T17:42:19.087563Z",
     "start_time": "2024-10-26T17:42:19.073993Z"
    }
   },
   "cell_type": "code",
   "source": [
    "season_wise = match_agg.merge(match, left_on='match_id', right_on='id')[['match_id', 'total_runs', 'season']]\n",
    "print(season_wise.head(1), '\\n')\n",
    "print(season_wise.tail(1))"
   ],
   "id": "5dd0a04178e9941b",
   "outputs": [
    {
     "name": "stdout",
     "output_type": "stream",
     "text": [
      "   match_id  total_runs   season\n",
      "0    335982         304  2007/08 \n",
      "\n",
      "      match_id  total_runs season\n",
      "1094   1426312         227   2024\n"
     ]
    }
   ],
   "execution_count": 167
  },
  {
   "metadata": {
    "ExecuteTime": {
     "end_time": "2024-10-26T17:42:19.253457Z",
     "start_time": "2024-10-26T17:42:19.243149Z"
    }
   },
   "cell_type": "code",
   "source": [
    "# box plot\n",
    "\n",
    "trace = go.Box(x=season_wise.total_runs, name='All Seasons', marker={'color': '#b51c76'})\n",
    "\n",
    "data = [trace]\n",
    "layout = go.Layout(title='Total Score Analysis',\n",
    "                   xaxis={'title': 'Total Score'})\n",
    "\n",
    "fig = go.Figure(data=data, layout=layout)\n",
    "\n",
    "plotly.io.show(fig)"
   ],
   "id": "565ad82da8bdd6ad",
   "outputs": [
    {
     "data": {
      "application/vnd.plotly.v1+json": {
       "data": [
        {
         "marker": {
          "color": "#b51c76"
         },
         "name": "All Seasons",
         "x": [
          304,
          447,
          261,
          331,
          222,
          334,
          285,
          410,
          431,
          298,
          273,
          299,
          309,
          320,
          343,
          275,
          372,
          331,
          347,
          341,
          336,
          347,
          295,
          219,
          253,
          292,
          207,
          375,
          253,
          281,
          248,
          344,
          385,
          315,
          287,
          243,
          314,
          401,
          376,
          135,
          212,
          329,
          331,
          204,
          312,
          297,
          377,
          238,
          353,
          355,
          412,
          309,
          349,
          291,
          295,
          279,
          228,
          327,
          311,
          191,
          162,
          205,
          266,
          237,
          344,
          369,
          333,
          341,
          324,
          299,
          251,
          334,
          282,
          290,
          282,
          235,
          298,
          290,
          287,
          282,
          283,
          308,
          307,
          299,
          278,
          344,
          311,
          271,
          212,
          359,
          234,
          337,
          281,
          298,
          248,
          279,
          349,
          241,
          334,
          261,
          288,
          243,
          298,
          326,
          267,
          286,
          377,
          269,
          203,
          208,
          331,
          328,
          307,
          295,
          280,
          311,
          420,
          288,
          271,
          349,
          283,
          407,
          273,
          338,
          185,
          375,
          334,
          302,
          306,
          332,
          291,
          311,
          306,
          335,
          361,
          299,
          327,
          349,
          337,
          303,
          314,
          327,
          323,
          309,
          338,
          365,
          469,
          293,
          404,
          331,
          316,
          306,
          310,
          348,
          370,
          312,
          277,
          322,
          223,
          311,
          289,
          327,
          282,
          262,
          225,
          352,
          325,
          265,
          387,
          279,
          268,
          333,
          246,
          168,
          314,
          304,
          278,
          323,
          194,
          225,
          317,
          303,
          283,
          381,
          299,
          317,
          319,
          366,
          345,
          331,
          377,
          166,
          266,
          320,
          242,
          258,
          342,
          320,
          346,
          433,
          307,
          220,
          259,
          321,
          286,
          203,
          279,
          189,
          336,
          276,
          239,
          287,
          311,
          295,
          281,
          318,
          296,
          299,
          295,
          354,
          325,
          175,
          324,
          253,
          239,
          329,
          273,
          250,
          297,
          334,
          359,
          194,
          260,
          311,
          195,
          274,
          353,
          293,
          237,
          267,
          314,
          56,
          257,
          353,
          352,
          295,
          327,
          352,
          227,
          197,
          230,
          351,
          294,
          312,
          306,
          310,
          280,
          288,
          221,
          367,
          413,
          231,
          268,
          319,
          311,
          266,
          331,
          185,
          393,
          368,
          251,
          380,
          315,
          329,
          293,
          364,
          327,
          253,
          332,
          294,
          339,
          336,
          377,
          305,
          333,
          303,
          201,
          279,
          359,
          285,
          321,
          239,
          310,
          293,
          311,
          347,
          366,
          307,
          251,
          315,
          283,
          253,
          311,
          337,
          229,
          295,
          384,
          344,
          318,
          276,
          248,
          243,
          409,
          254,
          286,
          238,
          255,
          325,
          306,
          336,
          358,
          382,
          257,
          310,
          230,
          325,
          287,
          199,
          295,
          269,
          374,
          277,
          312,
          293,
          229,
          325,
          331,
          312,
          250,
          294,
          310,
          330,
          227,
          271,
          252,
          250,
          243,
          240,
          326,
          371,
          371,
          396,
          335,
          321,
          319,
          299,
          290,
          330,
          386,
          313,
          344,
          344,
          291,
          259,
          273,
          357,
          357,
          265,
          161,
          350,
          218,
          360,
          323,
          309,
          275,
          369,
          292,
          258,
          362,
          228,
          270,
          231,
          285,
          241,
          362,
          333,
          303,
          318,
          384,
          249,
          316,
          306,
          188,
          262,
          336,
          267,
          334,
          273,
          285,
          291,
          411,
          268,
          231,
          333,
          384,
          261,
          314,
          273,
          298,
          364,
          283,
          141,
          241,
          251,
          291,
          251,
          326,
          329,
          262,
          338,
          308,
          313,
          330,
          359,
          355,
          321,
          418,
          236,
          364,
          187,
          317,
          299,
          381,
          317,
          297,
          356,
          416,
          283,
          340,
          280,
          288,
          331,
          329,
          321,
          310,
          315,
          360,
          374,
          331,
          342,
          314,
          321,
          234,
          384,
          298,
          349,
          428,
          399,
          338,
          299,
          298,
          373,
          356,
          370,
          336,
          338,
          329,
          334,
          334,
          258,
          372,
          330,
          314,
          313,
          400,
          293,
          403,
          277,
          335,
          343,
          264,
          294,
          287,
          194,
          280,
          329,
          200,
          266,
          237,
          366,
          226,
          362,
          321,
          364,
          272,
          299,
          305,
          314,
          395,
          317,
          367,
          320,
          431,
          302,
          365,
          239,
          190,
          337,
          218,
          264,
          389,
          189,
          227,
          349,
          289,
          279,
          363,
          247,
          197,
          323,
          409,
          375,
          327,
          224,
          288,
          290,
          305,
          383,
          287,
          279,
          341,
          272,
          357,
          318,
          289,
          362,
          322,
          353,
          212,
          343,
          352,
          391,
          345,
          373,
          285,
          320,
          374,
          299,
          321,
          328,
          255,
          386,
          353,
          269,
          322,
          349,
          270,
          304,
          296,
          251,
          352,
          169,
          359,
          332,
          369,
          197,
          331,
          249,
          319,
          345,
          345,
          320,
          277,
          317,
          302,
          325,
          408,
          379,
          371,
          367,
          327,
          299,
          275,
          358,
          298,
          313,
          317,
          341,
          287,
          343,
          327,
          325,
          353,
          295,
          337,
          313,
          405,
          367,
          397,
          375,
          270,
          355,
          350,
          180,
          317,
          366,
          269,
          321,
          388,
          253,
          323,
          135,
          370,
          327,
          328,
          374,
          313,
          422,
          257,
          284,
          278,
          317,
          381,
          278,
          320,
          392,
          453,
          329,
          312,
          337,
          151,
          312,
          304,
          176,
          218,
          257,
          334,
          333,
          353,
          252,
          407,
          213,
          298,
          314,
          389,
          277,
          415,
          390,
          329,
          380,
          323,
          371,
          344,
          317,
          350,
          360,
          335,
          282,
          205,
          412,
          251,
          383,
          339,
          291,
          351,
          409,
          320,
          342,
          357,
          350,
          255,
          327,
          349,
          307,
          287,
          301,
          318,
          378,
          353,
          459,
          368,
          359,
          339,
          180,
          287,
          369,
          422,
          290,
          298,
          345,
          337,
          312,
          279,
          313,
          334,
          359,
          141,
          364,
          389,
          354,
          297,
          408,
          368,
          399,
          353,
          387,
          344,
          342,
          318,
          322,
          303,
          260,
          411,
          298,
          232,
          301,
          279,
          301,
          219,
          395,
          306,
          358,
          375,
          347,
          323,
          271,
          343,
          352,
          269,
          296,
          416,
          323,
          329,
          320,
          321,
          384,
          351,
          387,
          352,
          264,
          321,
          358,
          430,
          379,
          103,
          278,
          341,
          368,
          236,
          353,
          343,
          267,
          263,
          327,
          298,
          297,
          328,
          319,
          169,
          300,
          416,
          329,
          240,
          330,
          322,
          324,
          241,
          334,
          311,
          306,
          307,
          321,
          341,
          364,
          315,
          329,
          331,
          359,
          312,
          438,
          321,
          388,
          310,
          333,
          299,
          230,
          356,
          326,
          350,
          301,
          297,
          449,
          314,
          328,
          322,
          348,
          309,
          251,
          316,
          221,
          350,
          371,
          382,
          306,
          306,
          391,
          333,
          309,
          295,
          287,
          331,
          420,
          343,
          263,
          361,
          313,
          319,
          378,
          364,
          438,
          294,
          292,
          297,
          213,
          287,
          370,
          393,
          331,
          275,
          241,
          422,
          358,
          263,
          267,
          313,
          333,
          249,
          341,
          344,
          343,
          310,
          324,
          437,
          385,
          333,
          186,
          428,
          379,
          322,
          273,
          257,
          184,
          273,
          278,
          314,
          275,
          343,
          272,
          331,
          330,
          333,
          302,
          292,
          273,
          256,
          245,
          276,
          234,
          275,
          368,
          261,
          313,
          345,
          277,
          271,
          357,
          264,
          356,
          413,
          319,
          359,
          260,
          421,
          278,
          363,
          328,
          306,
          326,
          342,
          323,
          304,
          379,
          309,
          303,
          386,
          327,
          330,
          409,
          384,
          347,
          351,
          380,
          362,
          303,
          339,
          427,
          344,
          234,
          311,
          429,
          304,
          140,
          300,
          363,
          259,
          394,
          296,
          286,
          344,
          319,
          384,
          391,
          310,
          288,
          333,
          393,
          349,
          379,
          277,
          317,
          325,
          278,
          226,
          321,
          200,
          364,
          300,
          270,
          332,
          301,
          383,
          418,
          338,
          301,
          319,
          317,
          379,
          400,
          318,
          263,
          360,
          337,
          336,
          334,
          343,
          422,
          325,
          389,
          327,
          248,
          341,
          316,
          411,
          288,
          425,
          345,
          347,
          307,
          433,
          325,
          320,
          371,
          356,
          444,
          370,
          298,
          324,
          255,
          272,
          263,
          415,
          371,
          421,
          281,
          359,
          379,
          372,
          458,
          359,
          385,
          401,
          426,
          234,
          255,
          125,
          430,
          337,
          237,
          279,
          368,
          398,
          431,
          361,
          399,
          307,
          300,
          409,
          367,
          303,
          230,
          291,
          342,
          349,
          411,
          373,
          376,
          369,
          351,
          401,
          395,
          329,
          283,
          404,
          385,
          349,
          351,
          412,
          366,
          330,
          354,
          349,
          523,
          358,
          368,
          377,
          330,
          362,
          252,
          334,
          438,
          399,
          331,
          372,
          439,
          293,
          278,
          362,
          395,
          395,
          337,
          299,
          323,
          392,
          549,
          447,
          181,
          375,
          356,
          465,
          443,
          288,
          362,
          423,
          444,
          377,
          523,
          504,
          395,
          406,
          346,
          310,
          289,
          325,
          401,
          314,
          299,
          306,
          372,
          347,
          422,
          332,
          422,
          427,
          296,
          286,
          327,
          397,
          289,
          410,
          409,
          429,
          323,
          346,
          314,
          227
         ],
         "type": "box"
        }
       ],
       "layout": {
        "title": {
         "text": "Total Score Analysis"
        },
        "xaxis": {
         "title": {
          "text": "Total Score"
         }
        },
        "template": {
         "data": {
          "histogram2dcontour": [
           {
            "type": "histogram2dcontour",
            "colorbar": {
             "outlinewidth": 0,
             "ticks": ""
            },
            "colorscale": [
             [
              0.0,
              "#0d0887"
             ],
             [
              0.1111111111111111,
              "#46039f"
             ],
             [
              0.2222222222222222,
              "#7201a8"
             ],
             [
              0.3333333333333333,
              "#9c179e"
             ],
             [
              0.4444444444444444,
              "#bd3786"
             ],
             [
              0.5555555555555556,
              "#d8576b"
             ],
             [
              0.6666666666666666,
              "#ed7953"
             ],
             [
              0.7777777777777778,
              "#fb9f3a"
             ],
             [
              0.8888888888888888,
              "#fdca26"
             ],
             [
              1.0,
              "#f0f921"
             ]
            ]
           }
          ],
          "choropleth": [
           {
            "type": "choropleth",
            "colorbar": {
             "outlinewidth": 0,
             "ticks": ""
            }
           }
          ],
          "histogram2d": [
           {
            "type": "histogram2d",
            "colorbar": {
             "outlinewidth": 0,
             "ticks": ""
            },
            "colorscale": [
             [
              0.0,
              "#0d0887"
             ],
             [
              0.1111111111111111,
              "#46039f"
             ],
             [
              0.2222222222222222,
              "#7201a8"
             ],
             [
              0.3333333333333333,
              "#9c179e"
             ],
             [
              0.4444444444444444,
              "#bd3786"
             ],
             [
              0.5555555555555556,
              "#d8576b"
             ],
             [
              0.6666666666666666,
              "#ed7953"
             ],
             [
              0.7777777777777778,
              "#fb9f3a"
             ],
             [
              0.8888888888888888,
              "#fdca26"
             ],
             [
              1.0,
              "#f0f921"
             ]
            ]
           }
          ],
          "heatmap": [
           {
            "type": "heatmap",
            "colorbar": {
             "outlinewidth": 0,
             "ticks": ""
            },
            "colorscale": [
             [
              0.0,
              "#0d0887"
             ],
             [
              0.1111111111111111,
              "#46039f"
             ],
             [
              0.2222222222222222,
              "#7201a8"
             ],
             [
              0.3333333333333333,
              "#9c179e"
             ],
             [
              0.4444444444444444,
              "#bd3786"
             ],
             [
              0.5555555555555556,
              "#d8576b"
             ],
             [
              0.6666666666666666,
              "#ed7953"
             ],
             [
              0.7777777777777778,
              "#fb9f3a"
             ],
             [
              0.8888888888888888,
              "#fdca26"
             ],
             [
              1.0,
              "#f0f921"
             ]
            ]
           }
          ],
          "heatmapgl": [
           {
            "type": "heatmapgl",
            "colorbar": {
             "outlinewidth": 0,
             "ticks": ""
            },
            "colorscale": [
             [
              0.0,
              "#0d0887"
             ],
             [
              0.1111111111111111,
              "#46039f"
             ],
             [
              0.2222222222222222,
              "#7201a8"
             ],
             [
              0.3333333333333333,
              "#9c179e"
             ],
             [
              0.4444444444444444,
              "#bd3786"
             ],
             [
              0.5555555555555556,
              "#d8576b"
             ],
             [
              0.6666666666666666,
              "#ed7953"
             ],
             [
              0.7777777777777778,
              "#fb9f3a"
             ],
             [
              0.8888888888888888,
              "#fdca26"
             ],
             [
              1.0,
              "#f0f921"
             ]
            ]
           }
          ],
          "contourcarpet": [
           {
            "type": "contourcarpet",
            "colorbar": {
             "outlinewidth": 0,
             "ticks": ""
            }
           }
          ],
          "contour": [
           {
            "type": "contour",
            "colorbar": {
             "outlinewidth": 0,
             "ticks": ""
            },
            "colorscale": [
             [
              0.0,
              "#0d0887"
             ],
             [
              0.1111111111111111,
              "#46039f"
             ],
             [
              0.2222222222222222,
              "#7201a8"
             ],
             [
              0.3333333333333333,
              "#9c179e"
             ],
             [
              0.4444444444444444,
              "#bd3786"
             ],
             [
              0.5555555555555556,
              "#d8576b"
             ],
             [
              0.6666666666666666,
              "#ed7953"
             ],
             [
              0.7777777777777778,
              "#fb9f3a"
             ],
             [
              0.8888888888888888,
              "#fdca26"
             ],
             [
              1.0,
              "#f0f921"
             ]
            ]
           }
          ],
          "surface": [
           {
            "type": "surface",
            "colorbar": {
             "outlinewidth": 0,
             "ticks": ""
            },
            "colorscale": [
             [
              0.0,
              "#0d0887"
             ],
             [
              0.1111111111111111,
              "#46039f"
             ],
             [
              0.2222222222222222,
              "#7201a8"
             ],
             [
              0.3333333333333333,
              "#9c179e"
             ],
             [
              0.4444444444444444,
              "#bd3786"
             ],
             [
              0.5555555555555556,
              "#d8576b"
             ],
             [
              0.6666666666666666,
              "#ed7953"
             ],
             [
              0.7777777777777778,
              "#fb9f3a"
             ],
             [
              0.8888888888888888,
              "#fdca26"
             ],
             [
              1.0,
              "#f0f921"
             ]
            ]
           }
          ],
          "mesh3d": [
           {
            "type": "mesh3d",
            "colorbar": {
             "outlinewidth": 0,
             "ticks": ""
            }
           }
          ],
          "scatter": [
           {
            "fillpattern": {
             "fillmode": "overlay",
             "size": 10,
             "solidity": 0.2
            },
            "type": "scatter"
           }
          ],
          "parcoords": [
           {
            "type": "parcoords",
            "line": {
             "colorbar": {
              "outlinewidth": 0,
              "ticks": ""
             }
            }
           }
          ],
          "scatterpolargl": [
           {
            "type": "scatterpolargl",
            "marker": {
             "colorbar": {
              "outlinewidth": 0,
              "ticks": ""
             }
            }
           }
          ],
          "bar": [
           {
            "error_x": {
             "color": "#2a3f5f"
            },
            "error_y": {
             "color": "#2a3f5f"
            },
            "marker": {
             "line": {
              "color": "#E5ECF6",
              "width": 0.5
             },
             "pattern": {
              "fillmode": "overlay",
              "size": 10,
              "solidity": 0.2
             }
            },
            "type": "bar"
           }
          ],
          "scattergeo": [
           {
            "type": "scattergeo",
            "marker": {
             "colorbar": {
              "outlinewidth": 0,
              "ticks": ""
             }
            }
           }
          ],
          "scatterpolar": [
           {
            "type": "scatterpolar",
            "marker": {
             "colorbar": {
              "outlinewidth": 0,
              "ticks": ""
             }
            }
           }
          ],
          "histogram": [
           {
            "marker": {
             "pattern": {
              "fillmode": "overlay",
              "size": 10,
              "solidity": 0.2
             }
            },
            "type": "histogram"
           }
          ],
          "scattergl": [
           {
            "type": "scattergl",
            "marker": {
             "colorbar": {
              "outlinewidth": 0,
              "ticks": ""
             }
            }
           }
          ],
          "scatter3d": [
           {
            "type": "scatter3d",
            "line": {
             "colorbar": {
              "outlinewidth": 0,
              "ticks": ""
             }
            },
            "marker": {
             "colorbar": {
              "outlinewidth": 0,
              "ticks": ""
             }
            }
           }
          ],
          "scattermapbox": [
           {
            "type": "scattermapbox",
            "marker": {
             "colorbar": {
              "outlinewidth": 0,
              "ticks": ""
             }
            }
           }
          ],
          "scatterternary": [
           {
            "type": "scatterternary",
            "marker": {
             "colorbar": {
              "outlinewidth": 0,
              "ticks": ""
             }
            }
           }
          ],
          "scattercarpet": [
           {
            "type": "scattercarpet",
            "marker": {
             "colorbar": {
              "outlinewidth": 0,
              "ticks": ""
             }
            }
           }
          ],
          "carpet": [
           {
            "aaxis": {
             "endlinecolor": "#2a3f5f",
             "gridcolor": "white",
             "linecolor": "white",
             "minorgridcolor": "white",
             "startlinecolor": "#2a3f5f"
            },
            "baxis": {
             "endlinecolor": "#2a3f5f",
             "gridcolor": "white",
             "linecolor": "white",
             "minorgridcolor": "white",
             "startlinecolor": "#2a3f5f"
            },
            "type": "carpet"
           }
          ],
          "table": [
           {
            "cells": {
             "fill": {
              "color": "#EBF0F8"
             },
             "line": {
              "color": "white"
             }
            },
            "header": {
             "fill": {
              "color": "#C8D4E3"
             },
             "line": {
              "color": "white"
             }
            },
            "type": "table"
           }
          ],
          "barpolar": [
           {
            "marker": {
             "line": {
              "color": "#E5ECF6",
              "width": 0.5
             },
             "pattern": {
              "fillmode": "overlay",
              "size": 10,
              "solidity": 0.2
             }
            },
            "type": "barpolar"
           }
          ],
          "pie": [
           {
            "automargin": true,
            "type": "pie"
           }
          ]
         },
         "layout": {
          "autotypenumbers": "strict",
          "colorway": [
           "#636efa",
           "#EF553B",
           "#00cc96",
           "#ab63fa",
           "#FFA15A",
           "#19d3f3",
           "#FF6692",
           "#B6E880",
           "#FF97FF",
           "#FECB52"
          ],
          "font": {
           "color": "#2a3f5f"
          },
          "hovermode": "closest",
          "hoverlabel": {
           "align": "left"
          },
          "paper_bgcolor": "white",
          "plot_bgcolor": "#E5ECF6",
          "polar": {
           "bgcolor": "#E5ECF6",
           "angularaxis": {
            "gridcolor": "white",
            "linecolor": "white",
            "ticks": ""
           },
           "radialaxis": {
            "gridcolor": "white",
            "linecolor": "white",
            "ticks": ""
           }
          },
          "ternary": {
           "bgcolor": "#E5ECF6",
           "aaxis": {
            "gridcolor": "white",
            "linecolor": "white",
            "ticks": ""
           },
           "baxis": {
            "gridcolor": "white",
            "linecolor": "white",
            "ticks": ""
           },
           "caxis": {
            "gridcolor": "white",
            "linecolor": "white",
            "ticks": ""
           }
          },
          "coloraxis": {
           "colorbar": {
            "outlinewidth": 0,
            "ticks": ""
           }
          },
          "colorscale": {
           "sequential": [
            [
             0.0,
             "#0d0887"
            ],
            [
             0.1111111111111111,
             "#46039f"
            ],
            [
             0.2222222222222222,
             "#7201a8"
            ],
            [
             0.3333333333333333,
             "#9c179e"
            ],
            [
             0.4444444444444444,
             "#bd3786"
            ],
            [
             0.5555555555555556,
             "#d8576b"
            ],
            [
             0.6666666666666666,
             "#ed7953"
            ],
            [
             0.7777777777777778,
             "#fb9f3a"
            ],
            [
             0.8888888888888888,
             "#fdca26"
            ],
            [
             1.0,
             "#f0f921"
            ]
           ],
           "sequentialminus": [
            [
             0.0,
             "#0d0887"
            ],
            [
             0.1111111111111111,
             "#46039f"
            ],
            [
             0.2222222222222222,
             "#7201a8"
            ],
            [
             0.3333333333333333,
             "#9c179e"
            ],
            [
             0.4444444444444444,
             "#bd3786"
            ],
            [
             0.5555555555555556,
             "#d8576b"
            ],
            [
             0.6666666666666666,
             "#ed7953"
            ],
            [
             0.7777777777777778,
             "#fb9f3a"
            ],
            [
             0.8888888888888888,
             "#fdca26"
            ],
            [
             1.0,
             "#f0f921"
            ]
           ],
           "diverging": [
            [
             0,
             "#8e0152"
            ],
            [
             0.1,
             "#c51b7d"
            ],
            [
             0.2,
             "#de77ae"
            ],
            [
             0.3,
             "#f1b6da"
            ],
            [
             0.4,
             "#fde0ef"
            ],
            [
             0.5,
             "#f7f7f7"
            ],
            [
             0.6,
             "#e6f5d0"
            ],
            [
             0.7,
             "#b8e186"
            ],
            [
             0.8,
             "#7fbc41"
            ],
            [
             0.9,
             "#4d9221"
            ],
            [
             1,
             "#276419"
            ]
           ]
          },
          "xaxis": {
           "gridcolor": "white",
           "linecolor": "white",
           "ticks": "",
           "title": {
            "standoff": 15
           },
           "zerolinecolor": "white",
           "automargin": true,
           "zerolinewidth": 2
          },
          "yaxis": {
           "gridcolor": "white",
           "linecolor": "white",
           "ticks": "",
           "title": {
            "standoff": 15
           },
           "zerolinecolor": "white",
           "automargin": true,
           "zerolinewidth": 2
          },
          "scene": {
           "xaxis": {
            "backgroundcolor": "#E5ECF6",
            "gridcolor": "white",
            "linecolor": "white",
            "showbackground": true,
            "ticks": "",
            "zerolinecolor": "white",
            "gridwidth": 2
           },
           "yaxis": {
            "backgroundcolor": "#E5ECF6",
            "gridcolor": "white",
            "linecolor": "white",
            "showbackground": true,
            "ticks": "",
            "zerolinecolor": "white",
            "gridwidth": 2
           },
           "zaxis": {
            "backgroundcolor": "#E5ECF6",
            "gridcolor": "white",
            "linecolor": "white",
            "showbackground": true,
            "ticks": "",
            "zerolinecolor": "white",
            "gridwidth": 2
           }
          },
          "shapedefaults": {
           "line": {
            "color": "#2a3f5f"
           }
          },
          "annotationdefaults": {
           "arrowcolor": "#2a3f5f",
           "arrowhead": 0,
           "arrowwidth": 1
          },
          "geo": {
           "bgcolor": "white",
           "landcolor": "#E5ECF6",
           "subunitcolor": "white",
           "showland": true,
           "showlakes": true,
           "lakecolor": "white"
          },
          "title": {
           "x": 0.05
          },
          "mapbox": {
           "style": "light"
          }
         }
        }
       },
       "config": {
        "plotlyServerURL": "https://plot.ly"
       }
      },
      "text/html": [
       "<div>                            <div id=\"24328546-1b86-490f-8b42-a9e0651ca9eb\" class=\"plotly-graph-div\" style=\"height:525px; width:100%;\"></div>            <script type=\"text/javascript\">                require([\"plotly\"], function(Plotly) {                    window.PLOTLYENV=window.PLOTLYENV || {};                                    if (document.getElementById(\"24328546-1b86-490f-8b42-a9e0651ca9eb\")) {                    Plotly.newPlot(                        \"24328546-1b86-490f-8b42-a9e0651ca9eb\",                        [{\"marker\":{\"color\":\"#b51c76\"},\"name\":\"All Seasons\",\"x\":[304,447,261,331,222,334,285,410,431,298,273,299,309,320,343,275,372,331,347,341,336,347,295,219,253,292,207,375,253,281,248,344,385,315,287,243,314,401,376,135,212,329,331,204,312,297,377,238,353,355,412,309,349,291,295,279,228,327,311,191,162,205,266,237,344,369,333,341,324,299,251,334,282,290,282,235,298,290,287,282,283,308,307,299,278,344,311,271,212,359,234,337,281,298,248,279,349,241,334,261,288,243,298,326,267,286,377,269,203,208,331,328,307,295,280,311,420,288,271,349,283,407,273,338,185,375,334,302,306,332,291,311,306,335,361,299,327,349,337,303,314,327,323,309,338,365,469,293,404,331,316,306,310,348,370,312,277,322,223,311,289,327,282,262,225,352,325,265,387,279,268,333,246,168,314,304,278,323,194,225,317,303,283,381,299,317,319,366,345,331,377,166,266,320,242,258,342,320,346,433,307,220,259,321,286,203,279,189,336,276,239,287,311,295,281,318,296,299,295,354,325,175,324,253,239,329,273,250,297,334,359,194,260,311,195,274,353,293,237,267,314,56,257,353,352,295,327,352,227,197,230,351,294,312,306,310,280,288,221,367,413,231,268,319,311,266,331,185,393,368,251,380,315,329,293,364,327,253,332,294,339,336,377,305,333,303,201,279,359,285,321,239,310,293,311,347,366,307,251,315,283,253,311,337,229,295,384,344,318,276,248,243,409,254,286,238,255,325,306,336,358,382,257,310,230,325,287,199,295,269,374,277,312,293,229,325,331,312,250,294,310,330,227,271,252,250,243,240,326,371,371,396,335,321,319,299,290,330,386,313,344,344,291,259,273,357,357,265,161,350,218,360,323,309,275,369,292,258,362,228,270,231,285,241,362,333,303,318,384,249,316,306,188,262,336,267,334,273,285,291,411,268,231,333,384,261,314,273,298,364,283,141,241,251,291,251,326,329,262,338,308,313,330,359,355,321,418,236,364,187,317,299,381,317,297,356,416,283,340,280,288,331,329,321,310,315,360,374,331,342,314,321,234,384,298,349,428,399,338,299,298,373,356,370,336,338,329,334,334,258,372,330,314,313,400,293,403,277,335,343,264,294,287,194,280,329,200,266,237,366,226,362,321,364,272,299,305,314,395,317,367,320,431,302,365,239,190,337,218,264,389,189,227,349,289,279,363,247,197,323,409,375,327,224,288,290,305,383,287,279,341,272,357,318,289,362,322,353,212,343,352,391,345,373,285,320,374,299,321,328,255,386,353,269,322,349,270,304,296,251,352,169,359,332,369,197,331,249,319,345,345,320,277,317,302,325,408,379,371,367,327,299,275,358,298,313,317,341,287,343,327,325,353,295,337,313,405,367,397,375,270,355,350,180,317,366,269,321,388,253,323,135,370,327,328,374,313,422,257,284,278,317,381,278,320,392,453,329,312,337,151,312,304,176,218,257,334,333,353,252,407,213,298,314,389,277,415,390,329,380,323,371,344,317,350,360,335,282,205,412,251,383,339,291,351,409,320,342,357,350,255,327,349,307,287,301,318,378,353,459,368,359,339,180,287,369,422,290,298,345,337,312,279,313,334,359,141,364,389,354,297,408,368,399,353,387,344,342,318,322,303,260,411,298,232,301,279,301,219,395,306,358,375,347,323,271,343,352,269,296,416,323,329,320,321,384,351,387,352,264,321,358,430,379,103,278,341,368,236,353,343,267,263,327,298,297,328,319,169,300,416,329,240,330,322,324,241,334,311,306,307,321,341,364,315,329,331,359,312,438,321,388,310,333,299,230,356,326,350,301,297,449,314,328,322,348,309,251,316,221,350,371,382,306,306,391,333,309,295,287,331,420,343,263,361,313,319,378,364,438,294,292,297,213,287,370,393,331,275,241,422,358,263,267,313,333,249,341,344,343,310,324,437,385,333,186,428,379,322,273,257,184,273,278,314,275,343,272,331,330,333,302,292,273,256,245,276,234,275,368,261,313,345,277,271,357,264,356,413,319,359,260,421,278,363,328,306,326,342,323,304,379,309,303,386,327,330,409,384,347,351,380,362,303,339,427,344,234,311,429,304,140,300,363,259,394,296,286,344,319,384,391,310,288,333,393,349,379,277,317,325,278,226,321,200,364,300,270,332,301,383,418,338,301,319,317,379,400,318,263,360,337,336,334,343,422,325,389,327,248,341,316,411,288,425,345,347,307,433,325,320,371,356,444,370,298,324,255,272,263,415,371,421,281,359,379,372,458,359,385,401,426,234,255,125,430,337,237,279,368,398,431,361,399,307,300,409,367,303,230,291,342,349,411,373,376,369,351,401,395,329,283,404,385,349,351,412,366,330,354,349,523,358,368,377,330,362,252,334,438,399,331,372,439,293,278,362,395,395,337,299,323,392,549,447,181,375,356,465,443,288,362,423,444,377,523,504,395,406,346,310,289,325,401,314,299,306,372,347,422,332,422,427,296,286,327,397,289,410,409,429,323,346,314,227],\"type\":\"box\"}],                        {\"title\":{\"text\":\"Total Score Analysis\"},\"xaxis\":{\"title\":{\"text\":\"Total Score\"}},\"template\":{\"data\":{\"histogram2dcontour\":[{\"type\":\"histogram2dcontour\",\"colorbar\":{\"outlinewidth\":0,\"ticks\":\"\"},\"colorscale\":[[0.0,\"#0d0887\"],[0.1111111111111111,\"#46039f\"],[0.2222222222222222,\"#7201a8\"],[0.3333333333333333,\"#9c179e\"],[0.4444444444444444,\"#bd3786\"],[0.5555555555555556,\"#d8576b\"],[0.6666666666666666,\"#ed7953\"],[0.7777777777777778,\"#fb9f3a\"],[0.8888888888888888,\"#fdca26\"],[1.0,\"#f0f921\"]]}],\"choropleth\":[{\"type\":\"choropleth\",\"colorbar\":{\"outlinewidth\":0,\"ticks\":\"\"}}],\"histogram2d\":[{\"type\":\"histogram2d\",\"colorbar\":{\"outlinewidth\":0,\"ticks\":\"\"},\"colorscale\":[[0.0,\"#0d0887\"],[0.1111111111111111,\"#46039f\"],[0.2222222222222222,\"#7201a8\"],[0.3333333333333333,\"#9c179e\"],[0.4444444444444444,\"#bd3786\"],[0.5555555555555556,\"#d8576b\"],[0.6666666666666666,\"#ed7953\"],[0.7777777777777778,\"#fb9f3a\"],[0.8888888888888888,\"#fdca26\"],[1.0,\"#f0f921\"]]}],\"heatmap\":[{\"type\":\"heatmap\",\"colorbar\":{\"outlinewidth\":0,\"ticks\":\"\"},\"colorscale\":[[0.0,\"#0d0887\"],[0.1111111111111111,\"#46039f\"],[0.2222222222222222,\"#7201a8\"],[0.3333333333333333,\"#9c179e\"],[0.4444444444444444,\"#bd3786\"],[0.5555555555555556,\"#d8576b\"],[0.6666666666666666,\"#ed7953\"],[0.7777777777777778,\"#fb9f3a\"],[0.8888888888888888,\"#fdca26\"],[1.0,\"#f0f921\"]]}],\"heatmapgl\":[{\"type\":\"heatmapgl\",\"colorbar\":{\"outlinewidth\":0,\"ticks\":\"\"},\"colorscale\":[[0.0,\"#0d0887\"],[0.1111111111111111,\"#46039f\"],[0.2222222222222222,\"#7201a8\"],[0.3333333333333333,\"#9c179e\"],[0.4444444444444444,\"#bd3786\"],[0.5555555555555556,\"#d8576b\"],[0.6666666666666666,\"#ed7953\"],[0.7777777777777778,\"#fb9f3a\"],[0.8888888888888888,\"#fdca26\"],[1.0,\"#f0f921\"]]}],\"contourcarpet\":[{\"type\":\"contourcarpet\",\"colorbar\":{\"outlinewidth\":0,\"ticks\":\"\"}}],\"contour\":[{\"type\":\"contour\",\"colorbar\":{\"outlinewidth\":0,\"ticks\":\"\"},\"colorscale\":[[0.0,\"#0d0887\"],[0.1111111111111111,\"#46039f\"],[0.2222222222222222,\"#7201a8\"],[0.3333333333333333,\"#9c179e\"],[0.4444444444444444,\"#bd3786\"],[0.5555555555555556,\"#d8576b\"],[0.6666666666666666,\"#ed7953\"],[0.7777777777777778,\"#fb9f3a\"],[0.8888888888888888,\"#fdca26\"],[1.0,\"#f0f921\"]]}],\"surface\":[{\"type\":\"surface\",\"colorbar\":{\"outlinewidth\":0,\"ticks\":\"\"},\"colorscale\":[[0.0,\"#0d0887\"],[0.1111111111111111,\"#46039f\"],[0.2222222222222222,\"#7201a8\"],[0.3333333333333333,\"#9c179e\"],[0.4444444444444444,\"#bd3786\"],[0.5555555555555556,\"#d8576b\"],[0.6666666666666666,\"#ed7953\"],[0.7777777777777778,\"#fb9f3a\"],[0.8888888888888888,\"#fdca26\"],[1.0,\"#f0f921\"]]}],\"mesh3d\":[{\"type\":\"mesh3d\",\"colorbar\":{\"outlinewidth\":0,\"ticks\":\"\"}}],\"scatter\":[{\"fillpattern\":{\"fillmode\":\"overlay\",\"size\":10,\"solidity\":0.2},\"type\":\"scatter\"}],\"parcoords\":[{\"type\":\"parcoords\",\"line\":{\"colorbar\":{\"outlinewidth\":0,\"ticks\":\"\"}}}],\"scatterpolargl\":[{\"type\":\"scatterpolargl\",\"marker\":{\"colorbar\":{\"outlinewidth\":0,\"ticks\":\"\"}}}],\"bar\":[{\"error_x\":{\"color\":\"#2a3f5f\"},\"error_y\":{\"color\":\"#2a3f5f\"},\"marker\":{\"line\":{\"color\":\"#E5ECF6\",\"width\":0.5},\"pattern\":{\"fillmode\":\"overlay\",\"size\":10,\"solidity\":0.2}},\"type\":\"bar\"}],\"scattergeo\":[{\"type\":\"scattergeo\",\"marker\":{\"colorbar\":{\"outlinewidth\":0,\"ticks\":\"\"}}}],\"scatterpolar\":[{\"type\":\"scatterpolar\",\"marker\":{\"colorbar\":{\"outlinewidth\":0,\"ticks\":\"\"}}}],\"histogram\":[{\"marker\":{\"pattern\":{\"fillmode\":\"overlay\",\"size\":10,\"solidity\":0.2}},\"type\":\"histogram\"}],\"scattergl\":[{\"type\":\"scattergl\",\"marker\":{\"colorbar\":{\"outlinewidth\":0,\"ticks\":\"\"}}}],\"scatter3d\":[{\"type\":\"scatter3d\",\"line\":{\"colorbar\":{\"outlinewidth\":0,\"ticks\":\"\"}},\"marker\":{\"colorbar\":{\"outlinewidth\":0,\"ticks\":\"\"}}}],\"scattermapbox\":[{\"type\":\"scattermapbox\",\"marker\":{\"colorbar\":{\"outlinewidth\":0,\"ticks\":\"\"}}}],\"scatterternary\":[{\"type\":\"scatterternary\",\"marker\":{\"colorbar\":{\"outlinewidth\":0,\"ticks\":\"\"}}}],\"scattercarpet\":[{\"type\":\"scattercarpet\",\"marker\":{\"colorbar\":{\"outlinewidth\":0,\"ticks\":\"\"}}}],\"carpet\":[{\"aaxis\":{\"endlinecolor\":\"#2a3f5f\",\"gridcolor\":\"white\",\"linecolor\":\"white\",\"minorgridcolor\":\"white\",\"startlinecolor\":\"#2a3f5f\"},\"baxis\":{\"endlinecolor\":\"#2a3f5f\",\"gridcolor\":\"white\",\"linecolor\":\"white\",\"minorgridcolor\":\"white\",\"startlinecolor\":\"#2a3f5f\"},\"type\":\"carpet\"}],\"table\":[{\"cells\":{\"fill\":{\"color\":\"#EBF0F8\"},\"line\":{\"color\":\"white\"}},\"header\":{\"fill\":{\"color\":\"#C8D4E3\"},\"line\":{\"color\":\"white\"}},\"type\":\"table\"}],\"barpolar\":[{\"marker\":{\"line\":{\"color\":\"#E5ECF6\",\"width\":0.5},\"pattern\":{\"fillmode\":\"overlay\",\"size\":10,\"solidity\":0.2}},\"type\":\"barpolar\"}],\"pie\":[{\"automargin\":true,\"type\":\"pie\"}]},\"layout\":{\"autotypenumbers\":\"strict\",\"colorway\":[\"#636efa\",\"#EF553B\",\"#00cc96\",\"#ab63fa\",\"#FFA15A\",\"#19d3f3\",\"#FF6692\",\"#B6E880\",\"#FF97FF\",\"#FECB52\"],\"font\":{\"color\":\"#2a3f5f\"},\"hovermode\":\"closest\",\"hoverlabel\":{\"align\":\"left\"},\"paper_bgcolor\":\"white\",\"plot_bgcolor\":\"#E5ECF6\",\"polar\":{\"bgcolor\":\"#E5ECF6\",\"angularaxis\":{\"gridcolor\":\"white\",\"linecolor\":\"white\",\"ticks\":\"\"},\"radialaxis\":{\"gridcolor\":\"white\",\"linecolor\":\"white\",\"ticks\":\"\"}},\"ternary\":{\"bgcolor\":\"#E5ECF6\",\"aaxis\":{\"gridcolor\":\"white\",\"linecolor\":\"white\",\"ticks\":\"\"},\"baxis\":{\"gridcolor\":\"white\",\"linecolor\":\"white\",\"ticks\":\"\"},\"caxis\":{\"gridcolor\":\"white\",\"linecolor\":\"white\",\"ticks\":\"\"}},\"coloraxis\":{\"colorbar\":{\"outlinewidth\":0,\"ticks\":\"\"}},\"colorscale\":{\"sequential\":[[0.0,\"#0d0887\"],[0.1111111111111111,\"#46039f\"],[0.2222222222222222,\"#7201a8\"],[0.3333333333333333,\"#9c179e\"],[0.4444444444444444,\"#bd3786\"],[0.5555555555555556,\"#d8576b\"],[0.6666666666666666,\"#ed7953\"],[0.7777777777777778,\"#fb9f3a\"],[0.8888888888888888,\"#fdca26\"],[1.0,\"#f0f921\"]],\"sequentialminus\":[[0.0,\"#0d0887\"],[0.1111111111111111,\"#46039f\"],[0.2222222222222222,\"#7201a8\"],[0.3333333333333333,\"#9c179e\"],[0.4444444444444444,\"#bd3786\"],[0.5555555555555556,\"#d8576b\"],[0.6666666666666666,\"#ed7953\"],[0.7777777777777778,\"#fb9f3a\"],[0.8888888888888888,\"#fdca26\"],[1.0,\"#f0f921\"]],\"diverging\":[[0,\"#8e0152\"],[0.1,\"#c51b7d\"],[0.2,\"#de77ae\"],[0.3,\"#f1b6da\"],[0.4,\"#fde0ef\"],[0.5,\"#f7f7f7\"],[0.6,\"#e6f5d0\"],[0.7,\"#b8e186\"],[0.8,\"#7fbc41\"],[0.9,\"#4d9221\"],[1,\"#276419\"]]},\"xaxis\":{\"gridcolor\":\"white\",\"linecolor\":\"white\",\"ticks\":\"\",\"title\":{\"standoff\":15},\"zerolinecolor\":\"white\",\"automargin\":true,\"zerolinewidth\":2},\"yaxis\":{\"gridcolor\":\"white\",\"linecolor\":\"white\",\"ticks\":\"\",\"title\":{\"standoff\":15},\"zerolinecolor\":\"white\",\"automargin\":true,\"zerolinewidth\":2},\"scene\":{\"xaxis\":{\"backgroundcolor\":\"#E5ECF6\",\"gridcolor\":\"white\",\"linecolor\":\"white\",\"showbackground\":true,\"ticks\":\"\",\"zerolinecolor\":\"white\",\"gridwidth\":2},\"yaxis\":{\"backgroundcolor\":\"#E5ECF6\",\"gridcolor\":\"white\",\"linecolor\":\"white\",\"showbackground\":true,\"ticks\":\"\",\"zerolinecolor\":\"white\",\"gridwidth\":2},\"zaxis\":{\"backgroundcolor\":\"#E5ECF6\",\"gridcolor\":\"white\",\"linecolor\":\"white\",\"showbackground\":true,\"ticks\":\"\",\"zerolinecolor\":\"white\",\"gridwidth\":2}},\"shapedefaults\":{\"line\":{\"color\":\"#2a3f5f\"}},\"annotationdefaults\":{\"arrowcolor\":\"#2a3f5f\",\"arrowhead\":0,\"arrowwidth\":1},\"geo\":{\"bgcolor\":\"white\",\"landcolor\":\"#E5ECF6\",\"subunitcolor\":\"white\",\"showland\":true,\"showlakes\":true,\"lakecolor\":\"white\"},\"title\":{\"x\":0.05},\"mapbox\":{\"style\":\"light\"}}}},                        {\"responsive\": true}                    ).then(function(){\n",
       "                            \n",
       "var gd = document.getElementById('24328546-1b86-490f-8b42-a9e0651ca9eb');\n",
       "var x = new MutationObserver(function (mutations, observer) {{\n",
       "        var display = window.getComputedStyle(gd).display;\n",
       "        if (!display || display === 'none') {{\n",
       "            console.log([gd, 'removed!']);\n",
       "            Plotly.purge(gd);\n",
       "            observer.disconnect();\n",
       "        }}\n",
       "}});\n",
       "\n",
       "// Listen for the removal of the full notebook cells\n",
       "var notebookContainer = gd.closest('#notebook-container');\n",
       "if (notebookContainer) {{\n",
       "    x.observe(notebookContainer, {childList: true});\n",
       "}}\n",
       "\n",
       "// Listen for the clearing of the current output cell\n",
       "var outputEl = gd.closest('.output');\n",
       "if (outputEl) {{\n",
       "    x.observe(outputEl, {childList: true});\n",
       "}}\n",
       "\n",
       "                        })                };                });            </script>        </div>"
      ]
     },
     "metadata": {},
     "output_type": "display_data"
    }
   ],
   "execution_count": 168
  },
  {
   "metadata": {
    "ExecuteTime": {
     "end_time": "2024-10-26T17:42:19.301442Z",
     "start_time": "2024-10-26T17:42:19.296462Z"
    }
   },
   "cell_type": "code",
   "source": "season_wise['season'].unique()",
   "id": "1a84044d8b709578",
   "outputs": [
    {
     "data": {
      "text/plain": [
       "array(['2007/08', '2009', '2009/10', '2011', '2012', '2013', '2014',\n",
       "       '2015', '2016', '2017', '2018', '2019', '2020/21', '2021', '2022',\n",
       "       '2023', '2024'], dtype=object)"
      ]
     },
     "execution_count": 169,
     "metadata": {},
     "output_type": "execute_result"
    }
   ],
   "execution_count": 169
  },
  {
   "metadata": {
    "ExecuteTime": {
     "end_time": "2024-10-26T17:42:19.374846Z",
     "start_time": "2024-10-26T17:42:19.359920Z"
    }
   },
   "cell_type": "code",
   "source": [
    "# 2 box plots of seasons 2024 and 2008\n",
    "trace1 = go.Box(x=season_wise.query('season == \"2024\"').total_runs, name='2024', marker={'color': 'orange'})\n",
    "trace2 = go.Box(x=season_wise.query('season == \"2007/08\"').total_runs, name='2008', marker={'color': 'yellow'})\n",
    "trace3 = go.Box(x=season_wise.query('season == \"2018\"').total_runs, name='2018', marker={'color': 'blue'})\n",
    "\n",
    "data = [trace1, trace2, trace3]\n",
    "layout = go.Layout(title='Total Score Analysis',\n",
    "                   xaxis={'title': 'Total Score'})\n",
    "\n",
    "fig = go.Figure(data=data, layout=layout)\n",
    "\n",
    "plotly.io.show(fig)"
   ],
   "id": "6c574dc5f194b8dd",
   "outputs": [
    {
     "data": {
      "application/vnd.plotly.v1+json": {
       "data": [
        {
         "marker": {
          "color": "orange"
         },
         "name": "2024",
         "x": [
          349,
          351,
          412,
          366,
          330,
          354,
          349,
          523,
          358,
          368,
          377,
          330,
          362,
          252,
          334,
          438,
          399,
          331,
          372,
          439,
          293,
          278,
          362,
          395,
          395,
          337,
          299,
          323,
          392,
          549,
          447,
          181,
          375,
          356,
          465,
          443,
          288,
          362,
          423,
          444,
          377,
          523,
          504,
          395,
          406,
          346,
          310,
          289,
          325,
          401,
          314,
          299,
          306,
          372,
          347,
          422,
          332,
          422,
          427,
          296,
          286,
          327,
          397,
          289,
          410,
          409,
          429,
          323,
          346,
          314,
          227
         ],
         "type": "box"
        },
        {
         "marker": {
          "color": "yellow"
         },
         "name": "2008",
         "x": [
          304,
          447,
          261,
          331,
          222,
          334,
          285,
          410,
          431,
          298,
          273,
          299,
          309,
          320,
          343,
          275,
          372,
          331,
          347,
          341,
          336,
          347,
          295,
          219,
          253,
          292,
          207,
          375,
          253,
          281,
          248,
          344,
          385,
          315,
          287,
          243,
          314,
          401,
          376,
          135,
          212,
          329,
          331,
          204,
          312,
          297,
          377,
          238,
          353,
          355,
          412,
          309,
          349,
          291,
          295,
          279,
          228,
          327
         ],
         "type": "box"
        },
        {
         "marker": {
          "color": "blue"
         },
         "name": "2018",
         "x": [
          334,
          333,
          353,
          252,
          407,
          213,
          298,
          314,
          389,
          277,
          415,
          390,
          329,
          380,
          323,
          371,
          344,
          317,
          350,
          360,
          335,
          282,
          205,
          412,
          251,
          383,
          339,
          291,
          351,
          409,
          320,
          342,
          357,
          350,
          255,
          327,
          349,
          307,
          287,
          301,
          318,
          378,
          353,
          459,
          368,
          359,
          339,
          180,
          287,
          369,
          422,
          290,
          298,
          345,
          337,
          312,
          279,
          313,
          334,
          359
         ],
         "type": "box"
        }
       ],
       "layout": {
        "title": {
         "text": "Total Score Analysis"
        },
        "xaxis": {
         "title": {
          "text": "Total Score"
         }
        },
        "template": {
         "data": {
          "histogram2dcontour": [
           {
            "type": "histogram2dcontour",
            "colorbar": {
             "outlinewidth": 0,
             "ticks": ""
            },
            "colorscale": [
             [
              0.0,
              "#0d0887"
             ],
             [
              0.1111111111111111,
              "#46039f"
             ],
             [
              0.2222222222222222,
              "#7201a8"
             ],
             [
              0.3333333333333333,
              "#9c179e"
             ],
             [
              0.4444444444444444,
              "#bd3786"
             ],
             [
              0.5555555555555556,
              "#d8576b"
             ],
             [
              0.6666666666666666,
              "#ed7953"
             ],
             [
              0.7777777777777778,
              "#fb9f3a"
             ],
             [
              0.8888888888888888,
              "#fdca26"
             ],
             [
              1.0,
              "#f0f921"
             ]
            ]
           }
          ],
          "choropleth": [
           {
            "type": "choropleth",
            "colorbar": {
             "outlinewidth": 0,
             "ticks": ""
            }
           }
          ],
          "histogram2d": [
           {
            "type": "histogram2d",
            "colorbar": {
             "outlinewidth": 0,
             "ticks": ""
            },
            "colorscale": [
             [
              0.0,
              "#0d0887"
             ],
             [
              0.1111111111111111,
              "#46039f"
             ],
             [
              0.2222222222222222,
              "#7201a8"
             ],
             [
              0.3333333333333333,
              "#9c179e"
             ],
             [
              0.4444444444444444,
              "#bd3786"
             ],
             [
              0.5555555555555556,
              "#d8576b"
             ],
             [
              0.6666666666666666,
              "#ed7953"
             ],
             [
              0.7777777777777778,
              "#fb9f3a"
             ],
             [
              0.8888888888888888,
              "#fdca26"
             ],
             [
              1.0,
              "#f0f921"
             ]
            ]
           }
          ],
          "heatmap": [
           {
            "type": "heatmap",
            "colorbar": {
             "outlinewidth": 0,
             "ticks": ""
            },
            "colorscale": [
             [
              0.0,
              "#0d0887"
             ],
             [
              0.1111111111111111,
              "#46039f"
             ],
             [
              0.2222222222222222,
              "#7201a8"
             ],
             [
              0.3333333333333333,
              "#9c179e"
             ],
             [
              0.4444444444444444,
              "#bd3786"
             ],
             [
              0.5555555555555556,
              "#d8576b"
             ],
             [
              0.6666666666666666,
              "#ed7953"
             ],
             [
              0.7777777777777778,
              "#fb9f3a"
             ],
             [
              0.8888888888888888,
              "#fdca26"
             ],
             [
              1.0,
              "#f0f921"
             ]
            ]
           }
          ],
          "heatmapgl": [
           {
            "type": "heatmapgl",
            "colorbar": {
             "outlinewidth": 0,
             "ticks": ""
            },
            "colorscale": [
             [
              0.0,
              "#0d0887"
             ],
             [
              0.1111111111111111,
              "#46039f"
             ],
             [
              0.2222222222222222,
              "#7201a8"
             ],
             [
              0.3333333333333333,
              "#9c179e"
             ],
             [
              0.4444444444444444,
              "#bd3786"
             ],
             [
              0.5555555555555556,
              "#d8576b"
             ],
             [
              0.6666666666666666,
              "#ed7953"
             ],
             [
              0.7777777777777778,
              "#fb9f3a"
             ],
             [
              0.8888888888888888,
              "#fdca26"
             ],
             [
              1.0,
              "#f0f921"
             ]
            ]
           }
          ],
          "contourcarpet": [
           {
            "type": "contourcarpet",
            "colorbar": {
             "outlinewidth": 0,
             "ticks": ""
            }
           }
          ],
          "contour": [
           {
            "type": "contour",
            "colorbar": {
             "outlinewidth": 0,
             "ticks": ""
            },
            "colorscale": [
             [
              0.0,
              "#0d0887"
             ],
             [
              0.1111111111111111,
              "#46039f"
             ],
             [
              0.2222222222222222,
              "#7201a8"
             ],
             [
              0.3333333333333333,
              "#9c179e"
             ],
             [
              0.4444444444444444,
              "#bd3786"
             ],
             [
              0.5555555555555556,
              "#d8576b"
             ],
             [
              0.6666666666666666,
              "#ed7953"
             ],
             [
              0.7777777777777778,
              "#fb9f3a"
             ],
             [
              0.8888888888888888,
              "#fdca26"
             ],
             [
              1.0,
              "#f0f921"
             ]
            ]
           }
          ],
          "surface": [
           {
            "type": "surface",
            "colorbar": {
             "outlinewidth": 0,
             "ticks": ""
            },
            "colorscale": [
             [
              0.0,
              "#0d0887"
             ],
             [
              0.1111111111111111,
              "#46039f"
             ],
             [
              0.2222222222222222,
              "#7201a8"
             ],
             [
              0.3333333333333333,
              "#9c179e"
             ],
             [
              0.4444444444444444,
              "#bd3786"
             ],
             [
              0.5555555555555556,
              "#d8576b"
             ],
             [
              0.6666666666666666,
              "#ed7953"
             ],
             [
              0.7777777777777778,
              "#fb9f3a"
             ],
             [
              0.8888888888888888,
              "#fdca26"
             ],
             [
              1.0,
              "#f0f921"
             ]
            ]
           }
          ],
          "mesh3d": [
           {
            "type": "mesh3d",
            "colorbar": {
             "outlinewidth": 0,
             "ticks": ""
            }
           }
          ],
          "scatter": [
           {
            "fillpattern": {
             "fillmode": "overlay",
             "size": 10,
             "solidity": 0.2
            },
            "type": "scatter"
           }
          ],
          "parcoords": [
           {
            "type": "parcoords",
            "line": {
             "colorbar": {
              "outlinewidth": 0,
              "ticks": ""
             }
            }
           }
          ],
          "scatterpolargl": [
           {
            "type": "scatterpolargl",
            "marker": {
             "colorbar": {
              "outlinewidth": 0,
              "ticks": ""
             }
            }
           }
          ],
          "bar": [
           {
            "error_x": {
             "color": "#2a3f5f"
            },
            "error_y": {
             "color": "#2a3f5f"
            },
            "marker": {
             "line": {
              "color": "#E5ECF6",
              "width": 0.5
             },
             "pattern": {
              "fillmode": "overlay",
              "size": 10,
              "solidity": 0.2
             }
            },
            "type": "bar"
           }
          ],
          "scattergeo": [
           {
            "type": "scattergeo",
            "marker": {
             "colorbar": {
              "outlinewidth": 0,
              "ticks": ""
             }
            }
           }
          ],
          "scatterpolar": [
           {
            "type": "scatterpolar",
            "marker": {
             "colorbar": {
              "outlinewidth": 0,
              "ticks": ""
             }
            }
           }
          ],
          "histogram": [
           {
            "marker": {
             "pattern": {
              "fillmode": "overlay",
              "size": 10,
              "solidity": 0.2
             }
            },
            "type": "histogram"
           }
          ],
          "scattergl": [
           {
            "type": "scattergl",
            "marker": {
             "colorbar": {
              "outlinewidth": 0,
              "ticks": ""
             }
            }
           }
          ],
          "scatter3d": [
           {
            "type": "scatter3d",
            "line": {
             "colorbar": {
              "outlinewidth": 0,
              "ticks": ""
             }
            },
            "marker": {
             "colorbar": {
              "outlinewidth": 0,
              "ticks": ""
             }
            }
           }
          ],
          "scattermapbox": [
           {
            "type": "scattermapbox",
            "marker": {
             "colorbar": {
              "outlinewidth": 0,
              "ticks": ""
             }
            }
           }
          ],
          "scatterternary": [
           {
            "type": "scatterternary",
            "marker": {
             "colorbar": {
              "outlinewidth": 0,
              "ticks": ""
             }
            }
           }
          ],
          "scattercarpet": [
           {
            "type": "scattercarpet",
            "marker": {
             "colorbar": {
              "outlinewidth": 0,
              "ticks": ""
             }
            }
           }
          ],
          "carpet": [
           {
            "aaxis": {
             "endlinecolor": "#2a3f5f",
             "gridcolor": "white",
             "linecolor": "white",
             "minorgridcolor": "white",
             "startlinecolor": "#2a3f5f"
            },
            "baxis": {
             "endlinecolor": "#2a3f5f",
             "gridcolor": "white",
             "linecolor": "white",
             "minorgridcolor": "white",
             "startlinecolor": "#2a3f5f"
            },
            "type": "carpet"
           }
          ],
          "table": [
           {
            "cells": {
             "fill": {
              "color": "#EBF0F8"
             },
             "line": {
              "color": "white"
             }
            },
            "header": {
             "fill": {
              "color": "#C8D4E3"
             },
             "line": {
              "color": "white"
             }
            },
            "type": "table"
           }
          ],
          "barpolar": [
           {
            "marker": {
             "line": {
              "color": "#E5ECF6",
              "width": 0.5
             },
             "pattern": {
              "fillmode": "overlay",
              "size": 10,
              "solidity": 0.2
             }
            },
            "type": "barpolar"
           }
          ],
          "pie": [
           {
            "automargin": true,
            "type": "pie"
           }
          ]
         },
         "layout": {
          "autotypenumbers": "strict",
          "colorway": [
           "#636efa",
           "#EF553B",
           "#00cc96",
           "#ab63fa",
           "#FFA15A",
           "#19d3f3",
           "#FF6692",
           "#B6E880",
           "#FF97FF",
           "#FECB52"
          ],
          "font": {
           "color": "#2a3f5f"
          },
          "hovermode": "closest",
          "hoverlabel": {
           "align": "left"
          },
          "paper_bgcolor": "white",
          "plot_bgcolor": "#E5ECF6",
          "polar": {
           "bgcolor": "#E5ECF6",
           "angularaxis": {
            "gridcolor": "white",
            "linecolor": "white",
            "ticks": ""
           },
           "radialaxis": {
            "gridcolor": "white",
            "linecolor": "white",
            "ticks": ""
           }
          },
          "ternary": {
           "bgcolor": "#E5ECF6",
           "aaxis": {
            "gridcolor": "white",
            "linecolor": "white",
            "ticks": ""
           },
           "baxis": {
            "gridcolor": "white",
            "linecolor": "white",
            "ticks": ""
           },
           "caxis": {
            "gridcolor": "white",
            "linecolor": "white",
            "ticks": ""
           }
          },
          "coloraxis": {
           "colorbar": {
            "outlinewidth": 0,
            "ticks": ""
           }
          },
          "colorscale": {
           "sequential": [
            [
             0.0,
             "#0d0887"
            ],
            [
             0.1111111111111111,
             "#46039f"
            ],
            [
             0.2222222222222222,
             "#7201a8"
            ],
            [
             0.3333333333333333,
             "#9c179e"
            ],
            [
             0.4444444444444444,
             "#bd3786"
            ],
            [
             0.5555555555555556,
             "#d8576b"
            ],
            [
             0.6666666666666666,
             "#ed7953"
            ],
            [
             0.7777777777777778,
             "#fb9f3a"
            ],
            [
             0.8888888888888888,
             "#fdca26"
            ],
            [
             1.0,
             "#f0f921"
            ]
           ],
           "sequentialminus": [
            [
             0.0,
             "#0d0887"
            ],
            [
             0.1111111111111111,
             "#46039f"
            ],
            [
             0.2222222222222222,
             "#7201a8"
            ],
            [
             0.3333333333333333,
             "#9c179e"
            ],
            [
             0.4444444444444444,
             "#bd3786"
            ],
            [
             0.5555555555555556,
             "#d8576b"
            ],
            [
             0.6666666666666666,
             "#ed7953"
            ],
            [
             0.7777777777777778,
             "#fb9f3a"
            ],
            [
             0.8888888888888888,
             "#fdca26"
            ],
            [
             1.0,
             "#f0f921"
            ]
           ],
           "diverging": [
            [
             0,
             "#8e0152"
            ],
            [
             0.1,
             "#c51b7d"
            ],
            [
             0.2,
             "#de77ae"
            ],
            [
             0.3,
             "#f1b6da"
            ],
            [
             0.4,
             "#fde0ef"
            ],
            [
             0.5,
             "#f7f7f7"
            ],
            [
             0.6,
             "#e6f5d0"
            ],
            [
             0.7,
             "#b8e186"
            ],
            [
             0.8,
             "#7fbc41"
            ],
            [
             0.9,
             "#4d9221"
            ],
            [
             1,
             "#276419"
            ]
           ]
          },
          "xaxis": {
           "gridcolor": "white",
           "linecolor": "white",
           "ticks": "",
           "title": {
            "standoff": 15
           },
           "zerolinecolor": "white",
           "automargin": true,
           "zerolinewidth": 2
          },
          "yaxis": {
           "gridcolor": "white",
           "linecolor": "white",
           "ticks": "",
           "title": {
            "standoff": 15
           },
           "zerolinecolor": "white",
           "automargin": true,
           "zerolinewidth": 2
          },
          "scene": {
           "xaxis": {
            "backgroundcolor": "#E5ECF6",
            "gridcolor": "white",
            "linecolor": "white",
            "showbackground": true,
            "ticks": "",
            "zerolinecolor": "white",
            "gridwidth": 2
           },
           "yaxis": {
            "backgroundcolor": "#E5ECF6",
            "gridcolor": "white",
            "linecolor": "white",
            "showbackground": true,
            "ticks": "",
            "zerolinecolor": "white",
            "gridwidth": 2
           },
           "zaxis": {
            "backgroundcolor": "#E5ECF6",
            "gridcolor": "white",
            "linecolor": "white",
            "showbackground": true,
            "ticks": "",
            "zerolinecolor": "white",
            "gridwidth": 2
           }
          },
          "shapedefaults": {
           "line": {
            "color": "#2a3f5f"
           }
          },
          "annotationdefaults": {
           "arrowcolor": "#2a3f5f",
           "arrowhead": 0,
           "arrowwidth": 1
          },
          "geo": {
           "bgcolor": "white",
           "landcolor": "#E5ECF6",
           "subunitcolor": "white",
           "showland": true,
           "showlakes": true,
           "lakecolor": "white"
          },
          "title": {
           "x": 0.05
          },
          "mapbox": {
           "style": "light"
          }
         }
        }
       },
       "config": {
        "plotlyServerURL": "https://plot.ly"
       }
      },
      "text/html": [
       "<div>                            <div id=\"ad959186-53f7-4595-9786-149eaa099ef2\" class=\"plotly-graph-div\" style=\"height:525px; width:100%;\"></div>            <script type=\"text/javascript\">                require([\"plotly\"], function(Plotly) {                    window.PLOTLYENV=window.PLOTLYENV || {};                                    if (document.getElementById(\"ad959186-53f7-4595-9786-149eaa099ef2\")) {                    Plotly.newPlot(                        \"ad959186-53f7-4595-9786-149eaa099ef2\",                        [{\"marker\":{\"color\":\"orange\"},\"name\":\"2024\",\"x\":[349,351,412,366,330,354,349,523,358,368,377,330,362,252,334,438,399,331,372,439,293,278,362,395,395,337,299,323,392,549,447,181,375,356,465,443,288,362,423,444,377,523,504,395,406,346,310,289,325,401,314,299,306,372,347,422,332,422,427,296,286,327,397,289,410,409,429,323,346,314,227],\"type\":\"box\"},{\"marker\":{\"color\":\"yellow\"},\"name\":\"2008\",\"x\":[304,447,261,331,222,334,285,410,431,298,273,299,309,320,343,275,372,331,347,341,336,347,295,219,253,292,207,375,253,281,248,344,385,315,287,243,314,401,376,135,212,329,331,204,312,297,377,238,353,355,412,309,349,291,295,279,228,327],\"type\":\"box\"},{\"marker\":{\"color\":\"blue\"},\"name\":\"2018\",\"x\":[334,333,353,252,407,213,298,314,389,277,415,390,329,380,323,371,344,317,350,360,335,282,205,412,251,383,339,291,351,409,320,342,357,350,255,327,349,307,287,301,318,378,353,459,368,359,339,180,287,369,422,290,298,345,337,312,279,313,334,359],\"type\":\"box\"}],                        {\"title\":{\"text\":\"Total Score Analysis\"},\"xaxis\":{\"title\":{\"text\":\"Total Score\"}},\"template\":{\"data\":{\"histogram2dcontour\":[{\"type\":\"histogram2dcontour\",\"colorbar\":{\"outlinewidth\":0,\"ticks\":\"\"},\"colorscale\":[[0.0,\"#0d0887\"],[0.1111111111111111,\"#46039f\"],[0.2222222222222222,\"#7201a8\"],[0.3333333333333333,\"#9c179e\"],[0.4444444444444444,\"#bd3786\"],[0.5555555555555556,\"#d8576b\"],[0.6666666666666666,\"#ed7953\"],[0.7777777777777778,\"#fb9f3a\"],[0.8888888888888888,\"#fdca26\"],[1.0,\"#f0f921\"]]}],\"choropleth\":[{\"type\":\"choropleth\",\"colorbar\":{\"outlinewidth\":0,\"ticks\":\"\"}}],\"histogram2d\":[{\"type\":\"histogram2d\",\"colorbar\":{\"outlinewidth\":0,\"ticks\":\"\"},\"colorscale\":[[0.0,\"#0d0887\"],[0.1111111111111111,\"#46039f\"],[0.2222222222222222,\"#7201a8\"],[0.3333333333333333,\"#9c179e\"],[0.4444444444444444,\"#bd3786\"],[0.5555555555555556,\"#d8576b\"],[0.6666666666666666,\"#ed7953\"],[0.7777777777777778,\"#fb9f3a\"],[0.8888888888888888,\"#fdca26\"],[1.0,\"#f0f921\"]]}],\"heatmap\":[{\"type\":\"heatmap\",\"colorbar\":{\"outlinewidth\":0,\"ticks\":\"\"},\"colorscale\":[[0.0,\"#0d0887\"],[0.1111111111111111,\"#46039f\"],[0.2222222222222222,\"#7201a8\"],[0.3333333333333333,\"#9c179e\"],[0.4444444444444444,\"#bd3786\"],[0.5555555555555556,\"#d8576b\"],[0.6666666666666666,\"#ed7953\"],[0.7777777777777778,\"#fb9f3a\"],[0.8888888888888888,\"#fdca26\"],[1.0,\"#f0f921\"]]}],\"heatmapgl\":[{\"type\":\"heatmapgl\",\"colorbar\":{\"outlinewidth\":0,\"ticks\":\"\"},\"colorscale\":[[0.0,\"#0d0887\"],[0.1111111111111111,\"#46039f\"],[0.2222222222222222,\"#7201a8\"],[0.3333333333333333,\"#9c179e\"],[0.4444444444444444,\"#bd3786\"],[0.5555555555555556,\"#d8576b\"],[0.6666666666666666,\"#ed7953\"],[0.7777777777777778,\"#fb9f3a\"],[0.8888888888888888,\"#fdca26\"],[1.0,\"#f0f921\"]]}],\"contourcarpet\":[{\"type\":\"contourcarpet\",\"colorbar\":{\"outlinewidth\":0,\"ticks\":\"\"}}],\"contour\":[{\"type\":\"contour\",\"colorbar\":{\"outlinewidth\":0,\"ticks\":\"\"},\"colorscale\":[[0.0,\"#0d0887\"],[0.1111111111111111,\"#46039f\"],[0.2222222222222222,\"#7201a8\"],[0.3333333333333333,\"#9c179e\"],[0.4444444444444444,\"#bd3786\"],[0.5555555555555556,\"#d8576b\"],[0.6666666666666666,\"#ed7953\"],[0.7777777777777778,\"#fb9f3a\"],[0.8888888888888888,\"#fdca26\"],[1.0,\"#f0f921\"]]}],\"surface\":[{\"type\":\"surface\",\"colorbar\":{\"outlinewidth\":0,\"ticks\":\"\"},\"colorscale\":[[0.0,\"#0d0887\"],[0.1111111111111111,\"#46039f\"],[0.2222222222222222,\"#7201a8\"],[0.3333333333333333,\"#9c179e\"],[0.4444444444444444,\"#bd3786\"],[0.5555555555555556,\"#d8576b\"],[0.6666666666666666,\"#ed7953\"],[0.7777777777777778,\"#fb9f3a\"],[0.8888888888888888,\"#fdca26\"],[1.0,\"#f0f921\"]]}],\"mesh3d\":[{\"type\":\"mesh3d\",\"colorbar\":{\"outlinewidth\":0,\"ticks\":\"\"}}],\"scatter\":[{\"fillpattern\":{\"fillmode\":\"overlay\",\"size\":10,\"solidity\":0.2},\"type\":\"scatter\"}],\"parcoords\":[{\"type\":\"parcoords\",\"line\":{\"colorbar\":{\"outlinewidth\":0,\"ticks\":\"\"}}}],\"scatterpolargl\":[{\"type\":\"scatterpolargl\",\"marker\":{\"colorbar\":{\"outlinewidth\":0,\"ticks\":\"\"}}}],\"bar\":[{\"error_x\":{\"color\":\"#2a3f5f\"},\"error_y\":{\"color\":\"#2a3f5f\"},\"marker\":{\"line\":{\"color\":\"#E5ECF6\",\"width\":0.5},\"pattern\":{\"fillmode\":\"overlay\",\"size\":10,\"solidity\":0.2}},\"type\":\"bar\"}],\"scattergeo\":[{\"type\":\"scattergeo\",\"marker\":{\"colorbar\":{\"outlinewidth\":0,\"ticks\":\"\"}}}],\"scatterpolar\":[{\"type\":\"scatterpolar\",\"marker\":{\"colorbar\":{\"outlinewidth\":0,\"ticks\":\"\"}}}],\"histogram\":[{\"marker\":{\"pattern\":{\"fillmode\":\"overlay\",\"size\":10,\"solidity\":0.2}},\"type\":\"histogram\"}],\"scattergl\":[{\"type\":\"scattergl\",\"marker\":{\"colorbar\":{\"outlinewidth\":0,\"ticks\":\"\"}}}],\"scatter3d\":[{\"type\":\"scatter3d\",\"line\":{\"colorbar\":{\"outlinewidth\":0,\"ticks\":\"\"}},\"marker\":{\"colorbar\":{\"outlinewidth\":0,\"ticks\":\"\"}}}],\"scattermapbox\":[{\"type\":\"scattermapbox\",\"marker\":{\"colorbar\":{\"outlinewidth\":0,\"ticks\":\"\"}}}],\"scatterternary\":[{\"type\":\"scatterternary\",\"marker\":{\"colorbar\":{\"outlinewidth\":0,\"ticks\":\"\"}}}],\"scattercarpet\":[{\"type\":\"scattercarpet\",\"marker\":{\"colorbar\":{\"outlinewidth\":0,\"ticks\":\"\"}}}],\"carpet\":[{\"aaxis\":{\"endlinecolor\":\"#2a3f5f\",\"gridcolor\":\"white\",\"linecolor\":\"white\",\"minorgridcolor\":\"white\",\"startlinecolor\":\"#2a3f5f\"},\"baxis\":{\"endlinecolor\":\"#2a3f5f\",\"gridcolor\":\"white\",\"linecolor\":\"white\",\"minorgridcolor\":\"white\",\"startlinecolor\":\"#2a3f5f\"},\"type\":\"carpet\"}],\"table\":[{\"cells\":{\"fill\":{\"color\":\"#EBF0F8\"},\"line\":{\"color\":\"white\"}},\"header\":{\"fill\":{\"color\":\"#C8D4E3\"},\"line\":{\"color\":\"white\"}},\"type\":\"table\"}],\"barpolar\":[{\"marker\":{\"line\":{\"color\":\"#E5ECF6\",\"width\":0.5},\"pattern\":{\"fillmode\":\"overlay\",\"size\":10,\"solidity\":0.2}},\"type\":\"barpolar\"}],\"pie\":[{\"automargin\":true,\"type\":\"pie\"}]},\"layout\":{\"autotypenumbers\":\"strict\",\"colorway\":[\"#636efa\",\"#EF553B\",\"#00cc96\",\"#ab63fa\",\"#FFA15A\",\"#19d3f3\",\"#FF6692\",\"#B6E880\",\"#FF97FF\",\"#FECB52\"],\"font\":{\"color\":\"#2a3f5f\"},\"hovermode\":\"closest\",\"hoverlabel\":{\"align\":\"left\"},\"paper_bgcolor\":\"white\",\"plot_bgcolor\":\"#E5ECF6\",\"polar\":{\"bgcolor\":\"#E5ECF6\",\"angularaxis\":{\"gridcolor\":\"white\",\"linecolor\":\"white\",\"ticks\":\"\"},\"radialaxis\":{\"gridcolor\":\"white\",\"linecolor\":\"white\",\"ticks\":\"\"}},\"ternary\":{\"bgcolor\":\"#E5ECF6\",\"aaxis\":{\"gridcolor\":\"white\",\"linecolor\":\"white\",\"ticks\":\"\"},\"baxis\":{\"gridcolor\":\"white\",\"linecolor\":\"white\",\"ticks\":\"\"},\"caxis\":{\"gridcolor\":\"white\",\"linecolor\":\"white\",\"ticks\":\"\"}},\"coloraxis\":{\"colorbar\":{\"outlinewidth\":0,\"ticks\":\"\"}},\"colorscale\":{\"sequential\":[[0.0,\"#0d0887\"],[0.1111111111111111,\"#46039f\"],[0.2222222222222222,\"#7201a8\"],[0.3333333333333333,\"#9c179e\"],[0.4444444444444444,\"#bd3786\"],[0.5555555555555556,\"#d8576b\"],[0.6666666666666666,\"#ed7953\"],[0.7777777777777778,\"#fb9f3a\"],[0.8888888888888888,\"#fdca26\"],[1.0,\"#f0f921\"]],\"sequentialminus\":[[0.0,\"#0d0887\"],[0.1111111111111111,\"#46039f\"],[0.2222222222222222,\"#7201a8\"],[0.3333333333333333,\"#9c179e\"],[0.4444444444444444,\"#bd3786\"],[0.5555555555555556,\"#d8576b\"],[0.6666666666666666,\"#ed7953\"],[0.7777777777777778,\"#fb9f3a\"],[0.8888888888888888,\"#fdca26\"],[1.0,\"#f0f921\"]],\"diverging\":[[0,\"#8e0152\"],[0.1,\"#c51b7d\"],[0.2,\"#de77ae\"],[0.3,\"#f1b6da\"],[0.4,\"#fde0ef\"],[0.5,\"#f7f7f7\"],[0.6,\"#e6f5d0\"],[0.7,\"#b8e186\"],[0.8,\"#7fbc41\"],[0.9,\"#4d9221\"],[1,\"#276419\"]]},\"xaxis\":{\"gridcolor\":\"white\",\"linecolor\":\"white\",\"ticks\":\"\",\"title\":{\"standoff\":15},\"zerolinecolor\":\"white\",\"automargin\":true,\"zerolinewidth\":2},\"yaxis\":{\"gridcolor\":\"white\",\"linecolor\":\"white\",\"ticks\":\"\",\"title\":{\"standoff\":15},\"zerolinecolor\":\"white\",\"automargin\":true,\"zerolinewidth\":2},\"scene\":{\"xaxis\":{\"backgroundcolor\":\"#E5ECF6\",\"gridcolor\":\"white\",\"linecolor\":\"white\",\"showbackground\":true,\"ticks\":\"\",\"zerolinecolor\":\"white\",\"gridwidth\":2},\"yaxis\":{\"backgroundcolor\":\"#E5ECF6\",\"gridcolor\":\"white\",\"linecolor\":\"white\",\"showbackground\":true,\"ticks\":\"\",\"zerolinecolor\":\"white\",\"gridwidth\":2},\"zaxis\":{\"backgroundcolor\":\"#E5ECF6\",\"gridcolor\":\"white\",\"linecolor\":\"white\",\"showbackground\":true,\"ticks\":\"\",\"zerolinecolor\":\"white\",\"gridwidth\":2}},\"shapedefaults\":{\"line\":{\"color\":\"#2a3f5f\"}},\"annotationdefaults\":{\"arrowcolor\":\"#2a3f5f\",\"arrowhead\":0,\"arrowwidth\":1},\"geo\":{\"bgcolor\":\"white\",\"landcolor\":\"#E5ECF6\",\"subunitcolor\":\"white\",\"showland\":true,\"showlakes\":true,\"lakecolor\":\"white\"},\"title\":{\"x\":0.05},\"mapbox\":{\"style\":\"light\"}}}},                        {\"responsive\": true}                    ).then(function(){\n",
       "                            \n",
       "var gd = document.getElementById('ad959186-53f7-4595-9786-149eaa099ef2');\n",
       "var x = new MutationObserver(function (mutations, observer) {{\n",
       "        var display = window.getComputedStyle(gd).display;\n",
       "        if (!display || display === 'none') {{\n",
       "            console.log([gd, 'removed!']);\n",
       "            Plotly.purge(gd);\n",
       "            observer.disconnect();\n",
       "        }}\n",
       "}});\n",
       "\n",
       "// Listen for the removal of the full notebook cells\n",
       "var notebookContainer = gd.closest('#notebook-container');\n",
       "if (notebookContainer) {{\n",
       "    x.observe(notebookContainer, {childList: true});\n",
       "}}\n",
       "\n",
       "// Listen for the clearing of the current output cell\n",
       "var outputEl = gd.closest('.output');\n",
       "if (outputEl) {{\n",
       "    x.observe(outputEl, {childList: true});\n",
       "}}\n",
       "\n",
       "                        })                };                });            </script>        </div>"
      ]
     },
     "metadata": {},
     "output_type": "display_data"
    }
   ],
   "execution_count": 170
  },
  {
   "metadata": {},
   "cell_type": "markdown",
   "source": [
    "## 7. Distplots\n",
    "\n",
    "<p></p>\n",
    "<img src=\"https://plot.ly/~PythonPlotBot/10/customized-distplot.png\"/>"
   ],
   "id": "30aaf7e30631edde"
  },
  {
   "metadata": {
    "ExecuteTime": {
     "end_time": "2024-10-26T17:42:19.516770Z",
     "start_time": "2024-10-26T17:42:19.508756Z"
    }
   },
   "cell_type": "code",
   "source": [
    "# Plot Distplot\n",
    "\n",
    "import plotly.figure_factory as ff\n",
    "\n",
    "avg.head()"
   ],
   "id": "bf3594d14e122485",
   "outputs": [
    {
     "data": {
      "text/plain": [
       "           batter        avg  strike_rate\n",
       "0  AB de Villiers  39.853846   148.580442\n",
       "1      AD Russell  28.930233   164.224422\n",
       "2        AJ Finch  24.904762   123.349057\n",
       "3       AM Rahane  30.142857   120.321410\n",
       "4       AT Rayudu  28.051613   124.584527"
      ],
      "text/html": [
       "<div>\n",
       "<style scoped>\n",
       "    .dataframe tbody tr th:only-of-type {\n",
       "        vertical-align: middle;\n",
       "    }\n",
       "\n",
       "    .dataframe tbody tr th {\n",
       "        vertical-align: top;\n",
       "    }\n",
       "\n",
       "    .dataframe thead th {\n",
       "        text-align: right;\n",
       "    }\n",
       "</style>\n",
       "<table border=\"1\" class=\"dataframe\">\n",
       "  <thead>\n",
       "    <tr style=\"text-align: right;\">\n",
       "      <th></th>\n",
       "      <th>batter</th>\n",
       "      <th>avg</th>\n",
       "      <th>strike_rate</th>\n",
       "    </tr>\n",
       "  </thead>\n",
       "  <tbody>\n",
       "    <tr>\n",
       "      <th>0</th>\n",
       "      <td>AB de Villiers</td>\n",
       "      <td>39.853846</td>\n",
       "      <td>148.580442</td>\n",
       "    </tr>\n",
       "    <tr>\n",
       "      <th>1</th>\n",
       "      <td>AD Russell</td>\n",
       "      <td>28.930233</td>\n",
       "      <td>164.224422</td>\n",
       "    </tr>\n",
       "    <tr>\n",
       "      <th>2</th>\n",
       "      <td>AJ Finch</td>\n",
       "      <td>24.904762</td>\n",
       "      <td>123.349057</td>\n",
       "    </tr>\n",
       "    <tr>\n",
       "      <th>3</th>\n",
       "      <td>AM Rahane</td>\n",
       "      <td>30.142857</td>\n",
       "      <td>120.321410</td>\n",
       "    </tr>\n",
       "    <tr>\n",
       "      <th>4</th>\n",
       "      <td>AT Rayudu</td>\n",
       "      <td>28.051613</td>\n",
       "      <td>124.584527</td>\n",
       "    </tr>\n",
       "  </tbody>\n",
       "</table>\n",
       "</div>"
      ]
     },
     "execution_count": 171,
     "metadata": {},
     "output_type": "execute_result"
    }
   ],
   "execution_count": 171
  },
  {
   "metadata": {
    "ExecuteTime": {
     "end_time": "2024-10-26T17:42:19.585424Z",
     "start_time": "2024-10-26T17:42:19.553625Z"
    }
   },
   "cell_type": "code",
   "source": [
    "hist_data = [avg.avg]\n",
    "\n",
    "group_labels = ['Average']\n",
    "\n",
    "fig = ff.create_distplot(hist_data, group_labels)\n",
    "\n",
    "plotly.io.show(fig)"
   ],
   "id": "5d69bcca72e5bc09",
   "outputs": [
    {
     "data": {
      "application/vnd.plotly.v1+json": {
       "data": [
        {
         "autobinx": false,
         "histnorm": "probability density",
         "legendgroup": "Average",
         "marker": {
          "color": "rgb(31, 119, 180)"
         },
         "name": "Average",
         "opacity": 0.7,
         "x": [
          39.853846153846156,
          28.930232558139537,
          24.904761904761905,
          30.142857142857142,
          28.051612903225806,
          27.71153846153846,
          39.65873015873016,
          35.65853658536585,
          40.042682926829265,
          28.392857142857142,
          35.99212598425197,
          31.00735294117647,
          24.75,
          28.471910112359552,
          28.43010752688172,
          37.71578947368421,
          28.55294117647059,
          28.40495867768595,
          26.320652173913043,
          44.65714285714286,
          35.53333333333333,
          25.93069306930693,
          22.811965811965813,
          29.015037593984964,
          39.12686567164179,
          28.344086021505376,
          22.603174603174605,
          30.980392156862745,
          28.233766233766232,
          27.39814814814815,
          26.93975903614458,
          41.75438596491228,
          29.730941704035875,
          35.45161290322581,
          27.522222222222222,
          35.07253886010363,
          31.805309734513273,
          39.507936507936506,
          32.37426900584796,
          34.65277777777778,
          33.82608695652174,
          30.793650793650794,
          31.948979591836736,
          30.6875,
          37.83529411764706,
          38.71497584541063,
          27.555555555555557,
          24.24793388429752,
          29.29090909090909,
          24.81081081081081
         ],
         "xaxis": "x",
         "xbins": {
          "end": 44.65714285714286,
          "size": 1.0,
          "start": 22.603174603174605
         },
         "yaxis": "y",
         "type": "histogram"
        },
        {
         "legendgroup": "Average",
         "marker": {
          "color": "rgb(31, 119, 180)"
         },
         "mode": "lines",
         "name": "Average",
         "showlegend": false,
         "x": [
          22.603174603174605,
          22.647282539682543,
          22.691390476190477,
          22.735498412698416,
          22.77960634920635,
          22.82371428571429,
          22.867822222222223,
          22.91193015873016,
          22.956038095238096,
          23.000146031746034,
          23.04425396825397,
          23.088361904761907,
          23.13246984126984,
          23.17657777777778,
          23.220685714285715,
          23.264793650793653,
          23.308901587301587,
          23.353009523809526,
          23.39711746031746,
          23.4412253968254,
          23.485333333333333,
          23.52944126984127,
          23.573549206349206,
          23.617657142857144,
          23.661765079365082,
          23.705873015873017,
          23.749980952380955,
          23.79408888888889,
          23.838196825396828,
          23.882304761904763,
          23.9264126984127,
          23.970520634920636,
          24.014628571428574,
          24.05873650793651,
          24.102844444444447,
          24.14695238095238,
          24.19106031746032,
          24.235168253968254,
          24.279276190476192,
          24.323384126984127,
          24.367492063492065,
          24.4116,
          24.455707936507938,
          24.499815873015873,
          24.54392380952381,
          24.588031746031746,
          24.632139682539684,
          24.676247619047622,
          24.720355555555557,
          24.76446349206349,
          24.80857142857143,
          24.852679365079368,
          24.896787301587302,
          24.94089523809524,
          24.985003174603175,
          25.029111111111114,
          25.073219047619048,
          25.117326984126986,
          25.16143492063492,
          25.20554285714286,
          25.249650793650794,
          25.293758730158732,
          25.337866666666667,
          25.381974603174605,
          25.42608253968254,
          25.470190476190478,
          25.514298412698416,
          25.55840634920635,
          25.602514285714285,
          25.646622222222224,
          25.69073015873016,
          25.734838095238096,
          25.778946031746035,
          25.82305396825397,
          25.867161904761907,
          25.911269841269842,
          25.95537777777778,
          25.999485714285715,
          26.043593650793653,
          26.087701587301588,
          26.131809523809526,
          26.17591746031746,
          26.2200253968254,
          26.264133333333334,
          26.30824126984127,
          26.352349206349206,
          26.396457142857145,
          26.44056507936508,
          26.484673015873017,
          26.528780952380952,
          26.57288888888889,
          26.616996825396825,
          26.661104761904763,
          26.7052126984127,
          26.749320634920636,
          26.79342857142857,
          26.83753650793651,
          26.881644444444447,
          26.92575238095238,
          26.96986031746032,
          27.013968253968255,
          27.058076190476193,
          27.102184126984127,
          27.146292063492066,
          27.190400000000004,
          27.23450793650794,
          27.278615873015873,
          27.32272380952381,
          27.366831746031746,
          27.410939682539684,
          27.45504761904762,
          27.499155555555557,
          27.543263492063492,
          27.58737142857143,
          27.631479365079365,
          27.675587301587303,
          27.71969523809524,
          27.763803174603176,
          27.807911111111114,
          27.85201904761905,
          27.896126984126987,
          27.94023492063492,
          27.98434285714286,
          28.028450793650794,
          28.072558730158732,
          28.116666666666667,
          28.160774603174605,
          28.20488253968254,
          28.248990476190478,
          28.293098412698413,
          28.33720634920635,
          28.381314285714286,
          28.425422222222224,
          28.46953015873016,
          28.513638095238097,
          28.557746031746035,
          28.60185396825397,
          28.645961904761908,
          28.690069841269842,
          28.73417777777778,
          28.778285714285715,
          28.82239365079365,
          28.866501587301588,
          28.910609523809526,
          28.95471746031746,
          28.998825396825396,
          29.042933333333334,
          29.087041269841272,
          29.131149206349207,
          29.175257142857145,
          29.21936507936508,
          29.263473015873018,
          29.307580952380953,
          29.35168888888889,
          29.39579682539683,
          29.439904761904764,
          29.4840126984127,
          29.528120634920636,
          29.572228571428575,
          29.61633650793651,
          29.660444444444444,
          29.704552380952382,
          29.74866031746032,
          29.792768253968255,
          29.83687619047619,
          29.880984126984128,
          29.925092063492066,
          29.9692,
          30.01330793650794,
          30.057415873015874,
          30.101523809523812,
          30.145631746031746,
          30.189739682539685,
          30.233847619047623,
          30.277955555555558,
          30.322063492063492,
          30.36617142857143,
          30.41027936507937,
          30.454387301587303,
          30.498495238095238,
          30.542603174603176,
          30.586711111111114,
          30.63081904761905,
          30.674926984126984,
          30.719034920634922,
          30.76314285714286,
          30.807250793650795,
          30.85135873015873,
          30.895466666666668,
          30.939574603174606,
          30.98368253968254,
          31.02779047619048,
          31.071898412698417,
          31.11600634920635,
          31.160114285714286,
          31.20422222222222,
          31.24833015873016,
          31.292438095238097,
          31.336546031746032,
          31.38065396825397,
          31.42476190476191,
          31.468869841269843,
          31.512977777777778,
          31.557085714285716,
          31.601193650793654,
          31.64530158730159,
          31.689409523809523,
          31.73351746031746,
          31.7776253968254,
          31.821733333333334,
          31.86584126984127,
          31.909949206349207,
          31.954057142857145,
          31.99816507936508,
          32.04227301587302,
          32.086380952380956,
          32.13048888888889,
          32.174596825396826,
          32.21870476190476,
          32.2628126984127,
          32.30692063492064,
          32.35102857142857,
          32.39513650793651,
          32.43924444444445,
          32.48335238095238,
          32.52746031746032,
          32.57156825396825,
          32.615676190476194,
          32.65978412698413,
          32.70389206349206,
          32.748000000000005,
          32.79210793650794,
          32.836215873015874,
          32.88032380952381,
          32.92443174603174,
          32.968539682539685,
          33.01264761904762,
          33.056755555555554,
          33.100863492063496,
          33.14497142857143,
          33.189079365079365,
          33.23318730158731,
          33.27729523809524,
          33.32140317460318,
          33.36551111111111,
          33.409619047619046,
          33.45372698412699,
          33.49783492063492,
          33.54194285714286,
          33.5860507936508,
          33.63015873015873,
          33.67426666666667,
          33.71837460317461,
          33.76248253968254,
          33.80659047619048,
          33.850698412698414,
          33.89480634920635,
          33.93891428571429,
          33.983022222222225,
          34.02713015873016,
          34.071238095238094,
          34.11534603174603,
          34.15945396825397,
          34.203561904761905,
          34.24766984126984,
          34.29177777777778,
          34.335885714285716,
          34.37999365079365,
          34.424101587301585,
          34.46820952380953,
          34.51231746031746,
          34.5564253968254,
          34.60053333333333,
          34.64464126984127,
          34.68874920634921,
          34.73285714285714,
          34.776965079365084,
          34.82107301587302,
          34.86518095238095,
          34.90928888888889,
          34.95339682539683,
          34.997504761904764,
          35.0416126984127,
          35.085720634920634,
          35.129828571428575,
          35.17393650793651,
          35.218044444444445,
          35.26215238095239,
          35.30626031746032,
          35.350368253968256,
          35.39447619047619,
          35.438584126984125,
          35.48269206349207,
          35.5268,
          35.570907936507936,
          35.61501587301588,
          35.65912380952381,
          35.70323174603175,
          35.74733968253968,
          35.79144761904762,
          35.83555555555556,
          35.87966349206349,
          35.92377142857143,
          35.96787936507937,
          36.011987301587304,
          36.05609523809524,
          36.10020317460317,
          36.14431111111111,
          36.18841904761905,
          36.232526984126984,
          36.27663492063492,
          36.32074285714286,
          36.364850793650795,
          36.40895873015873,
          36.45306666666667,
          36.49717460317461,
          36.54128253968254,
          36.585390476190476,
          36.62949841269841,
          36.67360634920635,
          36.71771428571429,
          36.76182222222222,
          36.80593015873016,
          36.8500380952381,
          36.89414603174603,
          36.938253968253974,
          36.9823619047619,
          37.026469841269844,
          37.07057777777778,
          37.11468571428571,
          37.158793650793655,
          37.20290158730159,
          37.247009523809524,
          37.29111746031746,
          37.33522539682539,
          37.379333333333335,
          37.42344126984127,
          37.467549206349204,
          37.511657142857146,
          37.55576507936508,
          37.599873015873015,
          37.64398095238096,
          37.68808888888889,
          37.73219682539683,
          37.77630476190476,
          37.820412698412696,
          37.86452063492064,
          37.90862857142857,
          37.95273650793651,
          37.99684444444445,
          38.04095238095238,
          38.08506031746032,
          38.12916825396826,
          38.173276190476194,
          38.21738412698413,
          38.261492063492064,
          38.3056,
          38.34970793650794,
          38.393815873015875,
          38.43792380952381,
          38.48203174603175,
          38.526139682539686,
          38.57024761904762,
          38.614355555555555,
          38.65846349206349,
          38.70257142857143,
          38.746679365079366,
          38.7907873015873,
          38.83489523809524,
          38.87900317460318,
          38.92311111111111,
          38.967219047619054,
          39.01132698412699,
          39.05543492063492,
          39.09954285714286,
          39.14365079365079,
          39.187758730158734,
          39.23186666666667,
          39.2759746031746,
          39.320082539682545,
          39.36419047619047,
          39.408298412698414,
          39.452406349206356,
          39.496514285714284,
          39.540622222222225,
          39.58473015873016,
          39.628838095238095,
          39.67294603174604,
          39.717053968253964,
          39.761161904761906,
          39.80526984126984,
          39.849377777777775,
          39.89348571428572,
          39.93759365079366,
          39.981701587301586,
          40.02580952380953,
          40.06991746031746,
          40.1140253968254,
          40.15813333333334,
          40.20224126984127,
          40.24634920634921,
          40.29045714285714,
          40.33456507936508,
          40.37867301587302,
          40.42278095238095,
          40.46688888888889,
          40.51099682539683,
          40.555104761904765,
          40.5992126984127,
          40.64332063492064,
          40.68742857142857,
          40.73153650793651,
          40.775644444444445,
          40.81975238095238,
          40.86386031746032,
          40.90796825396825,
          40.95207619047619,
          40.99618412698413,
          41.04029206349206,
          41.0844,
          41.12850793650794,
          41.17261587301587,
          41.21672380952381,
          41.26083174603175,
          41.30493968253968,
          41.34904761904762,
          41.39315555555555,
          41.437263492063494,
          41.481371428571435,
          41.52547936507936,
          41.569587301587305,
          41.61369523809524,
          41.657803174603174,
          41.701911111111116,
          41.74601904761904,
          41.790126984126985,
          41.83423492063492,
          41.878342857142854,
          41.922450793650796,
          41.96655873015873,
          42.010666666666665,
          42.05477460317461,
          42.09888253968254,
          42.14299047619048,
          42.18709841269842,
          42.231206349206346,
          42.27531428571429,
          42.31942222222222,
          42.36353015873016,
          42.4076380952381,
          42.45174603174603,
          42.49585396825397,
          42.53996190476191,
          42.584069841269844,
          42.62817777777778,
          42.672285714285714,
          42.71639365079365,
          42.76050158730159,
          42.804609523809525,
          42.84871746031746,
          42.8928253968254,
          42.936933333333336,
          42.98104126984127,
          43.02514920634921,
          43.06925714285714,
          43.11336507936508,
          43.157473015873016,
          43.20158095238095,
          43.24568888888889,
          43.28979682539682,
          43.33390476190476,
          43.378012698412704,
          43.42212063492064,
          43.46622857142857,
          43.510336507936515,
          43.55444444444444,
          43.598552380952384,
          43.64266031746032,
          43.68676825396825,
          43.730876190476195,
          43.77498412698412,
          43.819092063492064,
          43.863200000000006,
          43.907307936507934,
          43.951415873015875,
          43.99552380952381,
          44.039631746031745,
          44.08373968253969,
          44.12784761904762,
          44.171955555555556,
          44.2160634920635,
          44.260171428571425,
          44.30427936507937,
          44.34838730158731,
          44.392495238095236,
          44.43660317460318,
          44.48071111111111,
          44.52481904761905,
          44.56892698412699,
          44.61303492063492
         ],
         "xaxis": "x",
         "y": [
          0.022451299936918988,
          0.022829590758750268,
          0.023211237649958458,
          0.023596229746589367,
          0.023984555827629046,
          0.02437620428455337,
          0.024771163087743006,
          0.025169419749738773,
          0.025570961285320517,
          0.025975774168403104,
          0.02638384428575118,
          0.02679515688752646,
          0.02720969653468855,
          0.02762744704328452,
          0.028048391425668937,
          0.028472511828710516,
          0.02889978946904965,
          0.02933020456548439,
          0.029763736268571487,
          0.030200362587542946,
          0.0306400603146464,
          0.031082804947032847,
          0.03152857060632204,
          0.031977329955991736,
          0.0324290541167435,
          0.032883712580012256,
          0.03334127311979481,
          0.03380170170298485,
          0.034264962398411335,
          0.034731017284786767,
          0.03519982635778257,
          0.03567134743645665,
          0.036145536069268,
          0.03662234543992106,
          0.03710172627329099,
          0.03758362674168736,
          0.038067992371721766,
          0.03855476595205,
          0.039043887442266376,
          0.039535293883230925,
          0.04002891930911652,
          0.0405246946614648,
          0.04102254770554386,
          0.041522402949301804,
          0.04202418156521301,
          0.0425278013153124,
          0.043033176479714434,
          0.043540217788911734,
          0.04404883236014635,
          0.04455892363814393,
          0.04507039134049676,
          0.04558313140797749,
          0.04609703596006079,
          0.04661199325592182,
          0.047127887661174386,
          0.04764459962060403,
          0.048162005637140445,
          0.04867997825730637,
          0.04919838606336654,
          0.04971709367239123,
          0.050235961742434825,
          0.050754846986017774,
          0.05127360219108576,
          0.05179207624960619,
          0.052310114193945094,
          0.05282755724115365,
          0.053344242845274996,
          0.05386000475776648,
          0.05437467309611317,
          0.05488807442069123,
          0.05540003181992073,
          0.05591036500372791,
          0.056418890405318556,
          0.05692542129124242,
          0.05742976787971117,
          0.05793173746710854,
          0.05843113456261559,
          0.058927761030848326,
          0.0594214162423893,
          0.05991189723207,
          0.06039899886484435,
          0.06088251400906984,
          0.06136223371699644,
          0.06183794741223977,
          0.06230944308399958,
          0.06277650748776233,
          0.06323892635221043,
          0.06369648459204132,
          0.06414896652638291,
          0.06459615610247456,
          0.06503783712426743,
          0.06547379348558141,
          0.06590380940744334,
          0.06632766967921452,
          0.06674515990310588,
          0.06715606674166465,
          0.06756017816780727,
          0.06795728371696153,
          0.0683471747408742,
          0.06872964466263044,
          0.06910448923242518,
          0.06947150678362303,
          0.06983049848863446,
          0.07018126861413763,
          0.07052362477516878,
          0.07085737818760662,
          0.07118234391857345,
          0.07149834113427934,
          0.07180519334483693,
          0.07210272864557905,
          0.07239077995441512,
          0.0726691852447706,
          0.07293778777365797,
          0.07319643630443892,
          0.07344498532384489,
          0.07368329525283518,
          0.07391123265088193,
          0.07412867041328522,
          0.07433548796113382,
          0.07453157142354291,
          0.07471681381181439,
          0.07489111518518161,
          0.0750543828078191,
          0.07520653129681142,
          0.07534748276080008,
          0.07547716692903932,
          0.07559552127061717,
          0.07570249110361425,
          0.07579802969399572,
          0.07588209834405145,
          0.07595466647022169,
          0.07601571167016616,
          0.07606521977895722,
          0.07610318491429854,
          0.0761296095106945,
          0.07614450434251538,
          0.0761478885359272,
          0.0761397895696762,
          0.07612024326473973,
          0.07608929376287706,
          0.07604699349413488,
          0.07599340313338325,
          0.07592859154597803,
          0.07585263572266668,
          0.07576562070387347,
          0.07566763949351926,
          0.07555879296255016,
          0.0754391897423675,
          0.07530894610836744,
          0.07516818585381764,
          0.07501704015431256,
          0.07485564742306479,
          0.07468415315730506,
          0.07450270977607577,
          0.07431147644971726,
          0.07411061892135769,
          0.07390030932072798,
          0.073680725970635,
          0.07345205318643425,
          0.07321448106885331,
          0.07296820529052404,
          0.07271342687658948,
          0.07245035197975705,
          0.07217919165017395,
          0.07190016160050726,
          0.07161348196661248,
          0.07131937706417835,
          0.07101807514173794,
          0.07070980813043475,
          0.07039481139093715,
          0.07007332345788943,
          0.06974558578229058,
          0.06941184247218647,
          0.06907234003206256,
          0.0687273271013171,
          0.06837705419219384,
          0.06802177342754781,
          0.06766173827881297,
          0.06729720330453418,
          0.06692842388982151,
          0.06655565598707736,
          0.06617915585834036,
          0.06579917981958155,
          0.06541598398728257,
          0.06502982402761588,
          0.06464095490853916,
          0.0642496306551075,
          0.06385610410829691,
          0.06346062668762531,
          0.06306344815784556,
          0.06266481639997694,
          0.062264977186930526,
          0.06186417396397487,
          0.06146264763427739,
          0.06106063634974649,
          0.06065837530739032,
          0.060256096551395896,
          0.059854028781123045,
          0.059452397165196236,
          0.05905142316186737,
          0.05865132434581144,
          0.05825231424150707,
          0.05785460216334185,
          0.05745839306257332,
          0.05706388738126532,
          0.05667128091330794,
          0.05628076467261987,
          0.05589252476862082,
          0.05550674228905164,
          0.055123593190208216,
          0.05474324819464608,
          0.054365872696401765,
          0.053991626673766294,
          0.05362066460963615,
          0.05325313541945716,
          0.052889182386766515,
          0.0525289431063266,
          0.052172549434837345,
          0.05182012744920024,
          0.051471797412299826,
          0.05112767374625797,
          0.05078786501310494,
          0.05045247390280435,
          0.050121597228557434,
          0.04979532592930203,
          0.04947374507931513,
          0.04915693390481491,
          0.04884496580745151,
          0.04853790839456567,
          0.04823582351608494,
          0.047938767307919586,
          0.04764679024171034,
          0.04735993718077196,
          0.0470782474420684,
          0.04680175486404748,
          0.046530487880153446,
          0.04626446959783032,
          0.04600371788281881,
          0.04574824544854456,
          0.04549805995038719,
          0.045253164084612475,
          0.045013555691745165,
          0.0447792278641519,
          0.04455016905759937,
          0.04432636320654647,
          0.04410778984292489,
          0.04389442421815723,
          0.04368623742815831,
          0.04348319654106063,
          0.043285264727402455,
          0.0430924013925139,
          0.04290456231083341,
          0.04272169976188642,
          0.042543762667656,
          0.042370696731073465,
          0.042202444575359814,
          0.042038945883945085,
          0.041880137540697436,
          0.04172595377019322,
          0.041576326277761526,
          0.04143118438904062,
          0.04129045518878601,
          0.04115406365867406,
          0.04102193281385014,
          0.04089398383797497,
          0.040770136216529154,
          0.040650307868141555,
          0.04053441527371558,
          0.040422373603133346,
          0.040314096839327275,
          0.040209497899517,
          0.04010848875341836,
          0.04001098053824158,
          0.03991688367030632,
          0.039826107953111284,
          0.03973856268170778,
          0.03965415674323878,
          0.03957279871351633,
          0.0394943969495232,
          0.03941885967773707,
          0.039346095078189106,
          0.03927601136418164,
          0.03920851685760351,
          0.03914352005979536,
          0.03908092971793116,
          0.039020654886895725,
          0.03896260498665286,
          0.03890668985511184,
          0.03885281979651497,
          0.038800905625381854,
          0.0387508587060605,
          0.03870259098794881,
          0.03865601503646334,
          0.03861104405984537,
          0.038567591931906654,
          0.03852557321083118,
          0.038484903154159165,
          0.03844549773009257,
          0.03840727362527262,
          0.03837014824918913,
          0.03833403973539307,
          0.03829886693969173,
          0.038264549435515716,
          0.03823100750665473,
          0.03819816213756619,
          0.03816593500146787,
          0.03813424844643166,
          0.038103025479700056,
          0.03807218975045226,
          0.03804166553124964,
          0.038011377698392745,
          0.037981251711425267,
          0.03795121359201927,
          0.03792118990247793,
          0.03789110772409047,
          0.03786089463557231,
          0.03783047869182122,
          0.037799788403216926,
          0.03776875271568755,
          0.037737300991760744,
          0.037705362992812325,
          0.03767286886271828,
          0.03763974911310825,
          0.037605934610411444,
          0.03757135656487586,
          0.037535946521733574,
          0.0374996363546733,
          0.03746235826177184,
          0.037424044764023626,
          0.03738462870659683,
          0.037344043262930775,
          0.037302221941777784,
          0.037259098597278564,
          0.03721460744214701,
          0.03716868306402609,
          0.03712126044506281,
          0.0370722749847355,
          0.03702166252595206,
          0.03696935938442384,
          0.03691530238130445,
          0.03685942887906849,
          0.03680167682059082,
          0.036741984771372284,
          0.0366802919648433,
          0.036616538350663294,
          0.03655066464591992,
          0.03648261238911778,
          0.03641232399683504,
          0.03633974282291156,
          0.03626481322002171,
          0.036187480603472516,
          0.03610769151705657,
          0.03602539370077919,
          0.03594053616026896,
          0.03585306923767162,
          0.03576294468381887,
          0.03567011573145598,
          0.03557453716930456,
          0.035476165416731396,
          0.035374958598787795,
          0.03527087662138042,
          0.03516388124632991,
          0.03505393616607102,
          0.034941007077746014,
          0.034825061756441816,
          0.034706070127320986,
          0.034584004336397384,
          0.03445883881970845,
          0.034330550370638806,
          0.034199118205152874,
          0.03406452402469751,
          0.03392675207654204,
          0.03378578921132689,
          0.03364162493759976,
          0.033494251473124834,
          0.0333436637927587,
          0.033189859672695075,
          0.03303283973088999,
          0.03287260746348859,
          0.03270916927708589,
          0.03254253451666468,
          0.0323727154890645,
          0.03219972748185015,
          0.03202358877745774,
          0.03184432066251155,
          0.03166194743221771,
          0.03147649638975351,
          0.031287997840586765,
          0.0310964850816719,
          0.030901994385485,
          0.030704564978874978,
          0.030504239016719913,
          0.03030106155039608,
          0.030095080491077852,
          0.02988634656790385,
          0.029674913281057435,
          0.029460836849824982,
          0.0292441761557081,
          0.02902499268068045,
          0.02880335044069364,
          0.028579315914548077,
          0.028352957968259564,
          0.028124347775062692,
          0.02789355873120508,
          0.027660666367697952,
          0.027425748258198046,
          0.02718888392320797,
          0.026950154730790314,
          0.02670964379400004,
          0.026467435865249533,
          0.02622361722782711,
          0.025978275584795804,
          0.025731499945510203,
          0.025483380509988187,
          0.02523400855138574,
          0.02498347629682357,
          0.024731876806817658,
          0.024479303853572616,
          0.024225851798392702,
          0.023971615468472138,
          0.02371669003332444,
          0.02346117088110956,
          0.02320515349511953,
          0.022948733330678484,
          0.022692005692712996,
          0.022435065614245107,
          0.02217800773605555,
          0.02192092618776253,
          0.021663914470554158,
          0.021407065341808893,
          0.02115047070183089,
          0.02089422148292167,
          0.020638407541000547,
          0.020383117549980043,
          0.020128438899093694,
          0.019874457593364044,
          0.019621258157391255,
          0.019368923542631093,
          0.019117535038322697,
          0.018867172186216016,
          0.018617912699237113,
          0.018369832384220176,
          0.018123005068823642,
          0.01787750253273548,
          0.01763339444326291,
          0.017390748295390033,
          0.01714962935637283,
          0.016910100614934417,
          0.016672222735105848,
          0.016436054014750276,
          0.016201650348796014,
          0.015969065197189748,
          0.015738349557574544,
          0.015509551942681233,
          0.015282718362413746,
          0.015057892310597435,
          0.014835114756347505,
          0.01461442414000655,
          0.014395856373587741,
          0.014179444845651876,
          0.013965220430537264,
          0.01375321150185072,
          0.013543443950120701,
          0.0133359412045052,
          0.013130724258437806,
          0.01292781169908924,
          0.012727219740514252,
          0.01252896226034621,
          0.012333050839897339,
          0.01213949480751499,
          0.011948301285040368,
          0.011759475237211492,
          0.011573019523846774,
          0.011388934954643272,
          0.011207220346419527,
          0.011027872582630906,
          0.01085088667498205,
          0.010676255826960883,
          0.010503971499115755,
          0.010334023475897574,
          0.010166399933888862,
          0.01000108751123966,
          0.009838071378134677,
          0.009677335308113148,
          0.009518861750066644,
          0.009362631900743022,
          0.009208625777583487,
          0.009056822291726737,
          0.008907199321014676,
          0.008759733782837864,
          0.00861440170666463,
          0.008471178306099673,
          0.00833003805032379,
          0.008190954734771862,
          0.008053901550908982,
          0.007918851154972711,
          0.007785775735553553,
          0.0076546470798913155,
          0.007525436638772384,
          0.007398115589917651
         ],
         "yaxis": "y",
         "type": "scatter"
        },
        {
         "legendgroup": "Average",
         "marker": {
          "color": "rgb(31, 119, 180)",
          "symbol": "line-ns-open"
         },
         "mode": "markers",
         "name": "Average",
         "showlegend": false,
         "x": [
          39.853846153846156,
          28.930232558139537,
          24.904761904761905,
          30.142857142857142,
          28.051612903225806,
          27.71153846153846,
          39.65873015873016,
          35.65853658536585,
          40.042682926829265,
          28.392857142857142,
          35.99212598425197,
          31.00735294117647,
          24.75,
          28.471910112359552,
          28.43010752688172,
          37.71578947368421,
          28.55294117647059,
          28.40495867768595,
          26.320652173913043,
          44.65714285714286,
          35.53333333333333,
          25.93069306930693,
          22.811965811965813,
          29.015037593984964,
          39.12686567164179,
          28.344086021505376,
          22.603174603174605,
          30.980392156862745,
          28.233766233766232,
          27.39814814814815,
          26.93975903614458,
          41.75438596491228,
          29.730941704035875,
          35.45161290322581,
          27.522222222222222,
          35.07253886010363,
          31.805309734513273,
          39.507936507936506,
          32.37426900584796,
          34.65277777777778,
          33.82608695652174,
          30.793650793650794,
          31.948979591836736,
          30.6875,
          37.83529411764706,
          38.71497584541063,
          27.555555555555557,
          24.24793388429752,
          29.29090909090909,
          24.81081081081081
         ],
         "xaxis": "x",
         "y": [
          "Average",
          "Average",
          "Average",
          "Average",
          "Average",
          "Average",
          "Average",
          "Average",
          "Average",
          "Average",
          "Average",
          "Average",
          "Average",
          "Average",
          "Average",
          "Average",
          "Average",
          "Average",
          "Average",
          "Average",
          "Average",
          "Average",
          "Average",
          "Average",
          "Average",
          "Average",
          "Average",
          "Average",
          "Average",
          "Average",
          "Average",
          "Average",
          "Average",
          "Average",
          "Average",
          "Average",
          "Average",
          "Average",
          "Average",
          "Average",
          "Average",
          "Average",
          "Average",
          "Average",
          "Average",
          "Average",
          "Average",
          "Average",
          "Average",
          "Average"
         ],
         "yaxis": "y2",
         "type": "scatter"
        }
       ],
       "layout": {
        "barmode": "overlay",
        "hovermode": "closest",
        "legend": {
         "traceorder": "reversed"
        },
        "xaxis": {
         "anchor": "y2",
         "domain": [
          0.0,
          1.0
         ],
         "zeroline": false
        },
        "yaxis": {
         "anchor": "free",
         "domain": [
          0.35,
          1
         ],
         "position": 0.0
        },
        "yaxis2": {
         "anchor": "x",
         "domain": [
          0,
          0.25
         ],
         "dtick": 1,
         "showticklabels": false
        },
        "template": {
         "data": {
          "histogram2dcontour": [
           {
            "type": "histogram2dcontour",
            "colorbar": {
             "outlinewidth": 0,
             "ticks": ""
            },
            "colorscale": [
             [
              0.0,
              "#0d0887"
             ],
             [
              0.1111111111111111,
              "#46039f"
             ],
             [
              0.2222222222222222,
              "#7201a8"
             ],
             [
              0.3333333333333333,
              "#9c179e"
             ],
             [
              0.4444444444444444,
              "#bd3786"
             ],
             [
              0.5555555555555556,
              "#d8576b"
             ],
             [
              0.6666666666666666,
              "#ed7953"
             ],
             [
              0.7777777777777778,
              "#fb9f3a"
             ],
             [
              0.8888888888888888,
              "#fdca26"
             ],
             [
              1.0,
              "#f0f921"
             ]
            ]
           }
          ],
          "choropleth": [
           {
            "type": "choropleth",
            "colorbar": {
             "outlinewidth": 0,
             "ticks": ""
            }
           }
          ],
          "histogram2d": [
           {
            "type": "histogram2d",
            "colorbar": {
             "outlinewidth": 0,
             "ticks": ""
            },
            "colorscale": [
             [
              0.0,
              "#0d0887"
             ],
             [
              0.1111111111111111,
              "#46039f"
             ],
             [
              0.2222222222222222,
              "#7201a8"
             ],
             [
              0.3333333333333333,
              "#9c179e"
             ],
             [
              0.4444444444444444,
              "#bd3786"
             ],
             [
              0.5555555555555556,
              "#d8576b"
             ],
             [
              0.6666666666666666,
              "#ed7953"
             ],
             [
              0.7777777777777778,
              "#fb9f3a"
             ],
             [
              0.8888888888888888,
              "#fdca26"
             ],
             [
              1.0,
              "#f0f921"
             ]
            ]
           }
          ],
          "heatmap": [
           {
            "type": "heatmap",
            "colorbar": {
             "outlinewidth": 0,
             "ticks": ""
            },
            "colorscale": [
             [
              0.0,
              "#0d0887"
             ],
             [
              0.1111111111111111,
              "#46039f"
             ],
             [
              0.2222222222222222,
              "#7201a8"
             ],
             [
              0.3333333333333333,
              "#9c179e"
             ],
             [
              0.4444444444444444,
              "#bd3786"
             ],
             [
              0.5555555555555556,
              "#d8576b"
             ],
             [
              0.6666666666666666,
              "#ed7953"
             ],
             [
              0.7777777777777778,
              "#fb9f3a"
             ],
             [
              0.8888888888888888,
              "#fdca26"
             ],
             [
              1.0,
              "#f0f921"
             ]
            ]
           }
          ],
          "heatmapgl": [
           {
            "type": "heatmapgl",
            "colorbar": {
             "outlinewidth": 0,
             "ticks": ""
            },
            "colorscale": [
             [
              0.0,
              "#0d0887"
             ],
             [
              0.1111111111111111,
              "#46039f"
             ],
             [
              0.2222222222222222,
              "#7201a8"
             ],
             [
              0.3333333333333333,
              "#9c179e"
             ],
             [
              0.4444444444444444,
              "#bd3786"
             ],
             [
              0.5555555555555556,
              "#d8576b"
             ],
             [
              0.6666666666666666,
              "#ed7953"
             ],
             [
              0.7777777777777778,
              "#fb9f3a"
             ],
             [
              0.8888888888888888,
              "#fdca26"
             ],
             [
              1.0,
              "#f0f921"
             ]
            ]
           }
          ],
          "contourcarpet": [
           {
            "type": "contourcarpet",
            "colorbar": {
             "outlinewidth": 0,
             "ticks": ""
            }
           }
          ],
          "contour": [
           {
            "type": "contour",
            "colorbar": {
             "outlinewidth": 0,
             "ticks": ""
            },
            "colorscale": [
             [
              0.0,
              "#0d0887"
             ],
             [
              0.1111111111111111,
              "#46039f"
             ],
             [
              0.2222222222222222,
              "#7201a8"
             ],
             [
              0.3333333333333333,
              "#9c179e"
             ],
             [
              0.4444444444444444,
              "#bd3786"
             ],
             [
              0.5555555555555556,
              "#d8576b"
             ],
             [
              0.6666666666666666,
              "#ed7953"
             ],
             [
              0.7777777777777778,
              "#fb9f3a"
             ],
             [
              0.8888888888888888,
              "#fdca26"
             ],
             [
              1.0,
              "#f0f921"
             ]
            ]
           }
          ],
          "surface": [
           {
            "type": "surface",
            "colorbar": {
             "outlinewidth": 0,
             "ticks": ""
            },
            "colorscale": [
             [
              0.0,
              "#0d0887"
             ],
             [
              0.1111111111111111,
              "#46039f"
             ],
             [
              0.2222222222222222,
              "#7201a8"
             ],
             [
              0.3333333333333333,
              "#9c179e"
             ],
             [
              0.4444444444444444,
              "#bd3786"
             ],
             [
              0.5555555555555556,
              "#d8576b"
             ],
             [
              0.6666666666666666,
              "#ed7953"
             ],
             [
              0.7777777777777778,
              "#fb9f3a"
             ],
             [
              0.8888888888888888,
              "#fdca26"
             ],
             [
              1.0,
              "#f0f921"
             ]
            ]
           }
          ],
          "mesh3d": [
           {
            "type": "mesh3d",
            "colorbar": {
             "outlinewidth": 0,
             "ticks": ""
            }
           }
          ],
          "scatter": [
           {
            "fillpattern": {
             "fillmode": "overlay",
             "size": 10,
             "solidity": 0.2
            },
            "type": "scatter"
           }
          ],
          "parcoords": [
           {
            "type": "parcoords",
            "line": {
             "colorbar": {
              "outlinewidth": 0,
              "ticks": ""
             }
            }
           }
          ],
          "scatterpolargl": [
           {
            "type": "scatterpolargl",
            "marker": {
             "colorbar": {
              "outlinewidth": 0,
              "ticks": ""
             }
            }
           }
          ],
          "bar": [
           {
            "error_x": {
             "color": "#2a3f5f"
            },
            "error_y": {
             "color": "#2a3f5f"
            },
            "marker": {
             "line": {
              "color": "#E5ECF6",
              "width": 0.5
             },
             "pattern": {
              "fillmode": "overlay",
              "size": 10,
              "solidity": 0.2
             }
            },
            "type": "bar"
           }
          ],
          "scattergeo": [
           {
            "type": "scattergeo",
            "marker": {
             "colorbar": {
              "outlinewidth": 0,
              "ticks": ""
             }
            }
           }
          ],
          "scatterpolar": [
           {
            "type": "scatterpolar",
            "marker": {
             "colorbar": {
              "outlinewidth": 0,
              "ticks": ""
             }
            }
           }
          ],
          "histogram": [
           {
            "marker": {
             "pattern": {
              "fillmode": "overlay",
              "size": 10,
              "solidity": 0.2
             }
            },
            "type": "histogram"
           }
          ],
          "scattergl": [
           {
            "type": "scattergl",
            "marker": {
             "colorbar": {
              "outlinewidth": 0,
              "ticks": ""
             }
            }
           }
          ],
          "scatter3d": [
           {
            "type": "scatter3d",
            "line": {
             "colorbar": {
              "outlinewidth": 0,
              "ticks": ""
             }
            },
            "marker": {
             "colorbar": {
              "outlinewidth": 0,
              "ticks": ""
             }
            }
           }
          ],
          "scattermapbox": [
           {
            "type": "scattermapbox",
            "marker": {
             "colorbar": {
              "outlinewidth": 0,
              "ticks": ""
             }
            }
           }
          ],
          "scatterternary": [
           {
            "type": "scatterternary",
            "marker": {
             "colorbar": {
              "outlinewidth": 0,
              "ticks": ""
             }
            }
           }
          ],
          "scattercarpet": [
           {
            "type": "scattercarpet",
            "marker": {
             "colorbar": {
              "outlinewidth": 0,
              "ticks": ""
             }
            }
           }
          ],
          "carpet": [
           {
            "aaxis": {
             "endlinecolor": "#2a3f5f",
             "gridcolor": "white",
             "linecolor": "white",
             "minorgridcolor": "white",
             "startlinecolor": "#2a3f5f"
            },
            "baxis": {
             "endlinecolor": "#2a3f5f",
             "gridcolor": "white",
             "linecolor": "white",
             "minorgridcolor": "white",
             "startlinecolor": "#2a3f5f"
            },
            "type": "carpet"
           }
          ],
          "table": [
           {
            "cells": {
             "fill": {
              "color": "#EBF0F8"
             },
             "line": {
              "color": "white"
             }
            },
            "header": {
             "fill": {
              "color": "#C8D4E3"
             },
             "line": {
              "color": "white"
             }
            },
            "type": "table"
           }
          ],
          "barpolar": [
           {
            "marker": {
             "line": {
              "color": "#E5ECF6",
              "width": 0.5
             },
             "pattern": {
              "fillmode": "overlay",
              "size": 10,
              "solidity": 0.2
             }
            },
            "type": "barpolar"
           }
          ],
          "pie": [
           {
            "automargin": true,
            "type": "pie"
           }
          ]
         },
         "layout": {
          "autotypenumbers": "strict",
          "colorway": [
           "#636efa",
           "#EF553B",
           "#00cc96",
           "#ab63fa",
           "#FFA15A",
           "#19d3f3",
           "#FF6692",
           "#B6E880",
           "#FF97FF",
           "#FECB52"
          ],
          "font": {
           "color": "#2a3f5f"
          },
          "hovermode": "closest",
          "hoverlabel": {
           "align": "left"
          },
          "paper_bgcolor": "white",
          "plot_bgcolor": "#E5ECF6",
          "polar": {
           "bgcolor": "#E5ECF6",
           "angularaxis": {
            "gridcolor": "white",
            "linecolor": "white",
            "ticks": ""
           },
           "radialaxis": {
            "gridcolor": "white",
            "linecolor": "white",
            "ticks": ""
           }
          },
          "ternary": {
           "bgcolor": "#E5ECF6",
           "aaxis": {
            "gridcolor": "white",
            "linecolor": "white",
            "ticks": ""
           },
           "baxis": {
            "gridcolor": "white",
            "linecolor": "white",
            "ticks": ""
           },
           "caxis": {
            "gridcolor": "white",
            "linecolor": "white",
            "ticks": ""
           }
          },
          "coloraxis": {
           "colorbar": {
            "outlinewidth": 0,
            "ticks": ""
           }
          },
          "colorscale": {
           "sequential": [
            [
             0.0,
             "#0d0887"
            ],
            [
             0.1111111111111111,
             "#46039f"
            ],
            [
             0.2222222222222222,
             "#7201a8"
            ],
            [
             0.3333333333333333,
             "#9c179e"
            ],
            [
             0.4444444444444444,
             "#bd3786"
            ],
            [
             0.5555555555555556,
             "#d8576b"
            ],
            [
             0.6666666666666666,
             "#ed7953"
            ],
            [
             0.7777777777777778,
             "#fb9f3a"
            ],
            [
             0.8888888888888888,
             "#fdca26"
            ],
            [
             1.0,
             "#f0f921"
            ]
           ],
           "sequentialminus": [
            [
             0.0,
             "#0d0887"
            ],
            [
             0.1111111111111111,
             "#46039f"
            ],
            [
             0.2222222222222222,
             "#7201a8"
            ],
            [
             0.3333333333333333,
             "#9c179e"
            ],
            [
             0.4444444444444444,
             "#bd3786"
            ],
            [
             0.5555555555555556,
             "#d8576b"
            ],
            [
             0.6666666666666666,
             "#ed7953"
            ],
            [
             0.7777777777777778,
             "#fb9f3a"
            ],
            [
             0.8888888888888888,
             "#fdca26"
            ],
            [
             1.0,
             "#f0f921"
            ]
           ],
           "diverging": [
            [
             0,
             "#8e0152"
            ],
            [
             0.1,
             "#c51b7d"
            ],
            [
             0.2,
             "#de77ae"
            ],
            [
             0.3,
             "#f1b6da"
            ],
            [
             0.4,
             "#fde0ef"
            ],
            [
             0.5,
             "#f7f7f7"
            ],
            [
             0.6,
             "#e6f5d0"
            ],
            [
             0.7,
             "#b8e186"
            ],
            [
             0.8,
             "#7fbc41"
            ],
            [
             0.9,
             "#4d9221"
            ],
            [
             1,
             "#276419"
            ]
           ]
          },
          "xaxis": {
           "gridcolor": "white",
           "linecolor": "white",
           "ticks": "",
           "title": {
            "standoff": 15
           },
           "zerolinecolor": "white",
           "automargin": true,
           "zerolinewidth": 2
          },
          "yaxis": {
           "gridcolor": "white",
           "linecolor": "white",
           "ticks": "",
           "title": {
            "standoff": 15
           },
           "zerolinecolor": "white",
           "automargin": true,
           "zerolinewidth": 2
          },
          "scene": {
           "xaxis": {
            "backgroundcolor": "#E5ECF6",
            "gridcolor": "white",
            "linecolor": "white",
            "showbackground": true,
            "ticks": "",
            "zerolinecolor": "white",
            "gridwidth": 2
           },
           "yaxis": {
            "backgroundcolor": "#E5ECF6",
            "gridcolor": "white",
            "linecolor": "white",
            "showbackground": true,
            "ticks": "",
            "zerolinecolor": "white",
            "gridwidth": 2
           },
           "zaxis": {
            "backgroundcolor": "#E5ECF6",
            "gridcolor": "white",
            "linecolor": "white",
            "showbackground": true,
            "ticks": "",
            "zerolinecolor": "white",
            "gridwidth": 2
           }
          },
          "shapedefaults": {
           "line": {
            "color": "#2a3f5f"
           }
          },
          "annotationdefaults": {
           "arrowcolor": "#2a3f5f",
           "arrowhead": 0,
           "arrowwidth": 1
          },
          "geo": {
           "bgcolor": "white",
           "landcolor": "#E5ECF6",
           "subunitcolor": "white",
           "showland": true,
           "showlakes": true,
           "lakecolor": "white"
          },
          "title": {
           "x": 0.05
          },
          "mapbox": {
           "style": "light"
          }
         }
        }
       },
       "config": {
        "plotlyServerURL": "https://plot.ly"
       }
      },
      "text/html": [
       "<div>                            <div id=\"fdd8f0a1-5014-47b3-9da6-47a07ed6c904\" class=\"plotly-graph-div\" style=\"height:525px; width:100%;\"></div>            <script type=\"text/javascript\">                require([\"plotly\"], function(Plotly) {                    window.PLOTLYENV=window.PLOTLYENV || {};                                    if (document.getElementById(\"fdd8f0a1-5014-47b3-9da6-47a07ed6c904\")) {                    Plotly.newPlot(                        \"fdd8f0a1-5014-47b3-9da6-47a07ed6c904\",                        [{\"autobinx\":false,\"histnorm\":\"probability density\",\"legendgroup\":\"Average\",\"marker\":{\"color\":\"rgb(31, 119, 180)\"},\"name\":\"Average\",\"opacity\":0.7,\"x\":[39.853846153846156,28.930232558139537,24.904761904761905,30.142857142857142,28.051612903225806,27.71153846153846,39.65873015873016,35.65853658536585,40.042682926829265,28.392857142857142,35.99212598425197,31.00735294117647,24.75,28.471910112359552,28.43010752688172,37.71578947368421,28.55294117647059,28.40495867768595,26.320652173913043,44.65714285714286,35.53333333333333,25.93069306930693,22.811965811965813,29.015037593984964,39.12686567164179,28.344086021505376,22.603174603174605,30.980392156862745,28.233766233766232,27.39814814814815,26.93975903614458,41.75438596491228,29.730941704035875,35.45161290322581,27.522222222222222,35.07253886010363,31.805309734513273,39.507936507936506,32.37426900584796,34.65277777777778,33.82608695652174,30.793650793650794,31.948979591836736,30.6875,37.83529411764706,38.71497584541063,27.555555555555557,24.24793388429752,29.29090909090909,24.81081081081081],\"xaxis\":\"x\",\"xbins\":{\"end\":44.65714285714286,\"size\":1.0,\"start\":22.603174603174605},\"yaxis\":\"y\",\"type\":\"histogram\"},{\"legendgroup\":\"Average\",\"marker\":{\"color\":\"rgb(31, 119, 180)\"},\"mode\":\"lines\",\"name\":\"Average\",\"showlegend\":false,\"x\":[22.603174603174605,22.647282539682543,22.691390476190477,22.735498412698416,22.77960634920635,22.82371428571429,22.867822222222223,22.91193015873016,22.956038095238096,23.000146031746034,23.04425396825397,23.088361904761907,23.13246984126984,23.17657777777778,23.220685714285715,23.264793650793653,23.308901587301587,23.353009523809526,23.39711746031746,23.4412253968254,23.485333333333333,23.52944126984127,23.573549206349206,23.617657142857144,23.661765079365082,23.705873015873017,23.749980952380955,23.79408888888889,23.838196825396828,23.882304761904763,23.9264126984127,23.970520634920636,24.014628571428574,24.05873650793651,24.102844444444447,24.14695238095238,24.19106031746032,24.235168253968254,24.279276190476192,24.323384126984127,24.367492063492065,24.4116,24.455707936507938,24.499815873015873,24.54392380952381,24.588031746031746,24.632139682539684,24.676247619047622,24.720355555555557,24.76446349206349,24.80857142857143,24.852679365079368,24.896787301587302,24.94089523809524,24.985003174603175,25.029111111111114,25.073219047619048,25.117326984126986,25.16143492063492,25.20554285714286,25.249650793650794,25.293758730158732,25.337866666666667,25.381974603174605,25.42608253968254,25.470190476190478,25.514298412698416,25.55840634920635,25.602514285714285,25.646622222222224,25.69073015873016,25.734838095238096,25.778946031746035,25.82305396825397,25.867161904761907,25.911269841269842,25.95537777777778,25.999485714285715,26.043593650793653,26.087701587301588,26.131809523809526,26.17591746031746,26.2200253968254,26.264133333333334,26.30824126984127,26.352349206349206,26.396457142857145,26.44056507936508,26.484673015873017,26.528780952380952,26.57288888888889,26.616996825396825,26.661104761904763,26.7052126984127,26.749320634920636,26.79342857142857,26.83753650793651,26.881644444444447,26.92575238095238,26.96986031746032,27.013968253968255,27.058076190476193,27.102184126984127,27.146292063492066,27.190400000000004,27.23450793650794,27.278615873015873,27.32272380952381,27.366831746031746,27.410939682539684,27.45504761904762,27.499155555555557,27.543263492063492,27.58737142857143,27.631479365079365,27.675587301587303,27.71969523809524,27.763803174603176,27.807911111111114,27.85201904761905,27.896126984126987,27.94023492063492,27.98434285714286,28.028450793650794,28.072558730158732,28.116666666666667,28.160774603174605,28.20488253968254,28.248990476190478,28.293098412698413,28.33720634920635,28.381314285714286,28.425422222222224,28.46953015873016,28.513638095238097,28.557746031746035,28.60185396825397,28.645961904761908,28.690069841269842,28.73417777777778,28.778285714285715,28.82239365079365,28.866501587301588,28.910609523809526,28.95471746031746,28.998825396825396,29.042933333333334,29.087041269841272,29.131149206349207,29.175257142857145,29.21936507936508,29.263473015873018,29.307580952380953,29.35168888888889,29.39579682539683,29.439904761904764,29.4840126984127,29.528120634920636,29.572228571428575,29.61633650793651,29.660444444444444,29.704552380952382,29.74866031746032,29.792768253968255,29.83687619047619,29.880984126984128,29.925092063492066,29.9692,30.01330793650794,30.057415873015874,30.101523809523812,30.145631746031746,30.189739682539685,30.233847619047623,30.277955555555558,30.322063492063492,30.36617142857143,30.41027936507937,30.454387301587303,30.498495238095238,30.542603174603176,30.586711111111114,30.63081904761905,30.674926984126984,30.719034920634922,30.76314285714286,30.807250793650795,30.85135873015873,30.895466666666668,30.939574603174606,30.98368253968254,31.02779047619048,31.071898412698417,31.11600634920635,31.160114285714286,31.20422222222222,31.24833015873016,31.292438095238097,31.336546031746032,31.38065396825397,31.42476190476191,31.468869841269843,31.512977777777778,31.557085714285716,31.601193650793654,31.64530158730159,31.689409523809523,31.73351746031746,31.7776253968254,31.821733333333334,31.86584126984127,31.909949206349207,31.954057142857145,31.99816507936508,32.04227301587302,32.086380952380956,32.13048888888889,32.174596825396826,32.21870476190476,32.2628126984127,32.30692063492064,32.35102857142857,32.39513650793651,32.43924444444445,32.48335238095238,32.52746031746032,32.57156825396825,32.615676190476194,32.65978412698413,32.70389206349206,32.748000000000005,32.79210793650794,32.836215873015874,32.88032380952381,32.92443174603174,32.968539682539685,33.01264761904762,33.056755555555554,33.100863492063496,33.14497142857143,33.189079365079365,33.23318730158731,33.27729523809524,33.32140317460318,33.36551111111111,33.409619047619046,33.45372698412699,33.49783492063492,33.54194285714286,33.5860507936508,33.63015873015873,33.67426666666667,33.71837460317461,33.76248253968254,33.80659047619048,33.850698412698414,33.89480634920635,33.93891428571429,33.983022222222225,34.02713015873016,34.071238095238094,34.11534603174603,34.15945396825397,34.203561904761905,34.24766984126984,34.29177777777778,34.335885714285716,34.37999365079365,34.424101587301585,34.46820952380953,34.51231746031746,34.5564253968254,34.60053333333333,34.64464126984127,34.68874920634921,34.73285714285714,34.776965079365084,34.82107301587302,34.86518095238095,34.90928888888889,34.95339682539683,34.997504761904764,35.0416126984127,35.085720634920634,35.129828571428575,35.17393650793651,35.218044444444445,35.26215238095239,35.30626031746032,35.350368253968256,35.39447619047619,35.438584126984125,35.48269206349207,35.5268,35.570907936507936,35.61501587301588,35.65912380952381,35.70323174603175,35.74733968253968,35.79144761904762,35.83555555555556,35.87966349206349,35.92377142857143,35.96787936507937,36.011987301587304,36.05609523809524,36.10020317460317,36.14431111111111,36.18841904761905,36.232526984126984,36.27663492063492,36.32074285714286,36.364850793650795,36.40895873015873,36.45306666666667,36.49717460317461,36.54128253968254,36.585390476190476,36.62949841269841,36.67360634920635,36.71771428571429,36.76182222222222,36.80593015873016,36.8500380952381,36.89414603174603,36.938253968253974,36.9823619047619,37.026469841269844,37.07057777777778,37.11468571428571,37.158793650793655,37.20290158730159,37.247009523809524,37.29111746031746,37.33522539682539,37.379333333333335,37.42344126984127,37.467549206349204,37.511657142857146,37.55576507936508,37.599873015873015,37.64398095238096,37.68808888888889,37.73219682539683,37.77630476190476,37.820412698412696,37.86452063492064,37.90862857142857,37.95273650793651,37.99684444444445,38.04095238095238,38.08506031746032,38.12916825396826,38.173276190476194,38.21738412698413,38.261492063492064,38.3056,38.34970793650794,38.393815873015875,38.43792380952381,38.48203174603175,38.526139682539686,38.57024761904762,38.614355555555555,38.65846349206349,38.70257142857143,38.746679365079366,38.7907873015873,38.83489523809524,38.87900317460318,38.92311111111111,38.967219047619054,39.01132698412699,39.05543492063492,39.09954285714286,39.14365079365079,39.187758730158734,39.23186666666667,39.2759746031746,39.320082539682545,39.36419047619047,39.408298412698414,39.452406349206356,39.496514285714284,39.540622222222225,39.58473015873016,39.628838095238095,39.67294603174604,39.717053968253964,39.761161904761906,39.80526984126984,39.849377777777775,39.89348571428572,39.93759365079366,39.981701587301586,40.02580952380953,40.06991746031746,40.1140253968254,40.15813333333334,40.20224126984127,40.24634920634921,40.29045714285714,40.33456507936508,40.37867301587302,40.42278095238095,40.46688888888889,40.51099682539683,40.555104761904765,40.5992126984127,40.64332063492064,40.68742857142857,40.73153650793651,40.775644444444445,40.81975238095238,40.86386031746032,40.90796825396825,40.95207619047619,40.99618412698413,41.04029206349206,41.0844,41.12850793650794,41.17261587301587,41.21672380952381,41.26083174603175,41.30493968253968,41.34904761904762,41.39315555555555,41.437263492063494,41.481371428571435,41.52547936507936,41.569587301587305,41.61369523809524,41.657803174603174,41.701911111111116,41.74601904761904,41.790126984126985,41.83423492063492,41.878342857142854,41.922450793650796,41.96655873015873,42.010666666666665,42.05477460317461,42.09888253968254,42.14299047619048,42.18709841269842,42.231206349206346,42.27531428571429,42.31942222222222,42.36353015873016,42.4076380952381,42.45174603174603,42.49585396825397,42.53996190476191,42.584069841269844,42.62817777777778,42.672285714285714,42.71639365079365,42.76050158730159,42.804609523809525,42.84871746031746,42.8928253968254,42.936933333333336,42.98104126984127,43.02514920634921,43.06925714285714,43.11336507936508,43.157473015873016,43.20158095238095,43.24568888888889,43.28979682539682,43.33390476190476,43.378012698412704,43.42212063492064,43.46622857142857,43.510336507936515,43.55444444444444,43.598552380952384,43.64266031746032,43.68676825396825,43.730876190476195,43.77498412698412,43.819092063492064,43.863200000000006,43.907307936507934,43.951415873015875,43.99552380952381,44.039631746031745,44.08373968253969,44.12784761904762,44.171955555555556,44.2160634920635,44.260171428571425,44.30427936507937,44.34838730158731,44.392495238095236,44.43660317460318,44.48071111111111,44.52481904761905,44.56892698412699,44.61303492063492],\"xaxis\":\"x\",\"y\":[0.022451299936918988,0.022829590758750268,0.023211237649958458,0.023596229746589367,0.023984555827629046,0.02437620428455337,0.024771163087743006,0.025169419749738773,0.025570961285320517,0.025975774168403104,0.02638384428575118,0.02679515688752646,0.02720969653468855,0.02762744704328452,0.028048391425668937,0.028472511828710516,0.02889978946904965,0.02933020456548439,0.029763736268571487,0.030200362587542946,0.0306400603146464,0.031082804947032847,0.03152857060632204,0.031977329955991736,0.0324290541167435,0.032883712580012256,0.03334127311979481,0.03380170170298485,0.034264962398411335,0.034731017284786767,0.03519982635778257,0.03567134743645665,0.036145536069268,0.03662234543992106,0.03710172627329099,0.03758362674168736,0.038067992371721766,0.03855476595205,0.039043887442266376,0.039535293883230925,0.04002891930911652,0.0405246946614648,0.04102254770554386,0.041522402949301804,0.04202418156521301,0.0425278013153124,0.043033176479714434,0.043540217788911734,0.04404883236014635,0.04455892363814393,0.04507039134049676,0.04558313140797749,0.04609703596006079,0.04661199325592182,0.047127887661174386,0.04764459962060403,0.048162005637140445,0.04867997825730637,0.04919838606336654,0.04971709367239123,0.050235961742434825,0.050754846986017774,0.05127360219108576,0.05179207624960619,0.052310114193945094,0.05282755724115365,0.053344242845274996,0.05386000475776648,0.05437467309611317,0.05488807442069123,0.05540003181992073,0.05591036500372791,0.056418890405318556,0.05692542129124242,0.05742976787971117,0.05793173746710854,0.05843113456261559,0.058927761030848326,0.0594214162423893,0.05991189723207,0.06039899886484435,0.06088251400906984,0.06136223371699644,0.06183794741223977,0.06230944308399958,0.06277650748776233,0.06323892635221043,0.06369648459204132,0.06414896652638291,0.06459615610247456,0.06503783712426743,0.06547379348558141,0.06590380940744334,0.06632766967921452,0.06674515990310588,0.06715606674166465,0.06756017816780727,0.06795728371696153,0.0683471747408742,0.06872964466263044,0.06910448923242518,0.06947150678362303,0.06983049848863446,0.07018126861413763,0.07052362477516878,0.07085737818760662,0.07118234391857345,0.07149834113427934,0.07180519334483693,0.07210272864557905,0.07239077995441512,0.0726691852447706,0.07293778777365797,0.07319643630443892,0.07344498532384489,0.07368329525283518,0.07391123265088193,0.07412867041328522,0.07433548796113382,0.07453157142354291,0.07471681381181439,0.07489111518518161,0.0750543828078191,0.07520653129681142,0.07534748276080008,0.07547716692903932,0.07559552127061717,0.07570249110361425,0.07579802969399572,0.07588209834405145,0.07595466647022169,0.07601571167016616,0.07606521977895722,0.07610318491429854,0.0761296095106945,0.07614450434251538,0.0761478885359272,0.0761397895696762,0.07612024326473973,0.07608929376287706,0.07604699349413488,0.07599340313338325,0.07592859154597803,0.07585263572266668,0.07576562070387347,0.07566763949351926,0.07555879296255016,0.0754391897423675,0.07530894610836744,0.07516818585381764,0.07501704015431256,0.07485564742306479,0.07468415315730506,0.07450270977607577,0.07431147644971726,0.07411061892135769,0.07390030932072798,0.073680725970635,0.07345205318643425,0.07321448106885331,0.07296820529052404,0.07271342687658948,0.07245035197975705,0.07217919165017395,0.07190016160050726,0.07161348196661248,0.07131937706417835,0.07101807514173794,0.07070980813043475,0.07039481139093715,0.07007332345788943,0.06974558578229058,0.06941184247218647,0.06907234003206256,0.0687273271013171,0.06837705419219384,0.06802177342754781,0.06766173827881297,0.06729720330453418,0.06692842388982151,0.06655565598707736,0.06617915585834036,0.06579917981958155,0.06541598398728257,0.06502982402761588,0.06464095490853916,0.0642496306551075,0.06385610410829691,0.06346062668762531,0.06306344815784556,0.06266481639997694,0.062264977186930526,0.06186417396397487,0.06146264763427739,0.06106063634974649,0.06065837530739032,0.060256096551395896,0.059854028781123045,0.059452397165196236,0.05905142316186737,0.05865132434581144,0.05825231424150707,0.05785460216334185,0.05745839306257332,0.05706388738126532,0.05667128091330794,0.05628076467261987,0.05589252476862082,0.05550674228905164,0.055123593190208216,0.05474324819464608,0.054365872696401765,0.053991626673766294,0.05362066460963615,0.05325313541945716,0.052889182386766515,0.0525289431063266,0.052172549434837345,0.05182012744920024,0.051471797412299826,0.05112767374625797,0.05078786501310494,0.05045247390280435,0.050121597228557434,0.04979532592930203,0.04947374507931513,0.04915693390481491,0.04884496580745151,0.04853790839456567,0.04823582351608494,0.047938767307919586,0.04764679024171034,0.04735993718077196,0.0470782474420684,0.04680175486404748,0.046530487880153446,0.04626446959783032,0.04600371788281881,0.04574824544854456,0.04549805995038719,0.045253164084612475,0.045013555691745165,0.0447792278641519,0.04455016905759937,0.04432636320654647,0.04410778984292489,0.04389442421815723,0.04368623742815831,0.04348319654106063,0.043285264727402455,0.0430924013925139,0.04290456231083341,0.04272169976188642,0.042543762667656,0.042370696731073465,0.042202444575359814,0.042038945883945085,0.041880137540697436,0.04172595377019322,0.041576326277761526,0.04143118438904062,0.04129045518878601,0.04115406365867406,0.04102193281385014,0.04089398383797497,0.040770136216529154,0.040650307868141555,0.04053441527371558,0.040422373603133346,0.040314096839327275,0.040209497899517,0.04010848875341836,0.04001098053824158,0.03991688367030632,0.039826107953111284,0.03973856268170778,0.03965415674323878,0.03957279871351633,0.0394943969495232,0.03941885967773707,0.039346095078189106,0.03927601136418164,0.03920851685760351,0.03914352005979536,0.03908092971793116,0.039020654886895725,0.03896260498665286,0.03890668985511184,0.03885281979651497,0.038800905625381854,0.0387508587060605,0.03870259098794881,0.03865601503646334,0.03861104405984537,0.038567591931906654,0.03852557321083118,0.038484903154159165,0.03844549773009257,0.03840727362527262,0.03837014824918913,0.03833403973539307,0.03829886693969173,0.038264549435515716,0.03823100750665473,0.03819816213756619,0.03816593500146787,0.03813424844643166,0.038103025479700056,0.03807218975045226,0.03804166553124964,0.038011377698392745,0.037981251711425267,0.03795121359201927,0.03792118990247793,0.03789110772409047,0.03786089463557231,0.03783047869182122,0.037799788403216926,0.03776875271568755,0.037737300991760744,0.037705362992812325,0.03767286886271828,0.03763974911310825,0.037605934610411444,0.03757135656487586,0.037535946521733574,0.0374996363546733,0.03746235826177184,0.037424044764023626,0.03738462870659683,0.037344043262930775,0.037302221941777784,0.037259098597278564,0.03721460744214701,0.03716868306402609,0.03712126044506281,0.0370722749847355,0.03702166252595206,0.03696935938442384,0.03691530238130445,0.03685942887906849,0.03680167682059082,0.036741984771372284,0.0366802919648433,0.036616538350663294,0.03655066464591992,0.03648261238911778,0.03641232399683504,0.03633974282291156,0.03626481322002171,0.036187480603472516,0.03610769151705657,0.03602539370077919,0.03594053616026896,0.03585306923767162,0.03576294468381887,0.03567011573145598,0.03557453716930456,0.035476165416731396,0.035374958598787795,0.03527087662138042,0.03516388124632991,0.03505393616607102,0.034941007077746014,0.034825061756441816,0.034706070127320986,0.034584004336397384,0.03445883881970845,0.034330550370638806,0.034199118205152874,0.03406452402469751,0.03392675207654204,0.03378578921132689,0.03364162493759976,0.033494251473124834,0.0333436637927587,0.033189859672695075,0.03303283973088999,0.03287260746348859,0.03270916927708589,0.03254253451666468,0.0323727154890645,0.03219972748185015,0.03202358877745774,0.03184432066251155,0.03166194743221771,0.03147649638975351,0.031287997840586765,0.0310964850816719,0.030901994385485,0.030704564978874978,0.030504239016719913,0.03030106155039608,0.030095080491077852,0.02988634656790385,0.029674913281057435,0.029460836849824982,0.0292441761557081,0.02902499268068045,0.02880335044069364,0.028579315914548077,0.028352957968259564,0.028124347775062692,0.02789355873120508,0.027660666367697952,0.027425748258198046,0.02718888392320797,0.026950154730790314,0.02670964379400004,0.026467435865249533,0.02622361722782711,0.025978275584795804,0.025731499945510203,0.025483380509988187,0.02523400855138574,0.02498347629682357,0.024731876806817658,0.024479303853572616,0.024225851798392702,0.023971615468472138,0.02371669003332444,0.02346117088110956,0.02320515349511953,0.022948733330678484,0.022692005692712996,0.022435065614245107,0.02217800773605555,0.02192092618776253,0.021663914470554158,0.021407065341808893,0.02115047070183089,0.02089422148292167,0.020638407541000547,0.020383117549980043,0.020128438899093694,0.019874457593364044,0.019621258157391255,0.019368923542631093,0.019117535038322697,0.018867172186216016,0.018617912699237113,0.018369832384220176,0.018123005068823642,0.01787750253273548,0.01763339444326291,0.017390748295390033,0.01714962935637283,0.016910100614934417,0.016672222735105848,0.016436054014750276,0.016201650348796014,0.015969065197189748,0.015738349557574544,0.015509551942681233,0.015282718362413746,0.015057892310597435,0.014835114756347505,0.01461442414000655,0.014395856373587741,0.014179444845651876,0.013965220430537264,0.01375321150185072,0.013543443950120701,0.0133359412045052,0.013130724258437806,0.01292781169908924,0.012727219740514252,0.01252896226034621,0.012333050839897339,0.01213949480751499,0.011948301285040368,0.011759475237211492,0.011573019523846774,0.011388934954643272,0.011207220346419527,0.011027872582630906,0.01085088667498205,0.010676255826960883,0.010503971499115755,0.010334023475897574,0.010166399933888862,0.01000108751123966,0.009838071378134677,0.009677335308113148,0.009518861750066644,0.009362631900743022,0.009208625777583487,0.009056822291726737,0.008907199321014676,0.008759733782837864,0.00861440170666463,0.008471178306099673,0.00833003805032379,0.008190954734771862,0.008053901550908982,0.007918851154972711,0.007785775735553553,0.0076546470798913155,0.007525436638772384,0.007398115589917651],\"yaxis\":\"y\",\"type\":\"scatter\"},{\"legendgroup\":\"Average\",\"marker\":{\"color\":\"rgb(31, 119, 180)\",\"symbol\":\"line-ns-open\"},\"mode\":\"markers\",\"name\":\"Average\",\"showlegend\":false,\"x\":[39.853846153846156,28.930232558139537,24.904761904761905,30.142857142857142,28.051612903225806,27.71153846153846,39.65873015873016,35.65853658536585,40.042682926829265,28.392857142857142,35.99212598425197,31.00735294117647,24.75,28.471910112359552,28.43010752688172,37.71578947368421,28.55294117647059,28.40495867768595,26.320652173913043,44.65714285714286,35.53333333333333,25.93069306930693,22.811965811965813,29.015037593984964,39.12686567164179,28.344086021505376,22.603174603174605,30.980392156862745,28.233766233766232,27.39814814814815,26.93975903614458,41.75438596491228,29.730941704035875,35.45161290322581,27.522222222222222,35.07253886010363,31.805309734513273,39.507936507936506,32.37426900584796,34.65277777777778,33.82608695652174,30.793650793650794,31.948979591836736,30.6875,37.83529411764706,38.71497584541063,27.555555555555557,24.24793388429752,29.29090909090909,24.81081081081081],\"xaxis\":\"x\",\"y\":[\"Average\",\"Average\",\"Average\",\"Average\",\"Average\",\"Average\",\"Average\",\"Average\",\"Average\",\"Average\",\"Average\",\"Average\",\"Average\",\"Average\",\"Average\",\"Average\",\"Average\",\"Average\",\"Average\",\"Average\",\"Average\",\"Average\",\"Average\",\"Average\",\"Average\",\"Average\",\"Average\",\"Average\",\"Average\",\"Average\",\"Average\",\"Average\",\"Average\",\"Average\",\"Average\",\"Average\",\"Average\",\"Average\",\"Average\",\"Average\",\"Average\",\"Average\",\"Average\",\"Average\",\"Average\",\"Average\",\"Average\",\"Average\",\"Average\",\"Average\"],\"yaxis\":\"y2\",\"type\":\"scatter\"}],                        {\"barmode\":\"overlay\",\"hovermode\":\"closest\",\"legend\":{\"traceorder\":\"reversed\"},\"xaxis\":{\"anchor\":\"y2\",\"domain\":[0.0,1.0],\"zeroline\":false},\"yaxis\":{\"anchor\":\"free\",\"domain\":[0.35,1],\"position\":0.0},\"yaxis2\":{\"anchor\":\"x\",\"domain\":[0,0.25],\"dtick\":1,\"showticklabels\":false},\"template\":{\"data\":{\"histogram2dcontour\":[{\"type\":\"histogram2dcontour\",\"colorbar\":{\"outlinewidth\":0,\"ticks\":\"\"},\"colorscale\":[[0.0,\"#0d0887\"],[0.1111111111111111,\"#46039f\"],[0.2222222222222222,\"#7201a8\"],[0.3333333333333333,\"#9c179e\"],[0.4444444444444444,\"#bd3786\"],[0.5555555555555556,\"#d8576b\"],[0.6666666666666666,\"#ed7953\"],[0.7777777777777778,\"#fb9f3a\"],[0.8888888888888888,\"#fdca26\"],[1.0,\"#f0f921\"]]}],\"choropleth\":[{\"type\":\"choropleth\",\"colorbar\":{\"outlinewidth\":0,\"ticks\":\"\"}}],\"histogram2d\":[{\"type\":\"histogram2d\",\"colorbar\":{\"outlinewidth\":0,\"ticks\":\"\"},\"colorscale\":[[0.0,\"#0d0887\"],[0.1111111111111111,\"#46039f\"],[0.2222222222222222,\"#7201a8\"],[0.3333333333333333,\"#9c179e\"],[0.4444444444444444,\"#bd3786\"],[0.5555555555555556,\"#d8576b\"],[0.6666666666666666,\"#ed7953\"],[0.7777777777777778,\"#fb9f3a\"],[0.8888888888888888,\"#fdca26\"],[1.0,\"#f0f921\"]]}],\"heatmap\":[{\"type\":\"heatmap\",\"colorbar\":{\"outlinewidth\":0,\"ticks\":\"\"},\"colorscale\":[[0.0,\"#0d0887\"],[0.1111111111111111,\"#46039f\"],[0.2222222222222222,\"#7201a8\"],[0.3333333333333333,\"#9c179e\"],[0.4444444444444444,\"#bd3786\"],[0.5555555555555556,\"#d8576b\"],[0.6666666666666666,\"#ed7953\"],[0.7777777777777778,\"#fb9f3a\"],[0.8888888888888888,\"#fdca26\"],[1.0,\"#f0f921\"]]}],\"heatmapgl\":[{\"type\":\"heatmapgl\",\"colorbar\":{\"outlinewidth\":0,\"ticks\":\"\"},\"colorscale\":[[0.0,\"#0d0887\"],[0.1111111111111111,\"#46039f\"],[0.2222222222222222,\"#7201a8\"],[0.3333333333333333,\"#9c179e\"],[0.4444444444444444,\"#bd3786\"],[0.5555555555555556,\"#d8576b\"],[0.6666666666666666,\"#ed7953\"],[0.7777777777777778,\"#fb9f3a\"],[0.8888888888888888,\"#fdca26\"],[1.0,\"#f0f921\"]]}],\"contourcarpet\":[{\"type\":\"contourcarpet\",\"colorbar\":{\"outlinewidth\":0,\"ticks\":\"\"}}],\"contour\":[{\"type\":\"contour\",\"colorbar\":{\"outlinewidth\":0,\"ticks\":\"\"},\"colorscale\":[[0.0,\"#0d0887\"],[0.1111111111111111,\"#46039f\"],[0.2222222222222222,\"#7201a8\"],[0.3333333333333333,\"#9c179e\"],[0.4444444444444444,\"#bd3786\"],[0.5555555555555556,\"#d8576b\"],[0.6666666666666666,\"#ed7953\"],[0.7777777777777778,\"#fb9f3a\"],[0.8888888888888888,\"#fdca26\"],[1.0,\"#f0f921\"]]}],\"surface\":[{\"type\":\"surface\",\"colorbar\":{\"outlinewidth\":0,\"ticks\":\"\"},\"colorscale\":[[0.0,\"#0d0887\"],[0.1111111111111111,\"#46039f\"],[0.2222222222222222,\"#7201a8\"],[0.3333333333333333,\"#9c179e\"],[0.4444444444444444,\"#bd3786\"],[0.5555555555555556,\"#d8576b\"],[0.6666666666666666,\"#ed7953\"],[0.7777777777777778,\"#fb9f3a\"],[0.8888888888888888,\"#fdca26\"],[1.0,\"#f0f921\"]]}],\"mesh3d\":[{\"type\":\"mesh3d\",\"colorbar\":{\"outlinewidth\":0,\"ticks\":\"\"}}],\"scatter\":[{\"fillpattern\":{\"fillmode\":\"overlay\",\"size\":10,\"solidity\":0.2},\"type\":\"scatter\"}],\"parcoords\":[{\"type\":\"parcoords\",\"line\":{\"colorbar\":{\"outlinewidth\":0,\"ticks\":\"\"}}}],\"scatterpolargl\":[{\"type\":\"scatterpolargl\",\"marker\":{\"colorbar\":{\"outlinewidth\":0,\"ticks\":\"\"}}}],\"bar\":[{\"error_x\":{\"color\":\"#2a3f5f\"},\"error_y\":{\"color\":\"#2a3f5f\"},\"marker\":{\"line\":{\"color\":\"#E5ECF6\",\"width\":0.5},\"pattern\":{\"fillmode\":\"overlay\",\"size\":10,\"solidity\":0.2}},\"type\":\"bar\"}],\"scattergeo\":[{\"type\":\"scattergeo\",\"marker\":{\"colorbar\":{\"outlinewidth\":0,\"ticks\":\"\"}}}],\"scatterpolar\":[{\"type\":\"scatterpolar\",\"marker\":{\"colorbar\":{\"outlinewidth\":0,\"ticks\":\"\"}}}],\"histogram\":[{\"marker\":{\"pattern\":{\"fillmode\":\"overlay\",\"size\":10,\"solidity\":0.2}},\"type\":\"histogram\"}],\"scattergl\":[{\"type\":\"scattergl\",\"marker\":{\"colorbar\":{\"outlinewidth\":0,\"ticks\":\"\"}}}],\"scatter3d\":[{\"type\":\"scatter3d\",\"line\":{\"colorbar\":{\"outlinewidth\":0,\"ticks\":\"\"}},\"marker\":{\"colorbar\":{\"outlinewidth\":0,\"ticks\":\"\"}}}],\"scattermapbox\":[{\"type\":\"scattermapbox\",\"marker\":{\"colorbar\":{\"outlinewidth\":0,\"ticks\":\"\"}}}],\"scatterternary\":[{\"type\":\"scatterternary\",\"marker\":{\"colorbar\":{\"outlinewidth\":0,\"ticks\":\"\"}}}],\"scattercarpet\":[{\"type\":\"scattercarpet\",\"marker\":{\"colorbar\":{\"outlinewidth\":0,\"ticks\":\"\"}}}],\"carpet\":[{\"aaxis\":{\"endlinecolor\":\"#2a3f5f\",\"gridcolor\":\"white\",\"linecolor\":\"white\",\"minorgridcolor\":\"white\",\"startlinecolor\":\"#2a3f5f\"},\"baxis\":{\"endlinecolor\":\"#2a3f5f\",\"gridcolor\":\"white\",\"linecolor\":\"white\",\"minorgridcolor\":\"white\",\"startlinecolor\":\"#2a3f5f\"},\"type\":\"carpet\"}],\"table\":[{\"cells\":{\"fill\":{\"color\":\"#EBF0F8\"},\"line\":{\"color\":\"white\"}},\"header\":{\"fill\":{\"color\":\"#C8D4E3\"},\"line\":{\"color\":\"white\"}},\"type\":\"table\"}],\"barpolar\":[{\"marker\":{\"line\":{\"color\":\"#E5ECF6\",\"width\":0.5},\"pattern\":{\"fillmode\":\"overlay\",\"size\":10,\"solidity\":0.2}},\"type\":\"barpolar\"}],\"pie\":[{\"automargin\":true,\"type\":\"pie\"}]},\"layout\":{\"autotypenumbers\":\"strict\",\"colorway\":[\"#636efa\",\"#EF553B\",\"#00cc96\",\"#ab63fa\",\"#FFA15A\",\"#19d3f3\",\"#FF6692\",\"#B6E880\",\"#FF97FF\",\"#FECB52\"],\"font\":{\"color\":\"#2a3f5f\"},\"hovermode\":\"closest\",\"hoverlabel\":{\"align\":\"left\"},\"paper_bgcolor\":\"white\",\"plot_bgcolor\":\"#E5ECF6\",\"polar\":{\"bgcolor\":\"#E5ECF6\",\"angularaxis\":{\"gridcolor\":\"white\",\"linecolor\":\"white\",\"ticks\":\"\"},\"radialaxis\":{\"gridcolor\":\"white\",\"linecolor\":\"white\",\"ticks\":\"\"}},\"ternary\":{\"bgcolor\":\"#E5ECF6\",\"aaxis\":{\"gridcolor\":\"white\",\"linecolor\":\"white\",\"ticks\":\"\"},\"baxis\":{\"gridcolor\":\"white\",\"linecolor\":\"white\",\"ticks\":\"\"},\"caxis\":{\"gridcolor\":\"white\",\"linecolor\":\"white\",\"ticks\":\"\"}},\"coloraxis\":{\"colorbar\":{\"outlinewidth\":0,\"ticks\":\"\"}},\"colorscale\":{\"sequential\":[[0.0,\"#0d0887\"],[0.1111111111111111,\"#46039f\"],[0.2222222222222222,\"#7201a8\"],[0.3333333333333333,\"#9c179e\"],[0.4444444444444444,\"#bd3786\"],[0.5555555555555556,\"#d8576b\"],[0.6666666666666666,\"#ed7953\"],[0.7777777777777778,\"#fb9f3a\"],[0.8888888888888888,\"#fdca26\"],[1.0,\"#f0f921\"]],\"sequentialminus\":[[0.0,\"#0d0887\"],[0.1111111111111111,\"#46039f\"],[0.2222222222222222,\"#7201a8\"],[0.3333333333333333,\"#9c179e\"],[0.4444444444444444,\"#bd3786\"],[0.5555555555555556,\"#d8576b\"],[0.6666666666666666,\"#ed7953\"],[0.7777777777777778,\"#fb9f3a\"],[0.8888888888888888,\"#fdca26\"],[1.0,\"#f0f921\"]],\"diverging\":[[0,\"#8e0152\"],[0.1,\"#c51b7d\"],[0.2,\"#de77ae\"],[0.3,\"#f1b6da\"],[0.4,\"#fde0ef\"],[0.5,\"#f7f7f7\"],[0.6,\"#e6f5d0\"],[0.7,\"#b8e186\"],[0.8,\"#7fbc41\"],[0.9,\"#4d9221\"],[1,\"#276419\"]]},\"xaxis\":{\"gridcolor\":\"white\",\"linecolor\":\"white\",\"ticks\":\"\",\"title\":{\"standoff\":15},\"zerolinecolor\":\"white\",\"automargin\":true,\"zerolinewidth\":2},\"yaxis\":{\"gridcolor\":\"white\",\"linecolor\":\"white\",\"ticks\":\"\",\"title\":{\"standoff\":15},\"zerolinecolor\":\"white\",\"automargin\":true,\"zerolinewidth\":2},\"scene\":{\"xaxis\":{\"backgroundcolor\":\"#E5ECF6\",\"gridcolor\":\"white\",\"linecolor\":\"white\",\"showbackground\":true,\"ticks\":\"\",\"zerolinecolor\":\"white\",\"gridwidth\":2},\"yaxis\":{\"backgroundcolor\":\"#E5ECF6\",\"gridcolor\":\"white\",\"linecolor\":\"white\",\"showbackground\":true,\"ticks\":\"\",\"zerolinecolor\":\"white\",\"gridwidth\":2},\"zaxis\":{\"backgroundcolor\":\"#E5ECF6\",\"gridcolor\":\"white\",\"linecolor\":\"white\",\"showbackground\":true,\"ticks\":\"\",\"zerolinecolor\":\"white\",\"gridwidth\":2}},\"shapedefaults\":{\"line\":{\"color\":\"#2a3f5f\"}},\"annotationdefaults\":{\"arrowcolor\":\"#2a3f5f\",\"arrowhead\":0,\"arrowwidth\":1},\"geo\":{\"bgcolor\":\"white\",\"landcolor\":\"#E5ECF6\",\"subunitcolor\":\"white\",\"showland\":true,\"showlakes\":true,\"lakecolor\":\"white\"},\"title\":{\"x\":0.05},\"mapbox\":{\"style\":\"light\"}}}},                        {\"responsive\": true}                    ).then(function(){\n",
       "                            \n",
       "var gd = document.getElementById('fdd8f0a1-5014-47b3-9da6-47a07ed6c904');\n",
       "var x = new MutationObserver(function (mutations, observer) {{\n",
       "        var display = window.getComputedStyle(gd).display;\n",
       "        if (!display || display === 'none') {{\n",
       "            console.log([gd, 'removed!']);\n",
       "            Plotly.purge(gd);\n",
       "            observer.disconnect();\n",
       "        }}\n",
       "}});\n",
       "\n",
       "// Listen for the removal of the full notebook cells\n",
       "var notebookContainer = gd.closest('#notebook-container');\n",
       "if (notebookContainer) {{\n",
       "    x.observe(notebookContainer, {childList: true});\n",
       "}}\n",
       "\n",
       "// Listen for the clearing of the current output cell\n",
       "var outputEl = gd.closest('.output');\n",
       "if (outputEl) {{\n",
       "    x.observe(outputEl, {childList: true});\n",
       "}}\n",
       "\n",
       "                        })                };                });            </script>        </div>"
      ]
     },
     "metadata": {},
     "output_type": "display_data"
    }
   ],
   "execution_count": 172
  },
  {
   "metadata": {
    "ExecuteTime": {
     "end_time": "2024-10-26T17:42:19.714474Z",
     "start_time": "2024-10-26T17:42:19.674061Z"
    }
   },
   "cell_type": "code",
   "source": [
    "hist_data = [avg.avg, avg.strike_rate]\n",
    "\n",
    "group_labels = ['Average', 'Strike Rate']\n",
    "\n",
    "fig = ff.create_distplot(hist_data, group_labels, bin_size=[10, 20])\n",
    "\n",
    "plotly.io.show(fig)"
   ],
   "id": "110ba92bf78503ff",
   "outputs": [
    {
     "data": {
      "application/vnd.plotly.v1+json": {
       "data": [
        {
         "autobinx": false,
         "histnorm": "probability density",
         "legendgroup": "Average",
         "marker": {
          "color": "rgb(31, 119, 180)"
         },
         "name": "Average",
         "opacity": 0.7,
         "x": [
          39.853846153846156,
          28.930232558139537,
          24.904761904761905,
          30.142857142857142,
          28.051612903225806,
          27.71153846153846,
          39.65873015873016,
          35.65853658536585,
          40.042682926829265,
          28.392857142857142,
          35.99212598425197,
          31.00735294117647,
          24.75,
          28.471910112359552,
          28.43010752688172,
          37.71578947368421,
          28.55294117647059,
          28.40495867768595,
          26.320652173913043,
          44.65714285714286,
          35.53333333333333,
          25.93069306930693,
          22.811965811965813,
          29.015037593984964,
          39.12686567164179,
          28.344086021505376,
          22.603174603174605,
          30.980392156862745,
          28.233766233766232,
          27.39814814814815,
          26.93975903614458,
          41.75438596491228,
          29.730941704035875,
          35.45161290322581,
          27.522222222222222,
          35.07253886010363,
          31.805309734513273,
          39.507936507936506,
          32.37426900584796,
          34.65277777777778,
          33.82608695652174,
          30.793650793650794,
          31.948979591836736,
          30.6875,
          37.83529411764706,
          38.71497584541063,
          27.555555555555557,
          24.24793388429752,
          29.29090909090909,
          24.81081081081081
         ],
         "xaxis": "x",
         "xbins": {
          "end": 44.65714285714286,
          "size": 10,
          "start": 22.603174603174605
         },
         "yaxis": "y",
         "type": "histogram"
        },
        {
         "autobinx": false,
         "histnorm": "probability density",
         "legendgroup": "Strike Rate",
         "marker": {
          "color": "rgb(255, 127, 14)"
         },
         "name": "Strike Rate",
         "opacity": 0.7,
         "x": [
          148.58044164037855,
          164.22442244224422,
          123.34905660377358,
          120.32141005702437,
          124.58452722063038,
          126.84859154929578,
          142.1217292377702,
          134.68447719944726,
          135.4299855640338,
          132.27953410981698,
          133.07132459970887,
          119.66515323496027,
          150.4885993485342,
          139.69128996692393,
          132.79758915118032,
          142.23898372369987,
          105.93627237014405,
          140.45770331017573,
          131.35340385136968,
          131.05086640581328,
          122.95271049596307,
          118.61413043478262,
          128.25564632388276,
          117.36618004866179,
          132.8350646060299,
          130.81885856079404,
          116.62571662571663,
          131.12033195020746,
          113.34723670490095,
          124.4322960470984,
          135.51515151515153,
          133.63279056709715,
          127.91819409608335,
          143.59756097560975,
          126.15227909345556,
          123.45431333211745,
          142.50594766058683,
          130.10977522216413,
          132.53531242518554,
          124.81240620310155,
          114.18786692759295,
          134.1632088520055,
          123.02554027504911,
          135.1376146788991,
          132.23684210526315,
          128.51186658114176,
          148.82705946535734,
          123.90202702702702,
          138.04627249357327,
          124.78477571363842
         ],
         "xaxis": "x",
         "xbins": {
          "end": 164.22442244224422,
          "size": 20,
          "start": 105.93627237014405
         },
         "yaxis": "y",
         "type": "histogram"
        },
        {
         "legendgroup": "Average",
         "marker": {
          "color": "rgb(31, 119, 180)"
         },
         "mode": "lines",
         "name": "Average",
         "showlegend": false,
         "x": [
          22.603174603174605,
          22.647282539682543,
          22.691390476190477,
          22.735498412698416,
          22.77960634920635,
          22.82371428571429,
          22.867822222222223,
          22.91193015873016,
          22.956038095238096,
          23.000146031746034,
          23.04425396825397,
          23.088361904761907,
          23.13246984126984,
          23.17657777777778,
          23.220685714285715,
          23.264793650793653,
          23.308901587301587,
          23.353009523809526,
          23.39711746031746,
          23.4412253968254,
          23.485333333333333,
          23.52944126984127,
          23.573549206349206,
          23.617657142857144,
          23.661765079365082,
          23.705873015873017,
          23.749980952380955,
          23.79408888888889,
          23.838196825396828,
          23.882304761904763,
          23.9264126984127,
          23.970520634920636,
          24.014628571428574,
          24.05873650793651,
          24.102844444444447,
          24.14695238095238,
          24.19106031746032,
          24.235168253968254,
          24.279276190476192,
          24.323384126984127,
          24.367492063492065,
          24.4116,
          24.455707936507938,
          24.499815873015873,
          24.54392380952381,
          24.588031746031746,
          24.632139682539684,
          24.676247619047622,
          24.720355555555557,
          24.76446349206349,
          24.80857142857143,
          24.852679365079368,
          24.896787301587302,
          24.94089523809524,
          24.985003174603175,
          25.029111111111114,
          25.073219047619048,
          25.117326984126986,
          25.16143492063492,
          25.20554285714286,
          25.249650793650794,
          25.293758730158732,
          25.337866666666667,
          25.381974603174605,
          25.42608253968254,
          25.470190476190478,
          25.514298412698416,
          25.55840634920635,
          25.602514285714285,
          25.646622222222224,
          25.69073015873016,
          25.734838095238096,
          25.778946031746035,
          25.82305396825397,
          25.867161904761907,
          25.911269841269842,
          25.95537777777778,
          25.999485714285715,
          26.043593650793653,
          26.087701587301588,
          26.131809523809526,
          26.17591746031746,
          26.2200253968254,
          26.264133333333334,
          26.30824126984127,
          26.352349206349206,
          26.396457142857145,
          26.44056507936508,
          26.484673015873017,
          26.528780952380952,
          26.57288888888889,
          26.616996825396825,
          26.661104761904763,
          26.7052126984127,
          26.749320634920636,
          26.79342857142857,
          26.83753650793651,
          26.881644444444447,
          26.92575238095238,
          26.96986031746032,
          27.013968253968255,
          27.058076190476193,
          27.102184126984127,
          27.146292063492066,
          27.190400000000004,
          27.23450793650794,
          27.278615873015873,
          27.32272380952381,
          27.366831746031746,
          27.410939682539684,
          27.45504761904762,
          27.499155555555557,
          27.543263492063492,
          27.58737142857143,
          27.631479365079365,
          27.675587301587303,
          27.71969523809524,
          27.763803174603176,
          27.807911111111114,
          27.85201904761905,
          27.896126984126987,
          27.94023492063492,
          27.98434285714286,
          28.028450793650794,
          28.072558730158732,
          28.116666666666667,
          28.160774603174605,
          28.20488253968254,
          28.248990476190478,
          28.293098412698413,
          28.33720634920635,
          28.381314285714286,
          28.425422222222224,
          28.46953015873016,
          28.513638095238097,
          28.557746031746035,
          28.60185396825397,
          28.645961904761908,
          28.690069841269842,
          28.73417777777778,
          28.778285714285715,
          28.82239365079365,
          28.866501587301588,
          28.910609523809526,
          28.95471746031746,
          28.998825396825396,
          29.042933333333334,
          29.087041269841272,
          29.131149206349207,
          29.175257142857145,
          29.21936507936508,
          29.263473015873018,
          29.307580952380953,
          29.35168888888889,
          29.39579682539683,
          29.439904761904764,
          29.4840126984127,
          29.528120634920636,
          29.572228571428575,
          29.61633650793651,
          29.660444444444444,
          29.704552380952382,
          29.74866031746032,
          29.792768253968255,
          29.83687619047619,
          29.880984126984128,
          29.925092063492066,
          29.9692,
          30.01330793650794,
          30.057415873015874,
          30.101523809523812,
          30.145631746031746,
          30.189739682539685,
          30.233847619047623,
          30.277955555555558,
          30.322063492063492,
          30.36617142857143,
          30.41027936507937,
          30.454387301587303,
          30.498495238095238,
          30.542603174603176,
          30.586711111111114,
          30.63081904761905,
          30.674926984126984,
          30.719034920634922,
          30.76314285714286,
          30.807250793650795,
          30.85135873015873,
          30.895466666666668,
          30.939574603174606,
          30.98368253968254,
          31.02779047619048,
          31.071898412698417,
          31.11600634920635,
          31.160114285714286,
          31.20422222222222,
          31.24833015873016,
          31.292438095238097,
          31.336546031746032,
          31.38065396825397,
          31.42476190476191,
          31.468869841269843,
          31.512977777777778,
          31.557085714285716,
          31.601193650793654,
          31.64530158730159,
          31.689409523809523,
          31.73351746031746,
          31.7776253968254,
          31.821733333333334,
          31.86584126984127,
          31.909949206349207,
          31.954057142857145,
          31.99816507936508,
          32.04227301587302,
          32.086380952380956,
          32.13048888888889,
          32.174596825396826,
          32.21870476190476,
          32.2628126984127,
          32.30692063492064,
          32.35102857142857,
          32.39513650793651,
          32.43924444444445,
          32.48335238095238,
          32.52746031746032,
          32.57156825396825,
          32.615676190476194,
          32.65978412698413,
          32.70389206349206,
          32.748000000000005,
          32.79210793650794,
          32.836215873015874,
          32.88032380952381,
          32.92443174603174,
          32.968539682539685,
          33.01264761904762,
          33.056755555555554,
          33.100863492063496,
          33.14497142857143,
          33.189079365079365,
          33.23318730158731,
          33.27729523809524,
          33.32140317460318,
          33.36551111111111,
          33.409619047619046,
          33.45372698412699,
          33.49783492063492,
          33.54194285714286,
          33.5860507936508,
          33.63015873015873,
          33.67426666666667,
          33.71837460317461,
          33.76248253968254,
          33.80659047619048,
          33.850698412698414,
          33.89480634920635,
          33.93891428571429,
          33.983022222222225,
          34.02713015873016,
          34.071238095238094,
          34.11534603174603,
          34.15945396825397,
          34.203561904761905,
          34.24766984126984,
          34.29177777777778,
          34.335885714285716,
          34.37999365079365,
          34.424101587301585,
          34.46820952380953,
          34.51231746031746,
          34.5564253968254,
          34.60053333333333,
          34.64464126984127,
          34.68874920634921,
          34.73285714285714,
          34.776965079365084,
          34.82107301587302,
          34.86518095238095,
          34.90928888888889,
          34.95339682539683,
          34.997504761904764,
          35.0416126984127,
          35.085720634920634,
          35.129828571428575,
          35.17393650793651,
          35.218044444444445,
          35.26215238095239,
          35.30626031746032,
          35.350368253968256,
          35.39447619047619,
          35.438584126984125,
          35.48269206349207,
          35.5268,
          35.570907936507936,
          35.61501587301588,
          35.65912380952381,
          35.70323174603175,
          35.74733968253968,
          35.79144761904762,
          35.83555555555556,
          35.87966349206349,
          35.92377142857143,
          35.96787936507937,
          36.011987301587304,
          36.05609523809524,
          36.10020317460317,
          36.14431111111111,
          36.18841904761905,
          36.232526984126984,
          36.27663492063492,
          36.32074285714286,
          36.364850793650795,
          36.40895873015873,
          36.45306666666667,
          36.49717460317461,
          36.54128253968254,
          36.585390476190476,
          36.62949841269841,
          36.67360634920635,
          36.71771428571429,
          36.76182222222222,
          36.80593015873016,
          36.8500380952381,
          36.89414603174603,
          36.938253968253974,
          36.9823619047619,
          37.026469841269844,
          37.07057777777778,
          37.11468571428571,
          37.158793650793655,
          37.20290158730159,
          37.247009523809524,
          37.29111746031746,
          37.33522539682539,
          37.379333333333335,
          37.42344126984127,
          37.467549206349204,
          37.511657142857146,
          37.55576507936508,
          37.599873015873015,
          37.64398095238096,
          37.68808888888889,
          37.73219682539683,
          37.77630476190476,
          37.820412698412696,
          37.86452063492064,
          37.90862857142857,
          37.95273650793651,
          37.99684444444445,
          38.04095238095238,
          38.08506031746032,
          38.12916825396826,
          38.173276190476194,
          38.21738412698413,
          38.261492063492064,
          38.3056,
          38.34970793650794,
          38.393815873015875,
          38.43792380952381,
          38.48203174603175,
          38.526139682539686,
          38.57024761904762,
          38.614355555555555,
          38.65846349206349,
          38.70257142857143,
          38.746679365079366,
          38.7907873015873,
          38.83489523809524,
          38.87900317460318,
          38.92311111111111,
          38.967219047619054,
          39.01132698412699,
          39.05543492063492,
          39.09954285714286,
          39.14365079365079,
          39.187758730158734,
          39.23186666666667,
          39.2759746031746,
          39.320082539682545,
          39.36419047619047,
          39.408298412698414,
          39.452406349206356,
          39.496514285714284,
          39.540622222222225,
          39.58473015873016,
          39.628838095238095,
          39.67294603174604,
          39.717053968253964,
          39.761161904761906,
          39.80526984126984,
          39.849377777777775,
          39.89348571428572,
          39.93759365079366,
          39.981701587301586,
          40.02580952380953,
          40.06991746031746,
          40.1140253968254,
          40.15813333333334,
          40.20224126984127,
          40.24634920634921,
          40.29045714285714,
          40.33456507936508,
          40.37867301587302,
          40.42278095238095,
          40.46688888888889,
          40.51099682539683,
          40.555104761904765,
          40.5992126984127,
          40.64332063492064,
          40.68742857142857,
          40.73153650793651,
          40.775644444444445,
          40.81975238095238,
          40.86386031746032,
          40.90796825396825,
          40.95207619047619,
          40.99618412698413,
          41.04029206349206,
          41.0844,
          41.12850793650794,
          41.17261587301587,
          41.21672380952381,
          41.26083174603175,
          41.30493968253968,
          41.34904761904762,
          41.39315555555555,
          41.437263492063494,
          41.481371428571435,
          41.52547936507936,
          41.569587301587305,
          41.61369523809524,
          41.657803174603174,
          41.701911111111116,
          41.74601904761904,
          41.790126984126985,
          41.83423492063492,
          41.878342857142854,
          41.922450793650796,
          41.96655873015873,
          42.010666666666665,
          42.05477460317461,
          42.09888253968254,
          42.14299047619048,
          42.18709841269842,
          42.231206349206346,
          42.27531428571429,
          42.31942222222222,
          42.36353015873016,
          42.4076380952381,
          42.45174603174603,
          42.49585396825397,
          42.53996190476191,
          42.584069841269844,
          42.62817777777778,
          42.672285714285714,
          42.71639365079365,
          42.76050158730159,
          42.804609523809525,
          42.84871746031746,
          42.8928253968254,
          42.936933333333336,
          42.98104126984127,
          43.02514920634921,
          43.06925714285714,
          43.11336507936508,
          43.157473015873016,
          43.20158095238095,
          43.24568888888889,
          43.28979682539682,
          43.33390476190476,
          43.378012698412704,
          43.42212063492064,
          43.46622857142857,
          43.510336507936515,
          43.55444444444444,
          43.598552380952384,
          43.64266031746032,
          43.68676825396825,
          43.730876190476195,
          43.77498412698412,
          43.819092063492064,
          43.863200000000006,
          43.907307936507934,
          43.951415873015875,
          43.99552380952381,
          44.039631746031745,
          44.08373968253969,
          44.12784761904762,
          44.171955555555556,
          44.2160634920635,
          44.260171428571425,
          44.30427936507937,
          44.34838730158731,
          44.392495238095236,
          44.43660317460318,
          44.48071111111111,
          44.52481904761905,
          44.56892698412699,
          44.61303492063492
         ],
         "xaxis": "x",
         "y": [
          0.022451299936918988,
          0.022829590758750268,
          0.023211237649958458,
          0.023596229746589367,
          0.023984555827629046,
          0.02437620428455337,
          0.024771163087743006,
          0.025169419749738773,
          0.025570961285320517,
          0.025975774168403104,
          0.02638384428575118,
          0.02679515688752646,
          0.02720969653468855,
          0.02762744704328452,
          0.028048391425668937,
          0.028472511828710516,
          0.02889978946904965,
          0.02933020456548439,
          0.029763736268571487,
          0.030200362587542946,
          0.0306400603146464,
          0.031082804947032847,
          0.03152857060632204,
          0.031977329955991736,
          0.0324290541167435,
          0.032883712580012256,
          0.03334127311979481,
          0.03380170170298485,
          0.034264962398411335,
          0.034731017284786767,
          0.03519982635778257,
          0.03567134743645665,
          0.036145536069268,
          0.03662234543992106,
          0.03710172627329099,
          0.03758362674168736,
          0.038067992371721766,
          0.03855476595205,
          0.039043887442266376,
          0.039535293883230925,
          0.04002891930911652,
          0.0405246946614648,
          0.04102254770554386,
          0.041522402949301804,
          0.04202418156521301,
          0.0425278013153124,
          0.043033176479714434,
          0.043540217788911734,
          0.04404883236014635,
          0.04455892363814393,
          0.04507039134049676,
          0.04558313140797749,
          0.04609703596006079,
          0.04661199325592182,
          0.047127887661174386,
          0.04764459962060403,
          0.048162005637140445,
          0.04867997825730637,
          0.04919838606336654,
          0.04971709367239123,
          0.050235961742434825,
          0.050754846986017774,
          0.05127360219108576,
          0.05179207624960619,
          0.052310114193945094,
          0.05282755724115365,
          0.053344242845274996,
          0.05386000475776648,
          0.05437467309611317,
          0.05488807442069123,
          0.05540003181992073,
          0.05591036500372791,
          0.056418890405318556,
          0.05692542129124242,
          0.05742976787971117,
          0.05793173746710854,
          0.05843113456261559,
          0.058927761030848326,
          0.0594214162423893,
          0.05991189723207,
          0.06039899886484435,
          0.06088251400906984,
          0.06136223371699644,
          0.06183794741223977,
          0.06230944308399958,
          0.06277650748776233,
          0.06323892635221043,
          0.06369648459204132,
          0.06414896652638291,
          0.06459615610247456,
          0.06503783712426743,
          0.06547379348558141,
          0.06590380940744334,
          0.06632766967921452,
          0.06674515990310588,
          0.06715606674166465,
          0.06756017816780727,
          0.06795728371696153,
          0.0683471747408742,
          0.06872964466263044,
          0.06910448923242518,
          0.06947150678362303,
          0.06983049848863446,
          0.07018126861413763,
          0.07052362477516878,
          0.07085737818760662,
          0.07118234391857345,
          0.07149834113427934,
          0.07180519334483693,
          0.07210272864557905,
          0.07239077995441512,
          0.0726691852447706,
          0.07293778777365797,
          0.07319643630443892,
          0.07344498532384489,
          0.07368329525283518,
          0.07391123265088193,
          0.07412867041328522,
          0.07433548796113382,
          0.07453157142354291,
          0.07471681381181439,
          0.07489111518518161,
          0.0750543828078191,
          0.07520653129681142,
          0.07534748276080008,
          0.07547716692903932,
          0.07559552127061717,
          0.07570249110361425,
          0.07579802969399572,
          0.07588209834405145,
          0.07595466647022169,
          0.07601571167016616,
          0.07606521977895722,
          0.07610318491429854,
          0.0761296095106945,
          0.07614450434251538,
          0.0761478885359272,
          0.0761397895696762,
          0.07612024326473973,
          0.07608929376287706,
          0.07604699349413488,
          0.07599340313338325,
          0.07592859154597803,
          0.07585263572266668,
          0.07576562070387347,
          0.07566763949351926,
          0.07555879296255016,
          0.0754391897423675,
          0.07530894610836744,
          0.07516818585381764,
          0.07501704015431256,
          0.07485564742306479,
          0.07468415315730506,
          0.07450270977607577,
          0.07431147644971726,
          0.07411061892135769,
          0.07390030932072798,
          0.073680725970635,
          0.07345205318643425,
          0.07321448106885331,
          0.07296820529052404,
          0.07271342687658948,
          0.07245035197975705,
          0.07217919165017395,
          0.07190016160050726,
          0.07161348196661248,
          0.07131937706417835,
          0.07101807514173794,
          0.07070980813043475,
          0.07039481139093715,
          0.07007332345788943,
          0.06974558578229058,
          0.06941184247218647,
          0.06907234003206256,
          0.0687273271013171,
          0.06837705419219384,
          0.06802177342754781,
          0.06766173827881297,
          0.06729720330453418,
          0.06692842388982151,
          0.06655565598707736,
          0.06617915585834036,
          0.06579917981958155,
          0.06541598398728257,
          0.06502982402761588,
          0.06464095490853916,
          0.0642496306551075,
          0.06385610410829691,
          0.06346062668762531,
          0.06306344815784556,
          0.06266481639997694,
          0.062264977186930526,
          0.06186417396397487,
          0.06146264763427739,
          0.06106063634974649,
          0.06065837530739032,
          0.060256096551395896,
          0.059854028781123045,
          0.059452397165196236,
          0.05905142316186737,
          0.05865132434581144,
          0.05825231424150707,
          0.05785460216334185,
          0.05745839306257332,
          0.05706388738126532,
          0.05667128091330794,
          0.05628076467261987,
          0.05589252476862082,
          0.05550674228905164,
          0.055123593190208216,
          0.05474324819464608,
          0.054365872696401765,
          0.053991626673766294,
          0.05362066460963615,
          0.05325313541945716,
          0.052889182386766515,
          0.0525289431063266,
          0.052172549434837345,
          0.05182012744920024,
          0.051471797412299826,
          0.05112767374625797,
          0.05078786501310494,
          0.05045247390280435,
          0.050121597228557434,
          0.04979532592930203,
          0.04947374507931513,
          0.04915693390481491,
          0.04884496580745151,
          0.04853790839456567,
          0.04823582351608494,
          0.047938767307919586,
          0.04764679024171034,
          0.04735993718077196,
          0.0470782474420684,
          0.04680175486404748,
          0.046530487880153446,
          0.04626446959783032,
          0.04600371788281881,
          0.04574824544854456,
          0.04549805995038719,
          0.045253164084612475,
          0.045013555691745165,
          0.0447792278641519,
          0.04455016905759937,
          0.04432636320654647,
          0.04410778984292489,
          0.04389442421815723,
          0.04368623742815831,
          0.04348319654106063,
          0.043285264727402455,
          0.0430924013925139,
          0.04290456231083341,
          0.04272169976188642,
          0.042543762667656,
          0.042370696731073465,
          0.042202444575359814,
          0.042038945883945085,
          0.041880137540697436,
          0.04172595377019322,
          0.041576326277761526,
          0.04143118438904062,
          0.04129045518878601,
          0.04115406365867406,
          0.04102193281385014,
          0.04089398383797497,
          0.040770136216529154,
          0.040650307868141555,
          0.04053441527371558,
          0.040422373603133346,
          0.040314096839327275,
          0.040209497899517,
          0.04010848875341836,
          0.04001098053824158,
          0.03991688367030632,
          0.039826107953111284,
          0.03973856268170778,
          0.03965415674323878,
          0.03957279871351633,
          0.0394943969495232,
          0.03941885967773707,
          0.039346095078189106,
          0.03927601136418164,
          0.03920851685760351,
          0.03914352005979536,
          0.03908092971793116,
          0.039020654886895725,
          0.03896260498665286,
          0.03890668985511184,
          0.03885281979651497,
          0.038800905625381854,
          0.0387508587060605,
          0.03870259098794881,
          0.03865601503646334,
          0.03861104405984537,
          0.038567591931906654,
          0.03852557321083118,
          0.038484903154159165,
          0.03844549773009257,
          0.03840727362527262,
          0.03837014824918913,
          0.03833403973539307,
          0.03829886693969173,
          0.038264549435515716,
          0.03823100750665473,
          0.03819816213756619,
          0.03816593500146787,
          0.03813424844643166,
          0.038103025479700056,
          0.03807218975045226,
          0.03804166553124964,
          0.038011377698392745,
          0.037981251711425267,
          0.03795121359201927,
          0.03792118990247793,
          0.03789110772409047,
          0.03786089463557231,
          0.03783047869182122,
          0.037799788403216926,
          0.03776875271568755,
          0.037737300991760744,
          0.037705362992812325,
          0.03767286886271828,
          0.03763974911310825,
          0.037605934610411444,
          0.03757135656487586,
          0.037535946521733574,
          0.0374996363546733,
          0.03746235826177184,
          0.037424044764023626,
          0.03738462870659683,
          0.037344043262930775,
          0.037302221941777784,
          0.037259098597278564,
          0.03721460744214701,
          0.03716868306402609,
          0.03712126044506281,
          0.0370722749847355,
          0.03702166252595206,
          0.03696935938442384,
          0.03691530238130445,
          0.03685942887906849,
          0.03680167682059082,
          0.036741984771372284,
          0.0366802919648433,
          0.036616538350663294,
          0.03655066464591992,
          0.03648261238911778,
          0.03641232399683504,
          0.03633974282291156,
          0.03626481322002171,
          0.036187480603472516,
          0.03610769151705657,
          0.03602539370077919,
          0.03594053616026896,
          0.03585306923767162,
          0.03576294468381887,
          0.03567011573145598,
          0.03557453716930456,
          0.035476165416731396,
          0.035374958598787795,
          0.03527087662138042,
          0.03516388124632991,
          0.03505393616607102,
          0.034941007077746014,
          0.034825061756441816,
          0.034706070127320986,
          0.034584004336397384,
          0.03445883881970845,
          0.034330550370638806,
          0.034199118205152874,
          0.03406452402469751,
          0.03392675207654204,
          0.03378578921132689,
          0.03364162493759976,
          0.033494251473124834,
          0.0333436637927587,
          0.033189859672695075,
          0.03303283973088999,
          0.03287260746348859,
          0.03270916927708589,
          0.03254253451666468,
          0.0323727154890645,
          0.03219972748185015,
          0.03202358877745774,
          0.03184432066251155,
          0.03166194743221771,
          0.03147649638975351,
          0.031287997840586765,
          0.0310964850816719,
          0.030901994385485,
          0.030704564978874978,
          0.030504239016719913,
          0.03030106155039608,
          0.030095080491077852,
          0.02988634656790385,
          0.029674913281057435,
          0.029460836849824982,
          0.0292441761557081,
          0.02902499268068045,
          0.02880335044069364,
          0.028579315914548077,
          0.028352957968259564,
          0.028124347775062692,
          0.02789355873120508,
          0.027660666367697952,
          0.027425748258198046,
          0.02718888392320797,
          0.026950154730790314,
          0.02670964379400004,
          0.026467435865249533,
          0.02622361722782711,
          0.025978275584795804,
          0.025731499945510203,
          0.025483380509988187,
          0.02523400855138574,
          0.02498347629682357,
          0.024731876806817658,
          0.024479303853572616,
          0.024225851798392702,
          0.023971615468472138,
          0.02371669003332444,
          0.02346117088110956,
          0.02320515349511953,
          0.022948733330678484,
          0.022692005692712996,
          0.022435065614245107,
          0.02217800773605555,
          0.02192092618776253,
          0.021663914470554158,
          0.021407065341808893,
          0.02115047070183089,
          0.02089422148292167,
          0.020638407541000547,
          0.020383117549980043,
          0.020128438899093694,
          0.019874457593364044,
          0.019621258157391255,
          0.019368923542631093,
          0.019117535038322697,
          0.018867172186216016,
          0.018617912699237113,
          0.018369832384220176,
          0.018123005068823642,
          0.01787750253273548,
          0.01763339444326291,
          0.017390748295390033,
          0.01714962935637283,
          0.016910100614934417,
          0.016672222735105848,
          0.016436054014750276,
          0.016201650348796014,
          0.015969065197189748,
          0.015738349557574544,
          0.015509551942681233,
          0.015282718362413746,
          0.015057892310597435,
          0.014835114756347505,
          0.01461442414000655,
          0.014395856373587741,
          0.014179444845651876,
          0.013965220430537264,
          0.01375321150185072,
          0.013543443950120701,
          0.0133359412045052,
          0.013130724258437806,
          0.01292781169908924,
          0.012727219740514252,
          0.01252896226034621,
          0.012333050839897339,
          0.01213949480751499,
          0.011948301285040368,
          0.011759475237211492,
          0.011573019523846774,
          0.011388934954643272,
          0.011207220346419527,
          0.011027872582630906,
          0.01085088667498205,
          0.010676255826960883,
          0.010503971499115755,
          0.010334023475897574,
          0.010166399933888862,
          0.01000108751123966,
          0.009838071378134677,
          0.009677335308113148,
          0.009518861750066644,
          0.009362631900743022,
          0.009208625777583487,
          0.009056822291726737,
          0.008907199321014676,
          0.008759733782837864,
          0.00861440170666463,
          0.008471178306099673,
          0.00833003805032379,
          0.008190954734771862,
          0.008053901550908982,
          0.007918851154972711,
          0.007785775735553553,
          0.0076546470798913155,
          0.007525436638772384,
          0.007398115589917651
         ],
         "yaxis": "y",
         "type": "scatter"
        },
        {
         "legendgroup": "Strike Rate",
         "marker": {
          "color": "rgb(255, 127, 14)"
         },
         "mode": "lines",
         "name": "Strike Rate",
         "showlegend": false,
         "x": [
          105.93627237014405,
          106.05284867028826,
          106.16942497043246,
          106.28600127057665,
          106.40257757072085,
          106.51915387086505,
          106.63573017100926,
          106.75230647115346,
          106.86888277129765,
          106.98545907144185,
          107.10203537158606,
          107.21861167173026,
          107.33518797187446,
          107.45176427201866,
          107.56834057216285,
          107.68491687230706,
          107.80149317245126,
          107.91806947259546,
          108.03464577273967,
          108.15122207288385,
          108.26779837302806,
          108.38437467317226,
          108.50095097331646,
          108.61752727346067,
          108.73410357360486,
          108.85067987374906,
          108.96725617389326,
          109.08383247403746,
          109.20040877418167,
          109.31698507432586,
          109.43356137447006,
          109.55013767461426,
          109.66671397475847,
          109.78329027490267,
          109.89986657504686,
          110.01644287519106,
          110.13301917533526,
          110.24959547547947,
          110.36617177562367,
          110.48274807576786,
          110.59932437591206,
          110.71590067605626,
          110.83247697620047,
          110.94905327634467,
          111.06562957648887,
          111.18220587663306,
          111.29878217677727,
          111.41535847692147,
          111.53193477706567,
          111.64851107720987,
          111.76508737735406,
          111.88166367749827,
          111.99823997764247,
          112.11481627778667,
          112.23139257793088,
          112.34796887807506,
          112.46454517821927,
          112.58112147836347,
          112.69769777850767,
          112.81427407865188,
          112.93085037879607,
          113.04742667894027,
          113.16400297908447,
          113.28057927922868,
          113.39715557937288,
          113.51373187951708,
          113.63030817966127,
          113.74688447980547,
          113.86346077994968,
          113.98003708009388,
          114.09661338023808,
          114.21318968038227,
          114.32976598052647,
          114.44634228067068,
          114.56291858081488,
          114.67949488095908,
          114.79607118110329,
          114.91264748124748,
          115.02922378139168,
          115.14580008153588,
          115.26237638168008,
          115.37895268182427,
          115.49552898196848,
          115.61210528211268,
          115.72868158225688,
          115.84525788240109,
          115.96183418254529,
          116.07841048268948,
          116.19498678283368,
          116.31156308297788,
          116.42813938312209,
          116.54471568326628,
          116.66129198341048,
          116.77786828355468,
          116.89444458369888,
          117.01102088384309,
          117.12759718398729,
          117.24417348413148,
          117.36074978427568,
          117.47732608441989,
          117.59390238456409,
          117.71047868470829,
          117.82705498485248,
          117.94363128499668,
          118.06020758514089,
          118.17678388528509,
          118.2933601854293,
          118.4099364855735,
          118.52651278571769,
          118.64308908586189,
          118.75966538600609,
          118.8762416861503,
          118.99281798629448,
          119.10939428643869,
          119.22597058658289,
          119.34254688672709,
          119.4591231868713,
          119.5756994870155,
          119.69227578715969,
          119.80885208730389,
          119.9254283874481,
          120.0420046875923,
          120.15858098773649,
          120.27515728788069,
          120.39173358802489,
          120.5083098881691,
          120.6248861883133,
          120.7414624884575,
          120.85803878860169,
          120.97461508874589,
          121.0911913888901,
          121.2077676890343,
          121.3243439891785,
          121.44092028932269,
          121.5574965894669,
          121.6740728896111,
          121.7906491897553,
          121.9072254898995,
          122.0238017900437,
          122.1403780901879,
          122.2569543903321,
          122.3735306904763,
          122.4901069906205,
          122.60668329076469,
          122.7232595909089,
          122.8398358910531,
          122.9564121911973,
          123.0729884913415,
          123.18956479148571,
          123.30614109162991,
          123.4227173917741,
          123.5392936919183,
          123.6558699920625,
          123.77244629220671,
          123.8890225923509,
          124.0055988924951,
          124.1221751926393,
          124.2387514927835,
          124.35532779292771,
          124.47190409307191,
          124.5884803932161,
          124.7050566933603,
          124.82163299350451,
          124.93820929364871,
          125.0547855937929,
          125.1713618939371,
          125.2879381940813,
          125.40451449422551,
          125.52109079436971,
          125.63766709451392,
          125.7542433946581,
          125.87081969480231,
          125.98739599494651,
          126.10397229509071,
          126.2205485952349,
          126.3371248953791,
          126.45370119552331,
          126.57027749566751,
          126.68685379581171,
          126.80343009595592,
          126.92000639610012,
          127.03658269624431,
          127.15315899638851,
          127.26973529653272,
          127.38631159667692,
          127.50288789682111,
          127.61946419696531,
          127.73604049710951,
          127.85261679725372,
          127.96919309739792,
          128.08576939754212,
          128.20234569768633,
          128.31892199783053,
          128.4354982979747,
          128.5520745981189,
          128.6686508982631,
          128.7852271984073,
          128.90180349855152,
          129.01837979869572,
          129.13495609883992,
          129.25153239898412,
          129.36810869912833,
          129.48468499927253,
          129.6012612994167,
          129.71783759956094,
          129.8344138997051,
          129.95099019984931,
          130.06756649999352,
          130.18414280013772,
          130.30071910028192,
          130.41729540042613,
          130.53387170057033,
          130.65044800071453,
          130.76702430085874,
          130.8836006010029,
          131.0001769011471,
          131.11675320129132,
          131.23332950143552,
          131.34990580157972,
          131.46648210172393,
          131.58305840186813,
          131.69963470201233,
          131.81621100215654,
          131.93278730230074,
          132.04936360244494,
          132.16593990258912,
          132.28251620273332,
          132.39909250287752,
          132.51566880302173,
          132.63224510316593,
          132.74882140331013,
          132.86539770345433,
          132.98197400359854,
          133.09855030374274,
          133.21512660388692,
          133.33170290403112,
          133.44827920417532,
          133.56485550431952,
          133.68143180446373,
          133.79800810460793,
          133.91458440475213,
          134.03116070489634,
          134.14773700504054,
          134.26431330518474,
          134.38088960532895,
          134.49746590547312,
          134.61404220561732,
          134.73061850576153,
          134.84719480590573,
          134.96377110604993,
          135.08034740619414,
          135.19692370633834,
          135.31350000648254,
          135.43007630662675,
          135.54665260677095,
          135.66322890691515,
          135.77980520705933,
          135.89638150720353,
          136.01295780734773,
          136.12953410749193,
          136.24611040763614,
          136.36268670778034,
          136.47926300792454,
          136.59583930806875,
          136.71241560821295,
          136.82899190835715,
          136.94556820850136,
          137.06214450864553,
          137.17872080878973,
          137.29529710893394,
          137.41187340907814,
          137.52844970922234,
          137.64502600936655,
          137.76160230951075,
          137.87817860965495,
          137.99475490979916,
          138.11133120994333,
          138.22790751008756,
          138.34448381023174,
          138.46106011037594,
          138.57763641052014,
          138.69421271066435,
          138.81078901080855,
          138.92736531095275,
          139.04394161109695,
          139.16051791124116,
          139.27709421138536,
          139.39367051152954,
          139.51024681167374,
          139.62682311181794,
          139.74339941196214,
          139.85997571210635,
          139.97655201225055,
          140.09312831239475,
          140.20970461253896,
          140.32628091268316,
          140.44285721282733,
          140.55943351297157,
          140.67600981311574,
          140.79258611325994,
          140.90916241340415,
          141.02573871354835,
          141.14231501369255,
          141.25889131383676,
          141.37546761398096,
          141.49204391412516,
          141.60862021426937,
          141.72519651441354,
          141.84177281455777,
          141.95834911470195,
          142.07492541484615,
          142.19150171499035,
          142.30807801513456,
          142.42465431527876,
          142.54123061542296,
          142.65780691556716,
          142.77438321571134,
          142.89095951585557,
          143.00753581599974,
          143.12411211614395,
          143.24068841628815,
          143.35726471643235,
          143.47384101657656,
          143.59041731672076,
          143.70699361686496,
          143.82356991700917,
          143.94014621715337,
          144.05672251729757,
          144.17329881744178,
          144.28987511758595,
          144.40645141773018,
          144.52302771787436,
          144.63960401801856,
          144.75618031816276,
          144.87275661830697,
          144.98933291845117,
          145.10590921859534,
          145.22248551873957,
          145.33906181888375,
          145.45563811902795,
          145.57221441917216,
          145.68879071931636,
          145.80536701946056,
          145.92194331960476,
          146.03851961974897,
          146.15509591989317,
          146.27167222003737,
          146.38824852018158,
          146.50482482032578,
          146.62140112046995,
          146.7379774206142,
          146.85455372075836,
          146.97113002090256,
          147.08770632104677,
          147.20428262119097,
          147.32085892133517,
          147.43743522147938,
          147.55401152162358,
          147.67058782176778,
          147.78716412191199,
          147.90374042205616,
          148.02031672220036,
          148.13689302234457,
          148.25346932248877,
          148.37004562263297,
          148.48662192277718,
          148.60319822292138,
          148.71977452306558,
          148.83635082320978,
          148.95292712335396,
          149.0695034234982,
          149.18607972364237,
          149.30265602378657,
          149.41923232393077,
          149.53580862407497,
          149.65238492421918,
          149.76896122436338,
          149.88553752450758,
          150.0021138246518,
          150.118690124796,
          150.23526642494016,
          150.3518427250844,
          150.46841902522857,
          150.58499532537277,
          150.70157162551698,
          150.81814792566118,
          150.93472422580538,
          151.05130052594959,
          151.1678768260938,
          151.28445312623796,
          151.4010294263822,
          151.51760572652637,
          151.63418202667057,
          151.75075832681478,
          151.86733462695898,
          151.98391092710318,
          152.10048722724738,
          152.2170635273916,
          152.3336398275358,
          152.45021612768,
          152.56679242782417,
          152.6833687279684,
          152.79994502811257,
          152.91652132825678,
          153.03309762840098,
          153.14967392854518,
          153.2662502286894,
          153.3828265288336,
          153.4994028289778,
          153.615979129122,
          153.7325554292662,
          153.84913172941037,
          153.96570802955458,
          154.08228432969878,
          154.19886062984298,
          154.3154369299872,
          154.4320132301314,
          154.5485895302756,
          154.6651658304198,
          154.781742130564,
          154.8983184307082,
          155.0148947308524,
          155.13147103099658,
          155.2480473311408,
          155.36462363128499,
          155.4811999314292,
          155.5977762315734,
          155.7143525317176,
          155.8309288318618,
          155.947505132006,
          156.0640814321502,
          156.1806577322944,
          156.2972340324386,
          156.41381033258278,
          156.53038663272702,
          156.6469629328712,
          156.7635392330154,
          156.8801155331596,
          156.9966918333038,
          157.113268133448,
          157.2298444335922,
          157.3464207337364,
          157.46299703388058,
          157.57957333402481,
          157.696149634169,
          157.8127259343132,
          157.9293022344574,
          158.0458785346016,
          158.1624548347458,
          158.27903113489,
          158.3956074350342,
          158.5121837351784,
          158.6287600353226,
          158.7453363354668,
          158.86191263561102,
          158.9784889357552,
          159.0950652358994,
          159.2116415360436,
          159.3282178361878,
          159.444794136332,
          159.5613704364762,
          159.6779467366204,
          159.7945230367646,
          159.91109933690882,
          160.027675637053,
          160.1442519371972,
          160.2608282373414,
          160.3774045374856,
          160.4939808376298,
          160.610557137774,
          160.7271334379182,
          160.84370973806242,
          160.96028603820662,
          161.0768623383508,
          161.19343863849502,
          161.3100149386392,
          161.4265912387834,
          161.5431675389276,
          161.6597438390718,
          161.776320139216,
          161.89289643936021,
          162.00947273950442,
          162.12604903964862,
          162.24262533979282,
          162.35920163993703,
          162.4757779400812,
          162.5923542402254,
          162.7089305403696,
          162.8255068405138,
          162.942083140658,
          163.05865944080222,
          163.17523574094642,
          163.29181204109062,
          163.40838834123483,
          163.52496464137903,
          163.6415409415232,
          163.75811724166743,
          163.8746935418116,
          163.9912698419558,
          164.10784614210002
         ],
         "xaxis": "x",
         "y": [
          0.002911570539904728,
          0.0029685557745714342,
          0.003026560031664662,
          0.0030856212717113723,
          0.0031457783055602296,
          0.0032070707195276296,
          0.0032695387968412052,
          0.0033332234356767223,
          0.0033981660641044993,
          0.0034644085522796053,
          0.003531993122226825,
          0.0036009622555866374,
          0.003671358599701056,
          0.0037432248724298908,
          0.0038166037660965087,
          0.0038915378509695076,
          0.0039680694786910125,
          0.004046240686065014,
          0.00412609309961912,
          0.004207667841350735,
          0.004291005436064187,
          0.004376145720698169,
          0.004463127756033504,
          0.004551989741159728,
          0.004642768931064694,
          0.004735501557695449,
          0.004830222754820087,
          0.004926966486999945,
          0.005025765482959248,
          0.005126651173614732,
          0.005229653635002245,
          0.005334801536309285,
          0.005442122093194144,
          0.005551641026541315,
          0.005663382526772245,
          0.005777369223797846,
          0.0058936221626661395,
          0.006012160784925638,
          0.006133002915690194,
          0.0062561647563582345,
          0.006381660882904838,
          0.006509504249631482,
          0.006639706198226186,
          0.00677227647195326,
          0.006907223234761754,
          0.007044553095070632,
          0.007184271133960513,
          0.007326380937474003,
          0.007470884632701498,
          0.00761778292730564,
          0.007767075152115827,
          0.007918759306405176,
          0.008072832105445148,
          0.008229289029918827,
          0.008388124376762193,
          0.008549331310993438,
          0.008712901918084635,
          0.008878827256426325,
          0.00904709740943586,
          0.009217701536862948,
          0.009390627924851328,
          0.00956586403432492,
          0.009743396547277978,
          0.009923211410564091,
          0.010105293876796647,
          0.01028962854199361,
          0.010476199379622938,
          0.010664989770731666,
          0.010855982529868354,
          0.011049159926542202,
          0.011244503701992493,
          0.011441995081078776,
          0.011641614779138783,
          0.011843343003698312,
          0.012047159450959513,
          0.012253043297032449,
          0.012460973183918202,
          0.012670927200293627,
          0.012882882857190522,
          0.0130968170587049,
          0.013312706067914869,
          0.01353052546822683,
          0.013750250120411865,
          0.013971854115633406,
          0.014195310724806422,
          0.014420592344665487,
          0.01464767044095346,
          0.014876515489176033,
          0.015107096913396869,
          0.015339383023576045,
          0.015573340951979188,
          0.015808936589204847,
          0.016046134520396844,
          0.016284897962220955,
          0.0165251887011968,
          0.016766967033981464,
          0.017010191710203754,
          0.017254819878445876,
          0.017500807035963132,
          0.017748106982721567,
          0.017996671780318614,
          0.01824645171633219,
          0.01849739527462024,
          0.018749449112064526,
          0.01900255804222051,
          0.019256665026299233,
          0.019511711171866532,
          0.01976763573960175,
          0.020024376158409976,
          0.02028186804913288,
          0.020540045257047862,
          0.020798839893290608,
          0.021058182385276864,
          0.02131800153613925,
          0.021578224593131384,
          0.021838777324890812,
          0.022099584107385183,
          0.02236056801830308,
          0.022621650939586027,
          0.022882753667733263,
          0.02314379603144841,
          0.023404697016135026,
          0.023665374894687237,
          0.023925747363965015,
          0.02418573168628722,
          0.024445244835224582,
          0.024704203644926283,
          0.02496252496216916,
          0.02522012580027902,
          0.0254769234940382,
          0.02573283585466393,
          0.02598778132391765,
          0.026241679126386294,
          0.02649444941896462,
          0.026746013436560793,
          0.026996293633047917,
          0.027245213816490945,
          0.027492699277691737,
          0.027738676911115284,
          0.02798307532728707,
          0.028225824955786114,
          0.028466858137997195,
          0.02870610920883463,
          0.028943514566702355,
          0.02917901273101466,
          0.02941254438666807,
          0.029644052414926108,
          0.029873481910253952,
          0.030100780182722976,
          0.030325896745689144,
          0.030548783288540056,
          0.03076939363439802,
          0.0309876836827617,
          0.03120361133716861,
          0.031417136418058496,
          0.03162822056112048,
          0.03183682710150631,
          0.03204292094439441,
          0.032246468422488454,
          0.03244743714113321,
          0.032645795811825855,
          0.03284151407499496,
          0.03303456231300751,
          0.03322491145445074,
          0.03341253277081507,
          0.03359739766677878,
          0.033779477465364104,
          0.03395874318929625,
          0.034135165339950466,
          0.03430871367532021,
          0.034479356988477136,
          0.03464706288802471,
          0.034811797582067504,
          0.034973525667231074,
          0.035132209924269624,
          0.03528781112179179,
          0.03544028782961831,
          0.0355895962432594,
          0.03573569002096295,
          0.03587852013474002,
          0.03601803473671783,
          0.036154179042107194,
          0.0362868952299977,
          0.03641612236311079,
          0.03654179632755272,
          0.036663849793509194,
          0.03678221219771934,
          0.03689680974845387,
          0.037007565453604514,
          0.03711439917236729,
          0.03721722769087443,
          0.03731596482199656,
          0.03741052152940122,
          0.037500806075815435,
          0.03758672419530001,
          0.03766817928920262,
          0.03774507264531586,
          0.03781730367962701,
          0.03788477019990813,
          0.03794736869025949,
          0.03800499461558818,
          0.038057542744875744,
          0.038104907491966544,
          0.03814698327249213,
          0.03818366487543743,
          0.038214847847751615,
          0.038240428890313635,
          0.03826030626347495,
          0.03827438020032797,
          0.038282553325780726,
          0.03828473107946295,
          0.038280822140443226,
          0.03827073885170247,
          0.03825439764228596,
          0.03823171944504452,
          0.03820263010787554,
          0.03816706079638655,
          0.03812494838592665,
          0.0380762358409677,
          0.038020872579861587,
          0.03795881482305961,
          0.03789002592294721,
          0.037814476673527095,
          0.03773214559827279,
          0.0376430192145739,
          0.03754709227330199,
          0.0374443679721423,
          0.037334858141461806,
          0.03721858340161358,
          0.03709557329071706,
          0.03696586636209545,
          0.03682951025070072,
          0.036686561708006965,
          0.036537086605009095,
          0.0363811599031195,
          0.03621886559291411,
          0.036050296600836924,
          0.03587555466413005,
          0.03569475017441211,
          0.0355080019904816,
          0.0353154372210716,
          0.0351171909784291,
          0.034913406103731726,
          0.03470423286549159,
          0.03448982863222289,
          0.03427035752077214,
          0.03404599002182303,
          0.03381690260419249,
          0.03358327729962964,
          0.03334530126991631,
          0.033103166358142304,
          0.03285706862609531,
          0.032607207879758404,
          0.032353787184952854,
          0.03209701237519545,
          0.03183709155386109,
          0.031574234592750786,
          0.03130865262916291,
          0.031040557563554477,
          0.030770161559852825,
          0.03049767655044513,
          0.03022331374782717,
          0.02994728316483777,
          0.029669793145339268,
          0.02939104990713101,
          0.02911125709879877,
          0.02883061537211293,
          0.02854932197148772,
          0.028267570341909187,
          0.02798554975662862,
          0.027703444965798275,
          0.02742143586710641,
          0.027139697199342856,
          0.026858398259695448,
          0.026577702645448443,
          0.026297768020619894,
          0.026018745907942793,
          0.025740781506459094,
          0.025464013534867533,
          0.025188574100628938,
          0.024914588594712506,
          0.024642175611733312,
          0.02437144689511671,
          0.02410250730680367,
          0.023835454820902918,
          0.023570380540587833,
          0.023307368737438102,
          0.02304649691233202,
          0.022787835876910773,
          0.02253144985455879,
          0.022277396599772615,
          0.02202572753473058,
          0.02177648790182271,
          0.021529716930854134,
          0.021285448019601177,
          0.021043708926371554,
          0.020804521973201706,
          0.020567904258315273,
          0.020333867876466055,
          0.020102420145793647,
          0.019873563839840513,
          0.019647297423396853,
          0.019423615290875385,
          0.01920250800595297,
          0.018983962541262923,
          0.018767962516971992,
          0.018554488437132796,
          0.018343517922765833,
          0.018135025940689987,
          0.017928985027194776,
          0.017725365505717485,
          0.017524135697771948,
          0.017325262126449758,
          0.017128709711901047,
          0.016934441958281875,
          0.016742421131740605,
          0.01655260842909759,
          0.016364964136956445,
          0.016179447781065958,
          0.01599601826583082,
          0.01581463400394934,
          0.01563525303622732,
          0.015457833141691841,
          0.015282331938195145,
          0.01510870697376213,
          0.014936915808995206,
          0.014766916090903952,
          0.01459866561857717,
          0.014432122401158397,
          0.014267244708625476,
          0.014103991115907231,
          0.013942320540899044,
          0.013782192276958522,
          0.01362356602048179,
          0.01346640189416789,
          0.013310660466585732,
          0.01315630276865605,
          0.013003290307654987,
          0.012851585079334446,
          0.01270114957873721,
          0.012551946810265727,
          0.012403940297535377,
          0.012257094093515568,
          0.012111372791428031,
          0.011966741536834623,
          0.011823166041308104,
          0.01168061259803664,
          0.011539048099668504,
          0.011398440058657708,
          0.011258756630322993,
          0.011119966638784966,
          0.010982039605897555,
          0.01084494578323928,
          0.01070865618718381,
          0.010573142637019087,
          0.010438377796038758,
          0.01030433521548399,
          0.010170989381170122,
          0.010038315762591638,
          0.00990629086425944,
          0.009774892278988676,
          0.009644098742821837,
          0.009513890191242245,
          0.009384247816305277,
          0.00925515412429294,
          0.009126592993476578,
          0.00899854973155758,
          0.008871011132343398,
          0.00874396553120868,
          0.008617402858886299,
          0.008491314693132974,
          0.008365694307818184,
          0.008240536718990017,
          0.008115838727484828,
          0.007991598957659324,
          0.00786781789184198,
          0.007744497900120947,
          0.007621643265108422,
          0.007499260201347881,
          0.007377356869058229,
          0.007255943381939865,
          0.007135031808799808,
          0.007014636168787575,
          0.006894772420067518,
          0.0067754584417921695,
          0.006656714009275964,
          0.006538560762308454,
          0.006421022166583391,
          0.006304123468258204,
          0.006187891641696834,
          0.006072355330485116,
          0.0059575447818461065,
          0.005843491774615859,
          0.005730229540977388,
          0.005617792682180797,
          0.00550621707851019,
          0.005395539793787138,
          0.005285798974727687,
          0.005177033745495397,
          0.005069284097816258,
          0.0049625907770416665,
          0.004856995164564413,
          0.00475253915700908,
          0.004649265042630357,
          0.004547215375365592,
          0.004446432846994985,
          0.004346960157869356,
          0.004248839886669066,
          0.004152114359658336,
          0.004056825519898572,
          0.003963014796880042,
          0.0038707229770261705,
          0.0037799900755164186,
          0.0036908552098645873,
          0.003603356475676713,
          0.0035175308250006126,
          0.0034334139476631348,
          0.0033510401559754704,
          0.003270442273168807,
          0.0031916515259040987,
          0.00311469744117941,
          0.0030396077479380606,
          0.002966408283659103,
          0.0028951229061894876,
          0.002825773411055746,
          0.0027583794544684755,
          0.0026929584822123825,
          0.0026295256645895815,
          0.0025680938375622886,
          0.002508673450217842,
          0.002451272518656732,
          0.0023958965863821536,
          0.0023425486912484156,
          0.002291229339003918,
          0.002241936483444501,
          0.0021946655131732246,
          0.002149409244942821,
          0.002106157923540052,
          0.0020648992281523428,
          0.002025618285141243,
          0.001988297687130959,
          0.0019529175183051093,
          0.0019194553857908281,
          0.0018878864569954095,
          0.0018581835027487055,
          0.0018303169460917692,
          0.0018042549165421006,
          0.001779963309654619,
          0.0017574058516884384,
          0.0017365441691803087,
          0.0017173378632173745,
          0.0016997445881941947,
          0.001683720134832004,
          0.0016692185172314986,
          0.00165619206372464,
          0.0016445915112854627,
          0.0016343661032546788,
          0.001625463690128691,
          0.0016178308331591341,
          0.001611412910505599,
          0.0016061542256807892,
          0.0016019981180244146,
          0.0015988870749396261,
          0.0015967628456235014,
          0.00159556655602138,
          0.0015952388247332569,
          0.0015957198795994749,
          0.0015969496746921488,
          0.0015988680074384978,
          0.0016014146356023455,
          0.0016045293938505491,
          0.0016081523096321219,
          0.001612223718099201,
          0.001616684375801008,
          0.0016214755728843032,
          0.0016265392435368725,
          0.0016318180744141432,
          0.0016372556107930479,
          0.0016427963602021125,
          0.0016483858932820371,
          0.0016539709416370494,
          0.0016594994924440084,
          0.0016649208795935766,
          0.0016701858711458174,
          0.0016752467528913097,
          0.001680057407818338,
          0.0016845733912967684,
          0.0016887520018001388,
          0.0016925523469989135,
          0.0016959354050700638,
          0.00169886408108091,
          0.0017013032583185997,
          0.0017032198444505953,
          0.001704582812416092,
          0.0017053632359633748,
          0.0017055343197636059,
          0.001705071424047496,
          0.0017039520837275886,
          0.0017021560219854701,
          0.0016996651583200209
         ],
         "yaxis": "y",
         "type": "scatter"
        },
        {
         "legendgroup": "Average",
         "marker": {
          "color": "rgb(31, 119, 180)",
          "symbol": "line-ns-open"
         },
         "mode": "markers",
         "name": "Average",
         "showlegend": false,
         "x": [
          39.853846153846156,
          28.930232558139537,
          24.904761904761905,
          30.142857142857142,
          28.051612903225806,
          27.71153846153846,
          39.65873015873016,
          35.65853658536585,
          40.042682926829265,
          28.392857142857142,
          35.99212598425197,
          31.00735294117647,
          24.75,
          28.471910112359552,
          28.43010752688172,
          37.71578947368421,
          28.55294117647059,
          28.40495867768595,
          26.320652173913043,
          44.65714285714286,
          35.53333333333333,
          25.93069306930693,
          22.811965811965813,
          29.015037593984964,
          39.12686567164179,
          28.344086021505376,
          22.603174603174605,
          30.980392156862745,
          28.233766233766232,
          27.39814814814815,
          26.93975903614458,
          41.75438596491228,
          29.730941704035875,
          35.45161290322581,
          27.522222222222222,
          35.07253886010363,
          31.805309734513273,
          39.507936507936506,
          32.37426900584796,
          34.65277777777778,
          33.82608695652174,
          30.793650793650794,
          31.948979591836736,
          30.6875,
          37.83529411764706,
          38.71497584541063,
          27.555555555555557,
          24.24793388429752,
          29.29090909090909,
          24.81081081081081
         ],
         "xaxis": "x",
         "y": [
          "Average",
          "Average",
          "Average",
          "Average",
          "Average",
          "Average",
          "Average",
          "Average",
          "Average",
          "Average",
          "Average",
          "Average",
          "Average",
          "Average",
          "Average",
          "Average",
          "Average",
          "Average",
          "Average",
          "Average",
          "Average",
          "Average",
          "Average",
          "Average",
          "Average",
          "Average",
          "Average",
          "Average",
          "Average",
          "Average",
          "Average",
          "Average",
          "Average",
          "Average",
          "Average",
          "Average",
          "Average",
          "Average",
          "Average",
          "Average",
          "Average",
          "Average",
          "Average",
          "Average",
          "Average",
          "Average",
          "Average",
          "Average",
          "Average",
          "Average"
         ],
         "yaxis": "y2",
         "type": "scatter"
        },
        {
         "legendgroup": "Strike Rate",
         "marker": {
          "color": "rgb(255, 127, 14)",
          "symbol": "line-ns-open"
         },
         "mode": "markers",
         "name": "Strike Rate",
         "showlegend": false,
         "x": [
          148.58044164037855,
          164.22442244224422,
          123.34905660377358,
          120.32141005702437,
          124.58452722063038,
          126.84859154929578,
          142.1217292377702,
          134.68447719944726,
          135.4299855640338,
          132.27953410981698,
          133.07132459970887,
          119.66515323496027,
          150.4885993485342,
          139.69128996692393,
          132.79758915118032,
          142.23898372369987,
          105.93627237014405,
          140.45770331017573,
          131.35340385136968,
          131.05086640581328,
          122.95271049596307,
          118.61413043478262,
          128.25564632388276,
          117.36618004866179,
          132.8350646060299,
          130.81885856079404,
          116.62571662571663,
          131.12033195020746,
          113.34723670490095,
          124.4322960470984,
          135.51515151515153,
          133.63279056709715,
          127.91819409608335,
          143.59756097560975,
          126.15227909345556,
          123.45431333211745,
          142.50594766058683,
          130.10977522216413,
          132.53531242518554,
          124.81240620310155,
          114.18786692759295,
          134.1632088520055,
          123.02554027504911,
          135.1376146788991,
          132.23684210526315,
          128.51186658114176,
          148.82705946535734,
          123.90202702702702,
          138.04627249357327,
          124.78477571363842
         ],
         "xaxis": "x",
         "y": [
          "Strike Rate",
          "Strike Rate",
          "Strike Rate",
          "Strike Rate",
          "Strike Rate",
          "Strike Rate",
          "Strike Rate",
          "Strike Rate",
          "Strike Rate",
          "Strike Rate",
          "Strike Rate",
          "Strike Rate",
          "Strike Rate",
          "Strike Rate",
          "Strike Rate",
          "Strike Rate",
          "Strike Rate",
          "Strike Rate",
          "Strike Rate",
          "Strike Rate",
          "Strike Rate",
          "Strike Rate",
          "Strike Rate",
          "Strike Rate",
          "Strike Rate",
          "Strike Rate",
          "Strike Rate",
          "Strike Rate",
          "Strike Rate",
          "Strike Rate",
          "Strike Rate",
          "Strike Rate",
          "Strike Rate",
          "Strike Rate",
          "Strike Rate",
          "Strike Rate",
          "Strike Rate",
          "Strike Rate",
          "Strike Rate",
          "Strike Rate",
          "Strike Rate",
          "Strike Rate",
          "Strike Rate",
          "Strike Rate",
          "Strike Rate",
          "Strike Rate",
          "Strike Rate",
          "Strike Rate",
          "Strike Rate",
          "Strike Rate"
         ],
         "yaxis": "y2",
         "type": "scatter"
        }
       ],
       "layout": {
        "barmode": "overlay",
        "hovermode": "closest",
        "legend": {
         "traceorder": "reversed"
        },
        "xaxis": {
         "anchor": "y2",
         "domain": [
          0.0,
          1.0
         ],
         "zeroline": false
        },
        "yaxis": {
         "anchor": "free",
         "domain": [
          0.35,
          1
         ],
         "position": 0.0
        },
        "yaxis2": {
         "anchor": "x",
         "domain": [
          0,
          0.25
         ],
         "dtick": 1,
         "showticklabels": false
        },
        "template": {
         "data": {
          "histogram2dcontour": [
           {
            "type": "histogram2dcontour",
            "colorbar": {
             "outlinewidth": 0,
             "ticks": ""
            },
            "colorscale": [
             [
              0.0,
              "#0d0887"
             ],
             [
              0.1111111111111111,
              "#46039f"
             ],
             [
              0.2222222222222222,
              "#7201a8"
             ],
             [
              0.3333333333333333,
              "#9c179e"
             ],
             [
              0.4444444444444444,
              "#bd3786"
             ],
             [
              0.5555555555555556,
              "#d8576b"
             ],
             [
              0.6666666666666666,
              "#ed7953"
             ],
             [
              0.7777777777777778,
              "#fb9f3a"
             ],
             [
              0.8888888888888888,
              "#fdca26"
             ],
             [
              1.0,
              "#f0f921"
             ]
            ]
           }
          ],
          "choropleth": [
           {
            "type": "choropleth",
            "colorbar": {
             "outlinewidth": 0,
             "ticks": ""
            }
           }
          ],
          "histogram2d": [
           {
            "type": "histogram2d",
            "colorbar": {
             "outlinewidth": 0,
             "ticks": ""
            },
            "colorscale": [
             [
              0.0,
              "#0d0887"
             ],
             [
              0.1111111111111111,
              "#46039f"
             ],
             [
              0.2222222222222222,
              "#7201a8"
             ],
             [
              0.3333333333333333,
              "#9c179e"
             ],
             [
              0.4444444444444444,
              "#bd3786"
             ],
             [
              0.5555555555555556,
              "#d8576b"
             ],
             [
              0.6666666666666666,
              "#ed7953"
             ],
             [
              0.7777777777777778,
              "#fb9f3a"
             ],
             [
              0.8888888888888888,
              "#fdca26"
             ],
             [
              1.0,
              "#f0f921"
             ]
            ]
           }
          ],
          "heatmap": [
           {
            "type": "heatmap",
            "colorbar": {
             "outlinewidth": 0,
             "ticks": ""
            },
            "colorscale": [
             [
              0.0,
              "#0d0887"
             ],
             [
              0.1111111111111111,
              "#46039f"
             ],
             [
              0.2222222222222222,
              "#7201a8"
             ],
             [
              0.3333333333333333,
              "#9c179e"
             ],
             [
              0.4444444444444444,
              "#bd3786"
             ],
             [
              0.5555555555555556,
              "#d8576b"
             ],
             [
              0.6666666666666666,
              "#ed7953"
             ],
             [
              0.7777777777777778,
              "#fb9f3a"
             ],
             [
              0.8888888888888888,
              "#fdca26"
             ],
             [
              1.0,
              "#f0f921"
             ]
            ]
           }
          ],
          "heatmapgl": [
           {
            "type": "heatmapgl",
            "colorbar": {
             "outlinewidth": 0,
             "ticks": ""
            },
            "colorscale": [
             [
              0.0,
              "#0d0887"
             ],
             [
              0.1111111111111111,
              "#46039f"
             ],
             [
              0.2222222222222222,
              "#7201a8"
             ],
             [
              0.3333333333333333,
              "#9c179e"
             ],
             [
              0.4444444444444444,
              "#bd3786"
             ],
             [
              0.5555555555555556,
              "#d8576b"
             ],
             [
              0.6666666666666666,
              "#ed7953"
             ],
             [
              0.7777777777777778,
              "#fb9f3a"
             ],
             [
              0.8888888888888888,
              "#fdca26"
             ],
             [
              1.0,
              "#f0f921"
             ]
            ]
           }
          ],
          "contourcarpet": [
           {
            "type": "contourcarpet",
            "colorbar": {
             "outlinewidth": 0,
             "ticks": ""
            }
           }
          ],
          "contour": [
           {
            "type": "contour",
            "colorbar": {
             "outlinewidth": 0,
             "ticks": ""
            },
            "colorscale": [
             [
              0.0,
              "#0d0887"
             ],
             [
              0.1111111111111111,
              "#46039f"
             ],
             [
              0.2222222222222222,
              "#7201a8"
             ],
             [
              0.3333333333333333,
              "#9c179e"
             ],
             [
              0.4444444444444444,
              "#bd3786"
             ],
             [
              0.5555555555555556,
              "#d8576b"
             ],
             [
              0.6666666666666666,
              "#ed7953"
             ],
             [
              0.7777777777777778,
              "#fb9f3a"
             ],
             [
              0.8888888888888888,
              "#fdca26"
             ],
             [
              1.0,
              "#f0f921"
             ]
            ]
           }
          ],
          "surface": [
           {
            "type": "surface",
            "colorbar": {
             "outlinewidth": 0,
             "ticks": ""
            },
            "colorscale": [
             [
              0.0,
              "#0d0887"
             ],
             [
              0.1111111111111111,
              "#46039f"
             ],
             [
              0.2222222222222222,
              "#7201a8"
             ],
             [
              0.3333333333333333,
              "#9c179e"
             ],
             [
              0.4444444444444444,
              "#bd3786"
             ],
             [
              0.5555555555555556,
              "#d8576b"
             ],
             [
              0.6666666666666666,
              "#ed7953"
             ],
             [
              0.7777777777777778,
              "#fb9f3a"
             ],
             [
              0.8888888888888888,
              "#fdca26"
             ],
             [
              1.0,
              "#f0f921"
             ]
            ]
           }
          ],
          "mesh3d": [
           {
            "type": "mesh3d",
            "colorbar": {
             "outlinewidth": 0,
             "ticks": ""
            }
           }
          ],
          "scatter": [
           {
            "fillpattern": {
             "fillmode": "overlay",
             "size": 10,
             "solidity": 0.2
            },
            "type": "scatter"
           }
          ],
          "parcoords": [
           {
            "type": "parcoords",
            "line": {
             "colorbar": {
              "outlinewidth": 0,
              "ticks": ""
             }
            }
           }
          ],
          "scatterpolargl": [
           {
            "type": "scatterpolargl",
            "marker": {
             "colorbar": {
              "outlinewidth": 0,
              "ticks": ""
             }
            }
           }
          ],
          "bar": [
           {
            "error_x": {
             "color": "#2a3f5f"
            },
            "error_y": {
             "color": "#2a3f5f"
            },
            "marker": {
             "line": {
              "color": "#E5ECF6",
              "width": 0.5
             },
             "pattern": {
              "fillmode": "overlay",
              "size": 10,
              "solidity": 0.2
             }
            },
            "type": "bar"
           }
          ],
          "scattergeo": [
           {
            "type": "scattergeo",
            "marker": {
             "colorbar": {
              "outlinewidth": 0,
              "ticks": ""
             }
            }
           }
          ],
          "scatterpolar": [
           {
            "type": "scatterpolar",
            "marker": {
             "colorbar": {
              "outlinewidth": 0,
              "ticks": ""
             }
            }
           }
          ],
          "histogram": [
           {
            "marker": {
             "pattern": {
              "fillmode": "overlay",
              "size": 10,
              "solidity": 0.2
             }
            },
            "type": "histogram"
           }
          ],
          "scattergl": [
           {
            "type": "scattergl",
            "marker": {
             "colorbar": {
              "outlinewidth": 0,
              "ticks": ""
             }
            }
           }
          ],
          "scatter3d": [
           {
            "type": "scatter3d",
            "line": {
             "colorbar": {
              "outlinewidth": 0,
              "ticks": ""
             }
            },
            "marker": {
             "colorbar": {
              "outlinewidth": 0,
              "ticks": ""
             }
            }
           }
          ],
          "scattermapbox": [
           {
            "type": "scattermapbox",
            "marker": {
             "colorbar": {
              "outlinewidth": 0,
              "ticks": ""
             }
            }
           }
          ],
          "scatterternary": [
           {
            "type": "scatterternary",
            "marker": {
             "colorbar": {
              "outlinewidth": 0,
              "ticks": ""
             }
            }
           }
          ],
          "scattercarpet": [
           {
            "type": "scattercarpet",
            "marker": {
             "colorbar": {
              "outlinewidth": 0,
              "ticks": ""
             }
            }
           }
          ],
          "carpet": [
           {
            "aaxis": {
             "endlinecolor": "#2a3f5f",
             "gridcolor": "white",
             "linecolor": "white",
             "minorgridcolor": "white",
             "startlinecolor": "#2a3f5f"
            },
            "baxis": {
             "endlinecolor": "#2a3f5f",
             "gridcolor": "white",
             "linecolor": "white",
             "minorgridcolor": "white",
             "startlinecolor": "#2a3f5f"
            },
            "type": "carpet"
           }
          ],
          "table": [
           {
            "cells": {
             "fill": {
              "color": "#EBF0F8"
             },
             "line": {
              "color": "white"
             }
            },
            "header": {
             "fill": {
              "color": "#C8D4E3"
             },
             "line": {
              "color": "white"
             }
            },
            "type": "table"
           }
          ],
          "barpolar": [
           {
            "marker": {
             "line": {
              "color": "#E5ECF6",
              "width": 0.5
             },
             "pattern": {
              "fillmode": "overlay",
              "size": 10,
              "solidity": 0.2
             }
            },
            "type": "barpolar"
           }
          ],
          "pie": [
           {
            "automargin": true,
            "type": "pie"
           }
          ]
         },
         "layout": {
          "autotypenumbers": "strict",
          "colorway": [
           "#636efa",
           "#EF553B",
           "#00cc96",
           "#ab63fa",
           "#FFA15A",
           "#19d3f3",
           "#FF6692",
           "#B6E880",
           "#FF97FF",
           "#FECB52"
          ],
          "font": {
           "color": "#2a3f5f"
          },
          "hovermode": "closest",
          "hoverlabel": {
           "align": "left"
          },
          "paper_bgcolor": "white",
          "plot_bgcolor": "#E5ECF6",
          "polar": {
           "bgcolor": "#E5ECF6",
           "angularaxis": {
            "gridcolor": "white",
            "linecolor": "white",
            "ticks": ""
           },
           "radialaxis": {
            "gridcolor": "white",
            "linecolor": "white",
            "ticks": ""
           }
          },
          "ternary": {
           "bgcolor": "#E5ECF6",
           "aaxis": {
            "gridcolor": "white",
            "linecolor": "white",
            "ticks": ""
           },
           "baxis": {
            "gridcolor": "white",
            "linecolor": "white",
            "ticks": ""
           },
           "caxis": {
            "gridcolor": "white",
            "linecolor": "white",
            "ticks": ""
           }
          },
          "coloraxis": {
           "colorbar": {
            "outlinewidth": 0,
            "ticks": ""
           }
          },
          "colorscale": {
           "sequential": [
            [
             0.0,
             "#0d0887"
            ],
            [
             0.1111111111111111,
             "#46039f"
            ],
            [
             0.2222222222222222,
             "#7201a8"
            ],
            [
             0.3333333333333333,
             "#9c179e"
            ],
            [
             0.4444444444444444,
             "#bd3786"
            ],
            [
             0.5555555555555556,
             "#d8576b"
            ],
            [
             0.6666666666666666,
             "#ed7953"
            ],
            [
             0.7777777777777778,
             "#fb9f3a"
            ],
            [
             0.8888888888888888,
             "#fdca26"
            ],
            [
             1.0,
             "#f0f921"
            ]
           ],
           "sequentialminus": [
            [
             0.0,
             "#0d0887"
            ],
            [
             0.1111111111111111,
             "#46039f"
            ],
            [
             0.2222222222222222,
             "#7201a8"
            ],
            [
             0.3333333333333333,
             "#9c179e"
            ],
            [
             0.4444444444444444,
             "#bd3786"
            ],
            [
             0.5555555555555556,
             "#d8576b"
            ],
            [
             0.6666666666666666,
             "#ed7953"
            ],
            [
             0.7777777777777778,
             "#fb9f3a"
            ],
            [
             0.8888888888888888,
             "#fdca26"
            ],
            [
             1.0,
             "#f0f921"
            ]
           ],
           "diverging": [
            [
             0,
             "#8e0152"
            ],
            [
             0.1,
             "#c51b7d"
            ],
            [
             0.2,
             "#de77ae"
            ],
            [
             0.3,
             "#f1b6da"
            ],
            [
             0.4,
             "#fde0ef"
            ],
            [
             0.5,
             "#f7f7f7"
            ],
            [
             0.6,
             "#e6f5d0"
            ],
            [
             0.7,
             "#b8e186"
            ],
            [
             0.8,
             "#7fbc41"
            ],
            [
             0.9,
             "#4d9221"
            ],
            [
             1,
             "#276419"
            ]
           ]
          },
          "xaxis": {
           "gridcolor": "white",
           "linecolor": "white",
           "ticks": "",
           "title": {
            "standoff": 15
           },
           "zerolinecolor": "white",
           "automargin": true,
           "zerolinewidth": 2
          },
          "yaxis": {
           "gridcolor": "white",
           "linecolor": "white",
           "ticks": "",
           "title": {
            "standoff": 15
           },
           "zerolinecolor": "white",
           "automargin": true,
           "zerolinewidth": 2
          },
          "scene": {
           "xaxis": {
            "backgroundcolor": "#E5ECF6",
            "gridcolor": "white",
            "linecolor": "white",
            "showbackground": true,
            "ticks": "",
            "zerolinecolor": "white",
            "gridwidth": 2
           },
           "yaxis": {
            "backgroundcolor": "#E5ECF6",
            "gridcolor": "white",
            "linecolor": "white",
            "showbackground": true,
            "ticks": "",
            "zerolinecolor": "white",
            "gridwidth": 2
           },
           "zaxis": {
            "backgroundcolor": "#E5ECF6",
            "gridcolor": "white",
            "linecolor": "white",
            "showbackground": true,
            "ticks": "",
            "zerolinecolor": "white",
            "gridwidth": 2
           }
          },
          "shapedefaults": {
           "line": {
            "color": "#2a3f5f"
           }
          },
          "annotationdefaults": {
           "arrowcolor": "#2a3f5f",
           "arrowhead": 0,
           "arrowwidth": 1
          },
          "geo": {
           "bgcolor": "white",
           "landcolor": "#E5ECF6",
           "subunitcolor": "white",
           "showland": true,
           "showlakes": true,
           "lakecolor": "white"
          },
          "title": {
           "x": 0.05
          },
          "mapbox": {
           "style": "light"
          }
         }
        }
       },
       "config": {
        "plotlyServerURL": "https://plot.ly"
       }
      },
      "text/html": [
       "<div>                            <div id=\"3fbe1e46-e26d-43a6-bc02-8c0187eff1f9\" class=\"plotly-graph-div\" style=\"height:525px; width:100%;\"></div>            <script type=\"text/javascript\">                require([\"plotly\"], function(Plotly) {                    window.PLOTLYENV=window.PLOTLYENV || {};                                    if (document.getElementById(\"3fbe1e46-e26d-43a6-bc02-8c0187eff1f9\")) {                    Plotly.newPlot(                        \"3fbe1e46-e26d-43a6-bc02-8c0187eff1f9\",                        [{\"autobinx\":false,\"histnorm\":\"probability density\",\"legendgroup\":\"Average\",\"marker\":{\"color\":\"rgb(31, 119, 180)\"},\"name\":\"Average\",\"opacity\":0.7,\"x\":[39.853846153846156,28.930232558139537,24.904761904761905,30.142857142857142,28.051612903225806,27.71153846153846,39.65873015873016,35.65853658536585,40.042682926829265,28.392857142857142,35.99212598425197,31.00735294117647,24.75,28.471910112359552,28.43010752688172,37.71578947368421,28.55294117647059,28.40495867768595,26.320652173913043,44.65714285714286,35.53333333333333,25.93069306930693,22.811965811965813,29.015037593984964,39.12686567164179,28.344086021505376,22.603174603174605,30.980392156862745,28.233766233766232,27.39814814814815,26.93975903614458,41.75438596491228,29.730941704035875,35.45161290322581,27.522222222222222,35.07253886010363,31.805309734513273,39.507936507936506,32.37426900584796,34.65277777777778,33.82608695652174,30.793650793650794,31.948979591836736,30.6875,37.83529411764706,38.71497584541063,27.555555555555557,24.24793388429752,29.29090909090909,24.81081081081081],\"xaxis\":\"x\",\"xbins\":{\"end\":44.65714285714286,\"size\":10,\"start\":22.603174603174605},\"yaxis\":\"y\",\"type\":\"histogram\"},{\"autobinx\":false,\"histnorm\":\"probability density\",\"legendgroup\":\"Strike Rate\",\"marker\":{\"color\":\"rgb(255, 127, 14)\"},\"name\":\"Strike Rate\",\"opacity\":0.7,\"x\":[148.58044164037855,164.22442244224422,123.34905660377358,120.32141005702437,124.58452722063038,126.84859154929578,142.1217292377702,134.68447719944726,135.4299855640338,132.27953410981698,133.07132459970887,119.66515323496027,150.4885993485342,139.69128996692393,132.79758915118032,142.23898372369987,105.93627237014405,140.45770331017573,131.35340385136968,131.05086640581328,122.95271049596307,118.61413043478262,128.25564632388276,117.36618004866179,132.8350646060299,130.81885856079404,116.62571662571663,131.12033195020746,113.34723670490095,124.4322960470984,135.51515151515153,133.63279056709715,127.91819409608335,143.59756097560975,126.15227909345556,123.45431333211745,142.50594766058683,130.10977522216413,132.53531242518554,124.81240620310155,114.18786692759295,134.1632088520055,123.02554027504911,135.1376146788991,132.23684210526315,128.51186658114176,148.82705946535734,123.90202702702702,138.04627249357327,124.78477571363842],\"xaxis\":\"x\",\"xbins\":{\"end\":164.22442244224422,\"size\":20,\"start\":105.93627237014405},\"yaxis\":\"y\",\"type\":\"histogram\"},{\"legendgroup\":\"Average\",\"marker\":{\"color\":\"rgb(31, 119, 180)\"},\"mode\":\"lines\",\"name\":\"Average\",\"showlegend\":false,\"x\":[22.603174603174605,22.647282539682543,22.691390476190477,22.735498412698416,22.77960634920635,22.82371428571429,22.867822222222223,22.91193015873016,22.956038095238096,23.000146031746034,23.04425396825397,23.088361904761907,23.13246984126984,23.17657777777778,23.220685714285715,23.264793650793653,23.308901587301587,23.353009523809526,23.39711746031746,23.4412253968254,23.485333333333333,23.52944126984127,23.573549206349206,23.617657142857144,23.661765079365082,23.705873015873017,23.749980952380955,23.79408888888889,23.838196825396828,23.882304761904763,23.9264126984127,23.970520634920636,24.014628571428574,24.05873650793651,24.102844444444447,24.14695238095238,24.19106031746032,24.235168253968254,24.279276190476192,24.323384126984127,24.367492063492065,24.4116,24.455707936507938,24.499815873015873,24.54392380952381,24.588031746031746,24.632139682539684,24.676247619047622,24.720355555555557,24.76446349206349,24.80857142857143,24.852679365079368,24.896787301587302,24.94089523809524,24.985003174603175,25.029111111111114,25.073219047619048,25.117326984126986,25.16143492063492,25.20554285714286,25.249650793650794,25.293758730158732,25.337866666666667,25.381974603174605,25.42608253968254,25.470190476190478,25.514298412698416,25.55840634920635,25.602514285714285,25.646622222222224,25.69073015873016,25.734838095238096,25.778946031746035,25.82305396825397,25.867161904761907,25.911269841269842,25.95537777777778,25.999485714285715,26.043593650793653,26.087701587301588,26.131809523809526,26.17591746031746,26.2200253968254,26.264133333333334,26.30824126984127,26.352349206349206,26.396457142857145,26.44056507936508,26.484673015873017,26.528780952380952,26.57288888888889,26.616996825396825,26.661104761904763,26.7052126984127,26.749320634920636,26.79342857142857,26.83753650793651,26.881644444444447,26.92575238095238,26.96986031746032,27.013968253968255,27.058076190476193,27.102184126984127,27.146292063492066,27.190400000000004,27.23450793650794,27.278615873015873,27.32272380952381,27.366831746031746,27.410939682539684,27.45504761904762,27.499155555555557,27.543263492063492,27.58737142857143,27.631479365079365,27.675587301587303,27.71969523809524,27.763803174603176,27.807911111111114,27.85201904761905,27.896126984126987,27.94023492063492,27.98434285714286,28.028450793650794,28.072558730158732,28.116666666666667,28.160774603174605,28.20488253968254,28.248990476190478,28.293098412698413,28.33720634920635,28.381314285714286,28.425422222222224,28.46953015873016,28.513638095238097,28.557746031746035,28.60185396825397,28.645961904761908,28.690069841269842,28.73417777777778,28.778285714285715,28.82239365079365,28.866501587301588,28.910609523809526,28.95471746031746,28.998825396825396,29.042933333333334,29.087041269841272,29.131149206349207,29.175257142857145,29.21936507936508,29.263473015873018,29.307580952380953,29.35168888888889,29.39579682539683,29.439904761904764,29.4840126984127,29.528120634920636,29.572228571428575,29.61633650793651,29.660444444444444,29.704552380952382,29.74866031746032,29.792768253968255,29.83687619047619,29.880984126984128,29.925092063492066,29.9692,30.01330793650794,30.057415873015874,30.101523809523812,30.145631746031746,30.189739682539685,30.233847619047623,30.277955555555558,30.322063492063492,30.36617142857143,30.41027936507937,30.454387301587303,30.498495238095238,30.542603174603176,30.586711111111114,30.63081904761905,30.674926984126984,30.719034920634922,30.76314285714286,30.807250793650795,30.85135873015873,30.895466666666668,30.939574603174606,30.98368253968254,31.02779047619048,31.071898412698417,31.11600634920635,31.160114285714286,31.20422222222222,31.24833015873016,31.292438095238097,31.336546031746032,31.38065396825397,31.42476190476191,31.468869841269843,31.512977777777778,31.557085714285716,31.601193650793654,31.64530158730159,31.689409523809523,31.73351746031746,31.7776253968254,31.821733333333334,31.86584126984127,31.909949206349207,31.954057142857145,31.99816507936508,32.04227301587302,32.086380952380956,32.13048888888889,32.174596825396826,32.21870476190476,32.2628126984127,32.30692063492064,32.35102857142857,32.39513650793651,32.43924444444445,32.48335238095238,32.52746031746032,32.57156825396825,32.615676190476194,32.65978412698413,32.70389206349206,32.748000000000005,32.79210793650794,32.836215873015874,32.88032380952381,32.92443174603174,32.968539682539685,33.01264761904762,33.056755555555554,33.100863492063496,33.14497142857143,33.189079365079365,33.23318730158731,33.27729523809524,33.32140317460318,33.36551111111111,33.409619047619046,33.45372698412699,33.49783492063492,33.54194285714286,33.5860507936508,33.63015873015873,33.67426666666667,33.71837460317461,33.76248253968254,33.80659047619048,33.850698412698414,33.89480634920635,33.93891428571429,33.983022222222225,34.02713015873016,34.071238095238094,34.11534603174603,34.15945396825397,34.203561904761905,34.24766984126984,34.29177777777778,34.335885714285716,34.37999365079365,34.424101587301585,34.46820952380953,34.51231746031746,34.5564253968254,34.60053333333333,34.64464126984127,34.68874920634921,34.73285714285714,34.776965079365084,34.82107301587302,34.86518095238095,34.90928888888889,34.95339682539683,34.997504761904764,35.0416126984127,35.085720634920634,35.129828571428575,35.17393650793651,35.218044444444445,35.26215238095239,35.30626031746032,35.350368253968256,35.39447619047619,35.438584126984125,35.48269206349207,35.5268,35.570907936507936,35.61501587301588,35.65912380952381,35.70323174603175,35.74733968253968,35.79144761904762,35.83555555555556,35.87966349206349,35.92377142857143,35.96787936507937,36.011987301587304,36.05609523809524,36.10020317460317,36.14431111111111,36.18841904761905,36.232526984126984,36.27663492063492,36.32074285714286,36.364850793650795,36.40895873015873,36.45306666666667,36.49717460317461,36.54128253968254,36.585390476190476,36.62949841269841,36.67360634920635,36.71771428571429,36.76182222222222,36.80593015873016,36.8500380952381,36.89414603174603,36.938253968253974,36.9823619047619,37.026469841269844,37.07057777777778,37.11468571428571,37.158793650793655,37.20290158730159,37.247009523809524,37.29111746031746,37.33522539682539,37.379333333333335,37.42344126984127,37.467549206349204,37.511657142857146,37.55576507936508,37.599873015873015,37.64398095238096,37.68808888888889,37.73219682539683,37.77630476190476,37.820412698412696,37.86452063492064,37.90862857142857,37.95273650793651,37.99684444444445,38.04095238095238,38.08506031746032,38.12916825396826,38.173276190476194,38.21738412698413,38.261492063492064,38.3056,38.34970793650794,38.393815873015875,38.43792380952381,38.48203174603175,38.526139682539686,38.57024761904762,38.614355555555555,38.65846349206349,38.70257142857143,38.746679365079366,38.7907873015873,38.83489523809524,38.87900317460318,38.92311111111111,38.967219047619054,39.01132698412699,39.05543492063492,39.09954285714286,39.14365079365079,39.187758730158734,39.23186666666667,39.2759746031746,39.320082539682545,39.36419047619047,39.408298412698414,39.452406349206356,39.496514285714284,39.540622222222225,39.58473015873016,39.628838095238095,39.67294603174604,39.717053968253964,39.761161904761906,39.80526984126984,39.849377777777775,39.89348571428572,39.93759365079366,39.981701587301586,40.02580952380953,40.06991746031746,40.1140253968254,40.15813333333334,40.20224126984127,40.24634920634921,40.29045714285714,40.33456507936508,40.37867301587302,40.42278095238095,40.46688888888889,40.51099682539683,40.555104761904765,40.5992126984127,40.64332063492064,40.68742857142857,40.73153650793651,40.775644444444445,40.81975238095238,40.86386031746032,40.90796825396825,40.95207619047619,40.99618412698413,41.04029206349206,41.0844,41.12850793650794,41.17261587301587,41.21672380952381,41.26083174603175,41.30493968253968,41.34904761904762,41.39315555555555,41.437263492063494,41.481371428571435,41.52547936507936,41.569587301587305,41.61369523809524,41.657803174603174,41.701911111111116,41.74601904761904,41.790126984126985,41.83423492063492,41.878342857142854,41.922450793650796,41.96655873015873,42.010666666666665,42.05477460317461,42.09888253968254,42.14299047619048,42.18709841269842,42.231206349206346,42.27531428571429,42.31942222222222,42.36353015873016,42.4076380952381,42.45174603174603,42.49585396825397,42.53996190476191,42.584069841269844,42.62817777777778,42.672285714285714,42.71639365079365,42.76050158730159,42.804609523809525,42.84871746031746,42.8928253968254,42.936933333333336,42.98104126984127,43.02514920634921,43.06925714285714,43.11336507936508,43.157473015873016,43.20158095238095,43.24568888888889,43.28979682539682,43.33390476190476,43.378012698412704,43.42212063492064,43.46622857142857,43.510336507936515,43.55444444444444,43.598552380952384,43.64266031746032,43.68676825396825,43.730876190476195,43.77498412698412,43.819092063492064,43.863200000000006,43.907307936507934,43.951415873015875,43.99552380952381,44.039631746031745,44.08373968253969,44.12784761904762,44.171955555555556,44.2160634920635,44.260171428571425,44.30427936507937,44.34838730158731,44.392495238095236,44.43660317460318,44.48071111111111,44.52481904761905,44.56892698412699,44.61303492063492],\"xaxis\":\"x\",\"y\":[0.022451299936918988,0.022829590758750268,0.023211237649958458,0.023596229746589367,0.023984555827629046,0.02437620428455337,0.024771163087743006,0.025169419749738773,0.025570961285320517,0.025975774168403104,0.02638384428575118,0.02679515688752646,0.02720969653468855,0.02762744704328452,0.028048391425668937,0.028472511828710516,0.02889978946904965,0.02933020456548439,0.029763736268571487,0.030200362587542946,0.0306400603146464,0.031082804947032847,0.03152857060632204,0.031977329955991736,0.0324290541167435,0.032883712580012256,0.03334127311979481,0.03380170170298485,0.034264962398411335,0.034731017284786767,0.03519982635778257,0.03567134743645665,0.036145536069268,0.03662234543992106,0.03710172627329099,0.03758362674168736,0.038067992371721766,0.03855476595205,0.039043887442266376,0.039535293883230925,0.04002891930911652,0.0405246946614648,0.04102254770554386,0.041522402949301804,0.04202418156521301,0.0425278013153124,0.043033176479714434,0.043540217788911734,0.04404883236014635,0.04455892363814393,0.04507039134049676,0.04558313140797749,0.04609703596006079,0.04661199325592182,0.047127887661174386,0.04764459962060403,0.048162005637140445,0.04867997825730637,0.04919838606336654,0.04971709367239123,0.050235961742434825,0.050754846986017774,0.05127360219108576,0.05179207624960619,0.052310114193945094,0.05282755724115365,0.053344242845274996,0.05386000475776648,0.05437467309611317,0.05488807442069123,0.05540003181992073,0.05591036500372791,0.056418890405318556,0.05692542129124242,0.05742976787971117,0.05793173746710854,0.05843113456261559,0.058927761030848326,0.0594214162423893,0.05991189723207,0.06039899886484435,0.06088251400906984,0.06136223371699644,0.06183794741223977,0.06230944308399958,0.06277650748776233,0.06323892635221043,0.06369648459204132,0.06414896652638291,0.06459615610247456,0.06503783712426743,0.06547379348558141,0.06590380940744334,0.06632766967921452,0.06674515990310588,0.06715606674166465,0.06756017816780727,0.06795728371696153,0.0683471747408742,0.06872964466263044,0.06910448923242518,0.06947150678362303,0.06983049848863446,0.07018126861413763,0.07052362477516878,0.07085737818760662,0.07118234391857345,0.07149834113427934,0.07180519334483693,0.07210272864557905,0.07239077995441512,0.0726691852447706,0.07293778777365797,0.07319643630443892,0.07344498532384489,0.07368329525283518,0.07391123265088193,0.07412867041328522,0.07433548796113382,0.07453157142354291,0.07471681381181439,0.07489111518518161,0.0750543828078191,0.07520653129681142,0.07534748276080008,0.07547716692903932,0.07559552127061717,0.07570249110361425,0.07579802969399572,0.07588209834405145,0.07595466647022169,0.07601571167016616,0.07606521977895722,0.07610318491429854,0.0761296095106945,0.07614450434251538,0.0761478885359272,0.0761397895696762,0.07612024326473973,0.07608929376287706,0.07604699349413488,0.07599340313338325,0.07592859154597803,0.07585263572266668,0.07576562070387347,0.07566763949351926,0.07555879296255016,0.0754391897423675,0.07530894610836744,0.07516818585381764,0.07501704015431256,0.07485564742306479,0.07468415315730506,0.07450270977607577,0.07431147644971726,0.07411061892135769,0.07390030932072798,0.073680725970635,0.07345205318643425,0.07321448106885331,0.07296820529052404,0.07271342687658948,0.07245035197975705,0.07217919165017395,0.07190016160050726,0.07161348196661248,0.07131937706417835,0.07101807514173794,0.07070980813043475,0.07039481139093715,0.07007332345788943,0.06974558578229058,0.06941184247218647,0.06907234003206256,0.0687273271013171,0.06837705419219384,0.06802177342754781,0.06766173827881297,0.06729720330453418,0.06692842388982151,0.06655565598707736,0.06617915585834036,0.06579917981958155,0.06541598398728257,0.06502982402761588,0.06464095490853916,0.0642496306551075,0.06385610410829691,0.06346062668762531,0.06306344815784556,0.06266481639997694,0.062264977186930526,0.06186417396397487,0.06146264763427739,0.06106063634974649,0.06065837530739032,0.060256096551395896,0.059854028781123045,0.059452397165196236,0.05905142316186737,0.05865132434581144,0.05825231424150707,0.05785460216334185,0.05745839306257332,0.05706388738126532,0.05667128091330794,0.05628076467261987,0.05589252476862082,0.05550674228905164,0.055123593190208216,0.05474324819464608,0.054365872696401765,0.053991626673766294,0.05362066460963615,0.05325313541945716,0.052889182386766515,0.0525289431063266,0.052172549434837345,0.05182012744920024,0.051471797412299826,0.05112767374625797,0.05078786501310494,0.05045247390280435,0.050121597228557434,0.04979532592930203,0.04947374507931513,0.04915693390481491,0.04884496580745151,0.04853790839456567,0.04823582351608494,0.047938767307919586,0.04764679024171034,0.04735993718077196,0.0470782474420684,0.04680175486404748,0.046530487880153446,0.04626446959783032,0.04600371788281881,0.04574824544854456,0.04549805995038719,0.045253164084612475,0.045013555691745165,0.0447792278641519,0.04455016905759937,0.04432636320654647,0.04410778984292489,0.04389442421815723,0.04368623742815831,0.04348319654106063,0.043285264727402455,0.0430924013925139,0.04290456231083341,0.04272169976188642,0.042543762667656,0.042370696731073465,0.042202444575359814,0.042038945883945085,0.041880137540697436,0.04172595377019322,0.041576326277761526,0.04143118438904062,0.04129045518878601,0.04115406365867406,0.04102193281385014,0.04089398383797497,0.040770136216529154,0.040650307868141555,0.04053441527371558,0.040422373603133346,0.040314096839327275,0.040209497899517,0.04010848875341836,0.04001098053824158,0.03991688367030632,0.039826107953111284,0.03973856268170778,0.03965415674323878,0.03957279871351633,0.0394943969495232,0.03941885967773707,0.039346095078189106,0.03927601136418164,0.03920851685760351,0.03914352005979536,0.03908092971793116,0.039020654886895725,0.03896260498665286,0.03890668985511184,0.03885281979651497,0.038800905625381854,0.0387508587060605,0.03870259098794881,0.03865601503646334,0.03861104405984537,0.038567591931906654,0.03852557321083118,0.038484903154159165,0.03844549773009257,0.03840727362527262,0.03837014824918913,0.03833403973539307,0.03829886693969173,0.038264549435515716,0.03823100750665473,0.03819816213756619,0.03816593500146787,0.03813424844643166,0.038103025479700056,0.03807218975045226,0.03804166553124964,0.038011377698392745,0.037981251711425267,0.03795121359201927,0.03792118990247793,0.03789110772409047,0.03786089463557231,0.03783047869182122,0.037799788403216926,0.03776875271568755,0.037737300991760744,0.037705362992812325,0.03767286886271828,0.03763974911310825,0.037605934610411444,0.03757135656487586,0.037535946521733574,0.0374996363546733,0.03746235826177184,0.037424044764023626,0.03738462870659683,0.037344043262930775,0.037302221941777784,0.037259098597278564,0.03721460744214701,0.03716868306402609,0.03712126044506281,0.0370722749847355,0.03702166252595206,0.03696935938442384,0.03691530238130445,0.03685942887906849,0.03680167682059082,0.036741984771372284,0.0366802919648433,0.036616538350663294,0.03655066464591992,0.03648261238911778,0.03641232399683504,0.03633974282291156,0.03626481322002171,0.036187480603472516,0.03610769151705657,0.03602539370077919,0.03594053616026896,0.03585306923767162,0.03576294468381887,0.03567011573145598,0.03557453716930456,0.035476165416731396,0.035374958598787795,0.03527087662138042,0.03516388124632991,0.03505393616607102,0.034941007077746014,0.034825061756441816,0.034706070127320986,0.034584004336397384,0.03445883881970845,0.034330550370638806,0.034199118205152874,0.03406452402469751,0.03392675207654204,0.03378578921132689,0.03364162493759976,0.033494251473124834,0.0333436637927587,0.033189859672695075,0.03303283973088999,0.03287260746348859,0.03270916927708589,0.03254253451666468,0.0323727154890645,0.03219972748185015,0.03202358877745774,0.03184432066251155,0.03166194743221771,0.03147649638975351,0.031287997840586765,0.0310964850816719,0.030901994385485,0.030704564978874978,0.030504239016719913,0.03030106155039608,0.030095080491077852,0.02988634656790385,0.029674913281057435,0.029460836849824982,0.0292441761557081,0.02902499268068045,0.02880335044069364,0.028579315914548077,0.028352957968259564,0.028124347775062692,0.02789355873120508,0.027660666367697952,0.027425748258198046,0.02718888392320797,0.026950154730790314,0.02670964379400004,0.026467435865249533,0.02622361722782711,0.025978275584795804,0.025731499945510203,0.025483380509988187,0.02523400855138574,0.02498347629682357,0.024731876806817658,0.024479303853572616,0.024225851798392702,0.023971615468472138,0.02371669003332444,0.02346117088110956,0.02320515349511953,0.022948733330678484,0.022692005692712996,0.022435065614245107,0.02217800773605555,0.02192092618776253,0.021663914470554158,0.021407065341808893,0.02115047070183089,0.02089422148292167,0.020638407541000547,0.020383117549980043,0.020128438899093694,0.019874457593364044,0.019621258157391255,0.019368923542631093,0.019117535038322697,0.018867172186216016,0.018617912699237113,0.018369832384220176,0.018123005068823642,0.01787750253273548,0.01763339444326291,0.017390748295390033,0.01714962935637283,0.016910100614934417,0.016672222735105848,0.016436054014750276,0.016201650348796014,0.015969065197189748,0.015738349557574544,0.015509551942681233,0.015282718362413746,0.015057892310597435,0.014835114756347505,0.01461442414000655,0.014395856373587741,0.014179444845651876,0.013965220430537264,0.01375321150185072,0.013543443950120701,0.0133359412045052,0.013130724258437806,0.01292781169908924,0.012727219740514252,0.01252896226034621,0.012333050839897339,0.01213949480751499,0.011948301285040368,0.011759475237211492,0.011573019523846774,0.011388934954643272,0.011207220346419527,0.011027872582630906,0.01085088667498205,0.010676255826960883,0.010503971499115755,0.010334023475897574,0.010166399933888862,0.01000108751123966,0.009838071378134677,0.009677335308113148,0.009518861750066644,0.009362631900743022,0.009208625777583487,0.009056822291726737,0.008907199321014676,0.008759733782837864,0.00861440170666463,0.008471178306099673,0.00833003805032379,0.008190954734771862,0.008053901550908982,0.007918851154972711,0.007785775735553553,0.0076546470798913155,0.007525436638772384,0.007398115589917651],\"yaxis\":\"y\",\"type\":\"scatter\"},{\"legendgroup\":\"Strike Rate\",\"marker\":{\"color\":\"rgb(255, 127, 14)\"},\"mode\":\"lines\",\"name\":\"Strike Rate\",\"showlegend\":false,\"x\":[105.93627237014405,106.05284867028826,106.16942497043246,106.28600127057665,106.40257757072085,106.51915387086505,106.63573017100926,106.75230647115346,106.86888277129765,106.98545907144185,107.10203537158606,107.21861167173026,107.33518797187446,107.45176427201866,107.56834057216285,107.68491687230706,107.80149317245126,107.91806947259546,108.03464577273967,108.15122207288385,108.26779837302806,108.38437467317226,108.50095097331646,108.61752727346067,108.73410357360486,108.85067987374906,108.96725617389326,109.08383247403746,109.20040877418167,109.31698507432586,109.43356137447006,109.55013767461426,109.66671397475847,109.78329027490267,109.89986657504686,110.01644287519106,110.13301917533526,110.24959547547947,110.36617177562367,110.48274807576786,110.59932437591206,110.71590067605626,110.83247697620047,110.94905327634467,111.06562957648887,111.18220587663306,111.29878217677727,111.41535847692147,111.53193477706567,111.64851107720987,111.76508737735406,111.88166367749827,111.99823997764247,112.11481627778667,112.23139257793088,112.34796887807506,112.46454517821927,112.58112147836347,112.69769777850767,112.81427407865188,112.93085037879607,113.04742667894027,113.16400297908447,113.28057927922868,113.39715557937288,113.51373187951708,113.63030817966127,113.74688447980547,113.86346077994968,113.98003708009388,114.09661338023808,114.21318968038227,114.32976598052647,114.44634228067068,114.56291858081488,114.67949488095908,114.79607118110329,114.91264748124748,115.02922378139168,115.14580008153588,115.26237638168008,115.37895268182427,115.49552898196848,115.61210528211268,115.72868158225688,115.84525788240109,115.96183418254529,116.07841048268948,116.19498678283368,116.31156308297788,116.42813938312209,116.54471568326628,116.66129198341048,116.77786828355468,116.89444458369888,117.01102088384309,117.12759718398729,117.24417348413148,117.36074978427568,117.47732608441989,117.59390238456409,117.71047868470829,117.82705498485248,117.94363128499668,118.06020758514089,118.17678388528509,118.2933601854293,118.4099364855735,118.52651278571769,118.64308908586189,118.75966538600609,118.8762416861503,118.99281798629448,119.10939428643869,119.22597058658289,119.34254688672709,119.4591231868713,119.5756994870155,119.69227578715969,119.80885208730389,119.9254283874481,120.0420046875923,120.15858098773649,120.27515728788069,120.39173358802489,120.5083098881691,120.6248861883133,120.7414624884575,120.85803878860169,120.97461508874589,121.0911913888901,121.2077676890343,121.3243439891785,121.44092028932269,121.5574965894669,121.6740728896111,121.7906491897553,121.9072254898995,122.0238017900437,122.1403780901879,122.2569543903321,122.3735306904763,122.4901069906205,122.60668329076469,122.7232595909089,122.8398358910531,122.9564121911973,123.0729884913415,123.18956479148571,123.30614109162991,123.4227173917741,123.5392936919183,123.6558699920625,123.77244629220671,123.8890225923509,124.0055988924951,124.1221751926393,124.2387514927835,124.35532779292771,124.47190409307191,124.5884803932161,124.7050566933603,124.82163299350451,124.93820929364871,125.0547855937929,125.1713618939371,125.2879381940813,125.40451449422551,125.52109079436971,125.63766709451392,125.7542433946581,125.87081969480231,125.98739599494651,126.10397229509071,126.2205485952349,126.3371248953791,126.45370119552331,126.57027749566751,126.68685379581171,126.80343009595592,126.92000639610012,127.03658269624431,127.15315899638851,127.26973529653272,127.38631159667692,127.50288789682111,127.61946419696531,127.73604049710951,127.85261679725372,127.96919309739792,128.08576939754212,128.20234569768633,128.31892199783053,128.4354982979747,128.5520745981189,128.6686508982631,128.7852271984073,128.90180349855152,129.01837979869572,129.13495609883992,129.25153239898412,129.36810869912833,129.48468499927253,129.6012612994167,129.71783759956094,129.8344138997051,129.95099019984931,130.06756649999352,130.18414280013772,130.30071910028192,130.41729540042613,130.53387170057033,130.65044800071453,130.76702430085874,130.8836006010029,131.0001769011471,131.11675320129132,131.23332950143552,131.34990580157972,131.46648210172393,131.58305840186813,131.69963470201233,131.81621100215654,131.93278730230074,132.04936360244494,132.16593990258912,132.28251620273332,132.39909250287752,132.51566880302173,132.63224510316593,132.74882140331013,132.86539770345433,132.98197400359854,133.09855030374274,133.21512660388692,133.33170290403112,133.44827920417532,133.56485550431952,133.68143180446373,133.79800810460793,133.91458440475213,134.03116070489634,134.14773700504054,134.26431330518474,134.38088960532895,134.49746590547312,134.61404220561732,134.73061850576153,134.84719480590573,134.96377110604993,135.08034740619414,135.19692370633834,135.31350000648254,135.43007630662675,135.54665260677095,135.66322890691515,135.77980520705933,135.89638150720353,136.01295780734773,136.12953410749193,136.24611040763614,136.36268670778034,136.47926300792454,136.59583930806875,136.71241560821295,136.82899190835715,136.94556820850136,137.06214450864553,137.17872080878973,137.29529710893394,137.41187340907814,137.52844970922234,137.64502600936655,137.76160230951075,137.87817860965495,137.99475490979916,138.11133120994333,138.22790751008756,138.34448381023174,138.46106011037594,138.57763641052014,138.69421271066435,138.81078901080855,138.92736531095275,139.04394161109695,139.16051791124116,139.27709421138536,139.39367051152954,139.51024681167374,139.62682311181794,139.74339941196214,139.85997571210635,139.97655201225055,140.09312831239475,140.20970461253896,140.32628091268316,140.44285721282733,140.55943351297157,140.67600981311574,140.79258611325994,140.90916241340415,141.02573871354835,141.14231501369255,141.25889131383676,141.37546761398096,141.49204391412516,141.60862021426937,141.72519651441354,141.84177281455777,141.95834911470195,142.07492541484615,142.19150171499035,142.30807801513456,142.42465431527876,142.54123061542296,142.65780691556716,142.77438321571134,142.89095951585557,143.00753581599974,143.12411211614395,143.24068841628815,143.35726471643235,143.47384101657656,143.59041731672076,143.70699361686496,143.82356991700917,143.94014621715337,144.05672251729757,144.17329881744178,144.28987511758595,144.40645141773018,144.52302771787436,144.63960401801856,144.75618031816276,144.87275661830697,144.98933291845117,145.10590921859534,145.22248551873957,145.33906181888375,145.45563811902795,145.57221441917216,145.68879071931636,145.80536701946056,145.92194331960476,146.03851961974897,146.15509591989317,146.27167222003737,146.38824852018158,146.50482482032578,146.62140112046995,146.7379774206142,146.85455372075836,146.97113002090256,147.08770632104677,147.20428262119097,147.32085892133517,147.43743522147938,147.55401152162358,147.67058782176778,147.78716412191199,147.90374042205616,148.02031672220036,148.13689302234457,148.25346932248877,148.37004562263297,148.48662192277718,148.60319822292138,148.71977452306558,148.83635082320978,148.95292712335396,149.0695034234982,149.18607972364237,149.30265602378657,149.41923232393077,149.53580862407497,149.65238492421918,149.76896122436338,149.88553752450758,150.0021138246518,150.118690124796,150.23526642494016,150.3518427250844,150.46841902522857,150.58499532537277,150.70157162551698,150.81814792566118,150.93472422580538,151.05130052594959,151.1678768260938,151.28445312623796,151.4010294263822,151.51760572652637,151.63418202667057,151.75075832681478,151.86733462695898,151.98391092710318,152.10048722724738,152.2170635273916,152.3336398275358,152.45021612768,152.56679242782417,152.6833687279684,152.79994502811257,152.91652132825678,153.03309762840098,153.14967392854518,153.2662502286894,153.3828265288336,153.4994028289778,153.615979129122,153.7325554292662,153.84913172941037,153.96570802955458,154.08228432969878,154.19886062984298,154.3154369299872,154.4320132301314,154.5485895302756,154.6651658304198,154.781742130564,154.8983184307082,155.0148947308524,155.13147103099658,155.2480473311408,155.36462363128499,155.4811999314292,155.5977762315734,155.7143525317176,155.8309288318618,155.947505132006,156.0640814321502,156.1806577322944,156.2972340324386,156.41381033258278,156.53038663272702,156.6469629328712,156.7635392330154,156.8801155331596,156.9966918333038,157.113268133448,157.2298444335922,157.3464207337364,157.46299703388058,157.57957333402481,157.696149634169,157.8127259343132,157.9293022344574,158.0458785346016,158.1624548347458,158.27903113489,158.3956074350342,158.5121837351784,158.6287600353226,158.7453363354668,158.86191263561102,158.9784889357552,159.0950652358994,159.2116415360436,159.3282178361878,159.444794136332,159.5613704364762,159.6779467366204,159.7945230367646,159.91109933690882,160.027675637053,160.1442519371972,160.2608282373414,160.3774045374856,160.4939808376298,160.610557137774,160.7271334379182,160.84370973806242,160.96028603820662,161.0768623383508,161.19343863849502,161.3100149386392,161.4265912387834,161.5431675389276,161.6597438390718,161.776320139216,161.89289643936021,162.00947273950442,162.12604903964862,162.24262533979282,162.35920163993703,162.4757779400812,162.5923542402254,162.7089305403696,162.8255068405138,162.942083140658,163.05865944080222,163.17523574094642,163.29181204109062,163.40838834123483,163.52496464137903,163.6415409415232,163.75811724166743,163.8746935418116,163.9912698419558,164.10784614210002],\"xaxis\":\"x\",\"y\":[0.002911570539904728,0.0029685557745714342,0.003026560031664662,0.0030856212717113723,0.0031457783055602296,0.0032070707195276296,0.0032695387968412052,0.0033332234356767223,0.0033981660641044993,0.0034644085522796053,0.003531993122226825,0.0036009622555866374,0.003671358599701056,0.0037432248724298908,0.0038166037660965087,0.0038915378509695076,0.0039680694786910125,0.004046240686065014,0.00412609309961912,0.004207667841350735,0.004291005436064187,0.004376145720698169,0.004463127756033504,0.004551989741159728,0.004642768931064694,0.004735501557695449,0.004830222754820087,0.004926966486999945,0.005025765482959248,0.005126651173614732,0.005229653635002245,0.005334801536309285,0.005442122093194144,0.005551641026541315,0.005663382526772245,0.005777369223797846,0.0058936221626661395,0.006012160784925638,0.006133002915690194,0.0062561647563582345,0.006381660882904838,0.006509504249631482,0.006639706198226186,0.00677227647195326,0.006907223234761754,0.007044553095070632,0.007184271133960513,0.007326380937474003,0.007470884632701498,0.00761778292730564,0.007767075152115827,0.007918759306405176,0.008072832105445148,0.008229289029918827,0.008388124376762193,0.008549331310993438,0.008712901918084635,0.008878827256426325,0.00904709740943586,0.009217701536862948,0.009390627924851328,0.00956586403432492,0.009743396547277978,0.009923211410564091,0.010105293876796647,0.01028962854199361,0.010476199379622938,0.010664989770731666,0.010855982529868354,0.011049159926542202,0.011244503701992493,0.011441995081078776,0.011641614779138783,0.011843343003698312,0.012047159450959513,0.012253043297032449,0.012460973183918202,0.012670927200293627,0.012882882857190522,0.0130968170587049,0.013312706067914869,0.01353052546822683,0.013750250120411865,0.013971854115633406,0.014195310724806422,0.014420592344665487,0.01464767044095346,0.014876515489176033,0.015107096913396869,0.015339383023576045,0.015573340951979188,0.015808936589204847,0.016046134520396844,0.016284897962220955,0.0165251887011968,0.016766967033981464,0.017010191710203754,0.017254819878445876,0.017500807035963132,0.017748106982721567,0.017996671780318614,0.01824645171633219,0.01849739527462024,0.018749449112064526,0.01900255804222051,0.019256665026299233,0.019511711171866532,0.01976763573960175,0.020024376158409976,0.02028186804913288,0.020540045257047862,0.020798839893290608,0.021058182385276864,0.02131800153613925,0.021578224593131384,0.021838777324890812,0.022099584107385183,0.02236056801830308,0.022621650939586027,0.022882753667733263,0.02314379603144841,0.023404697016135026,0.023665374894687237,0.023925747363965015,0.02418573168628722,0.024445244835224582,0.024704203644926283,0.02496252496216916,0.02522012580027902,0.0254769234940382,0.02573283585466393,0.02598778132391765,0.026241679126386294,0.02649444941896462,0.026746013436560793,0.026996293633047917,0.027245213816490945,0.027492699277691737,0.027738676911115284,0.02798307532728707,0.028225824955786114,0.028466858137997195,0.02870610920883463,0.028943514566702355,0.02917901273101466,0.02941254438666807,0.029644052414926108,0.029873481910253952,0.030100780182722976,0.030325896745689144,0.030548783288540056,0.03076939363439802,0.0309876836827617,0.03120361133716861,0.031417136418058496,0.03162822056112048,0.03183682710150631,0.03204292094439441,0.032246468422488454,0.03244743714113321,0.032645795811825855,0.03284151407499496,0.03303456231300751,0.03322491145445074,0.03341253277081507,0.03359739766677878,0.033779477465364104,0.03395874318929625,0.034135165339950466,0.03430871367532021,0.034479356988477136,0.03464706288802471,0.034811797582067504,0.034973525667231074,0.035132209924269624,0.03528781112179179,0.03544028782961831,0.0355895962432594,0.03573569002096295,0.03587852013474002,0.03601803473671783,0.036154179042107194,0.0362868952299977,0.03641612236311079,0.03654179632755272,0.036663849793509194,0.03678221219771934,0.03689680974845387,0.037007565453604514,0.03711439917236729,0.03721722769087443,0.03731596482199656,0.03741052152940122,0.037500806075815435,0.03758672419530001,0.03766817928920262,0.03774507264531586,0.03781730367962701,0.03788477019990813,0.03794736869025949,0.03800499461558818,0.038057542744875744,0.038104907491966544,0.03814698327249213,0.03818366487543743,0.038214847847751615,0.038240428890313635,0.03826030626347495,0.03827438020032797,0.038282553325780726,0.03828473107946295,0.038280822140443226,0.03827073885170247,0.03825439764228596,0.03823171944504452,0.03820263010787554,0.03816706079638655,0.03812494838592665,0.0380762358409677,0.038020872579861587,0.03795881482305961,0.03789002592294721,0.037814476673527095,0.03773214559827279,0.0376430192145739,0.03754709227330199,0.0374443679721423,0.037334858141461806,0.03721858340161358,0.03709557329071706,0.03696586636209545,0.03682951025070072,0.036686561708006965,0.036537086605009095,0.0363811599031195,0.03621886559291411,0.036050296600836924,0.03587555466413005,0.03569475017441211,0.0355080019904816,0.0353154372210716,0.0351171909784291,0.034913406103731726,0.03470423286549159,0.03448982863222289,0.03427035752077214,0.03404599002182303,0.03381690260419249,0.03358327729962964,0.03334530126991631,0.033103166358142304,0.03285706862609531,0.032607207879758404,0.032353787184952854,0.03209701237519545,0.03183709155386109,0.031574234592750786,0.03130865262916291,0.031040557563554477,0.030770161559852825,0.03049767655044513,0.03022331374782717,0.02994728316483777,0.029669793145339268,0.02939104990713101,0.02911125709879877,0.02883061537211293,0.02854932197148772,0.028267570341909187,0.02798554975662862,0.027703444965798275,0.02742143586710641,0.027139697199342856,0.026858398259695448,0.026577702645448443,0.026297768020619894,0.026018745907942793,0.025740781506459094,0.025464013534867533,0.025188574100628938,0.024914588594712506,0.024642175611733312,0.02437144689511671,0.02410250730680367,0.023835454820902918,0.023570380540587833,0.023307368737438102,0.02304649691233202,0.022787835876910773,0.02253144985455879,0.022277396599772615,0.02202572753473058,0.02177648790182271,0.021529716930854134,0.021285448019601177,0.021043708926371554,0.020804521973201706,0.020567904258315273,0.020333867876466055,0.020102420145793647,0.019873563839840513,0.019647297423396853,0.019423615290875385,0.01920250800595297,0.018983962541262923,0.018767962516971992,0.018554488437132796,0.018343517922765833,0.018135025940689987,0.017928985027194776,0.017725365505717485,0.017524135697771948,0.017325262126449758,0.017128709711901047,0.016934441958281875,0.016742421131740605,0.01655260842909759,0.016364964136956445,0.016179447781065958,0.01599601826583082,0.01581463400394934,0.01563525303622732,0.015457833141691841,0.015282331938195145,0.01510870697376213,0.014936915808995206,0.014766916090903952,0.01459866561857717,0.014432122401158397,0.014267244708625476,0.014103991115907231,0.013942320540899044,0.013782192276958522,0.01362356602048179,0.01346640189416789,0.013310660466585732,0.01315630276865605,0.013003290307654987,0.012851585079334446,0.01270114957873721,0.012551946810265727,0.012403940297535377,0.012257094093515568,0.012111372791428031,0.011966741536834623,0.011823166041308104,0.01168061259803664,0.011539048099668504,0.011398440058657708,0.011258756630322993,0.011119966638784966,0.010982039605897555,0.01084494578323928,0.01070865618718381,0.010573142637019087,0.010438377796038758,0.01030433521548399,0.010170989381170122,0.010038315762591638,0.00990629086425944,0.009774892278988676,0.009644098742821837,0.009513890191242245,0.009384247816305277,0.00925515412429294,0.009126592993476578,0.00899854973155758,0.008871011132343398,0.00874396553120868,0.008617402858886299,0.008491314693132974,0.008365694307818184,0.008240536718990017,0.008115838727484828,0.007991598957659324,0.00786781789184198,0.007744497900120947,0.007621643265108422,0.007499260201347881,0.007377356869058229,0.007255943381939865,0.007135031808799808,0.007014636168787575,0.006894772420067518,0.0067754584417921695,0.006656714009275964,0.006538560762308454,0.006421022166583391,0.006304123468258204,0.006187891641696834,0.006072355330485116,0.0059575447818461065,0.005843491774615859,0.005730229540977388,0.005617792682180797,0.00550621707851019,0.005395539793787138,0.005285798974727687,0.005177033745495397,0.005069284097816258,0.0049625907770416665,0.004856995164564413,0.00475253915700908,0.004649265042630357,0.004547215375365592,0.004446432846994985,0.004346960157869356,0.004248839886669066,0.004152114359658336,0.004056825519898572,0.003963014796880042,0.0038707229770261705,0.0037799900755164186,0.0036908552098645873,0.003603356475676713,0.0035175308250006126,0.0034334139476631348,0.0033510401559754704,0.003270442273168807,0.0031916515259040987,0.00311469744117941,0.0030396077479380606,0.002966408283659103,0.0028951229061894876,0.002825773411055746,0.0027583794544684755,0.0026929584822123825,0.0026295256645895815,0.0025680938375622886,0.002508673450217842,0.002451272518656732,0.0023958965863821536,0.0023425486912484156,0.002291229339003918,0.002241936483444501,0.0021946655131732246,0.002149409244942821,0.002106157923540052,0.0020648992281523428,0.002025618285141243,0.001988297687130959,0.0019529175183051093,0.0019194553857908281,0.0018878864569954095,0.0018581835027487055,0.0018303169460917692,0.0018042549165421006,0.001779963309654619,0.0017574058516884384,0.0017365441691803087,0.0017173378632173745,0.0016997445881941947,0.001683720134832004,0.0016692185172314986,0.00165619206372464,0.0016445915112854627,0.0016343661032546788,0.001625463690128691,0.0016178308331591341,0.001611412910505599,0.0016061542256807892,0.0016019981180244146,0.0015988870749396261,0.0015967628456235014,0.00159556655602138,0.0015952388247332569,0.0015957198795994749,0.0015969496746921488,0.0015988680074384978,0.0016014146356023455,0.0016045293938505491,0.0016081523096321219,0.001612223718099201,0.001616684375801008,0.0016214755728843032,0.0016265392435368725,0.0016318180744141432,0.0016372556107930479,0.0016427963602021125,0.0016483858932820371,0.0016539709416370494,0.0016594994924440084,0.0016649208795935766,0.0016701858711458174,0.0016752467528913097,0.001680057407818338,0.0016845733912967684,0.0016887520018001388,0.0016925523469989135,0.0016959354050700638,0.00169886408108091,0.0017013032583185997,0.0017032198444505953,0.001704582812416092,0.0017053632359633748,0.0017055343197636059,0.001705071424047496,0.0017039520837275886,0.0017021560219854701,0.0016996651583200209],\"yaxis\":\"y\",\"type\":\"scatter\"},{\"legendgroup\":\"Average\",\"marker\":{\"color\":\"rgb(31, 119, 180)\",\"symbol\":\"line-ns-open\"},\"mode\":\"markers\",\"name\":\"Average\",\"showlegend\":false,\"x\":[39.853846153846156,28.930232558139537,24.904761904761905,30.142857142857142,28.051612903225806,27.71153846153846,39.65873015873016,35.65853658536585,40.042682926829265,28.392857142857142,35.99212598425197,31.00735294117647,24.75,28.471910112359552,28.43010752688172,37.71578947368421,28.55294117647059,28.40495867768595,26.320652173913043,44.65714285714286,35.53333333333333,25.93069306930693,22.811965811965813,29.015037593984964,39.12686567164179,28.344086021505376,22.603174603174605,30.980392156862745,28.233766233766232,27.39814814814815,26.93975903614458,41.75438596491228,29.730941704035875,35.45161290322581,27.522222222222222,35.07253886010363,31.805309734513273,39.507936507936506,32.37426900584796,34.65277777777778,33.82608695652174,30.793650793650794,31.948979591836736,30.6875,37.83529411764706,38.71497584541063,27.555555555555557,24.24793388429752,29.29090909090909,24.81081081081081],\"xaxis\":\"x\",\"y\":[\"Average\",\"Average\",\"Average\",\"Average\",\"Average\",\"Average\",\"Average\",\"Average\",\"Average\",\"Average\",\"Average\",\"Average\",\"Average\",\"Average\",\"Average\",\"Average\",\"Average\",\"Average\",\"Average\",\"Average\",\"Average\",\"Average\",\"Average\",\"Average\",\"Average\",\"Average\",\"Average\",\"Average\",\"Average\",\"Average\",\"Average\",\"Average\",\"Average\",\"Average\",\"Average\",\"Average\",\"Average\",\"Average\",\"Average\",\"Average\",\"Average\",\"Average\",\"Average\",\"Average\",\"Average\",\"Average\",\"Average\",\"Average\",\"Average\",\"Average\"],\"yaxis\":\"y2\",\"type\":\"scatter\"},{\"legendgroup\":\"Strike Rate\",\"marker\":{\"color\":\"rgb(255, 127, 14)\",\"symbol\":\"line-ns-open\"},\"mode\":\"markers\",\"name\":\"Strike Rate\",\"showlegend\":false,\"x\":[148.58044164037855,164.22442244224422,123.34905660377358,120.32141005702437,124.58452722063038,126.84859154929578,142.1217292377702,134.68447719944726,135.4299855640338,132.27953410981698,133.07132459970887,119.66515323496027,150.4885993485342,139.69128996692393,132.79758915118032,142.23898372369987,105.93627237014405,140.45770331017573,131.35340385136968,131.05086640581328,122.95271049596307,118.61413043478262,128.25564632388276,117.36618004866179,132.8350646060299,130.81885856079404,116.62571662571663,131.12033195020746,113.34723670490095,124.4322960470984,135.51515151515153,133.63279056709715,127.91819409608335,143.59756097560975,126.15227909345556,123.45431333211745,142.50594766058683,130.10977522216413,132.53531242518554,124.81240620310155,114.18786692759295,134.1632088520055,123.02554027504911,135.1376146788991,132.23684210526315,128.51186658114176,148.82705946535734,123.90202702702702,138.04627249357327,124.78477571363842],\"xaxis\":\"x\",\"y\":[\"Strike Rate\",\"Strike Rate\",\"Strike Rate\",\"Strike Rate\",\"Strike Rate\",\"Strike Rate\",\"Strike Rate\",\"Strike Rate\",\"Strike Rate\",\"Strike Rate\",\"Strike Rate\",\"Strike Rate\",\"Strike Rate\",\"Strike Rate\",\"Strike Rate\",\"Strike Rate\",\"Strike Rate\",\"Strike Rate\",\"Strike Rate\",\"Strike Rate\",\"Strike Rate\",\"Strike Rate\",\"Strike Rate\",\"Strike Rate\",\"Strike Rate\",\"Strike Rate\",\"Strike Rate\",\"Strike Rate\",\"Strike Rate\",\"Strike Rate\",\"Strike Rate\",\"Strike Rate\",\"Strike Rate\",\"Strike Rate\",\"Strike Rate\",\"Strike Rate\",\"Strike Rate\",\"Strike Rate\",\"Strike Rate\",\"Strike Rate\",\"Strike Rate\",\"Strike Rate\",\"Strike Rate\",\"Strike Rate\",\"Strike Rate\",\"Strike Rate\",\"Strike Rate\",\"Strike Rate\",\"Strike Rate\",\"Strike Rate\"],\"yaxis\":\"y2\",\"type\":\"scatter\"}],                        {\"barmode\":\"overlay\",\"hovermode\":\"closest\",\"legend\":{\"traceorder\":\"reversed\"},\"xaxis\":{\"anchor\":\"y2\",\"domain\":[0.0,1.0],\"zeroline\":false},\"yaxis\":{\"anchor\":\"free\",\"domain\":[0.35,1],\"position\":0.0},\"yaxis2\":{\"anchor\":\"x\",\"domain\":[0,0.25],\"dtick\":1,\"showticklabels\":false},\"template\":{\"data\":{\"histogram2dcontour\":[{\"type\":\"histogram2dcontour\",\"colorbar\":{\"outlinewidth\":0,\"ticks\":\"\"},\"colorscale\":[[0.0,\"#0d0887\"],[0.1111111111111111,\"#46039f\"],[0.2222222222222222,\"#7201a8\"],[0.3333333333333333,\"#9c179e\"],[0.4444444444444444,\"#bd3786\"],[0.5555555555555556,\"#d8576b\"],[0.6666666666666666,\"#ed7953\"],[0.7777777777777778,\"#fb9f3a\"],[0.8888888888888888,\"#fdca26\"],[1.0,\"#f0f921\"]]}],\"choropleth\":[{\"type\":\"choropleth\",\"colorbar\":{\"outlinewidth\":0,\"ticks\":\"\"}}],\"histogram2d\":[{\"type\":\"histogram2d\",\"colorbar\":{\"outlinewidth\":0,\"ticks\":\"\"},\"colorscale\":[[0.0,\"#0d0887\"],[0.1111111111111111,\"#46039f\"],[0.2222222222222222,\"#7201a8\"],[0.3333333333333333,\"#9c179e\"],[0.4444444444444444,\"#bd3786\"],[0.5555555555555556,\"#d8576b\"],[0.6666666666666666,\"#ed7953\"],[0.7777777777777778,\"#fb9f3a\"],[0.8888888888888888,\"#fdca26\"],[1.0,\"#f0f921\"]]}],\"heatmap\":[{\"type\":\"heatmap\",\"colorbar\":{\"outlinewidth\":0,\"ticks\":\"\"},\"colorscale\":[[0.0,\"#0d0887\"],[0.1111111111111111,\"#46039f\"],[0.2222222222222222,\"#7201a8\"],[0.3333333333333333,\"#9c179e\"],[0.4444444444444444,\"#bd3786\"],[0.5555555555555556,\"#d8576b\"],[0.6666666666666666,\"#ed7953\"],[0.7777777777777778,\"#fb9f3a\"],[0.8888888888888888,\"#fdca26\"],[1.0,\"#f0f921\"]]}],\"heatmapgl\":[{\"type\":\"heatmapgl\",\"colorbar\":{\"outlinewidth\":0,\"ticks\":\"\"},\"colorscale\":[[0.0,\"#0d0887\"],[0.1111111111111111,\"#46039f\"],[0.2222222222222222,\"#7201a8\"],[0.3333333333333333,\"#9c179e\"],[0.4444444444444444,\"#bd3786\"],[0.5555555555555556,\"#d8576b\"],[0.6666666666666666,\"#ed7953\"],[0.7777777777777778,\"#fb9f3a\"],[0.8888888888888888,\"#fdca26\"],[1.0,\"#f0f921\"]]}],\"contourcarpet\":[{\"type\":\"contourcarpet\",\"colorbar\":{\"outlinewidth\":0,\"ticks\":\"\"}}],\"contour\":[{\"type\":\"contour\",\"colorbar\":{\"outlinewidth\":0,\"ticks\":\"\"},\"colorscale\":[[0.0,\"#0d0887\"],[0.1111111111111111,\"#46039f\"],[0.2222222222222222,\"#7201a8\"],[0.3333333333333333,\"#9c179e\"],[0.4444444444444444,\"#bd3786\"],[0.5555555555555556,\"#d8576b\"],[0.6666666666666666,\"#ed7953\"],[0.7777777777777778,\"#fb9f3a\"],[0.8888888888888888,\"#fdca26\"],[1.0,\"#f0f921\"]]}],\"surface\":[{\"type\":\"surface\",\"colorbar\":{\"outlinewidth\":0,\"ticks\":\"\"},\"colorscale\":[[0.0,\"#0d0887\"],[0.1111111111111111,\"#46039f\"],[0.2222222222222222,\"#7201a8\"],[0.3333333333333333,\"#9c179e\"],[0.4444444444444444,\"#bd3786\"],[0.5555555555555556,\"#d8576b\"],[0.6666666666666666,\"#ed7953\"],[0.7777777777777778,\"#fb9f3a\"],[0.8888888888888888,\"#fdca26\"],[1.0,\"#f0f921\"]]}],\"mesh3d\":[{\"type\":\"mesh3d\",\"colorbar\":{\"outlinewidth\":0,\"ticks\":\"\"}}],\"scatter\":[{\"fillpattern\":{\"fillmode\":\"overlay\",\"size\":10,\"solidity\":0.2},\"type\":\"scatter\"}],\"parcoords\":[{\"type\":\"parcoords\",\"line\":{\"colorbar\":{\"outlinewidth\":0,\"ticks\":\"\"}}}],\"scatterpolargl\":[{\"type\":\"scatterpolargl\",\"marker\":{\"colorbar\":{\"outlinewidth\":0,\"ticks\":\"\"}}}],\"bar\":[{\"error_x\":{\"color\":\"#2a3f5f\"},\"error_y\":{\"color\":\"#2a3f5f\"},\"marker\":{\"line\":{\"color\":\"#E5ECF6\",\"width\":0.5},\"pattern\":{\"fillmode\":\"overlay\",\"size\":10,\"solidity\":0.2}},\"type\":\"bar\"}],\"scattergeo\":[{\"type\":\"scattergeo\",\"marker\":{\"colorbar\":{\"outlinewidth\":0,\"ticks\":\"\"}}}],\"scatterpolar\":[{\"type\":\"scatterpolar\",\"marker\":{\"colorbar\":{\"outlinewidth\":0,\"ticks\":\"\"}}}],\"histogram\":[{\"marker\":{\"pattern\":{\"fillmode\":\"overlay\",\"size\":10,\"solidity\":0.2}},\"type\":\"histogram\"}],\"scattergl\":[{\"type\":\"scattergl\",\"marker\":{\"colorbar\":{\"outlinewidth\":0,\"ticks\":\"\"}}}],\"scatter3d\":[{\"type\":\"scatter3d\",\"line\":{\"colorbar\":{\"outlinewidth\":0,\"ticks\":\"\"}},\"marker\":{\"colorbar\":{\"outlinewidth\":0,\"ticks\":\"\"}}}],\"scattermapbox\":[{\"type\":\"scattermapbox\",\"marker\":{\"colorbar\":{\"outlinewidth\":0,\"ticks\":\"\"}}}],\"scatterternary\":[{\"type\":\"scatterternary\",\"marker\":{\"colorbar\":{\"outlinewidth\":0,\"ticks\":\"\"}}}],\"scattercarpet\":[{\"type\":\"scattercarpet\",\"marker\":{\"colorbar\":{\"outlinewidth\":0,\"ticks\":\"\"}}}],\"carpet\":[{\"aaxis\":{\"endlinecolor\":\"#2a3f5f\",\"gridcolor\":\"white\",\"linecolor\":\"white\",\"minorgridcolor\":\"white\",\"startlinecolor\":\"#2a3f5f\"},\"baxis\":{\"endlinecolor\":\"#2a3f5f\",\"gridcolor\":\"white\",\"linecolor\":\"white\",\"minorgridcolor\":\"white\",\"startlinecolor\":\"#2a3f5f\"},\"type\":\"carpet\"}],\"table\":[{\"cells\":{\"fill\":{\"color\":\"#EBF0F8\"},\"line\":{\"color\":\"white\"}},\"header\":{\"fill\":{\"color\":\"#C8D4E3\"},\"line\":{\"color\":\"white\"}},\"type\":\"table\"}],\"barpolar\":[{\"marker\":{\"line\":{\"color\":\"#E5ECF6\",\"width\":0.5},\"pattern\":{\"fillmode\":\"overlay\",\"size\":10,\"solidity\":0.2}},\"type\":\"barpolar\"}],\"pie\":[{\"automargin\":true,\"type\":\"pie\"}]},\"layout\":{\"autotypenumbers\":\"strict\",\"colorway\":[\"#636efa\",\"#EF553B\",\"#00cc96\",\"#ab63fa\",\"#FFA15A\",\"#19d3f3\",\"#FF6692\",\"#B6E880\",\"#FF97FF\",\"#FECB52\"],\"font\":{\"color\":\"#2a3f5f\"},\"hovermode\":\"closest\",\"hoverlabel\":{\"align\":\"left\"},\"paper_bgcolor\":\"white\",\"plot_bgcolor\":\"#E5ECF6\",\"polar\":{\"bgcolor\":\"#E5ECF6\",\"angularaxis\":{\"gridcolor\":\"white\",\"linecolor\":\"white\",\"ticks\":\"\"},\"radialaxis\":{\"gridcolor\":\"white\",\"linecolor\":\"white\",\"ticks\":\"\"}},\"ternary\":{\"bgcolor\":\"#E5ECF6\",\"aaxis\":{\"gridcolor\":\"white\",\"linecolor\":\"white\",\"ticks\":\"\"},\"baxis\":{\"gridcolor\":\"white\",\"linecolor\":\"white\",\"ticks\":\"\"},\"caxis\":{\"gridcolor\":\"white\",\"linecolor\":\"white\",\"ticks\":\"\"}},\"coloraxis\":{\"colorbar\":{\"outlinewidth\":0,\"ticks\":\"\"}},\"colorscale\":{\"sequential\":[[0.0,\"#0d0887\"],[0.1111111111111111,\"#46039f\"],[0.2222222222222222,\"#7201a8\"],[0.3333333333333333,\"#9c179e\"],[0.4444444444444444,\"#bd3786\"],[0.5555555555555556,\"#d8576b\"],[0.6666666666666666,\"#ed7953\"],[0.7777777777777778,\"#fb9f3a\"],[0.8888888888888888,\"#fdca26\"],[1.0,\"#f0f921\"]],\"sequentialminus\":[[0.0,\"#0d0887\"],[0.1111111111111111,\"#46039f\"],[0.2222222222222222,\"#7201a8\"],[0.3333333333333333,\"#9c179e\"],[0.4444444444444444,\"#bd3786\"],[0.5555555555555556,\"#d8576b\"],[0.6666666666666666,\"#ed7953\"],[0.7777777777777778,\"#fb9f3a\"],[0.8888888888888888,\"#fdca26\"],[1.0,\"#f0f921\"]],\"diverging\":[[0,\"#8e0152\"],[0.1,\"#c51b7d\"],[0.2,\"#de77ae\"],[0.3,\"#f1b6da\"],[0.4,\"#fde0ef\"],[0.5,\"#f7f7f7\"],[0.6,\"#e6f5d0\"],[0.7,\"#b8e186\"],[0.8,\"#7fbc41\"],[0.9,\"#4d9221\"],[1,\"#276419\"]]},\"xaxis\":{\"gridcolor\":\"white\",\"linecolor\":\"white\",\"ticks\":\"\",\"title\":{\"standoff\":15},\"zerolinecolor\":\"white\",\"automargin\":true,\"zerolinewidth\":2},\"yaxis\":{\"gridcolor\":\"white\",\"linecolor\":\"white\",\"ticks\":\"\",\"title\":{\"standoff\":15},\"zerolinecolor\":\"white\",\"automargin\":true,\"zerolinewidth\":2},\"scene\":{\"xaxis\":{\"backgroundcolor\":\"#E5ECF6\",\"gridcolor\":\"white\",\"linecolor\":\"white\",\"showbackground\":true,\"ticks\":\"\",\"zerolinecolor\":\"white\",\"gridwidth\":2},\"yaxis\":{\"backgroundcolor\":\"#E5ECF6\",\"gridcolor\":\"white\",\"linecolor\":\"white\",\"showbackground\":true,\"ticks\":\"\",\"zerolinecolor\":\"white\",\"gridwidth\":2},\"zaxis\":{\"backgroundcolor\":\"#E5ECF6\",\"gridcolor\":\"white\",\"linecolor\":\"white\",\"showbackground\":true,\"ticks\":\"\",\"zerolinecolor\":\"white\",\"gridwidth\":2}},\"shapedefaults\":{\"line\":{\"color\":\"#2a3f5f\"}},\"annotationdefaults\":{\"arrowcolor\":\"#2a3f5f\",\"arrowhead\":0,\"arrowwidth\":1},\"geo\":{\"bgcolor\":\"white\",\"landcolor\":\"#E5ECF6\",\"subunitcolor\":\"white\",\"showland\":true,\"showlakes\":true,\"lakecolor\":\"white\"},\"title\":{\"x\":0.05},\"mapbox\":{\"style\":\"light\"}}}},                        {\"responsive\": true}                    ).then(function(){\n",
       "                            \n",
       "var gd = document.getElementById('3fbe1e46-e26d-43a6-bc02-8c0187eff1f9');\n",
       "var x = new MutationObserver(function (mutations, observer) {{\n",
       "        var display = window.getComputedStyle(gd).display;\n",
       "        if (!display || display === 'none') {{\n",
       "            console.log([gd, 'removed!']);\n",
       "            Plotly.purge(gd);\n",
       "            observer.disconnect();\n",
       "        }}\n",
       "}});\n",
       "\n",
       "// Listen for the removal of the full notebook cells\n",
       "var notebookContainer = gd.closest('#notebook-container');\n",
       "if (notebookContainer) {{\n",
       "    x.observe(notebookContainer, {childList: true});\n",
       "}}\n",
       "\n",
       "// Listen for the clearing of the current output cell\n",
       "var outputEl = gd.closest('.output');\n",
       "if (outputEl) {{\n",
       "    x.observe(outputEl, {childList: true});\n",
       "}}\n",
       "\n",
       "                        })                };                });            </script>        </div>"
      ]
     },
     "metadata": {},
     "output_type": "display_data"
    }
   ],
   "execution_count": 173
  },
  {
   "metadata": {},
   "cell_type": "markdown",
   "source": [
    "## 6. Histograms\n",
    "\n",
    "<p>A histogram is a plot that lets you discover, and show, the underlying frequency distribution (shape) of a set of continuous data.</p>\n",
    "\n",
    "<img src=\"https://www.math-only-math.com/images/histogram-problems.png\"/>"
   ],
   "id": "d74b11b35925f8e5"
  },
  {
   "metadata": {
    "ExecuteTime": {
     "end_time": "2024-10-26T17:51:58.801223Z",
     "start_time": "2024-10-26T17:51:58.779798Z"
    }
   },
   "cell_type": "code",
   "source": [
    "x = delivery.groupby('batter')['batsman_runs'].count() > 150\n",
    "x = x[x].index.tolist()\n",
    "x"
   ],
   "id": "71759753e4a950c8",
   "outputs": [
    {
     "data": {
      "text/plain": [
       "['A Ashish Reddy',\n",
       " 'A Badoni',\n",
       " 'A Manohar',\n",
       " 'A Mishra',\n",
       " 'A Symonds',\n",
       " 'AA Jhunjhunwala',\n",
       " 'AB Agarkar',\n",
       " 'AB de Villiers',\n",
       " 'AC Gilchrist',\n",
       " 'AD Mathews',\n",
       " 'AD Russell',\n",
       " 'AJ Finch',\n",
       " 'AK Markram',\n",
       " 'AL Menaria',\n",
       " 'AM Nayar',\n",
       " 'AM Rahane',\n",
       " 'AP Tare',\n",
       " 'AR Patel',\n",
       " 'AS Raut',\n",
       " 'AT Rayudu',\n",
       " 'Abdul Samad',\n",
       " 'Abhishek Sharma',\n",
       " 'Abishek Porel',\n",
       " 'Anuj Rawat',\n",
       " 'Atharva Taide',\n",
       " 'Azhar Mahmood',\n",
       " 'B Chipli',\n",
       " 'B Kumar',\n",
       " 'B Sai Sudharsan',\n",
       " 'BA Stokes',\n",
       " 'BB McCullum',\n",
       " 'BJ Hodge',\n",
       " 'C Green',\n",
       " 'C de Grandhomme',\n",
       " 'CA Ingram',\n",
       " 'CA Lynn',\n",
       " 'CA Pujara',\n",
       " 'CH Gayle',\n",
       " 'CH Morris',\n",
       " 'CJ Anderson',\n",
       " 'CL White',\n",
       " 'CM Gautam',\n",
       " 'D Brevis',\n",
       " 'D Padikkal',\n",
       " 'DA Miller',\n",
       " 'DA Warner',\n",
       " 'DB Das',\n",
       " 'DB Ravi Teja',\n",
       " 'DJ Bravo',\n",
       " 'DJ Hooda',\n",
       " 'DJ Hussey',\n",
       " 'DJ Mitchell',\n",
       " 'DJG Sammy',\n",
       " 'DP Conway',\n",
       " 'DPMD Jayawardene',\n",
       " 'DR Smith',\n",
       " 'DT Christian',\n",
       " 'DW Steyn',\n",
       " 'Dhruv Jurel',\n",
       " 'E Lewis',\n",
       " 'EJG Morgan',\n",
       " 'F du Plessis',\n",
       " 'FY Fazal',\n",
       " 'G Gambhir',\n",
       " 'GC Smith',\n",
       " 'GH Vihari',\n",
       " 'GJ Bailey',\n",
       " 'GJ Maxwell',\n",
       " 'Gurkeerat Singh',\n",
       " 'H Klaasen',\n",
       " 'HC Brook',\n",
       " 'HH Gibbs',\n",
       " 'HH Pandya',\n",
       " 'HM Amla',\n",
       " 'HV Patel',\n",
       " 'Harbhajan Singh',\n",
       " 'Harpreet Brar',\n",
       " 'IK Pathan',\n",
       " 'Ishan Kishan',\n",
       " 'J Botha',\n",
       " 'JA Morkel',\n",
       " 'JC Buttler',\n",
       " 'JD Ryder',\n",
       " 'JD Unadkat',\n",
       " 'JEC Franklin',\n",
       " 'JH Kallis',\n",
       " 'JJ Roy',\n",
       " 'JM Bairstow',\n",
       " 'JM Sharma',\n",
       " 'JO Holder',\n",
       " 'JP Duminy',\n",
       " 'JP Faulkner',\n",
       " 'JR Hopes',\n",
       " 'K Goel',\n",
       " 'K Gowtham',\n",
       " 'K Rabada',\n",
       " 'KA Pollard',\n",
       " 'KC Sangakkara',\n",
       " 'KD Karthik',\n",
       " 'KH Pandya',\n",
       " 'KK Nair',\n",
       " 'KL Rahul',\n",
       " 'KM Jadhav',\n",
       " 'KP Pietersen',\n",
       " 'KR Mayers',\n",
       " 'KS Bharat',\n",
       " 'KS Williamson',\n",
       " 'KV Sharma',\n",
       " 'Kuldeep Yadav',\n",
       " 'LA Pomersbach',\n",
       " 'LMP Simmons',\n",
       " 'LR Shukla',\n",
       " 'LRPL Taylor',\n",
       " 'LS Livingstone',\n",
       " 'Lalit Yadav',\n",
       " 'M Kaif',\n",
       " 'M Manhas',\n",
       " 'M Shahrukh Khan',\n",
       " 'M Vijay',\n",
       " 'M Vohra',\n",
       " 'MA Agarwal',\n",
       " 'MC Henriques',\n",
       " 'MD Mishra',\n",
       " 'MEK Hussey',\n",
       " 'MG Johnson',\n",
       " 'MJ Guptill',\n",
       " 'MJ Lumb',\n",
       " 'MK Lomror',\n",
       " 'MK Pandey',\n",
       " 'MK Tiwary',\n",
       " 'ML Hayden',\n",
       " 'MM Ali',\n",
       " 'MN Samuels',\n",
       " 'MP Stoinis',\n",
       " 'MR Marsh',\n",
       " 'MS Bisla',\n",
       " 'MS Dhoni',\n",
       " 'MS Wade',\n",
       " 'MV Boucher',\n",
       " 'Mandeep Singh',\n",
       " 'Mohammad Nabi',\n",
       " 'N Jagadeesan',\n",
       " 'N Pooran',\n",
       " 'N Rana',\n",
       " 'N Wadhera',\n",
       " 'NLTC Perera',\n",
       " 'NV Ojha',\n",
       " 'Nithish Kumar Reddy',\n",
       " 'OA Shah',\n",
       " 'P Kumar',\n",
       " 'P Negi',\n",
       " 'P Simran Singh',\n",
       " 'PA Patel',\n",
       " 'PA Reddy',\n",
       " 'PBB Rajapaksa',\n",
       " 'PC Valthaty',\n",
       " 'PD Collingwood',\n",
       " 'PD Salt',\n",
       " 'PJ Cummins',\n",
       " 'PK Garg',\n",
       " 'PP Chawla',\n",
       " 'PP Shaw',\n",
       " 'Q de Kock',\n",
       " 'R Ashwin',\n",
       " 'R Bhatia',\n",
       " 'R Dhawan',\n",
       " 'R Dravid',\n",
       " 'R McLaren',\n",
       " 'R Parag',\n",
       " 'R Powell',\n",
       " 'R Sathish',\n",
       " 'R Tewatia',\n",
       " 'R Vinay Kumar',\n",
       " 'RA Jadeja',\n",
       " 'RA Tripathi',\n",
       " 'RD Gaikwad',\n",
       " 'RG Sharma',\n",
       " 'RK Singh',\n",
       " 'RM Patidar',\n",
       " 'RN ten Doeschate',\n",
       " 'RR Pant',\n",
       " 'RR Rossouw',\n",
       " 'RS Bopara',\n",
       " 'RV Uthappa',\n",
       " 'Rahmanullah Gurbaz',\n",
       " 'Rashid Khan',\n",
       " 'S Badrinath',\n",
       " 'S Dhawan',\n",
       " 'S Dube',\n",
       " 'S Gopal',\n",
       " 'S Sohal',\n",
       " 'SA Asnodkar',\n",
       " 'SA Yadav',\n",
       " 'SC Ganguly',\n",
       " 'SE Marsh',\n",
       " 'SK Raina',\n",
       " 'SK Warne',\n",
       " 'SM Curran',\n",
       " 'SM Katich',\n",
       " 'SN Khan',\n",
       " 'SN Thakur',\n",
       " 'SO Hetmyer',\n",
       " 'SP Fleming',\n",
       " 'SP Goswami',\n",
       " 'SP Narine',\n",
       " 'SPD Smith',\n",
       " 'SR Tendulkar',\n",
       " 'SR Watson',\n",
       " 'SS Iyer',\n",
       " 'SS Tiwary',\n",
       " 'ST Jayasuriya',\n",
       " 'STR Binny',\n",
       " 'SV Samson',\n",
       " 'SW Billings',\n",
       " 'Salman Butt',\n",
       " 'Shahbaz Ahmed',\n",
       " 'Shakib Al Hasan',\n",
       " 'Shashank Singh',\n",
       " 'Shubman Gill',\n",
       " 'T Stubbs',\n",
       " 'TH David',\n",
       " 'TL Suman',\n",
       " 'TM Dilshan',\n",
       " 'TM Head',\n",
       " 'Tilak Varma',\n",
       " 'UBT Chand',\n",
       " 'UT Yadav',\n",
       " 'V Kohli',\n",
       " 'V Sehwag',\n",
       " 'V Shankar',\n",
       " 'VR Iyer',\n",
       " 'VVS Laxman',\n",
       " 'WP Saha',\n",
       " 'Washington Sundar',\n",
       " 'Y Nagar',\n",
       " 'Y Venugopal Rao',\n",
       " 'YBK Jaiswal',\n",
       " 'YK Pathan',\n",
       " 'YV Takawale',\n",
       " 'Yuvraj Singh']"
      ]
     },
     "execution_count": 175,
     "metadata": {},
     "output_type": "execute_result"
    }
   ],
   "execution_count": 175
  },
  {
   "metadata": {
    "ExecuteTime": {
     "end_time": "2024-10-26T17:52:27.719730Z",
     "start_time": "2024-10-26T17:52:27.671743Z"
    }
   },
   "cell_type": "code",
   "source": [
    "new = delivery.query('batter in @x')\n",
    "new.head()"
   ],
   "id": "42aa96ae63d33a4d",
   "outputs": [
    {
     "data": {
      "text/plain": [
       "   match_id  inning           batting_team                 bowling_team  over  \\\n",
       "0    335982       1  Kolkata Knight Riders  Royal Challengers Bangalore     0   \n",
       "1    335982       1  Kolkata Knight Riders  Royal Challengers Bangalore     0   \n",
       "2    335982       1  Kolkata Knight Riders  Royal Challengers Bangalore     0   \n",
       "3    335982       1  Kolkata Knight Riders  Royal Challengers Bangalore     0   \n",
       "4    335982       1  Kolkata Knight Riders  Royal Challengers Bangalore     0   \n",
       "\n",
       "   ball       batter   bowler  non_striker  batsman_runs  extra_runs  \\\n",
       "0     1   SC Ganguly  P Kumar  BB McCullum             0           1   \n",
       "1     2  BB McCullum  P Kumar   SC Ganguly             0           0   \n",
       "2     3  BB McCullum  P Kumar   SC Ganguly             0           1   \n",
       "3     4  BB McCullum  P Kumar   SC Ganguly             0           0   \n",
       "4     5  BB McCullum  P Kumar   SC Ganguly             0           0   \n",
       "\n",
       "   total_runs extras_type  is_wicket player_dismissed dismissal_kind fielder  \n",
       "0           1     legbyes          0              NaN            NaN     NaN  \n",
       "1           0         NaN          0              NaN            NaN     NaN  \n",
       "2           1       wides          0              NaN            NaN     NaN  \n",
       "3           0         NaN          0              NaN            NaN     NaN  \n",
       "4           0         NaN          0              NaN            NaN     NaN  "
      ],
      "text/html": [
       "<div>\n",
       "<style scoped>\n",
       "    .dataframe tbody tr th:only-of-type {\n",
       "        vertical-align: middle;\n",
       "    }\n",
       "\n",
       "    .dataframe tbody tr th {\n",
       "        vertical-align: top;\n",
       "    }\n",
       "\n",
       "    .dataframe thead th {\n",
       "        text-align: right;\n",
       "    }\n",
       "</style>\n",
       "<table border=\"1\" class=\"dataframe\">\n",
       "  <thead>\n",
       "    <tr style=\"text-align: right;\">\n",
       "      <th></th>\n",
       "      <th>match_id</th>\n",
       "      <th>inning</th>\n",
       "      <th>batting_team</th>\n",
       "      <th>bowling_team</th>\n",
       "      <th>over</th>\n",
       "      <th>ball</th>\n",
       "      <th>batter</th>\n",
       "      <th>bowler</th>\n",
       "      <th>non_striker</th>\n",
       "      <th>batsman_runs</th>\n",
       "      <th>extra_runs</th>\n",
       "      <th>total_runs</th>\n",
       "      <th>extras_type</th>\n",
       "      <th>is_wicket</th>\n",
       "      <th>player_dismissed</th>\n",
       "      <th>dismissal_kind</th>\n",
       "      <th>fielder</th>\n",
       "    </tr>\n",
       "  </thead>\n",
       "  <tbody>\n",
       "    <tr>\n",
       "      <th>0</th>\n",
       "      <td>335982</td>\n",
       "      <td>1</td>\n",
       "      <td>Kolkata Knight Riders</td>\n",
       "      <td>Royal Challengers Bangalore</td>\n",
       "      <td>0</td>\n",
       "      <td>1</td>\n",
       "      <td>SC Ganguly</td>\n",
       "      <td>P Kumar</td>\n",
       "      <td>BB McCullum</td>\n",
       "      <td>0</td>\n",
       "      <td>1</td>\n",
       "      <td>1</td>\n",
       "      <td>legbyes</td>\n",
       "      <td>0</td>\n",
       "      <td>NaN</td>\n",
       "      <td>NaN</td>\n",
       "      <td>NaN</td>\n",
       "    </tr>\n",
       "    <tr>\n",
       "      <th>1</th>\n",
       "      <td>335982</td>\n",
       "      <td>1</td>\n",
       "      <td>Kolkata Knight Riders</td>\n",
       "      <td>Royal Challengers Bangalore</td>\n",
       "      <td>0</td>\n",
       "      <td>2</td>\n",
       "      <td>BB McCullum</td>\n",
       "      <td>P Kumar</td>\n",
       "      <td>SC Ganguly</td>\n",
       "      <td>0</td>\n",
       "      <td>0</td>\n",
       "      <td>0</td>\n",
       "      <td>NaN</td>\n",
       "      <td>0</td>\n",
       "      <td>NaN</td>\n",
       "      <td>NaN</td>\n",
       "      <td>NaN</td>\n",
       "    </tr>\n",
       "    <tr>\n",
       "      <th>2</th>\n",
       "      <td>335982</td>\n",
       "      <td>1</td>\n",
       "      <td>Kolkata Knight Riders</td>\n",
       "      <td>Royal Challengers Bangalore</td>\n",
       "      <td>0</td>\n",
       "      <td>3</td>\n",
       "      <td>BB McCullum</td>\n",
       "      <td>P Kumar</td>\n",
       "      <td>SC Ganguly</td>\n",
       "      <td>0</td>\n",
       "      <td>1</td>\n",
       "      <td>1</td>\n",
       "      <td>wides</td>\n",
       "      <td>0</td>\n",
       "      <td>NaN</td>\n",
       "      <td>NaN</td>\n",
       "      <td>NaN</td>\n",
       "    </tr>\n",
       "    <tr>\n",
       "      <th>3</th>\n",
       "      <td>335982</td>\n",
       "      <td>1</td>\n",
       "      <td>Kolkata Knight Riders</td>\n",
       "      <td>Royal Challengers Bangalore</td>\n",
       "      <td>0</td>\n",
       "      <td>4</td>\n",
       "      <td>BB McCullum</td>\n",
       "      <td>P Kumar</td>\n",
       "      <td>SC Ganguly</td>\n",
       "      <td>0</td>\n",
       "      <td>0</td>\n",
       "      <td>0</td>\n",
       "      <td>NaN</td>\n",
       "      <td>0</td>\n",
       "      <td>NaN</td>\n",
       "      <td>NaN</td>\n",
       "      <td>NaN</td>\n",
       "    </tr>\n",
       "    <tr>\n",
       "      <th>4</th>\n",
       "      <td>335982</td>\n",
       "      <td>1</td>\n",
       "      <td>Kolkata Knight Riders</td>\n",
       "      <td>Royal Challengers Bangalore</td>\n",
       "      <td>0</td>\n",
       "      <td>5</td>\n",
       "      <td>BB McCullum</td>\n",
       "      <td>P Kumar</td>\n",
       "      <td>SC Ganguly</td>\n",
       "      <td>0</td>\n",
       "      <td>0</td>\n",
       "      <td>0</td>\n",
       "      <td>NaN</td>\n",
       "      <td>0</td>\n",
       "      <td>NaN</td>\n",
       "      <td>NaN</td>\n",
       "      <td>NaN</td>\n",
       "    </tr>\n",
       "  </tbody>\n",
       "</table>\n",
       "</div>"
      ]
     },
     "execution_count": 176,
     "metadata": {},
     "output_type": "execute_result"
    }
   ],
   "execution_count": 176
  },
  {
   "metadata": {
    "ExecuteTime": {
     "end_time": "2024-10-26T17:54:40.882464Z",
     "start_time": "2024-10-26T17:54:40.839327Z"
    }
   },
   "cell_type": "code",
   "source": [
    "runs = new.groupby('batter')['batsman_runs'].sum()\n",
    "balls = new.groupby('batter')['batsman_runs'].count()\n",
    "\n",
    "sr = (runs / balls) * 100\n",
    "sr = sr.reset_index()\n",
    "sr.rename(columns={'batsman_runs': 'strike_rate'}, inplace=True)\n",
    "sr"
   ],
   "id": "b5eb73f21a9b1dc7",
   "outputs": [
    {
     "data": {
      "text/plain": [
       "              batter  strike_rate\n",
       "0     A Ashish Reddy   142.857143\n",
       "1           A Badoni   125.544554\n",
       "2          A Manohar   127.624309\n",
       "3           A Mishra    86.590909\n",
       "4          A Symonds   124.711908\n",
       "..               ...          ...\n",
       "235  Y Venugopal Rao   113.872832\n",
       "236      YBK Jaiswal   146.757991\n",
       "237        YK Pathan   138.046272\n",
       "238      YV Takawale   104.918033\n",
       "239     Yuvraj Singh   124.784776\n",
       "\n",
       "[240 rows x 2 columns]"
      ],
      "text/html": [
       "<div>\n",
       "<style scoped>\n",
       "    .dataframe tbody tr th:only-of-type {\n",
       "        vertical-align: middle;\n",
       "    }\n",
       "\n",
       "    .dataframe tbody tr th {\n",
       "        vertical-align: top;\n",
       "    }\n",
       "\n",
       "    .dataframe thead th {\n",
       "        text-align: right;\n",
       "    }\n",
       "</style>\n",
       "<table border=\"1\" class=\"dataframe\">\n",
       "  <thead>\n",
       "    <tr style=\"text-align: right;\">\n",
       "      <th></th>\n",
       "      <th>batter</th>\n",
       "      <th>strike_rate</th>\n",
       "    </tr>\n",
       "  </thead>\n",
       "  <tbody>\n",
       "    <tr>\n",
       "      <th>0</th>\n",
       "      <td>A Ashish Reddy</td>\n",
       "      <td>142.857143</td>\n",
       "    </tr>\n",
       "    <tr>\n",
       "      <th>1</th>\n",
       "      <td>A Badoni</td>\n",
       "      <td>125.544554</td>\n",
       "    </tr>\n",
       "    <tr>\n",
       "      <th>2</th>\n",
       "      <td>A Manohar</td>\n",
       "      <td>127.624309</td>\n",
       "    </tr>\n",
       "    <tr>\n",
       "      <th>3</th>\n",
       "      <td>A Mishra</td>\n",
       "      <td>86.590909</td>\n",
       "    </tr>\n",
       "    <tr>\n",
       "      <th>4</th>\n",
       "      <td>A Symonds</td>\n",
       "      <td>124.711908</td>\n",
       "    </tr>\n",
       "    <tr>\n",
       "      <th>...</th>\n",
       "      <td>...</td>\n",
       "      <td>...</td>\n",
       "    </tr>\n",
       "    <tr>\n",
       "      <th>235</th>\n",
       "      <td>Y Venugopal Rao</td>\n",
       "      <td>113.872832</td>\n",
       "    </tr>\n",
       "    <tr>\n",
       "      <th>236</th>\n",
       "      <td>YBK Jaiswal</td>\n",
       "      <td>146.757991</td>\n",
       "    </tr>\n",
       "    <tr>\n",
       "      <th>237</th>\n",
       "      <td>YK Pathan</td>\n",
       "      <td>138.046272</td>\n",
       "    </tr>\n",
       "    <tr>\n",
       "      <th>238</th>\n",
       "      <td>YV Takawale</td>\n",
       "      <td>104.918033</td>\n",
       "    </tr>\n",
       "    <tr>\n",
       "      <th>239</th>\n",
       "      <td>Yuvraj Singh</td>\n",
       "      <td>124.784776</td>\n",
       "    </tr>\n",
       "  </tbody>\n",
       "</table>\n",
       "<p>240 rows × 2 columns</p>\n",
       "</div>"
      ]
     },
     "execution_count": 180,
     "metadata": {},
     "output_type": "execute_result"
    }
   ],
   "execution_count": 180
  },
  {
   "metadata": {
    "ExecuteTime": {
     "end_time": "2024-10-26T18:01:09.484269Z",
     "start_time": "2024-10-26T18:01:09.475198Z"
    }
   },
   "cell_type": "code",
   "source": [
    "# Plot histogram\n",
    "trace = go.Histogram(x=sr.strike_rate, xbins={'size': 2, 'start': 50, 'end': 100})\n",
    "\n",
    "data = [trace]\n",
    "\n",
    "layout = go.Layout(title='Strike Rate Variations',\n",
    "                   xaxis={'title': 'Strike Rates'})\n",
    "\n",
    "fig = go.Figure(data=data, layout=layout)\n",
    "\n",
    "plotly.io.show(fig)"
   ],
   "id": "ec1a1fe44a295e1e",
   "outputs": [
    {
     "data": {
      "application/vnd.plotly.v1+json": {
       "data": [
        {
         "x": [
          142.85714285714286,
          125.54455445544555,
          127.62430939226519,
          86.5909090909091,
          124.71190781049937,
          99.54128440366972,
          111.87499999999999,
          148.58044164037855,
          133.05466237942122,
          120.86811352253757,
          164.22442244224422,
          123.34905660377358,
          126.4294790343075,
          109.26430517711172,
          114.28571428571428,
          120.32141005702437,
          118.94736842105263,
          125.41729893778452,
          112.79069767441861,
          124.58452722063038,
          141.91176470588235,
          148.86486486486484,
          147.54098360655738,
          115.21739130434783,
          139.54802259887003,
          124.7588424437299,
          109.375,
          90.53254437869822,
          134.28571428571428,
          130.22284122562675,
          126.84859154929578,
          121.42237640936686,
          149.78813559322032,
          132.31441048034935,
          112.02185792349727,
          136.4476386036961,
          96.7741935483871,
          142.1217292377702,
          149.636803874092,
          123.39449541284404,
          125.45219638242895,
          106.9620253164557,
          130.6818181818182,
          117.83824640967498,
          134.68447719944726,
          135.4299855640338,
          113.85767790262172,
          115.38461538461537,
          125.10024057738573,
          125.2991452991453,
          120.07266121707538,
          128.1021897810219,
          117.52988047808766,
          138.11659192825113,
          118.7910643889619,
          132.27953410981698,
          112.74509803921569,
          102.45398773006136,
          146.41350210970467,
          131.06212424849699,
          119.05165114309906,
          133.07132459970887,
          102.23463687150837,
          119.66515323496027,
          106.9464544138929,
          85.80060422960725,
          120.1086956521739,
          150.4885993485342,
          117.20183486238531,
          161.99021207177816,
          119.49685534591194,
          105.8542413381123,
          139.69128996692393,
          138.03827751196172,
          116.35514018691589,
          130.9748427672956,
          115.92039800995025,
          116.75126903553299,
          132.79758915118032,
          112.36263736263736,
          136.93820224719101,
          142.23898372369987,
          129.6137339055794,
          115.88235294117648,
          105.8252427184466,
          105.93627237014405,
          133.47826086956522,
          140.37102473498234,
          145.70858283433134,
          119.35483870967742,
          120.77380952380952,
          129.80295566502463,
          132.80254777070064,
          91.21338912133892,
          155.34591194968556,
          99.51690821256038,
          140.45770331017573,
          118.4691011235955,
          131.35340385136968,
          127.97202797202797,
          125.503355704698,
          131.05086640581328,
          119.36758893280633,
          132.05804749340368,
          137.31884057971016,
          118.45238095238095,
          122.95271049596307,
          114.70588235294117,
          81.69642857142857,
          120.3187250996016,
          122.89293849658314,
          113.12849162011173,
          120.07083825265643,
          154.1871921182266,
          101.32890365448506,
          100.3875968992248,
          105.76131687242798,
          133.89830508474577,
          118.61413043478262,
          125.49246813441484,
          128.25564632388276,
          124.84394506866417,
          111.26760563380283,
          119.96359223300972,
          99.40476190476191,
          137.56345177664974,
          140.4040404040404,
          135.47557840616966,
          117.36618004866179,
          113.83478844862324,
          131.94278903456495,
          136.86690223792698,
          92.52873563218391,
          136.60322108345534,
          125.0,
          108.27679782903662,
          132.8350646060299,
          98.91891891891892,
          123.89937106918238,
          120.31029619181946,
          140.76433121019107,
          104.51612903225806,
          154.7681539807524,
          130.81885856079404,
          134.09961685823754,
          130.06134969325154,
          114.26470588235293,
          137.10407239819006,
          124.93827160493827,
          105.26315789473684,
          121.26245847176081,
          143.1818181818182,
          116.62571662571663,
          98.20359281437125,
          137.81094527363186,
          116.89814814814814,
          127.67295597484276,
          169.6103896103896,
          143.4540389972145,
          110.5263157894737,
          107.58620689655172,
          143.22482967448903,
          131.12033195020746,
          114.61318051575931,
          117.9310344827586,
          111.70212765957446,
          113.34723670490095,
          89.32584269662921,
          129.04290429042905,
          141.73228346456693,
          114.40677966101696,
          128.55329949238578,
          107.26643598615917,
          124.4322960470984,
          135.51515151515153,
          133.63279056709715,
          127.91819409608335,
          136.54434250764527,
          149.625468164794,
          136.9747899159664,
          143.59756097560975,
          147.35202492211837,
          113.46153846153845,
          126.15227909345556,
          126.75438596491229,
          153.52112676056336,
          115.74297188755021,
          123.45431333211745,
          139.46146703806872,
          104.04624277456647,
          118.32797427652733,
          120.17045454545455,
          142.50594766058683,
          101.73453996983409,
          130.10977522216413,
          132.53531242518554,
          90.41095890410958,
          131.2035661218425,
          126.17801047120419,
          128.28947368421052,
          134.64912280701756,
          145.5503512880562,
          114.61988304093566,
          95.43973941368078,
          155.8943089430894,
          124.81240620310155,
          114.18786692759295,
          134.1632088520055,
          123.02554027504911,
          115.72424477149497,
          134.03141361256544,
          125.71428571428571,
          135.1376146788991,
          126.06516290726817,
          112.20930232558139,
          114.77516059957173,
          119.54887218045114,
          155.51470588235296,
          132.23684210526315,
          169.4560669456067,
          158.0335731414868,
          115.1618398637138,
          110.12416427889207,
          168.5589519650655,
          139.27710843373492,
          95.54140127388536,
          98.5781990521327,
          128.51186658114176,
          148.82705946535734,
          125.2808988764045,
          132.6,
          104.0590405904059,
          123.90202702702702,
          110.85043988269794,
          105.1660516605166,
          113.87283236994219,
          146.7579908675799,
          138.04627249357327,
          104.91803278688525,
          124.78477571363842
         ],
         "xbins": {
          "end": 100,
          "size": 2,
          "start": 50
         },
         "type": "histogram"
        }
       ],
       "layout": {
        "title": {
         "text": "Strike Rate Variations"
        },
        "xaxis": {
         "title": {
          "text": "Strike Rates"
         }
        },
        "template": {
         "data": {
          "histogram2dcontour": [
           {
            "type": "histogram2dcontour",
            "colorbar": {
             "outlinewidth": 0,
             "ticks": ""
            },
            "colorscale": [
             [
              0.0,
              "#0d0887"
             ],
             [
              0.1111111111111111,
              "#46039f"
             ],
             [
              0.2222222222222222,
              "#7201a8"
             ],
             [
              0.3333333333333333,
              "#9c179e"
             ],
             [
              0.4444444444444444,
              "#bd3786"
             ],
             [
              0.5555555555555556,
              "#d8576b"
             ],
             [
              0.6666666666666666,
              "#ed7953"
             ],
             [
              0.7777777777777778,
              "#fb9f3a"
             ],
             [
              0.8888888888888888,
              "#fdca26"
             ],
             [
              1.0,
              "#f0f921"
             ]
            ]
           }
          ],
          "choropleth": [
           {
            "type": "choropleth",
            "colorbar": {
             "outlinewidth": 0,
             "ticks": ""
            }
           }
          ],
          "histogram2d": [
           {
            "type": "histogram2d",
            "colorbar": {
             "outlinewidth": 0,
             "ticks": ""
            },
            "colorscale": [
             [
              0.0,
              "#0d0887"
             ],
             [
              0.1111111111111111,
              "#46039f"
             ],
             [
              0.2222222222222222,
              "#7201a8"
             ],
             [
              0.3333333333333333,
              "#9c179e"
             ],
             [
              0.4444444444444444,
              "#bd3786"
             ],
             [
              0.5555555555555556,
              "#d8576b"
             ],
             [
              0.6666666666666666,
              "#ed7953"
             ],
             [
              0.7777777777777778,
              "#fb9f3a"
             ],
             [
              0.8888888888888888,
              "#fdca26"
             ],
             [
              1.0,
              "#f0f921"
             ]
            ]
           }
          ],
          "heatmap": [
           {
            "type": "heatmap",
            "colorbar": {
             "outlinewidth": 0,
             "ticks": ""
            },
            "colorscale": [
             [
              0.0,
              "#0d0887"
             ],
             [
              0.1111111111111111,
              "#46039f"
             ],
             [
              0.2222222222222222,
              "#7201a8"
             ],
             [
              0.3333333333333333,
              "#9c179e"
             ],
             [
              0.4444444444444444,
              "#bd3786"
             ],
             [
              0.5555555555555556,
              "#d8576b"
             ],
             [
              0.6666666666666666,
              "#ed7953"
             ],
             [
              0.7777777777777778,
              "#fb9f3a"
             ],
             [
              0.8888888888888888,
              "#fdca26"
             ],
             [
              1.0,
              "#f0f921"
             ]
            ]
           }
          ],
          "heatmapgl": [
           {
            "type": "heatmapgl",
            "colorbar": {
             "outlinewidth": 0,
             "ticks": ""
            },
            "colorscale": [
             [
              0.0,
              "#0d0887"
             ],
             [
              0.1111111111111111,
              "#46039f"
             ],
             [
              0.2222222222222222,
              "#7201a8"
             ],
             [
              0.3333333333333333,
              "#9c179e"
             ],
             [
              0.4444444444444444,
              "#bd3786"
             ],
             [
              0.5555555555555556,
              "#d8576b"
             ],
             [
              0.6666666666666666,
              "#ed7953"
             ],
             [
              0.7777777777777778,
              "#fb9f3a"
             ],
             [
              0.8888888888888888,
              "#fdca26"
             ],
             [
              1.0,
              "#f0f921"
             ]
            ]
           }
          ],
          "contourcarpet": [
           {
            "type": "contourcarpet",
            "colorbar": {
             "outlinewidth": 0,
             "ticks": ""
            }
           }
          ],
          "contour": [
           {
            "type": "contour",
            "colorbar": {
             "outlinewidth": 0,
             "ticks": ""
            },
            "colorscale": [
             [
              0.0,
              "#0d0887"
             ],
             [
              0.1111111111111111,
              "#46039f"
             ],
             [
              0.2222222222222222,
              "#7201a8"
             ],
             [
              0.3333333333333333,
              "#9c179e"
             ],
             [
              0.4444444444444444,
              "#bd3786"
             ],
             [
              0.5555555555555556,
              "#d8576b"
             ],
             [
              0.6666666666666666,
              "#ed7953"
             ],
             [
              0.7777777777777778,
              "#fb9f3a"
             ],
             [
              0.8888888888888888,
              "#fdca26"
             ],
             [
              1.0,
              "#f0f921"
             ]
            ]
           }
          ],
          "surface": [
           {
            "type": "surface",
            "colorbar": {
             "outlinewidth": 0,
             "ticks": ""
            },
            "colorscale": [
             [
              0.0,
              "#0d0887"
             ],
             [
              0.1111111111111111,
              "#46039f"
             ],
             [
              0.2222222222222222,
              "#7201a8"
             ],
             [
              0.3333333333333333,
              "#9c179e"
             ],
             [
              0.4444444444444444,
              "#bd3786"
             ],
             [
              0.5555555555555556,
              "#d8576b"
             ],
             [
              0.6666666666666666,
              "#ed7953"
             ],
             [
              0.7777777777777778,
              "#fb9f3a"
             ],
             [
              0.8888888888888888,
              "#fdca26"
             ],
             [
              1.0,
              "#f0f921"
             ]
            ]
           }
          ],
          "mesh3d": [
           {
            "type": "mesh3d",
            "colorbar": {
             "outlinewidth": 0,
             "ticks": ""
            }
           }
          ],
          "scatter": [
           {
            "fillpattern": {
             "fillmode": "overlay",
             "size": 10,
             "solidity": 0.2
            },
            "type": "scatter"
           }
          ],
          "parcoords": [
           {
            "type": "parcoords",
            "line": {
             "colorbar": {
              "outlinewidth": 0,
              "ticks": ""
             }
            }
           }
          ],
          "scatterpolargl": [
           {
            "type": "scatterpolargl",
            "marker": {
             "colorbar": {
              "outlinewidth": 0,
              "ticks": ""
             }
            }
           }
          ],
          "bar": [
           {
            "error_x": {
             "color": "#2a3f5f"
            },
            "error_y": {
             "color": "#2a3f5f"
            },
            "marker": {
             "line": {
              "color": "#E5ECF6",
              "width": 0.5
             },
             "pattern": {
              "fillmode": "overlay",
              "size": 10,
              "solidity": 0.2
             }
            },
            "type": "bar"
           }
          ],
          "scattergeo": [
           {
            "type": "scattergeo",
            "marker": {
             "colorbar": {
              "outlinewidth": 0,
              "ticks": ""
             }
            }
           }
          ],
          "scatterpolar": [
           {
            "type": "scatterpolar",
            "marker": {
             "colorbar": {
              "outlinewidth": 0,
              "ticks": ""
             }
            }
           }
          ],
          "histogram": [
           {
            "marker": {
             "pattern": {
              "fillmode": "overlay",
              "size": 10,
              "solidity": 0.2
             }
            },
            "type": "histogram"
           }
          ],
          "scattergl": [
           {
            "type": "scattergl",
            "marker": {
             "colorbar": {
              "outlinewidth": 0,
              "ticks": ""
             }
            }
           }
          ],
          "scatter3d": [
           {
            "type": "scatter3d",
            "line": {
             "colorbar": {
              "outlinewidth": 0,
              "ticks": ""
             }
            },
            "marker": {
             "colorbar": {
              "outlinewidth": 0,
              "ticks": ""
             }
            }
           }
          ],
          "scattermapbox": [
           {
            "type": "scattermapbox",
            "marker": {
             "colorbar": {
              "outlinewidth": 0,
              "ticks": ""
             }
            }
           }
          ],
          "scatterternary": [
           {
            "type": "scatterternary",
            "marker": {
             "colorbar": {
              "outlinewidth": 0,
              "ticks": ""
             }
            }
           }
          ],
          "scattercarpet": [
           {
            "type": "scattercarpet",
            "marker": {
             "colorbar": {
              "outlinewidth": 0,
              "ticks": ""
             }
            }
           }
          ],
          "carpet": [
           {
            "aaxis": {
             "endlinecolor": "#2a3f5f",
             "gridcolor": "white",
             "linecolor": "white",
             "minorgridcolor": "white",
             "startlinecolor": "#2a3f5f"
            },
            "baxis": {
             "endlinecolor": "#2a3f5f",
             "gridcolor": "white",
             "linecolor": "white",
             "minorgridcolor": "white",
             "startlinecolor": "#2a3f5f"
            },
            "type": "carpet"
           }
          ],
          "table": [
           {
            "cells": {
             "fill": {
              "color": "#EBF0F8"
             },
             "line": {
              "color": "white"
             }
            },
            "header": {
             "fill": {
              "color": "#C8D4E3"
             },
             "line": {
              "color": "white"
             }
            },
            "type": "table"
           }
          ],
          "barpolar": [
           {
            "marker": {
             "line": {
              "color": "#E5ECF6",
              "width": 0.5
             },
             "pattern": {
              "fillmode": "overlay",
              "size": 10,
              "solidity": 0.2
             }
            },
            "type": "barpolar"
           }
          ],
          "pie": [
           {
            "automargin": true,
            "type": "pie"
           }
          ]
         },
         "layout": {
          "autotypenumbers": "strict",
          "colorway": [
           "#636efa",
           "#EF553B",
           "#00cc96",
           "#ab63fa",
           "#FFA15A",
           "#19d3f3",
           "#FF6692",
           "#B6E880",
           "#FF97FF",
           "#FECB52"
          ],
          "font": {
           "color": "#2a3f5f"
          },
          "hovermode": "closest",
          "hoverlabel": {
           "align": "left"
          },
          "paper_bgcolor": "white",
          "plot_bgcolor": "#E5ECF6",
          "polar": {
           "bgcolor": "#E5ECF6",
           "angularaxis": {
            "gridcolor": "white",
            "linecolor": "white",
            "ticks": ""
           },
           "radialaxis": {
            "gridcolor": "white",
            "linecolor": "white",
            "ticks": ""
           }
          },
          "ternary": {
           "bgcolor": "#E5ECF6",
           "aaxis": {
            "gridcolor": "white",
            "linecolor": "white",
            "ticks": ""
           },
           "baxis": {
            "gridcolor": "white",
            "linecolor": "white",
            "ticks": ""
           },
           "caxis": {
            "gridcolor": "white",
            "linecolor": "white",
            "ticks": ""
           }
          },
          "coloraxis": {
           "colorbar": {
            "outlinewidth": 0,
            "ticks": ""
           }
          },
          "colorscale": {
           "sequential": [
            [
             0.0,
             "#0d0887"
            ],
            [
             0.1111111111111111,
             "#46039f"
            ],
            [
             0.2222222222222222,
             "#7201a8"
            ],
            [
             0.3333333333333333,
             "#9c179e"
            ],
            [
             0.4444444444444444,
             "#bd3786"
            ],
            [
             0.5555555555555556,
             "#d8576b"
            ],
            [
             0.6666666666666666,
             "#ed7953"
            ],
            [
             0.7777777777777778,
             "#fb9f3a"
            ],
            [
             0.8888888888888888,
             "#fdca26"
            ],
            [
             1.0,
             "#f0f921"
            ]
           ],
           "sequentialminus": [
            [
             0.0,
             "#0d0887"
            ],
            [
             0.1111111111111111,
             "#46039f"
            ],
            [
             0.2222222222222222,
             "#7201a8"
            ],
            [
             0.3333333333333333,
             "#9c179e"
            ],
            [
             0.4444444444444444,
             "#bd3786"
            ],
            [
             0.5555555555555556,
             "#d8576b"
            ],
            [
             0.6666666666666666,
             "#ed7953"
            ],
            [
             0.7777777777777778,
             "#fb9f3a"
            ],
            [
             0.8888888888888888,
             "#fdca26"
            ],
            [
             1.0,
             "#f0f921"
            ]
           ],
           "diverging": [
            [
             0,
             "#8e0152"
            ],
            [
             0.1,
             "#c51b7d"
            ],
            [
             0.2,
             "#de77ae"
            ],
            [
             0.3,
             "#f1b6da"
            ],
            [
             0.4,
             "#fde0ef"
            ],
            [
             0.5,
             "#f7f7f7"
            ],
            [
             0.6,
             "#e6f5d0"
            ],
            [
             0.7,
             "#b8e186"
            ],
            [
             0.8,
             "#7fbc41"
            ],
            [
             0.9,
             "#4d9221"
            ],
            [
             1,
             "#276419"
            ]
           ]
          },
          "xaxis": {
           "gridcolor": "white",
           "linecolor": "white",
           "ticks": "",
           "title": {
            "standoff": 15
           },
           "zerolinecolor": "white",
           "automargin": true,
           "zerolinewidth": 2
          },
          "yaxis": {
           "gridcolor": "white",
           "linecolor": "white",
           "ticks": "",
           "title": {
            "standoff": 15
           },
           "zerolinecolor": "white",
           "automargin": true,
           "zerolinewidth": 2
          },
          "scene": {
           "xaxis": {
            "backgroundcolor": "#E5ECF6",
            "gridcolor": "white",
            "linecolor": "white",
            "showbackground": true,
            "ticks": "",
            "zerolinecolor": "white",
            "gridwidth": 2
           },
           "yaxis": {
            "backgroundcolor": "#E5ECF6",
            "gridcolor": "white",
            "linecolor": "white",
            "showbackground": true,
            "ticks": "",
            "zerolinecolor": "white",
            "gridwidth": 2
           },
           "zaxis": {
            "backgroundcolor": "#E5ECF6",
            "gridcolor": "white",
            "linecolor": "white",
            "showbackground": true,
            "ticks": "",
            "zerolinecolor": "white",
            "gridwidth": 2
           }
          },
          "shapedefaults": {
           "line": {
            "color": "#2a3f5f"
           }
          },
          "annotationdefaults": {
           "arrowcolor": "#2a3f5f",
           "arrowhead": 0,
           "arrowwidth": 1
          },
          "geo": {
           "bgcolor": "white",
           "landcolor": "#E5ECF6",
           "subunitcolor": "white",
           "showland": true,
           "showlakes": true,
           "lakecolor": "white"
          },
          "title": {
           "x": 0.05
          },
          "mapbox": {
           "style": "light"
          }
         }
        }
       },
       "config": {
        "plotlyServerURL": "https://plot.ly"
       }
      },
      "text/html": [
       "<div>                            <div id=\"398a3eee-1ce6-48fb-a3f8-5a8325f251b8\" class=\"plotly-graph-div\" style=\"height:525px; width:100%;\"></div>            <script type=\"text/javascript\">                require([\"plotly\"], function(Plotly) {                    window.PLOTLYENV=window.PLOTLYENV || {};                                    if (document.getElementById(\"398a3eee-1ce6-48fb-a3f8-5a8325f251b8\")) {                    Plotly.newPlot(                        \"398a3eee-1ce6-48fb-a3f8-5a8325f251b8\",                        [{\"x\":[142.85714285714286,125.54455445544555,127.62430939226519,86.5909090909091,124.71190781049937,99.54128440366972,111.87499999999999,148.58044164037855,133.05466237942122,120.86811352253757,164.22442244224422,123.34905660377358,126.4294790343075,109.26430517711172,114.28571428571428,120.32141005702437,118.94736842105263,125.41729893778452,112.79069767441861,124.58452722063038,141.91176470588235,148.86486486486484,147.54098360655738,115.21739130434783,139.54802259887003,124.7588424437299,109.375,90.53254437869822,134.28571428571428,130.22284122562675,126.84859154929578,121.42237640936686,149.78813559322032,132.31441048034935,112.02185792349727,136.4476386036961,96.7741935483871,142.1217292377702,149.636803874092,123.39449541284404,125.45219638242895,106.9620253164557,130.6818181818182,117.83824640967498,134.68447719944726,135.4299855640338,113.85767790262172,115.38461538461537,125.10024057738573,125.2991452991453,120.07266121707538,128.1021897810219,117.52988047808766,138.11659192825113,118.7910643889619,132.27953410981698,112.74509803921569,102.45398773006136,146.41350210970467,131.06212424849699,119.05165114309906,133.07132459970887,102.23463687150837,119.66515323496027,106.9464544138929,85.80060422960725,120.1086956521739,150.4885993485342,117.20183486238531,161.99021207177816,119.49685534591194,105.8542413381123,139.69128996692393,138.03827751196172,116.35514018691589,130.9748427672956,115.92039800995025,116.75126903553299,132.79758915118032,112.36263736263736,136.93820224719101,142.23898372369987,129.6137339055794,115.88235294117648,105.8252427184466,105.93627237014405,133.47826086956522,140.37102473498234,145.70858283433134,119.35483870967742,120.77380952380952,129.80295566502463,132.80254777070064,91.21338912133892,155.34591194968556,99.51690821256038,140.45770331017573,118.4691011235955,131.35340385136968,127.97202797202797,125.503355704698,131.05086640581328,119.36758893280633,132.05804749340368,137.31884057971016,118.45238095238095,122.95271049596307,114.70588235294117,81.69642857142857,120.3187250996016,122.89293849658314,113.12849162011173,120.07083825265643,154.1871921182266,101.32890365448506,100.3875968992248,105.76131687242798,133.89830508474577,118.61413043478262,125.49246813441484,128.25564632388276,124.84394506866417,111.26760563380283,119.96359223300972,99.40476190476191,137.56345177664974,140.4040404040404,135.47557840616966,117.36618004866179,113.83478844862324,131.94278903456495,136.86690223792698,92.52873563218391,136.60322108345534,125.0,108.27679782903662,132.8350646060299,98.91891891891892,123.89937106918238,120.31029619181946,140.76433121019107,104.51612903225806,154.7681539807524,130.81885856079404,134.09961685823754,130.06134969325154,114.26470588235293,137.10407239819006,124.93827160493827,105.26315789473684,121.26245847176081,143.1818181818182,116.62571662571663,98.20359281437125,137.81094527363186,116.89814814814814,127.67295597484276,169.6103896103896,143.4540389972145,110.5263157894737,107.58620689655172,143.22482967448903,131.12033195020746,114.61318051575931,117.9310344827586,111.70212765957446,113.34723670490095,89.32584269662921,129.04290429042905,141.73228346456693,114.40677966101696,128.55329949238578,107.26643598615917,124.4322960470984,135.51515151515153,133.63279056709715,127.91819409608335,136.54434250764527,149.625468164794,136.9747899159664,143.59756097560975,147.35202492211837,113.46153846153845,126.15227909345556,126.75438596491229,153.52112676056336,115.74297188755021,123.45431333211745,139.46146703806872,104.04624277456647,118.32797427652733,120.17045454545455,142.50594766058683,101.73453996983409,130.10977522216413,132.53531242518554,90.41095890410958,131.2035661218425,126.17801047120419,128.28947368421052,134.64912280701756,145.5503512880562,114.61988304093566,95.43973941368078,155.8943089430894,124.81240620310155,114.18786692759295,134.1632088520055,123.02554027504911,115.72424477149497,134.03141361256544,125.71428571428571,135.1376146788991,126.06516290726817,112.20930232558139,114.77516059957173,119.54887218045114,155.51470588235296,132.23684210526315,169.4560669456067,158.0335731414868,115.1618398637138,110.12416427889207,168.5589519650655,139.27710843373492,95.54140127388536,98.5781990521327,128.51186658114176,148.82705946535734,125.2808988764045,132.6,104.0590405904059,123.90202702702702,110.85043988269794,105.1660516605166,113.87283236994219,146.7579908675799,138.04627249357327,104.91803278688525,124.78477571363842],\"xbins\":{\"end\":100,\"size\":2,\"start\":50},\"type\":\"histogram\"}],                        {\"title\":{\"text\":\"Strike Rate Variations\"},\"xaxis\":{\"title\":{\"text\":\"Strike Rates\"}},\"template\":{\"data\":{\"histogram2dcontour\":[{\"type\":\"histogram2dcontour\",\"colorbar\":{\"outlinewidth\":0,\"ticks\":\"\"},\"colorscale\":[[0.0,\"#0d0887\"],[0.1111111111111111,\"#46039f\"],[0.2222222222222222,\"#7201a8\"],[0.3333333333333333,\"#9c179e\"],[0.4444444444444444,\"#bd3786\"],[0.5555555555555556,\"#d8576b\"],[0.6666666666666666,\"#ed7953\"],[0.7777777777777778,\"#fb9f3a\"],[0.8888888888888888,\"#fdca26\"],[1.0,\"#f0f921\"]]}],\"choropleth\":[{\"type\":\"choropleth\",\"colorbar\":{\"outlinewidth\":0,\"ticks\":\"\"}}],\"histogram2d\":[{\"type\":\"histogram2d\",\"colorbar\":{\"outlinewidth\":0,\"ticks\":\"\"},\"colorscale\":[[0.0,\"#0d0887\"],[0.1111111111111111,\"#46039f\"],[0.2222222222222222,\"#7201a8\"],[0.3333333333333333,\"#9c179e\"],[0.4444444444444444,\"#bd3786\"],[0.5555555555555556,\"#d8576b\"],[0.6666666666666666,\"#ed7953\"],[0.7777777777777778,\"#fb9f3a\"],[0.8888888888888888,\"#fdca26\"],[1.0,\"#f0f921\"]]}],\"heatmap\":[{\"type\":\"heatmap\",\"colorbar\":{\"outlinewidth\":0,\"ticks\":\"\"},\"colorscale\":[[0.0,\"#0d0887\"],[0.1111111111111111,\"#46039f\"],[0.2222222222222222,\"#7201a8\"],[0.3333333333333333,\"#9c179e\"],[0.4444444444444444,\"#bd3786\"],[0.5555555555555556,\"#d8576b\"],[0.6666666666666666,\"#ed7953\"],[0.7777777777777778,\"#fb9f3a\"],[0.8888888888888888,\"#fdca26\"],[1.0,\"#f0f921\"]]}],\"heatmapgl\":[{\"type\":\"heatmapgl\",\"colorbar\":{\"outlinewidth\":0,\"ticks\":\"\"},\"colorscale\":[[0.0,\"#0d0887\"],[0.1111111111111111,\"#46039f\"],[0.2222222222222222,\"#7201a8\"],[0.3333333333333333,\"#9c179e\"],[0.4444444444444444,\"#bd3786\"],[0.5555555555555556,\"#d8576b\"],[0.6666666666666666,\"#ed7953\"],[0.7777777777777778,\"#fb9f3a\"],[0.8888888888888888,\"#fdca26\"],[1.0,\"#f0f921\"]]}],\"contourcarpet\":[{\"type\":\"contourcarpet\",\"colorbar\":{\"outlinewidth\":0,\"ticks\":\"\"}}],\"contour\":[{\"type\":\"contour\",\"colorbar\":{\"outlinewidth\":0,\"ticks\":\"\"},\"colorscale\":[[0.0,\"#0d0887\"],[0.1111111111111111,\"#46039f\"],[0.2222222222222222,\"#7201a8\"],[0.3333333333333333,\"#9c179e\"],[0.4444444444444444,\"#bd3786\"],[0.5555555555555556,\"#d8576b\"],[0.6666666666666666,\"#ed7953\"],[0.7777777777777778,\"#fb9f3a\"],[0.8888888888888888,\"#fdca26\"],[1.0,\"#f0f921\"]]}],\"surface\":[{\"type\":\"surface\",\"colorbar\":{\"outlinewidth\":0,\"ticks\":\"\"},\"colorscale\":[[0.0,\"#0d0887\"],[0.1111111111111111,\"#46039f\"],[0.2222222222222222,\"#7201a8\"],[0.3333333333333333,\"#9c179e\"],[0.4444444444444444,\"#bd3786\"],[0.5555555555555556,\"#d8576b\"],[0.6666666666666666,\"#ed7953\"],[0.7777777777777778,\"#fb9f3a\"],[0.8888888888888888,\"#fdca26\"],[1.0,\"#f0f921\"]]}],\"mesh3d\":[{\"type\":\"mesh3d\",\"colorbar\":{\"outlinewidth\":0,\"ticks\":\"\"}}],\"scatter\":[{\"fillpattern\":{\"fillmode\":\"overlay\",\"size\":10,\"solidity\":0.2},\"type\":\"scatter\"}],\"parcoords\":[{\"type\":\"parcoords\",\"line\":{\"colorbar\":{\"outlinewidth\":0,\"ticks\":\"\"}}}],\"scatterpolargl\":[{\"type\":\"scatterpolargl\",\"marker\":{\"colorbar\":{\"outlinewidth\":0,\"ticks\":\"\"}}}],\"bar\":[{\"error_x\":{\"color\":\"#2a3f5f\"},\"error_y\":{\"color\":\"#2a3f5f\"},\"marker\":{\"line\":{\"color\":\"#E5ECF6\",\"width\":0.5},\"pattern\":{\"fillmode\":\"overlay\",\"size\":10,\"solidity\":0.2}},\"type\":\"bar\"}],\"scattergeo\":[{\"type\":\"scattergeo\",\"marker\":{\"colorbar\":{\"outlinewidth\":0,\"ticks\":\"\"}}}],\"scatterpolar\":[{\"type\":\"scatterpolar\",\"marker\":{\"colorbar\":{\"outlinewidth\":0,\"ticks\":\"\"}}}],\"histogram\":[{\"marker\":{\"pattern\":{\"fillmode\":\"overlay\",\"size\":10,\"solidity\":0.2}},\"type\":\"histogram\"}],\"scattergl\":[{\"type\":\"scattergl\",\"marker\":{\"colorbar\":{\"outlinewidth\":0,\"ticks\":\"\"}}}],\"scatter3d\":[{\"type\":\"scatter3d\",\"line\":{\"colorbar\":{\"outlinewidth\":0,\"ticks\":\"\"}},\"marker\":{\"colorbar\":{\"outlinewidth\":0,\"ticks\":\"\"}}}],\"scattermapbox\":[{\"type\":\"scattermapbox\",\"marker\":{\"colorbar\":{\"outlinewidth\":0,\"ticks\":\"\"}}}],\"scatterternary\":[{\"type\":\"scatterternary\",\"marker\":{\"colorbar\":{\"outlinewidth\":0,\"ticks\":\"\"}}}],\"scattercarpet\":[{\"type\":\"scattercarpet\",\"marker\":{\"colorbar\":{\"outlinewidth\":0,\"ticks\":\"\"}}}],\"carpet\":[{\"aaxis\":{\"endlinecolor\":\"#2a3f5f\",\"gridcolor\":\"white\",\"linecolor\":\"white\",\"minorgridcolor\":\"white\",\"startlinecolor\":\"#2a3f5f\"},\"baxis\":{\"endlinecolor\":\"#2a3f5f\",\"gridcolor\":\"white\",\"linecolor\":\"white\",\"minorgridcolor\":\"white\",\"startlinecolor\":\"#2a3f5f\"},\"type\":\"carpet\"}],\"table\":[{\"cells\":{\"fill\":{\"color\":\"#EBF0F8\"},\"line\":{\"color\":\"white\"}},\"header\":{\"fill\":{\"color\":\"#C8D4E3\"},\"line\":{\"color\":\"white\"}},\"type\":\"table\"}],\"barpolar\":[{\"marker\":{\"line\":{\"color\":\"#E5ECF6\",\"width\":0.5},\"pattern\":{\"fillmode\":\"overlay\",\"size\":10,\"solidity\":0.2}},\"type\":\"barpolar\"}],\"pie\":[{\"automargin\":true,\"type\":\"pie\"}]},\"layout\":{\"autotypenumbers\":\"strict\",\"colorway\":[\"#636efa\",\"#EF553B\",\"#00cc96\",\"#ab63fa\",\"#FFA15A\",\"#19d3f3\",\"#FF6692\",\"#B6E880\",\"#FF97FF\",\"#FECB52\"],\"font\":{\"color\":\"#2a3f5f\"},\"hovermode\":\"closest\",\"hoverlabel\":{\"align\":\"left\"},\"paper_bgcolor\":\"white\",\"plot_bgcolor\":\"#E5ECF6\",\"polar\":{\"bgcolor\":\"#E5ECF6\",\"angularaxis\":{\"gridcolor\":\"white\",\"linecolor\":\"white\",\"ticks\":\"\"},\"radialaxis\":{\"gridcolor\":\"white\",\"linecolor\":\"white\",\"ticks\":\"\"}},\"ternary\":{\"bgcolor\":\"#E5ECF6\",\"aaxis\":{\"gridcolor\":\"white\",\"linecolor\":\"white\",\"ticks\":\"\"},\"baxis\":{\"gridcolor\":\"white\",\"linecolor\":\"white\",\"ticks\":\"\"},\"caxis\":{\"gridcolor\":\"white\",\"linecolor\":\"white\",\"ticks\":\"\"}},\"coloraxis\":{\"colorbar\":{\"outlinewidth\":0,\"ticks\":\"\"}},\"colorscale\":{\"sequential\":[[0.0,\"#0d0887\"],[0.1111111111111111,\"#46039f\"],[0.2222222222222222,\"#7201a8\"],[0.3333333333333333,\"#9c179e\"],[0.4444444444444444,\"#bd3786\"],[0.5555555555555556,\"#d8576b\"],[0.6666666666666666,\"#ed7953\"],[0.7777777777777778,\"#fb9f3a\"],[0.8888888888888888,\"#fdca26\"],[1.0,\"#f0f921\"]],\"sequentialminus\":[[0.0,\"#0d0887\"],[0.1111111111111111,\"#46039f\"],[0.2222222222222222,\"#7201a8\"],[0.3333333333333333,\"#9c179e\"],[0.4444444444444444,\"#bd3786\"],[0.5555555555555556,\"#d8576b\"],[0.6666666666666666,\"#ed7953\"],[0.7777777777777778,\"#fb9f3a\"],[0.8888888888888888,\"#fdca26\"],[1.0,\"#f0f921\"]],\"diverging\":[[0,\"#8e0152\"],[0.1,\"#c51b7d\"],[0.2,\"#de77ae\"],[0.3,\"#f1b6da\"],[0.4,\"#fde0ef\"],[0.5,\"#f7f7f7\"],[0.6,\"#e6f5d0\"],[0.7,\"#b8e186\"],[0.8,\"#7fbc41\"],[0.9,\"#4d9221\"],[1,\"#276419\"]]},\"xaxis\":{\"gridcolor\":\"white\",\"linecolor\":\"white\",\"ticks\":\"\",\"title\":{\"standoff\":15},\"zerolinecolor\":\"white\",\"automargin\":true,\"zerolinewidth\":2},\"yaxis\":{\"gridcolor\":\"white\",\"linecolor\":\"white\",\"ticks\":\"\",\"title\":{\"standoff\":15},\"zerolinecolor\":\"white\",\"automargin\":true,\"zerolinewidth\":2},\"scene\":{\"xaxis\":{\"backgroundcolor\":\"#E5ECF6\",\"gridcolor\":\"white\",\"linecolor\":\"white\",\"showbackground\":true,\"ticks\":\"\",\"zerolinecolor\":\"white\",\"gridwidth\":2},\"yaxis\":{\"backgroundcolor\":\"#E5ECF6\",\"gridcolor\":\"white\",\"linecolor\":\"white\",\"showbackground\":true,\"ticks\":\"\",\"zerolinecolor\":\"white\",\"gridwidth\":2},\"zaxis\":{\"backgroundcolor\":\"#E5ECF6\",\"gridcolor\":\"white\",\"linecolor\":\"white\",\"showbackground\":true,\"ticks\":\"\",\"zerolinecolor\":\"white\",\"gridwidth\":2}},\"shapedefaults\":{\"line\":{\"color\":\"#2a3f5f\"}},\"annotationdefaults\":{\"arrowcolor\":\"#2a3f5f\",\"arrowhead\":0,\"arrowwidth\":1},\"geo\":{\"bgcolor\":\"white\",\"landcolor\":\"#E5ECF6\",\"subunitcolor\":\"white\",\"showland\":true,\"showlakes\":true,\"lakecolor\":\"white\"},\"title\":{\"x\":0.05},\"mapbox\":{\"style\":\"light\"}}}},                        {\"responsive\": true}                    ).then(function(){\n",
       "                            \n",
       "var gd = document.getElementById('398a3eee-1ce6-48fb-a3f8-5a8325f251b8');\n",
       "var x = new MutationObserver(function (mutations, observer) {{\n",
       "        var display = window.getComputedStyle(gd).display;\n",
       "        if (!display || display === 'none') {{\n",
       "            console.log([gd, 'removed!']);\n",
       "            Plotly.purge(gd);\n",
       "            observer.disconnect();\n",
       "        }}\n",
       "}});\n",
       "\n",
       "// Listen for the removal of the full notebook cells\n",
       "var notebookContainer = gd.closest('#notebook-container');\n",
       "if (notebookContainer) {{\n",
       "    x.observe(notebookContainer, {childList: true});\n",
       "}}\n",
       "\n",
       "// Listen for the clearing of the current output cell\n",
       "var outputEl = gd.closest('.output');\n",
       "if (outputEl) {{\n",
       "    x.observe(outputEl, {childList: true});\n",
       "}}\n",
       "\n",
       "                        })                };                });            </script>        </div>"
      ]
     },
     "metadata": {},
     "output_type": "display_data"
    }
   ],
   "execution_count": 188
  },
  {
   "metadata": {},
   "cell_type": "markdown",
   "source": [
    "## 8. Heatmaps\n",
    "\n",
    "<p>A heat map is a graphical representation of data where the individual values contained in a matrix are represented as colors.</p>\n",
    "\n",
    "<img src=\"https://seaborn.pydata.org/_images/spreadsheet_heatmap.png\"/>"
   ],
   "id": "1510844fb2da8cd1"
  },
  {
   "metadata": {
    "ExecuteTime": {
     "end_time": "2024-10-26T18:06:40.169882Z",
     "start_time": "2024-10-26T18:06:40.152635Z"
    }
   },
   "cell_type": "code",
   "source": [
    "six = delivery.query('batsman_runs == 6')\n",
    "six = six.groupby(['batting_team', 'over'])['batsman_runs'].count().reset_index()\n",
    "six.rename(columns={'batsman_runs': 'no_of_sixes'}, inplace=True)\n",
    "six.head()"
   ],
   "id": "65fa53fe2c06619f",
   "outputs": [
    {
     "data": {
      "text/plain": [
       "          batting_team  over  no_of_sixes\n",
       "0  Chennai Super Kings     0            9\n",
       "1  Chennai Super Kings     1           36\n",
       "2  Chennai Super Kings     2           67\n",
       "3  Chennai Super Kings     3           71\n",
       "4  Chennai Super Kings     4           75"
      ],
      "text/html": [
       "<div>\n",
       "<style scoped>\n",
       "    .dataframe tbody tr th:only-of-type {\n",
       "        vertical-align: middle;\n",
       "    }\n",
       "\n",
       "    .dataframe tbody tr th {\n",
       "        vertical-align: top;\n",
       "    }\n",
       "\n",
       "    .dataframe thead th {\n",
       "        text-align: right;\n",
       "    }\n",
       "</style>\n",
       "<table border=\"1\" class=\"dataframe\">\n",
       "  <thead>\n",
       "    <tr style=\"text-align: right;\">\n",
       "      <th></th>\n",
       "      <th>batting_team</th>\n",
       "      <th>over</th>\n",
       "      <th>no_of_sixes</th>\n",
       "    </tr>\n",
       "  </thead>\n",
       "  <tbody>\n",
       "    <tr>\n",
       "      <th>0</th>\n",
       "      <td>Chennai Super Kings</td>\n",
       "      <td>0</td>\n",
       "      <td>9</td>\n",
       "    </tr>\n",
       "    <tr>\n",
       "      <th>1</th>\n",
       "      <td>Chennai Super Kings</td>\n",
       "      <td>1</td>\n",
       "      <td>36</td>\n",
       "    </tr>\n",
       "    <tr>\n",
       "      <th>2</th>\n",
       "      <td>Chennai Super Kings</td>\n",
       "      <td>2</td>\n",
       "      <td>67</td>\n",
       "    </tr>\n",
       "    <tr>\n",
       "      <th>3</th>\n",
       "      <td>Chennai Super Kings</td>\n",
       "      <td>3</td>\n",
       "      <td>71</td>\n",
       "    </tr>\n",
       "    <tr>\n",
       "      <th>4</th>\n",
       "      <td>Chennai Super Kings</td>\n",
       "      <td>4</td>\n",
       "      <td>75</td>\n",
       "    </tr>\n",
       "  </tbody>\n",
       "</table>\n",
       "</div>"
      ]
     },
     "execution_count": 192,
     "metadata": {},
     "output_type": "execute_result"
    }
   ],
   "execution_count": 192
  },
  {
   "metadata": {
    "ExecuteTime": {
     "end_time": "2024-10-26T18:17:01.535798Z",
     "start_time": "2024-10-26T18:17:01.524083Z"
    }
   },
   "cell_type": "code",
   "source": [
    "# Plot Heatmap\n",
    "\n",
    "trace = go.Heatmap(x=six.batting_team, y=six.over, z=six.no_of_sixes)\n",
    "\n",
    "data = [trace]\n",
    "layout = go.Layout(title='Six Heatmap')\n",
    "\n",
    "fig = go.Figure(data=data, layout=layout)\n",
    "\n",
    "plotly.io.show(fig)"
   ],
   "id": "5a1f1d56d791c4d0",
   "outputs": [
    {
     "data": {
      "application/vnd.plotly.v1+json": {
       "data": [
        {
         "x": [
          "Chennai Super Kings",
          "Chennai Super Kings",
          "Chennai Super Kings",
          "Chennai Super Kings",
          "Chennai Super Kings",
          "Chennai Super Kings",
          "Chennai Super Kings",
          "Chennai Super Kings",
          "Chennai Super Kings",
          "Chennai Super Kings",
          "Chennai Super Kings",
          "Chennai Super Kings",
          "Chennai Super Kings",
          "Chennai Super Kings",
          "Chennai Super Kings",
          "Chennai Super Kings",
          "Chennai Super Kings",
          "Chennai Super Kings",
          "Chennai Super Kings",
          "Chennai Super Kings",
          "Deccan Chargers",
          "Deccan Chargers",
          "Deccan Chargers",
          "Deccan Chargers",
          "Deccan Chargers",
          "Deccan Chargers",
          "Deccan Chargers",
          "Deccan Chargers",
          "Deccan Chargers",
          "Deccan Chargers",
          "Deccan Chargers",
          "Deccan Chargers",
          "Deccan Chargers",
          "Deccan Chargers",
          "Deccan Chargers",
          "Deccan Chargers",
          "Deccan Chargers",
          "Deccan Chargers",
          "Deccan Chargers",
          "Deccan Chargers",
          "Delhi Capitals",
          "Delhi Capitals",
          "Delhi Capitals",
          "Delhi Capitals",
          "Delhi Capitals",
          "Delhi Capitals",
          "Delhi Capitals",
          "Delhi Capitals",
          "Delhi Capitals",
          "Delhi Capitals",
          "Delhi Capitals",
          "Delhi Capitals",
          "Delhi Capitals",
          "Delhi Capitals",
          "Delhi Capitals",
          "Delhi Capitals",
          "Delhi Capitals",
          "Delhi Capitals",
          "Delhi Capitals",
          "Delhi Capitals",
          "Delhi Daredevils",
          "Delhi Daredevils",
          "Delhi Daredevils",
          "Delhi Daredevils",
          "Delhi Daredevils",
          "Delhi Daredevils",
          "Delhi Daredevils",
          "Delhi Daredevils",
          "Delhi Daredevils",
          "Delhi Daredevils",
          "Delhi Daredevils",
          "Delhi Daredevils",
          "Delhi Daredevils",
          "Delhi Daredevils",
          "Delhi Daredevils",
          "Delhi Daredevils",
          "Delhi Daredevils",
          "Delhi Daredevils",
          "Delhi Daredevils",
          "Delhi Daredevils",
          "Gujarat Lions",
          "Gujarat Lions",
          "Gujarat Lions",
          "Gujarat Lions",
          "Gujarat Lions",
          "Gujarat Lions",
          "Gujarat Lions",
          "Gujarat Lions",
          "Gujarat Lions",
          "Gujarat Lions",
          "Gujarat Lions",
          "Gujarat Lions",
          "Gujarat Lions",
          "Gujarat Lions",
          "Gujarat Lions",
          "Gujarat Lions",
          "Gujarat Lions",
          "Gujarat Lions",
          "Gujarat Lions",
          "Gujarat Lions",
          "Gujarat Titans",
          "Gujarat Titans",
          "Gujarat Titans",
          "Gujarat Titans",
          "Gujarat Titans",
          "Gujarat Titans",
          "Gujarat Titans",
          "Gujarat Titans",
          "Gujarat Titans",
          "Gujarat Titans",
          "Gujarat Titans",
          "Gujarat Titans",
          "Gujarat Titans",
          "Gujarat Titans",
          "Gujarat Titans",
          "Gujarat Titans",
          "Gujarat Titans",
          "Gujarat Titans",
          "Gujarat Titans",
          "Gujarat Titans",
          "Kings XI Punjab",
          "Kings XI Punjab",
          "Kings XI Punjab",
          "Kings XI Punjab",
          "Kings XI Punjab",
          "Kings XI Punjab",
          "Kings XI Punjab",
          "Kings XI Punjab",
          "Kings XI Punjab",
          "Kings XI Punjab",
          "Kings XI Punjab",
          "Kings XI Punjab",
          "Kings XI Punjab",
          "Kings XI Punjab",
          "Kings XI Punjab",
          "Kings XI Punjab",
          "Kings XI Punjab",
          "Kings XI Punjab",
          "Kings XI Punjab",
          "Kings XI Punjab",
          "Kochi Tuskers Kerala",
          "Kochi Tuskers Kerala",
          "Kochi Tuskers Kerala",
          "Kochi Tuskers Kerala",
          "Kochi Tuskers Kerala",
          "Kochi Tuskers Kerala",
          "Kochi Tuskers Kerala",
          "Kochi Tuskers Kerala",
          "Kochi Tuskers Kerala",
          "Kochi Tuskers Kerala",
          "Kochi Tuskers Kerala",
          "Kochi Tuskers Kerala",
          "Kochi Tuskers Kerala",
          "Kochi Tuskers Kerala",
          "Kochi Tuskers Kerala",
          "Kochi Tuskers Kerala",
          "Kochi Tuskers Kerala",
          "Kochi Tuskers Kerala",
          "Kochi Tuskers Kerala",
          "Kolkata Knight Riders",
          "Kolkata Knight Riders",
          "Kolkata Knight Riders",
          "Kolkata Knight Riders",
          "Kolkata Knight Riders",
          "Kolkata Knight Riders",
          "Kolkata Knight Riders",
          "Kolkata Knight Riders",
          "Kolkata Knight Riders",
          "Kolkata Knight Riders",
          "Kolkata Knight Riders",
          "Kolkata Knight Riders",
          "Kolkata Knight Riders",
          "Kolkata Knight Riders",
          "Kolkata Knight Riders",
          "Kolkata Knight Riders",
          "Kolkata Knight Riders",
          "Kolkata Knight Riders",
          "Kolkata Knight Riders",
          "Kolkata Knight Riders",
          "Lucknow Super Giants",
          "Lucknow Super Giants",
          "Lucknow Super Giants",
          "Lucknow Super Giants",
          "Lucknow Super Giants",
          "Lucknow Super Giants",
          "Lucknow Super Giants",
          "Lucknow Super Giants",
          "Lucknow Super Giants",
          "Lucknow Super Giants",
          "Lucknow Super Giants",
          "Lucknow Super Giants",
          "Lucknow Super Giants",
          "Lucknow Super Giants",
          "Lucknow Super Giants",
          "Lucknow Super Giants",
          "Lucknow Super Giants",
          "Lucknow Super Giants",
          "Lucknow Super Giants",
          "Lucknow Super Giants",
          "Mumbai Indians",
          "Mumbai Indians",
          "Mumbai Indians",
          "Mumbai Indians",
          "Mumbai Indians",
          "Mumbai Indians",
          "Mumbai Indians",
          "Mumbai Indians",
          "Mumbai Indians",
          "Mumbai Indians",
          "Mumbai Indians",
          "Mumbai Indians",
          "Mumbai Indians",
          "Mumbai Indians",
          "Mumbai Indians",
          "Mumbai Indians",
          "Mumbai Indians",
          "Mumbai Indians",
          "Mumbai Indians",
          "Mumbai Indians",
          "Pune Warriors",
          "Pune Warriors",
          "Pune Warriors",
          "Pune Warriors",
          "Pune Warriors",
          "Pune Warriors",
          "Pune Warriors",
          "Pune Warriors",
          "Pune Warriors",
          "Pune Warriors",
          "Pune Warriors",
          "Pune Warriors",
          "Pune Warriors",
          "Pune Warriors",
          "Pune Warriors",
          "Pune Warriors",
          "Pune Warriors",
          "Pune Warriors",
          "Pune Warriors",
          "Pune Warriors",
          "Punjab Kings",
          "Punjab Kings",
          "Punjab Kings",
          "Punjab Kings",
          "Punjab Kings",
          "Punjab Kings",
          "Punjab Kings",
          "Punjab Kings",
          "Punjab Kings",
          "Punjab Kings",
          "Punjab Kings",
          "Punjab Kings",
          "Punjab Kings",
          "Punjab Kings",
          "Punjab Kings",
          "Punjab Kings",
          "Punjab Kings",
          "Punjab Kings",
          "Punjab Kings",
          "Punjab Kings",
          "Rajasthan Royals",
          "Rajasthan Royals",
          "Rajasthan Royals",
          "Rajasthan Royals",
          "Rajasthan Royals",
          "Rajasthan Royals",
          "Rajasthan Royals",
          "Rajasthan Royals",
          "Rajasthan Royals",
          "Rajasthan Royals",
          "Rajasthan Royals",
          "Rajasthan Royals",
          "Rajasthan Royals",
          "Rajasthan Royals",
          "Rajasthan Royals",
          "Rajasthan Royals",
          "Rajasthan Royals",
          "Rajasthan Royals",
          "Rajasthan Royals",
          "Rajasthan Royals",
          "Rising Pune Supergiant",
          "Rising Pune Supergiant",
          "Rising Pune Supergiant",
          "Rising Pune Supergiant",
          "Rising Pune Supergiant",
          "Rising Pune Supergiant",
          "Rising Pune Supergiant",
          "Rising Pune Supergiant",
          "Rising Pune Supergiant",
          "Rising Pune Supergiant",
          "Rising Pune Supergiant",
          "Rising Pune Supergiant",
          "Rising Pune Supergiant",
          "Rising Pune Supergiant",
          "Rising Pune Supergiant",
          "Rising Pune Supergiant",
          "Rising Pune Supergiant",
          "Rising Pune Supergiant",
          "Rising Pune Supergiants",
          "Rising Pune Supergiants",
          "Rising Pune Supergiants",
          "Rising Pune Supergiants",
          "Rising Pune Supergiants",
          "Rising Pune Supergiants",
          "Rising Pune Supergiants",
          "Rising Pune Supergiants",
          "Rising Pune Supergiants",
          "Rising Pune Supergiants",
          "Rising Pune Supergiants",
          "Rising Pune Supergiants",
          "Rising Pune Supergiants",
          "Rising Pune Supergiants",
          "Rising Pune Supergiants",
          "Rising Pune Supergiants",
          "Rising Pune Supergiants",
          "Rising Pune Supergiants",
          "Rising Pune Supergiants",
          "Royal Challengers Bangalore",
          "Royal Challengers Bangalore",
          "Royal Challengers Bangalore",
          "Royal Challengers Bangalore",
          "Royal Challengers Bangalore",
          "Royal Challengers Bangalore",
          "Royal Challengers Bangalore",
          "Royal Challengers Bangalore",
          "Royal Challengers Bangalore",
          "Royal Challengers Bangalore",
          "Royal Challengers Bangalore",
          "Royal Challengers Bangalore",
          "Royal Challengers Bangalore",
          "Royal Challengers Bangalore",
          "Royal Challengers Bangalore",
          "Royal Challengers Bangalore",
          "Royal Challengers Bangalore",
          "Royal Challengers Bangalore",
          "Royal Challengers Bangalore",
          "Royal Challengers Bangalore",
          "Royal Challengers Bengaluru",
          "Royal Challengers Bengaluru",
          "Royal Challengers Bengaluru",
          "Royal Challengers Bengaluru",
          "Royal Challengers Bengaluru",
          "Royal Challengers Bengaluru",
          "Royal Challengers Bengaluru",
          "Royal Challengers Bengaluru",
          "Royal Challengers Bengaluru",
          "Royal Challengers Bengaluru",
          "Royal Challengers Bengaluru",
          "Royal Challengers Bengaluru",
          "Royal Challengers Bengaluru",
          "Royal Challengers Bengaluru",
          "Royal Challengers Bengaluru",
          "Royal Challengers Bengaluru",
          "Royal Challengers Bengaluru",
          "Royal Challengers Bengaluru",
          "Royal Challengers Bengaluru",
          "Royal Challengers Bengaluru",
          "Sunrisers Hyderabad",
          "Sunrisers Hyderabad",
          "Sunrisers Hyderabad",
          "Sunrisers Hyderabad",
          "Sunrisers Hyderabad",
          "Sunrisers Hyderabad",
          "Sunrisers Hyderabad",
          "Sunrisers Hyderabad",
          "Sunrisers Hyderabad",
          "Sunrisers Hyderabad",
          "Sunrisers Hyderabad",
          "Sunrisers Hyderabad",
          "Sunrisers Hyderabad",
          "Sunrisers Hyderabad",
          "Sunrisers Hyderabad",
          "Sunrisers Hyderabad",
          "Sunrisers Hyderabad",
          "Sunrisers Hyderabad",
          "Sunrisers Hyderabad",
          "Sunrisers Hyderabad"
         ],
         "y": [
          0,
          1,
          2,
          3,
          4,
          5,
          6,
          7,
          8,
          9,
          10,
          11,
          12,
          13,
          14,
          15,
          16,
          17,
          18,
          19,
          0,
          1,
          2,
          3,
          4,
          5,
          6,
          7,
          8,
          9,
          10,
          11,
          12,
          13,
          14,
          15,
          16,
          17,
          18,
          19,
          0,
          1,
          2,
          3,
          4,
          5,
          6,
          7,
          8,
          9,
          10,
          11,
          12,
          13,
          14,
          15,
          16,
          17,
          18,
          19,
          0,
          1,
          2,
          3,
          4,
          5,
          6,
          7,
          8,
          9,
          10,
          11,
          12,
          13,
          14,
          15,
          16,
          17,
          18,
          19,
          0,
          1,
          2,
          3,
          4,
          5,
          6,
          7,
          8,
          9,
          10,
          11,
          12,
          13,
          14,
          15,
          16,
          17,
          18,
          19,
          0,
          1,
          2,
          3,
          4,
          5,
          6,
          7,
          8,
          9,
          10,
          11,
          12,
          13,
          14,
          15,
          16,
          17,
          18,
          19,
          0,
          1,
          2,
          3,
          4,
          5,
          6,
          7,
          8,
          9,
          10,
          11,
          12,
          13,
          14,
          15,
          16,
          17,
          18,
          19,
          0,
          1,
          2,
          3,
          4,
          5,
          6,
          7,
          8,
          9,
          10,
          11,
          12,
          13,
          14,
          16,
          17,
          18,
          19,
          0,
          1,
          2,
          3,
          4,
          5,
          6,
          7,
          8,
          9,
          10,
          11,
          12,
          13,
          14,
          15,
          16,
          17,
          18,
          19,
          0,
          1,
          2,
          3,
          4,
          5,
          6,
          7,
          8,
          9,
          10,
          11,
          12,
          13,
          14,
          15,
          16,
          17,
          18,
          19,
          0,
          1,
          2,
          3,
          4,
          5,
          6,
          7,
          8,
          9,
          10,
          11,
          12,
          13,
          14,
          15,
          16,
          17,
          18,
          19,
          0,
          1,
          2,
          3,
          4,
          5,
          6,
          7,
          8,
          9,
          10,
          11,
          12,
          13,
          14,
          15,
          16,
          17,
          18,
          19,
          0,
          1,
          2,
          3,
          4,
          5,
          6,
          7,
          8,
          9,
          10,
          11,
          12,
          13,
          14,
          15,
          16,
          17,
          18,
          19,
          0,
          1,
          2,
          3,
          4,
          5,
          6,
          7,
          8,
          9,
          10,
          11,
          12,
          13,
          14,
          15,
          16,
          17,
          18,
          19,
          0,
          2,
          3,
          4,
          5,
          6,
          8,
          9,
          10,
          11,
          12,
          13,
          14,
          15,
          16,
          17,
          18,
          19,
          1,
          2,
          3,
          4,
          5,
          6,
          7,
          8,
          9,
          10,
          11,
          12,
          13,
          14,
          15,
          16,
          17,
          18,
          19,
          0,
          1,
          2,
          3,
          4,
          5,
          6,
          7,
          8,
          9,
          10,
          11,
          12,
          13,
          14,
          15,
          16,
          17,
          18,
          19,
          0,
          1,
          2,
          3,
          4,
          5,
          6,
          7,
          8,
          9,
          10,
          11,
          12,
          13,
          14,
          15,
          16,
          17,
          18,
          19,
          0,
          1,
          2,
          3,
          4,
          5,
          6,
          7,
          8,
          9,
          10,
          11,
          12,
          13,
          14,
          15,
          16,
          17,
          18,
          19
         ],
         "z": [
          9,
          36,
          67,
          71,
          75,
          85,
          48,
          40,
          64,
          48,
          76,
          76,
          75,
          86,
          82,
          90,
          87,
          126,
          116,
          152,
          3,
          21,
          11,
          17,
          27,
          22,
          11,
          13,
          17,
          14,
          15,
          26,
          23,
          22,
          20,
          21,
          38,
          37,
          23,
          19,
          7,
          17,
          31,
          32,
          41,
          22,
          19,
          22,
          21,
          20,
          21,
          20,
          37,
          19,
          32,
          33,
          36,
          38,
          37,
          45,
          14,
          23,
          35,
          44,
          34,
          32,
          23,
          31,
          36,
          30,
          39,
          41,
          45,
          40,
          34,
          51,
          64,
          52,
          65,
          68,
          4,
          6,
          14,
          9,
          11,
          12,
          10,
          6,
          11,
          8,
          5,
          7,
          5,
          8,
          5,
          5,
          7,
          9,
          9,
          4,
          5,
          7,
          6,
          7,
          9,
          10,
          7,
          6,
          12,
          8,
          14,
          15,
          11,
          12,
          21,
          17,
          18,
          26,
          28,
          32,
          21,
          33,
          42,
          52,
          48,
          53,
          40,
          46,
          56,
          44,
          51,
          53,
          58,
          62,
          61,
          81,
          53,
          68,
          72,
          81,
          2,
          4,
          3,
          3,
          3,
          3,
          2,
          2,
          1,
          3,
          1,
          3,
          2,
          3,
          4,
          3,
          4,
          5,
          2,
          31,
          51,
          59,
          65,
          60,
          74,
          48,
          68,
          59,
          61,
          71,
          83,
          89,
          79,
          88,
          104,
          103,
          104,
          114,
          84,
          3,
          6,
          12,
          14,
          19,
          19,
          8,
          16,
          19,
          17,
          13,
          8,
          18,
          20,
          25,
          24,
          14,
          21,
          33,
          23,
          24,
          43,
          62,
          74,
          89,
          82,
          39,
          51,
          79,
          56,
          64,
          82,
          85,
          99,
          100,
          101,
          116,
          145,
          131,
          163,
          5,
          6,
          6,
          7,
          7,
          3,
          5,
          10,
          9,
          6,
          13,
          5,
          10,
          13,
          13,
          16,
          13,
          12,
          18,
          19,
          3,
          17,
          17,
          17,
          17,
          23,
          9,
          14,
          26,
          17,
          28,
          24,
          20,
          23,
          27,
          36,
          20,
          37,
          29,
          36,
          29,
          27,
          42,
          63,
          56,
          55,
          39,
          56,
          54,
          53,
          64,
          61,
          73,
          69,
          62,
          85,
          79,
          91,
          97,
          82,
          1,
          2,
          5,
          8,
          6,
          1,
          3,
          8,
          3,
          2,
          7,
          4,
          5,
          5,
          2,
          2,
          14,
          11,
          2,
          1,
          1,
          5,
          5,
          4,
          3,
          1,
          1,
          2,
          2,
          1,
          1,
          7,
          6,
          6,
          9,
          2,
          9,
          28,
          42,
          59,
          69,
          59,
          54,
          30,
          56,
          66,
          69,
          73,
          58,
          82,
          86,
          86,
          109,
          104,
          120,
          115,
          123,
          4,
          9,
          10,
          5,
          5,
          9,
          4,
          7,
          12,
          9,
          11,
          7,
          5,
          7,
          6,
          12,
          10,
          11,
          11,
          11,
          12,
          42,
          54,
          31,
          56,
          46,
          34,
          42,
          44,
          38,
          40,
          42,
          58,
          65,
          77,
          56,
          59,
          73,
          94,
          79
         ],
         "type": "heatmap"
        }
       ],
       "layout": {
        "title": {
         "text": "Six Heatmap"
        },
        "template": {
         "data": {
          "histogram2dcontour": [
           {
            "type": "histogram2dcontour",
            "colorbar": {
             "outlinewidth": 0,
             "ticks": ""
            },
            "colorscale": [
             [
              0.0,
              "#0d0887"
             ],
             [
              0.1111111111111111,
              "#46039f"
             ],
             [
              0.2222222222222222,
              "#7201a8"
             ],
             [
              0.3333333333333333,
              "#9c179e"
             ],
             [
              0.4444444444444444,
              "#bd3786"
             ],
             [
              0.5555555555555556,
              "#d8576b"
             ],
             [
              0.6666666666666666,
              "#ed7953"
             ],
             [
              0.7777777777777778,
              "#fb9f3a"
             ],
             [
              0.8888888888888888,
              "#fdca26"
             ],
             [
              1.0,
              "#f0f921"
             ]
            ]
           }
          ],
          "choropleth": [
           {
            "type": "choropleth",
            "colorbar": {
             "outlinewidth": 0,
             "ticks": ""
            }
           }
          ],
          "histogram2d": [
           {
            "type": "histogram2d",
            "colorbar": {
             "outlinewidth": 0,
             "ticks": ""
            },
            "colorscale": [
             [
              0.0,
              "#0d0887"
             ],
             [
              0.1111111111111111,
              "#46039f"
             ],
             [
              0.2222222222222222,
              "#7201a8"
             ],
             [
              0.3333333333333333,
              "#9c179e"
             ],
             [
              0.4444444444444444,
              "#bd3786"
             ],
             [
              0.5555555555555556,
              "#d8576b"
             ],
             [
              0.6666666666666666,
              "#ed7953"
             ],
             [
              0.7777777777777778,
              "#fb9f3a"
             ],
             [
              0.8888888888888888,
              "#fdca26"
             ],
             [
              1.0,
              "#f0f921"
             ]
            ]
           }
          ],
          "heatmap": [
           {
            "type": "heatmap",
            "colorbar": {
             "outlinewidth": 0,
             "ticks": ""
            },
            "colorscale": [
             [
              0.0,
              "#0d0887"
             ],
             [
              0.1111111111111111,
              "#46039f"
             ],
             [
              0.2222222222222222,
              "#7201a8"
             ],
             [
              0.3333333333333333,
              "#9c179e"
             ],
             [
              0.4444444444444444,
              "#bd3786"
             ],
             [
              0.5555555555555556,
              "#d8576b"
             ],
             [
              0.6666666666666666,
              "#ed7953"
             ],
             [
              0.7777777777777778,
              "#fb9f3a"
             ],
             [
              0.8888888888888888,
              "#fdca26"
             ],
             [
              1.0,
              "#f0f921"
             ]
            ]
           }
          ],
          "heatmapgl": [
           {
            "type": "heatmapgl",
            "colorbar": {
             "outlinewidth": 0,
             "ticks": ""
            },
            "colorscale": [
             [
              0.0,
              "#0d0887"
             ],
             [
              0.1111111111111111,
              "#46039f"
             ],
             [
              0.2222222222222222,
              "#7201a8"
             ],
             [
              0.3333333333333333,
              "#9c179e"
             ],
             [
              0.4444444444444444,
              "#bd3786"
             ],
             [
              0.5555555555555556,
              "#d8576b"
             ],
             [
              0.6666666666666666,
              "#ed7953"
             ],
             [
              0.7777777777777778,
              "#fb9f3a"
             ],
             [
              0.8888888888888888,
              "#fdca26"
             ],
             [
              1.0,
              "#f0f921"
             ]
            ]
           }
          ],
          "contourcarpet": [
           {
            "type": "contourcarpet",
            "colorbar": {
             "outlinewidth": 0,
             "ticks": ""
            }
           }
          ],
          "contour": [
           {
            "type": "contour",
            "colorbar": {
             "outlinewidth": 0,
             "ticks": ""
            },
            "colorscale": [
             [
              0.0,
              "#0d0887"
             ],
             [
              0.1111111111111111,
              "#46039f"
             ],
             [
              0.2222222222222222,
              "#7201a8"
             ],
             [
              0.3333333333333333,
              "#9c179e"
             ],
             [
              0.4444444444444444,
              "#bd3786"
             ],
             [
              0.5555555555555556,
              "#d8576b"
             ],
             [
              0.6666666666666666,
              "#ed7953"
             ],
             [
              0.7777777777777778,
              "#fb9f3a"
             ],
             [
              0.8888888888888888,
              "#fdca26"
             ],
             [
              1.0,
              "#f0f921"
             ]
            ]
           }
          ],
          "surface": [
           {
            "type": "surface",
            "colorbar": {
             "outlinewidth": 0,
             "ticks": ""
            },
            "colorscale": [
             [
              0.0,
              "#0d0887"
             ],
             [
              0.1111111111111111,
              "#46039f"
             ],
             [
              0.2222222222222222,
              "#7201a8"
             ],
             [
              0.3333333333333333,
              "#9c179e"
             ],
             [
              0.4444444444444444,
              "#bd3786"
             ],
             [
              0.5555555555555556,
              "#d8576b"
             ],
             [
              0.6666666666666666,
              "#ed7953"
             ],
             [
              0.7777777777777778,
              "#fb9f3a"
             ],
             [
              0.8888888888888888,
              "#fdca26"
             ],
             [
              1.0,
              "#f0f921"
             ]
            ]
           }
          ],
          "mesh3d": [
           {
            "type": "mesh3d",
            "colorbar": {
             "outlinewidth": 0,
             "ticks": ""
            }
           }
          ],
          "scatter": [
           {
            "fillpattern": {
             "fillmode": "overlay",
             "size": 10,
             "solidity": 0.2
            },
            "type": "scatter"
           }
          ],
          "parcoords": [
           {
            "type": "parcoords",
            "line": {
             "colorbar": {
              "outlinewidth": 0,
              "ticks": ""
             }
            }
           }
          ],
          "scatterpolargl": [
           {
            "type": "scatterpolargl",
            "marker": {
             "colorbar": {
              "outlinewidth": 0,
              "ticks": ""
             }
            }
           }
          ],
          "bar": [
           {
            "error_x": {
             "color": "#2a3f5f"
            },
            "error_y": {
             "color": "#2a3f5f"
            },
            "marker": {
             "line": {
              "color": "#E5ECF6",
              "width": 0.5
             },
             "pattern": {
              "fillmode": "overlay",
              "size": 10,
              "solidity": 0.2
             }
            },
            "type": "bar"
           }
          ],
          "scattergeo": [
           {
            "type": "scattergeo",
            "marker": {
             "colorbar": {
              "outlinewidth": 0,
              "ticks": ""
             }
            }
           }
          ],
          "scatterpolar": [
           {
            "type": "scatterpolar",
            "marker": {
             "colorbar": {
              "outlinewidth": 0,
              "ticks": ""
             }
            }
           }
          ],
          "histogram": [
           {
            "marker": {
             "pattern": {
              "fillmode": "overlay",
              "size": 10,
              "solidity": 0.2
             }
            },
            "type": "histogram"
           }
          ],
          "scattergl": [
           {
            "type": "scattergl",
            "marker": {
             "colorbar": {
              "outlinewidth": 0,
              "ticks": ""
             }
            }
           }
          ],
          "scatter3d": [
           {
            "type": "scatter3d",
            "line": {
             "colorbar": {
              "outlinewidth": 0,
              "ticks": ""
             }
            },
            "marker": {
             "colorbar": {
              "outlinewidth": 0,
              "ticks": ""
             }
            }
           }
          ],
          "scattermapbox": [
           {
            "type": "scattermapbox",
            "marker": {
             "colorbar": {
              "outlinewidth": 0,
              "ticks": ""
             }
            }
           }
          ],
          "scatterternary": [
           {
            "type": "scatterternary",
            "marker": {
             "colorbar": {
              "outlinewidth": 0,
              "ticks": ""
             }
            }
           }
          ],
          "scattercarpet": [
           {
            "type": "scattercarpet",
            "marker": {
             "colorbar": {
              "outlinewidth": 0,
              "ticks": ""
             }
            }
           }
          ],
          "carpet": [
           {
            "aaxis": {
             "endlinecolor": "#2a3f5f",
             "gridcolor": "white",
             "linecolor": "white",
             "minorgridcolor": "white",
             "startlinecolor": "#2a3f5f"
            },
            "baxis": {
             "endlinecolor": "#2a3f5f",
             "gridcolor": "white",
             "linecolor": "white",
             "minorgridcolor": "white",
             "startlinecolor": "#2a3f5f"
            },
            "type": "carpet"
           }
          ],
          "table": [
           {
            "cells": {
             "fill": {
              "color": "#EBF0F8"
             },
             "line": {
              "color": "white"
             }
            },
            "header": {
             "fill": {
              "color": "#C8D4E3"
             },
             "line": {
              "color": "white"
             }
            },
            "type": "table"
           }
          ],
          "barpolar": [
           {
            "marker": {
             "line": {
              "color": "#E5ECF6",
              "width": 0.5
             },
             "pattern": {
              "fillmode": "overlay",
              "size": 10,
              "solidity": 0.2
             }
            },
            "type": "barpolar"
           }
          ],
          "pie": [
           {
            "automargin": true,
            "type": "pie"
           }
          ]
         },
         "layout": {
          "autotypenumbers": "strict",
          "colorway": [
           "#636efa",
           "#EF553B",
           "#00cc96",
           "#ab63fa",
           "#FFA15A",
           "#19d3f3",
           "#FF6692",
           "#B6E880",
           "#FF97FF",
           "#FECB52"
          ],
          "font": {
           "color": "#2a3f5f"
          },
          "hovermode": "closest",
          "hoverlabel": {
           "align": "left"
          },
          "paper_bgcolor": "white",
          "plot_bgcolor": "#E5ECF6",
          "polar": {
           "bgcolor": "#E5ECF6",
           "angularaxis": {
            "gridcolor": "white",
            "linecolor": "white",
            "ticks": ""
           },
           "radialaxis": {
            "gridcolor": "white",
            "linecolor": "white",
            "ticks": ""
           }
          },
          "ternary": {
           "bgcolor": "#E5ECF6",
           "aaxis": {
            "gridcolor": "white",
            "linecolor": "white",
            "ticks": ""
           },
           "baxis": {
            "gridcolor": "white",
            "linecolor": "white",
            "ticks": ""
           },
           "caxis": {
            "gridcolor": "white",
            "linecolor": "white",
            "ticks": ""
           }
          },
          "coloraxis": {
           "colorbar": {
            "outlinewidth": 0,
            "ticks": ""
           }
          },
          "colorscale": {
           "sequential": [
            [
             0.0,
             "#0d0887"
            ],
            [
             0.1111111111111111,
             "#46039f"
            ],
            [
             0.2222222222222222,
             "#7201a8"
            ],
            [
             0.3333333333333333,
             "#9c179e"
            ],
            [
             0.4444444444444444,
             "#bd3786"
            ],
            [
             0.5555555555555556,
             "#d8576b"
            ],
            [
             0.6666666666666666,
             "#ed7953"
            ],
            [
             0.7777777777777778,
             "#fb9f3a"
            ],
            [
             0.8888888888888888,
             "#fdca26"
            ],
            [
             1.0,
             "#f0f921"
            ]
           ],
           "sequentialminus": [
            [
             0.0,
             "#0d0887"
            ],
            [
             0.1111111111111111,
             "#46039f"
            ],
            [
             0.2222222222222222,
             "#7201a8"
            ],
            [
             0.3333333333333333,
             "#9c179e"
            ],
            [
             0.4444444444444444,
             "#bd3786"
            ],
            [
             0.5555555555555556,
             "#d8576b"
            ],
            [
             0.6666666666666666,
             "#ed7953"
            ],
            [
             0.7777777777777778,
             "#fb9f3a"
            ],
            [
             0.8888888888888888,
             "#fdca26"
            ],
            [
             1.0,
             "#f0f921"
            ]
           ],
           "diverging": [
            [
             0,
             "#8e0152"
            ],
            [
             0.1,
             "#c51b7d"
            ],
            [
             0.2,
             "#de77ae"
            ],
            [
             0.3,
             "#f1b6da"
            ],
            [
             0.4,
             "#fde0ef"
            ],
            [
             0.5,
             "#f7f7f7"
            ],
            [
             0.6,
             "#e6f5d0"
            ],
            [
             0.7,
             "#b8e186"
            ],
            [
             0.8,
             "#7fbc41"
            ],
            [
             0.9,
             "#4d9221"
            ],
            [
             1,
             "#276419"
            ]
           ]
          },
          "xaxis": {
           "gridcolor": "white",
           "linecolor": "white",
           "ticks": "",
           "title": {
            "standoff": 15
           },
           "zerolinecolor": "white",
           "automargin": true,
           "zerolinewidth": 2
          },
          "yaxis": {
           "gridcolor": "white",
           "linecolor": "white",
           "ticks": "",
           "title": {
            "standoff": 15
           },
           "zerolinecolor": "white",
           "automargin": true,
           "zerolinewidth": 2
          },
          "scene": {
           "xaxis": {
            "backgroundcolor": "#E5ECF6",
            "gridcolor": "white",
            "linecolor": "white",
            "showbackground": true,
            "ticks": "",
            "zerolinecolor": "white",
            "gridwidth": 2
           },
           "yaxis": {
            "backgroundcolor": "#E5ECF6",
            "gridcolor": "white",
            "linecolor": "white",
            "showbackground": true,
            "ticks": "",
            "zerolinecolor": "white",
            "gridwidth": 2
           },
           "zaxis": {
            "backgroundcolor": "#E5ECF6",
            "gridcolor": "white",
            "linecolor": "white",
            "showbackground": true,
            "ticks": "",
            "zerolinecolor": "white",
            "gridwidth": 2
           }
          },
          "shapedefaults": {
           "line": {
            "color": "#2a3f5f"
           }
          },
          "annotationdefaults": {
           "arrowcolor": "#2a3f5f",
           "arrowhead": 0,
           "arrowwidth": 1
          },
          "geo": {
           "bgcolor": "white",
           "landcolor": "#E5ECF6",
           "subunitcolor": "white",
           "showland": true,
           "showlakes": true,
           "lakecolor": "white"
          },
          "title": {
           "x": 0.05
          },
          "mapbox": {
           "style": "light"
          }
         }
        }
       },
       "config": {
        "plotlyServerURL": "https://plot.ly"
       }
      },
      "text/html": [
       "<div>                            <div id=\"efda4faa-7082-42f7-9531-48bb1cb826fd\" class=\"plotly-graph-div\" style=\"height:525px; width:100%;\"></div>            <script type=\"text/javascript\">                require([\"plotly\"], function(Plotly) {                    window.PLOTLYENV=window.PLOTLYENV || {};                                    if (document.getElementById(\"efda4faa-7082-42f7-9531-48bb1cb826fd\")) {                    Plotly.newPlot(                        \"efda4faa-7082-42f7-9531-48bb1cb826fd\",                        [{\"x\":[\"Chennai Super Kings\",\"Chennai Super Kings\",\"Chennai Super Kings\",\"Chennai Super Kings\",\"Chennai Super Kings\",\"Chennai Super Kings\",\"Chennai Super Kings\",\"Chennai Super Kings\",\"Chennai Super Kings\",\"Chennai Super Kings\",\"Chennai Super Kings\",\"Chennai Super Kings\",\"Chennai Super Kings\",\"Chennai Super Kings\",\"Chennai Super Kings\",\"Chennai Super Kings\",\"Chennai Super Kings\",\"Chennai Super Kings\",\"Chennai Super Kings\",\"Chennai Super Kings\",\"Deccan Chargers\",\"Deccan Chargers\",\"Deccan Chargers\",\"Deccan Chargers\",\"Deccan Chargers\",\"Deccan Chargers\",\"Deccan Chargers\",\"Deccan Chargers\",\"Deccan Chargers\",\"Deccan Chargers\",\"Deccan Chargers\",\"Deccan Chargers\",\"Deccan Chargers\",\"Deccan Chargers\",\"Deccan Chargers\",\"Deccan Chargers\",\"Deccan Chargers\",\"Deccan Chargers\",\"Deccan Chargers\",\"Deccan Chargers\",\"Delhi Capitals\",\"Delhi Capitals\",\"Delhi Capitals\",\"Delhi Capitals\",\"Delhi Capitals\",\"Delhi Capitals\",\"Delhi Capitals\",\"Delhi Capitals\",\"Delhi Capitals\",\"Delhi Capitals\",\"Delhi Capitals\",\"Delhi Capitals\",\"Delhi Capitals\",\"Delhi Capitals\",\"Delhi Capitals\",\"Delhi Capitals\",\"Delhi Capitals\",\"Delhi Capitals\",\"Delhi Capitals\",\"Delhi Capitals\",\"Delhi Daredevils\",\"Delhi Daredevils\",\"Delhi Daredevils\",\"Delhi Daredevils\",\"Delhi Daredevils\",\"Delhi Daredevils\",\"Delhi Daredevils\",\"Delhi Daredevils\",\"Delhi Daredevils\",\"Delhi Daredevils\",\"Delhi Daredevils\",\"Delhi Daredevils\",\"Delhi Daredevils\",\"Delhi Daredevils\",\"Delhi Daredevils\",\"Delhi Daredevils\",\"Delhi Daredevils\",\"Delhi Daredevils\",\"Delhi Daredevils\",\"Delhi Daredevils\",\"Gujarat Lions\",\"Gujarat Lions\",\"Gujarat Lions\",\"Gujarat Lions\",\"Gujarat Lions\",\"Gujarat Lions\",\"Gujarat Lions\",\"Gujarat Lions\",\"Gujarat Lions\",\"Gujarat Lions\",\"Gujarat Lions\",\"Gujarat Lions\",\"Gujarat Lions\",\"Gujarat Lions\",\"Gujarat Lions\",\"Gujarat Lions\",\"Gujarat Lions\",\"Gujarat Lions\",\"Gujarat Lions\",\"Gujarat Lions\",\"Gujarat Titans\",\"Gujarat Titans\",\"Gujarat Titans\",\"Gujarat Titans\",\"Gujarat Titans\",\"Gujarat Titans\",\"Gujarat Titans\",\"Gujarat Titans\",\"Gujarat Titans\",\"Gujarat Titans\",\"Gujarat Titans\",\"Gujarat Titans\",\"Gujarat Titans\",\"Gujarat Titans\",\"Gujarat Titans\",\"Gujarat Titans\",\"Gujarat Titans\",\"Gujarat Titans\",\"Gujarat Titans\",\"Gujarat Titans\",\"Kings XI Punjab\",\"Kings XI Punjab\",\"Kings XI Punjab\",\"Kings XI Punjab\",\"Kings XI Punjab\",\"Kings XI Punjab\",\"Kings XI Punjab\",\"Kings XI Punjab\",\"Kings XI Punjab\",\"Kings XI Punjab\",\"Kings XI Punjab\",\"Kings XI Punjab\",\"Kings XI Punjab\",\"Kings XI Punjab\",\"Kings XI Punjab\",\"Kings XI Punjab\",\"Kings XI Punjab\",\"Kings XI Punjab\",\"Kings XI Punjab\",\"Kings XI Punjab\",\"Kochi Tuskers Kerala\",\"Kochi Tuskers Kerala\",\"Kochi Tuskers Kerala\",\"Kochi Tuskers Kerala\",\"Kochi Tuskers Kerala\",\"Kochi Tuskers Kerala\",\"Kochi Tuskers Kerala\",\"Kochi Tuskers Kerala\",\"Kochi Tuskers Kerala\",\"Kochi Tuskers Kerala\",\"Kochi Tuskers Kerala\",\"Kochi Tuskers Kerala\",\"Kochi Tuskers Kerala\",\"Kochi Tuskers Kerala\",\"Kochi Tuskers Kerala\",\"Kochi Tuskers Kerala\",\"Kochi Tuskers Kerala\",\"Kochi Tuskers Kerala\",\"Kochi Tuskers Kerala\",\"Kolkata Knight Riders\",\"Kolkata Knight Riders\",\"Kolkata Knight Riders\",\"Kolkata Knight Riders\",\"Kolkata Knight Riders\",\"Kolkata Knight Riders\",\"Kolkata Knight Riders\",\"Kolkata Knight Riders\",\"Kolkata Knight Riders\",\"Kolkata Knight Riders\",\"Kolkata Knight Riders\",\"Kolkata Knight Riders\",\"Kolkata Knight Riders\",\"Kolkata Knight Riders\",\"Kolkata Knight Riders\",\"Kolkata Knight Riders\",\"Kolkata Knight Riders\",\"Kolkata Knight Riders\",\"Kolkata Knight Riders\",\"Kolkata Knight Riders\",\"Lucknow Super Giants\",\"Lucknow Super Giants\",\"Lucknow Super Giants\",\"Lucknow Super Giants\",\"Lucknow Super Giants\",\"Lucknow Super Giants\",\"Lucknow Super Giants\",\"Lucknow Super Giants\",\"Lucknow Super Giants\",\"Lucknow Super Giants\",\"Lucknow Super Giants\",\"Lucknow Super Giants\",\"Lucknow Super Giants\",\"Lucknow Super Giants\",\"Lucknow Super Giants\",\"Lucknow Super Giants\",\"Lucknow Super Giants\",\"Lucknow Super Giants\",\"Lucknow Super Giants\",\"Lucknow Super Giants\",\"Mumbai Indians\",\"Mumbai Indians\",\"Mumbai Indians\",\"Mumbai Indians\",\"Mumbai Indians\",\"Mumbai Indians\",\"Mumbai Indians\",\"Mumbai Indians\",\"Mumbai Indians\",\"Mumbai Indians\",\"Mumbai Indians\",\"Mumbai Indians\",\"Mumbai Indians\",\"Mumbai Indians\",\"Mumbai Indians\",\"Mumbai Indians\",\"Mumbai Indians\",\"Mumbai Indians\",\"Mumbai Indians\",\"Mumbai Indians\",\"Pune Warriors\",\"Pune Warriors\",\"Pune Warriors\",\"Pune Warriors\",\"Pune Warriors\",\"Pune Warriors\",\"Pune Warriors\",\"Pune Warriors\",\"Pune Warriors\",\"Pune Warriors\",\"Pune Warriors\",\"Pune Warriors\",\"Pune Warriors\",\"Pune Warriors\",\"Pune Warriors\",\"Pune Warriors\",\"Pune Warriors\",\"Pune Warriors\",\"Pune Warriors\",\"Pune Warriors\",\"Punjab Kings\",\"Punjab Kings\",\"Punjab Kings\",\"Punjab Kings\",\"Punjab Kings\",\"Punjab Kings\",\"Punjab Kings\",\"Punjab Kings\",\"Punjab Kings\",\"Punjab Kings\",\"Punjab Kings\",\"Punjab Kings\",\"Punjab Kings\",\"Punjab Kings\",\"Punjab Kings\",\"Punjab Kings\",\"Punjab Kings\",\"Punjab Kings\",\"Punjab Kings\",\"Punjab Kings\",\"Rajasthan Royals\",\"Rajasthan Royals\",\"Rajasthan Royals\",\"Rajasthan Royals\",\"Rajasthan Royals\",\"Rajasthan Royals\",\"Rajasthan Royals\",\"Rajasthan Royals\",\"Rajasthan Royals\",\"Rajasthan Royals\",\"Rajasthan Royals\",\"Rajasthan Royals\",\"Rajasthan Royals\",\"Rajasthan Royals\",\"Rajasthan Royals\",\"Rajasthan Royals\",\"Rajasthan Royals\",\"Rajasthan Royals\",\"Rajasthan Royals\",\"Rajasthan Royals\",\"Rising Pune Supergiant\",\"Rising Pune Supergiant\",\"Rising Pune Supergiant\",\"Rising Pune Supergiant\",\"Rising Pune Supergiant\",\"Rising Pune Supergiant\",\"Rising Pune Supergiant\",\"Rising Pune Supergiant\",\"Rising Pune Supergiant\",\"Rising Pune Supergiant\",\"Rising Pune Supergiant\",\"Rising Pune Supergiant\",\"Rising Pune Supergiant\",\"Rising Pune Supergiant\",\"Rising Pune Supergiant\",\"Rising Pune Supergiant\",\"Rising Pune Supergiant\",\"Rising Pune Supergiant\",\"Rising Pune Supergiants\",\"Rising Pune Supergiants\",\"Rising Pune Supergiants\",\"Rising Pune Supergiants\",\"Rising Pune Supergiants\",\"Rising Pune Supergiants\",\"Rising Pune Supergiants\",\"Rising Pune Supergiants\",\"Rising Pune Supergiants\",\"Rising Pune Supergiants\",\"Rising Pune Supergiants\",\"Rising Pune Supergiants\",\"Rising Pune Supergiants\",\"Rising Pune Supergiants\",\"Rising Pune Supergiants\",\"Rising Pune Supergiants\",\"Rising Pune Supergiants\",\"Rising Pune Supergiants\",\"Rising Pune Supergiants\",\"Royal Challengers Bangalore\",\"Royal Challengers Bangalore\",\"Royal Challengers Bangalore\",\"Royal Challengers Bangalore\",\"Royal Challengers Bangalore\",\"Royal Challengers Bangalore\",\"Royal Challengers Bangalore\",\"Royal Challengers Bangalore\",\"Royal Challengers Bangalore\",\"Royal Challengers Bangalore\",\"Royal Challengers Bangalore\",\"Royal Challengers Bangalore\",\"Royal Challengers Bangalore\",\"Royal Challengers Bangalore\",\"Royal Challengers Bangalore\",\"Royal Challengers Bangalore\",\"Royal Challengers Bangalore\",\"Royal Challengers Bangalore\",\"Royal Challengers Bangalore\",\"Royal Challengers Bangalore\",\"Royal Challengers Bengaluru\",\"Royal Challengers Bengaluru\",\"Royal Challengers Bengaluru\",\"Royal Challengers Bengaluru\",\"Royal Challengers Bengaluru\",\"Royal Challengers Bengaluru\",\"Royal Challengers Bengaluru\",\"Royal Challengers Bengaluru\",\"Royal Challengers Bengaluru\",\"Royal Challengers Bengaluru\",\"Royal Challengers Bengaluru\",\"Royal Challengers Bengaluru\",\"Royal Challengers Bengaluru\",\"Royal Challengers Bengaluru\",\"Royal Challengers Bengaluru\",\"Royal Challengers Bengaluru\",\"Royal Challengers Bengaluru\",\"Royal Challengers Bengaluru\",\"Royal Challengers Bengaluru\",\"Royal Challengers Bengaluru\",\"Sunrisers Hyderabad\",\"Sunrisers Hyderabad\",\"Sunrisers Hyderabad\",\"Sunrisers Hyderabad\",\"Sunrisers Hyderabad\",\"Sunrisers Hyderabad\",\"Sunrisers Hyderabad\",\"Sunrisers Hyderabad\",\"Sunrisers Hyderabad\",\"Sunrisers Hyderabad\",\"Sunrisers Hyderabad\",\"Sunrisers Hyderabad\",\"Sunrisers Hyderabad\",\"Sunrisers Hyderabad\",\"Sunrisers Hyderabad\",\"Sunrisers Hyderabad\",\"Sunrisers Hyderabad\",\"Sunrisers Hyderabad\",\"Sunrisers Hyderabad\",\"Sunrisers Hyderabad\"],\"y\":[0,1,2,3,4,5,6,7,8,9,10,11,12,13,14,15,16,17,18,19,0,1,2,3,4,5,6,7,8,9,10,11,12,13,14,15,16,17,18,19,0,1,2,3,4,5,6,7,8,9,10,11,12,13,14,15,16,17,18,19,0,1,2,3,4,5,6,7,8,9,10,11,12,13,14,15,16,17,18,19,0,1,2,3,4,5,6,7,8,9,10,11,12,13,14,15,16,17,18,19,0,1,2,3,4,5,6,7,8,9,10,11,12,13,14,15,16,17,18,19,0,1,2,3,4,5,6,7,8,9,10,11,12,13,14,15,16,17,18,19,0,1,2,3,4,5,6,7,8,9,10,11,12,13,14,16,17,18,19,0,1,2,3,4,5,6,7,8,9,10,11,12,13,14,15,16,17,18,19,0,1,2,3,4,5,6,7,8,9,10,11,12,13,14,15,16,17,18,19,0,1,2,3,4,5,6,7,8,9,10,11,12,13,14,15,16,17,18,19,0,1,2,3,4,5,6,7,8,9,10,11,12,13,14,15,16,17,18,19,0,1,2,3,4,5,6,7,8,9,10,11,12,13,14,15,16,17,18,19,0,1,2,3,4,5,6,7,8,9,10,11,12,13,14,15,16,17,18,19,0,2,3,4,5,6,8,9,10,11,12,13,14,15,16,17,18,19,1,2,3,4,5,6,7,8,9,10,11,12,13,14,15,16,17,18,19,0,1,2,3,4,5,6,7,8,9,10,11,12,13,14,15,16,17,18,19,0,1,2,3,4,5,6,7,8,9,10,11,12,13,14,15,16,17,18,19,0,1,2,3,4,5,6,7,8,9,10,11,12,13,14,15,16,17,18,19],\"z\":[9,36,67,71,75,85,48,40,64,48,76,76,75,86,82,90,87,126,116,152,3,21,11,17,27,22,11,13,17,14,15,26,23,22,20,21,38,37,23,19,7,17,31,32,41,22,19,22,21,20,21,20,37,19,32,33,36,38,37,45,14,23,35,44,34,32,23,31,36,30,39,41,45,40,34,51,64,52,65,68,4,6,14,9,11,12,10,6,11,8,5,7,5,8,5,5,7,9,9,4,5,7,6,7,9,10,7,6,12,8,14,15,11,12,21,17,18,26,28,32,21,33,42,52,48,53,40,46,56,44,51,53,58,62,61,81,53,68,72,81,2,4,3,3,3,3,2,2,1,3,1,3,2,3,4,3,4,5,2,31,51,59,65,60,74,48,68,59,61,71,83,89,79,88,104,103,104,114,84,3,6,12,14,19,19,8,16,19,17,13,8,18,20,25,24,14,21,33,23,24,43,62,74,89,82,39,51,79,56,64,82,85,99,100,101,116,145,131,163,5,6,6,7,7,3,5,10,9,6,13,5,10,13,13,16,13,12,18,19,3,17,17,17,17,23,9,14,26,17,28,24,20,23,27,36,20,37,29,36,29,27,42,63,56,55,39,56,54,53,64,61,73,69,62,85,79,91,97,82,1,2,5,8,6,1,3,8,3,2,7,4,5,5,2,2,14,11,2,1,1,5,5,4,3,1,1,2,2,1,1,7,6,6,9,2,9,28,42,59,69,59,54,30,56,66,69,73,58,82,86,86,109,104,120,115,123,4,9,10,5,5,9,4,7,12,9,11,7,5,7,6,12,10,11,11,11,12,42,54,31,56,46,34,42,44,38,40,42,58,65,77,56,59,73,94,79],\"type\":\"heatmap\"}],                        {\"title\":{\"text\":\"Six Heatmap\"},\"template\":{\"data\":{\"histogram2dcontour\":[{\"type\":\"histogram2dcontour\",\"colorbar\":{\"outlinewidth\":0,\"ticks\":\"\"},\"colorscale\":[[0.0,\"#0d0887\"],[0.1111111111111111,\"#46039f\"],[0.2222222222222222,\"#7201a8\"],[0.3333333333333333,\"#9c179e\"],[0.4444444444444444,\"#bd3786\"],[0.5555555555555556,\"#d8576b\"],[0.6666666666666666,\"#ed7953\"],[0.7777777777777778,\"#fb9f3a\"],[0.8888888888888888,\"#fdca26\"],[1.0,\"#f0f921\"]]}],\"choropleth\":[{\"type\":\"choropleth\",\"colorbar\":{\"outlinewidth\":0,\"ticks\":\"\"}}],\"histogram2d\":[{\"type\":\"histogram2d\",\"colorbar\":{\"outlinewidth\":0,\"ticks\":\"\"},\"colorscale\":[[0.0,\"#0d0887\"],[0.1111111111111111,\"#46039f\"],[0.2222222222222222,\"#7201a8\"],[0.3333333333333333,\"#9c179e\"],[0.4444444444444444,\"#bd3786\"],[0.5555555555555556,\"#d8576b\"],[0.6666666666666666,\"#ed7953\"],[0.7777777777777778,\"#fb9f3a\"],[0.8888888888888888,\"#fdca26\"],[1.0,\"#f0f921\"]]}],\"heatmap\":[{\"type\":\"heatmap\",\"colorbar\":{\"outlinewidth\":0,\"ticks\":\"\"},\"colorscale\":[[0.0,\"#0d0887\"],[0.1111111111111111,\"#46039f\"],[0.2222222222222222,\"#7201a8\"],[0.3333333333333333,\"#9c179e\"],[0.4444444444444444,\"#bd3786\"],[0.5555555555555556,\"#d8576b\"],[0.6666666666666666,\"#ed7953\"],[0.7777777777777778,\"#fb9f3a\"],[0.8888888888888888,\"#fdca26\"],[1.0,\"#f0f921\"]]}],\"heatmapgl\":[{\"type\":\"heatmapgl\",\"colorbar\":{\"outlinewidth\":0,\"ticks\":\"\"},\"colorscale\":[[0.0,\"#0d0887\"],[0.1111111111111111,\"#46039f\"],[0.2222222222222222,\"#7201a8\"],[0.3333333333333333,\"#9c179e\"],[0.4444444444444444,\"#bd3786\"],[0.5555555555555556,\"#d8576b\"],[0.6666666666666666,\"#ed7953\"],[0.7777777777777778,\"#fb9f3a\"],[0.8888888888888888,\"#fdca26\"],[1.0,\"#f0f921\"]]}],\"contourcarpet\":[{\"type\":\"contourcarpet\",\"colorbar\":{\"outlinewidth\":0,\"ticks\":\"\"}}],\"contour\":[{\"type\":\"contour\",\"colorbar\":{\"outlinewidth\":0,\"ticks\":\"\"},\"colorscale\":[[0.0,\"#0d0887\"],[0.1111111111111111,\"#46039f\"],[0.2222222222222222,\"#7201a8\"],[0.3333333333333333,\"#9c179e\"],[0.4444444444444444,\"#bd3786\"],[0.5555555555555556,\"#d8576b\"],[0.6666666666666666,\"#ed7953\"],[0.7777777777777778,\"#fb9f3a\"],[0.8888888888888888,\"#fdca26\"],[1.0,\"#f0f921\"]]}],\"surface\":[{\"type\":\"surface\",\"colorbar\":{\"outlinewidth\":0,\"ticks\":\"\"},\"colorscale\":[[0.0,\"#0d0887\"],[0.1111111111111111,\"#46039f\"],[0.2222222222222222,\"#7201a8\"],[0.3333333333333333,\"#9c179e\"],[0.4444444444444444,\"#bd3786\"],[0.5555555555555556,\"#d8576b\"],[0.6666666666666666,\"#ed7953\"],[0.7777777777777778,\"#fb9f3a\"],[0.8888888888888888,\"#fdca26\"],[1.0,\"#f0f921\"]]}],\"mesh3d\":[{\"type\":\"mesh3d\",\"colorbar\":{\"outlinewidth\":0,\"ticks\":\"\"}}],\"scatter\":[{\"fillpattern\":{\"fillmode\":\"overlay\",\"size\":10,\"solidity\":0.2},\"type\":\"scatter\"}],\"parcoords\":[{\"type\":\"parcoords\",\"line\":{\"colorbar\":{\"outlinewidth\":0,\"ticks\":\"\"}}}],\"scatterpolargl\":[{\"type\":\"scatterpolargl\",\"marker\":{\"colorbar\":{\"outlinewidth\":0,\"ticks\":\"\"}}}],\"bar\":[{\"error_x\":{\"color\":\"#2a3f5f\"},\"error_y\":{\"color\":\"#2a3f5f\"},\"marker\":{\"line\":{\"color\":\"#E5ECF6\",\"width\":0.5},\"pattern\":{\"fillmode\":\"overlay\",\"size\":10,\"solidity\":0.2}},\"type\":\"bar\"}],\"scattergeo\":[{\"type\":\"scattergeo\",\"marker\":{\"colorbar\":{\"outlinewidth\":0,\"ticks\":\"\"}}}],\"scatterpolar\":[{\"type\":\"scatterpolar\",\"marker\":{\"colorbar\":{\"outlinewidth\":0,\"ticks\":\"\"}}}],\"histogram\":[{\"marker\":{\"pattern\":{\"fillmode\":\"overlay\",\"size\":10,\"solidity\":0.2}},\"type\":\"histogram\"}],\"scattergl\":[{\"type\":\"scattergl\",\"marker\":{\"colorbar\":{\"outlinewidth\":0,\"ticks\":\"\"}}}],\"scatter3d\":[{\"type\":\"scatter3d\",\"line\":{\"colorbar\":{\"outlinewidth\":0,\"ticks\":\"\"}},\"marker\":{\"colorbar\":{\"outlinewidth\":0,\"ticks\":\"\"}}}],\"scattermapbox\":[{\"type\":\"scattermapbox\",\"marker\":{\"colorbar\":{\"outlinewidth\":0,\"ticks\":\"\"}}}],\"scatterternary\":[{\"type\":\"scatterternary\",\"marker\":{\"colorbar\":{\"outlinewidth\":0,\"ticks\":\"\"}}}],\"scattercarpet\":[{\"type\":\"scattercarpet\",\"marker\":{\"colorbar\":{\"outlinewidth\":0,\"ticks\":\"\"}}}],\"carpet\":[{\"aaxis\":{\"endlinecolor\":\"#2a3f5f\",\"gridcolor\":\"white\",\"linecolor\":\"white\",\"minorgridcolor\":\"white\",\"startlinecolor\":\"#2a3f5f\"},\"baxis\":{\"endlinecolor\":\"#2a3f5f\",\"gridcolor\":\"white\",\"linecolor\":\"white\",\"minorgridcolor\":\"white\",\"startlinecolor\":\"#2a3f5f\"},\"type\":\"carpet\"}],\"table\":[{\"cells\":{\"fill\":{\"color\":\"#EBF0F8\"},\"line\":{\"color\":\"white\"}},\"header\":{\"fill\":{\"color\":\"#C8D4E3\"},\"line\":{\"color\":\"white\"}},\"type\":\"table\"}],\"barpolar\":[{\"marker\":{\"line\":{\"color\":\"#E5ECF6\",\"width\":0.5},\"pattern\":{\"fillmode\":\"overlay\",\"size\":10,\"solidity\":0.2}},\"type\":\"barpolar\"}],\"pie\":[{\"automargin\":true,\"type\":\"pie\"}]},\"layout\":{\"autotypenumbers\":\"strict\",\"colorway\":[\"#636efa\",\"#EF553B\",\"#00cc96\",\"#ab63fa\",\"#FFA15A\",\"#19d3f3\",\"#FF6692\",\"#B6E880\",\"#FF97FF\",\"#FECB52\"],\"font\":{\"color\":\"#2a3f5f\"},\"hovermode\":\"closest\",\"hoverlabel\":{\"align\":\"left\"},\"paper_bgcolor\":\"white\",\"plot_bgcolor\":\"#E5ECF6\",\"polar\":{\"bgcolor\":\"#E5ECF6\",\"angularaxis\":{\"gridcolor\":\"white\",\"linecolor\":\"white\",\"ticks\":\"\"},\"radialaxis\":{\"gridcolor\":\"white\",\"linecolor\":\"white\",\"ticks\":\"\"}},\"ternary\":{\"bgcolor\":\"#E5ECF6\",\"aaxis\":{\"gridcolor\":\"white\",\"linecolor\":\"white\",\"ticks\":\"\"},\"baxis\":{\"gridcolor\":\"white\",\"linecolor\":\"white\",\"ticks\":\"\"},\"caxis\":{\"gridcolor\":\"white\",\"linecolor\":\"white\",\"ticks\":\"\"}},\"coloraxis\":{\"colorbar\":{\"outlinewidth\":0,\"ticks\":\"\"}},\"colorscale\":{\"sequential\":[[0.0,\"#0d0887\"],[0.1111111111111111,\"#46039f\"],[0.2222222222222222,\"#7201a8\"],[0.3333333333333333,\"#9c179e\"],[0.4444444444444444,\"#bd3786\"],[0.5555555555555556,\"#d8576b\"],[0.6666666666666666,\"#ed7953\"],[0.7777777777777778,\"#fb9f3a\"],[0.8888888888888888,\"#fdca26\"],[1.0,\"#f0f921\"]],\"sequentialminus\":[[0.0,\"#0d0887\"],[0.1111111111111111,\"#46039f\"],[0.2222222222222222,\"#7201a8\"],[0.3333333333333333,\"#9c179e\"],[0.4444444444444444,\"#bd3786\"],[0.5555555555555556,\"#d8576b\"],[0.6666666666666666,\"#ed7953\"],[0.7777777777777778,\"#fb9f3a\"],[0.8888888888888888,\"#fdca26\"],[1.0,\"#f0f921\"]],\"diverging\":[[0,\"#8e0152\"],[0.1,\"#c51b7d\"],[0.2,\"#de77ae\"],[0.3,\"#f1b6da\"],[0.4,\"#fde0ef\"],[0.5,\"#f7f7f7\"],[0.6,\"#e6f5d0\"],[0.7,\"#b8e186\"],[0.8,\"#7fbc41\"],[0.9,\"#4d9221\"],[1,\"#276419\"]]},\"xaxis\":{\"gridcolor\":\"white\",\"linecolor\":\"white\",\"ticks\":\"\",\"title\":{\"standoff\":15},\"zerolinecolor\":\"white\",\"automargin\":true,\"zerolinewidth\":2},\"yaxis\":{\"gridcolor\":\"white\",\"linecolor\":\"white\",\"ticks\":\"\",\"title\":{\"standoff\":15},\"zerolinecolor\":\"white\",\"automargin\":true,\"zerolinewidth\":2},\"scene\":{\"xaxis\":{\"backgroundcolor\":\"#E5ECF6\",\"gridcolor\":\"white\",\"linecolor\":\"white\",\"showbackground\":true,\"ticks\":\"\",\"zerolinecolor\":\"white\",\"gridwidth\":2},\"yaxis\":{\"backgroundcolor\":\"#E5ECF6\",\"gridcolor\":\"white\",\"linecolor\":\"white\",\"showbackground\":true,\"ticks\":\"\",\"zerolinecolor\":\"white\",\"gridwidth\":2},\"zaxis\":{\"backgroundcolor\":\"#E5ECF6\",\"gridcolor\":\"white\",\"linecolor\":\"white\",\"showbackground\":true,\"ticks\":\"\",\"zerolinecolor\":\"white\",\"gridwidth\":2}},\"shapedefaults\":{\"line\":{\"color\":\"#2a3f5f\"}},\"annotationdefaults\":{\"arrowcolor\":\"#2a3f5f\",\"arrowhead\":0,\"arrowwidth\":1},\"geo\":{\"bgcolor\":\"white\",\"landcolor\":\"#E5ECF6\",\"subunitcolor\":\"white\",\"showland\":true,\"showlakes\":true,\"lakecolor\":\"white\"},\"title\":{\"x\":0.05},\"mapbox\":{\"style\":\"light\"}}}},                        {\"responsive\": true}                    ).then(function(){\n",
       "                            \n",
       "var gd = document.getElementById('efda4faa-7082-42f7-9531-48bb1cb826fd');\n",
       "var x = new MutationObserver(function (mutations, observer) {{\n",
       "        var display = window.getComputedStyle(gd).display;\n",
       "        if (!display || display === 'none') {{\n",
       "            console.log([gd, 'removed!']);\n",
       "            Plotly.purge(gd);\n",
       "            observer.disconnect();\n",
       "        }}\n",
       "}});\n",
       "\n",
       "// Listen for the removal of the full notebook cells\n",
       "var notebookContainer = gd.closest('#notebook-container');\n",
       "if (notebookContainer) {{\n",
       "    x.observe(notebookContainer, {childList: true});\n",
       "}}\n",
       "\n",
       "// Listen for the clearing of the current output cell\n",
       "var outputEl = gd.closest('.output');\n",
       "if (outputEl) {{\n",
       "    x.observe(outputEl, {childList: true});\n",
       "}}\n",
       "\n",
       "                        })                };                });            </script>        </div>"
      ]
     },
     "metadata": {},
     "output_type": "display_data"
    }
   ],
   "execution_count": 196
  },
  {
   "metadata": {
    "ExecuteTime": {
     "end_time": "2024-10-26T18:17:56.705923Z",
     "start_time": "2024-10-26T18:17:56.668973Z"
    }
   },
   "cell_type": "code",
   "source": [
    "# Side by Side Heatmap\n",
    "\n",
    "dots = delivery.query('batsman_runs == 0')\n",
    "dots = dots.groupby(['batting_team', 'over'])['batsman_runs'].count().reset_index()\n",
    "dots.rename(columns={'batsman_runs': 'no_of_dots'}, inplace=True)\n",
    "dots"
   ],
   "id": "65f7f38ca3d11792",
   "outputs": [
    {
     "data": {
      "text/plain": [
       "            batting_team  over  no_of_dots\n",
       "0    Chennai Super Kings     0         927\n",
       "1    Chennai Super Kings     1         846\n",
       "2    Chennai Super Kings     2         741\n",
       "3    Chennai Super Kings     3         697\n",
       "4    Chennai Super Kings     4         666\n",
       "..                   ...   ...         ...\n",
       "375  Sunrisers Hyderabad    15         376\n",
       "376  Sunrisers Hyderabad    16         365\n",
       "377  Sunrisers Hyderabad    17         340\n",
       "378  Sunrisers Hyderabad    18         335\n",
       "379  Sunrisers Hyderabad    19         315\n",
       "\n",
       "[380 rows x 3 columns]"
      ],
      "text/html": [
       "<div>\n",
       "<style scoped>\n",
       "    .dataframe tbody tr th:only-of-type {\n",
       "        vertical-align: middle;\n",
       "    }\n",
       "\n",
       "    .dataframe tbody tr th {\n",
       "        vertical-align: top;\n",
       "    }\n",
       "\n",
       "    .dataframe thead th {\n",
       "        text-align: right;\n",
       "    }\n",
       "</style>\n",
       "<table border=\"1\" class=\"dataframe\">\n",
       "  <thead>\n",
       "    <tr style=\"text-align: right;\">\n",
       "      <th></th>\n",
       "      <th>batting_team</th>\n",
       "      <th>over</th>\n",
       "      <th>no_of_dots</th>\n",
       "    </tr>\n",
       "  </thead>\n",
       "  <tbody>\n",
       "    <tr>\n",
       "      <th>0</th>\n",
       "      <td>Chennai Super Kings</td>\n",
       "      <td>0</td>\n",
       "      <td>927</td>\n",
       "    </tr>\n",
       "    <tr>\n",
       "      <th>1</th>\n",
       "      <td>Chennai Super Kings</td>\n",
       "      <td>1</td>\n",
       "      <td>846</td>\n",
       "    </tr>\n",
       "    <tr>\n",
       "      <th>2</th>\n",
       "      <td>Chennai Super Kings</td>\n",
       "      <td>2</td>\n",
       "      <td>741</td>\n",
       "    </tr>\n",
       "    <tr>\n",
       "      <th>3</th>\n",
       "      <td>Chennai Super Kings</td>\n",
       "      <td>3</td>\n",
       "      <td>697</td>\n",
       "    </tr>\n",
       "    <tr>\n",
       "      <th>4</th>\n",
       "      <td>Chennai Super Kings</td>\n",
       "      <td>4</td>\n",
       "      <td>666</td>\n",
       "    </tr>\n",
       "    <tr>\n",
       "      <th>...</th>\n",
       "      <td>...</td>\n",
       "      <td>...</td>\n",
       "      <td>...</td>\n",
       "    </tr>\n",
       "    <tr>\n",
       "      <th>375</th>\n",
       "      <td>Sunrisers Hyderabad</td>\n",
       "      <td>15</td>\n",
       "      <td>376</td>\n",
       "    </tr>\n",
       "    <tr>\n",
       "      <th>376</th>\n",
       "      <td>Sunrisers Hyderabad</td>\n",
       "      <td>16</td>\n",
       "      <td>365</td>\n",
       "    </tr>\n",
       "    <tr>\n",
       "      <th>377</th>\n",
       "      <td>Sunrisers Hyderabad</td>\n",
       "      <td>17</td>\n",
       "      <td>340</td>\n",
       "    </tr>\n",
       "    <tr>\n",
       "      <th>378</th>\n",
       "      <td>Sunrisers Hyderabad</td>\n",
       "      <td>18</td>\n",
       "      <td>335</td>\n",
       "    </tr>\n",
       "    <tr>\n",
       "      <th>379</th>\n",
       "      <td>Sunrisers Hyderabad</td>\n",
       "      <td>19</td>\n",
       "      <td>315</td>\n",
       "    </tr>\n",
       "  </tbody>\n",
       "</table>\n",
       "<p>380 rows × 3 columns</p>\n",
       "</div>"
      ]
     },
     "execution_count": 198,
     "metadata": {},
     "output_type": "execute_result"
    }
   ],
   "execution_count": 198
  },
  {
   "metadata": {
    "ExecuteTime": {
     "end_time": "2024-10-26T18:22:15.831371Z",
     "start_time": "2024-10-26T18:22:15.671973Z"
    }
   },
   "cell_type": "code",
   "source": [
    "from plotly import tools\n",
    "\n",
    "trace1 = go.Heatmap(x=six.batting_team, y=six.over, z=six.no_of_sixes.values.tolist())\n",
    "trace2 = go.Heatmap(x=dots.batting_team, y=dots.over, z=dots.no_of_dots.values.tolist())\n",
    "\n",
    "fig = tools.make_subplots(rows=1, cols=2, subplot_titles=[\"6's\", \"0's\"], shared_yaxes=True)\n",
    "\n",
    "fig.append_trace(trace1, 1, 1)\n",
    "fig.append_trace(trace2, 1, 2)\n",
    "\n",
    "plotly.io.show(fig)"
   ],
   "id": "7e3154ef20ec0c2c",
   "outputs": [
    {
     "name": "stderr",
     "output_type": "stream",
     "text": [
      "C:\\Users\\15105\\AppData\\Local\\Programs\\Python\\Python312\\Lib\\site-packages\\plotly\\tools.py:455: DeprecationWarning:\n",
      "\n",
      "plotly.tools.make_subplots is deprecated, please use plotly.subplots.make_subplots instead\n",
      "\n"
     ]
    },
    {
     "data": {
      "application/vnd.plotly.v1+json": {
       "data": [
        {
         "x": [
          "Chennai Super Kings",
          "Chennai Super Kings",
          "Chennai Super Kings",
          "Chennai Super Kings",
          "Chennai Super Kings",
          "Chennai Super Kings",
          "Chennai Super Kings",
          "Chennai Super Kings",
          "Chennai Super Kings",
          "Chennai Super Kings",
          "Chennai Super Kings",
          "Chennai Super Kings",
          "Chennai Super Kings",
          "Chennai Super Kings",
          "Chennai Super Kings",
          "Chennai Super Kings",
          "Chennai Super Kings",
          "Chennai Super Kings",
          "Chennai Super Kings",
          "Chennai Super Kings",
          "Deccan Chargers",
          "Deccan Chargers",
          "Deccan Chargers",
          "Deccan Chargers",
          "Deccan Chargers",
          "Deccan Chargers",
          "Deccan Chargers",
          "Deccan Chargers",
          "Deccan Chargers",
          "Deccan Chargers",
          "Deccan Chargers",
          "Deccan Chargers",
          "Deccan Chargers",
          "Deccan Chargers",
          "Deccan Chargers",
          "Deccan Chargers",
          "Deccan Chargers",
          "Deccan Chargers",
          "Deccan Chargers",
          "Deccan Chargers",
          "Delhi Capitals",
          "Delhi Capitals",
          "Delhi Capitals",
          "Delhi Capitals",
          "Delhi Capitals",
          "Delhi Capitals",
          "Delhi Capitals",
          "Delhi Capitals",
          "Delhi Capitals",
          "Delhi Capitals",
          "Delhi Capitals",
          "Delhi Capitals",
          "Delhi Capitals",
          "Delhi Capitals",
          "Delhi Capitals",
          "Delhi Capitals",
          "Delhi Capitals",
          "Delhi Capitals",
          "Delhi Capitals",
          "Delhi Capitals",
          "Delhi Daredevils",
          "Delhi Daredevils",
          "Delhi Daredevils",
          "Delhi Daredevils",
          "Delhi Daredevils",
          "Delhi Daredevils",
          "Delhi Daredevils",
          "Delhi Daredevils",
          "Delhi Daredevils",
          "Delhi Daredevils",
          "Delhi Daredevils",
          "Delhi Daredevils",
          "Delhi Daredevils",
          "Delhi Daredevils",
          "Delhi Daredevils",
          "Delhi Daredevils",
          "Delhi Daredevils",
          "Delhi Daredevils",
          "Delhi Daredevils",
          "Delhi Daredevils",
          "Gujarat Lions",
          "Gujarat Lions",
          "Gujarat Lions",
          "Gujarat Lions",
          "Gujarat Lions",
          "Gujarat Lions",
          "Gujarat Lions",
          "Gujarat Lions",
          "Gujarat Lions",
          "Gujarat Lions",
          "Gujarat Lions",
          "Gujarat Lions",
          "Gujarat Lions",
          "Gujarat Lions",
          "Gujarat Lions",
          "Gujarat Lions",
          "Gujarat Lions",
          "Gujarat Lions",
          "Gujarat Lions",
          "Gujarat Lions",
          "Gujarat Titans",
          "Gujarat Titans",
          "Gujarat Titans",
          "Gujarat Titans",
          "Gujarat Titans",
          "Gujarat Titans",
          "Gujarat Titans",
          "Gujarat Titans",
          "Gujarat Titans",
          "Gujarat Titans",
          "Gujarat Titans",
          "Gujarat Titans",
          "Gujarat Titans",
          "Gujarat Titans",
          "Gujarat Titans",
          "Gujarat Titans",
          "Gujarat Titans",
          "Gujarat Titans",
          "Gujarat Titans",
          "Gujarat Titans",
          "Kings XI Punjab",
          "Kings XI Punjab",
          "Kings XI Punjab",
          "Kings XI Punjab",
          "Kings XI Punjab",
          "Kings XI Punjab",
          "Kings XI Punjab",
          "Kings XI Punjab",
          "Kings XI Punjab",
          "Kings XI Punjab",
          "Kings XI Punjab",
          "Kings XI Punjab",
          "Kings XI Punjab",
          "Kings XI Punjab",
          "Kings XI Punjab",
          "Kings XI Punjab",
          "Kings XI Punjab",
          "Kings XI Punjab",
          "Kings XI Punjab",
          "Kings XI Punjab",
          "Kochi Tuskers Kerala",
          "Kochi Tuskers Kerala",
          "Kochi Tuskers Kerala",
          "Kochi Tuskers Kerala",
          "Kochi Tuskers Kerala",
          "Kochi Tuskers Kerala",
          "Kochi Tuskers Kerala",
          "Kochi Tuskers Kerala",
          "Kochi Tuskers Kerala",
          "Kochi Tuskers Kerala",
          "Kochi Tuskers Kerala",
          "Kochi Tuskers Kerala",
          "Kochi Tuskers Kerala",
          "Kochi Tuskers Kerala",
          "Kochi Tuskers Kerala",
          "Kochi Tuskers Kerala",
          "Kochi Tuskers Kerala",
          "Kochi Tuskers Kerala",
          "Kochi Tuskers Kerala",
          "Kolkata Knight Riders",
          "Kolkata Knight Riders",
          "Kolkata Knight Riders",
          "Kolkata Knight Riders",
          "Kolkata Knight Riders",
          "Kolkata Knight Riders",
          "Kolkata Knight Riders",
          "Kolkata Knight Riders",
          "Kolkata Knight Riders",
          "Kolkata Knight Riders",
          "Kolkata Knight Riders",
          "Kolkata Knight Riders",
          "Kolkata Knight Riders",
          "Kolkata Knight Riders",
          "Kolkata Knight Riders",
          "Kolkata Knight Riders",
          "Kolkata Knight Riders",
          "Kolkata Knight Riders",
          "Kolkata Knight Riders",
          "Kolkata Knight Riders",
          "Lucknow Super Giants",
          "Lucknow Super Giants",
          "Lucknow Super Giants",
          "Lucknow Super Giants",
          "Lucknow Super Giants",
          "Lucknow Super Giants",
          "Lucknow Super Giants",
          "Lucknow Super Giants",
          "Lucknow Super Giants",
          "Lucknow Super Giants",
          "Lucknow Super Giants",
          "Lucknow Super Giants",
          "Lucknow Super Giants",
          "Lucknow Super Giants",
          "Lucknow Super Giants",
          "Lucknow Super Giants",
          "Lucknow Super Giants",
          "Lucknow Super Giants",
          "Lucknow Super Giants",
          "Lucknow Super Giants",
          "Mumbai Indians",
          "Mumbai Indians",
          "Mumbai Indians",
          "Mumbai Indians",
          "Mumbai Indians",
          "Mumbai Indians",
          "Mumbai Indians",
          "Mumbai Indians",
          "Mumbai Indians",
          "Mumbai Indians",
          "Mumbai Indians",
          "Mumbai Indians",
          "Mumbai Indians",
          "Mumbai Indians",
          "Mumbai Indians",
          "Mumbai Indians",
          "Mumbai Indians",
          "Mumbai Indians",
          "Mumbai Indians",
          "Mumbai Indians",
          "Pune Warriors",
          "Pune Warriors",
          "Pune Warriors",
          "Pune Warriors",
          "Pune Warriors",
          "Pune Warriors",
          "Pune Warriors",
          "Pune Warriors",
          "Pune Warriors",
          "Pune Warriors",
          "Pune Warriors",
          "Pune Warriors",
          "Pune Warriors",
          "Pune Warriors",
          "Pune Warriors",
          "Pune Warriors",
          "Pune Warriors",
          "Pune Warriors",
          "Pune Warriors",
          "Pune Warriors",
          "Punjab Kings",
          "Punjab Kings",
          "Punjab Kings",
          "Punjab Kings",
          "Punjab Kings",
          "Punjab Kings",
          "Punjab Kings",
          "Punjab Kings",
          "Punjab Kings",
          "Punjab Kings",
          "Punjab Kings",
          "Punjab Kings",
          "Punjab Kings",
          "Punjab Kings",
          "Punjab Kings",
          "Punjab Kings",
          "Punjab Kings",
          "Punjab Kings",
          "Punjab Kings",
          "Punjab Kings",
          "Rajasthan Royals",
          "Rajasthan Royals",
          "Rajasthan Royals",
          "Rajasthan Royals",
          "Rajasthan Royals",
          "Rajasthan Royals",
          "Rajasthan Royals",
          "Rajasthan Royals",
          "Rajasthan Royals",
          "Rajasthan Royals",
          "Rajasthan Royals",
          "Rajasthan Royals",
          "Rajasthan Royals",
          "Rajasthan Royals",
          "Rajasthan Royals",
          "Rajasthan Royals",
          "Rajasthan Royals",
          "Rajasthan Royals",
          "Rajasthan Royals",
          "Rajasthan Royals",
          "Rising Pune Supergiant",
          "Rising Pune Supergiant",
          "Rising Pune Supergiant",
          "Rising Pune Supergiant",
          "Rising Pune Supergiant",
          "Rising Pune Supergiant",
          "Rising Pune Supergiant",
          "Rising Pune Supergiant",
          "Rising Pune Supergiant",
          "Rising Pune Supergiant",
          "Rising Pune Supergiant",
          "Rising Pune Supergiant",
          "Rising Pune Supergiant",
          "Rising Pune Supergiant",
          "Rising Pune Supergiant",
          "Rising Pune Supergiant",
          "Rising Pune Supergiant",
          "Rising Pune Supergiant",
          "Rising Pune Supergiants",
          "Rising Pune Supergiants",
          "Rising Pune Supergiants",
          "Rising Pune Supergiants",
          "Rising Pune Supergiants",
          "Rising Pune Supergiants",
          "Rising Pune Supergiants",
          "Rising Pune Supergiants",
          "Rising Pune Supergiants",
          "Rising Pune Supergiants",
          "Rising Pune Supergiants",
          "Rising Pune Supergiants",
          "Rising Pune Supergiants",
          "Rising Pune Supergiants",
          "Rising Pune Supergiants",
          "Rising Pune Supergiants",
          "Rising Pune Supergiants",
          "Rising Pune Supergiants",
          "Rising Pune Supergiants",
          "Royal Challengers Bangalore",
          "Royal Challengers Bangalore",
          "Royal Challengers Bangalore",
          "Royal Challengers Bangalore",
          "Royal Challengers Bangalore",
          "Royal Challengers Bangalore",
          "Royal Challengers Bangalore",
          "Royal Challengers Bangalore",
          "Royal Challengers Bangalore",
          "Royal Challengers Bangalore",
          "Royal Challengers Bangalore",
          "Royal Challengers Bangalore",
          "Royal Challengers Bangalore",
          "Royal Challengers Bangalore",
          "Royal Challengers Bangalore",
          "Royal Challengers Bangalore",
          "Royal Challengers Bangalore",
          "Royal Challengers Bangalore",
          "Royal Challengers Bangalore",
          "Royal Challengers Bangalore",
          "Royal Challengers Bengaluru",
          "Royal Challengers Bengaluru",
          "Royal Challengers Bengaluru",
          "Royal Challengers Bengaluru",
          "Royal Challengers Bengaluru",
          "Royal Challengers Bengaluru",
          "Royal Challengers Bengaluru",
          "Royal Challengers Bengaluru",
          "Royal Challengers Bengaluru",
          "Royal Challengers Bengaluru",
          "Royal Challengers Bengaluru",
          "Royal Challengers Bengaluru",
          "Royal Challengers Bengaluru",
          "Royal Challengers Bengaluru",
          "Royal Challengers Bengaluru",
          "Royal Challengers Bengaluru",
          "Royal Challengers Bengaluru",
          "Royal Challengers Bengaluru",
          "Royal Challengers Bengaluru",
          "Royal Challengers Bengaluru",
          "Sunrisers Hyderabad",
          "Sunrisers Hyderabad",
          "Sunrisers Hyderabad",
          "Sunrisers Hyderabad",
          "Sunrisers Hyderabad",
          "Sunrisers Hyderabad",
          "Sunrisers Hyderabad",
          "Sunrisers Hyderabad",
          "Sunrisers Hyderabad",
          "Sunrisers Hyderabad",
          "Sunrisers Hyderabad",
          "Sunrisers Hyderabad",
          "Sunrisers Hyderabad",
          "Sunrisers Hyderabad",
          "Sunrisers Hyderabad",
          "Sunrisers Hyderabad",
          "Sunrisers Hyderabad",
          "Sunrisers Hyderabad",
          "Sunrisers Hyderabad",
          "Sunrisers Hyderabad"
         ],
         "y": [
          0,
          1,
          2,
          3,
          4,
          5,
          6,
          7,
          8,
          9,
          10,
          11,
          12,
          13,
          14,
          15,
          16,
          17,
          18,
          19,
          0,
          1,
          2,
          3,
          4,
          5,
          6,
          7,
          8,
          9,
          10,
          11,
          12,
          13,
          14,
          15,
          16,
          17,
          18,
          19,
          0,
          1,
          2,
          3,
          4,
          5,
          6,
          7,
          8,
          9,
          10,
          11,
          12,
          13,
          14,
          15,
          16,
          17,
          18,
          19,
          0,
          1,
          2,
          3,
          4,
          5,
          6,
          7,
          8,
          9,
          10,
          11,
          12,
          13,
          14,
          15,
          16,
          17,
          18,
          19,
          0,
          1,
          2,
          3,
          4,
          5,
          6,
          7,
          8,
          9,
          10,
          11,
          12,
          13,
          14,
          15,
          16,
          17,
          18,
          19,
          0,
          1,
          2,
          3,
          4,
          5,
          6,
          7,
          8,
          9,
          10,
          11,
          12,
          13,
          14,
          15,
          16,
          17,
          18,
          19,
          0,
          1,
          2,
          3,
          4,
          5,
          6,
          7,
          8,
          9,
          10,
          11,
          12,
          13,
          14,
          15,
          16,
          17,
          18,
          19,
          0,
          1,
          2,
          3,
          4,
          5,
          6,
          7,
          8,
          9,
          10,
          11,
          12,
          13,
          14,
          16,
          17,
          18,
          19,
          0,
          1,
          2,
          3,
          4,
          5,
          6,
          7,
          8,
          9,
          10,
          11,
          12,
          13,
          14,
          15,
          16,
          17,
          18,
          19,
          0,
          1,
          2,
          3,
          4,
          5,
          6,
          7,
          8,
          9,
          10,
          11,
          12,
          13,
          14,
          15,
          16,
          17,
          18,
          19,
          0,
          1,
          2,
          3,
          4,
          5,
          6,
          7,
          8,
          9,
          10,
          11,
          12,
          13,
          14,
          15,
          16,
          17,
          18,
          19,
          0,
          1,
          2,
          3,
          4,
          5,
          6,
          7,
          8,
          9,
          10,
          11,
          12,
          13,
          14,
          15,
          16,
          17,
          18,
          19,
          0,
          1,
          2,
          3,
          4,
          5,
          6,
          7,
          8,
          9,
          10,
          11,
          12,
          13,
          14,
          15,
          16,
          17,
          18,
          19,
          0,
          1,
          2,
          3,
          4,
          5,
          6,
          7,
          8,
          9,
          10,
          11,
          12,
          13,
          14,
          15,
          16,
          17,
          18,
          19,
          0,
          2,
          3,
          4,
          5,
          6,
          8,
          9,
          10,
          11,
          12,
          13,
          14,
          15,
          16,
          17,
          18,
          19,
          1,
          2,
          3,
          4,
          5,
          6,
          7,
          8,
          9,
          10,
          11,
          12,
          13,
          14,
          15,
          16,
          17,
          18,
          19,
          0,
          1,
          2,
          3,
          4,
          5,
          6,
          7,
          8,
          9,
          10,
          11,
          12,
          13,
          14,
          15,
          16,
          17,
          18,
          19,
          0,
          1,
          2,
          3,
          4,
          5,
          6,
          7,
          8,
          9,
          10,
          11,
          12,
          13,
          14,
          15,
          16,
          17,
          18,
          19,
          0,
          1,
          2,
          3,
          4,
          5,
          6,
          7,
          8,
          9,
          10,
          11,
          12,
          13,
          14,
          15,
          16,
          17,
          18,
          19
         ],
         "z": [
          9,
          36,
          67,
          71,
          75,
          85,
          48,
          40,
          64,
          48,
          76,
          76,
          75,
          86,
          82,
          90,
          87,
          126,
          116,
          152,
          3,
          21,
          11,
          17,
          27,
          22,
          11,
          13,
          17,
          14,
          15,
          26,
          23,
          22,
          20,
          21,
          38,
          37,
          23,
          19,
          7,
          17,
          31,
          32,
          41,
          22,
          19,
          22,
          21,
          20,
          21,
          20,
          37,
          19,
          32,
          33,
          36,
          38,
          37,
          45,
          14,
          23,
          35,
          44,
          34,
          32,
          23,
          31,
          36,
          30,
          39,
          41,
          45,
          40,
          34,
          51,
          64,
          52,
          65,
          68,
          4,
          6,
          14,
          9,
          11,
          12,
          10,
          6,
          11,
          8,
          5,
          7,
          5,
          8,
          5,
          5,
          7,
          9,
          9,
          4,
          5,
          7,
          6,
          7,
          9,
          10,
          7,
          6,
          12,
          8,
          14,
          15,
          11,
          12,
          21,
          17,
          18,
          26,
          28,
          32,
          21,
          33,
          42,
          52,
          48,
          53,
          40,
          46,
          56,
          44,
          51,
          53,
          58,
          62,
          61,
          81,
          53,
          68,
          72,
          81,
          2,
          4,
          3,
          3,
          3,
          3,
          2,
          2,
          1,
          3,
          1,
          3,
          2,
          3,
          4,
          3,
          4,
          5,
          2,
          31,
          51,
          59,
          65,
          60,
          74,
          48,
          68,
          59,
          61,
          71,
          83,
          89,
          79,
          88,
          104,
          103,
          104,
          114,
          84,
          3,
          6,
          12,
          14,
          19,
          19,
          8,
          16,
          19,
          17,
          13,
          8,
          18,
          20,
          25,
          24,
          14,
          21,
          33,
          23,
          24,
          43,
          62,
          74,
          89,
          82,
          39,
          51,
          79,
          56,
          64,
          82,
          85,
          99,
          100,
          101,
          116,
          145,
          131,
          163,
          5,
          6,
          6,
          7,
          7,
          3,
          5,
          10,
          9,
          6,
          13,
          5,
          10,
          13,
          13,
          16,
          13,
          12,
          18,
          19,
          3,
          17,
          17,
          17,
          17,
          23,
          9,
          14,
          26,
          17,
          28,
          24,
          20,
          23,
          27,
          36,
          20,
          37,
          29,
          36,
          29,
          27,
          42,
          63,
          56,
          55,
          39,
          56,
          54,
          53,
          64,
          61,
          73,
          69,
          62,
          85,
          79,
          91,
          97,
          82,
          1,
          2,
          5,
          8,
          6,
          1,
          3,
          8,
          3,
          2,
          7,
          4,
          5,
          5,
          2,
          2,
          14,
          11,
          2,
          1,
          1,
          5,
          5,
          4,
          3,
          1,
          1,
          2,
          2,
          1,
          1,
          7,
          6,
          6,
          9,
          2,
          9,
          28,
          42,
          59,
          69,
          59,
          54,
          30,
          56,
          66,
          69,
          73,
          58,
          82,
          86,
          86,
          109,
          104,
          120,
          115,
          123,
          4,
          9,
          10,
          5,
          5,
          9,
          4,
          7,
          12,
          9,
          11,
          7,
          5,
          7,
          6,
          12,
          10,
          11,
          11,
          11,
          12,
          42,
          54,
          31,
          56,
          46,
          34,
          42,
          44,
          38,
          40,
          42,
          58,
          65,
          77,
          56,
          59,
          73,
          94,
          79
         ],
         "type": "heatmap",
         "xaxis": "x",
         "yaxis": "y"
        },
        {
         "x": [
          "Chennai Super Kings",
          "Chennai Super Kings",
          "Chennai Super Kings",
          "Chennai Super Kings",
          "Chennai Super Kings",
          "Chennai Super Kings",
          "Chennai Super Kings",
          "Chennai Super Kings",
          "Chennai Super Kings",
          "Chennai Super Kings",
          "Chennai Super Kings",
          "Chennai Super Kings",
          "Chennai Super Kings",
          "Chennai Super Kings",
          "Chennai Super Kings",
          "Chennai Super Kings",
          "Chennai Super Kings",
          "Chennai Super Kings",
          "Chennai Super Kings",
          "Chennai Super Kings",
          "Deccan Chargers",
          "Deccan Chargers",
          "Deccan Chargers",
          "Deccan Chargers",
          "Deccan Chargers",
          "Deccan Chargers",
          "Deccan Chargers",
          "Deccan Chargers",
          "Deccan Chargers",
          "Deccan Chargers",
          "Deccan Chargers",
          "Deccan Chargers",
          "Deccan Chargers",
          "Deccan Chargers",
          "Deccan Chargers",
          "Deccan Chargers",
          "Deccan Chargers",
          "Deccan Chargers",
          "Deccan Chargers",
          "Deccan Chargers",
          "Delhi Capitals",
          "Delhi Capitals",
          "Delhi Capitals",
          "Delhi Capitals",
          "Delhi Capitals",
          "Delhi Capitals",
          "Delhi Capitals",
          "Delhi Capitals",
          "Delhi Capitals",
          "Delhi Capitals",
          "Delhi Capitals",
          "Delhi Capitals",
          "Delhi Capitals",
          "Delhi Capitals",
          "Delhi Capitals",
          "Delhi Capitals",
          "Delhi Capitals",
          "Delhi Capitals",
          "Delhi Capitals",
          "Delhi Capitals",
          "Delhi Daredevils",
          "Delhi Daredevils",
          "Delhi Daredevils",
          "Delhi Daredevils",
          "Delhi Daredevils",
          "Delhi Daredevils",
          "Delhi Daredevils",
          "Delhi Daredevils",
          "Delhi Daredevils",
          "Delhi Daredevils",
          "Delhi Daredevils",
          "Delhi Daredevils",
          "Delhi Daredevils",
          "Delhi Daredevils",
          "Delhi Daredevils",
          "Delhi Daredevils",
          "Delhi Daredevils",
          "Delhi Daredevils",
          "Delhi Daredevils",
          "Delhi Daredevils",
          "Gujarat Lions",
          "Gujarat Lions",
          "Gujarat Lions",
          "Gujarat Lions",
          "Gujarat Lions",
          "Gujarat Lions",
          "Gujarat Lions",
          "Gujarat Lions",
          "Gujarat Lions",
          "Gujarat Lions",
          "Gujarat Lions",
          "Gujarat Lions",
          "Gujarat Lions",
          "Gujarat Lions",
          "Gujarat Lions",
          "Gujarat Lions",
          "Gujarat Lions",
          "Gujarat Lions",
          "Gujarat Lions",
          "Gujarat Lions",
          "Gujarat Titans",
          "Gujarat Titans",
          "Gujarat Titans",
          "Gujarat Titans",
          "Gujarat Titans",
          "Gujarat Titans",
          "Gujarat Titans",
          "Gujarat Titans",
          "Gujarat Titans",
          "Gujarat Titans",
          "Gujarat Titans",
          "Gujarat Titans",
          "Gujarat Titans",
          "Gujarat Titans",
          "Gujarat Titans",
          "Gujarat Titans",
          "Gujarat Titans",
          "Gujarat Titans",
          "Gujarat Titans",
          "Gujarat Titans",
          "Kings XI Punjab",
          "Kings XI Punjab",
          "Kings XI Punjab",
          "Kings XI Punjab",
          "Kings XI Punjab",
          "Kings XI Punjab",
          "Kings XI Punjab",
          "Kings XI Punjab",
          "Kings XI Punjab",
          "Kings XI Punjab",
          "Kings XI Punjab",
          "Kings XI Punjab",
          "Kings XI Punjab",
          "Kings XI Punjab",
          "Kings XI Punjab",
          "Kings XI Punjab",
          "Kings XI Punjab",
          "Kings XI Punjab",
          "Kings XI Punjab",
          "Kings XI Punjab",
          "Kochi Tuskers Kerala",
          "Kochi Tuskers Kerala",
          "Kochi Tuskers Kerala",
          "Kochi Tuskers Kerala",
          "Kochi Tuskers Kerala",
          "Kochi Tuskers Kerala",
          "Kochi Tuskers Kerala",
          "Kochi Tuskers Kerala",
          "Kochi Tuskers Kerala",
          "Kochi Tuskers Kerala",
          "Kochi Tuskers Kerala",
          "Kochi Tuskers Kerala",
          "Kochi Tuskers Kerala",
          "Kochi Tuskers Kerala",
          "Kochi Tuskers Kerala",
          "Kochi Tuskers Kerala",
          "Kochi Tuskers Kerala",
          "Kochi Tuskers Kerala",
          "Kochi Tuskers Kerala",
          "Kochi Tuskers Kerala",
          "Kolkata Knight Riders",
          "Kolkata Knight Riders",
          "Kolkata Knight Riders",
          "Kolkata Knight Riders",
          "Kolkata Knight Riders",
          "Kolkata Knight Riders",
          "Kolkata Knight Riders",
          "Kolkata Knight Riders",
          "Kolkata Knight Riders",
          "Kolkata Knight Riders",
          "Kolkata Knight Riders",
          "Kolkata Knight Riders",
          "Kolkata Knight Riders",
          "Kolkata Knight Riders",
          "Kolkata Knight Riders",
          "Kolkata Knight Riders",
          "Kolkata Knight Riders",
          "Kolkata Knight Riders",
          "Kolkata Knight Riders",
          "Kolkata Knight Riders",
          "Lucknow Super Giants",
          "Lucknow Super Giants",
          "Lucknow Super Giants",
          "Lucknow Super Giants",
          "Lucknow Super Giants",
          "Lucknow Super Giants",
          "Lucknow Super Giants",
          "Lucknow Super Giants",
          "Lucknow Super Giants",
          "Lucknow Super Giants",
          "Lucknow Super Giants",
          "Lucknow Super Giants",
          "Lucknow Super Giants",
          "Lucknow Super Giants",
          "Lucknow Super Giants",
          "Lucknow Super Giants",
          "Lucknow Super Giants",
          "Lucknow Super Giants",
          "Lucknow Super Giants",
          "Lucknow Super Giants",
          "Mumbai Indians",
          "Mumbai Indians",
          "Mumbai Indians",
          "Mumbai Indians",
          "Mumbai Indians",
          "Mumbai Indians",
          "Mumbai Indians",
          "Mumbai Indians",
          "Mumbai Indians",
          "Mumbai Indians",
          "Mumbai Indians",
          "Mumbai Indians",
          "Mumbai Indians",
          "Mumbai Indians",
          "Mumbai Indians",
          "Mumbai Indians",
          "Mumbai Indians",
          "Mumbai Indians",
          "Mumbai Indians",
          "Mumbai Indians",
          "Pune Warriors",
          "Pune Warriors",
          "Pune Warriors",
          "Pune Warriors",
          "Pune Warriors",
          "Pune Warriors",
          "Pune Warriors",
          "Pune Warriors",
          "Pune Warriors",
          "Pune Warriors",
          "Pune Warriors",
          "Pune Warriors",
          "Pune Warriors",
          "Pune Warriors",
          "Pune Warriors",
          "Pune Warriors",
          "Pune Warriors",
          "Pune Warriors",
          "Pune Warriors",
          "Pune Warriors",
          "Punjab Kings",
          "Punjab Kings",
          "Punjab Kings",
          "Punjab Kings",
          "Punjab Kings",
          "Punjab Kings",
          "Punjab Kings",
          "Punjab Kings",
          "Punjab Kings",
          "Punjab Kings",
          "Punjab Kings",
          "Punjab Kings",
          "Punjab Kings",
          "Punjab Kings",
          "Punjab Kings",
          "Punjab Kings",
          "Punjab Kings",
          "Punjab Kings",
          "Punjab Kings",
          "Punjab Kings",
          "Rajasthan Royals",
          "Rajasthan Royals",
          "Rajasthan Royals",
          "Rajasthan Royals",
          "Rajasthan Royals",
          "Rajasthan Royals",
          "Rajasthan Royals",
          "Rajasthan Royals",
          "Rajasthan Royals",
          "Rajasthan Royals",
          "Rajasthan Royals",
          "Rajasthan Royals",
          "Rajasthan Royals",
          "Rajasthan Royals",
          "Rajasthan Royals",
          "Rajasthan Royals",
          "Rajasthan Royals",
          "Rajasthan Royals",
          "Rajasthan Royals",
          "Rajasthan Royals",
          "Rising Pune Supergiant",
          "Rising Pune Supergiant",
          "Rising Pune Supergiant",
          "Rising Pune Supergiant",
          "Rising Pune Supergiant",
          "Rising Pune Supergiant",
          "Rising Pune Supergiant",
          "Rising Pune Supergiant",
          "Rising Pune Supergiant",
          "Rising Pune Supergiant",
          "Rising Pune Supergiant",
          "Rising Pune Supergiant",
          "Rising Pune Supergiant",
          "Rising Pune Supergiant",
          "Rising Pune Supergiant",
          "Rising Pune Supergiant",
          "Rising Pune Supergiant",
          "Rising Pune Supergiant",
          "Rising Pune Supergiant",
          "Rising Pune Supergiant",
          "Rising Pune Supergiants",
          "Rising Pune Supergiants",
          "Rising Pune Supergiants",
          "Rising Pune Supergiants",
          "Rising Pune Supergiants",
          "Rising Pune Supergiants",
          "Rising Pune Supergiants",
          "Rising Pune Supergiants",
          "Rising Pune Supergiants",
          "Rising Pune Supergiants",
          "Rising Pune Supergiants",
          "Rising Pune Supergiants",
          "Rising Pune Supergiants",
          "Rising Pune Supergiants",
          "Rising Pune Supergiants",
          "Rising Pune Supergiants",
          "Rising Pune Supergiants",
          "Rising Pune Supergiants",
          "Rising Pune Supergiants",
          "Rising Pune Supergiants",
          "Royal Challengers Bangalore",
          "Royal Challengers Bangalore",
          "Royal Challengers Bangalore",
          "Royal Challengers Bangalore",
          "Royal Challengers Bangalore",
          "Royal Challengers Bangalore",
          "Royal Challengers Bangalore",
          "Royal Challengers Bangalore",
          "Royal Challengers Bangalore",
          "Royal Challengers Bangalore",
          "Royal Challengers Bangalore",
          "Royal Challengers Bangalore",
          "Royal Challengers Bangalore",
          "Royal Challengers Bangalore",
          "Royal Challengers Bangalore",
          "Royal Challengers Bangalore",
          "Royal Challengers Bangalore",
          "Royal Challengers Bangalore",
          "Royal Challengers Bangalore",
          "Royal Challengers Bangalore",
          "Royal Challengers Bengaluru",
          "Royal Challengers Bengaluru",
          "Royal Challengers Bengaluru",
          "Royal Challengers Bengaluru",
          "Royal Challengers Bengaluru",
          "Royal Challengers Bengaluru",
          "Royal Challengers Bengaluru",
          "Royal Challengers Bengaluru",
          "Royal Challengers Bengaluru",
          "Royal Challengers Bengaluru",
          "Royal Challengers Bengaluru",
          "Royal Challengers Bengaluru",
          "Royal Challengers Bengaluru",
          "Royal Challengers Bengaluru",
          "Royal Challengers Bengaluru",
          "Royal Challengers Bengaluru",
          "Royal Challengers Bengaluru",
          "Royal Challengers Bengaluru",
          "Royal Challengers Bengaluru",
          "Royal Challengers Bengaluru",
          "Sunrisers Hyderabad",
          "Sunrisers Hyderabad",
          "Sunrisers Hyderabad",
          "Sunrisers Hyderabad",
          "Sunrisers Hyderabad",
          "Sunrisers Hyderabad",
          "Sunrisers Hyderabad",
          "Sunrisers Hyderabad",
          "Sunrisers Hyderabad",
          "Sunrisers Hyderabad",
          "Sunrisers Hyderabad",
          "Sunrisers Hyderabad",
          "Sunrisers Hyderabad",
          "Sunrisers Hyderabad",
          "Sunrisers Hyderabad",
          "Sunrisers Hyderabad",
          "Sunrisers Hyderabad",
          "Sunrisers Hyderabad",
          "Sunrisers Hyderabad",
          "Sunrisers Hyderabad"
         ],
         "y": [
          0,
          1,
          2,
          3,
          4,
          5,
          6,
          7,
          8,
          9,
          10,
          11,
          12,
          13,
          14,
          15,
          16,
          17,
          18,
          19,
          0,
          1,
          2,
          3,
          4,
          5,
          6,
          7,
          8,
          9,
          10,
          11,
          12,
          13,
          14,
          15,
          16,
          17,
          18,
          19,
          0,
          1,
          2,
          3,
          4,
          5,
          6,
          7,
          8,
          9,
          10,
          11,
          12,
          13,
          14,
          15,
          16,
          17,
          18,
          19,
          0,
          1,
          2,
          3,
          4,
          5,
          6,
          7,
          8,
          9,
          10,
          11,
          12,
          13,
          14,
          15,
          16,
          17,
          18,
          19,
          0,
          1,
          2,
          3,
          4,
          5,
          6,
          7,
          8,
          9,
          10,
          11,
          12,
          13,
          14,
          15,
          16,
          17,
          18,
          19,
          0,
          1,
          2,
          3,
          4,
          5,
          6,
          7,
          8,
          9,
          10,
          11,
          12,
          13,
          14,
          15,
          16,
          17,
          18,
          19,
          0,
          1,
          2,
          3,
          4,
          5,
          6,
          7,
          8,
          9,
          10,
          11,
          12,
          13,
          14,
          15,
          16,
          17,
          18,
          19,
          0,
          1,
          2,
          3,
          4,
          5,
          6,
          7,
          8,
          9,
          10,
          11,
          12,
          13,
          14,
          15,
          16,
          17,
          18,
          19,
          0,
          1,
          2,
          3,
          4,
          5,
          6,
          7,
          8,
          9,
          10,
          11,
          12,
          13,
          14,
          15,
          16,
          17,
          18,
          19,
          0,
          1,
          2,
          3,
          4,
          5,
          6,
          7,
          8,
          9,
          10,
          11,
          12,
          13,
          14,
          15,
          16,
          17,
          18,
          19,
          0,
          1,
          2,
          3,
          4,
          5,
          6,
          7,
          8,
          9,
          10,
          11,
          12,
          13,
          14,
          15,
          16,
          17,
          18,
          19,
          0,
          1,
          2,
          3,
          4,
          5,
          6,
          7,
          8,
          9,
          10,
          11,
          12,
          13,
          14,
          15,
          16,
          17,
          18,
          19,
          0,
          1,
          2,
          3,
          4,
          5,
          6,
          7,
          8,
          9,
          10,
          11,
          12,
          13,
          14,
          15,
          16,
          17,
          18,
          19,
          0,
          1,
          2,
          3,
          4,
          5,
          6,
          7,
          8,
          9,
          10,
          11,
          12,
          13,
          14,
          15,
          16,
          17,
          18,
          19,
          0,
          1,
          2,
          3,
          4,
          5,
          6,
          7,
          8,
          9,
          10,
          11,
          12,
          13,
          14,
          15,
          16,
          17,
          18,
          19,
          0,
          1,
          2,
          3,
          4,
          5,
          6,
          7,
          8,
          9,
          10,
          11,
          12,
          13,
          14,
          15,
          16,
          17,
          18,
          19,
          0,
          1,
          2,
          3,
          4,
          5,
          6,
          7,
          8,
          9,
          10,
          11,
          12,
          13,
          14,
          15,
          16,
          17,
          18,
          19,
          0,
          1,
          2,
          3,
          4,
          5,
          6,
          7,
          8,
          9,
          10,
          11,
          12,
          13,
          14,
          15,
          16,
          17,
          18,
          19,
          0,
          1,
          2,
          3,
          4,
          5,
          6,
          7,
          8,
          9,
          10,
          11,
          12,
          13,
          14,
          15,
          16,
          17,
          18,
          19
         ],
         "z": [
          927,
          846,
          741,
          697,
          666,
          648,
          572,
          530,
          486,
          498,
          486,
          492,
          487,
          518,
          482,
          431,
          447,
          414,
          384,
          366,
          278,
          264,
          230,
          246,
          232,
          227,
          193,
          181,
          171,
          182,
          158,
          154,
          178,
          146,
          157,
          144,
          132,
          138,
          139,
          123,
          322,
          288,
          274,
          254,
          251,
          234,
          189,
          187,
          201,
          173,
          165,
          192,
          191,
          211,
          211,
          209,
          172,
          173,
          180,
          144,
          600,
          520,
          528,
          473,
          476,
          490,
          373,
          359,
          338,
          342,
          343,
          310,
          338,
          342,
          345,
          304,
          333,
          276,
          261,
          204,
          115,
          100,
          75,
          90,
          81,
          75,
          68,
          50,
          74,
          62,
          59,
          71,
          60,
          54,
          52,
          53,
          58,
          62,
          49,
          37,
          164,
          138,
          117,
          129,
          120,
          125,
          94,
          96,
          74,
          82,
          78,
          74,
          98,
          87,
          76,
          80,
          85,
          84,
          81,
          77,
          715,
          686,
          584,
          532,
          542,
          560,
          459,
          448,
          449,
          423,
          388,
          393,
          387,
          361,
          375,
          361,
          328,
          387,
          337,
          330,
          58,
          55,
          42,
          41,
          47,
          42,
          44,
          40,
          39,
          34,
          31,
          19,
          31,
          39,
          19,
          32,
          23,
          25,
          18,
          17,
          974,
          870,
          812,
          744,
          729,
          724,
          617,
          558,
          582,
          564,
          560,
          538,
          557,
          518,
          520,
          510,
          462,
          455,
          421,
          395,
          177,
          144,
          131,
          128,
          125,
          124,
          93,
          88,
          72,
          87,
          92,
          98,
          97,
          86,
          88,
          110,
          94,
          71,
          101,
          98,
          1026,
          971,
          817,
          815,
          784,
          721,
          641,
          600,
          587,
          562,
          601,
          553,
          574,
          542,
          544,
          538,
          533,
          517,
          490,
          448,
          169,
          159,
          132,
          142,
          143,
          144,
          129,
          115,
          115,
          111,
          121,
          99,
          113,
          97,
          111,
          80,
          113,
          85,
          93,
          81,
          200,
          185,
          161,
          162,
          155,
          149,
          134,
          121,
          129,
          139,
          132,
          126,
          117,
          127,
          137,
          136,
          131,
          115,
          121,
          112,
          855,
          789,
          685,
          649,
          631,
          632,
          526,
          498,
          501,
          447,
          490,
          467,
          476,
          454,
          485,
          422,
          414,
          423,
          393,
          327,
          63,
          44,
          38,
          36,
          36,
          37,
          34,
          35,
          43,
          30,
          33,
          28,
          33,
          31,
          32,
          29,
          29,
          34,
          28,
          28,
          57,
          48,
          39,
          42,
          38,
          34,
          33,
          24,
          24,
          35,
          26,
          20,
          22,
          26,
          27,
          27,
          23,
          20,
          23,
          15,
          897,
          845,
          742,
          725,
          702,
          666,
          577,
          520,
          543,
          502,
          488,
          480,
          478,
          469,
          478,
          477,
          451,
          432,
          404,
          367,
          41,
          38,
          39,
          32,
          50,
          37,
          23,
          30,
          31,
          31,
          39,
          28,
          30,
          20,
          33,
          23,
          31,
          33,
          37,
          29,
          678,
          582,
          505,
          501,
          500,
          467,
          425,
          389,
          372,
          374,
          394,
          354,
          384,
          346,
          341,
          376,
          365,
          340,
          335,
          315
         ],
         "type": "heatmap",
         "xaxis": "x2",
         "yaxis": "y2"
        }
       ],
       "layout": {
        "template": {
         "data": {
          "histogram2dcontour": [
           {
            "type": "histogram2dcontour",
            "colorbar": {
             "outlinewidth": 0,
             "ticks": ""
            },
            "colorscale": [
             [
              0.0,
              "#0d0887"
             ],
             [
              0.1111111111111111,
              "#46039f"
             ],
             [
              0.2222222222222222,
              "#7201a8"
             ],
             [
              0.3333333333333333,
              "#9c179e"
             ],
             [
              0.4444444444444444,
              "#bd3786"
             ],
             [
              0.5555555555555556,
              "#d8576b"
             ],
             [
              0.6666666666666666,
              "#ed7953"
             ],
             [
              0.7777777777777778,
              "#fb9f3a"
             ],
             [
              0.8888888888888888,
              "#fdca26"
             ],
             [
              1.0,
              "#f0f921"
             ]
            ]
           }
          ],
          "choropleth": [
           {
            "type": "choropleth",
            "colorbar": {
             "outlinewidth": 0,
             "ticks": ""
            }
           }
          ],
          "histogram2d": [
           {
            "type": "histogram2d",
            "colorbar": {
             "outlinewidth": 0,
             "ticks": ""
            },
            "colorscale": [
             [
              0.0,
              "#0d0887"
             ],
             [
              0.1111111111111111,
              "#46039f"
             ],
             [
              0.2222222222222222,
              "#7201a8"
             ],
             [
              0.3333333333333333,
              "#9c179e"
             ],
             [
              0.4444444444444444,
              "#bd3786"
             ],
             [
              0.5555555555555556,
              "#d8576b"
             ],
             [
              0.6666666666666666,
              "#ed7953"
             ],
             [
              0.7777777777777778,
              "#fb9f3a"
             ],
             [
              0.8888888888888888,
              "#fdca26"
             ],
             [
              1.0,
              "#f0f921"
             ]
            ]
           }
          ],
          "heatmap": [
           {
            "type": "heatmap",
            "colorbar": {
             "outlinewidth": 0,
             "ticks": ""
            },
            "colorscale": [
             [
              0.0,
              "#0d0887"
             ],
             [
              0.1111111111111111,
              "#46039f"
             ],
             [
              0.2222222222222222,
              "#7201a8"
             ],
             [
              0.3333333333333333,
              "#9c179e"
             ],
             [
              0.4444444444444444,
              "#bd3786"
             ],
             [
              0.5555555555555556,
              "#d8576b"
             ],
             [
              0.6666666666666666,
              "#ed7953"
             ],
             [
              0.7777777777777778,
              "#fb9f3a"
             ],
             [
              0.8888888888888888,
              "#fdca26"
             ],
             [
              1.0,
              "#f0f921"
             ]
            ]
           }
          ],
          "heatmapgl": [
           {
            "type": "heatmapgl",
            "colorbar": {
             "outlinewidth": 0,
             "ticks": ""
            },
            "colorscale": [
             [
              0.0,
              "#0d0887"
             ],
             [
              0.1111111111111111,
              "#46039f"
             ],
             [
              0.2222222222222222,
              "#7201a8"
             ],
             [
              0.3333333333333333,
              "#9c179e"
             ],
             [
              0.4444444444444444,
              "#bd3786"
             ],
             [
              0.5555555555555556,
              "#d8576b"
             ],
             [
              0.6666666666666666,
              "#ed7953"
             ],
             [
              0.7777777777777778,
              "#fb9f3a"
             ],
             [
              0.8888888888888888,
              "#fdca26"
             ],
             [
              1.0,
              "#f0f921"
             ]
            ]
           }
          ],
          "contourcarpet": [
           {
            "type": "contourcarpet",
            "colorbar": {
             "outlinewidth": 0,
             "ticks": ""
            }
           }
          ],
          "contour": [
           {
            "type": "contour",
            "colorbar": {
             "outlinewidth": 0,
             "ticks": ""
            },
            "colorscale": [
             [
              0.0,
              "#0d0887"
             ],
             [
              0.1111111111111111,
              "#46039f"
             ],
             [
              0.2222222222222222,
              "#7201a8"
             ],
             [
              0.3333333333333333,
              "#9c179e"
             ],
             [
              0.4444444444444444,
              "#bd3786"
             ],
             [
              0.5555555555555556,
              "#d8576b"
             ],
             [
              0.6666666666666666,
              "#ed7953"
             ],
             [
              0.7777777777777778,
              "#fb9f3a"
             ],
             [
              0.8888888888888888,
              "#fdca26"
             ],
             [
              1.0,
              "#f0f921"
             ]
            ]
           }
          ],
          "surface": [
           {
            "type": "surface",
            "colorbar": {
             "outlinewidth": 0,
             "ticks": ""
            },
            "colorscale": [
             [
              0.0,
              "#0d0887"
             ],
             [
              0.1111111111111111,
              "#46039f"
             ],
             [
              0.2222222222222222,
              "#7201a8"
             ],
             [
              0.3333333333333333,
              "#9c179e"
             ],
             [
              0.4444444444444444,
              "#bd3786"
             ],
             [
              0.5555555555555556,
              "#d8576b"
             ],
             [
              0.6666666666666666,
              "#ed7953"
             ],
             [
              0.7777777777777778,
              "#fb9f3a"
             ],
             [
              0.8888888888888888,
              "#fdca26"
             ],
             [
              1.0,
              "#f0f921"
             ]
            ]
           }
          ],
          "mesh3d": [
           {
            "type": "mesh3d",
            "colorbar": {
             "outlinewidth": 0,
             "ticks": ""
            }
           }
          ],
          "scatter": [
           {
            "fillpattern": {
             "fillmode": "overlay",
             "size": 10,
             "solidity": 0.2
            },
            "type": "scatter"
           }
          ],
          "parcoords": [
           {
            "type": "parcoords",
            "line": {
             "colorbar": {
              "outlinewidth": 0,
              "ticks": ""
             }
            }
           }
          ],
          "scatterpolargl": [
           {
            "type": "scatterpolargl",
            "marker": {
             "colorbar": {
              "outlinewidth": 0,
              "ticks": ""
             }
            }
           }
          ],
          "bar": [
           {
            "error_x": {
             "color": "#2a3f5f"
            },
            "error_y": {
             "color": "#2a3f5f"
            },
            "marker": {
             "line": {
              "color": "#E5ECF6",
              "width": 0.5
             },
             "pattern": {
              "fillmode": "overlay",
              "size": 10,
              "solidity": 0.2
             }
            },
            "type": "bar"
           }
          ],
          "scattergeo": [
           {
            "type": "scattergeo",
            "marker": {
             "colorbar": {
              "outlinewidth": 0,
              "ticks": ""
             }
            }
           }
          ],
          "scatterpolar": [
           {
            "type": "scatterpolar",
            "marker": {
             "colorbar": {
              "outlinewidth": 0,
              "ticks": ""
             }
            }
           }
          ],
          "histogram": [
           {
            "marker": {
             "pattern": {
              "fillmode": "overlay",
              "size": 10,
              "solidity": 0.2
             }
            },
            "type": "histogram"
           }
          ],
          "scattergl": [
           {
            "type": "scattergl",
            "marker": {
             "colorbar": {
              "outlinewidth": 0,
              "ticks": ""
             }
            }
           }
          ],
          "scatter3d": [
           {
            "type": "scatter3d",
            "line": {
             "colorbar": {
              "outlinewidth": 0,
              "ticks": ""
             }
            },
            "marker": {
             "colorbar": {
              "outlinewidth": 0,
              "ticks": ""
             }
            }
           }
          ],
          "scattermapbox": [
           {
            "type": "scattermapbox",
            "marker": {
             "colorbar": {
              "outlinewidth": 0,
              "ticks": ""
             }
            }
           }
          ],
          "scatterternary": [
           {
            "type": "scatterternary",
            "marker": {
             "colorbar": {
              "outlinewidth": 0,
              "ticks": ""
             }
            }
           }
          ],
          "scattercarpet": [
           {
            "type": "scattercarpet",
            "marker": {
             "colorbar": {
              "outlinewidth": 0,
              "ticks": ""
             }
            }
           }
          ],
          "carpet": [
           {
            "aaxis": {
             "endlinecolor": "#2a3f5f",
             "gridcolor": "white",
             "linecolor": "white",
             "minorgridcolor": "white",
             "startlinecolor": "#2a3f5f"
            },
            "baxis": {
             "endlinecolor": "#2a3f5f",
             "gridcolor": "white",
             "linecolor": "white",
             "minorgridcolor": "white",
             "startlinecolor": "#2a3f5f"
            },
            "type": "carpet"
           }
          ],
          "table": [
           {
            "cells": {
             "fill": {
              "color": "#EBF0F8"
             },
             "line": {
              "color": "white"
             }
            },
            "header": {
             "fill": {
              "color": "#C8D4E3"
             },
             "line": {
              "color": "white"
             }
            },
            "type": "table"
           }
          ],
          "barpolar": [
           {
            "marker": {
             "line": {
              "color": "#E5ECF6",
              "width": 0.5
             },
             "pattern": {
              "fillmode": "overlay",
              "size": 10,
              "solidity": 0.2
             }
            },
            "type": "barpolar"
           }
          ],
          "pie": [
           {
            "automargin": true,
            "type": "pie"
           }
          ]
         },
         "layout": {
          "autotypenumbers": "strict",
          "colorway": [
           "#636efa",
           "#EF553B",
           "#00cc96",
           "#ab63fa",
           "#FFA15A",
           "#19d3f3",
           "#FF6692",
           "#B6E880",
           "#FF97FF",
           "#FECB52"
          ],
          "font": {
           "color": "#2a3f5f"
          },
          "hovermode": "closest",
          "hoverlabel": {
           "align": "left"
          },
          "paper_bgcolor": "white",
          "plot_bgcolor": "#E5ECF6",
          "polar": {
           "bgcolor": "#E5ECF6",
           "angularaxis": {
            "gridcolor": "white",
            "linecolor": "white",
            "ticks": ""
           },
           "radialaxis": {
            "gridcolor": "white",
            "linecolor": "white",
            "ticks": ""
           }
          },
          "ternary": {
           "bgcolor": "#E5ECF6",
           "aaxis": {
            "gridcolor": "white",
            "linecolor": "white",
            "ticks": ""
           },
           "baxis": {
            "gridcolor": "white",
            "linecolor": "white",
            "ticks": ""
           },
           "caxis": {
            "gridcolor": "white",
            "linecolor": "white",
            "ticks": ""
           }
          },
          "coloraxis": {
           "colorbar": {
            "outlinewidth": 0,
            "ticks": ""
           }
          },
          "colorscale": {
           "sequential": [
            [
             0.0,
             "#0d0887"
            ],
            [
             0.1111111111111111,
             "#46039f"
            ],
            [
             0.2222222222222222,
             "#7201a8"
            ],
            [
             0.3333333333333333,
             "#9c179e"
            ],
            [
             0.4444444444444444,
             "#bd3786"
            ],
            [
             0.5555555555555556,
             "#d8576b"
            ],
            [
             0.6666666666666666,
             "#ed7953"
            ],
            [
             0.7777777777777778,
             "#fb9f3a"
            ],
            [
             0.8888888888888888,
             "#fdca26"
            ],
            [
             1.0,
             "#f0f921"
            ]
           ],
           "sequentialminus": [
            [
             0.0,
             "#0d0887"
            ],
            [
             0.1111111111111111,
             "#46039f"
            ],
            [
             0.2222222222222222,
             "#7201a8"
            ],
            [
             0.3333333333333333,
             "#9c179e"
            ],
            [
             0.4444444444444444,
             "#bd3786"
            ],
            [
             0.5555555555555556,
             "#d8576b"
            ],
            [
             0.6666666666666666,
             "#ed7953"
            ],
            [
             0.7777777777777778,
             "#fb9f3a"
            ],
            [
             0.8888888888888888,
             "#fdca26"
            ],
            [
             1.0,
             "#f0f921"
            ]
           ],
           "diverging": [
            [
             0,
             "#8e0152"
            ],
            [
             0.1,
             "#c51b7d"
            ],
            [
             0.2,
             "#de77ae"
            ],
            [
             0.3,
             "#f1b6da"
            ],
            [
             0.4,
             "#fde0ef"
            ],
            [
             0.5,
             "#f7f7f7"
            ],
            [
             0.6,
             "#e6f5d0"
            ],
            [
             0.7,
             "#b8e186"
            ],
            [
             0.8,
             "#7fbc41"
            ],
            [
             0.9,
             "#4d9221"
            ],
            [
             1,
             "#276419"
            ]
           ]
          },
          "xaxis": {
           "gridcolor": "white",
           "linecolor": "white",
           "ticks": "",
           "title": {
            "standoff": 15
           },
           "zerolinecolor": "white",
           "automargin": true,
           "zerolinewidth": 2
          },
          "yaxis": {
           "gridcolor": "white",
           "linecolor": "white",
           "ticks": "",
           "title": {
            "standoff": 15
           },
           "zerolinecolor": "white",
           "automargin": true,
           "zerolinewidth": 2
          },
          "scene": {
           "xaxis": {
            "backgroundcolor": "#E5ECF6",
            "gridcolor": "white",
            "linecolor": "white",
            "showbackground": true,
            "ticks": "",
            "zerolinecolor": "white",
            "gridwidth": 2
           },
           "yaxis": {
            "backgroundcolor": "#E5ECF6",
            "gridcolor": "white",
            "linecolor": "white",
            "showbackground": true,
            "ticks": "",
            "zerolinecolor": "white",
            "gridwidth": 2
           },
           "zaxis": {
            "backgroundcolor": "#E5ECF6",
            "gridcolor": "white",
            "linecolor": "white",
            "showbackground": true,
            "ticks": "",
            "zerolinecolor": "white",
            "gridwidth": 2
           }
          },
          "shapedefaults": {
           "line": {
            "color": "#2a3f5f"
           }
          },
          "annotationdefaults": {
           "arrowcolor": "#2a3f5f",
           "arrowhead": 0,
           "arrowwidth": 1
          },
          "geo": {
           "bgcolor": "white",
           "landcolor": "#E5ECF6",
           "subunitcolor": "white",
           "showland": true,
           "showlakes": true,
           "lakecolor": "white"
          },
          "title": {
           "x": 0.05
          },
          "mapbox": {
           "style": "light"
          }
         }
        },
        "xaxis": {
         "anchor": "y",
         "domain": [
          0.0,
          0.45
         ]
        },
        "yaxis": {
         "anchor": "x",
         "domain": [
          0.0,
          1.0
         ]
        },
        "xaxis2": {
         "anchor": "y2",
         "domain": [
          0.55,
          1.0
         ]
        },
        "yaxis2": {
         "anchor": "x2",
         "domain": [
          0.0,
          1.0
         ],
         "matches": "y",
         "showticklabels": false
        },
        "annotations": [
         {
          "font": {
           "size": 16
          },
          "showarrow": false,
          "text": "6's",
          "x": 0.225,
          "xanchor": "center",
          "xref": "paper",
          "y": 1.0,
          "yanchor": "bottom",
          "yref": "paper"
         },
         {
          "font": {
           "size": 16
          },
          "showarrow": false,
          "text": "0's",
          "x": 0.775,
          "xanchor": "center",
          "xref": "paper",
          "y": 1.0,
          "yanchor": "bottom",
          "yref": "paper"
         }
        ]
       },
       "config": {
        "plotlyServerURL": "https://plot.ly"
       }
      },
      "text/html": [
       "<div>                            <div id=\"da0b5559-d3c3-49ea-aeac-8d4f2747705f\" class=\"plotly-graph-div\" style=\"height:525px; width:100%;\"></div>            <script type=\"text/javascript\">                require([\"plotly\"], function(Plotly) {                    window.PLOTLYENV=window.PLOTLYENV || {};                                    if (document.getElementById(\"da0b5559-d3c3-49ea-aeac-8d4f2747705f\")) {                    Plotly.newPlot(                        \"da0b5559-d3c3-49ea-aeac-8d4f2747705f\",                        [{\"x\":[\"Chennai Super Kings\",\"Chennai Super Kings\",\"Chennai Super Kings\",\"Chennai Super Kings\",\"Chennai Super Kings\",\"Chennai Super Kings\",\"Chennai Super Kings\",\"Chennai Super Kings\",\"Chennai Super Kings\",\"Chennai Super Kings\",\"Chennai Super Kings\",\"Chennai Super Kings\",\"Chennai Super Kings\",\"Chennai Super Kings\",\"Chennai Super Kings\",\"Chennai Super Kings\",\"Chennai Super Kings\",\"Chennai Super Kings\",\"Chennai Super Kings\",\"Chennai Super Kings\",\"Deccan Chargers\",\"Deccan Chargers\",\"Deccan Chargers\",\"Deccan Chargers\",\"Deccan Chargers\",\"Deccan Chargers\",\"Deccan Chargers\",\"Deccan Chargers\",\"Deccan Chargers\",\"Deccan Chargers\",\"Deccan Chargers\",\"Deccan Chargers\",\"Deccan Chargers\",\"Deccan Chargers\",\"Deccan Chargers\",\"Deccan Chargers\",\"Deccan Chargers\",\"Deccan Chargers\",\"Deccan Chargers\",\"Deccan Chargers\",\"Delhi Capitals\",\"Delhi Capitals\",\"Delhi Capitals\",\"Delhi Capitals\",\"Delhi Capitals\",\"Delhi Capitals\",\"Delhi Capitals\",\"Delhi Capitals\",\"Delhi Capitals\",\"Delhi Capitals\",\"Delhi Capitals\",\"Delhi Capitals\",\"Delhi Capitals\",\"Delhi Capitals\",\"Delhi Capitals\",\"Delhi Capitals\",\"Delhi Capitals\",\"Delhi Capitals\",\"Delhi Capitals\",\"Delhi Capitals\",\"Delhi Daredevils\",\"Delhi Daredevils\",\"Delhi Daredevils\",\"Delhi Daredevils\",\"Delhi Daredevils\",\"Delhi Daredevils\",\"Delhi Daredevils\",\"Delhi Daredevils\",\"Delhi Daredevils\",\"Delhi Daredevils\",\"Delhi Daredevils\",\"Delhi Daredevils\",\"Delhi Daredevils\",\"Delhi Daredevils\",\"Delhi Daredevils\",\"Delhi Daredevils\",\"Delhi Daredevils\",\"Delhi Daredevils\",\"Delhi Daredevils\",\"Delhi Daredevils\",\"Gujarat Lions\",\"Gujarat Lions\",\"Gujarat Lions\",\"Gujarat Lions\",\"Gujarat Lions\",\"Gujarat Lions\",\"Gujarat Lions\",\"Gujarat Lions\",\"Gujarat Lions\",\"Gujarat Lions\",\"Gujarat Lions\",\"Gujarat Lions\",\"Gujarat Lions\",\"Gujarat Lions\",\"Gujarat Lions\",\"Gujarat Lions\",\"Gujarat Lions\",\"Gujarat Lions\",\"Gujarat Lions\",\"Gujarat Lions\",\"Gujarat Titans\",\"Gujarat Titans\",\"Gujarat Titans\",\"Gujarat Titans\",\"Gujarat Titans\",\"Gujarat Titans\",\"Gujarat Titans\",\"Gujarat Titans\",\"Gujarat Titans\",\"Gujarat Titans\",\"Gujarat Titans\",\"Gujarat Titans\",\"Gujarat Titans\",\"Gujarat Titans\",\"Gujarat Titans\",\"Gujarat Titans\",\"Gujarat Titans\",\"Gujarat Titans\",\"Gujarat Titans\",\"Gujarat Titans\",\"Kings XI Punjab\",\"Kings XI Punjab\",\"Kings XI Punjab\",\"Kings XI Punjab\",\"Kings XI Punjab\",\"Kings XI Punjab\",\"Kings XI Punjab\",\"Kings XI Punjab\",\"Kings XI Punjab\",\"Kings XI Punjab\",\"Kings XI Punjab\",\"Kings XI Punjab\",\"Kings XI Punjab\",\"Kings XI Punjab\",\"Kings XI Punjab\",\"Kings XI Punjab\",\"Kings XI Punjab\",\"Kings XI Punjab\",\"Kings XI Punjab\",\"Kings XI Punjab\",\"Kochi Tuskers Kerala\",\"Kochi Tuskers Kerala\",\"Kochi Tuskers Kerala\",\"Kochi Tuskers Kerala\",\"Kochi Tuskers Kerala\",\"Kochi Tuskers Kerala\",\"Kochi Tuskers Kerala\",\"Kochi Tuskers Kerala\",\"Kochi Tuskers Kerala\",\"Kochi Tuskers Kerala\",\"Kochi Tuskers Kerala\",\"Kochi Tuskers Kerala\",\"Kochi Tuskers Kerala\",\"Kochi Tuskers Kerala\",\"Kochi Tuskers Kerala\",\"Kochi Tuskers Kerala\",\"Kochi Tuskers Kerala\",\"Kochi Tuskers Kerala\",\"Kochi Tuskers Kerala\",\"Kolkata Knight Riders\",\"Kolkata Knight Riders\",\"Kolkata Knight Riders\",\"Kolkata Knight Riders\",\"Kolkata Knight Riders\",\"Kolkata Knight Riders\",\"Kolkata Knight Riders\",\"Kolkata Knight Riders\",\"Kolkata Knight Riders\",\"Kolkata Knight Riders\",\"Kolkata Knight Riders\",\"Kolkata Knight Riders\",\"Kolkata Knight Riders\",\"Kolkata Knight Riders\",\"Kolkata Knight Riders\",\"Kolkata Knight Riders\",\"Kolkata Knight Riders\",\"Kolkata Knight Riders\",\"Kolkata Knight Riders\",\"Kolkata Knight Riders\",\"Lucknow Super Giants\",\"Lucknow Super Giants\",\"Lucknow Super Giants\",\"Lucknow Super Giants\",\"Lucknow Super Giants\",\"Lucknow Super Giants\",\"Lucknow Super Giants\",\"Lucknow Super Giants\",\"Lucknow Super Giants\",\"Lucknow Super Giants\",\"Lucknow Super Giants\",\"Lucknow Super Giants\",\"Lucknow Super Giants\",\"Lucknow Super Giants\",\"Lucknow Super Giants\",\"Lucknow Super Giants\",\"Lucknow Super Giants\",\"Lucknow Super Giants\",\"Lucknow Super Giants\",\"Lucknow Super Giants\",\"Mumbai Indians\",\"Mumbai Indians\",\"Mumbai Indians\",\"Mumbai Indians\",\"Mumbai Indians\",\"Mumbai Indians\",\"Mumbai Indians\",\"Mumbai Indians\",\"Mumbai Indians\",\"Mumbai Indians\",\"Mumbai Indians\",\"Mumbai Indians\",\"Mumbai Indians\",\"Mumbai Indians\",\"Mumbai Indians\",\"Mumbai Indians\",\"Mumbai Indians\",\"Mumbai Indians\",\"Mumbai Indians\",\"Mumbai Indians\",\"Pune Warriors\",\"Pune Warriors\",\"Pune Warriors\",\"Pune Warriors\",\"Pune Warriors\",\"Pune Warriors\",\"Pune Warriors\",\"Pune Warriors\",\"Pune Warriors\",\"Pune Warriors\",\"Pune Warriors\",\"Pune Warriors\",\"Pune Warriors\",\"Pune Warriors\",\"Pune Warriors\",\"Pune Warriors\",\"Pune Warriors\",\"Pune Warriors\",\"Pune Warriors\",\"Pune Warriors\",\"Punjab Kings\",\"Punjab Kings\",\"Punjab Kings\",\"Punjab Kings\",\"Punjab Kings\",\"Punjab Kings\",\"Punjab Kings\",\"Punjab Kings\",\"Punjab Kings\",\"Punjab Kings\",\"Punjab Kings\",\"Punjab Kings\",\"Punjab Kings\",\"Punjab Kings\",\"Punjab Kings\",\"Punjab Kings\",\"Punjab Kings\",\"Punjab Kings\",\"Punjab Kings\",\"Punjab Kings\",\"Rajasthan Royals\",\"Rajasthan Royals\",\"Rajasthan Royals\",\"Rajasthan Royals\",\"Rajasthan Royals\",\"Rajasthan Royals\",\"Rajasthan Royals\",\"Rajasthan Royals\",\"Rajasthan Royals\",\"Rajasthan Royals\",\"Rajasthan Royals\",\"Rajasthan Royals\",\"Rajasthan Royals\",\"Rajasthan Royals\",\"Rajasthan Royals\",\"Rajasthan Royals\",\"Rajasthan Royals\",\"Rajasthan Royals\",\"Rajasthan Royals\",\"Rajasthan Royals\",\"Rising Pune Supergiant\",\"Rising Pune Supergiant\",\"Rising Pune Supergiant\",\"Rising Pune Supergiant\",\"Rising Pune Supergiant\",\"Rising Pune Supergiant\",\"Rising Pune Supergiant\",\"Rising Pune Supergiant\",\"Rising Pune Supergiant\",\"Rising Pune Supergiant\",\"Rising Pune Supergiant\",\"Rising Pune Supergiant\",\"Rising Pune Supergiant\",\"Rising Pune Supergiant\",\"Rising Pune Supergiant\",\"Rising Pune Supergiant\",\"Rising Pune Supergiant\",\"Rising Pune Supergiant\",\"Rising Pune Supergiants\",\"Rising Pune Supergiants\",\"Rising Pune Supergiants\",\"Rising Pune Supergiants\",\"Rising Pune Supergiants\",\"Rising Pune Supergiants\",\"Rising Pune Supergiants\",\"Rising Pune Supergiants\",\"Rising Pune Supergiants\",\"Rising Pune Supergiants\",\"Rising Pune Supergiants\",\"Rising Pune Supergiants\",\"Rising Pune Supergiants\",\"Rising Pune Supergiants\",\"Rising Pune Supergiants\",\"Rising Pune Supergiants\",\"Rising Pune Supergiants\",\"Rising Pune Supergiants\",\"Rising Pune Supergiants\",\"Royal Challengers Bangalore\",\"Royal Challengers Bangalore\",\"Royal Challengers Bangalore\",\"Royal Challengers Bangalore\",\"Royal Challengers Bangalore\",\"Royal Challengers Bangalore\",\"Royal Challengers Bangalore\",\"Royal Challengers Bangalore\",\"Royal Challengers Bangalore\",\"Royal Challengers Bangalore\",\"Royal Challengers Bangalore\",\"Royal Challengers Bangalore\",\"Royal Challengers Bangalore\",\"Royal Challengers Bangalore\",\"Royal Challengers Bangalore\",\"Royal Challengers Bangalore\",\"Royal Challengers Bangalore\",\"Royal Challengers Bangalore\",\"Royal Challengers Bangalore\",\"Royal Challengers Bangalore\",\"Royal Challengers Bengaluru\",\"Royal Challengers Bengaluru\",\"Royal Challengers Bengaluru\",\"Royal Challengers Bengaluru\",\"Royal Challengers Bengaluru\",\"Royal Challengers Bengaluru\",\"Royal Challengers Bengaluru\",\"Royal Challengers Bengaluru\",\"Royal Challengers Bengaluru\",\"Royal Challengers Bengaluru\",\"Royal Challengers Bengaluru\",\"Royal Challengers Bengaluru\",\"Royal Challengers Bengaluru\",\"Royal Challengers Bengaluru\",\"Royal Challengers Bengaluru\",\"Royal Challengers Bengaluru\",\"Royal Challengers Bengaluru\",\"Royal Challengers Bengaluru\",\"Royal Challengers Bengaluru\",\"Royal Challengers Bengaluru\",\"Sunrisers Hyderabad\",\"Sunrisers Hyderabad\",\"Sunrisers Hyderabad\",\"Sunrisers Hyderabad\",\"Sunrisers Hyderabad\",\"Sunrisers Hyderabad\",\"Sunrisers Hyderabad\",\"Sunrisers Hyderabad\",\"Sunrisers Hyderabad\",\"Sunrisers Hyderabad\",\"Sunrisers Hyderabad\",\"Sunrisers Hyderabad\",\"Sunrisers Hyderabad\",\"Sunrisers Hyderabad\",\"Sunrisers Hyderabad\",\"Sunrisers Hyderabad\",\"Sunrisers Hyderabad\",\"Sunrisers Hyderabad\",\"Sunrisers Hyderabad\",\"Sunrisers Hyderabad\"],\"y\":[0,1,2,3,4,5,6,7,8,9,10,11,12,13,14,15,16,17,18,19,0,1,2,3,4,5,6,7,8,9,10,11,12,13,14,15,16,17,18,19,0,1,2,3,4,5,6,7,8,9,10,11,12,13,14,15,16,17,18,19,0,1,2,3,4,5,6,7,8,9,10,11,12,13,14,15,16,17,18,19,0,1,2,3,4,5,6,7,8,9,10,11,12,13,14,15,16,17,18,19,0,1,2,3,4,5,6,7,8,9,10,11,12,13,14,15,16,17,18,19,0,1,2,3,4,5,6,7,8,9,10,11,12,13,14,15,16,17,18,19,0,1,2,3,4,5,6,7,8,9,10,11,12,13,14,16,17,18,19,0,1,2,3,4,5,6,7,8,9,10,11,12,13,14,15,16,17,18,19,0,1,2,3,4,5,6,7,8,9,10,11,12,13,14,15,16,17,18,19,0,1,2,3,4,5,6,7,8,9,10,11,12,13,14,15,16,17,18,19,0,1,2,3,4,5,6,7,8,9,10,11,12,13,14,15,16,17,18,19,0,1,2,3,4,5,6,7,8,9,10,11,12,13,14,15,16,17,18,19,0,1,2,3,4,5,6,7,8,9,10,11,12,13,14,15,16,17,18,19,0,2,3,4,5,6,8,9,10,11,12,13,14,15,16,17,18,19,1,2,3,4,5,6,7,8,9,10,11,12,13,14,15,16,17,18,19,0,1,2,3,4,5,6,7,8,9,10,11,12,13,14,15,16,17,18,19,0,1,2,3,4,5,6,7,8,9,10,11,12,13,14,15,16,17,18,19,0,1,2,3,4,5,6,7,8,9,10,11,12,13,14,15,16,17,18,19],\"z\":[9,36,67,71,75,85,48,40,64,48,76,76,75,86,82,90,87,126,116,152,3,21,11,17,27,22,11,13,17,14,15,26,23,22,20,21,38,37,23,19,7,17,31,32,41,22,19,22,21,20,21,20,37,19,32,33,36,38,37,45,14,23,35,44,34,32,23,31,36,30,39,41,45,40,34,51,64,52,65,68,4,6,14,9,11,12,10,6,11,8,5,7,5,8,5,5,7,9,9,4,5,7,6,7,9,10,7,6,12,8,14,15,11,12,21,17,18,26,28,32,21,33,42,52,48,53,40,46,56,44,51,53,58,62,61,81,53,68,72,81,2,4,3,3,3,3,2,2,1,3,1,3,2,3,4,3,4,5,2,31,51,59,65,60,74,48,68,59,61,71,83,89,79,88,104,103,104,114,84,3,6,12,14,19,19,8,16,19,17,13,8,18,20,25,24,14,21,33,23,24,43,62,74,89,82,39,51,79,56,64,82,85,99,100,101,116,145,131,163,5,6,6,7,7,3,5,10,9,6,13,5,10,13,13,16,13,12,18,19,3,17,17,17,17,23,9,14,26,17,28,24,20,23,27,36,20,37,29,36,29,27,42,63,56,55,39,56,54,53,64,61,73,69,62,85,79,91,97,82,1,2,5,8,6,1,3,8,3,2,7,4,5,5,2,2,14,11,2,1,1,5,5,4,3,1,1,2,2,1,1,7,6,6,9,2,9,28,42,59,69,59,54,30,56,66,69,73,58,82,86,86,109,104,120,115,123,4,9,10,5,5,9,4,7,12,9,11,7,5,7,6,12,10,11,11,11,12,42,54,31,56,46,34,42,44,38,40,42,58,65,77,56,59,73,94,79],\"type\":\"heatmap\",\"xaxis\":\"x\",\"yaxis\":\"y\"},{\"x\":[\"Chennai Super Kings\",\"Chennai Super Kings\",\"Chennai Super Kings\",\"Chennai Super Kings\",\"Chennai Super Kings\",\"Chennai Super Kings\",\"Chennai Super Kings\",\"Chennai Super Kings\",\"Chennai Super Kings\",\"Chennai Super Kings\",\"Chennai Super Kings\",\"Chennai Super Kings\",\"Chennai Super Kings\",\"Chennai Super Kings\",\"Chennai Super Kings\",\"Chennai Super Kings\",\"Chennai Super Kings\",\"Chennai Super Kings\",\"Chennai Super Kings\",\"Chennai Super Kings\",\"Deccan Chargers\",\"Deccan Chargers\",\"Deccan Chargers\",\"Deccan Chargers\",\"Deccan Chargers\",\"Deccan Chargers\",\"Deccan Chargers\",\"Deccan Chargers\",\"Deccan Chargers\",\"Deccan Chargers\",\"Deccan Chargers\",\"Deccan Chargers\",\"Deccan Chargers\",\"Deccan Chargers\",\"Deccan Chargers\",\"Deccan Chargers\",\"Deccan Chargers\",\"Deccan Chargers\",\"Deccan Chargers\",\"Deccan Chargers\",\"Delhi Capitals\",\"Delhi Capitals\",\"Delhi Capitals\",\"Delhi Capitals\",\"Delhi Capitals\",\"Delhi Capitals\",\"Delhi Capitals\",\"Delhi Capitals\",\"Delhi Capitals\",\"Delhi Capitals\",\"Delhi Capitals\",\"Delhi Capitals\",\"Delhi Capitals\",\"Delhi Capitals\",\"Delhi Capitals\",\"Delhi Capitals\",\"Delhi Capitals\",\"Delhi Capitals\",\"Delhi Capitals\",\"Delhi Capitals\",\"Delhi Daredevils\",\"Delhi Daredevils\",\"Delhi Daredevils\",\"Delhi Daredevils\",\"Delhi Daredevils\",\"Delhi Daredevils\",\"Delhi Daredevils\",\"Delhi Daredevils\",\"Delhi Daredevils\",\"Delhi Daredevils\",\"Delhi Daredevils\",\"Delhi Daredevils\",\"Delhi Daredevils\",\"Delhi Daredevils\",\"Delhi Daredevils\",\"Delhi Daredevils\",\"Delhi Daredevils\",\"Delhi Daredevils\",\"Delhi Daredevils\",\"Delhi Daredevils\",\"Gujarat Lions\",\"Gujarat Lions\",\"Gujarat Lions\",\"Gujarat Lions\",\"Gujarat Lions\",\"Gujarat Lions\",\"Gujarat Lions\",\"Gujarat Lions\",\"Gujarat Lions\",\"Gujarat Lions\",\"Gujarat Lions\",\"Gujarat Lions\",\"Gujarat Lions\",\"Gujarat Lions\",\"Gujarat Lions\",\"Gujarat Lions\",\"Gujarat Lions\",\"Gujarat Lions\",\"Gujarat Lions\",\"Gujarat Lions\",\"Gujarat Titans\",\"Gujarat Titans\",\"Gujarat Titans\",\"Gujarat Titans\",\"Gujarat Titans\",\"Gujarat Titans\",\"Gujarat Titans\",\"Gujarat Titans\",\"Gujarat Titans\",\"Gujarat Titans\",\"Gujarat Titans\",\"Gujarat Titans\",\"Gujarat Titans\",\"Gujarat Titans\",\"Gujarat Titans\",\"Gujarat Titans\",\"Gujarat Titans\",\"Gujarat Titans\",\"Gujarat Titans\",\"Gujarat Titans\",\"Kings XI Punjab\",\"Kings XI Punjab\",\"Kings XI Punjab\",\"Kings XI Punjab\",\"Kings XI Punjab\",\"Kings XI Punjab\",\"Kings XI Punjab\",\"Kings XI Punjab\",\"Kings XI Punjab\",\"Kings XI Punjab\",\"Kings XI Punjab\",\"Kings XI Punjab\",\"Kings XI Punjab\",\"Kings XI Punjab\",\"Kings XI Punjab\",\"Kings XI Punjab\",\"Kings XI Punjab\",\"Kings XI Punjab\",\"Kings XI Punjab\",\"Kings XI Punjab\",\"Kochi Tuskers Kerala\",\"Kochi Tuskers Kerala\",\"Kochi Tuskers Kerala\",\"Kochi Tuskers Kerala\",\"Kochi Tuskers Kerala\",\"Kochi Tuskers Kerala\",\"Kochi Tuskers Kerala\",\"Kochi Tuskers Kerala\",\"Kochi Tuskers Kerala\",\"Kochi Tuskers Kerala\",\"Kochi Tuskers Kerala\",\"Kochi Tuskers Kerala\",\"Kochi Tuskers Kerala\",\"Kochi Tuskers Kerala\",\"Kochi Tuskers Kerala\",\"Kochi Tuskers Kerala\",\"Kochi Tuskers Kerala\",\"Kochi Tuskers Kerala\",\"Kochi Tuskers Kerala\",\"Kochi Tuskers Kerala\",\"Kolkata Knight Riders\",\"Kolkata Knight Riders\",\"Kolkata Knight Riders\",\"Kolkata Knight Riders\",\"Kolkata Knight Riders\",\"Kolkata Knight Riders\",\"Kolkata Knight Riders\",\"Kolkata Knight Riders\",\"Kolkata Knight Riders\",\"Kolkata Knight Riders\",\"Kolkata Knight Riders\",\"Kolkata Knight Riders\",\"Kolkata Knight Riders\",\"Kolkata Knight Riders\",\"Kolkata Knight Riders\",\"Kolkata Knight Riders\",\"Kolkata Knight Riders\",\"Kolkata Knight Riders\",\"Kolkata Knight Riders\",\"Kolkata Knight Riders\",\"Lucknow Super Giants\",\"Lucknow Super Giants\",\"Lucknow Super Giants\",\"Lucknow Super Giants\",\"Lucknow Super Giants\",\"Lucknow Super Giants\",\"Lucknow Super Giants\",\"Lucknow Super Giants\",\"Lucknow Super Giants\",\"Lucknow Super Giants\",\"Lucknow Super Giants\",\"Lucknow Super Giants\",\"Lucknow Super Giants\",\"Lucknow Super Giants\",\"Lucknow Super Giants\",\"Lucknow Super Giants\",\"Lucknow Super Giants\",\"Lucknow Super Giants\",\"Lucknow Super Giants\",\"Lucknow Super Giants\",\"Mumbai Indians\",\"Mumbai Indians\",\"Mumbai Indians\",\"Mumbai Indians\",\"Mumbai Indians\",\"Mumbai Indians\",\"Mumbai Indians\",\"Mumbai Indians\",\"Mumbai Indians\",\"Mumbai Indians\",\"Mumbai Indians\",\"Mumbai Indians\",\"Mumbai Indians\",\"Mumbai Indians\",\"Mumbai Indians\",\"Mumbai Indians\",\"Mumbai Indians\",\"Mumbai Indians\",\"Mumbai Indians\",\"Mumbai Indians\",\"Pune Warriors\",\"Pune Warriors\",\"Pune Warriors\",\"Pune Warriors\",\"Pune Warriors\",\"Pune Warriors\",\"Pune Warriors\",\"Pune Warriors\",\"Pune Warriors\",\"Pune Warriors\",\"Pune Warriors\",\"Pune Warriors\",\"Pune Warriors\",\"Pune Warriors\",\"Pune Warriors\",\"Pune Warriors\",\"Pune Warriors\",\"Pune Warriors\",\"Pune Warriors\",\"Pune Warriors\",\"Punjab Kings\",\"Punjab Kings\",\"Punjab Kings\",\"Punjab Kings\",\"Punjab Kings\",\"Punjab Kings\",\"Punjab Kings\",\"Punjab Kings\",\"Punjab Kings\",\"Punjab Kings\",\"Punjab Kings\",\"Punjab Kings\",\"Punjab Kings\",\"Punjab Kings\",\"Punjab Kings\",\"Punjab Kings\",\"Punjab Kings\",\"Punjab Kings\",\"Punjab Kings\",\"Punjab Kings\",\"Rajasthan Royals\",\"Rajasthan Royals\",\"Rajasthan Royals\",\"Rajasthan Royals\",\"Rajasthan Royals\",\"Rajasthan Royals\",\"Rajasthan Royals\",\"Rajasthan Royals\",\"Rajasthan Royals\",\"Rajasthan Royals\",\"Rajasthan Royals\",\"Rajasthan Royals\",\"Rajasthan Royals\",\"Rajasthan Royals\",\"Rajasthan Royals\",\"Rajasthan Royals\",\"Rajasthan Royals\",\"Rajasthan Royals\",\"Rajasthan Royals\",\"Rajasthan Royals\",\"Rising Pune Supergiant\",\"Rising Pune Supergiant\",\"Rising Pune Supergiant\",\"Rising Pune Supergiant\",\"Rising Pune Supergiant\",\"Rising Pune Supergiant\",\"Rising Pune Supergiant\",\"Rising Pune Supergiant\",\"Rising Pune Supergiant\",\"Rising Pune Supergiant\",\"Rising Pune Supergiant\",\"Rising Pune Supergiant\",\"Rising Pune Supergiant\",\"Rising Pune Supergiant\",\"Rising Pune Supergiant\",\"Rising Pune Supergiant\",\"Rising Pune Supergiant\",\"Rising Pune Supergiant\",\"Rising Pune Supergiant\",\"Rising Pune Supergiant\",\"Rising Pune Supergiants\",\"Rising Pune Supergiants\",\"Rising Pune Supergiants\",\"Rising Pune Supergiants\",\"Rising Pune Supergiants\",\"Rising Pune Supergiants\",\"Rising Pune Supergiants\",\"Rising Pune Supergiants\",\"Rising Pune Supergiants\",\"Rising Pune Supergiants\",\"Rising Pune Supergiants\",\"Rising Pune Supergiants\",\"Rising Pune Supergiants\",\"Rising Pune Supergiants\",\"Rising Pune Supergiants\",\"Rising Pune Supergiants\",\"Rising Pune Supergiants\",\"Rising Pune Supergiants\",\"Rising Pune Supergiants\",\"Rising Pune Supergiants\",\"Royal Challengers Bangalore\",\"Royal Challengers Bangalore\",\"Royal Challengers Bangalore\",\"Royal Challengers Bangalore\",\"Royal Challengers Bangalore\",\"Royal Challengers Bangalore\",\"Royal Challengers Bangalore\",\"Royal Challengers Bangalore\",\"Royal Challengers Bangalore\",\"Royal Challengers Bangalore\",\"Royal Challengers Bangalore\",\"Royal Challengers Bangalore\",\"Royal Challengers Bangalore\",\"Royal Challengers Bangalore\",\"Royal Challengers Bangalore\",\"Royal Challengers Bangalore\",\"Royal Challengers Bangalore\",\"Royal Challengers Bangalore\",\"Royal Challengers Bangalore\",\"Royal Challengers Bangalore\",\"Royal Challengers Bengaluru\",\"Royal Challengers Bengaluru\",\"Royal Challengers Bengaluru\",\"Royal Challengers Bengaluru\",\"Royal Challengers Bengaluru\",\"Royal Challengers Bengaluru\",\"Royal Challengers Bengaluru\",\"Royal Challengers Bengaluru\",\"Royal Challengers Bengaluru\",\"Royal Challengers Bengaluru\",\"Royal Challengers Bengaluru\",\"Royal Challengers Bengaluru\",\"Royal Challengers Bengaluru\",\"Royal Challengers Bengaluru\",\"Royal Challengers Bengaluru\",\"Royal Challengers Bengaluru\",\"Royal Challengers Bengaluru\",\"Royal Challengers Bengaluru\",\"Royal Challengers Bengaluru\",\"Royal Challengers Bengaluru\",\"Sunrisers Hyderabad\",\"Sunrisers Hyderabad\",\"Sunrisers Hyderabad\",\"Sunrisers Hyderabad\",\"Sunrisers Hyderabad\",\"Sunrisers Hyderabad\",\"Sunrisers Hyderabad\",\"Sunrisers Hyderabad\",\"Sunrisers Hyderabad\",\"Sunrisers Hyderabad\",\"Sunrisers Hyderabad\",\"Sunrisers Hyderabad\",\"Sunrisers Hyderabad\",\"Sunrisers Hyderabad\",\"Sunrisers Hyderabad\",\"Sunrisers Hyderabad\",\"Sunrisers Hyderabad\",\"Sunrisers Hyderabad\",\"Sunrisers Hyderabad\",\"Sunrisers Hyderabad\"],\"y\":[0,1,2,3,4,5,6,7,8,9,10,11,12,13,14,15,16,17,18,19,0,1,2,3,4,5,6,7,8,9,10,11,12,13,14,15,16,17,18,19,0,1,2,3,4,5,6,7,8,9,10,11,12,13,14,15,16,17,18,19,0,1,2,3,4,5,6,7,8,9,10,11,12,13,14,15,16,17,18,19,0,1,2,3,4,5,6,7,8,9,10,11,12,13,14,15,16,17,18,19,0,1,2,3,4,5,6,7,8,9,10,11,12,13,14,15,16,17,18,19,0,1,2,3,4,5,6,7,8,9,10,11,12,13,14,15,16,17,18,19,0,1,2,3,4,5,6,7,8,9,10,11,12,13,14,15,16,17,18,19,0,1,2,3,4,5,6,7,8,9,10,11,12,13,14,15,16,17,18,19,0,1,2,3,4,5,6,7,8,9,10,11,12,13,14,15,16,17,18,19,0,1,2,3,4,5,6,7,8,9,10,11,12,13,14,15,16,17,18,19,0,1,2,3,4,5,6,7,8,9,10,11,12,13,14,15,16,17,18,19,0,1,2,3,4,5,6,7,8,9,10,11,12,13,14,15,16,17,18,19,0,1,2,3,4,5,6,7,8,9,10,11,12,13,14,15,16,17,18,19,0,1,2,3,4,5,6,7,8,9,10,11,12,13,14,15,16,17,18,19,0,1,2,3,4,5,6,7,8,9,10,11,12,13,14,15,16,17,18,19,0,1,2,3,4,5,6,7,8,9,10,11,12,13,14,15,16,17,18,19,0,1,2,3,4,5,6,7,8,9,10,11,12,13,14,15,16,17,18,19,0,1,2,3,4,5,6,7,8,9,10,11,12,13,14,15,16,17,18,19],\"z\":[927,846,741,697,666,648,572,530,486,498,486,492,487,518,482,431,447,414,384,366,278,264,230,246,232,227,193,181,171,182,158,154,178,146,157,144,132,138,139,123,322,288,274,254,251,234,189,187,201,173,165,192,191,211,211,209,172,173,180,144,600,520,528,473,476,490,373,359,338,342,343,310,338,342,345,304,333,276,261,204,115,100,75,90,81,75,68,50,74,62,59,71,60,54,52,53,58,62,49,37,164,138,117,129,120,125,94,96,74,82,78,74,98,87,76,80,85,84,81,77,715,686,584,532,542,560,459,448,449,423,388,393,387,361,375,361,328,387,337,330,58,55,42,41,47,42,44,40,39,34,31,19,31,39,19,32,23,25,18,17,974,870,812,744,729,724,617,558,582,564,560,538,557,518,520,510,462,455,421,395,177,144,131,128,125,124,93,88,72,87,92,98,97,86,88,110,94,71,101,98,1026,971,817,815,784,721,641,600,587,562,601,553,574,542,544,538,533,517,490,448,169,159,132,142,143,144,129,115,115,111,121,99,113,97,111,80,113,85,93,81,200,185,161,162,155,149,134,121,129,139,132,126,117,127,137,136,131,115,121,112,855,789,685,649,631,632,526,498,501,447,490,467,476,454,485,422,414,423,393,327,63,44,38,36,36,37,34,35,43,30,33,28,33,31,32,29,29,34,28,28,57,48,39,42,38,34,33,24,24,35,26,20,22,26,27,27,23,20,23,15,897,845,742,725,702,666,577,520,543,502,488,480,478,469,478,477,451,432,404,367,41,38,39,32,50,37,23,30,31,31,39,28,30,20,33,23,31,33,37,29,678,582,505,501,500,467,425,389,372,374,394,354,384,346,341,376,365,340,335,315],\"type\":\"heatmap\",\"xaxis\":\"x2\",\"yaxis\":\"y2\"}],                        {\"template\":{\"data\":{\"histogram2dcontour\":[{\"type\":\"histogram2dcontour\",\"colorbar\":{\"outlinewidth\":0,\"ticks\":\"\"},\"colorscale\":[[0.0,\"#0d0887\"],[0.1111111111111111,\"#46039f\"],[0.2222222222222222,\"#7201a8\"],[0.3333333333333333,\"#9c179e\"],[0.4444444444444444,\"#bd3786\"],[0.5555555555555556,\"#d8576b\"],[0.6666666666666666,\"#ed7953\"],[0.7777777777777778,\"#fb9f3a\"],[0.8888888888888888,\"#fdca26\"],[1.0,\"#f0f921\"]]}],\"choropleth\":[{\"type\":\"choropleth\",\"colorbar\":{\"outlinewidth\":0,\"ticks\":\"\"}}],\"histogram2d\":[{\"type\":\"histogram2d\",\"colorbar\":{\"outlinewidth\":0,\"ticks\":\"\"},\"colorscale\":[[0.0,\"#0d0887\"],[0.1111111111111111,\"#46039f\"],[0.2222222222222222,\"#7201a8\"],[0.3333333333333333,\"#9c179e\"],[0.4444444444444444,\"#bd3786\"],[0.5555555555555556,\"#d8576b\"],[0.6666666666666666,\"#ed7953\"],[0.7777777777777778,\"#fb9f3a\"],[0.8888888888888888,\"#fdca26\"],[1.0,\"#f0f921\"]]}],\"heatmap\":[{\"type\":\"heatmap\",\"colorbar\":{\"outlinewidth\":0,\"ticks\":\"\"},\"colorscale\":[[0.0,\"#0d0887\"],[0.1111111111111111,\"#46039f\"],[0.2222222222222222,\"#7201a8\"],[0.3333333333333333,\"#9c179e\"],[0.4444444444444444,\"#bd3786\"],[0.5555555555555556,\"#d8576b\"],[0.6666666666666666,\"#ed7953\"],[0.7777777777777778,\"#fb9f3a\"],[0.8888888888888888,\"#fdca26\"],[1.0,\"#f0f921\"]]}],\"heatmapgl\":[{\"type\":\"heatmapgl\",\"colorbar\":{\"outlinewidth\":0,\"ticks\":\"\"},\"colorscale\":[[0.0,\"#0d0887\"],[0.1111111111111111,\"#46039f\"],[0.2222222222222222,\"#7201a8\"],[0.3333333333333333,\"#9c179e\"],[0.4444444444444444,\"#bd3786\"],[0.5555555555555556,\"#d8576b\"],[0.6666666666666666,\"#ed7953\"],[0.7777777777777778,\"#fb9f3a\"],[0.8888888888888888,\"#fdca26\"],[1.0,\"#f0f921\"]]}],\"contourcarpet\":[{\"type\":\"contourcarpet\",\"colorbar\":{\"outlinewidth\":0,\"ticks\":\"\"}}],\"contour\":[{\"type\":\"contour\",\"colorbar\":{\"outlinewidth\":0,\"ticks\":\"\"},\"colorscale\":[[0.0,\"#0d0887\"],[0.1111111111111111,\"#46039f\"],[0.2222222222222222,\"#7201a8\"],[0.3333333333333333,\"#9c179e\"],[0.4444444444444444,\"#bd3786\"],[0.5555555555555556,\"#d8576b\"],[0.6666666666666666,\"#ed7953\"],[0.7777777777777778,\"#fb9f3a\"],[0.8888888888888888,\"#fdca26\"],[1.0,\"#f0f921\"]]}],\"surface\":[{\"type\":\"surface\",\"colorbar\":{\"outlinewidth\":0,\"ticks\":\"\"},\"colorscale\":[[0.0,\"#0d0887\"],[0.1111111111111111,\"#46039f\"],[0.2222222222222222,\"#7201a8\"],[0.3333333333333333,\"#9c179e\"],[0.4444444444444444,\"#bd3786\"],[0.5555555555555556,\"#d8576b\"],[0.6666666666666666,\"#ed7953\"],[0.7777777777777778,\"#fb9f3a\"],[0.8888888888888888,\"#fdca26\"],[1.0,\"#f0f921\"]]}],\"mesh3d\":[{\"type\":\"mesh3d\",\"colorbar\":{\"outlinewidth\":0,\"ticks\":\"\"}}],\"scatter\":[{\"fillpattern\":{\"fillmode\":\"overlay\",\"size\":10,\"solidity\":0.2},\"type\":\"scatter\"}],\"parcoords\":[{\"type\":\"parcoords\",\"line\":{\"colorbar\":{\"outlinewidth\":0,\"ticks\":\"\"}}}],\"scatterpolargl\":[{\"type\":\"scatterpolargl\",\"marker\":{\"colorbar\":{\"outlinewidth\":0,\"ticks\":\"\"}}}],\"bar\":[{\"error_x\":{\"color\":\"#2a3f5f\"},\"error_y\":{\"color\":\"#2a3f5f\"},\"marker\":{\"line\":{\"color\":\"#E5ECF6\",\"width\":0.5},\"pattern\":{\"fillmode\":\"overlay\",\"size\":10,\"solidity\":0.2}},\"type\":\"bar\"}],\"scattergeo\":[{\"type\":\"scattergeo\",\"marker\":{\"colorbar\":{\"outlinewidth\":0,\"ticks\":\"\"}}}],\"scatterpolar\":[{\"type\":\"scatterpolar\",\"marker\":{\"colorbar\":{\"outlinewidth\":0,\"ticks\":\"\"}}}],\"histogram\":[{\"marker\":{\"pattern\":{\"fillmode\":\"overlay\",\"size\":10,\"solidity\":0.2}},\"type\":\"histogram\"}],\"scattergl\":[{\"type\":\"scattergl\",\"marker\":{\"colorbar\":{\"outlinewidth\":0,\"ticks\":\"\"}}}],\"scatter3d\":[{\"type\":\"scatter3d\",\"line\":{\"colorbar\":{\"outlinewidth\":0,\"ticks\":\"\"}},\"marker\":{\"colorbar\":{\"outlinewidth\":0,\"ticks\":\"\"}}}],\"scattermapbox\":[{\"type\":\"scattermapbox\",\"marker\":{\"colorbar\":{\"outlinewidth\":0,\"ticks\":\"\"}}}],\"scatterternary\":[{\"type\":\"scatterternary\",\"marker\":{\"colorbar\":{\"outlinewidth\":0,\"ticks\":\"\"}}}],\"scattercarpet\":[{\"type\":\"scattercarpet\",\"marker\":{\"colorbar\":{\"outlinewidth\":0,\"ticks\":\"\"}}}],\"carpet\":[{\"aaxis\":{\"endlinecolor\":\"#2a3f5f\",\"gridcolor\":\"white\",\"linecolor\":\"white\",\"minorgridcolor\":\"white\",\"startlinecolor\":\"#2a3f5f\"},\"baxis\":{\"endlinecolor\":\"#2a3f5f\",\"gridcolor\":\"white\",\"linecolor\":\"white\",\"minorgridcolor\":\"white\",\"startlinecolor\":\"#2a3f5f\"},\"type\":\"carpet\"}],\"table\":[{\"cells\":{\"fill\":{\"color\":\"#EBF0F8\"},\"line\":{\"color\":\"white\"}},\"header\":{\"fill\":{\"color\":\"#C8D4E3\"},\"line\":{\"color\":\"white\"}},\"type\":\"table\"}],\"barpolar\":[{\"marker\":{\"line\":{\"color\":\"#E5ECF6\",\"width\":0.5},\"pattern\":{\"fillmode\":\"overlay\",\"size\":10,\"solidity\":0.2}},\"type\":\"barpolar\"}],\"pie\":[{\"automargin\":true,\"type\":\"pie\"}]},\"layout\":{\"autotypenumbers\":\"strict\",\"colorway\":[\"#636efa\",\"#EF553B\",\"#00cc96\",\"#ab63fa\",\"#FFA15A\",\"#19d3f3\",\"#FF6692\",\"#B6E880\",\"#FF97FF\",\"#FECB52\"],\"font\":{\"color\":\"#2a3f5f\"},\"hovermode\":\"closest\",\"hoverlabel\":{\"align\":\"left\"},\"paper_bgcolor\":\"white\",\"plot_bgcolor\":\"#E5ECF6\",\"polar\":{\"bgcolor\":\"#E5ECF6\",\"angularaxis\":{\"gridcolor\":\"white\",\"linecolor\":\"white\",\"ticks\":\"\"},\"radialaxis\":{\"gridcolor\":\"white\",\"linecolor\":\"white\",\"ticks\":\"\"}},\"ternary\":{\"bgcolor\":\"#E5ECF6\",\"aaxis\":{\"gridcolor\":\"white\",\"linecolor\":\"white\",\"ticks\":\"\"},\"baxis\":{\"gridcolor\":\"white\",\"linecolor\":\"white\",\"ticks\":\"\"},\"caxis\":{\"gridcolor\":\"white\",\"linecolor\":\"white\",\"ticks\":\"\"}},\"coloraxis\":{\"colorbar\":{\"outlinewidth\":0,\"ticks\":\"\"}},\"colorscale\":{\"sequential\":[[0.0,\"#0d0887\"],[0.1111111111111111,\"#46039f\"],[0.2222222222222222,\"#7201a8\"],[0.3333333333333333,\"#9c179e\"],[0.4444444444444444,\"#bd3786\"],[0.5555555555555556,\"#d8576b\"],[0.6666666666666666,\"#ed7953\"],[0.7777777777777778,\"#fb9f3a\"],[0.8888888888888888,\"#fdca26\"],[1.0,\"#f0f921\"]],\"sequentialminus\":[[0.0,\"#0d0887\"],[0.1111111111111111,\"#46039f\"],[0.2222222222222222,\"#7201a8\"],[0.3333333333333333,\"#9c179e\"],[0.4444444444444444,\"#bd3786\"],[0.5555555555555556,\"#d8576b\"],[0.6666666666666666,\"#ed7953\"],[0.7777777777777778,\"#fb9f3a\"],[0.8888888888888888,\"#fdca26\"],[1.0,\"#f0f921\"]],\"diverging\":[[0,\"#8e0152\"],[0.1,\"#c51b7d\"],[0.2,\"#de77ae\"],[0.3,\"#f1b6da\"],[0.4,\"#fde0ef\"],[0.5,\"#f7f7f7\"],[0.6,\"#e6f5d0\"],[0.7,\"#b8e186\"],[0.8,\"#7fbc41\"],[0.9,\"#4d9221\"],[1,\"#276419\"]]},\"xaxis\":{\"gridcolor\":\"white\",\"linecolor\":\"white\",\"ticks\":\"\",\"title\":{\"standoff\":15},\"zerolinecolor\":\"white\",\"automargin\":true,\"zerolinewidth\":2},\"yaxis\":{\"gridcolor\":\"white\",\"linecolor\":\"white\",\"ticks\":\"\",\"title\":{\"standoff\":15},\"zerolinecolor\":\"white\",\"automargin\":true,\"zerolinewidth\":2},\"scene\":{\"xaxis\":{\"backgroundcolor\":\"#E5ECF6\",\"gridcolor\":\"white\",\"linecolor\":\"white\",\"showbackground\":true,\"ticks\":\"\",\"zerolinecolor\":\"white\",\"gridwidth\":2},\"yaxis\":{\"backgroundcolor\":\"#E5ECF6\",\"gridcolor\":\"white\",\"linecolor\":\"white\",\"showbackground\":true,\"ticks\":\"\",\"zerolinecolor\":\"white\",\"gridwidth\":2},\"zaxis\":{\"backgroundcolor\":\"#E5ECF6\",\"gridcolor\":\"white\",\"linecolor\":\"white\",\"showbackground\":true,\"ticks\":\"\",\"zerolinecolor\":\"white\",\"gridwidth\":2}},\"shapedefaults\":{\"line\":{\"color\":\"#2a3f5f\"}},\"annotationdefaults\":{\"arrowcolor\":\"#2a3f5f\",\"arrowhead\":0,\"arrowwidth\":1},\"geo\":{\"bgcolor\":\"white\",\"landcolor\":\"#E5ECF6\",\"subunitcolor\":\"white\",\"showland\":true,\"showlakes\":true,\"lakecolor\":\"white\"},\"title\":{\"x\":0.05},\"mapbox\":{\"style\":\"light\"}}},\"xaxis\":{\"anchor\":\"y\",\"domain\":[0.0,0.45]},\"yaxis\":{\"anchor\":\"x\",\"domain\":[0.0,1.0]},\"xaxis2\":{\"anchor\":\"y2\",\"domain\":[0.55,1.0]},\"yaxis2\":{\"anchor\":\"x2\",\"domain\":[0.0,1.0],\"matches\":\"y\",\"showticklabels\":false},\"annotations\":[{\"font\":{\"size\":16},\"showarrow\":false,\"text\":\"6's\",\"x\":0.225,\"xanchor\":\"center\",\"xref\":\"paper\",\"y\":1.0,\"yanchor\":\"bottom\",\"yref\":\"paper\"},{\"font\":{\"size\":16},\"showarrow\":false,\"text\":\"0's\",\"x\":0.775,\"xanchor\":\"center\",\"xref\":\"paper\",\"y\":1.0,\"yanchor\":\"bottom\",\"yref\":\"paper\"}]},                        {\"responsive\": true}                    ).then(function(){\n",
       "                            \n",
       "var gd = document.getElementById('da0b5559-d3c3-49ea-aeac-8d4f2747705f');\n",
       "var x = new MutationObserver(function (mutations, observer) {{\n",
       "        var display = window.getComputedStyle(gd).display;\n",
       "        if (!display || display === 'none') {{\n",
       "            console.log([gd, 'removed!']);\n",
       "            Plotly.purge(gd);\n",
       "            observer.disconnect();\n",
       "        }}\n",
       "}});\n",
       "\n",
       "// Listen for the removal of the full notebook cells\n",
       "var notebookContainer = gd.closest('#notebook-container');\n",
       "if (notebookContainer) {{\n",
       "    x.observe(notebookContainer, {childList: true});\n",
       "}}\n",
       "\n",
       "// Listen for the clearing of the current output cell\n",
       "var outputEl = gd.closest('.output');\n",
       "if (outputEl) {{\n",
       "    x.observe(outputEl, {childList: true});\n",
       "}}\n",
       "\n",
       "                        })                };                });            </script>        </div>"
      ]
     },
     "metadata": {},
     "output_type": "display_data"
    }
   ],
   "execution_count": 201
  },
  {
   "metadata": {},
   "cell_type": "code",
   "outputs": [],
   "execution_count": null,
   "source": "",
   "id": "e4ee87a5ee4d1946"
  }
 ],
 "metadata": {
  "kernelspec": {
   "display_name": "Python 3",
   "language": "python",
   "name": "python3"
  },
  "language_info": {
   "codemirror_mode": {
    "name": "ipython",
    "version": 2
   },
   "file_extension": ".py",
   "mimetype": "text/x-python",
   "name": "python",
   "nbconvert_exporter": "python",
   "pygments_lexer": "ipython2",
   "version": "2.7.6"
  }
 },
 "nbformat": 4,
 "nbformat_minor": 5
}
