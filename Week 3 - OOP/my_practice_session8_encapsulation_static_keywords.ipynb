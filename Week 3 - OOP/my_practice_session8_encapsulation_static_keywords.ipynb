{
 "cells": [
  {
   "metadata": {},
   "cell_type": "markdown",
   "source": [
    "### Write OOP classes to handle the following scenarios:\n",
    "\n",
    "- A user can create and view 2D coordinates\n",
    "- A user can find out the distance between 2 coordinates\n",
    "- A user can find find the distance of a coordinate from origin\n",
    "- A user can check if a point lies on a given line\n",
    "- A user can find the distance between a given 2D point and a given line\n",
    "\n"
   ],
   "id": "b963b2b65073aada"
  },
  {
   "metadata": {
    "ExecuteTime": {
     "end_time": "2024-09-03T19:15:02.747306Z",
     "start_time": "2024-09-03T19:15:02.741500Z"
    }
   },
   "cell_type": "code",
   "source": [
    "class Point:\n",
    "\n",
    "    def __init__(self, x, y):\n",
    "        self.x_cod = x\n",
    "        self.y_cod = y\n",
    "\n",
    "    def __str__(self):\n",
    "        return '<{},{}>'.format(self.x_cod, self.y_cod)\n",
    "\n",
    "    def euclidean_distance(self, other):\n",
    "        return ((self.x_cod - other.x_cod) ** 2 + (self.y_cod - other.y_cod) ** 2) ** 0.5\n",
    "\n",
    "    def distance_from_origin(self):\n",
    "        return self.euclidean_distance(Point(0, 0))\n",
    "\n",
    "\n",
    "class Line:\n",
    "    def __init__(self, A, B, C):\n",
    "        self.A = A\n",
    "        self.B = B\n",
    "        self.C = C\n",
    "\n",
    "    def __str__(self):\n",
    "        return '{}x + {}y + {} = 0'.format(self.A, self.B, self.C)\n",
    "\n",
    "    def point_on_line(line, point):\n",
    "        if line.A * point.x_cod + line.B * point.y_cod + line.C == 0:\n",
    "            return 'Lies on the line'\n",
    "        else:\n",
    "            return 'Does not lie on the line'\n",
    "\n",
    "    def shortest_distance(line, point):\n",
    "        return (abs(line.A * point.x_cod + line.B * point.y_cod + line.C)) / (line.A ** 2 + line.B ** 2) ** 0.5\n",
    "\n",
    "    def intersect(line1, line2):\n",
    "        return (line1.B * line2.C - line2.B * line1.C) / (line1.A * line2.B - line2.A * line1.B), (\n",
    "                line1.C * line2.A - line2.C * line1.A) / (line1.A * line2.B - line2.A * line1.B)"
   ],
   "id": "c7814eb821b9c145",
   "outputs": [],
   "execution_count": 37
  },
  {
   "metadata": {
    "ExecuteTime": {
     "end_time": "2024-09-03T19:15:03.720606Z",
     "start_time": "2024-09-03T19:15:03.716764Z"
    }
   },
   "cell_type": "code",
   "source": [
    "p1 = Point(0, 0)\n",
    "p2 = Point(10, 10)\n",
    "print(p1)\n",
    "print(p2)\n",
    "\n",
    "print(p1.euclidean_distance(p2))\n",
    "print(p1.distance_from_origin())"
   ],
   "id": "72850d1962156ed7",
   "outputs": [
    {
     "name": "stdout",
     "output_type": "stream",
     "text": [
      "<0,0>\n",
      "<10,10>\n",
      "14.142135623730951\n",
      "0.0\n"
     ]
    }
   ],
   "execution_count": 38
  },
  {
   "metadata": {
    "ExecuteTime": {
     "end_time": "2024-09-03T19:15:03.982403Z",
     "start_time": "2024-09-03T19:15:03.979203Z"
    }
   },
   "cell_type": "code",
   "source": [
    "l1 = Line(1, 1, -2)\n",
    "p1 = Point(1, 10)\n",
    "print(l1)\n",
    "\n",
    "print(p1)\n",
    "\n",
    "print(l1.point_on_line(p1))\n",
    "\n",
    "print(l1.shortest_distance(p1))"
   ],
   "id": "1673ce67cd8e6f03",
   "outputs": [
    {
     "name": "stdout",
     "output_type": "stream",
     "text": [
      "1x + 1y + -2 = 0\n",
      "<1,10>\n",
      "Does not lie on the line\n",
      "6.363961030678928\n"
     ]
    }
   ],
   "execution_count": 39
  },
  {
   "metadata": {
    "ExecuteTime": {
     "end_time": "2024-09-03T19:15:04.418051Z",
     "start_time": "2024-09-03T19:15:04.413940Z"
    }
   },
   "cell_type": "code",
   "source": [
    "l1 = Line(2, -1, 3)\n",
    "l2 = Line(-1, -1, 1)\n",
    "\n",
    "l1.intersect(l2)\n"
   ],
   "id": "6587d727d890aa95",
   "outputs": [
    {
     "data": {
      "text/plain": [
       "(-0.6666666666666666, 1.6666666666666667)"
      ]
     },
     "execution_count": 40,
     "metadata": {},
     "output_type": "execute_result"
    }
   ],
   "execution_count": 40
  },
  {
   "metadata": {},
   "cell_type": "markdown",
   "source": "## How objects access attributes",
   "id": "ef8c4f95ab95bce8"
  },
  {
   "metadata": {
    "ExecuteTime": {
     "end_time": "2024-09-03T19:26:04.691003Z",
     "start_time": "2024-09-03T19:26:04.687818Z"
    }
   },
   "cell_type": "code",
   "source": [
    "class Person:\n",
    "    def __init__(self, name_input, country_input):\n",
    "        self.name = name_input\n",
    "        self.country = country_input\n",
    "\n",
    "    def greet(self):\n",
    "        if self.country == 'india':\n",
    "            print('Salaam ', self.name)\n",
    "        else:\n",
    "            print(f'Hello {self.name} bro')"
   ],
   "id": "5d728d005f2ac820",
   "outputs": [],
   "execution_count": 42
  },
  {
   "metadata": {
    "ExecuteTime": {
     "end_time": "2024-09-03T19:26:45.919741Z",
     "start_time": "2024-09-03T19:26:45.917080Z"
    }
   },
   "cell_type": "code",
   "source": [
    "# How to access attributes\n",
    "p = Person('Sajjad', 'india')"
   ],
   "id": "e162282a12bfb4d6",
   "outputs": [],
   "execution_count": 46
  },
  {
   "metadata": {
    "ExecuteTime": {
     "end_time": "2024-09-03T19:26:46.190474Z",
     "start_time": "2024-09-03T19:26:46.187105Z"
    }
   },
   "cell_type": "code",
   "source": "p.name",
   "id": "1bc189d9d149d797",
   "outputs": [
    {
     "data": {
      "text/plain": [
       "'Sajjad'"
      ]
     },
     "execution_count": 47,
     "metadata": {},
     "output_type": "execute_result"
    }
   ],
   "execution_count": 47
  },
  {
   "metadata": {
    "ExecuteTime": {
     "end_time": "2024-09-03T19:26:46.464455Z",
     "start_time": "2024-09-03T19:26:46.461518Z"
    }
   },
   "cell_type": "code",
   "source": "p.greet()",
   "id": "4f469d318d104aed",
   "outputs": [
    {
     "name": "stdout",
     "output_type": "stream",
     "text": [
      "Salaam  Sajjad\n"
     ]
    }
   ],
   "execution_count": 48
  },
  {
   "metadata": {
    "ExecuteTime": {
     "end_time": "2024-09-03T19:27:13.172452Z",
     "start_time": "2024-09-03T19:27:13.162313Z"
    }
   },
   "cell_type": "code",
   "source": "p.gender",
   "id": "a04aedfc7c6e0cf7",
   "outputs": [
    {
     "ename": "AttributeError",
     "evalue": "'Person' object has no attribute 'gender'",
     "output_type": "error",
     "traceback": [
      "\u001B[1;31m---------------------------------------------------------------------------\u001B[0m",
      "\u001B[1;31mAttributeError\u001B[0m                            Traceback (most recent call last)",
      "Cell \u001B[1;32mIn[49], line 1\u001B[0m\n\u001B[1;32m----> 1\u001B[0m \u001B[43mp\u001B[49m\u001B[38;5;241;43m.\u001B[39;49m\u001B[43mgender\u001B[49m\n",
      "\u001B[1;31mAttributeError\u001B[0m: 'Person' object has no attribute 'gender'"
     ]
    }
   ],
   "execution_count": 49
  },
  {
   "metadata": {},
   "cell_type": "markdown",
   "source": "# Attribute creating from outside of the class",
   "id": "2c2fd398041cb06a"
  },
  {
   "metadata": {
    "ExecuteTime": {
     "end_time": "2024-09-03T19:27:18.164893Z",
     "start_time": "2024-09-03T19:27:18.161859Z"
    }
   },
   "cell_type": "code",
   "source": "p.gender = 'male'",
   "id": "8f451b7ba6cae510",
   "outputs": [],
   "execution_count": 50
  },
  {
   "metadata": {
    "ExecuteTime": {
     "end_time": "2024-09-03T19:27:25.740748Z",
     "start_time": "2024-09-03T19:27:25.737265Z"
    }
   },
   "cell_type": "code",
   "source": "p.gender",
   "id": "8bf715ba6e0fff7d",
   "outputs": [
    {
     "data": {
      "text/plain": [
       "'male'"
      ]
     },
     "execution_count": 51,
     "metadata": {},
     "output_type": "execute_result"
    }
   ],
   "execution_count": 51
  },
  {
   "metadata": {},
   "cell_type": "markdown",
   "source": [
    "### Reference Variables\n",
    "\n",
    "- Reference variables hold the objects\n",
    "- We can create objects without reference variable as well\n",
    "- An object can have multiple reference variables\n",
    "- Assigning a new reference variable to an existing object does not create a new object"
   ],
   "id": "dfecfa2a83845bfc"
  },
  {
   "metadata": {
    "ExecuteTime": {
     "end_time": "2024-09-03T19:31:41.012767Z",
     "start_time": "2024-09-03T19:31:41.008799Z"
    }
   },
   "cell_type": "code",
   "source": [
    "# Object without a reference\n",
    "\n",
    "class Person:\n",
    "\n",
    "    def __init__(self):\n",
    "        self.name = 'Sajjad'\n",
    "        self.gender = 'male'\n",
    "\n",
    "\n",
    "p = Person()\n",
    "\n",
    "# p is a reference variable stores the reference/address of the object\n",
    "q = p\n",
    "# Now both are variable names \n",
    "print(id(p))\n",
    "print(id(q))"
   ],
   "id": "15b201f687553ec9",
   "outputs": [
    {
     "name": "stdout",
     "output_type": "stream",
     "text": [
      "2625751245856\n",
      "2625751245856\n"
     ]
    }
   ],
   "execution_count": 55
  },
  {
   "metadata": {
    "ExecuteTime": {
     "end_time": "2024-09-03T19:33:14.466712Z",
     "start_time": "2024-09-03T19:33:14.463306Z"
    }
   },
   "cell_type": "code",
   "source": [
    "print(p.name)\n",
    "print(q.name)\n",
    "q.name = 'Saad'\n",
    "\n",
    "print(p.name)\n",
    "print(q.name)"
   ],
   "id": "ad8fec0509696213",
   "outputs": [
    {
     "name": "stdout",
     "output_type": "stream",
     "text": [
      "Sajjad\n",
      "Sajjad\n",
      "Saad\n",
      "Saad\n"
     ]
    }
   ],
   "execution_count": 57
  },
  {
   "metadata": {},
   "cell_type": "markdown",
   "source": "## Pass by reference",
   "id": "839414ad5d31f424"
  },
  {
   "metadata": {
    "ExecuteTime": {
     "end_time": "2024-09-03T19:40:00.761231Z",
     "start_time": "2024-09-03T19:40:00.756804Z"
    }
   },
   "cell_type": "code",
   "source": [
    "class Person:\n",
    "\n",
    "    def __init__(self, name, gender):\n",
    "        self.name = name\n",
    "        self.gender = gender\n",
    "\n",
    "\n",
    "# Outside the class -> function\n",
    "def greet(person):\n",
    "    print(f'Hi my name is {person.name} and I am a {person.gender}')\n",
    "    p1 = Person('Sajjad', 'Male')\n",
    "    return p1\n",
    "\n",
    "\n",
    "p = Person('Sajjad', 'Male')\n",
    "x = greet(p)\n",
    "print(x.name, x.gender)\n",
    "\n",
    "# this proves that we can pass object as an argument\n",
    "# this also proves that an object can also be returned "
   ],
   "id": "507b9095ac55bf4d",
   "outputs": [
    {
     "name": "stdout",
     "output_type": "stream",
     "text": [
      "Hi my name is Sajjad and I am a Male\n",
      "Sajjad Male\n"
     ]
    }
   ],
   "execution_count": 60
  },
  {
   "metadata": {
    "ExecuteTime": {
     "end_time": "2024-09-03T19:44:11.610946Z",
     "start_time": "2024-09-03T19:44:11.606949Z"
    }
   },
   "cell_type": "code",
   "source": [
    "class Person:\n",
    "\n",
    "    def __init__(self, name, gender):\n",
    "        self.name = name\n",
    "        self.gender = gender\n",
    "\n",
    "\n",
    "# Outside the class -> function\n",
    "def greet(person):\n",
    "    print(id(person))\n",
    "    person.name = 'Salman'\n",
    "    print(person.name)\n",
    "\n",
    "\n",
    "p = Person('Sajjad', 'Male')\n",
    "print(id(p))\n",
    "greet(p)\n",
    "print(p.name)\n",
    "\n",
    "# When we send an argument, we are actually sending the reference of that variable. "
   ],
   "id": "bc48ca8c485249fc",
   "outputs": [
    {
     "name": "stdout",
     "output_type": "stream",
     "text": [
      "2625752080096\n",
      "2625752080096\n",
      "Salman\n",
      "Salman\n"
     ]
    }
   ],
   "execution_count": 62
  },
  {
   "metadata": {},
   "cell_type": "markdown",
   "source": [
    "## Object ki mutability\n",
    "\n",
    "Objects are mutable"
   ],
   "id": "d7bcc0a0d1860c91"
  },
  {
   "metadata": {
    "ExecuteTime": {
     "end_time": "2024-09-06T21:57:53.481132Z",
     "start_time": "2024-09-06T21:57:53.473871Z"
    }
   },
   "cell_type": "code",
   "source": [
    "class Person:\n",
    "\n",
    "    def __init__(self, name, gender):\n",
    "        self.name = name\n",
    "        self.gender = gender\n",
    "\n",
    "\n",
    "# Outside the class -> function\n",
    "def greet(person):\n",
    "    person.name = 'Salman'\n",
    "    return person\n",
    "\n",
    "\n",
    "p = Person('Sajjad', 'Male')\n",
    "print(id(p))\n",
    "p1 = greet(p)\n",
    "print(id(p1))\n",
    "p.name\n",
    "# AS you can see it has changed its name to Salman now, because objects are mutable are therefore sent by reference."
   ],
   "id": "3a0f69d887df5e5",
   "outputs": [
    {
     "name": "stdout",
     "output_type": "stream",
     "text": [
      "3108221221728\n",
      "3108221221728\n"
     ]
    },
    {
     "data": {
      "text/plain": [
       "'Salman'"
      ]
     },
     "execution_count": 1,
     "metadata": {},
     "output_type": "execute_result"
    }
   ],
   "execution_count": 1
  },
  {
   "metadata": {},
   "cell_type": "markdown",
   "source": [
    "# Encapsulation\n",
    "\n",
    "Why do we use Encapsulation\n",
    "\n",
    "Instance variable are specific to each object of a class, where in they store different values for each object, not within one object."
   ],
   "id": "cd1e753bd11ba451"
  },
  {
   "metadata": {
    "ExecuteTime": {
     "end_time": "2024-09-03T19:56:04.763965Z",
     "start_time": "2024-09-03T19:56:04.759916Z"
    }
   },
   "cell_type": "code",
   "source": [
    "# instance  var ->\n",
    "class Person:\n",
    "    def __init__(self, input_name, input_country):\n",
    "        self.name = input_name\n",
    "        self.country = input_country\n",
    "\n",
    "\n",
    "p1 = Person('Sajjad', 'India')\n",
    "p2 = Person('Steve', 'Australia')\n",
    "print(p1.name)\n",
    "print(p2.name)"
   ],
   "id": "280c277a1761edaf",
   "outputs": [
    {
     "name": "stdout",
     "output_type": "stream",
     "text": [
      "Sajjad\n",
      "Steve\n"
     ]
    }
   ],
   "execution_count": 65
  },
  {
   "metadata": {
    "ExecuteTime": {
     "end_time": "2024-09-03T23:57:14.888220Z",
     "start_time": "2024-09-03T23:57:14.882079Z"
    }
   },
   "cell_type": "code",
   "source": [
    "class Atm:\n",
    "    # Constructor is a special function -> superpower -> \n",
    "    def __init__(self):\n",
    "        print(id(self))\n",
    "        self.pin = ''\n",
    "        self.__balance = 0\n",
    "        # self.menu()\n",
    "\n",
    "    def get_balance(self):\n",
    "        return self.__balance\n",
    "\n",
    "    def set_balance(self, new_value):\n",
    "        if type(new_value) == int:\n",
    "            self.__balance = new_value\n",
    "        else:\n",
    "            print('Beta bohot maarenge!')\n",
    "\n",
    "    def menu(self):\n",
    "        user_input = input(\"\"\"\n",
    "        Hi! How can I help you?\n",
    "        1. Press 1 to create a pin\n",
    "        2. Press 2 to change pin\n",
    "        3. Press 3 to check balance\n",
    "        4. Press 4 to withdraw\n",
    "        5. Anything else to exit\n",
    "        \"\"\")\n",
    "\n",
    "        if user_input == '1':\n",
    "            self.create_pin()\n",
    "        elif user_input == '2':\n",
    "            self.change_pin()\n",
    "        elif user_input == '3':\n",
    "            self.check_balance()\n",
    "        elif user_input == '4':\n",
    "            self.withdraw()\n",
    "        else:\n",
    "            exit()\n",
    "\n",
    "    def create_pin(self):\n",
    "        user_pin = input('Enter your pin: ')\n",
    "        self.pin = user_pin\n",
    "\n",
    "        user_balance = int(input('Enter Balance: '))\n",
    "        self.__balance = user_balance\n",
    "\n",
    "        print('Pin Created Successfully')\n",
    "        self.menu()\n",
    "\n",
    "    def change_pin(self):\n",
    "        old_pin = input('Enter old pin: ')\n",
    "        if old_pin == self.pin:\n",
    "            # Let him change the pin\n",
    "            new_pin = input('Enter New Pin: ')\n",
    "            self.pin = new_pin\n",
    "            print('Pin change successful.')\n",
    "            self.menu()\n",
    "        else:\n",
    "            print('Sorry boss, nai karsakte tumhara')\n",
    "            self.menu()\n",
    "\n",
    "    def check_balance(self):\n",
    "        user_pin = input('Enter your pin: ')\n",
    "        if user_pin == self.pin:\n",
    "            print('Your balance is ', self.__balance)\n",
    "        else:\n",
    "            print('Chal nikal yahan se')\n",
    "\n",
    "    def withdraw(self):\n",
    "        user_pin = input('Enter your pin')\n",
    "        if user_pin == self.pin:\n",
    "            withdraw_amount = int(input('How much would you like to withdraw?\\n'))\n",
    "            if withdraw_amount <= self.__balance:\n",
    "                self.__balance -= withdraw_amount\n",
    "                print('Withdraw success.\\nYour current balance is: ', self.__balance)\n",
    "            else:\n",
    "                print('Abe gareeb')\n",
    "        else:\n",
    "            print('Saale chor')"
   ],
   "id": "9f79db5c205b4e09",
   "outputs": [],
   "execution_count": 37
  },
  {
   "metadata": {
    "ExecuteTime": {
     "end_time": "2024-09-04T00:00:48.277895Z",
     "start_time": "2024-09-04T00:00:48.274792Z"
    }
   },
   "cell_type": "code",
   "source": "obj = Atm()",
   "id": "f80f2e413977582b",
   "outputs": [
    {
     "name": "stdout",
     "output_type": "stream",
     "text": [
      "2166290266352\n"
     ]
    }
   ],
   "execution_count": 42
  },
  {
   "metadata": {
    "ExecuteTime": {
     "end_time": "2024-09-04T00:00:56.154460Z",
     "start_time": "2024-09-04T00:00:48.524766Z"
    }
   },
   "cell_type": "code",
   "source": [
    "obj.create_pin()\n",
    "\n",
    "# The below code will not work\n",
    "# obj.__balance = 'Hehehe'\n",
    "\n",
    "# But this code will actually work even after making the variables private\n",
    "# obj._Atm__balance = 'Hehehe'"
   ],
   "id": "84577b93cf6c6791",
   "outputs": [
    {
     "name": "stdout",
     "output_type": "stream",
     "text": [
      "Pin Created Successfully\n",
      "Your balance is  500000\n"
     ]
    }
   ],
   "execution_count": 43
  },
  {
   "metadata": {
    "ExecuteTime": {
     "end_time": "2024-09-04T00:00:58.676051Z",
     "start_time": "2024-09-04T00:00:58.672730Z"
    }
   },
   "cell_type": "code",
   "source": "obj.get_balance()",
   "id": "ab8f87bc2da2e35",
   "outputs": [
    {
     "data": {
      "text/plain": [
       "500000"
      ]
     },
     "execution_count": 44,
     "metadata": {},
     "output_type": "execute_result"
    }
   ],
   "execution_count": 44
  },
  {
   "metadata": {
    "ExecuteTime": {
     "end_time": "2024-09-04T00:01:12.162721Z",
     "start_time": "2024-09-04T00:01:12.160146Z"
    }
   },
   "cell_type": "code",
   "source": "obj.set_balance(5000)",
   "id": "729b33d83a6f5921",
   "outputs": [],
   "execution_count": 45
  },
  {
   "metadata": {
    "ExecuteTime": {
     "end_time": "2024-09-04T00:01:18.978841Z",
     "start_time": "2024-09-04T00:01:13.258440Z"
    }
   },
   "cell_type": "code",
   "source": "obj.withdraw()",
   "id": "cb5cdeea0a549297",
   "outputs": [
    {
     "name": "stdout",
     "output_type": "stream",
     "text": [
      "Withdraw success.\n",
      "Your current balance is:  4960\n"
     ]
    }
   ],
   "execution_count": 46
  },
  {
   "metadata": {},
   "cell_type": "code",
   "outputs": [],
   "execution_count": null,
   "source": "",
   "id": "41d536cb71553348"
  },
  {
   "metadata": {},
   "cell_type": "markdown",
   "source": "## Collection of objects",
   "id": "d77f867eb1321238"
  },
  {
   "metadata": {
    "ExecuteTime": {
     "end_time": "2024-09-04T00:04:06.895025Z",
     "start_time": "2024-09-04T00:04:06.891609Z"
    }
   },
   "cell_type": "code",
   "source": [
    "# list of objects\n",
    "\n",
    "class Person:\n",
    "\n",
    "    def __init__(self, name, gender):\n",
    "        self.name = name\n",
    "        self.gender = gender\n",
    "\n",
    "\n",
    "p1 = Person('Sajjad', 'male')\n",
    "p2 = Person('Saad', 'male')\n",
    "p3 = Person('Katie', 'female')\n",
    "\n",
    "L = [p1, p2, p3]\n",
    "print(L)"
   ],
   "id": "55fed70131d2bf95",
   "outputs": [
    {
     "name": "stdout",
     "output_type": "stream",
     "text": [
      "[<__main__.Person object at 0x000001F860F62090>, <__main__.Person object at 0x000001F860F60860>, <__main__.Person object at 0x000001F860F5D820>]\n"
     ]
    }
   ],
   "execution_count": 50
  },
  {
   "metadata": {
    "ExecuteTime": {
     "end_time": "2024-09-04T00:04:15.359406Z",
     "start_time": "2024-09-04T00:04:15.356256Z"
    }
   },
   "cell_type": "code",
   "source": [
    "for i in L:\n",
    "    print(i.name, i.gender)"
   ],
   "id": "2b9bc79ff7e31c62",
   "outputs": [
    {
     "name": "stdout",
     "output_type": "stream",
     "text": [
      "Sajjad male\n",
      "Saad male\n",
      "Katie female\n"
     ]
    }
   ],
   "execution_count": 52
  },
  {
   "metadata": {
    "ExecuteTime": {
     "end_time": "2024-09-04T00:04:34.547250Z",
     "start_time": "2024-09-04T00:04:34.544302Z"
    }
   },
   "cell_type": "code",
   "source": [
    "# Although this should not work, but here we are\n",
    "set1 = set(L)\n",
    "print(set1)"
   ],
   "id": "ef18361b77183b6d",
   "outputs": [
    {
     "name": "stdout",
     "output_type": "stream",
     "text": [
      "{<__main__.Person object at 0x000001F860F62090>, <__main__.Person object at 0x000001F860F5D820>, <__main__.Person object at 0x000001F860F60860>}\n"
     ]
    }
   ],
   "execution_count": 53
  },
  {
   "metadata": {
    "ExecuteTime": {
     "end_time": "2024-09-04T00:06:11.814522Z",
     "start_time": "2024-09-04T00:06:11.811739Z"
    }
   },
   "cell_type": "code",
   "source": [
    "dict1 = {\n",
    "    'p1': p1,\n",
    "    'p2': p2,\n",
    "    'p3': p3\n",
    "}\n",
    "\n",
    "for i in dict1:\n",
    "    print(dict1[i].name, dict1[i].gender)"
   ],
   "id": "4b09d47da6a8b715",
   "outputs": [
    {
     "name": "stdout",
     "output_type": "stream",
     "text": [
      "Sajjad male\n",
      "Saad male\n",
      "Katie female\n"
     ]
    }
   ],
   "execution_count": 55
  },
  {
   "metadata": {},
   "cell_type": "markdown",
   "source": "## Static Variables (Vs Instance variables)",
   "id": "637c5dbe893942aa"
  },
  {
   "metadata": {
    "ExecuteTime": {
     "end_time": "2024-09-04T00:26:37.580089Z",
     "start_time": "2024-09-04T00:26:37.573516Z"
    }
   },
   "cell_type": "code",
   "source": [
    "class Atm:\n",
    "    __counter = 1\n",
    "\n",
    "    # Constructor is a special function -> superpower -> \n",
    "    def __init__(self):\n",
    "        print(id(self))\n",
    "        self.pin = ''\n",
    "        self.__balance = 0\n",
    "        self.cid = Atm.__counter\n",
    "        Atm.__counter += 1\n",
    "        # self.menu()\n",
    "\n",
    "    # Utility function\n",
    "    @staticmethod\n",
    "    def get_counter():\n",
    "        return Atm.__counter\n",
    "\n",
    "    def get_balance(self):\n",
    "        return self.__balance\n",
    "\n",
    "    def set_balance(self, new_value):\n",
    "        if type(new_value) == int:\n",
    "            self.__balance = new_value\n",
    "        else:\n",
    "            print('Beta bohot maarenge!')\n",
    "\n",
    "    def menu(self):\n",
    "        user_input = input(\"\"\"\n",
    "        Hi! How can I help you?\n",
    "        1. Press 1 to create a pin\n",
    "        2. Press 2 to change pin\n",
    "        3. Press 3 to check balance\n",
    "        4. Press 4 to withdraw\n",
    "        5. Anything else to exit\n",
    "        \"\"\")\n",
    "\n",
    "        if user_input == '1':\n",
    "            self.create_pin()\n",
    "        elif user_input == '2':\n",
    "            self.change_pin()\n",
    "        elif user_input == '3':\n",
    "            self.check_balance()\n",
    "        elif user_input == '4':\n",
    "            self.withdraw()\n",
    "        else:\n",
    "            exit()\n",
    "\n",
    "    def create_pin(self):\n",
    "        user_pin = input('Enter your pin: ')\n",
    "        self.pin = user_pin\n",
    "\n",
    "        user_balance = int(input('Enter Balance: '))\n",
    "        self.__balance = user_balance\n",
    "\n",
    "        print('Pin Created Successfully')\n",
    "        self.menu()\n",
    "\n",
    "    def change_pin(self):\n",
    "        old_pin = input('Enter old pin: ')\n",
    "        if old_pin == self.pin:\n",
    "            # Let him change the pin\n",
    "            new_pin = input('Enter New Pin: ')\n",
    "            self.pin = new_pin\n",
    "            print('Pin change successful.')\n",
    "            self.menu()\n",
    "        else:\n",
    "            print('Sorry boss, nai karsakte tumhara')\n",
    "            self.menu()\n",
    "\n",
    "    def check_balance(self):\n",
    "        user_pin = input('Enter your pin: ')\n",
    "        if user_pin == self.pin:\n",
    "            print('Your balance is ', self.__balance)\n",
    "        else:\n",
    "            print('Chal nikal yahan se')\n",
    "\n",
    "    def withdraw(self):\n",
    "        user_pin = input('Enter your pin')\n",
    "        if user_pin == self.pin:\n",
    "            withdraw_amount = int(input('How much would you like to withdraw?\\n'))\n",
    "            if withdraw_amount <= self.__balance:\n",
    "                self.__balance -= withdraw_amount\n",
    "                print('Withdraw success.\\nYour current balance is: ', self.__balance)\n",
    "            else:\n",
    "                print('Abe gareeb')\n",
    "        else:\n",
    "            print('Saale chor')"
   ],
   "id": "30e19ae1367864db",
   "outputs": [],
   "execution_count": 75
  },
  {
   "metadata": {
    "ExecuteTime": {
     "end_time": "2024-09-04T00:26:38.322206Z",
     "start_time": "2024-09-04T00:26:38.319290Z"
    }
   },
   "cell_type": "code",
   "source": [
    "c1 = Atm()\n",
    "c2 = Atm()\n",
    "c3 = Atm()"
   ],
   "id": "a250affcc8540848",
   "outputs": [
    {
     "name": "stdout",
     "output_type": "stream",
     "text": [
      "2166296503568\n",
      "2166296498816\n",
      "2166296497472\n"
     ]
    }
   ],
   "execution_count": 76
  },
  {
   "metadata": {
    "ExecuteTime": {
     "end_time": "2024-09-04T00:26:38.896401Z",
     "start_time": "2024-09-04T00:26:38.893225Z"
    }
   },
   "cell_type": "code",
   "source": [
    "# Customer 1's ID\n",
    "c1.cid"
   ],
   "id": "bf5a2b7301b47a6e",
   "outputs": [
    {
     "data": {
      "text/plain": [
       "1"
      ]
     },
     "execution_count": 77,
     "metadata": {},
     "output_type": "execute_result"
    }
   ],
   "execution_count": 77
  },
  {
   "metadata": {
    "ExecuteTime": {
     "end_time": "2024-09-04T00:26:39.501660Z",
     "start_time": "2024-09-04T00:26:39.498029Z"
    }
   },
   "cell_type": "code",
   "source": "c2.cid",
   "id": "551771b9d72e759f",
   "outputs": [
    {
     "data": {
      "text/plain": [
       "2"
      ]
     },
     "execution_count": 78,
     "metadata": {},
     "output_type": "execute_result"
    }
   ],
   "execution_count": 78
  },
  {
   "metadata": {
    "ExecuteTime": {
     "end_time": "2024-09-04T00:26:40.112915Z",
     "start_time": "2024-09-04T00:26:40.108581Z"
    }
   },
   "cell_type": "code",
   "source": "c3.cid",
   "id": "9ab5b461d35c90a5",
   "outputs": [
    {
     "data": {
      "text/plain": [
       "3"
      ]
     },
     "execution_count": 79,
     "metadata": {},
     "output_type": "execute_result"
    }
   ],
   "execution_count": 79
  },
  {
   "metadata": {
    "ExecuteTime": {
     "end_time": "2024-09-04T00:27:21.755168Z",
     "start_time": "2024-09-04T00:27:21.744391Z"
    }
   },
   "cell_type": "code",
   "source": "c1.get_counter()",
   "id": "6d819506a7d1a146",
   "outputs": [
    {
     "ename": "TypeError",
     "evalue": "Atm.get_counter() takes 0 positional arguments but 1 was given",
     "output_type": "error",
     "traceback": [
      "\u001B[1;31m---------------------------------------------------------------------------\u001B[0m",
      "\u001B[1;31mTypeError\u001B[0m                                 Traceback (most recent call last)",
      "Cell \u001B[1;32mIn[82], line 1\u001B[0m\n\u001B[1;32m----> 1\u001B[0m \u001B[43mc1\u001B[49m\u001B[38;5;241;43m.\u001B[39;49m\u001B[43mget_counter\u001B[49m\u001B[43m(\u001B[49m\u001B[43m)\u001B[49m\n",
      "\u001B[1;31mTypeError\u001B[0m: Atm.get_counter() takes 0 positional arguments but 1 was given"
     ]
    }
   ],
   "execution_count": 82
  },
  {
   "metadata": {},
   "cell_type": "markdown",
   "source": [
    "##### Points to remember about static\n",
    "\n",
    "- Static attributes are created at class level.\n",
    "- Static attributes are accessed using ClassName.\n",
    "- Static attributes are object independent. We can access them without creating instance (object) of the class in which they are defined.\n",
    "- The value stored in static attribute is shared between all instances(objects) of the class in which the static attribute is defined."
   ],
   "id": "d2184a97b5c40082"
  },
  {
   "metadata": {
    "ExecuteTime": {
     "end_time": "2024-09-04T00:27:27.556330Z",
     "start_time": "2024-09-04T00:27:27.552332Z"
    }
   },
   "cell_type": "code",
   "source": [
    "# Static Method \n",
    "# You do not require to create objects in order to access them\n",
    "# Usage is to create utility methods\n",
    "\n",
    "Atm.get_counter()"
   ],
   "id": "a63de8e3d5891efe",
   "outputs": [
    {
     "data": {
      "text/plain": [
       "4"
      ]
     },
     "execution_count": 83,
     "metadata": {},
     "output_type": "execute_result"
    }
   ],
   "execution_count": 83
  },
  {
   "metadata": {},
   "cell_type": "markdown",
   "source": [
    "Value of Instance variable for every object is different \n",
    "While value of static variable is gonna be the same for every object\n",
    "\n",
    "`Instance variable` ---> Object\n",
    "\n",
    "Instance is defined inside the constructor\n",
    "\n",
    "object_name.variable_name ===> instance variable\n",
    "\n",
    "`Static Variable` ---> Class\n",
    "\n",
    "Static is defined outside the methods but inside the class\n",
    "\n",
    "class_name.variable_name ===> Static Variable\n",
    "\n",
    "Ex\n",
    "\n",
    "Customer name    - Instance var\n",
    "\n",
    "Customer balance - Instance\n",
    "\n",
    "Bank IFSC code   - Static  (Because all customers have them same)\n",
    "\n",
    "Student CGPA     - Instance\n",
    "\n",
    "College Name     - Static\n"
   ],
   "id": "3d14892b1faaa7a5"
  },
  {
   "metadata": {
    "ExecuteTime": {
     "end_time": "2024-09-04T00:24:28.600622Z",
     "start_time": "2024-09-04T00:24:28.598363Z"
    }
   },
   "cell_type": "code",
   "source": "Atm.counter = 'hehehe'",
   "id": "1b44020aa1781177",
   "outputs": [],
   "execution_count": 67
  },
  {
   "metadata": {
    "ExecuteTime": {
     "end_time": "2024-09-04T00:24:53.277449Z",
     "start_time": "2024-09-04T00:24:53.258818Z"
    }
   },
   "cell_type": "code",
   "source": "c4 = Atm()",
   "id": "54231aff2c1dddf6",
   "outputs": [
    {
     "name": "stdout",
     "output_type": "stream",
     "text": [
      "2166290328624\n"
     ]
    },
    {
     "ename": "TypeError",
     "evalue": "can only concatenate str (not \"int\") to str",
     "output_type": "error",
     "traceback": [
      "\u001B[1;31m---------------------------------------------------------------------------\u001B[0m",
      "\u001B[1;31mTypeError\u001B[0m                                 Traceback (most recent call last)",
      "Cell \u001B[1;32mIn[68], line 1\u001B[0m\n\u001B[1;32m----> 1\u001B[0m c4 \u001B[38;5;241m=\u001B[39m \u001B[43mAtm\u001B[49m\u001B[43m(\u001B[49m\u001B[43m)\u001B[49m\n",
      "Cell \u001B[1;32mIn[61], line 11\u001B[0m, in \u001B[0;36mAtm.__init__\u001B[1;34m(self)\u001B[0m\n\u001B[0;32m      9\u001B[0m \u001B[38;5;28mself\u001B[39m\u001B[38;5;241m.\u001B[39m__balance \u001B[38;5;241m=\u001B[39m \u001B[38;5;241m0\u001B[39m\n\u001B[0;32m     10\u001B[0m \u001B[38;5;28mself\u001B[39m\u001B[38;5;241m.\u001B[39mcid \u001B[38;5;241m=\u001B[39m Atm\u001B[38;5;241m.\u001B[39mcounter\n\u001B[1;32m---> 11\u001B[0m \u001B[43mAtm\u001B[49m\u001B[38;5;241;43m.\u001B[39;49m\u001B[43mcounter\u001B[49m\u001B[43m \u001B[49m\u001B[38;5;241;43m+\u001B[39;49m\u001B[38;5;241;43m=\u001B[39;49m\u001B[43m \u001B[49m\u001B[38;5;241;43m1\u001B[39;49m\n",
      "\u001B[1;31mTypeError\u001B[0m: can only concatenate str (not \"int\") to str"
     ]
    }
   ],
   "execution_count": 68
  },
  {
   "metadata": {},
   "cell_type": "code",
   "outputs": [],
   "execution_count": null,
   "source": "",
   "id": "c1d41ebacbac009d"
  }
 ],
 "metadata": {
  "kernelspec": {
   "display_name": "Python 3",
   "language": "python",
   "name": "python3"
  },
  "language_info": {
   "codemirror_mode": {
    "name": "ipython",
    "version": 2
   },
   "file_extension": ".py",
   "mimetype": "text/x-python",
   "name": "python",
   "nbconvert_exporter": "python",
   "pygments_lexer": "ipython2",
   "version": "2.7.6"
  }
 },
 "nbformat": 4,
 "nbformat_minor": 5
}
