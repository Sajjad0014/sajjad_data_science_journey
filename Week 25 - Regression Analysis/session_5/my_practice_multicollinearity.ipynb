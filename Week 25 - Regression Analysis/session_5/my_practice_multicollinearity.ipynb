{
 "cells": [
  {
   "metadata": {},
   "cell_type": "markdown",
   "source": [
    "# Types of Multi-Collinearity\n",
    "1. Correlation\n",
    "2. VIF\n",
    "3. Condition No."
   ],
   "id": "741b3cb9b448210b"
  },
  {
   "metadata": {},
   "cell_type": "markdown",
   "source": "## Correlation",
   "id": "2060e45f1f8fae30"
  },
  {
   "metadata": {
    "ExecuteTime": {
     "end_time": "2025-02-05T01:31:21.593350Z",
     "start_time": "2025-02-05T01:31:21.393926Z"
    }
   },
   "cell_type": "code",
   "source": [
    "import pandas as pd\n",
    "import numpy as np\n",
    "import seaborn as sns\n",
    "\n",
    "df = pd.read_csv('https://raw.githubusercontent.com/justmarkham/scikit-learn-videos/master/data/Advertising.csv')\n",
    "\n",
    "df"
   ],
   "id": "ffb3145d2618ba36",
   "outputs": [
    {
     "data": {
      "text/plain": [
       "     Unnamed: 0     TV  Radio  Newspaper  Sales\n",
       "0             1  230.1   37.8       69.2   22.1\n",
       "1             2   44.5   39.3       45.1   10.4\n",
       "2             3   17.2   45.9       69.3    9.3\n",
       "3             4  151.5   41.3       58.5   18.5\n",
       "4             5  180.8   10.8       58.4   12.9\n",
       "..          ...    ...    ...        ...    ...\n",
       "195         196   38.2    3.7       13.8    7.6\n",
       "196         197   94.2    4.9        8.1    9.7\n",
       "197         198  177.0    9.3        6.4   12.8\n",
       "198         199  283.6   42.0       66.2   25.5\n",
       "199         200  232.1    8.6        8.7   13.4\n",
       "\n",
       "[200 rows x 5 columns]"
      ],
      "text/html": [
       "<div>\n",
       "<style scoped>\n",
       "    .dataframe tbody tr th:only-of-type {\n",
       "        vertical-align: middle;\n",
       "    }\n",
       "\n",
       "    .dataframe tbody tr th {\n",
       "        vertical-align: top;\n",
       "    }\n",
       "\n",
       "    .dataframe thead th {\n",
       "        text-align: right;\n",
       "    }\n",
       "</style>\n",
       "<table border=\"1\" class=\"dataframe\">\n",
       "  <thead>\n",
       "    <tr style=\"text-align: right;\">\n",
       "      <th></th>\n",
       "      <th>Unnamed: 0</th>\n",
       "      <th>TV</th>\n",
       "      <th>Radio</th>\n",
       "      <th>Newspaper</th>\n",
       "      <th>Sales</th>\n",
       "    </tr>\n",
       "  </thead>\n",
       "  <tbody>\n",
       "    <tr>\n",
       "      <th>0</th>\n",
       "      <td>1</td>\n",
       "      <td>230.1</td>\n",
       "      <td>37.8</td>\n",
       "      <td>69.2</td>\n",
       "      <td>22.1</td>\n",
       "    </tr>\n",
       "    <tr>\n",
       "      <th>1</th>\n",
       "      <td>2</td>\n",
       "      <td>44.5</td>\n",
       "      <td>39.3</td>\n",
       "      <td>45.1</td>\n",
       "      <td>10.4</td>\n",
       "    </tr>\n",
       "    <tr>\n",
       "      <th>2</th>\n",
       "      <td>3</td>\n",
       "      <td>17.2</td>\n",
       "      <td>45.9</td>\n",
       "      <td>69.3</td>\n",
       "      <td>9.3</td>\n",
       "    </tr>\n",
       "    <tr>\n",
       "      <th>3</th>\n",
       "      <td>4</td>\n",
       "      <td>151.5</td>\n",
       "      <td>41.3</td>\n",
       "      <td>58.5</td>\n",
       "      <td>18.5</td>\n",
       "    </tr>\n",
       "    <tr>\n",
       "      <th>4</th>\n",
       "      <td>5</td>\n",
       "      <td>180.8</td>\n",
       "      <td>10.8</td>\n",
       "      <td>58.4</td>\n",
       "      <td>12.9</td>\n",
       "    </tr>\n",
       "    <tr>\n",
       "      <th>...</th>\n",
       "      <td>...</td>\n",
       "      <td>...</td>\n",
       "      <td>...</td>\n",
       "      <td>...</td>\n",
       "      <td>...</td>\n",
       "    </tr>\n",
       "    <tr>\n",
       "      <th>195</th>\n",
       "      <td>196</td>\n",
       "      <td>38.2</td>\n",
       "      <td>3.7</td>\n",
       "      <td>13.8</td>\n",
       "      <td>7.6</td>\n",
       "    </tr>\n",
       "    <tr>\n",
       "      <th>196</th>\n",
       "      <td>197</td>\n",
       "      <td>94.2</td>\n",
       "      <td>4.9</td>\n",
       "      <td>8.1</td>\n",
       "      <td>9.7</td>\n",
       "    </tr>\n",
       "    <tr>\n",
       "      <th>197</th>\n",
       "      <td>198</td>\n",
       "      <td>177.0</td>\n",
       "      <td>9.3</td>\n",
       "      <td>6.4</td>\n",
       "      <td>12.8</td>\n",
       "    </tr>\n",
       "    <tr>\n",
       "      <th>198</th>\n",
       "      <td>199</td>\n",
       "      <td>283.6</td>\n",
       "      <td>42.0</td>\n",
       "      <td>66.2</td>\n",
       "      <td>25.5</td>\n",
       "    </tr>\n",
       "    <tr>\n",
       "      <th>199</th>\n",
       "      <td>200</td>\n",
       "      <td>232.1</td>\n",
       "      <td>8.6</td>\n",
       "      <td>8.7</td>\n",
       "      <td>13.4</td>\n",
       "    </tr>\n",
       "  </tbody>\n",
       "</table>\n",
       "<p>200 rows × 5 columns</p>\n",
       "</div>"
      ]
     },
     "execution_count": 49,
     "metadata": {},
     "output_type": "execute_result"
    }
   ],
   "execution_count": 49
  },
  {
   "metadata": {
    "ExecuteTime": {
     "end_time": "2025-02-05T01:23:39.182168Z",
     "start_time": "2025-02-05T01:23:38.961198Z"
    }
   },
   "cell_type": "code",
   "source": "sns.heatmap(df.corr(), annot=True)",
   "id": "8cfa173812b77baf",
   "outputs": [
    {
     "data": {
      "text/plain": [
       "<Axes: >"
      ]
     },
     "execution_count": 43,
     "metadata": {},
     "output_type": "execute_result"
    },
    {
     "data": {
      "text/plain": [
       "<Figure size 640x480 with 2 Axes>"
      ],
      "image/png": "[encoded data removed]"
     },
     "metadata": {},
     "output_type": "display_data"
    }
   ],
   "execution_count": 43
  },
  {
   "metadata": {},
   "cell_type": "code",
   "outputs": [],
   "execution_count": null,
   "source": "## We can notice here no value is getting over 0.8 or 0.9, hence there is no multi-collinearity in this data.",
   "id": "6c426045b3cbe283"
  },
  {
   "metadata": {},
   "cell_type": "markdown",
   "source": "## Variance Inflation Factor (VIF)",
   "id": "d292d47530fae86c"
  },
  {
   "metadata": {
    "ExecuteTime": {
     "end_time": "2025-02-05T01:29:50.999421Z",
     "start_time": "2025-02-05T01:29:50.991582Z"
    }
   },
   "cell_type": "code",
   "source": [
    "from statsmodels.stats.outliers_influence import variance_inflation_factor\n",
    "\n",
    "vif = []\n",
    "\n",
    "for i in range(3):\n",
    "    vif.append(variance_inflation_factor(df.iloc[:, 1:4], i))\n",
    "\n",
    "pd.DataFrame({'vif': vif}, index=df.columns[1:4]).T"
   ],
   "id": "879343b0da1d7fec",
   "outputs": [
    {
     "data": {
      "text/plain": [
       "           TV     Radio  Newspaper\n",
       "vif  2.486772  3.285462   3.055245"
      ],
      "text/html": [
       "<div>\n",
       "<style scoped>\n",
       "    .dataframe tbody tr th:only-of-type {\n",
       "        vertical-align: middle;\n",
       "    }\n",
       "\n",
       "    .dataframe tbody tr th {\n",
       "        vertical-align: top;\n",
       "    }\n",
       "\n",
       "    .dataframe thead th {\n",
       "        text-align: right;\n",
       "    }\n",
       "</style>\n",
       "<table border=\"1\" class=\"dataframe\">\n",
       "  <thead>\n",
       "    <tr style=\"text-align: right;\">\n",
       "      <th></th>\n",
       "      <th>TV</th>\n",
       "      <th>Radio</th>\n",
       "      <th>Newspaper</th>\n",
       "    </tr>\n",
       "  </thead>\n",
       "  <tbody>\n",
       "    <tr>\n",
       "      <th>vif</th>\n",
       "      <td>2.486772</td>\n",
       "      <td>3.285462</td>\n",
       "      <td>3.055245</td>\n",
       "    </tr>\n",
       "  </tbody>\n",
       "</table>\n",
       "</div>"
      ]
     },
     "execution_count": 48,
     "metadata": {},
     "output_type": "execute_result"
    }
   ],
   "execution_count": 48
  },
  {
   "metadata": {},
   "cell_type": "code",
   "outputs": [],
   "execution_count": null,
   "source": "## As you can notice the VIF value is not exceeding 5 or 10, hence it proves no multi-collinearity",
   "id": "1918bae393a3f622"
  },
  {
   "metadata": {
    "ExecuteTime": {
     "end_time": "2025-02-05T01:33:32.249515Z",
     "start_time": "2025-02-05T01:33:30.162754Z"
    }
   },
   "cell_type": "code",
   "source": [
    "import statsmodels.api as sm\n",
    "from sklearn.datasets import make_regression\n",
    "\n",
    "# Generate a synthetic dataset with multi-collinearity\n",
    "np.random.seed(42)\n",
    "X, y = make_regression(n_samples=100, n_features=3, noise=0.5, random_state=42)\n",
    "X[:, 1] = X[:, 0] + 0.5 * np.random.normal(size=100) # Introduce multi-collinearity between columns 0 and 1\n",
    " \n",
    "data = pd.DataFrame(X, columns=['X1', 'X2', 'X3'])\n",
    "data['y'] = y\n",
    "\n",
    "data"
   ],
   "id": "79540cd0a77942bb",
   "outputs": [
    {
     "data": {
      "text/plain": [
       "          X1        X2        X3           y\n",
       "0  -0.792521 -0.544164 -0.114736   13.480582\n",
       "1   0.280992  0.211860 -0.622700  -18.902685\n",
       "2   0.791032  1.114876 -0.909387  110.450979\n",
       "3   0.625667  1.387182 -0.857158  -78.162124\n",
       "4  -0.342715 -0.459791 -0.802277  -35.728094\n",
       "..       ...       ...       ...         ...\n",
       "95  0.651391 -0.080366 -0.315269   68.841646\n",
       "96  1.586017  1.734077 -1.237815  183.634164\n",
       "97  0.010233  0.140761 -0.981509   17.531189\n",
       "98 -0.234587 -0.232030 -1.415371  -63.202789\n",
       "99 -0.327662 -0.444956 -0.392108 -125.373405\n",
       "\n",
       "[100 rows x 4 columns]"
      ],
      "text/html": [
       "<div>\n",
       "<style scoped>\n",
       "    .dataframe tbody tr th:only-of-type {\n",
       "        vertical-align: middle;\n",
       "    }\n",
       "\n",
       "    .dataframe tbody tr th {\n",
       "        vertical-align: top;\n",
       "    }\n",
       "\n",
       "    .dataframe thead th {\n",
       "        text-align: right;\n",
       "    }\n",
       "</style>\n",
       "<table border=\"1\" class=\"dataframe\">\n",
       "  <thead>\n",
       "    <tr style=\"text-align: right;\">\n",
       "      <th></th>\n",
       "      <th>X1</th>\n",
       "      <th>X2</th>\n",
       "      <th>X3</th>\n",
       "      <th>y</th>\n",
       "    </tr>\n",
       "  </thead>\n",
       "  <tbody>\n",
       "    <tr>\n",
       "      <th>0</th>\n",
       "      <td>-0.792521</td>\n",
       "      <td>-0.544164</td>\n",
       "      <td>-0.114736</td>\n",
       "      <td>13.480582</td>\n",
       "    </tr>\n",
       "    <tr>\n",
       "      <th>1</th>\n",
       "      <td>0.280992</td>\n",
       "      <td>0.211860</td>\n",
       "      <td>-0.622700</td>\n",
       "      <td>-18.902685</td>\n",
       "    </tr>\n",
       "    <tr>\n",
       "      <th>2</th>\n",
       "      <td>0.791032</td>\n",
       "      <td>1.114876</td>\n",
       "      <td>-0.909387</td>\n",
       "      <td>110.450979</td>\n",
       "    </tr>\n",
       "    <tr>\n",
       "      <th>3</th>\n",
       "      <td>0.625667</td>\n",
       "      <td>1.387182</td>\n",
       "      <td>-0.857158</td>\n",
       "      <td>-78.162124</td>\n",
       "    </tr>\n",
       "    <tr>\n",
       "      <th>4</th>\n",
       "      <td>-0.342715</td>\n",
       "      <td>-0.459791</td>\n",
       "      <td>-0.802277</td>\n",
       "      <td>-35.728094</td>\n",
       "    </tr>\n",
       "    <tr>\n",
       "      <th>...</th>\n",
       "      <td>...</td>\n",
       "      <td>...</td>\n",
       "      <td>...</td>\n",
       "      <td>...</td>\n",
       "    </tr>\n",
       "    <tr>\n",
       "      <th>95</th>\n",
       "      <td>0.651391</td>\n",
       "      <td>-0.080366</td>\n",
       "      <td>-0.315269</td>\n",
       "      <td>68.841646</td>\n",
       "    </tr>\n",
       "    <tr>\n",
       "      <th>96</th>\n",
       "      <td>1.586017</td>\n",
       "      <td>1.734077</td>\n",
       "      <td>-1.237815</td>\n",
       "      <td>183.634164</td>\n",
       "    </tr>\n",
       "    <tr>\n",
       "      <th>97</th>\n",
       "      <td>0.010233</td>\n",
       "      <td>0.140761</td>\n",
       "      <td>-0.981509</td>\n",
       "      <td>17.531189</td>\n",
       "    </tr>\n",
       "    <tr>\n",
       "      <th>98</th>\n",
       "      <td>-0.234587</td>\n",
       "      <td>-0.232030</td>\n",
       "      <td>-1.415371</td>\n",
       "      <td>-63.202789</td>\n",
       "    </tr>\n",
       "    <tr>\n",
       "      <th>99</th>\n",
       "      <td>-0.327662</td>\n",
       "      <td>-0.444956</td>\n",
       "      <td>-0.392108</td>\n",
       "      <td>-125.373405</td>\n",
       "    </tr>\n",
       "  </tbody>\n",
       "</table>\n",
       "<p>100 rows × 4 columns</p>\n",
       "</div>"
      ]
     },
     "execution_count": 50,
     "metadata": {},
     "output_type": "execute_result"
    }
   ],
   "execution_count": 50
  },
  {
   "metadata": {
    "ExecuteTime": {
     "end_time": "2025-02-05T01:33:48.078762Z",
     "start_time": "2025-02-05T01:33:47.863154Z"
    }
   },
   "cell_type": "code",
   "source": "sns.heatmap(data.corr(), annot=True)",
   "id": "cd784a8945798343",
   "outputs": [
    {
     "data": {
      "text/plain": [
       "<Axes: >"
      ]
     },
     "execution_count": 51,
     "metadata": {},
     "output_type": "execute_result"
    },
    {
     "data": {
      "text/plain": [
       "<Figure size 640x480 with 2 Axes>"
      ],
      "image/png": "[encoded data removed]"
     },
     "metadata": {},
     "output_type": "display_data"
    }
   ],
   "execution_count": 51
  },
  {
   "metadata": {},
   "cell_type": "code",
   "outputs": [],
   "execution_count": null,
   "source": "## As you can see, we have X1 and X2 with 0.88 value, indicating it is highly correlated to each other and hence this dataset has multi-collinearity",
   "id": "239dd795715ec309"
  },
  {
   "metadata": {},
   "cell_type": "markdown",
   "source": "## Condition Number",
   "id": "717eefc590a483a6"
  },
  {
   "metadata": {},
   "cell_type": "code",
   "outputs": [
    {
     "data": {
      "text/plain": [
       "array([[ 1. ,  1.2],\n",
       "       [ 2. ,  2.1],\n",
       "       [ 3. ,  3.1],\n",
       "       [ 4. ,  4.1],\n",
       "       [ 5. ,  5. ],\n",
       "       [ 6. ,  6. ],\n",
       "       [ 7. ,  7. ],\n",
       "       [ 8. ,  8. ],\n",
       "       [ 9. ,  9.1],\n",
       "       [10. , 10.2]])"
      ]
     },
     "execution_count": 29,
     "metadata": {},
     "output_type": "execute_result"
    }
   ],
   "execution_count": 29,
   "source": [
    "import numpy as np\n",
    "\n",
    "arr = np.array([[1, 2, 3, 4, 5, 6, 7, 8, 9, 10], [1.2, 2.1, 3.1, 4.1, 5.0, 6.0, 7.0, 8.0, 9.1, 10.2]]).T\n",
    "arr"
   ],
   "id": "301cdf0f3594d9aa"
  },
  {
   "metadata": {},
   "cell_type": "code",
   "outputs": [
    {
     "data": {
      "text/plain": [
       "20046.699764689125"
      ]
     },
     "execution_count": 30,
     "metadata": {},
     "output_type": "execute_result"
    }
   ],
   "execution_count": 30,
   "source": [
    "# When we calculate the conditional number for np.dot(X.T, X) we are getting a value higher than 30, indicating multi-collinearity\n",
    "np.linalg.cond(np.dot(arr.T, arr))"
   ],
   "id": "f35de7a837da7976"
  },
  {
   "metadata": {},
   "cell_type": "code",
   "outputs": [
    {
     "data": {
      "text/plain": [
       "array([[ 13.01721854, -12.8807947 ],\n",
       "       [-12.8807947 ,  12.74834437]])"
      ]
     },
     "execution_count": 31,
     "metadata": {},
     "output_type": "execute_result"
    }
   ],
   "execution_count": 31,
   "source": [
    "# The values of the coefficients are also high\n",
    "np.linalg.inv(np.dot(arr.T, arr))"
   ],
   "id": "a1b8bf14b4e21c6e"
  },
  {
   "metadata": {},
   "cell_type": "code",
   "outputs": [
    {
     "data": {
      "text/plain": [
       "array([[ 1.1,  1.2],\n",
       "       [ 2. ,  2.1],\n",
       "       [ 3. ,  3.1],\n",
       "       [ 4. ,  4.1],\n",
       "       [ 5. ,  5. ],\n",
       "       [ 6. ,  6. ],\n",
       "       [ 7. ,  7. ],\n",
       "       [ 8. ,  8. ],\n",
       "       [ 9. ,  9.1],\n",
       "       [10. , 10.2]])"
      ]
     },
     "execution_count": 32,
     "metadata": {},
     "output_type": "execute_result"
    }
   ],
   "execution_count": 32,
   "source": [
    "# Making small change in the input\n",
    "# 1 -> 1.1\n",
    "\n",
    "arr = np.array([[1.1, 2, 3, 4, 5, 6, 7, 8, 9, 10], [1.2, 2.1, 3.1, 4.1, 5.0, 6.0, 7.0, 8.0, 9.1, 10.2]]).T\n",
    "arr"
   ],
   "id": "a3c9da407763c518"
  },
  {
   "metadata": {},
   "cell_type": "code",
   "outputs": [
    {
     "data": {
      "text/plain": [
       "(10, 2)"
      ]
     },
     "execution_count": 33,
     "metadata": {},
     "output_type": "execute_result"
    }
   ],
   "execution_count": 33,
   "source": "arr.shape",
   "id": "af91399d1046ef9b"
  },
  {
   "metadata": {},
   "cell_type": "code",
   "outputs": [
    {
     "data": {
      "text/plain": [
       "array([[ 20.2839924 , -20.07760258],\n",
       "       [-20.07760258,  19.87585652]])"
      ]
     },
     "execution_count": 34,
     "metadata": {},
     "output_type": "execute_result"
    }
   ],
   "execution_count": 34,
   "source": [
    "# Again the values have changed\n",
    "np.linalg.inv(np.dot(arr.T, arr))"
   ],
   "id": "8ecad808009fb12e"
  },
  {
   "metadata": {},
   "cell_type": "code",
   "outputs": [
    {
     "data": {
      "text/plain": [
       "31255.615180043427"
      ]
     },
     "execution_count": 35,
     "metadata": {},
     "output_type": "execute_result"
    }
   ],
   "execution_count": 35,
   "source": [
    "# We again got big value\n",
    "np.linalg.cond(np.dot(arr.T, arr))"
   ],
   "id": "5ae9064807bf4282"
  },
  {
   "metadata": {},
   "cell_type": "code",
   "outputs": [
    {
     "name": "stdout",
     "output_type": "stream",
     "text": [
      "[[14.34879879  0.98590838]\n",
      " [79.82745756  4.81634844]\n",
      " [40.54244875 11.94694106]\n",
      " [50.43051688 11.17060011]\n",
      " [46.89072711  0.42737859]\n",
      " [51.04329172  7.83255862]\n",
      " [64.70193777 16.09381391]\n",
      " [40.55272583 18.30466652]\n",
      " [46.31029445 27.79416056]\n",
      " [28.7201486  16.3665308 ]]\n"
     ]
    }
   ],
   "execution_count": 36,
   "source": [
    "# Not let's take a dataset which is not multi-collinear\n",
    "# Generate random data for each column independently\n",
    "col2 = np.random.normal(50, 15, 10)  # Normal distribution (mean=50, std=15)\n",
    "col3 = np.random.exponential(10, 10)  # Exponential distribution\n",
    "\n",
    "# Combine and transpose for a similar structure\n",
    "arr = np.column_stack([col2, col3])\n",
    "print(arr)"
   ],
   "id": "b3da0f744b3b2bbc"
  },
  {
   "metadata": {},
   "cell_type": "code",
   "outputs": [
    {
     "data": {
      "text/plain": [
       "(10, 2)"
      ]
     },
     "execution_count": 37,
     "metadata": {},
     "output_type": "execute_result"
    }
   ],
   "execution_count": 37,
   "source": "arr.shape",
   "id": "6cd5e3fbd940bd6f"
  },
  {
   "metadata": {},
   "cell_type": "code",
   "outputs": [
    {
     "data": {
      "text/plain": [
       "array([[ 0.00010351, -0.00028156],\n",
       "       [-0.00028156,  0.00126903]])"
      ]
     },
     "execution_count": 38,
     "metadata": {},
     "output_type": "execute_result"
    }
   ],
   "execution_count": 38,
   "source": [
    "# As you can notice the values of the coeff are much smaller now\n",
    "np.linalg.inv(np.dot(arr.T, arr))"
   ],
   "id": "2e23317d5c99a1f5"
  },
  {
   "metadata": {},
   "cell_type": "code",
   "outputs": [
    {
     "name": "stdout",
     "output_type": "stream",
     "text": [
      "Condition Number: 34.147065451894996\n"
     ]
    }
   ],
   "execution_count": 39,
   "source": [
    "# The condition number is greater than 30 because it is not scaled properly\n",
    "cond_number = np.linalg.cond(np.dot(arr.T, arr))\n",
    "print(f\"Condition Number: {cond_number}\")"
   ],
   "id": "4f7d8097acb662d3"
  },
  {
   "metadata": {},
   "cell_type": "code",
   "outputs": [
    {
     "name": "stdout",
     "output_type": "stream",
     "text": [
      "Condition Number after scaling: 1.066325711812466\n"
     ]
    }
   ],
   "execution_count": 40,
   "source": [
    "from sklearn.preprocessing import StandardScaler\n",
    "\n",
    "scaler = StandardScaler()\n",
    "arr_scaled = scaler.fit_transform(arr)\n",
    "\n",
    "cond_number = np.linalg.cond(np.dot(arr_scaled.T, arr_scaled))\n",
    "print(f\"Condition Number after scaling: {cond_number}\")"
   ],
   "id": "f3af6e3cbaea7b26"
  },
  {
   "metadata": {},
   "cell_type": "code",
   "outputs": [],
   "execution_count": null,
   "source": "",
   "id": "7ec44ea2dc278a81"
  },
  {
   "metadata": {},
   "cell_type": "markdown",
   "source": [
    "# Ways to remove multi-collinearity\n",
    "1. Get more data\n",
    "2. Remove one of the highly correlated variable\n",
    "3. Combine correlated variables\n",
    "4. Use Partial Least Squares Regression (PLS) "
   ],
   "id": "8afe604138d32595"
  },
  {
   "metadata": {},
   "cell_type": "markdown",
   "source": "### 2. Remove one of the highly correlated variable",
   "id": "e84cec15a0244516"
  },
  {
   "metadata": {
    "ExecuteTime": {
     "end_time": "2025-02-05T02:04:16.543133Z",
     "start_time": "2025-02-05T02:04:16.534132Z"
    }
   },
   "cell_type": "code",
   "source": [
    "# Add a constant term to the predictor variables\n",
    "import statsmodels.api as sm\n",
    "\n",
    "\n",
    "data_with_constant_all = sm.add_constant(data[['X1', 'X2', 'X3']])\n",
    "data_with_constant_removed = sm.add_constant(data[['X1', 'X3']])\n",
    "\n",
    "# Create and git an OLS model using all three predictor variables\n",
    "model_all = sm.OLS(data['y'], data_with_constant_all).fit()"
   ],
   "id": "d57ef106cd3fce40",
   "outputs": [],
   "execution_count": 52
  },
  {
   "metadata": {
    "ExecuteTime": {
     "end_time": "2025-02-05T02:04:49.053253Z",
     "start_time": "2025-02-05T02:04:49.044201Z"
    }
   },
   "cell_type": "code",
   "source": [
    "print('Regression summary for the model with all predictors:')\n",
    "print(model_all.summary())"
   ],
   "id": "f4ae10f049f69814",
   "outputs": [
    {
     "name": "stdout",
     "output_type": "stream",
     "text": [
      "Regression summary for the model with all predictors:\n",
      "                            OLS Regression Results                            \n",
      "==============================================================================\n",
      "Dep. Variable:                      y   R-squared:                       0.034\n",
      "Model:                            OLS   Adj. R-squared:                  0.004\n",
      "Method:                 Least Squares   F-statistic:                     1.122\n",
      "Date:                Tue, 04 Feb 2025   Prob (F-statistic):              0.344\n",
      "Time:                        18:04:49   Log-Likelihood:                -581.96\n",
      "No. Observations:                 100   AIC:                             1172.\n",
      "Df Residuals:                      96   BIC:                             1182.\n",
      "Df Model:                           3                                         \n",
      "Covariance Type:            nonrobust                                         \n",
      "==============================================================================\n",
      "                 coef    std err          t      P>|t|      [0.025      0.975]\n",
      "------------------------------------------------------------------------------\n",
      "const          5.6185      8.572      0.655      0.514     -11.397      22.634\n",
      "X1             0.9804     21.591      0.045      0.964     -41.877      43.838\n",
      "X2            13.9157     18.451      0.754      0.453     -22.710      50.542\n",
      "X3             6.8796      8.552      0.804      0.423     -10.095      23.854\n",
      "==============================================================================\n",
      "Omnibus:                        8.100   Durbin-Watson:                   2.070\n",
      "Prob(Omnibus):                  0.017   Jarque-Bera (JB):                8.233\n",
      "Skew:                           0.531   Prob(JB):                       0.0163\n",
      "Kurtosis:                       3.921   Cond. No.                         4.13\n",
      "==============================================================================\n",
      "\n",
      "Notes:\n",
      "[1] Standard Errors assume that the covariance matrix of the errors is correctly specified.\n"
     ]
    }
   ],
   "execution_count": 54
  },
  {
   "metadata": {
    "ExecuteTime": {
     "end_time": "2025-02-05T02:06:55.180255Z",
     "start_time": "2025-02-05T02:06:55.169253Z"
    }
   },
   "cell_type": "code",
   "source": [
    "model_reduced = sm.OLS(data['y'], data_with_constant_removed).fit()\n",
    "\n",
    "print('Regression summary for the model with one predictor removed:')\n",
    "print(model_reduced.summary())"
   ],
   "id": "5b8d0d41c903bf34",
   "outputs": [
    {
     "name": "stdout",
     "output_type": "stream",
     "text": [
      "Regression summary for the model with all predictors:\n",
      "                            OLS Regression Results                            \n",
      "==============================================================================\n",
      "Dep. Variable:                      y   R-squared:                       0.028\n",
      "Model:                            OLS   Adj. R-squared:                  0.008\n",
      "Method:                 Least Squares   F-statistic:                     1.405\n",
      "Date:                Tue, 04 Feb 2025   Prob (F-statistic):              0.250\n",
      "Time:                        18:06:55   Log-Likelihood:                -582.25\n",
      "No. Observations:                 100   AIC:                             1171.\n",
      "Df Residuals:                      97   BIC:                             1178.\n",
      "Df Model:                           2                                         \n",
      "Covariance Type:            nonrobust                                         \n",
      "==============================================================================\n",
      "                 coef    std err          t      P>|t|      [0.025      0.975]\n",
      "------------------------------------------------------------------------------\n",
      "const          4.8245      8.488      0.568      0.571     -12.023      21.672\n",
      "X1            15.3528     10.126      1.516      0.133      -4.744      35.450\n",
      "X3             6.7179      8.530      0.788      0.433     -10.212      23.647\n",
      "==============================================================================\n",
      "Omnibus:                        8.800   Durbin-Watson:                   2.077\n",
      "Prob(Omnibus):                  0.012   Jarque-Bera (JB):                9.219\n",
      "Skew:                           0.554   Prob(JB):                      0.00996\n",
      "Kurtosis:                       3.992   Cond. No.                         1.35\n",
      "==============================================================================\n",
      "\n",
      "Notes:\n",
      "[1] Standard Errors assume that the covariance matrix of the errors is correctly specified.\n"
     ]
    }
   ],
   "execution_count": 56
  },
  {
   "metadata": {},
   "cell_type": "code",
   "outputs": [],
   "execution_count": null,
   "source": "# You can notice how the condition No. has reduced after removing the correlated column",
   "id": "fb2b124469fc2ac7"
  },
  {
   "metadata": {},
   "cell_type": "markdown",
   "source": "### 3. Combine correlated variables",
   "id": "47496966b7a851ab"
  },
  {
   "metadata": {
    "ExecuteTime": {
     "end_time": "2025-02-05T02:10:31.298752Z",
     "start_time": "2025-02-05T02:10:31.288426Z"
    }
   },
   "cell_type": "code",
   "source": [
    "np.random.seed(42)\n",
    "X, y = make_regression(n_samples=100, n_features=3, noise=0.5, random_state=42)\n",
    "X[:, 1] = X[:, 0] + 0.5 * np.random.normal(size=100) # Introducing multi-coll between col 0 and 1\n",
    "\n",
    "data = pd.DataFrame(X, columns=['X1', 'X2', 'X3'])\n",
    "data['y'] = y\n",
    "data"
   ],
   "id": "27e66fed06267583",
   "outputs": [
    {
     "data": {
      "text/plain": [
       "          X1        X2        X3           y\n",
       "0  -0.792521 -0.544164 -0.114736   13.480582\n",
       "1   0.280992  0.211860 -0.622700  -18.902685\n",
       "2   0.791032  1.114876 -0.909387  110.450979\n",
       "3   0.625667  1.387182 -0.857158  -78.162124\n",
       "4  -0.342715 -0.459791 -0.802277  -35.728094\n",
       "..       ...       ...       ...         ...\n",
       "95  0.651391 -0.080366 -0.315269   68.841646\n",
       "96  1.586017  1.734077 -1.237815  183.634164\n",
       "97  0.010233  0.140761 -0.981509   17.531189\n",
       "98 -0.234587 -0.232030 -1.415371  -63.202789\n",
       "99 -0.327662 -0.444956 -0.392108 -125.373405\n",
       "\n",
       "[100 rows x 4 columns]"
      ],
      "text/html": [
       "<div>\n",
       "<style scoped>\n",
       "    .dataframe tbody tr th:only-of-type {\n",
       "        vertical-align: middle;\n",
       "    }\n",
       "\n",
       "    .dataframe tbody tr th {\n",
       "        vertical-align: top;\n",
       "    }\n",
       "\n",
       "    .dataframe thead th {\n",
       "        text-align: right;\n",
       "    }\n",
       "</style>\n",
       "<table border=\"1\" class=\"dataframe\">\n",
       "  <thead>\n",
       "    <tr style=\"text-align: right;\">\n",
       "      <th></th>\n",
       "      <th>X1</th>\n",
       "      <th>X2</th>\n",
       "      <th>X3</th>\n",
       "      <th>y</th>\n",
       "    </tr>\n",
       "  </thead>\n",
       "  <tbody>\n",
       "    <tr>\n",
       "      <th>0</th>\n",
       "      <td>-0.792521</td>\n",
       "      <td>-0.544164</td>\n",
       "      <td>-0.114736</td>\n",
       "      <td>13.480582</td>\n",
       "    </tr>\n",
       "    <tr>\n",
       "      <th>1</th>\n",
       "      <td>0.280992</td>\n",
       "      <td>0.211860</td>\n",
       "      <td>-0.622700</td>\n",
       "      <td>-18.902685</td>\n",
       "    </tr>\n",
       "    <tr>\n",
       "      <th>2</th>\n",
       "      <td>0.791032</td>\n",
       "      <td>1.114876</td>\n",
       "      <td>-0.909387</td>\n",
       "      <td>110.450979</td>\n",
       "    </tr>\n",
       "    <tr>\n",
       "      <th>3</th>\n",
       "      <td>0.625667</td>\n",
       "      <td>1.387182</td>\n",
       "      <td>-0.857158</td>\n",
       "      <td>-78.162124</td>\n",
       "    </tr>\n",
       "    <tr>\n",
       "      <th>4</th>\n",
       "      <td>-0.342715</td>\n",
       "      <td>-0.459791</td>\n",
       "      <td>-0.802277</td>\n",
       "      <td>-35.728094</td>\n",
       "    </tr>\n",
       "    <tr>\n",
       "      <th>...</th>\n",
       "      <td>...</td>\n",
       "      <td>...</td>\n",
       "      <td>...</td>\n",
       "      <td>...</td>\n",
       "    </tr>\n",
       "    <tr>\n",
       "      <th>95</th>\n",
       "      <td>0.651391</td>\n",
       "      <td>-0.080366</td>\n",
       "      <td>-0.315269</td>\n",
       "      <td>68.841646</td>\n",
       "    </tr>\n",
       "    <tr>\n",
       "      <th>96</th>\n",
       "      <td>1.586017</td>\n",
       "      <td>1.734077</td>\n",
       "      <td>-1.237815</td>\n",
       "      <td>183.634164</td>\n",
       "    </tr>\n",
       "    <tr>\n",
       "      <th>97</th>\n",
       "      <td>0.010233</td>\n",
       "      <td>0.140761</td>\n",
       "      <td>-0.981509</td>\n",
       "      <td>17.531189</td>\n",
       "    </tr>\n",
       "    <tr>\n",
       "      <th>98</th>\n",
       "      <td>-0.234587</td>\n",
       "      <td>-0.232030</td>\n",
       "      <td>-1.415371</td>\n",
       "      <td>-63.202789</td>\n",
       "    </tr>\n",
       "    <tr>\n",
       "      <th>99</th>\n",
       "      <td>-0.327662</td>\n",
       "      <td>-0.444956</td>\n",
       "      <td>-0.392108</td>\n",
       "      <td>-125.373405</td>\n",
       "    </tr>\n",
       "  </tbody>\n",
       "</table>\n",
       "<p>100 rows × 4 columns</p>\n",
       "</div>"
      ]
     },
     "execution_count": 57,
     "metadata": {},
     "output_type": "execute_result"
    }
   ],
   "execution_count": 57
  },
  {
   "metadata": {
    "ExecuteTime": {
     "end_time": "2025-02-05T02:10:58.668247Z",
     "start_time": "2025-02-05T02:10:58.520833Z"
    }
   },
   "cell_type": "code",
   "source": [
    "corr_matrix = data.corr()\n",
    "sns.heatmap(corr_matrix, annot=True)"
   ],
   "id": "e2626908d05fff69",
   "outputs": [
    {
     "data": {
      "text/plain": [
       "<Axes: >"
      ]
     },
     "execution_count": 58,
     "metadata": {},
     "output_type": "execute_result"
    },
    {
     "data": {
      "text/plain": [
       "<Figure size 640x480 with 2 Axes>"
      ],
      "image/png": "[encoded data removed]"
     },
     "metadata": {},
     "output_type": "display_data"
    }
   ],
   "execution_count": 58
  },
  {
   "metadata": {},
   "cell_type": "code",
   "outputs": [],
   "execution_count": null,
   "source": "# We can notice X1 and X2 have correlation between them",
   "id": "44e30342a85a9107"
  },
  {
   "metadata": {
    "ExecuteTime": {
     "end_time": "2025-02-05T02:14:24.657159Z",
     "start_time": "2025-02-05T02:14:24.647878Z"
    }
   },
   "cell_type": "code",
   "source": [
    "data['X1_X2_combined'] = (data['X1'] + data['X2']) / 2\n",
    "\n",
    "data_with_constant_all = sm.add_constant(data[['X1', 'X2', 'X3']])\n",
    "data_with_constant_combined = sm.add_constant(data[['X1_X2_combined', 'X3']])\n",
    "\n",
    "model_all = sm.OLS(data['y'], data_with_constant_all).fit()"
   ],
   "id": "a6dfabb80986dcdb",
   "outputs": [],
   "execution_count": 62
  },
  {
   "metadata": {
    "ExecuteTime": {
     "end_time": "2025-02-05T02:14:25.225580Z",
     "start_time": "2025-02-05T02:14:25.214922Z"
    }
   },
   "cell_type": "code",
   "source": [
    "print('Regression Summary for the model with all predictors')\n",
    "print(model_all.summary())"
   ],
   "id": "51e09fc5b0ac370a",
   "outputs": [
    {
     "name": "stdout",
     "output_type": "stream",
     "text": [
      "Regression Summary for the model with all predictors\n",
      "                            OLS Regression Results                            \n",
      "==============================================================================\n",
      "Dep. Variable:                      y   R-squared:                       0.034\n",
      "Model:                            OLS   Adj. R-squared:                  0.004\n",
      "Method:                 Least Squares   F-statistic:                     1.122\n",
      "Date:                Tue, 04 Feb 2025   Prob (F-statistic):              0.344\n",
      "Time:                        18:14:25   Log-Likelihood:                -581.96\n",
      "No. Observations:                 100   AIC:                             1172.\n",
      "Df Residuals:                      96   BIC:                             1182.\n",
      "Df Model:                           3                                         \n",
      "Covariance Type:            nonrobust                                         \n",
      "==============================================================================\n",
      "                 coef    std err          t      P>|t|      [0.025      0.975]\n",
      "------------------------------------------------------------------------------\n",
      "const          5.6185      8.572      0.655      0.514     -11.397      22.634\n",
      "X1             0.9804     21.591      0.045      0.964     -41.877      43.838\n",
      "X2            13.9157     18.451      0.754      0.453     -22.710      50.542\n",
      "X3             6.8796      8.552      0.804      0.423     -10.095      23.854\n",
      "==============================================================================\n",
      "Omnibus:                        8.100   Durbin-Watson:                   2.070\n",
      "Prob(Omnibus):                  0.017   Jarque-Bera (JB):                8.233\n",
      "Skew:                           0.531   Prob(JB):                       0.0163\n",
      "Kurtosis:                       3.921   Cond. No.                         4.13\n",
      "==============================================================================\n",
      "\n",
      "Notes:\n",
      "[1] Standard Errors assume that the covariance matrix of the errors is correctly specified.\n"
     ]
    }
   ],
   "execution_count": 63
  },
  {
   "metadata": {
    "ExecuteTime": {
     "end_time": "2025-02-05T02:15:58.946914Z",
     "start_time": "2025-02-05T02:15:58.935283Z"
    }
   },
   "cell_type": "code",
   "source": [
    "model_combined = sm.OLS(data['y'], data_with_constant_combined).fit()\n",
    "\n",
    "print('Regressing summary for the model with combined predictors (X1_X2_combined and X3)')\n",
    "print(model_combined.summary())"
   ],
   "id": "dd1c7671b372594c",
   "outputs": [
    {
     "name": "stdout",
     "output_type": "stream",
     "text": [
      "Regressing summary for the model with combined predictors (X1_X2_combined and X3)\n",
      "                            OLS Regression Results                            \n",
      "==============================================================================\n",
      "Dep. Variable:                      y   R-squared:                       0.033\n",
      "Model:                            OLS   Adj. R-squared:                  0.013\n",
      "Method:                 Least Squares   F-statistic:                     1.643\n",
      "Date:                Tue, 04 Feb 2025   Prob (F-statistic):              0.199\n",
      "Time:                        18:15:58   Log-Likelihood:                -582.02\n",
      "No. Observations:                 100   AIC:                             1170.\n",
      "Df Residuals:                      97   BIC:                             1178.\n",
      "Df Model:                           2                                         \n",
      "Covariance Type:            nonrobust                                         \n",
      "==================================================================================\n",
      "                     coef    std err          t      P>|t|      [0.025      0.975]\n",
      "----------------------------------------------------------------------------------\n",
      "const              5.2059      8.443      0.617      0.539     -11.552      21.963\n",
      "X1_X2_combined    15.9730      9.594      1.665      0.099      -3.068      35.014\n",
      "X3                 6.8469      8.512      0.804      0.423     -10.047      23.740\n",
      "==============================================================================\n",
      "Omnibus:                        8.244   Durbin-Watson:                   2.077\n",
      "Prob(Omnibus):                  0.016   Jarque-Bera (JB):                8.431\n",
      "Skew:                           0.536   Prob(JB):                       0.0148\n",
      "Kurtosis:                       3.935   Cond. No.                         1.27\n",
      "==============================================================================\n",
      "\n",
      "Notes:\n",
      "[1] Standard Errors assume that the covariance matrix of the errors is correctly specified.\n"
     ]
    }
   ],
   "execution_count": 65
  },
  {
   "metadata": {},
   "cell_type": "markdown",
   "source": "### 4. Use Partial Least Squares Regression (PLS) ",
   "id": "5e9efc88ac0145d1"
  },
  {
   "metadata": {
    "ExecuteTime": {
     "end_time": "2025-02-05T02:20:26.775881Z",
     "start_time": "2025-02-05T02:20:26.767768Z"
    }
   },
   "cell_type": "code",
   "source": [
    "from sklearn.model_selection import train_test_split\n",
    "from sklearn.metrics import mean_squared_error\n",
    "from sklearn.cross_decomposition import PLSRegression\n",
    "\n",
    "np.random.seed(42)\n",
    "X, y = make_regression(n_samples=100, n_features=3, noise=0.5, random_state=42)\n",
    "X[:, 1] = X[:, 0] + 0.5 * np.random.normal(size=100) # Introducing multi-coll between cols 0 and 1\n",
    "\n",
    "data = pd.DataFrame(X, columns=['X1', 'X2', 'X3'])\n",
    "data['y'] = y\n",
    "data"
   ],
   "id": "2dbd4040d6e02260",
   "outputs": [
    {
     "data": {
      "text/plain": [
       "          X1        X2        X3           y\n",
       "0  -0.792521 -0.544164 -0.114736   13.480582\n",
       "1   0.280992  0.211860 -0.622700  -18.902685\n",
       "2   0.791032  1.114876 -0.909387  110.450979\n",
       "3   0.625667  1.387182 -0.857158  -78.162124\n",
       "4  -0.342715 -0.459791 -0.802277  -35.728094\n",
       "..       ...       ...       ...         ...\n",
       "95  0.651391 -0.080366 -0.315269   68.841646\n",
       "96  1.586017  1.734077 -1.237815  183.634164\n",
       "97  0.010233  0.140761 -0.981509   17.531189\n",
       "98 -0.234587 -0.232030 -1.415371  -63.202789\n",
       "99 -0.327662 -0.444956 -0.392108 -125.373405\n",
       "\n",
       "[100 rows x 4 columns]"
      ],
      "text/html": [
       "<div>\n",
       "<style scoped>\n",
       "    .dataframe tbody tr th:only-of-type {\n",
       "        vertical-align: middle;\n",
       "    }\n",
       "\n",
       "    .dataframe tbody tr th {\n",
       "        vertical-align: top;\n",
       "    }\n",
       "\n",
       "    .dataframe thead th {\n",
       "        text-align: right;\n",
       "    }\n",
       "</style>\n",
       "<table border=\"1\" class=\"dataframe\">\n",
       "  <thead>\n",
       "    <tr style=\"text-align: right;\">\n",
       "      <th></th>\n",
       "      <th>X1</th>\n",
       "      <th>X2</th>\n",
       "      <th>X3</th>\n",
       "      <th>y</th>\n",
       "    </tr>\n",
       "  </thead>\n",
       "  <tbody>\n",
       "    <tr>\n",
       "      <th>0</th>\n",
       "      <td>-0.792521</td>\n",
       "      <td>-0.544164</td>\n",
       "      <td>-0.114736</td>\n",
       "      <td>13.480582</td>\n",
       "    </tr>\n",
       "    <tr>\n",
       "      <th>1</th>\n",
       "      <td>0.280992</td>\n",
       "      <td>0.211860</td>\n",
       "      <td>-0.622700</td>\n",
       "      <td>-18.902685</td>\n",
       "    </tr>\n",
       "    <tr>\n",
       "      <th>2</th>\n",
       "      <td>0.791032</td>\n",
       "      <td>1.114876</td>\n",
       "      <td>-0.909387</td>\n",
       "      <td>110.450979</td>\n",
       "    </tr>\n",
       "    <tr>\n",
       "      <th>3</th>\n",
       "      <td>0.625667</td>\n",
       "      <td>1.387182</td>\n",
       "      <td>-0.857158</td>\n",
       "      <td>-78.162124</td>\n",
       "    </tr>\n",
       "    <tr>\n",
       "      <th>4</th>\n",
       "      <td>-0.342715</td>\n",
       "      <td>-0.459791</td>\n",
       "      <td>-0.802277</td>\n",
       "      <td>-35.728094</td>\n",
       "    </tr>\n",
       "    <tr>\n",
       "      <th>...</th>\n",
       "      <td>...</td>\n",
       "      <td>...</td>\n",
       "      <td>...</td>\n",
       "      <td>...</td>\n",
       "    </tr>\n",
       "    <tr>\n",
       "      <th>95</th>\n",
       "      <td>0.651391</td>\n",
       "      <td>-0.080366</td>\n",
       "      <td>-0.315269</td>\n",
       "      <td>68.841646</td>\n",
       "    </tr>\n",
       "    <tr>\n",
       "      <th>96</th>\n",
       "      <td>1.586017</td>\n",
       "      <td>1.734077</td>\n",
       "      <td>-1.237815</td>\n",
       "      <td>183.634164</td>\n",
       "    </tr>\n",
       "    <tr>\n",
       "      <th>97</th>\n",
       "      <td>0.010233</td>\n",
       "      <td>0.140761</td>\n",
       "      <td>-0.981509</td>\n",
       "      <td>17.531189</td>\n",
       "    </tr>\n",
       "    <tr>\n",
       "      <th>98</th>\n",
       "      <td>-0.234587</td>\n",
       "      <td>-0.232030</td>\n",
       "      <td>-1.415371</td>\n",
       "      <td>-63.202789</td>\n",
       "    </tr>\n",
       "    <tr>\n",
       "      <th>99</th>\n",
       "      <td>-0.327662</td>\n",
       "      <td>-0.444956</td>\n",
       "      <td>-0.392108</td>\n",
       "      <td>-125.373405</td>\n",
       "    </tr>\n",
       "  </tbody>\n",
       "</table>\n",
       "<p>100 rows × 4 columns</p>\n",
       "</div>"
      ]
     },
     "execution_count": 68,
     "metadata": {},
     "output_type": "execute_result"
    }
   ],
   "execution_count": 68
  },
  {
   "metadata": {
    "ExecuteTime": {
     "end_time": "2025-02-05T02:20:27.205521Z",
     "start_time": "2025-02-05T02:20:27.199498Z"
    }
   },
   "cell_type": "code",
   "source": [
    "X_train, X_test, y_train, y_test = train_test_split(data[['X1', 'X2', 'X3']], data['y'], random_state=42, test_size=0.2)\n",
    "print(X_train.shape)\n",
    "print(X_test.shape)"
   ],
   "id": "d0e5801aa3ac88f2",
   "outputs": [
    {
     "name": "stdout",
     "output_type": "stream",
     "text": [
      "(80, 3)\n",
      "(20, 3)\n"
     ]
    }
   ],
   "execution_count": 69
  },
  {
   "metadata": {
    "ExecuteTime": {
     "end_time": "2025-02-05T02:20:55.484338Z",
     "start_time": "2025-02-05T02:20:55.460247Z"
    }
   },
   "cell_type": "code",
   "source": [
    "pls_model = PLSRegression(n_components=2)\n",
    "pls_model.fit(X_train, y_train)"
   ],
   "id": "3675fa3bf8a845c5",
   "outputs": [
    {
     "data": {
      "text/plain": [
       "PLSRegression()"
      ],
      "text/html": [
       "<style>#sk-container-id-1 {\n",
       "  /* Definition of color scheme common for light and dark mode */\n",
       "  --sklearn-color-text: black;\n",
       "  --sklearn-color-line: gray;\n",
       "  /* Definition of color scheme for unfitted estimators */\n",
       "  --sklearn-color-unfitted-level-0: #fff5e6;\n",
       "  --sklearn-color-unfitted-level-1: #f6e4d2;\n",
       "  --sklearn-color-unfitted-level-2: #ffe0b3;\n",
       "  --sklearn-color-unfitted-level-3: chocolate;\n",
       "  /* Definition of color scheme for fitted estimators */\n",
       "  --sklearn-color-fitted-level-0: #f0f8ff;\n",
       "  --sklearn-color-fitted-level-1: #d4ebff;\n",
       "  --sklearn-color-fitted-level-2: #b3dbfd;\n",
       "  --sklearn-color-fitted-level-3: cornflowerblue;\n",
       "\n",
       "  /* Specific color for light theme */\n",
       "  --sklearn-color-text-on-default-background: var(--sg-text-color, var(--theme-code-foreground, var(--jp-content-font-color1, black)));\n",
       "  --sklearn-color-background: var(--sg-background-color, var(--theme-background, var(--jp-layout-color0, white)));\n",
       "  --sklearn-color-border-box: var(--sg-text-color, var(--theme-code-foreground, var(--jp-content-font-color1, black)));\n",
       "  --sklearn-color-icon: #696969;\n",
       "\n",
       "  @media (prefers-color-scheme: dark) {\n",
       "    /* Redefinition of color scheme for dark theme */\n",
       "    --sklearn-color-text-on-default-background: var(--sg-text-color, var(--theme-code-foreground, var(--jp-content-font-color1, white)));\n",
       "    --sklearn-color-background: var(--sg-background-color, var(--theme-background, var(--jp-layout-color0, #111)));\n",
       "    --sklearn-color-border-box: var(--sg-text-color, var(--theme-code-foreground, var(--jp-content-font-color1, white)));\n",
       "    --sklearn-color-icon: #878787;\n",
       "  }\n",
       "}\n",
       "\n",
       "#sk-container-id-1 {\n",
       "  color: var(--sklearn-color-text);\n",
       "}\n",
       "\n",
       "#sk-container-id-1 pre {\n",
       "  padding: 0;\n",
       "}\n",
       "\n",
       "#sk-container-id-1 input.sk-hidden--visually {\n",
       "  border: 0;\n",
       "  clip: rect(1px 1px 1px 1px);\n",
       "  clip: rect(1px, 1px, 1px, 1px);\n",
       "  height: 1px;\n",
       "  margin: -1px;\n",
       "  overflow: hidden;\n",
       "  padding: 0;\n",
       "  position: absolute;\n",
       "  width: 1px;\n",
       "}\n",
       "\n",
       "#sk-container-id-1 div.sk-dashed-wrapped {\n",
       "  border: 1px dashed var(--sklearn-color-line);\n",
       "  margin: 0 0.4em 0.5em 0.4em;\n",
       "  box-sizing: border-box;\n",
       "  padding-bottom: 0.4em;\n",
       "  background-color: var(--sklearn-color-background);\n",
       "}\n",
       "\n",
       "#sk-container-id-1 div.sk-container {\n",
       "  /* jupyter's `normalize.less` sets `[hidden] { display: none; }`\n",
       "     but bootstrap.min.css set `[hidden] { display: none !important; }`\n",
       "     so we also need the `!important` here to be able to override the\n",
       "     default hidden behavior on the sphinx rendered scikit-learn.org.\n",
       "     See: https://github.com/scikit-learn/scikit-learn/issues/21755 */\n",
       "  display: inline-block !important;\n",
       "  position: relative;\n",
       "}\n",
       "\n",
       "#sk-container-id-1 div.sk-text-repr-fallback {\n",
       "  display: none;\n",
       "}\n",
       "\n",
       "div.sk-parallel-item,\n",
       "div.sk-serial,\n",
       "div.sk-item {\n",
       "  /* draw centered vertical line to link estimators */\n",
       "  background-image: linear-gradient(var(--sklearn-color-text-on-default-background), var(--sklearn-color-text-on-default-background));\n",
       "  background-size: 2px 100%;\n",
       "  background-repeat: no-repeat;\n",
       "  background-position: center center;\n",
       "}\n",
       "\n",
       "/* Parallel-specific style estimator block */\n",
       "\n",
       "#sk-container-id-1 div.sk-parallel-item::after {\n",
       "  content: \"\";\n",
       "  width: 100%;\n",
       "  border-bottom: 2px solid var(--sklearn-color-text-on-default-background);\n",
       "  flex-grow: 1;\n",
       "}\n",
       "\n",
       "#sk-container-id-1 div.sk-parallel {\n",
       "  display: flex;\n",
       "  align-items: stretch;\n",
       "  justify-content: center;\n",
       "  background-color: var(--sklearn-color-background);\n",
       "  position: relative;\n",
       "}\n",
       "\n",
       "#sk-container-id-1 div.sk-parallel-item {\n",
       "  display: flex;\n",
       "  flex-direction: column;\n",
       "}\n",
       "\n",
       "#sk-container-id-1 div.sk-parallel-item:first-child::after {\n",
       "  align-self: flex-end;\n",
       "  width: 50%;\n",
       "}\n",
       "\n",
       "#sk-container-id-1 div.sk-parallel-item:last-child::after {\n",
       "  align-self: flex-start;\n",
       "  width: 50%;\n",
       "}\n",
       "\n",
       "#sk-container-id-1 div.sk-parallel-item:only-child::after {\n",
       "  width: 0;\n",
       "}\n",
       "\n",
       "/* Serial-specific style estimator block */\n",
       "\n",
       "#sk-container-id-1 div.sk-serial {\n",
       "  display: flex;\n",
       "  flex-direction: column;\n",
       "  align-items: center;\n",
       "  background-color: var(--sklearn-color-background);\n",
       "  padding-right: 1em;\n",
       "  padding-left: 1em;\n",
       "}\n",
       "\n",
       "\n",
       "/* Toggleable style: style used for estimator/Pipeline/ColumnTransformer box that is\n",
       "clickable and can be expanded/collapsed.\n",
       "- Pipeline and ColumnTransformer use this feature and define the default style\n",
       "- Estimators will overwrite some part of the style using the `sk-estimator` class\n",
       "*/\n",
       "\n",
       "/* Pipeline and ColumnTransformer style (default) */\n",
       "\n",
       "#sk-container-id-1 div.sk-toggleable {\n",
       "  /* Default theme specific background. It is overwritten whether we have a\n",
       "  specific estimator or a Pipeline/ColumnTransformer */\n",
       "  background-color: var(--sklearn-color-background);\n",
       "}\n",
       "\n",
       "/* Toggleable label */\n",
       "#sk-container-id-1 label.sk-toggleable__label {\n",
       "  cursor: pointer;\n",
       "  display: block;\n",
       "  width: 100%;\n",
       "  margin-bottom: 0;\n",
       "  padding: 0.5em;\n",
       "  box-sizing: border-box;\n",
       "  text-align: center;\n",
       "}\n",
       "\n",
       "#sk-container-id-1 label.sk-toggleable__label-arrow:before {\n",
       "  /* Arrow on the left of the label */\n",
       "  content: \"▸\";\n",
       "  float: left;\n",
       "  margin-right: 0.25em;\n",
       "  color: var(--sklearn-color-icon);\n",
       "}\n",
       "\n",
       "#sk-container-id-1 label.sk-toggleable__label-arrow:hover:before {\n",
       "  color: var(--sklearn-color-text);\n",
       "}\n",
       "\n",
       "/* Toggleable content - dropdown */\n",
       "\n",
       "#sk-container-id-1 div.sk-toggleable__content {\n",
       "  max-height: 0;\n",
       "  max-width: 0;\n",
       "  overflow: hidden;\n",
       "  text-align: left;\n",
       "  /* unfitted */\n",
       "  background-color: var(--sklearn-color-unfitted-level-0);\n",
       "}\n",
       "\n",
       "#sk-container-id-1 div.sk-toggleable__content.fitted {\n",
       "  /* fitted */\n",
       "  background-color: var(--sklearn-color-fitted-level-0);\n",
       "}\n",
       "\n",
       "#sk-container-id-1 div.sk-toggleable__content pre {\n",
       "  margin: 0.2em;\n",
       "  border-radius: 0.25em;\n",
       "  color: var(--sklearn-color-text);\n",
       "  /* unfitted */\n",
       "  background-color: var(--sklearn-color-unfitted-level-0);\n",
       "}\n",
       "\n",
       "#sk-container-id-1 div.sk-toggleable__content.fitted pre {\n",
       "  /* unfitted */\n",
       "  background-color: var(--sklearn-color-fitted-level-0);\n",
       "}\n",
       "\n",
       "#sk-container-id-1 input.sk-toggleable__control:checked~div.sk-toggleable__content {\n",
       "  /* Expand drop-down */\n",
       "  max-height: 200px;\n",
       "  max-width: 100%;\n",
       "  overflow: auto;\n",
       "}\n",
       "\n",
       "#sk-container-id-1 input.sk-toggleable__control:checked~label.sk-toggleable__label-arrow:before {\n",
       "  content: \"▾\";\n",
       "}\n",
       "\n",
       "/* Pipeline/ColumnTransformer-specific style */\n",
       "\n",
       "#sk-container-id-1 div.sk-label input.sk-toggleable__control:checked~label.sk-toggleable__label {\n",
       "  color: var(--sklearn-color-text);\n",
       "  background-color: var(--sklearn-color-unfitted-level-2);\n",
       "}\n",
       "\n",
       "#sk-container-id-1 div.sk-label.fitted input.sk-toggleable__control:checked~label.sk-toggleable__label {\n",
       "  background-color: var(--sklearn-color-fitted-level-2);\n",
       "}\n",
       "\n",
       "/* Estimator-specific style */\n",
       "\n",
       "/* Colorize estimator box */\n",
       "#sk-container-id-1 div.sk-estimator input.sk-toggleable__control:checked~label.sk-toggleable__label {\n",
       "  /* unfitted */\n",
       "  background-color: var(--sklearn-color-unfitted-level-2);\n",
       "}\n",
       "\n",
       "#sk-container-id-1 div.sk-estimator.fitted input.sk-toggleable__control:checked~label.sk-toggleable__label {\n",
       "  /* fitted */\n",
       "  background-color: var(--sklearn-color-fitted-level-2);\n",
       "}\n",
       "\n",
       "#sk-container-id-1 div.sk-label label.sk-toggleable__label,\n",
       "#sk-container-id-1 div.sk-label label {\n",
       "  /* The background is the default theme color */\n",
       "  color: var(--sklearn-color-text-on-default-background);\n",
       "}\n",
       "\n",
       "/* On hover, darken the color of the background */\n",
       "#sk-container-id-1 div.sk-label:hover label.sk-toggleable__label {\n",
       "  color: var(--sklearn-color-text);\n",
       "  background-color: var(--sklearn-color-unfitted-level-2);\n",
       "}\n",
       "\n",
       "/* Label box, darken color on hover, fitted */\n",
       "#sk-container-id-1 div.sk-label.fitted:hover label.sk-toggleable__label.fitted {\n",
       "  color: var(--sklearn-color-text);\n",
       "  background-color: var(--sklearn-color-fitted-level-2);\n",
       "}\n",
       "\n",
       "/* Estimator label */\n",
       "\n",
       "#sk-container-id-1 div.sk-label label {\n",
       "  font-family: monospace;\n",
       "  font-weight: bold;\n",
       "  display: inline-block;\n",
       "  line-height: 1.2em;\n",
       "}\n",
       "\n",
       "#sk-container-id-1 div.sk-label-container {\n",
       "  text-align: center;\n",
       "}\n",
       "\n",
       "/* Estimator-specific */\n",
       "#sk-container-id-1 div.sk-estimator {\n",
       "  font-family: monospace;\n",
       "  border: 1px dotted var(--sklearn-color-border-box);\n",
       "  border-radius: 0.25em;\n",
       "  box-sizing: border-box;\n",
       "  margin-bottom: 0.5em;\n",
       "  /* unfitted */\n",
       "  background-color: var(--sklearn-color-unfitted-level-0);\n",
       "}\n",
       "\n",
       "#sk-container-id-1 div.sk-estimator.fitted {\n",
       "  /* fitted */\n",
       "  background-color: var(--sklearn-color-fitted-level-0);\n",
       "}\n",
       "\n",
       "/* on hover */\n",
       "#sk-container-id-1 div.sk-estimator:hover {\n",
       "  /* unfitted */\n",
       "  background-color: var(--sklearn-color-unfitted-level-2);\n",
       "}\n",
       "\n",
       "#sk-container-id-1 div.sk-estimator.fitted:hover {\n",
       "  /* fitted */\n",
       "  background-color: var(--sklearn-color-fitted-level-2);\n",
       "}\n",
       "\n",
       "/* Specification for estimator info (e.g. \"i\" and \"?\") */\n",
       "\n",
       "/* Common style for \"i\" and \"?\" */\n",
       "\n",
       ".sk-estimator-doc-link,\n",
       "a:link.sk-estimator-doc-link,\n",
       "a:visited.sk-estimator-doc-link {\n",
       "  float: right;\n",
       "  font-size: smaller;\n",
       "  line-height: 1em;\n",
       "  font-family: monospace;\n",
       "  background-color: var(--sklearn-color-background);\n",
       "  border-radius: 1em;\n",
       "  height: 1em;\n",
       "  width: 1em;\n",
       "  text-decoration: none !important;\n",
       "  margin-left: 1ex;\n",
       "  /* unfitted */\n",
       "  border: var(--sklearn-color-unfitted-level-1) 1pt solid;\n",
       "  color: var(--sklearn-color-unfitted-level-1);\n",
       "}\n",
       "\n",
       ".sk-estimator-doc-link.fitted,\n",
       "a:link.sk-estimator-doc-link.fitted,\n",
       "a:visited.sk-estimator-doc-link.fitted {\n",
       "  /* fitted */\n",
       "  border: var(--sklearn-color-fitted-level-1) 1pt solid;\n",
       "  color: var(--sklearn-color-fitted-level-1);\n",
       "}\n",
       "\n",
       "/* On hover */\n",
       "div.sk-estimator:hover .sk-estimator-doc-link:hover,\n",
       ".sk-estimator-doc-link:hover,\n",
       "div.sk-label-container:hover .sk-estimator-doc-link:hover,\n",
       ".sk-estimator-doc-link:hover {\n",
       "  /* unfitted */\n",
       "  background-color: var(--sklearn-color-unfitted-level-3);\n",
       "  color: var(--sklearn-color-background);\n",
       "  text-decoration: none;\n",
       "}\n",
       "\n",
       "div.sk-estimator.fitted:hover .sk-estimator-doc-link.fitted:hover,\n",
       ".sk-estimator-doc-link.fitted:hover,\n",
       "div.sk-label-container:hover .sk-estimator-doc-link.fitted:hover,\n",
       ".sk-estimator-doc-link.fitted:hover {\n",
       "  /* fitted */\n",
       "  background-color: var(--sklearn-color-fitted-level-3);\n",
       "  color: var(--sklearn-color-background);\n",
       "  text-decoration: none;\n",
       "}\n",
       "\n",
       "/* Span, style for the box shown on hovering the info icon */\n",
       ".sk-estimator-doc-link span {\n",
       "  display: none;\n",
       "  z-index: 9999;\n",
       "  position: relative;\n",
       "  font-weight: normal;\n",
       "  right: .2ex;\n",
       "  padding: .5ex;\n",
       "  margin: .5ex;\n",
       "  width: min-content;\n",
       "  min-width: 20ex;\n",
       "  max-width: 50ex;\n",
       "  color: var(--sklearn-color-text);\n",
       "  box-shadow: 2pt 2pt 4pt #999;\n",
       "  /* unfitted */\n",
       "  background: var(--sklearn-color-unfitted-level-0);\n",
       "  border: .5pt solid var(--sklearn-color-unfitted-level-3);\n",
       "}\n",
       "\n",
       ".sk-estimator-doc-link.fitted span {\n",
       "  /* fitted */\n",
       "  background: var(--sklearn-color-fitted-level-0);\n",
       "  border: var(--sklearn-color-fitted-level-3);\n",
       "}\n",
       "\n",
       ".sk-estimator-doc-link:hover span {\n",
       "  display: block;\n",
       "}\n",
       "\n",
       "/* \"?\"-specific style due to the `<a>` HTML tag */\n",
       "\n",
       "#sk-container-id-1 a.estimator_doc_link {\n",
       "  float: right;\n",
       "  font-size: 1rem;\n",
       "  line-height: 1em;\n",
       "  font-family: monospace;\n",
       "  background-color: var(--sklearn-color-background);\n",
       "  border-radius: 1rem;\n",
       "  height: 1rem;\n",
       "  width: 1rem;\n",
       "  text-decoration: none;\n",
       "  /* unfitted */\n",
       "  color: var(--sklearn-color-unfitted-level-1);\n",
       "  border: var(--sklearn-color-unfitted-level-1) 1pt solid;\n",
       "}\n",
       "\n",
       "#sk-container-id-1 a.estimator_doc_link.fitted {\n",
       "  /* fitted */\n",
       "  border: var(--sklearn-color-fitted-level-1) 1pt solid;\n",
       "  color: var(--sklearn-color-fitted-level-1);\n",
       "}\n",
       "\n",
       "/* On hover */\n",
       "#sk-container-id-1 a.estimator_doc_link:hover {\n",
       "  /* unfitted */\n",
       "  background-color: var(--sklearn-color-unfitted-level-3);\n",
       "  color: var(--sklearn-color-background);\n",
       "  text-decoration: none;\n",
       "}\n",
       "\n",
       "#sk-container-id-1 a.estimator_doc_link.fitted:hover {\n",
       "  /* fitted */\n",
       "  background-color: var(--sklearn-color-fitted-level-3);\n",
       "}\n",
       "</style><div id=\"sk-container-id-1\" class=\"sk-top-container\"><div class=\"sk-text-repr-fallback\"><pre>PLSRegression()</pre><b>In a Jupyter environment, please rerun this cell to show the HTML representation or trust the notebook. <br />On GitHub, the HTML representation is unable to render, please try loading this page with nbviewer.org.</b></div><div class=\"sk-container\" hidden><div class=\"sk-item\"><div class=\"sk-estimator fitted sk-toggleable\"><input class=\"sk-toggleable__control sk-hidden--visually\" id=\"sk-estimator-id-1\" type=\"checkbox\" checked><label for=\"sk-estimator-id-1\" class=\"sk-toggleable__label fitted sk-toggleable__label-arrow fitted\">&nbsp;&nbsp;PLSRegression<a class=\"sk-estimator-doc-link fitted\" rel=\"noreferrer\" target=\"_blank\" href=\"https://scikit-learn.org/1.5/modules/generated/sklearn.cross_decomposition.PLSRegression.html\">?<span>Documentation for PLSRegression</span></a><span class=\"sk-estimator-doc-link fitted\">i<span>Fitted</span></span></label><div class=\"sk-toggleable__content fitted\"><pre>PLSRegression()</pre></div> </div></div></div></div>"
      ]
     },
     "execution_count": 70,
     "metadata": {},
     "output_type": "execute_result"
    }
   ],
   "execution_count": 70
  },
  {
   "metadata": {
    "ExecuteTime": {
     "end_time": "2025-02-05T02:21:47.890764Z",
     "start_time": "2025-02-05T02:21:47.885778Z"
    }
   },
   "cell_type": "code",
   "source": [
    "y_pred = pls_model.predict(X_test)\n",
    "mse = mean_squared_error(y_test, y_pred)\n",
    "print('Mean Squared Error of PLS Model: ', mse)"
   ],
   "id": "bf7f4ba1d021d708",
   "outputs": [
    {
     "name": "stdout",
     "output_type": "stream",
     "text": [
      "Mean Squared Error of PLS Model:  7359.987203343638\n"
     ]
    }
   ],
   "execution_count": 71
  },
  {
   "metadata": {},
   "cell_type": "code",
   "outputs": [],
   "execution_count": null,
   "source": "# As you can see it is fairly high",
   "id": "3189b2b85b14ce6c"
  }
 ],
 "metadata": {
  "kernelspec": {
   "display_name": "Python 3",
   "language": "python",
   "name": "python3"
  },
  "language_info": {
   "codemirror_mode": {
    "name": "ipython",
    "version": 2
   },
   "file_extension": ".py",
   "mimetype": "text/x-python",
   "name": "python",
   "nbconvert_exporter": "python",
   "pygments_lexer": "ipython2",
   "version": "2.7.6"
  }
 },
 "nbformat": 4,
 "nbformat_minor": 5
}
