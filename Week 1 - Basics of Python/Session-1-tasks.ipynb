{
 "nbformat": 4,
 "nbformat_minor": 0,
 "metadata": {
  "colab": {
   "provenance": [
    {
     "file_id": "1j7D_owmjwodnY8zedxdpIOQIyB-GufeU",
     "timestamp": 1724113017385
    }
   ]
  },
  "kernelspec": {
   "name": "python3",
   "display_name": "Python 3 (ipykernel)",
   "language": "python"
  },
  "language_info": {
   "name": "python"
  }
 },
 "cells": [
  {
   "cell_type": "markdown",
   "source": [
    "# Task : Session 1\n",
    "Solve these questions own your own and try to test yourself what you have learned in the session.\n",
    "\n",
    "Happy Learning!"
   ],
   "metadata": {
    "id": "A05OG15VqOPF"
   }
  },
  {
   "cell_type": "markdown",
   "source": [
    "### Q1 :- Print the given strings as per stated format.\n",
    "\n",
    "**Given strings**:\n",
    "```\n",
    "\"Data\" \"Science\" \"Mentorship\" \"Program\"\n",
    "\"By\" \"CampusX\"\n",
    "```\n",
    "**Output**:\n",
    "```\n",
    "Data-Science-Mentorship-Program-started-By-CampusX\n",
    "```\n",
    "\n",
    "Concept- [Seperator and End]"
   ],
   "metadata": {
    "id": "2doIXf8bqe9_"
   }
  },
  {
   "cell_type": "code",
   "source": [
    "# Write your code here\n",
    "str1 = \"Data\"\n",
    "str2 = \"Science\"\n",
    "str3 = \"Mentorship\"\n",
    "str4 = \"Program\"\n",
    "str5 = \"By\"\n",
    "str6 = \"CampusX\"\n",
    "\n",
    "print(str1, str2, str3, str4, str5, str6, sep='-')"
   ],
   "metadata": {
    "id": "-em6d3KErDtp",
    "colab": {
     "base_uri": "https://localhost:8080/",
     "height": 0
    },
    "executionInfo": {
     "status": "ok",
     "timestamp": 1724113324017,
     "user_tz": 420,
     "elapsed": 294,
     "user": {
      "displayName": "Sajjad Uddin",
      "userId": "08557063944080806137"
     }
    },
    "outputId": "ec7d6968-9987-4c65-8da3-d9e96c38f058",
    "ExecuteTime": {
     "end_time": "2025-02-11T20:15:06.173156Z",
     "start_time": "2025-02-11T20:15:06.164024Z"
    }
   },
   "outputs": [
    {
     "name": "stdout",
     "output_type": "stream",
     "text": [
      "Data-Science-Mentorship-Program-By-CampusX\n"
     ]
    }
   ],
   "execution_count": 1
  },
  {
   "cell_type": "markdown",
   "source": [
    "### Q2:- Write a program that will convert celsius value to fahrenheit."
   ],
   "metadata": {
    "id": "1KUpN7ZTrC3_"
   }
  },
  {
   "cell_type": "code",
   "source": [
    "# Write your code here\n",
    "user_input = int(input('Enter the celcius value to convert it to fahrenheit: '))\n",
    "print(user_input)\n",
    "print((user_input * 9/5) + 32, \" fahrenheit\")"
   ],
   "metadata": {
    "id": "yxKYhYQiqWfj",
    "colab": {
     "base_uri": "https://localhost:8080/",
     "height": 0
    },
    "executionInfo": {
     "status": "ok",
     "timestamp": 1724113476216,
     "user_tz": 420,
     "elapsed": 3304,
     "user": {
      "displayName": "Sajjad Uddin",
      "userId": "08557063944080806137"
     }
    },
    "outputId": "b3e91592-e69c-4165-ff09-508a0326c0d2",
    "ExecuteTime": {
     "end_time": "2025-02-11T20:19:57.486835Z",
     "start_time": "2025-02-11T20:19:55.887023Z"
    }
   },
   "outputs": [
    {
     "name": "stdout",
     "output_type": "stream",
     "text": [
      "30\n",
      "86.0  fahrenheit\n"
     ]
    }
   ],
   "execution_count": 13
  },
  {
   "cell_type": "markdown",
   "source": [
    "### Q3:- Take 2 numbers as input from the user.Write a program to swap the numbers without using any special python syntax."
   ],
   "metadata": {
    "id": "RLrOBBJurLB2"
   }
  },
  {
   "cell_type": "code",
   "source": [
    "# Write your code here\n",
    "\n",
    "a = 3\n",
    "b = 5\n",
    "\n",
    "temp = a\n",
    "a = b\n",
    "b = temp\n",
    "\n",
    "print(a)\n",
    "print(b)"
   ],
   "metadata": {
    "id": "yPn7if0TrJ4F",
    "ExecuteTime": {
     "end_time": "2025-02-11T20:15:13.403245Z",
     "start_time": "2025-02-11T20:15:13.398941Z"
    }
   },
   "outputs": [
    {
     "name": "stdout",
     "output_type": "stream",
     "text": [
      "5\n",
      "3\n"
     ]
    }
   ],
   "execution_count": 3
  },
  {
   "cell_type": "markdown",
   "source": [
    "### Q4:- Write a program to find the euclidean distance between two coordinates.Take both the coordinates from the user as input."
   ],
   "metadata": {
    "id": "waLCP1bjr7ML"
   }
  },
  {
   "cell_type": "code",
   "source": [
    "# Write your code here\n",
    "x1, y1 = (input('Enter the x and y with a space: ')).split()\n",
    "x2, y2 = (input('Enter the second x and y with a space: ')).split()\n",
    "\n",
    "print(x1, y1)\n",
    "print(x2, y2)\n",
    "dist = ((int(x2) - int(x1))**2 + (int(y2) - int(y2))**2)**0.5\n",
    "print('The distance is: ', dist)"
   ],
   "metadata": {
    "id": "Pl1Sv-xnrxnH",
    "colab": {
     "base_uri": "https://localhost:8080/",
     "height": 0
    },
    "executionInfo": {
     "status": "ok",
     "timestamp": 1724113874194,
     "user_tz": 420,
     "elapsed": 4734,
     "user": {
      "displayName": "Sajjad Uddin",
      "userId": "08557063944080806137"
     }
    },
    "outputId": "f4304419-5721-49d4-f9a8-8905d2d7c254",
    "ExecuteTime": {
     "end_time": "2025-02-11T20:20:13.774969Z",
     "start_time": "2025-02-11T20:20:02.239371Z"
    }
   },
   "outputs": [
    {
     "name": "stdout",
     "output_type": "stream",
     "text": [
      "1 2\n",
      "6 9\n",
      "The distance is:  5.0\n"
     ]
    }
   ],
   "execution_count": 14
  },
  {
   "cell_type": "markdown",
   "source": [
    "### Q5:- Write a program to find the simple interest when the value of principle,rate of interest and time period is provided by the user.\n"
   ],
   "metadata": {
    "id": "VLrhg-FRsHjR"
   }
  },
  {
   "cell_type": "code",
   "source": [
    "# Write your code here\n",
    "principle, ROI, time_period = input('Enter the principle, rate of interest (per annum)and time period (in months) (with spaces) to calculate the simple interest: ').split()\n",
    "\n",
    "print('The Simple interest is: ', (int(principle)) * (int(ROI)/100) * (int(time_period)/12))"
   ],
   "metadata": {
    "id": "s40DlReZsTmY",
    "colab": {
     "base_uri": "https://localhost:8080/",
     "height": 0
    },
    "executionInfo": {
     "status": "ok",
     "timestamp": 1724114256741,
     "user_tz": 420,
     "elapsed": 2217,
     "user": {
      "displayName": "Sajjad Uddin",
      "userId": "08557063944080806137"
     }
    },
    "outputId": "daefab58-e632-43d7-b1a0-3bf4f13c5561",
    "ExecuteTime": {
     "end_time": "2025-02-11T20:16:17.574713Z",
     "start_time": "2025-02-11T20:15:48.927527Z"
    }
   },
   "outputs": [
    {
     "name": "stdout",
     "output_type": "stream",
     "text": [
      "The Simple interest is:  1666.6666666666667\n"
     ]
    }
   ],
   "execution_count": 5
  },
  {
   "cell_type": "markdown",
   "source": [
    "### Q6:- Write a program that will tell the number of dogs and chicken are there when the user will provide the value of total heads and legs.\n",
    "\n",
    "For example:\n",
    "Input:\n",
    "heads -> 4\n",
    "legs -> 12\n",
    "<br>\n",
    "Output:\n",
    "dogs -> 2\n",
    "chicken -> 2\n",
    "\n",
    "\n",
    "\n"
   ],
   "metadata": {
    "id": "LMy0BTUktYKa"
   }
  },
  {
   "cell_type": "code",
   "source": [
    "# Write your code here\n",
    "# chickens = (2 * heads - legs // 2)\n",
    "\n",
    "total_heads = int(input('Enter the total number of heads: '))\n",
    "total_legs = int(input('Enter the total number of legs: '))\n",
    "\n",
    "chicken = (2 * total_heads - total_legs // 2)\n",
    "dogs = total_heads - chicken\n",
    "print('The chicken are: ', chicken, '\\nThe dogs are: ', dogs)"
   ],
   "metadata": {
    "id": "XSBvJoA4tXaG",
    "colab": {
     "base_uri": "https://localhost:8080/"
    },
    "executionInfo": {
     "status": "ok",
     "timestamp": 1724116587104,
     "user_tz": 420,
     "elapsed": 3117,
     "user": {
      "displayName": "Sajjad Uddin",
      "userId": "08557063944080806137"
     }
    },
    "outputId": "68d96640-7729-4913-8df2-b327e146edd7",
    "ExecuteTime": {
     "end_time": "2025-02-11T20:18:02.022029Z",
     "start_time": "2025-02-11T20:17:58.403840Z"
    }
   },
   "outputs": [
    {
     "name": "stdout",
     "output_type": "stream",
     "text": [
      "The chicken are:  2 \n",
      "The dogs are:  2\n"
     ]
    }
   ],
   "execution_count": 12
  },
  {
   "cell_type": "markdown",
   "source": [
    "### Q7:- Write a program to find the sum of squares of first n natural numbers where n will be provided by the user."
   ],
   "metadata": {
    "id": "gJ7C5kZYt4BP"
   }
  },
  {
   "cell_type": "code",
   "source": [
    "# Write your code here\n",
    "n_numbers = int(input('Enter the natural numbers: '))\n",
    "sum = 0\n",
    "for i in range(1, n_numbers+1):\n",
    "  sum += i**2\n",
    "\n",
    "print(n_numbers)\n",
    "print(sum)"
   ],
   "metadata": {
    "id": "_tHsmEHzt2nX",
    "colab": {
     "base_uri": "https://localhost:8080/"
    },
    "executionInfo": {
     "status": "ok",
     "timestamp": 1724120980287,
     "user_tz": 420,
     "elapsed": 1842,
     "user": {
      "displayName": "Sajjad Uddin",
      "userId": "08557063944080806137"
     }
    },
    "outputId": "2d67350f-a1b8-499e-fdec-7151140a02ef",
    "ExecuteTime": {
     "end_time": "2025-02-11T20:20:49.165263Z",
     "start_time": "2025-02-11T20:20:47.690948Z"
    }
   },
   "outputs": [
    {
     "name": "stdout",
     "output_type": "stream",
     "text": [
      "10\n",
      "385\n"
     ]
    }
   ],
   "execution_count": 15
  },
  {
   "cell_type": "markdown",
   "source": [
    "### Q8:- Given the first 2 terms of an Arithmetic Series.Find the Nth term of the series. Assume all inputs are provided by the user."
   ],
   "metadata": {
    "id": "FHrMM7g-yG1h"
   }
  },
  {
   "cell_type": "code",
   "source": [
    "# Write your code here\n",
    "# Nth term=first term+(N−1)×d\n",
    "\n",
    "num1 = int(input('Enter the first number: '))\n",
    "num2 = int(input('Enter the second number: '))\n",
    "user_nth_term = int(input('Enter the Nth term you would like to know: '))\n",
    "\n",
    "d = num2 - num1\n",
    "nth_term = num1 + (user_nth_term - 1) * d\n",
    "print(num1)\n",
    "print(num2)\n",
    "print(user_nth_term)\n",
    "print('The Nth term is: ',nth_term)"
   ],
   "metadata": {
    "id": "go4_kmZmyVSx",
    "colab": {
     "base_uri": "https://localhost:8080/"
    },
    "executionInfo": {
     "status": "ok",
     "timestamp": 1724121252917,
     "user_tz": 420,
     "elapsed": 4560,
     "user": {
      "displayName": "Sajjad Uddin",
      "userId": "08557063944080806137"
     }
    },
    "outputId": "6a71647b-5839-4857-9853-5e259759e96f",
    "ExecuteTime": {
     "end_time": "2025-02-11T20:22:02.180764Z",
     "start_time": "2025-02-11T20:21:55.742051Z"
    }
   },
   "outputs": [
    {
     "name": "stdout",
     "output_type": "stream",
     "text": [
      "3\n",
      "6\n",
      "5\n",
      "The Nth term is:  15\n"
     ]
    }
   ],
   "execution_count": 17
  },
  {
   "cell_type": "markdown",
   "source": [
    "### Q9:- Given 2 fractions, find the sum of those 2 fractions.Take the numerator and denominator values of the fractions from the user."
   ],
   "metadata": {
    "id": "QgyRX_es1oum"
   }
  },
  {
   "cell_type": "code",
   "source": [
    "# Write your code here\n",
    "num1_num, num1_den = (input('Enter the first fraction (seperated by /): ')).split(sep = '/')\n",
    "num2_num, num2_den = (input('Enter the second fraction (seperated by /): ')).split(sep = '/')\n",
    "\n",
    "print('Sum of the fraction is: ', (int(num1_num)/int(num1_den)) + (int(num2_num)/int(num2_den)))"
   ],
   "metadata": {
    "id": "X05xqFS1yW16",
    "colab": {
     "base_uri": "https://localhost:8080/"
    },
    "executionInfo": {
     "status": "ok",
     "timestamp": 1724121546914,
     "user_tz": 420,
     "elapsed": 5230,
     "user": {
      "displayName": "Sajjad Uddin",
      "userId": "08557063944080806137"
     }
    },
    "outputId": "035b888c-0dd8-480d-95e4-405b39b11d26",
    "ExecuteTime": {
     "end_time": "2025-02-11T20:16:54.275043Z",
     "start_time": "2025-02-11T20:16:43.696152Z"
    }
   },
   "outputs": [
    {
     "name": "stdout",
     "output_type": "stream",
     "text": [
      "Sum of the fraction is:  1.4666666666666668\n"
     ]
    }
   ],
   "execution_count": 9
  },
  {
   "cell_type": "markdown",
   "source": [
    "### Q10:- Given the height, width and breadth of a milk tank, you have to find out how many glasses of milk can be obtained? Assume all the inputs are provided by the user.\n",
    "\n",
    "\n",
    "\n",
    "Input:<br>\n",
    "Dimensions of the milk tank<br>\n",
    "H = 20cm, L = 20cm, B = 20cm\n",
    "<br><br>\n",
    "Dimensions of the glass<br>\n",
    "h = 3cm, r = 1cm"
   ],
   "metadata": {
    "id": "eaql38ln13u7"
   }
  },
  {
   "cell_type": "code",
   "source": [
    "# Write your code here\n",
    "H = int(input('Enter the Dimensions of the milk tank\\nHeight of the milk tank: '))\n",
    "L = int(input('Enter the width of the milk tank: '))\n",
    "B = int(input('Enter the breadth of the milk tank: '))\n",
    "\n",
    "h = int(input('\\n\\nEnter the Dimensions of the glass\\nheight: '))\n",
    "\n",
    "r = int(input('Enter the radius: '))"
   ],
   "metadata": {
    "id": "FePZqno74eWv",
    "colab": {
     "base_uri": "https://localhost:8080/"
    },
    "executionInfo": {
     "status": "ok",
     "timestamp": 1724121890668,
     "user_tz": 420,
     "elapsed": 10316,
     "user": {
      "displayName": "Sajjad Uddin",
      "userId": "08557063944080806137"
     }
    },
    "outputId": "467cb56b-f6db-4fba-a3c0-e9ddee336fc1",
    "ExecuteTime": {
     "end_time": "2025-02-11T20:17:14.985853Z",
     "start_time": "2025-02-11T20:16:54.278066Z"
    }
   },
   "outputs": [],
   "execution_count": 10
  },
  {
   "metadata": {
    "ExecuteTime": {
     "end_time": "2025-02-11T20:22:57.929282Z",
     "start_time": "2025-02-11T20:22:57.925683Z"
    }
   },
   "cell_type": "code",
   "source": [
    "print(H)\n",
    "print(L)\n",
    "print(B)\n",
    "print(r)"
   ],
   "outputs": [
    {
     "name": "stdout",
     "output_type": "stream",
     "text": [
      "40\n",
      "20\n",
      "30\n",
      "5\n"
     ]
    }
   ],
   "execution_count": 18
  },
  {
   "cell_type": "code",
   "source": [
    "import math\n",
    "print('The number of glasses are: ', (H*L*B)/(math.pi * r**2 * h))"
   ],
   "metadata": {
    "colab": {
     "base_uri": "https://localhost:8080/"
    },
    "id": "TOlZsMPLP_z3",
    "executionInfo": {
     "status": "ok",
     "timestamp": 1724122079290,
     "user_tz": 420,
     "elapsed": 291,
     "user": {
      "displayName": "Sajjad Uddin",
      "userId": "08557063944080806137"
     }
    },
    "outputId": "275667f7-0653-4f30-9468-9a4fc9ff868c",
    "ExecuteTime": {
     "end_time": "2025-02-11T20:17:14.990019Z",
     "start_time": "2025-02-11T20:17:14.986859Z"
    }
   },
   "outputs": [
    {
     "name": "stdout",
     "output_type": "stream",
     "text": [
      "The number of glasses are:  10.185916357881302\n"
     ]
    }
   ],
   "execution_count": 11
  },
  {
   "cell_type": "code",
   "source": [],
   "metadata": {
    "id": "g26LyoyWrx3j",
    "ExecuteTime": {
     "end_time": "2025-02-11T20:17:14.994265Z",
     "start_time": "2025-02-11T20:17:14.992028Z"
    }
   },
   "outputs": [],
   "execution_count": 11
  }
 ]
}
