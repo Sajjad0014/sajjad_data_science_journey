{
 "cells": [
  {
   "cell_type": "code",
   "id": "23e47321",
   "metadata": {},
   "source": [
    "import numpy as np\n",
    "import pandas as pd\n",
    "import re"
   ],
   "outputs": [],
   "execution_count": null
  },
  {
   "cell_type": "code",
   "id": "60a4f5fa",
   "metadata": {},
   "source": [
    "pd.set_option('display.max_colwidth', None)\n",
    "pd.set_option('display.max_rows', None)\n",
    "pd.set_option('display.max_columns', None)"
   ],
   "outputs": [],
   "execution_count": null
  },
  {
   "cell_type": "code",
   "id": "c7a1adc1",
   "metadata": {},
   "source": [
    "df = pd.read_csv('gurgaon_properties_cleaned_v1.csv')"
   ],
   "outputs": [],
   "execution_count": null
  },
  {
   "cell_type": "code",
   "id": "9e6c0437",
   "metadata": {},
   "source": [
    "df.duplicated().sum()"
   ],
   "outputs": [],
   "execution_count": null
  },
  {
   "cell_type": "code",
   "id": "cfb434de",
   "metadata": {},
   "source": [
    "df.head(1)\n",
    "# focus is on -> areaWithType, additionalRoom, agePossession, furnishDetails, features "
   ],
   "outputs": [],
   "execution_count": null
  },
  {
   "cell_type": "markdown",
   "id": "dce82308",
   "metadata": {},
   "source": [
    "## 1. areaWithType"
   ]
  },
  {
   "cell_type": "code",
   "id": "5d308813",
   "metadata": {},
   "source": [
    "df.sample(5)[['price','area','areaWithType']]"
   ],
   "outputs": [],
   "execution_count": null
  },
  {
   "cell_type": "code",
   "id": "39cf6bfb",
   "metadata": {},
   "source": [
    "# This function extracts the Super Built up area\n",
    "def get_super_built_up_area(text):\n",
    "    match = re.search(r'Super Built up area (\\d+\\.?\\d*)', text)\n",
    "    if match:\n",
    "        return float(match.group(1))\n",
    "    return None"
   ],
   "outputs": [],
   "execution_count": null
  },
  {
   "cell_type": "code",
   "id": "4b942927",
   "metadata": {},
   "source": [
    "# This function extracts the Built Up area or Carpet area\n",
    "def get_area(text, area_type):\n",
    "    match = re.search(area_type + r'\\s*:\\s*(\\d+\\.?\\d*)', text)\n",
    "    if match:\n",
    "        return float(match.group(1))\n",
    "    return None"
   ],
   "outputs": [],
   "execution_count": null
  },
  {
   "cell_type": "code",
   "id": "f0564399",
   "metadata": {},
   "source": [
    "# This function checks if the area is provided in sq.m. and converts it to sqft if needed\n",
    "def convert_to_sqft(text, area_value):\n",
    "    if area_value is None:\n",
    "        return None\n",
    "    match = re.search(r'{} \\((\\d+\\.?\\d*) sq.m.\\)'.format(area_value), text)\n",
    "    if match:\n",
    "        sq_m_value = float(match.group(1))\n",
    "        return sq_m_value * 10.7639  # conversion factor from sq.m. to sqft\n",
    "    return area_value"
   ],
   "outputs": [],
   "execution_count": null
  },
  {
   "cell_type": "code",
   "id": "abc4b02f",
   "metadata": {},
   "source": [
    "# Extract Super Built up area and convert to sqft if needed\n",
    "df['super_built_up_area'] = df['areaWithType'].apply(get_super_built_up_area)\n",
    "df['super_built_up_area'] = df.apply(lambda x: convert_to_sqft(x['areaWithType'], x['super_built_up_area']), axis=1)\n",
    "\n",
    "# Extract Built Up area and convert to sqft if needed\n",
    "df['built_up_area'] = df['areaWithType'].apply(lambda x: get_area(x, 'Built Up area'))\n",
    "df['built_up_area'] = df.apply(lambda x: convert_to_sqft(x['areaWithType'], x['built_up_area']), axis=1)\n",
    "\n",
    "# Extract Carpet area and convert to sqft if needed\n",
    "df['carpet_area'] = df['areaWithType'].apply(lambda x: get_area(x, 'Carpet area'))\n",
    "df['carpet_area'] = df.apply(lambda x: convert_to_sqft(x['areaWithType'], x['carpet_area']), axis=1)"
   ],
   "outputs": [],
   "execution_count": null
  },
  {
   "cell_type": "code",
   "id": "4841f0c0",
   "metadata": {},
   "source": [
    "df[['price','property_type','area','areaWithType','super_built_up_area','built_up_area','carpet_area']].sample(5)"
   ],
   "outputs": [],
   "execution_count": null
  },
  {
   "cell_type": "code",
   "id": "4f682658",
   "metadata": {},
   "source": [
    "df.duplicated().sum()"
   ],
   "outputs": [],
   "execution_count": null
  },
  {
   "cell_type": "code",
   "id": "f625398e",
   "metadata": {},
   "source": [
    "df[~((df['super_built_up_area'].isnull()) | (df['built_up_area'].isnull()) | (df['carpet_area'].isnull()))][['price','property_type','area','areaWithType','super_built_up_area','built_up_area','carpet_area']].shape"
   ],
   "outputs": [],
   "execution_count": null
  },
  {
   "cell_type": "code",
   "id": "51532bda",
   "metadata": {},
   "source": [
    "df[df['areaWithType'].str.contains('Plot')][['price','property_type','area','areaWithType','super_built_up_area','built_up_area','carpet_area']].head(5)"
   ],
   "outputs": [],
   "execution_count": null
  },
  {
   "cell_type": "code",
   "id": "ea7832b6",
   "metadata": {},
   "source": [
    "df.isnull().sum()"
   ],
   "outputs": [],
   "execution_count": null
  },
  {
   "cell_type": "code",
   "id": "3d95d500",
   "metadata": {},
   "source": [
    "all_nan_df = df[((df['super_built_up_area'].isnull()) & (df['built_up_area'].isnull()) & (df['carpet_area'].isnull()))][['price','property_type','area','areaWithType','super_built_up_area','built_up_area','carpet_area']]"
   ],
   "outputs": [],
   "execution_count": null
  },
  {
   "cell_type": "code",
   "id": "6b12e0fe",
   "metadata": {},
   "source": [
    "all_nan_df.head()"
   ],
   "outputs": [],
   "execution_count": null
  },
  {
   "cell_type": "code",
   "id": "8e6c3ad0",
   "metadata": {},
   "source": [
    "all_nan_index = df[((df['super_built_up_area'].isnull()) & (df['built_up_area'].isnull()) & (df['carpet_area'].isnull()))][['price','property_type','area','areaWithType','super_built_up_area','built_up_area','carpet_area']].index"
   ],
   "outputs": [],
   "execution_count": null
  },
  {
   "cell_type": "code",
   "id": "3a304542",
   "metadata": {},
   "source": [
    "# Function to extract plot area from 'areaWithType' column\n",
    "def extract_plot_area(area_with_type):\n",
    "    match = re.search(r'Plot area (\\d+\\.?\\d*)', area_with_type)\n",
    "    return float(match.group(1)) if match else None"
   ],
   "outputs": [],
   "execution_count": null
  },
  {
   "cell_type": "code",
   "id": "dd56ebef",
   "metadata": {},
   "source": [
    "all_nan_df['built_up_area'] = all_nan_df['areaWithType'].apply(extract_plot_area)\n",
    "\n",
    "# Update the original dataframe\n",
    "#gurgaon_properties.update(filtered_rows)"
   ],
   "outputs": [],
   "execution_count": null
  },
  {
   "cell_type": "code",
   "id": "578af3a7",
   "metadata": {},
   "source": [
    "all_nan_df"
   ],
   "outputs": [],
   "execution_count": null
  },
  {
   "cell_type": "code",
   "id": "1ec2bf15",
   "metadata": {},
   "source": [
    "def convert_scale(row):\n",
    "    if np.isnan(row['area']) or np.isnan(row['built_up_area']):\n",
    "        return row['built_up_area']\n",
    "    else:\n",
    "        if round(row['area']/row['built_up_area']) == 9.0:\n",
    "            return row['built_up_area'] * 9\n",
    "        elif round(row['area']/row['built_up_area']) == 11.0:\n",
    "            return row['built_up_area'] * 10.7\n",
    "        else:\n",
    "            return row['built_up_area']"
   ],
   "outputs": [],
   "execution_count": null
  },
  {
   "cell_type": "code",
   "id": "92aa59c8",
   "metadata": {},
   "source": [
    "all_nan_df['built_up_area'] = all_nan_df.apply(convert_scale,axis=1)"
   ],
   "outputs": [],
   "execution_count": null
  },
  {
   "cell_type": "code",
   "id": "0e61f76f",
   "metadata": {},
   "source": [
    "all_nan_df"
   ],
   "outputs": [],
   "execution_count": null
  },
  {
   "cell_type": "code",
   "id": "3733fbdb",
   "metadata": {},
   "source": [
    "# update the original dataframe\n",
    "df.update(all_nan_df)"
   ],
   "outputs": [],
   "execution_count": null
  },
  {
   "cell_type": "code",
   "id": "2f511597",
   "metadata": {},
   "source": [
    "df.isnull().sum()"
   ],
   "outputs": [],
   "execution_count": null
  },
  {
   "cell_type": "code",
   "id": "ab3f5fd8",
   "metadata": {},
   "source": [
    "df.head()"
   ],
   "outputs": [],
   "execution_count": null
  },
  {
   "cell_type": "markdown",
   "id": "67539696",
   "metadata": {},
   "source": [
    "## 2.additionalRoom"
   ]
  },
  {
   "cell_type": "code",
   "id": "fc0b9347",
   "metadata": {},
   "source": [
    "df['additionalRoom'].value_counts()"
   ],
   "outputs": [],
   "execution_count": null
  },
  {
   "cell_type": "code",
   "id": "35f105c9",
   "metadata": {},
   "source": [
    "# additional room\n",
    "# List of new columns to be created\n",
    "new_cols = ['study room', 'servant room', 'store room', 'pooja room', 'others']\n",
    "\n",
    "# Populate the new columns based on the \"additionalRoom\" column\n",
    "for col in new_cols:\n",
    "    df[col] = df['additionalRoom'].str.contains(col).astype(int)"
   ],
   "outputs": [],
   "execution_count": null
  },
  {
   "cell_type": "code",
   "id": "2beddf4d",
   "metadata": {},
   "source": [
    "df.sample(5)[['additionalRoom','study room', 'servant room', 'store room', 'pooja room', 'others']]"
   ],
   "outputs": [],
   "execution_count": null
  },
  {
   "cell_type": "code",
   "id": "812f4da0",
   "metadata": {
    "scrolled": false
   },
   "source": [
    "df.head()"
   ],
   "outputs": [],
   "execution_count": null
  },
  {
   "cell_type": "markdown",
   "id": "d7cea1b3",
   "metadata": {},
   "source": [
    "## 3.agePossession"
   ]
  },
  {
   "cell_type": "code",
   "id": "9b75fcef",
   "metadata": {},
   "source": [
    "df['agePossession'].value_counts()"
   ],
   "outputs": [],
   "execution_count": null
  },
  {
   "cell_type": "code",
   "id": "f4a239b9",
   "metadata": {},
   "source": [
    "def categorize_age_possession(value):\n",
    "    if pd.isna(value):\n",
    "        return \"Undefined\"\n",
    "    if \"0 to 1 Year Old\" in value or \"Within 6 months\" in value or \"Within 3 months\" in value:\n",
    "        return \"New Property\"\n",
    "    if \"1 to 5 Year Old\" in value:\n",
    "        return \"Relatively New\"\n",
    "    if \"5 to 10 Year Old\" in value:\n",
    "        return \"Moderately Old\"\n",
    "    if \"10+ Year Old\" in value:\n",
    "        return \"Old Property\"\n",
    "    if \"Under Construction\" in value or \"By\" in value:\n",
    "        return \"Under Construction\"\n",
    "    try:\n",
    "        # For entries like 'May 2024'\n",
    "        int(value.split(\" \")[-1])\n",
    "        return \"Under Construction\"\n",
    "    except:\n",
    "        return \"Undefined\""
   ],
   "outputs": [],
   "execution_count": null
  },
  {
   "cell_type": "code",
   "id": "5ce9eb6a",
   "metadata": {},
   "source": [
    "df['agePossession'] = df['agePossession'].apply(categorize_age_possession)"
   ],
   "outputs": [],
   "execution_count": null
  },
  {
   "cell_type": "code",
   "id": "4b7a74fd",
   "metadata": {},
   "source": [
    "df['agePossession'].value_counts()"
   ],
   "outputs": [],
   "execution_count": null
  },
  {
   "cell_type": "code",
   "id": "18674e21",
   "metadata": {},
   "source": [
    "df.head()"
   ],
   "outputs": [],
   "execution_count": null
  },
  {
   "cell_type": "markdown",
   "id": "3f6d808f",
   "metadata": {},
   "source": [
    "## 4.furnishDetails"
   ]
  },
  {
   "cell_type": "code",
   "id": "55ffe60c",
   "metadata": {},
   "source": [
    "df.sample(5)[['furnishDetails','features']]"
   ],
   "outputs": [],
   "execution_count": null
  },
  {
   "cell_type": "code",
   "id": "9ccfed3b",
   "metadata": {},
   "source": [
    "# Extract all unique furnishings from the furnishDetails column\n",
    "all_furnishings = []\n",
    "\n",
    "for detail in df['furnishDetails'].dropna():\n",
    "    furnishings = detail.replace('[', '').replace(']', '').replace(\"'\", \"\").split(', ')\n",
    "    all_furnishings.extend(furnishings)\n",
    "    \n",
    "unique_furnishings = list(set(all_furnishings))\n",
    "\n",
    "# Define a function to extract the count of a furnishing from the furnishDetails\n",
    "def get_furnishing_count(details, furnishing):\n",
    "    if isinstance(details, str):\n",
    "        if f\"No {furnishing}\" in details:\n",
    "            return 0\n",
    "        pattern = re.compile(f\"(\\d+) {furnishing}\")\n",
    "        match = pattern.search(details)\n",
    "        if match:\n",
    "            return int(match.group(1))\n",
    "        elif furnishing in details:\n",
    "            return 1\n",
    "    return 0\n",
    "\n",
    "# Simplify the furnishings list by removing \"No\" prefix and numbers\n",
    "columns_to_include = [re.sub(r'No |\\d+', '', furnishing).strip() for furnishing in unique_furnishings]\n",
    "columns_to_include = list(set(columns_to_include))  # Get unique furnishings\n",
    "columns_to_include = [furnishing for furnishing in columns_to_include if furnishing]  # Remove empty strings\n",
    "\n",
    "# Create new columns for each unique furnishing and populate with counts\n",
    "for furnishing in columns_to_include:\n",
    "    df[furnishing] = df['furnishDetails'].apply(lambda x: get_furnishing_count(x, furnishing))\n",
    "\n",
    "# Create the new dataframe with the required columns\n",
    "furnishings_df = df[['furnishDetails'] + columns_to_include]\n"
   ],
   "outputs": [],
   "execution_count": null
  },
  {
   "cell_type": "code",
   "id": "0ea26123",
   "metadata": {},
   "source": [
    "furnishings_df.shape"
   ],
   "outputs": [],
   "execution_count": null
  },
  {
   "cell_type": "code",
   "id": "0f9cf4bd",
   "metadata": {},
   "source": [
    "furnishings_df.drop(columns=['furnishDetails'],inplace=True)"
   ],
   "outputs": [],
   "execution_count": null
  },
  {
   "cell_type": "code",
   "id": "b53b380d",
   "metadata": {},
   "source": [
    "furnishings_df.sample(5)"
   ],
   "outputs": [],
   "execution_count": null
  },
  {
   "cell_type": "code",
   "id": "76cf854d",
   "metadata": {},
   "source": [
    "import matplotlib.pyplot as plt\n",
    "from sklearn.cluster import KMeans\n",
    "from sklearn.preprocessing import StandardScaler"
   ],
   "outputs": [],
   "execution_count": null
  },
  {
   "cell_type": "code",
   "id": "c993a02b",
   "metadata": {},
   "source": [
    "scaler = StandardScaler()\n",
    "scaled_data = scaler.fit_transform(furnishings_df)"
   ],
   "outputs": [],
   "execution_count": null
  },
  {
   "cell_type": "code",
   "id": "222f17c2",
   "metadata": {},
   "source": [
    "wcss_reduced = []\n",
    "\n",
    "for i in range(1, 11):\n",
    "    kmeans = KMeans(n_clusters=i, init='k-means++', random_state=42)\n",
    "    kmeans.fit(scaled_data)\n",
    "    wcss_reduced.append(kmeans.inertia_)"
   ],
   "outputs": [],
   "execution_count": null
  },
  {
   "cell_type": "code",
   "id": "27ccc760",
   "metadata": {},
   "source": [
    "# Plot the results\n",
    "plt.figure(figsize=(12, 8))\n",
    "plt.plot(range(1,11), wcss_reduced, marker='o', linestyle='--')\n",
    "plt.title('Elbow Method For Optimal Number of Clusters (Reduced Range)')\n",
    "plt.xlabel('Number of Clusters')\n",
    "plt.ylabel('WCSS')\n",
    "plt.grid(True)\n",
    "plt.show()"
   ],
   "outputs": [],
   "execution_count": null
  },
  {
   "cell_type": "code",
   "id": "8f9e23e4",
   "metadata": {},
   "source": [
    "n_clusters = 3\n",
    "\n",
    "# Fit the KMeans model\n",
    "kmeans = KMeans(n_clusters=n_clusters, random_state=42)\n",
    "kmeans.fit(scaled_data)\n",
    "\n",
    "# Predict the cluster assignments for each row\n",
    "cluster_assignments = kmeans.predict(scaled_data)"
   ],
   "outputs": [],
   "execution_count": null
  },
  {
   "cell_type": "code",
   "id": "4f80424b",
   "metadata": {},
   "source": [
    "df = df.iloc[:,:-18]"
   ],
   "outputs": [],
   "execution_count": null
  },
  {
   "cell_type": "code",
   "id": "67d41539",
   "metadata": {},
   "source": [
    "df['furnishing_type'] = cluster_assignments"
   ],
   "outputs": [],
   "execution_count": null
  },
  {
   "cell_type": "code",
   "id": "6298c9f3",
   "metadata": {},
   "source": [
    "df.sample(5)[['furnishDetails','furnishing_type']]\n",
    "# 0 -> unfurnished\n",
    "# 1 -> semifurnished\n",
    "# 2 -> furnished"
   ],
   "outputs": [],
   "execution_count": null
  },
  {
   "cell_type": "markdown",
   "id": "0b23b978",
   "metadata": {},
   "source": [
    "## 5.features"
   ]
  },
  {
   "cell_type": "code",
   "id": "2384d027",
   "metadata": {},
   "source": [
    "df[['society','features']].sample(5)"
   ],
   "outputs": [],
   "execution_count": null
  },
  {
   "cell_type": "code",
   "id": "611829d9",
   "metadata": {},
   "source": [
    "df['features'].isnull().sum()"
   ],
   "outputs": [],
   "execution_count": null
  },
  {
   "cell_type": "code",
   "id": "06513033",
   "metadata": {},
   "source": [
    "import pandas as pd\n",
    "app_df = pd.read_csv('appartments.csv')\n",
    "app_df.head(2)"
   ],
   "outputs": [],
   "execution_count": null
  },
  {
   "cell_type": "code",
   "id": "07614556",
   "metadata": {},
   "source": [
    "app_df['PropertyName'] = app_df['PropertyName'].str.lower()"
   ],
   "outputs": [],
   "execution_count": null
  },
  {
   "cell_type": "code",
   "id": "636e1d4d",
   "metadata": {},
   "source": [
    "temp_df = df[df['features'].isnull()]"
   ],
   "outputs": [],
   "execution_count": null
  },
  {
   "cell_type": "code",
   "id": "73a73ebf",
   "metadata": {},
   "source": [
    "temp_df.shape"
   ],
   "outputs": [],
   "execution_count": null
  },
  {
   "cell_type": "code",
   "id": "0d553532",
   "metadata": {},
   "source": [
    "x = temp_df.merge(app_df,left_on='society',right_on='PropertyName',how='left')['TopFacilities']"
   ],
   "outputs": [],
   "execution_count": null
  },
  {
   "cell_type": "code",
   "id": "5dea716a",
   "metadata": {},
   "source": [
    "df.loc[temp_df.index,'features'] = x.values"
   ],
   "outputs": [],
   "execution_count": null
  },
  {
   "cell_type": "code",
   "id": "de36e6cf",
   "metadata": {},
   "source": [
    "df['features'].isnull().sum()"
   ],
   "outputs": [],
   "execution_count": null
  },
  {
   "cell_type": "code",
   "id": "d9b5581e",
   "metadata": {},
   "source": [
    "from sklearn.preprocessing import MultiLabelBinarizer\n",
    "import ast"
   ],
   "outputs": [],
   "execution_count": null
  },
  {
   "cell_type": "code",
   "id": "ee603609",
   "metadata": {},
   "source": [
    "# Convert the string representation of lists in the 'features' column to actual lists\n",
    "df['features_list'] = df['features'].apply(lambda x: ast.literal_eval(x) if pd.notnull(x) and x.startswith('[') else [])\n",
    "\n",
    "# Use MultiLabelBinarizer to convert the features list into a binary matrix\n",
    "mlb = MultiLabelBinarizer()\n",
    "features_binary_matrix = mlb.fit_transform(df['features_list'])\n",
    "\n",
    "# Convert the binary matrix into a DataFrame\n",
    "features_binary_df = pd.DataFrame(features_binary_matrix, columns=mlb.classes_)"
   ],
   "outputs": [],
   "execution_count": null
  },
  {
   "cell_type": "code",
   "id": "0344b344",
   "metadata": {},
   "source": [
    "features_binary_df.sample(5)"
   ],
   "outputs": [],
   "execution_count": null
  },
  {
   "cell_type": "code",
   "id": "66b4cae5",
   "metadata": {},
   "source": [
    "features_binary_df.shape"
   ],
   "outputs": [],
   "execution_count": null
  },
  {
   "cell_type": "code",
   "id": "6cbc0ad6",
   "metadata": {},
   "source": [
    "wcss_reduced = []\n",
    "\n",
    "for i in range(1, 11):\n",
    "    kmeans = KMeans(n_clusters=i, init='k-means++', random_state=42)\n",
    "    kmeans.fit(features_binary_df)\n",
    "    wcss_reduced.append(kmeans.inertia_)"
   ],
   "outputs": [],
   "execution_count": null
  },
  {
   "cell_type": "code",
   "id": "edf9de9f",
   "metadata": {},
   "source": [
    "# Plot the results\n",
    "plt.figure(figsize=(12, 8))\n",
    "plt.plot(range(1,11), wcss_reduced, marker='o', linestyle='--')\n",
    "plt.title('Elbow Method For Optimal Number of Clusters (Reduced Range)')\n",
    "plt.xlabel('Number of Clusters')\n",
    "plt.ylabel('WCSS')\n",
    "plt.grid(True)\n",
    "plt.show()"
   ],
   "outputs": [],
   "execution_count": null
  },
  {
   "cell_type": "code",
   "id": "78a1f95d",
   "metadata": {},
   "source": [
    "# Define the weights for each feature as provided\n",
    "# Assigning weights based on perceived luxury contribution\n",
    "weights = {\n",
    "    '24/7 Power Backup': 8,\n",
    "    '24/7 Water Supply': 4,\n",
    "    '24x7 Security': 7,\n",
    "    'ATM': 4,\n",
    "    'Aerobics Centre': 6,\n",
    "    'Airy Rooms': 8,\n",
    "    'Amphitheatre': 7,\n",
    "    'Badminton Court': 7,\n",
    "    'Banquet Hall': 8,\n",
    "    'Bar/Chill-Out Lounge': 9,\n",
    "    'Barbecue': 7,\n",
    "    'Basketball Court': 7,\n",
    "    'Billiards': 7,\n",
    "    'Bowling Alley': 8,\n",
    "    'Business Lounge': 9,\n",
    "    'CCTV Camera Security': 8,\n",
    "    'Cafeteria': 6,\n",
    "    'Car Parking': 6,\n",
    "    'Card Room': 6,\n",
    "    'Centrally Air Conditioned': 9,\n",
    "    'Changing Area': 6,\n",
    "    \"Children's Play Area\": 7,\n",
    "    'Cigar Lounge': 9,\n",
    "    'Clinic': 5,\n",
    "    'Club House': 9,\n",
    "    'Concierge Service': 9,\n",
    "    'Conference room': 8,\n",
    "    'Creche/Day care': 7,\n",
    "    'Cricket Pitch': 7,\n",
    "    'Doctor on Call': 6,\n",
    "    'Earthquake Resistant': 5,\n",
    "    'Entrance Lobby': 7,\n",
    "    'False Ceiling Lighting': 6,\n",
    "    'Feng Shui / Vaastu Compliant': 5,\n",
    "    'Fire Fighting Systems': 8,\n",
    "    'Fitness Centre / GYM': 8,\n",
    "    'Flower Garden': 7,\n",
    "    'Food Court': 6,\n",
    "    'Foosball': 5,\n",
    "    'Football': 7,\n",
    "    'Fountain': 7,\n",
    "    'Gated Community': 7,\n",
    "    'Golf Course': 10,\n",
    "    'Grocery Shop': 6,\n",
    "    'Gymnasium': 8,\n",
    "    'High Ceiling Height': 8,\n",
    "    'High Speed Elevators': 8,\n",
    "    'Infinity Pool': 9,\n",
    "    'Intercom Facility': 7,\n",
    "    'Internal Street Lights': 6,\n",
    "    'Internet/wi-fi connectivity': 7,\n",
    "    'Jacuzzi': 9,\n",
    "    'Jogging Track': 7,\n",
    "    'Landscape Garden': 8,\n",
    "    'Laundry': 6,\n",
    "    'Lawn Tennis Court': 8,\n",
    "    'Library': 8,\n",
    "    'Lounge': 8,\n",
    "    'Low Density Society': 7,\n",
    "    'Maintenance Staff': 6,\n",
    "    'Manicured Garden': 7,\n",
    "    'Medical Centre': 5,\n",
    "    'Milk Booth': 4,\n",
    "    'Mini Theatre': 9,\n",
    "    'Multipurpose Court': 7,\n",
    "    'Multipurpose Hall': 7,\n",
    "    'Natural Light': 8,\n",
    "    'Natural Pond': 7,\n",
    "    'Park': 8,\n",
    "    'Party Lawn': 8,\n",
    "    'Piped Gas': 7,\n",
    "    'Pool Table': 7,\n",
    "    'Power Back up Lift': 8,\n",
    "    'Private Garden / Terrace': 9,\n",
    "    'Property Staff': 7,\n",
    "    'RO System': 7,\n",
    "    'Rain Water Harvesting': 7,\n",
    "    'Reading Lounge': 8,\n",
    "    'Restaurant': 8,\n",
    "    'Salon': 8,\n",
    "    'Sauna': 9,\n",
    "    'Security / Fire Alarm': 9,\n",
    "    'Security Personnel': 9,\n",
    "    'Separate entry for servant room': 8,\n",
    "    'Sewage Treatment Plant': 6,\n",
    "    'Shopping Centre': 7,\n",
    "    'Skating Rink': 7,\n",
    "    'Solar Lighting': 6,\n",
    "    'Solar Water Heating': 7,\n",
    "    'Spa': 9,\n",
    "    'Spacious Interiors': 9,\n",
    "    'Squash Court': 8,\n",
    "    'Steam Room': 9,\n",
    "    'Sun Deck': 8,\n",
    "    'Swimming Pool': 8,\n",
    "    'Temple': 5,\n",
    "    'Theatre': 9,\n",
    "    'Toddler Pool': 7,\n",
    "    'Valet Parking': 9,\n",
    "    'Video Door Security': 9,\n",
    "    'Visitor Parking': 7,\n",
    "    'Water Softener Plant': 7,\n",
    "    'Water Storage': 7,\n",
    "    'Water purifier': 7,\n",
    "    'Yoga/Meditation Area': 7\n",
    "}\n",
    "# Calculate luxury score for each row\n",
    "luxury_score = features_binary_df[list(weights.keys())].multiply(list(weights.values())).sum(axis=1)\n"
   ],
   "outputs": [],
   "execution_count": null
  },
  {
   "cell_type": "code",
   "id": "14059dc0",
   "metadata": {},
   "source": [
    "df['luxury_score'] = luxury_score"
   ],
   "outputs": [],
   "execution_count": null
  },
  {
   "cell_type": "code",
   "id": "1b0d3776",
   "metadata": {},
   "source": [
    "df.head()"
   ],
   "outputs": [],
   "execution_count": null
  },
  {
   "cell_type": "code",
   "id": "4374c72c",
   "metadata": {},
   "source": [
    "# cols to drop -> nearbyLocations,furnishDetails, features,features_list, additionalRoom\n",
    "df.drop(columns=['nearbyLocations','furnishDetails','features','features_list','additionalRoom'],inplace=True)"
   ],
   "outputs": [],
   "execution_count": null
  },
  {
   "cell_type": "code",
   "id": "0e1a2f08",
   "metadata": {},
   "source": [
    "df.sample(5)"
   ],
   "outputs": [],
   "execution_count": null
  },
  {
   "cell_type": "code",
   "id": "56d4f52d",
   "metadata": {},
   "source": [
    "df.shape"
   ],
   "outputs": [],
   "execution_count": null
  },
  {
   "cell_type": "code",
   "id": "78eda701",
   "metadata": {},
   "source": [
    "df.to_csv('gurgaon_properties_cleaned_v2.csv',index=False)"
   ],
   "outputs": [],
   "execution_count": null
  },
  {
   "cell_type": "code",
   "id": "b4accf71",
   "metadata": {},
   "source": [],
   "outputs": [],
   "execution_count": null
  }
 ],
 "metadata": {
  "kernelspec": {
   "display_name": "Python 3 (ipykernel)",
   "language": "python",
   "name": "python3"
  },
  "language_info": {
   "codemirror_mode": {
    "name": "ipython",
    "version": 3
   },
   "file_extension": ".py",
   "mimetype": "text/x-python",
   "name": "python",
   "nbconvert_exporter": "python",
   "pygments_lexer": "ipython3",
   "version": "3.9.7"
  }
 },
 "nbformat": 4,
 "nbformat_minor": 5
}
