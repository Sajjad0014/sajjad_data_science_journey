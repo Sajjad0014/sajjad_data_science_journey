{
 "cells": [
  {
   "metadata": {},
   "cell_type": "markdown",
   "source": [
    "### What is API \n",
    "#### Application Programming Interface\n",
    "\n",
    "It is like a function where the functionality is defined. It is being given as a URL. \n",
    "\n",
    "If we call that function by using the right set of parameters then it will give you the results\n",
    "\n"
   ],
   "id": "a9aca85645ebc5de"
  },
  {
   "metadata": {
    "ExecuteTime": {
     "end_time": "2024-09-06T23:54:33.386276Z",
     "start_time": "2024-09-06T23:54:32.408168Z"
    }
   },
   "cell_type": "code",
   "source": [
    "import nlpcloud\n",
    "\n",
    "client = nlpcloud.Client(\"distilbert-base-uncased-emotion\", \"1fdc61c8f4c5df97038163bc6aa49c6dd55d3a02\", gpu=False)\n",
    "client.sentiment(\n",
    "    \"\"\"Look what's just come on the market in #ValThorens! A recently renovated, charming 6 bed duplex apartment in the heart of the resort with superb views!\"\"\"\n",
    ")"
   ],
   "id": "9e1efab1c6b2137e",
   "outputs": [
    {
     "data": {
      "text/plain": [
       "{'scored_labels': [{'label': 'joy', 'score': 0.9987751841545105},\n",
       "  {'label': 'love', 'score': 0.0004087708657607436},\n",
       "  {'label': 'surprise', 'score': 0.0003979843750130385},\n",
       "  {'label': 'sadness', 'score': 0.0001777907891664654},\n",
       "  {'label': 'anger', 'score': 0.00012217740004416555},\n",
       "  {'label': 'fear', 'score': 0.00011809932038886473}]}"
      ]
     },
     "execution_count": 2,
     "metadata": {},
     "output_type": "execute_result"
    }
   ],
   "execution_count": 2
  },
  {
   "metadata": {},
   "cell_type": "markdown",
   "source": [
    "When we open our page. It will show \n",
    "\n",
    "Hello \n",
    "1. Register \n",
    "2. Login\n",
    "3. Exit\n",
    "\n",
    "If we click on Register it asks us Name, email, password\n",
    "\n",
    "If we click on Login\n",
    "\n",
    "It will show \n",
    "\n",
    "Hi\n",
    "1. NER \n",
    "2. Language detection\n",
    "3. Sentiment Analysis\n",
    "4. Log Out\n",
    "\n",
    "Our database is going to be a dictionary"
   ],
   "id": "c5aef68a790960ea"
  },
  {
   "metadata": {
    "ExecuteTime": {
     "end_time": "2024-09-07T00:36:55.420678Z",
     "start_time": "2024-09-07T00:36:55.415531Z"
    }
   },
   "cell_type": "code",
   "source": [
    "class NLPApp:\n",
    "    \n",
    "    def __init__(self):\n",
    "        self.__database = {}\n",
    "        self.__first_menu()\n",
    "    \n",
    "    def __first_menu(self):\n",
    "        first_input = input(\"\"\"\n",
    "        Hi! How would you like to proceed?\n",
    "        1. Not a member? Register\n",
    "        2. Already a member? Login\n",
    "        3. Galti se aagaye? Exit\n",
    "        \"\"\")\n",
    "        \n",
    "        if first_input == '1':\n",
    "            self.__register()\n",
    "        elif first_input == '2':\n",
    "            self.__login()\n",
    "        else:\n",
    "            exit()\n",
    "    \n",
    "    def __register(self):\n",
    "        name = input('Enter name: ')\n",
    "        email = input('Enter email: ')\n",
    "        password = input('Enter Password: ')\n",
    "        \n",
    "        if email in self.__database:\n",
    "            print('Email already exists.')\n",
    "        else:\n",
    "            self.__database[email] = [name, password]\n",
    "            print('Registration Successful. Now Login')\n",
    "            print(self.__database)\n",
    "            self.__first_menu()\n",
    "    \n",
    "    def __login(self):\n",
    "        email = input('Enter your email: ')\n",
    "        password = input('Enter your password: ')\n",
    "        \n",
    "        if email in self.__database:\n",
    "            if self.__database[email][1] ==password:\n",
    "                print('Login Successful')\n",
    "                self.__second_menu()\n",
    "            else:\n",
    "                print('Wrong password. Try Again')\n",
    "                self.__login()\n",
    "        else:\n",
    "            print('This email is not registered')\n",
    "            self.__first_menu()\n",
    "    \n",
    "    def __second_menu(self):\n",
    "        first_input = input(\"\"\"\n",
    "        Hi! How would you like to proceed?\n",
    "        1. NER\n",
    "        2. Language Detection\n",
    "        3. Sentiment Analysis\n",
    "        4. Exit\n",
    "        \"\"\")\n",
    "        \n",
    "        if first_input == '1':\n",
    "            self.__register()\n",
    "        elif first_input == '2':\n",
    "            self.__login()\n",
    "        else:\n",
    "            exit()"
   ],
   "id": "2c517e9ad7844367",
   "outputs": [],
   "execution_count": 3
  },
  {
   "metadata": {
    "ExecuteTime": {
     "end_time": "2024-09-07T00:37:16.335055Z",
     "start_time": "2024-09-07T00:36:55.780298Z"
    }
   },
   "cell_type": "code",
   "source": [
    "# obj1 for first user\n",
    "obj1 = NLPApp()\n",
    "\n",
    "# obj2 for second user\n",
    "obj2 = NLPApp()\n"
   ],
   "id": "485537290c7bf80f",
   "outputs": [
    {
     "name": "stdout",
     "output_type": "stream",
     "text": [
      "Registration Successful. Now Login\n",
      "{'df': ['as', '123']}\n",
      "Registration Successful. Now Login\n",
      "{'wer': ['sdf', '456']}\n"
     ]
    }
   ],
   "execution_count": 4
  },
  {
   "metadata": {
    "ExecuteTime": {
     "end_time": "2024-09-07T00:37:18.810740Z",
     "start_time": "2024-09-07T00:37:18.642910Z"
    }
   },
   "cell_type": "code",
   "source": "obj2 = NLPApp()",
   "id": "6a96390216165dcf",
   "outputs": [
    {
     "ename": "NameError",
     "evalue": "name 'NLPApp' is not defined",
     "output_type": "error",
     "traceback": [
      "\u001B[1;31m---------------------------------------------------------------------------\u001B[0m",
      "\u001B[1;31mNameError\u001B[0m                                 Traceback (most recent call last)",
      "Cell \u001B[1;32mIn[1], line 1\u001B[0m\n\u001B[1;32m----> 1\u001B[0m obj2 \u001B[38;5;241m=\u001B[39m \u001B[43mNLPApp\u001B[49m()\n",
      "\u001B[1;31mNameError\u001B[0m: name 'NLPApp' is not defined"
     ]
    }
   ],
   "execution_count": 1
  },
  {
   "metadata": {},
   "cell_type": "code",
   "outputs": [],
   "execution_count": null,
   "source": "",
   "id": "78dcf892e49ca009"
  }
 ],
 "metadata": {
  "kernelspec": {
   "display_name": "Python 3",
   "language": "python",
   "name": "python3"
  },
  "language_info": {
   "codemirror_mode": {
    "name": "ipython",
    "version": 2
   },
   "file_extension": ".py",
   "mimetype": "text/x-python",
   "name": "python",
   "nbconvert_exporter": "python",
   "pygments_lexer": "ipython2",
   "version": "2.7.6"
  }
 },
 "nbformat": 4,
 "nbformat_minor": 5
}
