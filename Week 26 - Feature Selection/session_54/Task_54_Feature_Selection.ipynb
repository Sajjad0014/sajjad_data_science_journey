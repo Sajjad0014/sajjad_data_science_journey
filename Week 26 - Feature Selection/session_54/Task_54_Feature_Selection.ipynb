{
 "nbformat": 4,
 "nbformat_minor": 0,
 "metadata": {
  "colab": {
   "provenance": []
  },
  "kernelspec": {
   "name": "python3",
   "display_name": "Python 3 (ipykernel)",
   "language": "python"
  },
  "language_info": {
   "name": "python"
  }
 },
 "cells": [
  {
   "cell_type": "markdown",
   "source": [
    "## `Task` Do feature selection as per metods taught is session 54 on SECOM dataset.\n",
    "\n",
    "Dataset Link : https://archive.ics.uci.edu/ml/datasets/SECOM\n",
    "\n",
    "Drive Link : https://docs.google.com/spreadsheets/d/1dFCe1zgokabsiEr6BbWmMJtiMefkrChpJWLiG_0dDkk/edit?usp=share_link"
   ],
   "metadata": {
    "id": "pxOvVQMdbqH8"
   }
  },
  {
   "cell_type": "code",
   "source": [
    "# Write your Code here"
   ],
   "metadata": {
    "id": "Rcenqn0Yb5HZ",
    "ExecuteTime": {
     "end_time": "2025-02-11T19:37:10.211871Z",
     "start_time": "2025-02-11T19:37:10.208575Z"
    }
   },
   "outputs": [],
   "execution_count": 28
  },
  {
   "cell_type": "markdown",
   "source": [
    "### `Solution`"
   ],
   "metadata": {
    "id": "I33nmJc-cJs1"
   }
  },
  {
   "cell_type": "code",
   "source": [
    "import pandas as pd\n",
    "\n",
    "data = pd.read_csv(\"https://docs.google.com/spreadsheets/d/e/2PACX-1vQtBXo5cBnDsM2fmfHPm6u72KGUS5FjPHNGMxOfYjA9-CAhmnRpwkIw_rOR3sANJIToiUU__6fbBvig/pub?gid=572763137&single=true&output=csv\")\n",
    "\n",
    "data.info()"
   ],
   "metadata": {
    "colab": {
     "base_uri": "https://localhost:8080/"
    },
    "id": "OIQC_YRgcIux",
    "outputId": "9926d0f1-ddeb-41f4-c9e8-2cacf956fd1a",
    "ExecuteTime": {
     "end_time": "2025-02-11T19:37:16.873305Z",
     "start_time": "2025-02-11T19:37:10.280308Z"
    }
   },
   "outputs": [
    {
     "name": "stdout",
     "output_type": "stream",
     "text": [
      "<class 'pandas.core.frame.DataFrame'>\n",
      "RangeIndex: 1567 entries, 0 to 1566\n",
      "Columns: 592 entries, Time to Pass/Fail\n",
      "dtypes: float64(590), int64(1), object(1)\n",
      "memory usage: 7.1+ MB\n"
     ]
    }
   ],
   "execution_count": 29
  },
  {
   "cell_type": "code",
   "source": [
    "data.head()"
   ],
   "metadata": {
    "colab": {
     "base_uri": "https://localhost:8080/",
     "height": 473
    },
    "id": "RTA3ifpdc2nt",
    "outputId": "55cae460-6ad2-46ac-9984-8f2fcd9ed3c0",
    "ExecuteTime": {
     "end_time": "2025-02-11T19:37:16.887312Z",
     "start_time": "2025-02-11T19:37:16.874311Z"
    }
   },
   "outputs": [
    {
     "data": {
      "text/plain": [
       "                  Time        0        1          2          3       4      5  \\\n",
       "0  2008-07-19 11:55:00  3030.93  2564.00  2187.7333  1411.1265  1.3602  100.0   \n",
       "1  2008-07-19 12:32:00  3095.78  2465.14  2230.4222  1463.6606  0.8294  100.0   \n",
       "2  2008-07-19 13:17:00  2932.61  2559.94  2186.4111  1698.0172  1.5102  100.0   \n",
       "3  2008-07-19 14:43:00  2988.72  2479.90  2199.0333   909.7926  1.3204  100.0   \n",
       "4  2008-07-19 15:22:00  3032.24  2502.87  2233.3667  1326.5200  1.5334  100.0   \n",
       "\n",
       "          6       7       8  ...       581     582     583     584      585  \\\n",
       "0   97.6133  0.1242  1.5005  ...       NaN  0.5005  0.0118  0.0035   2.3630   \n",
       "1  102.3433  0.1247  1.4966  ...  208.2045  0.5019  0.0223  0.0055   4.4447   \n",
       "2   95.4878  0.1241  1.4436  ...   82.8602  0.4958  0.0157  0.0039   3.1745   \n",
       "3  104.2367  0.1217  1.4882  ...   73.8432  0.4990  0.0103  0.0025   2.0544   \n",
       "4  100.3967  0.1235  1.5031  ...       NaN  0.4800  0.4766  0.1045  99.3032   \n",
       "\n",
       "      586     587     588       589  Pass/Fail  \n",
       "0     NaN     NaN     NaN       NaN         -1  \n",
       "1  0.0096  0.0201  0.0060  208.2045         -1  \n",
       "2  0.0584  0.0484  0.0148   82.8602          1  \n",
       "3  0.0202  0.0149  0.0044   73.8432         -1  \n",
       "4  0.0202  0.0149  0.0044   73.8432         -1  \n",
       "\n",
       "[5 rows x 592 columns]"
      ],
      "text/html": [
       "<div>\n",
       "<style scoped>\n",
       "    .dataframe tbody tr th:only-of-type {\n",
       "        vertical-align: middle;\n",
       "    }\n",
       "\n",
       "    .dataframe tbody tr th {\n",
       "        vertical-align: top;\n",
       "    }\n",
       "\n",
       "    .dataframe thead th {\n",
       "        text-align: right;\n",
       "    }\n",
       "</style>\n",
       "<table border=\"1\" class=\"dataframe\">\n",
       "  <thead>\n",
       "    <tr style=\"text-align: right;\">\n",
       "      <th></th>\n",
       "      <th>Time</th>\n",
       "      <th>0</th>\n",
       "      <th>1</th>\n",
       "      <th>2</th>\n",
       "      <th>3</th>\n",
       "      <th>4</th>\n",
       "      <th>5</th>\n",
       "      <th>6</th>\n",
       "      <th>7</th>\n",
       "      <th>8</th>\n",
       "      <th>...</th>\n",
       "      <th>581</th>\n",
       "      <th>582</th>\n",
       "      <th>583</th>\n",
       "      <th>584</th>\n",
       "      <th>585</th>\n",
       "      <th>586</th>\n",
       "      <th>587</th>\n",
       "      <th>588</th>\n",
       "      <th>589</th>\n",
       "      <th>Pass/Fail</th>\n",
       "    </tr>\n",
       "  </thead>\n",
       "  <tbody>\n",
       "    <tr>\n",
       "      <th>0</th>\n",
       "      <td>2008-07-19 11:55:00</td>\n",
       "      <td>3030.93</td>\n",
       "      <td>2564.00</td>\n",
       "      <td>2187.7333</td>\n",
       "      <td>1411.1265</td>\n",
       "      <td>1.3602</td>\n",
       "      <td>100.0</td>\n",
       "      <td>97.6133</td>\n",
       "      <td>0.1242</td>\n",
       "      <td>1.5005</td>\n",
       "      <td>...</td>\n",
       "      <td>NaN</td>\n",
       "      <td>0.5005</td>\n",
       "      <td>0.0118</td>\n",
       "      <td>0.0035</td>\n",
       "      <td>2.3630</td>\n",
       "      <td>NaN</td>\n",
       "      <td>NaN</td>\n",
       "      <td>NaN</td>\n",
       "      <td>NaN</td>\n",
       "      <td>-1</td>\n",
       "    </tr>\n",
       "    <tr>\n",
       "      <th>1</th>\n",
       "      <td>2008-07-19 12:32:00</td>\n",
       "      <td>3095.78</td>\n",
       "      <td>2465.14</td>\n",
       "      <td>2230.4222</td>\n",
       "      <td>1463.6606</td>\n",
       "      <td>0.8294</td>\n",
       "      <td>100.0</td>\n",
       "      <td>102.3433</td>\n",
       "      <td>0.1247</td>\n",
       "      <td>1.4966</td>\n",
       "      <td>...</td>\n",
       "      <td>208.2045</td>\n",
       "      <td>0.5019</td>\n",
       "      <td>0.0223</td>\n",
       "      <td>0.0055</td>\n",
       "      <td>4.4447</td>\n",
       "      <td>0.0096</td>\n",
       "      <td>0.0201</td>\n",
       "      <td>0.0060</td>\n",
       "      <td>208.2045</td>\n",
       "      <td>-1</td>\n",
       "    </tr>\n",
       "    <tr>\n",
       "      <th>2</th>\n",
       "      <td>2008-07-19 13:17:00</td>\n",
       "      <td>2932.61</td>\n",
       "      <td>2559.94</td>\n",
       "      <td>2186.4111</td>\n",
       "      <td>1698.0172</td>\n",
       "      <td>1.5102</td>\n",
       "      <td>100.0</td>\n",
       "      <td>95.4878</td>\n",
       "      <td>0.1241</td>\n",
       "      <td>1.4436</td>\n",
       "      <td>...</td>\n",
       "      <td>82.8602</td>\n",
       "      <td>0.4958</td>\n",
       "      <td>0.0157</td>\n",
       "      <td>0.0039</td>\n",
       "      <td>3.1745</td>\n",
       "      <td>0.0584</td>\n",
       "      <td>0.0484</td>\n",
       "      <td>0.0148</td>\n",
       "      <td>82.8602</td>\n",
       "      <td>1</td>\n",
       "    </tr>\n",
       "    <tr>\n",
       "      <th>3</th>\n",
       "      <td>2008-07-19 14:43:00</td>\n",
       "      <td>2988.72</td>\n",
       "      <td>2479.90</td>\n",
       "      <td>2199.0333</td>\n",
       "      <td>909.7926</td>\n",
       "      <td>1.3204</td>\n",
       "      <td>100.0</td>\n",
       "      <td>104.2367</td>\n",
       "      <td>0.1217</td>\n",
       "      <td>1.4882</td>\n",
       "      <td>...</td>\n",
       "      <td>73.8432</td>\n",
       "      <td>0.4990</td>\n",
       "      <td>0.0103</td>\n",
       "      <td>0.0025</td>\n",
       "      <td>2.0544</td>\n",
       "      <td>0.0202</td>\n",
       "      <td>0.0149</td>\n",
       "      <td>0.0044</td>\n",
       "      <td>73.8432</td>\n",
       "      <td>-1</td>\n",
       "    </tr>\n",
       "    <tr>\n",
       "      <th>4</th>\n",
       "      <td>2008-07-19 15:22:00</td>\n",
       "      <td>3032.24</td>\n",
       "      <td>2502.87</td>\n",
       "      <td>2233.3667</td>\n",
       "      <td>1326.5200</td>\n",
       "      <td>1.5334</td>\n",
       "      <td>100.0</td>\n",
       "      <td>100.3967</td>\n",
       "      <td>0.1235</td>\n",
       "      <td>1.5031</td>\n",
       "      <td>...</td>\n",
       "      <td>NaN</td>\n",
       "      <td>0.4800</td>\n",
       "      <td>0.4766</td>\n",
       "      <td>0.1045</td>\n",
       "      <td>99.3032</td>\n",
       "      <td>0.0202</td>\n",
       "      <td>0.0149</td>\n",
       "      <td>0.0044</td>\n",
       "      <td>73.8432</td>\n",
       "      <td>-1</td>\n",
       "    </tr>\n",
       "  </tbody>\n",
       "</table>\n",
       "<p>5 rows × 592 columns</p>\n",
       "</div>"
      ]
     },
     "execution_count": 30,
     "metadata": {},
     "output_type": "execute_result"
    }
   ],
   "execution_count": 30
  },
  {
   "metadata": {
    "ExecuteTime": {
     "end_time": "2025-02-11T19:37:16.892832Z",
     "start_time": "2025-02-11T19:37:16.887817Z"
    }
   },
   "cell_type": "code",
   "source": "data.shape",
   "outputs": [
    {
     "data": {
      "text/plain": [
       "(1567, 592)"
      ]
     },
     "execution_count": 31,
     "metadata": {},
     "output_type": "execute_result"
    }
   ],
   "execution_count": 31
  },
  {
   "metadata": {
    "ExecuteTime": {
     "end_time": "2025-02-11T19:37:16.900241Z",
     "start_time": "2025-02-11T19:37:16.892832Z"
    }
   },
   "cell_type": "code",
   "source": "data.iloc[:, -1].value_counts()",
   "outputs": [
    {
     "data": {
      "text/plain": [
       "Pass/Fail\n",
       "-1    1463\n",
       " 1     104\n",
       "Name: count, dtype: int64"
      ]
     },
     "execution_count": 32,
     "metadata": {},
     "output_type": "execute_result"
    }
   ],
   "execution_count": 32
  },
  {
   "metadata": {
    "ExecuteTime": {
     "end_time": "2025-02-11T19:37:16.906731Z",
     "start_time": "2025-02-11T19:37:16.901623Z"
    }
   },
   "cell_type": "code",
   "source": [
    "from sklearn.model_selection import train_test_split\n",
    "from sklearn.ensemble import HistGradientBoostingClassifier\n",
    "from sklearn.metrics import accuracy_score\n",
    "\n",
    "X = data.drop('Pass/Fail', axis=1)\n",
    "y = data['Pass/Fail']"
   ],
   "outputs": [],
   "execution_count": 33
  },
  {
   "metadata": {
    "ExecuteTime": {
     "end_time": "2025-02-11T19:37:16.914186Z",
     "start_time": "2025-02-11T19:37:16.907741Z"
    }
   },
   "cell_type": "code",
   "source": "X.drop(columns='Time', inplace=True, axis=1)",
   "outputs": [],
   "execution_count": 34
  },
  {
   "metadata": {
    "ExecuteTime": {
     "end_time": "2025-02-11T19:37:16.922192Z",
     "start_time": "2025-02-11T19:37:16.915190Z"
    }
   },
   "cell_type": "code",
   "source": "X.isnull().sum()",
   "outputs": [
    {
     "data": {
      "text/plain": [
       "0       6\n",
       "1       7\n",
       "2      14\n",
       "3      14\n",
       "4      14\n",
       "       ..\n",
       "585     1\n",
       "586     1\n",
       "587     1\n",
       "588     1\n",
       "589     1\n",
       "Length: 590, dtype: int64"
      ]
     },
     "execution_count": 35,
     "metadata": {},
     "output_type": "execute_result"
    }
   ],
   "execution_count": 35
  },
  {
   "metadata": {
    "ExecuteTime": {
     "end_time": "2025-02-11T19:37:16.930309Z",
     "start_time": "2025-02-11T19:37:16.922701Z"
    }
   },
   "cell_type": "code",
   "source": [
    "cols_with_high_nan = X.isnull().sum()[X.isnull().sum() > 500].index\n",
    "cols_with_high_nan"
   ],
   "outputs": [
    {
     "data": {
      "text/plain": [
       "Index(['72', '73', '85', '109', '110', '111', '112', '157', '158', '220',\n",
       "       '244', '245', '246', '247', '292', '293', '345', '346', '358', '382',\n",
       "       '383', '384', '385', '492', '516', '517', '518', '519', '578', '579',\n",
       "       '580', '581'],\n",
       "      dtype='object')"
      ]
     },
     "execution_count": 36,
     "metadata": {},
     "output_type": "execute_result"
    }
   ],
   "execution_count": 36
  },
  {
   "metadata": {
    "ExecuteTime": {
     "end_time": "2025-02-11T19:37:16.938316Z",
     "start_time": "2025-02-11T19:37:16.931356Z"
    }
   },
   "cell_type": "code",
   "source": "X.drop(columns=cols_with_high_nan, axis=1, inplace=True)",
   "outputs": [],
   "execution_count": 37
  },
  {
   "metadata": {
    "ExecuteTime": {
     "end_time": "2025-02-11T19:37:16.947370Z",
     "start_time": "2025-02-11T19:37:16.940368Z"
    }
   },
   "cell_type": "code",
   "source": "X.isnull().sum()",
   "outputs": [
    {
     "data": {
      "text/plain": [
       "0       6\n",
       "1       7\n",
       "2      14\n",
       "3      14\n",
       "4      14\n",
       "       ..\n",
       "585     1\n",
       "586     1\n",
       "587     1\n",
       "588     1\n",
       "589     1\n",
       "Length: 558, dtype: int64"
      ]
     },
     "execution_count": 38,
     "metadata": {},
     "output_type": "execute_result"
    }
   ],
   "execution_count": 38
  },
  {
   "metadata": {
    "ExecuteTime": {
     "end_time": "2025-02-11T19:37:16.953126Z",
     "start_time": "2025-02-11T19:37:16.947370Z"
    }
   },
   "cell_type": "code",
   "source": "X.columns",
   "outputs": [
    {
     "data": {
      "text/plain": [
       "Index(['0', '1', '2', '3', '4', '5', '6', '7', '8', '9',\n",
       "       ...\n",
       "       '576', '577', '582', '583', '584', '585', '586', '587', '588', '589'],\n",
       "      dtype='object', length=558)"
      ]
     },
     "execution_count": 39,
     "metadata": {},
     "output_type": "execute_result"
    }
   ],
   "execution_count": 39
  },
  {
   "metadata": {
    "ExecuteTime": {
     "end_time": "2025-02-11T19:37:16.976433Z",
     "start_time": "2025-02-11T19:37:16.953126Z"
    }
   },
   "cell_type": "code",
   "source": [
    "from sklearn.impute import SimpleImputer\n",
    "\n",
    "imputer = SimpleImputer(strategy='mean')  # You can use 'median' or 'constant'\n",
    "X_imputed = imputer.fit_transform(X)"
   ],
   "outputs": [],
   "execution_count": 40
  },
  {
   "metadata": {
    "ExecuteTime": {
     "end_time": "2025-02-11T19:37:16.981457Z",
     "start_time": "2025-02-11T19:37:16.977438Z"
    }
   },
   "cell_type": "code",
   "source": "X_imputed.shape",
   "outputs": [
    {
     "data": {
      "text/plain": [
       "(1567, 558)"
      ]
     },
     "execution_count": 41,
     "metadata": {},
     "output_type": "execute_result"
    }
   ],
   "execution_count": 41
  },
  {
   "metadata": {
    "ExecuteTime": {
     "end_time": "2025-02-11T19:37:16.986977Z",
     "start_time": "2025-02-11T19:37:16.981457Z"
    }
   },
   "cell_type": "code",
   "source": "type(X_imputed)",
   "outputs": [
    {
     "data": {
      "text/plain": [
       "numpy.ndarray"
      ]
     },
     "execution_count": 42,
     "metadata": {},
     "output_type": "execute_result"
    }
   ],
   "execution_count": 42
  },
  {
   "metadata": {
    "ExecuteTime": {
     "end_time": "2025-02-11T19:37:16.992392Z",
     "start_time": "2025-02-11T19:37:16.987984Z"
    }
   },
   "cell_type": "code",
   "source": "X = pd.DataFrame(X_imputed, columns=X.columns)",
   "outputs": [],
   "execution_count": 43
  },
  {
   "metadata": {
    "ExecuteTime": {
     "end_time": "2025-02-11T19:37:17.005353Z",
     "start_time": "2025-02-11T19:37:16.993398Z"
    }
   },
   "cell_type": "code",
   "source": [
    "X_train, X_test, y_train, y_test = train_test_split(X, y, test_size=0.2, random_state=42)\n",
    "\n",
    "print(X_train.shape)\n",
    "print(X_test.shape)"
   ],
   "outputs": [
    {
     "name": "stdout",
     "output_type": "stream",
     "text": [
      "(1253, 558)\n",
      "(314, 558)\n"
     ]
    }
   ],
   "execution_count": 44
  },
  {
   "metadata": {},
   "cell_type": "markdown",
   "source": "### Scaling the dataset"
  },
  {
   "metadata": {
    "ExecuteTime": {
     "end_time": "2025-02-11T19:37:17.025292Z",
     "start_time": "2025-02-11T19:37:17.005353Z"
    }
   },
   "cell_type": "code",
   "source": [
    "from sklearn.preprocessing import StandardScaler\n",
    "\n",
    "# Scale the features\n",
    "scaler = StandardScaler()\n",
    "X_train_scaled = scaler.fit_transform(X_train)\n",
    "X_test_scaled = scaler.transform(X_test)"
   ],
   "outputs": [],
   "execution_count": 45
  },
  {
   "metadata": {
    "ExecuteTime": {
     "end_time": "2025-02-11T19:37:17.029791Z",
     "start_time": "2025-02-11T19:37:17.025292Z"
    }
   },
   "cell_type": "code",
   "source": "type(X_train_scaled)",
   "outputs": [
    {
     "data": {
      "text/plain": [
       "numpy.ndarray"
      ]
     },
     "execution_count": 46,
     "metadata": {},
     "output_type": "execute_result"
    }
   ],
   "execution_count": 46
  },
  {
   "metadata": {
    "ExecuteTime": {
     "end_time": "2025-02-11T19:37:17.037919Z",
     "start_time": "2025-02-11T19:37:17.030797Z"
    }
   },
   "cell_type": "code",
   "source": [
    "X_train = pd.DataFrame(X_train_scaled, columns=X.columns)\n",
    "X_test = pd.DataFrame(X_test_scaled, columns=X.columns)"
   ],
   "outputs": [],
   "execution_count": 47
  },
  {
   "metadata": {},
   "cell_type": "markdown",
   "source": "## Applying Logistic Regression"
  },
  {
   "metadata": {
    "ExecuteTime": {
     "end_time": "2025-02-11T19:37:17.080228Z",
     "start_time": "2025-02-11T19:37:17.038928Z"
    }
   },
   "cell_type": "code",
   "source": [
    "from sklearn.linear_model import LogisticRegression\n",
    "\n",
    "log_reg = LogisticRegression(max_iter=1000)\n",
    "log_reg.fit(X_train_scaled, y_train)\n",
    "\n",
    "y_pred = log_reg.predict(X_test_scaled)\n",
    "\n",
    "baseline_log_reg_score = accuracy_score(y_test, y_pred)\n",
    "baseline_log_reg_score"
   ],
   "outputs": [
    {
     "data": {
      "text/plain": [
       "0.8821656050955414"
      ]
     },
     "execution_count": 48,
     "metadata": {},
     "output_type": "execute_result"
    }
   ],
   "execution_count": 48
  },
  {
   "metadata": {},
   "cell_type": "markdown",
   "source": "## 1. Remove Duplicate Columns"
  },
  {
   "metadata": {
    "ExecuteTime": {
     "end_time": "2025-02-11T19:37:29.009296Z",
     "start_time": "2025-02-11T19:37:29.006111Z"
    }
   },
   "cell_type": "code",
   "source": [
    "def get_duplicate_columns(df):\n",
    "    duplicate_columns = {}\n",
    "    seen_columns = {}\n",
    "    \n",
    "    for column in df.columns:\n",
    "        current_column = df[column]\n",
    "        \n",
    "        # Convert column data to bytes\n",
    "        try:\n",
    "            current_column_hash = current_column.tobytes()\n",
    "        except AttributeError:\n",
    "            current_column_hash = current_column.to_string().encode()\n",
    "            \n",
    "        if current_column_hash in seen_columns:\n",
    "            if seen_columns[current_column_hash] in duplicate_columns:\n",
    "                duplicate_columns[seen_columns[current_column_hash]].append(column)\n",
    "            else:\n",
    "                duplicate_columns[seen_columns[current_column_hash]] = [column]\n",
    "        else:\n",
    "            seen_columns[current_column_hash] = column\n",
    "    \n",
    "    return duplicate_columns"
   ],
   "outputs": [],
   "execution_count": 49
  },
  {
   "metadata": {
    "ExecuteTime": {
     "end_time": "2025-02-11T19:37:47.672613Z",
     "start_time": "2025-02-11T19:37:41.445546Z"
    }
   },
   "cell_type": "code",
   "source": [
    "duplicated_columns = get_duplicate_columns(X_train)\n",
    "duplicated_columns"
   ],
   "outputs": [
    {
     "data": {
      "text/plain": [
       "{'5': ['13',\n",
       "  '42',\n",
       "  '49',\n",
       "  '52',\n",
       "  '69',\n",
       "  '97',\n",
       "  '141',\n",
       "  '149',\n",
       "  '178',\n",
       "  '179',\n",
       "  '186',\n",
       "  '189',\n",
       "  '190',\n",
       "  '191',\n",
       "  '192',\n",
       "  '193',\n",
       "  '194',\n",
       "  '226',\n",
       "  '229',\n",
       "  '230',\n",
       "  '231',\n",
       "  '232',\n",
       "  '233',\n",
       "  '234',\n",
       "  '235',\n",
       "  '236',\n",
       "  '237',\n",
       "  '240',\n",
       "  '241',\n",
       "  '242',\n",
       "  '243',\n",
       "  '256',\n",
       "  '257',\n",
       "  '258',\n",
       "  '259',\n",
       "  '260',\n",
       "  '261',\n",
       "  '262',\n",
       "  '263',\n",
       "  '264',\n",
       "  '265',\n",
       "  '266',\n",
       "  '276',\n",
       "  '284',\n",
       "  '313',\n",
       "  '314',\n",
       "  '315',\n",
       "  '322',\n",
       "  '325',\n",
       "  '326',\n",
       "  '327',\n",
       "  '328',\n",
       "  '329',\n",
       "  '330',\n",
       "  '364',\n",
       "  '369',\n",
       "  '370',\n",
       "  '371',\n",
       "  '372',\n",
       "  '373',\n",
       "  '374',\n",
       "  '375',\n",
       "  '378',\n",
       "  '379',\n",
       "  '380',\n",
       "  '381',\n",
       "  '394',\n",
       "  '395',\n",
       "  '396',\n",
       "  '397',\n",
       "  '398',\n",
       "  '399',\n",
       "  '400',\n",
       "  '401',\n",
       "  '402',\n",
       "  '403',\n",
       "  '404',\n",
       "  '414',\n",
       "  '422',\n",
       "  '449',\n",
       "  '450',\n",
       "  '451',\n",
       "  '458',\n",
       "  '461',\n",
       "  '462',\n",
       "  '463',\n",
       "  '464',\n",
       "  '465',\n",
       "  '466',\n",
       "  '481',\n",
       "  '498',\n",
       "  '501',\n",
       "  '502',\n",
       "  '503',\n",
       "  '504',\n",
       "  '505',\n",
       "  '506',\n",
       "  '507',\n",
       "  '508',\n",
       "  '509',\n",
       "  '512',\n",
       "  '513',\n",
       "  '514',\n",
       "  '515',\n",
       "  '528',\n",
       "  '529',\n",
       "  '530',\n",
       "  '531',\n",
       "  '532',\n",
       "  '533',\n",
       "  '534',\n",
       "  '535',\n",
       "  '536',\n",
       "  '537',\n",
       "  '538'],\n",
       " '74': ['206', '209', '342', '347', '478']}"
      ]
     },
     "execution_count": 51,
     "metadata": {},
     "output_type": "execute_result"
    }
   ],
   "execution_count": 51
  },
  {
   "metadata": {
    "ExecuteTime": {
     "end_time": "2025-02-11T19:39:47.596008Z",
     "start_time": "2025-02-11T19:39:47.585980Z"
    }
   },
   "cell_type": "code",
   "source": "X_train.loc[:, ['74', '206']]",
   "outputs": [
    {
     "data": {
      "text/plain": [
       "           74      206\n",
       "0    -0.02837 -0.02837\n",
       "1    -0.02837 -0.02837\n",
       "2    -0.02837 -0.02837\n",
       "3    -0.02837 -0.02837\n",
       "4    -0.02837 -0.02837\n",
       "...       ...      ...\n",
       "1248 -0.02837 -0.02837\n",
       "1249 -0.02837 -0.02837\n",
       "1250 -0.02837 -0.02837\n",
       "1251 -0.02837 -0.02837\n",
       "1252 -0.02837 -0.02837\n",
       "\n",
       "[1253 rows x 2 columns]"
      ],
      "text/html": [
       "<div>\n",
       "<style scoped>\n",
       "    .dataframe tbody tr th:only-of-type {\n",
       "        vertical-align: middle;\n",
       "    }\n",
       "\n",
       "    .dataframe tbody tr th {\n",
       "        vertical-align: top;\n",
       "    }\n",
       "\n",
       "    .dataframe thead th {\n",
       "        text-align: right;\n",
       "    }\n",
       "</style>\n",
       "<table border=\"1\" class=\"dataframe\">\n",
       "  <thead>\n",
       "    <tr style=\"text-align: right;\">\n",
       "      <th></th>\n",
       "      <th>74</th>\n",
       "      <th>206</th>\n",
       "    </tr>\n",
       "  </thead>\n",
       "  <tbody>\n",
       "    <tr>\n",
       "      <th>0</th>\n",
       "      <td>-0.02837</td>\n",
       "      <td>-0.02837</td>\n",
       "    </tr>\n",
       "    <tr>\n",
       "      <th>1</th>\n",
       "      <td>-0.02837</td>\n",
       "      <td>-0.02837</td>\n",
       "    </tr>\n",
       "    <tr>\n",
       "      <th>2</th>\n",
       "      <td>-0.02837</td>\n",
       "      <td>-0.02837</td>\n",
       "    </tr>\n",
       "    <tr>\n",
       "      <th>3</th>\n",
       "      <td>-0.02837</td>\n",
       "      <td>-0.02837</td>\n",
       "    </tr>\n",
       "    <tr>\n",
       "      <th>4</th>\n",
       "      <td>-0.02837</td>\n",
       "      <td>-0.02837</td>\n",
       "    </tr>\n",
       "    <tr>\n",
       "      <th>...</th>\n",
       "      <td>...</td>\n",
       "      <td>...</td>\n",
       "    </tr>\n",
       "    <tr>\n",
       "      <th>1248</th>\n",
       "      <td>-0.02837</td>\n",
       "      <td>-0.02837</td>\n",
       "    </tr>\n",
       "    <tr>\n",
       "      <th>1249</th>\n",
       "      <td>-0.02837</td>\n",
       "      <td>-0.02837</td>\n",
       "    </tr>\n",
       "    <tr>\n",
       "      <th>1250</th>\n",
       "      <td>-0.02837</td>\n",
       "      <td>-0.02837</td>\n",
       "    </tr>\n",
       "    <tr>\n",
       "      <th>1251</th>\n",
       "      <td>-0.02837</td>\n",
       "      <td>-0.02837</td>\n",
       "    </tr>\n",
       "    <tr>\n",
       "      <th>1252</th>\n",
       "      <td>-0.02837</td>\n",
       "      <td>-0.02837</td>\n",
       "    </tr>\n",
       "  </tbody>\n",
       "</table>\n",
       "<p>1253 rows × 2 columns</p>\n",
       "</div>"
      ]
     },
     "execution_count": 55,
     "metadata": {},
     "output_type": "execute_result"
    }
   ],
   "execution_count": 55
  },
  {
   "metadata": {
    "ExecuteTime": {
     "end_time": "2025-02-11T19:40:23.013842Z",
     "start_time": "2025-02-11T19:40:23.001131Z"
    }
   },
   "cell_type": "code",
   "source": "X_train.loc[:, ['537', '538']]",
   "outputs": [
    {
     "data": {
      "text/plain": [
       "      537  538\n",
       "0     0.0  0.0\n",
       "1     0.0  0.0\n",
       "2     0.0  0.0\n",
       "3     0.0  0.0\n",
       "4     0.0  0.0\n",
       "...   ...  ...\n",
       "1248  0.0  0.0\n",
       "1249  0.0  0.0\n",
       "1250  0.0  0.0\n",
       "1251  0.0  0.0\n",
       "1252  0.0  0.0\n",
       "\n",
       "[1253 rows x 2 columns]"
      ],
      "text/html": [
       "<div>\n",
       "<style scoped>\n",
       "    .dataframe tbody tr th:only-of-type {\n",
       "        vertical-align: middle;\n",
       "    }\n",
       "\n",
       "    .dataframe tbody tr th {\n",
       "        vertical-align: top;\n",
       "    }\n",
       "\n",
       "    .dataframe thead th {\n",
       "        text-align: right;\n",
       "    }\n",
       "</style>\n",
       "<table border=\"1\" class=\"dataframe\">\n",
       "  <thead>\n",
       "    <tr style=\"text-align: right;\">\n",
       "      <th></th>\n",
       "      <th>537</th>\n",
       "      <th>538</th>\n",
       "    </tr>\n",
       "  </thead>\n",
       "  <tbody>\n",
       "    <tr>\n",
       "      <th>0</th>\n",
       "      <td>0.0</td>\n",
       "      <td>0.0</td>\n",
       "    </tr>\n",
       "    <tr>\n",
       "      <th>1</th>\n",
       "      <td>0.0</td>\n",
       "      <td>0.0</td>\n",
       "    </tr>\n",
       "    <tr>\n",
       "      <th>2</th>\n",
       "      <td>0.0</td>\n",
       "      <td>0.0</td>\n",
       "    </tr>\n",
       "    <tr>\n",
       "      <th>3</th>\n",
       "      <td>0.0</td>\n",
       "      <td>0.0</td>\n",
       "    </tr>\n",
       "    <tr>\n",
       "      <th>4</th>\n",
       "      <td>0.0</td>\n",
       "      <td>0.0</td>\n",
       "    </tr>\n",
       "    <tr>\n",
       "      <th>...</th>\n",
       "      <td>...</td>\n",
       "      <td>...</td>\n",
       "    </tr>\n",
       "    <tr>\n",
       "      <th>1248</th>\n",
       "      <td>0.0</td>\n",
       "      <td>0.0</td>\n",
       "    </tr>\n",
       "    <tr>\n",
       "      <th>1249</th>\n",
       "      <td>0.0</td>\n",
       "      <td>0.0</td>\n",
       "    </tr>\n",
       "    <tr>\n",
       "      <th>1250</th>\n",
       "      <td>0.0</td>\n",
       "      <td>0.0</td>\n",
       "    </tr>\n",
       "    <tr>\n",
       "      <th>1251</th>\n",
       "      <td>0.0</td>\n",
       "      <td>0.0</td>\n",
       "    </tr>\n",
       "    <tr>\n",
       "      <th>1252</th>\n",
       "      <td>0.0</td>\n",
       "      <td>0.0</td>\n",
       "    </tr>\n",
       "  </tbody>\n",
       "</table>\n",
       "<p>1253 rows × 2 columns</p>\n",
       "</div>"
      ]
     },
     "execution_count": 57,
     "metadata": {},
     "output_type": "execute_result"
    }
   ],
   "execution_count": 57
  },
  {
   "metadata": {
    "ExecuteTime": {
     "end_time": "2025-02-11T19:40:33.528019Z",
     "start_time": "2025-02-11T19:40:33.523924Z"
    }
   },
   "cell_type": "code",
   "source": "len(X_train)",
   "outputs": [
    {
     "data": {
      "text/plain": [
       "1253"
      ]
     },
     "execution_count": 59,
     "metadata": {},
     "output_type": "execute_result"
    }
   ],
   "execution_count": 59
  },
  {
   "metadata": {
    "ExecuteTime": {
     "end_time": "2025-02-11T19:41:11.307855Z",
     "start_time": "2025-02-11T19:41:11.300856Z"
    }
   },
   "cell_type": "code",
   "source": "(X_train['537'] == X_train['538']).sum()",
   "outputs": [
    {
     "data": {
      "text/plain": [
       "1253"
      ]
     },
     "execution_count": 62,
     "metadata": {},
     "output_type": "execute_result"
    }
   ],
   "execution_count": 62
  },
  {
   "metadata": {
    "ExecuteTime": {
     "end_time": "2025-02-11T19:42:07.397058Z",
     "start_time": "2025-02-11T19:42:07.387119Z"
    }
   },
   "cell_type": "code",
   "source": [
    "for one_list in duplicated_columns.values():\n",
    "    X_train.drop(columns=one_list, inplace=True)\n",
    "    X_test.drop(columns=one_list, inplace=True)"
   ],
   "outputs": [],
   "execution_count": 64
  },
  {
   "metadata": {
    "ExecuteTime": {
     "end_time": "2025-02-11T19:42:15.207341Z",
     "start_time": "2025-02-11T19:42:15.201343Z"
    }
   },
   "cell_type": "code",
   "source": "X_train.shape",
   "outputs": [
    {
     "data": {
      "text/plain": [
       "(1253, 438)"
      ]
     },
     "execution_count": 65,
     "metadata": {},
     "output_type": "execute_result"
    }
   ],
   "execution_count": 65
  },
  {
   "metadata": {
    "ExecuteTime": {
     "end_time": "2025-02-11T20:05:57.666266Z",
     "start_time": "2025-02-11T20:05:57.661265Z"
    }
   },
   "cell_type": "code",
   "source": "558 - 438",
   "outputs": [
    {
     "data": {
      "text/plain": [
       "120"
      ]
     },
     "execution_count": 91,
     "metadata": {},
     "output_type": "execute_result"
    }
   ],
   "execution_count": 91
  },
  {
   "metadata": {},
   "cell_type": "markdown",
   "source": "## 2. Variance Threshold"
  },
  {
   "metadata": {
    "ExecuteTime": {
     "end_time": "2025-02-11T19:45:04.247357Z",
     "start_time": "2025-02-11T19:45:04.236837Z"
    }
   },
   "cell_type": "code",
   "source": [
    "# Threshold value guideline\n",
    "# Make sure all the columns are on the same scale, standardize or normalize\n",
    "# When on the same scale, value can be set between 0.1 to 0.01\n",
    "\n",
    "from sklearn.feature_selection import VarianceThreshold\n",
    "\n",
    "sel = VarianceThreshold(threshold=0.1)\n",
    "\n",
    "sel.fit(X_train)"
   ],
   "outputs": [
    {
     "data": {
      "text/plain": [
       "VarianceThreshold(threshold=0.1)"
      ],
      "text/html": [
       "<style>#sk-container-id-4 {\n",
       "  /* Definition of color scheme common for light and dark mode */\n",
       "  --sklearn-color-text: black;\n",
       "  --sklearn-color-line: gray;\n",
       "  /* Definition of color scheme for unfitted estimators */\n",
       "  --sklearn-color-unfitted-level-0: #fff5e6;\n",
       "  --sklearn-color-unfitted-level-1: #f6e4d2;\n",
       "  --sklearn-color-unfitted-level-2: #ffe0b3;\n",
       "  --sklearn-color-unfitted-level-3: chocolate;\n",
       "  /* Definition of color scheme for fitted estimators */\n",
       "  --sklearn-color-fitted-level-0: #f0f8ff;\n",
       "  --sklearn-color-fitted-level-1: #d4ebff;\n",
       "  --sklearn-color-fitted-level-2: #b3dbfd;\n",
       "  --sklearn-color-fitted-level-3: cornflowerblue;\n",
       "\n",
       "  /* Specific color for light theme */\n",
       "  --sklearn-color-text-on-default-background: var(--sg-text-color, var(--theme-code-foreground, var(--jp-content-font-color1, black)));\n",
       "  --sklearn-color-background: var(--sg-background-color, var(--theme-background, var(--jp-layout-color0, white)));\n",
       "  --sklearn-color-border-box: var(--sg-text-color, var(--theme-code-foreground, var(--jp-content-font-color1, black)));\n",
       "  --sklearn-color-icon: #696969;\n",
       "\n",
       "  @media (prefers-color-scheme: dark) {\n",
       "    /* Redefinition of color scheme for dark theme */\n",
       "    --sklearn-color-text-on-default-background: var(--sg-text-color, var(--theme-code-foreground, var(--jp-content-font-color1, white)));\n",
       "    --sklearn-color-background: var(--sg-background-color, var(--theme-background, var(--jp-layout-color0, #111)));\n",
       "    --sklearn-color-border-box: var(--sg-text-color, var(--theme-code-foreground, var(--jp-content-font-color1, white)));\n",
       "    --sklearn-color-icon: #878787;\n",
       "  }\n",
       "}\n",
       "\n",
       "#sk-container-id-4 {\n",
       "  color: var(--sklearn-color-text);\n",
       "}\n",
       "\n",
       "#sk-container-id-4 pre {\n",
       "  padding: 0;\n",
       "}\n",
       "\n",
       "#sk-container-id-4 input.sk-hidden--visually {\n",
       "  border: 0;\n",
       "  clip: rect(1px 1px 1px 1px);\n",
       "  clip: rect(1px, 1px, 1px, 1px);\n",
       "  height: 1px;\n",
       "  margin: -1px;\n",
       "  overflow: hidden;\n",
       "  padding: 0;\n",
       "  position: absolute;\n",
       "  width: 1px;\n",
       "}\n",
       "\n",
       "#sk-container-id-4 div.sk-dashed-wrapped {\n",
       "  border: 1px dashed var(--sklearn-color-line);\n",
       "  margin: 0 0.4em 0.5em 0.4em;\n",
       "  box-sizing: border-box;\n",
       "  padding-bottom: 0.4em;\n",
       "  background-color: var(--sklearn-color-background);\n",
       "}\n",
       "\n",
       "#sk-container-id-4 div.sk-container {\n",
       "  /* jupyter's `normalize.less` sets `[hidden] { display: none; }`\n",
       "     but bootstrap.min.css set `[hidden] { display: none !important; }`\n",
       "     so we also need the `!important` here to be able to override the\n",
       "     default hidden behavior on the sphinx rendered scikit-learn.org.\n",
       "     See: https://github.com/scikit-learn/scikit-learn/issues/21755 */\n",
       "  display: inline-block !important;\n",
       "  position: relative;\n",
       "}\n",
       "\n",
       "#sk-container-id-4 div.sk-text-repr-fallback {\n",
       "  display: none;\n",
       "}\n",
       "\n",
       "div.sk-parallel-item,\n",
       "div.sk-serial,\n",
       "div.sk-item {\n",
       "  /* draw centered vertical line to link estimators */\n",
       "  background-image: linear-gradient(var(--sklearn-color-text-on-default-background), var(--sklearn-color-text-on-default-background));\n",
       "  background-size: 2px 100%;\n",
       "  background-repeat: no-repeat;\n",
       "  background-position: center center;\n",
       "}\n",
       "\n",
       "/* Parallel-specific style estimator block */\n",
       "\n",
       "#sk-container-id-4 div.sk-parallel-item::after {\n",
       "  content: \"\";\n",
       "  width: 100%;\n",
       "  border-bottom: 2px solid var(--sklearn-color-text-on-default-background);\n",
       "  flex-grow: 1;\n",
       "}\n",
       "\n",
       "#sk-container-id-4 div.sk-parallel {\n",
       "  display: flex;\n",
       "  align-items: stretch;\n",
       "  justify-content: center;\n",
       "  background-color: var(--sklearn-color-background);\n",
       "  position: relative;\n",
       "}\n",
       "\n",
       "#sk-container-id-4 div.sk-parallel-item {\n",
       "  display: flex;\n",
       "  flex-direction: column;\n",
       "}\n",
       "\n",
       "#sk-container-id-4 div.sk-parallel-item:first-child::after {\n",
       "  align-self: flex-end;\n",
       "  width: 50%;\n",
       "}\n",
       "\n",
       "#sk-container-id-4 div.sk-parallel-item:last-child::after {\n",
       "  align-self: flex-start;\n",
       "  width: 50%;\n",
       "}\n",
       "\n",
       "#sk-container-id-4 div.sk-parallel-item:only-child::after {\n",
       "  width: 0;\n",
       "}\n",
       "\n",
       "/* Serial-specific style estimator block */\n",
       "\n",
       "#sk-container-id-4 div.sk-serial {\n",
       "  display: flex;\n",
       "  flex-direction: column;\n",
       "  align-items: center;\n",
       "  background-color: var(--sklearn-color-background);\n",
       "  padding-right: 1em;\n",
       "  padding-left: 1em;\n",
       "}\n",
       "\n",
       "\n",
       "/* Toggleable style: style used for estimator/Pipeline/ColumnTransformer box that is\n",
       "clickable and can be expanded/collapsed.\n",
       "- Pipeline and ColumnTransformer use this feature and define the default style\n",
       "- Estimators will overwrite some part of the style using the `sk-estimator` class\n",
       "*/\n",
       "\n",
       "/* Pipeline and ColumnTransformer style (default) */\n",
       "\n",
       "#sk-container-id-4 div.sk-toggleable {\n",
       "  /* Default theme specific background. It is overwritten whether we have a\n",
       "  specific estimator or a Pipeline/ColumnTransformer */\n",
       "  background-color: var(--sklearn-color-background);\n",
       "}\n",
       "\n",
       "/* Toggleable label */\n",
       "#sk-container-id-4 label.sk-toggleable__label {\n",
       "  cursor: pointer;\n",
       "  display: block;\n",
       "  width: 100%;\n",
       "  margin-bottom: 0;\n",
       "  padding: 0.5em;\n",
       "  box-sizing: border-box;\n",
       "  text-align: center;\n",
       "}\n",
       "\n",
       "#sk-container-id-4 label.sk-toggleable__label-arrow:before {\n",
       "  /* Arrow on the left of the label */\n",
       "  content: \"▸\";\n",
       "  float: left;\n",
       "  margin-right: 0.25em;\n",
       "  color: var(--sklearn-color-icon);\n",
       "}\n",
       "\n",
       "#sk-container-id-4 label.sk-toggleable__label-arrow:hover:before {\n",
       "  color: var(--sklearn-color-text);\n",
       "}\n",
       "\n",
       "/* Toggleable content - dropdown */\n",
       "\n",
       "#sk-container-id-4 div.sk-toggleable__content {\n",
       "  max-height: 0;\n",
       "  max-width: 0;\n",
       "  overflow: hidden;\n",
       "  text-align: left;\n",
       "  /* unfitted */\n",
       "  background-color: var(--sklearn-color-unfitted-level-0);\n",
       "}\n",
       "\n",
       "#sk-container-id-4 div.sk-toggleable__content.fitted {\n",
       "  /* fitted */\n",
       "  background-color: var(--sklearn-color-fitted-level-0);\n",
       "}\n",
       "\n",
       "#sk-container-id-4 div.sk-toggleable__content pre {\n",
       "  margin: 0.2em;\n",
       "  border-radius: 0.25em;\n",
       "  color: var(--sklearn-color-text);\n",
       "  /* unfitted */\n",
       "  background-color: var(--sklearn-color-unfitted-level-0);\n",
       "}\n",
       "\n",
       "#sk-container-id-4 div.sk-toggleable__content.fitted pre {\n",
       "  /* unfitted */\n",
       "  background-color: var(--sklearn-color-fitted-level-0);\n",
       "}\n",
       "\n",
       "#sk-container-id-4 input.sk-toggleable__control:checked~div.sk-toggleable__content {\n",
       "  /* Expand drop-down */\n",
       "  max-height: 200px;\n",
       "  max-width: 100%;\n",
       "  overflow: auto;\n",
       "}\n",
       "\n",
       "#sk-container-id-4 input.sk-toggleable__control:checked~label.sk-toggleable__label-arrow:before {\n",
       "  content: \"▾\";\n",
       "}\n",
       "\n",
       "/* Pipeline/ColumnTransformer-specific style */\n",
       "\n",
       "#sk-container-id-4 div.sk-label input.sk-toggleable__control:checked~label.sk-toggleable__label {\n",
       "  color: var(--sklearn-color-text);\n",
       "  background-color: var(--sklearn-color-unfitted-level-2);\n",
       "}\n",
       "\n",
       "#sk-container-id-4 div.sk-label.fitted input.sk-toggleable__control:checked~label.sk-toggleable__label {\n",
       "  background-color: var(--sklearn-color-fitted-level-2);\n",
       "}\n",
       "\n",
       "/* Estimator-specific style */\n",
       "\n",
       "/* Colorize estimator box */\n",
       "#sk-container-id-4 div.sk-estimator input.sk-toggleable__control:checked~label.sk-toggleable__label {\n",
       "  /* unfitted */\n",
       "  background-color: var(--sklearn-color-unfitted-level-2);\n",
       "}\n",
       "\n",
       "#sk-container-id-4 div.sk-estimator.fitted input.sk-toggleable__control:checked~label.sk-toggleable__label {\n",
       "  /* fitted */\n",
       "  background-color: var(--sklearn-color-fitted-level-2);\n",
       "}\n",
       "\n",
       "#sk-container-id-4 div.sk-label label.sk-toggleable__label,\n",
       "#sk-container-id-4 div.sk-label label {\n",
       "  /* The background is the default theme color */\n",
       "  color: var(--sklearn-color-text-on-default-background);\n",
       "}\n",
       "\n",
       "/* On hover, darken the color of the background */\n",
       "#sk-container-id-4 div.sk-label:hover label.sk-toggleable__label {\n",
       "  color: var(--sklearn-color-text);\n",
       "  background-color: var(--sklearn-color-unfitted-level-2);\n",
       "}\n",
       "\n",
       "/* Label box, darken color on hover, fitted */\n",
       "#sk-container-id-4 div.sk-label.fitted:hover label.sk-toggleable__label.fitted {\n",
       "  color: var(--sklearn-color-text);\n",
       "  background-color: var(--sklearn-color-fitted-level-2);\n",
       "}\n",
       "\n",
       "/* Estimator label */\n",
       "\n",
       "#sk-container-id-4 div.sk-label label {\n",
       "  font-family: monospace;\n",
       "  font-weight: bold;\n",
       "  display: inline-block;\n",
       "  line-height: 1.2em;\n",
       "}\n",
       "\n",
       "#sk-container-id-4 div.sk-label-container {\n",
       "  text-align: center;\n",
       "}\n",
       "\n",
       "/* Estimator-specific */\n",
       "#sk-container-id-4 div.sk-estimator {\n",
       "  font-family: monospace;\n",
       "  border: 1px dotted var(--sklearn-color-border-box);\n",
       "  border-radius: 0.25em;\n",
       "  box-sizing: border-box;\n",
       "  margin-bottom: 0.5em;\n",
       "  /* unfitted */\n",
       "  background-color: var(--sklearn-color-unfitted-level-0);\n",
       "}\n",
       "\n",
       "#sk-container-id-4 div.sk-estimator.fitted {\n",
       "  /* fitted */\n",
       "  background-color: var(--sklearn-color-fitted-level-0);\n",
       "}\n",
       "\n",
       "/* on hover */\n",
       "#sk-container-id-4 div.sk-estimator:hover {\n",
       "  /* unfitted */\n",
       "  background-color: var(--sklearn-color-unfitted-level-2);\n",
       "}\n",
       "\n",
       "#sk-container-id-4 div.sk-estimator.fitted:hover {\n",
       "  /* fitted */\n",
       "  background-color: var(--sklearn-color-fitted-level-2);\n",
       "}\n",
       "\n",
       "/* Specification for estimator info (e.g. \"i\" and \"?\") */\n",
       "\n",
       "/* Common style for \"i\" and \"?\" */\n",
       "\n",
       ".sk-estimator-doc-link,\n",
       "a:link.sk-estimator-doc-link,\n",
       "a:visited.sk-estimator-doc-link {\n",
       "  float: right;\n",
       "  font-size: smaller;\n",
       "  line-height: 1em;\n",
       "  font-family: monospace;\n",
       "  background-color: var(--sklearn-color-background);\n",
       "  border-radius: 1em;\n",
       "  height: 1em;\n",
       "  width: 1em;\n",
       "  text-decoration: none !important;\n",
       "  margin-left: 1ex;\n",
       "  /* unfitted */\n",
       "  border: var(--sklearn-color-unfitted-level-1) 1pt solid;\n",
       "  color: var(--sklearn-color-unfitted-level-1);\n",
       "}\n",
       "\n",
       ".sk-estimator-doc-link.fitted,\n",
       "a:link.sk-estimator-doc-link.fitted,\n",
       "a:visited.sk-estimator-doc-link.fitted {\n",
       "  /* fitted */\n",
       "  border: var(--sklearn-color-fitted-level-1) 1pt solid;\n",
       "  color: var(--sklearn-color-fitted-level-1);\n",
       "}\n",
       "\n",
       "/* On hover */\n",
       "div.sk-estimator:hover .sk-estimator-doc-link:hover,\n",
       ".sk-estimator-doc-link:hover,\n",
       "div.sk-label-container:hover .sk-estimator-doc-link:hover,\n",
       ".sk-estimator-doc-link:hover {\n",
       "  /* unfitted */\n",
       "  background-color: var(--sklearn-color-unfitted-level-3);\n",
       "  color: var(--sklearn-color-background);\n",
       "  text-decoration: none;\n",
       "}\n",
       "\n",
       "div.sk-estimator.fitted:hover .sk-estimator-doc-link.fitted:hover,\n",
       ".sk-estimator-doc-link.fitted:hover,\n",
       "div.sk-label-container:hover .sk-estimator-doc-link.fitted:hover,\n",
       ".sk-estimator-doc-link.fitted:hover {\n",
       "  /* fitted */\n",
       "  background-color: var(--sklearn-color-fitted-level-3);\n",
       "  color: var(--sklearn-color-background);\n",
       "  text-decoration: none;\n",
       "}\n",
       "\n",
       "/* Span, style for the box shown on hovering the info icon */\n",
       ".sk-estimator-doc-link span {\n",
       "  display: none;\n",
       "  z-index: 9999;\n",
       "  position: relative;\n",
       "  font-weight: normal;\n",
       "  right: .2ex;\n",
       "  padding: .5ex;\n",
       "  margin: .5ex;\n",
       "  width: min-content;\n",
       "  min-width: 20ex;\n",
       "  max-width: 50ex;\n",
       "  color: var(--sklearn-color-text);\n",
       "  box-shadow: 2pt 2pt 4pt #999;\n",
       "  /* unfitted */\n",
       "  background: var(--sklearn-color-unfitted-level-0);\n",
       "  border: .5pt solid var(--sklearn-color-unfitted-level-3);\n",
       "}\n",
       "\n",
       ".sk-estimator-doc-link.fitted span {\n",
       "  /* fitted */\n",
       "  background: var(--sklearn-color-fitted-level-0);\n",
       "  border: var(--sklearn-color-fitted-level-3);\n",
       "}\n",
       "\n",
       ".sk-estimator-doc-link:hover span {\n",
       "  display: block;\n",
       "}\n",
       "\n",
       "/* \"?\"-specific style due to the `<a>` HTML tag */\n",
       "\n",
       "#sk-container-id-4 a.estimator_doc_link {\n",
       "  float: right;\n",
       "  font-size: 1rem;\n",
       "  line-height: 1em;\n",
       "  font-family: monospace;\n",
       "  background-color: var(--sklearn-color-background);\n",
       "  border-radius: 1rem;\n",
       "  height: 1rem;\n",
       "  width: 1rem;\n",
       "  text-decoration: none;\n",
       "  /* unfitted */\n",
       "  color: var(--sklearn-color-unfitted-level-1);\n",
       "  border: var(--sklearn-color-unfitted-level-1) 1pt solid;\n",
       "}\n",
       "\n",
       "#sk-container-id-4 a.estimator_doc_link.fitted {\n",
       "  /* fitted */\n",
       "  border: var(--sklearn-color-fitted-level-1) 1pt solid;\n",
       "  color: var(--sklearn-color-fitted-level-1);\n",
       "}\n",
       "\n",
       "/* On hover */\n",
       "#sk-container-id-4 a.estimator_doc_link:hover {\n",
       "  /* unfitted */\n",
       "  background-color: var(--sklearn-color-unfitted-level-3);\n",
       "  color: var(--sklearn-color-background);\n",
       "  text-decoration: none;\n",
       "}\n",
       "\n",
       "#sk-container-id-4 a.estimator_doc_link.fitted:hover {\n",
       "  /* fitted */\n",
       "  background-color: var(--sklearn-color-fitted-level-3);\n",
       "}\n",
       "</style><div id=\"sk-container-id-4\" class=\"sk-top-container\"><div class=\"sk-text-repr-fallback\"><pre>VarianceThreshold(threshold=0.1)</pre><b>In a Jupyter environment, please rerun this cell to show the HTML representation or trust the notebook. <br />On GitHub, the HTML representation is unable to render, please try loading this page with nbviewer.org.</b></div><div class=\"sk-container\" hidden><div class=\"sk-item\"><div class=\"sk-estimator fitted sk-toggleable\"><input class=\"sk-toggleable__control sk-hidden--visually\" id=\"sk-estimator-id-4\" type=\"checkbox\" checked><label for=\"sk-estimator-id-4\" class=\"sk-toggleable__label fitted sk-toggleable__label-arrow fitted\">&nbsp;&nbsp;VarianceThreshold<a class=\"sk-estimator-doc-link fitted\" rel=\"noreferrer\" target=\"_blank\" href=\"https://scikit-learn.org/1.5/modules/generated/sklearn.feature_selection.VarianceThreshold.html\">?<span>Documentation for VarianceThreshold</span></a><span class=\"sk-estimator-doc-link fitted\">i<span>Fitted</span></span></label><div class=\"sk-toggleable__content fitted\"><pre>VarianceThreshold(threshold=0.1)</pre></div> </div></div></div></div>"
      ]
     },
     "execution_count": 72,
     "metadata": {},
     "output_type": "execute_result"
    }
   ],
   "execution_count": 72
  },
  {
   "metadata": {
    "ExecuteTime": {
     "end_time": "2025-02-11T19:45:04.492103Z",
     "start_time": "2025-02-11T19:45:04.488103Z"
    }
   },
   "cell_type": "code",
   "source": [
    "# Columns which are more than threshold value\n",
    "sum(sel.get_support())"
   ],
   "outputs": [
    {
     "data": {
      "text/plain": [
       "437"
      ]
     },
     "execution_count": 73,
     "metadata": {},
     "output_type": "execute_result"
    }
   ],
   "execution_count": 73
  },
  {
   "metadata": {
    "ExecuteTime": {
     "end_time": "2025-02-11T19:46:44.316275Z",
     "start_time": "2025-02-11T19:46:44.310917Z"
    }
   },
   "cell_type": "code",
   "source": [
    "# All these columns\n",
    "columns = X_train.columns[sel.get_support()]\n",
    "columns"
   ],
   "outputs": [
    {
     "data": {
      "text/plain": [
       "Index(['0', '1', '2', '3', '4', '6', '7', '8', '9', '10',\n",
       "       ...\n",
       "       '576', '577', '582', '583', '584', '585', '586', '587', '588', '589'],\n",
       "      dtype='object', length=437)"
      ]
     },
     "execution_count": 74,
     "metadata": {},
     "output_type": "execute_result"
    }
   ],
   "execution_count": 74
  },
  {
   "metadata": {
    "ExecuteTime": {
     "end_time": "2025-02-11T19:48:02.843778Z",
     "start_time": "2025-02-11T19:48:02.832462Z"
    }
   },
   "cell_type": "code",
   "source": [
    "# Transform will delete all those columns who are below the threshold\n",
    "\n",
    "X_train = sel.transform(X_train)\n",
    "X_test = sel.transform(X_test)\n",
    "\n",
    "X_train = pd.DataFrame(X_train, columns=columns)\n",
    "X_test = pd.DataFrame(X_test, columns=columns)\n",
    "\n",
    "print(X_train.shape)\n",
    "print(X_test.shape)"
   ],
   "outputs": [
    {
     "name": "stdout",
     "output_type": "stream",
     "text": [
      "(1253, 437)\n",
      "(314, 437)\n"
     ]
    }
   ],
   "execution_count": 75
  },
  {
   "metadata": {},
   "cell_type": "markdown",
   "source": "## 3. Correlation"
  },
  {
   "metadata": {
    "ExecuteTime": {
     "end_time": "2025-02-11T19:49:51.612284Z",
     "start_time": "2025-02-11T19:49:50.246320Z"
    }
   },
   "cell_type": "code",
   "source": [
    "# We are applying brute force approach where we are finding the corr of every feature with all other features\n",
    "# If it is more than 0.95, then keep only one col and drop the rest\n",
    "\n",
    "import seaborn as sns\n",
    "\n",
    "# Dark regions are all high positive corr\n",
    "sns.heatmap(X_train.corr())"
   ],
   "outputs": [
    {
     "data": {
      "text/plain": [
       "<Axes: >"
      ]
     },
     "execution_count": 76,
     "metadata": {},
     "output_type": "execute_result"
    },
    {
     "data": {
      "text/plain": [
       "<Figure size 640x480 with 2 Axes>"
      ],
      "image/png": "[encoded data removed]"
     },
     "metadata": {},
     "output_type": "display_data"
    }
   ],
   "execution_count": 76
  },
  {
   "metadata": {
    "ExecuteTime": {
     "end_time": "2025-02-11T19:50:30.103176Z",
     "start_time": "2025-02-11T19:50:29.202606Z"
    }
   },
   "cell_type": "code",
   "source": [
    "corr_matrix = X_train.corr()\n",
    "corr_matrix"
   ],
   "outputs": [
    {
     "data": {
      "text/plain": [
       "            0         1         2         3         4         6         7  \\\n",
       "0    1.000000 -0.143680  0.011555  0.003914 -0.012802 -0.006775  0.035262   \n",
       "1   -0.143680  1.000000  0.010430 -0.024483 -0.002612 -0.014374 -0.013836   \n",
       "2    0.011555  0.010430  1.000000  0.292022  0.106731 -0.142273 -0.140102   \n",
       "3    0.003914 -0.024483  0.292022  1.000000 -0.065630 -0.675214  0.075457   \n",
       "4   -0.012802 -0.002612  0.106731 -0.065630  1.000000 -0.084024 -0.348672   \n",
       "..        ...       ...       ...       ...       ...       ...       ...   \n",
       "585  0.022836 -0.000229  0.016605  0.029625 -0.002153 -0.044517  0.011812   \n",
       "586  0.014943 -0.004159 -0.044695  0.015701 -0.048659 -0.008861  0.064400   \n",
       "587 -0.042926  0.022830 -0.011731 -0.032527 -0.034726  0.045694 -0.025263   \n",
       "588 -0.043463  0.017696 -0.019067 -0.024909 -0.029114  0.044846 -0.023988   \n",
       "589 -0.000625  0.049031 -0.027925 -0.075410  0.056267  0.044355 -0.117608   \n",
       "\n",
       "            8         9        10  ...       576       577       582  \\\n",
       "0   -0.058239  0.001004 -0.002951  ...  0.015361  0.016619 -0.011406   \n",
       "1    0.042906  0.027468  0.012000  ...  0.016361  0.003295  0.044103   \n",
       "2    0.016621  0.019187  0.052057  ...  0.008221 -0.024629 -0.010622   \n",
       "3   -0.088596  0.058361  0.060999  ...  0.019722  0.038215  0.003635   \n",
       "4   -0.028429  0.060492 -0.008246  ... -0.013885 -0.004937  0.052852   \n",
       "..        ...       ...       ...  ...       ...       ...       ...   \n",
       "585  0.025262 -0.037822  0.039163  ... -0.023465 -0.035356 -0.227918   \n",
       "586  0.012063  0.039907  0.008114  ... -0.037968 -0.022384 -0.024021   \n",
       "587  0.040535  0.051616  0.070055  ... -0.014171 -0.031236  0.001659   \n",
       "588  0.040127  0.057859  0.069009  ... -0.024754 -0.035971  0.004202   \n",
       "589 -0.009311 -0.015294  0.004409  ... -0.020308 -0.031931  0.049357   \n",
       "\n",
       "          583       584       585       586       587       588       589  \n",
       "0    0.022527  0.019423  0.022836  0.014943 -0.042926 -0.043463 -0.000625  \n",
       "1    0.000291 -0.002369 -0.000229 -0.004159  0.022830  0.017696  0.049031  \n",
       "2    0.016476  0.018930  0.016605 -0.044695 -0.011731 -0.019067 -0.027925  \n",
       "3    0.028913  0.027503  0.029625  0.015701 -0.032527 -0.024909 -0.075410  \n",
       "4   -0.001827 -0.002189 -0.002153 -0.048659 -0.034726 -0.029114  0.056267  \n",
       "..        ...       ...       ...       ...       ...       ...       ...  \n",
       "585  0.999910  0.996194  1.000000  0.007184 -0.004953 -0.004131 -0.009151  \n",
       "586  0.006772  0.005188  0.007184  1.000000  0.173652  0.171242 -0.496121  \n",
       "587 -0.004498 -0.004173 -0.004953  0.173652  1.000000  0.973403  0.370821  \n",
       "588 -0.003702 -0.003245 -0.004131  0.171242  0.973403  1.000000  0.373411  \n",
       "589 -0.008419 -0.008204 -0.009151 -0.496121  0.370821  0.373411  1.000000  \n",
       "\n",
       "[437 rows x 437 columns]"
      ],
      "text/html": [
       "<div>\n",
       "<style scoped>\n",
       "    .dataframe tbody tr th:only-of-type {\n",
       "        vertical-align: middle;\n",
       "    }\n",
       "\n",
       "    .dataframe tbody tr th {\n",
       "        vertical-align: top;\n",
       "    }\n",
       "\n",
       "    .dataframe thead th {\n",
       "        text-align: right;\n",
       "    }\n",
       "</style>\n",
       "<table border=\"1\" class=\"dataframe\">\n",
       "  <thead>\n",
       "    <tr style=\"text-align: right;\">\n",
       "      <th></th>\n",
       "      <th>0</th>\n",
       "      <th>1</th>\n",
       "      <th>2</th>\n",
       "      <th>3</th>\n",
       "      <th>4</th>\n",
       "      <th>6</th>\n",
       "      <th>7</th>\n",
       "      <th>8</th>\n",
       "      <th>9</th>\n",
       "      <th>10</th>\n",
       "      <th>...</th>\n",
       "      <th>576</th>\n",
       "      <th>577</th>\n",
       "      <th>582</th>\n",
       "      <th>583</th>\n",
       "      <th>584</th>\n",
       "      <th>585</th>\n",
       "      <th>586</th>\n",
       "      <th>587</th>\n",
       "      <th>588</th>\n",
       "      <th>589</th>\n",
       "    </tr>\n",
       "  </thead>\n",
       "  <tbody>\n",
       "    <tr>\n",
       "      <th>0</th>\n",
       "      <td>1.000000</td>\n",
       "      <td>-0.143680</td>\n",
       "      <td>0.011555</td>\n",
       "      <td>0.003914</td>\n",
       "      <td>-0.012802</td>\n",
       "      <td>-0.006775</td>\n",
       "      <td>0.035262</td>\n",
       "      <td>-0.058239</td>\n",
       "      <td>0.001004</td>\n",
       "      <td>-0.002951</td>\n",
       "      <td>...</td>\n",
       "      <td>0.015361</td>\n",
       "      <td>0.016619</td>\n",
       "      <td>-0.011406</td>\n",
       "      <td>0.022527</td>\n",
       "      <td>0.019423</td>\n",
       "      <td>0.022836</td>\n",
       "      <td>0.014943</td>\n",
       "      <td>-0.042926</td>\n",
       "      <td>-0.043463</td>\n",
       "      <td>-0.000625</td>\n",
       "    </tr>\n",
       "    <tr>\n",
       "      <th>1</th>\n",
       "      <td>-0.143680</td>\n",
       "      <td>1.000000</td>\n",
       "      <td>0.010430</td>\n",
       "      <td>-0.024483</td>\n",
       "      <td>-0.002612</td>\n",
       "      <td>-0.014374</td>\n",
       "      <td>-0.013836</td>\n",
       "      <td>0.042906</td>\n",
       "      <td>0.027468</td>\n",
       "      <td>0.012000</td>\n",
       "      <td>...</td>\n",
       "      <td>0.016361</td>\n",
       "      <td>0.003295</td>\n",
       "      <td>0.044103</td>\n",
       "      <td>0.000291</td>\n",
       "      <td>-0.002369</td>\n",
       "      <td>-0.000229</td>\n",
       "      <td>-0.004159</td>\n",
       "      <td>0.022830</td>\n",
       "      <td>0.017696</td>\n",
       "      <td>0.049031</td>\n",
       "    </tr>\n",
       "    <tr>\n",
       "      <th>2</th>\n",
       "      <td>0.011555</td>\n",
       "      <td>0.010430</td>\n",
       "      <td>1.000000</td>\n",
       "      <td>0.292022</td>\n",
       "      <td>0.106731</td>\n",
       "      <td>-0.142273</td>\n",
       "      <td>-0.140102</td>\n",
       "      <td>0.016621</td>\n",
       "      <td>0.019187</td>\n",
       "      <td>0.052057</td>\n",
       "      <td>...</td>\n",
       "      <td>0.008221</td>\n",
       "      <td>-0.024629</td>\n",
       "      <td>-0.010622</td>\n",
       "      <td>0.016476</td>\n",
       "      <td>0.018930</td>\n",
       "      <td>0.016605</td>\n",
       "      <td>-0.044695</td>\n",
       "      <td>-0.011731</td>\n",
       "      <td>-0.019067</td>\n",
       "      <td>-0.027925</td>\n",
       "    </tr>\n",
       "    <tr>\n",
       "      <th>3</th>\n",
       "      <td>0.003914</td>\n",
       "      <td>-0.024483</td>\n",
       "      <td>0.292022</td>\n",
       "      <td>1.000000</td>\n",
       "      <td>-0.065630</td>\n",
       "      <td>-0.675214</td>\n",
       "      <td>0.075457</td>\n",
       "      <td>-0.088596</td>\n",
       "      <td>0.058361</td>\n",
       "      <td>0.060999</td>\n",
       "      <td>...</td>\n",
       "      <td>0.019722</td>\n",
       "      <td>0.038215</td>\n",
       "      <td>0.003635</td>\n",
       "      <td>0.028913</td>\n",
       "      <td>0.027503</td>\n",
       "      <td>0.029625</td>\n",
       "      <td>0.015701</td>\n",
       "      <td>-0.032527</td>\n",
       "      <td>-0.024909</td>\n",
       "      <td>-0.075410</td>\n",
       "    </tr>\n",
       "    <tr>\n",
       "      <th>4</th>\n",
       "      <td>-0.012802</td>\n",
       "      <td>-0.002612</td>\n",
       "      <td>0.106731</td>\n",
       "      <td>-0.065630</td>\n",
       "      <td>1.000000</td>\n",
       "      <td>-0.084024</td>\n",
       "      <td>-0.348672</td>\n",
       "      <td>-0.028429</td>\n",
       "      <td>0.060492</td>\n",
       "      <td>-0.008246</td>\n",
       "      <td>...</td>\n",
       "      <td>-0.013885</td>\n",
       "      <td>-0.004937</td>\n",
       "      <td>0.052852</td>\n",
       "      <td>-0.001827</td>\n",
       "      <td>-0.002189</td>\n",
       "      <td>-0.002153</td>\n",
       "      <td>-0.048659</td>\n",
       "      <td>-0.034726</td>\n",
       "      <td>-0.029114</td>\n",
       "      <td>0.056267</td>\n",
       "    </tr>\n",
       "    <tr>\n",
       "      <th>...</th>\n",
       "      <td>...</td>\n",
       "      <td>...</td>\n",
       "      <td>...</td>\n",
       "      <td>...</td>\n",
       "      <td>...</td>\n",
       "      <td>...</td>\n",
       "      <td>...</td>\n",
       "      <td>...</td>\n",
       "      <td>...</td>\n",
       "      <td>...</td>\n",
       "      <td>...</td>\n",
       "      <td>...</td>\n",
       "      <td>...</td>\n",
       "      <td>...</td>\n",
       "      <td>...</td>\n",
       "      <td>...</td>\n",
       "      <td>...</td>\n",
       "      <td>...</td>\n",
       "      <td>...</td>\n",
       "      <td>...</td>\n",
       "      <td>...</td>\n",
       "    </tr>\n",
       "    <tr>\n",
       "      <th>585</th>\n",
       "      <td>0.022836</td>\n",
       "      <td>-0.000229</td>\n",
       "      <td>0.016605</td>\n",
       "      <td>0.029625</td>\n",
       "      <td>-0.002153</td>\n",
       "      <td>-0.044517</td>\n",
       "      <td>0.011812</td>\n",
       "      <td>0.025262</td>\n",
       "      <td>-0.037822</td>\n",
       "      <td>0.039163</td>\n",
       "      <td>...</td>\n",
       "      <td>-0.023465</td>\n",
       "      <td>-0.035356</td>\n",
       "      <td>-0.227918</td>\n",
       "      <td>0.999910</td>\n",
       "      <td>0.996194</td>\n",
       "      <td>1.000000</td>\n",
       "      <td>0.007184</td>\n",
       "      <td>-0.004953</td>\n",
       "      <td>-0.004131</td>\n",
       "      <td>-0.009151</td>\n",
       "    </tr>\n",
       "    <tr>\n",
       "      <th>586</th>\n",
       "      <td>0.014943</td>\n",
       "      <td>-0.004159</td>\n",
       "      <td>-0.044695</td>\n",
       "      <td>0.015701</td>\n",
       "      <td>-0.048659</td>\n",
       "      <td>-0.008861</td>\n",
       "      <td>0.064400</td>\n",
       "      <td>0.012063</td>\n",
       "      <td>0.039907</td>\n",
       "      <td>0.008114</td>\n",
       "      <td>...</td>\n",
       "      <td>-0.037968</td>\n",
       "      <td>-0.022384</td>\n",
       "      <td>-0.024021</td>\n",
       "      <td>0.006772</td>\n",
       "      <td>0.005188</td>\n",
       "      <td>0.007184</td>\n",
       "      <td>1.000000</td>\n",
       "      <td>0.173652</td>\n",
       "      <td>0.171242</td>\n",
       "      <td>-0.496121</td>\n",
       "    </tr>\n",
       "    <tr>\n",
       "      <th>587</th>\n",
       "      <td>-0.042926</td>\n",
       "      <td>0.022830</td>\n",
       "      <td>-0.011731</td>\n",
       "      <td>-0.032527</td>\n",
       "      <td>-0.034726</td>\n",
       "      <td>0.045694</td>\n",
       "      <td>-0.025263</td>\n",
       "      <td>0.040535</td>\n",
       "      <td>0.051616</td>\n",
       "      <td>0.070055</td>\n",
       "      <td>...</td>\n",
       "      <td>-0.014171</td>\n",
       "      <td>-0.031236</td>\n",
       "      <td>0.001659</td>\n",
       "      <td>-0.004498</td>\n",
       "      <td>-0.004173</td>\n",
       "      <td>-0.004953</td>\n",
       "      <td>0.173652</td>\n",
       "      <td>1.000000</td>\n",
       "      <td>0.973403</td>\n",
       "      <td>0.370821</td>\n",
       "    </tr>\n",
       "    <tr>\n",
       "      <th>588</th>\n",
       "      <td>-0.043463</td>\n",
       "      <td>0.017696</td>\n",
       "      <td>-0.019067</td>\n",
       "      <td>-0.024909</td>\n",
       "      <td>-0.029114</td>\n",
       "      <td>0.044846</td>\n",
       "      <td>-0.023988</td>\n",
       "      <td>0.040127</td>\n",
       "      <td>0.057859</td>\n",
       "      <td>0.069009</td>\n",
       "      <td>...</td>\n",
       "      <td>-0.024754</td>\n",
       "      <td>-0.035971</td>\n",
       "      <td>0.004202</td>\n",
       "      <td>-0.003702</td>\n",
       "      <td>-0.003245</td>\n",
       "      <td>-0.004131</td>\n",
       "      <td>0.171242</td>\n",
       "      <td>0.973403</td>\n",
       "      <td>1.000000</td>\n",
       "      <td>0.373411</td>\n",
       "    </tr>\n",
       "    <tr>\n",
       "      <th>589</th>\n",
       "      <td>-0.000625</td>\n",
       "      <td>0.049031</td>\n",
       "      <td>-0.027925</td>\n",
       "      <td>-0.075410</td>\n",
       "      <td>0.056267</td>\n",
       "      <td>0.044355</td>\n",
       "      <td>-0.117608</td>\n",
       "      <td>-0.009311</td>\n",
       "      <td>-0.015294</td>\n",
       "      <td>0.004409</td>\n",
       "      <td>...</td>\n",
       "      <td>-0.020308</td>\n",
       "      <td>-0.031931</td>\n",
       "      <td>0.049357</td>\n",
       "      <td>-0.008419</td>\n",
       "      <td>-0.008204</td>\n",
       "      <td>-0.009151</td>\n",
       "      <td>-0.496121</td>\n",
       "      <td>0.370821</td>\n",
       "      <td>0.373411</td>\n",
       "      <td>1.000000</td>\n",
       "    </tr>\n",
       "  </tbody>\n",
       "</table>\n",
       "<p>437 rows × 437 columns</p>\n",
       "</div>"
      ]
     },
     "execution_count": 77,
     "metadata": {},
     "output_type": "execute_result"
    }
   ],
   "execution_count": 77
  },
  {
   "metadata": {
    "ExecuteTime": {
     "end_time": "2025-02-11T19:52:46.476768Z",
     "start_time": "2025-02-11T19:52:45.278839Z"
    }
   },
   "cell_type": "code",
   "source": [
    "# get the column names of the DataFrame\n",
    "columns = corr_matrix.columns\n",
    "\n",
    "# Create an empty list to keep track of columns to drop\n",
    "columns_to_drop = []\n",
    "\n",
    "for i in range(len(columns)):\n",
    "    for j in range(i + 1, len(columns)):\n",
    "        # Access the cell of the DataFrame\n",
    "        if corr_matrix.loc[columns[i], columns[j]] > 0.95:\n",
    "            columns_to_drop.append(columns[j])\n",
    "            \n",
    "# Repetitive cols\n",
    "print(len(columns_to_drop))"
   ],
   "outputs": [
    {
     "name": "stdout",
     "output_type": "stream",
     "text": [
      "252\n"
     ]
    }
   ],
   "execution_count": 78
  },
  {
   "metadata": {
    "ExecuteTime": {
     "end_time": "2025-02-11T19:52:51.973546Z",
     "start_time": "2025-02-11T19:52:51.966669Z"
    }
   },
   "cell_type": "code",
   "source": "columns_to_drop",
   "outputs": [
    {
     "data": {
      "text/plain": [
       "['140',\n",
       " '275',\n",
       " '148',\n",
       " '152',\n",
       " '283',\n",
       " '287',\n",
       " '421',\n",
       " '27',\n",
       " '249',\n",
       " '387',\n",
       " '127',\n",
       " '408',\n",
       " '271',\n",
       " '409',\n",
       " '272',\n",
       " '410',\n",
       " '411',\n",
       " '274',\n",
       " '275',\n",
       " '277',\n",
       " '415',\n",
       " '416',\n",
       " '279',\n",
       " '417',\n",
       " '280',\n",
       " '281',\n",
       " '282',\n",
       " '420',\n",
       " '152',\n",
       " '154',\n",
       " '283',\n",
       " '287',\n",
       " '289',\n",
       " '421',\n",
       " '425',\n",
       " '427',\n",
       " '285',\n",
       " '286',\n",
       " '424',\n",
       " '283',\n",
       " '287',\n",
       " '421',\n",
       " '425',\n",
       " '288',\n",
       " '426',\n",
       " '289',\n",
       " '421',\n",
       " '427',\n",
       " '290',\n",
       " '428',\n",
       " '291',\n",
       " '429',\n",
       " '294',\n",
       " '295',\n",
       " '296',\n",
       " '297',\n",
       " '298',\n",
       " '165',\n",
       " '299',\n",
       " '300',\n",
       " '299',\n",
       " '300',\n",
       " '301',\n",
       " '437',\n",
       " '302',\n",
       " '303',\n",
       " '304',\n",
       " '440',\n",
       " '305',\n",
       " '441',\n",
       " '306',\n",
       " '442',\n",
       " '174',\n",
       " '307',\n",
       " '309',\n",
       " '443',\n",
       " '445',\n",
       " '308',\n",
       " '444',\n",
       " '307',\n",
       " '309',\n",
       " '443',\n",
       " '445',\n",
       " '310',\n",
       " '446',\n",
       " '311',\n",
       " '447',\n",
       " '312',\n",
       " '448',\n",
       " '452',\n",
       " '317',\n",
       " '453',\n",
       " '318',\n",
       " '454',\n",
       " '319',\n",
       " '455',\n",
       " '320',\n",
       " '456',\n",
       " '321',\n",
       " '457',\n",
       " '323',\n",
       " '459',\n",
       " '324',\n",
       " '467',\n",
       " '332',\n",
       " '333',\n",
       " '469',\n",
       " '334',\n",
       " '470',\n",
       " '335',\n",
       " '338',\n",
       " '339',\n",
       " '475',\n",
       " '340',\n",
       " '341',\n",
       " '477',\n",
       " '343',\n",
       " '479',\n",
       " '344',\n",
       " '348',\n",
       " '349',\n",
       " '350',\n",
       " '351',\n",
       " '352',\n",
       " '353',\n",
       " '354',\n",
       " '355',\n",
       " '490',\n",
       " '357',\n",
       " '491',\n",
       " '359',\n",
       " '493',\n",
       " '360',\n",
       " '494',\n",
       " '361',\n",
       " '495',\n",
       " '362',\n",
       " '363',\n",
       " '497',\n",
       " '365',\n",
       " '366',\n",
       " '376',\n",
       " '377',\n",
       " '386',\n",
       " '520',\n",
       " '387',\n",
       " '388',\n",
       " '522',\n",
       " '389',\n",
       " '523',\n",
       " '390',\n",
       " '524',\n",
       " '391',\n",
       " '525',\n",
       " '392',\n",
       " '526',\n",
       " '393',\n",
       " '527',\n",
       " '405',\n",
       " '539',\n",
       " '406',\n",
       " '540',\n",
       " '407',\n",
       " '541',\n",
       " '409',\n",
       " '410',\n",
       " '415',\n",
       " '417',\n",
       " '420',\n",
       " '287',\n",
       " '289',\n",
       " '421',\n",
       " '425',\n",
       " '427',\n",
       " '424',\n",
       " '421',\n",
       " '425',\n",
       " '426',\n",
       " '421',\n",
       " '427',\n",
       " '428',\n",
       " '429',\n",
       " '300',\n",
       " '440',\n",
       " '441',\n",
       " '442',\n",
       " '309',\n",
       " '443',\n",
       " '445',\n",
       " '444',\n",
       " '443',\n",
       " '445',\n",
       " '446',\n",
       " '447',\n",
       " '448',\n",
       " '453',\n",
       " '454',\n",
       " '455',\n",
       " '456',\n",
       " '457',\n",
       " '459',\n",
       " '467',\n",
       " '335',\n",
       " '469',\n",
       " '470',\n",
       " '475',\n",
       " '477',\n",
       " '479',\n",
       " '491',\n",
       " '493',\n",
       " '494',\n",
       " '495',\n",
       " '497',\n",
       " '520',\n",
       " '522',\n",
       " '523',\n",
       " '524',\n",
       " '525',\n",
       " '526',\n",
       " '527',\n",
       " '539',\n",
       " '540',\n",
       " '425',\n",
       " '427',\n",
       " '435',\n",
       " '436',\n",
       " '435',\n",
       " '436',\n",
       " '436',\n",
       " '445',\n",
       " '545',\n",
       " '552',\n",
       " '553',\n",
       " '556',\n",
       " '554',\n",
       " '557',\n",
       " '556',\n",
       " '557',\n",
       " '561',\n",
       " '566',\n",
       " '568',\n",
       " '567',\n",
       " '568',\n",
       " '574',\n",
       " '576',\n",
       " '575',\n",
       " '577',\n",
       " '576',\n",
       " '584',\n",
       " '585',\n",
       " '585',\n",
       " '588']"
      ]
     },
     "execution_count": 79,
     "metadata": {},
     "output_type": "execute_result"
    }
   ],
   "execution_count": 79
  },
  {
   "metadata": {
    "ExecuteTime": {
     "end_time": "2025-02-11T19:53:04.697359Z",
     "start_time": "2025-02-11T19:53:04.690978Z"
    }
   },
   "cell_type": "code",
   "source": [
    "columns_to_drop = set(columns_to_drop)\n",
    "len(columns_to_drop)"
   ],
   "outputs": [
    {
     "data": {
      "text/plain": [
       "164"
      ]
     },
     "execution_count": 80,
     "metadata": {},
     "output_type": "execute_result"
    }
   ],
   "execution_count": 80
  },
  {
   "metadata": {
    "ExecuteTime": {
     "end_time": "2025-02-11T19:53:35.345747Z",
     "start_time": "2025-02-11T19:53:35.333686Z"
    }
   },
   "cell_type": "code",
   "source": [
    "X_train.drop(columns=columns_to_drop, axis=1, inplace=True)\n",
    "X_test.drop(columns=columns_to_drop, axis=1, inplace=True)\n",
    "\n",
    "X_train.shape"
   ],
   "outputs": [
    {
     "data": {
      "text/plain": [
       "(1253, 273)"
      ]
     },
     "execution_count": 81,
     "metadata": {},
     "output_type": "execute_result"
    }
   ],
   "execution_count": 81
  },
  {
   "metadata": {
    "ExecuteTime": {
     "end_time": "2025-02-11T19:55:21.017878Z",
     "start_time": "2025-02-11T19:55:21.014916Z"
    }
   },
   "cell_type": "code",
   "source": [
    "# We started of from 592 \n",
    "# Removed duplicates, and we were left with 438\n",
    "# Applied Variance Threshold and we got 437 remaining\n",
    "# Applied corr, and we are not left with 273"
   ],
   "outputs": [],
   "execution_count": 82
  },
  {
   "metadata": {},
   "cell_type": "markdown",
   "source": "## 4. ANOVA"
  },
  {
   "metadata": {
    "ExecuteTime": {
     "end_time": "2025-02-11T19:56:48.135381Z",
     "start_time": "2025-02-11T19:56:48.118313Z"
    }
   },
   "cell_type": "code",
   "source": [
    "from sklearn.feature_selection import f_classif\n",
    "from sklearn.feature_selection import SelectKBest\n",
    "\n",
    "sel = SelectKBest(f_classif, k=100).fit(X_train, y_train)\n",
    "\n",
    "# Display selected feature names\n",
    "X_train.columns[sel.get_support()]"
   ],
   "outputs": [
    {
     "data": {
      "text/plain": [
       "Index(['0', '10', '11', '14', '17', '21', '22', '25', '26', '28', '32', '33',\n",
       "       '37', '38', '40', '56', '58', '59', '61', '62', '63', '64', '65', '66',\n",
       "       '67', '70', '76', '79', '87', '89', '90', '95', '99', '100', '103',\n",
       "       '104', '114', '121', '122', '123', '124', '125', '126', '129', '130',\n",
       "       '133', '138', '144', '145', '146', '159', '160', '163', '164', '175',\n",
       "       '180', '181', '183', '188', '195', '196', '197', '198', '199', '200',\n",
       "       '203', '204', '205', '207', '210', '213', '215', '222', '225', '227',\n",
       "       '238', '316', '331', '336', '337', '418', '423', '430', '431', '433',\n",
       "       '434', '460', '468', '471', '484', '488', '510', '511', '521', '542',\n",
       "       '543', '550', '551', '559', '573'],\n",
       "      dtype='object')"
      ]
     },
     "execution_count": 83,
     "metadata": {},
     "output_type": "execute_result"
    }
   ],
   "execution_count": 83
  },
  {
   "metadata": {
    "ExecuteTime": {
     "end_time": "2025-02-11T19:58:57.192440Z",
     "start_time": "2025-02-11T19:58:57.178440Z"
    }
   },
   "cell_type": "code",
   "source": [
    "columns = X_train.columns[sel.get_support()]\n",
    "\n",
    "X_train = sel.transform(X_train)\n",
    "X_test = sel.transform(X_test)\n",
    "\n",
    "X_train = pd.DataFrame(X_train, columns=columns)\n",
    "X_test = pd.DataFrame(X_test, columns=columns)\n",
    "\n",
    "print(X_train.shape)\n",
    "print(X_test.shape)"
   ],
   "outputs": [
    {
     "name": "stdout",
     "output_type": "stream",
     "text": [
      "(1253, 100)\n",
      "(314, 100)\n"
     ]
    }
   ],
   "execution_count": 85
  },
  {
   "metadata": {},
   "cell_type": "markdown",
   "source": "# Moment of Truth"
  },
  {
   "metadata": {
    "ExecuteTime": {
     "end_time": "2025-02-11T19:59:46.343235Z",
     "start_time": "2025-02-11T19:59:46.320147Z"
    }
   },
   "cell_type": "code",
   "source": [
    "log_reg = LogisticRegression(max_iter=1000)\n",
    "log_reg.fit(X_train, y_train)\n",
    "\n",
    "y_pred = log_reg.predict(X_test)\n",
    "\n",
    "baseline_log_reg_score = accuracy_score(y_test, y_pred)\n",
    "baseline_log_reg_score"
   ],
   "outputs": [
    {
     "data": {
      "text/plain": [
       "0.8980891719745223"
      ]
     },
     "execution_count": 86,
     "metadata": {},
     "output_type": "execute_result"
    }
   ],
   "execution_count": 86
  },
  {
   "metadata": {},
   "cell_type": "code",
   "outputs": [],
   "execution_count": null,
   "source": ""
  }
 ]
}
