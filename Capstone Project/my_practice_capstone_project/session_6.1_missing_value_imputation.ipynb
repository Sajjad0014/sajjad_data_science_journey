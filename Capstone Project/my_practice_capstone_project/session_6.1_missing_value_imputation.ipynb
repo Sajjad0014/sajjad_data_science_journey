{
 "cells": [
  {
   "cell_type": "code",
   "id": "initial_id",
   "metadata": {
    "collapsed": true,
    "ExecuteTime": {
     "end_time": "2025-07-25T02:50:43.349536Z",
     "start_time": "2025-07-25T02:50:43.343564Z"
    }
   },
   "source": [
    "import numpy as np\n",
    "import pandas as pd\n",
    "import matplotlib.pyplot as plt\n",
    "import seaborn as sns"
   ],
   "outputs": [],
   "execution_count": 142
  },
  {
   "metadata": {
    "ExecuteTime": {
     "end_time": "2025-07-25T02:50:43.365093Z",
     "start_time": "2025-07-25T02:50:43.362059Z"
    }
   },
   "cell_type": "code",
   "source": "pd.set_option('display.max_columns', None)",
   "id": "e37ace096880781e",
   "outputs": [],
   "execution_count": 143
  },
  {
   "metadata": {
    "ExecuteTime": {
     "end_time": "2025-07-25T02:50:43.438640Z",
     "start_time": "2025-07-25T02:50:43.391099Z"
    }
   },
   "cell_type": "code",
   "source": [
    "df = pd.read_csv('gurgaon_properties_outlier_treated.csv')\n",
    "df.head()"
   ],
   "id": "a55f3e18c097a699",
   "outputs": [
    {
     "data": {
      "text/plain": [
       "  property_type                      society      sector  price  \\\n",
       "0          flat      signature global park 4   sector 36   0.82   \n",
       "1          flat             smart world gems   sector 89   0.95   \n",
       "2          flat       breez global hill view  sohna road   0.32   \n",
       "3          flat  bestech park view sanskruti   sector 92   1.60   \n",
       "4          flat               suncity avenue  sector 102   0.48   \n",
       "\n",
       "   price_per_sqft    area                                       areaWithType  \\\n",
       "0          7586.0  1081.0  Super Built up area 1081(100.43 sq.m.)Carpet a...   \n",
       "1          8597.0  1105.0                   Carpet area: 1103 (102.47 sq.m.)   \n",
       "2          5470.0   585.0  Built Up area: 1000 (92.9 sq.m.)Carpet area: 5...   \n",
       "3          8020.0  1995.0  Super Built up area 1995(185.34 sq.m.)Built Up...   \n",
       "4          9023.0   532.0  Super Built up area 632(58.71 sq.m.)Carpet are...   \n",
       "\n",
       "   bedRoom  bathroom balcony  floorNum      facing   agePossession  \\\n",
       "0        3         2       2       2.0         NaN    New Property   \n",
       "1        2         2       2       4.0         NaN    New Property   \n",
       "2        2         2       1      17.0         NaN    New Property   \n",
       "3        3         4      3+      10.0  North-West  Relatively New   \n",
       "4        2         2       1       5.0  North-East  Relatively New   \n",
       "\n",
       "   super_built_up_area  built_up_area  carpet_area  study room  servant room  \\\n",
       "0               1081.0            NaN        650.0           0             0   \n",
       "1                  NaN            NaN       1103.0           1             1   \n",
       "2                  NaN         1000.0        585.0           0             0   \n",
       "3               1995.0         1615.0       1476.0           0             1   \n",
       "4                632.0            NaN        532.0           0             0   \n",
       "\n",
       "   store room  pooja room  others  furnishing_type  luxury_score  \\\n",
       "0           0           0       0                0             8   \n",
       "1           0           0       0                0            38   \n",
       "2           0           0       0                0            49   \n",
       "3           0           0       1                1           174   \n",
       "4           1           0       0                0           159   \n",
       "\n",
       "   area_room_ratio  \n",
       "0       360.333333  \n",
       "1       552.500000  \n",
       "2       292.500000  \n",
       "3       665.000000  \n",
       "4       266.000000  "
      ],
      "text/html": [
       "<div>\n",
       "<style scoped>\n",
       "    .dataframe tbody tr th:only-of-type {\n",
       "        vertical-align: middle;\n",
       "    }\n",
       "\n",
       "    .dataframe tbody tr th {\n",
       "        vertical-align: top;\n",
       "    }\n",
       "\n",
       "    .dataframe thead th {\n",
       "        text-align: right;\n",
       "    }\n",
       "</style>\n",
       "<table border=\"1\" class=\"dataframe\">\n",
       "  <thead>\n",
       "    <tr style=\"text-align: right;\">\n",
       "      <th></th>\n",
       "      <th>property_type</th>\n",
       "      <th>society</th>\n",
       "      <th>sector</th>\n",
       "      <th>price</th>\n",
       "      <th>price_per_sqft</th>\n",
       "      <th>area</th>\n",
       "      <th>areaWithType</th>\n",
       "      <th>bedRoom</th>\n",
       "      <th>bathroom</th>\n",
       "      <th>balcony</th>\n",
       "      <th>floorNum</th>\n",
       "      <th>facing</th>\n",
       "      <th>agePossession</th>\n",
       "      <th>super_built_up_area</th>\n",
       "      <th>built_up_area</th>\n",
       "      <th>carpet_area</th>\n",
       "      <th>study room</th>\n",
       "      <th>servant room</th>\n",
       "      <th>store room</th>\n",
       "      <th>pooja room</th>\n",
       "      <th>others</th>\n",
       "      <th>furnishing_type</th>\n",
       "      <th>luxury_score</th>\n",
       "      <th>area_room_ratio</th>\n",
       "    </tr>\n",
       "  </thead>\n",
       "  <tbody>\n",
       "    <tr>\n",
       "      <th>0</th>\n",
       "      <td>flat</td>\n",
       "      <td>signature global park 4</td>\n",
       "      <td>sector 36</td>\n",
       "      <td>0.82</td>\n",
       "      <td>7586.0</td>\n",
       "      <td>1081.0</td>\n",
       "      <td>Super Built up area 1081(100.43 sq.m.)Carpet a...</td>\n",
       "      <td>3</td>\n",
       "      <td>2</td>\n",
       "      <td>2</td>\n",
       "      <td>2.0</td>\n",
       "      <td>NaN</td>\n",
       "      <td>New Property</td>\n",
       "      <td>1081.0</td>\n",
       "      <td>NaN</td>\n",
       "      <td>650.0</td>\n",
       "      <td>0</td>\n",
       "      <td>0</td>\n",
       "      <td>0</td>\n",
       "      <td>0</td>\n",
       "      <td>0</td>\n",
       "      <td>0</td>\n",
       "      <td>8</td>\n",
       "      <td>360.333333</td>\n",
       "    </tr>\n",
       "    <tr>\n",
       "      <th>1</th>\n",
       "      <td>flat</td>\n",
       "      <td>smart world gems</td>\n",
       "      <td>sector 89</td>\n",
       "      <td>0.95</td>\n",
       "      <td>8597.0</td>\n",
       "      <td>1105.0</td>\n",
       "      <td>Carpet area: 1103 (102.47 sq.m.)</td>\n",
       "      <td>2</td>\n",
       "      <td>2</td>\n",
       "      <td>2</td>\n",
       "      <td>4.0</td>\n",
       "      <td>NaN</td>\n",
       "      <td>New Property</td>\n",
       "      <td>NaN</td>\n",
       "      <td>NaN</td>\n",
       "      <td>1103.0</td>\n",
       "      <td>1</td>\n",
       "      <td>1</td>\n",
       "      <td>0</td>\n",
       "      <td>0</td>\n",
       "      <td>0</td>\n",
       "      <td>0</td>\n",
       "      <td>38</td>\n",
       "      <td>552.500000</td>\n",
       "    </tr>\n",
       "    <tr>\n",
       "      <th>2</th>\n",
       "      <td>flat</td>\n",
       "      <td>breez global hill view</td>\n",
       "      <td>sohna road</td>\n",
       "      <td>0.32</td>\n",
       "      <td>5470.0</td>\n",
       "      <td>585.0</td>\n",
       "      <td>Built Up area: 1000 (92.9 sq.m.)Carpet area: 5...</td>\n",
       "      <td>2</td>\n",
       "      <td>2</td>\n",
       "      <td>1</td>\n",
       "      <td>17.0</td>\n",
       "      <td>NaN</td>\n",
       "      <td>New Property</td>\n",
       "      <td>NaN</td>\n",
       "      <td>1000.0</td>\n",
       "      <td>585.0</td>\n",
       "      <td>0</td>\n",
       "      <td>0</td>\n",
       "      <td>0</td>\n",
       "      <td>0</td>\n",
       "      <td>0</td>\n",
       "      <td>0</td>\n",
       "      <td>49</td>\n",
       "      <td>292.500000</td>\n",
       "    </tr>\n",
       "    <tr>\n",
       "      <th>3</th>\n",
       "      <td>flat</td>\n",
       "      <td>bestech park view sanskruti</td>\n",
       "      <td>sector 92</td>\n",
       "      <td>1.60</td>\n",
       "      <td>8020.0</td>\n",
       "      <td>1995.0</td>\n",
       "      <td>Super Built up area 1995(185.34 sq.m.)Built Up...</td>\n",
       "      <td>3</td>\n",
       "      <td>4</td>\n",
       "      <td>3+</td>\n",
       "      <td>10.0</td>\n",
       "      <td>North-West</td>\n",
       "      <td>Relatively New</td>\n",
       "      <td>1995.0</td>\n",
       "      <td>1615.0</td>\n",
       "      <td>1476.0</td>\n",
       "      <td>0</td>\n",
       "      <td>1</td>\n",
       "      <td>0</td>\n",
       "      <td>0</td>\n",
       "      <td>1</td>\n",
       "      <td>1</td>\n",
       "      <td>174</td>\n",
       "      <td>665.000000</td>\n",
       "    </tr>\n",
       "    <tr>\n",
       "      <th>4</th>\n",
       "      <td>flat</td>\n",
       "      <td>suncity avenue</td>\n",
       "      <td>sector 102</td>\n",
       "      <td>0.48</td>\n",
       "      <td>9023.0</td>\n",
       "      <td>532.0</td>\n",
       "      <td>Super Built up area 632(58.71 sq.m.)Carpet are...</td>\n",
       "      <td>2</td>\n",
       "      <td>2</td>\n",
       "      <td>1</td>\n",
       "      <td>5.0</td>\n",
       "      <td>North-East</td>\n",
       "      <td>Relatively New</td>\n",
       "      <td>632.0</td>\n",
       "      <td>NaN</td>\n",
       "      <td>532.0</td>\n",
       "      <td>0</td>\n",
       "      <td>0</td>\n",
       "      <td>1</td>\n",
       "      <td>0</td>\n",
       "      <td>0</td>\n",
       "      <td>0</td>\n",
       "      <td>159</td>\n",
       "      <td>266.000000</td>\n",
       "    </tr>\n",
       "  </tbody>\n",
       "</table>\n",
       "</div>"
      ]
     },
     "execution_count": 144,
     "metadata": {},
     "output_type": "execute_result"
    }
   ],
   "execution_count": 144
  },
  {
   "metadata": {
    "ExecuteTime": {
     "end_time": "2025-07-25T02:50:43.474934Z",
     "start_time": "2025-07-25T02:50:43.467152Z"
    }
   },
   "cell_type": "code",
   "source": "print(df.isnull().sum())",
   "id": "1c831c483949a705",
   "outputs": [
    {
     "name": "stdout",
     "output_type": "stream",
     "text": [
      "property_type             0\n",
      "society                   1\n",
      "sector                    0\n",
      "price                     0\n",
      "price_per_sqft            0\n",
      "area                      0\n",
      "areaWithType              0\n",
      "bedRoom                   0\n",
      "bathroom                  0\n",
      "balcony                   0\n",
      "floorNum                 17\n",
      "facing                 1011\n",
      "agePossession             0\n",
      "super_built_up_area    1680\n",
      "built_up_area          1968\n",
      "carpet_area            1715\n",
      "study room                0\n",
      "servant room              0\n",
      "store room                0\n",
      "pooja room                0\n",
      "others                    0\n",
      "furnishing_type           0\n",
      "luxury_score              0\n",
      "area_room_ratio           0\n",
      "dtype: int64\n"
     ]
    }
   ],
   "execution_count": 145
  },
  {
   "metadata": {},
   "cell_type": "markdown",
   "source": "#### Built up area",
   "id": "f9574755d6f940a5"
  },
  {
   "metadata": {
    "ExecuteTime": {
     "end_time": "2025-07-25T02:50:43.727357Z",
     "start_time": "2025-07-25T02:50:43.523943Z"
    }
   },
   "cell_type": "code",
   "source": "sns.scatterplot(x=df['built_up_area'], y=df['super_built_up_area'])",
   "id": "acddb5f71fe4644f",
   "outputs": [
    {
     "data": {
      "text/plain": [
       "<Axes: xlabel='built_up_area', ylabel='super_built_up_area'>"
      ]
     },
     "execution_count": 146,
     "metadata": {},
     "output_type": "execute_result"
    },
    {
     "data": {
      "text/plain": [
       "<Figure size 640x480 with 1 Axes>"
      ],
      "image/png": "[encoded data removed]"
     },
     "metadata": {},
     "output_type": "display_data"
    }
   ],
   "execution_count": 146
  },
  {
   "metadata": {},
   "cell_type": "markdown",
   "source": "strong correlation",
   "id": "156b7882d4374b8d"
  },
  {
   "metadata": {
    "ExecuteTime": {
     "end_time": "2025-07-25T02:50:43.861439Z",
     "start_time": "2025-07-25T02:50:43.728716Z"
    }
   },
   "cell_type": "code",
   "source": "sns.scatterplot(x=df['built_up_area'], y=df['carpet_area'])",
   "id": "a266e9ad2b50b900",
   "outputs": [
    {
     "data": {
      "text/plain": [
       "<Axes: xlabel='built_up_area', ylabel='carpet_area'>"
      ]
     },
     "execution_count": 147,
     "metadata": {},
     "output_type": "execute_result"
    },
    {
     "data": {
      "text/plain": [
       "<Figure size 640x480 with 1 Axes>"
      ],
      "image/png": "[encoded data removed]"
     },
     "metadata": {},
     "output_type": "display_data"
    }
   ],
   "execution_count": 147
  },
  {
   "metadata": {
    "ExecuteTime": {
     "end_time": "2025-07-25T02:50:43.867637Z",
     "start_time": "2025-07-25T02:50:43.862828Z"
    }
   },
   "cell_type": "code",
   "source": "((df['super_built_up_area'].isnull()) & (df['built_up_area'].isnull()) & (df['carpet_area'].isnull())).sum()",
   "id": "32ed441fbf26ecce",
   "outputs": [
    {
     "data": {
      "text/plain": [
       "0"
      ]
     },
     "execution_count": 148,
     "metadata": {},
     "output_type": "execute_result"
    }
   ],
   "execution_count": 148
  },
  {
   "metadata": {},
   "cell_type": "markdown",
   "source": "There are 0 rows with all three missing values ",
   "id": "439571b8b5aa8ac8"
  },
  {
   "metadata": {
    "ExecuteTime": {
     "end_time": "2025-07-25T02:50:43.878495Z",
     "start_time": "2025-07-25T02:50:43.868643Z"
    }
   },
   "cell_type": "code",
   "source": [
    "all_present_df = df[\n",
    "    ~((df['super_built_up_area'].isnull()) | (df['built_up_area'].isnull()) | (df['carpet_area'].isnull()))]"
   ],
   "id": "b3fd31a7f2bc9d80",
   "outputs": [],
   "execution_count": 149
  },
  {
   "metadata": {
    "ExecuteTime": {
     "end_time": "2025-07-25T02:50:43.899998Z",
     "start_time": "2025-07-25T02:50:43.879502Z"
    }
   },
   "cell_type": "code",
   "source": "all_present_df.head()",
   "id": "df6fbba5284016a",
   "outputs": [
    {
     "data": {
      "text/plain": [
       "   property_type                      society      sector  price  \\\n",
       "3           flat  bestech park view sanskruti   sector 92   1.60   \n",
       "16          flat                  ss the leaf   sector 85   1.09   \n",
       "17          flat       capital residences 360  sector 70a   1.15   \n",
       "32          flat     emaar mgf the palm drive   sector 66   3.50   \n",
       "34          flat             dlf the skycourt   sector 86   1.54   \n",
       "\n",
       "    price_per_sqft    area                                       areaWithType  \\\n",
       "3           8020.0  1995.0  Super Built up area 1995(185.34 sq.m.)Built Up...   \n",
       "16          6667.0  1635.0  Super Built up area 1640(152.36 sq.m.)Built Up...   \n",
       "17         11500.0  1000.0  Super Built up area 1450(134.71 sq.m.)Built Up...   \n",
       "32         15909.0  2200.0  Super Built up area 2200(204.39 sq.m.)Built Up...   \n",
       "34          9222.0  1670.0  Super Built up area 1929(179.21 sq.m.)Built Up...   \n",
       "\n",
       "    bedRoom  bathroom balcony  floorNum      facing   agePossession  \\\n",
       "3         3         4      3+      10.0  North-West  Relatively New   \n",
       "16        2         2       3       9.0  South-West  Relatively New   \n",
       "17        2         2       3       4.0        East    New Property   \n",
       "32        3         3       3       7.0  North-East  Moderately Old   \n",
       "34        3         3      3+      15.0  North-West  Relatively New   \n",
       "\n",
       "    super_built_up_area  built_up_area  carpet_area  study room  servant room  \\\n",
       "3                1995.0         1615.0       1476.0           0             1   \n",
       "16               1640.0         1638.0       1635.0           0             0   \n",
       "17               1450.0         1400.0       1000.0           0             0   \n",
       "32               2200.0         2125.0       2000.0           0             1   \n",
       "34               1929.0         1780.0       1670.0           0             1   \n",
       "\n",
       "    store room  pooja room  others  furnishing_type  luxury_score  \\\n",
       "3            0           0       1                1           174   \n",
       "16           1           0       0                0           174   \n",
       "17           0           1       0                0           132   \n",
       "32           1           0       0                1           149   \n",
       "34           0           0       0                0           174   \n",
       "\n",
       "    area_room_ratio  \n",
       "3        665.000000  \n",
       "16       817.500000  \n",
       "17       500.000000  \n",
       "32       733.333333  \n",
       "34       556.666667  "
      ],
      "text/html": [
       "<div>\n",
       "<style scoped>\n",
       "    .dataframe tbody tr th:only-of-type {\n",
       "        vertical-align: middle;\n",
       "    }\n",
       "\n",
       "    .dataframe tbody tr th {\n",
       "        vertical-align: top;\n",
       "    }\n",
       "\n",
       "    .dataframe thead th {\n",
       "        text-align: right;\n",
       "    }\n",
       "</style>\n",
       "<table border=\"1\" class=\"dataframe\">\n",
       "  <thead>\n",
       "    <tr style=\"text-align: right;\">\n",
       "      <th></th>\n",
       "      <th>property_type</th>\n",
       "      <th>society</th>\n",
       "      <th>sector</th>\n",
       "      <th>price</th>\n",
       "      <th>price_per_sqft</th>\n",
       "      <th>area</th>\n",
       "      <th>areaWithType</th>\n",
       "      <th>bedRoom</th>\n",
       "      <th>bathroom</th>\n",
       "      <th>balcony</th>\n",
       "      <th>floorNum</th>\n",
       "      <th>facing</th>\n",
       "      <th>agePossession</th>\n",
       "      <th>super_built_up_area</th>\n",
       "      <th>built_up_area</th>\n",
       "      <th>carpet_area</th>\n",
       "      <th>study room</th>\n",
       "      <th>servant room</th>\n",
       "      <th>store room</th>\n",
       "      <th>pooja room</th>\n",
       "      <th>others</th>\n",
       "      <th>furnishing_type</th>\n",
       "      <th>luxury_score</th>\n",
       "      <th>area_room_ratio</th>\n",
       "    </tr>\n",
       "  </thead>\n",
       "  <tbody>\n",
       "    <tr>\n",
       "      <th>3</th>\n",
       "      <td>flat</td>\n",
       "      <td>bestech park view sanskruti</td>\n",
       "      <td>sector 92</td>\n",
       "      <td>1.60</td>\n",
       "      <td>8020.0</td>\n",
       "      <td>1995.0</td>\n",
       "      <td>Super Built up area 1995(185.34 sq.m.)Built Up...</td>\n",
       "      <td>3</td>\n",
       "      <td>4</td>\n",
       "      <td>3+</td>\n",
       "      <td>10.0</td>\n",
       "      <td>North-West</td>\n",
       "      <td>Relatively New</td>\n",
       "      <td>1995.0</td>\n",
       "      <td>1615.0</td>\n",
       "      <td>1476.0</td>\n",
       "      <td>0</td>\n",
       "      <td>1</td>\n",
       "      <td>0</td>\n",
       "      <td>0</td>\n",
       "      <td>1</td>\n",
       "      <td>1</td>\n",
       "      <td>174</td>\n",
       "      <td>665.000000</td>\n",
       "    </tr>\n",
       "    <tr>\n",
       "      <th>16</th>\n",
       "      <td>flat</td>\n",
       "      <td>ss the leaf</td>\n",
       "      <td>sector 85</td>\n",
       "      <td>1.09</td>\n",
       "      <td>6667.0</td>\n",
       "      <td>1635.0</td>\n",
       "      <td>Super Built up area 1640(152.36 sq.m.)Built Up...</td>\n",
       "      <td>2</td>\n",
       "      <td>2</td>\n",
       "      <td>3</td>\n",
       "      <td>9.0</td>\n",
       "      <td>South-West</td>\n",
       "      <td>Relatively New</td>\n",
       "      <td>1640.0</td>\n",
       "      <td>1638.0</td>\n",
       "      <td>1635.0</td>\n",
       "      <td>0</td>\n",
       "      <td>0</td>\n",
       "      <td>1</td>\n",
       "      <td>0</td>\n",
       "      <td>0</td>\n",
       "      <td>0</td>\n",
       "      <td>174</td>\n",
       "      <td>817.500000</td>\n",
       "    </tr>\n",
       "    <tr>\n",
       "      <th>17</th>\n",
       "      <td>flat</td>\n",
       "      <td>capital residences 360</td>\n",
       "      <td>sector 70a</td>\n",
       "      <td>1.15</td>\n",
       "      <td>11500.0</td>\n",
       "      <td>1000.0</td>\n",
       "      <td>Super Built up area 1450(134.71 sq.m.)Built Up...</td>\n",
       "      <td>2</td>\n",
       "      <td>2</td>\n",
       "      <td>3</td>\n",
       "      <td>4.0</td>\n",
       "      <td>East</td>\n",
       "      <td>New Property</td>\n",
       "      <td>1450.0</td>\n",
       "      <td>1400.0</td>\n",
       "      <td>1000.0</td>\n",
       "      <td>0</td>\n",
       "      <td>0</td>\n",
       "      <td>0</td>\n",
       "      <td>1</td>\n",
       "      <td>0</td>\n",
       "      <td>0</td>\n",
       "      <td>132</td>\n",
       "      <td>500.000000</td>\n",
       "    </tr>\n",
       "    <tr>\n",
       "      <th>32</th>\n",
       "      <td>flat</td>\n",
       "      <td>emaar mgf the palm drive</td>\n",
       "      <td>sector 66</td>\n",
       "      <td>3.50</td>\n",
       "      <td>15909.0</td>\n",
       "      <td>2200.0</td>\n",
       "      <td>Super Built up area 2200(204.39 sq.m.)Built Up...</td>\n",
       "      <td>3</td>\n",
       "      <td>3</td>\n",
       "      <td>3</td>\n",
       "      <td>7.0</td>\n",
       "      <td>North-East</td>\n",
       "      <td>Moderately Old</td>\n",
       "      <td>2200.0</td>\n",
       "      <td>2125.0</td>\n",
       "      <td>2000.0</td>\n",
       "      <td>0</td>\n",
       "      <td>1</td>\n",
       "      <td>1</td>\n",
       "      <td>0</td>\n",
       "      <td>0</td>\n",
       "      <td>1</td>\n",
       "      <td>149</td>\n",
       "      <td>733.333333</td>\n",
       "    </tr>\n",
       "    <tr>\n",
       "      <th>34</th>\n",
       "      <td>flat</td>\n",
       "      <td>dlf the skycourt</td>\n",
       "      <td>sector 86</td>\n",
       "      <td>1.54</td>\n",
       "      <td>9222.0</td>\n",
       "      <td>1670.0</td>\n",
       "      <td>Super Built up area 1929(179.21 sq.m.)Built Up...</td>\n",
       "      <td>3</td>\n",
       "      <td>3</td>\n",
       "      <td>3+</td>\n",
       "      <td>15.0</td>\n",
       "      <td>North-West</td>\n",
       "      <td>Relatively New</td>\n",
       "      <td>1929.0</td>\n",
       "      <td>1780.0</td>\n",
       "      <td>1670.0</td>\n",
       "      <td>0</td>\n",
       "      <td>1</td>\n",
       "      <td>0</td>\n",
       "      <td>0</td>\n",
       "      <td>0</td>\n",
       "      <td>0</td>\n",
       "      <td>174</td>\n",
       "      <td>556.666667</td>\n",
       "    </tr>\n",
       "  </tbody>\n",
       "</table>\n",
       "</div>"
      ]
     },
     "execution_count": 150,
     "metadata": {},
     "output_type": "execute_result"
    }
   ],
   "execution_count": 150
  },
  {
   "metadata": {
    "ExecuteTime": {
     "end_time": "2025-07-25T02:50:43.971937Z",
     "start_time": "2025-07-25T02:50:43.967934Z"
    }
   },
   "cell_type": "code",
   "source": "all_present_df.shape",
   "id": "37fbaa0bd9f5ea7f",
   "outputs": [
    {
     "data": {
      "text/plain": [
       "(531, 24)"
      ]
     },
     "execution_count": 151,
     "metadata": {},
     "output_type": "execute_result"
    }
   ],
   "execution_count": 151
  },
  {
   "metadata": {
    "ExecuteTime": {
     "end_time": "2025-07-25T02:50:44.023510Z",
     "start_time": "2025-07-25T02:50:44.018175Z"
    }
   },
   "cell_type": "code",
   "source": [
    "super_to_built_up_ratio = (all_present_df['super_built_up_area'] / all_present_df['built_up_area']).median()\n",
    "career_to_built_up_ratio = (all_present_df['carpet_area'] / all_present_df['built_up_area']).median()\n",
    "\n",
    "print(super_to_built_up_ratio, career_to_built_up_ratio)"
   ],
   "id": "8c3aff5f373f24bf",
   "outputs": [
    {
     "name": "stdout",
     "output_type": "stream",
     "text": [
      "1.105263157894737 0.9\n"
     ]
    }
   ],
   "execution_count": 152
  },
  {
   "metadata": {
    "ExecuteTime": {
     "end_time": "2025-07-25T02:50:44.149670Z",
     "start_time": "2025-07-25T02:50:44.133301Z"
    }
   },
   "cell_type": "code",
   "source": [
    "# Both present built up null\n",
    "sbc_df = df[~(df['super_built_up_area'].isnull()) & (df['built_up_area'].isnull()) & ~(df['carpet_area'].isnull())]\n",
    "sbc_df.head()"
   ],
   "id": "13a98445d81af439",
   "outputs": [
    {
     "data": {
      "text/plain": [
       "   property_type                  society      sector  price  price_per_sqft  \\\n",
       "0           flat  signature global park 4   sector 36   0.82          7586.0   \n",
       "4           flat           suncity avenue  sector 102   0.48          9023.0   \n",
       "38          flat             corona optus   sector 37   1.25          7176.0   \n",
       "40          flat               m3m merlin   sector 67   2.80         13679.0   \n",
       "45          flat      smart world orchard   sector 61   2.10         13752.0   \n",
       "\n",
       "      area                                       areaWithType  bedRoom  \\\n",
       "0   1081.0  Super Built up area 1081(100.43 sq.m.)Carpet a...        3   \n",
       "4    532.0  Super Built up area 632(58.71 sq.m.)Carpet are...        2   \n",
       "38  1742.0  Super Built up area 1735(161.19 sq.m.)Carpet a...        3   \n",
       "40  2047.0  Super Built up area 2047(190.17 sq.m.)Carpet a...        3   \n",
       "45  1527.0  Super Built up area 1549(143.91 sq.m.)Carpet a...        3   \n",
       "\n",
       "    bathroom balcony  floorNum      facing       agePossession  \\\n",
       "0          2       2       2.0         NaN        New Property   \n",
       "4          2       1       5.0  North-East      Relatively New   \n",
       "38         3       3       2.0  North-West      Relatively New   \n",
       "40         3       3       5.0  North-East      Moderately Old   \n",
       "45         2       3       3.0       South  Under Construction   \n",
       "\n",
       "    super_built_up_area  built_up_area  carpet_area  study room  servant room  \\\n",
       "0                1081.0            NaN        650.0           0             0   \n",
       "4                 632.0            NaN        532.0           0             0   \n",
       "38               1735.0            NaN       1400.0           1             0   \n",
       "40               2047.0            NaN       1880.0           0             1   \n",
       "45               1549.0            NaN       1500.0           0             0   \n",
       "\n",
       "    store room  pooja room  others  furnishing_type  luxury_score  \\\n",
       "0            0           0       0                0             8   \n",
       "4            1           0       0                0           159   \n",
       "38           0           0       0                0            49   \n",
       "40           0           0       0                2            26   \n",
       "45           0           0       0                0           146   \n",
       "\n",
       "    area_room_ratio  \n",
       "0        360.333333  \n",
       "4        266.000000  \n",
       "38       580.666667  \n",
       "40       682.333333  \n",
       "45       509.000000  "
      ],
      "text/html": [
       "<div>\n",
       "<style scoped>\n",
       "    .dataframe tbody tr th:only-of-type {\n",
       "        vertical-align: middle;\n",
       "    }\n",
       "\n",
       "    .dataframe tbody tr th {\n",
       "        vertical-align: top;\n",
       "    }\n",
       "\n",
       "    .dataframe thead th {\n",
       "        text-align: right;\n",
       "    }\n",
       "</style>\n",
       "<table border=\"1\" class=\"dataframe\">\n",
       "  <thead>\n",
       "    <tr style=\"text-align: right;\">\n",
       "      <th></th>\n",
       "      <th>property_type</th>\n",
       "      <th>society</th>\n",
       "      <th>sector</th>\n",
       "      <th>price</th>\n",
       "      <th>price_per_sqft</th>\n",
       "      <th>area</th>\n",
       "      <th>areaWithType</th>\n",
       "      <th>bedRoom</th>\n",
       "      <th>bathroom</th>\n",
       "      <th>balcony</th>\n",
       "      <th>floorNum</th>\n",
       "      <th>facing</th>\n",
       "      <th>agePossession</th>\n",
       "      <th>super_built_up_area</th>\n",
       "      <th>built_up_area</th>\n",
       "      <th>carpet_area</th>\n",
       "      <th>study room</th>\n",
       "      <th>servant room</th>\n",
       "      <th>store room</th>\n",
       "      <th>pooja room</th>\n",
       "      <th>others</th>\n",
       "      <th>furnishing_type</th>\n",
       "      <th>luxury_score</th>\n",
       "      <th>area_room_ratio</th>\n",
       "    </tr>\n",
       "  </thead>\n",
       "  <tbody>\n",
       "    <tr>\n",
       "      <th>0</th>\n",
       "      <td>flat</td>\n",
       "      <td>signature global park 4</td>\n",
       "      <td>sector 36</td>\n",
       "      <td>0.82</td>\n",
       "      <td>7586.0</td>\n",
       "      <td>1081.0</td>\n",
       "      <td>Super Built up area 1081(100.43 sq.m.)Carpet a...</td>\n",
       "      <td>3</td>\n",
       "      <td>2</td>\n",
       "      <td>2</td>\n",
       "      <td>2.0</td>\n",
       "      <td>NaN</td>\n",
       "      <td>New Property</td>\n",
       "      <td>1081.0</td>\n",
       "      <td>NaN</td>\n",
       "      <td>650.0</td>\n",
       "      <td>0</td>\n",
       "      <td>0</td>\n",
       "      <td>0</td>\n",
       "      <td>0</td>\n",
       "      <td>0</td>\n",
       "      <td>0</td>\n",
       "      <td>8</td>\n",
       "      <td>360.333333</td>\n",
       "    </tr>\n",
       "    <tr>\n",
       "      <th>4</th>\n",
       "      <td>flat</td>\n",
       "      <td>suncity avenue</td>\n",
       "      <td>sector 102</td>\n",
       "      <td>0.48</td>\n",
       "      <td>9023.0</td>\n",
       "      <td>532.0</td>\n",
       "      <td>Super Built up area 632(58.71 sq.m.)Carpet are...</td>\n",
       "      <td>2</td>\n",
       "      <td>2</td>\n",
       "      <td>1</td>\n",
       "      <td>5.0</td>\n",
       "      <td>North-East</td>\n",
       "      <td>Relatively New</td>\n",
       "      <td>632.0</td>\n",
       "      <td>NaN</td>\n",
       "      <td>532.0</td>\n",
       "      <td>0</td>\n",
       "      <td>0</td>\n",
       "      <td>1</td>\n",
       "      <td>0</td>\n",
       "      <td>0</td>\n",
       "      <td>0</td>\n",
       "      <td>159</td>\n",
       "      <td>266.000000</td>\n",
       "    </tr>\n",
       "    <tr>\n",
       "      <th>38</th>\n",
       "      <td>flat</td>\n",
       "      <td>corona optus</td>\n",
       "      <td>sector 37</td>\n",
       "      <td>1.25</td>\n",
       "      <td>7176.0</td>\n",
       "      <td>1742.0</td>\n",
       "      <td>Super Built up area 1735(161.19 sq.m.)Carpet a...</td>\n",
       "      <td>3</td>\n",
       "      <td>3</td>\n",
       "      <td>3</td>\n",
       "      <td>2.0</td>\n",
       "      <td>North-West</td>\n",
       "      <td>Relatively New</td>\n",
       "      <td>1735.0</td>\n",
       "      <td>NaN</td>\n",
       "      <td>1400.0</td>\n",
       "      <td>1</td>\n",
       "      <td>0</td>\n",
       "      <td>0</td>\n",
       "      <td>0</td>\n",
       "      <td>0</td>\n",
       "      <td>0</td>\n",
       "      <td>49</td>\n",
       "      <td>580.666667</td>\n",
       "    </tr>\n",
       "    <tr>\n",
       "      <th>40</th>\n",
       "      <td>flat</td>\n",
       "      <td>m3m merlin</td>\n",
       "      <td>sector 67</td>\n",
       "      <td>2.80</td>\n",
       "      <td>13679.0</td>\n",
       "      <td>2047.0</td>\n",
       "      <td>Super Built up area 2047(190.17 sq.m.)Carpet a...</td>\n",
       "      <td>3</td>\n",
       "      <td>3</td>\n",
       "      <td>3</td>\n",
       "      <td>5.0</td>\n",
       "      <td>North-East</td>\n",
       "      <td>Moderately Old</td>\n",
       "      <td>2047.0</td>\n",
       "      <td>NaN</td>\n",
       "      <td>1880.0</td>\n",
       "      <td>0</td>\n",
       "      <td>1</td>\n",
       "      <td>0</td>\n",
       "      <td>0</td>\n",
       "      <td>0</td>\n",
       "      <td>2</td>\n",
       "      <td>26</td>\n",
       "      <td>682.333333</td>\n",
       "    </tr>\n",
       "    <tr>\n",
       "      <th>45</th>\n",
       "      <td>flat</td>\n",
       "      <td>smart world orchard</td>\n",
       "      <td>sector 61</td>\n",
       "      <td>2.10</td>\n",
       "      <td>13752.0</td>\n",
       "      <td>1527.0</td>\n",
       "      <td>Super Built up area 1549(143.91 sq.m.)Carpet a...</td>\n",
       "      <td>3</td>\n",
       "      <td>2</td>\n",
       "      <td>3</td>\n",
       "      <td>3.0</td>\n",
       "      <td>South</td>\n",
       "      <td>Under Construction</td>\n",
       "      <td>1549.0</td>\n",
       "      <td>NaN</td>\n",
       "      <td>1500.0</td>\n",
       "      <td>0</td>\n",
       "      <td>0</td>\n",
       "      <td>0</td>\n",
       "      <td>0</td>\n",
       "      <td>0</td>\n",
       "      <td>0</td>\n",
       "      <td>146</td>\n",
       "      <td>509.000000</td>\n",
       "    </tr>\n",
       "  </tbody>\n",
       "</table>\n",
       "</div>"
      ]
     },
     "execution_count": 153,
     "metadata": {},
     "output_type": "execute_result"
    }
   ],
   "execution_count": 153
  },
  {
   "metadata": {
    "ExecuteTime": {
     "end_time": "2025-07-25T02:50:44.217825Z",
     "start_time": "2025-07-25T02:50:44.213802Z"
    }
   },
   "cell_type": "code",
   "source": "sbc_df.shape",
   "id": "819a7e14979645b9",
   "outputs": [
    {
     "data": {
      "text/plain": [
       "(421, 24)"
      ]
     },
     "execution_count": 154,
     "metadata": {},
     "output_type": "execute_result"
    }
   ],
   "execution_count": 154
  },
  {
   "metadata": {
    "ExecuteTime": {
     "end_time": "2025-07-25T02:50:44.312146Z",
     "start_time": "2025-07-25T02:50:44.306286Z"
    }
   },
   "cell_type": "code",
   "source": [
    "sbc_df['built_up_area'].fillna(round(((sbc_df['super_built_up_area'] / 1.105) + (sbc_df['carpet_area'] / 0.9)) / 2),\n",
    "                               inplace=True)"
   ],
   "id": "42156fc049c5f168",
   "outputs": [
    {
     "name": "stderr",
     "output_type": "stream",
     "text": [
      "C:\\Users\\15105\\AppData\\Local\\Temp\\ipykernel_34348\\3172895011.py:1: FutureWarning: A value is trying to be set on a copy of a DataFrame or Series through chained assignment using an inplace method.\n",
      "The behavior will change in pandas 3.0. This inplace method will never work because the intermediate object on which we are setting values always behaves as a copy.\n",
      "\n",
      "For example, when doing 'df[col].method(value, inplace=True)', try using 'df.method({col: value}, inplace=True)' or df[col] = df[col].method(value) instead, to perform the operation inplace on the original object.\n",
      "\n",
      "\n",
      "  sbc_df['built_up_area'].fillna(round(((sbc_df['super_built_up_area'] / 1.105) + (sbc_df['carpet_area'] / 0.9)) / 2),\n",
      "C:\\Users\\15105\\AppData\\Local\\Temp\\ipykernel_34348\\3172895011.py:1: SettingWithCopyWarning: \n",
      "A value is trying to be set on a copy of a slice from a DataFrame\n",
      "\n",
      "See the caveats in the documentation: https://pandas.pydata.org/pandas-docs/stable/user_guide/indexing.html#returning-a-view-versus-a-copy\n",
      "  sbc_df['built_up_area'].fillna(round(((sbc_df['super_built_up_area'] / 1.105) + (sbc_df['carpet_area'] / 0.9)) / 2),\n"
     ]
    }
   ],
   "execution_count": 155
  },
  {
   "metadata": {
    "ExecuteTime": {
     "end_time": "2025-07-25T02:50:44.400058Z",
     "start_time": "2025-07-25T02:50:44.379150Z"
    }
   },
   "cell_type": "code",
   "source": "df.update(sbc_df)",
   "id": "d42176317b780a5e",
   "outputs": [],
   "execution_count": 156
  },
  {
   "metadata": {
    "ExecuteTime": {
     "end_time": "2025-07-25T02:50:44.418024Z",
     "start_time": "2025-07-25T02:50:44.412065Z"
    }
   },
   "cell_type": "code",
   "source": "df.isnull().sum().sort_values(ascending=False)",
   "id": "fbe8af4ba08c1f56",
   "outputs": [
    {
     "data": {
      "text/plain": [
       "carpet_area            1715\n",
       "super_built_up_area    1680\n",
       "built_up_area          1547\n",
       "facing                 1011\n",
       "floorNum                 17\n",
       "society                   1\n",
       "property_type             0\n",
       "luxury_score              0\n",
       "furnishing_type           0\n",
       "others                    0\n",
       "pooja room                0\n",
       "store room                0\n",
       "servant room              0\n",
       "study room                0\n",
       "agePossession             0\n",
       "balcony                   0\n",
       "bathroom                  0\n",
       "bedRoom                   0\n",
       "areaWithType              0\n",
       "area                      0\n",
       "price_per_sqft            0\n",
       "price                     0\n",
       "sector                    0\n",
       "area_room_ratio           0\n",
       "dtype: int64"
      ]
     },
     "execution_count": 157,
     "metadata": {},
     "output_type": "execute_result"
    }
   ],
   "execution_count": 157
  },
  {
   "metadata": {
    "ExecuteTime": {
     "end_time": "2025-07-25T02:50:44.569308Z",
     "start_time": "2025-07-25T02:50:44.550032Z"
    }
   },
   "cell_type": "code",
   "source": [
    "# sb present c is null built up null\n",
    "sbc_df = df[~(df['super_built_up_area'].isnull()) & (df['built_up_area'].isnull()) & (df['carpet_area'].isnull())]\n",
    "sbc_df.head()"
   ],
   "id": "a29087348afe7b66",
   "outputs": [
    {
     "data": {
      "text/plain": [
       "   property_type                      society       sector  price  \\\n",
       "5           flat               paras quartier  gwal pahari   7.50   \n",
       "6           flat       experion the heartsong   sector 108   2.00   \n",
       "7           flat      adani m2k oyster grande   sector 102   1.90   \n",
       "12          flat               ats tourmaline   sector 109   2.25   \n",
       "15          flat  bestech park view sanskruti    sector 92   1.55   \n",
       "\n",
       "    price_per_sqft    area                            areaWithType  bedRoom  \\\n",
       "5          14019.0  5350.0  Super Built up area 5350(497.03 sq.m.)        4   \n",
       "6           8554.0  2338.0  Super Built up area 2338(217.21 sq.m.)        3   \n",
       "7           9104.0  2087.0  Super Built up area 1889(175.49 sq.m.)        3   \n",
       "12          8704.0  2585.0  Super Built up area 2585(240.15 sq.m.)        3   \n",
       "15          7568.0  2048.0  Super Built up area 1995(185.34 sq.m.)        3   \n",
       "\n",
       "    bathroom balcony  floorNum      facing   agePossession  \\\n",
       "5          4      3+      20.0  North-East    New Property   \n",
       "6          3      3+      14.0        East  Relatively New   \n",
       "7          4       3       8.0  North-East  Relatively New   \n",
       "12         4       3      14.0  North-East  Relatively New   \n",
       "15         4       3      16.0       South  Relatively New   \n",
       "\n",
       "    super_built_up_area  built_up_area  carpet_area  study room  servant room  \\\n",
       "5                5350.0            NaN          NaN           0             1   \n",
       "6                2338.0            NaN          NaN           0             1   \n",
       "7                1889.0            NaN          NaN           0             1   \n",
       "12               2585.0            NaN          NaN           0             1   \n",
       "15               1995.0            NaN          NaN           0             1   \n",
       "\n",
       "    store room  pooja room  others  furnishing_type  luxury_score  \\\n",
       "5            0           1       1                1            49   \n",
       "6            0           0       0                0            95   \n",
       "7            0           0       0                0           165   \n",
       "12           0           0       0                0           101   \n",
       "15           0           0       0                1            60   \n",
       "\n",
       "    area_room_ratio  \n",
       "5       1337.500000  \n",
       "6        779.333333  \n",
       "7        695.666667  \n",
       "12       861.666667  \n",
       "15       682.666667  "
      ],
      "text/html": [
       "<div>\n",
       "<style scoped>\n",
       "    .dataframe tbody tr th:only-of-type {\n",
       "        vertical-align: middle;\n",
       "    }\n",
       "\n",
       "    .dataframe tbody tr th {\n",
       "        vertical-align: top;\n",
       "    }\n",
       "\n",
       "    .dataframe thead th {\n",
       "        text-align: right;\n",
       "    }\n",
       "</style>\n",
       "<table border=\"1\" class=\"dataframe\">\n",
       "  <thead>\n",
       "    <tr style=\"text-align: right;\">\n",
       "      <th></th>\n",
       "      <th>property_type</th>\n",
       "      <th>society</th>\n",
       "      <th>sector</th>\n",
       "      <th>price</th>\n",
       "      <th>price_per_sqft</th>\n",
       "      <th>area</th>\n",
       "      <th>areaWithType</th>\n",
       "      <th>bedRoom</th>\n",
       "      <th>bathroom</th>\n",
       "      <th>balcony</th>\n",
       "      <th>floorNum</th>\n",
       "      <th>facing</th>\n",
       "      <th>agePossession</th>\n",
       "      <th>super_built_up_area</th>\n",
       "      <th>built_up_area</th>\n",
       "      <th>carpet_area</th>\n",
       "      <th>study room</th>\n",
       "      <th>servant room</th>\n",
       "      <th>store room</th>\n",
       "      <th>pooja room</th>\n",
       "      <th>others</th>\n",
       "      <th>furnishing_type</th>\n",
       "      <th>luxury_score</th>\n",
       "      <th>area_room_ratio</th>\n",
       "    </tr>\n",
       "  </thead>\n",
       "  <tbody>\n",
       "    <tr>\n",
       "      <th>5</th>\n",
       "      <td>flat</td>\n",
       "      <td>paras quartier</td>\n",
       "      <td>gwal pahari</td>\n",
       "      <td>7.50</td>\n",
       "      <td>14019.0</td>\n",
       "      <td>5350.0</td>\n",
       "      <td>Super Built up area 5350(497.03 sq.m.)</td>\n",
       "      <td>4</td>\n",
       "      <td>4</td>\n",
       "      <td>3+</td>\n",
       "      <td>20.0</td>\n",
       "      <td>North-East</td>\n",
       "      <td>New Property</td>\n",
       "      <td>5350.0</td>\n",
       "      <td>NaN</td>\n",
       "      <td>NaN</td>\n",
       "      <td>0</td>\n",
       "      <td>1</td>\n",
       "      <td>0</td>\n",
       "      <td>1</td>\n",
       "      <td>1</td>\n",
       "      <td>1</td>\n",
       "      <td>49</td>\n",
       "      <td>1337.500000</td>\n",
       "    </tr>\n",
       "    <tr>\n",
       "      <th>6</th>\n",
       "      <td>flat</td>\n",
       "      <td>experion the heartsong</td>\n",
       "      <td>sector 108</td>\n",
       "      <td>2.00</td>\n",
       "      <td>8554.0</td>\n",
       "      <td>2338.0</td>\n",
       "      <td>Super Built up area 2338(217.21 sq.m.)</td>\n",
       "      <td>3</td>\n",
       "      <td>3</td>\n",
       "      <td>3+</td>\n",
       "      <td>14.0</td>\n",
       "      <td>East</td>\n",
       "      <td>Relatively New</td>\n",
       "      <td>2338.0</td>\n",
       "      <td>NaN</td>\n",
       "      <td>NaN</td>\n",
       "      <td>0</td>\n",
       "      <td>1</td>\n",
       "      <td>0</td>\n",
       "      <td>0</td>\n",
       "      <td>0</td>\n",
       "      <td>0</td>\n",
       "      <td>95</td>\n",
       "      <td>779.333333</td>\n",
       "    </tr>\n",
       "    <tr>\n",
       "      <th>7</th>\n",
       "      <td>flat</td>\n",
       "      <td>adani m2k oyster grande</td>\n",
       "      <td>sector 102</td>\n",
       "      <td>1.90</td>\n",
       "      <td>9104.0</td>\n",
       "      <td>2087.0</td>\n",
       "      <td>Super Built up area 1889(175.49 sq.m.)</td>\n",
       "      <td>3</td>\n",
       "      <td>4</td>\n",
       "      <td>3</td>\n",
       "      <td>8.0</td>\n",
       "      <td>North-East</td>\n",
       "      <td>Relatively New</td>\n",
       "      <td>1889.0</td>\n",
       "      <td>NaN</td>\n",
       "      <td>NaN</td>\n",
       "      <td>0</td>\n",
       "      <td>1</td>\n",
       "      <td>0</td>\n",
       "      <td>0</td>\n",
       "      <td>0</td>\n",
       "      <td>0</td>\n",
       "      <td>165</td>\n",
       "      <td>695.666667</td>\n",
       "    </tr>\n",
       "    <tr>\n",
       "      <th>12</th>\n",
       "      <td>flat</td>\n",
       "      <td>ats tourmaline</td>\n",
       "      <td>sector 109</td>\n",
       "      <td>2.25</td>\n",
       "      <td>8704.0</td>\n",
       "      <td>2585.0</td>\n",
       "      <td>Super Built up area 2585(240.15 sq.m.)</td>\n",
       "      <td>3</td>\n",
       "      <td>4</td>\n",
       "      <td>3</td>\n",
       "      <td>14.0</td>\n",
       "      <td>North-East</td>\n",
       "      <td>Relatively New</td>\n",
       "      <td>2585.0</td>\n",
       "      <td>NaN</td>\n",
       "      <td>NaN</td>\n",
       "      <td>0</td>\n",
       "      <td>1</td>\n",
       "      <td>0</td>\n",
       "      <td>0</td>\n",
       "      <td>0</td>\n",
       "      <td>0</td>\n",
       "      <td>101</td>\n",
       "      <td>861.666667</td>\n",
       "    </tr>\n",
       "    <tr>\n",
       "      <th>15</th>\n",
       "      <td>flat</td>\n",
       "      <td>bestech park view sanskruti</td>\n",
       "      <td>sector 92</td>\n",
       "      <td>1.55</td>\n",
       "      <td>7568.0</td>\n",
       "      <td>2048.0</td>\n",
       "      <td>Super Built up area 1995(185.34 sq.m.)</td>\n",
       "      <td>3</td>\n",
       "      <td>4</td>\n",
       "      <td>3</td>\n",
       "      <td>16.0</td>\n",
       "      <td>South</td>\n",
       "      <td>Relatively New</td>\n",
       "      <td>1995.0</td>\n",
       "      <td>NaN</td>\n",
       "      <td>NaN</td>\n",
       "      <td>0</td>\n",
       "      <td>1</td>\n",
       "      <td>0</td>\n",
       "      <td>0</td>\n",
       "      <td>0</td>\n",
       "      <td>1</td>\n",
       "      <td>60</td>\n",
       "      <td>682.666667</td>\n",
       "    </tr>\n",
       "  </tbody>\n",
       "</table>\n",
       "</div>"
      ]
     },
     "execution_count": 158,
     "metadata": {},
     "output_type": "execute_result"
    }
   ],
   "execution_count": 158
  },
  {
   "metadata": {
    "ExecuteTime": {
     "end_time": "2025-07-25T02:50:44.664421Z",
     "start_time": "2025-07-25T02:50:44.659323Z"
    }
   },
   "cell_type": "code",
   "source": "sbc_df.shape",
   "id": "5b05b57d116757c6",
   "outputs": [
    {
     "data": {
      "text/plain": [
       "(875, 24)"
      ]
     },
     "execution_count": 159,
     "metadata": {},
     "output_type": "execute_result"
    }
   ],
   "execution_count": 159
  },
  {
   "metadata": {
    "ExecuteTime": {
     "end_time": "2025-07-25T02:50:44.716308Z",
     "start_time": "2025-07-25T02:50:44.698353Z"
    }
   },
   "cell_type": "code",
   "source": [
    "sbc_df['built_up_area'].fillna(round(sbc_df['super_built_up_area'] / 1.105), inplace=True)\n",
    "df.update(sbc_df)"
   ],
   "id": "68dbaa8c713d9beb",
   "outputs": [
    {
     "name": "stderr",
     "output_type": "stream",
     "text": [
      "C:\\Users\\15105\\AppData\\Local\\Temp\\ipykernel_34348\\4230052799.py:1: FutureWarning: A value is trying to be set on a copy of a DataFrame or Series through chained assignment using an inplace method.\n",
      "The behavior will change in pandas 3.0. This inplace method will never work because the intermediate object on which we are setting values always behaves as a copy.\n",
      "\n",
      "For example, when doing 'df[col].method(value, inplace=True)', try using 'df.method({col: value}, inplace=True)' or df[col] = df[col].method(value) instead, to perform the operation inplace on the original object.\n",
      "\n",
      "\n",
      "  sbc_df['built_up_area'].fillna(round(sbc_df['super_built_up_area'] / 1.105), inplace=True)\n",
      "C:\\Users\\15105\\AppData\\Local\\Temp\\ipykernel_34348\\4230052799.py:1: SettingWithCopyWarning: \n",
      "A value is trying to be set on a copy of a slice from a DataFrame\n",
      "\n",
      "See the caveats in the documentation: https://pandas.pydata.org/pandas-docs/stable/user_guide/indexing.html#returning-a-view-versus-a-copy\n",
      "  sbc_df['built_up_area'].fillna(round(sbc_df['super_built_up_area'] / 1.105), inplace=True)\n"
     ]
    }
   ],
   "execution_count": 160
  },
  {
   "metadata": {
    "ExecuteTime": {
     "end_time": "2025-07-25T02:50:44.804700Z",
     "start_time": "2025-07-25T02:50:44.798623Z"
    }
   },
   "cell_type": "code",
   "source": "df.isnull().sum().sort_values(ascending=False)",
   "id": "90c3b14442bbc8a2",
   "outputs": [
    {
     "data": {
      "text/plain": [
       "carpet_area            1715\n",
       "super_built_up_area    1680\n",
       "facing                 1011\n",
       "built_up_area           672\n",
       "floorNum                 17\n",
       "society                   1\n",
       "property_type             0\n",
       "luxury_score              0\n",
       "furnishing_type           0\n",
       "others                    0\n",
       "pooja room                0\n",
       "store room                0\n",
       "servant room              0\n",
       "study room                0\n",
       "agePossession             0\n",
       "balcony                   0\n",
       "bathroom                  0\n",
       "bedRoom                   0\n",
       "areaWithType              0\n",
       "area                      0\n",
       "price_per_sqft            0\n",
       "price                     0\n",
       "sector                    0\n",
       "area_room_ratio           0\n",
       "dtype: int64"
      ]
     },
     "execution_count": 161,
     "metadata": {},
     "output_type": "execute_result"
    }
   ],
   "execution_count": 161
  },
  {
   "metadata": {
    "ExecuteTime": {
     "end_time": "2025-07-25T02:50:44.833106Z",
     "start_time": "2025-07-25T02:50:44.820709Z"
    }
   },
   "cell_type": "code",
   "source": [
    "# sb null c is present built up null\n",
    "c_df = df[(df['super_built_up_area'].isnull()) & (df['built_up_area'].isnull()) & ~(df['carpet_area'].isnull())]\n",
    "c_df.head()"
   ],
   "id": "4d4ec19983cbc824",
   "outputs": [
    {
     "data": {
      "text/plain": [
       "   property_type                           society     sector  price  \\\n",
       "1           flat                  smart world gems  sector 89   0.95   \n",
       "11          flat                  dlf regency park  sector 28   1.60   \n",
       "13          flat  emaar mgf emerald floors premier  sector 65   2.77   \n",
       "19          flat               afnhb jalvayu vihar  sector 30   0.85   \n",
       "25          flat                chanderlok society  sector 28   0.90   \n",
       "\n",
       "    price_per_sqft    area                      areaWithType  bedRoom  \\\n",
       "1           8597.0  1105.0  Carpet area: 1103 (102.47 sq.m.)        2   \n",
       "11         14545.0  1100.0  Carpet area: 1100 (102.19 sq.m.)        2   \n",
       "13         14025.0  1975.0  Carpet area: 1975 (183.48 sq.m.)        4   \n",
       "19         12859.0   661.0    Carpet area: 661 (61.41 sq.m.)        2   \n",
       "25          7235.0  1244.0  Carpet area: 1244 (115.57 sq.m.)        4   \n",
       "\n",
       "    bathroom balcony  floorNum      facing   agePossession  \\\n",
       "1          2       2       4.0         NaN    New Property   \n",
       "11         2       2       3.0       North  Relatively New   \n",
       "13         4      3+       3.0  North-East  Relatively New   \n",
       "19         2       1       2.0        West    Old Property   \n",
       "25         2      3+       1.0         NaN    Old Property   \n",
       "\n",
       "    super_built_up_area  built_up_area  carpet_area  study room  servant room  \\\n",
       "1                   NaN            NaN       1103.0           1             1   \n",
       "11                  NaN            NaN       1100.0           0             0   \n",
       "13                  NaN            NaN       1975.0           1             1   \n",
       "19                  NaN            NaN        661.0           0             0   \n",
       "25                  NaN            NaN       1244.0           0             0   \n",
       "\n",
       "    store room  pooja room  others  furnishing_type  luxury_score  \\\n",
       "1            0           0       0                0            38   \n",
       "11           0           0       0                0            52   \n",
       "13           0           0       0                2           174   \n",
       "19           0           0       1                1            49   \n",
       "25           0           0       0                0             0   \n",
       "\n",
       "    area_room_ratio  \n",
       "1            552.50  \n",
       "11           550.00  \n",
       "13           493.75  \n",
       "19           330.50  \n",
       "25           311.00  "
      ],
      "text/html": [
       "<div>\n",
       "<style scoped>\n",
       "    .dataframe tbody tr th:only-of-type {\n",
       "        vertical-align: middle;\n",
       "    }\n",
       "\n",
       "    .dataframe tbody tr th {\n",
       "        vertical-align: top;\n",
       "    }\n",
       "\n",
       "    .dataframe thead th {\n",
       "        text-align: right;\n",
       "    }\n",
       "</style>\n",
       "<table border=\"1\" class=\"dataframe\">\n",
       "  <thead>\n",
       "    <tr style=\"text-align: right;\">\n",
       "      <th></th>\n",
       "      <th>property_type</th>\n",
       "      <th>society</th>\n",
       "      <th>sector</th>\n",
       "      <th>price</th>\n",
       "      <th>price_per_sqft</th>\n",
       "      <th>area</th>\n",
       "      <th>areaWithType</th>\n",
       "      <th>bedRoom</th>\n",
       "      <th>bathroom</th>\n",
       "      <th>balcony</th>\n",
       "      <th>floorNum</th>\n",
       "      <th>facing</th>\n",
       "      <th>agePossession</th>\n",
       "      <th>super_built_up_area</th>\n",
       "      <th>built_up_area</th>\n",
       "      <th>carpet_area</th>\n",
       "      <th>study room</th>\n",
       "      <th>servant room</th>\n",
       "      <th>store room</th>\n",
       "      <th>pooja room</th>\n",
       "      <th>others</th>\n",
       "      <th>furnishing_type</th>\n",
       "      <th>luxury_score</th>\n",
       "      <th>area_room_ratio</th>\n",
       "    </tr>\n",
       "  </thead>\n",
       "  <tbody>\n",
       "    <tr>\n",
       "      <th>1</th>\n",
       "      <td>flat</td>\n",
       "      <td>smart world gems</td>\n",
       "      <td>sector 89</td>\n",
       "      <td>0.95</td>\n",
       "      <td>8597.0</td>\n",
       "      <td>1105.0</td>\n",
       "      <td>Carpet area: 1103 (102.47 sq.m.)</td>\n",
       "      <td>2</td>\n",
       "      <td>2</td>\n",
       "      <td>2</td>\n",
       "      <td>4.0</td>\n",
       "      <td>NaN</td>\n",
       "      <td>New Property</td>\n",
       "      <td>NaN</td>\n",
       "      <td>NaN</td>\n",
       "      <td>1103.0</td>\n",
       "      <td>1</td>\n",
       "      <td>1</td>\n",
       "      <td>0</td>\n",
       "      <td>0</td>\n",
       "      <td>0</td>\n",
       "      <td>0</td>\n",
       "      <td>38</td>\n",
       "      <td>552.50</td>\n",
       "    </tr>\n",
       "    <tr>\n",
       "      <th>11</th>\n",
       "      <td>flat</td>\n",
       "      <td>dlf regency park</td>\n",
       "      <td>sector 28</td>\n",
       "      <td>1.60</td>\n",
       "      <td>14545.0</td>\n",
       "      <td>1100.0</td>\n",
       "      <td>Carpet area: 1100 (102.19 sq.m.)</td>\n",
       "      <td>2</td>\n",
       "      <td>2</td>\n",
       "      <td>2</td>\n",
       "      <td>3.0</td>\n",
       "      <td>North</td>\n",
       "      <td>Relatively New</td>\n",
       "      <td>NaN</td>\n",
       "      <td>NaN</td>\n",
       "      <td>1100.0</td>\n",
       "      <td>0</td>\n",
       "      <td>0</td>\n",
       "      <td>0</td>\n",
       "      <td>0</td>\n",
       "      <td>0</td>\n",
       "      <td>0</td>\n",
       "      <td>52</td>\n",
       "      <td>550.00</td>\n",
       "    </tr>\n",
       "    <tr>\n",
       "      <th>13</th>\n",
       "      <td>flat</td>\n",
       "      <td>emaar mgf emerald floors premier</td>\n",
       "      <td>sector 65</td>\n",
       "      <td>2.77</td>\n",
       "      <td>14025.0</td>\n",
       "      <td>1975.0</td>\n",
       "      <td>Carpet area: 1975 (183.48 sq.m.)</td>\n",
       "      <td>4</td>\n",
       "      <td>4</td>\n",
       "      <td>3+</td>\n",
       "      <td>3.0</td>\n",
       "      <td>North-East</td>\n",
       "      <td>Relatively New</td>\n",
       "      <td>NaN</td>\n",
       "      <td>NaN</td>\n",
       "      <td>1975.0</td>\n",
       "      <td>1</td>\n",
       "      <td>1</td>\n",
       "      <td>0</td>\n",
       "      <td>0</td>\n",
       "      <td>0</td>\n",
       "      <td>2</td>\n",
       "      <td>174</td>\n",
       "      <td>493.75</td>\n",
       "    </tr>\n",
       "    <tr>\n",
       "      <th>19</th>\n",
       "      <td>flat</td>\n",
       "      <td>afnhb jalvayu vihar</td>\n",
       "      <td>sector 30</td>\n",
       "      <td>0.85</td>\n",
       "      <td>12859.0</td>\n",
       "      <td>661.0</td>\n",
       "      <td>Carpet area: 661 (61.41 sq.m.)</td>\n",
       "      <td>2</td>\n",
       "      <td>2</td>\n",
       "      <td>1</td>\n",
       "      <td>2.0</td>\n",
       "      <td>West</td>\n",
       "      <td>Old Property</td>\n",
       "      <td>NaN</td>\n",
       "      <td>NaN</td>\n",
       "      <td>661.0</td>\n",
       "      <td>0</td>\n",
       "      <td>0</td>\n",
       "      <td>0</td>\n",
       "      <td>0</td>\n",
       "      <td>1</td>\n",
       "      <td>1</td>\n",
       "      <td>49</td>\n",
       "      <td>330.50</td>\n",
       "    </tr>\n",
       "    <tr>\n",
       "      <th>25</th>\n",
       "      <td>flat</td>\n",
       "      <td>chanderlok society</td>\n",
       "      <td>sector 28</td>\n",
       "      <td>0.90</td>\n",
       "      <td>7235.0</td>\n",
       "      <td>1244.0</td>\n",
       "      <td>Carpet area: 1244 (115.57 sq.m.)</td>\n",
       "      <td>4</td>\n",
       "      <td>2</td>\n",
       "      <td>3+</td>\n",
       "      <td>1.0</td>\n",
       "      <td>NaN</td>\n",
       "      <td>Old Property</td>\n",
       "      <td>NaN</td>\n",
       "      <td>NaN</td>\n",
       "      <td>1244.0</td>\n",
       "      <td>0</td>\n",
       "      <td>0</td>\n",
       "      <td>0</td>\n",
       "      <td>0</td>\n",
       "      <td>0</td>\n",
       "      <td>0</td>\n",
       "      <td>0</td>\n",
       "      <td>311.00</td>\n",
       "    </tr>\n",
       "  </tbody>\n",
       "</table>\n",
       "</div>"
      ]
     },
     "execution_count": 162,
     "metadata": {},
     "output_type": "execute_result"
    }
   ],
   "execution_count": 162
  },
  {
   "metadata": {
    "ExecuteTime": {
     "end_time": "2025-07-25T02:50:45.056142Z",
     "start_time": "2025-07-25T02:50:45.024092Z"
    }
   },
   "cell_type": "code",
   "source": [
    "c_df['built_up_area'].fillna(round(c_df['carpet_area'] / 0.9), inplace=True)\n",
    "df.update(c_df)"
   ],
   "id": "b45671bdd1088a83",
   "outputs": [
    {
     "name": "stderr",
     "output_type": "stream",
     "text": [
      "C:\\Users\\15105\\AppData\\Local\\Temp\\ipykernel_34348\\740796799.py:1: FutureWarning: A value is trying to be set on a copy of a DataFrame or Series through chained assignment using an inplace method.\n",
      "The behavior will change in pandas 3.0. This inplace method will never work because the intermediate object on which we are setting values always behaves as a copy.\n",
      "\n",
      "For example, when doing 'df[col].method(value, inplace=True)', try using 'df.method({col: value}, inplace=True)' or df[col] = df[col].method(value) instead, to perform the operation inplace on the original object.\n",
      "\n",
      "\n",
      "  c_df['built_up_area'].fillna(round(c_df['carpet_area'] / 0.9), inplace=True)\n",
      "C:\\Users\\15105\\AppData\\Local\\Temp\\ipykernel_34348\\740796799.py:1: SettingWithCopyWarning: \n",
      "A value is trying to be set on a copy of a slice from a DataFrame\n",
      "\n",
      "See the caveats in the documentation: https://pandas.pydata.org/pandas-docs/stable/user_guide/indexing.html#returning-a-view-versus-a-copy\n",
      "  c_df['built_up_area'].fillna(round(c_df['carpet_area'] / 0.9), inplace=True)\n"
     ]
    }
   ],
   "execution_count": 163
  },
  {
   "metadata": {
    "ExecuteTime": {
     "end_time": "2025-07-25T02:50:45.106490Z",
     "start_time": "2025-07-25T02:50:45.095765Z"
    }
   },
   "cell_type": "code",
   "source": "df.isnull().sum().sort_values(ascending=False)",
   "id": "944d86c15ccb5c",
   "outputs": [
    {
     "data": {
      "text/plain": [
       "carpet_area            1715\n",
       "super_built_up_area    1680\n",
       "facing                 1011\n",
       "floorNum                 17\n",
       "society                   1\n",
       "property_type             0\n",
       "built_up_area             0\n",
       "luxury_score              0\n",
       "furnishing_type           0\n",
       "others                    0\n",
       "pooja room                0\n",
       "store room                0\n",
       "servant room              0\n",
       "study room                0\n",
       "agePossession             0\n",
       "balcony                   0\n",
       "bathroom                  0\n",
       "bedRoom                   0\n",
       "areaWithType              0\n",
       "area                      0\n",
       "price_per_sqft            0\n",
       "price                     0\n",
       "sector                    0\n",
       "area_room_ratio           0\n",
       "dtype: int64"
      ]
     },
     "execution_count": 164,
     "metadata": {},
     "output_type": "execute_result"
    }
   ],
   "execution_count": 164
  },
  {
   "metadata": {
    "ExecuteTime": {
     "end_time": "2025-07-25T02:50:45.468303Z",
     "start_time": "2025-07-25T02:50:45.193043Z"
    }
   },
   "cell_type": "code",
   "source": "sns.scatterplot(x=df['built_up_area'], y=df['price'])",
   "id": "6edfa2091a2a6b7b",
   "outputs": [
    {
     "data": {
      "text/plain": [
       "<Axes: xlabel='built_up_area', ylabel='price'>"
      ]
     },
     "execution_count": 165,
     "metadata": {},
     "output_type": "execute_result"
    },
    {
     "data": {
      "text/plain": [
       "<Figure size 640x480 with 1 Axes>"
      ],
      "image/png": "[encoded data removed]"
     },
     "metadata": {},
     "output_type": "display_data"
    }
   ],
   "execution_count": 165
  },
  {
   "metadata": {},
   "cell_type": "markdown",
   "source": "As we can see there are few anomalies here where the built up area is very less and its price is very high",
   "id": "32d263269243dbb7"
  },
  {
   "metadata": {
    "ExecuteTime": {
     "end_time": "2025-07-25T02:50:45.476777Z",
     "start_time": "2025-07-25T02:50:45.470309Z"
    }
   },
   "cell_type": "code",
   "source": "anomaly_df = df[(df['built_up_area'] < 2000) & (df['price'] > 2.5)][['price', 'area', 'built_up_area']]",
   "id": "a951f70a3a3287db",
   "outputs": [],
   "execution_count": 166
  },
  {
   "metadata": {
    "ExecuteTime": {
     "end_time": "2025-07-25T02:50:45.503047Z",
     "start_time": "2025-07-25T02:50:45.490788Z"
    }
   },
   "cell_type": "code",
   "source": "anomaly_df.sample(5)",
   "id": "a8743570c910b554",
   "outputs": [
    {
     "data": {
      "text/plain": [
       "      price    area  built_up_area\n",
       "353    2.55  1935.0          215.0\n",
       "2042   2.55  1557.0         1557.0\n",
       "1036   4.45  1265.0          150.0\n",
       "987    5.70  2430.0          270.0\n",
       "2832   6.50  2332.0          299.0"
      ],
      "text/html": [
       "<div>\n",
       "<style scoped>\n",
       "    .dataframe tbody tr th:only-of-type {\n",
       "        vertical-align: middle;\n",
       "    }\n",
       "\n",
       "    .dataframe tbody tr th {\n",
       "        vertical-align: top;\n",
       "    }\n",
       "\n",
       "    .dataframe thead th {\n",
       "        text-align: right;\n",
       "    }\n",
       "</style>\n",
       "<table border=\"1\" class=\"dataframe\">\n",
       "  <thead>\n",
       "    <tr style=\"text-align: right;\">\n",
       "      <th></th>\n",
       "      <th>price</th>\n",
       "      <th>area</th>\n",
       "      <th>built_up_area</th>\n",
       "    </tr>\n",
       "  </thead>\n",
       "  <tbody>\n",
       "    <tr>\n",
       "      <th>353</th>\n",
       "      <td>2.55</td>\n",
       "      <td>1935.0</td>\n",
       "      <td>215.0</td>\n",
       "    </tr>\n",
       "    <tr>\n",
       "      <th>2042</th>\n",
       "      <td>2.55</td>\n",
       "      <td>1557.0</td>\n",
       "      <td>1557.0</td>\n",
       "    </tr>\n",
       "    <tr>\n",
       "      <th>1036</th>\n",
       "      <td>4.45</td>\n",
       "      <td>1265.0</td>\n",
       "      <td>150.0</td>\n",
       "    </tr>\n",
       "    <tr>\n",
       "      <th>987</th>\n",
       "      <td>5.70</td>\n",
       "      <td>2430.0</td>\n",
       "      <td>270.0</td>\n",
       "    </tr>\n",
       "    <tr>\n",
       "      <th>2832</th>\n",
       "      <td>6.50</td>\n",
       "      <td>2332.0</td>\n",
       "      <td>299.0</td>\n",
       "    </tr>\n",
       "  </tbody>\n",
       "</table>\n",
       "</div>"
      ]
     },
     "execution_count": 167,
     "metadata": {},
     "output_type": "execute_result"
    }
   ],
   "execution_count": 167
  },
  {
   "metadata": {
    "ExecuteTime": {
     "end_time": "2025-07-25T02:50:45.597334Z",
     "start_time": "2025-07-25T02:50:45.581150Z"
    }
   },
   "cell_type": "code",
   "source": [
    "anomaly_df['built_up_area'] = anomaly_df['area']\n",
    "df.update(anomaly_df)"
   ],
   "id": "cbe7dd2438477a71",
   "outputs": [],
   "execution_count": 168
  },
  {
   "metadata": {
    "ExecuteTime": {
     "end_time": "2025-07-25T02:50:45.843353Z",
     "start_time": "2025-07-25T02:50:45.640854Z"
    }
   },
   "cell_type": "code",
   "source": "sns.scatterplot(x=df['built_up_area'], y=df['price'])",
   "id": "844ee342ecf70e21",
   "outputs": [
    {
     "data": {
      "text/plain": [
       "<Axes: xlabel='built_up_area', ylabel='price'>"
      ]
     },
     "execution_count": 169,
     "metadata": {},
     "output_type": "execute_result"
    },
    {
     "data": {
      "text/plain": [
       "<Figure size 640x480 with 1 Axes>"
      ],
      "image/png": "[encoded data removed]"
     },
     "metadata": {},
     "output_type": "display_data"
    }
   ],
   "execution_count": 169
  },
  {
   "metadata": {
    "ExecuteTime": {
     "end_time": "2025-07-25T02:50:45.859138Z",
     "start_time": "2025-07-25T02:50:45.844362Z"
    }
   },
   "cell_type": "code",
   "source": [
    "df.drop(columns=['area', 'areaWithType', 'super_built_up_area', 'carpet_area', 'area_room_ratio'], inplace=True)\n",
    "df.head()"
   ],
   "id": "f7548ed4c7ac4a0a",
   "outputs": [
    {
     "data": {
      "text/plain": [
       "  property_type                      society      sector  price  \\\n",
       "0          flat      signature global park 4   sector 36   0.82   \n",
       "1          flat             smart world gems   sector 89   0.95   \n",
       "2          flat       breez global hill view  sohna road   0.32   \n",
       "3          flat  bestech park view sanskruti   sector 92   1.60   \n",
       "4          flat               suncity avenue  sector 102   0.48   \n",
       "\n",
       "   price_per_sqft  bedRoom  bathroom balcony  floorNum      facing  \\\n",
       "0          7586.0        3         2       2       2.0         NaN   \n",
       "1          8597.0        2         2       2       4.0         NaN   \n",
       "2          5470.0        2         2       1      17.0         NaN   \n",
       "3          8020.0        3         4      3+      10.0  North-West   \n",
       "4          9023.0        2         2       1       5.0  North-East   \n",
       "\n",
       "    agePossession  built_up_area  study room  servant room  store room  \\\n",
       "0    New Property          850.0           0             0           0   \n",
       "1    New Property         1226.0           1             1           0   \n",
       "2    New Property         1000.0           0             0           0   \n",
       "3  Relatively New         1615.0           0             1           0   \n",
       "4  Relatively New          582.0           0             0           1   \n",
       "\n",
       "   pooja room  others  furnishing_type  luxury_score  \n",
       "0           0       0                0             8  \n",
       "1           0       0                0            38  \n",
       "2           0       0                0            49  \n",
       "3           0       1                1           174  \n",
       "4           0       0                0           159  "
      ],
      "text/html": [
       "<div>\n",
       "<style scoped>\n",
       "    .dataframe tbody tr th:only-of-type {\n",
       "        vertical-align: middle;\n",
       "    }\n",
       "\n",
       "    .dataframe tbody tr th {\n",
       "        vertical-align: top;\n",
       "    }\n",
       "\n",
       "    .dataframe thead th {\n",
       "        text-align: right;\n",
       "    }\n",
       "</style>\n",
       "<table border=\"1\" class=\"dataframe\">\n",
       "  <thead>\n",
       "    <tr style=\"text-align: right;\">\n",
       "      <th></th>\n",
       "      <th>property_type</th>\n",
       "      <th>society</th>\n",
       "      <th>sector</th>\n",
       "      <th>price</th>\n",
       "      <th>price_per_sqft</th>\n",
       "      <th>bedRoom</th>\n",
       "      <th>bathroom</th>\n",
       "      <th>balcony</th>\n",
       "      <th>floorNum</th>\n",
       "      <th>facing</th>\n",
       "      <th>agePossession</th>\n",
       "      <th>built_up_area</th>\n",
       "      <th>study room</th>\n",
       "      <th>servant room</th>\n",
       "      <th>store room</th>\n",
       "      <th>pooja room</th>\n",
       "      <th>others</th>\n",
       "      <th>furnishing_type</th>\n",
       "      <th>luxury_score</th>\n",
       "    </tr>\n",
       "  </thead>\n",
       "  <tbody>\n",
       "    <tr>\n",
       "      <th>0</th>\n",
       "      <td>flat</td>\n",
       "      <td>signature global park 4</td>\n",
       "      <td>sector 36</td>\n",
       "      <td>0.82</td>\n",
       "      <td>7586.0</td>\n",
       "      <td>3</td>\n",
       "      <td>2</td>\n",
       "      <td>2</td>\n",
       "      <td>2.0</td>\n",
       "      <td>NaN</td>\n",
       "      <td>New Property</td>\n",
       "      <td>850.0</td>\n",
       "      <td>0</td>\n",
       "      <td>0</td>\n",
       "      <td>0</td>\n",
       "      <td>0</td>\n",
       "      <td>0</td>\n",
       "      <td>0</td>\n",
       "      <td>8</td>\n",
       "    </tr>\n",
       "    <tr>\n",
       "      <th>1</th>\n",
       "      <td>flat</td>\n",
       "      <td>smart world gems</td>\n",
       "      <td>sector 89</td>\n",
       "      <td>0.95</td>\n",
       "      <td>8597.0</td>\n",
       "      <td>2</td>\n",
       "      <td>2</td>\n",
       "      <td>2</td>\n",
       "      <td>4.0</td>\n",
       "      <td>NaN</td>\n",
       "      <td>New Property</td>\n",
       "      <td>1226.0</td>\n",
       "      <td>1</td>\n",
       "      <td>1</td>\n",
       "      <td>0</td>\n",
       "      <td>0</td>\n",
       "      <td>0</td>\n",
       "      <td>0</td>\n",
       "      <td>38</td>\n",
       "    </tr>\n",
       "    <tr>\n",
       "      <th>2</th>\n",
       "      <td>flat</td>\n",
       "      <td>breez global hill view</td>\n",
       "      <td>sohna road</td>\n",
       "      <td>0.32</td>\n",
       "      <td>5470.0</td>\n",
       "      <td>2</td>\n",
       "      <td>2</td>\n",
       "      <td>1</td>\n",
       "      <td>17.0</td>\n",
       "      <td>NaN</td>\n",
       "      <td>New Property</td>\n",
       "      <td>1000.0</td>\n",
       "      <td>0</td>\n",
       "      <td>0</td>\n",
       "      <td>0</td>\n",
       "      <td>0</td>\n",
       "      <td>0</td>\n",
       "      <td>0</td>\n",
       "      <td>49</td>\n",
       "    </tr>\n",
       "    <tr>\n",
       "      <th>3</th>\n",
       "      <td>flat</td>\n",
       "      <td>bestech park view sanskruti</td>\n",
       "      <td>sector 92</td>\n",
       "      <td>1.60</td>\n",
       "      <td>8020.0</td>\n",
       "      <td>3</td>\n",
       "      <td>4</td>\n",
       "      <td>3+</td>\n",
       "      <td>10.0</td>\n",
       "      <td>North-West</td>\n",
       "      <td>Relatively New</td>\n",
       "      <td>1615.0</td>\n",
       "      <td>0</td>\n",
       "      <td>1</td>\n",
       "      <td>0</td>\n",
       "      <td>0</td>\n",
       "      <td>1</td>\n",
       "      <td>1</td>\n",
       "      <td>174</td>\n",
       "    </tr>\n",
       "    <tr>\n",
       "      <th>4</th>\n",
       "      <td>flat</td>\n",
       "      <td>suncity avenue</td>\n",
       "      <td>sector 102</td>\n",
       "      <td>0.48</td>\n",
       "      <td>9023.0</td>\n",
       "      <td>2</td>\n",
       "      <td>2</td>\n",
       "      <td>1</td>\n",
       "      <td>5.0</td>\n",
       "      <td>North-East</td>\n",
       "      <td>Relatively New</td>\n",
       "      <td>582.0</td>\n",
       "      <td>0</td>\n",
       "      <td>0</td>\n",
       "      <td>1</td>\n",
       "      <td>0</td>\n",
       "      <td>0</td>\n",
       "      <td>0</td>\n",
       "      <td>159</td>\n",
       "    </tr>\n",
       "  </tbody>\n",
       "</table>\n",
       "</div>"
      ]
     },
     "execution_count": 170,
     "metadata": {},
     "output_type": "execute_result"
    }
   ],
   "execution_count": 170
  },
  {
   "metadata": {
    "ExecuteTime": {
     "end_time": "2025-07-25T02:50:45.885576Z",
     "start_time": "2025-07-25T02:50:45.878144Z"
    }
   },
   "cell_type": "code",
   "source": "df.isnull().sum().sort_values(ascending=False)",
   "id": "de7816da4f2d68ea",
   "outputs": [
    {
     "data": {
      "text/plain": [
       "facing             1011\n",
       "floorNum             17\n",
       "society               1\n",
       "built_up_area         0\n",
       "furnishing_type       0\n",
       "others                0\n",
       "pooja room            0\n",
       "store room            0\n",
       "servant room          0\n",
       "study room            0\n",
       "property_type         0\n",
       "agePossession         0\n",
       "balcony               0\n",
       "bathroom              0\n",
       "bedRoom               0\n",
       "price_per_sqft        0\n",
       "price                 0\n",
       "sector                0\n",
       "luxury_score          0\n",
       "dtype: int64"
      ]
     },
     "execution_count": 171,
     "metadata": {},
     "output_type": "execute_result"
    }
   ],
   "execution_count": 171
  },
  {
   "metadata": {},
   "cell_type": "markdown",
   "source": "#### floorNum",
   "id": "3207708125a1be04"
  },
  {
   "metadata": {
    "ExecuteTime": {
     "end_time": "2025-07-25T02:50:45.945944Z",
     "start_time": "2025-07-25T02:50:45.937581Z"
    }
   },
   "cell_type": "code",
   "source": "print(df[df['floorNum'].isnull()])",
   "id": "a5d19023a2d764bf",
   "outputs": [
    {
     "name": "stdout",
     "output_type": "stream",
     "text": [
      "     property_type                  society             sector  price  \\\n",
      "500          house              independent           sector 4   0.65   \n",
      "767          house              independent           sector 7   6.50   \n",
      "1294         house              independent           sector 3   1.50   \n",
      "1452         house       vipul tatvam villa          sector 48   8.50   \n",
      "1465         house  ansal sushant lok plots          sector 43   3.30   \n",
      "1946         house               jacob pura          sector 12   0.35   \n",
      "2048         house       vipul tatvam villa          sector 48   8.50   \n",
      "2157         house              independent           sector 4   4.12   \n",
      "2271         house       emaar mgf marbella          sector 66   9.00   \n",
      "2439         house     dlf new town heights          sector 86   2.47   \n",
      "2536          flat                      NaN          sector 78   0.60   \n",
      "2545         house        ansal sushant lok          sector 43  10.50   \n",
      "2918         house              independent          sector 25  13.00   \n",
      "2967         house              independent          sector 24   1.45   \n",
      "3120         house              independent          sector 26   4.60   \n",
      "3214          flat       experion heartsong  dwarka expressway   1.08   \n",
      "3255         house              independent           sector 2   5.60   \n",
      "\n",
      "      price_per_sqft  bedRoom  bathroom balcony  floorNum      facing  \\\n",
      "500          11111.0        4         2       2       NaN         NaN   \n",
      "767          15046.0        3         2      3+       NaN         NaN   \n",
      "1294         10288.0        3         3       0       NaN         NaN   \n",
      "1452         26235.0        4         4       1       NaN         NaN   \n",
      "1465         26570.0        1         1       0       NaN         NaN   \n",
      "1946          9722.0        2         1       0       NaN         NaN   \n",
      "2048         26235.0        4         4       2       NaN        East   \n",
      "2157          8889.0        2         1      3+       NaN         NaN   \n",
      "2271         21251.0        4         4      3+       NaN  South-West   \n",
      "2439          7719.0        4         4      3+       NaN        West   \n",
      "2536          3692.0        2         2       0       NaN         NaN   \n",
      "2545         27911.0        4         4       2       NaN  North-East   \n",
      "2918         45710.0        6         8      3+       NaN         NaN   \n",
      "2967          2984.0        3         3       1       NaN         NaN   \n",
      "3120         12198.0        4         4      3+       NaN         NaN   \n",
      "3214          6150.0        3         3       0       NaN         NaN   \n",
      "3255         17284.0        8         6      3+       NaN  South-West   \n",
      "\n",
      "           agePossession  built_up_area  study room  servant room  store room  \\\n",
      "500       Moderately Old          585.0           0             0           0   \n",
      "767         Old Property         4320.0           0             0           0   \n",
      "1294        Old Property          210.0           0             0           0   \n",
      "1452      Relatively New         3240.0           0             0           0   \n",
      "1465  Under Construction         1242.0           0             0           0   \n",
      "1946        Old Property          360.0           0             0           0   \n",
      "2048      Moderately Old         3240.0           0             1           1   \n",
      "2157      Moderately Old         4635.0           0             0           0   \n",
      "2271      Relatively New         5200.0           0             1           1   \n",
      "2439      Moderately Old         2800.0           0             1           0   \n",
      "2536  Under Construction         1625.0           0             0           0   \n",
      "2545        Old Property         3762.0           0             1           0   \n",
      "2918      Relatively New         2844.0           1             1           1   \n",
      "2967        Old Property          540.0           0             0           0   \n",
      "3120        Old Property         3771.0           0             0           0   \n",
      "3214  Under Construction         1758.0           0             0           0   \n",
      "3255      Moderately Old         3240.0           1             1           1   \n",
      "\n",
      "      pooja room  others  furnishing_type  luxury_score  \n",
      "500            0       0                0             0  \n",
      "767            0       0                0             9  \n",
      "1294           0       0                0             0  \n",
      "1452           0       0                0            21  \n",
      "1465           0       0                0             0  \n",
      "1946           0       0                0             0  \n",
      "2048           1       0                0            88  \n",
      "2157           0       0                0             0  \n",
      "2271           1       0                1           114  \n",
      "2439           1       0                1           130  \n",
      "2536           0       0                0             0  \n",
      "2545           0       0                0            59  \n",
      "2918           1       0                2             0  \n",
      "2967           0       0                0             9  \n",
      "3120           0       0                0            28  \n",
      "3214           0       0                0             0  \n",
      "3255           1       0                0             0  \n"
     ]
    }
   ],
   "execution_count": 172
  },
  {
   "metadata": {
    "ExecuteTime": {
     "end_time": "2025-07-25T02:50:46.045660Z",
     "start_time": "2025-07-25T02:50:46.040554Z"
    }
   },
   "cell_type": "code",
   "source": "df[df['property_type'] == 'house']['floorNum'].median()",
   "id": "d52efc65f06e4c55",
   "outputs": [
    {
     "data": {
      "text/plain": [
       "2.0"
      ]
     },
     "execution_count": 173,
     "metadata": {},
     "output_type": "execute_result"
    }
   ],
   "execution_count": 173
  },
  {
   "metadata": {
    "ExecuteTime": {
     "end_time": "2025-07-25T02:50:46.093864Z",
     "start_time": "2025-07-25T02:50:46.089867Z"
    }
   },
   "cell_type": "code",
   "source": "df['floorNum'].fillna(2.0, inplace=True)",
   "id": "872e5c9f171b1ade",
   "outputs": [
    {
     "name": "stderr",
     "output_type": "stream",
     "text": [
      "C:\\Users\\15105\\AppData\\Local\\Temp\\ipykernel_34348\\1880809499.py:1: FutureWarning: A value is trying to be set on a copy of a DataFrame or Series through chained assignment using an inplace method.\n",
      "The behavior will change in pandas 3.0. This inplace method will never work because the intermediate object on which we are setting values always behaves as a copy.\n",
      "\n",
      "For example, when doing 'df[col].method(value, inplace=True)', try using 'df.method({col: value}, inplace=True)' or df[col] = df[col].method(value) instead, to perform the operation inplace on the original object.\n",
      "\n",
      "\n",
      "  df['floorNum'].fillna(2.0, inplace=True)\n"
     ]
    }
   ],
   "execution_count": 174
  },
  {
   "metadata": {
    "ExecuteTime": {
     "end_time": "2025-07-25T02:50:46.195548Z",
     "start_time": "2025-07-25T02:50:46.189281Z"
    }
   },
   "cell_type": "code",
   "source": "df.isnull().sum().sort_values(ascending=False)",
   "id": "c80822db750f53c5",
   "outputs": [
    {
     "data": {
      "text/plain": [
       "facing             1011\n",
       "society               1\n",
       "agePossession         0\n",
       "furnishing_type       0\n",
       "others                0\n",
       "pooja room            0\n",
       "store room            0\n",
       "servant room          0\n",
       "study room            0\n",
       "built_up_area         0\n",
       "property_type         0\n",
       "floorNum              0\n",
       "balcony               0\n",
       "bathroom              0\n",
       "bedRoom               0\n",
       "price_per_sqft        0\n",
       "price                 0\n",
       "sector                0\n",
       "luxury_score          0\n",
       "dtype: int64"
      ]
     },
     "execution_count": 175,
     "metadata": {},
     "output_type": "execute_result"
    }
   ],
   "execution_count": 175
  },
  {
   "metadata": {},
   "cell_type": "markdown",
   "source": "#### facing",
   "id": "d342f73be1e5985d"
  },
  {
   "metadata": {
    "ExecuteTime": {
     "end_time": "2025-07-25T02:50:46.314157Z",
     "start_time": "2025-07-25T02:50:46.221191Z"
    }
   },
   "cell_type": "code",
   "source": "df['facing'].value_counts().plot(kind='pie', autopct='%0.2f%%')",
   "id": "45a8420a88c438a7",
   "outputs": [
    {
     "data": {
      "text/plain": [
       "<Axes: ylabel='count'>"
      ]
     },
     "execution_count": 176,
     "metadata": {},
     "output_type": "execute_result"
    },
    {
     "data": {
      "text/plain": [
       "<Figure size 640x480 with 1 Axes>"
      ],
      "image/png": "[encoded data removed]"
     },
     "metadata": {},
     "output_type": "display_data"
    }
   ],
   "execution_count": 176
  },
  {
   "metadata": {
    "ExecuteTime": {
     "end_time": "2025-07-25T02:50:46.321052Z",
     "start_time": "2025-07-25T02:50:46.315165Z"
    }
   },
   "cell_type": "code",
   "source": "df.shape",
   "id": "d539a0a1024121ea",
   "outputs": [
    {
     "data": {
      "text/plain": [
       "(3555, 19)"
      ]
     },
     "execution_count": 177,
     "metadata": {},
     "output_type": "execute_result"
    }
   ],
   "execution_count": 177
  },
  {
   "metadata": {
    "ExecuteTime": {
     "end_time": "2025-07-25T02:50:46.332238Z",
     "start_time": "2025-07-25T02:50:46.328239Z"
    }
   },
   "cell_type": "code",
   "source": "1011/df.shape[0]",
   "id": "a231075eef86aae2",
   "outputs": [
    {
     "data": {
      "text/plain": [
       "0.2843881856540084"
      ]
     },
     "execution_count": 178,
     "metadata": {},
     "output_type": "execute_result"
    }
   ],
   "execution_count": 178
  },
  {
   "metadata": {
    "ExecuteTime": {
     "end_time": "2025-07-25T02:50:46.382594Z",
     "start_time": "2025-07-25T02:50:46.378594Z"
    }
   },
   "cell_type": "code",
   "source": "df.drop(columns=['facing'], inplace=True)",
   "id": "c091efa0b1939d1f",
   "outputs": [],
   "execution_count": 179
  },
  {
   "metadata": {
    "ExecuteTime": {
     "end_time": "2025-07-25T02:50:46.452762Z",
     "start_time": "2025-07-25T02:50:46.442709Z"
    }
   },
   "cell_type": "code",
   "source": "df.sample(5)",
   "id": "9f5da2210c50cb68",
   "outputs": [
    {
     "data": {
      "text/plain": [
       "     property_type                                  society     sector  price  \\\n",
       "1655         house                          nirvana country  sector 50  10.00   \n",
       "1879          flat                           dlf the ultima  sector 81   2.50   \n",
       "1458          flat                             espire south  sector 68   1.32   \n",
       "1347          flat                       umang winter hills  sector 77   1.20   \n",
       "1209          flat  sare crescent parc royal greens phase 1  sector 92   0.95   \n",
       "\n",
       "      price_per_sqft  bedRoom  bathroom balcony  floorNum   agePossession  \\\n",
       "1655         14286.0        5         7       2       4.0  Moderately Old   \n",
       "1879         11726.0        3         3       2      20.0  Relatively New   \n",
       "1458          9047.0        2         2       2       9.0    New Property   \n",
       "1347          6586.0        3         3       3      14.0       Undefined   \n",
       "1209          5008.0        4         5      3+       4.0  Moderately Old   \n",
       "\n",
       "      built_up_area  study room  servant room  store room  pooja room  others  \\\n",
       "1655         7000.0           0             1           0           0       0   \n",
       "1879         1700.0           0             1           0           0       0   \n",
       "1458         1460.0           0             0           0           0       0   \n",
       "1347         1822.0           0             0           0           0       0   \n",
       "1209         1717.0           0             1           0           0       0   \n",
       "\n",
       "      furnishing_type  luxury_score  \n",
       "1655                2             0  \n",
       "1879                2           174  \n",
       "1458                0             0  \n",
       "1347                0            46  \n",
       "1209                0            37  "
      ],
      "text/html": [
       "<div>\n",
       "<style scoped>\n",
       "    .dataframe tbody tr th:only-of-type {\n",
       "        vertical-align: middle;\n",
       "    }\n",
       "\n",
       "    .dataframe tbody tr th {\n",
       "        vertical-align: top;\n",
       "    }\n",
       "\n",
       "    .dataframe thead th {\n",
       "        text-align: right;\n",
       "    }\n",
       "</style>\n",
       "<table border=\"1\" class=\"dataframe\">\n",
       "  <thead>\n",
       "    <tr style=\"text-align: right;\">\n",
       "      <th></th>\n",
       "      <th>property_type</th>\n",
       "      <th>society</th>\n",
       "      <th>sector</th>\n",
       "      <th>price</th>\n",
       "      <th>price_per_sqft</th>\n",
       "      <th>bedRoom</th>\n",
       "      <th>bathroom</th>\n",
       "      <th>balcony</th>\n",
       "      <th>floorNum</th>\n",
       "      <th>agePossession</th>\n",
       "      <th>built_up_area</th>\n",
       "      <th>study room</th>\n",
       "      <th>servant room</th>\n",
       "      <th>store room</th>\n",
       "      <th>pooja room</th>\n",
       "      <th>others</th>\n",
       "      <th>furnishing_type</th>\n",
       "      <th>luxury_score</th>\n",
       "    </tr>\n",
       "  </thead>\n",
       "  <tbody>\n",
       "    <tr>\n",
       "      <th>1655</th>\n",
       "      <td>house</td>\n",
       "      <td>nirvana country</td>\n",
       "      <td>sector 50</td>\n",
       "      <td>10.00</td>\n",
       "      <td>14286.0</td>\n",
       "      <td>5</td>\n",
       "      <td>7</td>\n",
       "      <td>2</td>\n",
       "      <td>4.0</td>\n",
       "      <td>Moderately Old</td>\n",
       "      <td>7000.0</td>\n",
       "      <td>0</td>\n",
       "      <td>1</td>\n",
       "      <td>0</td>\n",
       "      <td>0</td>\n",
       "      <td>0</td>\n",
       "      <td>2</td>\n",
       "      <td>0</td>\n",
       "    </tr>\n",
       "    <tr>\n",
       "      <th>1879</th>\n",
       "      <td>flat</td>\n",
       "      <td>dlf the ultima</td>\n",
       "      <td>sector 81</td>\n",
       "      <td>2.50</td>\n",
       "      <td>11726.0</td>\n",
       "      <td>3</td>\n",
       "      <td>3</td>\n",
       "      <td>2</td>\n",
       "      <td>20.0</td>\n",
       "      <td>Relatively New</td>\n",
       "      <td>1700.0</td>\n",
       "      <td>0</td>\n",
       "      <td>1</td>\n",
       "      <td>0</td>\n",
       "      <td>0</td>\n",
       "      <td>0</td>\n",
       "      <td>2</td>\n",
       "      <td>174</td>\n",
       "    </tr>\n",
       "    <tr>\n",
       "      <th>1458</th>\n",
       "      <td>flat</td>\n",
       "      <td>espire south</td>\n",
       "      <td>sector 68</td>\n",
       "      <td>1.32</td>\n",
       "      <td>9047.0</td>\n",
       "      <td>2</td>\n",
       "      <td>2</td>\n",
       "      <td>2</td>\n",
       "      <td>9.0</td>\n",
       "      <td>New Property</td>\n",
       "      <td>1460.0</td>\n",
       "      <td>0</td>\n",
       "      <td>0</td>\n",
       "      <td>0</td>\n",
       "      <td>0</td>\n",
       "      <td>0</td>\n",
       "      <td>0</td>\n",
       "      <td>0</td>\n",
       "    </tr>\n",
       "    <tr>\n",
       "      <th>1347</th>\n",
       "      <td>flat</td>\n",
       "      <td>umang winter hills</td>\n",
       "      <td>sector 77</td>\n",
       "      <td>1.20</td>\n",
       "      <td>6586.0</td>\n",
       "      <td>3</td>\n",
       "      <td>3</td>\n",
       "      <td>3</td>\n",
       "      <td>14.0</td>\n",
       "      <td>Undefined</td>\n",
       "      <td>1822.0</td>\n",
       "      <td>0</td>\n",
       "      <td>0</td>\n",
       "      <td>0</td>\n",
       "      <td>0</td>\n",
       "      <td>0</td>\n",
       "      <td>0</td>\n",
       "      <td>46</td>\n",
       "    </tr>\n",
       "    <tr>\n",
       "      <th>1209</th>\n",
       "      <td>flat</td>\n",
       "      <td>sare crescent parc royal greens phase 1</td>\n",
       "      <td>sector 92</td>\n",
       "      <td>0.95</td>\n",
       "      <td>5008.0</td>\n",
       "      <td>4</td>\n",
       "      <td>5</td>\n",
       "      <td>3+</td>\n",
       "      <td>4.0</td>\n",
       "      <td>Moderately Old</td>\n",
       "      <td>1717.0</td>\n",
       "      <td>0</td>\n",
       "      <td>1</td>\n",
       "      <td>0</td>\n",
       "      <td>0</td>\n",
       "      <td>0</td>\n",
       "      <td>0</td>\n",
       "      <td>37</td>\n",
       "    </tr>\n",
       "  </tbody>\n",
       "</table>\n",
       "</div>"
      ]
     },
     "execution_count": 180,
     "metadata": {},
     "output_type": "execute_result"
    }
   ],
   "execution_count": 180
  },
  {
   "metadata": {},
   "cell_type": "markdown",
   "source": "#### society",
   "id": "ef806ef94a3b14f"
  },
  {
   "metadata": {
    "ExecuteTime": {
     "end_time": "2025-07-25T02:50:46.482768Z",
     "start_time": "2025-07-25T02:50:46.472767Z"
    }
   },
   "cell_type": "code",
   "source": "df[df['society'].isnull()]",
   "id": "36667837eca3cf96",
   "outputs": [
    {
     "data": {
      "text/plain": [
       "     property_type society     sector  price  price_per_sqft  bedRoom  \\\n",
       "2536          flat     NaN  sector 78    0.6          3692.0        2   \n",
       "\n",
       "      bathroom balcony  floorNum       agePossession  built_up_area  \\\n",
       "2536         2       0       2.0  Under Construction         1625.0   \n",
       "\n",
       "      study room  servant room  store room  pooja room  others  \\\n",
       "2536           0             0           0           0       0   \n",
       "\n",
       "      furnishing_type  luxury_score  \n",
       "2536                0             0  "
      ],
      "text/html": [
       "<div>\n",
       "<style scoped>\n",
       "    .dataframe tbody tr th:only-of-type {\n",
       "        vertical-align: middle;\n",
       "    }\n",
       "\n",
       "    .dataframe tbody tr th {\n",
       "        vertical-align: top;\n",
       "    }\n",
       "\n",
       "    .dataframe thead th {\n",
       "        text-align: right;\n",
       "    }\n",
       "</style>\n",
       "<table border=\"1\" class=\"dataframe\">\n",
       "  <thead>\n",
       "    <tr style=\"text-align: right;\">\n",
       "      <th></th>\n",
       "      <th>property_type</th>\n",
       "      <th>society</th>\n",
       "      <th>sector</th>\n",
       "      <th>price</th>\n",
       "      <th>price_per_sqft</th>\n",
       "      <th>bedRoom</th>\n",
       "      <th>bathroom</th>\n",
       "      <th>balcony</th>\n",
       "      <th>floorNum</th>\n",
       "      <th>agePossession</th>\n",
       "      <th>built_up_area</th>\n",
       "      <th>study room</th>\n",
       "      <th>servant room</th>\n",
       "      <th>store room</th>\n",
       "      <th>pooja room</th>\n",
       "      <th>others</th>\n",
       "      <th>furnishing_type</th>\n",
       "      <th>luxury_score</th>\n",
       "    </tr>\n",
       "  </thead>\n",
       "  <tbody>\n",
       "    <tr>\n",
       "      <th>2536</th>\n",
       "      <td>flat</td>\n",
       "      <td>NaN</td>\n",
       "      <td>sector 78</td>\n",
       "      <td>0.6</td>\n",
       "      <td>3692.0</td>\n",
       "      <td>2</td>\n",
       "      <td>2</td>\n",
       "      <td>0</td>\n",
       "      <td>2.0</td>\n",
       "      <td>Under Construction</td>\n",
       "      <td>1625.0</td>\n",
       "      <td>0</td>\n",
       "      <td>0</td>\n",
       "      <td>0</td>\n",
       "      <td>0</td>\n",
       "      <td>0</td>\n",
       "      <td>0</td>\n",
       "      <td>0</td>\n",
       "    </tr>\n",
       "  </tbody>\n",
       "</table>\n",
       "</div>"
      ]
     },
     "execution_count": 181,
     "metadata": {},
     "output_type": "execute_result"
    }
   ],
   "execution_count": 181
  },
  {
   "metadata": {
    "ExecuteTime": {
     "end_time": "2025-07-25T02:50:46.528840Z",
     "start_time": "2025-07-25T02:50:46.524662Z"
    }
   },
   "cell_type": "code",
   "source": "df.drop(index=[2536], inplace=True)",
   "id": "1177208e14c27577",
   "outputs": [],
   "execution_count": 182
  },
  {
   "metadata": {
    "ExecuteTime": {
     "end_time": "2025-07-25T02:50:46.572757Z",
     "start_time": "2025-07-25T02:50:46.568847Z"
    }
   },
   "cell_type": "code",
   "source": "df.shape",
   "id": "675b84199c311f3f",
   "outputs": [
    {
     "data": {
      "text/plain": [
       "(3554, 18)"
      ]
     },
     "execution_count": 183,
     "metadata": {},
     "output_type": "execute_result"
    }
   ],
   "execution_count": 183
  },
  {
   "metadata": {},
   "cell_type": "markdown",
   "source": "#### agePossession",
   "id": "b793398a83f579bd"
  },
  {
   "metadata": {
    "ExecuteTime": {
     "end_time": "2025-07-25T02:50:46.702099Z",
     "start_time": "2025-07-25T02:50:46.695963Z"
    }
   },
   "cell_type": "code",
   "source": "df['agePossession'].value_counts()",
   "id": "408ab53730d645eb",
   "outputs": [
    {
     "data": {
      "text/plain": [
       "agePossession\n",
       "Relatively New        1605\n",
       "New Property           557\n",
       "Moderately Old         545\n",
       "Old Property           293\n",
       "Undefined              291\n",
       "Under Construction     263\n",
       "Name: count, dtype: int64"
      ]
     },
     "execution_count": 184,
     "metadata": {},
     "output_type": "execute_result"
    }
   ],
   "execution_count": 184
  },
  {
   "metadata": {
    "ExecuteTime": {
     "end_time": "2025-07-25T02:50:46.767385Z",
     "start_time": "2025-07-25T02:50:46.754941Z"
    }
   },
   "cell_type": "code",
   "source": "df[df['agePossession'] == 'Undefined']",
   "id": "6ee48c5f6480729c",
   "outputs": [
    {
     "data": {
      "text/plain": [
       "     property_type                                 society      sector  price  \\\n",
       "10           house                             independent  sector 109   1.55   \n",
       "33           house                             greenopolis   sector 89   0.70   \n",
       "48            flat                        smart world gems   sector 89   1.71   \n",
       "70            flat                             rof aalayas  sector 102   0.45   \n",
       "74           house                         bhim garh kheri    sector 3   1.50   \n",
       "...            ...                                     ...         ...    ...   \n",
       "3497          flat                         raheja vedaanta  sector 108   0.70   \n",
       "3502          flat                   signature global city  sector 37d   1.10   \n",
       "3508         house                             independent   sector 21   0.45   \n",
       "3520          flat                       sidhartha ncr one   sector 95   0.57   \n",
       "3549         house  surendra homes dayaindependentd colony    sector 6   0.75   \n",
       "\n",
       "      price_per_sqft  bedRoom  bathroom balcony  floorNum agePossession  \\\n",
       "10            6568.0        3         2       0       1.0     Undefined   \n",
       "33            5397.0        2         2       2      14.0     Undefined   \n",
       "48           12000.0        3         2       0       3.0     Undefined   \n",
       "70            6000.0        1         1       2       6.0     Undefined   \n",
       "74            7576.0        7         2       0       1.0     Undefined   \n",
       "...              ...      ...       ...     ...       ...           ...   \n",
       "3497          4522.0        2         2       3       1.0     Undefined   \n",
       "3502          9839.0        2         2       2       4.0     Undefined   \n",
       "3508          8411.0        3         2       1       1.0     Undefined   \n",
       "3520          4179.0        2         2       2      10.0     Undefined   \n",
       "3549         15625.0        4         4       2       1.0     Undefined   \n",
       "\n",
       "      built_up_area  study room  servant room  store room  pooja room  others  \\\n",
       "10           2360.0           0             0           0           0       0   \n",
       "33           1297.0           0             0           0           0       0   \n",
       "48           1423.0           0             0           0           0       0   \n",
       "70            750.0           0             0           0           0       0   \n",
       "74           1980.0           0             0           0           0       0   \n",
       "...             ...         ...           ...         ...         ...     ...   \n",
       "3497         1548.0           0             0           0           0       0   \n",
       "3502         1242.0           0             0           0           0       0   \n",
       "3508          594.0           0             0           0           0       0   \n",
       "3520         1364.0           0             0           0           0       0   \n",
       "3549          480.0           0             0           0           0       0   \n",
       "\n",
       "      furnishing_type  luxury_score  \n",
       "10                  0             0  \n",
       "33                  0             0  \n",
       "48                  0            45  \n",
       "70                  0             0  \n",
       "74                  0             0  \n",
       "...               ...           ...  \n",
       "3497                0             0  \n",
       "3502                0            59  \n",
       "3508                0             0  \n",
       "3520                0             0  \n",
       "3549                0             0  \n",
       "\n",
       "[291 rows x 18 columns]"
      ],
      "text/html": [
       "<div>\n",
       "<style scoped>\n",
       "    .dataframe tbody tr th:only-of-type {\n",
       "        vertical-align: middle;\n",
       "    }\n",
       "\n",
       "    .dataframe tbody tr th {\n",
       "        vertical-align: top;\n",
       "    }\n",
       "\n",
       "    .dataframe thead th {\n",
       "        text-align: right;\n",
       "    }\n",
       "</style>\n",
       "<table border=\"1\" class=\"dataframe\">\n",
       "  <thead>\n",
       "    <tr style=\"text-align: right;\">\n",
       "      <th></th>\n",
       "      <th>property_type</th>\n",
       "      <th>society</th>\n",
       "      <th>sector</th>\n",
       "      <th>price</th>\n",
       "      <th>price_per_sqft</th>\n",
       "      <th>bedRoom</th>\n",
       "      <th>bathroom</th>\n",
       "      <th>balcony</th>\n",
       "      <th>floorNum</th>\n",
       "      <th>agePossession</th>\n",
       "      <th>built_up_area</th>\n",
       "      <th>study room</th>\n",
       "      <th>servant room</th>\n",
       "      <th>store room</th>\n",
       "      <th>pooja room</th>\n",
       "      <th>others</th>\n",
       "      <th>furnishing_type</th>\n",
       "      <th>luxury_score</th>\n",
       "    </tr>\n",
       "  </thead>\n",
       "  <tbody>\n",
       "    <tr>\n",
       "      <th>10</th>\n",
       "      <td>house</td>\n",
       "      <td>independent</td>\n",
       "      <td>sector 109</td>\n",
       "      <td>1.55</td>\n",
       "      <td>6568.0</td>\n",
       "      <td>3</td>\n",
       "      <td>2</td>\n",
       "      <td>0</td>\n",
       "      <td>1.0</td>\n",
       "      <td>Undefined</td>\n",
       "      <td>2360.0</td>\n",
       "      <td>0</td>\n",
       "      <td>0</td>\n",
       "      <td>0</td>\n",
       "      <td>0</td>\n",
       "      <td>0</td>\n",
       "      <td>0</td>\n",
       "      <td>0</td>\n",
       "    </tr>\n",
       "    <tr>\n",
       "      <th>33</th>\n",
       "      <td>house</td>\n",
       "      <td>greenopolis</td>\n",
       "      <td>sector 89</td>\n",
       "      <td>0.70</td>\n",
       "      <td>5397.0</td>\n",
       "      <td>2</td>\n",
       "      <td>2</td>\n",
       "      <td>2</td>\n",
       "      <td>14.0</td>\n",
       "      <td>Undefined</td>\n",
       "      <td>1297.0</td>\n",
       "      <td>0</td>\n",
       "      <td>0</td>\n",
       "      <td>0</td>\n",
       "      <td>0</td>\n",
       "      <td>0</td>\n",
       "      <td>0</td>\n",
       "      <td>0</td>\n",
       "    </tr>\n",
       "    <tr>\n",
       "      <th>48</th>\n",
       "      <td>flat</td>\n",
       "      <td>smart world gems</td>\n",
       "      <td>sector 89</td>\n",
       "      <td>1.71</td>\n",
       "      <td>12000.0</td>\n",
       "      <td>3</td>\n",
       "      <td>2</td>\n",
       "      <td>0</td>\n",
       "      <td>3.0</td>\n",
       "      <td>Undefined</td>\n",
       "      <td>1423.0</td>\n",
       "      <td>0</td>\n",
       "      <td>0</td>\n",
       "      <td>0</td>\n",
       "      <td>0</td>\n",
       "      <td>0</td>\n",
       "      <td>0</td>\n",
       "      <td>45</td>\n",
       "    </tr>\n",
       "    <tr>\n",
       "      <th>70</th>\n",
       "      <td>flat</td>\n",
       "      <td>rof aalayas</td>\n",
       "      <td>sector 102</td>\n",
       "      <td>0.45</td>\n",
       "      <td>6000.0</td>\n",
       "      <td>1</td>\n",
       "      <td>1</td>\n",
       "      <td>2</td>\n",
       "      <td>6.0</td>\n",
       "      <td>Undefined</td>\n",
       "      <td>750.0</td>\n",
       "      <td>0</td>\n",
       "      <td>0</td>\n",
       "      <td>0</td>\n",
       "      <td>0</td>\n",
       "      <td>0</td>\n",
       "      <td>0</td>\n",
       "      <td>0</td>\n",
       "    </tr>\n",
       "    <tr>\n",
       "      <th>74</th>\n",
       "      <td>house</td>\n",
       "      <td>bhim garh kheri</td>\n",
       "      <td>sector 3</td>\n",
       "      <td>1.50</td>\n",
       "      <td>7576.0</td>\n",
       "      <td>7</td>\n",
       "      <td>2</td>\n",
       "      <td>0</td>\n",
       "      <td>1.0</td>\n",
       "      <td>Undefined</td>\n",
       "      <td>1980.0</td>\n",
       "      <td>0</td>\n",
       "      <td>0</td>\n",
       "      <td>0</td>\n",
       "      <td>0</td>\n",
       "      <td>0</td>\n",
       "      <td>0</td>\n",
       "      <td>0</td>\n",
       "    </tr>\n",
       "    <tr>\n",
       "      <th>...</th>\n",
       "      <td>...</td>\n",
       "      <td>...</td>\n",
       "      <td>...</td>\n",
       "      <td>...</td>\n",
       "      <td>...</td>\n",
       "      <td>...</td>\n",
       "      <td>...</td>\n",
       "      <td>...</td>\n",
       "      <td>...</td>\n",
       "      <td>...</td>\n",
       "      <td>...</td>\n",
       "      <td>...</td>\n",
       "      <td>...</td>\n",
       "      <td>...</td>\n",
       "      <td>...</td>\n",
       "      <td>...</td>\n",
       "      <td>...</td>\n",
       "      <td>...</td>\n",
       "    </tr>\n",
       "    <tr>\n",
       "      <th>3497</th>\n",
       "      <td>flat</td>\n",
       "      <td>raheja vedaanta</td>\n",
       "      <td>sector 108</td>\n",
       "      <td>0.70</td>\n",
       "      <td>4522.0</td>\n",
       "      <td>2</td>\n",
       "      <td>2</td>\n",
       "      <td>3</td>\n",
       "      <td>1.0</td>\n",
       "      <td>Undefined</td>\n",
       "      <td>1548.0</td>\n",
       "      <td>0</td>\n",
       "      <td>0</td>\n",
       "      <td>0</td>\n",
       "      <td>0</td>\n",
       "      <td>0</td>\n",
       "      <td>0</td>\n",
       "      <td>0</td>\n",
       "    </tr>\n",
       "    <tr>\n",
       "      <th>3502</th>\n",
       "      <td>flat</td>\n",
       "      <td>signature global city</td>\n",
       "      <td>sector 37d</td>\n",
       "      <td>1.10</td>\n",
       "      <td>9839.0</td>\n",
       "      <td>2</td>\n",
       "      <td>2</td>\n",
       "      <td>2</td>\n",
       "      <td>4.0</td>\n",
       "      <td>Undefined</td>\n",
       "      <td>1242.0</td>\n",
       "      <td>0</td>\n",
       "      <td>0</td>\n",
       "      <td>0</td>\n",
       "      <td>0</td>\n",
       "      <td>0</td>\n",
       "      <td>0</td>\n",
       "      <td>59</td>\n",
       "    </tr>\n",
       "    <tr>\n",
       "      <th>3508</th>\n",
       "      <td>house</td>\n",
       "      <td>independent</td>\n",
       "      <td>sector 21</td>\n",
       "      <td>0.45</td>\n",
       "      <td>8411.0</td>\n",
       "      <td>3</td>\n",
       "      <td>2</td>\n",
       "      <td>1</td>\n",
       "      <td>1.0</td>\n",
       "      <td>Undefined</td>\n",
       "      <td>594.0</td>\n",
       "      <td>0</td>\n",
       "      <td>0</td>\n",
       "      <td>0</td>\n",
       "      <td>0</td>\n",
       "      <td>0</td>\n",
       "      <td>0</td>\n",
       "      <td>0</td>\n",
       "    </tr>\n",
       "    <tr>\n",
       "      <th>3520</th>\n",
       "      <td>flat</td>\n",
       "      <td>sidhartha ncr one</td>\n",
       "      <td>sector 95</td>\n",
       "      <td>0.57</td>\n",
       "      <td>4179.0</td>\n",
       "      <td>2</td>\n",
       "      <td>2</td>\n",
       "      <td>2</td>\n",
       "      <td>10.0</td>\n",
       "      <td>Undefined</td>\n",
       "      <td>1364.0</td>\n",
       "      <td>0</td>\n",
       "      <td>0</td>\n",
       "      <td>0</td>\n",
       "      <td>0</td>\n",
       "      <td>0</td>\n",
       "      <td>0</td>\n",
       "      <td>0</td>\n",
       "    </tr>\n",
       "    <tr>\n",
       "      <th>3549</th>\n",
       "      <td>house</td>\n",
       "      <td>surendra homes dayaindependentd colony</td>\n",
       "      <td>sector 6</td>\n",
       "      <td>0.75</td>\n",
       "      <td>15625.0</td>\n",
       "      <td>4</td>\n",
       "      <td>4</td>\n",
       "      <td>2</td>\n",
       "      <td>1.0</td>\n",
       "      <td>Undefined</td>\n",
       "      <td>480.0</td>\n",
       "      <td>0</td>\n",
       "      <td>0</td>\n",
       "      <td>0</td>\n",
       "      <td>0</td>\n",
       "      <td>0</td>\n",
       "      <td>0</td>\n",
       "      <td>0</td>\n",
       "    </tr>\n",
       "  </tbody>\n",
       "</table>\n",
       "<p>291 rows × 18 columns</p>\n",
       "</div>"
      ]
     },
     "execution_count": 185,
     "metadata": {},
     "output_type": "execute_result"
    }
   ],
   "execution_count": 185
  },
  {
   "metadata": {
    "ExecuteTime": {
     "end_time": "2025-07-25T02:50:46.875729Z",
     "start_time": "2025-07-25T02:50:46.872342Z"
    }
   },
   "cell_type": "code",
   "source": [
    "# we will ask all the sector and property_type of undefined rows and select its mode\n",
    "def mode_based_imputation(row):\n",
    "    if row['agePossession'] == 'Undefined':\n",
    "        mode_value = df[(df['sector'] == row['sector']) & (df['property_type'] == row['property_type'])]['agePossession'].mode()\n",
    "        # If mode_value is empty (no mode found), return NaN, else return the mode\n",
    "        if not mode_value.empty:\n",
    "            return mode_value.iloc[0]\n",
    "        else:\n",
    "            return np.nan\n",
    "    else:\n",
    "        return row['agePossession']"
   ],
   "id": "4b7559ac3c31a4dc",
   "outputs": [],
   "execution_count": 186
  },
  {
   "metadata": {
    "ExecuteTime": {
     "end_time": "2025-07-25T02:50:46.927754Z",
     "start_time": "2025-07-25T02:50:46.921736Z"
    }
   },
   "cell_type": "code",
   "source": "mode_based_imputation((df[df['agePossession'] == 'Undefined']).iloc[1])",
   "id": "742d7fc4b2e1397c",
   "outputs": [
    {
     "data": {
      "text/plain": [
       "'Undefined'"
      ]
     },
     "execution_count": 187,
     "metadata": {},
     "output_type": "execute_result"
    }
   ],
   "execution_count": 187
  },
  {
   "metadata": {
    "ExecuteTime": {
     "end_time": "2025-07-25T02:50:46.965388Z",
     "start_time": "2025-07-25T02:50:46.960908Z"
    }
   },
   "cell_type": "code",
   "source": "mode_based_imputation(df[df['agePossession'] == 'New Property'].iloc[1])",
   "id": "f593405eb0f1459c",
   "outputs": [
    {
     "data": {
      "text/plain": [
       "'New Property'"
      ]
     },
     "execution_count": 188,
     "metadata": {},
     "output_type": "execute_result"
    }
   ],
   "execution_count": 188
  },
  {
   "metadata": {
    "ExecuteTime": {
     "end_time": "2025-07-25T02:50:47.261647Z",
     "start_time": "2025-07-25T02:50:47.009507Z"
    }
   },
   "cell_type": "code",
   "source": "df['agePossession'] = df.apply(mode_based_imputation, axis=1)",
   "id": "f8095d6216ffed55",
   "outputs": [],
   "execution_count": 189
  },
  {
   "metadata": {
    "ExecuteTime": {
     "end_time": "2025-07-25T02:50:47.269753Z",
     "start_time": "2025-07-25T02:50:47.262753Z"
    }
   },
   "cell_type": "code",
   "source": "df['agePossession'].value_counts()",
   "id": "89a5106cbcd5230",
   "outputs": [
    {
     "data": {
      "text/plain": [
       "agePossession\n",
       "Relatively New        1715\n",
       "New Property           598\n",
       "Moderately Old         585\n",
       "Old Property           324\n",
       "Under Construction     277\n",
       "Undefined               55\n",
       "Name: count, dtype: int64"
      ]
     },
     "execution_count": 190,
     "metadata": {},
     "output_type": "execute_result"
    }
   ],
   "execution_count": 190
  },
  {
   "metadata": {},
   "cell_type": "markdown",
   "source": "Reduced to 55",
   "id": "716a8018954a6694"
  },
  {
   "metadata": {
    "ExecuteTime": {
     "end_time": "2025-07-25T02:50:47.278874Z",
     "start_time": "2025-07-25T02:50:47.271231Z"
    }
   },
   "cell_type": "code",
   "source": [
    "def mode_based_imputation2(row):\n",
    "    if row['agePossession'] == 'Undefined':\n",
    "        mode_value = df[(df['sector'] == row['sector'])]['agePossession'].mode()\n",
    "        # If mode_value is empty (no mode found), return NaN, else return the mode\n",
    "        if not mode_value.empty:\n",
    "            return mode_value.iloc[0]\n",
    "        else:\n",
    "            return np.nan\n",
    "    else:\n",
    "        return row['agePossession']"
   ],
   "id": "7348a303ca1bd03d",
   "outputs": [],
   "execution_count": 191
  },
  {
   "metadata": {
    "ExecuteTime": {
     "end_time": "2025-07-25T02:50:47.335274Z",
     "start_time": "2025-07-25T02:50:47.279883Z"
    }
   },
   "cell_type": "code",
   "source": "df['agePossession'] = df.apply(mode_based_imputation2, axis=1)",
   "id": "b80755be66981707",
   "outputs": [],
   "execution_count": 192
  },
  {
   "metadata": {
    "ExecuteTime": {
     "end_time": "2025-07-25T02:50:47.342301Z",
     "start_time": "2025-07-25T02:50:47.336283Z"
    }
   },
   "cell_type": "code",
   "source": "df['agePossession'].value_counts()",
   "id": "344f00aa46f75ce3",
   "outputs": [
    {
     "data": {
      "text/plain": [
       "agePossession\n",
       "Relatively New        1730\n",
       "New Property           599\n",
       "Moderately Old         592\n",
       "Old Property           327\n",
       "Under Construction     277\n",
       "Undefined               29\n",
       "Name: count, dtype: int64"
      ]
     },
     "execution_count": 193,
     "metadata": {},
     "output_type": "execute_result"
    }
   ],
   "execution_count": 193
  },
  {
   "metadata": {},
   "cell_type": "markdown",
   "source": "From 55 to 29",
   "id": "f401b0ecaa9d9675"
  },
  {
   "metadata": {
    "ExecuteTime": {
     "end_time": "2025-07-25T02:50:47.351832Z",
     "start_time": "2025-07-25T02:50:47.342828Z"
    }
   },
   "cell_type": "code",
   "source": [
    "def mode_based_imputation3(row):\n",
    "    if row['agePossession'] == 'Undefined':\n",
    "        mode_value = df[(df['property_type'] == row['property_type'])]['agePossession'].mode()\n",
    "        # If mode_value is empty (no mode found), return NaN, else return the mode\n",
    "        if not mode_value.empty:\n",
    "            return mode_value.iloc[0]\n",
    "        else:\n",
    "            return np.nan\n",
    "    else:\n",
    "        return row['agePossession']"
   ],
   "id": "5782dab062386c7e",
   "outputs": [],
   "execution_count": 194
  },
  {
   "metadata": {
    "ExecuteTime": {
     "end_time": "2025-07-25T02:50:47.432785Z",
     "start_time": "2025-07-25T02:50:47.395785Z"
    }
   },
   "cell_type": "code",
   "source": "df['agePossession'] = df.apply(mode_based_imputation3, axis=1)",
   "id": "ae3509f485bfc419",
   "outputs": [],
   "execution_count": 195
  },
  {
   "metadata": {
    "ExecuteTime": {
     "end_time": "2025-07-25T02:50:47.439156Z",
     "start_time": "2025-07-25T02:50:47.432785Z"
    }
   },
   "cell_type": "code",
   "source": "df['agePossession'].value_counts()",
   "id": "2cb17a856a34da94",
   "outputs": [
    {
     "data": {
      "text/plain": [
       "agePossession\n",
       "Relatively New        1732\n",
       "Moderately Old         619\n",
       "New Property           599\n",
       "Old Property           327\n",
       "Under Construction     277\n",
       "Name: count, dtype: int64"
      ]
     },
     "execution_count": 196,
     "metadata": {},
     "output_type": "execute_result"
    }
   ],
   "execution_count": 196
  },
  {
   "metadata": {
    "ExecuteTime": {
     "end_time": "2025-07-25T02:50:47.456099Z",
     "start_time": "2025-07-25T02:50:47.450161Z"
    }
   },
   "cell_type": "code",
   "source": "df.isnull().sum().sum()",
   "id": "8b555215cef4ef6e",
   "outputs": [
    {
     "data": {
      "text/plain": [
       "0"
      ]
     },
     "execution_count": 197,
     "metadata": {},
     "output_type": "execute_result"
    }
   ],
   "execution_count": 197
  },
  {
   "metadata": {
    "ExecuteTime": {
     "end_time": "2025-07-25T02:50:47.480583Z",
     "start_time": "2025-07-25T02:50:47.477103Z"
    }
   },
   "cell_type": "code",
   "source": "df.columns",
   "id": "f2cc80e62d1a5839",
   "outputs": [
    {
     "data": {
      "text/plain": [
       "Index(['property_type', 'society', 'sector', 'price', 'price_per_sqft',\n",
       "       'bedRoom', 'bathroom', 'balcony', 'floorNum', 'agePossession',\n",
       "       'built_up_area', 'study room', 'servant room', 'store room',\n",
       "       'pooja room', 'others', 'furnishing_type', 'luxury_score'],\n",
       "      dtype='object')"
      ]
     },
     "execution_count": 198,
     "metadata": {},
     "output_type": "execute_result"
    }
   ],
   "execution_count": 198
  },
  {
   "metadata": {
    "ExecuteTime": {
     "end_time": "2025-07-25T02:50:47.538464Z",
     "start_time": "2025-07-25T02:50:47.525589Z"
    }
   },
   "cell_type": "code",
   "source": "df.head()",
   "id": "2048358f677a1823",
   "outputs": [
    {
     "data": {
      "text/plain": [
       "  property_type                      society      sector  price  \\\n",
       "0          flat      signature global park 4   sector 36   0.82   \n",
       "1          flat             smart world gems   sector 89   0.95   \n",
       "2          flat       breez global hill view  sohna road   0.32   \n",
       "3          flat  bestech park view sanskruti   sector 92   1.60   \n",
       "4          flat               suncity avenue  sector 102   0.48   \n",
       "\n",
       "   price_per_sqft  bedRoom  bathroom balcony  floorNum   agePossession  \\\n",
       "0          7586.0        3         2       2       2.0    New Property   \n",
       "1          8597.0        2         2       2       4.0    New Property   \n",
       "2          5470.0        2         2       1      17.0    New Property   \n",
       "3          8020.0        3         4      3+      10.0  Relatively New   \n",
       "4          9023.0        2         2       1       5.0  Relatively New   \n",
       "\n",
       "   built_up_area  study room  servant room  store room  pooja room  others  \\\n",
       "0          850.0           0             0           0           0       0   \n",
       "1         1226.0           1             1           0           0       0   \n",
       "2         1000.0           0             0           0           0       0   \n",
       "3         1615.0           0             1           0           0       1   \n",
       "4          582.0           0             0           1           0       0   \n",
       "\n",
       "   furnishing_type  luxury_score  \n",
       "0                0             8  \n",
       "1                0            38  \n",
       "2                0            49  \n",
       "3                1           174  \n",
       "4                0           159  "
      ],
      "text/html": [
       "<div>\n",
       "<style scoped>\n",
       "    .dataframe tbody tr th:only-of-type {\n",
       "        vertical-align: middle;\n",
       "    }\n",
       "\n",
       "    .dataframe tbody tr th {\n",
       "        vertical-align: top;\n",
       "    }\n",
       "\n",
       "    .dataframe thead th {\n",
       "        text-align: right;\n",
       "    }\n",
       "</style>\n",
       "<table border=\"1\" class=\"dataframe\">\n",
       "  <thead>\n",
       "    <tr style=\"text-align: right;\">\n",
       "      <th></th>\n",
       "      <th>property_type</th>\n",
       "      <th>society</th>\n",
       "      <th>sector</th>\n",
       "      <th>price</th>\n",
       "      <th>price_per_sqft</th>\n",
       "      <th>bedRoom</th>\n",
       "      <th>bathroom</th>\n",
       "      <th>balcony</th>\n",
       "      <th>floorNum</th>\n",
       "      <th>agePossession</th>\n",
       "      <th>built_up_area</th>\n",
       "      <th>study room</th>\n",
       "      <th>servant room</th>\n",
       "      <th>store room</th>\n",
       "      <th>pooja room</th>\n",
       "      <th>others</th>\n",
       "      <th>furnishing_type</th>\n",
       "      <th>luxury_score</th>\n",
       "    </tr>\n",
       "  </thead>\n",
       "  <tbody>\n",
       "    <tr>\n",
       "      <th>0</th>\n",
       "      <td>flat</td>\n",
       "      <td>signature global park 4</td>\n",
       "      <td>sector 36</td>\n",
       "      <td>0.82</td>\n",
       "      <td>7586.0</td>\n",
       "      <td>3</td>\n",
       "      <td>2</td>\n",
       "      <td>2</td>\n",
       "      <td>2.0</td>\n",
       "      <td>New Property</td>\n",
       "      <td>850.0</td>\n",
       "      <td>0</td>\n",
       "      <td>0</td>\n",
       "      <td>0</td>\n",
       "      <td>0</td>\n",
       "      <td>0</td>\n",
       "      <td>0</td>\n",
       "      <td>8</td>\n",
       "    </tr>\n",
       "    <tr>\n",
       "      <th>1</th>\n",
       "      <td>flat</td>\n",
       "      <td>smart world gems</td>\n",
       "      <td>sector 89</td>\n",
       "      <td>0.95</td>\n",
       "      <td>8597.0</td>\n",
       "      <td>2</td>\n",
       "      <td>2</td>\n",
       "      <td>2</td>\n",
       "      <td>4.0</td>\n",
       "      <td>New Property</td>\n",
       "      <td>1226.0</td>\n",
       "      <td>1</td>\n",
       "      <td>1</td>\n",
       "      <td>0</td>\n",
       "      <td>0</td>\n",
       "      <td>0</td>\n",
       "      <td>0</td>\n",
       "      <td>38</td>\n",
       "    </tr>\n",
       "    <tr>\n",
       "      <th>2</th>\n",
       "      <td>flat</td>\n",
       "      <td>breez global hill view</td>\n",
       "      <td>sohna road</td>\n",
       "      <td>0.32</td>\n",
       "      <td>5470.0</td>\n",
       "      <td>2</td>\n",
       "      <td>2</td>\n",
       "      <td>1</td>\n",
       "      <td>17.0</td>\n",
       "      <td>New Property</td>\n",
       "      <td>1000.0</td>\n",
       "      <td>0</td>\n",
       "      <td>0</td>\n",
       "      <td>0</td>\n",
       "      <td>0</td>\n",
       "      <td>0</td>\n",
       "      <td>0</td>\n",
       "      <td>49</td>\n",
       "    </tr>\n",
       "    <tr>\n",
       "      <th>3</th>\n",
       "      <td>flat</td>\n",
       "      <td>bestech park view sanskruti</td>\n",
       "      <td>sector 92</td>\n",
       "      <td>1.60</td>\n",
       "      <td>8020.0</td>\n",
       "      <td>3</td>\n",
       "      <td>4</td>\n",
       "      <td>3+</td>\n",
       "      <td>10.0</td>\n",
       "      <td>Relatively New</td>\n",
       "      <td>1615.0</td>\n",
       "      <td>0</td>\n",
       "      <td>1</td>\n",
       "      <td>0</td>\n",
       "      <td>0</td>\n",
       "      <td>1</td>\n",
       "      <td>1</td>\n",
       "      <td>174</td>\n",
       "    </tr>\n",
       "    <tr>\n",
       "      <th>4</th>\n",
       "      <td>flat</td>\n",
       "      <td>suncity avenue</td>\n",
       "      <td>sector 102</td>\n",
       "      <td>0.48</td>\n",
       "      <td>9023.0</td>\n",
       "      <td>2</td>\n",
       "      <td>2</td>\n",
       "      <td>1</td>\n",
       "      <td>5.0</td>\n",
       "      <td>Relatively New</td>\n",
       "      <td>582.0</td>\n",
       "      <td>0</td>\n",
       "      <td>0</td>\n",
       "      <td>1</td>\n",
       "      <td>0</td>\n",
       "      <td>0</td>\n",
       "      <td>0</td>\n",
       "      <td>159</td>\n",
       "    </tr>\n",
       "  </tbody>\n",
       "</table>\n",
       "</div>"
      ]
     },
     "execution_count": 199,
     "metadata": {},
     "output_type": "execute_result"
    }
   ],
   "execution_count": 199
  },
  {
   "metadata": {
    "ExecuteTime": {
     "end_time": "2025-07-25T02:50:51.798746Z",
     "start_time": "2025-07-25T02:50:51.761592Z"
    }
   },
   "cell_type": "code",
   "source": "df.to_csv('gurgaon_properties_missing_value_imputation.csv', index=False)",
   "id": "2f124eab332e717a",
   "outputs": [],
   "execution_count": 200
  },
  {
   "metadata": {},
   "cell_type": "code",
   "outputs": [],
   "execution_count": null,
   "source": "",
   "id": "fb571b30ea17f690"
  }
 ],
 "metadata": {
  "kernelspec": {
   "display_name": "Python 3",
   "language": "python",
   "name": "python3"
  },
  "language_info": {
   "codemirror_mode": {
    "name": "ipython",
    "version": 2
   },
   "file_extension": ".py",
   "mimetype": "text/x-python",
   "name": "python",
   "nbconvert_exporter": "python",
   "pygments_lexer": "ipython2",
   "version": "2.7.6"
  }
 },
 "nbformat": 4,
 "nbformat_minor": 5
}
