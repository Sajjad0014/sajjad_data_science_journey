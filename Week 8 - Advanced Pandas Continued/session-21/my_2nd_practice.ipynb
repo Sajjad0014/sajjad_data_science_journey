{
 "cells": [
  {
   "cell_type": "code",
   "id": "initial_id",
   "metadata": {
    "collapsed": true,
    "ExecuteTime": {
     "end_time": "2025-02-06T01:22:19.858865Z",
     "start_time": "2025-02-06T01:22:19.856492Z"
    }
   },
   "source": [
    "import numpy as np\n",
    "import pandas as pd"
   ],
   "outputs": [],
   "execution_count": 1
  },
  {
   "metadata": {
    "ExecuteTime": {
     "end_time": "2025-02-06T01:23:40.981976Z",
     "start_time": "2025-02-06T01:23:40.974778Z"
    }
   },
   "cell_type": "code",
   "source": [
    "index_val = [('cse', 2019), ('cse', 2020), ('cse', 2021), ('cse', 2022), ('ece', 2019), ('ece', 2020), ('ece', 2021),\n",
    "             ('ece', 2022)]\n",
    "\n",
    "multi_index = pd.MultiIndex.from_tuples(index_val)\n",
    "multi_index"
   ],
   "id": "eb592917b511db61",
   "outputs": [
    {
     "data": {
      "text/plain": [
       "MultiIndex([('cse', 2019),\n",
       "            ('cse', 2020),\n",
       "            ('cse', 2021),\n",
       "            ('cse', 2022),\n",
       "            ('ece', 2019),\n",
       "            ('ece', 2020),\n",
       "            ('ece', 2021),\n",
       "            ('ece', 2022)],\n",
       "           )"
      ]
     },
     "execution_count": 2,
     "metadata": {},
     "output_type": "execute_result"
    }
   ],
   "execution_count": 2
  },
  {
   "metadata": {
    "ExecuteTime": {
     "end_time": "2025-02-06T01:24:04.770677Z",
     "start_time": "2025-02-06T01:24:04.767395Z"
    }
   },
   "cell_type": "code",
   "source": "multi_index.levels",
   "id": "4499482e2a7e9898",
   "outputs": [
    {
     "data": {
      "text/plain": [
       "FrozenList([['cse', 'ece'], [2019, 2020, 2021, 2022]])"
      ]
     },
     "execution_count": 4,
     "metadata": {},
     "output_type": "execute_result"
    }
   ],
   "execution_count": 4
  },
  {
   "metadata": {
    "ExecuteTime": {
     "end_time": "2025-02-06T01:24:12.834603Z",
     "start_time": "2025-02-06T01:24:12.829598Z"
    }
   },
   "cell_type": "code",
   "source": "multi_index.levels[0]",
   "id": "dbcbf9f820f55941",
   "outputs": [
    {
     "data": {
      "text/plain": [
       "Index(['cse', 'ece'], dtype='object')"
      ]
     },
     "execution_count": 5,
     "metadata": {},
     "output_type": "execute_result"
    }
   ],
   "execution_count": 5
  },
  {
   "metadata": {
    "ExecuteTime": {
     "end_time": "2025-02-06T01:24:27.907580Z",
     "start_time": "2025-02-06T01:24:27.851069Z"
    }
   },
   "cell_type": "code",
   "source": "multi_index.levels[1]",
   "id": "1111a86472a918d",
   "outputs": [
    {
     "data": {
      "text/plain": [
       "Index([2019, 2020, 2021, 2022], dtype='int64')"
      ]
     },
     "execution_count": 6,
     "metadata": {},
     "output_type": "execute_result"
    }
   ],
   "execution_count": 6
  },
  {
   "metadata": {
    "ExecuteTime": {
     "end_time": "2025-02-06T01:25:20.033861Z",
     "start_time": "2025-02-06T01:25:20.028772Z"
    }
   },
   "cell_type": "code",
   "source": [
    "multi_index_2 = pd.MultiIndex.from_product([['cse', 'eee','ece'], [2019, 2020, 2021, 2022]])\n",
    "multi_index_2"
   ],
   "id": "bcff4459ee580db8",
   "outputs": [
    {
     "data": {
      "text/plain": [
       "MultiIndex([('cse', 2019),\n",
       "            ('cse', 2020),\n",
       "            ('cse', 2021),\n",
       "            ('cse', 2022),\n",
       "            ('eee', 2019),\n",
       "            ('eee', 2020),\n",
       "            ('eee', 2021),\n",
       "            ('eee', 2022),\n",
       "            ('ece', 2019),\n",
       "            ('ece', 2020),\n",
       "            ('ece', 2021),\n",
       "            ('ece', 2022)],\n",
       "           )"
      ]
     },
     "execution_count": 8,
     "metadata": {},
     "output_type": "execute_result"
    }
   ],
   "execution_count": 8
  },
  {
   "metadata": {
    "ExecuteTime": {
     "end_time": "2025-02-06T01:26:49.691731Z",
     "start_time": "2025-02-06T01:26:49.686730Z"
    }
   },
   "cell_type": "code",
   "source": [
    "s1 = pd.Series([1, 2, 3, 4, 5, 6, 7, 8, 9 , 10, 12, 13], index=multi_index_2)\n",
    "s1"
   ],
   "id": "8ea942f629021b4b",
   "outputs": [
    {
     "data": {
      "text/plain": [
       "cse  2019     1\n",
       "     2020     2\n",
       "     2021     3\n",
       "     2022     4\n",
       "eee  2019     5\n",
       "     2020     6\n",
       "     2021     7\n",
       "     2022     8\n",
       "ece  2019     9\n",
       "     2020    10\n",
       "     2021    12\n",
       "     2022    13\n",
       "dtype: int64"
      ]
     },
     "execution_count": 12,
     "metadata": {},
     "output_type": "execute_result"
    }
   ],
   "execution_count": 12
  },
  {
   "metadata": {
    "ExecuteTime": {
     "end_time": "2025-02-06T01:27:00.789004Z",
     "start_time": "2025-02-06T01:27:00.784511Z"
    }
   },
   "cell_type": "code",
   "source": "s1[('cse', 2022)]",
   "id": "d40db39127e17f5b",
   "outputs": [
    {
     "data": {
      "text/plain": [
       "4"
      ]
     },
     "execution_count": 14,
     "metadata": {},
     "output_type": "execute_result"
    }
   ],
   "execution_count": 14
  },
  {
   "metadata": {
    "ExecuteTime": {
     "end_time": "2025-02-06T01:27:09.424623Z",
     "start_time": "2025-02-06T01:27:09.420490Z"
    }
   },
   "cell_type": "code",
   "source": "s1['eee']",
   "id": "e1c815f9c0273fbc",
   "outputs": [
    {
     "data": {
      "text/plain": [
       "2019    5\n",
       "2020    6\n",
       "2021    7\n",
       "2022    8\n",
       "dtype: int64"
      ]
     },
     "execution_count": 15,
     "metadata": {},
     "output_type": "execute_result"
    }
   ],
   "execution_count": 15
  },
  {
   "metadata": {
    "ExecuteTime": {
     "end_time": "2025-02-06T01:29:00.213796Z",
     "start_time": "2025-02-06T01:29:00.210566Z"
    }
   },
   "cell_type": "code",
   "source": "print(type(s1))",
   "id": "5684ce9b8869320",
   "outputs": [
    {
     "name": "stdout",
     "output_type": "stream",
     "text": [
      "<class 'pandas.core.series.Series'>\n"
     ]
    }
   ],
   "execution_count": 20
  },
  {
   "metadata": {
    "ExecuteTime": {
     "end_time": "2025-02-06T01:27:27.138667Z",
     "start_time": "2025-02-06T01:27:27.134594Z"
    }
   },
   "cell_type": "code",
   "source": "print(s1)",
   "id": "ef501433335525c3",
   "outputs": [
    {
     "name": "stdout",
     "output_type": "stream",
     "text": [
      "cse  2019     1\n",
      "     2020     2\n",
      "     2021     3\n",
      "     2022     4\n",
      "eee  2019     5\n",
      "     2020     6\n",
      "     2021     7\n",
      "     2022     8\n",
      "ece  2019     9\n",
      "     2020    10\n",
      "     2021    12\n",
      "     2022    13\n",
      "dtype: int64\n"
     ]
    }
   ],
   "execution_count": 16
  },
  {
   "metadata": {
    "ExecuteTime": {
     "end_time": "2025-02-06T01:27:52.323777Z",
     "start_time": "2025-02-06T01:27:52.315641Z"
    }
   },
   "cell_type": "code",
   "source": [
    "s_df = s1.unstack()\n",
    "s_df"
   ],
   "id": "78337b1ef34579b",
   "outputs": [
    {
     "data": {
      "text/plain": [
       "     2019  2020  2021  2022\n",
       "cse     1     2     3     4\n",
       "ece     9    10    12    13\n",
       "eee     5     6     7     8"
      ],
      "text/html": [
       "<div>\n",
       "<style scoped>\n",
       "    .dataframe tbody tr th:only-of-type {\n",
       "        vertical-align: middle;\n",
       "    }\n",
       "\n",
       "    .dataframe tbody tr th {\n",
       "        vertical-align: top;\n",
       "    }\n",
       "\n",
       "    .dataframe thead th {\n",
       "        text-align: right;\n",
       "    }\n",
       "</style>\n",
       "<table border=\"1\" class=\"dataframe\">\n",
       "  <thead>\n",
       "    <tr style=\"text-align: right;\">\n",
       "      <th></th>\n",
       "      <th>2019</th>\n",
       "      <th>2020</th>\n",
       "      <th>2021</th>\n",
       "      <th>2022</th>\n",
       "    </tr>\n",
       "  </thead>\n",
       "  <tbody>\n",
       "    <tr>\n",
       "      <th>cse</th>\n",
       "      <td>1</td>\n",
       "      <td>2</td>\n",
       "      <td>3</td>\n",
       "      <td>4</td>\n",
       "    </tr>\n",
       "    <tr>\n",
       "      <th>ece</th>\n",
       "      <td>9</td>\n",
       "      <td>10</td>\n",
       "      <td>12</td>\n",
       "      <td>13</td>\n",
       "    </tr>\n",
       "    <tr>\n",
       "      <th>eee</th>\n",
       "      <td>5</td>\n",
       "      <td>6</td>\n",
       "      <td>7</td>\n",
       "      <td>8</td>\n",
       "    </tr>\n",
       "  </tbody>\n",
       "</table>\n",
       "</div>"
      ]
     },
     "execution_count": 17,
     "metadata": {},
     "output_type": "execute_result"
    }
   ],
   "execution_count": 17
  },
  {
   "metadata": {
    "ExecuteTime": {
     "end_time": "2025-02-06T01:29:11.487375Z",
     "start_time": "2025-02-06T01:29:11.483182Z"
    }
   },
   "cell_type": "code",
   "source": "print(type(s_df))",
   "id": "31d052253d2acfc5",
   "outputs": [
    {
     "name": "stdout",
     "output_type": "stream",
     "text": [
      "<class 'pandas.core.frame.DataFrame'>\n"
     ]
    }
   ],
   "execution_count": 21
  },
  {
   "metadata": {
    "ExecuteTime": {
     "end_time": "2025-02-06T01:28:40.110141Z",
     "start_time": "2025-02-06T01:28:40.105198Z"
    }
   },
   "cell_type": "code",
   "source": "s_df.stack()",
   "id": "8fc3c2572ef02385",
   "outputs": [
    {
     "data": {
      "text/plain": [
       "cse  2019     1\n",
       "     2020     2\n",
       "     2021     3\n",
       "     2022     4\n",
       "ece  2019     9\n",
       "     2020    10\n",
       "     2021    12\n",
       "     2022    13\n",
       "eee  2019     5\n",
       "     2020     6\n",
       "     2021     7\n",
       "     2022     8\n",
       "dtype: int64"
      ]
     },
     "execution_count": 19,
     "metadata": {},
     "output_type": "execute_result"
    }
   ],
   "execution_count": 19
  },
  {
   "metadata": {
    "ExecuteTime": {
     "end_time": "2025-02-06T01:29:26.925195Z",
     "start_time": "2025-02-06T01:29:26.921073Z"
    }
   },
   "cell_type": "code",
   "source": "print(type(s_df.stack()))",
   "id": "a691f8c7f37fb6b0",
   "outputs": [
    {
     "name": "stdout",
     "output_type": "stream",
     "text": [
      "<class 'pandas.core.series.Series'>\n"
     ]
    }
   ],
   "execution_count": 22
  },
  {
   "metadata": {},
   "cell_type": "code",
   "outputs": [],
   "execution_count": null,
   "source": "",
   "id": "129a75660c0d2b02"
  }
 ],
 "metadata": {
  "kernelspec": {
   "display_name": "Python 3",
   "language": "python",
   "name": "python3"
  },
  "language_info": {
   "codemirror_mode": {
    "name": "ipython",
    "version": 2
   },
   "file_extension": ".py",
   "mimetype": "text/x-python",
   "name": "python",
   "nbconvert_exporter": "python",
   "pygments_lexer": "ipython2",
   "version": "2.7.6"
  }
 },
 "nbformat": 4,
 "nbformat_minor": 5
}
